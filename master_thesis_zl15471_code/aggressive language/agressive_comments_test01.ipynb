{
  "cells": [
    {
      "cell_type": "markdown",
      "metadata": {
        "id": "LKiZPNsDZKoI"
      },
      "source": [
        "# OLID datasets"
      ]
    },
    {
      "cell_type": "markdown",
      "metadata": {
        "id": "d__lhz6DZSXQ"
      },
      "source": [
        "## import libraries"
      ]
    },
    {
      "cell_type": "code",
      "execution_count": 1,
      "metadata": {
        "id": "hs8Uv4JiY73R"
      },
      "outputs": [],
      "source": [
        "import pandas as pd\n",
        "import string\n",
        "import numpy as np\n",
        "import seaborn as sns\n",
        "import matplotlib.pyplot as plt\n",
        "\n",
        "from sklearn.preprocessing import LabelEncoder\n",
        "from sklearn.feature_extraction.text import TfidfVectorizer\n",
        "from sklearn.metrics import precision_recall_fscore_support, accuracy_score, confusion_matrix\n",
        "from sklearn.model_selection import train_test_split\n"
      ]
    },
    {
      "cell_type": "markdown",
      "metadata": {
        "id": "6pco8I-fbBgs"
      },
      "source": [
        "## load the datasets"
      ]
    },
    {
      "cell_type": "code",
      "execution_count": 3,
      "metadata": {
        "colab": {
          "base_uri": "https://localhost:8080/"
        },
        "id": "fD49tpaqY8gu",
        "outputId": "aeb4976d-c4c0-433b-d78b-857ed5dbe64e"
      },
      "outputs": [
        {
          "output_type": "stream",
          "name": "stdout",
          "text": [
            "          id                                              tweet subtask_a  \\\n",
            "0      86426  @USER She should ask a few native Americans wh...       OFF   \n",
            "1      90194  @USER @USER Go home you’re drunk!!! @USER #MAG...       OFF   \n",
            "2      16820  Amazon is investigating Chinese employees who ...       NOT   \n",
            "3      62688  @USER Someone should'veTaken\" this piece of sh...       OFF   \n",
            "4      43605  @USER @USER Obama wanted liberals &amp; illega...       NOT   \n",
            "...      ...                                                ...       ...   \n",
            "13235  95338  @USER Sometimes I get strong vibes from people...       OFF   \n",
            "13236  67210  Benidorm ✅  Creamfields ✅  Maga ✅   Not too sh...       NOT   \n",
            "13237  82921  @USER And why report this garbage.  We don't g...       OFF   \n",
            "13238  27429                                        @USER Pussy       OFF   \n",
            "13239  46552  #Spanishrevenge vs. #justice #HumanRights and ...       NOT   \n",
            "\n",
            "      subtask_b subtask_c  \n",
            "0           UNT       NaN  \n",
            "1           TIN       IND  \n",
            "2           NaN       NaN  \n",
            "3           UNT       NaN  \n",
            "4           NaN       NaN  \n",
            "...         ...       ...  \n",
            "13235       TIN       IND  \n",
            "13236       NaN       NaN  \n",
            "13237       TIN       OTH  \n",
            "13238       UNT       NaN  \n",
            "13239       NaN       NaN  \n",
            "\n",
            "[13240 rows x 5 columns]\n"
          ]
        }
      ],
      "source": [
        "train_data=pd.read_csv('./olid-training-v1.0.tsv', delimiter='\\t', encoding='utf-8')\n",
        "\n",
        "train_tweets = train_data[['tweet']] #Extract tweets\n",
        "train_task_a_labels= train_data[['subtask_a']] #Extract subtsak_a labels\n",
        "train_task_b_labels= train_data[['subtask_b']] #Extract subtsak_b labels\n",
        "train_task_c_labels= train_data[['subtask_c']] #Extract subtsak_c labels\n",
        "\n",
        "train_task_a_labels.columns.values[0] = 'class_a' #Rename class attribute\n",
        "train_task_b_labels.columns.values[0] = 'class_b' #Rename class attribute\n",
        "train_task_c_labels.columns.values[0] = 'class_c' #Rename class attribute\n",
        "\n",
        "print(train_data)"
      ]
    },
    {
      "cell_type": "code",
      "execution_count": 4,
      "metadata": {
        "colab": {
          "base_uri": "https://localhost:8080/",
          "height": 424
        },
        "id": "FtSxdXMGwWar",
        "outputId": "0b9a53c7-6070-4117-b507-66b5a51a1e42"
      },
      "outputs": [
        {
          "output_type": "execute_result",
          "data": {
            "text/plain": [
              "          id                                              tweet subtask_a  \\\n",
              "0      86426  @USER She should ask a few native Americans wh...       OFF   \n",
              "1      90194  @USER @USER Go home you’re drunk!!! @USER #MAG...       OFF   \n",
              "2      16820  Amazon is investigating Chinese employees who ...       NOT   \n",
              "3      62688  @USER Someone should'veTaken\" this piece of sh...       OFF   \n",
              "4      43605  @USER @USER Obama wanted liberals &amp; illega...       NOT   \n",
              "...      ...                                                ...       ...   \n",
              "13235  95338  @USER Sometimes I get strong vibes from people...       OFF   \n",
              "13236  67210  Benidorm ✅  Creamfields ✅  Maga ✅   Not too sh...       NOT   \n",
              "13237  82921  @USER And why report this garbage.  We don't g...       OFF   \n",
              "13238  27429                                        @USER Pussy       OFF   \n",
              "13239  46552  #Spanishrevenge vs. #justice #HumanRights and ...       NOT   \n",
              "\n",
              "      subtask_b subtask_c  \n",
              "0           UNT       NaN  \n",
              "1           TIN       IND  \n",
              "2           NaN       NaN  \n",
              "3           UNT       NaN  \n",
              "4           NaN       NaN  \n",
              "...         ...       ...  \n",
              "13235       TIN       IND  \n",
              "13236       NaN       NaN  \n",
              "13237       TIN       OTH  \n",
              "13238       UNT       NaN  \n",
              "13239       NaN       NaN  \n",
              "\n",
              "[13240 rows x 5 columns]"
            ],
            "text/html": [
              "\n",
              "  <div id=\"df-b7f7356a-ee81-4a79-921a-f3dfe0dda146\" class=\"colab-df-container\">\n",
              "    <div>\n",
              "<style scoped>\n",
              "    .dataframe tbody tr th:only-of-type {\n",
              "        vertical-align: middle;\n",
              "    }\n",
              "\n",
              "    .dataframe tbody tr th {\n",
              "        vertical-align: top;\n",
              "    }\n",
              "\n",
              "    .dataframe thead th {\n",
              "        text-align: right;\n",
              "    }\n",
              "</style>\n",
              "<table border=\"1\" class=\"dataframe\">\n",
              "  <thead>\n",
              "    <tr style=\"text-align: right;\">\n",
              "      <th></th>\n",
              "      <th>id</th>\n",
              "      <th>tweet</th>\n",
              "      <th>subtask_a</th>\n",
              "      <th>subtask_b</th>\n",
              "      <th>subtask_c</th>\n",
              "    </tr>\n",
              "  </thead>\n",
              "  <tbody>\n",
              "    <tr>\n",
              "      <th>0</th>\n",
              "      <td>86426</td>\n",
              "      <td>@USER She should ask a few native Americans wh...</td>\n",
              "      <td>OFF</td>\n",
              "      <td>UNT</td>\n",
              "      <td>NaN</td>\n",
              "    </tr>\n",
              "    <tr>\n",
              "      <th>1</th>\n",
              "      <td>90194</td>\n",
              "      <td>@USER @USER Go home you’re drunk!!! @USER #MAG...</td>\n",
              "      <td>OFF</td>\n",
              "      <td>TIN</td>\n",
              "      <td>IND</td>\n",
              "    </tr>\n",
              "    <tr>\n",
              "      <th>2</th>\n",
              "      <td>16820</td>\n",
              "      <td>Amazon is investigating Chinese employees who ...</td>\n",
              "      <td>NOT</td>\n",
              "      <td>NaN</td>\n",
              "      <td>NaN</td>\n",
              "    </tr>\n",
              "    <tr>\n",
              "      <th>3</th>\n",
              "      <td>62688</td>\n",
              "      <td>@USER Someone should'veTaken\" this piece of sh...</td>\n",
              "      <td>OFF</td>\n",
              "      <td>UNT</td>\n",
              "      <td>NaN</td>\n",
              "    </tr>\n",
              "    <tr>\n",
              "      <th>4</th>\n",
              "      <td>43605</td>\n",
              "      <td>@USER @USER Obama wanted liberals &amp;amp; illega...</td>\n",
              "      <td>NOT</td>\n",
              "      <td>NaN</td>\n",
              "      <td>NaN</td>\n",
              "    </tr>\n",
              "    <tr>\n",
              "      <th>...</th>\n",
              "      <td>...</td>\n",
              "      <td>...</td>\n",
              "      <td>...</td>\n",
              "      <td>...</td>\n",
              "      <td>...</td>\n",
              "    </tr>\n",
              "    <tr>\n",
              "      <th>13235</th>\n",
              "      <td>95338</td>\n",
              "      <td>@USER Sometimes I get strong vibes from people...</td>\n",
              "      <td>OFF</td>\n",
              "      <td>TIN</td>\n",
              "      <td>IND</td>\n",
              "    </tr>\n",
              "    <tr>\n",
              "      <th>13236</th>\n",
              "      <td>67210</td>\n",
              "      <td>Benidorm ✅  Creamfields ✅  Maga ✅   Not too sh...</td>\n",
              "      <td>NOT</td>\n",
              "      <td>NaN</td>\n",
              "      <td>NaN</td>\n",
              "    </tr>\n",
              "    <tr>\n",
              "      <th>13237</th>\n",
              "      <td>82921</td>\n",
              "      <td>@USER And why report this garbage.  We don't g...</td>\n",
              "      <td>OFF</td>\n",
              "      <td>TIN</td>\n",
              "      <td>OTH</td>\n",
              "    </tr>\n",
              "    <tr>\n",
              "      <th>13238</th>\n",
              "      <td>27429</td>\n",
              "      <td>@USER Pussy</td>\n",
              "      <td>OFF</td>\n",
              "      <td>UNT</td>\n",
              "      <td>NaN</td>\n",
              "    </tr>\n",
              "    <tr>\n",
              "      <th>13239</th>\n",
              "      <td>46552</td>\n",
              "      <td>#Spanishrevenge vs. #justice #HumanRights and ...</td>\n",
              "      <td>NOT</td>\n",
              "      <td>NaN</td>\n",
              "      <td>NaN</td>\n",
              "    </tr>\n",
              "  </tbody>\n",
              "</table>\n",
              "<p>13240 rows × 5 columns</p>\n",
              "</div>\n",
              "    <div class=\"colab-df-buttons\">\n",
              "\n",
              "  <div class=\"colab-df-container\">\n",
              "    <button class=\"colab-df-convert\" onclick=\"convertToInteractive('df-b7f7356a-ee81-4a79-921a-f3dfe0dda146')\"\n",
              "            title=\"Convert this dataframe to an interactive table.\"\n",
              "            style=\"display:none;\">\n",
              "\n",
              "  <svg xmlns=\"http://www.w3.org/2000/svg\" height=\"24px\" viewBox=\"0 -960 960 960\">\n",
              "    <path d=\"M120-120v-720h720v720H120Zm60-500h600v-160H180v160Zm220 220h160v-160H400v160Zm0 220h160v-160H400v160ZM180-400h160v-160H180v160Zm440 0h160v-160H620v160ZM180-180h160v-160H180v160Zm440 0h160v-160H620v160Z\"/>\n",
              "  </svg>\n",
              "    </button>\n",
              "\n",
              "  <style>\n",
              "    .colab-df-container {\n",
              "      display:flex;\n",
              "      gap: 12px;\n",
              "    }\n",
              "\n",
              "    .colab-df-convert {\n",
              "      background-color: #E8F0FE;\n",
              "      border: none;\n",
              "      border-radius: 50%;\n",
              "      cursor: pointer;\n",
              "      display: none;\n",
              "      fill: #1967D2;\n",
              "      height: 32px;\n",
              "      padding: 0 0 0 0;\n",
              "      width: 32px;\n",
              "    }\n",
              "\n",
              "    .colab-df-convert:hover {\n",
              "      background-color: #E2EBFA;\n",
              "      box-shadow: 0px 1px 2px rgba(60, 64, 67, 0.3), 0px 1px 3px 1px rgba(60, 64, 67, 0.15);\n",
              "      fill: #174EA6;\n",
              "    }\n",
              "\n",
              "    .colab-df-buttons div {\n",
              "      margin-bottom: 4px;\n",
              "    }\n",
              "\n",
              "    [theme=dark] .colab-df-convert {\n",
              "      background-color: #3B4455;\n",
              "      fill: #D2E3FC;\n",
              "    }\n",
              "\n",
              "    [theme=dark] .colab-df-convert:hover {\n",
              "      background-color: #434B5C;\n",
              "      box-shadow: 0px 1px 3px 1px rgba(0, 0, 0, 0.15);\n",
              "      filter: drop-shadow(0px 1px 2px rgba(0, 0, 0, 0.3));\n",
              "      fill: #FFFFFF;\n",
              "    }\n",
              "  </style>\n",
              "\n",
              "    <script>\n",
              "      const buttonEl =\n",
              "        document.querySelector('#df-b7f7356a-ee81-4a79-921a-f3dfe0dda146 button.colab-df-convert');\n",
              "      buttonEl.style.display =\n",
              "        google.colab.kernel.accessAllowed ? 'block' : 'none';\n",
              "\n",
              "      async function convertToInteractive(key) {\n",
              "        const element = document.querySelector('#df-b7f7356a-ee81-4a79-921a-f3dfe0dda146');\n",
              "        const dataTable =\n",
              "          await google.colab.kernel.invokeFunction('convertToInteractive',\n",
              "                                                    [key], {});\n",
              "        if (!dataTable) return;\n",
              "\n",
              "        const docLinkHtml = 'Like what you see? Visit the ' +\n",
              "          '<a target=\"_blank\" href=https://colab.research.google.com/notebooks/data_table.ipynb>data table notebook</a>'\n",
              "          + ' to learn more about interactive tables.';\n",
              "        element.innerHTML = '';\n",
              "        dataTable['output_type'] = 'display_data';\n",
              "        await google.colab.output.renderOutput(dataTable, element);\n",
              "        const docLink = document.createElement('div');\n",
              "        docLink.innerHTML = docLinkHtml;\n",
              "        element.appendChild(docLink);\n",
              "      }\n",
              "    </script>\n",
              "  </div>\n",
              "\n",
              "\n",
              "<div id=\"df-d092bc5a-9a4d-4525-8c47-4759b6530b39\">\n",
              "  <button class=\"colab-df-quickchart\" onclick=\"quickchart('df-d092bc5a-9a4d-4525-8c47-4759b6530b39')\"\n",
              "            title=\"Suggest charts.\"\n",
              "            style=\"display:none;\">\n",
              "\n",
              "<svg xmlns=\"http://www.w3.org/2000/svg\" height=\"24px\"viewBox=\"0 0 24 24\"\n",
              "     width=\"24px\">\n",
              "    <g>\n",
              "        <path d=\"M19 3H5c-1.1 0-2 .9-2 2v14c0 1.1.9 2 2 2h14c1.1 0 2-.9 2-2V5c0-1.1-.9-2-2-2zM9 17H7v-7h2v7zm4 0h-2V7h2v10zm4 0h-2v-4h2v4z\"/>\n",
              "    </g>\n",
              "</svg>\n",
              "  </button>\n",
              "\n",
              "<style>\n",
              "  .colab-df-quickchart {\n",
              "    background-color: #E8F0FE;\n",
              "    border: none;\n",
              "    border-radius: 50%;\n",
              "    cursor: pointer;\n",
              "    display: none;\n",
              "    fill: #1967D2;\n",
              "    height: 32px;\n",
              "    padding: 0 0 0 0;\n",
              "    width: 32px;\n",
              "  }\n",
              "\n",
              "  .colab-df-quickchart:hover {\n",
              "    background-color: #E2EBFA;\n",
              "    box-shadow: 0px 1px 2px rgba(60, 64, 67, 0.3), 0px 1px 3px 1px rgba(60, 64, 67, 0.15);\n",
              "    fill: #174EA6;\n",
              "  }\n",
              "\n",
              "  [theme=dark] .colab-df-quickchart {\n",
              "    background-color: #3B4455;\n",
              "    fill: #D2E3FC;\n",
              "  }\n",
              "\n",
              "  [theme=dark] .colab-df-quickchart:hover {\n",
              "    background-color: #434B5C;\n",
              "    box-shadow: 0px 1px 3px 1px rgba(0, 0, 0, 0.15);\n",
              "    filter: drop-shadow(0px 1px 2px rgba(0, 0, 0, 0.3));\n",
              "    fill: #FFFFFF;\n",
              "  }\n",
              "</style>\n",
              "\n",
              "  <script>\n",
              "    async function quickchart(key) {\n",
              "      const charts = await google.colab.kernel.invokeFunction(\n",
              "          'suggestCharts', [key], {});\n",
              "    }\n",
              "    (() => {\n",
              "      let quickchartButtonEl =\n",
              "        document.querySelector('#df-d092bc5a-9a4d-4525-8c47-4759b6530b39 button');\n",
              "      quickchartButtonEl.style.display =\n",
              "        google.colab.kernel.accessAllowed ? 'block' : 'none';\n",
              "    })();\n",
              "  </script>\n",
              "</div>\n",
              "    </div>\n",
              "  </div>\n"
            ]
          },
          "metadata": {},
          "execution_count": 4
        }
      ],
      "source": [
        "train_data"
      ]
    },
    {
      "cell_type": "code",
      "execution_count": 5,
      "metadata": {
        "colab": {
          "base_uri": "https://localhost:8080/"
        },
        "id": "QRU1bFkwwWas",
        "outputId": "e923208d-47e1-43d8-8cce-ba80a50d1abc"
      },
      "outputs": [
        {
          "output_type": "execute_result",
          "data": {
            "text/plain": [
              "NOT    8840\n",
              "OFF    4400\n",
              "Name: subtask_a, dtype: int64"
            ]
          },
          "metadata": {},
          "execution_count": 5
        }
      ],
      "source": [
        "train_data['subtask_a'].value_counts()"
      ]
    },
    {
      "cell_type": "markdown",
      "metadata": {
        "id": "hX5l0QKGk9d8"
      },
      "source": [
        "## NLP"
      ]
    },
    {
      "cell_type": "code",
      "execution_count": 6,
      "metadata": {
        "colab": {
          "base_uri": "https://localhost:8080/"
        },
        "id": "tcZZ4cv-G-NW",
        "outputId": "dba8e394-633b-410d-b0c9-a2298b7a4a40"
      },
      "outputs": [
        {
          "output_type": "stream",
          "name": "stdout",
          "text": [
            "Collecting emoji\n",
            "  Downloading emoji-2.8.0-py2.py3-none-any.whl (358 kB)\n",
            "\u001b[?25l     \u001b[90m━━━━━━━━━━━━━━━━━━━━━━━━━━━━━━━━━━━━━━━━\u001b[0m \u001b[32m0.0/358.9 kB\u001b[0m \u001b[31m?\u001b[0m eta \u001b[36m-:--:--\u001b[0m\r\u001b[2K     \u001b[91m━━━━━━━━━━━━━━━━━━━━━━━━━━━\u001b[0m\u001b[91m╸\u001b[0m\u001b[90m━━━━━━━━━━━\u001b[0m \u001b[32m256.0/358.9 kB\u001b[0m \u001b[31m7.5 MB/s\u001b[0m eta \u001b[36m0:00:01\u001b[0m\r\u001b[2K     \u001b[90m━━━━━━━━━━━━━━━━━━━━━━━━━━━━━━━━━━━━━━━\u001b[0m \u001b[32m358.9/358.9 kB\u001b[0m \u001b[31m7.9 MB/s\u001b[0m eta \u001b[36m0:00:00\u001b[0m\n",
            "\u001b[?25hInstalling collected packages: emoji\n",
            "Successfully installed emoji-2.8.0\n"
          ]
        }
      ],
      "source": [
        "!pip install emoji"
      ]
    },
    {
      "cell_type": "code",
      "execution_count": 7,
      "metadata": {
        "id": "R3OzrFfzHGwS"
      },
      "outputs": [],
      "source": [
        "import emoji\n",
        "import re"
      ]
    },
    {
      "cell_type": "code",
      "execution_count": 8,
      "metadata": {
        "id": "sNzvVQCZJ1ET"
      },
      "outputs": [],
      "source": [
        "def replace_multiple_user_mentions(text):\n",
        "    \"\"\"\n",
        "    Replaces multiple '@USER' mentions in a tweet with a single '@USERS'.\n",
        "    \"\"\"\n",
        "    user_mentions = len(re.findall('@USER', text))\n",
        "    if user_mentions > 1:\n",
        "        text = re.sub('@USER', '@USERS', text)\n",
        "    return text\n"
      ]
    },
    {
      "cell_type": "code",
      "execution_count": 9,
      "metadata": {
        "id": "IYfUl-KTJ23q"
      },
      "outputs": [],
      "source": [
        "\n",
        "def emoji_to_text(text):\n",
        "    return emoji.demojize(text, delimiters=(\"\", \"\"))"
      ]
    },
    {
      "cell_type": "code",
      "execution_count": 10,
      "metadata": {
        "id": "ZfiRe8uZY8tl"
      },
      "outputs": [],
      "source": [
        "def clean_tweets(df):\n",
        "    punctuations = string.punctuation\n",
        "\n",
        "    df.loc[:, 'tweet'] = df.tweet.str.replace('@USER', '') #Remove mentions (@USER)\n",
        "    df.loc[:, 'tweet'] = df.tweet.str.replace('URL', '') #Remove URLs\n",
        "    df.loc[:, 'tweet'] = df.tweet.str.replace('&amp', 'and') #Replace ampersand (&) with and\n",
        "    df.loc[:, 'tweet'] = df.tweet.str.replace('&lt','') #Remove &lt\n",
        "    df.loc[:, 'tweet'] = df.tweet.str.replace('&gt','') #Remove &gt\n",
        "    df.loc[:, 'tweet'] = df.tweet.str.replace('\\d+','') #Remove numbers\n",
        "    df.loc[:, 'tweet'] = df.tweet.str.lower() #Lowercase\n",
        "\n",
        "    #Remove punctuations\n",
        "    for punctuation in punctuations:\n",
        "        df.loc[:, 'tweet'] = df.tweet.str.replace(punctuation, '')\n",
        "\n",
        "        df['tweet'] = df['tweet'].apply(\n",
        "        lambda x: x.encode('ascii', 'ignore').decode('ascii')\n",
        ")\n",
        "\n",
        "    # Transfer emojis to segmentations\n",
        "    df.loc[:, 'tweet'] = df['tweet'].apply(emoji.demojize)\n",
        "    #Remove emojis\n",
        "    #df.loc[:, 'tweet'] = df.tweet.str.strip() #Trim leading and trailing whitespaces\n",
        "    # Replace multiple user mentions\n",
        "    df.loc[:, 'tweet'] = df['tweet'].apply(replace_multiple_user_mentions)\n",
        "\n",
        "    # Substitute out-of-vocabulary (OOV) words\n",
        "    df.loc[:, 'tweet'] = df['tweet'].apply(lambda x: re.sub(r'http\\S+|www\\S+', 'http', x))\n"
      ]
    },
    {
      "cell_type": "code",
      "execution_count": 11,
      "metadata": {
        "colab": {
          "base_uri": "https://localhost:8080/"
        },
        "id": "7ATgJ-CNY83G",
        "outputId": "47f23140-b3a9-4215-f8b0-d94a7acd502d"
      },
      "outputs": [
        {
          "output_type": "stream",
          "name": "stderr",
          "text": [
            "<ipython-input-10-58d0d99cd0a4>:4: SettingWithCopyWarning: \n",
            "A value is trying to be set on a copy of a slice from a DataFrame.\n",
            "Try using .loc[row_indexer,col_indexer] = value instead\n",
            "\n",
            "See the caveats in the documentation: https://pandas.pydata.org/pandas-docs/stable/user_guide/indexing.html#returning-a-view-versus-a-copy\n",
            "  df.loc[:, 'tweet'] = df.tweet.str.replace('@USER', '') #Remove mentions (@USER)\n",
            "<ipython-input-10-58d0d99cd0a4>:5: SettingWithCopyWarning: \n",
            "A value is trying to be set on a copy of a slice from a DataFrame.\n",
            "Try using .loc[row_indexer,col_indexer] = value instead\n",
            "\n",
            "See the caveats in the documentation: https://pandas.pydata.org/pandas-docs/stable/user_guide/indexing.html#returning-a-view-versus-a-copy\n",
            "  df.loc[:, 'tweet'] = df.tweet.str.replace('URL', '') #Remove URLs\n",
            "<ipython-input-10-58d0d99cd0a4>:6: SettingWithCopyWarning: \n",
            "A value is trying to be set on a copy of a slice from a DataFrame.\n",
            "Try using .loc[row_indexer,col_indexer] = value instead\n",
            "\n",
            "See the caveats in the documentation: https://pandas.pydata.org/pandas-docs/stable/user_guide/indexing.html#returning-a-view-versus-a-copy\n",
            "  df.loc[:, 'tweet'] = df.tweet.str.replace('&amp', 'and') #Replace ampersand (&) with and\n",
            "<ipython-input-10-58d0d99cd0a4>:7: SettingWithCopyWarning: \n",
            "A value is trying to be set on a copy of a slice from a DataFrame.\n",
            "Try using .loc[row_indexer,col_indexer] = value instead\n",
            "\n",
            "See the caveats in the documentation: https://pandas.pydata.org/pandas-docs/stable/user_guide/indexing.html#returning-a-view-versus-a-copy\n",
            "  df.loc[:, 'tweet'] = df.tweet.str.replace('&lt','') #Remove &lt\n",
            "<ipython-input-10-58d0d99cd0a4>:8: SettingWithCopyWarning: \n",
            "A value is trying to be set on a copy of a slice from a DataFrame.\n",
            "Try using .loc[row_indexer,col_indexer] = value instead\n",
            "\n",
            "See the caveats in the documentation: https://pandas.pydata.org/pandas-docs/stable/user_guide/indexing.html#returning-a-view-versus-a-copy\n",
            "  df.loc[:, 'tweet'] = df.tweet.str.replace('&gt','') #Remove &gt\n",
            "<ipython-input-10-58d0d99cd0a4>:9: FutureWarning: The default value of regex will change from True to False in a future version.\n",
            "  df.loc[:, 'tweet'] = df.tweet.str.replace('\\d+','') #Remove numbers\n",
            "<ipython-input-10-58d0d99cd0a4>:9: SettingWithCopyWarning: \n",
            "A value is trying to be set on a copy of a slice from a DataFrame.\n",
            "Try using .loc[row_indexer,col_indexer] = value instead\n",
            "\n",
            "See the caveats in the documentation: https://pandas.pydata.org/pandas-docs/stable/user_guide/indexing.html#returning-a-view-versus-a-copy\n",
            "  df.loc[:, 'tweet'] = df.tweet.str.replace('\\d+','') #Remove numbers\n",
            "<ipython-input-10-58d0d99cd0a4>:10: SettingWithCopyWarning: \n",
            "A value is trying to be set on a copy of a slice from a DataFrame.\n",
            "Try using .loc[row_indexer,col_indexer] = value instead\n",
            "\n",
            "See the caveats in the documentation: https://pandas.pydata.org/pandas-docs/stable/user_guide/indexing.html#returning-a-view-versus-a-copy\n",
            "  df.loc[:, 'tweet'] = df.tweet.str.lower() #Lowercase\n",
            "<ipython-input-10-58d0d99cd0a4>:14: SettingWithCopyWarning: \n",
            "A value is trying to be set on a copy of a slice from a DataFrame.\n",
            "Try using .loc[row_indexer,col_indexer] = value instead\n",
            "\n",
            "See the caveats in the documentation: https://pandas.pydata.org/pandas-docs/stable/user_guide/indexing.html#returning-a-view-versus-a-copy\n",
            "  df.loc[:, 'tweet'] = df.tweet.str.replace(punctuation, '')\n",
            "<ipython-input-10-58d0d99cd0a4>:16: SettingWithCopyWarning: \n",
            "A value is trying to be set on a copy of a slice from a DataFrame.\n",
            "Try using .loc[row_indexer,col_indexer] = value instead\n",
            "\n",
            "See the caveats in the documentation: https://pandas.pydata.org/pandas-docs/stable/user_guide/indexing.html#returning-a-view-versus-a-copy\n",
            "  df['tweet'] = df['tweet'].apply(\n",
            "<ipython-input-10-58d0d99cd0a4>:14: SettingWithCopyWarning: \n",
            "A value is trying to be set on a copy of a slice from a DataFrame.\n",
            "Try using .loc[row_indexer,col_indexer] = value instead\n",
            "\n",
            "See the caveats in the documentation: https://pandas.pydata.org/pandas-docs/stable/user_guide/indexing.html#returning-a-view-versus-a-copy\n",
            "  df.loc[:, 'tweet'] = df.tweet.str.replace(punctuation, '')\n",
            "<ipython-input-10-58d0d99cd0a4>:16: SettingWithCopyWarning: \n",
            "A value is trying to be set on a copy of a slice from a DataFrame.\n",
            "Try using .loc[row_indexer,col_indexer] = value instead\n",
            "\n",
            "See the caveats in the documentation: https://pandas.pydata.org/pandas-docs/stable/user_guide/indexing.html#returning-a-view-versus-a-copy\n",
            "  df['tweet'] = df['tweet'].apply(\n",
            "<ipython-input-10-58d0d99cd0a4>:14: SettingWithCopyWarning: \n",
            "A value is trying to be set on a copy of a slice from a DataFrame.\n",
            "Try using .loc[row_indexer,col_indexer] = value instead\n",
            "\n",
            "See the caveats in the documentation: https://pandas.pydata.org/pandas-docs/stable/user_guide/indexing.html#returning-a-view-versus-a-copy\n",
            "  df.loc[:, 'tweet'] = df.tweet.str.replace(punctuation, '')\n",
            "<ipython-input-10-58d0d99cd0a4>:16: SettingWithCopyWarning: \n",
            "A value is trying to be set on a copy of a slice from a DataFrame.\n",
            "Try using .loc[row_indexer,col_indexer] = value instead\n",
            "\n",
            "See the caveats in the documentation: https://pandas.pydata.org/pandas-docs/stable/user_guide/indexing.html#returning-a-view-versus-a-copy\n",
            "  df['tweet'] = df['tweet'].apply(\n",
            "<ipython-input-10-58d0d99cd0a4>:14: FutureWarning: The default value of regex will change from True to False in a future version. In addition, single character regular expressions will *not* be treated as literal strings when regex=True.\n",
            "  df.loc[:, 'tweet'] = df.tweet.str.replace(punctuation, '')\n",
            "<ipython-input-10-58d0d99cd0a4>:14: SettingWithCopyWarning: \n",
            "A value is trying to be set on a copy of a slice from a DataFrame.\n",
            "Try using .loc[row_indexer,col_indexer] = value instead\n",
            "\n",
            "See the caveats in the documentation: https://pandas.pydata.org/pandas-docs/stable/user_guide/indexing.html#returning-a-view-versus-a-copy\n",
            "  df.loc[:, 'tweet'] = df.tweet.str.replace(punctuation, '')\n",
            "<ipython-input-10-58d0d99cd0a4>:16: SettingWithCopyWarning: \n",
            "A value is trying to be set on a copy of a slice from a DataFrame.\n",
            "Try using .loc[row_indexer,col_indexer] = value instead\n",
            "\n",
            "See the caveats in the documentation: https://pandas.pydata.org/pandas-docs/stable/user_guide/indexing.html#returning-a-view-versus-a-copy\n",
            "  df['tweet'] = df['tweet'].apply(\n",
            "<ipython-input-10-58d0d99cd0a4>:14: SettingWithCopyWarning: \n",
            "A value is trying to be set on a copy of a slice from a DataFrame.\n",
            "Try using .loc[row_indexer,col_indexer] = value instead\n",
            "\n",
            "See the caveats in the documentation: https://pandas.pydata.org/pandas-docs/stable/user_guide/indexing.html#returning-a-view-versus-a-copy\n",
            "  df.loc[:, 'tweet'] = df.tweet.str.replace(punctuation, '')\n",
            "<ipython-input-10-58d0d99cd0a4>:16: SettingWithCopyWarning: \n",
            "A value is trying to be set on a copy of a slice from a DataFrame.\n",
            "Try using .loc[row_indexer,col_indexer] = value instead\n",
            "\n",
            "See the caveats in the documentation: https://pandas.pydata.org/pandas-docs/stable/user_guide/indexing.html#returning-a-view-versus-a-copy\n",
            "  df['tweet'] = df['tweet'].apply(\n",
            "<ipython-input-10-58d0d99cd0a4>:14: SettingWithCopyWarning: \n",
            "A value is trying to be set on a copy of a slice from a DataFrame.\n",
            "Try using .loc[row_indexer,col_indexer] = value instead\n",
            "\n",
            "See the caveats in the documentation: https://pandas.pydata.org/pandas-docs/stable/user_guide/indexing.html#returning-a-view-versus-a-copy\n",
            "  df.loc[:, 'tweet'] = df.tweet.str.replace(punctuation, '')\n",
            "<ipython-input-10-58d0d99cd0a4>:16: SettingWithCopyWarning: \n",
            "A value is trying to be set on a copy of a slice from a DataFrame.\n",
            "Try using .loc[row_indexer,col_indexer] = value instead\n",
            "\n",
            "See the caveats in the documentation: https://pandas.pydata.org/pandas-docs/stable/user_guide/indexing.html#returning-a-view-versus-a-copy\n",
            "  df['tweet'] = df['tweet'].apply(\n",
            "<ipython-input-10-58d0d99cd0a4>:14: SettingWithCopyWarning: \n",
            "A value is trying to be set on a copy of a slice from a DataFrame.\n",
            "Try using .loc[row_indexer,col_indexer] = value instead\n",
            "\n",
            "See the caveats in the documentation: https://pandas.pydata.org/pandas-docs/stable/user_guide/indexing.html#returning-a-view-versus-a-copy\n",
            "  df.loc[:, 'tweet'] = df.tweet.str.replace(punctuation, '')\n",
            "<ipython-input-10-58d0d99cd0a4>:16: SettingWithCopyWarning: \n",
            "A value is trying to be set on a copy of a slice from a DataFrame.\n",
            "Try using .loc[row_indexer,col_indexer] = value instead\n",
            "\n",
            "See the caveats in the documentation: https://pandas.pydata.org/pandas-docs/stable/user_guide/indexing.html#returning-a-view-versus-a-copy\n",
            "  df['tweet'] = df['tweet'].apply(\n",
            "<ipython-input-10-58d0d99cd0a4>:14: FutureWarning: The default value of regex will change from True to False in a future version. In addition, single character regular expressions will *not* be treated as literal strings when regex=True.\n",
            "  df.loc[:, 'tweet'] = df.tweet.str.replace(punctuation, '')\n",
            "<ipython-input-10-58d0d99cd0a4>:14: SettingWithCopyWarning: \n",
            "A value is trying to be set on a copy of a slice from a DataFrame.\n",
            "Try using .loc[row_indexer,col_indexer] = value instead\n",
            "\n",
            "See the caveats in the documentation: https://pandas.pydata.org/pandas-docs/stable/user_guide/indexing.html#returning-a-view-versus-a-copy\n",
            "  df.loc[:, 'tweet'] = df.tweet.str.replace(punctuation, '')\n",
            "<ipython-input-10-58d0d99cd0a4>:16: SettingWithCopyWarning: \n",
            "A value is trying to be set on a copy of a slice from a DataFrame.\n",
            "Try using .loc[row_indexer,col_indexer] = value instead\n",
            "\n",
            "See the caveats in the documentation: https://pandas.pydata.org/pandas-docs/stable/user_guide/indexing.html#returning-a-view-versus-a-copy\n",
            "  df['tweet'] = df['tweet'].apply(\n",
            "<ipython-input-10-58d0d99cd0a4>:14: FutureWarning: The default value of regex will change from True to False in a future version. In addition, single character regular expressions will *not* be treated as literal strings when regex=True.\n",
            "  df.loc[:, 'tweet'] = df.tweet.str.replace(punctuation, '')\n",
            "<ipython-input-10-58d0d99cd0a4>:14: SettingWithCopyWarning: \n",
            "A value is trying to be set on a copy of a slice from a DataFrame.\n",
            "Try using .loc[row_indexer,col_indexer] = value instead\n",
            "\n",
            "See the caveats in the documentation: https://pandas.pydata.org/pandas-docs/stable/user_guide/indexing.html#returning-a-view-versus-a-copy\n",
            "  df.loc[:, 'tweet'] = df.tweet.str.replace(punctuation, '')\n",
            "<ipython-input-10-58d0d99cd0a4>:16: SettingWithCopyWarning: \n",
            "A value is trying to be set on a copy of a slice from a DataFrame.\n",
            "Try using .loc[row_indexer,col_indexer] = value instead\n",
            "\n",
            "See the caveats in the documentation: https://pandas.pydata.org/pandas-docs/stable/user_guide/indexing.html#returning-a-view-versus-a-copy\n",
            "  df['tweet'] = df['tweet'].apply(\n",
            "<ipython-input-10-58d0d99cd0a4>:14: FutureWarning: The default value of regex will change from True to False in a future version. In addition, single character regular expressions will *not* be treated as literal strings when regex=True.\n",
            "  df.loc[:, 'tweet'] = df.tweet.str.replace(punctuation, '')\n",
            "<ipython-input-10-58d0d99cd0a4>:14: SettingWithCopyWarning: \n",
            "A value is trying to be set on a copy of a slice from a DataFrame.\n",
            "Try using .loc[row_indexer,col_indexer] = value instead\n",
            "\n",
            "See the caveats in the documentation: https://pandas.pydata.org/pandas-docs/stable/user_guide/indexing.html#returning-a-view-versus-a-copy\n",
            "  df.loc[:, 'tweet'] = df.tweet.str.replace(punctuation, '')\n",
            "<ipython-input-10-58d0d99cd0a4>:16: SettingWithCopyWarning: \n",
            "A value is trying to be set on a copy of a slice from a DataFrame.\n",
            "Try using .loc[row_indexer,col_indexer] = value instead\n",
            "\n",
            "See the caveats in the documentation: https://pandas.pydata.org/pandas-docs/stable/user_guide/indexing.html#returning-a-view-versus-a-copy\n",
            "  df['tweet'] = df['tweet'].apply(\n",
            "<ipython-input-10-58d0d99cd0a4>:14: FutureWarning: The default value of regex will change from True to False in a future version. In addition, single character regular expressions will *not* be treated as literal strings when regex=True.\n",
            "  df.loc[:, 'tweet'] = df.tweet.str.replace(punctuation, '')\n",
            "<ipython-input-10-58d0d99cd0a4>:14: SettingWithCopyWarning: \n",
            "A value is trying to be set on a copy of a slice from a DataFrame.\n",
            "Try using .loc[row_indexer,col_indexer] = value instead\n",
            "\n",
            "See the caveats in the documentation: https://pandas.pydata.org/pandas-docs/stable/user_guide/indexing.html#returning-a-view-versus-a-copy\n",
            "  df.loc[:, 'tweet'] = df.tweet.str.replace(punctuation, '')\n",
            "<ipython-input-10-58d0d99cd0a4>:16: SettingWithCopyWarning: \n",
            "A value is trying to be set on a copy of a slice from a DataFrame.\n",
            "Try using .loc[row_indexer,col_indexer] = value instead\n",
            "\n",
            "See the caveats in the documentation: https://pandas.pydata.org/pandas-docs/stable/user_guide/indexing.html#returning-a-view-versus-a-copy\n",
            "  df['tweet'] = df['tweet'].apply(\n",
            "<ipython-input-10-58d0d99cd0a4>:14: SettingWithCopyWarning: \n",
            "A value is trying to be set on a copy of a slice from a DataFrame.\n",
            "Try using .loc[row_indexer,col_indexer] = value instead\n",
            "\n",
            "See the caveats in the documentation: https://pandas.pydata.org/pandas-docs/stable/user_guide/indexing.html#returning-a-view-versus-a-copy\n",
            "  df.loc[:, 'tweet'] = df.tweet.str.replace(punctuation, '')\n",
            "<ipython-input-10-58d0d99cd0a4>:16: SettingWithCopyWarning: \n",
            "A value is trying to be set on a copy of a slice from a DataFrame.\n",
            "Try using .loc[row_indexer,col_indexer] = value instead\n",
            "\n",
            "See the caveats in the documentation: https://pandas.pydata.org/pandas-docs/stable/user_guide/indexing.html#returning-a-view-versus-a-copy\n",
            "  df['tweet'] = df['tweet'].apply(\n",
            "<ipython-input-10-58d0d99cd0a4>:14: SettingWithCopyWarning: \n",
            "A value is trying to be set on a copy of a slice from a DataFrame.\n",
            "Try using .loc[row_indexer,col_indexer] = value instead\n",
            "\n",
            "See the caveats in the documentation: https://pandas.pydata.org/pandas-docs/stable/user_guide/indexing.html#returning-a-view-versus-a-copy\n",
            "  df.loc[:, 'tweet'] = df.tweet.str.replace(punctuation, '')\n",
            "<ipython-input-10-58d0d99cd0a4>:16: SettingWithCopyWarning: \n",
            "A value is trying to be set on a copy of a slice from a DataFrame.\n",
            "Try using .loc[row_indexer,col_indexer] = value instead\n",
            "\n",
            "See the caveats in the documentation: https://pandas.pydata.org/pandas-docs/stable/user_guide/indexing.html#returning-a-view-versus-a-copy\n",
            "  df['tweet'] = df['tweet'].apply(\n",
            "<ipython-input-10-58d0d99cd0a4>:14: FutureWarning: The default value of regex will change from True to False in a future version. In addition, single character regular expressions will *not* be treated as literal strings when regex=True.\n",
            "  df.loc[:, 'tweet'] = df.tweet.str.replace(punctuation, '')\n",
            "<ipython-input-10-58d0d99cd0a4>:14: SettingWithCopyWarning: \n",
            "A value is trying to be set on a copy of a slice from a DataFrame.\n",
            "Try using .loc[row_indexer,col_indexer] = value instead\n",
            "\n",
            "See the caveats in the documentation: https://pandas.pydata.org/pandas-docs/stable/user_guide/indexing.html#returning-a-view-versus-a-copy\n",
            "  df.loc[:, 'tweet'] = df.tweet.str.replace(punctuation, '')\n",
            "<ipython-input-10-58d0d99cd0a4>:16: SettingWithCopyWarning: \n",
            "A value is trying to be set on a copy of a slice from a DataFrame.\n",
            "Try using .loc[row_indexer,col_indexer] = value instead\n",
            "\n",
            "See the caveats in the documentation: https://pandas.pydata.org/pandas-docs/stable/user_guide/indexing.html#returning-a-view-versus-a-copy\n",
            "  df['tweet'] = df['tweet'].apply(\n",
            "<ipython-input-10-58d0d99cd0a4>:14: SettingWithCopyWarning: \n",
            "A value is trying to be set on a copy of a slice from a DataFrame.\n",
            "Try using .loc[row_indexer,col_indexer] = value instead\n",
            "\n",
            "See the caveats in the documentation: https://pandas.pydata.org/pandas-docs/stable/user_guide/indexing.html#returning-a-view-versus-a-copy\n",
            "  df.loc[:, 'tweet'] = df.tweet.str.replace(punctuation, '')\n",
            "<ipython-input-10-58d0d99cd0a4>:16: SettingWithCopyWarning: \n",
            "A value is trying to be set on a copy of a slice from a DataFrame.\n",
            "Try using .loc[row_indexer,col_indexer] = value instead\n",
            "\n",
            "See the caveats in the documentation: https://pandas.pydata.org/pandas-docs/stable/user_guide/indexing.html#returning-a-view-versus-a-copy\n",
            "  df['tweet'] = df['tweet'].apply(\n",
            "<ipython-input-10-58d0d99cd0a4>:14: SettingWithCopyWarning: \n",
            "A value is trying to be set on a copy of a slice from a DataFrame.\n",
            "Try using .loc[row_indexer,col_indexer] = value instead\n",
            "\n",
            "See the caveats in the documentation: https://pandas.pydata.org/pandas-docs/stable/user_guide/indexing.html#returning-a-view-versus-a-copy\n",
            "  df.loc[:, 'tweet'] = df.tweet.str.replace(punctuation, '')\n",
            "<ipython-input-10-58d0d99cd0a4>:16: SettingWithCopyWarning: \n",
            "A value is trying to be set on a copy of a slice from a DataFrame.\n",
            "Try using .loc[row_indexer,col_indexer] = value instead\n",
            "\n",
            "See the caveats in the documentation: https://pandas.pydata.org/pandas-docs/stable/user_guide/indexing.html#returning-a-view-versus-a-copy\n",
            "  df['tweet'] = df['tweet'].apply(\n",
            "<ipython-input-10-58d0d99cd0a4>:14: SettingWithCopyWarning: \n",
            "A value is trying to be set on a copy of a slice from a DataFrame.\n",
            "Try using .loc[row_indexer,col_indexer] = value instead\n",
            "\n",
            "See the caveats in the documentation: https://pandas.pydata.org/pandas-docs/stable/user_guide/indexing.html#returning-a-view-versus-a-copy\n",
            "  df.loc[:, 'tweet'] = df.tweet.str.replace(punctuation, '')\n",
            "<ipython-input-10-58d0d99cd0a4>:16: SettingWithCopyWarning: \n",
            "A value is trying to be set on a copy of a slice from a DataFrame.\n",
            "Try using .loc[row_indexer,col_indexer] = value instead\n",
            "\n",
            "See the caveats in the documentation: https://pandas.pydata.org/pandas-docs/stable/user_guide/indexing.html#returning-a-view-versus-a-copy\n",
            "  df['tweet'] = df['tweet'].apply(\n",
            "<ipython-input-10-58d0d99cd0a4>:14: SettingWithCopyWarning: \n",
            "A value is trying to be set on a copy of a slice from a DataFrame.\n",
            "Try using .loc[row_indexer,col_indexer] = value instead\n",
            "\n",
            "See the caveats in the documentation: https://pandas.pydata.org/pandas-docs/stable/user_guide/indexing.html#returning-a-view-versus-a-copy\n",
            "  df.loc[:, 'tweet'] = df.tweet.str.replace(punctuation, '')\n",
            "<ipython-input-10-58d0d99cd0a4>:16: SettingWithCopyWarning: \n",
            "A value is trying to be set on a copy of a slice from a DataFrame.\n",
            "Try using .loc[row_indexer,col_indexer] = value instead\n",
            "\n",
            "See the caveats in the documentation: https://pandas.pydata.org/pandas-docs/stable/user_guide/indexing.html#returning-a-view-versus-a-copy\n",
            "  df['tweet'] = df['tweet'].apply(\n",
            "<ipython-input-10-58d0d99cd0a4>:14: SettingWithCopyWarning: \n",
            "A value is trying to be set on a copy of a slice from a DataFrame.\n",
            "Try using .loc[row_indexer,col_indexer] = value instead\n",
            "\n",
            "See the caveats in the documentation: https://pandas.pydata.org/pandas-docs/stable/user_guide/indexing.html#returning-a-view-versus-a-copy\n",
            "  df.loc[:, 'tweet'] = df.tweet.str.replace(punctuation, '')\n",
            "<ipython-input-10-58d0d99cd0a4>:16: SettingWithCopyWarning: \n",
            "A value is trying to be set on a copy of a slice from a DataFrame.\n",
            "Try using .loc[row_indexer,col_indexer] = value instead\n",
            "\n",
            "See the caveats in the documentation: https://pandas.pydata.org/pandas-docs/stable/user_guide/indexing.html#returning-a-view-versus-a-copy\n",
            "  df['tweet'] = df['tweet'].apply(\n",
            "<ipython-input-10-58d0d99cd0a4>:14: SettingWithCopyWarning: \n",
            "A value is trying to be set on a copy of a slice from a DataFrame.\n",
            "Try using .loc[row_indexer,col_indexer] = value instead\n",
            "\n",
            "See the caveats in the documentation: https://pandas.pydata.org/pandas-docs/stable/user_guide/indexing.html#returning-a-view-versus-a-copy\n",
            "  df.loc[:, 'tweet'] = df.tweet.str.replace(punctuation, '')\n",
            "<ipython-input-10-58d0d99cd0a4>:16: SettingWithCopyWarning: \n",
            "A value is trying to be set on a copy of a slice from a DataFrame.\n",
            "Try using .loc[row_indexer,col_indexer] = value instead\n",
            "\n",
            "See the caveats in the documentation: https://pandas.pydata.org/pandas-docs/stable/user_guide/indexing.html#returning-a-view-versus-a-copy\n",
            "  df['tweet'] = df['tweet'].apply(\n",
            "<ipython-input-10-58d0d99cd0a4>:14: FutureWarning: The default value of regex will change from True to False in a future version. In addition, single character regular expressions will *not* be treated as literal strings when regex=True.\n",
            "  df.loc[:, 'tweet'] = df.tweet.str.replace(punctuation, '')\n",
            "<ipython-input-10-58d0d99cd0a4>:14: SettingWithCopyWarning: \n",
            "A value is trying to be set on a copy of a slice from a DataFrame.\n",
            "Try using .loc[row_indexer,col_indexer] = value instead\n",
            "\n",
            "See the caveats in the documentation: https://pandas.pydata.org/pandas-docs/stable/user_guide/indexing.html#returning-a-view-versus-a-copy\n",
            "  df.loc[:, 'tweet'] = df.tweet.str.replace(punctuation, '')\n",
            "<ipython-input-10-58d0d99cd0a4>:16: SettingWithCopyWarning: \n",
            "A value is trying to be set on a copy of a slice from a DataFrame.\n",
            "Try using .loc[row_indexer,col_indexer] = value instead\n",
            "\n",
            "See the caveats in the documentation: https://pandas.pydata.org/pandas-docs/stable/user_guide/indexing.html#returning-a-view-versus-a-copy\n",
            "  df['tweet'] = df['tweet'].apply(\n",
            "<ipython-input-10-58d0d99cd0a4>:14: SettingWithCopyWarning: \n",
            "A value is trying to be set on a copy of a slice from a DataFrame.\n",
            "Try using .loc[row_indexer,col_indexer] = value instead\n",
            "\n",
            "See the caveats in the documentation: https://pandas.pydata.org/pandas-docs/stable/user_guide/indexing.html#returning-a-view-versus-a-copy\n",
            "  df.loc[:, 'tweet'] = df.tweet.str.replace(punctuation, '')\n",
            "<ipython-input-10-58d0d99cd0a4>:16: SettingWithCopyWarning: \n",
            "A value is trying to be set on a copy of a slice from a DataFrame.\n",
            "Try using .loc[row_indexer,col_indexer] = value instead\n",
            "\n",
            "See the caveats in the documentation: https://pandas.pydata.org/pandas-docs/stable/user_guide/indexing.html#returning-a-view-versus-a-copy\n",
            "  df['tweet'] = df['tweet'].apply(\n",
            "<ipython-input-10-58d0d99cd0a4>:14: FutureWarning: The default value of regex will change from True to False in a future version. In addition, single character regular expressions will *not* be treated as literal strings when regex=True.\n",
            "  df.loc[:, 'tweet'] = df.tweet.str.replace(punctuation, '')\n",
            "<ipython-input-10-58d0d99cd0a4>:14: SettingWithCopyWarning: \n",
            "A value is trying to be set on a copy of a slice from a DataFrame.\n",
            "Try using .loc[row_indexer,col_indexer] = value instead\n",
            "\n",
            "See the caveats in the documentation: https://pandas.pydata.org/pandas-docs/stable/user_guide/indexing.html#returning-a-view-versus-a-copy\n",
            "  df.loc[:, 'tweet'] = df.tweet.str.replace(punctuation, '')\n",
            "<ipython-input-10-58d0d99cd0a4>:16: SettingWithCopyWarning: \n",
            "A value is trying to be set on a copy of a slice from a DataFrame.\n",
            "Try using .loc[row_indexer,col_indexer] = value instead\n",
            "\n",
            "See the caveats in the documentation: https://pandas.pydata.org/pandas-docs/stable/user_guide/indexing.html#returning-a-view-versus-a-copy\n",
            "  df['tweet'] = df['tweet'].apply(\n",
            "<ipython-input-10-58d0d99cd0a4>:14: FutureWarning: The default value of regex will change from True to False in a future version. In addition, single character regular expressions will *not* be treated as literal strings when regex=True.\n",
            "  df.loc[:, 'tweet'] = df.tweet.str.replace(punctuation, '')\n",
            "<ipython-input-10-58d0d99cd0a4>:14: SettingWithCopyWarning: \n",
            "A value is trying to be set on a copy of a slice from a DataFrame.\n",
            "Try using .loc[row_indexer,col_indexer] = value instead\n",
            "\n",
            "See the caveats in the documentation: https://pandas.pydata.org/pandas-docs/stable/user_guide/indexing.html#returning-a-view-versus-a-copy\n",
            "  df.loc[:, 'tweet'] = df.tweet.str.replace(punctuation, '')\n",
            "<ipython-input-10-58d0d99cd0a4>:16: SettingWithCopyWarning: \n",
            "A value is trying to be set on a copy of a slice from a DataFrame.\n",
            "Try using .loc[row_indexer,col_indexer] = value instead\n",
            "\n",
            "See the caveats in the documentation: https://pandas.pydata.org/pandas-docs/stable/user_guide/indexing.html#returning-a-view-versus-a-copy\n",
            "  df['tweet'] = df['tweet'].apply(\n",
            "<ipython-input-10-58d0d99cd0a4>:14: FutureWarning: The default value of regex will change from True to False in a future version. In addition, single character regular expressions will *not* be treated as literal strings when regex=True.\n",
            "  df.loc[:, 'tweet'] = df.tweet.str.replace(punctuation, '')\n",
            "<ipython-input-10-58d0d99cd0a4>:14: SettingWithCopyWarning: \n",
            "A value is trying to be set on a copy of a slice from a DataFrame.\n",
            "Try using .loc[row_indexer,col_indexer] = value instead\n",
            "\n",
            "See the caveats in the documentation: https://pandas.pydata.org/pandas-docs/stable/user_guide/indexing.html#returning-a-view-versus-a-copy\n",
            "  df.loc[:, 'tweet'] = df.tweet.str.replace(punctuation, '')\n",
            "<ipython-input-10-58d0d99cd0a4>:16: SettingWithCopyWarning: \n",
            "A value is trying to be set on a copy of a slice from a DataFrame.\n",
            "Try using .loc[row_indexer,col_indexer] = value instead\n",
            "\n",
            "See the caveats in the documentation: https://pandas.pydata.org/pandas-docs/stable/user_guide/indexing.html#returning-a-view-versus-a-copy\n",
            "  df['tweet'] = df['tweet'].apply(\n",
            "<ipython-input-10-58d0d99cd0a4>:14: FutureWarning: The default value of regex will change from True to False in a future version. In addition, single character regular expressions will *not* be treated as literal strings when regex=True.\n",
            "  df.loc[:, 'tweet'] = df.tweet.str.replace(punctuation, '')\n",
            "<ipython-input-10-58d0d99cd0a4>:14: SettingWithCopyWarning: \n",
            "A value is trying to be set on a copy of a slice from a DataFrame.\n",
            "Try using .loc[row_indexer,col_indexer] = value instead\n",
            "\n",
            "See the caveats in the documentation: https://pandas.pydata.org/pandas-docs/stable/user_guide/indexing.html#returning-a-view-versus-a-copy\n",
            "  df.loc[:, 'tweet'] = df.tweet.str.replace(punctuation, '')\n",
            "<ipython-input-10-58d0d99cd0a4>:16: SettingWithCopyWarning: \n",
            "A value is trying to be set on a copy of a slice from a DataFrame.\n",
            "Try using .loc[row_indexer,col_indexer] = value instead\n",
            "\n",
            "See the caveats in the documentation: https://pandas.pydata.org/pandas-docs/stable/user_guide/indexing.html#returning-a-view-versus-a-copy\n",
            "  df['tweet'] = df['tweet'].apply(\n",
            "<ipython-input-10-58d0d99cd0a4>:14: SettingWithCopyWarning: \n",
            "A value is trying to be set on a copy of a slice from a DataFrame.\n",
            "Try using .loc[row_indexer,col_indexer] = value instead\n",
            "\n",
            "See the caveats in the documentation: https://pandas.pydata.org/pandas-docs/stable/user_guide/indexing.html#returning-a-view-versus-a-copy\n",
            "  df.loc[:, 'tweet'] = df.tweet.str.replace(punctuation, '')\n",
            "<ipython-input-10-58d0d99cd0a4>:16: SettingWithCopyWarning: \n",
            "A value is trying to be set on a copy of a slice from a DataFrame.\n",
            "Try using .loc[row_indexer,col_indexer] = value instead\n",
            "\n",
            "See the caveats in the documentation: https://pandas.pydata.org/pandas-docs/stable/user_guide/indexing.html#returning-a-view-versus-a-copy\n",
            "  df['tweet'] = df['tweet'].apply(\n",
            "<ipython-input-10-58d0d99cd0a4>:14: SettingWithCopyWarning: \n",
            "A value is trying to be set on a copy of a slice from a DataFrame.\n",
            "Try using .loc[row_indexer,col_indexer] = value instead\n",
            "\n",
            "See the caveats in the documentation: https://pandas.pydata.org/pandas-docs/stable/user_guide/indexing.html#returning-a-view-versus-a-copy\n",
            "  df.loc[:, 'tweet'] = df.tweet.str.replace(punctuation, '')\n",
            "<ipython-input-10-58d0d99cd0a4>:16: SettingWithCopyWarning: \n",
            "A value is trying to be set on a copy of a slice from a DataFrame.\n",
            "Try using .loc[row_indexer,col_indexer] = value instead\n",
            "\n",
            "See the caveats in the documentation: https://pandas.pydata.org/pandas-docs/stable/user_guide/indexing.html#returning-a-view-versus-a-copy\n",
            "  df['tweet'] = df['tweet'].apply(\n",
            "<ipython-input-10-58d0d99cd0a4>:14: FutureWarning: The default value of regex will change from True to False in a future version. In addition, single character regular expressions will *not* be treated as literal strings when regex=True.\n",
            "  df.loc[:, 'tweet'] = df.tweet.str.replace(punctuation, '')\n",
            "<ipython-input-10-58d0d99cd0a4>:14: SettingWithCopyWarning: \n",
            "A value is trying to be set on a copy of a slice from a DataFrame.\n",
            "Try using .loc[row_indexer,col_indexer] = value instead\n",
            "\n",
            "See the caveats in the documentation: https://pandas.pydata.org/pandas-docs/stable/user_guide/indexing.html#returning-a-view-versus-a-copy\n",
            "  df.loc[:, 'tweet'] = df.tweet.str.replace(punctuation, '')\n",
            "<ipython-input-10-58d0d99cd0a4>:16: SettingWithCopyWarning: \n",
            "A value is trying to be set on a copy of a slice from a DataFrame.\n",
            "Try using .loc[row_indexer,col_indexer] = value instead\n",
            "\n",
            "See the caveats in the documentation: https://pandas.pydata.org/pandas-docs/stable/user_guide/indexing.html#returning-a-view-versus-a-copy\n",
            "  df['tweet'] = df['tweet'].apply(\n",
            "<ipython-input-10-58d0d99cd0a4>:14: FutureWarning: The default value of regex will change from True to False in a future version. In addition, single character regular expressions will *not* be treated as literal strings when regex=True.\n",
            "  df.loc[:, 'tweet'] = df.tweet.str.replace(punctuation, '')\n",
            "<ipython-input-10-58d0d99cd0a4>:14: SettingWithCopyWarning: \n",
            "A value is trying to be set on a copy of a slice from a DataFrame.\n",
            "Try using .loc[row_indexer,col_indexer] = value instead\n",
            "\n",
            "See the caveats in the documentation: https://pandas.pydata.org/pandas-docs/stable/user_guide/indexing.html#returning-a-view-versus-a-copy\n",
            "  df.loc[:, 'tweet'] = df.tweet.str.replace(punctuation, '')\n",
            "<ipython-input-10-58d0d99cd0a4>:16: SettingWithCopyWarning: \n",
            "A value is trying to be set on a copy of a slice from a DataFrame.\n",
            "Try using .loc[row_indexer,col_indexer] = value instead\n",
            "\n",
            "See the caveats in the documentation: https://pandas.pydata.org/pandas-docs/stable/user_guide/indexing.html#returning-a-view-versus-a-copy\n",
            "  df['tweet'] = df['tweet'].apply(\n",
            "<ipython-input-10-58d0d99cd0a4>:14: FutureWarning: The default value of regex will change from True to False in a future version. In addition, single character regular expressions will *not* be treated as literal strings when regex=True.\n",
            "  df.loc[:, 'tweet'] = df.tweet.str.replace(punctuation, '')\n",
            "<ipython-input-10-58d0d99cd0a4>:14: SettingWithCopyWarning: \n",
            "A value is trying to be set on a copy of a slice from a DataFrame.\n",
            "Try using .loc[row_indexer,col_indexer] = value instead\n",
            "\n",
            "See the caveats in the documentation: https://pandas.pydata.org/pandas-docs/stable/user_guide/indexing.html#returning-a-view-versus-a-copy\n",
            "  df.loc[:, 'tweet'] = df.tweet.str.replace(punctuation, '')\n",
            "<ipython-input-10-58d0d99cd0a4>:16: SettingWithCopyWarning: \n",
            "A value is trying to be set on a copy of a slice from a DataFrame.\n",
            "Try using .loc[row_indexer,col_indexer] = value instead\n",
            "\n",
            "See the caveats in the documentation: https://pandas.pydata.org/pandas-docs/stable/user_guide/indexing.html#returning-a-view-versus-a-copy\n",
            "  df['tweet'] = df['tweet'].apply(\n",
            "<ipython-input-10-58d0d99cd0a4>:14: SettingWithCopyWarning: \n",
            "A value is trying to be set on a copy of a slice from a DataFrame.\n",
            "Try using .loc[row_indexer,col_indexer] = value instead\n",
            "\n",
            "See the caveats in the documentation: https://pandas.pydata.org/pandas-docs/stable/user_guide/indexing.html#returning-a-view-versus-a-copy\n",
            "  df.loc[:, 'tweet'] = df.tweet.str.replace(punctuation, '')\n",
            "<ipython-input-10-58d0d99cd0a4>:16: SettingWithCopyWarning: \n",
            "A value is trying to be set on a copy of a slice from a DataFrame.\n",
            "Try using .loc[row_indexer,col_indexer] = value instead\n",
            "\n",
            "See the caveats in the documentation: https://pandas.pydata.org/pandas-docs/stable/user_guide/indexing.html#returning-a-view-versus-a-copy\n",
            "  df['tweet'] = df['tweet'].apply(\n",
            "<ipython-input-10-58d0d99cd0a4>:21: SettingWithCopyWarning: \n",
            "A value is trying to be set on a copy of a slice from a DataFrame.\n",
            "Try using .loc[row_indexer,col_indexer] = value instead\n",
            "\n",
            "See the caveats in the documentation: https://pandas.pydata.org/pandas-docs/stable/user_guide/indexing.html#returning-a-view-versus-a-copy\n",
            "  df.loc[:, 'tweet'] = df['tweet'].apply(emoji.demojize)\n",
            "<ipython-input-10-58d0d99cd0a4>:25: SettingWithCopyWarning: \n",
            "A value is trying to be set on a copy of a slice from a DataFrame.\n",
            "Try using .loc[row_indexer,col_indexer] = value instead\n",
            "\n",
            "See the caveats in the documentation: https://pandas.pydata.org/pandas-docs/stable/user_guide/indexing.html#returning-a-view-versus-a-copy\n",
            "  df.loc[:, 'tweet'] = df['tweet'].apply(replace_multiple_user_mentions)\n",
            "<ipython-input-10-58d0d99cd0a4>:28: SettingWithCopyWarning: \n",
            "A value is trying to be set on a copy of a slice from a DataFrame.\n",
            "Try using .loc[row_indexer,col_indexer] = value instead\n",
            "\n",
            "See the caveats in the documentation: https://pandas.pydata.org/pandas-docs/stable/user_guide/indexing.html#returning-a-view-versus-a-copy\n",
            "  df.loc[:, 'tweet'] = df['tweet'].apply(lambda x: re.sub(r'http\\S+|www\\S+', 'http', x))\n"
          ]
        }
      ],
      "source": [
        "clean_tweets(train_tweets)"
      ]
    },
    {
      "cell_type": "code",
      "execution_count": 12,
      "metadata": {
        "id": "LlB7a12SY8-e"
      },
      "outputs": [],
      "source": [
        "train_task_a_data = train_tweets.join(train_task_a_labels)\n",
        "\n",
        "#train_task_b_data = train_tweets.join(train_task_b_labels)\n",
        "#train_task_b_data = train_task_b_data.dropna() #Drop records with missing values\n",
        "\n",
        "#train_task_c_data = train_tweets.join(train_task_c_labels)\n",
        "#train_task_c_data = train_task_c_data.dropna() #Drop records with missing values\n",
        "\n",
        "#Apply quotes to cleaned tweets\n",
        "train_task_a_data.update(train_task_a_data[['tweet']].applymap('\\'{}\\''.format))\n",
        "#train_task_b_data.update(train_task_b_data[['tweet']].applymap('\\'{}\\''.format))\n",
        "#train_task_c_data.update(train_task_c_data[['tweet']].applymap('\\'{}\\''.format))"
      ]
    },
    {
      "cell_type": "code",
      "execution_count": 13,
      "metadata": {
        "colab": {
          "base_uri": "https://localhost:8080/",
          "height": 206
        },
        "id": "tsNvIhPFlNzJ",
        "outputId": "4e0d7068-bc27-48d8-a41d-35dca827ee4f"
      },
      "outputs": [
        {
          "output_type": "execute_result",
          "data": {
            "text/plain": [
              "                                               tweet class_a\n",
              "0  ' she should ask a few native americans what t...     OFF\n",
              "1              '  go home youre drunk  maga trump  '     OFF\n",
              "2  'amazon is investigating chinese employees who...     NOT\n",
              "3  ' someone shouldvetaken this piece of shit to ...     OFF\n",
              "4  '  obama wanted liberals and illegals to move ...     NOT"
            ],
            "text/html": [
              "\n",
              "  <div id=\"df-7c58d18d-e019-4271-91f9-c359c8f7328e\" class=\"colab-df-container\">\n",
              "    <div>\n",
              "<style scoped>\n",
              "    .dataframe tbody tr th:only-of-type {\n",
              "        vertical-align: middle;\n",
              "    }\n",
              "\n",
              "    .dataframe tbody tr th {\n",
              "        vertical-align: top;\n",
              "    }\n",
              "\n",
              "    .dataframe thead th {\n",
              "        text-align: right;\n",
              "    }\n",
              "</style>\n",
              "<table border=\"1\" class=\"dataframe\">\n",
              "  <thead>\n",
              "    <tr style=\"text-align: right;\">\n",
              "      <th></th>\n",
              "      <th>tweet</th>\n",
              "      <th>class_a</th>\n",
              "    </tr>\n",
              "  </thead>\n",
              "  <tbody>\n",
              "    <tr>\n",
              "      <th>0</th>\n",
              "      <td>' she should ask a few native americans what t...</td>\n",
              "      <td>OFF</td>\n",
              "    </tr>\n",
              "    <tr>\n",
              "      <th>1</th>\n",
              "      <td>'  go home youre drunk  maga trump  '</td>\n",
              "      <td>OFF</td>\n",
              "    </tr>\n",
              "    <tr>\n",
              "      <th>2</th>\n",
              "      <td>'amazon is investigating chinese employees who...</td>\n",
              "      <td>NOT</td>\n",
              "    </tr>\n",
              "    <tr>\n",
              "      <th>3</th>\n",
              "      <td>' someone shouldvetaken this piece of shit to ...</td>\n",
              "      <td>OFF</td>\n",
              "    </tr>\n",
              "    <tr>\n",
              "      <th>4</th>\n",
              "      <td>'  obama wanted liberals and illegals to move ...</td>\n",
              "      <td>NOT</td>\n",
              "    </tr>\n",
              "  </tbody>\n",
              "</table>\n",
              "</div>\n",
              "    <div class=\"colab-df-buttons\">\n",
              "\n",
              "  <div class=\"colab-df-container\">\n",
              "    <button class=\"colab-df-convert\" onclick=\"convertToInteractive('df-7c58d18d-e019-4271-91f9-c359c8f7328e')\"\n",
              "            title=\"Convert this dataframe to an interactive table.\"\n",
              "            style=\"display:none;\">\n",
              "\n",
              "  <svg xmlns=\"http://www.w3.org/2000/svg\" height=\"24px\" viewBox=\"0 -960 960 960\">\n",
              "    <path d=\"M120-120v-720h720v720H120Zm60-500h600v-160H180v160Zm220 220h160v-160H400v160Zm0 220h160v-160H400v160ZM180-400h160v-160H180v160Zm440 0h160v-160H620v160ZM180-180h160v-160H180v160Zm440 0h160v-160H620v160Z\"/>\n",
              "  </svg>\n",
              "    </button>\n",
              "\n",
              "  <style>\n",
              "    .colab-df-container {\n",
              "      display:flex;\n",
              "      gap: 12px;\n",
              "    }\n",
              "\n",
              "    .colab-df-convert {\n",
              "      background-color: #E8F0FE;\n",
              "      border: none;\n",
              "      border-radius: 50%;\n",
              "      cursor: pointer;\n",
              "      display: none;\n",
              "      fill: #1967D2;\n",
              "      height: 32px;\n",
              "      padding: 0 0 0 0;\n",
              "      width: 32px;\n",
              "    }\n",
              "\n",
              "    .colab-df-convert:hover {\n",
              "      background-color: #E2EBFA;\n",
              "      box-shadow: 0px 1px 2px rgba(60, 64, 67, 0.3), 0px 1px 3px 1px rgba(60, 64, 67, 0.15);\n",
              "      fill: #174EA6;\n",
              "    }\n",
              "\n",
              "    .colab-df-buttons div {\n",
              "      margin-bottom: 4px;\n",
              "    }\n",
              "\n",
              "    [theme=dark] .colab-df-convert {\n",
              "      background-color: #3B4455;\n",
              "      fill: #D2E3FC;\n",
              "    }\n",
              "\n",
              "    [theme=dark] .colab-df-convert:hover {\n",
              "      background-color: #434B5C;\n",
              "      box-shadow: 0px 1px 3px 1px rgba(0, 0, 0, 0.15);\n",
              "      filter: drop-shadow(0px 1px 2px rgba(0, 0, 0, 0.3));\n",
              "      fill: #FFFFFF;\n",
              "    }\n",
              "  </style>\n",
              "\n",
              "    <script>\n",
              "      const buttonEl =\n",
              "        document.querySelector('#df-7c58d18d-e019-4271-91f9-c359c8f7328e button.colab-df-convert');\n",
              "      buttonEl.style.display =\n",
              "        google.colab.kernel.accessAllowed ? 'block' : 'none';\n",
              "\n",
              "      async function convertToInteractive(key) {\n",
              "        const element = document.querySelector('#df-7c58d18d-e019-4271-91f9-c359c8f7328e');\n",
              "        const dataTable =\n",
              "          await google.colab.kernel.invokeFunction('convertToInteractive',\n",
              "                                                    [key], {});\n",
              "        if (!dataTable) return;\n",
              "\n",
              "        const docLinkHtml = 'Like what you see? Visit the ' +\n",
              "          '<a target=\"_blank\" href=https://colab.research.google.com/notebooks/data_table.ipynb>data table notebook</a>'\n",
              "          + ' to learn more about interactive tables.';\n",
              "        element.innerHTML = '';\n",
              "        dataTable['output_type'] = 'display_data';\n",
              "        await google.colab.output.renderOutput(dataTable, element);\n",
              "        const docLink = document.createElement('div');\n",
              "        docLink.innerHTML = docLinkHtml;\n",
              "        element.appendChild(docLink);\n",
              "      }\n",
              "    </script>\n",
              "  </div>\n",
              "\n",
              "\n",
              "<div id=\"df-fc4d851a-8b03-46cb-8839-c186e7f6606b\">\n",
              "  <button class=\"colab-df-quickchart\" onclick=\"quickchart('df-fc4d851a-8b03-46cb-8839-c186e7f6606b')\"\n",
              "            title=\"Suggest charts.\"\n",
              "            style=\"display:none;\">\n",
              "\n",
              "<svg xmlns=\"http://www.w3.org/2000/svg\" height=\"24px\"viewBox=\"0 0 24 24\"\n",
              "     width=\"24px\">\n",
              "    <g>\n",
              "        <path d=\"M19 3H5c-1.1 0-2 .9-2 2v14c0 1.1.9 2 2 2h14c1.1 0 2-.9 2-2V5c0-1.1-.9-2-2-2zM9 17H7v-7h2v7zm4 0h-2V7h2v10zm4 0h-2v-4h2v4z\"/>\n",
              "    </g>\n",
              "</svg>\n",
              "  </button>\n",
              "\n",
              "<style>\n",
              "  .colab-df-quickchart {\n",
              "    background-color: #E8F0FE;\n",
              "    border: none;\n",
              "    border-radius: 50%;\n",
              "    cursor: pointer;\n",
              "    display: none;\n",
              "    fill: #1967D2;\n",
              "    height: 32px;\n",
              "    padding: 0 0 0 0;\n",
              "    width: 32px;\n",
              "  }\n",
              "\n",
              "  .colab-df-quickchart:hover {\n",
              "    background-color: #E2EBFA;\n",
              "    box-shadow: 0px 1px 2px rgba(60, 64, 67, 0.3), 0px 1px 3px 1px rgba(60, 64, 67, 0.15);\n",
              "    fill: #174EA6;\n",
              "  }\n",
              "\n",
              "  [theme=dark] .colab-df-quickchart {\n",
              "    background-color: #3B4455;\n",
              "    fill: #D2E3FC;\n",
              "  }\n",
              "\n",
              "  [theme=dark] .colab-df-quickchart:hover {\n",
              "    background-color: #434B5C;\n",
              "    box-shadow: 0px 1px 3px 1px rgba(0, 0, 0, 0.15);\n",
              "    filter: drop-shadow(0px 1px 2px rgba(0, 0, 0, 0.3));\n",
              "    fill: #FFFFFF;\n",
              "  }\n",
              "</style>\n",
              "\n",
              "  <script>\n",
              "    async function quickchart(key) {\n",
              "      const charts = await google.colab.kernel.invokeFunction(\n",
              "          'suggestCharts', [key], {});\n",
              "    }\n",
              "    (() => {\n",
              "      let quickchartButtonEl =\n",
              "        document.querySelector('#df-fc4d851a-8b03-46cb-8839-c186e7f6606b button');\n",
              "      quickchartButtonEl.style.display =\n",
              "        google.colab.kernel.accessAllowed ? 'block' : 'none';\n",
              "    })();\n",
              "  </script>\n",
              "</div>\n",
              "    </div>\n",
              "  </div>\n"
            ]
          },
          "metadata": {},
          "execution_count": 13
        }
      ],
      "source": [
        "train_task_a_data.head()"
      ]
    },
    {
      "cell_type": "code",
      "execution_count": 15,
      "metadata": {
        "colab": {
          "base_uri": "https://localhost:8080/",
          "height": 298
        },
        "id": "8Uc_gX_klN11",
        "outputId": "3d631778-59f4-42bd-ec8e-3d52670d0fa0"
      },
      "outputs": [
        {
          "output_type": "stream",
          "name": "stderr",
          "text": [
            "<ipython-input-10-58d0d99cd0a4>:9: FutureWarning: The default value of regex will change from True to False in a future version.\n",
            "  df.loc[:, 'tweet'] = df.tweet.str.replace('\\d+','') #Remove numbers\n",
            "<ipython-input-10-58d0d99cd0a4>:14: FutureWarning: The default value of regex will change from True to False in a future version. In addition, single character regular expressions will *not* be treated as literal strings when regex=True.\n",
            "  df.loc[:, 'tweet'] = df.tweet.str.replace(punctuation, '')\n"
          ]
        },
        {
          "output_type": "execute_result",
          "data": {
            "text/plain": [
              "                                               tweet class_a\n",
              "0  'whoisq wherestheserver dumpnike declasfisa de...     OFF\n",
              "1  'constitutionday is revered by conservatives h...     NOT\n",
              "2  'foxnews nra maga potus trump ndamendment rnc ...     NOT\n",
              "3  'watching boomer getting the news that she is ...     NOT\n",
              "4  'nopasaran unity demo to oppose the farright i...     OFF"
            ],
            "text/html": [
              "\n",
              "  <div id=\"df-6f8dda94-07ab-4465-8f02-fda986b81c24\" class=\"colab-df-container\">\n",
              "    <div>\n",
              "<style scoped>\n",
              "    .dataframe tbody tr th:only-of-type {\n",
              "        vertical-align: middle;\n",
              "    }\n",
              "\n",
              "    .dataframe tbody tr th {\n",
              "        vertical-align: top;\n",
              "    }\n",
              "\n",
              "    .dataframe thead th {\n",
              "        text-align: right;\n",
              "    }\n",
              "</style>\n",
              "<table border=\"1\" class=\"dataframe\">\n",
              "  <thead>\n",
              "    <tr style=\"text-align: right;\">\n",
              "      <th></th>\n",
              "      <th>tweet</th>\n",
              "      <th>class_a</th>\n",
              "    </tr>\n",
              "  </thead>\n",
              "  <tbody>\n",
              "    <tr>\n",
              "      <th>0</th>\n",
              "      <td>'whoisq wherestheserver dumpnike declasfisa de...</td>\n",
              "      <td>OFF</td>\n",
              "    </tr>\n",
              "    <tr>\n",
              "      <th>1</th>\n",
              "      <td>'constitutionday is revered by conservatives h...</td>\n",
              "      <td>NOT</td>\n",
              "    </tr>\n",
              "    <tr>\n",
              "      <th>2</th>\n",
              "      <td>'foxnews nra maga potus trump ndamendment rnc ...</td>\n",
              "      <td>NOT</td>\n",
              "    </tr>\n",
              "    <tr>\n",
              "      <th>3</th>\n",
              "      <td>'watching boomer getting the news that she is ...</td>\n",
              "      <td>NOT</td>\n",
              "    </tr>\n",
              "    <tr>\n",
              "      <th>4</th>\n",
              "      <td>'nopasaran unity demo to oppose the farright i...</td>\n",
              "      <td>OFF</td>\n",
              "    </tr>\n",
              "  </tbody>\n",
              "</table>\n",
              "</div>\n",
              "    <div class=\"colab-df-buttons\">\n",
              "\n",
              "  <div class=\"colab-df-container\">\n",
              "    <button class=\"colab-df-convert\" onclick=\"convertToInteractive('df-6f8dda94-07ab-4465-8f02-fda986b81c24')\"\n",
              "            title=\"Convert this dataframe to an interactive table.\"\n",
              "            style=\"display:none;\">\n",
              "\n",
              "  <svg xmlns=\"http://www.w3.org/2000/svg\" height=\"24px\" viewBox=\"0 -960 960 960\">\n",
              "    <path d=\"M120-120v-720h720v720H120Zm60-500h600v-160H180v160Zm220 220h160v-160H400v160Zm0 220h160v-160H400v160ZM180-400h160v-160H180v160Zm440 0h160v-160H620v160ZM180-180h160v-160H180v160Zm440 0h160v-160H620v160Z\"/>\n",
              "  </svg>\n",
              "    </button>\n",
              "\n",
              "  <style>\n",
              "    .colab-df-container {\n",
              "      display:flex;\n",
              "      gap: 12px;\n",
              "    }\n",
              "\n",
              "    .colab-df-convert {\n",
              "      background-color: #E8F0FE;\n",
              "      border: none;\n",
              "      border-radius: 50%;\n",
              "      cursor: pointer;\n",
              "      display: none;\n",
              "      fill: #1967D2;\n",
              "      height: 32px;\n",
              "      padding: 0 0 0 0;\n",
              "      width: 32px;\n",
              "    }\n",
              "\n",
              "    .colab-df-convert:hover {\n",
              "      background-color: #E2EBFA;\n",
              "      box-shadow: 0px 1px 2px rgba(60, 64, 67, 0.3), 0px 1px 3px 1px rgba(60, 64, 67, 0.15);\n",
              "      fill: #174EA6;\n",
              "    }\n",
              "\n",
              "    .colab-df-buttons div {\n",
              "      margin-bottom: 4px;\n",
              "    }\n",
              "\n",
              "    [theme=dark] .colab-df-convert {\n",
              "      background-color: #3B4455;\n",
              "      fill: #D2E3FC;\n",
              "    }\n",
              "\n",
              "    [theme=dark] .colab-df-convert:hover {\n",
              "      background-color: #434B5C;\n",
              "      box-shadow: 0px 1px 3px 1px rgba(0, 0, 0, 0.15);\n",
              "      filter: drop-shadow(0px 1px 2px rgba(0, 0, 0, 0.3));\n",
              "      fill: #FFFFFF;\n",
              "    }\n",
              "  </style>\n",
              "\n",
              "    <script>\n",
              "      const buttonEl =\n",
              "        document.querySelector('#df-6f8dda94-07ab-4465-8f02-fda986b81c24 button.colab-df-convert');\n",
              "      buttonEl.style.display =\n",
              "        google.colab.kernel.accessAllowed ? 'block' : 'none';\n",
              "\n",
              "      async function convertToInteractive(key) {\n",
              "        const element = document.querySelector('#df-6f8dda94-07ab-4465-8f02-fda986b81c24');\n",
              "        const dataTable =\n",
              "          await google.colab.kernel.invokeFunction('convertToInteractive',\n",
              "                                                    [key], {});\n",
              "        if (!dataTable) return;\n",
              "\n",
              "        const docLinkHtml = 'Like what you see? Visit the ' +\n",
              "          '<a target=\"_blank\" href=https://colab.research.google.com/notebooks/data_table.ipynb>data table notebook</a>'\n",
              "          + ' to learn more about interactive tables.';\n",
              "        element.innerHTML = '';\n",
              "        dataTable['output_type'] = 'display_data';\n",
              "        await google.colab.output.renderOutput(dataTable, element);\n",
              "        const docLink = document.createElement('div');\n",
              "        docLink.innerHTML = docLinkHtml;\n",
              "        element.appendChild(docLink);\n",
              "      }\n",
              "    </script>\n",
              "  </div>\n",
              "\n",
              "\n",
              "<div id=\"df-8d666603-6c1e-4574-a2e4-100baeef44f4\">\n",
              "  <button class=\"colab-df-quickchart\" onclick=\"quickchart('df-8d666603-6c1e-4574-a2e4-100baeef44f4')\"\n",
              "            title=\"Suggest charts.\"\n",
              "            style=\"display:none;\">\n",
              "\n",
              "<svg xmlns=\"http://www.w3.org/2000/svg\" height=\"24px\"viewBox=\"0 0 24 24\"\n",
              "     width=\"24px\">\n",
              "    <g>\n",
              "        <path d=\"M19 3H5c-1.1 0-2 .9-2 2v14c0 1.1.9 2 2 2h14c1.1 0 2-.9 2-2V5c0-1.1-.9-2-2-2zM9 17H7v-7h2v7zm4 0h-2V7h2v10zm4 0h-2v-4h2v4z\"/>\n",
              "    </g>\n",
              "</svg>\n",
              "  </button>\n",
              "\n",
              "<style>\n",
              "  .colab-df-quickchart {\n",
              "    background-color: #E8F0FE;\n",
              "    border: none;\n",
              "    border-radius: 50%;\n",
              "    cursor: pointer;\n",
              "    display: none;\n",
              "    fill: #1967D2;\n",
              "    height: 32px;\n",
              "    padding: 0 0 0 0;\n",
              "    width: 32px;\n",
              "  }\n",
              "\n",
              "  .colab-df-quickchart:hover {\n",
              "    background-color: #E2EBFA;\n",
              "    box-shadow: 0px 1px 2px rgba(60, 64, 67, 0.3), 0px 1px 3px 1px rgba(60, 64, 67, 0.15);\n",
              "    fill: #174EA6;\n",
              "  }\n",
              "\n",
              "  [theme=dark] .colab-df-quickchart {\n",
              "    background-color: #3B4455;\n",
              "    fill: #D2E3FC;\n",
              "  }\n",
              "\n",
              "  [theme=dark] .colab-df-quickchart:hover {\n",
              "    background-color: #434B5C;\n",
              "    box-shadow: 0px 1px 3px 1px rgba(0, 0, 0, 0.15);\n",
              "    filter: drop-shadow(0px 1px 2px rgba(0, 0, 0, 0.3));\n",
              "    fill: #FFFFFF;\n",
              "  }\n",
              "</style>\n",
              "\n",
              "  <script>\n",
              "    async function quickchart(key) {\n",
              "      const charts = await google.colab.kernel.invokeFunction(\n",
              "          'suggestCharts', [key], {});\n",
              "    }\n",
              "    (() => {\n",
              "      let quickchartButtonEl =\n",
              "        document.querySelector('#df-8d666603-6c1e-4574-a2e4-100baeef44f4 button');\n",
              "      quickchartButtonEl.style.display =\n",
              "        google.colab.kernel.accessAllowed ? 'block' : 'none';\n",
              "    })();\n",
              "  </script>\n",
              "</div>\n",
              "    </div>\n",
              "  </div>\n"
            ]
          },
          "metadata": {},
          "execution_count": 15
        }
      ],
      "source": [
        "#Read tweets from test sets\n",
        "test_tweet_a=pd.read_csv('./testset-levela.tsv', delimiter='\\t', encoding='utf-8')\n",
        "#test_tweet_b=pd.read_csv('../raw_data/testset-levelb.tsv', delimiter='\\t', encoding='utf-8')\n",
        "#test_tweet_c=pd.read_csv('../raw_data/testset-levelc.tsv', delimiter='\\t', encoding='utf-8')\n",
        "\n",
        "#Read tweet labels\n",
        "test_label_a=pd.read_csv('./labels-levela.csv', encoding='utf-8',\n",
        "                         index_col=False, names=['id', 'class_a'])\n",
        "#test_label_b=pd.read_csv('../raw_data/labels-levelb.csv', encoding='utf-8',\n",
        "                       #  index_col=False, names=['id', 'class_b'])\n",
        "#test_label_c=pd.read_csv('../raw_data/labels-levelc.csv', encoding='utf-8',\n",
        "                       #  index_col=False, names=['id', 'class_c'])\n",
        "\n",
        "#Merge tweets with labels by id\n",
        "test_tweet_a = test_tweet_a.merge(test_label_a, on='id')\n",
        "#test_tweet_b = test_tweet_b.merge(test_label_b, on='id')\n",
        "#test_tweet_c = test_tweet_c.merge(test_label_c, on='id')\n",
        "\n",
        "#Drop id column\n",
        "test_tweet_a = test_tweet_a.drop(columns='id')\n",
        "#test_tweet_b = test_tweet_b.drop(columns='id')\n",
        "#test_tweet_c = test_tweet_c.drop(columns='id')\n",
        "\n",
        "#Clean tweets in test sets\n",
        "clean_tweets(test_tweet_a)\n",
        "#clean_tweets(test_tweet_b)\n",
        "#clean_tweets(test_tweet_c)\n",
        "\n",
        "#Apply quotes to cleaned tweets\n",
        "test_tweet_a.update(test_tweet_a[['tweet']].applymap('\\'{}\\''.format))\n",
        "#test_tweet_b.update(test_tweet_b[['tweet']].applymap('\\'{}\\''.format))\n",
        "#test_tweet_c.update(test_tweet_c[['tweet']].applymap('\\'{}\\''.format))\n",
        "\n",
        "test_tweet_a.head()"
      ]
    },
    {
      "cell_type": "code",
      "execution_count": null,
      "metadata": {
        "id": "M-yoBD1YlN4O"
      },
      "outputs": [],
      "source": []
    },
    {
      "cell_type": "markdown",
      "metadata": {
        "id": "GlV1RGIGl7vm"
      },
      "source": [
        "# Task A"
      ]
    },
    {
      "cell_type": "code",
      "execution_count": 16,
      "metadata": {
        "id": "SW8tg9-nlN64"
      },
      "outputs": [],
      "source": [
        "# Creating labelEncoder\n",
        "encoder = LabelEncoder()\n",
        "# Converting string labels into numbers.\n",
        "train_task_a_data[\"class_a_code\"] = encoder.fit_transform(train_task_a_data[\"class_a\"])\n",
        "test_tweet_a[\"class_a_code\"] = encoder.fit_transform(test_tweet_a[\"class_a\"])"
      ]
    },
    {
      "cell_type": "code",
      "execution_count": 17,
      "metadata": {
        "colab": {
          "base_uri": "https://localhost:8080/"
        },
        "id": "Y4tudMqNlOAF",
        "outputId": "e088282a-ea85-4c78-f092-c357bf01b52c"
      },
      "outputs": [
        {
          "output_type": "execute_result",
          "data": {
            "text/plain": [
              "array([('OFF', 1), ('NOT', 0)], dtype=object)"
            ]
          },
          "metadata": {},
          "execution_count": 17
        }
      ],
      "source": [
        "#Create tuple pair for class and class code\n",
        "train_task_a_data['class-tuple'] = train_task_a_data[['class_a', 'class_a_code']].apply(tuple, axis=1)\n",
        "class_a = train_task_a_data['class-tuple'].unique()\n",
        "class_a"
      ]
    },
    {
      "cell_type": "code",
      "execution_count": 18,
      "metadata": {
        "colab": {
          "base_uri": "https://localhost:8080/"
        },
        "id": "cqSZJHMqmA95",
        "outputId": "19f2f396-7447-4764-d924-166f5520d88d"
      },
      "outputs": [
        {
          "output_type": "stream",
          "name": "stdout",
          "text": [
            "Shape of train_tweet is (13240,) and shape of train_label is (13240,)\n",
            "Shape of test_tweet is (860,) and shape of test_label is (860,)\n"
          ]
        }
      ],
      "source": [
        "# Label the Data\n",
        "\n",
        "train_tweets = train_task_a_data['tweet']\n",
        "train_labels = train_task_a_data['class_a_code']\n",
        "\n",
        "X_test = test_tweet_a['tweet']\n",
        "y_test = test_tweet_a['class_a_code']\n",
        "\n",
        "\n",
        "print(\"Shape of train_tweet is {} and shape of train_label is {}\".format(train_tweets.shape, train_labels.shape))\n",
        "print(\"Shape of test_tweet is {} and shape of test_label is {}\".format(X_test.shape, y_test.shape))"
      ]
    },
    {
      "cell_type": "code",
      "execution_count": 19,
      "metadata": {
        "colab": {
          "base_uri": "https://localhost:8080/"
        },
        "id": "sVct0MmPmBAP",
        "outputId": "15c3dcde-6ca5-443c-d63d-7bfcbe357896"
      },
      "outputs": [
        {
          "output_type": "stream",
          "name": "stdout",
          "text": [
            "Shape of test_tweets is (9268,) and shape of test_labels is (9268,)\n"
          ]
        }
      ],
      "source": [
        "X_train,X_val,y_train,y_val = train_test_split(train_tweets,train_labels,test_size=0.30,random_state=42)\n",
        "\n",
        "\n",
        "print(\"Shape of test_tweets is {} and shape of test_labels is {}\".format(X_train.shape, y_train.shape))"
      ]
    },
    {
      "cell_type": "code",
      "execution_count": 20,
      "metadata": {
        "colab": {
          "base_uri": "https://localhost:8080/"
        },
        "id": "ScTsfdD4dTBI",
        "outputId": "ba0c60d1-02a6-45a0-9721-200f729e5c68"
      },
      "outputs": [
        {
          "output_type": "execute_result",
          "data": {
            "text/plain": [
              "2804               '  truly anything to avoid gun control'\n",
              "13084    ' its not wrongfully characterizing its the fu...\n",
              "2211     '  they need to add more gun control laws and ...\n",
              "11154    'boom  maybe that book deal isnt such a good i...\n",
              "10620    ' unfirtunately i have seen hispanics justifyi...\n",
              "                               ...                        \n",
              "11964    ' isnt there a statute of limitations on sexua...\n",
              "5191             '  he is probably dying due to dog fumes'\n",
              "5390                                  '  you are so right'\n",
              "860           ' sams act is working i swear she is acting'\n",
              "7270                                     '  chuckle heads'\n",
              "Name: tweet, Length: 9268, dtype: object"
            ]
          },
          "metadata": {},
          "execution_count": 20
        }
      ],
      "source": [
        "X_train"
      ]
    },
    {
      "cell_type": "code",
      "execution_count": 21,
      "metadata": {
        "colab": {
          "base_uri": "https://localhost:8080/"
        },
        "id": "avexXbYXdh57",
        "outputId": "4b487364-4237-4619-df75-7389e23a710e"
      },
      "outputs": [
        {
          "output_type": "execute_result",
          "data": {
            "text/plain": [
              "2804     0\n",
              "13084    1\n",
              "2211     0\n",
              "11154    0\n",
              "10620    1\n",
              "        ..\n",
              "11964    0\n",
              "5191     0\n",
              "5390     0\n",
              "860      0\n",
              "7270     0\n",
              "Name: class_a_code, Length: 9268, dtype: int64"
            ]
          },
          "metadata": {},
          "execution_count": 21
        }
      ],
      "source": [
        "y_train"
      ]
    },
    {
      "cell_type": "code",
      "execution_count": 22,
      "metadata": {
        "colab": {
          "base_uri": "https://localhost:8080/",
          "height": 424
        },
        "id": "MvF-1jp_wWat",
        "outputId": "7fba4cba-42bf-490e-c866-3a0616a98f15"
      },
      "outputs": [
        {
          "output_type": "execute_result",
          "data": {
            "text/plain": [
              "                                                 tweet class_a  class_a_code\n",
              "0    'whoisq wherestheserver dumpnike declasfisa de...     OFF             1\n",
              "1    'constitutionday is revered by conservatives h...     NOT             0\n",
              "2    'foxnews nra maga potus trump ndamendment rnc ...     NOT             0\n",
              "3    'watching boomer getting the news that she is ...     NOT             0\n",
              "4    'nopasaran unity demo to oppose the farright i...     OFF             1\n",
              "..                                                 ...     ...           ...\n",
              "855  'despicabledems lie again about rifles dem dis...     OFF             1\n",
              "856  'meetthespeakers   will present in our event o...     NOT             0\n",
              "857  ' people just unfollowed me for talking about ...     OFF             1\n",
              "858  'wednesdaywisdom antifa calls the right fascis...     NOT             0\n",
              "859           'kavanaugh typical liberals  democrats '     NOT             0\n",
              "\n",
              "[860 rows x 3 columns]"
            ],
            "text/html": [
              "\n",
              "  <div id=\"df-f9e8d5f6-92bf-42cf-9c46-cc2c2e93420b\" class=\"colab-df-container\">\n",
              "    <div>\n",
              "<style scoped>\n",
              "    .dataframe tbody tr th:only-of-type {\n",
              "        vertical-align: middle;\n",
              "    }\n",
              "\n",
              "    .dataframe tbody tr th {\n",
              "        vertical-align: top;\n",
              "    }\n",
              "\n",
              "    .dataframe thead th {\n",
              "        text-align: right;\n",
              "    }\n",
              "</style>\n",
              "<table border=\"1\" class=\"dataframe\">\n",
              "  <thead>\n",
              "    <tr style=\"text-align: right;\">\n",
              "      <th></th>\n",
              "      <th>tweet</th>\n",
              "      <th>class_a</th>\n",
              "      <th>class_a_code</th>\n",
              "    </tr>\n",
              "  </thead>\n",
              "  <tbody>\n",
              "    <tr>\n",
              "      <th>0</th>\n",
              "      <td>'whoisq wherestheserver dumpnike declasfisa de...</td>\n",
              "      <td>OFF</td>\n",
              "      <td>1</td>\n",
              "    </tr>\n",
              "    <tr>\n",
              "      <th>1</th>\n",
              "      <td>'constitutionday is revered by conservatives h...</td>\n",
              "      <td>NOT</td>\n",
              "      <td>0</td>\n",
              "    </tr>\n",
              "    <tr>\n",
              "      <th>2</th>\n",
              "      <td>'foxnews nra maga potus trump ndamendment rnc ...</td>\n",
              "      <td>NOT</td>\n",
              "      <td>0</td>\n",
              "    </tr>\n",
              "    <tr>\n",
              "      <th>3</th>\n",
              "      <td>'watching boomer getting the news that she is ...</td>\n",
              "      <td>NOT</td>\n",
              "      <td>0</td>\n",
              "    </tr>\n",
              "    <tr>\n",
              "      <th>4</th>\n",
              "      <td>'nopasaran unity demo to oppose the farright i...</td>\n",
              "      <td>OFF</td>\n",
              "      <td>1</td>\n",
              "    </tr>\n",
              "    <tr>\n",
              "      <th>...</th>\n",
              "      <td>...</td>\n",
              "      <td>...</td>\n",
              "      <td>...</td>\n",
              "    </tr>\n",
              "    <tr>\n",
              "      <th>855</th>\n",
              "      <td>'despicabledems lie again about rifles dem dis...</td>\n",
              "      <td>OFF</td>\n",
              "      <td>1</td>\n",
              "    </tr>\n",
              "    <tr>\n",
              "      <th>856</th>\n",
              "      <td>'meetthespeakers   will present in our event o...</td>\n",
              "      <td>NOT</td>\n",
              "      <td>0</td>\n",
              "    </tr>\n",
              "    <tr>\n",
              "      <th>857</th>\n",
              "      <td>' people just unfollowed me for talking about ...</td>\n",
              "      <td>OFF</td>\n",
              "      <td>1</td>\n",
              "    </tr>\n",
              "    <tr>\n",
              "      <th>858</th>\n",
              "      <td>'wednesdaywisdom antifa calls the right fascis...</td>\n",
              "      <td>NOT</td>\n",
              "      <td>0</td>\n",
              "    </tr>\n",
              "    <tr>\n",
              "      <th>859</th>\n",
              "      <td>'kavanaugh typical liberals  democrats '</td>\n",
              "      <td>NOT</td>\n",
              "      <td>0</td>\n",
              "    </tr>\n",
              "  </tbody>\n",
              "</table>\n",
              "<p>860 rows × 3 columns</p>\n",
              "</div>\n",
              "    <div class=\"colab-df-buttons\">\n",
              "\n",
              "  <div class=\"colab-df-container\">\n",
              "    <button class=\"colab-df-convert\" onclick=\"convertToInteractive('df-f9e8d5f6-92bf-42cf-9c46-cc2c2e93420b')\"\n",
              "            title=\"Convert this dataframe to an interactive table.\"\n",
              "            style=\"display:none;\">\n",
              "\n",
              "  <svg xmlns=\"http://www.w3.org/2000/svg\" height=\"24px\" viewBox=\"0 -960 960 960\">\n",
              "    <path d=\"M120-120v-720h720v720H120Zm60-500h600v-160H180v160Zm220 220h160v-160H400v160Zm0 220h160v-160H400v160ZM180-400h160v-160H180v160Zm440 0h160v-160H620v160ZM180-180h160v-160H180v160Zm440 0h160v-160H620v160Z\"/>\n",
              "  </svg>\n",
              "    </button>\n",
              "\n",
              "  <style>\n",
              "    .colab-df-container {\n",
              "      display:flex;\n",
              "      gap: 12px;\n",
              "    }\n",
              "\n",
              "    .colab-df-convert {\n",
              "      background-color: #E8F0FE;\n",
              "      border: none;\n",
              "      border-radius: 50%;\n",
              "      cursor: pointer;\n",
              "      display: none;\n",
              "      fill: #1967D2;\n",
              "      height: 32px;\n",
              "      padding: 0 0 0 0;\n",
              "      width: 32px;\n",
              "    }\n",
              "\n",
              "    .colab-df-convert:hover {\n",
              "      background-color: #E2EBFA;\n",
              "      box-shadow: 0px 1px 2px rgba(60, 64, 67, 0.3), 0px 1px 3px 1px rgba(60, 64, 67, 0.15);\n",
              "      fill: #174EA6;\n",
              "    }\n",
              "\n",
              "    .colab-df-buttons div {\n",
              "      margin-bottom: 4px;\n",
              "    }\n",
              "\n",
              "    [theme=dark] .colab-df-convert {\n",
              "      background-color: #3B4455;\n",
              "      fill: #D2E3FC;\n",
              "    }\n",
              "\n",
              "    [theme=dark] .colab-df-convert:hover {\n",
              "      background-color: #434B5C;\n",
              "      box-shadow: 0px 1px 3px 1px rgba(0, 0, 0, 0.15);\n",
              "      filter: drop-shadow(0px 1px 2px rgba(0, 0, 0, 0.3));\n",
              "      fill: #FFFFFF;\n",
              "    }\n",
              "  </style>\n",
              "\n",
              "    <script>\n",
              "      const buttonEl =\n",
              "        document.querySelector('#df-f9e8d5f6-92bf-42cf-9c46-cc2c2e93420b button.colab-df-convert');\n",
              "      buttonEl.style.display =\n",
              "        google.colab.kernel.accessAllowed ? 'block' : 'none';\n",
              "\n",
              "      async function convertToInteractive(key) {\n",
              "        const element = document.querySelector('#df-f9e8d5f6-92bf-42cf-9c46-cc2c2e93420b');\n",
              "        const dataTable =\n",
              "          await google.colab.kernel.invokeFunction('convertToInteractive',\n",
              "                                                    [key], {});\n",
              "        if (!dataTable) return;\n",
              "\n",
              "        const docLinkHtml = 'Like what you see? Visit the ' +\n",
              "          '<a target=\"_blank\" href=https://colab.research.google.com/notebooks/data_table.ipynb>data table notebook</a>'\n",
              "          + ' to learn more about interactive tables.';\n",
              "        element.innerHTML = '';\n",
              "        dataTable['output_type'] = 'display_data';\n",
              "        await google.colab.output.renderOutput(dataTable, element);\n",
              "        const docLink = document.createElement('div');\n",
              "        docLink.innerHTML = docLinkHtml;\n",
              "        element.appendChild(docLink);\n",
              "      }\n",
              "    </script>\n",
              "  </div>\n",
              "\n",
              "\n",
              "<div id=\"df-35e91e3f-7c08-4182-8e99-2c715434f35c\">\n",
              "  <button class=\"colab-df-quickchart\" onclick=\"quickchart('df-35e91e3f-7c08-4182-8e99-2c715434f35c')\"\n",
              "            title=\"Suggest charts.\"\n",
              "            style=\"display:none;\">\n",
              "\n",
              "<svg xmlns=\"http://www.w3.org/2000/svg\" height=\"24px\"viewBox=\"0 0 24 24\"\n",
              "     width=\"24px\">\n",
              "    <g>\n",
              "        <path d=\"M19 3H5c-1.1 0-2 .9-2 2v14c0 1.1.9 2 2 2h14c1.1 0 2-.9 2-2V5c0-1.1-.9-2-2-2zM9 17H7v-7h2v7zm4 0h-2V7h2v10zm4 0h-2v-4h2v4z\"/>\n",
              "    </g>\n",
              "</svg>\n",
              "  </button>\n",
              "\n",
              "<style>\n",
              "  .colab-df-quickchart {\n",
              "    background-color: #E8F0FE;\n",
              "    border: none;\n",
              "    border-radius: 50%;\n",
              "    cursor: pointer;\n",
              "    display: none;\n",
              "    fill: #1967D2;\n",
              "    height: 32px;\n",
              "    padding: 0 0 0 0;\n",
              "    width: 32px;\n",
              "  }\n",
              "\n",
              "  .colab-df-quickchart:hover {\n",
              "    background-color: #E2EBFA;\n",
              "    box-shadow: 0px 1px 2px rgba(60, 64, 67, 0.3), 0px 1px 3px 1px rgba(60, 64, 67, 0.15);\n",
              "    fill: #174EA6;\n",
              "  }\n",
              "\n",
              "  [theme=dark] .colab-df-quickchart {\n",
              "    background-color: #3B4455;\n",
              "    fill: #D2E3FC;\n",
              "  }\n",
              "\n",
              "  [theme=dark] .colab-df-quickchart:hover {\n",
              "    background-color: #434B5C;\n",
              "    box-shadow: 0px 1px 3px 1px rgba(0, 0, 0, 0.15);\n",
              "    filter: drop-shadow(0px 1px 2px rgba(0, 0, 0, 0.3));\n",
              "    fill: #FFFFFF;\n",
              "  }\n",
              "</style>\n",
              "\n",
              "  <script>\n",
              "    async function quickchart(key) {\n",
              "      const charts = await google.colab.kernel.invokeFunction(\n",
              "          'suggestCharts', [key], {});\n",
              "    }\n",
              "    (() => {\n",
              "      let quickchartButtonEl =\n",
              "        document.querySelector('#df-35e91e3f-7c08-4182-8e99-2c715434f35c button');\n",
              "      quickchartButtonEl.style.display =\n",
              "        google.colab.kernel.accessAllowed ? 'block' : 'none';\n",
              "    })();\n",
              "  </script>\n",
              "</div>\n",
              "    </div>\n",
              "  </div>\n"
            ]
          },
          "metadata": {},
          "execution_count": 22
        }
      ],
      "source": [
        "test_tweet_a"
      ]
    },
    {
      "cell_type": "code",
      "execution_count": 23,
      "metadata": {
        "colab": {
          "base_uri": "https://localhost:8080/"
        },
        "id": "6Da0D1LvwWau",
        "outputId": "31035e16-64b7-4ebb-a0a6-62255cbf3050"
      },
      "outputs": [
        {
          "output_type": "execute_result",
          "data": {
            "text/plain": [
              "0      'whoisq wherestheserver dumpnike declasfisa de...\n",
              "1      'constitutionday is revered by conservatives h...\n",
              "2      'foxnews nra maga potus trump ndamendment rnc ...\n",
              "3      'watching boomer getting the news that she is ...\n",
              "4      'nopasaran unity demo to oppose the farright i...\n",
              "                             ...                        \n",
              "855    'despicabledems lie again about rifles dem dis...\n",
              "856    'meetthespeakers   will present in our event o...\n",
              "857    ' people just unfollowed me for talking about ...\n",
              "858    'wednesdaywisdom antifa calls the right fascis...\n",
              "859             'kavanaugh typical liberals  democrats '\n",
              "Name: tweet, Length: 860, dtype: object"
            ]
          },
          "metadata": {},
          "execution_count": 23
        }
      ],
      "source": [
        "X_test"
      ]
    },
    {
      "cell_type": "code",
      "execution_count": 24,
      "metadata": {
        "colab": {
          "base_uri": "https://localhost:8080/"
        },
        "id": "H1AibeqpwWau",
        "outputId": "b9d4bfe8-1727-4f86-920d-b863dd0a4b59"
      },
      "outputs": [
        {
          "output_type": "execute_result",
          "data": {
            "text/plain": [
              "0      1\n",
              "1      0\n",
              "2      0\n",
              "3      0\n",
              "4      1\n",
              "      ..\n",
              "855    1\n",
              "856    0\n",
              "857    1\n",
              "858    0\n",
              "859    0\n",
              "Name: class_a_code, Length: 860, dtype: int64"
            ]
          },
          "metadata": {},
          "execution_count": 24
        }
      ],
      "source": [
        "y_test"
      ]
    },
    {
      "cell_type": "code",
      "execution_count": 25,
      "metadata": {
        "id": "83td0fZHwWau"
      },
      "outputs": [],
      "source": [
        "random_0_rows = test_tweet_a[test_tweet_a['class_a_code'] == 0].sample(n=100, random_state=42)\n",
        "\n",
        "# Select random 50 rows with class_a_code equal to 1\n",
        "random_1_rows = test_tweet_a[test_tweet_a['class_a_code'] == 1].sample(n=50, random_state=42)\n",
        "\n",
        "# Concatenate the two DataFrames\n",
        "test_tweet_a_150 = pd.concat([random_0_rows, random_1_rows])"
      ]
    },
    {
      "cell_type": "code",
      "execution_count": 26,
      "metadata": {
        "id": "QRI30W5XwWau"
      },
      "outputs": [],
      "source": [
        "test_tweet_a_150= test_tweet_a_150.sample(frac=1, random_state=42).reset_index(drop=True)"
      ]
    },
    {
      "cell_type": "code",
      "execution_count": 27,
      "metadata": {
        "colab": {
          "base_uri": "https://localhost:8080/",
          "height": 424
        },
        "id": "WLB69-RcwWau",
        "outputId": "4e71d85a-1408-4464-88bd-32fe726d3d58"
      },
      "outputs": [
        {
          "output_type": "execute_result",
          "data": {
            "text/plain": [
              "                                                 tweet class_a  class_a_code\n",
              "0    'aurora il kanecty please keep looking for and...     NOT             0\n",
              "1      '     same here i cant hear what she is saying'     NOT             0\n",
              "2    'geoffreyowens niggas dont really understandle...     OFF             1\n",
              "3    'trump may be many things but he is entertaini...     NOT             0\n",
              "4    'kamalaharris may run for president in  but wi...     NOT             0\n",
              "..                                                 ...     ...           ...\n",
              "145  'conservatives you cannot ride this one outvot...     NOT             0\n",
              "146  '    beats the hell nj out of me lol dude alre...     OFF             1\n",
              "147  'watching boomer getting the news that she is ...     NOT             0\n",
              "148  'brexit is dead not because the other eu state...     NOT             0\n",
              "149  'christian america  if we go by trumps example...     OFF             1\n",
              "\n",
              "[150 rows x 3 columns]"
            ],
            "text/html": [
              "\n",
              "  <div id=\"df-df2567d7-d50d-416b-805c-13bb0e2cdef6\" class=\"colab-df-container\">\n",
              "    <div>\n",
              "<style scoped>\n",
              "    .dataframe tbody tr th:only-of-type {\n",
              "        vertical-align: middle;\n",
              "    }\n",
              "\n",
              "    .dataframe tbody tr th {\n",
              "        vertical-align: top;\n",
              "    }\n",
              "\n",
              "    .dataframe thead th {\n",
              "        text-align: right;\n",
              "    }\n",
              "</style>\n",
              "<table border=\"1\" class=\"dataframe\">\n",
              "  <thead>\n",
              "    <tr style=\"text-align: right;\">\n",
              "      <th></th>\n",
              "      <th>tweet</th>\n",
              "      <th>class_a</th>\n",
              "      <th>class_a_code</th>\n",
              "    </tr>\n",
              "  </thead>\n",
              "  <tbody>\n",
              "    <tr>\n",
              "      <th>0</th>\n",
              "      <td>'aurora il kanecty please keep looking for and...</td>\n",
              "      <td>NOT</td>\n",
              "      <td>0</td>\n",
              "    </tr>\n",
              "    <tr>\n",
              "      <th>1</th>\n",
              "      <td>'     same here i cant hear what she is saying'</td>\n",
              "      <td>NOT</td>\n",
              "      <td>0</td>\n",
              "    </tr>\n",
              "    <tr>\n",
              "      <th>2</th>\n",
              "      <td>'geoffreyowens niggas dont really understandle...</td>\n",
              "      <td>OFF</td>\n",
              "      <td>1</td>\n",
              "    </tr>\n",
              "    <tr>\n",
              "      <th>3</th>\n",
              "      <td>'trump may be many things but he is entertaini...</td>\n",
              "      <td>NOT</td>\n",
              "      <td>0</td>\n",
              "    </tr>\n",
              "    <tr>\n",
              "      <th>4</th>\n",
              "      <td>'kamalaharris may run for president in  but wi...</td>\n",
              "      <td>NOT</td>\n",
              "      <td>0</td>\n",
              "    </tr>\n",
              "    <tr>\n",
              "      <th>...</th>\n",
              "      <td>...</td>\n",
              "      <td>...</td>\n",
              "      <td>...</td>\n",
              "    </tr>\n",
              "    <tr>\n",
              "      <th>145</th>\n",
              "      <td>'conservatives you cannot ride this one outvot...</td>\n",
              "      <td>NOT</td>\n",
              "      <td>0</td>\n",
              "    </tr>\n",
              "    <tr>\n",
              "      <th>146</th>\n",
              "      <td>'    beats the hell nj out of me lol dude alre...</td>\n",
              "      <td>OFF</td>\n",
              "      <td>1</td>\n",
              "    </tr>\n",
              "    <tr>\n",
              "      <th>147</th>\n",
              "      <td>'watching boomer getting the news that she is ...</td>\n",
              "      <td>NOT</td>\n",
              "      <td>0</td>\n",
              "    </tr>\n",
              "    <tr>\n",
              "      <th>148</th>\n",
              "      <td>'brexit is dead not because the other eu state...</td>\n",
              "      <td>NOT</td>\n",
              "      <td>0</td>\n",
              "    </tr>\n",
              "    <tr>\n",
              "      <th>149</th>\n",
              "      <td>'christian america  if we go by trumps example...</td>\n",
              "      <td>OFF</td>\n",
              "      <td>1</td>\n",
              "    </tr>\n",
              "  </tbody>\n",
              "</table>\n",
              "<p>150 rows × 3 columns</p>\n",
              "</div>\n",
              "    <div class=\"colab-df-buttons\">\n",
              "\n",
              "  <div class=\"colab-df-container\">\n",
              "    <button class=\"colab-df-convert\" onclick=\"convertToInteractive('df-df2567d7-d50d-416b-805c-13bb0e2cdef6')\"\n",
              "            title=\"Convert this dataframe to an interactive table.\"\n",
              "            style=\"display:none;\">\n",
              "\n",
              "  <svg xmlns=\"http://www.w3.org/2000/svg\" height=\"24px\" viewBox=\"0 -960 960 960\">\n",
              "    <path d=\"M120-120v-720h720v720H120Zm60-500h600v-160H180v160Zm220 220h160v-160H400v160Zm0 220h160v-160H400v160ZM180-400h160v-160H180v160Zm440 0h160v-160H620v160ZM180-180h160v-160H180v160Zm440 0h160v-160H620v160Z\"/>\n",
              "  </svg>\n",
              "    </button>\n",
              "\n",
              "  <style>\n",
              "    .colab-df-container {\n",
              "      display:flex;\n",
              "      gap: 12px;\n",
              "    }\n",
              "\n",
              "    .colab-df-convert {\n",
              "      background-color: #E8F0FE;\n",
              "      border: none;\n",
              "      border-radius: 50%;\n",
              "      cursor: pointer;\n",
              "      display: none;\n",
              "      fill: #1967D2;\n",
              "      height: 32px;\n",
              "      padding: 0 0 0 0;\n",
              "      width: 32px;\n",
              "    }\n",
              "\n",
              "    .colab-df-convert:hover {\n",
              "      background-color: #E2EBFA;\n",
              "      box-shadow: 0px 1px 2px rgba(60, 64, 67, 0.3), 0px 1px 3px 1px rgba(60, 64, 67, 0.15);\n",
              "      fill: #174EA6;\n",
              "    }\n",
              "\n",
              "    .colab-df-buttons div {\n",
              "      margin-bottom: 4px;\n",
              "    }\n",
              "\n",
              "    [theme=dark] .colab-df-convert {\n",
              "      background-color: #3B4455;\n",
              "      fill: #D2E3FC;\n",
              "    }\n",
              "\n",
              "    [theme=dark] .colab-df-convert:hover {\n",
              "      background-color: #434B5C;\n",
              "      box-shadow: 0px 1px 3px 1px rgba(0, 0, 0, 0.15);\n",
              "      filter: drop-shadow(0px 1px 2px rgba(0, 0, 0, 0.3));\n",
              "      fill: #FFFFFF;\n",
              "    }\n",
              "  </style>\n",
              "\n",
              "    <script>\n",
              "      const buttonEl =\n",
              "        document.querySelector('#df-df2567d7-d50d-416b-805c-13bb0e2cdef6 button.colab-df-convert');\n",
              "      buttonEl.style.display =\n",
              "        google.colab.kernel.accessAllowed ? 'block' : 'none';\n",
              "\n",
              "      async function convertToInteractive(key) {\n",
              "        const element = document.querySelector('#df-df2567d7-d50d-416b-805c-13bb0e2cdef6');\n",
              "        const dataTable =\n",
              "          await google.colab.kernel.invokeFunction('convertToInteractive',\n",
              "                                                    [key], {});\n",
              "        if (!dataTable) return;\n",
              "\n",
              "        const docLinkHtml = 'Like what you see? Visit the ' +\n",
              "          '<a target=\"_blank\" href=https://colab.research.google.com/notebooks/data_table.ipynb>data table notebook</a>'\n",
              "          + ' to learn more about interactive tables.';\n",
              "        element.innerHTML = '';\n",
              "        dataTable['output_type'] = 'display_data';\n",
              "        await google.colab.output.renderOutput(dataTable, element);\n",
              "        const docLink = document.createElement('div');\n",
              "        docLink.innerHTML = docLinkHtml;\n",
              "        element.appendChild(docLink);\n",
              "      }\n",
              "    </script>\n",
              "  </div>\n",
              "\n",
              "\n",
              "<div id=\"df-c27e4fa7-083c-4845-b3be-13bd8e8ae192\">\n",
              "  <button class=\"colab-df-quickchart\" onclick=\"quickchart('df-c27e4fa7-083c-4845-b3be-13bd8e8ae192')\"\n",
              "            title=\"Suggest charts.\"\n",
              "            style=\"display:none;\">\n",
              "\n",
              "<svg xmlns=\"http://www.w3.org/2000/svg\" height=\"24px\"viewBox=\"0 0 24 24\"\n",
              "     width=\"24px\">\n",
              "    <g>\n",
              "        <path d=\"M19 3H5c-1.1 0-2 .9-2 2v14c0 1.1.9 2 2 2h14c1.1 0 2-.9 2-2V5c0-1.1-.9-2-2-2zM9 17H7v-7h2v7zm4 0h-2V7h2v10zm4 0h-2v-4h2v4z\"/>\n",
              "    </g>\n",
              "</svg>\n",
              "  </button>\n",
              "\n",
              "<style>\n",
              "  .colab-df-quickchart {\n",
              "    background-color: #E8F0FE;\n",
              "    border: none;\n",
              "    border-radius: 50%;\n",
              "    cursor: pointer;\n",
              "    display: none;\n",
              "    fill: #1967D2;\n",
              "    height: 32px;\n",
              "    padding: 0 0 0 0;\n",
              "    width: 32px;\n",
              "  }\n",
              "\n",
              "  .colab-df-quickchart:hover {\n",
              "    background-color: #E2EBFA;\n",
              "    box-shadow: 0px 1px 2px rgba(60, 64, 67, 0.3), 0px 1px 3px 1px rgba(60, 64, 67, 0.15);\n",
              "    fill: #174EA6;\n",
              "  }\n",
              "\n",
              "  [theme=dark] .colab-df-quickchart {\n",
              "    background-color: #3B4455;\n",
              "    fill: #D2E3FC;\n",
              "  }\n",
              "\n",
              "  [theme=dark] .colab-df-quickchart:hover {\n",
              "    background-color: #434B5C;\n",
              "    box-shadow: 0px 1px 3px 1px rgba(0, 0, 0, 0.15);\n",
              "    filter: drop-shadow(0px 1px 2px rgba(0, 0, 0, 0.3));\n",
              "    fill: #FFFFFF;\n",
              "  }\n",
              "</style>\n",
              "\n",
              "  <script>\n",
              "    async function quickchart(key) {\n",
              "      const charts = await google.colab.kernel.invokeFunction(\n",
              "          'suggestCharts', [key], {});\n",
              "    }\n",
              "    (() => {\n",
              "      let quickchartButtonEl =\n",
              "        document.querySelector('#df-c27e4fa7-083c-4845-b3be-13bd8e8ae192 button');\n",
              "      quickchartButtonEl.style.display =\n",
              "        google.colab.kernel.accessAllowed ? 'block' : 'none';\n",
              "    })();\n",
              "  </script>\n",
              "</div>\n",
              "    </div>\n",
              "  </div>\n"
            ]
          },
          "metadata": {},
          "execution_count": 27
        }
      ],
      "source": [
        "test_tweet_a_150"
      ]
    },
    {
      "cell_type": "code",
      "execution_count": 28,
      "metadata": {
        "id": "KYJ7G5r1wWau"
      },
      "outputs": [],
      "source": [
        "X_test_150 = test_tweet_a_150['tweet']\n",
        "y_test_150 = test_tweet_a_150['class_a_code']"
      ]
    },
    {
      "cell_type": "code",
      "execution_count": null,
      "metadata": {
        "id": "Y-j9xKrZwWau"
      },
      "outputs": [],
      "source": []
    },
    {
      "cell_type": "code",
      "execution_count": 29,
      "metadata": {
        "colab": {
          "base_uri": "https://localhost:8080/"
        },
        "id": "-MvD0Gr_rJUV",
        "outputId": "517004cc-4381-4d80-9268-f01c22bbdfe6"
      },
      "outputs": [
        {
          "output_type": "stream",
          "name": "stdout",
          "text": [
            "Collecting transformers\n",
            "  Downloading transformers-4.32.0-py3-none-any.whl (7.5 MB)\n",
            "\u001b[2K     \u001b[90m━━━━━━━━━━━━━━━━━━━━━━━━━━━━━━━━━━━━━━━━\u001b[0m \u001b[32m7.5/7.5 MB\u001b[0m \u001b[31m21.3 MB/s\u001b[0m eta \u001b[36m0:00:00\u001b[0m\n",
            "\u001b[?25hRequirement already satisfied: filelock in /usr/local/lib/python3.10/dist-packages (from transformers) (3.12.2)\n",
            "Collecting huggingface-hub<1.0,>=0.15.1 (from transformers)\n",
            "  Downloading huggingface_hub-0.16.4-py3-none-any.whl (268 kB)\n",
            "\u001b[2K     \u001b[90m━━━━━━━━━━━━━━━━━━━━━━━━━━━━━━━━━━━━━━\u001b[0m \u001b[32m268.8/268.8 kB\u001b[0m \u001b[31m35.4 MB/s\u001b[0m eta \u001b[36m0:00:00\u001b[0m\n",
            "\u001b[?25hRequirement already satisfied: numpy>=1.17 in /usr/local/lib/python3.10/dist-packages (from transformers) (1.23.5)\n",
            "Requirement already satisfied: packaging>=20.0 in /usr/local/lib/python3.10/dist-packages (from transformers) (23.1)\n",
            "Requirement already satisfied: pyyaml>=5.1 in /usr/local/lib/python3.10/dist-packages (from transformers) (6.0.1)\n",
            "Requirement already satisfied: regex!=2019.12.17 in /usr/local/lib/python3.10/dist-packages (from transformers) (2023.6.3)\n",
            "Requirement already satisfied: requests in /usr/local/lib/python3.10/dist-packages (from transformers) (2.31.0)\n",
            "Collecting tokenizers!=0.11.3,<0.14,>=0.11.1 (from transformers)\n",
            "  Downloading tokenizers-0.13.3-cp310-cp310-manylinux_2_17_x86_64.manylinux2014_x86_64.whl (7.8 MB)\n",
            "\u001b[2K     \u001b[90m━━━━━━━━━━━━━━━━━━━━━━━━━━━━━━━━━━━━━━━━\u001b[0m \u001b[32m7.8/7.8 MB\u001b[0m \u001b[31m57.4 MB/s\u001b[0m eta \u001b[36m0:00:00\u001b[0m\n",
            "\u001b[?25hCollecting safetensors>=0.3.1 (from transformers)\n",
            "  Downloading safetensors-0.3.3-cp310-cp310-manylinux_2_17_x86_64.manylinux2014_x86_64.whl (1.3 MB)\n",
            "\u001b[2K     \u001b[90m━━━━━━━━━━━━━━━━━━━━━━━━━━━━━━━━━━━━━━━━\u001b[0m \u001b[32m1.3/1.3 MB\u001b[0m \u001b[31m60.6 MB/s\u001b[0m eta \u001b[36m0:00:00\u001b[0m\n",
            "\u001b[?25hRequirement already satisfied: tqdm>=4.27 in /usr/local/lib/python3.10/dist-packages (from transformers) (4.66.1)\n",
            "Requirement already satisfied: fsspec in /usr/local/lib/python3.10/dist-packages (from huggingface-hub<1.0,>=0.15.1->transformers) (2023.6.0)\n",
            "Requirement already satisfied: typing-extensions>=3.7.4.3 in /usr/local/lib/python3.10/dist-packages (from huggingface-hub<1.0,>=0.15.1->transformers) (4.7.1)\n",
            "Requirement already satisfied: charset-normalizer<4,>=2 in /usr/local/lib/python3.10/dist-packages (from requests->transformers) (3.2.0)\n",
            "Requirement already satisfied: idna<4,>=2.5 in /usr/local/lib/python3.10/dist-packages (from requests->transformers) (3.4)\n",
            "Requirement already satisfied: urllib3<3,>=1.21.1 in /usr/local/lib/python3.10/dist-packages (from requests->transformers) (2.0.4)\n",
            "Requirement already satisfied: certifi>=2017.4.17 in /usr/local/lib/python3.10/dist-packages (from requests->transformers) (2023.7.22)\n",
            "Installing collected packages: tokenizers, safetensors, huggingface-hub, transformers\n",
            "Successfully installed huggingface-hub-0.16.4 safetensors-0.3.3 tokenizers-0.13.3 transformers-4.32.0\n"
          ]
        }
      ],
      "source": [
        "!pip install transformers\n"
      ]
    },
    {
      "cell_type": "code",
      "execution_count": 30,
      "metadata": {
        "id": "wUVHxeCimbjo",
        "colab": {
          "base_uri": "https://localhost:8080/",
          "height": 145,
          "referenced_widgets": [
            "1a641bc98fa7430e95420233f6af60da",
            "8265f75a9b97450c9a4a935c2490debc",
            "2bc383c7b1054a418a5949939f124b70",
            "398c18473cb54a9ea04f573a0f55c9cc",
            "0fd87f7515fb4d4190004bbb92263ca1",
            "11433a6f0efb4ecdab3b0cb182c0748d",
            "dc9a6f41ce624b869094d1a7b0f92f4e",
            "7014b46b6c2945f2a117c6290b764f74",
            "54ab47ed323c45599c907f45717fff29",
            "5de1838c03b1400692f844b701eeb5b4",
            "18747ac9367e40a6a7df75e3e8467855",
            "65f9ebba0fe84999a98979fc03a09d13",
            "488dc10984874f2da4dad052ad61efbc",
            "5100a44667544f22bef8f06500bfab47",
            "38c7742ca953407a9abbb9ec9813304f",
            "c905fe1bac4941dfabcc0c71d9b1aca3",
            "e55fd6d08fba49958085130b370d016d",
            "8489b0ed6c544e6883c837eeca6150f5",
            "e6c2d9bfa36e4cf7aecc6d2207fd97a3",
            "4482d9c4da224461920741d916c7e689",
            "9068ac6e3362433a93eccbe70de4ccd7",
            "69de7bdd61ab4c2d9d072aef3490bd00",
            "80a4145fd96d4e83845092c649d58bd6",
            "457fde3410ad4a9d960b65719d1f6032",
            "d50e02e5c3ff46d98e5567e5887f7f82",
            "500cbd9dfa504f0196370430cf54cd29",
            "42447df079da49429601c65557dd7681",
            "ecdf601fdd404f068da8c7172d19d5c8",
            "f51079cf1d794902aa2bba8db2541386",
            "2aef2e9915d1433b95c40d7e9d435905",
            "0d6fb04e7e364958bf269fa7e54ee097",
            "0ab85d23dd7b4418863d2ef5440fef9e",
            "76380c9b0b854dd6882c2b242544908e",
            "f74109a7cbf2402f9346a2c252b2d48b",
            "9d3abb0e86fb4f55bc820a86c5eb462f",
            "7515bd9b3dcc4263b7475a673e92b9e2",
            "e427b0b8e1a74ad5942abff721dc97bc",
            "598f3d685ae34cb7bf91f613b4c679aa",
            "10a4f3801c464dc7829b96f39a35c672",
            "069bda2f46b84169b76fb2a52a69ae0b",
            "fa6ed5eef9974b3dabc09797efb56b3e",
            "2d81d2715954423998495cea8de98e4c",
            "ff055ebc729b416a919009e5e626427a",
            "3d818416da6d40c7b51919dacfdd414b"
          ]
        },
        "outputId": "698cbb80-dfbb-4700-f5cd-6eaa406c0530"
      },
      "outputs": [
        {
          "output_type": "display_data",
          "data": {
            "text/plain": [
              "Downloading (…)okenizer_config.json:   0%|          | 0.00/28.0 [00:00<?, ?B/s]"
            ],
            "application/vnd.jupyter.widget-view+json": {
              "version_major": 2,
              "version_minor": 0,
              "model_id": "1a641bc98fa7430e95420233f6af60da"
            }
          },
          "metadata": {}
        },
        {
          "output_type": "display_data",
          "data": {
            "text/plain": [
              "Downloading (…)solve/main/vocab.txt:   0%|          | 0.00/232k [00:00<?, ?B/s]"
            ],
            "application/vnd.jupyter.widget-view+json": {
              "version_major": 2,
              "version_minor": 0,
              "model_id": "65f9ebba0fe84999a98979fc03a09d13"
            }
          },
          "metadata": {}
        },
        {
          "output_type": "display_data",
          "data": {
            "text/plain": [
              "Downloading (…)/main/tokenizer.json:   0%|          | 0.00/466k [00:00<?, ?B/s]"
            ],
            "application/vnd.jupyter.widget-view+json": {
              "version_major": 2,
              "version_minor": 0,
              "model_id": "80a4145fd96d4e83845092c649d58bd6"
            }
          },
          "metadata": {}
        },
        {
          "output_type": "display_data",
          "data": {
            "text/plain": [
              "Downloading (…)lve/main/config.json:   0%|          | 0.00/570 [00:00<?, ?B/s]"
            ],
            "application/vnd.jupyter.widget-view+json": {
              "version_major": 2,
              "version_minor": 0,
              "model_id": "f74109a7cbf2402f9346a2c252b2d48b"
            }
          },
          "metadata": {}
        }
      ],
      "source": [
        "from transformers import BertTokenizerFast, TFBertForSequenceClassification\n",
        "from transformers import glue_convert_examples_to_features\n",
        "\n",
        "import tensorflow as tf\n",
        "\n",
        "# Use the same tokenizer\n",
        "tokenizer = BertTokenizerFast.from_pretrained('bert-base-uncased')\n",
        "\n",
        "# Encode Labels\n",
        "encoder = LabelEncoder()\n",
        "train_labels = encoder.fit_transform(y_train)\n",
        "val_labels = encoder.transform(y_val)\n",
        "test_labels = encoder.transform(y_test)\n",
        "\n",
        "# Tokenize and align labels with the tokenized inputs\n",
        "train_encodings = tokenizer(list(X_train), truncation=True, padding=True, max_length=256)\n",
        "val_encodings = tokenizer(list(X_val), truncation=True, padding=True, max_length=256)\n",
        "test_encodings = tokenizer(list(X_test), truncation=True, padding=True, max_length=256)\n",
        "\n"
      ]
    },
    {
      "cell_type": "code",
      "execution_count": 31,
      "metadata": {
        "colab": {
          "base_uri": "https://localhost:8080/"
        },
        "id": "e41v1h8FwWau",
        "outputId": "79d3f0b8-ffb0-45d6-c4e2-b430390a6ef8"
      },
      "outputs": [
        {
          "output_type": "execute_result",
          "data": {
            "text/plain": [
              "0      1\n",
              "1      0\n",
              "2      0\n",
              "3      0\n",
              "4      1\n",
              "      ..\n",
              "855    1\n",
              "856    0\n",
              "857    1\n",
              "858    0\n",
              "859    0\n",
              "Name: class_a_code, Length: 860, dtype: int64"
            ]
          },
          "metadata": {},
          "execution_count": 31
        }
      ],
      "source": [
        "y_test"
      ]
    },
    {
      "cell_type": "code",
      "execution_count": 32,
      "metadata": {
        "colab": {
          "base_uri": "https://localhost:8080/"
        },
        "id": "9TRL7gpcwWau",
        "outputId": "d8983c4d-1e60-43a7-c0e3-1a1eff2388f3"
      },
      "outputs": [
        {
          "output_type": "execute_result",
          "data": {
            "text/plain": [
              "array([1, 0, 0, 0, 1, 1, 0, 1, 0, 0, 0, 0, 0, 0, 1, 1, 0, 0, 0, 0, 0, 0,\n",
              "       0, 0, 0, 0, 0, 1, 0, 1, 1, 0, 0, 0, 0, 0, 0, 0, 1, 1, 1, 0, 0, 1,\n",
              "       0, 0, 0, 1, 1, 0, 0, 1, 0, 0, 0, 0, 0, 0, 0, 1, 0, 1, 0, 1, 1, 0,\n",
              "       0, 0, 0, 0, 1, 0, 1, 0, 0, 0, 0, 1, 0, 0, 1, 1, 0, 0, 0, 1, 0, 1,\n",
              "       1, 0, 0, 0, 0, 0, 0, 0, 0, 0, 1, 1, 1, 0, 0, 0, 0, 0, 0, 1, 1, 0,\n",
              "       1, 0, 0, 0, 0, 1, 0, 0, 0, 0, 0, 0, 0, 0, 0, 0, 0, 0, 0, 1, 1, 0,\n",
              "       0, 0, 0, 1, 1, 0, 1, 0, 1, 0, 1, 1, 0, 0, 0, 1, 0, 0, 0, 0, 1, 1,\n",
              "       1, 0, 1, 0, 0, 0, 1, 0, 0, 0, 1, 0, 0, 0, 1, 0, 0, 0, 0, 1, 0, 1,\n",
              "       0, 1, 0, 0, 1, 0, 1, 0, 0, 1, 1, 0, 0, 1, 0, 0, 0, 0, 0, 0, 1, 0,\n",
              "       0, 0, 0, 1, 1, 1, 0, 0, 0, 1, 0, 0, 0, 0, 1, 0, 0, 1, 1, 0, 0, 0,\n",
              "       0, 1, 1, 0, 0, 0, 0, 0, 1, 1, 0, 0, 0, 1, 0, 0, 0, 0, 0, 0, 0, 1,\n",
              "       0, 1, 0, 0, 0, 1, 0, 1, 0, 0, 0, 0, 0, 0, 0, 0, 1, 1, 1, 0, 1, 0,\n",
              "       1, 1, 0, 0, 0, 0, 0, 0, 0, 0, 1, 1, 0, 1, 0, 1, 0, 1, 1, 0, 0, 0,\n",
              "       0, 0, 0, 0, 0, 0, 0, 0, 0, 0, 0, 1, 0, 0, 0, 0, 0, 0, 0, 0, 0, 1,\n",
              "       1, 1, 1, 0, 1, 1, 1, 1, 0, 0, 0, 0, 0, 0, 0, 1, 1, 0, 1, 0, 0, 0,\n",
              "       0, 1, 0, 1, 1, 1, 0, 0, 0, 1, 0, 0, 0, 0, 0, 0, 0, 1, 0, 0, 0, 1,\n",
              "       1, 0, 0, 0, 0, 1, 0, 0, 0, 0, 1, 0, 0, 0, 0, 0, 0, 1, 1, 1, 1, 0,\n",
              "       0, 0, 1, 1, 0, 0, 0, 0, 1, 0, 0, 0, 0, 0, 0, 1, 0, 0, 0, 0, 0, 0,\n",
              "       0, 0, 0, 0, 1, 0, 0, 1, 0, 0, 1, 0, 1, 0, 0, 0, 0, 1, 1, 0, 0, 0,\n",
              "       0, 0, 1, 0, 1, 0, 0, 0, 1, 0, 1, 1, 0, 0, 1, 1, 0, 0, 0, 1, 0, 1,\n",
              "       0, 0, 0, 1, 0, 1, 0, 1, 0, 0, 0, 0, 0, 0, 0, 1, 0, 0, 0, 0, 1, 0,\n",
              "       1, 0, 0, 0, 0, 0, 1, 0, 1, 0, 0, 0, 0, 1, 0, 0, 1, 0, 1, 0, 0, 1,\n",
              "       0, 0, 0, 0, 1, 0, 0, 1, 0, 0, 1, 1, 0, 0, 0, 0, 0, 0, 1, 1, 0, 1,\n",
              "       0, 1, 0, 1, 0, 1, 1, 0, 0, 1, 0, 0, 0, 0, 0, 0, 0, 0, 0, 0, 1, 0,\n",
              "       0, 0, 0, 1, 0, 1, 0, 0, 0, 0, 0, 0, 0, 0, 0, 0, 0, 0, 0, 0, 0, 1,\n",
              "       0, 0, 0, 0, 1, 1, 0, 0, 0, 1, 0, 0, 0, 0, 0, 0, 1, 1, 0, 1, 0, 0,\n",
              "       1, 0, 0, 0, 0, 0, 0, 1, 0, 0, 0, 0, 1, 0, 0, 1, 0, 0, 0, 1, 1, 0,\n",
              "       1, 0, 0, 0, 0, 0, 0, 1, 0, 0, 0, 0, 0, 0, 0, 1, 0, 0, 0, 1, 1, 1,\n",
              "       0, 1, 0, 0, 0, 0, 0, 0, 0, 0, 0, 0, 0, 1, 0, 0, 1, 0, 1, 0, 0, 1,\n",
              "       1, 1, 1, 0, 0, 0, 0, 0, 0, 0, 0, 1, 0, 0, 0, 0, 0, 0, 0, 1, 0, 0,\n",
              "       0, 0, 0, 1, 0, 1, 0, 1, 0, 0, 0, 0, 0, 0, 0, 0, 1, 0, 0, 1, 0, 1,\n",
              "       0, 0, 0, 0, 0, 0, 0, 0, 1, 1, 0, 0, 0, 0, 0, 0, 1, 0, 0, 1, 1, 1,\n",
              "       0, 0, 0, 0, 0, 0, 0, 1, 0, 0, 0, 0, 0, 0, 0, 0, 0, 0, 0, 0, 0, 0,\n",
              "       0, 0, 0, 0, 1, 0, 1, 0, 0, 0, 1, 1, 0, 0, 1, 1, 0, 0, 1, 0, 0, 0,\n",
              "       1, 1, 0, 1, 0, 0, 0, 1, 0, 0, 0, 0, 0, 0, 1, 0, 1, 1, 0, 1, 0, 0,\n",
              "       0, 1, 0, 0, 1, 1, 0, 0, 1, 0, 0, 0, 1, 0, 0, 0, 1, 0, 0, 0, 0, 1,\n",
              "       0, 0, 0, 0, 0, 1, 0, 0, 1, 0, 0, 0, 0, 0, 0, 0, 0, 0, 1, 0, 0, 0,\n",
              "       1, 0, 0, 0, 1, 0, 0, 0, 0, 1, 0, 0, 1, 1, 0, 0, 0, 0, 0, 1, 1, 1,\n",
              "       0, 0, 0, 0, 0, 0, 1, 0, 0, 0, 0, 1, 0, 0, 0, 0, 0, 1, 0, 1, 0, 1,\n",
              "       0, 0])"
            ]
          },
          "metadata": {},
          "execution_count": 32
        }
      ],
      "source": [
        "test_labels"
      ]
    },
    {
      "cell_type": "code",
      "execution_count": 33,
      "metadata": {
        "id": "jCJJxXlomblx"
      },
      "outputs": [],
      "source": [
        "# Convert to TensorFlow Datasets\n",
        "train_dataset = tf.data.Dataset.from_tensor_slices((\n",
        "    dict(train_encodings),\n",
        "    train_labels\n",
        ")).shuffle(1000).batch(16)\n",
        "\n",
        "val_dataset = tf.data.Dataset.from_tensor_slices((\n",
        "    dict(val_encodings),\n",
        "    val_labels\n",
        ")).batch(16)\n",
        "\n",
        "test_dataset = tf.data.Dataset.from_tensor_slices((\n",
        "    dict(test_encodings),\n",
        "    test_labels\n",
        ")).batch(16)"
      ]
    },
    {
      "cell_type": "code",
      "execution_count": 34,
      "metadata": {
        "colab": {
          "base_uri": "https://localhost:8080/",
          "height": 140,
          "referenced_widgets": [
            "cc57069313b846d4b336156e231f774b",
            "1f247757083a4e4abf8631814c93b756",
            "8f3310c3e84049bca1db51856f5ed96f",
            "8fa02f61c2154e85bf25696ae7429376",
            "ab41d32506574b97a8da8aa9df0fc74e",
            "93e6ecacb6d643b49a05acc8f953428e",
            "f0088ca6e99d49bba56dba71bbe9a0c4",
            "6b2cf78cc6604a5e92535ef3660885e9",
            "54cc8bc19e944364a50e10ed0d16506f",
            "ba9694a9605f41e1ad281651c67ff9b2",
            "0a304a637b084271a090f742ad71e92e"
          ]
        },
        "id": "wPBcuFNzmbnw",
        "outputId": "8deea8b0-4649-4e43-a4f0-3d90c17a060d"
      },
      "outputs": [
        {
          "output_type": "display_data",
          "data": {
            "text/plain": [
              "Downloading model.safetensors:   0%|          | 0.00/440M [00:00<?, ?B/s]"
            ],
            "application/vnd.jupyter.widget-view+json": {
              "version_major": 2,
              "version_minor": 0,
              "model_id": "cc57069313b846d4b336156e231f774b"
            }
          },
          "metadata": {}
        },
        {
          "output_type": "stream",
          "name": "stderr",
          "text": [
            "All PyTorch model weights were used when initializing TFBertForSequenceClassification.\n",
            "\n",
            "Some weights or buffers of the TF 2.0 model TFBertForSequenceClassification were not initialized from the PyTorch model and are newly initialized: ['classifier.weight', 'classifier.bias']\n",
            "You should probably TRAIN this model on a down-stream task to be able to use it for predictions and inference.\n"
          ]
        }
      ],
      "source": [
        "\n",
        "# Initialize the BERT model (make sure the number of labels match your dataset)\n",
        "model = TFBertForSequenceClassification.from_pretrained('bert-base-uncased', num_labels=len(class_a))\n",
        "\n",
        "# Choose an optimizer\n",
        "optimizer = tf.keras.optimizers.Adam(learning_rate=3e-6)\n",
        "\n",
        "# Choose a loss function\n",
        "loss = tf.keras.losses.SparseCategoricalCrossentropy(from_logits=True)\n",
        "\n",
        "# Compile the model\n",
        "model.compile(optimizer=optimizer, loss=loss, metrics=['accuracy'])"
      ]
    },
    {
      "cell_type": "code",
      "execution_count": 35,
      "metadata": {
        "id": "poBSJsTWfeAz"
      },
      "outputs": [],
      "source": [
        "from tensorflow.keras.callbacks import EarlyStopping\n",
        "\n",
        "\n",
        "# Define early stopping\n",
        "early_stopping = EarlyStopping(\n",
        "    monitor='val_loss', # usually val_loss or val_acc\n",
        "    mode='min', # the direction that you want to monitor (min for loss, max for accuracy)\n",
        "    patience=3, # number of epochs to wait before stopping the training\n",
        "    verbose=1 # verbosity mode\n",
        ")\n",
        "\n"
      ]
    },
    {
      "cell_type": "code",
      "execution_count": 36,
      "metadata": {
        "colab": {
          "base_uri": "https://localhost:8080/"
        },
        "id": "m6vcOwHafmX_",
        "outputId": "85daae28-bc05-41e6-b806-fd47bfd40f66"
      },
      "outputs": [
        {
          "output_type": "stream",
          "name": "stdout",
          "text": [
            "Epoch 1/15\n",
            "580/580 [==============================] - 291s 404ms/step - loss: 0.5492 - accuracy: 0.7213 - val_loss: 0.4556 - val_accuracy: 0.7873\n",
            "Epoch 2/15\n",
            "580/580 [==============================] - 195s 337ms/step - loss: 0.4297 - accuracy: 0.8095 - val_loss: 0.4399 - val_accuracy: 0.8019\n",
            "Epoch 3/15\n",
            "580/580 [==============================] - 193s 333ms/step - loss: 0.3851 - accuracy: 0.8328 - val_loss: 0.4375 - val_accuracy: 0.8089\n",
            "Epoch 4/15\n",
            "580/580 [==============================] - 209s 361ms/step - loss: 0.3508 - accuracy: 0.8519 - val_loss: 0.4590 - val_accuracy: 0.8056\n",
            "Epoch 5/15\n",
            "580/580 [==============================] - 191s 329ms/step - loss: 0.3120 - accuracy: 0.8693 - val_loss: 0.4702 - val_accuracy: 0.8084\n",
            "Epoch 6/15\n",
            "580/580 [==============================] - 191s 330ms/step - loss: 0.2713 - accuracy: 0.8942 - val_loss: 0.5217 - val_accuracy: 0.7878\n",
            "Epoch 6: early stopping\n",
            "54/54 [==============================] - 8s 90ms/step - loss: 0.4276 - accuracy: 0.8116\n",
            "54/54 [==============================] - 9s 89ms/step\n"
          ]
        }
      ],
      "source": [
        "# Train the model\n",
        "model.fit(\n",
        "    train_dataset,\n",
        "    validation_data=val_dataset,\n",
        "    epochs=15,\n",
        "    callbacks=[early_stopping] # add early stopping to the callbacks\n",
        ")\n",
        "\n",
        "# Evaluate the model\n",
        "results = model.evaluate(test_dataset)\n",
        "\n",
        "# Get the model predictions\n",
        "predictions = tf.argmax(model.predict(test_dataset)[0], axis=-1)\n"
      ]
    },
    {
      "cell_type": "code",
      "execution_count": 37,
      "metadata": {
        "colab": {
          "base_uri": "https://localhost:8080/"
        },
        "id": "0fl_KupIrX4K",
        "outputId": "e2dc8526-3182-4ea9-aa35-0cdeb128dcb8"
      },
      "outputs": [
        {
          "output_type": "stream",
          "name": "stdout",
          "text": [
            "              precision    recall  f1-score   support\n",
            "\n",
            "           0       0.90      0.83      0.86       620\n",
            "           1       0.63      0.77      0.69       240\n",
            "\n",
            "    accuracy                           0.81       860\n",
            "   macro avg       0.77      0.80      0.78       860\n",
            "weighted avg       0.83      0.81      0.82       860\n",
            "\n"
          ]
        }
      ],
      "source": [
        "from sklearn.metrics import classification_report\n",
        "\n",
        "\n",
        "# Decode the label numbers back into original labels\n",
        "y_test_inverse = encoder.inverse_transform(y_test)\n",
        "predictions_inverse = encoder.inverse_transform(predictions.numpy())\n",
        "\n",
        "# Generate the classification report\n",
        "report = classification_report(y_test_inverse, predictions_inverse,\n",
        "                               target_names=encoder.classes_.astype(str))\n",
        "print(report)\n"
      ]
    },
    {
      "cell_type": "markdown",
      "metadata": {
        "id": "sNZ_I_VBwWav"
      },
      "source": [
        "# test dataset with 150 rows"
      ]
    },
    {
      "cell_type": "code",
      "source": [
        "random_0_rows = test_tweet_a[test_tweet_a['class_a_code'] == 0].sample(n=100, random_state=42)\n",
        "\n",
        "# Select random 50 rows with class_a_code equal to 1\n",
        "random_1_rows = test_tweet_a[test_tweet_a['class_a_code'] == 1].sample(n=50, random_state=42)\n",
        "\n",
        "# Concatenate the two DataFrames\n",
        "test_tweet_a_150 = pd.concat([random_0_rows, random_1_rows])"
      ],
      "metadata": {
        "id": "3RY5_QYHRXlX"
      },
      "execution_count": 318,
      "outputs": []
    },
    {
      "cell_type": "code",
      "source": [],
      "metadata": {
        "id": "OcqGHTAYW53y"
      },
      "execution_count": null,
      "outputs": []
    },
    {
      "cell_type": "code",
      "source": [
        "test_tweet_a_150= test_tweet_a_150.sample(frac=1, random_state=42).reset_index(drop=True)"
      ],
      "metadata": {
        "id": "dXyRkRMLRgN7"
      },
      "execution_count": 319,
      "outputs": []
    },
    {
      "cell_type": "code",
      "source": [
        "X_test_150 = test_tweet_a_150['tweet']\n",
        "y_test_150 = test_tweet_a_150['class_a_code']"
      ],
      "metadata": {
        "id": "WiXbBfwYRgSq"
      },
      "execution_count": 320,
      "outputs": []
    },
    {
      "cell_type": "code",
      "source": [],
      "metadata": {
        "id": "Q4GZitKvRgaS"
      },
      "execution_count": 320,
      "outputs": []
    },
    {
      "cell_type": "code",
      "execution_count": 321,
      "metadata": {
        "id": "rI3yqjLHwWav"
      },
      "outputs": [],
      "source": [
        "encoder = LabelEncoder()\n",
        "train_labels = encoder.fit_transform(y_train)\n",
        "\n",
        "test_labels_150 = encoder.transform(y_test_150)\n",
        "test_encodings_150 = tokenizer(list(X_test_150), truncation=True, padding=True, max_length=256)\n"
      ]
    },
    {
      "cell_type": "code",
      "execution_count": 322,
      "metadata": {
        "id": "fyQtQZZvwWav"
      },
      "outputs": [],
      "source": [
        "test_dataset_150 = tf.data.Dataset.from_tensor_slices((\n",
        "    dict(test_encodings_150),\n",
        "    test_labels_150\n",
        ")).batch(16)"
      ]
    },
    {
      "cell_type": "code",
      "execution_count": 323,
      "metadata": {
        "colab": {
          "base_uri": "https://localhost:8080/"
        },
        "id": "C7La9PcjwWav",
        "outputId": "bef9584e-1d99-4285-eedd-2f6ecc1eab81"
      },
      "outputs": [
        {
          "output_type": "stream",
          "name": "stdout",
          "text": [
            "10/10 [==============================] - 1s 82ms/step\n"
          ]
        }
      ],
      "source": [
        "predictions_150 = tf.argmax(model.predict(test_dataset_150)[0], axis=-1)"
      ]
    },
    {
      "cell_type": "code",
      "execution_count": 324,
      "metadata": {
        "colab": {
          "base_uri": "https://localhost:8080/"
        },
        "id": "iXxpWiAfwWav",
        "outputId": "4257a202-67a3-4b16-dc68-3f7c9ab55daf"
      },
      "outputs": [
        {
          "output_type": "stream",
          "name": "stdout",
          "text": [
            "              precision    recall  f1-score   support\n",
            "\n",
            "           0       0.93      0.81      0.87       100\n",
            "           1       0.70      0.88      0.78        50\n",
            "\n",
            "    accuracy                           0.83       150\n",
            "   macro avg       0.81      0.84      0.82       150\n",
            "weighted avg       0.85      0.83      0.84       150\n",
            "\n"
          ]
        }
      ],
      "source": [
        "y_test_inverse_150 = encoder.inverse_transform(y_test_150)\n",
        "predictions_inverse_150 = encoder.inverse_transform(predictions_150.numpy())\n",
        "\n",
        "# Generate the classification report\n",
        "report_150 = classification_report(y_test_inverse_150, predictions_inverse_150,\n",
        "                               target_names=encoder.classes_.astype(str))\n",
        "print(report_150)"
      ]
    },
    {
      "cell_type": "code",
      "source": [],
      "metadata": {
        "id": "oNw47NTBRuNo"
      },
      "execution_count": null,
      "outputs": []
    },
    {
      "cell_type": "code",
      "source": [
        "test_tweet_off = test_tweet_a_new[test_tweet_a_new['class_a']=='OFF']"
      ],
      "metadata": {
        "id": "NVJok18ATT3V"
      },
      "execution_count": 304,
      "outputs": []
    },
    {
      "cell_type": "code",
      "source": [
        "test_tweet_off.head()"
      ],
      "metadata": {
        "colab": {
          "base_uri": "https://localhost:8080/",
          "height": 206
        },
        "id": "YNmm7RwATT7k",
        "outputId": "5cbb75be-75fd-4a45-b11b-e0059d9f5fda"
      },
      "execution_count": 307,
      "outputs": [
        {
          "output_type": "execute_result",
          "data": {
            "text/plain": [
              "                                                tweet class_a  class_a_code\n",
              "0   #WhoIsQ #WheresTheServer #DumpNike #DECLASFISA...     OFF             1\n",
              "4   #NoPasaran: Unity demo to oppose the far-right...     OFF             1\n",
              "5            . . . What the fuck did he do this time?     OFF             1\n",
              "7   @USER Do you get the feeling he is kissing @US...     OFF             1\n",
              "14                        @USER Nigga ware da hits at     OFF             1"
            ],
            "text/html": [
              "\n",
              "  <div id=\"df-a71ea6b3-646e-4e9c-85a9-9de08627b3bb\" class=\"colab-df-container\">\n",
              "    <div>\n",
              "<style scoped>\n",
              "    .dataframe tbody tr th:only-of-type {\n",
              "        vertical-align: middle;\n",
              "    }\n",
              "\n",
              "    .dataframe tbody tr th {\n",
              "        vertical-align: top;\n",
              "    }\n",
              "\n",
              "    .dataframe thead th {\n",
              "        text-align: right;\n",
              "    }\n",
              "</style>\n",
              "<table border=\"1\" class=\"dataframe\">\n",
              "  <thead>\n",
              "    <tr style=\"text-align: right;\">\n",
              "      <th></th>\n",
              "      <th>tweet</th>\n",
              "      <th>class_a</th>\n",
              "      <th>class_a_code</th>\n",
              "    </tr>\n",
              "  </thead>\n",
              "  <tbody>\n",
              "    <tr>\n",
              "      <th>0</th>\n",
              "      <td>#WhoIsQ #WheresTheServer #DumpNike #DECLASFISA...</td>\n",
              "      <td>OFF</td>\n",
              "      <td>1</td>\n",
              "    </tr>\n",
              "    <tr>\n",
              "      <th>4</th>\n",
              "      <td>#NoPasaran: Unity demo to oppose the far-right...</td>\n",
              "      <td>OFF</td>\n",
              "      <td>1</td>\n",
              "    </tr>\n",
              "    <tr>\n",
              "      <th>5</th>\n",
              "      <td>. . . What the fuck did he do this time?</td>\n",
              "      <td>OFF</td>\n",
              "      <td>1</td>\n",
              "    </tr>\n",
              "    <tr>\n",
              "      <th>7</th>\n",
              "      <td>@USER Do you get the feeling he is kissing @US...</td>\n",
              "      <td>OFF</td>\n",
              "      <td>1</td>\n",
              "    </tr>\n",
              "    <tr>\n",
              "      <th>14</th>\n",
              "      <td>@USER Nigga ware da hits at</td>\n",
              "      <td>OFF</td>\n",
              "      <td>1</td>\n",
              "    </tr>\n",
              "  </tbody>\n",
              "</table>\n",
              "</div>\n",
              "    <div class=\"colab-df-buttons\">\n",
              "\n",
              "  <div class=\"colab-df-container\">\n",
              "    <button class=\"colab-df-convert\" onclick=\"convertToInteractive('df-a71ea6b3-646e-4e9c-85a9-9de08627b3bb')\"\n",
              "            title=\"Convert this dataframe to an interactive table.\"\n",
              "            style=\"display:none;\">\n",
              "\n",
              "  <svg xmlns=\"http://www.w3.org/2000/svg\" height=\"24px\" viewBox=\"0 -960 960 960\">\n",
              "    <path d=\"M120-120v-720h720v720H120Zm60-500h600v-160H180v160Zm220 220h160v-160H400v160Zm0 220h160v-160H400v160ZM180-400h160v-160H180v160Zm440 0h160v-160H620v160ZM180-180h160v-160H180v160Zm440 0h160v-160H620v160Z\"/>\n",
              "  </svg>\n",
              "    </button>\n",
              "\n",
              "  <style>\n",
              "    .colab-df-container {\n",
              "      display:flex;\n",
              "      gap: 12px;\n",
              "    }\n",
              "\n",
              "    .colab-df-convert {\n",
              "      background-color: #E8F0FE;\n",
              "      border: none;\n",
              "      border-radius: 50%;\n",
              "      cursor: pointer;\n",
              "      display: none;\n",
              "      fill: #1967D2;\n",
              "      height: 32px;\n",
              "      padding: 0 0 0 0;\n",
              "      width: 32px;\n",
              "    }\n",
              "\n",
              "    .colab-df-convert:hover {\n",
              "      background-color: #E2EBFA;\n",
              "      box-shadow: 0px 1px 2px rgba(60, 64, 67, 0.3), 0px 1px 3px 1px rgba(60, 64, 67, 0.15);\n",
              "      fill: #174EA6;\n",
              "    }\n",
              "\n",
              "    .colab-df-buttons div {\n",
              "      margin-bottom: 4px;\n",
              "    }\n",
              "\n",
              "    [theme=dark] .colab-df-convert {\n",
              "      background-color: #3B4455;\n",
              "      fill: #D2E3FC;\n",
              "    }\n",
              "\n",
              "    [theme=dark] .colab-df-convert:hover {\n",
              "      background-color: #434B5C;\n",
              "      box-shadow: 0px 1px 3px 1px rgba(0, 0, 0, 0.15);\n",
              "      filter: drop-shadow(0px 1px 2px rgba(0, 0, 0, 0.3));\n",
              "      fill: #FFFFFF;\n",
              "    }\n",
              "  </style>\n",
              "\n",
              "    <script>\n",
              "      const buttonEl =\n",
              "        document.querySelector('#df-a71ea6b3-646e-4e9c-85a9-9de08627b3bb button.colab-df-convert');\n",
              "      buttonEl.style.display =\n",
              "        google.colab.kernel.accessAllowed ? 'block' : 'none';\n",
              "\n",
              "      async function convertToInteractive(key) {\n",
              "        const element = document.querySelector('#df-a71ea6b3-646e-4e9c-85a9-9de08627b3bb');\n",
              "        const dataTable =\n",
              "          await google.colab.kernel.invokeFunction('convertToInteractive',\n",
              "                                                    [key], {});\n",
              "        if (!dataTable) return;\n",
              "\n",
              "        const docLinkHtml = 'Like what you see? Visit the ' +\n",
              "          '<a target=\"_blank\" href=https://colab.research.google.com/notebooks/data_table.ipynb>data table notebook</a>'\n",
              "          + ' to learn more about interactive tables.';\n",
              "        element.innerHTML = '';\n",
              "        dataTable['output_type'] = 'display_data';\n",
              "        await google.colab.output.renderOutput(dataTable, element);\n",
              "        const docLink = document.createElement('div');\n",
              "        docLink.innerHTML = docLinkHtml;\n",
              "        element.appendChild(docLink);\n",
              "      }\n",
              "    </script>\n",
              "  </div>\n",
              "\n",
              "\n",
              "<div id=\"df-5ae16f47-96f7-467c-8400-c1316e5169b6\">\n",
              "  <button class=\"colab-df-quickchart\" onclick=\"quickchart('df-5ae16f47-96f7-467c-8400-c1316e5169b6')\"\n",
              "            title=\"Suggest charts.\"\n",
              "            style=\"display:none;\">\n",
              "\n",
              "<svg xmlns=\"http://www.w3.org/2000/svg\" height=\"24px\"viewBox=\"0 0 24 24\"\n",
              "     width=\"24px\">\n",
              "    <g>\n",
              "        <path d=\"M19 3H5c-1.1 0-2 .9-2 2v14c0 1.1.9 2 2 2h14c1.1 0 2-.9 2-2V5c0-1.1-.9-2-2-2zM9 17H7v-7h2v7zm4 0h-2V7h2v10zm4 0h-2v-4h2v4z\"/>\n",
              "    </g>\n",
              "</svg>\n",
              "  </button>\n",
              "\n",
              "<style>\n",
              "  .colab-df-quickchart {\n",
              "    background-color: #E8F0FE;\n",
              "    border: none;\n",
              "    border-radius: 50%;\n",
              "    cursor: pointer;\n",
              "    display: none;\n",
              "    fill: #1967D2;\n",
              "    height: 32px;\n",
              "    padding: 0 0 0 0;\n",
              "    width: 32px;\n",
              "  }\n",
              "\n",
              "  .colab-df-quickchart:hover {\n",
              "    background-color: #E2EBFA;\n",
              "    box-shadow: 0px 1px 2px rgba(60, 64, 67, 0.3), 0px 1px 3px 1px rgba(60, 64, 67, 0.15);\n",
              "    fill: #174EA6;\n",
              "  }\n",
              "\n",
              "  [theme=dark] .colab-df-quickchart {\n",
              "    background-color: #3B4455;\n",
              "    fill: #D2E3FC;\n",
              "  }\n",
              "\n",
              "  [theme=dark] .colab-df-quickchart:hover {\n",
              "    background-color: #434B5C;\n",
              "    box-shadow: 0px 1px 3px 1px rgba(0, 0, 0, 0.15);\n",
              "    filter: drop-shadow(0px 1px 2px rgba(0, 0, 0, 0.3));\n",
              "    fill: #FFFFFF;\n",
              "  }\n",
              "</style>\n",
              "\n",
              "  <script>\n",
              "    async function quickchart(key) {\n",
              "      const charts = await google.colab.kernel.invokeFunction(\n",
              "          'suggestCharts', [key], {});\n",
              "    }\n",
              "    (() => {\n",
              "      let quickchartButtonEl =\n",
              "        document.querySelector('#df-5ae16f47-96f7-467c-8400-c1316e5169b6 button');\n",
              "      quickchartButtonEl.style.display =\n",
              "        google.colab.kernel.accessAllowed ? 'block' : 'none';\n",
              "    })();\n",
              "  </script>\n",
              "</div>\n",
              "    </div>\n",
              "  </div>\n"
            ]
          },
          "metadata": {},
          "execution_count": 307
        }
      ]
    },
    {
      "cell_type": "code",
      "source": [
        "test_tweet_off['class_a_code'] =1"
      ],
      "metadata": {
        "colab": {
          "base_uri": "https://localhost:8080/"
        },
        "id": "nVq1n2iXUle1",
        "outputId": "c1d61675-f730-441a-cd98-515bbfeac629"
      },
      "execution_count": 306,
      "outputs": [
        {
          "output_type": "stream",
          "name": "stderr",
          "text": [
            "<ipython-input-306-3a0f14904e30>:1: SettingWithCopyWarning: \n",
            "A value is trying to be set on a copy of a slice from a DataFrame.\n",
            "Try using .loc[row_indexer,col_indexer] = value instead\n",
            "\n",
            "See the caveats in the documentation: https://pandas.pydata.org/pandas-docs/stable/user_guide/indexing.html#returning-a-view-versus-a-copy\n",
            "  test_tweet_off['class_a_code'] =1\n"
          ]
        }
      ]
    },
    {
      "cell_type": "code",
      "source": [
        "test_tweet_off_00 = test_tweet_off.loc[index_new2]"
      ],
      "metadata": {
        "id": "fxRSNbvATT_O"
      },
      "execution_count": 308,
      "outputs": []
    },
    {
      "cell_type": "code",
      "source": [
        "test_tweet_off_00.shape"
      ],
      "metadata": {
        "colab": {
          "base_uri": "https://localhost:8080/"
        },
        "id": "uAy763J4TUC0",
        "outputId": "e8ab707c-07b5-4da0-8a25-549079b61fe1"
      },
      "execution_count": 309,
      "outputs": [
        {
          "output_type": "execute_result",
          "data": {
            "text/plain": [
              "(50, 3)"
            ]
          },
          "metadata": {},
          "execution_count": 309
        }
      ]
    },
    {
      "cell_type": "code",
      "source": [
        "test_tweet_off_00.head()"
      ],
      "metadata": {
        "colab": {
          "base_uri": "https://localhost:8080/",
          "height": 206
        },
        "id": "mxSyCupUT6_z",
        "outputId": "6ed4a85b-9c9d-4306-ce60-6464f695ff7b"
      },
      "execution_count": 310,
      "outputs": [
        {
          "output_type": "execute_result",
          "data": {
            "text/plain": [
              "                                                 tweet class_a  class_a_code\n",
              "308  @USER @USER @USER Okay and? Anybody can go to ...     OFF             1\n",
              "216            And🤷🏽‍♂️ females b on the same shit URL     OFF             1\n",
              "732  #LiberalHypocrisy #TacoBell When Liberals ask ...     OFF             1\n",
              "376         7 fucking years. #MyTwitterAnniversary URL     OFF             1\n",
              "382  #ChristineBlaseyFord is only being harassed by...     OFF             1"
            ],
            "text/html": [
              "\n",
              "  <div id=\"df-87212ad1-f378-40b3-9af0-536746b7e437\" class=\"colab-df-container\">\n",
              "    <div>\n",
              "<style scoped>\n",
              "    .dataframe tbody tr th:only-of-type {\n",
              "        vertical-align: middle;\n",
              "    }\n",
              "\n",
              "    .dataframe tbody tr th {\n",
              "        vertical-align: top;\n",
              "    }\n",
              "\n",
              "    .dataframe thead th {\n",
              "        text-align: right;\n",
              "    }\n",
              "</style>\n",
              "<table border=\"1\" class=\"dataframe\">\n",
              "  <thead>\n",
              "    <tr style=\"text-align: right;\">\n",
              "      <th></th>\n",
              "      <th>tweet</th>\n",
              "      <th>class_a</th>\n",
              "      <th>class_a_code</th>\n",
              "    </tr>\n",
              "  </thead>\n",
              "  <tbody>\n",
              "    <tr>\n",
              "      <th>308</th>\n",
              "      <td>@USER @USER @USER Okay and? Anybody can go to ...</td>\n",
              "      <td>OFF</td>\n",
              "      <td>1</td>\n",
              "    </tr>\n",
              "    <tr>\n",
              "      <th>216</th>\n",
              "      <td>And🤷🏽‍♂️ females b on the same shit URL</td>\n",
              "      <td>OFF</td>\n",
              "      <td>1</td>\n",
              "    </tr>\n",
              "    <tr>\n",
              "      <th>732</th>\n",
              "      <td>#LiberalHypocrisy #TacoBell When Liberals ask ...</td>\n",
              "      <td>OFF</td>\n",
              "      <td>1</td>\n",
              "    </tr>\n",
              "    <tr>\n",
              "      <th>376</th>\n",
              "      <td>7 fucking years. #MyTwitterAnniversary URL</td>\n",
              "      <td>OFF</td>\n",
              "      <td>1</td>\n",
              "    </tr>\n",
              "    <tr>\n",
              "      <th>382</th>\n",
              "      <td>#ChristineBlaseyFord is only being harassed by...</td>\n",
              "      <td>OFF</td>\n",
              "      <td>1</td>\n",
              "    </tr>\n",
              "  </tbody>\n",
              "</table>\n",
              "</div>\n",
              "    <div class=\"colab-df-buttons\">\n",
              "\n",
              "  <div class=\"colab-df-container\">\n",
              "    <button class=\"colab-df-convert\" onclick=\"convertToInteractive('df-87212ad1-f378-40b3-9af0-536746b7e437')\"\n",
              "            title=\"Convert this dataframe to an interactive table.\"\n",
              "            style=\"display:none;\">\n",
              "\n",
              "  <svg xmlns=\"http://www.w3.org/2000/svg\" height=\"24px\" viewBox=\"0 -960 960 960\">\n",
              "    <path d=\"M120-120v-720h720v720H120Zm60-500h600v-160H180v160Zm220 220h160v-160H400v160Zm0 220h160v-160H400v160ZM180-400h160v-160H180v160Zm440 0h160v-160H620v160ZM180-180h160v-160H180v160Zm440 0h160v-160H620v160Z\"/>\n",
              "  </svg>\n",
              "    </button>\n",
              "\n",
              "  <style>\n",
              "    .colab-df-container {\n",
              "      display:flex;\n",
              "      gap: 12px;\n",
              "    }\n",
              "\n",
              "    .colab-df-convert {\n",
              "      background-color: #E8F0FE;\n",
              "      border: none;\n",
              "      border-radius: 50%;\n",
              "      cursor: pointer;\n",
              "      display: none;\n",
              "      fill: #1967D2;\n",
              "      height: 32px;\n",
              "      padding: 0 0 0 0;\n",
              "      width: 32px;\n",
              "    }\n",
              "\n",
              "    .colab-df-convert:hover {\n",
              "      background-color: #E2EBFA;\n",
              "      box-shadow: 0px 1px 2px rgba(60, 64, 67, 0.3), 0px 1px 3px 1px rgba(60, 64, 67, 0.15);\n",
              "      fill: #174EA6;\n",
              "    }\n",
              "\n",
              "    .colab-df-buttons div {\n",
              "      margin-bottom: 4px;\n",
              "    }\n",
              "\n",
              "    [theme=dark] .colab-df-convert {\n",
              "      background-color: #3B4455;\n",
              "      fill: #D2E3FC;\n",
              "    }\n",
              "\n",
              "    [theme=dark] .colab-df-convert:hover {\n",
              "      background-color: #434B5C;\n",
              "      box-shadow: 0px 1px 3px 1px rgba(0, 0, 0, 0.15);\n",
              "      filter: drop-shadow(0px 1px 2px rgba(0, 0, 0, 0.3));\n",
              "      fill: #FFFFFF;\n",
              "    }\n",
              "  </style>\n",
              "\n",
              "    <script>\n",
              "      const buttonEl =\n",
              "        document.querySelector('#df-87212ad1-f378-40b3-9af0-536746b7e437 button.colab-df-convert');\n",
              "      buttonEl.style.display =\n",
              "        google.colab.kernel.accessAllowed ? 'block' : 'none';\n",
              "\n",
              "      async function convertToInteractive(key) {\n",
              "        const element = document.querySelector('#df-87212ad1-f378-40b3-9af0-536746b7e437');\n",
              "        const dataTable =\n",
              "          await google.colab.kernel.invokeFunction('convertToInteractive',\n",
              "                                                    [key], {});\n",
              "        if (!dataTable) return;\n",
              "\n",
              "        const docLinkHtml = 'Like what you see? Visit the ' +\n",
              "          '<a target=\"_blank\" href=https://colab.research.google.com/notebooks/data_table.ipynb>data table notebook</a>'\n",
              "          + ' to learn more about interactive tables.';\n",
              "        element.innerHTML = '';\n",
              "        dataTable['output_type'] = 'display_data';\n",
              "        await google.colab.output.renderOutput(dataTable, element);\n",
              "        const docLink = document.createElement('div');\n",
              "        docLink.innerHTML = docLinkHtml;\n",
              "        element.appendChild(docLink);\n",
              "      }\n",
              "    </script>\n",
              "  </div>\n",
              "\n",
              "\n",
              "<div id=\"df-ba1e4913-8941-4b3f-b32d-9acd35dc4913\">\n",
              "  <button class=\"colab-df-quickchart\" onclick=\"quickchart('df-ba1e4913-8941-4b3f-b32d-9acd35dc4913')\"\n",
              "            title=\"Suggest charts.\"\n",
              "            style=\"display:none;\">\n",
              "\n",
              "<svg xmlns=\"http://www.w3.org/2000/svg\" height=\"24px\"viewBox=\"0 0 24 24\"\n",
              "     width=\"24px\">\n",
              "    <g>\n",
              "        <path d=\"M19 3H5c-1.1 0-2 .9-2 2v14c0 1.1.9 2 2 2h14c1.1 0 2-.9 2-2V5c0-1.1-.9-2-2-2zM9 17H7v-7h2v7zm4 0h-2V7h2v10zm4 0h-2v-4h2v4z\"/>\n",
              "    </g>\n",
              "</svg>\n",
              "  </button>\n",
              "\n",
              "<style>\n",
              "  .colab-df-quickchart {\n",
              "    background-color: #E8F0FE;\n",
              "    border: none;\n",
              "    border-radius: 50%;\n",
              "    cursor: pointer;\n",
              "    display: none;\n",
              "    fill: #1967D2;\n",
              "    height: 32px;\n",
              "    padding: 0 0 0 0;\n",
              "    width: 32px;\n",
              "  }\n",
              "\n",
              "  .colab-df-quickchart:hover {\n",
              "    background-color: #E2EBFA;\n",
              "    box-shadow: 0px 1px 2px rgba(60, 64, 67, 0.3), 0px 1px 3px 1px rgba(60, 64, 67, 0.15);\n",
              "    fill: #174EA6;\n",
              "  }\n",
              "\n",
              "  [theme=dark] .colab-df-quickchart {\n",
              "    background-color: #3B4455;\n",
              "    fill: #D2E3FC;\n",
              "  }\n",
              "\n",
              "  [theme=dark] .colab-df-quickchart:hover {\n",
              "    background-color: #434B5C;\n",
              "    box-shadow: 0px 1px 3px 1px rgba(0, 0, 0, 0.15);\n",
              "    filter: drop-shadow(0px 1px 2px rgba(0, 0, 0, 0.3));\n",
              "    fill: #FFFFFF;\n",
              "  }\n",
              "</style>\n",
              "\n",
              "  <script>\n",
              "    async function quickchart(key) {\n",
              "      const charts = await google.colab.kernel.invokeFunction(\n",
              "          'suggestCharts', [key], {});\n",
              "    }\n",
              "    (() => {\n",
              "      let quickchartButtonEl =\n",
              "        document.querySelector('#df-ba1e4913-8941-4b3f-b32d-9acd35dc4913 button');\n",
              "      quickchartButtonEl.style.display =\n",
              "        google.colab.kernel.accessAllowed ? 'block' : 'none';\n",
              "    })();\n",
              "  </script>\n",
              "</div>\n",
              "    </div>\n",
              "  </div>\n"
            ]
          },
          "metadata": {},
          "execution_count": 310
        }
      ]
    },
    {
      "cell_type": "code",
      "source": [
        "test_tweet_a_150_00 = pd.concat([random_0_rows, test_tweet_off_00])"
      ],
      "metadata": {
        "id": "hXkJcK83TUGm"
      },
      "execution_count": 311,
      "outputs": []
    },
    {
      "cell_type": "code",
      "source": [
        "test_tweet_a_150_00= test_tweet_a_150_00.sample(frac=1, random_state=42).reset_index(drop=True)"
      ],
      "metadata": {
        "id": "hrpWIZpKTz2m"
      },
      "execution_count": 312,
      "outputs": []
    },
    {
      "cell_type": "code",
      "source": [
        "X_test_150_00 = test_tweet_a_150_00['tweet']\n",
        "y_test_150_00 = test_tweet_a_150_00['class_a_code']"
      ],
      "metadata": {
        "id": "jHx-aZRfTz8k"
      },
      "execution_count": 313,
      "outputs": []
    },
    {
      "cell_type": "code",
      "source": [
        "encoder = LabelEncoder()\n",
        "train_labels = encoder.fit_transform(y_train)\n",
        "\n",
        "test_labels_150_00 = encoder.transform(y_test_150_00)\n",
        "test_encodings_150_00 = tokenizer(list(X_test_150_00), truncation=True, padding=True, max_length=256)\n"
      ],
      "metadata": {
        "id": "4DxjR9RGT0Am"
      },
      "execution_count": 314,
      "outputs": []
    },
    {
      "cell_type": "code",
      "source": [
        "test_dataset_150_00 = tf.data.Dataset.from_tensor_slices((\n",
        "    dict(test_encodings_150_00),\n",
        "    test_labels_150_00\n",
        ")).batch(16)"
      ],
      "metadata": {
        "id": "i8fzZMVZUWMm"
      },
      "execution_count": 315,
      "outputs": []
    },
    {
      "cell_type": "code",
      "source": [
        "predictions_150_00 = tf.argmax(model.predict(test_dataset_150_00)[0], axis=-1)"
      ],
      "metadata": {
        "colab": {
          "base_uri": "https://localhost:8080/"
        },
        "id": "A_CCTqd-UWPu",
        "outputId": "4416a63d-5dbe-4780-9a71-ac7990201958"
      },
      "execution_count": 316,
      "outputs": [
        {
          "output_type": "stream",
          "name": "stdout",
          "text": [
            "10/10 [==============================] - 1s 113ms/step\n"
          ]
        }
      ]
    },
    {
      "cell_type": "code",
      "source": [
        "y_test_inverse_150_00 = encoder.inverse_transform(y_test_150_00)\n",
        "predictions_inverse_150_00 = encoder.inverse_transform(predictions_150_00.numpy())\n",
        "\n",
        "# Generate the classification report\n",
        "report_150_00 = classification_report(y_test_inverse_150_00, predictions_inverse_150_00,\n",
        "                               target_names=encoder.classes_.astype(str))\n",
        "print(report_150_00)"
      ],
      "metadata": {
        "colab": {
          "base_uri": "https://localhost:8080/"
        },
        "id": "RXnUeQISUWSf",
        "outputId": "0048b907-37e8-4dae-d865-5f1ef39ddac5"
      },
      "execution_count": 317,
      "outputs": [
        {
          "output_type": "stream",
          "name": "stdout",
          "text": [
            "              precision    recall  f1-score   support\n",
            "\n",
            "           0       0.82      0.81      0.81       100\n",
            "           1       0.63      0.64      0.63        50\n",
            "\n",
            "    accuracy                           0.75       150\n",
            "   macro avg       0.72      0.73      0.72       150\n",
            "weighted avg       0.75      0.75      0.75       150\n",
            "\n"
          ]
        }
      ]
    },
    {
      "cell_type": "code",
      "source": [],
      "metadata": {
        "id": "TptCFa5zUWW3"
      },
      "execution_count": null,
      "outputs": []
    },
    {
      "cell_type": "code",
      "source": [],
      "metadata": {
        "id": "EYsCs__JUWZw"
      },
      "execution_count": null,
      "outputs": []
    },
    {
      "cell_type": "code",
      "source": [],
      "metadata": {
        "id": "wwFJA124UWc9"
      },
      "execution_count": null,
      "outputs": []
    },
    {
      "cell_type": "code",
      "source": [],
      "metadata": {
        "id": "MbDMh5D7UWe_"
      },
      "execution_count": null,
      "outputs": []
    },
    {
      "cell_type": "code",
      "source": [],
      "metadata": {
        "id": "S9TLU4gET0D5"
      },
      "execution_count": null,
      "outputs": []
    },
    {
      "cell_type": "code",
      "source": [],
      "metadata": {
        "id": "LezDtFgdTUO2"
      },
      "execution_count": null,
      "outputs": []
    },
    {
      "cell_type": "code",
      "source": [],
      "metadata": {
        "id": "hMLHuF9CRuzU"
      },
      "execution_count": null,
      "outputs": []
    },
    {
      "cell_type": "code",
      "execution_count": null,
      "metadata": {
        "id": "avn7aAhjrX6f",
        "outputId": "313065c6-d38d-47fe-b6b8-cbb2838dcfb8"
      },
      "outputs": [
        {
          "name": "stderr",
          "output_type": "stream",
          "text": [
            "2023-07-22 13:53:52.370386: W tensorflow/python/util/util.cc:348] Sets are not currently considered sequences, but this may change in the future, so consider avoiding using them.\n",
            "WARNING:absl:Found untraced functions such as embeddings_layer_call_fn, embeddings_layer_call_and_return_conditional_losses, encoder_layer_call_fn, encoder_layer_call_and_return_conditional_losses, pooler_layer_call_fn while saving (showing 5 of 1050). These functions will not be directly callable after loading.\n"
          ]
        },
        {
          "name": "stdout",
          "output_type": "stream",
          "text": [
            "INFO:tensorflow:Assets written to: my_model_agrresive/assets\n"
          ]
        },
        {
          "name": "stderr",
          "output_type": "stream",
          "text": [
            "INFO:tensorflow:Assets written to: my_model_agrresive/assets\n"
          ]
        }
      ],
      "source": [
        "model.save('my_model_agrresive')"
      ]
    },
    {
      "cell_type": "code",
      "execution_count": 332,
      "metadata": {
        "id": "gtWfPxN9wWav"
      },
      "outputs": [],
      "source": [
        "test_tweet_a_new=pd.read_csv('./testset-levela.tsv', delimiter='\\t', encoding='utf-8')\n",
        "test_label_a_new=pd.read_csv('./labels-levela.csv', encoding='utf-8',\n",
        "                         index_col=False, names=['id', 'class_a'])\n",
        "\n",
        "test_tweet_a_new = test_tweet_a_new.merge(test_label_a_new, on='id')\n",
        "\n",
        "test_tweet_a_new = test_tweet_a_new.drop(columns='id')\n",
        "\n"
      ]
    },
    {
      "cell_type": "code",
      "execution_count": 45,
      "metadata": {
        "colab": {
          "base_uri": "https://localhost:8080/",
          "height": 424
        },
        "id": "CEGJZoytwWav",
        "outputId": "44d0d01f-d333-42b4-88cb-15a1a95e91c0"
      },
      "outputs": [
        {
          "output_type": "execute_result",
          "data": {
            "text/plain": [
              "                                                 tweet class_a\n",
              "0    #WhoIsQ #WheresTheServer #DumpNike #DECLASFISA...     OFF\n",
              "1    #ConstitutionDay is revered by Conservatives, ...     NOT\n",
              "2    #FOXNews #NRA #MAGA #POTUS #TRUMP #2ndAmendmen...     NOT\n",
              "3    #Watching #Boomer getting the news that she is...     NOT\n",
              "4    #NoPasaran: Unity demo to oppose the far-right...     OFF\n",
              "..                                                 ...     ...\n",
              "855  #DespicableDems lie again about rifles. Dem Di...     OFF\n",
              "856  #MeetTheSpeakers 🙌 @USER will present in our e...     NOT\n",
              "857  3 people just unfollowed me for talking about ...     OFF\n",
              "858  #WednesdayWisdom Antifa calls the right fascis...     NOT\n",
              "859      #Kavanaugh typical #liberals , #Democrats URL     NOT\n",
              "\n",
              "[860 rows x 2 columns]"
            ],
            "text/html": [
              "\n",
              "  <div id=\"df-fe0225f8-536d-4e5c-be37-42df73c97248\" class=\"colab-df-container\">\n",
              "    <div>\n",
              "<style scoped>\n",
              "    .dataframe tbody tr th:only-of-type {\n",
              "        vertical-align: middle;\n",
              "    }\n",
              "\n",
              "    .dataframe tbody tr th {\n",
              "        vertical-align: top;\n",
              "    }\n",
              "\n",
              "    .dataframe thead th {\n",
              "        text-align: right;\n",
              "    }\n",
              "</style>\n",
              "<table border=\"1\" class=\"dataframe\">\n",
              "  <thead>\n",
              "    <tr style=\"text-align: right;\">\n",
              "      <th></th>\n",
              "      <th>tweet</th>\n",
              "      <th>class_a</th>\n",
              "    </tr>\n",
              "  </thead>\n",
              "  <tbody>\n",
              "    <tr>\n",
              "      <th>0</th>\n",
              "      <td>#WhoIsQ #WheresTheServer #DumpNike #DECLASFISA...</td>\n",
              "      <td>OFF</td>\n",
              "    </tr>\n",
              "    <tr>\n",
              "      <th>1</th>\n",
              "      <td>#ConstitutionDay is revered by Conservatives, ...</td>\n",
              "      <td>NOT</td>\n",
              "    </tr>\n",
              "    <tr>\n",
              "      <th>2</th>\n",
              "      <td>#FOXNews #NRA #MAGA #POTUS #TRUMP #2ndAmendmen...</td>\n",
              "      <td>NOT</td>\n",
              "    </tr>\n",
              "    <tr>\n",
              "      <th>3</th>\n",
              "      <td>#Watching #Boomer getting the news that she is...</td>\n",
              "      <td>NOT</td>\n",
              "    </tr>\n",
              "    <tr>\n",
              "      <th>4</th>\n",
              "      <td>#NoPasaran: Unity demo to oppose the far-right...</td>\n",
              "      <td>OFF</td>\n",
              "    </tr>\n",
              "    <tr>\n",
              "      <th>...</th>\n",
              "      <td>...</td>\n",
              "      <td>...</td>\n",
              "    </tr>\n",
              "    <tr>\n",
              "      <th>855</th>\n",
              "      <td>#DespicableDems lie again about rifles. Dem Di...</td>\n",
              "      <td>OFF</td>\n",
              "    </tr>\n",
              "    <tr>\n",
              "      <th>856</th>\n",
              "      <td>#MeetTheSpeakers 🙌 @USER will present in our e...</td>\n",
              "      <td>NOT</td>\n",
              "    </tr>\n",
              "    <tr>\n",
              "      <th>857</th>\n",
              "      <td>3 people just unfollowed me for talking about ...</td>\n",
              "      <td>OFF</td>\n",
              "    </tr>\n",
              "    <tr>\n",
              "      <th>858</th>\n",
              "      <td>#WednesdayWisdom Antifa calls the right fascis...</td>\n",
              "      <td>NOT</td>\n",
              "    </tr>\n",
              "    <tr>\n",
              "      <th>859</th>\n",
              "      <td>#Kavanaugh typical #liberals , #Democrats URL</td>\n",
              "      <td>NOT</td>\n",
              "    </tr>\n",
              "  </tbody>\n",
              "</table>\n",
              "<p>860 rows × 2 columns</p>\n",
              "</div>\n",
              "    <div class=\"colab-df-buttons\">\n",
              "\n",
              "  <div class=\"colab-df-container\">\n",
              "    <button class=\"colab-df-convert\" onclick=\"convertToInteractive('df-fe0225f8-536d-4e5c-be37-42df73c97248')\"\n",
              "            title=\"Convert this dataframe to an interactive table.\"\n",
              "            style=\"display:none;\">\n",
              "\n",
              "  <svg xmlns=\"http://www.w3.org/2000/svg\" height=\"24px\" viewBox=\"0 -960 960 960\">\n",
              "    <path d=\"M120-120v-720h720v720H120Zm60-500h600v-160H180v160Zm220 220h160v-160H400v160Zm0 220h160v-160H400v160ZM180-400h160v-160H180v160Zm440 0h160v-160H620v160ZM180-180h160v-160H180v160Zm440 0h160v-160H620v160Z\"/>\n",
              "  </svg>\n",
              "    </button>\n",
              "\n",
              "  <style>\n",
              "    .colab-df-container {\n",
              "      display:flex;\n",
              "      gap: 12px;\n",
              "    }\n",
              "\n",
              "    .colab-df-convert {\n",
              "      background-color: #E8F0FE;\n",
              "      border: none;\n",
              "      border-radius: 50%;\n",
              "      cursor: pointer;\n",
              "      display: none;\n",
              "      fill: #1967D2;\n",
              "      height: 32px;\n",
              "      padding: 0 0 0 0;\n",
              "      width: 32px;\n",
              "    }\n",
              "\n",
              "    .colab-df-convert:hover {\n",
              "      background-color: #E2EBFA;\n",
              "      box-shadow: 0px 1px 2px rgba(60, 64, 67, 0.3), 0px 1px 3px 1px rgba(60, 64, 67, 0.15);\n",
              "      fill: #174EA6;\n",
              "    }\n",
              "\n",
              "    .colab-df-buttons div {\n",
              "      margin-bottom: 4px;\n",
              "    }\n",
              "\n",
              "    [theme=dark] .colab-df-convert {\n",
              "      background-color: #3B4455;\n",
              "      fill: #D2E3FC;\n",
              "    }\n",
              "\n",
              "    [theme=dark] .colab-df-convert:hover {\n",
              "      background-color: #434B5C;\n",
              "      box-shadow: 0px 1px 3px 1px rgba(0, 0, 0, 0.15);\n",
              "      filter: drop-shadow(0px 1px 2px rgba(0, 0, 0, 0.3));\n",
              "      fill: #FFFFFF;\n",
              "    }\n",
              "  </style>\n",
              "\n",
              "    <script>\n",
              "      const buttonEl =\n",
              "        document.querySelector('#df-fe0225f8-536d-4e5c-be37-42df73c97248 button.colab-df-convert');\n",
              "      buttonEl.style.display =\n",
              "        google.colab.kernel.accessAllowed ? 'block' : 'none';\n",
              "\n",
              "      async function convertToInteractive(key) {\n",
              "        const element = document.querySelector('#df-fe0225f8-536d-4e5c-be37-42df73c97248');\n",
              "        const dataTable =\n",
              "          await google.colab.kernel.invokeFunction('convertToInteractive',\n",
              "                                                    [key], {});\n",
              "        if (!dataTable) return;\n",
              "\n",
              "        const docLinkHtml = 'Like what you see? Visit the ' +\n",
              "          '<a target=\"_blank\" href=https://colab.research.google.com/notebooks/data_table.ipynb>data table notebook</a>'\n",
              "          + ' to learn more about interactive tables.';\n",
              "        element.innerHTML = '';\n",
              "        dataTable['output_type'] = 'display_data';\n",
              "        await google.colab.output.renderOutput(dataTable, element);\n",
              "        const docLink = document.createElement('div');\n",
              "        docLink.innerHTML = docLinkHtml;\n",
              "        element.appendChild(docLink);\n",
              "      }\n",
              "    </script>\n",
              "  </div>\n",
              "\n",
              "\n",
              "<div id=\"df-df523d77-498b-44f2-afa2-8fbbd14aa8cc\">\n",
              "  <button class=\"colab-df-quickchart\" onclick=\"quickchart('df-df523d77-498b-44f2-afa2-8fbbd14aa8cc')\"\n",
              "            title=\"Suggest charts.\"\n",
              "            style=\"display:none;\">\n",
              "\n",
              "<svg xmlns=\"http://www.w3.org/2000/svg\" height=\"24px\"viewBox=\"0 0 24 24\"\n",
              "     width=\"24px\">\n",
              "    <g>\n",
              "        <path d=\"M19 3H5c-1.1 0-2 .9-2 2v14c0 1.1.9 2 2 2h14c1.1 0 2-.9 2-2V5c0-1.1-.9-2-2-2zM9 17H7v-7h2v7zm4 0h-2V7h2v10zm4 0h-2v-4h2v4z\"/>\n",
              "    </g>\n",
              "</svg>\n",
              "  </button>\n",
              "\n",
              "<style>\n",
              "  .colab-df-quickchart {\n",
              "    background-color: #E8F0FE;\n",
              "    border: none;\n",
              "    border-radius: 50%;\n",
              "    cursor: pointer;\n",
              "    display: none;\n",
              "    fill: #1967D2;\n",
              "    height: 32px;\n",
              "    padding: 0 0 0 0;\n",
              "    width: 32px;\n",
              "  }\n",
              "\n",
              "  .colab-df-quickchart:hover {\n",
              "    background-color: #E2EBFA;\n",
              "    box-shadow: 0px 1px 2px rgba(60, 64, 67, 0.3), 0px 1px 3px 1px rgba(60, 64, 67, 0.15);\n",
              "    fill: #174EA6;\n",
              "  }\n",
              "\n",
              "  [theme=dark] .colab-df-quickchart {\n",
              "    background-color: #3B4455;\n",
              "    fill: #D2E3FC;\n",
              "  }\n",
              "\n",
              "  [theme=dark] .colab-df-quickchart:hover {\n",
              "    background-color: #434B5C;\n",
              "    box-shadow: 0px 1px 3px 1px rgba(0, 0, 0, 0.15);\n",
              "    filter: drop-shadow(0px 1px 2px rgba(0, 0, 0, 0.3));\n",
              "    fill: #FFFFFF;\n",
              "  }\n",
              "</style>\n",
              "\n",
              "  <script>\n",
              "    async function quickchart(key) {\n",
              "      const charts = await google.colab.kernel.invokeFunction(\n",
              "          'suggestCharts', [key], {});\n",
              "    }\n",
              "    (() => {\n",
              "      let quickchartButtonEl =\n",
              "        document.querySelector('#df-df523d77-498b-44f2-afa2-8fbbd14aa8cc button');\n",
              "      quickchartButtonEl.style.display =\n",
              "        google.colab.kernel.accessAllowed ? 'block' : 'none';\n",
              "    })();\n",
              "  </script>\n",
              "</div>\n",
              "    </div>\n",
              "  </div>\n"
            ]
          },
          "metadata": {},
          "execution_count": 45
        }
      ],
      "source": [
        "test_tweet_a_new"
      ]
    },
    {
      "cell_type": "code",
      "execution_count": 333,
      "metadata": {
        "id": "blBIW9RrwWav"
      },
      "outputs": [],
      "source": [
        "test_tweet_off = test_tweet_a_new[test_tweet_a_new['class_a']=='OFF']"
      ]
    },
    {
      "cell_type": "code",
      "execution_count": 47,
      "metadata": {
        "colab": {
          "base_uri": "https://localhost:8080/",
          "height": 424
        },
        "id": "uNRiMKtNwWav",
        "outputId": "b6af5ef8-7e32-4ca6-ab5b-ad1191e87cda"
      },
      "outputs": [
        {
          "output_type": "execute_result",
          "data": {
            "text/plain": [
              "                                                 tweet class_a\n",
              "0    #WhoIsQ #WheresTheServer #DumpNike #DECLASFISA...     OFF\n",
              "4    #NoPasaran: Unity demo to oppose the far-right...     OFF\n",
              "5             . . . What the fuck did he do this time?     OFF\n",
              "7    @USER Do you get the feeling he is kissing @US...     OFF\n",
              "14                         @USER Nigga ware da hits at     OFF\n",
              "..                                                 ...     ...\n",
              "842  #Antifa are mentally unstable cowards, pretend...     OFF\n",
              "847  @USER @USER And Browning looked like dog shit ...     OFF\n",
              "853                All two of them taste like ass. URL     OFF\n",
              "855  #DespicableDems lie again about rifles. Dem Di...     OFF\n",
              "857  3 people just unfollowed me for talking about ...     OFF\n",
              "\n",
              "[240 rows x 2 columns]"
            ],
            "text/html": [
              "\n",
              "  <div id=\"df-b4b825fc-97d4-4109-8161-ec2c964ca1e1\" class=\"colab-df-container\">\n",
              "    <div>\n",
              "<style scoped>\n",
              "    .dataframe tbody tr th:only-of-type {\n",
              "        vertical-align: middle;\n",
              "    }\n",
              "\n",
              "    .dataframe tbody tr th {\n",
              "        vertical-align: top;\n",
              "    }\n",
              "\n",
              "    .dataframe thead th {\n",
              "        text-align: right;\n",
              "    }\n",
              "</style>\n",
              "<table border=\"1\" class=\"dataframe\">\n",
              "  <thead>\n",
              "    <tr style=\"text-align: right;\">\n",
              "      <th></th>\n",
              "      <th>tweet</th>\n",
              "      <th>class_a</th>\n",
              "    </tr>\n",
              "  </thead>\n",
              "  <tbody>\n",
              "    <tr>\n",
              "      <th>0</th>\n",
              "      <td>#WhoIsQ #WheresTheServer #DumpNike #DECLASFISA...</td>\n",
              "      <td>OFF</td>\n",
              "    </tr>\n",
              "    <tr>\n",
              "      <th>4</th>\n",
              "      <td>#NoPasaran: Unity demo to oppose the far-right...</td>\n",
              "      <td>OFF</td>\n",
              "    </tr>\n",
              "    <tr>\n",
              "      <th>5</th>\n",
              "      <td>. . . What the fuck did he do this time?</td>\n",
              "      <td>OFF</td>\n",
              "    </tr>\n",
              "    <tr>\n",
              "      <th>7</th>\n",
              "      <td>@USER Do you get the feeling he is kissing @US...</td>\n",
              "      <td>OFF</td>\n",
              "    </tr>\n",
              "    <tr>\n",
              "      <th>14</th>\n",
              "      <td>@USER Nigga ware da hits at</td>\n",
              "      <td>OFF</td>\n",
              "    </tr>\n",
              "    <tr>\n",
              "      <th>...</th>\n",
              "      <td>...</td>\n",
              "      <td>...</td>\n",
              "    </tr>\n",
              "    <tr>\n",
              "      <th>842</th>\n",
              "      <td>#Antifa are mentally unstable cowards, pretend...</td>\n",
              "      <td>OFF</td>\n",
              "    </tr>\n",
              "    <tr>\n",
              "      <th>847</th>\n",
              "      <td>@USER @USER And Browning looked like dog shit ...</td>\n",
              "      <td>OFF</td>\n",
              "    </tr>\n",
              "    <tr>\n",
              "      <th>853</th>\n",
              "      <td>All two of them taste like ass. URL</td>\n",
              "      <td>OFF</td>\n",
              "    </tr>\n",
              "    <tr>\n",
              "      <th>855</th>\n",
              "      <td>#DespicableDems lie again about rifles. Dem Di...</td>\n",
              "      <td>OFF</td>\n",
              "    </tr>\n",
              "    <tr>\n",
              "      <th>857</th>\n",
              "      <td>3 people just unfollowed me for talking about ...</td>\n",
              "      <td>OFF</td>\n",
              "    </tr>\n",
              "  </tbody>\n",
              "</table>\n",
              "<p>240 rows × 2 columns</p>\n",
              "</div>\n",
              "    <div class=\"colab-df-buttons\">\n",
              "\n",
              "  <div class=\"colab-df-container\">\n",
              "    <button class=\"colab-df-convert\" onclick=\"convertToInteractive('df-b4b825fc-97d4-4109-8161-ec2c964ca1e1')\"\n",
              "            title=\"Convert this dataframe to an interactive table.\"\n",
              "            style=\"display:none;\">\n",
              "\n",
              "  <svg xmlns=\"http://www.w3.org/2000/svg\" height=\"24px\" viewBox=\"0 -960 960 960\">\n",
              "    <path d=\"M120-120v-720h720v720H120Zm60-500h600v-160H180v160Zm220 220h160v-160H400v160Zm0 220h160v-160H400v160ZM180-400h160v-160H180v160Zm440 0h160v-160H620v160ZM180-180h160v-160H180v160Zm440 0h160v-160H620v160Z\"/>\n",
              "  </svg>\n",
              "    </button>\n",
              "\n",
              "  <style>\n",
              "    .colab-df-container {\n",
              "      display:flex;\n",
              "      gap: 12px;\n",
              "    }\n",
              "\n",
              "    .colab-df-convert {\n",
              "      background-color: #E8F0FE;\n",
              "      border: none;\n",
              "      border-radius: 50%;\n",
              "      cursor: pointer;\n",
              "      display: none;\n",
              "      fill: #1967D2;\n",
              "      height: 32px;\n",
              "      padding: 0 0 0 0;\n",
              "      width: 32px;\n",
              "    }\n",
              "\n",
              "    .colab-df-convert:hover {\n",
              "      background-color: #E2EBFA;\n",
              "      box-shadow: 0px 1px 2px rgba(60, 64, 67, 0.3), 0px 1px 3px 1px rgba(60, 64, 67, 0.15);\n",
              "      fill: #174EA6;\n",
              "    }\n",
              "\n",
              "    .colab-df-buttons div {\n",
              "      margin-bottom: 4px;\n",
              "    }\n",
              "\n",
              "    [theme=dark] .colab-df-convert {\n",
              "      background-color: #3B4455;\n",
              "      fill: #D2E3FC;\n",
              "    }\n",
              "\n",
              "    [theme=dark] .colab-df-convert:hover {\n",
              "      background-color: #434B5C;\n",
              "      box-shadow: 0px 1px 3px 1px rgba(0, 0, 0, 0.15);\n",
              "      filter: drop-shadow(0px 1px 2px rgba(0, 0, 0, 0.3));\n",
              "      fill: #FFFFFF;\n",
              "    }\n",
              "  </style>\n",
              "\n",
              "    <script>\n",
              "      const buttonEl =\n",
              "        document.querySelector('#df-b4b825fc-97d4-4109-8161-ec2c964ca1e1 button.colab-df-convert');\n",
              "      buttonEl.style.display =\n",
              "        google.colab.kernel.accessAllowed ? 'block' : 'none';\n",
              "\n",
              "      async function convertToInteractive(key) {\n",
              "        const element = document.querySelector('#df-b4b825fc-97d4-4109-8161-ec2c964ca1e1');\n",
              "        const dataTable =\n",
              "          await google.colab.kernel.invokeFunction('convertToInteractive',\n",
              "                                                    [key], {});\n",
              "        if (!dataTable) return;\n",
              "\n",
              "        const docLinkHtml = 'Like what you see? Visit the ' +\n",
              "          '<a target=\"_blank\" href=https://colab.research.google.com/notebooks/data_table.ipynb>data table notebook</a>'\n",
              "          + ' to learn more about interactive tables.';\n",
              "        element.innerHTML = '';\n",
              "        dataTable['output_type'] = 'display_data';\n",
              "        await google.colab.output.renderOutput(dataTable, element);\n",
              "        const docLink = document.createElement('div');\n",
              "        docLink.innerHTML = docLinkHtml;\n",
              "        element.appendChild(docLink);\n",
              "      }\n",
              "    </script>\n",
              "  </div>\n",
              "\n",
              "\n",
              "<div id=\"df-0cdc11e9-d7fa-40e7-9d71-bd5cea735a83\">\n",
              "  <button class=\"colab-df-quickchart\" onclick=\"quickchart('df-0cdc11e9-d7fa-40e7-9d71-bd5cea735a83')\"\n",
              "            title=\"Suggest charts.\"\n",
              "            style=\"display:none;\">\n",
              "\n",
              "<svg xmlns=\"http://www.w3.org/2000/svg\" height=\"24px\"viewBox=\"0 0 24 24\"\n",
              "     width=\"24px\">\n",
              "    <g>\n",
              "        <path d=\"M19 3H5c-1.1 0-2 .9-2 2v14c0 1.1.9 2 2 2h14c1.1 0 2-.9 2-2V5c0-1.1-.9-2-2-2zM9 17H7v-7h2v7zm4 0h-2V7h2v10zm4 0h-2v-4h2v4z\"/>\n",
              "    </g>\n",
              "</svg>\n",
              "  </button>\n",
              "\n",
              "<style>\n",
              "  .colab-df-quickchart {\n",
              "    background-color: #E8F0FE;\n",
              "    border: none;\n",
              "    border-radius: 50%;\n",
              "    cursor: pointer;\n",
              "    display: none;\n",
              "    fill: #1967D2;\n",
              "    height: 32px;\n",
              "    padding: 0 0 0 0;\n",
              "    width: 32px;\n",
              "  }\n",
              "\n",
              "  .colab-df-quickchart:hover {\n",
              "    background-color: #E2EBFA;\n",
              "    box-shadow: 0px 1px 2px rgba(60, 64, 67, 0.3), 0px 1px 3px 1px rgba(60, 64, 67, 0.15);\n",
              "    fill: #174EA6;\n",
              "  }\n",
              "\n",
              "  [theme=dark] .colab-df-quickchart {\n",
              "    background-color: #3B4455;\n",
              "    fill: #D2E3FC;\n",
              "  }\n",
              "\n",
              "  [theme=dark] .colab-df-quickchart:hover {\n",
              "    background-color: #434B5C;\n",
              "    box-shadow: 0px 1px 3px 1px rgba(0, 0, 0, 0.15);\n",
              "    filter: drop-shadow(0px 1px 2px rgba(0, 0, 0, 0.3));\n",
              "    fill: #FFFFFF;\n",
              "  }\n",
              "</style>\n",
              "\n",
              "  <script>\n",
              "    async function quickchart(key) {\n",
              "      const charts = await google.colab.kernel.invokeFunction(\n",
              "          'suggestCharts', [key], {});\n",
              "    }\n",
              "    (() => {\n",
              "      let quickchartButtonEl =\n",
              "        document.querySelector('#df-0cdc11e9-d7fa-40e7-9d71-bd5cea735a83 button');\n",
              "      quickchartButtonEl.style.display =\n",
              "        google.colab.kernel.accessAllowed ? 'block' : 'none';\n",
              "    })();\n",
              "  </script>\n",
              "</div>\n",
              "    </div>\n",
              "  </div>\n"
            ]
          },
          "metadata": {},
          "execution_count": 47
        }
      ],
      "source": [
        "test_tweet_off"
      ]
    },
    {
      "cell_type": "code",
      "execution_count": 48,
      "metadata": {
        "colab": {
          "base_uri": "https://localhost:8080/",
          "height": 53
        },
        "id": "eEUypEvXwWav",
        "outputId": "141c8d38-90cc-424b-d773-603253229bb3"
      },
      "outputs": [
        {
          "output_type": "execute_result",
          "data": {
            "text/plain": [
              "'#WhoIsQ #WheresTheServer #DumpNike #DECLASFISA Democrats Support Antifa, Muslim Brotherhood, MS13, ISIS, Pedophilia, Child Trafficking, Taxpayer Funded Abortion’s, Election Fraud, Sedition And Treason!!! #LockThemAllUp #WWG1WGA #QAnon \\u2066@USER URL'"
            ],
            "application/vnd.google.colaboratory.intrinsic+json": {
              "type": "string"
            }
          },
          "metadata": {},
          "execution_count": 48
        }
      ],
      "source": [
        "test_tweet_off['tweet'][0]"
      ]
    },
    {
      "cell_type": "code",
      "execution_count": 49,
      "metadata": {
        "colab": {
          "base_uri": "https://localhost:8080/"
        },
        "id": "MCKVT1GKwWaw",
        "outputId": "655f1ca5-2391-4279-90e9-4fd340facdc4"
      },
      "outputs": [
        {
          "output_type": "execute_result",
          "data": {
            "text/plain": [
              "Int64Index([  0,   4,   5,   7,  14,  15,  27,  29,  30,  38,\n",
              "            ...\n",
              "            826, 827, 833, 834, 835, 842, 847, 853, 855, 857],\n",
              "           dtype='int64', length=240)"
            ]
          },
          "metadata": {},
          "execution_count": 49
        }
      ],
      "source": [
        "test_tweet_off.index"
      ]
    },
    {
      "cell_type": "code",
      "source": [
        "test_tweet_off.index.value_counts()"
      ],
      "metadata": {
        "colab": {
          "base_uri": "https://localhost:8080/"
        },
        "id": "Gv2O2mLf58Hw",
        "outputId": "2632f5b3-c055-4b7f-a5ba-9a6107142a84"
      },
      "execution_count": 56,
      "outputs": [
        {
          "output_type": "execute_result",
          "data": {
            "text/plain": [
              "0      1\n",
              "4      1\n",
              "507    1\n",
              "509    1\n",
              "511    1\n",
              "      ..\n",
              "277    1\n",
              "279    1\n",
              "281    1\n",
              "282    1\n",
              "857    1\n",
              "Length: 240, dtype: int64"
            ]
          },
          "metadata": {},
          "execution_count": 56
        }
      ]
    },
    {
      "cell_type": "code",
      "execution_count": 50,
      "metadata": {
        "colab": {
          "base_uri": "https://localhost:8080/"
        },
        "id": "QXdbwnaxwWaw",
        "outputId": "bc5629d5-d363-4470-fc12-1ed947d8e541"
      },
      "outputs": [
        {
          "output_type": "stream",
          "name": "stdout",
          "text": [
            "[0, 4, 5, 7, 14, 15, 27, 29, 30, 38, 39, 40, 43, 47, 48, 51, 59, 61, 63, 64, 70, 72, 77, 80, 81, 85, 87, 88, 98, 99, 100, 107, 108, 110, 115, 129, 130, 135, 136, 138, 140, 142, 143, 147, 152, 153, 154, 156, 160, 164, 168, 173, 175, 177, 180, 182, 185, 186, 189, 196, 201, 202, 203, 207, 212, 215, 216, 221, 222, 228, 229, 233, 241, 243, 247, 249, 258, 259, 260, 262, 264, 265, 274, 275, 277, 279, 281, 282, 297, 307, 308, 309, 310, 312, 313, 314, 315, 323, 324, 326, 331, 333, 334, 335, 339, 347, 351, 352, 357, 362, 369, 370, 371, 372, 376, 377, 382, 389, 400, 403, 406, 408, 413, 414, 420, 422, 426, 428, 429, 432, 433, 437, 439, 443, 445, 447, 455, 460, 462, 468, 470, 475, 478, 480, 483, 488, 491, 494, 495, 502, 503, 505, 507, 509, 511, 512, 515, 526, 531, 533, 549, 554, 555, 559, 566, 567, 569, 572, 579, 584, 587, 591, 592, 594, 601, 609, 613, 614, 615, 617, 629, 632, 634, 637, 638, 639, 640, 649, 657, 663, 665, 667, 676, 679, 681, 690, 691, 698, 701, 702, 703, 711, 730, 732, 736, 737, 740, 741, 744, 748, 749, 751, 755, 762, 764, 765, 767, 771, 774, 775, 778, 782, 786, 791, 797, 800, 810, 814, 818, 823, 826, 827, 833, 834, 835, 842, 847, 853, 855, 857]\n"
          ]
        }
      ],
      "source": [
        "index_list = list(test_tweet_off.index)\n",
        "print(index_list)"
      ]
    },
    {
      "cell_type": "code",
      "source": [
        "import random"
      ],
      "metadata": {
        "id": "1wGFRFLSCqbH"
      },
      "execution_count": 229,
      "outputs": []
    },
    {
      "cell_type": "code",
      "execution_count": null,
      "metadata": {
        "id": "hz3y9vW1wWaw"
      },
      "outputs": [],
      "source": [
        "\n",
        "random_indexes = random.sample(index_list, 100)"
      ]
    },
    {
      "cell_type": "code",
      "execution_count": null,
      "metadata": {
        "id": "pFRQWaLwwWaw",
        "outputId": "2fc1bbf0-a2e0-49f4-aae4-c3815fc3e065"
      },
      "outputs": [
        {
          "name": "stdout",
          "output_type": "stream",
          "text": [
            "[810, 334, 313, 475, 203, 782, 737, 282, 762, 420, 160, 826, 736, 533, 483, 755, 629, 835, 732, 347, 601, 432, 730, 326, 164, 422, 85, 249, 98, 413, 100, 377, 531, 129, 480, 308, 265, 173, 447, 443, 212, 408, 749, 478, 147, 153, 433, 613, 260, 617, 312, 216, 63, 445, 775, 572, 307, 505, 437, 800, 180, 51, 470, 30, 554, 138, 228, 791, 495, 14, 241, 681, 277, 333, 207, 426, 156, 842, 140, 667, 215, 185, 247, 676, 765, 526, 591, 491, 323, 406, 638, 751, 47, 264, 59, 460, 7, 814, 833, 258]\n"
          ]
        }
      ],
      "source": [
        "print(random_indexes)"
      ]
    },
    {
      "cell_type": "code",
      "execution_count": null,
      "metadata": {
        "id": "CBfs9h4QwWaw",
        "outputId": "eb051b57-946e-43fe-cc06-2dedf72c5316"
      },
      "outputs": [
        {
          "name": "stdout",
          "output_type": "stream",
          "text": [
            "[774, 778, 698, 488, 260, 38, 39, 594, 282, 241, 741, 443, 711, 676, 640, 331, 362, 107, 61, 460, 857, 403, 130, 786, 408, 559, 764, 281, 667, 115, 63, 853, 690, 262, 579, 168, 847, 462, 85, 40, 614, 736, 632, 352, 216, 30, 196, 313, 422, 447]\n"
          ]
        }
      ],
      "source": [
        "print(random_indexes[:50])"
      ]
    },
    {
      "cell_type": "code",
      "execution_count": 57,
      "metadata": {
        "id": "am-WvFoQwWaw"
      },
      "outputs": [],
      "source": [
        "test_tweet_off_new = test_tweet_off"
      ]
    },
    {
      "cell_type": "code",
      "execution_count": 58,
      "metadata": {
        "colab": {
          "base_uri": "https://localhost:8080/",
          "height": 424
        },
        "id": "fWITFuE_wWaw",
        "outputId": "56d657c5-9800-48a1-85a4-18750e415632"
      },
      "outputs": [
        {
          "output_type": "execute_result",
          "data": {
            "text/plain": [
              "                                                 tweet class_a\n",
              "0    #WhoIsQ #WheresTheServer #DumpNike #DECLASFISA...     OFF\n",
              "4    #NoPasaran: Unity demo to oppose the far-right...     OFF\n",
              "5             . . . What the fuck did he do this time?     OFF\n",
              "7    @USER Do you get the feeling he is kissing @US...     OFF\n",
              "14                         @USER Nigga ware da hits at     OFF\n",
              "..                                                 ...     ...\n",
              "842  #Antifa are mentally unstable cowards, pretend...     OFF\n",
              "847  @USER @USER And Browning looked like dog shit ...     OFF\n",
              "853                All two of them taste like ass. URL     OFF\n",
              "855  #DespicableDems lie again about rifles. Dem Di...     OFF\n",
              "857  3 people just unfollowed me for talking about ...     OFF\n",
              "\n",
              "[240 rows x 2 columns]"
            ],
            "text/html": [
              "\n",
              "  <div id=\"df-0ed9c7d8-5cfe-4cd5-b4e9-b37cbd46741c\" class=\"colab-df-container\">\n",
              "    <div>\n",
              "<style scoped>\n",
              "    .dataframe tbody tr th:only-of-type {\n",
              "        vertical-align: middle;\n",
              "    }\n",
              "\n",
              "    .dataframe tbody tr th {\n",
              "        vertical-align: top;\n",
              "    }\n",
              "\n",
              "    .dataframe thead th {\n",
              "        text-align: right;\n",
              "    }\n",
              "</style>\n",
              "<table border=\"1\" class=\"dataframe\">\n",
              "  <thead>\n",
              "    <tr style=\"text-align: right;\">\n",
              "      <th></th>\n",
              "      <th>tweet</th>\n",
              "      <th>class_a</th>\n",
              "    </tr>\n",
              "  </thead>\n",
              "  <tbody>\n",
              "    <tr>\n",
              "      <th>0</th>\n",
              "      <td>#WhoIsQ #WheresTheServer #DumpNike #DECLASFISA...</td>\n",
              "      <td>OFF</td>\n",
              "    </tr>\n",
              "    <tr>\n",
              "      <th>4</th>\n",
              "      <td>#NoPasaran: Unity demo to oppose the far-right...</td>\n",
              "      <td>OFF</td>\n",
              "    </tr>\n",
              "    <tr>\n",
              "      <th>5</th>\n",
              "      <td>. . . What the fuck did he do this time?</td>\n",
              "      <td>OFF</td>\n",
              "    </tr>\n",
              "    <tr>\n",
              "      <th>7</th>\n",
              "      <td>@USER Do you get the feeling he is kissing @US...</td>\n",
              "      <td>OFF</td>\n",
              "    </tr>\n",
              "    <tr>\n",
              "      <th>14</th>\n",
              "      <td>@USER Nigga ware da hits at</td>\n",
              "      <td>OFF</td>\n",
              "    </tr>\n",
              "    <tr>\n",
              "      <th>...</th>\n",
              "      <td>...</td>\n",
              "      <td>...</td>\n",
              "    </tr>\n",
              "    <tr>\n",
              "      <th>842</th>\n",
              "      <td>#Antifa are mentally unstable cowards, pretend...</td>\n",
              "      <td>OFF</td>\n",
              "    </tr>\n",
              "    <tr>\n",
              "      <th>847</th>\n",
              "      <td>@USER @USER And Browning looked like dog shit ...</td>\n",
              "      <td>OFF</td>\n",
              "    </tr>\n",
              "    <tr>\n",
              "      <th>853</th>\n",
              "      <td>All two of them taste like ass. URL</td>\n",
              "      <td>OFF</td>\n",
              "    </tr>\n",
              "    <tr>\n",
              "      <th>855</th>\n",
              "      <td>#DespicableDems lie again about rifles. Dem Di...</td>\n",
              "      <td>OFF</td>\n",
              "    </tr>\n",
              "    <tr>\n",
              "      <th>857</th>\n",
              "      <td>3 people just unfollowed me for talking about ...</td>\n",
              "      <td>OFF</td>\n",
              "    </tr>\n",
              "  </tbody>\n",
              "</table>\n",
              "<p>240 rows × 2 columns</p>\n",
              "</div>\n",
              "    <div class=\"colab-df-buttons\">\n",
              "\n",
              "  <div class=\"colab-df-container\">\n",
              "    <button class=\"colab-df-convert\" onclick=\"convertToInteractive('df-0ed9c7d8-5cfe-4cd5-b4e9-b37cbd46741c')\"\n",
              "            title=\"Convert this dataframe to an interactive table.\"\n",
              "            style=\"display:none;\">\n",
              "\n",
              "  <svg xmlns=\"http://www.w3.org/2000/svg\" height=\"24px\" viewBox=\"0 -960 960 960\">\n",
              "    <path d=\"M120-120v-720h720v720H120Zm60-500h600v-160H180v160Zm220 220h160v-160H400v160Zm0 220h160v-160H400v160ZM180-400h160v-160H180v160Zm440 0h160v-160H620v160ZM180-180h160v-160H180v160Zm440 0h160v-160H620v160Z\"/>\n",
              "  </svg>\n",
              "    </button>\n",
              "\n",
              "  <style>\n",
              "    .colab-df-container {\n",
              "      display:flex;\n",
              "      gap: 12px;\n",
              "    }\n",
              "\n",
              "    .colab-df-convert {\n",
              "      background-color: #E8F0FE;\n",
              "      border: none;\n",
              "      border-radius: 50%;\n",
              "      cursor: pointer;\n",
              "      display: none;\n",
              "      fill: #1967D2;\n",
              "      height: 32px;\n",
              "      padding: 0 0 0 0;\n",
              "      width: 32px;\n",
              "    }\n",
              "\n",
              "    .colab-df-convert:hover {\n",
              "      background-color: #E2EBFA;\n",
              "      box-shadow: 0px 1px 2px rgba(60, 64, 67, 0.3), 0px 1px 3px 1px rgba(60, 64, 67, 0.15);\n",
              "      fill: #174EA6;\n",
              "    }\n",
              "\n",
              "    .colab-df-buttons div {\n",
              "      margin-bottom: 4px;\n",
              "    }\n",
              "\n",
              "    [theme=dark] .colab-df-convert {\n",
              "      background-color: #3B4455;\n",
              "      fill: #D2E3FC;\n",
              "    }\n",
              "\n",
              "    [theme=dark] .colab-df-convert:hover {\n",
              "      background-color: #434B5C;\n",
              "      box-shadow: 0px 1px 3px 1px rgba(0, 0, 0, 0.15);\n",
              "      filter: drop-shadow(0px 1px 2px rgba(0, 0, 0, 0.3));\n",
              "      fill: #FFFFFF;\n",
              "    }\n",
              "  </style>\n",
              "\n",
              "    <script>\n",
              "      const buttonEl =\n",
              "        document.querySelector('#df-0ed9c7d8-5cfe-4cd5-b4e9-b37cbd46741c button.colab-df-convert');\n",
              "      buttonEl.style.display =\n",
              "        google.colab.kernel.accessAllowed ? 'block' : 'none';\n",
              "\n",
              "      async function convertToInteractive(key) {\n",
              "        const element = document.querySelector('#df-0ed9c7d8-5cfe-4cd5-b4e9-b37cbd46741c');\n",
              "        const dataTable =\n",
              "          await google.colab.kernel.invokeFunction('convertToInteractive',\n",
              "                                                    [key], {});\n",
              "        if (!dataTable) return;\n",
              "\n",
              "        const docLinkHtml = 'Like what you see? Visit the ' +\n",
              "          '<a target=\"_blank\" href=https://colab.research.google.com/notebooks/data_table.ipynb>data table notebook</a>'\n",
              "          + ' to learn more about interactive tables.';\n",
              "        element.innerHTML = '';\n",
              "        dataTable['output_type'] = 'display_data';\n",
              "        await google.colab.output.renderOutput(dataTable, element);\n",
              "        const docLink = document.createElement('div');\n",
              "        docLink.innerHTML = docLinkHtml;\n",
              "        element.appendChild(docLink);\n",
              "      }\n",
              "    </script>\n",
              "  </div>\n",
              "\n",
              "\n",
              "<div id=\"df-3f598b8e-00c4-4588-b4cc-863c38526b29\">\n",
              "  <button class=\"colab-df-quickchart\" onclick=\"quickchart('df-3f598b8e-00c4-4588-b4cc-863c38526b29')\"\n",
              "            title=\"Suggest charts.\"\n",
              "            style=\"display:none;\">\n",
              "\n",
              "<svg xmlns=\"http://www.w3.org/2000/svg\" height=\"24px\"viewBox=\"0 0 24 24\"\n",
              "     width=\"24px\">\n",
              "    <g>\n",
              "        <path d=\"M19 3H5c-1.1 0-2 .9-2 2v14c0 1.1.9 2 2 2h14c1.1 0 2-.9 2-2V5c0-1.1-.9-2-2-2zM9 17H7v-7h2v7zm4 0h-2V7h2v10zm4 0h-2v-4h2v4z\"/>\n",
              "    </g>\n",
              "</svg>\n",
              "  </button>\n",
              "\n",
              "<style>\n",
              "  .colab-df-quickchart {\n",
              "    background-color: #E8F0FE;\n",
              "    border: none;\n",
              "    border-radius: 50%;\n",
              "    cursor: pointer;\n",
              "    display: none;\n",
              "    fill: #1967D2;\n",
              "    height: 32px;\n",
              "    padding: 0 0 0 0;\n",
              "    width: 32px;\n",
              "  }\n",
              "\n",
              "  .colab-df-quickchart:hover {\n",
              "    background-color: #E2EBFA;\n",
              "    box-shadow: 0px 1px 2px rgba(60, 64, 67, 0.3), 0px 1px 3px 1px rgba(60, 64, 67, 0.15);\n",
              "    fill: #174EA6;\n",
              "  }\n",
              "\n",
              "  [theme=dark] .colab-df-quickchart {\n",
              "    background-color: #3B4455;\n",
              "    fill: #D2E3FC;\n",
              "  }\n",
              "\n",
              "  [theme=dark] .colab-df-quickchart:hover {\n",
              "    background-color: #434B5C;\n",
              "    box-shadow: 0px 1px 3px 1px rgba(0, 0, 0, 0.15);\n",
              "    filter: drop-shadow(0px 1px 2px rgba(0, 0, 0, 0.3));\n",
              "    fill: #FFFFFF;\n",
              "  }\n",
              "</style>\n",
              "\n",
              "  <script>\n",
              "    async function quickchart(key) {\n",
              "      const charts = await google.colab.kernel.invokeFunction(\n",
              "          'suggestCharts', [key], {});\n",
              "    }\n",
              "    (() => {\n",
              "      let quickchartButtonEl =\n",
              "        document.querySelector('#df-3f598b8e-00c4-4588-b4cc-863c38526b29 button');\n",
              "      quickchartButtonEl.style.display =\n",
              "        google.colab.kernel.accessAllowed ? 'block' : 'none';\n",
              "    })();\n",
              "  </script>\n",
              "</div>\n",
              "    </div>\n",
              "  </div>\n"
            ]
          },
          "metadata": {},
          "execution_count": 58
        }
      ],
      "source": [
        "test_tweet_off_new"
      ]
    },
    {
      "cell_type": "code",
      "source": [
        "test_tweet_off_new0 = test_tweet_off"
      ],
      "metadata": {
        "id": "81KGBqPRM7UW"
      },
      "execution_count": 271,
      "outputs": []
    },
    {
      "cell_type": "code",
      "source": [
        "test_tweet_off_new0.shape"
      ],
      "metadata": {
        "colab": {
          "base_uri": "https://localhost:8080/"
        },
        "id": "TTTaLUi2M_Dt",
        "outputId": "07f10120-f0d9-4708-a745-67c6fe9142a7"
      },
      "execution_count": 272,
      "outputs": [
        {
          "output_type": "execute_result",
          "data": {
            "text/plain": [
              "(240, 2)"
            ]
          },
          "metadata": {},
          "execution_count": 272
        }
      ]
    },
    {
      "cell_type": "code",
      "source": [
        "test_tweet_off_new0_0 = test_tweet_off_new0.loc[index_new2]\n"
      ],
      "metadata": {
        "id": "AMW5syKtM_Jk"
      },
      "execution_count": 273,
      "outputs": []
    },
    {
      "cell_type": "code",
      "source": [
        "\n",
        "merged_df_00 = pd.concat([test_tweet_not_new, test_tweet_off_new0_0], ignore_index=True)\n",
        "\n",
        "# Shuffle the index\n",
        "test_00_df = merged_df_00.sample(frac=1,random_state=42).reset_index(drop=True)"
      ],
      "metadata": {
        "id": "Acg6lptJM_Pk"
      },
      "execution_count": 274,
      "outputs": []
    },
    {
      "cell_type": "code",
      "source": [
        "clean_tweets(test_00_df)"
      ],
      "metadata": {
        "colab": {
          "base_uri": "https://localhost:8080/"
        },
        "id": "dMoeVNJjM_Wg",
        "outputId": "b5457b74-5bd5-450f-bdb5-1e1314dbf723"
      },
      "execution_count": 275,
      "outputs": [
        {
          "output_type": "stream",
          "name": "stderr",
          "text": [
            "<ipython-input-10-58d0d99cd0a4>:9: FutureWarning: The default value of regex will change from True to False in a future version.\n",
            "  df.loc[:, 'tweet'] = df.tweet.str.replace('\\d+','') #Remove numbers\n",
            "<ipython-input-10-58d0d99cd0a4>:14: FutureWarning: The default value of regex will change from True to False in a future version. In addition, single character regular expressions will *not* be treated as literal strings when regex=True.\n",
            "  df.loc[:, 'tweet'] = df.tweet.str.replace(punctuation, '')\n"
          ]
        }
      ]
    },
    {
      "cell_type": "code",
      "source": [
        "test_00_df.update(test_00_df[['tweet']].applymap('\\'{}\\''.format))\n",
        "\n",
        "test_00_df.head()"
      ],
      "metadata": {
        "colab": {
          "base_uri": "https://localhost:8080/",
          "height": 206
        },
        "id": "VK3WY5yVM_ci",
        "outputId": "f3526583-2061-4ee6-b4dd-ea146f6d6196"
      },
      "execution_count": 276,
      "outputs": [
        {
          "output_type": "execute_result",
          "data": {
            "text/plain": [
              "                                               tweet class_a\n",
              "0  'gmm roastmycat hi   this is fiona she is abou...     NOT\n",
              "1  ' fakenewsmedia is the enemyofthepeople  they ...     NOT\n",
              "2  'can you believe it a hundred rounds goon you ...     OFF\n",
              "3  'alert  a win for the progressive conservative...     NOT\n",
              "4  'killshot easily shows ya why he is a a rap go...     NOT"
            ],
            "text/html": [
              "\n",
              "  <div id=\"df-b2106404-2628-4880-8372-19dd2e1dcc48\" class=\"colab-df-container\">\n",
              "    <div>\n",
              "<style scoped>\n",
              "    .dataframe tbody tr th:only-of-type {\n",
              "        vertical-align: middle;\n",
              "    }\n",
              "\n",
              "    .dataframe tbody tr th {\n",
              "        vertical-align: top;\n",
              "    }\n",
              "\n",
              "    .dataframe thead th {\n",
              "        text-align: right;\n",
              "    }\n",
              "</style>\n",
              "<table border=\"1\" class=\"dataframe\">\n",
              "  <thead>\n",
              "    <tr style=\"text-align: right;\">\n",
              "      <th></th>\n",
              "      <th>tweet</th>\n",
              "      <th>class_a</th>\n",
              "    </tr>\n",
              "  </thead>\n",
              "  <tbody>\n",
              "    <tr>\n",
              "      <th>0</th>\n",
              "      <td>'gmm roastmycat hi   this is fiona she is abou...</td>\n",
              "      <td>NOT</td>\n",
              "    </tr>\n",
              "    <tr>\n",
              "      <th>1</th>\n",
              "      <td>' fakenewsmedia is the enemyofthepeople  they ...</td>\n",
              "      <td>NOT</td>\n",
              "    </tr>\n",
              "    <tr>\n",
              "      <th>2</th>\n",
              "      <td>'can you believe it a hundred rounds goon you ...</td>\n",
              "      <td>OFF</td>\n",
              "    </tr>\n",
              "    <tr>\n",
              "      <th>3</th>\n",
              "      <td>'alert  a win for the progressive conservative...</td>\n",
              "      <td>NOT</td>\n",
              "    </tr>\n",
              "    <tr>\n",
              "      <th>4</th>\n",
              "      <td>'killshot easily shows ya why he is a a rap go...</td>\n",
              "      <td>NOT</td>\n",
              "    </tr>\n",
              "  </tbody>\n",
              "</table>\n",
              "</div>\n",
              "    <div class=\"colab-df-buttons\">\n",
              "\n",
              "  <div class=\"colab-df-container\">\n",
              "    <button class=\"colab-df-convert\" onclick=\"convertToInteractive('df-b2106404-2628-4880-8372-19dd2e1dcc48')\"\n",
              "            title=\"Convert this dataframe to an interactive table.\"\n",
              "            style=\"display:none;\">\n",
              "\n",
              "  <svg xmlns=\"http://www.w3.org/2000/svg\" height=\"24px\" viewBox=\"0 -960 960 960\">\n",
              "    <path d=\"M120-120v-720h720v720H120Zm60-500h600v-160H180v160Zm220 220h160v-160H400v160Zm0 220h160v-160H400v160ZM180-400h160v-160H180v160Zm440 0h160v-160H620v160ZM180-180h160v-160H180v160Zm440 0h160v-160H620v160Z\"/>\n",
              "  </svg>\n",
              "    </button>\n",
              "\n",
              "  <style>\n",
              "    .colab-df-container {\n",
              "      display:flex;\n",
              "      gap: 12px;\n",
              "    }\n",
              "\n",
              "    .colab-df-convert {\n",
              "      background-color: #E8F0FE;\n",
              "      border: none;\n",
              "      border-radius: 50%;\n",
              "      cursor: pointer;\n",
              "      display: none;\n",
              "      fill: #1967D2;\n",
              "      height: 32px;\n",
              "      padding: 0 0 0 0;\n",
              "      width: 32px;\n",
              "    }\n",
              "\n",
              "    .colab-df-convert:hover {\n",
              "      background-color: #E2EBFA;\n",
              "      box-shadow: 0px 1px 2px rgba(60, 64, 67, 0.3), 0px 1px 3px 1px rgba(60, 64, 67, 0.15);\n",
              "      fill: #174EA6;\n",
              "    }\n",
              "\n",
              "    .colab-df-buttons div {\n",
              "      margin-bottom: 4px;\n",
              "    }\n",
              "\n",
              "    [theme=dark] .colab-df-convert {\n",
              "      background-color: #3B4455;\n",
              "      fill: #D2E3FC;\n",
              "    }\n",
              "\n",
              "    [theme=dark] .colab-df-convert:hover {\n",
              "      background-color: #434B5C;\n",
              "      box-shadow: 0px 1px 3px 1px rgba(0, 0, 0, 0.15);\n",
              "      filter: drop-shadow(0px 1px 2px rgba(0, 0, 0, 0.3));\n",
              "      fill: #FFFFFF;\n",
              "    }\n",
              "  </style>\n",
              "\n",
              "    <script>\n",
              "      const buttonEl =\n",
              "        document.querySelector('#df-b2106404-2628-4880-8372-19dd2e1dcc48 button.colab-df-convert');\n",
              "      buttonEl.style.display =\n",
              "        google.colab.kernel.accessAllowed ? 'block' : 'none';\n",
              "\n",
              "      async function convertToInteractive(key) {\n",
              "        const element = document.querySelector('#df-b2106404-2628-4880-8372-19dd2e1dcc48');\n",
              "        const dataTable =\n",
              "          await google.colab.kernel.invokeFunction('convertToInteractive',\n",
              "                                                    [key], {});\n",
              "        if (!dataTable) return;\n",
              "\n",
              "        const docLinkHtml = 'Like what you see? Visit the ' +\n",
              "          '<a target=\"_blank\" href=https://colab.research.google.com/notebooks/data_table.ipynb>data table notebook</a>'\n",
              "          + ' to learn more about interactive tables.';\n",
              "        element.innerHTML = '';\n",
              "        dataTable['output_type'] = 'display_data';\n",
              "        await google.colab.output.renderOutput(dataTable, element);\n",
              "        const docLink = document.createElement('div');\n",
              "        docLink.innerHTML = docLinkHtml;\n",
              "        element.appendChild(docLink);\n",
              "      }\n",
              "    </script>\n",
              "  </div>\n",
              "\n",
              "\n",
              "<div id=\"df-14cd9306-261e-4532-9e90-7909fa6b1c1c\">\n",
              "  <button class=\"colab-df-quickchart\" onclick=\"quickchart('df-14cd9306-261e-4532-9e90-7909fa6b1c1c')\"\n",
              "            title=\"Suggest charts.\"\n",
              "            style=\"display:none;\">\n",
              "\n",
              "<svg xmlns=\"http://www.w3.org/2000/svg\" height=\"24px\"viewBox=\"0 0 24 24\"\n",
              "     width=\"24px\">\n",
              "    <g>\n",
              "        <path d=\"M19 3H5c-1.1 0-2 .9-2 2v14c0 1.1.9 2 2 2h14c1.1 0 2-.9 2-2V5c0-1.1-.9-2-2-2zM9 17H7v-7h2v7zm4 0h-2V7h2v10zm4 0h-2v-4h2v4z\"/>\n",
              "    </g>\n",
              "</svg>\n",
              "  </button>\n",
              "\n",
              "<style>\n",
              "  .colab-df-quickchart {\n",
              "    background-color: #E8F0FE;\n",
              "    border: none;\n",
              "    border-radius: 50%;\n",
              "    cursor: pointer;\n",
              "    display: none;\n",
              "    fill: #1967D2;\n",
              "    height: 32px;\n",
              "    padding: 0 0 0 0;\n",
              "    width: 32px;\n",
              "  }\n",
              "\n",
              "  .colab-df-quickchart:hover {\n",
              "    background-color: #E2EBFA;\n",
              "    box-shadow: 0px 1px 2px rgba(60, 64, 67, 0.3), 0px 1px 3px 1px rgba(60, 64, 67, 0.15);\n",
              "    fill: #174EA6;\n",
              "  }\n",
              "\n",
              "  [theme=dark] .colab-df-quickchart {\n",
              "    background-color: #3B4455;\n",
              "    fill: #D2E3FC;\n",
              "  }\n",
              "\n",
              "  [theme=dark] .colab-df-quickchart:hover {\n",
              "    background-color: #434B5C;\n",
              "    box-shadow: 0px 1px 3px 1px rgba(0, 0, 0, 0.15);\n",
              "    filter: drop-shadow(0px 1px 2px rgba(0, 0, 0, 0.3));\n",
              "    fill: #FFFFFF;\n",
              "  }\n",
              "</style>\n",
              "\n",
              "  <script>\n",
              "    async function quickchart(key) {\n",
              "      const charts = await google.colab.kernel.invokeFunction(\n",
              "          'suggestCharts', [key], {});\n",
              "    }\n",
              "    (() => {\n",
              "      let quickchartButtonEl =\n",
              "        document.querySelector('#df-14cd9306-261e-4532-9e90-7909fa6b1c1c button');\n",
              "      quickchartButtonEl.style.display =\n",
              "        google.colab.kernel.accessAllowed ? 'block' : 'none';\n",
              "    })();\n",
              "  </script>\n",
              "</div>\n",
              "    </div>\n",
              "  </div>\n"
            ]
          },
          "metadata": {},
          "execution_count": 276
        }
      ]
    },
    {
      "cell_type": "code",
      "source": [
        "test_00_df[\"class_a_code\"] = encoder.fit_transform(test_00_df[\"class_a\"])"
      ],
      "metadata": {
        "id": "Xm5G_hSUM_iM"
      },
      "execution_count": 277,
      "outputs": []
    },
    {
      "cell_type": "code",
      "source": [
        "X_test_00 = test_00_df['tweet']\n",
        "y_test_00 = test_00_df['class_a_code']"
      ],
      "metadata": {
        "id": "S-i_dt5lODEH"
      },
      "execution_count": 278,
      "outputs": []
    },
    {
      "cell_type": "code",
      "source": [
        "encoder = LabelEncoder()\n",
        "train_labels = encoder.fit_transform(y_train)\n",
        "\n",
        "test_labels_00 = encoder.transform(y_test_00)"
      ],
      "metadata": {
        "id": "EHAdGi_RODKh"
      },
      "execution_count": 279,
      "outputs": []
    },
    {
      "cell_type": "code",
      "source": [
        "test_encodings_00 = tokenizer(list(X_test_00), truncation=True, padding=True, max_length=256)"
      ],
      "metadata": {
        "id": "z6Nu3e07ODRq"
      },
      "execution_count": 280,
      "outputs": []
    },
    {
      "cell_type": "code",
      "source": [
        "test_dataset_00 = tf.data.Dataset.from_tensor_slices((\n",
        "    dict(test_encodings_00),\n",
        "    test_labels_00\n",
        ")).batch(16)"
      ],
      "metadata": {
        "id": "-9JptpJVODYq"
      },
      "execution_count": 281,
      "outputs": []
    },
    {
      "cell_type": "code",
      "source": [
        "# Get the model predictions\n",
        "predictions_00 = tf.argmax(model.predict(test_dataset_00)[0], axis=-1)\n"
      ],
      "metadata": {
        "colab": {
          "base_uri": "https://localhost:8080/"
        },
        "id": "ukUsUnhmOqTK",
        "outputId": "e095c329-acfb-4103-c18c-23d61ddc648e"
      },
      "execution_count": 282,
      "outputs": [
        {
          "output_type": "stream",
          "name": "stdout",
          "text": [
            "10/10 [==============================] - 1s 110ms/step\n"
          ]
        }
      ]
    },
    {
      "cell_type": "code",
      "source": [
        "y_test_inverse_00 = encoder.inverse_transform(y_test_00)\n",
        "predictions_inverse_00 = encoder.inverse_transform(predictions_00.numpy())\n",
        "\n",
        "# Generate the classification report\n",
        "report_00 = classification_report(y_test_inverse_00, predictions_inverse_00,\n",
        "                               target_names=encoder.classes_.astype(str))\n",
        "print(report_00)"
      ],
      "metadata": {
        "colab": {
          "base_uri": "https://localhost:8080/"
        },
        "id": "PhzEBypZOqYF",
        "outputId": "79dc8139-c2a2-4291-8519-39156350a915"
      },
      "execution_count": 283,
      "outputs": [
        {
          "output_type": "stream",
          "name": "stdout",
          "text": [
            "              precision    recall  f1-score   support\n",
            "\n",
            "           0       0.69      0.85      0.76       100\n",
            "           1       0.44      0.24      0.31        50\n",
            "\n",
            "    accuracy                           0.65       150\n",
            "   macro avg       0.57      0.54      0.54       150\n",
            "weighted avg       0.61      0.65      0.61       150\n",
            "\n"
          ]
        }
      ]
    },
    {
      "cell_type": "code",
      "source": [],
      "metadata": {
        "id": "guAT09rZOqdU"
      },
      "execution_count": null,
      "outputs": []
    },
    {
      "cell_type": "code",
      "source": [],
      "metadata": {
        "id": "m4k7Nmy2Oqil"
      },
      "execution_count": null,
      "outputs": []
    },
    {
      "cell_type": "code",
      "source": [],
      "metadata": {
        "id": "vTwWdhqnOqnd"
      },
      "execution_count": null,
      "outputs": []
    },
    {
      "cell_type": "code",
      "source": [],
      "metadata": {
        "id": "yu91EAArOqsv"
      },
      "execution_count": null,
      "outputs": []
    },
    {
      "cell_type": "code",
      "source": [],
      "metadata": {
        "id": "lpZ5-n4RODel"
      },
      "execution_count": null,
      "outputs": []
    },
    {
      "cell_type": "code",
      "source": [],
      "metadata": {
        "id": "UrxFmE1XM_ns"
      },
      "execution_count": null,
      "outputs": []
    },
    {
      "cell_type": "code",
      "execution_count": 240,
      "metadata": {
        "colab": {
          "base_uri": "https://localhost:8080/",
          "height": 35
        },
        "id": "za1VwEerwWaw",
        "outputId": "b4dcb77d-87c5-490e-fb38-196822d9f430"
      },
      "outputs": [
        {
          "output_type": "execute_result",
          "data": {
            "text/plain": [
              "'Both men and women appear to face similar circumstances, which is worth noting. The URL could reflect an experience common to both genders.'"
            ],
            "application/vnd.google.colaboratory.intrinsic+json": {
              "type": "string"
            }
          },
          "metadata": {},
          "execution_count": 240
        }
      ],
      "source": [
        "test_tweet_off_new['tweet'][216]"
      ]
    },
    {
      "cell_type": "code",
      "execution_count": 209,
      "metadata": {
        "id": "JVgXk2ORwWaw"
      },
      "outputs": [],
      "source": [
        "index_new = [27,370,334,702,857,243,460,827,326,30,221,617,173,85,371,567,428,740,439,408,420,638,663,377,775,502,468,177,180,422,262,335,774,555,657,201,222,511,549,509,587,771,437,800,108,207,609,156,0,857]"
      ]
    },
    {
      "cell_type": "markdown",
      "metadata": {
        "id": "QIFYeBrQwWaw"
      },
      "source": [
        "# ChatGPT 3.5 with rephrasing less aggressive"
      ]
    },
    {
      "cell_type": "code",
      "execution_count": 61,
      "metadata": {
        "colab": {
          "base_uri": "https://localhost:8080/"
        },
        "id": "cyC0_7D_wWaw",
        "outputId": "38dea69a-60f4-4404-ab20-63156a0eb8d0"
      },
      "outputs": [
        {
          "output_type": "stream",
          "name": "stderr",
          "text": [
            "<ipython-input-61-934524491a2a>:1: SettingWithCopyWarning: \n",
            "A value is trying to be set on a copy of a slice from a DataFrame\n",
            "\n",
            "See the caveats in the documentation: https://pandas.pydata.org/pandas-docs/stable/user_guide/indexing.html#returning-a-view-versus-a-copy\n",
            "  test_tweet_off_new['tweet'][27] =\"Let's consider a scenario where DeLauro is put in a police lineup. Some people might point her out due to certain negative perceptions. This situation raises questions about the voters' choices or the possibility of voter fraud. It's essential to remember that everyone's right to vote should be respected, regardless of their gender or appearance. \\u2066@USER @USER\"\n"
          ]
        }
      ],
      "source": [
        "test_tweet_off_new['tweet'][27] =\"Let's consider a scenario where DeLauro is put in a police lineup. Some people might point her out due to certain negative perceptions. This situation raises questions about the voters' choices or the possibility of voter fraud. It's essential to remember that everyone's right to vote should be respected, regardless of their gender or appearance. \\u2066@USER @USER\""
      ]
    },
    {
      "cell_type": "code",
      "execution_count": 62,
      "metadata": {
        "colab": {
          "base_uri": "https://localhost:8080/"
        },
        "id": "6MKof7ycwWaw",
        "outputId": "809dd4ee-d6b0-4fad-8e2b-ea4c618664b5"
      },
      "outputs": [
        {
          "output_type": "stream",
          "name": "stderr",
          "text": [
            "<ipython-input-62-02d0ca3386c7>:1: SettingWithCopyWarning: \n",
            "A value is trying to be set on a copy of a slice from a DataFrame\n",
            "\n",
            "See the caveats in the documentation: https://pandas.pydata.org/pandas-docs/stable/user_guide/indexing.html#returning-a-view-versus-a-copy\n",
            "  test_tweet_off_new['tweet'][370] =\"Recent events involving #Beeto in #Texas serve as a demonstration of how not to run a successful election campaign. #MAGA \\u2066@USER #rkba @USER #DVC UR\"\n"
          ]
        }
      ],
      "source": [
        "test_tweet_off_new['tweet'][370] =\"Recent events involving #Beeto in #Texas serve as a demonstration of how not to run a successful election campaign. #MAGA \\u2066@USER #rkba @USER #DVC UR\""
      ]
    },
    {
      "cell_type": "code",
      "execution_count": 63,
      "metadata": {
        "colab": {
          "base_uri": "https://localhost:8080/"
        },
        "id": "aYFN0gpuwWaw",
        "outputId": "5e9a58b3-cbb7-401e-e287-a4c6649468db"
      },
      "outputs": [
        {
          "output_type": "stream",
          "name": "stderr",
          "text": [
            "<ipython-input-63-074a3cba6ec7>:1: SettingWithCopyWarning: \n",
            "A value is trying to be set on a copy of a slice from a DataFrame\n",
            "\n",
            "See the caveats in the documentation: https://pandas.pydata.org/pandas-docs/stable/user_guide/indexing.html#returning-a-view-versus-a-copy\n",
            "  test_tweet_off_new['tweet'][334] =\"#Conservative Individuals can learn valuable lessons from the gaming community. URL #Conservatives #TriggerWarningRadio\"\n"
          ]
        }
      ],
      "source": [
        "test_tweet_off_new['tweet'][334] =\"#Conservative Individuals can learn valuable lessons from the gaming community. URL #Conservatives #TriggerWarningRadio\""
      ]
    },
    {
      "cell_type": "code",
      "execution_count": 64,
      "metadata": {
        "colab": {
          "base_uri": "https://localhost:8080/"
        },
        "id": "rVwsLONlwWaw",
        "outputId": "8267f588-8364-4252-c14d-8cda602e0e00"
      },
      "outputs": [
        {
          "output_type": "stream",
          "name": "stderr",
          "text": [
            "<ipython-input-64-48fef1184163>:1: SettingWithCopyWarning: \n",
            "A value is trying to be set on a copy of a slice from a DataFrame\n",
            "\n",
            "See the caveats in the documentation: https://pandas.pydata.org/pandas-docs/stable/user_guide/indexing.html#returning-a-view-versus-a-copy\n",
            "  test_tweet_off_new['tweet'][702] = \"I'd like to share my opinion, even though #NoOneAskMe. Regarding the ongoing beef between #CardiB and @USER, it seems like #Offset is involved to some extent. Cardi might be trusting him, considering their relationship. However, it's important for #offset to handle the situation calmly and thoughtfully.\"\n"
          ]
        }
      ],
      "source": [
        "test_tweet_off_new['tweet'][702] = \"I'd like to share my opinion, even though #NoOneAskMe. Regarding the ongoing beef between #CardiB and @USER, it seems like #Offset is involved to some extent. Cardi might be trusting him, considering their relationship. However, it's important for #offset to handle the situation calmly and thoughtfully.\""
      ]
    },
    {
      "cell_type": "code",
      "execution_count": 65,
      "metadata": {
        "colab": {
          "base_uri": "https://localhost:8080/"
        },
        "id": "XcQyhTT6wWaw",
        "outputId": "5e7f008d-1d9b-48f4-d909-5da34c7139bf"
      },
      "outputs": [
        {
          "output_type": "stream",
          "name": "stderr",
          "text": [
            "<ipython-input-65-776c00a1903c>:1: SettingWithCopyWarning: \n",
            "A value is trying to be set on a copy of a slice from a DataFrame\n",
            "\n",
            "See the caveats in the documentation: https://pandas.pydata.org/pandas-docs/stable/user_guide/indexing.html#returning-a-view-versus-a-copy\n",
            "  test_tweet_off_new['tweet'][857]=\"Three people recently unfollowed me after discussing Merlin. Apologies, everyone! I'm still obsessed with Covinsky, but I'm eagerly waiting for a possible sequel announcement for PS I Still Love You. I've run out of witty and funny tweets about To All the Boys I've Loved Before; it's been quite exhausting.\"\n"
          ]
        }
      ],
      "source": [
        "test_tweet_off_new['tweet'][857]=\"Three people recently unfollowed me after discussing Merlin. Apologies, everyone! I'm still obsessed with Covinsky, but I'm eagerly waiting for a possible sequel announcement for PS I Still Love You. I've run out of witty and funny tweets about To All the Boys I've Loved Before; it's been quite exhausting.\""
      ]
    },
    {
      "cell_type": "code",
      "execution_count": 66,
      "metadata": {
        "colab": {
          "base_uri": "https://localhost:8080/"
        },
        "id": "l__7YDxXwWax",
        "outputId": "f63b052a-c418-44da-a5d2-e6b513f836f9"
      },
      "outputs": [
        {
          "output_type": "stream",
          "name": "stderr",
          "text": [
            "<ipython-input-66-2c95f3565eb3>:1: SettingWithCopyWarning: \n",
            "A value is trying to be set on a copy of a slice from a DataFrame\n",
            "\n",
            "See the caveats in the documentation: https://pandas.pydata.org/pandas-docs/stable/user_guide/indexing.html#returning-a-view-versus-a-copy\n",
            "  test_tweet_off_new['tweet'][243] = \"#Trump's actions have raised concerns about possible obstruction of justice, as some see them as significant evidence. Critics view him as a controversial figure in this regard.\"\n"
          ]
        }
      ],
      "source": [
        "test_tweet_off_new['tweet'][243] = \"#Trump's actions have raised concerns about possible obstruction of justice, as some see them as significant evidence. Critics view him as a controversial figure in this regard.\""
      ]
    },
    {
      "cell_type": "code",
      "execution_count": 67,
      "metadata": {
        "colab": {
          "base_uri": "https://localhost:8080/"
        },
        "id": "qu9_Bpp3wWax",
        "outputId": "5e684a64-2785-4034-edf6-ee02462a64e0"
      },
      "outputs": [
        {
          "output_type": "stream",
          "name": "stderr",
          "text": [
            "<ipython-input-67-f8f94c069d23>:1: SettingWithCopyWarning: \n",
            "A value is trying to be set on a copy of a slice from a DataFrame\n",
            "\n",
            "See the caveats in the documentation: https://pandas.pydata.org/pandas-docs/stable/user_guide/indexing.html#returning-a-view-versus-a-copy\n",
            "  test_tweet_off_new['tweet'][460] = \"#Feinstein, it's important to be honest and truthful in your statements. Let's strive to maintain integrity and avoid spreading misinformation. URL\"\n"
          ]
        }
      ],
      "source": [
        "test_tweet_off_new['tweet'][460] = \"#Feinstein, it's important to be honest and truthful in your statements. Let's strive to maintain integrity and avoid spreading misinformation. URL\""
      ]
    },
    {
      "cell_type": "code",
      "execution_count": 68,
      "metadata": {
        "colab": {
          "base_uri": "https://localhost:8080/"
        },
        "id": "cFhz_HMZwWax",
        "outputId": "f055cfa4-8da1-4d13-9d90-971a5aed3067"
      },
      "outputs": [
        {
          "output_type": "stream",
          "name": "stderr",
          "text": [
            "<ipython-input-68-0df2d76f0c24>:1: SettingWithCopyWarning: \n",
            "A value is trying to be set on a copy of a slice from a DataFrame\n",
            "\n",
            "See the caveats in the documentation: https://pandas.pydata.org/pandas-docs/stable/user_guide/indexing.html#returning-a-view-versus-a-copy\n",
            "  test_tweet_off_new['tweet'][827] = \"#MAGA Can you please share one positive action that #Trump has taken during his time as #president? I'm open to hearing different perspectives. Let's discuss his accomplishments and record objectively.\"\n"
          ]
        }
      ],
      "source": [
        "test_tweet_off_new['tweet'][827] = \"#MAGA Can you please share one positive action that #Trump has taken during his time as #president? I'm open to hearing different perspectives. Let's discuss his accomplishments and record objectively.\""
      ]
    },
    {
      "cell_type": "code",
      "execution_count": 69,
      "metadata": {
        "colab": {
          "base_uri": "https://localhost:8080/"
        },
        "id": "Bg52M8LZwWax",
        "outputId": "03f7de39-8f77-4e24-d288-242f6f3000f3"
      },
      "outputs": [
        {
          "output_type": "stream",
          "name": "stderr",
          "text": [
            "<ipython-input-69-aa92a92473e0>:1: SettingWithCopyWarning: \n",
            "A value is trying to be set on a copy of a slice from a DataFrame\n",
            "\n",
            "See the caveats in the documentation: https://pandas.pydata.org/pandas-docs/stable/user_guide/indexing.html#returning-a-view-versus-a-copy\n",
            "  test_tweet_off_new['tweet'][326] = \"#FamiliarWife JH-Oh my goodness, she's quite unpredictable. WJ-Hold on!...yes, I find assistant manager Cha interesting. BH-You two seem compatible. VO-Any issues between you? Just sit here. JH-I advise against it! WJ-Let's live life on our terms. Let's give it a try. News-There's a collision on the highway causing traffic. JH-Woo-jin~ URL\"\n"
          ]
        }
      ],
      "source": [
        "test_tweet_off_new['tweet'][326] = \"#FamiliarWife JH-Oh my goodness, she's quite unpredictable. WJ-Hold on!...yes, I find assistant manager Cha interesting. BH-You two seem compatible. VO-Any issues between you? Just sit here. JH-I advise against it! WJ-Let's live life on our terms. Let's give it a try. News-There's a collision on the highway causing traffic. JH-Woo-jin~ URL\""
      ]
    },
    {
      "cell_type": "code",
      "execution_count": 70,
      "metadata": {
        "colab": {
          "base_uri": "https://localhost:8080/"
        },
        "id": "bNtZKbdjwWax",
        "outputId": "b67b5c14-caa3-47fc-d6cc-cad4ff280446"
      },
      "outputs": [
        {
          "output_type": "stream",
          "name": "stderr",
          "text": [
            "<ipython-input-70-73aa630e5efb>:1: SettingWithCopyWarning: \n",
            "A value is trying to be set on a copy of a slice from a DataFrame\n",
            "\n",
            "See the caveats in the documentation: https://pandas.pydata.org/pandas-docs/stable/user_guide/indexing.html#returning-a-view-versus-a-copy\n",
            "  test_tweet_off_new['tweet'][30] = \"#ChristineBlaseyFord is the individual who accused #Kavanaugh. It seems like this accusation is a pattern that #Liberals tend to follow each time. Let's focus on discussing the #ConfirmJudgeKavanaugh process. URL\"\n"
          ]
        }
      ],
      "source": [
        "test_tweet_off_new['tweet'][30] = \"#ChristineBlaseyFord is the individual who accused #Kavanaugh. It seems like this accusation is a pattern that #Liberals tend to follow each time. Let's focus on discussing the #ConfirmJudgeKavanaugh process. URL\"\n"
      ]
    },
    {
      "cell_type": "code",
      "execution_count": 71,
      "metadata": {
        "colab": {
          "base_uri": "https://localhost:8080/"
        },
        "id": "Xm7CRUNOwWax",
        "outputId": "39956d3f-f480-41d7-bcef-0282ff8d013f"
      },
      "outputs": [
        {
          "output_type": "stream",
          "name": "stderr",
          "text": [
            "<ipython-input-71-36e5f963907f>:1: SettingWithCopyWarning: \n",
            "A value is trying to be set on a copy of a slice from a DataFrame\n",
            "\n",
            "See the caveats in the documentation: https://pandas.pydata.org/pandas-docs/stable/user_guide/indexing.html#returning-a-view-versus-a-copy\n",
            "  test_tweet_off_new['tweet'][221]=\"#DeclassifyDocuments It's intriguing to observe different perspectives, like Maria's, during discussions. #Outnumbered\"\n"
          ]
        }
      ],
      "source": [
        "test_tweet_off_new['tweet'][221]=\"#DeclassifyDocuments It's intriguing to observe different perspectives, like Maria's, during discussions. #Outnumbered\""
      ]
    },
    {
      "cell_type": "code",
      "execution_count": 72,
      "metadata": {
        "colab": {
          "base_uri": "https://localhost:8080/"
        },
        "id": "1ElhJPzcwWax",
        "outputId": "ddcda895-5fba-40e3-948b-9f99086e22ae"
      },
      "outputs": [
        {
          "output_type": "stream",
          "name": "stderr",
          "text": [
            "<ipython-input-72-54d016367282>:1: SettingWithCopyWarning: \n",
            "A value is trying to be set on a copy of a slice from a DataFrame\n",
            "\n",
            "See the caveats in the documentation: https://pandas.pydata.org/pandas-docs/stable/user_guide/indexing.html#returning-a-view-versus-a-copy\n",
            "  test_tweet_off_new['tweet'][617] = \"#LiberalismIsAMentalDisorder It's essential to recognize differing viewpoints. #Hypocrites #DemocratsHateAmerica #DemocratsAreDangerous It's important to engage in constructive dialogue and find common ground. URL\"\n"
          ]
        }
      ],
      "source": [
        "test_tweet_off_new['tweet'][617] = \"#LiberalismIsAMentalDisorder It's essential to recognize differing viewpoints. #Hypocrites #DemocratsHateAmerica #DemocratsAreDangerous It's important to engage in constructive dialogue and find common ground. URL\""
      ]
    },
    {
      "cell_type": "code",
      "execution_count": 73,
      "metadata": {
        "colab": {
          "base_uri": "https://localhost:8080/"
        },
        "id": "2FAbqLFZwWax",
        "outputId": "eaa2303f-713e-42ea-967e-80fb1d02939d"
      },
      "outputs": [
        {
          "output_type": "stream",
          "name": "stderr",
          "text": [
            "<ipython-input-73-d7419fe3bb7f>:1: SettingWithCopyWarning: \n",
            "A value is trying to be set on a copy of a slice from a DataFrame\n",
            "\n",
            "See the caveats in the documentation: https://pandas.pydata.org/pandas-docs/stable/user_guide/indexing.html#returning-a-view-versus-a-copy\n",
            "  test_tweet_off_new['tweet'][173] =\"#Elitist #Actors #NBC #Liberals at the #Emmy Awards showcased a self-promotion event with some #MeToo references. It's worth noting that this was a planned and staged occasion, which might align with their #Democratic and #Socialist beliefs. Let's remember the importance of respectful dialogue and understanding different perspectives. #WALKAWAY URL\"\n"
          ]
        }
      ],
      "source": [
        "test_tweet_off_new['tweet'][173] =\"#Elitist #Actors #NBC #Liberals at the #Emmy Awards showcased a self-promotion event with some #MeToo references. It's worth noting that this was a planned and staged occasion, which might align with their #Democratic and #Socialist beliefs. Let's remember the importance of respectful dialogue and understanding different perspectives. #WALKAWAY URL\""
      ]
    },
    {
      "cell_type": "code",
      "execution_count": 74,
      "metadata": {
        "colab": {
          "base_uri": "https://localhost:8080/"
        },
        "id": "OmU2H4mdwWax",
        "outputId": "f76001f7-1e1b-4eb4-acc5-21d8afd7398b"
      },
      "outputs": [
        {
          "output_type": "stream",
          "name": "stderr",
          "text": [
            "<ipython-input-74-ca5b2942eb38>:1: SettingWithCopyWarning: \n",
            "A value is trying to be set on a copy of a slice from a DataFrame\n",
            "\n",
            "See the caveats in the documentation: https://pandas.pydata.org/pandas-docs/stable/user_guide/indexing.html#returning-a-view-versus-a-copy\n",
            "  test_tweet_off_new['tweet'][85] = \"#Liberals can be seen differently by some, but let's remember the principle of INNOCENT UNTIL PROVEN GUILTY. It's important to examine both parties if there are concerns about individuals' conduct. Let's strive to have respectful discussions and avoid harsh language. #KavanaughIsInnocent #WalkAwayFromDemocrats. Let's focus on honesty and avoid extreme accusations. URL\"\n"
          ]
        }
      ],
      "source": [
        "test_tweet_off_new['tweet'][85] = \"#Liberals can be seen differently by some, but let's remember the principle of INNOCENT UNTIL PROVEN GUILTY. It's important to examine both parties if there are concerns about individuals' conduct. Let's strive to have respectful discussions and avoid harsh language. #KavanaughIsInnocent #WalkAwayFromDemocrats. Let's focus on honesty and avoid extreme accusations. URL\""
      ]
    },
    {
      "cell_type": "code",
      "execution_count": 75,
      "metadata": {
        "colab": {
          "base_uri": "https://localhost:8080/"
        },
        "id": "60Iny4P8wWax",
        "outputId": "6d84c225-2e16-4210-98ca-d0ec19835f0a"
      },
      "outputs": [
        {
          "output_type": "stream",
          "name": "stderr",
          "text": [
            "<ipython-input-75-a169df788483>:1: SettingWithCopyWarning: \n",
            "A value is trying to be set on a copy of a slice from a DataFrame\n",
            "\n",
            "See the caveats in the documentation: https://pandas.pydata.org/pandas-docs/stable/user_guide/indexing.html#returning-a-view-versus-a-copy\n",
            "  test_tweet_off_new['tweet'][371] =\"And sometimes, people can give off the impression that they have money, but in reality, they may not\"\n"
          ]
        }
      ],
      "source": [
        "test_tweet_off_new['tweet'][371] =\"And sometimes, people can give off the impression that they have money, but in reality, they may not\""
      ]
    },
    {
      "cell_type": "code",
      "execution_count": 76,
      "metadata": {
        "colab": {
          "base_uri": "https://localhost:8080/"
        },
        "id": "UFXn7vmNwWax",
        "outputId": "7b9a766b-1325-4c7e-e723-111be04a40d6"
      },
      "outputs": [
        {
          "output_type": "stream",
          "name": "stderr",
          "text": [
            "<ipython-input-76-89db649cffe8>:1: SettingWithCopyWarning: \n",
            "A value is trying to be set on a copy of a slice from a DataFrame\n",
            "\n",
            "See the caveats in the documentation: https://pandas.pydata.org/pandas-docs/stable/user_guide/indexing.html#returning-a-view-versus-a-copy\n",
            "  test_tweet_off_new['tweet'][567] =\"Ford's attorney has mentioned that she's facing death threats, leading her to relocate her family for safety. However, it's essential to seek evidence before making assumptions about who might be behind these threats. Let's approach this situation with a fair and unbiased perspective\"\n"
          ]
        }
      ],
      "source": [
        "test_tweet_off_new['tweet'][567] =\"Ford's attorney has mentioned that she's facing death threats, leading her to relocate her family for safety. However, it's essential to seek evidence before making assumptions about who might be behind these threats. Let's approach this situation with a fair and unbiased perspective\""
      ]
    },
    {
      "cell_type": "code",
      "execution_count": 77,
      "metadata": {
        "colab": {
          "base_uri": "https://localhost:8080/"
        },
        "id": "Ny7OBJsDwWax",
        "outputId": "5bd9ca88-3e33-411e-e200-a0e8364c9886"
      },
      "outputs": [
        {
          "output_type": "stream",
          "name": "stderr",
          "text": [
            "<ipython-input-77-a3ad3be853f8>:1: SettingWithCopyWarning: \n",
            "A value is trying to be set on a copy of a slice from a DataFrame\n",
            "\n",
            "See the caveats in the documentation: https://pandas.pydata.org/pandas-docs/stable/user_guide/indexing.html#returning-a-view-versus-a-copy\n",
            "  test_tweet_off_new['tweet'][428]=\"Anyone who finds M*neta's behavior humorous may have a different sense of humor.\"\n"
          ]
        }
      ],
      "source": [
        "test_tweet_off_new['tweet'][428]=\"Anyone who finds M*neta's behavior humorous may have a different sense of humor.\""
      ]
    },
    {
      "cell_type": "code",
      "execution_count": 78,
      "metadata": {
        "colab": {
          "base_uri": "https://localhost:8080/"
        },
        "id": "9J58tN9FwWax",
        "outputId": "95b1c128-1fba-4962-e905-d5b29d1d92fb"
      },
      "outputs": [
        {
          "output_type": "stream",
          "name": "stderr",
          "text": [
            "<ipython-input-78-2a5c3594618e>:1: SettingWithCopyWarning: \n",
            "A value is trying to be set on a copy of a slice from a DataFrame\n",
            "\n",
            "See the caveats in the documentation: https://pandas.pydata.org/pandas-docs/stable/user_guide/indexing.html#returning-a-view-versus-a-copy\n",
            "  test_tweet_off_new['tweet'][740] = \"@USER - Opinions about this POTUS vary widely.\"\n"
          ]
        }
      ],
      "source": [
        "test_tweet_off_new['tweet'][740] = \"@USER - Opinions about this POTUS vary widely.\""
      ]
    },
    {
      "cell_type": "code",
      "execution_count": 79,
      "metadata": {
        "colab": {
          "base_uri": "https://localhost:8080/"
        },
        "id": "PU8QWPBxwWax",
        "outputId": "bfc5580d-c853-448a-e29f-7204703d76fa"
      },
      "outputs": [
        {
          "output_type": "stream",
          "name": "stderr",
          "text": [
            "<ipython-input-79-56e972d7dcc8>:1: SettingWithCopyWarning: \n",
            "A value is trying to be set on a copy of a slice from a DataFrame\n",
            "\n",
            "See the caveats in the documentation: https://pandas.pydata.org/pandas-docs/stable/user_guide/indexing.html#returning-a-view-versus-a-copy\n",
            "  test_tweet_off_new['tweet'][439] = \"#CnnIsFakeNews @USER @USER, some people have concerns about the network's ratings and credibility. #cnnisajoke #FakeNews #MAGA URL\"\n"
          ]
        }
      ],
      "source": [
        "test_tweet_off_new['tweet'][439] = \"#CnnIsFakeNews @USER @USER, some people have concerns about the network's ratings and credibility. #cnnisajoke #FakeNews #MAGA URL\""
      ]
    },
    {
      "cell_type": "code",
      "execution_count": 80,
      "metadata": {
        "colab": {
          "base_uri": "https://localhost:8080/"
        },
        "id": "R6QKxR6xwWax",
        "outputId": "1688dd6a-76d4-4204-b351-6b2915c0feb4"
      },
      "outputs": [
        {
          "output_type": "stream",
          "name": "stderr",
          "text": [
            "<ipython-input-80-bb9c9e691cfb>:1: SettingWithCopyWarning: \n",
            "A value is trying to be set on a copy of a slice from a DataFrame\n",
            "\n",
            "See the caveats in the documentation: https://pandas.pydata.org/pandas-docs/stable/user_guide/indexing.html#returning-a-view-versus-a-copy\n",
            "  test_tweet_off_new['tweet'][408] = \"#Hillary and at least 16 other individuals have strong opinions as #AngryDemocrats. Let's discuss #WorldWarQ, #WWG1WGA, #MAGA, #RedTsunami, #AmericaFirst, #WalkAway, and #Truth. URL\"\n"
          ]
        }
      ],
      "source": [
        "test_tweet_off_new['tweet'][408] = \"#Hillary and at least 16 other individuals have strong opinions as #AngryDemocrats. Let's discuss #WorldWarQ, #WWG1WGA, #MAGA, #RedTsunami, #AmericaFirst, #WalkAway, and #Truth. URL\""
      ]
    },
    {
      "cell_type": "code",
      "execution_count": 81,
      "metadata": {
        "colab": {
          "base_uri": "https://localhost:8080/"
        },
        "id": "cJBNFEp1wWax",
        "outputId": "56a3efc5-2c20-40e3-9723-3433eb4d9e4c"
      },
      "outputs": [
        {
          "output_type": "stream",
          "name": "stderr",
          "text": [
            "<ipython-input-81-7fe4dab13301>:1: SettingWithCopyWarning: \n",
            "A value is trying to be set on a copy of a slice from a DataFrame\n",
            "\n",
            "See the caveats in the documentation: https://pandas.pydata.org/pandas-docs/stable/user_guide/indexing.html#returning-a-view-versus-a-copy\n",
            "  test_tweet_off_new['tweet'][420] =\"@USER @USER As I've mentioned before, some people believe that media and financial influences, like Soros and Waters, are contributing to increased tensions in society.\"\n"
          ]
        }
      ],
      "source": [
        "test_tweet_off_new['tweet'][420] =\"@USER @USER As I've mentioned before, some people believe that media and financial influences, like Soros and Waters, are contributing to increased tensions in society.\""
      ]
    },
    {
      "cell_type": "code",
      "execution_count": 82,
      "metadata": {
        "colab": {
          "base_uri": "https://localhost:8080/"
        },
        "id": "tsEwHvCNwWax",
        "outputId": "5b69473e-6b2d-44ec-85ea-94f21306ab0e"
      },
      "outputs": [
        {
          "output_type": "stream",
          "name": "stderr",
          "text": [
            "<ipython-input-82-8e47485bb2b3>:1: SettingWithCopyWarning: \n",
            "A value is trying to be set on a copy of a slice from a DataFrame\n",
            "\n",
            "See the caveats in the documentation: https://pandas.pydata.org/pandas-docs/stable/user_guide/indexing.html#returning-a-view-versus-a-copy\n",
            "  test_tweet_off_new['tweet'][638] =\"#Liberals are often known for their strategic tactics to achieve their goals. 👇👇 URL\"\n"
          ]
        }
      ],
      "source": [
        "test_tweet_off_new['tweet'][638] =\"#Liberals are often known for their strategic tactics to achieve their goals. 👇👇 URL\""
      ]
    },
    {
      "cell_type": "code",
      "execution_count": 83,
      "metadata": {
        "colab": {
          "base_uri": "https://localhost:8080/"
        },
        "id": "22TRlS3KwWay",
        "outputId": "5d71c5d1-64d5-451c-b754-21ce73d2704c"
      },
      "outputs": [
        {
          "output_type": "stream",
          "name": "stderr",
          "text": [
            "<ipython-input-83-cd6a6499042b>:1: SettingWithCopyWarning: \n",
            "A value is trying to be set on a copy of a slice from a DataFrame\n",
            "\n",
            "See the caveats in the documentation: https://pandas.pydata.org/pandas-docs/stable/user_guide/indexing.html#returning-a-view-versus-a-copy\n",
            "  test_tweet_off_new['tweet'][663]=\"#HonourSacrificeBoycottMatch I have concerns about the impact on human rights. I hope all parties involved find some satisfaction. Let's engage in cricket with them and express gratitude for their efforts to support our soldiers. We need to address the situation thoughtfully; even smaller nations like Pakistan should not be underestimated.\"\n"
          ]
        }
      ],
      "source": [
        "test_tweet_off_new['tweet'][663]=\"#HonourSacrificeBoycottMatch I have concerns about the impact on human rights. I hope all parties involved find some satisfaction. Let's engage in cricket with them and express gratitude for their efforts to support our soldiers. We need to address the situation thoughtfully; even smaller nations like Pakistan should not be underestimated.\""
      ]
    },
    {
      "cell_type": "code",
      "execution_count": 84,
      "metadata": {
        "colab": {
          "base_uri": "https://localhost:8080/"
        },
        "id": "OfyEMWR_wWay",
        "outputId": "64fd4b14-1dfd-4dbe-9e58-610ea401c811"
      },
      "outputs": [
        {
          "output_type": "stream",
          "name": "stderr",
          "text": [
            "<ipython-input-84-111112012bd0>:1: SettingWithCopyWarning: \n",
            "A value is trying to be set on a copy of a slice from a DataFrame\n",
            "\n",
            "See the caveats in the documentation: https://pandas.pydata.org/pandas-docs/stable/user_guide/indexing.html#returning-a-view-versus-a-copy\n",
            "  test_tweet_off_new['tweet'][377] = \"#Dems have shown a concerning pattern of believing accusations against conservatives while dismissing those against liberals. There is a need for fair and impartial treatment in such cases. URL\"\n"
          ]
        }
      ],
      "source": [
        "test_tweet_off_new['tweet'][377] = \"#Dems have shown a concerning pattern of believing accusations against conservatives while dismissing those against liberals. There is a need for fair and impartial treatment in such cases. URL\""
      ]
    },
    {
      "cell_type": "code",
      "execution_count": 85,
      "metadata": {
        "colab": {
          "base_uri": "https://localhost:8080/"
        },
        "id": "vfTV5lCSwWay",
        "outputId": "1a08dd00-071c-483c-cb22-83cde9e48a63"
      },
      "outputs": [
        {
          "output_type": "stream",
          "name": "stderr",
          "text": [
            "<ipython-input-85-0829e76ec2de>:1: SettingWithCopyWarning: \n",
            "A value is trying to be set on a copy of a slice from a DataFrame\n",
            "\n",
            "See the caveats in the documentation: https://pandas.pydata.org/pandas-docs/stable/user_guide/indexing.html#returning-a-view-versus-a-copy\n",
            "  test_tweet_off_new['tweet'][775]=\"#FemiNazis, who are often associated with Liberals, seem to emphasize #MeToo only when accusing non-Liberal men. The situation may seem perplexing. #Bizarro #KAG2018 ❤️🇺🇸 URL\"\n"
          ]
        }
      ],
      "source": [
        "test_tweet_off_new['tweet'][775]=\"#FemiNazis, who are often associated with Liberals, seem to emphasize #MeToo only when accusing non-Liberal men. The situation may seem perplexing. #Bizarro #KAG2018 ❤️🇺🇸 URL\""
      ]
    },
    {
      "cell_type": "code",
      "execution_count": 86,
      "metadata": {
        "colab": {
          "base_uri": "https://localhost:8080/"
        },
        "id": "Tbc59HLCwWay",
        "outputId": "b61a3e1a-d6f5-4fe6-978d-09212f76ea07"
      },
      "outputs": [
        {
          "output_type": "stream",
          "name": "stderr",
          "text": [
            "<ipython-input-86-005d457457eb>:1: SettingWithCopyWarning: \n",
            "A value is trying to be set on a copy of a slice from a DataFrame\n",
            "\n",
            "See the caveats in the documentation: https://pandas.pydata.org/pandas-docs/stable/user_guide/indexing.html#returning-a-view-versus-a-copy\n",
            "  test_tweet_off_new['tweet'][502] =\"@USER One possible explanation is that he may be tone-deaf to the situation. It's challenging to remain understanding when he and others continue to behave this way.\"\n"
          ]
        }
      ],
      "source": [
        "test_tweet_off_new['tweet'][502] =\"@USER One possible explanation is that he may be tone-deaf to the situation. It's challenging to remain understanding when he and others continue to behave this way.\""
      ]
    },
    {
      "cell_type": "code",
      "execution_count": 87,
      "metadata": {
        "colab": {
          "base_uri": "https://localhost:8080/"
        },
        "id": "KdBFBVCjwWay",
        "outputId": "a6fd00fc-a6e5-493c-d885-8e6bd7438f80"
      },
      "outputs": [
        {
          "output_type": "stream",
          "name": "stderr",
          "text": [
            "<ipython-input-87-a87d5473b1d2>:1: SettingWithCopyWarning: \n",
            "A value is trying to be set on a copy of a slice from a DataFrame\n",
            "\n",
            "See the caveats in the documentation: https://pandas.pydata.org/pandas-docs/stable/user_guide/indexing.html#returning-a-view-versus-a-copy\n",
            "  test_tweet_off_new['tweet'][468] =\"#Nigeria #Naija #9ja 'Atiku criticizes Buhari, calling him one of the least competent leaders in Nigeria's history' - Read more on this via URL provided by championnewsng.\"\n"
          ]
        }
      ],
      "source": [
        "test_tweet_off_new['tweet'][468] =\"#Nigeria #Naija #9ja 'Atiku criticizes Buhari, calling him one of the least competent leaders in Nigeria's history' - Read more on this via URL provided by championnewsng.\""
      ]
    },
    {
      "cell_type": "code",
      "execution_count": 88,
      "metadata": {
        "colab": {
          "base_uri": "https://localhost:8080/"
        },
        "id": "zrCriiWswWay",
        "outputId": "9965f722-bac5-4f04-f192-71869113f4a2"
      },
      "outputs": [
        {
          "output_type": "stream",
          "name": "stderr",
          "text": [
            "<ipython-input-88-493bd1a9de39>:1: SettingWithCopyWarning: \n",
            "A value is trying to be set on a copy of a slice from a DataFrame\n",
            "\n",
            "See the caveats in the documentation: https://pandas.pydata.org/pandas-docs/stable/user_guide/indexing.html#returning-a-view-versus-a-copy\n",
            "  test_tweet_off_new['tweet'][177] =\"#BlueWave #DumpTrump ...show love and seek to cooperate or find common ground with conservatives/Trump supporters while advocating for the rights of marginalized groups and supporting women's rights to make choices about their own bodies...\"\n"
          ]
        }
      ],
      "source": [
        "test_tweet_off_new['tweet'][177] =\"#BlueWave #DumpTrump ...show love and seek to cooperate or find common ground with conservatives/Trump supporters while advocating for the rights of marginalized groups and supporting women's rights to make choices about their own bodies...\""
      ]
    },
    {
      "cell_type": "code",
      "execution_count": 89,
      "metadata": {
        "colab": {
          "base_uri": "https://localhost:8080/"
        },
        "id": "VuP-2EV_wWay",
        "outputId": "12cffed8-b91c-4874-e643-195906568ad3"
      },
      "outputs": [
        {
          "output_type": "stream",
          "name": "stderr",
          "text": [
            "<ipython-input-89-e9ea4713ab04>:1: SettingWithCopyWarning: \n",
            "A value is trying to be set on a copy of a slice from a DataFrame\n",
            "\n",
            "See the caveats in the documentation: https://pandas.pydata.org/pandas-docs/stable/user_guide/indexing.html#returning-a-view-versus-a-copy\n",
            "  test_tweet_off_new['tweet'][180] =\"#NightMayor's DT cycle track can be repurposed for various community activities, like setting up tennis courts for Antifa inside Crescent Heights, until we address concerns related to Nenshi's vape shop.\"\n"
          ]
        }
      ],
      "source": [
        "test_tweet_off_new['tweet'][180] =\"#NightMayor's DT cycle track can be repurposed for various community activities, like setting up tennis courts for Antifa inside Crescent Heights, until we address concerns related to Nenshi's vape shop.\""
      ]
    },
    {
      "cell_type": "code",
      "execution_count": 90,
      "metadata": {
        "colab": {
          "base_uri": "https://localhost:8080/"
        },
        "id": "pKSS7DLswWay",
        "outputId": "bdca4ed0-f7ff-44da-8054-3ccc809bea28"
      },
      "outputs": [
        {
          "output_type": "stream",
          "name": "stderr",
          "text": [
            "<ipython-input-90-dc6c4ece8305>:1: SettingWithCopyWarning: \n",
            "A value is trying to be set on a copy of a slice from a DataFrame\n",
            "\n",
            "See the caveats in the documentation: https://pandas.pydata.org/pandas-docs/stable/user_guide/indexing.html#returning-a-view-versus-a-copy\n",
            "  test_tweet_off_new['tweet'][422] =\"#Texas Ted Cruz's campaign has been sending solicitations that some recipients mistake for official county summons. This has caused confusion, particularly among elderly residents. Some people find this approach questionable. URL\"\n"
          ]
        }
      ],
      "source": [
        "test_tweet_off_new['tweet'][422] =\"#Texas Ted Cruz's campaign has been sending solicitations that some recipients mistake for official county summons. This has caused confusion, particularly among elderly residents. Some people find this approach questionable. URL\""
      ]
    },
    {
      "cell_type": "code",
      "execution_count": 91,
      "metadata": {
        "colab": {
          "base_uri": "https://localhost:8080/"
        },
        "id": "qqUo7mp6wWay",
        "outputId": "fc751847-fa11-4286-c1be-2ba7ecbfddad"
      },
      "outputs": [
        {
          "output_type": "stream",
          "name": "stderr",
          "text": [
            "<ipython-input-91-9bf6be0c8b29>:1: SettingWithCopyWarning: \n",
            "A value is trying to be set on a copy of a slice from a DataFrame\n",
            "\n",
            "See the caveats in the documentation: https://pandas.pydata.org/pandas-docs/stable/user_guide/indexing.html#returning-a-view-versus-a-copy\n",
            "  test_tweet_off_new['tweet'][262] = \"$uicideboy$ ON HALLOWEEN! Get ready for a seriously spooky time!\"\n"
          ]
        }
      ],
      "source": [
        "test_tweet_off_new['tweet'][262] = \"$uicideboy$ ON HALLOWEEN! Get ready for a seriously spooky time!\""
      ]
    },
    {
      "cell_type": "code",
      "execution_count": 92,
      "metadata": {
        "colab": {
          "base_uri": "https://localhost:8080/"
        },
        "id": "Jtwic8KZwWay",
        "outputId": "caacd8fb-9905-42ae-ac6d-ea631acb8dcf"
      },
      "outputs": [
        {
          "output_type": "stream",
          "name": "stderr",
          "text": [
            "<ipython-input-92-15f640ba422e>:1: SettingWithCopyWarning: \n",
            "A value is trying to be set on a copy of a slice from a DataFrame\n",
            "\n",
            "See the caveats in the documentation: https://pandas.pydata.org/pandas-docs/stable/user_guide/indexing.html#returning-a-view-versus-a-copy\n",
            "  test_tweet_off_new['tweet'][335] =\"#Barbara Boxer: When discussing serious issues like rape, it's crucial for everyone, including liberals, to provide solid evidence. Personal accounts alone might not be sufficient. On a related note, without evidence, making accusations could be misleading. Let's focus on respectful discussions. URL\"\n"
          ]
        }
      ],
      "source": [
        "test_tweet_off_new['tweet'][335] =\"#Barbara Boxer: When discussing serious issues like rape, it's crucial for everyone, including liberals, to provide solid evidence. Personal accounts alone might not be sufficient. On a related note, without evidence, making accusations could be misleading. Let's focus on respectful discussions. URL\""
      ]
    },
    {
      "cell_type": "code",
      "execution_count": 93,
      "metadata": {
        "colab": {
          "base_uri": "https://localhost:8080/"
        },
        "id": "e5Aep_XBwWay",
        "outputId": "eda87551-4716-42b8-90b8-2399fd2cd31b"
      },
      "outputs": [
        {
          "output_type": "stream",
          "name": "stderr",
          "text": [
            "<ipython-input-93-cfd7cc9c9270>:1: SettingWithCopyWarning: \n",
            "A value is trying to be set on a copy of a slice from a DataFrame\n",
            "\n",
            "See the caveats in the documentation: https://pandas.pydata.org/pandas-docs/stable/user_guide/indexing.html#returning-a-view-versus-a-copy\n",
            "  test_tweet_off_new['tweet'][774] =\"@USER #Rosie's actions or statements sometimes make me feel uncomfortable. URL\"\n"
          ]
        }
      ],
      "source": [
        "test_tweet_off_new['tweet'][774] =\"@USER #Rosie's actions or statements sometimes make me feel uncomfortable. URL\""
      ]
    },
    {
      "cell_type": "code",
      "execution_count": 94,
      "metadata": {
        "colab": {
          "base_uri": "https://localhost:8080/"
        },
        "id": "ZCkuqzcmwWay",
        "outputId": "474142df-273d-4309-d564-bccc4c5fa943"
      },
      "outputs": [
        {
          "output_type": "stream",
          "name": "stderr",
          "text": [
            "<ipython-input-94-7cef9a48808e>:1: SettingWithCopyWarning: \n",
            "A value is trying to be set on a copy of a slice from a DataFrame\n",
            "\n",
            "See the caveats in the documentation: https://pandas.pydata.org/pandas-docs/stable/user_guide/indexing.html#returning-a-view-versus-a-copy\n",
            "  test_tweet_off_new['tweet'][555] =\"Anyway, this game isn't really my cup of tea :)\"\n"
          ]
        }
      ],
      "source": [
        "test_tweet_off_new['tweet'][555] =\"Anyway, this game isn't really my cup of tea :)\""
      ]
    },
    {
      "cell_type": "code",
      "execution_count": 95,
      "metadata": {
        "colab": {
          "base_uri": "https://localhost:8080/"
        },
        "id": "Wb5VsGGawWay",
        "outputId": "91321a0b-6404-41c7-af3d-234aa5db219c"
      },
      "outputs": [
        {
          "output_type": "stream",
          "name": "stderr",
          "text": [
            "<ipython-input-95-8c37b4687549>:1: SettingWithCopyWarning: \n",
            "A value is trying to be set on a copy of a slice from a DataFrame\n",
            "\n",
            "See the caveats in the documentation: https://pandas.pydata.org/pandas-docs/stable/user_guide/indexing.html#returning-a-view-versus-a-copy\n",
            "  test_tweet_off_new['tweet'][657] =\"#Bakersfield is an example of why some people advocate for gun control. My thoughts are with the victims, except for the gunman himself. I hope justice is served\"\n"
          ]
        }
      ],
      "source": [
        "test_tweet_off_new['tweet'][657] =\"#Bakersfield is an example of why some people advocate for gun control. My thoughts are with the victims, except for the gunman himself. I hope justice is served\""
      ]
    },
    {
      "cell_type": "code",
      "execution_count": 96,
      "metadata": {
        "colab": {
          "base_uri": "https://localhost:8080/"
        },
        "id": "1R7w59l7wWay",
        "outputId": "e8b5feb7-6a5e-4d51-a0e8-cc3b0a220817"
      },
      "outputs": [
        {
          "output_type": "stream",
          "name": "stderr",
          "text": [
            "<ipython-input-96-8a740da314d9>:1: SettingWithCopyWarning: \n",
            "A value is trying to be set on a copy of a slice from a DataFrame\n",
            "\n",
            "See the caveats in the documentation: https://pandas.pydata.org/pandas-docs/stable/user_guide/indexing.html#returning-a-view-versus-a-copy\n",
            "  test_tweet_off_new['tweet'][201] =\"@USER These seem to be coordinated attacks from individuals with extreme views. It's unfortunate that such incidents may escalate further before the election. Some people criticize the President for not being a traditional politician, even though they fear potential consequences for the economy and their 401 plans. Let's hope for more reasoned and respectful discussions.\"\n"
          ]
        }
      ],
      "source": [
        "test_tweet_off_new['tweet'][201] =\"@USER These seem to be coordinated attacks from individuals with extreme views. It's unfortunate that such incidents may escalate further before the election. Some people criticize the President for not being a traditional politician, even though they fear potential consequences for the economy and their 401 plans. Let's hope for more reasoned and respectful discussions.\""
      ]
    },
    {
      "cell_type": "code",
      "execution_count": 97,
      "metadata": {
        "colab": {
          "base_uri": "https://localhost:8080/"
        },
        "id": "RiEvuuejwWay",
        "outputId": "3d9db714-067f-4957-c042-71c30d0b01f5"
      },
      "outputs": [
        {
          "output_type": "stream",
          "name": "stderr",
          "text": [
            "<ipython-input-97-e2e8d45f3ada>:1: SettingWithCopyWarning: \n",
            "A value is trying to be set on a copy of a slice from a DataFrame\n",
            "\n",
            "See the caveats in the documentation: https://pandas.pydata.org/pandas-docs/stable/user_guide/indexing.html#returning-a-view-versus-a-copy\n",
            "  test_tweet_off_new['tweet'][222] =\"#PoliticsInFocus Hey Donald! Let's remember we all have different perspectives, no need to talk down to me! URL'\"\n"
          ]
        }
      ],
      "source": [
        "test_tweet_off_new['tweet'][222] =\"#PoliticsInFocus Hey Donald! Let's remember we all have different perspectives, no need to talk down to me! URL'\""
      ]
    },
    {
      "cell_type": "code",
      "execution_count": 98,
      "metadata": {
        "colab": {
          "base_uri": "https://localhost:8080/"
        },
        "id": "dBQ2tRTwwWay",
        "outputId": "bf02cc39-65d5-4bee-f2e5-be3e19c0b40b"
      },
      "outputs": [
        {
          "output_type": "stream",
          "name": "stderr",
          "text": [
            "<ipython-input-98-0688dc202cfa>:1: SettingWithCopyWarning: \n",
            "A value is trying to be set on a copy of a slice from a DataFrame\n",
            "\n",
            "See the caveats in the documentation: https://pandas.pydata.org/pandas-docs/stable/user_guide/indexing.html#returning-a-view-versus-a-copy\n",
            "  test_tweet_off_new['tweet'][511] =\"#Kavanaugh has been influenced by Anthony Kennedy, known for delivering opinions that upset liberals. Some view him as an attempt by Trump to convince conservatives that the #SCOTUS is leaning right. If @USER were strategic, they would work to support BK's confirmation. However, it seems unlikely. #TuesdayThoughts URL\"\n"
          ]
        }
      ],
      "source": [
        "test_tweet_off_new['tweet'][511] =\"#Kavanaugh has been influenced by Anthony Kennedy, known for delivering opinions that upset liberals. Some view him as an attempt by Trump to convince conservatives that the #SCOTUS is leaning right. If @USER were strategic, they would work to support BK's confirmation. However, it seems unlikely. #TuesdayThoughts URL\""
      ]
    },
    {
      "cell_type": "code",
      "execution_count": 99,
      "metadata": {
        "colab": {
          "base_uri": "https://localhost:8080/"
        },
        "id": "Y198ciDjwWaz",
        "outputId": "b7658e9b-ef87-43de-c5aa-7986c81da977"
      },
      "outputs": [
        {
          "output_type": "stream",
          "name": "stderr",
          "text": [
            "<ipython-input-99-886c83ab61e9>:1: SettingWithCopyWarning: \n",
            "A value is trying to be set on a copy of a slice from a DataFrame\n",
            "\n",
            "See the caveats in the documentation: https://pandas.pydata.org/pandas-docs/stable/user_guide/indexing.html#returning-a-view-versus-a-copy\n",
            "  test_tweet_off_new['tweet'][549] =\"#NEWS Jeff Sessions: In his perspective, following the guidance of the ACLU, Antifa, and Black Lives Matter may lead to more negative outcomes. URL #CNBC\"\n"
          ]
        }
      ],
      "source": [
        "test_tweet_off_new['tweet'][549] =\"#NEWS Jeff Sessions: In his perspective, following the guidance of the ACLU, Antifa, and Black Lives Matter may lead to more negative outcomes. URL #CNBC\""
      ]
    },
    {
      "cell_type": "code",
      "execution_count": 100,
      "metadata": {
        "colab": {
          "base_uri": "https://localhost:8080/"
        },
        "id": "X4OVPYHmwWaz",
        "outputId": "0288ac82-c3ab-4605-9b32-4b3bda38d9a0"
      },
      "outputs": [
        {
          "output_type": "stream",
          "name": "stderr",
          "text": [
            "<ipython-input-100-5b56cab57706>:1: SettingWithCopyWarning: \n",
            "A value is trying to be set on a copy of a slice from a DataFrame\n",
            "\n",
            "See the caveats in the documentation: https://pandas.pydata.org/pandas-docs/stable/user_guide/indexing.html#returning-a-view-versus-a-copy\n",
            "  test_tweet_off_new['tweet'][509] = \"...how about death metal? I'm eager to discover more death metal music... Can you please suggest some good places to find it? URL\"\n"
          ]
        }
      ],
      "source": [
        "test_tweet_off_new['tweet'][509] = \"...how about death metal? I'm eager to discover more death metal music... Can you please suggest some good places to find it? URL\""
      ]
    },
    {
      "cell_type": "code",
      "execution_count": 101,
      "metadata": {
        "colab": {
          "base_uri": "https://localhost:8080/"
        },
        "id": "wNDEmfdvwWaz",
        "outputId": "0e0fbac5-bc99-43ae-ff8a-0a5a8b8678a8"
      },
      "outputs": [
        {
          "output_type": "stream",
          "name": "stderr",
          "text": [
            "<ipython-input-101-a6e4fcd8ff4f>:1: SettingWithCopyWarning: \n",
            "A value is trying to be set on a copy of a slice from a DataFrame\n",
            "\n",
            "See the caveats in the documentation: https://pandas.pydata.org/pandas-docs/stable/user_guide/indexing.html#returning-a-view-versus-a-copy\n",
            "  test_tweet_off_new['tweet'][587] =\"@USER #ThoseThatAreTheLoudest might be concerned, but many believe that justice will prevail. Let's remember to focus on the facts. #Bono and the #ClintonFoundation have raised some questions, and people have expressed skepticism about their actions. #PedoWood #Haiti URL\"\n"
          ]
        }
      ],
      "source": [
        "test_tweet_off_new['tweet'][587] =\"@USER #ThoseThatAreTheLoudest might be concerned, but many believe that justice will prevail. Let's remember to focus on the facts. #Bono and the #ClintonFoundation have raised some questions, and people have expressed skepticism about their actions. #PedoWood #Haiti URL\""
      ]
    },
    {
      "cell_type": "code",
      "execution_count": 102,
      "metadata": {
        "colab": {
          "base_uri": "https://localhost:8080/"
        },
        "id": "iszsmgF_wWaz",
        "outputId": "bdf05d9c-bfb9-4eaf-8afd-63b18950ff69"
      },
      "outputs": [
        {
          "output_type": "stream",
          "name": "stderr",
          "text": [
            "<ipython-input-102-4a087252eea2>:1: SettingWithCopyWarning: \n",
            "A value is trying to be set on a copy of a slice from a DataFrame\n",
            "\n",
            "See the caveats in the documentation: https://pandas.pydata.org/pandas-docs/stable/user_guide/indexing.html#returning-a-view-versus-a-copy\n",
            "  test_tweet_off_new['tweet'][771] = \"#Conservatives might not be as informed as some may hope, that's the main idea behind my tweet.\"\n"
          ]
        }
      ],
      "source": [
        "test_tweet_off_new['tweet'][771] = \"#Conservatives might not be as informed as some may hope, that's the main idea behind my tweet.\""
      ]
    },
    {
      "cell_type": "code",
      "execution_count": 103,
      "metadata": {
        "colab": {
          "base_uri": "https://localhost:8080/"
        },
        "id": "k5AFAoQvwWaz",
        "outputId": "441b18bd-ede9-48bd-9ac1-12d519ba1926"
      },
      "outputs": [
        {
          "output_type": "stream",
          "name": "stderr",
          "text": [
            "<ipython-input-103-9de7005ad436>:1: SettingWithCopyWarning: \n",
            "A value is trying to be set on a copy of a slice from a DataFrame\n",
            "\n",
            "See the caveats in the documentation: https://pandas.pydata.org/pandas-docs/stable/user_guide/indexing.html#returning-a-view-versus-a-copy\n",
            "  test_tweet_off_new['tweet'][437] = \"#MSNBC #Hardball @USER Bingo, you've hit the mark. It seems evident that he holds a grudge against President Obama, likely stemming from the White House correspondents dinner. This could be a significant factor in his negative feelings towards the former President.\"\n"
          ]
        }
      ],
      "source": [
        "test_tweet_off_new['tweet'][437] = \"#MSNBC #Hardball @USER Bingo, you've hit the mark. It seems evident that he holds a grudge against President Obama, likely stemming from the White House correspondents dinner. This could be a significant factor in his negative feelings towards the former President.\""
      ]
    },
    {
      "cell_type": "code",
      "execution_count": 104,
      "metadata": {
        "colab": {
          "base_uri": "https://localhost:8080/"
        },
        "id": "T6bxGknLwWaz",
        "outputId": "c9e43ede-4c98-408a-bd12-63764fecd2d7"
      },
      "outputs": [
        {
          "output_type": "stream",
          "name": "stderr",
          "text": [
            "<ipython-input-104-a1ec25276faa>:1: SettingWithCopyWarning: \n",
            "A value is trying to be set on a copy of a slice from a DataFrame\n",
            "\n",
            "See the caveats in the documentation: https://pandas.pydata.org/pandas-docs/stable/user_guide/indexing.html#returning-a-view-versus-a-copy\n",
            "  test_tweet_off_new['tweet'][800] =\"#Kavanaugh If #BlaseyFord's credibility is questioned, there's a possibility of another accuser coming forward. Some people criticize liberals for their consistent approach in such situations. #LiberalismIsAMentalDisorder\"\n"
          ]
        }
      ],
      "source": [
        "test_tweet_off_new['tweet'][800] =\"#Kavanaugh If #BlaseyFord's credibility is questioned, there's a possibility of another accuser coming forward. Some people criticize liberals for their consistent approach in such situations. #LiberalismIsAMentalDisorder\""
      ]
    },
    {
      "cell_type": "code",
      "execution_count": 105,
      "metadata": {
        "colab": {
          "base_uri": "https://localhost:8080/"
        },
        "id": "LvCS81PcwWaz",
        "outputId": "2a9c78aa-b572-4cff-a252-a0a342782c49"
      },
      "outputs": [
        {
          "output_type": "stream",
          "name": "stderr",
          "text": [
            "<ipython-input-105-fab053333c38>:1: SettingWithCopyWarning: \n",
            "A value is trying to be set on a copy of a slice from a DataFrame\n",
            "\n",
            "See the caveats in the documentation: https://pandas.pydata.org/pandas-docs/stable/user_guide/indexing.html#returning-a-view-versus-a-copy\n",
            "  test_tweet_off_new['tweet'][108] = \"Amazon is now offering to ship live Christmas trees to your doorstep. But the big question is, will they stay and help with putting on the lights? URL\"\n"
          ]
        }
      ],
      "source": [
        "test_tweet_off_new['tweet'][108] = \"Amazon is now offering to ship live Christmas trees to your doorstep. But the big question is, will they stay and help with putting on the lights? URL\""
      ]
    },
    {
      "cell_type": "code",
      "execution_count": 106,
      "metadata": {
        "colab": {
          "base_uri": "https://localhost:8080/"
        },
        "id": "HDDkMznMwWaz",
        "outputId": "10b0377f-9cd7-4db6-fc2c-7c2708a1b1a1"
      },
      "outputs": [
        {
          "output_type": "stream",
          "name": "stderr",
          "text": [
            "<ipython-input-106-b911e7b25eb3>:1: SettingWithCopyWarning: \n",
            "A value is trying to be set on a copy of a slice from a DataFrame\n",
            "\n",
            "See the caveats in the documentation: https://pandas.pydata.org/pandas-docs/stable/user_guide/indexing.html#returning-a-view-versus-a-copy\n",
            "  test_tweet_off_new['tweet'][207] =\"#JoinTheFight Join the discussion about concerns regarding certain political ideologies. Some people feel that Democrats and Liberals are promoting ideas that they believe could be harmful to America. Let's engage in constructive conversations. #JoinTheFightAgainstCommunism URL\"\n"
          ]
        }
      ],
      "source": [
        "test_tweet_off_new['tweet'][207] =\"#JoinTheFight Join the discussion about concerns regarding certain political ideologies. Some people feel that Democrats and Liberals are promoting ideas that they believe could be harmful to America. Let's engage in constructive conversations. #JoinTheFightAgainstCommunism URL\""
      ]
    },
    {
      "cell_type": "code",
      "execution_count": 107,
      "metadata": {
        "colab": {
          "base_uri": "https://localhost:8080/"
        },
        "id": "we_NRVCewWaz",
        "outputId": "d748049c-6b09-4c8c-b2c4-eefe8bcc457c"
      },
      "outputs": [
        {
          "output_type": "stream",
          "name": "stderr",
          "text": [
            "<ipython-input-107-9f32902790f1>:1: SettingWithCopyWarning: \n",
            "A value is trying to be set on a copy of a slice from a DataFrame\n",
            "\n",
            "See the caveats in the documentation: https://pandas.pydata.org/pandas-docs/stable/user_guide/indexing.html#returning-a-view-versus-a-copy\n",
            "  test_tweet_off_new['tweet'][609] =\"#DeSantis=DeRacist, while some may view him as a questionable choice, he chose to distance himself from the President's comments about deaths in Puerto Rico from Hurricane Maria. @USER @USER #whataputz\"\n"
          ]
        }
      ],
      "source": [
        "test_tweet_off_new['tweet'][609] =\"#DeSantis=DeRacist, while some may view him as a questionable choice, he chose to distance himself from the President's comments about deaths in Puerto Rico from Hurricane Maria. @USER @USER #whataputz\""
      ]
    },
    {
      "cell_type": "code",
      "execution_count": 108,
      "metadata": {
        "colab": {
          "base_uri": "https://localhost:8080/"
        },
        "id": "_lyujnkXwWaz",
        "outputId": "d79c13db-5c0c-4493-f27b-b00089075f81"
      },
      "outputs": [
        {
          "output_type": "stream",
          "name": "stderr",
          "text": [
            "<ipython-input-108-a45fbec956cc>:1: SettingWithCopyWarning: \n",
            "A value is trying to be set on a copy of a slice from a DataFrame\n",
            "\n",
            "See the caveats in the documentation: https://pandas.pydata.org/pandas-docs/stable/user_guide/indexing.html#returning-a-view-versus-a-copy\n",
            "  test_tweet_off_new['tweet'][156] =\"#TheArchers I want to excel in Karate and improve my skills for self-defense and personal growth.\"\n"
          ]
        }
      ],
      "source": [
        "test_tweet_off_new['tweet'][156] =\"#TheArchers I want to excel in Karate and improve my skills for self-defense and personal growth.\""
      ]
    },
    {
      "cell_type": "code",
      "execution_count": 210,
      "metadata": {
        "id": "H84oHuG1wWaz"
      },
      "outputs": [],
      "source": [
        "test_tweet_off_new_01 = test_tweet_off_new.loc[index_new]"
      ]
    },
    {
      "cell_type": "code",
      "execution_count": 211,
      "metadata": {
        "colab": {
          "base_uri": "https://localhost:8080/"
        },
        "id": "Cqx3Ub06wWaz",
        "outputId": "f13d6963-dcac-4f0f-81b6-badab73e3d15"
      },
      "outputs": [
        {
          "output_type": "execute_result",
          "data": {
            "text/plain": [
              "(50, 2)"
            ]
          },
          "metadata": {},
          "execution_count": 211
        }
      ],
      "source": [
        "test_tweet_off_new_01.shape"
      ]
    },
    {
      "cell_type": "code",
      "execution_count": 212,
      "metadata": {
        "id": "EOm6Z2BOwWaz"
      },
      "outputs": [],
      "source": [
        "test_tweet_not = test_tweet_a_new[test_tweet_a_new['class_a']=='NOT']"
      ]
    },
    {
      "cell_type": "code",
      "execution_count": 213,
      "metadata": {
        "id": "Ekaw_r-MwWaz"
      },
      "outputs": [],
      "source": [
        "random_100_rows = test_tweet_not.sample(n=100)\n",
        "\n",
        "# Build the new DataFrame using the randomly selected rows\n",
        "test_tweet_not_new = pd.DataFrame(random_100_rows)"
      ]
    },
    {
      "cell_type": "code",
      "execution_count": 371,
      "metadata": {
        "colab": {
          "base_uri": "https://localhost:8080/",
          "height": 424
        },
        "id": "YxiPzXLWwWaz",
        "outputId": "ca6d6d0b-1280-47da-ec0c-e12f3d00438f"
      },
      "outputs": [
        {
          "output_type": "execute_result",
          "data": {
            "text/plain": [
              "                                                 tweet class_a\n",
              "114  *Available for Adoption* Lincoln County, NC Ro...     NOT\n",
              "246  @USER @USER @USER You have yet to answer what ...     NOT\n",
              "696  @USER #Google as a fellow Goggler I must say e...     NOT\n",
              "193  #1A #2A  Ok,@USER , @USER  This is Eric Holder...     NOT\n",
              "379  #CREW is an eminence front. It's a put-on. #MS...     NOT\n",
              "..                                                 ...     ...\n",
              "805  #ChristineBlaseyFord / Democrats condemn conse...     NOT\n",
              "74   @USER Well she is Chuck Schumer's cousin or ni...     NOT\n",
              "794  #Wisdom #Wellness I will teach you the right w...     NOT\n",
              "451  #MyUniqueHeritage I Get My Irish From My Dad S...     NOT\n",
              "787                           69. he managed it... URL     NOT\n",
              "\n",
              "[100 rows x 2 columns]"
            ],
            "text/html": [
              "\n",
              "  <div id=\"df-c5129c7b-47a6-43c1-b0c2-0d86756d5244\" class=\"colab-df-container\">\n",
              "    <div>\n",
              "<style scoped>\n",
              "    .dataframe tbody tr th:only-of-type {\n",
              "        vertical-align: middle;\n",
              "    }\n",
              "\n",
              "    .dataframe tbody tr th {\n",
              "        vertical-align: top;\n",
              "    }\n",
              "\n",
              "    .dataframe thead th {\n",
              "        text-align: right;\n",
              "    }\n",
              "</style>\n",
              "<table border=\"1\" class=\"dataframe\">\n",
              "  <thead>\n",
              "    <tr style=\"text-align: right;\">\n",
              "      <th></th>\n",
              "      <th>tweet</th>\n",
              "      <th>class_a</th>\n",
              "    </tr>\n",
              "  </thead>\n",
              "  <tbody>\n",
              "    <tr>\n",
              "      <th>114</th>\n",
              "      <td>*Available for Adoption* Lincoln County, NC Ro...</td>\n",
              "      <td>NOT</td>\n",
              "    </tr>\n",
              "    <tr>\n",
              "      <th>246</th>\n",
              "      <td>@USER @USER @USER You have yet to answer what ...</td>\n",
              "      <td>NOT</td>\n",
              "    </tr>\n",
              "    <tr>\n",
              "      <th>696</th>\n",
              "      <td>@USER #Google as a fellow Goggler I must say e...</td>\n",
              "      <td>NOT</td>\n",
              "    </tr>\n",
              "    <tr>\n",
              "      <th>193</th>\n",
              "      <td>#1A #2A  Ok,@USER , @USER  This is Eric Holder...</td>\n",
              "      <td>NOT</td>\n",
              "    </tr>\n",
              "    <tr>\n",
              "      <th>379</th>\n",
              "      <td>#CREW is an eminence front. It's a put-on. #MS...</td>\n",
              "      <td>NOT</td>\n",
              "    </tr>\n",
              "    <tr>\n",
              "      <th>...</th>\n",
              "      <td>...</td>\n",
              "      <td>...</td>\n",
              "    </tr>\n",
              "    <tr>\n",
              "      <th>805</th>\n",
              "      <td>#ChristineBlaseyFord / Democrats condemn conse...</td>\n",
              "      <td>NOT</td>\n",
              "    </tr>\n",
              "    <tr>\n",
              "      <th>74</th>\n",
              "      <td>@USER Well she is Chuck Schumer's cousin or ni...</td>\n",
              "      <td>NOT</td>\n",
              "    </tr>\n",
              "    <tr>\n",
              "      <th>794</th>\n",
              "      <td>#Wisdom #Wellness I will teach you the right w...</td>\n",
              "      <td>NOT</td>\n",
              "    </tr>\n",
              "    <tr>\n",
              "      <th>451</th>\n",
              "      <td>#MyUniqueHeritage I Get My Irish From My Dad S...</td>\n",
              "      <td>NOT</td>\n",
              "    </tr>\n",
              "    <tr>\n",
              "      <th>787</th>\n",
              "      <td>69. he managed it... URL</td>\n",
              "      <td>NOT</td>\n",
              "    </tr>\n",
              "  </tbody>\n",
              "</table>\n",
              "<p>100 rows × 2 columns</p>\n",
              "</div>\n",
              "    <div class=\"colab-df-buttons\">\n",
              "\n",
              "  <div class=\"colab-df-container\">\n",
              "    <button class=\"colab-df-convert\" onclick=\"convertToInteractive('df-c5129c7b-47a6-43c1-b0c2-0d86756d5244')\"\n",
              "            title=\"Convert this dataframe to an interactive table.\"\n",
              "            style=\"display:none;\">\n",
              "\n",
              "  <svg xmlns=\"http://www.w3.org/2000/svg\" height=\"24px\" viewBox=\"0 -960 960 960\">\n",
              "    <path d=\"M120-120v-720h720v720H120Zm60-500h600v-160H180v160Zm220 220h160v-160H400v160Zm0 220h160v-160H400v160ZM180-400h160v-160H180v160Zm440 0h160v-160H620v160ZM180-180h160v-160H180v160Zm440 0h160v-160H620v160Z\"/>\n",
              "  </svg>\n",
              "    </button>\n",
              "\n",
              "  <style>\n",
              "    .colab-df-container {\n",
              "      display:flex;\n",
              "      gap: 12px;\n",
              "    }\n",
              "\n",
              "    .colab-df-convert {\n",
              "      background-color: #E8F0FE;\n",
              "      border: none;\n",
              "      border-radius: 50%;\n",
              "      cursor: pointer;\n",
              "      display: none;\n",
              "      fill: #1967D2;\n",
              "      height: 32px;\n",
              "      padding: 0 0 0 0;\n",
              "      width: 32px;\n",
              "    }\n",
              "\n",
              "    .colab-df-convert:hover {\n",
              "      background-color: #E2EBFA;\n",
              "      box-shadow: 0px 1px 2px rgba(60, 64, 67, 0.3), 0px 1px 3px 1px rgba(60, 64, 67, 0.15);\n",
              "      fill: #174EA6;\n",
              "    }\n",
              "\n",
              "    .colab-df-buttons div {\n",
              "      margin-bottom: 4px;\n",
              "    }\n",
              "\n",
              "    [theme=dark] .colab-df-convert {\n",
              "      background-color: #3B4455;\n",
              "      fill: #D2E3FC;\n",
              "    }\n",
              "\n",
              "    [theme=dark] .colab-df-convert:hover {\n",
              "      background-color: #434B5C;\n",
              "      box-shadow: 0px 1px 3px 1px rgba(0, 0, 0, 0.15);\n",
              "      filter: drop-shadow(0px 1px 2px rgba(0, 0, 0, 0.3));\n",
              "      fill: #FFFFFF;\n",
              "    }\n",
              "  </style>\n",
              "\n",
              "    <script>\n",
              "      const buttonEl =\n",
              "        document.querySelector('#df-c5129c7b-47a6-43c1-b0c2-0d86756d5244 button.colab-df-convert');\n",
              "      buttonEl.style.display =\n",
              "        google.colab.kernel.accessAllowed ? 'block' : 'none';\n",
              "\n",
              "      async function convertToInteractive(key) {\n",
              "        const element = document.querySelector('#df-c5129c7b-47a6-43c1-b0c2-0d86756d5244');\n",
              "        const dataTable =\n",
              "          await google.colab.kernel.invokeFunction('convertToInteractive',\n",
              "                                                    [key], {});\n",
              "        if (!dataTable) return;\n",
              "\n",
              "        const docLinkHtml = 'Like what you see? Visit the ' +\n",
              "          '<a target=\"_blank\" href=https://colab.research.google.com/notebooks/data_table.ipynb>data table notebook</a>'\n",
              "          + ' to learn more about interactive tables.';\n",
              "        element.innerHTML = '';\n",
              "        dataTable['output_type'] = 'display_data';\n",
              "        await google.colab.output.renderOutput(dataTable, element);\n",
              "        const docLink = document.createElement('div');\n",
              "        docLink.innerHTML = docLinkHtml;\n",
              "        element.appendChild(docLink);\n",
              "      }\n",
              "    </script>\n",
              "  </div>\n",
              "\n",
              "\n",
              "<div id=\"df-2557f137-bb45-490d-ba40-f54cf3497452\">\n",
              "  <button class=\"colab-df-quickchart\" onclick=\"quickchart('df-2557f137-bb45-490d-ba40-f54cf3497452')\"\n",
              "            title=\"Suggest charts.\"\n",
              "            style=\"display:none;\">\n",
              "\n",
              "<svg xmlns=\"http://www.w3.org/2000/svg\" height=\"24px\"viewBox=\"0 0 24 24\"\n",
              "     width=\"24px\">\n",
              "    <g>\n",
              "        <path d=\"M19 3H5c-1.1 0-2 .9-2 2v14c0 1.1.9 2 2 2h14c1.1 0 2-.9 2-2V5c0-1.1-.9-2-2-2zM9 17H7v-7h2v7zm4 0h-2V7h2v10zm4 0h-2v-4h2v4z\"/>\n",
              "    </g>\n",
              "</svg>\n",
              "  </button>\n",
              "\n",
              "<style>\n",
              "  .colab-df-quickchart {\n",
              "    background-color: #E8F0FE;\n",
              "    border: none;\n",
              "    border-radius: 50%;\n",
              "    cursor: pointer;\n",
              "    display: none;\n",
              "    fill: #1967D2;\n",
              "    height: 32px;\n",
              "    padding: 0 0 0 0;\n",
              "    width: 32px;\n",
              "  }\n",
              "\n",
              "  .colab-df-quickchart:hover {\n",
              "    background-color: #E2EBFA;\n",
              "    box-shadow: 0px 1px 2px rgba(60, 64, 67, 0.3), 0px 1px 3px 1px rgba(60, 64, 67, 0.15);\n",
              "    fill: #174EA6;\n",
              "  }\n",
              "\n",
              "  [theme=dark] .colab-df-quickchart {\n",
              "    background-color: #3B4455;\n",
              "    fill: #D2E3FC;\n",
              "  }\n",
              "\n",
              "  [theme=dark] .colab-df-quickchart:hover {\n",
              "    background-color: #434B5C;\n",
              "    box-shadow: 0px 1px 3px 1px rgba(0, 0, 0, 0.15);\n",
              "    filter: drop-shadow(0px 1px 2px rgba(0, 0, 0, 0.3));\n",
              "    fill: #FFFFFF;\n",
              "  }\n",
              "</style>\n",
              "\n",
              "  <script>\n",
              "    async function quickchart(key) {\n",
              "      const charts = await google.colab.kernel.invokeFunction(\n",
              "          'suggestCharts', [key], {});\n",
              "    }\n",
              "    (() => {\n",
              "      let quickchartButtonEl =\n",
              "        document.querySelector('#df-2557f137-bb45-490d-ba40-f54cf3497452 button');\n",
              "      quickchartButtonEl.style.display =\n",
              "        google.colab.kernel.accessAllowed ? 'block' : 'none';\n",
              "    })();\n",
              "  </script>\n",
              "</div>\n",
              "    </div>\n",
              "  </div>\n"
            ]
          },
          "metadata": {},
          "execution_count": 371
        }
      ],
      "source": [
        "test_tweet_not_new"
      ]
    },
    {
      "cell_type": "code",
      "execution_count": 215,
      "metadata": {
        "id": "97wrHVdUwWaz"
      },
      "outputs": [],
      "source": [
        "merged_df = pd.concat([test_tweet_not_new, test_tweet_off_new_01], ignore_index=True)\n",
        "\n",
        "# Shuffle the index\n",
        "test_shuffled_df = merged_df.sample(frac=1).reset_index(drop=True)"
      ]
    },
    {
      "cell_type": "code",
      "execution_count": 216,
      "metadata": {
        "colab": {
          "base_uri": "https://localhost:8080/",
          "height": 424
        },
        "id": "-jGo7OG8wWaz",
        "outputId": "2190d4b3-a863-46ae-8644-719248a89094"
      },
      "outputs": [
        {
          "output_type": "execute_result",
          "data": {
            "text/plain": [
              "                                                 tweet class_a\n",
              "0    #Christian If Twitter and Facebook can silence...     NOT\n",
              "1      #Antifa demo in memory of #KillahP. #Greece URL     NOT\n",
              "2    #MyUniqueHeritage  I have a separate family tr...     NOT\n",
              "3    @USER @USER As I've mentioned before, some peo...     OFF\n",
              "4    #Antifa invaded a memorial in recognition of K...     NOT\n",
              "..                                                 ...     ...\n",
              "145  @USER He does. And I'm glad he always goes out...     NOT\n",
              "146                           69. he managed it... URL     NOT\n",
              "147  #TipOfTheDay If you are giving #coffee as a gi...     NOT\n",
              "148  #Trademark Attorney Daniela Paull will be in P...     NOT\n",
              "149  #SerenaWilliams making that 0-2 start to this ...     NOT\n",
              "\n",
              "[150 rows x 2 columns]"
            ],
            "text/html": [
              "\n",
              "  <div id=\"df-f3eec375-1df5-4cb5-bcdc-6cd6e9ddf09d\" class=\"colab-df-container\">\n",
              "    <div>\n",
              "<style scoped>\n",
              "    .dataframe tbody tr th:only-of-type {\n",
              "        vertical-align: middle;\n",
              "    }\n",
              "\n",
              "    .dataframe tbody tr th {\n",
              "        vertical-align: top;\n",
              "    }\n",
              "\n",
              "    .dataframe thead th {\n",
              "        text-align: right;\n",
              "    }\n",
              "</style>\n",
              "<table border=\"1\" class=\"dataframe\">\n",
              "  <thead>\n",
              "    <tr style=\"text-align: right;\">\n",
              "      <th></th>\n",
              "      <th>tweet</th>\n",
              "      <th>class_a</th>\n",
              "    </tr>\n",
              "  </thead>\n",
              "  <tbody>\n",
              "    <tr>\n",
              "      <th>0</th>\n",
              "      <td>#Christian If Twitter and Facebook can silence...</td>\n",
              "      <td>NOT</td>\n",
              "    </tr>\n",
              "    <tr>\n",
              "      <th>1</th>\n",
              "      <td>#Antifa demo in memory of #KillahP. #Greece URL</td>\n",
              "      <td>NOT</td>\n",
              "    </tr>\n",
              "    <tr>\n",
              "      <th>2</th>\n",
              "      <td>#MyUniqueHeritage  I have a separate family tr...</td>\n",
              "      <td>NOT</td>\n",
              "    </tr>\n",
              "    <tr>\n",
              "      <th>3</th>\n",
              "      <td>@USER @USER As I've mentioned before, some peo...</td>\n",
              "      <td>OFF</td>\n",
              "    </tr>\n",
              "    <tr>\n",
              "      <th>4</th>\n",
              "      <td>#Antifa invaded a memorial in recognition of K...</td>\n",
              "      <td>NOT</td>\n",
              "    </tr>\n",
              "    <tr>\n",
              "      <th>...</th>\n",
              "      <td>...</td>\n",
              "      <td>...</td>\n",
              "    </tr>\n",
              "    <tr>\n",
              "      <th>145</th>\n",
              "      <td>@USER He does. And I'm glad he always goes out...</td>\n",
              "      <td>NOT</td>\n",
              "    </tr>\n",
              "    <tr>\n",
              "      <th>146</th>\n",
              "      <td>69. he managed it... URL</td>\n",
              "      <td>NOT</td>\n",
              "    </tr>\n",
              "    <tr>\n",
              "      <th>147</th>\n",
              "      <td>#TipOfTheDay If you are giving #coffee as a gi...</td>\n",
              "      <td>NOT</td>\n",
              "    </tr>\n",
              "    <tr>\n",
              "      <th>148</th>\n",
              "      <td>#Trademark Attorney Daniela Paull will be in P...</td>\n",
              "      <td>NOT</td>\n",
              "    </tr>\n",
              "    <tr>\n",
              "      <th>149</th>\n",
              "      <td>#SerenaWilliams making that 0-2 start to this ...</td>\n",
              "      <td>NOT</td>\n",
              "    </tr>\n",
              "  </tbody>\n",
              "</table>\n",
              "<p>150 rows × 2 columns</p>\n",
              "</div>\n",
              "    <div class=\"colab-df-buttons\">\n",
              "\n",
              "  <div class=\"colab-df-container\">\n",
              "    <button class=\"colab-df-convert\" onclick=\"convertToInteractive('df-f3eec375-1df5-4cb5-bcdc-6cd6e9ddf09d')\"\n",
              "            title=\"Convert this dataframe to an interactive table.\"\n",
              "            style=\"display:none;\">\n",
              "\n",
              "  <svg xmlns=\"http://www.w3.org/2000/svg\" height=\"24px\" viewBox=\"0 -960 960 960\">\n",
              "    <path d=\"M120-120v-720h720v720H120Zm60-500h600v-160H180v160Zm220 220h160v-160H400v160Zm0 220h160v-160H400v160ZM180-400h160v-160H180v160Zm440 0h160v-160H620v160ZM180-180h160v-160H180v160Zm440 0h160v-160H620v160Z\"/>\n",
              "  </svg>\n",
              "    </button>\n",
              "\n",
              "  <style>\n",
              "    .colab-df-container {\n",
              "      display:flex;\n",
              "      gap: 12px;\n",
              "    }\n",
              "\n",
              "    .colab-df-convert {\n",
              "      background-color: #E8F0FE;\n",
              "      border: none;\n",
              "      border-radius: 50%;\n",
              "      cursor: pointer;\n",
              "      display: none;\n",
              "      fill: #1967D2;\n",
              "      height: 32px;\n",
              "      padding: 0 0 0 0;\n",
              "      width: 32px;\n",
              "    }\n",
              "\n",
              "    .colab-df-convert:hover {\n",
              "      background-color: #E2EBFA;\n",
              "      box-shadow: 0px 1px 2px rgba(60, 64, 67, 0.3), 0px 1px 3px 1px rgba(60, 64, 67, 0.15);\n",
              "      fill: #174EA6;\n",
              "    }\n",
              "\n",
              "    .colab-df-buttons div {\n",
              "      margin-bottom: 4px;\n",
              "    }\n",
              "\n",
              "    [theme=dark] .colab-df-convert {\n",
              "      background-color: #3B4455;\n",
              "      fill: #D2E3FC;\n",
              "    }\n",
              "\n",
              "    [theme=dark] .colab-df-convert:hover {\n",
              "      background-color: #434B5C;\n",
              "      box-shadow: 0px 1px 3px 1px rgba(0, 0, 0, 0.15);\n",
              "      filter: drop-shadow(0px 1px 2px rgba(0, 0, 0, 0.3));\n",
              "      fill: #FFFFFF;\n",
              "    }\n",
              "  </style>\n",
              "\n",
              "    <script>\n",
              "      const buttonEl =\n",
              "        document.querySelector('#df-f3eec375-1df5-4cb5-bcdc-6cd6e9ddf09d button.colab-df-convert');\n",
              "      buttonEl.style.display =\n",
              "        google.colab.kernel.accessAllowed ? 'block' : 'none';\n",
              "\n",
              "      async function convertToInteractive(key) {\n",
              "        const element = document.querySelector('#df-f3eec375-1df5-4cb5-bcdc-6cd6e9ddf09d');\n",
              "        const dataTable =\n",
              "          await google.colab.kernel.invokeFunction('convertToInteractive',\n",
              "                                                    [key], {});\n",
              "        if (!dataTable) return;\n",
              "\n",
              "        const docLinkHtml = 'Like what you see? Visit the ' +\n",
              "          '<a target=\"_blank\" href=https://colab.research.google.com/notebooks/data_table.ipynb>data table notebook</a>'\n",
              "          + ' to learn more about interactive tables.';\n",
              "        element.innerHTML = '';\n",
              "        dataTable['output_type'] = 'display_data';\n",
              "        await google.colab.output.renderOutput(dataTable, element);\n",
              "        const docLink = document.createElement('div');\n",
              "        docLink.innerHTML = docLinkHtml;\n",
              "        element.appendChild(docLink);\n",
              "      }\n",
              "    </script>\n",
              "  </div>\n",
              "\n",
              "\n",
              "<div id=\"df-710cc2bd-a0b0-462f-89d2-723f472ee685\">\n",
              "  <button class=\"colab-df-quickchart\" onclick=\"quickchart('df-710cc2bd-a0b0-462f-89d2-723f472ee685')\"\n",
              "            title=\"Suggest charts.\"\n",
              "            style=\"display:none;\">\n",
              "\n",
              "<svg xmlns=\"http://www.w3.org/2000/svg\" height=\"24px\"viewBox=\"0 0 24 24\"\n",
              "     width=\"24px\">\n",
              "    <g>\n",
              "        <path d=\"M19 3H5c-1.1 0-2 .9-2 2v14c0 1.1.9 2 2 2h14c1.1 0 2-.9 2-2V5c0-1.1-.9-2-2-2zM9 17H7v-7h2v7zm4 0h-2V7h2v10zm4 0h-2v-4h2v4z\"/>\n",
              "    </g>\n",
              "</svg>\n",
              "  </button>\n",
              "\n",
              "<style>\n",
              "  .colab-df-quickchart {\n",
              "    background-color: #E8F0FE;\n",
              "    border: none;\n",
              "    border-radius: 50%;\n",
              "    cursor: pointer;\n",
              "    display: none;\n",
              "    fill: #1967D2;\n",
              "    height: 32px;\n",
              "    padding: 0 0 0 0;\n",
              "    width: 32px;\n",
              "  }\n",
              "\n",
              "  .colab-df-quickchart:hover {\n",
              "    background-color: #E2EBFA;\n",
              "    box-shadow: 0px 1px 2px rgba(60, 64, 67, 0.3), 0px 1px 3px 1px rgba(60, 64, 67, 0.15);\n",
              "    fill: #174EA6;\n",
              "  }\n",
              "\n",
              "  [theme=dark] .colab-df-quickchart {\n",
              "    background-color: #3B4455;\n",
              "    fill: #D2E3FC;\n",
              "  }\n",
              "\n",
              "  [theme=dark] .colab-df-quickchart:hover {\n",
              "    background-color: #434B5C;\n",
              "    box-shadow: 0px 1px 3px 1px rgba(0, 0, 0, 0.15);\n",
              "    filter: drop-shadow(0px 1px 2px rgba(0, 0, 0, 0.3));\n",
              "    fill: #FFFFFF;\n",
              "  }\n",
              "</style>\n",
              "\n",
              "  <script>\n",
              "    async function quickchart(key) {\n",
              "      const charts = await google.colab.kernel.invokeFunction(\n",
              "          'suggestCharts', [key], {});\n",
              "    }\n",
              "    (() => {\n",
              "      let quickchartButtonEl =\n",
              "        document.querySelector('#df-710cc2bd-a0b0-462f-89d2-723f472ee685 button');\n",
              "      quickchartButtonEl.style.display =\n",
              "        google.colab.kernel.accessAllowed ? 'block' : 'none';\n",
              "    })();\n",
              "  </script>\n",
              "</div>\n",
              "    </div>\n",
              "  </div>\n"
            ]
          },
          "metadata": {},
          "execution_count": 216
        }
      ],
      "source": [
        "test_shuffled_df"
      ]
    },
    {
      "cell_type": "code",
      "execution_count": 217,
      "metadata": {
        "colab": {
          "base_uri": "https://localhost:8080/"
        },
        "id": "uUmardYCwWaz",
        "outputId": "272c9d3e-9370-45c7-f5c7-aef6cfd5b808"
      },
      "outputs": [
        {
          "output_type": "stream",
          "name": "stderr",
          "text": [
            "<ipython-input-10-58d0d99cd0a4>:9: FutureWarning: The default value of regex will change from True to False in a future version.\n",
            "  df.loc[:, 'tweet'] = df.tweet.str.replace('\\d+','') #Remove numbers\n",
            "<ipython-input-10-58d0d99cd0a4>:14: FutureWarning: The default value of regex will change from True to False in a future version. In addition, single character regular expressions will *not* be treated as literal strings when regex=True.\n",
            "  df.loc[:, 'tweet'] = df.tweet.str.replace(punctuation, '')\n"
          ]
        }
      ],
      "source": [
        "clean_tweets(test_shuffled_df)"
      ]
    },
    {
      "cell_type": "code",
      "execution_count": null,
      "metadata": {
        "id": "pt4l9GFawWaz"
      },
      "outputs": [],
      "source": [
        "\n",
        "test_shuffled_df.update(test_shuffled_df[['tweet']].applymap('\\'{}\\''.format))\n",
        "\n",
        "test_shuffled_df.head()"
      ]
    },
    {
      "cell_type": "code",
      "execution_count": 219,
      "metadata": {
        "id": "0JBesCKGwWa0"
      },
      "outputs": [],
      "source": [
        "\n",
        "test_shuffled_df[\"class_a_code\"] = encoder.fit_transform(test_shuffled_df[\"class_a\"])"
      ]
    },
    {
      "cell_type": "code",
      "execution_count": 220,
      "metadata": {
        "id": "H3BHtP9swWa0"
      },
      "outputs": [],
      "source": [
        "X_test_shuffled = test_shuffled_df['tweet']\n",
        "y_test_shuffled = test_shuffled_df['class_a_code']"
      ]
    },
    {
      "cell_type": "code",
      "execution_count": 221,
      "metadata": {
        "colab": {
          "base_uri": "https://localhost:8080/"
        },
        "id": "z3j4jQYywWa0",
        "outputId": "3d89bb21-f6f8-4b5b-8c2a-ca37c3b21c46"
      },
      "outputs": [
        {
          "output_type": "execute_result",
          "data": {
            "text/plain": [
              "0      'christian if twitter and facebook can silence...\n",
              "1             'antifa demo in memory of killahp greece '\n",
              "2      'myuniqueheritage  i have a separate family tr...\n",
              "3      '  as ive mentioned before some people believe...\n",
              "4      'antifa invaded a memorial in recognition of k...\n",
              "                             ...                        \n",
              "145    ' he does and im glad he always goes out on so...\n",
              "146                                    ' he managed it '\n",
              "147    'tipoftheday if you are giving coffee as a gif...\n",
              "148    'trademark attorney daniela paull will be in p...\n",
              "149    'serenawilliams making that  start to this st ...\n",
              "Name: tweet, Length: 150, dtype: object"
            ]
          },
          "metadata": {},
          "execution_count": 221
        }
      ],
      "source": [
        "X_test_shuffled"
      ]
    },
    {
      "cell_type": "code",
      "execution_count": 222,
      "metadata": {
        "colab": {
          "base_uri": "https://localhost:8080/"
        },
        "id": "S4Oex-HSwWa0",
        "outputId": "39f55ba4-3b3c-41ea-ea6e-a38cfef4e964"
      },
      "outputs": [
        {
          "output_type": "execute_result",
          "data": {
            "text/plain": [
              "0      0\n",
              "1      0\n",
              "2      0\n",
              "3      1\n",
              "4      0\n",
              "      ..\n",
              "145    0\n",
              "146    0\n",
              "147    0\n",
              "148    0\n",
              "149    0\n",
              "Name: class_a_code, Length: 150, dtype: int64"
            ]
          },
          "metadata": {},
          "execution_count": 222
        }
      ],
      "source": [
        "y_test_shuffled"
      ]
    },
    {
      "cell_type": "code",
      "execution_count": 223,
      "metadata": {
        "id": "Rco9fWTVwWa0"
      },
      "outputs": [],
      "source": [
        "encoder = LabelEncoder()\n",
        "train_labels = encoder.fit_transform(y_train)\n",
        "\n",
        "test_labels_shuffled = encoder.transform(y_test_shuffled)"
      ]
    },
    {
      "cell_type": "code",
      "execution_count": 224,
      "metadata": {
        "id": "X02y9B_0wWa0"
      },
      "outputs": [],
      "source": [
        "test_encodings_shuffled = tokenizer(list(X_test_shuffled), truncation=True, padding=True, max_length=256)"
      ]
    },
    {
      "cell_type": "code",
      "execution_count": 225,
      "metadata": {
        "id": "pNzAcN_rwWa0"
      },
      "outputs": [],
      "source": [
        "test_dataset_shuffled = tf.data.Dataset.from_tensor_slices((\n",
        "    dict(test_encodings_shuffled),\n",
        "    test_labels_shuffled\n",
        ")).batch(16)"
      ]
    },
    {
      "cell_type": "code",
      "execution_count": 226,
      "metadata": {
        "colab": {
          "base_uri": "https://localhost:8080/"
        },
        "id": "j7-J7kjcwWa0",
        "outputId": "c09987e5-008b-4b5c-a397-c1a4d7e10e08"
      },
      "outputs": [
        {
          "output_type": "stream",
          "name": "stdout",
          "text": [
            "10/10 [==============================] - 1s 103ms/step\n"
          ]
        }
      ],
      "source": [
        "\n",
        "# Get the model predictions\n",
        "predictions = tf.argmax(model.predict(test_dataset_shuffled)[0], axis=-1)\n"
      ]
    },
    {
      "cell_type": "code",
      "execution_count": 227,
      "metadata": {
        "colab": {
          "base_uri": "https://localhost:8080/"
        },
        "id": "QwJYr7LuwWa0",
        "outputId": "1f210fbf-5b81-4362-d7f8-af8f15aeea5b"
      },
      "outputs": [
        {
          "output_type": "stream",
          "name": "stdout",
          "text": [
            "              precision    recall  f1-score   support\n",
            "\n",
            "           0       0.63      0.85      0.73       100\n",
            "           1       0.06      0.02      0.03        50\n",
            "\n",
            "    accuracy                           0.57       150\n",
            "   macro avg       0.35      0.43      0.38       150\n",
            "weighted avg       0.44      0.57      0.49       150\n",
            "\n"
          ]
        }
      ],
      "source": [
        "# Decode the label numbers back into original labels\n",
        "y_test_inverse_shuffled = encoder.inverse_transform(y_test_shuffled)\n",
        "predictions_inverse_shuffled = encoder.inverse_transform(predictions.numpy())\n",
        "\n",
        "# Generate the classification report\n",
        "report_gpt3 = classification_report(y_test_inverse_shuffled, predictions_inverse_shuffled,\n",
        "                               target_names=encoder.classes_.astype(str))\n",
        "print(report_gpt3)"
      ]
    },
    {
      "cell_type": "markdown",
      "metadata": {
        "id": "xX6u9v9kwWa0"
      },
      "source": [
        "# ChatGPT 3 with rephrasing\n"
      ]
    },
    {
      "cell_type": "code",
      "execution_count": null,
      "metadata": {
        "id": "b58mIDn9wWa0",
        "outputId": "ec6d0e37-e5bd-4fbd-c171-60530a459f29"
      },
      "outputs": [
        {
          "name": "stdout",
          "output_type": "stream",
          "text": [
            "[308, 216, 732, 376, 382, 339, 47, 99, 797, 282, 228, 362, 701, 480, 115, 136, 77, 51, 681, 749, 389, 260, 258, 100, 233, 554, 810, 483, 614, 778, 107, 613, 175, 307, 634, 313, 182, 154, 855, 352, 853, 323, 40, 38, 531, 135, 281, 737, 823, 413]\n"
          ]
        }
      ],
      "source": [
        "print(random_indexes[50:])"
      ]
    },
    {
      "cell_type": "code",
      "source": [
        "index_new2 = [308, 216, 732, 376, 382, 339, 47, 99, 797, 282, 228, 362, 701, 480, 115, 136, 77, 51, 681, 749, 389, 260, 258, 100, 233, 554, 810, 483, 614, 778, 107, 613, 175, 307, 634, 313, 182, 154, 855, 352, 853, 323, 40, 38, 531, 135, 281, 737, 823, 413]"
      ],
      "metadata": {
        "id": "zmmwFkSO-x0m"
      },
      "execution_count": 149,
      "outputs": []
    },
    {
      "cell_type": "code",
      "execution_count": 150,
      "metadata": {
        "colab": {
          "base_uri": "https://localhost:8080/",
          "height": 35
        },
        "id": "noN_i8tAwWa0",
        "outputId": "db55ed52-7ee8-47c1-fc4c-ece7a4e9ab3b"
      },
      "outputs": [
        {
          "output_type": "execute_result",
          "data": {
            "text/plain": [
              "'#Antifa is recruiting for a designated #terrorist organization URL'"
            ],
            "application/vnd.google.colaboratory.intrinsic+json": {
              "type": "string"
            }
          },
          "metadata": {},
          "execution_count": 150
        }
      ],
      "source": [
        "test_tweet_off_new['tweet'][413]"
      ]
    },
    {
      "cell_type": "code",
      "execution_count": 151,
      "metadata": {
        "colab": {
          "base_uri": "https://localhost:8080/"
        },
        "id": "XzSy7x53wWa0",
        "outputId": "dfe6fe68-b00d-4a72-8134-468607c3c8c6"
      },
      "outputs": [
        {
          "output_type": "stream",
          "name": "stderr",
          "text": [
            "<ipython-input-151-0915c0305988>:1: SettingWithCopyWarning: \n",
            "A value is trying to be set on a copy of a slice from a DataFrame\n",
            "\n",
            "See the caveats in the documentation: https://pandas.pydata.org/pandas-docs/stable/user_guide/indexing.html#returning-a-view-versus-a-copy\n",
            "  test_tweet_off_new['tweet'][308] = \"Alright, let's consider the situation. It's true that some players have scored 15+ goals in Eredivisie, but some might argue that it's not the most challenging league. On the other hand, Bundesliga teams have proven to be competitive in European competitions. As for Mexican talent, it's been some time since someone like Pulisic emerged. Nevertheless, there's always hope for the future, and who knows, Mexico might produce exceptional talents in due time.\"\n"
          ]
        }
      ],
      "source": [
        "test_tweet_off_new['tweet'][308] = \"Alright, let's consider the situation. It's true that some players have scored 15+ goals in Eredivisie, but some might argue that it's not the most challenging league. On the other hand, Bundesliga teams have proven to be competitive in European competitions. As for Mexican talent, it's been some time since someone like Pulisic emerged. Nevertheless, there's always hope for the future, and who knows, Mexico might produce exceptional talents in due time.\""
      ]
    },
    {
      "cell_type": "code",
      "execution_count": 152,
      "metadata": {
        "colab": {
          "base_uri": "https://localhost:8080/"
        },
        "id": "-SQAxPqSwWa0",
        "outputId": "73ea316a-f3ae-4090-bf17-4841b83edc74"
      },
      "outputs": [
        {
          "output_type": "stream",
          "name": "stderr",
          "text": [
            "<ipython-input-152-83836923c3a5>:1: SettingWithCopyWarning: \n",
            "A value is trying to be set on a copy of a slice from a DataFrame\n",
            "\n",
            "See the caveats in the documentation: https://pandas.pydata.org/pandas-docs/stable/user_guide/indexing.html#returning-a-view-versus-a-copy\n",
            "  test_tweet_off_new['tweet'][216] =\"It seems like both males and females are dealing with similar situations, and that's something to consider. The URL might be a shared experience for both genders.\"\n"
          ]
        }
      ],
      "source": [
        "test_tweet_off_new['tweet'][216] =\"It seems like both males and females are dealing with similar situations, and that's something to consider. The URL might be a shared experience for both genders.\""
      ]
    },
    {
      "cell_type": "code",
      "execution_count": 153,
      "metadata": {
        "colab": {
          "base_uri": "https://localhost:8080/"
        },
        "id": "6LXInilMwWa0",
        "outputId": "af22daf8-a327-4dfe-ed34-8f86d0542385"
      },
      "outputs": [
        {
          "output_type": "stream",
          "name": "stderr",
          "text": [
            "<ipython-input-153-f98cb3a6eb0b>:1: SettingWithCopyWarning: \n",
            "A value is trying to be set on a copy of a slice from a DataFrame\n",
            "\n",
            "See the caveats in the documentation: https://pandas.pydata.org/pandas-docs/stable/user_guide/indexing.html#returning-a-view-versus-a-copy\n",
            "  test_tweet_off_new['tweet'][732] = \"Addressing the topic of #LiberalHypocrisy and #TacoBell, some individuals question why others are against illegal immigration. They mention an incident involving a Taco Bell employee responding with 'No Habla Ingles!' when asked.\"\n"
          ]
        }
      ],
      "source": [
        "test_tweet_off_new['tweet'][732] = \"Addressing the topic of #LiberalHypocrisy and #TacoBell, some individuals question why others are against illegal immigration. They mention an incident involving a Taco Bell employee responding with 'No Habla Ingles!' when asked.\""
      ]
    },
    {
      "cell_type": "code",
      "execution_count": 154,
      "metadata": {
        "colab": {
          "base_uri": "https://localhost:8080/"
        },
        "id": "zjji-AwkwWa0",
        "outputId": "94c2f2a5-4e65-4965-ff5c-61a744d6e72a"
      },
      "outputs": [
        {
          "output_type": "stream",
          "name": "stderr",
          "text": [
            "<ipython-input-154-5bd8c908bd1d>:1: SettingWithCopyWarning: \n",
            "A value is trying to be set on a copy of a slice from a DataFrame\n",
            "\n",
            "See the caveats in the documentation: https://pandas.pydata.org/pandas-docs/stable/user_guide/indexing.html#returning-a-view-versus-a-copy\n",
            "  test_tweet_off_new['tweet'][376]  =\"It's been an incredible seven years! #MyTwitterAnniversary URL\"\n"
          ]
        }
      ],
      "source": [
        "test_tweet_off_new['tweet'][376]  =\"It's been an incredible seven years! #MyTwitterAnniversary URL\""
      ]
    },
    {
      "cell_type": "code",
      "execution_count": 155,
      "metadata": {
        "colab": {
          "base_uri": "https://localhost:8080/"
        },
        "id": "OMDJDA8NwWa0",
        "outputId": "f7ee30f5-a828-41b0-f08d-9ab1ff366809"
      },
      "outputs": [
        {
          "output_type": "stream",
          "name": "stderr",
          "text": [
            "<ipython-input-155-faf8206244da>:1: SettingWithCopyWarning: \n",
            "A value is trying to be set on a copy of a slice from a DataFrame\n",
            "\n",
            "See the caveats in the documentation: https://pandas.pydata.org/pandas-docs/stable/user_guide/indexing.html#returning-a-view-versus-a-copy\n",
            "  test_tweet_off_new['tweet'][382] =\"The situation surrounding #ChristineBlaseyFord has drawn attention, and some suggest that she is facing harassment from certain groups. They point to the involvement of Antifa, seen as the radical arm of the Democratic Party, allegedly backed by George Soros. The hashtag #VoteRedToSaveAmerica is being used in this context.\"\n"
          ]
        }
      ],
      "source": [
        "test_tweet_off_new['tweet'][382] =\"The situation surrounding #ChristineBlaseyFord has drawn attention, and some suggest that she is facing harassment from certain groups. They point to the involvement of Antifa, seen as the radical arm of the Democratic Party, allegedly backed by George Soros. The hashtag #VoteRedToSaveAmerica is being used in this context.\""
      ]
    },
    {
      "cell_type": "code",
      "execution_count": 156,
      "metadata": {
        "colab": {
          "base_uri": "https://localhost:8080/"
        },
        "id": "vMOcu2NxwWa0",
        "outputId": "03f34c77-f587-4479-f9b3-bbef3322620e"
      },
      "outputs": [
        {
          "output_type": "stream",
          "name": "stderr",
          "text": [
            "<ipython-input-156-ca602e3bb761>:1: SettingWithCopyWarning: \n",
            "A value is trying to be set on a copy of a slice from a DataFrame\n",
            "\n",
            "See the caveats in the documentation: https://pandas.pydata.org/pandas-docs/stable/user_guide/indexing.html#returning-a-view-versus-a-copy\n",
            "  test_tweet_off_new['tweet'][339] =\"On #ConstitutionDay, there's an interesting contrast between some conservative members of the alt-right who criticize efforts for #GunControlNow, accusing it of damaging the Constitution, while expressing concerns about non-White foreigners seeking to live in this country. The situation sparks debate on constitutional interpretations and immigration policies.\"\n"
          ]
        }
      ],
      "source": [
        "test_tweet_off_new['tweet'][339] =\"On #ConstitutionDay, there's an interesting contrast between some conservative members of the alt-right who criticize efforts for #GunControlNow, accusing it of damaging the Constitution, while expressing concerns about non-White foreigners seeking to live in this country. The situation sparks debate on constitutional interpretations and immigration policies.\""
      ]
    },
    {
      "cell_type": "code",
      "execution_count": 157,
      "metadata": {
        "colab": {
          "base_uri": "https://localhost:8080/"
        },
        "id": "qW8gTvLmwWa1",
        "outputId": "9cb60730-7fad-4999-bb28-2de6efa23d1e"
      },
      "outputs": [
        {
          "output_type": "stream",
          "name": "stderr",
          "text": [
            "<ipython-input-157-4145a0397fcd>:1: SettingWithCopyWarning: \n",
            "A value is trying to be set on a copy of a slice from a DataFrame\n",
            "\n",
            "See the caveats in the documentation: https://pandas.pydata.org/pandas-docs/stable/user_guide/indexing.html#returning-a-view-versus-a-copy\n",
            "  test_tweet_off_new['tweet'][47] =\"#Conservatives, it's disheartening to witness such disrespectful interactions like the one with @USER. URL\"\n"
          ]
        }
      ],
      "source": [
        "test_tweet_off_new['tweet'][47] =\"#Conservatives, it's disheartening to witness such disrespectful interactions like the one with @USER. URL\""
      ]
    },
    {
      "cell_type": "code",
      "execution_count": 158,
      "metadata": {
        "colab": {
          "base_uri": "https://localhost:8080/"
        },
        "id": "qUUjOR5gwWa1",
        "outputId": "62fdb9d1-08fd-4b37-d3f8-cfe3c09b047f"
      },
      "outputs": [
        {
          "output_type": "stream",
          "name": "stderr",
          "text": [
            "<ipython-input-158-c8c8e47abdcd>:1: SettingWithCopyWarning: \n",
            "A value is trying to be set on a copy of a slice from a DataFrame\n",
            "\n",
            "See the caveats in the documentation: https://pandas.pydata.org/pandas-docs/stable/user_guide/indexing.html#returning-a-view-versus-a-copy\n",
            "  test_tweet_off_new['tweet'][99]  =\"Some people find #SerenaWilliams to be overly confident, making it challenging to enjoy both watching her play and listening to her speak.\"\n"
          ]
        }
      ],
      "source": [
        "test_tweet_off_new['tweet'][99]  =\"Some people find #SerenaWilliams to be overly confident, making it challenging to enjoy both watching her play and listening to her speak.\""
      ]
    },
    {
      "cell_type": "code",
      "execution_count": 159,
      "metadata": {
        "colab": {
          "base_uri": "https://localhost:8080/"
        },
        "id": "fOehRqsgwWa1",
        "outputId": "cbd3e62f-0a35-4efd-ad35-5109bac465fd"
      },
      "outputs": [
        {
          "output_type": "stream",
          "name": "stderr",
          "text": [
            "<ipython-input-159-7caf5b2c333e>:1: SettingWithCopyWarning: \n",
            "A value is trying to be set on a copy of a slice from a DataFrame\n",
            "\n",
            "See the caveats in the documentation: https://pandas.pydata.org/pandas-docs/stable/user_guide/indexing.html#returning-a-view-versus-a-copy\n",
            "  test_tweet_off_new['tweet'][797] =\"If you want to encourage people to leave your home, perhaps you could try using humor or lighthearted jokes, like pretending to be a vampire, without causing harm or discomfort. It's essential to find a friendly and non-threatening way to address the situation.\"\n"
          ]
        }
      ],
      "source": [
        "test_tweet_off_new['tweet'][797] =\"If you want to encourage people to leave your home, perhaps you could try using humor or lighthearted jokes, like pretending to be a vampire, without causing harm or discomfort. It's essential to find a friendly and non-threatening way to address the situation.\""
      ]
    },
    {
      "cell_type": "code",
      "execution_count": 160,
      "metadata": {
        "colab": {
          "base_uri": "https://localhost:8080/"
        },
        "id": "uR4BPl1NwWa1",
        "outputId": "d60e9d70-5a38-46e2-acb8-924b30073332"
      },
      "outputs": [
        {
          "output_type": "stream",
          "name": "stderr",
          "text": [
            "<ipython-input-160-fabc9cee5965>:1: SettingWithCopyWarning: \n",
            "A value is trying to be set on a copy of a slice from a DataFrame\n",
            "\n",
            "See the caveats in the documentation: https://pandas.pydata.org/pandas-docs/stable/user_guide/indexing.html#returning-a-view-versus-a-copy\n",
            "  test_tweet_off_new['tweet'][282] = \"The ongoing #CrowderConfronts series continues to demonstrate that when conservatives respond with truth and facts, the so-called SJW bullies appear less intimidating and substantial. It encourages others not to be afraid and emphasizes the importance of confronting issues with honesty and evidence. URL\"\n"
          ]
        }
      ],
      "source": [
        "test_tweet_off_new['tweet'][282] = \"The ongoing #CrowderConfronts series continues to demonstrate that when conservatives respond with truth and facts, the so-called SJW bullies appear less intimidating and substantial. It encourages others not to be afraid and emphasizes the importance of confronting issues with honesty and evidence. URL\""
      ]
    },
    {
      "cell_type": "code",
      "execution_count": 161,
      "metadata": {
        "colab": {
          "base_uri": "https://localhost:8080/"
        },
        "id": "8dOsFP3iwWa1",
        "outputId": "aacb4799-cd4b-4331-acbc-874239eace98"
      },
      "outputs": [
        {
          "output_type": "stream",
          "name": "stderr",
          "text": [
            "<ipython-input-161-00924abefeee>:1: SettingWithCopyWarning: \n",
            "A value is trying to be set on a copy of a slice from a DataFrame\n",
            "\n",
            "See the caveats in the documentation: https://pandas.pydata.org/pandas-docs/stable/user_guide/indexing.html#returning-a-view-versus-a-copy\n",
            "  test_tweet_off_new['tweet'][228] =\"'#CarbonTax proves effective and promises to significantly increase money in the pockets of Canadians. .@USER .@USER .@USER .@USER Back in 2015, part of Trudeau's successful campaign was centered around a national carbon tax, which played a role in the Conservative party's defeat. They face a similar challenge in 2019, and some are determined to ensure their loss once again. URL'\"\n"
          ]
        }
      ],
      "source": [
        "test_tweet_off_new['tweet'][228] =\"'#CarbonTax proves effective and promises to significantly increase money in the pockets of Canadians. .@USER .@USER .@USER .@USER Back in 2015, part of Trudeau's successful campaign was centered around a national carbon tax, which played a role in the Conservative party's defeat. They face a similar challenge in 2019, and some are determined to ensure their loss once again. URL'\""
      ]
    },
    {
      "cell_type": "code",
      "execution_count": 162,
      "metadata": {
        "colab": {
          "base_uri": "https://localhost:8080/"
        },
        "id": "sIwWGUxzwWa1",
        "outputId": "352f4c6e-a0c3-458f-a05c-1f4ddf85f88d"
      },
      "outputs": [
        {
          "output_type": "stream",
          "name": "stderr",
          "text": [
            "<ipython-input-162-f9778d3b69b3>:1: SettingWithCopyWarning: \n",
            "A value is trying to be set on a copy of a slice from a DataFrame\n",
            "\n",
            "See the caveats in the documentation: https://pandas.pydata.org/pandas-docs/stable/user_guide/indexing.html#returning-a-view-versus-a-copy\n",
            "  test_tweet_off_new['tweet'][362] =\"'#Repost theleadersmindset • • • 📍Hello Leaders!🔥 ✔️Type 'READY' if you are prepared to embrace these steps. - 'Set goals, keep them to yourself, crush them with determination, celebrate your successes… URL'\"\n"
          ]
        }
      ],
      "source": [
        "test_tweet_off_new['tweet'][362] =\"'#Repost theleadersmindset • • • 📍Hello Leaders!🔥 ✔️Type 'READY' if you are prepared to embrace these steps. - 'Set goals, keep them to yourself, crush them with determination, celebrate your successes… URL'\""
      ]
    },
    {
      "cell_type": "code",
      "execution_count": 163,
      "metadata": {
        "colab": {
          "base_uri": "https://localhost:8080/"
        },
        "id": "w7OUmHG7wWa1",
        "outputId": "4b303346-1b15-4ec9-e8ce-a3919725fe66"
      },
      "outputs": [
        {
          "output_type": "stream",
          "name": "stderr",
          "text": [
            "<ipython-input-163-025c3160f613>:1: SettingWithCopyWarning: \n",
            "A value is trying to be set on a copy of a slice from a DataFrame\n",
            "\n",
            "See the caveats in the documentation: https://pandas.pydata.org/pandas-docs/stable/user_guide/indexing.html#returning-a-view-versus-a-copy\n",
            "  test_tweet_off_new['tweet'][701] =\"'@USER nigga are you stupid your trash dont play with him play with your bitch 😂'\"\n"
          ]
        }
      ],
      "source": [
        "test_tweet_off_new['tweet'][701] =\"'@USER nigga are you stupid your trash dont play with him play with your bitch 😂'\""
      ]
    },
    {
      "cell_type": "code",
      "execution_count": 164,
      "metadata": {
        "colab": {
          "base_uri": "https://localhost:8080/"
        },
        "id": "Eclv4CO3wWa1",
        "outputId": "e3b67cd2-d877-48a7-d426-30c66811aff0"
      },
      "outputs": [
        {
          "output_type": "stream",
          "name": "stderr",
          "text": [
            "<ipython-input-164-b324e4413ff0>:1: SettingWithCopyWarning: \n",
            "A value is trying to be set on a copy of a slice from a DataFrame\n",
            "\n",
            "See the caveats in the documentation: https://pandas.pydata.org/pandas-docs/stable/user_guide/indexing.html#returning-a-view-versus-a-copy\n",
            "  test_tweet_off_new['tweet'][480] =\"#FailedDemFeinstein's continued presence in politics is questionable, and some believe she should have stepped down years ago. Her recent actions, like blaming the GOP in the Kavanaugh accuser situation while admitting uncertainty about the truthfulness, add to her perceived disgrace. URL\"\n"
          ]
        }
      ],
      "source": [
        "test_tweet_off_new['tweet'][480] =\"#FailedDemFeinstein's continued presence in politics is questionable, and some believe she should have stepped down years ago. Her recent actions, like blaming the GOP in the Kavanaugh accuser situation while admitting uncertainty about the truthfulness, add to her perceived disgrace. URL\""
      ]
    },
    {
      "cell_type": "code",
      "execution_count": 165,
      "metadata": {
        "colab": {
          "base_uri": "https://localhost:8080/"
        },
        "id": "iBfZLQgYwWa1",
        "outputId": "95468cda-13f5-47fb-fff7-06dd33a09622"
      },
      "outputs": [
        {
          "output_type": "stream",
          "name": "stderr",
          "text": [
            "<ipython-input-165-146d275d4f9c>:1: SettingWithCopyWarning: \n",
            "A value is trying to be set on a copy of a slice from a DataFrame\n",
            "\n",
            "See the caveats in the documentation: https://pandas.pydata.org/pandas-docs/stable/user_guide/indexing.html#returning-a-view-versus-a-copy\n",
            "  test_tweet_off_new['tweet'][115] =\"#Conservatives Govt ' @USER caused immense hardship': whistleblowers report being threatened by a regulator; Weren't they supposed to safeguard whistleblowers? URL\"\n"
          ]
        }
      ],
      "source": [
        "test_tweet_off_new['tweet'][115] =\"#Conservatives Govt ' @USER caused immense hardship': whistleblowers report being threatened by a regulator; Weren't they supposed to safeguard whistleblowers? URL\""
      ]
    },
    {
      "cell_type": "code",
      "execution_count": 166,
      "metadata": {
        "colab": {
          "base_uri": "https://localhost:8080/"
        },
        "id": "CzuTWcrcwWa1",
        "outputId": "b3fa83d1-e88d-4a3b-bd50-dd72fbc72b25"
      },
      "outputs": [
        {
          "output_type": "stream",
          "name": "stderr",
          "text": [
            "<ipython-input-166-81f13225217d>:1: SettingWithCopyWarning: \n",
            "A value is trying to be set on a copy of a slice from a DataFrame\n",
            "\n",
            "See the caveats in the documentation: https://pandas.pydata.org/pandas-docs/stable/user_guide/indexing.html#returning-a-view-versus-a-copy\n",
            "  test_tweet_off_new['tweet'][136] =\"@USER #WalkAwayFromAllDemocrats Michelle had her 8 years, and many believe we don't need more of her advice. We now have a new Sheriff in Town who's #MAGA. It's crucial for everyone, regardless of color or gender (AKA all Americans), to get out and VOTE! URL\"\n"
          ]
        }
      ],
      "source": [
        "test_tweet_off_new['tweet'][136] =\"@USER #WalkAwayFromAllDemocrats Michelle had her 8 years, and many believe we don't need more of her advice. We now have a new Sheriff in Town who's #MAGA. It's crucial for everyone, regardless of color or gender (AKA all Americans), to get out and VOTE! URL\""
      ]
    },
    {
      "cell_type": "code",
      "execution_count": 167,
      "metadata": {
        "colab": {
          "base_uri": "https://localhost:8080/"
        },
        "id": "b8nM0qUnwWa1",
        "outputId": "d11b59a6-20bd-4736-a591-d39a5e9ed928"
      },
      "outputs": [
        {
          "output_type": "stream",
          "name": "stderr",
          "text": [
            "<ipython-input-167-d3f41301cad6>:1: SettingWithCopyWarning: \n",
            "A value is trying to be set on a copy of a slice from a DataFrame\n",
            "\n",
            "See the caveats in the documentation: https://pandas.pydata.org/pandas-docs/stable/user_guide/indexing.html#returning-a-view-versus-a-copy\n",
            "  test_tweet_off_new['tweet'][77] =\"#ANTIFA is seen as allied with The Democratic Socialists of America (DSA), whom #JamesOKeefe has revealed as having infiltrated various government positions with the aim of undermining #America. #Trump #MAGA🇺🇸 #DeepState URL\"\n"
          ]
        }
      ],
      "source": [
        "test_tweet_off_new['tweet'][77] =\"#ANTIFA is seen as allied with The Democratic Socialists of America (DSA), whom #JamesOKeefe has revealed as having infiltrated various government positions with the aim of undermining #America. #Trump #MAGA🇺🇸 #DeepState URL\""
      ]
    },
    {
      "cell_type": "code",
      "execution_count": 168,
      "metadata": {
        "colab": {
          "base_uri": "https://localhost:8080/"
        },
        "id": "__f417zVwWa1",
        "outputId": "5eb0441f-4082-4b39-fca4-23fbc61a9223"
      },
      "outputs": [
        {
          "output_type": "stream",
          "name": "stderr",
          "text": [
            "<ipython-input-168-aa9f57587ed5>:1: SettingWithCopyWarning: \n",
            "A value is trying to be set on a copy of a slice from a DataFrame\n",
            "\n",
            "See the caveats in the documentation: https://pandas.pydata.org/pandas-docs/stable/user_guide/indexing.html#returning-a-view-versus-a-copy\n",
            "  test_tweet_off_new['tweet'][51] =\"'#Kids Beating #Paraplegic #Trump #Boy!  #Left Teach Their #Children Hate Violence!  #schools #teachers #Democrats #Liberals #WalkAway #Moms #Mother #NEA #teachthemyoung #Christian #Catholic #Jews #Evangelicals #family #BlackWomen #BlackTwitter #Blacks #News #Media #Disabled #MAGA URL'\"\n"
          ]
        }
      ],
      "source": [
        "test_tweet_off_new['tweet'][51] =\"'#Kids Beating #Paraplegic #Trump #Boy!  #Left Teach Their #Children Hate Violence!  #schools #teachers #Democrats #Liberals #WalkAway #Moms #Mother #NEA #teachthemyoung #Christian #Catholic #Jews #Evangelicals #family #BlackWomen #BlackTwitter #Blacks #News #Media #Disabled #MAGA URL'\""
      ]
    },
    {
      "cell_type": "code",
      "execution_count": 169,
      "metadata": {
        "colab": {
          "base_uri": "https://localhost:8080/"
        },
        "id": "9xZgfucowWa1",
        "outputId": "4369f554-a5b5-4bcb-ed8b-077ceabee097"
      },
      "outputs": [
        {
          "output_type": "stream",
          "name": "stderr",
          "text": [
            "<ipython-input-169-de5768d9c24f>:1: SettingWithCopyWarning: \n",
            "A value is trying to be set on a copy of a slice from a DataFrame\n",
            "\n",
            "See the caveats in the documentation: https://pandas.pydata.org/pandas-docs/stable/user_guide/indexing.html#returning-a-view-versus-a-copy\n",
            "  test_tweet_off_new['tweet'][681] =\"Can you believe it? A hundred rounds! Goon, you must be kidding me! 🤣\"\n"
          ]
        }
      ],
      "source": [
        "test_tweet_off_new['tweet'][681] =\"Can you believe it? A hundred rounds! Goon, you must be kidding me! 🤣\""
      ]
    },
    {
      "cell_type": "code",
      "execution_count": 170,
      "metadata": {
        "colab": {
          "base_uri": "https://localhost:8080/"
        },
        "id": "gbM-uyoHwWa1",
        "outputId": "ac8d27c5-72e7-4f13-acaf-b439e9a3e386"
      },
      "outputs": [
        {
          "output_type": "stream",
          "name": "stderr",
          "text": [
            "<ipython-input-170-8dba53670cd6>:1: SettingWithCopyWarning: \n",
            "A value is trying to be set on a copy of a slice from a DataFrame\n",
            "\n",
            "See the caveats in the documentation: https://pandas.pydata.org/pandas-docs/stable/user_guide/indexing.html#returning-a-view-versus-a-copy\n",
            "  test_tweet_off_new['tweet'][749] =\"#Antifa plans to counter the fascist NVU in #Amsterdam on September 22. URL\"\n"
          ]
        }
      ],
      "source": [
        "test_tweet_off_new['tweet'][749] =\"#Antifa plans to counter the fascist NVU in #Amsterdam on September 22. URL\""
      ]
    },
    {
      "cell_type": "code",
      "execution_count": 171,
      "metadata": {
        "colab": {
          "base_uri": "https://localhost:8080/"
        },
        "id": "Y9u-8l1SwWa1",
        "outputId": "8bb5e2d7-41e4-41ea-aa93-b1b76249e4de"
      },
      "outputs": [
        {
          "output_type": "stream",
          "name": "stderr",
          "text": [
            "<ipython-input-171-b24dea14c11b>:1: SettingWithCopyWarning: \n",
            "A value is trying to be set on a copy of a slice from a DataFrame\n",
            "\n",
            "See the caveats in the documentation: https://pandas.pydata.org/pandas-docs/stable/user_guide/indexing.html#returning-a-view-versus-a-copy\n",
            "  test_tweet_off_new['tweet'][389] =\"50 Cent addresses Joe Budden's actions on Instagram, calling them out as 'bullshit.' URL URL\"\n"
          ]
        }
      ],
      "source": [
        "test_tweet_off_new['tweet'][389] =\"50 Cent addresses Joe Budden's actions on Instagram, calling them out as 'bullshit.' URL URL\""
      ]
    },
    {
      "cell_type": "code",
      "execution_count": 172,
      "metadata": {
        "colab": {
          "base_uri": "https://localhost:8080/"
        },
        "id": "f3WTNYvowWa1",
        "outputId": "ba940f33-9fa1-4e89-e334-721fd81ce15f"
      },
      "outputs": [
        {
          "output_type": "stream",
          "name": "stderr",
          "text": [
            "<ipython-input-172-25d11035b2d3>:1: SettingWithCopyWarning: \n",
            "A value is trying to be set on a copy of a slice from a DataFrame\n",
            "\n",
            "See the caveats in the documentation: https://pandas.pydata.org/pandas-docs/stable/user_guide/indexing.html#returning-a-view-versus-a-copy\n",
            "  test_tweet_off_new['tweet'][260] =\"#Liberals are resorting to extreme measures, urging #PhillipRuddock to communicate with #Turnbull and persuade him to assist with #WentworthVotes on 18 Sept 2018. @USER #Auspol #LNP #NSWpol @USER @USER @USER #LNPMemes URL\"\n"
          ]
        }
      ],
      "source": [
        "test_tweet_off_new['tweet'][260] =\"#Liberals are resorting to extreme measures, urging #PhillipRuddock to communicate with #Turnbull and persuade him to assist with #WentworthVotes on 18 Sept 2018. @USER #Auspol #LNP #NSWpol @USER @USER @USER #LNPMemes URL\""
      ]
    },
    {
      "cell_type": "code",
      "execution_count": 173,
      "metadata": {
        "colab": {
          "base_uri": "https://localhost:8080/"
        },
        "id": "psylmG2bwWa1",
        "outputId": "4dbe1446-8690-47dd-9ae9-dd468a411af1"
      },
      "outputs": [
        {
          "output_type": "stream",
          "name": "stderr",
          "text": [
            "<ipython-input-173-c63e0cd04932>:1: SettingWithCopyWarning: \n",
            "A value is trying to be set on a copy of a slice from a DataFrame\n",
            "\n",
            "See the caveats in the documentation: https://pandas.pydata.org/pandas-docs/stable/user_guide/indexing.html#returning-a-view-versus-a-copy\n",
            "  test_tweet_off_new['tweet'][258] =\"'#CincinnatiEnquirer finally addresses #GunControl following a tragic #MassShooting right on their doorstep. It took this event for their editors to wake up, but better late than never. URL'\"\n"
          ]
        }
      ],
      "source": [
        "test_tweet_off_new['tweet'][258] =\"'#CincinnatiEnquirer finally addresses #GunControl following a tragic #MassShooting right on their doorstep. It took this event for their editors to wake up, but better late than never. URL'\""
      ]
    },
    {
      "cell_type": "code",
      "execution_count": 174,
      "metadata": {
        "colab": {
          "base_uri": "https://localhost:8080/"
        },
        "id": "d4CMuLS8wWa1",
        "outputId": "cfd950a4-651e-4f2e-acdd-e08723dfc6cb"
      },
      "outputs": [
        {
          "output_type": "stream",
          "name": "stderr",
          "text": [
            "<ipython-input-174-dbfbe86d7102>:1: SettingWithCopyWarning: \n",
            "A value is trying to be set on a copy of a slice from a DataFrame\n",
            "\n",
            "See the caveats in the documentation: https://pandas.pydata.org/pandas-docs/stable/user_guide/indexing.html#returning-a-view-versus-a-copy\n",
            "  test_tweet_off_new['tweet'][100] =\"Regarding #ColinKaepernick, some people believe he has been unproductive and merely voicing complaints. They think it's time for both black individuals and passionate white liberals, including @USER, to become more aware or stop making noise about the cause. They see Colin as not fitting the role of a Civil Rights hero or martyr by any means.\"\n"
          ]
        }
      ],
      "source": [
        "test_tweet_off_new['tweet'][100] =\"Regarding #ColinKaepernick, some people believe he has been unproductive and merely voicing complaints. They think it's time for both black individuals and passionate white liberals, including @USER, to become more aware or stop making noise about the cause. They see Colin as not fitting the role of a Civil Rights hero or martyr by any means.\""
      ]
    },
    {
      "cell_type": "code",
      "execution_count": 175,
      "metadata": {
        "colab": {
          "base_uri": "https://localhost:8080/"
        },
        "id": "YKkrMVMwwWa1",
        "outputId": "206c58b6-d31e-440f-f784-00efe4a747e5"
      },
      "outputs": [
        {
          "output_type": "stream",
          "name": "stderr",
          "text": [
            "<ipython-input-175-d7b2bd5360d5>:1: SettingWithCopyWarning: \n",
            "A value is trying to be set on a copy of a slice from a DataFrame\n",
            "\n",
            "See the caveats in the documentation: https://pandas.pydata.org/pandas-docs/stable/user_guide/indexing.html#returning-a-view-versus-a-copy\n",
            "  test_tweet_off_new['tweet'][233] =\"During #TheView, Stormy Daniels found herself in a difficult situation with a dollar bill in her face, highlighting the challenges faced by adult film stars. The post also seems to allude to her involvement with the Democratic Party.\"\n"
          ]
        }
      ],
      "source": [
        "test_tweet_off_new['tweet'][233] =\"During #TheView, Stormy Daniels found herself in a difficult situation with a dollar bill in her face, highlighting the challenges faced by adult film stars. The post also seems to allude to her involvement with the Democratic Party.\""
      ]
    },
    {
      "cell_type": "code",
      "execution_count": 176,
      "metadata": {
        "colab": {
          "base_uri": "https://localhost:8080/"
        },
        "id": "fXcB6ATnwWa1",
        "outputId": "9e1d1bae-ce69-44f6-8542-e0018275ec61"
      },
      "outputs": [
        {
          "output_type": "stream",
          "name": "stderr",
          "text": [
            "<ipython-input-176-c5a1bd386006>:1: SettingWithCopyWarning: \n",
            "A value is trying to be set on a copy of a slice from a DataFrame\n",
            "\n",
            "See the caveats in the documentation: https://pandas.pydata.org/pandas-docs/stable/user_guide/indexing.html#returning-a-view-versus-a-copy\n",
            "  test_tweet_off_new['tweet'][554] = \"#DavidMiliband relocated to #NewYork to align with #US #Liberals #Democrats, seeking a departure from the hostility towards Jews by #Corbynists.\"\n"
          ]
        }
      ],
      "source": [
        "test_tweet_off_new['tweet'][554] = \"#DavidMiliband relocated to #NewYork to align with #US #Liberals #Democrats, seeking a departure from the hostility towards Jews by #Corbynists.\""
      ]
    },
    {
      "cell_type": "code",
      "execution_count": 177,
      "metadata": {
        "colab": {
          "base_uri": "https://localhost:8080/"
        },
        "id": "tnMPTrYfwWa2",
        "outputId": "c4d67f04-1561-4ee6-82a4-e8d8a0c09f1e"
      },
      "outputs": [
        {
          "output_type": "stream",
          "name": "stderr",
          "text": [
            "<ipython-input-177-e8bb05806958>:1: SettingWithCopyWarning: \n",
            "A value is trying to be set on a copy of a slice from a DataFrame\n",
            "\n",
            "See the caveats in the documentation: https://pandas.pydata.org/pandas-docs/stable/user_guide/indexing.html#returning-a-view-versus-a-copy\n",
            "  test_tweet_off_new['tweet'][810] =\"'#BCOG @USER portrays a cool, confident, and assertive character who is highly skilled and successful! @USER @USER @USER URL'\"\n"
          ]
        }
      ],
      "source": [
        "test_tweet_off_new['tweet'][810] =\"'#BCOG @USER portrays a cool, confident, and assertive character who is highly skilled and successful! @USER @USER @USER URL'\""
      ]
    },
    {
      "cell_type": "code",
      "execution_count": 178,
      "metadata": {
        "colab": {
          "base_uri": "https://localhost:8080/"
        },
        "id": "cn9Vo8BHwWa2",
        "outputId": "030b1eec-9148-49b4-f583-0d11b3be0b1b"
      },
      "outputs": [
        {
          "output_type": "stream",
          "name": "stderr",
          "text": [
            "<ipython-input-178-1bfbb20d2c8a>:1: SettingWithCopyWarning: \n",
            "A value is trying to be set on a copy of a slice from a DataFrame\n",
            "\n",
            "See the caveats in the documentation: https://pandas.pydata.org/pandas-docs/stable/user_guide/indexing.html#returning-a-view-versus-a-copy\n",
            "  test_tweet_off_new['tweet'][483] =\"'@USER @USER @USER Your meme suggests that both Fascism and Antifa were opposed to liberals.'\"\n"
          ]
        }
      ],
      "source": [
        "test_tweet_off_new['tweet'][483] =\"'@USER @USER @USER Your meme suggests that both Fascism and Antifa were opposed to liberals.'\""
      ]
    },
    {
      "cell_type": "code",
      "execution_count": 179,
      "metadata": {
        "colab": {
          "base_uri": "https://localhost:8080/"
        },
        "id": "KzOYm_0UwWa2",
        "outputId": "afaa3e69-ce5e-4083-e6d8-27d00aa7b395"
      },
      "outputs": [
        {
          "output_type": "stream",
          "name": "stderr",
          "text": [
            "<ipython-input-179-5131a9741633>:1: SettingWithCopyWarning: \n",
            "A value is trying to be set on a copy of a slice from a DataFrame\n",
            "\n",
            "See the caveats in the documentation: https://pandas.pydata.org/pandas-docs/stable/user_guide/indexing.html#returning-a-view-versus-a-copy\n",
            "  test_tweet_off_new['tweet'][614] =\"@USER @USER I plan to use that argument in future discussions on gun control, free speech, or taxes. It's essential to promote responsibility, and that's what I advocate for. There's nothing right about justifying murder by denying the life of another or claiming it as a right.\"\n"
          ]
        }
      ],
      "source": [
        "test_tweet_off_new['tweet'][614] =\"@USER @USER I plan to use that argument in future discussions on gun control, free speech, or taxes. It's essential to promote responsibility, and that's what I advocate for. There's nothing right about justifying murder by denying the life of another or claiming it as a right.\""
      ]
    },
    {
      "cell_type": "code",
      "execution_count": 180,
      "metadata": {
        "colab": {
          "base_uri": "https://localhost:8080/"
        },
        "id": "hgMkLPI1wWa2",
        "outputId": "143f0a4b-bf79-4904-a713-4c0a78d1680f"
      },
      "outputs": [
        {
          "output_type": "stream",
          "name": "stderr",
          "text": [
            "<ipython-input-180-927056a2da8b>:1: SettingWithCopyWarning: \n",
            "A value is trying to be set on a copy of a slice from a DataFrame\n",
            "\n",
            "See the caveats in the documentation: https://pandas.pydata.org/pandas-docs/stable/user_guide/indexing.html#returning-a-view-versus-a-copy\n",
            "  test_tweet_off_new['tweet'][778] =\"It appears that a #BREXIT deal has been reached and will be presented at a special summit in November. The question raised is whether @USER has compromised the #UK's position with the EU. People are concerned, hoping that there hasn't been a sellout, as it could have significant consequences for @USER. URL\"\n"
          ]
        }
      ],
      "source": [
        "test_tweet_off_new['tweet'][778] =\"It appears that a #BREXIT deal has been reached and will be presented at a special summit in November. The question raised is whether @USER has compromised the #UK's position with the EU. People are concerned, hoping that there hasn't been a sellout, as it could have significant consequences for @USER. URL\""
      ]
    },
    {
      "cell_type": "code",
      "execution_count": 181,
      "metadata": {
        "colab": {
          "base_uri": "https://localhost:8080/"
        },
        "id": "PfFe6ok4wWa2",
        "outputId": "b4e7ac63-b955-47f7-9b91-29a8726ae6a0"
      },
      "outputs": [
        {
          "output_type": "stream",
          "name": "stderr",
          "text": [
            "<ipython-input-181-43a5579b2dae>:1: SettingWithCopyWarning: \n",
            "A value is trying to be set on a copy of a slice from a DataFrame\n",
            "\n",
            "See the caveats in the documentation: https://pandas.pydata.org/pandas-docs/stable/user_guide/indexing.html#returning-a-view-versus-a-copy\n",
            "  test_tweet_off_new['tweet'][107] =\"Jeff Sessions suggests that listening to groups like the ACLU, Antifa, and Black Lives Matter could result in an increase in Chicago shootings. URL\"\n"
          ]
        }
      ],
      "source": [
        "test_tweet_off_new['tweet'][107] =\"Jeff Sessions suggests that listening to groups like the ACLU, Antifa, and Black Lives Matter could result in an increase in Chicago shootings. URL\""
      ]
    },
    {
      "cell_type": "code",
      "execution_count": 182,
      "metadata": {
        "colab": {
          "base_uri": "https://localhost:8080/"
        },
        "id": "-sG2rZ0UwWa2",
        "outputId": "8c849a6d-feb7-4dc2-94cc-301df08346ae"
      },
      "outputs": [
        {
          "output_type": "stream",
          "name": "stderr",
          "text": [
            "<ipython-input-182-0bc83ebdcb8f>:1: SettingWithCopyWarning: \n",
            "A value is trying to be set on a copy of a slice from a DataFrame\n",
            "\n",
            "See the caveats in the documentation: https://pandas.pydata.org/pandas-docs/stable/user_guide/indexing.html#returning-a-view-versus-a-copy\n",
            "  test_tweet_off_new['tweet'][613] =\"Lost my acca on the first fight, 0-1. So frustrating.\"\n"
          ]
        }
      ],
      "source": [
        "test_tweet_off_new['tweet'][613] =\"Lost my acca on the first fight, 0-1. So frustrating.\""
      ]
    },
    {
      "cell_type": "code",
      "execution_count": 183,
      "metadata": {
        "colab": {
          "base_uri": "https://localhost:8080/"
        },
        "id": "o_ACDHijwWa2",
        "outputId": "eb9ac32e-b224-4a73-c267-f3af57053c15"
      },
      "outputs": [
        {
          "output_type": "stream",
          "name": "stderr",
          "text": [
            "<ipython-input-183-742226f77f65>:1: SettingWithCopyWarning: \n",
            "A value is trying to be set on a copy of a slice from a DataFrame\n",
            "\n",
            "See the caveats in the documentation: https://pandas.pydata.org/pandas-docs/stable/user_guide/indexing.html#returning-a-view-versus-a-copy\n",
            "  test_tweet_off_new['tweet'][307] =\"#1 son, hitting it out of the park! URL\"\n"
          ]
        }
      ],
      "source": [
        "test_tweet_off_new['tweet'][307] =\"#1 son, hitting it out of the park! URL\""
      ]
    },
    {
      "cell_type": "code",
      "execution_count": 184,
      "metadata": {
        "colab": {
          "base_uri": "https://localhost:8080/"
        },
        "id": "4vBrtJeBwWa2",
        "outputId": "0853aecf-da38-47a2-f8e5-5ac2f5b2b93c"
      },
      "outputs": [
        {
          "output_type": "stream",
          "name": "stderr",
          "text": [
            "<ipython-input-184-c2f32f0e240f>:1: SettingWithCopyWarning: \n",
            "A value is trying to be set on a copy of a slice from a DataFrame\n",
            "\n",
            "See the caveats in the documentation: https://pandas.pydata.org/pandas-docs/stable/user_guide/indexing.html#returning-a-view-versus-a-copy\n",
            "  test_tweet_off_new['tweet'][313]  = \"@USER @USER @USER Many believe she is the most disingenuous person in the Senate. If she were my Senator, I would feel ashamed due to her despicable behavior in the SCOTUS hearings.\"\n"
          ]
        }
      ],
      "source": [
        "test_tweet_off_new['tweet'][313]  = \"@USER @USER @USER Many believe she is the most disingenuous person in the Senate. If she were my Senator, I would feel ashamed due to her despicable behavior in the SCOTUS hearings.\""
      ]
    },
    {
      "cell_type": "code",
      "execution_count": 185,
      "metadata": {
        "colab": {
          "base_uri": "https://localhost:8080/"
        },
        "id": "dC8IPuFBwWa2",
        "outputId": "047da5ce-07de-4536-a715-9463527c1e8c"
      },
      "outputs": [
        {
          "output_type": "stream",
          "name": "stderr",
          "text": [
            "<ipython-input-185-7980f575acdd>:1: SettingWithCopyWarning: \n",
            "A value is trying to be set on a copy of a slice from a DataFrame\n",
            "\n",
            "See the caveats in the documentation: https://pandas.pydata.org/pandas-docs/stable/user_guide/indexing.html#returning-a-view-versus-a-copy\n",
            "  test_tweet_off_new['tweet'][182] = \"#ArunJaitleyStepDown is trending, with many expressing strong criticism towards him. They consider him the most shameless Finance Minister in the history of India, and his audacity to lie in public is viewed as a disgrace to his position.\"\n"
          ]
        }
      ],
      "source": [
        "test_tweet_off_new['tweet'][182] = \"#ArunJaitleyStepDown is trending, with many expressing strong criticism towards him. They consider him the most shameless Finance Minister in the history of India, and his audacity to lie in public is viewed as a disgrace to his position.\""
      ]
    },
    {
      "cell_type": "code",
      "execution_count": 186,
      "metadata": {
        "colab": {
          "base_uri": "https://localhost:8080/"
        },
        "id": "BQoX9owMwWa2",
        "outputId": "0dff2d04-1d96-48b4-cfba-ebc6008044e6"
      },
      "outputs": [
        {
          "output_type": "stream",
          "name": "stderr",
          "text": [
            "<ipython-input-186-54fd127589ad>:1: SettingWithCopyWarning: \n",
            "A value is trying to be set on a copy of a slice from a DataFrame\n",
            "\n",
            "See the caveats in the documentation: https://pandas.pydata.org/pandas-docs/stable/user_guide/indexing.html#returning-a-view-versus-a-copy\n",
            "  test_tweet_off_new['tweet'][154] =\"#GOP still appearing hesitant, and some view them as lacking courage. It seems they haven't realized that Liberals will oppose them no matter what they say. Some believe Republicans are either struggling to make strategic decisions or have shifted too far left. #ConfirmKavanaughNow\"\n"
          ]
        }
      ],
      "source": [
        "test_tweet_off_new['tweet'][154] =\"#GOP still appearing hesitant, and some view them as lacking courage. It seems they haven't realized that Liberals will oppose them no matter what they say. Some believe Republicans are either struggling to make strategic decisions or have shifted too far left. #ConfirmKavanaughNow\""
      ]
    },
    {
      "cell_type": "code",
      "execution_count": 187,
      "metadata": {
        "colab": {
          "base_uri": "https://localhost:8080/"
        },
        "id": "XBzGCpnlwWa2",
        "outputId": "d58fce37-8154-4aac-e2c7-b9d4fdb3e482"
      },
      "outputs": [
        {
          "output_type": "stream",
          "name": "stderr",
          "text": [
            "<ipython-input-187-42d5f31fceec>:1: SettingWithCopyWarning: \n",
            "A value is trying to be set on a copy of a slice from a DataFrame\n",
            "\n",
            "See the caveats in the documentation: https://pandas.pydata.org/pandas-docs/stable/user_guide/indexing.html#returning-a-view-versus-a-copy\n",
            "  test_tweet_off_new['tweet'][855] = \"'#DespicableDems are accused of spreading misinformation about rifles. Some claim that Democrats manipulated the law to advocate for gun control during the Kavanaugh confirmation. URL via @USER'\"\n"
          ]
        }
      ],
      "source": [
        "test_tweet_off_new['tweet'][855] = \"'#DespicableDems are accused of spreading misinformation about rifles. Some claim that Democrats manipulated the law to advocate for gun control during the Kavanaugh confirmation. URL via @USER'\""
      ]
    },
    {
      "cell_type": "code",
      "execution_count": 188,
      "metadata": {
        "colab": {
          "base_uri": "https://localhost:8080/"
        },
        "id": "s2fvZ5duwWa2",
        "outputId": "52f2cfdc-7554-45a5-e1df-70bf95c5872b"
      },
      "outputs": [
        {
          "output_type": "stream",
          "name": "stderr",
          "text": [
            "<ipython-input-188-1d8b46a4f44e>:1: SettingWithCopyWarning: \n",
            "A value is trying to be set on a copy of a slice from a DataFrame\n",
            "\n",
            "See the caveats in the documentation: https://pandas.pydata.org/pandas-docs/stable/user_guide/indexing.html#returning-a-view-versus-a-copy\n",
            "  test_tweet_off_new['tweet'][352] = \"'#OrrinHatch's involvement in another woman's charges against a Supreme Court nominee has sparked strong criticism. Some view him as sexist, clueless, and outdated, drawing comparisons to his past behavior during the Anita Hill case. They believe it's time for him to step aside. Good riddance to this Neanderthal!'\"\n"
          ]
        }
      ],
      "source": [
        "test_tweet_off_new['tweet'][352] = \"'#OrrinHatch's involvement in another woman's charges against a Supreme Court nominee has sparked strong criticism. Some view him as sexist, clueless, and outdated, drawing comparisons to his past behavior during the Anita Hill case. They believe it's time for him to step aside. Good riddance to this Neanderthal!'\""
      ]
    },
    {
      "cell_type": "code",
      "execution_count": 189,
      "metadata": {
        "colab": {
          "base_uri": "https://localhost:8080/"
        },
        "id": "4QdpWq4KwWa2",
        "outputId": "2c2618e7-b858-4342-9aee-dbae9bb0da03"
      },
      "outputs": [
        {
          "output_type": "stream",
          "name": "stderr",
          "text": [
            "<ipython-input-189-eead7fa6308c>:1: SettingWithCopyWarning: \n",
            "A value is trying to be set on a copy of a slice from a DataFrame\n",
            "\n",
            "See the caveats in the documentation: https://pandas.pydata.org/pandas-docs/stable/user_guide/indexing.html#returning-a-view-versus-a-copy\n",
            "  test_tweet_off_new['tweet'][853] =\"Both of them have an unpleasant taste. URL\"\n"
          ]
        }
      ],
      "source": [
        "test_tweet_off_new['tweet'][853] =\"Both of them have an unpleasant taste. URL\""
      ]
    },
    {
      "cell_type": "code",
      "execution_count": 190,
      "metadata": {
        "colab": {
          "base_uri": "https://localhost:8080/"
        },
        "id": "zqZ39VoswWa2",
        "outputId": "a0819d27-43c0-42f2-c027-bdc84b9f8240"
      },
      "outputs": [
        {
          "output_type": "stream",
          "name": "stderr",
          "text": [
            "<ipython-input-190-c55620d129c8>:1: SettingWithCopyWarning: \n",
            "A value is trying to be set on a copy of a slice from a DataFrame\n",
            "\n",
            "See the caveats in the documentation: https://pandas.pydata.org/pandas-docs/stable/user_guide/indexing.html#returning-a-view-versus-a-copy\n",
            "  test_tweet_off_new['tweet'][323] = \"#AVALANCHE, I apologize! I acknowledge your presence, and I care about you! I regret my previous behavior and acknowledge that we all make mistakes. #maga\"\n"
          ]
        }
      ],
      "source": [
        "test_tweet_off_new['tweet'][323] = \"#AVALANCHE, I apologize! I acknowledge your presence, and I care about you! I regret my previous behavior and acknowledge that we all make mistakes. #maga\""
      ]
    },
    {
      "cell_type": "code",
      "execution_count": 191,
      "metadata": {
        "colab": {
          "base_uri": "https://localhost:8080/"
        },
        "id": "jAyt6fG5wWa2",
        "outputId": "832123f9-b355-4b75-a05e-39345e18a090"
      },
      "outputs": [
        {
          "output_type": "stream",
          "name": "stderr",
          "text": [
            "<ipython-input-191-2a2c2cbf7bf5>:1: SettingWithCopyWarning: \n",
            "A value is trying to be set on a copy of a slice from a DataFrame\n",
            "\n",
            "See the caveats in the documentation: https://pandas.pydata.org/pandas-docs/stable/user_guide/indexing.html#returning-a-view-versus-a-copy\n",
            "  test_tweet_off_new['tweet'][38] = \"#ArianaAsesina? Seriously?! Please, let's not jump to conclusions and spread hate. She's already going through a tough time, and pointing fingers won't help. It was an overdose, and blaming others won't change the tragic outcome. Let's stop seeking someone to blame, and instead, show empathy and support.\"\n"
          ]
        }
      ],
      "source": [
        "test_tweet_off_new['tweet'][38] = \"#ArianaAsesina? Seriously?! Please, let's not jump to conclusions and spread hate. She's already going through a tough time, and pointing fingers won't help. It was an overdose, and blaming others won't change the tragic outcome. Let's stop seeking someone to blame, and instead, show empathy and support.\"\n",
        "\n"
      ]
    },
    {
      "cell_type": "code",
      "execution_count": 192,
      "metadata": {
        "colab": {
          "base_uri": "https://localhost:8080/"
        },
        "id": "JaH2MtS8wWa2",
        "outputId": "8aa3a174-07ec-4e3b-c4f9-6df22d3f8f67"
      },
      "outputs": [
        {
          "output_type": "stream",
          "name": "stderr",
          "text": [
            "<ipython-input-192-7b7ba3f32bef>:1: SettingWithCopyWarning: \n",
            "A value is trying to be set on a copy of a slice from a DataFrame\n",
            "\n",
            "See the caveats in the documentation: https://pandas.pydata.org/pandas-docs/stable/user_guide/indexing.html#returning-a-view-versus-a-copy\n",
            "  test_tweet_off_new['tweet'][531] = \"@USER, it's widely known that a genuine leader doesn't stumble or fall like a sack of potatoes into a van...\"\n"
          ]
        }
      ],
      "source": [
        "test_tweet_off_new['tweet'][531] = \"@USER, it's widely known that a genuine leader doesn't stumble or fall like a sack of potatoes into a van...\""
      ]
    },
    {
      "cell_type": "code",
      "execution_count": 193,
      "metadata": {
        "colab": {
          "base_uri": "https://localhost:8080/"
        },
        "id": "LW4rEgp5wWa2",
        "outputId": "7f621bce-351a-461c-b81e-e2365815035f"
      },
      "outputs": [
        {
          "output_type": "stream",
          "name": "stderr",
          "text": [
            "<ipython-input-193-b4f488f4c581>:1: SettingWithCopyWarning: \n",
            "A value is trying to be set on a copy of a slice from a DataFrame\n",
            "\n",
            "See the caveats in the documentation: https://pandas.pydata.org/pandas-docs/stable/user_guide/indexing.html#returning-a-view-versus-a-copy\n",
            "  test_tweet_off_new['tweet'][135] = \"'#BoycottNFL, I have decided to no longer support you. You have lost my loyalty. @USER @USER URL'\"\n"
          ]
        }
      ],
      "source": [
        "test_tweet_off_new['tweet'][135] = \"'#BoycottNFL, I have decided to no longer support you. You have lost my loyalty. @USER @USER URL'\""
      ]
    },
    {
      "cell_type": "code",
      "execution_count": 194,
      "metadata": {
        "colab": {
          "base_uri": "https://localhost:8080/"
        },
        "id": "4saVcuQhwWa2",
        "outputId": "02787b2e-6016-4f24-d572-ff9a96810f4a"
      },
      "outputs": [
        {
          "output_type": "stream",
          "name": "stderr",
          "text": [
            "<ipython-input-194-16adc7a9858f>:1: SettingWithCopyWarning: \n",
            "A value is trying to be set on a copy of a slice from a DataFrame\n",
            "\n",
            "See the caveats in the documentation: https://pandas.pydata.org/pandas-docs/stable/user_guide/indexing.html#returning-a-view-versus-a-copy\n",
            "  test_tweet_off_new['tweet'][281]  = \"'#Conservatives Govt has accumulated debt despite implementing austerity cuts, and during this time, the wealth of the rich has doubled. This highlights the issue of #inequality. URL via @USER'\"\n"
          ]
        }
      ],
      "source": [
        "test_tweet_off_new['tweet'][281]  = \"'#Conservatives Govt has accumulated debt despite implementing austerity cuts, and during this time, the wealth of the rich has doubled. This highlights the issue of #inequality. URL via @USER'\""
      ]
    },
    {
      "cell_type": "code",
      "execution_count": 195,
      "metadata": {
        "colab": {
          "base_uri": "https://localhost:8080/"
        },
        "id": "3aUE0vCowWa2",
        "outputId": "89242681-3df2-44ff-d424-0edc46d5ac26"
      },
      "outputs": [
        {
          "output_type": "stream",
          "name": "stderr",
          "text": [
            "<ipython-input-195-e0257bfed19e>:1: SettingWithCopyWarning: \n",
            "A value is trying to be set on a copy of a slice from a DataFrame\n",
            "\n",
            "See the caveats in the documentation: https://pandas.pydata.org/pandas-docs/stable/user_guide/indexing.html#returning-a-view-versus-a-copy\n",
            "  test_tweet_off_new['tweet'][413] = \"'#Antifa is actively seeking new members for what some perceive as a designated #terrorist organization. URL'\"\n"
          ]
        }
      ],
      "source": [
        "test_tweet_off_new['tweet'][413] = \"'#Antifa is actively seeking new members for what some perceive as a designated #terrorist organization. URL'\""
      ]
    },
    {
      "cell_type": "code",
      "execution_count": 197,
      "metadata": {
        "id": "hViKmnvCwWa2"
      },
      "outputs": [],
      "source": [
        "test_tweet_off_new_02 = test_tweet_off_new.loc[index_new2]\n"
      ]
    },
    {
      "cell_type": "code",
      "execution_count": 198,
      "metadata": {
        "id": "FMOxQQ1zwWa3"
      },
      "outputs": [],
      "source": [
        "\n",
        "merged_df_02 = pd.concat([test_tweet_not_new, test_tweet_off_new_02], ignore_index=True)\n",
        "\n",
        "# Shuffle the index\n",
        "test_02_df = merged_df_02.sample(frac=1,random_state=42).reset_index(drop=True)"
      ]
    },
    {
      "cell_type": "code",
      "execution_count": 199,
      "metadata": {
        "colab": {
          "base_uri": "https://localhost:8080/",
          "height": 424
        },
        "id": "QIoOpHoywWa3",
        "outputId": "07898bb2-9143-4f5f-f0aa-3882176bfd1b"
      },
      "outputs": [
        {
          "output_type": "execute_result",
          "data": {
            "text/plain": [
              "                                                 tweet class_a\n",
              "0    #RealSmart Answer: This is step #1 on your #Re...     NOT\n",
              "1    #StayOnYourPath #HealthQuote If you are wishin...     NOT\n",
              "2    Can you believe it? A hundred rounds! Goon, yo...     OFF\n",
              "3                  #Spaldo is my guy.  He is my godson     NOT\n",
              "4    #Preach #BadCompany Don’t you know that you ar...     NOT\n",
              "..                                                 ...     ...\n",
              "145                           69. he managed it... URL     NOT\n",
              "146  #Conservatives, it's disheartening to witness ...     OFF\n",
              "147  #MyUniqueHeritage I Get My Irish From My Dad S...     NOT\n",
              "148  9/9/2018 7:00 PM Temp 65.4  Dew Pt 51.1 Barome...     NOT\n",
              "149  Addressing the topic of #LiberalHypocrisy and ...     OFF\n",
              "\n",
              "[150 rows x 2 columns]"
            ],
            "text/html": [
              "\n",
              "  <div id=\"df-72888d36-b30b-42c2-9015-40ec86a267c9\" class=\"colab-df-container\">\n",
              "    <div>\n",
              "<style scoped>\n",
              "    .dataframe tbody tr th:only-of-type {\n",
              "        vertical-align: middle;\n",
              "    }\n",
              "\n",
              "    .dataframe tbody tr th {\n",
              "        vertical-align: top;\n",
              "    }\n",
              "\n",
              "    .dataframe thead th {\n",
              "        text-align: right;\n",
              "    }\n",
              "</style>\n",
              "<table border=\"1\" class=\"dataframe\">\n",
              "  <thead>\n",
              "    <tr style=\"text-align: right;\">\n",
              "      <th></th>\n",
              "      <th>tweet</th>\n",
              "      <th>class_a</th>\n",
              "    </tr>\n",
              "  </thead>\n",
              "  <tbody>\n",
              "    <tr>\n",
              "      <th>0</th>\n",
              "      <td>#RealSmart Answer: This is step #1 on your #Re...</td>\n",
              "      <td>NOT</td>\n",
              "    </tr>\n",
              "    <tr>\n",
              "      <th>1</th>\n",
              "      <td>#StayOnYourPath #HealthQuote If you are wishin...</td>\n",
              "      <td>NOT</td>\n",
              "    </tr>\n",
              "    <tr>\n",
              "      <th>2</th>\n",
              "      <td>Can you believe it? A hundred rounds! Goon, yo...</td>\n",
              "      <td>OFF</td>\n",
              "    </tr>\n",
              "    <tr>\n",
              "      <th>3</th>\n",
              "      <td>#Spaldo is my guy.  He is my godson</td>\n",
              "      <td>NOT</td>\n",
              "    </tr>\n",
              "    <tr>\n",
              "      <th>4</th>\n",
              "      <td>#Preach #BadCompany Don’t you know that you ar...</td>\n",
              "      <td>NOT</td>\n",
              "    </tr>\n",
              "    <tr>\n",
              "      <th>...</th>\n",
              "      <td>...</td>\n",
              "      <td>...</td>\n",
              "    </tr>\n",
              "    <tr>\n",
              "      <th>145</th>\n",
              "      <td>69. he managed it... URL</td>\n",
              "      <td>NOT</td>\n",
              "    </tr>\n",
              "    <tr>\n",
              "      <th>146</th>\n",
              "      <td>#Conservatives, it's disheartening to witness ...</td>\n",
              "      <td>OFF</td>\n",
              "    </tr>\n",
              "    <tr>\n",
              "      <th>147</th>\n",
              "      <td>#MyUniqueHeritage I Get My Irish From My Dad S...</td>\n",
              "      <td>NOT</td>\n",
              "    </tr>\n",
              "    <tr>\n",
              "      <th>148</th>\n",
              "      <td>9/9/2018 7:00 PM Temp 65.4  Dew Pt 51.1 Barome...</td>\n",
              "      <td>NOT</td>\n",
              "    </tr>\n",
              "    <tr>\n",
              "      <th>149</th>\n",
              "      <td>Addressing the topic of #LiberalHypocrisy and ...</td>\n",
              "      <td>OFF</td>\n",
              "    </tr>\n",
              "  </tbody>\n",
              "</table>\n",
              "<p>150 rows × 2 columns</p>\n",
              "</div>\n",
              "    <div class=\"colab-df-buttons\">\n",
              "\n",
              "  <div class=\"colab-df-container\">\n",
              "    <button class=\"colab-df-convert\" onclick=\"convertToInteractive('df-72888d36-b30b-42c2-9015-40ec86a267c9')\"\n",
              "            title=\"Convert this dataframe to an interactive table.\"\n",
              "            style=\"display:none;\">\n",
              "\n",
              "  <svg xmlns=\"http://www.w3.org/2000/svg\" height=\"24px\" viewBox=\"0 -960 960 960\">\n",
              "    <path d=\"M120-120v-720h720v720H120Zm60-500h600v-160H180v160Zm220 220h160v-160H400v160Zm0 220h160v-160H400v160ZM180-400h160v-160H180v160Zm440 0h160v-160H620v160ZM180-180h160v-160H180v160Zm440 0h160v-160H620v160Z\"/>\n",
              "  </svg>\n",
              "    </button>\n",
              "\n",
              "  <style>\n",
              "    .colab-df-container {\n",
              "      display:flex;\n",
              "      gap: 12px;\n",
              "    }\n",
              "\n",
              "    .colab-df-convert {\n",
              "      background-color: #E8F0FE;\n",
              "      border: none;\n",
              "      border-radius: 50%;\n",
              "      cursor: pointer;\n",
              "      display: none;\n",
              "      fill: #1967D2;\n",
              "      height: 32px;\n",
              "      padding: 0 0 0 0;\n",
              "      width: 32px;\n",
              "    }\n",
              "\n",
              "    .colab-df-convert:hover {\n",
              "      background-color: #E2EBFA;\n",
              "      box-shadow: 0px 1px 2px rgba(60, 64, 67, 0.3), 0px 1px 3px 1px rgba(60, 64, 67, 0.15);\n",
              "      fill: #174EA6;\n",
              "    }\n",
              "\n",
              "    .colab-df-buttons div {\n",
              "      margin-bottom: 4px;\n",
              "    }\n",
              "\n",
              "    [theme=dark] .colab-df-convert {\n",
              "      background-color: #3B4455;\n",
              "      fill: #D2E3FC;\n",
              "    }\n",
              "\n",
              "    [theme=dark] .colab-df-convert:hover {\n",
              "      background-color: #434B5C;\n",
              "      box-shadow: 0px 1px 3px 1px rgba(0, 0, 0, 0.15);\n",
              "      filter: drop-shadow(0px 1px 2px rgba(0, 0, 0, 0.3));\n",
              "      fill: #FFFFFF;\n",
              "    }\n",
              "  </style>\n",
              "\n",
              "    <script>\n",
              "      const buttonEl =\n",
              "        document.querySelector('#df-72888d36-b30b-42c2-9015-40ec86a267c9 button.colab-df-convert');\n",
              "      buttonEl.style.display =\n",
              "        google.colab.kernel.accessAllowed ? 'block' : 'none';\n",
              "\n",
              "      async function convertToInteractive(key) {\n",
              "        const element = document.querySelector('#df-72888d36-b30b-42c2-9015-40ec86a267c9');\n",
              "        const dataTable =\n",
              "          await google.colab.kernel.invokeFunction('convertToInteractive',\n",
              "                                                    [key], {});\n",
              "        if (!dataTable) return;\n",
              "\n",
              "        const docLinkHtml = 'Like what you see? Visit the ' +\n",
              "          '<a target=\"_blank\" href=https://colab.research.google.com/notebooks/data_table.ipynb>data table notebook</a>'\n",
              "          + ' to learn more about interactive tables.';\n",
              "        element.innerHTML = '';\n",
              "        dataTable['output_type'] = 'display_data';\n",
              "        await google.colab.output.renderOutput(dataTable, element);\n",
              "        const docLink = document.createElement('div');\n",
              "        docLink.innerHTML = docLinkHtml;\n",
              "        element.appendChild(docLink);\n",
              "      }\n",
              "    </script>\n",
              "  </div>\n",
              "\n",
              "\n",
              "<div id=\"df-507acfdb-7ddc-4fc2-af3a-f89a10ea1084\">\n",
              "  <button class=\"colab-df-quickchart\" onclick=\"quickchart('df-507acfdb-7ddc-4fc2-af3a-f89a10ea1084')\"\n",
              "            title=\"Suggest charts.\"\n",
              "            style=\"display:none;\">\n",
              "\n",
              "<svg xmlns=\"http://www.w3.org/2000/svg\" height=\"24px\"viewBox=\"0 0 24 24\"\n",
              "     width=\"24px\">\n",
              "    <g>\n",
              "        <path d=\"M19 3H5c-1.1 0-2 .9-2 2v14c0 1.1.9 2 2 2h14c1.1 0 2-.9 2-2V5c0-1.1-.9-2-2-2zM9 17H7v-7h2v7zm4 0h-2V7h2v10zm4 0h-2v-4h2v4z\"/>\n",
              "    </g>\n",
              "</svg>\n",
              "  </button>\n",
              "\n",
              "<style>\n",
              "  .colab-df-quickchart {\n",
              "    background-color: #E8F0FE;\n",
              "    border: none;\n",
              "    border-radius: 50%;\n",
              "    cursor: pointer;\n",
              "    display: none;\n",
              "    fill: #1967D2;\n",
              "    height: 32px;\n",
              "    padding: 0 0 0 0;\n",
              "    width: 32px;\n",
              "  }\n",
              "\n",
              "  .colab-df-quickchart:hover {\n",
              "    background-color: #E2EBFA;\n",
              "    box-shadow: 0px 1px 2px rgba(60, 64, 67, 0.3), 0px 1px 3px 1px rgba(60, 64, 67, 0.15);\n",
              "    fill: #174EA6;\n",
              "  }\n",
              "\n",
              "  [theme=dark] .colab-df-quickchart {\n",
              "    background-color: #3B4455;\n",
              "    fill: #D2E3FC;\n",
              "  }\n",
              "\n",
              "  [theme=dark] .colab-df-quickchart:hover {\n",
              "    background-color: #434B5C;\n",
              "    box-shadow: 0px 1px 3px 1px rgba(0, 0, 0, 0.15);\n",
              "    filter: drop-shadow(0px 1px 2px rgba(0, 0, 0, 0.3));\n",
              "    fill: #FFFFFF;\n",
              "  }\n",
              "</style>\n",
              "\n",
              "  <script>\n",
              "    async function quickchart(key) {\n",
              "      const charts = await google.colab.kernel.invokeFunction(\n",
              "          'suggestCharts', [key], {});\n",
              "    }\n",
              "    (() => {\n",
              "      let quickchartButtonEl =\n",
              "        document.querySelector('#df-507acfdb-7ddc-4fc2-af3a-f89a10ea1084 button');\n",
              "      quickchartButtonEl.style.display =\n",
              "        google.colab.kernel.accessAllowed ? 'block' : 'none';\n",
              "    })();\n",
              "  </script>\n",
              "</div>\n",
              "    </div>\n",
              "  </div>\n"
            ]
          },
          "metadata": {},
          "execution_count": 199
        }
      ],
      "source": [
        "test_02_df"
      ]
    },
    {
      "cell_type": "code",
      "execution_count": 200,
      "metadata": {
        "colab": {
          "base_uri": "https://localhost:8080/"
        },
        "id": "CmmEk3OSwWa3",
        "outputId": "5063fcf5-07e3-4a55-aa87-5576d1d100d1"
      },
      "outputs": [
        {
          "output_type": "stream",
          "name": "stderr",
          "text": [
            "<ipython-input-10-58d0d99cd0a4>:9: FutureWarning: The default value of regex will change from True to False in a future version.\n",
            "  df.loc[:, 'tweet'] = df.tweet.str.replace('\\d+','') #Remove numbers\n",
            "<ipython-input-10-58d0d99cd0a4>:14: FutureWarning: The default value of regex will change from True to False in a future version. In addition, single character regular expressions will *not* be treated as literal strings when regex=True.\n",
            "  df.loc[:, 'tweet'] = df.tweet.str.replace(punctuation, '')\n"
          ]
        }
      ],
      "source": [
        "clean_tweets(test_02_df)"
      ]
    },
    {
      "cell_type": "code",
      "execution_count": 201,
      "metadata": {
        "colab": {
          "base_uri": "https://localhost:8080/",
          "height": 206
        },
        "id": "nKPCHpq4wWa3",
        "outputId": "c495b00d-94c7-4d0e-d6dd-bfb0816ac41f"
      },
      "outputs": [
        {
          "output_type": "execute_result",
          "data": {
            "text/plain": [
              "                                               tweet class_a\n",
              "0  'realsmart answer this is step  on your realsm...     NOT\n",
              "1  'stayonyourpath healthquote if you are wishing...     NOT\n",
              "2  'can you believe it a hundred rounds goon you ...     OFF\n",
              "3                'spaldo is my guy  he is my godson'     NOT\n",
              "4  'preach badcompany dont you know that you are ...     NOT"
            ],
            "text/html": [
              "\n",
              "  <div id=\"df-ef234b82-def4-4c15-93bb-efc8605cfad8\" class=\"colab-df-container\">\n",
              "    <div>\n",
              "<style scoped>\n",
              "    .dataframe tbody tr th:only-of-type {\n",
              "        vertical-align: middle;\n",
              "    }\n",
              "\n",
              "    .dataframe tbody tr th {\n",
              "        vertical-align: top;\n",
              "    }\n",
              "\n",
              "    .dataframe thead th {\n",
              "        text-align: right;\n",
              "    }\n",
              "</style>\n",
              "<table border=\"1\" class=\"dataframe\">\n",
              "  <thead>\n",
              "    <tr style=\"text-align: right;\">\n",
              "      <th></th>\n",
              "      <th>tweet</th>\n",
              "      <th>class_a</th>\n",
              "    </tr>\n",
              "  </thead>\n",
              "  <tbody>\n",
              "    <tr>\n",
              "      <th>0</th>\n",
              "      <td>'realsmart answer this is step  on your realsm...</td>\n",
              "      <td>NOT</td>\n",
              "    </tr>\n",
              "    <tr>\n",
              "      <th>1</th>\n",
              "      <td>'stayonyourpath healthquote if you are wishing...</td>\n",
              "      <td>NOT</td>\n",
              "    </tr>\n",
              "    <tr>\n",
              "      <th>2</th>\n",
              "      <td>'can you believe it a hundred rounds goon you ...</td>\n",
              "      <td>OFF</td>\n",
              "    </tr>\n",
              "    <tr>\n",
              "      <th>3</th>\n",
              "      <td>'spaldo is my guy  he is my godson'</td>\n",
              "      <td>NOT</td>\n",
              "    </tr>\n",
              "    <tr>\n",
              "      <th>4</th>\n",
              "      <td>'preach badcompany dont you know that you are ...</td>\n",
              "      <td>NOT</td>\n",
              "    </tr>\n",
              "  </tbody>\n",
              "</table>\n",
              "</div>\n",
              "    <div class=\"colab-df-buttons\">\n",
              "\n",
              "  <div class=\"colab-df-container\">\n",
              "    <button class=\"colab-df-convert\" onclick=\"convertToInteractive('df-ef234b82-def4-4c15-93bb-efc8605cfad8')\"\n",
              "            title=\"Convert this dataframe to an interactive table.\"\n",
              "            style=\"display:none;\">\n",
              "\n",
              "  <svg xmlns=\"http://www.w3.org/2000/svg\" height=\"24px\" viewBox=\"0 -960 960 960\">\n",
              "    <path d=\"M120-120v-720h720v720H120Zm60-500h600v-160H180v160Zm220 220h160v-160H400v160Zm0 220h160v-160H400v160ZM180-400h160v-160H180v160Zm440 0h160v-160H620v160ZM180-180h160v-160H180v160Zm440 0h160v-160H620v160Z\"/>\n",
              "  </svg>\n",
              "    </button>\n",
              "\n",
              "  <style>\n",
              "    .colab-df-container {\n",
              "      display:flex;\n",
              "      gap: 12px;\n",
              "    }\n",
              "\n",
              "    .colab-df-convert {\n",
              "      background-color: #E8F0FE;\n",
              "      border: none;\n",
              "      border-radius: 50%;\n",
              "      cursor: pointer;\n",
              "      display: none;\n",
              "      fill: #1967D2;\n",
              "      height: 32px;\n",
              "      padding: 0 0 0 0;\n",
              "      width: 32px;\n",
              "    }\n",
              "\n",
              "    .colab-df-convert:hover {\n",
              "      background-color: #E2EBFA;\n",
              "      box-shadow: 0px 1px 2px rgba(60, 64, 67, 0.3), 0px 1px 3px 1px rgba(60, 64, 67, 0.15);\n",
              "      fill: #174EA6;\n",
              "    }\n",
              "\n",
              "    .colab-df-buttons div {\n",
              "      margin-bottom: 4px;\n",
              "    }\n",
              "\n",
              "    [theme=dark] .colab-df-convert {\n",
              "      background-color: #3B4455;\n",
              "      fill: #D2E3FC;\n",
              "    }\n",
              "\n",
              "    [theme=dark] .colab-df-convert:hover {\n",
              "      background-color: #434B5C;\n",
              "      box-shadow: 0px 1px 3px 1px rgba(0, 0, 0, 0.15);\n",
              "      filter: drop-shadow(0px 1px 2px rgba(0, 0, 0, 0.3));\n",
              "      fill: #FFFFFF;\n",
              "    }\n",
              "  </style>\n",
              "\n",
              "    <script>\n",
              "      const buttonEl =\n",
              "        document.querySelector('#df-ef234b82-def4-4c15-93bb-efc8605cfad8 button.colab-df-convert');\n",
              "      buttonEl.style.display =\n",
              "        google.colab.kernel.accessAllowed ? 'block' : 'none';\n",
              "\n",
              "      async function convertToInteractive(key) {\n",
              "        const element = document.querySelector('#df-ef234b82-def4-4c15-93bb-efc8605cfad8');\n",
              "        const dataTable =\n",
              "          await google.colab.kernel.invokeFunction('convertToInteractive',\n",
              "                                                    [key], {});\n",
              "        if (!dataTable) return;\n",
              "\n",
              "        const docLinkHtml = 'Like what you see? Visit the ' +\n",
              "          '<a target=\"_blank\" href=https://colab.research.google.com/notebooks/data_table.ipynb>data table notebook</a>'\n",
              "          + ' to learn more about interactive tables.';\n",
              "        element.innerHTML = '';\n",
              "        dataTable['output_type'] = 'display_data';\n",
              "        await google.colab.output.renderOutput(dataTable, element);\n",
              "        const docLink = document.createElement('div');\n",
              "        docLink.innerHTML = docLinkHtml;\n",
              "        element.appendChild(docLink);\n",
              "      }\n",
              "    </script>\n",
              "  </div>\n",
              "\n",
              "\n",
              "<div id=\"df-98c0bc59-09e0-497d-84ee-9f3fa11debe8\">\n",
              "  <button class=\"colab-df-quickchart\" onclick=\"quickchart('df-98c0bc59-09e0-497d-84ee-9f3fa11debe8')\"\n",
              "            title=\"Suggest charts.\"\n",
              "            style=\"display:none;\">\n",
              "\n",
              "<svg xmlns=\"http://www.w3.org/2000/svg\" height=\"24px\"viewBox=\"0 0 24 24\"\n",
              "     width=\"24px\">\n",
              "    <g>\n",
              "        <path d=\"M19 3H5c-1.1 0-2 .9-2 2v14c0 1.1.9 2 2 2h14c1.1 0 2-.9 2-2V5c0-1.1-.9-2-2-2zM9 17H7v-7h2v7zm4 0h-2V7h2v10zm4 0h-2v-4h2v4z\"/>\n",
              "    </g>\n",
              "</svg>\n",
              "  </button>\n",
              "\n",
              "<style>\n",
              "  .colab-df-quickchart {\n",
              "    background-color: #E8F0FE;\n",
              "    border: none;\n",
              "    border-radius: 50%;\n",
              "    cursor: pointer;\n",
              "    display: none;\n",
              "    fill: #1967D2;\n",
              "    height: 32px;\n",
              "    padding: 0 0 0 0;\n",
              "    width: 32px;\n",
              "  }\n",
              "\n",
              "  .colab-df-quickchart:hover {\n",
              "    background-color: #E2EBFA;\n",
              "    box-shadow: 0px 1px 2px rgba(60, 64, 67, 0.3), 0px 1px 3px 1px rgba(60, 64, 67, 0.15);\n",
              "    fill: #174EA6;\n",
              "  }\n",
              "\n",
              "  [theme=dark] .colab-df-quickchart {\n",
              "    background-color: #3B4455;\n",
              "    fill: #D2E3FC;\n",
              "  }\n",
              "\n",
              "  [theme=dark] .colab-df-quickchart:hover {\n",
              "    background-color: #434B5C;\n",
              "    box-shadow: 0px 1px 3px 1px rgba(0, 0, 0, 0.15);\n",
              "    filter: drop-shadow(0px 1px 2px rgba(0, 0, 0, 0.3));\n",
              "    fill: #FFFFFF;\n",
              "  }\n",
              "</style>\n",
              "\n",
              "  <script>\n",
              "    async function quickchart(key) {\n",
              "      const charts = await google.colab.kernel.invokeFunction(\n",
              "          'suggestCharts', [key], {});\n",
              "    }\n",
              "    (() => {\n",
              "      let quickchartButtonEl =\n",
              "        document.querySelector('#df-98c0bc59-09e0-497d-84ee-9f3fa11debe8 button');\n",
              "      quickchartButtonEl.style.display =\n",
              "        google.colab.kernel.accessAllowed ? 'block' : 'none';\n",
              "    })();\n",
              "  </script>\n",
              "</div>\n",
              "    </div>\n",
              "  </div>\n"
            ]
          },
          "metadata": {},
          "execution_count": 201
        }
      ],
      "source": [
        "test_02_df.update(test_02_df[['tweet']].applymap('\\'{}\\''.format))\n",
        "\n",
        "test_02_df.head()"
      ]
    },
    {
      "cell_type": "code",
      "execution_count": 202,
      "metadata": {
        "id": "gJuXkVjWwWa3"
      },
      "outputs": [],
      "source": [
        "\n",
        "test_02_df[\"class_a_code\"] = encoder.fit_transform(test_02_df[\"class_a\"])"
      ]
    },
    {
      "cell_type": "code",
      "execution_count": 203,
      "metadata": {
        "id": "lXlGwKlcwWa3"
      },
      "outputs": [],
      "source": [
        "X_test_02 = test_02_df['tweet']\n",
        "y_test_02 = test_02_df['class_a_code']"
      ]
    },
    {
      "cell_type": "code",
      "execution_count": 204,
      "metadata": {
        "id": "92_GTU2hwWa3"
      },
      "outputs": [],
      "source": [
        "encoder = LabelEncoder()\n",
        "train_labels = encoder.fit_transform(y_train)\n",
        "\n",
        "test_labels_02 = encoder.transform(y_test_02)"
      ]
    },
    {
      "cell_type": "code",
      "execution_count": 205,
      "metadata": {
        "id": "j7-kxv_RwWa3"
      },
      "outputs": [],
      "source": [
        "test_encodings_02 = tokenizer(list(X_test_02), truncation=True, padding=True, max_length=256)"
      ]
    },
    {
      "cell_type": "code",
      "execution_count": 206,
      "metadata": {
        "id": "_SOr4AjEwWa3"
      },
      "outputs": [],
      "source": [
        "test_dataset_02 = tf.data.Dataset.from_tensor_slices((\n",
        "    dict(test_encodings_02),\n",
        "    test_labels_02\n",
        ")).batch(16)"
      ]
    },
    {
      "cell_type": "code",
      "execution_count": 207,
      "metadata": {
        "colab": {
          "base_uri": "https://localhost:8080/"
        },
        "id": "FjdbSlGjwWa3",
        "outputId": "4d33f8a6-0367-4c35-ce06-b02ab5c49b80"
      },
      "outputs": [
        {
          "output_type": "stream",
          "name": "stdout",
          "text": [
            "10/10 [==============================] - 1s 95ms/step\n"
          ]
        }
      ],
      "source": [
        "# Get the model predictions\n",
        "predictions_02 = tf.argmax(model.predict(test_dataset_02)[0], axis=-1)"
      ]
    },
    {
      "cell_type": "code",
      "execution_count": 208,
      "metadata": {
        "colab": {
          "base_uri": "https://localhost:8080/"
        },
        "id": "51coWadBwWa3",
        "outputId": "9c5868a3-3b22-46ca-e8b5-f3a8e74eb075"
      },
      "outputs": [
        {
          "output_type": "stream",
          "name": "stdout",
          "text": [
            "              precision    recall  f1-score   support\n",
            "\n",
            "           0       0.71      0.82      0.76       100\n",
            "           1       0.47      0.32      0.38        50\n",
            "\n",
            "    accuracy                           0.65       150\n",
            "   macro avg       0.59      0.57      0.57       150\n",
            "weighted avg       0.63      0.65      0.63       150\n",
            "\n"
          ]
        }
      ],
      "source": [
        "# Decode the label numbers back into original labels\n",
        "y_test_inverse_02 = encoder.inverse_transform(y_test_02)\n",
        "predictions_inverse_02 = encoder.inverse_transform(predictions_02.numpy())\n",
        "\n",
        "# Generate the classification report\n",
        "report_02 = classification_report(y_test_inverse_02, predictions_inverse_02,\n",
        "                               target_names=encoder.classes_.astype(str))\n",
        "print(report_02)"
      ]
    },
    {
      "cell_type": "code",
      "execution_count": null,
      "metadata": {
        "id": "Swq89v0nwWa3"
      },
      "outputs": [],
      "source": []
    },
    {
      "cell_type": "code",
      "source": [],
      "metadata": {
        "id": "wSq_LBfPBWB7"
      },
      "execution_count": null,
      "outputs": []
    },
    {
      "cell_type": "markdown",
      "source": [
        "# ChatGPT 4 with rephrasing"
      ],
      "metadata": {
        "id": "xqxg76xbCI8s"
      }
    },
    {
      "cell_type": "code",
      "source": [
        "index_new3 = random.sample(index_new2, 25)"
      ],
      "metadata": {
        "id": "tHz934eBBV-q"
      },
      "execution_count": 230,
      "outputs": []
    },
    {
      "cell_type": "code",
      "execution_count": 232,
      "metadata": {
        "colab": {
          "base_uri": "https://localhost:8080/"
        },
        "id": "DKzUnBMIwWa3",
        "outputId": "9e1c1be1-2541-4a94-98b2-4718c8fd1fb1"
      },
      "outputs": [
        {
          "output_type": "stream",
          "name": "stdout",
          "text": [
            "[135, 216, 308, 389, 823, 115, 323, 77, 260, 281, 352, 47, 233, 38, 614, 100, 376, 681, 797, 749, 362, 483, 313, 382, 853]\n"
          ]
        }
      ],
      "source": [
        "print(index_new3)\n"
      ]
    },
    {
      "cell_type": "code",
      "execution_count": 396,
      "metadata": {
        "id": "VtWInB4xwWa3"
      },
      "outputs": [],
      "source": [
        "test_tweet_off_new_4 = test_tweet_off"
      ]
    },
    {
      "cell_type": "code",
      "source": [
        "test_tweet_off_new_4['tweet'][853]\n"
      ],
      "metadata": {
        "colab": {
          "base_uri": "https://localhost:8080/",
          "height": 35
        },
        "id": "cNgMBfS0CyKO",
        "outputId": "f25d5f49-e932-4f9c-b0eb-6eb3d3964de1"
      },
      "execution_count": 397,
      "outputs": [
        {
          "output_type": "execute_result",
          "data": {
            "text/plain": [
              "'Both possess a displeasing flavor. [URL].'"
            ],
            "application/vnd.google.colaboratory.intrinsic+json": {
              "type": "string"
            }
          },
          "metadata": {},
          "execution_count": 397
        }
      ]
    },
    {
      "cell_type": "code",
      "source": [
        "test_tweet_off_new_4['tweet'][135] =\"#AvoidNFL, I've chosen to withdraw my support. My loyalty has been lost. @USER @USER [URL]\""
      ],
      "metadata": {
        "colab": {
          "base_uri": "https://localhost:8080/"
        },
        "id": "7yTtYclhCywF",
        "outputId": "0de5f869-8154-45d4-e921-f73f5d060099"
      },
      "execution_count": 398,
      "outputs": [
        {
          "output_type": "stream",
          "name": "stderr",
          "text": [
            "<ipython-input-398-409e460aba72>:1: SettingWithCopyWarning: \n",
            "A value is trying to be set on a copy of a slice from a DataFrame\n",
            "\n",
            "See the caveats in the documentation: https://pandas.pydata.org/pandas-docs/stable/user_guide/indexing.html#returning-a-view-versus-a-copy\n",
            "  test_tweet_off_new_4['tweet'][135] =\"#AvoidNFL, I've chosen to withdraw my support. My loyalty has been lost. @USER @USER [URL]\"\n"
          ]
        }
      ]
    },
    {
      "cell_type": "code",
      "source": [
        "test_tweet_off_new_4['tweet'][216] = \"Both men and women appear to face similar circumstances, which is worth noting. The URL could reflect an experience common to both genders.\""
      ],
      "metadata": {
        "colab": {
          "base_uri": "https://localhost:8080/"
        },
        "id": "y0Z_dVzvCy2p",
        "outputId": "392b0abb-cbd7-4207-97ba-87d5de1402ad"
      },
      "execution_count": 399,
      "outputs": [
        {
          "output_type": "stream",
          "name": "stderr",
          "text": [
            "<ipython-input-399-b1ce6567346d>:1: SettingWithCopyWarning: \n",
            "A value is trying to be set on a copy of a slice from a DataFrame\n",
            "\n",
            "See the caveats in the documentation: https://pandas.pydata.org/pandas-docs/stable/user_guide/indexing.html#returning-a-view-versus-a-copy\n",
            "  test_tweet_off_new_4['tweet'][216] = \"Both men and women appear to face similar circumstances, which is worth noting. The URL could reflect an experience common to both genders.\"\n"
          ]
        }
      ]
    },
    {
      "cell_type": "code",
      "source": [
        "test_tweet_off_new_4['tweet'][308] =\"Okay, let's evaluate the scenario. While certain players have netted more than 15 goals in the Eredivisie, there are those who believe it's not the toughest league. Conversely, Bundesliga squads have demonstrated their mettle in European tournaments. Regarding Mexican players, it's been a while since we've seen a standout like Pulisic. However, the future remains promising, and Mexico could very well nurture outstanding players in the coming years.\""
      ],
      "metadata": {
        "colab": {
          "base_uri": "https://localhost:8080/"
        },
        "id": "C39WeQLxCy9W",
        "outputId": "9cf86911-6b10-4764-f4aa-7759b4d90ce3"
      },
      "execution_count": 400,
      "outputs": [
        {
          "output_type": "stream",
          "name": "stderr",
          "text": [
            "<ipython-input-400-0069563c5158>:1: SettingWithCopyWarning: \n",
            "A value is trying to be set on a copy of a slice from a DataFrame\n",
            "\n",
            "See the caveats in the documentation: https://pandas.pydata.org/pandas-docs/stable/user_guide/indexing.html#returning-a-view-versus-a-copy\n",
            "  test_tweet_off_new_4['tweet'][308] =\"Okay, let's evaluate the scenario. While certain players have netted more than 15 goals in the Eredivisie, there are those who believe it's not the toughest league. Conversely, Bundesliga squads have demonstrated their mettle in European tournaments. Regarding Mexican players, it's been a while since we've seen a standout like Pulisic. However, the future remains promising, and Mexico could very well nurture outstanding players in the coming years.\"\n"
          ]
        }
      ]
    },
    {
      "cell_type": "code",
      "source": [
        "test_tweet_off_new_4['tweet'][389] =\"50 Cent calls out Joe Budden's behavior on Instagram, labeling it as 'nonsense.' [URL] [URL]\""
      ],
      "metadata": {
        "colab": {
          "base_uri": "https://localhost:8080/"
        },
        "id": "znt3v2NICzER",
        "outputId": "bb244456-0af1-4d73-fab8-f29695c73075"
      },
      "execution_count": 401,
      "outputs": [
        {
          "output_type": "stream",
          "name": "stderr",
          "text": [
            "<ipython-input-401-1db90cad2311>:1: SettingWithCopyWarning: \n",
            "A value is trying to be set on a copy of a slice from a DataFrame\n",
            "\n",
            "See the caveats in the documentation: https://pandas.pydata.org/pandas-docs/stable/user_guide/indexing.html#returning-a-view-versus-a-copy\n",
            "  test_tweet_off_new_4['tweet'][389] =\"50 Cent calls out Joe Budden's behavior on Instagram, labeling it as 'nonsense.' [URL] [URL]\"\n"
          ]
        }
      ]
    },
    {
      "cell_type": "code",
      "source": [
        "test_tweet_off_new_4['tweet'][823] = \"#DemocraticPartyConcerns #Extremists #AntifaIssues #RadicalFeminism Consider distancing yourself. [URL]\""
      ],
      "metadata": {
        "colab": {
          "base_uri": "https://localhost:8080/"
        },
        "id": "m6zExV7jCzKM",
        "outputId": "10becf4d-b0ba-4d5b-f079-bf9a74fe1b7b"
      },
      "execution_count": 402,
      "outputs": [
        {
          "output_type": "stream",
          "name": "stderr",
          "text": [
            "<ipython-input-402-ec6c14a14322>:1: SettingWithCopyWarning: \n",
            "A value is trying to be set on a copy of a slice from a DataFrame\n",
            "\n",
            "See the caveats in the documentation: https://pandas.pydata.org/pandas-docs/stable/user_guide/indexing.html#returning-a-view-versus-a-copy\n",
            "  test_tweet_off_new_4['tweet'][823] = \"#DemocraticPartyConcerns #Extremists #AntifaIssues #RadicalFeminism Consider distancing yourself. [URL]\"\n"
          ]
        }
      ]
    },
    {
      "cell_type": "code",
      "source": [
        "test_tweet_off_new_4['tweet'][115] = \"#ConservativeGovernment - Whistleblowers claim they faced threats under @USER's regime, despite regulators supposed to protect them. [URL]\""
      ],
      "metadata": {
        "colab": {
          "base_uri": "https://localhost:8080/"
        },
        "id": "ORLuwkC2CzQn",
        "outputId": "8ebdf72b-ff98-4a79-9707-9f9b67ff7500"
      },
      "execution_count": 403,
      "outputs": [
        {
          "output_type": "stream",
          "name": "stderr",
          "text": [
            "<ipython-input-403-53c5b7c3a729>:1: SettingWithCopyWarning: \n",
            "A value is trying to be set on a copy of a slice from a DataFrame\n",
            "\n",
            "See the caveats in the documentation: https://pandas.pydata.org/pandas-docs/stable/user_guide/indexing.html#returning-a-view-versus-a-copy\n",
            "  test_tweet_off_new_4['tweet'][115] = \"#ConservativeGovernment - Whistleblowers claim they faced threats under @USER's regime, despite regulators supposed to protect them. [URL]\"\n"
          ]
        }
      ]
    },
    {
      "cell_type": "code",
      "source": [
        "test_tweet_off_new_4['tweet'][323] =\"#AVALANCHE, my sincere apologies! I recognize and value you. Regretfully, I made errors in the past, but we all err at times. #maga\""
      ],
      "metadata": {
        "colab": {
          "base_uri": "https://localhost:8080/"
        },
        "id": "Ff3wkenYCzWk",
        "outputId": "7d2a9a1f-de90-4971-dbf4-30c81a48cfa7"
      },
      "execution_count": 404,
      "outputs": [
        {
          "output_type": "stream",
          "name": "stderr",
          "text": [
            "<ipython-input-404-f0b2af06cff9>:1: SettingWithCopyWarning: \n",
            "A value is trying to be set on a copy of a slice from a DataFrame\n",
            "\n",
            "See the caveats in the documentation: https://pandas.pydata.org/pandas-docs/stable/user_guide/indexing.html#returning-a-view-versus-a-copy\n",
            "  test_tweet_off_new_4['tweet'][323] =\"#AVALANCHE, my sincere apologies! I recognize and value you. Regretfully, I made errors in the past, but we all err at times. #maga\"\n"
          ]
        }
      ]
    },
    {
      "cell_type": "code",
      "source": [
        "test_tweet_off_new_4['tweet'][77] = \"#ANTIFA is perceived to be associated with The Democratic Socialists of America (DSA). #JamesOKeefe has exposed their alleged presence in multiple government roles, purportedly aiming to challenge #America's foundations. #Trump #MAGA🇺🇸 #UnderlyingForces [URL]\""
      ],
      "metadata": {
        "colab": {
          "base_uri": "https://localhost:8080/"
        },
        "id": "ovZUh3jYCzcz",
        "outputId": "5346cf52-4e8b-4bd8-9044-cc30285aae00"
      },
      "execution_count": 405,
      "outputs": [
        {
          "output_type": "stream",
          "name": "stderr",
          "text": [
            "<ipython-input-405-cd76d7daff33>:1: SettingWithCopyWarning: \n",
            "A value is trying to be set on a copy of a slice from a DataFrame\n",
            "\n",
            "See the caveats in the documentation: https://pandas.pydata.org/pandas-docs/stable/user_guide/indexing.html#returning-a-view-versus-a-copy\n",
            "  test_tweet_off_new_4['tweet'][77] = \"#ANTIFA is perceived to be associated with The Democratic Socialists of America (DSA). #JamesOKeefe has exposed their alleged presence in multiple government roles, purportedly aiming to challenge #America's foundations. #Trump #MAGA🇺🇸 #UnderlyingForces [URL]\"\n"
          ]
        }
      ]
    },
    {
      "cell_type": "code",
      "source": [
        "test_tweet_off_new_4['tweet'][260] =\"#Liberals are taking significant steps, asking #PhillipRuddock to liaise with #Turnbull in hopes of influencing the #WentworthVotes on 18 Sept 2018. @USER #Auspol #LNP #NSWpol @USER @USER @USER #LNPTrends [URL]\""
      ],
      "metadata": {
        "colab": {
          "base_uri": "https://localhost:8080/"
        },
        "id": "PNosOHpKCzi6",
        "outputId": "5d209f9e-ef75-4f5a-a527-295ff545c190"
      },
      "execution_count": 406,
      "outputs": [
        {
          "output_type": "stream",
          "name": "stderr",
          "text": [
            "<ipython-input-406-62aa1866cab2>:1: SettingWithCopyWarning: \n",
            "A value is trying to be set on a copy of a slice from a DataFrame\n",
            "\n",
            "See the caveats in the documentation: https://pandas.pydata.org/pandas-docs/stable/user_guide/indexing.html#returning-a-view-versus-a-copy\n",
            "  test_tweet_off_new_4['tweet'][260] =\"#Liberals are taking significant steps, asking #PhillipRuddock to liaise with #Turnbull in hopes of influencing the #WentworthVotes on 18 Sept 2018. @USER #Auspol #LNP #NSWpol @USER @USER @USER #LNPTrends [URL]\"\n"
          ]
        }
      ]
    },
    {
      "cell_type": "code",
      "source": [
        "test_tweet_off_new_4['tweet'][281] =\"#Conservatives Government, despite austerity measures, has seen an increase in debt. Meanwhile, the affluent's wealth has grown twofold, spotlighting the #inequality problem. [URL] courtesy of @USER.\""
      ],
      "metadata": {
        "colab": {
          "base_uri": "https://localhost:8080/"
        },
        "id": "fCgCoskFC0MS",
        "outputId": "2f9f7b77-9fe0-45d2-c585-29b40c848451"
      },
      "execution_count": 407,
      "outputs": [
        {
          "output_type": "stream",
          "name": "stderr",
          "text": [
            "<ipython-input-407-2bd399889584>:1: SettingWithCopyWarning: \n",
            "A value is trying to be set on a copy of a slice from a DataFrame\n",
            "\n",
            "See the caveats in the documentation: https://pandas.pydata.org/pandas-docs/stable/user_guide/indexing.html#returning-a-view-versus-a-copy\n",
            "  test_tweet_off_new_4['tweet'][281] =\"#Conservatives Government, despite austerity measures, has seen an increase in debt. Meanwhile, the affluent's wealth has grown twofold, spotlighting the #inequality problem. [URL] courtesy of @USER.\"\n"
          ]
        }
      ]
    },
    {
      "cell_type": "code",
      "source": [
        "test_tweet_off_new_4['tweet'][352]  =\"#OrrinHatch's role in handling another woman's allegations against a Supreme Court nominee has garnered significant backlash. Some consider his approach reminiscent of his stance during the Anita Hill case, labeling him as out of touch. Many feel it's time for a change in leadership.\""
      ],
      "metadata": {
        "colab": {
          "base_uri": "https://localhost:8080/"
        },
        "id": "6h1v2rsGC0TZ",
        "outputId": "2f7d0366-fda6-4c22-d0ac-d6464ab313a1"
      },
      "execution_count": 408,
      "outputs": [
        {
          "output_type": "stream",
          "name": "stderr",
          "text": [
            "<ipython-input-408-c4649bf75655>:1: SettingWithCopyWarning: \n",
            "A value is trying to be set on a copy of a slice from a DataFrame\n",
            "\n",
            "See the caveats in the documentation: https://pandas.pydata.org/pandas-docs/stable/user_guide/indexing.html#returning-a-view-versus-a-copy\n",
            "  test_tweet_off_new_4['tweet'][352]  =\"#OrrinHatch's role in handling another woman's allegations against a Supreme Court nominee has garnered significant backlash. Some consider his approach reminiscent of his stance during the Anita Hill case, labeling him as out of touch. Many feel it's time for a change in leadership.\"\n"
          ]
        }
      ]
    },
    {
      "cell_type": "code",
      "source": [
        "test_tweet_off_new_4['tweet'][47]  =\"#Conservatives, it's unfortunate to see such discourteous exchanges, especially ones involving @USER. [URL]\""
      ],
      "metadata": {
        "colab": {
          "base_uri": "https://localhost:8080/"
        },
        "id": "hEaTinf7C0at",
        "outputId": "a213ecb5-3ee8-4336-f416-e5eec20dbc3a"
      },
      "execution_count": 409,
      "outputs": [
        {
          "output_type": "stream",
          "name": "stderr",
          "text": [
            "<ipython-input-409-1ada6eb16484>:1: SettingWithCopyWarning: \n",
            "A value is trying to be set on a copy of a slice from a DataFrame\n",
            "\n",
            "See the caveats in the documentation: https://pandas.pydata.org/pandas-docs/stable/user_guide/indexing.html#returning-a-view-versus-a-copy\n",
            "  test_tweet_off_new_4['tweet'][47]  =\"#Conservatives, it's unfortunate to see such discourteous exchanges, especially ones involving @USER. [URL]\"\n"
          ]
        }
      ]
    },
    {
      "cell_type": "code",
      "source": [
        "test_tweet_off_new_4['tweet'][233] =\"On #TheView, Stormy Daniels encountered a challenging moment when confronted with a dollar bill, underscoring the difficulties adult film actors often face. The mention also hints at her ties to the Democratic Party.\""
      ],
      "metadata": {
        "colab": {
          "base_uri": "https://localhost:8080/"
        },
        "id": "EoIJwD62C0hJ",
        "outputId": "3cc02c07-761f-4239-eace-6e6408eb7adc"
      },
      "execution_count": 410,
      "outputs": [
        {
          "output_type": "stream",
          "name": "stderr",
          "text": [
            "<ipython-input-410-858ee1c19dad>:1: SettingWithCopyWarning: \n",
            "A value is trying to be set on a copy of a slice from a DataFrame\n",
            "\n",
            "See the caveats in the documentation: https://pandas.pydata.org/pandas-docs/stable/user_guide/indexing.html#returning-a-view-versus-a-copy\n",
            "  test_tweet_off_new_4['tweet'][233] =\"On #TheView, Stormy Daniels encountered a challenging moment when confronted with a dollar bill, underscoring the difficulties adult film actors often face. The mention also hints at her ties to the Democratic Party.\"\n"
          ]
        }
      ]
    },
    {
      "cell_type": "code",
      "source": [
        "test_tweet_off_new_4['tweet'][38] =\"Using the hashtag #ArianaAsesina? Let's avoid rushing to judgments and promoting negativity. She's facing difficult moments, and assigning blame doesn't alter the sad reality. An overdose occurred, and finding fault won't help. Let's prioritize understanding and compassion over blame.\""
      ],
      "metadata": {
        "colab": {
          "base_uri": "https://localhost:8080/"
        },
        "id": "fN1ma6J-C0nw",
        "outputId": "f693ca26-daf8-4822-a78e-47561bcf54b8"
      },
      "execution_count": 411,
      "outputs": [
        {
          "output_type": "stream",
          "name": "stderr",
          "text": [
            "<ipython-input-411-6c15cf7b16b4>:1: SettingWithCopyWarning: \n",
            "A value is trying to be set on a copy of a slice from a DataFrame\n",
            "\n",
            "See the caveats in the documentation: https://pandas.pydata.org/pandas-docs/stable/user_guide/indexing.html#returning-a-view-versus-a-copy\n",
            "  test_tweet_off_new_4['tweet'][38] =\"Using the hashtag #ArianaAsesina? Let's avoid rushing to judgments and promoting negativity. She's facing difficult moments, and assigning blame doesn't alter the sad reality. An overdose occurred, and finding fault won't help. Let's prioritize understanding and compassion over blame.\"\n"
          ]
        }
      ]
    },
    {
      "cell_type": "code",
      "source": [
        "test_tweet_off_new_4['tweet'][614] =\"@USER @USER I intend to incorporate that perspective in upcoming debates about gun control, free speech, and taxes. Advocating for responsibility is crucial. It's incorrect to excuse taking a life by negating its value or asserting it as an entitlement.\""
      ],
      "metadata": {
        "colab": {
          "base_uri": "https://localhost:8080/"
        },
        "id": "mQgtY2zaC0tt",
        "outputId": "560b7439-2c1c-4f69-bf07-750e7bf52cf3"
      },
      "execution_count": 412,
      "outputs": [
        {
          "output_type": "stream",
          "name": "stderr",
          "text": [
            "<ipython-input-412-f3d199926d3b>:1: SettingWithCopyWarning: \n",
            "A value is trying to be set on a copy of a slice from a DataFrame\n",
            "\n",
            "See the caveats in the documentation: https://pandas.pydata.org/pandas-docs/stable/user_guide/indexing.html#returning-a-view-versus-a-copy\n",
            "  test_tweet_off_new_4['tweet'][614] =\"@USER @USER I intend to incorporate that perspective in upcoming debates about gun control, free speech, and taxes. Advocating for responsibility is crucial. It's incorrect to excuse taking a life by negating its value or asserting it as an entitlement.\"\n"
          ]
        }
      ]
    },
    {
      "cell_type": "code",
      "source": [
        "test_tweet_off_new_4['tweet'][100] = \"Concerning #ColinKaepernick, there's a viewpoint that he has been more vocal than effective. Some argue that both the black community and supportive white liberals, including @USER, should be more informed or reduce the vocal intensity about the issue. They don't see Colin as embodying the image of a Civil Rights champion.\""
      ],
      "metadata": {
        "colab": {
          "base_uri": "https://localhost:8080/"
        },
        "id": "gaQNcx2lC0y6",
        "outputId": "48f51211-a950-4fc6-a136-60bbbc1b6c4a"
      },
      "execution_count": 413,
      "outputs": [
        {
          "output_type": "stream",
          "name": "stderr",
          "text": [
            "<ipython-input-413-7dcbde48dead>:1: SettingWithCopyWarning: \n",
            "A value is trying to be set on a copy of a slice from a DataFrame\n",
            "\n",
            "See the caveats in the documentation: https://pandas.pydata.org/pandas-docs/stable/user_guide/indexing.html#returning-a-view-versus-a-copy\n",
            "  test_tweet_off_new_4['tweet'][100] = \"Concerning #ColinKaepernick, there's a viewpoint that he has been more vocal than effective. Some argue that both the black community and supportive white liberals, including @USER, should be more informed or reduce the vocal intensity about the issue. They don't see Colin as embodying the image of a Civil Rights champion.\"\n"
          ]
        }
      ]
    },
    {
      "cell_type": "code",
      "source": [
        "test_tweet_off_new_4['tweet'][376] = \"What an amazing seven-year journey it's been! #MyTwitterAnniversary [URL].\""
      ],
      "metadata": {
        "colab": {
          "base_uri": "https://localhost:8080/"
        },
        "id": "h872Rof-Krer",
        "outputId": "619a7d1a-794c-4b85-f861-1409d730eab2"
      },
      "execution_count": 414,
      "outputs": [
        {
          "output_type": "stream",
          "name": "stderr",
          "text": [
            "<ipython-input-414-b0ee91e33c27>:1: SettingWithCopyWarning: \n",
            "A value is trying to be set on a copy of a slice from a DataFrame\n",
            "\n",
            "See the caveats in the documentation: https://pandas.pydata.org/pandas-docs/stable/user_guide/indexing.html#returning-a-view-versus-a-copy\n",
            "  test_tweet_off_new_4['tweet'][376] = \"What an amazing seven-year journey it's been! #MyTwitterAnniversary [URL].\"\n"
          ]
        }
      ]
    },
    {
      "cell_type": "code",
      "source": [
        "test_tweet_off_new_4['tweet'][681] = \"Can you even imagine? A hundred rounds? You've got to be joking, Goon! 🤣\""
      ],
      "metadata": {
        "colab": {
          "base_uri": "https://localhost:8080/"
        },
        "id": "KsjY7d_kKr5L",
        "outputId": "7d097dc8-c43d-413d-cc03-11ff1e7b0483"
      },
      "execution_count": 415,
      "outputs": [
        {
          "output_type": "stream",
          "name": "stderr",
          "text": [
            "<ipython-input-415-073554772cc1>:1: SettingWithCopyWarning: \n",
            "A value is trying to be set on a copy of a slice from a DataFrame\n",
            "\n",
            "See the caveats in the documentation: https://pandas.pydata.org/pandas-docs/stable/user_guide/indexing.html#returning-a-view-versus-a-copy\n",
            "  test_tweet_off_new_4['tweet'][681] = \"Can you even imagine? A hundred rounds? You've got to be joking, Goon! 🤣\"\n"
          ]
        }
      ]
    },
    {
      "cell_type": "code",
      "source": [
        "test_tweet_off_new_4['tweet'][797]  = \"To get folks to head out from your place, consider a humorous touch, like playfully acting like a vampire. Just ensure it's all in good fun and doesn't make anyone uneasy. Always approach situations with kindness and without being intimidating.\""
      ],
      "metadata": {
        "colab": {
          "base_uri": "https://localhost:8080/"
        },
        "id": "dKtQq7s2KsAq",
        "outputId": "eeaf6b14-3117-4119-fe77-b4bc3ab7b7d9"
      },
      "execution_count": 416,
      "outputs": [
        {
          "output_type": "stream",
          "name": "stderr",
          "text": [
            "<ipython-input-416-2456e9ea89aa>:1: SettingWithCopyWarning: \n",
            "A value is trying to be set on a copy of a slice from a DataFrame\n",
            "\n",
            "See the caveats in the documentation: https://pandas.pydata.org/pandas-docs/stable/user_guide/indexing.html#returning-a-view-versus-a-copy\n",
            "  test_tweet_off_new_4['tweet'][797]  = \"To get folks to head out from your place, consider a humorous touch, like playfully acting like a vampire. Just ensure it's all in good fun and doesn't make anyone uneasy. Always approach situations with kindness and without being intimidating.\"\n"
          ]
        }
      ]
    },
    {
      "cell_type": "code",
      "source": [
        "test_tweet_off_new_4['tweet'][749] = \"#Antifa intends to oppose the NVU's fascist views in #Amsterdam on September 22. [URL]\""
      ],
      "metadata": {
        "colab": {
          "base_uri": "https://localhost:8080/"
        },
        "id": "V_82ninbKsHg",
        "outputId": "a6cfc5b6-18cb-4953-a6fe-2e033bd35d79"
      },
      "execution_count": 417,
      "outputs": [
        {
          "output_type": "stream",
          "name": "stderr",
          "text": [
            "<ipython-input-417-ab002ef90309>:1: SettingWithCopyWarning: \n",
            "A value is trying to be set on a copy of a slice from a DataFrame\n",
            "\n",
            "See the caveats in the documentation: https://pandas.pydata.org/pandas-docs/stable/user_guide/indexing.html#returning-a-view-versus-a-copy\n",
            "  test_tweet_off_new_4['tweet'][749] = \"#Antifa intends to oppose the NVU's fascist views in #Amsterdam on September 22. [URL]\"\n"
          ]
        }
      ]
    },
    {
      "cell_type": "code",
      "source": [
        "test_tweet_off_new_4['tweet'][362]  = \"#Share theleadersmindset • • • 📍Hey Leaders!🔥 ✔️Comment 'SET' if you're geared up for these actions. - 'Determine objectives, hold them close, tackle them with zeal, rejoice in your achievements... [URL]\""
      ],
      "metadata": {
        "colab": {
          "base_uri": "https://localhost:8080/"
        },
        "id": "d8FvLK-BKsOi",
        "outputId": "d7a974bd-0fae-448d-fffd-419133aeba8a"
      },
      "execution_count": 418,
      "outputs": [
        {
          "output_type": "stream",
          "name": "stderr",
          "text": [
            "<ipython-input-418-6f0ae2a7a3e3>:1: SettingWithCopyWarning: \n",
            "A value is trying to be set on a copy of a slice from a DataFrame\n",
            "\n",
            "See the caveats in the documentation: https://pandas.pydata.org/pandas-docs/stable/user_guide/indexing.html#returning-a-view-versus-a-copy\n",
            "  test_tweet_off_new_4['tweet'][362]  = \"#Share theleadersmindset • • • 📍Hey Leaders!🔥 ✔️Comment 'SET' if you're geared up for these actions. - 'Determine objectives, hold them close, tackle them with zeal, rejoice in your achievements... [URL]\"\n"
          ]
        }
      ]
    },
    {
      "cell_type": "code",
      "source": [
        "test_tweet_off_new_4['tweet'][483] =\"@USER @USER @USER Your meme seems to indicate that both Fascism and Antifa stood against liberals.\""
      ],
      "metadata": {
        "colab": {
          "base_uri": "https://localhost:8080/"
        },
        "id": "cTtUnkycKsVe",
        "outputId": "2814114e-991b-462f-a02c-292049ab2748"
      },
      "execution_count": 419,
      "outputs": [
        {
          "output_type": "stream",
          "name": "stderr",
          "text": [
            "<ipython-input-419-9dfe6bbaebfc>:1: SettingWithCopyWarning: \n",
            "A value is trying to be set on a copy of a slice from a DataFrame\n",
            "\n",
            "See the caveats in the documentation: https://pandas.pydata.org/pandas-docs/stable/user_guide/indexing.html#returning-a-view-versus-a-copy\n",
            "  test_tweet_off_new_4['tweet'][483] =\"@USER @USER @USER Your meme seems to indicate that both Fascism and Antifa stood against liberals.\"\n"
          ]
        }
      ]
    },
    {
      "cell_type": "code",
      "source": [
        "test_tweet_off_new_4['tweet'][313] =\"@USER @USER @USER A lot of people perceive her as insincere within the Senate. If she represented me, I'd be disappointed by her actions during the SCOTUS hearings.\""
      ],
      "metadata": {
        "colab": {
          "base_uri": "https://localhost:8080/"
        },
        "id": "NXdRmr1YY8fp",
        "outputId": "0a9efe60-7710-4395-faa7-ff2a0c56d335"
      },
      "execution_count": 420,
      "outputs": [
        {
          "output_type": "stream",
          "name": "stderr",
          "text": [
            "<ipython-input-420-4059ca66243c>:1: SettingWithCopyWarning: \n",
            "A value is trying to be set on a copy of a slice from a DataFrame\n",
            "\n",
            "See the caveats in the documentation: https://pandas.pydata.org/pandas-docs/stable/user_guide/indexing.html#returning-a-view-versus-a-copy\n",
            "  test_tweet_off_new_4['tweet'][313] =\"@USER @USER @USER A lot of people perceive her as insincere within the Senate. If she represented me, I'd be disappointed by her actions during the SCOTUS hearings.\"\n"
          ]
        }
      ]
    },
    {
      "cell_type": "code",
      "source": [
        "test_tweet_off_new_4['tweet'][382] = \"The circumstances involving #ChristineBlaseyFord have garnered notice. Some observers claim she's experiencing undue pressure from specific factions. They highlight alleged ties between Antifa, viewed by some as an extreme wing of the Democratic Party, and purported support from George Soros. The hashtag #VoteRedToSaveAmerica is associated with these discussions.\""
      ],
      "metadata": {
        "colab": {
          "base_uri": "https://localhost:8080/"
        },
        "id": "9fPNSsVFY8kN",
        "outputId": "c39a5adc-dbc8-4cb0-a7bf-32af5db94a2f"
      },
      "execution_count": 421,
      "outputs": [
        {
          "output_type": "stream",
          "name": "stderr",
          "text": [
            "<ipython-input-421-08944d046359>:1: SettingWithCopyWarning: \n",
            "A value is trying to be set on a copy of a slice from a DataFrame\n",
            "\n",
            "See the caveats in the documentation: https://pandas.pydata.org/pandas-docs/stable/user_guide/indexing.html#returning-a-view-versus-a-copy\n",
            "  test_tweet_off_new_4['tweet'][382] = \"The circumstances involving #ChristineBlaseyFord have garnered notice. Some observers claim she's experiencing undue pressure from specific factions. They highlight alleged ties between Antifa, viewed by some as an extreme wing of the Democratic Party, and purported support from George Soros. The hashtag #VoteRedToSaveAmerica is associated with these discussions.\"\n"
          ]
        }
      ]
    },
    {
      "cell_type": "code",
      "source": [
        "test_tweet_off_new_4['tweet'][853] =\"Both possess a displeasing flavor. [URL].\""
      ],
      "metadata": {
        "colab": {
          "base_uri": "https://localhost:8080/"
        },
        "id": "G6RRtz9SY8od",
        "outputId": "41597aa6-fcaa-4907-b48b-45d2f6245399"
      },
      "execution_count": 422,
      "outputs": [
        {
          "output_type": "stream",
          "name": "stderr",
          "text": [
            "<ipython-input-422-225074feafdd>:1: SettingWithCopyWarning: \n",
            "A value is trying to be set on a copy of a slice from a DataFrame\n",
            "\n",
            "See the caveats in the documentation: https://pandas.pydata.org/pandas-docs/stable/user_guide/indexing.html#returning-a-view-versus-a-copy\n",
            "  test_tweet_off_new_4['tweet'][853] =\"Both possess a displeasing flavor. [URL].\"\n"
          ]
        }
      ]
    },
    {
      "cell_type": "code",
      "source": [
        "test_tweet_off_4 = test_tweet_off_new_4.loc[index_new3]"
      ],
      "metadata": {
        "id": "afPzF6ylY8r2"
      },
      "execution_count": 423,
      "outputs": []
    },
    {
      "cell_type": "code",
      "source": [
        "\n",
        "merged_df_4 = pd.concat([test_tweet_not_new, test_tweet_off_4], ignore_index=True)\n",
        "\n",
        "# Shuffle the index\n",
        "test_4_df = merged_df_4.sample(frac=1,random_state=42).reset_index(drop=True)"
      ],
      "metadata": {
        "id": "SKc9Jgv_Y8uh"
      },
      "execution_count": 424,
      "outputs": []
    },
    {
      "cell_type": "code",
      "source": [
        "test_4_df.shape"
      ],
      "metadata": {
        "colab": {
          "base_uri": "https://localhost:8080/"
        },
        "id": "_tMgb5nOb-9o",
        "outputId": "8cff98e3-5a62-4eea-daa5-ae1ce748ceaa"
      },
      "execution_count": 425,
      "outputs": [
        {
          "output_type": "execute_result",
          "data": {
            "text/plain": [
              "(125, 2)"
            ]
          },
          "metadata": {},
          "execution_count": 425
        }
      ]
    },
    {
      "cell_type": "code",
      "source": [
        "clean_tweets(test_4_df)"
      ],
      "metadata": {
        "colab": {
          "base_uri": "https://localhost:8080/"
        },
        "id": "FnHU0ErSC04D",
        "outputId": "4b318998-2f6d-4674-ed31-ad1cfb350319"
      },
      "execution_count": 426,
      "outputs": [
        {
          "output_type": "stream",
          "name": "stderr",
          "text": [
            "<ipython-input-10-58d0d99cd0a4>:9: FutureWarning: The default value of regex will change from True to False in a future version.\n",
            "  df.loc[:, 'tweet'] = df.tweet.str.replace('\\d+','') #Remove numbers\n",
            "<ipython-input-10-58d0d99cd0a4>:14: FutureWarning: The default value of regex will change from True to False in a future version. In addition, single character regular expressions will *not* be treated as literal strings when regex=True.\n",
            "  df.loc[:, 'tweet'] = df.tweet.str.replace(punctuation, '')\n"
          ]
        }
      ]
    },
    {
      "cell_type": "code",
      "source": [
        "test_4_df.update(test_4_df[['tweet']].applymap('\\'{}\\''.format))"
      ],
      "metadata": {
        "id": "4OrhltqobCL9"
      },
      "execution_count": 427,
      "outputs": []
    },
    {
      "cell_type": "code",
      "source": [
        "\n",
        "test_4_df[\"class_a_code\"] = encoder.fit_transform(test_4_df[\"class_a\"])"
      ],
      "metadata": {
        "id": "3TqNFMt1bCQ6"
      },
      "execution_count": 428,
      "outputs": []
    },
    {
      "cell_type": "code",
      "source": [
        "X_test_4 = test_4_df['tweet']\n",
        "y_test_4 = test_4_df['class_a_code']"
      ],
      "metadata": {
        "id": "4NoWkB7LbCVn"
      },
      "execution_count": 429,
      "outputs": []
    },
    {
      "cell_type": "code",
      "source": [
        "encoder = LabelEncoder()\n",
        "train_labels = encoder.fit_transform(y_train)\n",
        "\n",
        "test_labels_4 = encoder.transform(y_test_4)"
      ],
      "metadata": {
        "id": "O1gJdH6JbCa5"
      },
      "execution_count": 430,
      "outputs": []
    },
    {
      "cell_type": "code",
      "source": [
        "test_encodings_4 = tokenizer(list(X_test_4), truncation=True, padding=True, max_length=256)"
      ],
      "metadata": {
        "id": "IYKj0G1AbCgQ"
      },
      "execution_count": 431,
      "outputs": []
    },
    {
      "cell_type": "code",
      "source": [
        "test_dataset_4 = tf.data.Dataset.from_tensor_slices((\n",
        "    dict(test_encodings_4),\n",
        "    test_labels_4\n",
        ")).batch(16)"
      ],
      "metadata": {
        "id": "B5sM3nHJbCkx"
      },
      "execution_count": 432,
      "outputs": []
    },
    {
      "cell_type": "code",
      "source": [
        "# Get the model predictions\n",
        "predictions_4 = tf.argmax(model.predict(test_dataset_4)[0], axis=-1)"
      ],
      "metadata": {
        "colab": {
          "base_uri": "https://localhost:8080/"
        },
        "id": "84OA4mcZbe7r",
        "outputId": "9ca888d5-49aa-4f88-aa2c-ce229286b306"
      },
      "execution_count": 433,
      "outputs": [
        {
          "output_type": "stream",
          "name": "stdout",
          "text": [
            "8/8 [==============================] - 1s 101ms/step\n"
          ]
        }
      ]
    },
    {
      "cell_type": "code",
      "source": [
        "# Decode the label numbers back into original labels\n",
        "y_test_inverse_4 = encoder.inverse_transform(y_test_4)\n",
        "predictions_inverse_4 = encoder.inverse_transform(predictions_4.numpy())\n",
        "\n",
        "# Generate the classification report\n",
        "report_4 = classification_report(y_test_inverse_4, predictions_inverse_4,\n",
        "                               target_names=encoder.classes_.astype(str))\n",
        "print(report_4)"
      ],
      "metadata": {
        "colab": {
          "base_uri": "https://localhost:8080/"
        },
        "id": "rnxGdTSWbfA_",
        "outputId": "a825586d-0b42-413e-8806-011bada5ad4f"
      },
      "execution_count": 434,
      "outputs": [
        {
          "output_type": "stream",
          "name": "stdout",
          "text": [
            "              precision    recall  f1-score   support\n",
            "\n",
            "           0       0.79      0.85      0.82       100\n",
            "           1       0.12      0.08      0.10        25\n",
            "\n",
            "    accuracy                           0.70       125\n",
            "   macro avg       0.45      0.46      0.46       125\n",
            "weighted avg       0.65      0.70      0.67       125\n",
            "\n"
          ]
        }
      ]
    },
    {
      "cell_type": "code",
      "source": [],
      "metadata": {
        "id": "ArhbTAJebfF2"
      },
      "execution_count": null,
      "outputs": []
    },
    {
      "cell_type": "code",
      "source": [],
      "metadata": {
        "id": "lJmgnhUUbfKs"
      },
      "execution_count": null,
      "outputs": []
    },
    {
      "cell_type": "code",
      "source": [],
      "metadata": {
        "id": "drCQXmHjbfPM"
      },
      "execution_count": null,
      "outputs": []
    },
    {
      "cell_type": "code",
      "source": [],
      "metadata": {
        "id": "_SnVz850bfSw"
      },
      "execution_count": null,
      "outputs": []
    },
    {
      "cell_type": "code",
      "execution_count": null,
      "metadata": {
        "id": "HqVPoCBHwWa3"
      },
      "outputs": [],
      "source": []
    }
  ],
  "metadata": {
    "accelerator": "GPU",
    "colab": {
      "gpuType": "T4",
      "provenance": []
    },
    "kernelspec": {
      "display_name": "Python 3 (ipykernel)",
      "language": "python",
      "name": "python3"
    },
    "language_info": {
      "codemirror_mode": {
        "name": "ipython",
        "version": 3
      },
      "file_extension": ".py",
      "mimetype": "text/x-python",
      "name": "python",
      "nbconvert_exporter": "python",
      "pygments_lexer": "ipython3",
      "version": "3.8.12"
    },
    "toc": {
      "base_numbering": 1,
      "nav_menu": {},
      "number_sections": true,
      "sideBar": true,
      "skip_h1_title": false,
      "title_cell": "Table of Contents",
      "title_sidebar": "Contents",
      "toc_cell": false,
      "toc_position": {},
      "toc_section_display": true,
      "toc_window_display": false
    },
    "widgets": {
      "application/vnd.jupyter.widget-state+json": {
        "1a641bc98fa7430e95420233f6af60da": {
          "model_module": "@jupyter-widgets/controls",
          "model_name": "HBoxModel",
          "model_module_version": "1.5.0",
          "state": {
            "_dom_classes": [],
            "_model_module": "@jupyter-widgets/controls",
            "_model_module_version": "1.5.0",
            "_model_name": "HBoxModel",
            "_view_count": null,
            "_view_module": "@jupyter-widgets/controls",
            "_view_module_version": "1.5.0",
            "_view_name": "HBoxView",
            "box_style": "",
            "children": [
              "IPY_MODEL_8265f75a9b97450c9a4a935c2490debc",
              "IPY_MODEL_2bc383c7b1054a418a5949939f124b70",
              "IPY_MODEL_398c18473cb54a9ea04f573a0f55c9cc"
            ],
            "layout": "IPY_MODEL_0fd87f7515fb4d4190004bbb92263ca1"
          }
        },
        "8265f75a9b97450c9a4a935c2490debc": {
          "model_module": "@jupyter-widgets/controls",
          "model_name": "HTMLModel",
          "model_module_version": "1.5.0",
          "state": {
            "_dom_classes": [],
            "_model_module": "@jupyter-widgets/controls",
            "_model_module_version": "1.5.0",
            "_model_name": "HTMLModel",
            "_view_count": null,
            "_view_module": "@jupyter-widgets/controls",
            "_view_module_version": "1.5.0",
            "_view_name": "HTMLView",
            "description": "",
            "description_tooltip": null,
            "layout": "IPY_MODEL_11433a6f0efb4ecdab3b0cb182c0748d",
            "placeholder": "​",
            "style": "IPY_MODEL_dc9a6f41ce624b869094d1a7b0f92f4e",
            "value": "Downloading (…)okenizer_config.json: 100%"
          }
        },
        "2bc383c7b1054a418a5949939f124b70": {
          "model_module": "@jupyter-widgets/controls",
          "model_name": "FloatProgressModel",
          "model_module_version": "1.5.0",
          "state": {
            "_dom_classes": [],
            "_model_module": "@jupyter-widgets/controls",
            "_model_module_version": "1.5.0",
            "_model_name": "FloatProgressModel",
            "_view_count": null,
            "_view_module": "@jupyter-widgets/controls",
            "_view_module_version": "1.5.0",
            "_view_name": "ProgressView",
            "bar_style": "success",
            "description": "",
            "description_tooltip": null,
            "layout": "IPY_MODEL_7014b46b6c2945f2a117c6290b764f74",
            "max": 28,
            "min": 0,
            "orientation": "horizontal",
            "style": "IPY_MODEL_54ab47ed323c45599c907f45717fff29",
            "value": 28
          }
        },
        "398c18473cb54a9ea04f573a0f55c9cc": {
          "model_module": "@jupyter-widgets/controls",
          "model_name": "HTMLModel",
          "model_module_version": "1.5.0",
          "state": {
            "_dom_classes": [],
            "_model_module": "@jupyter-widgets/controls",
            "_model_module_version": "1.5.0",
            "_model_name": "HTMLModel",
            "_view_count": null,
            "_view_module": "@jupyter-widgets/controls",
            "_view_module_version": "1.5.0",
            "_view_name": "HTMLView",
            "description": "",
            "description_tooltip": null,
            "layout": "IPY_MODEL_5de1838c03b1400692f844b701eeb5b4",
            "placeholder": "​",
            "style": "IPY_MODEL_18747ac9367e40a6a7df75e3e8467855",
            "value": " 28.0/28.0 [00:00&lt;00:00, 740B/s]"
          }
        },
        "0fd87f7515fb4d4190004bbb92263ca1": {
          "model_module": "@jupyter-widgets/base",
          "model_name": "LayoutModel",
          "model_module_version": "1.2.0",
          "state": {
            "_model_module": "@jupyter-widgets/base",
            "_model_module_version": "1.2.0",
            "_model_name": "LayoutModel",
            "_view_count": null,
            "_view_module": "@jupyter-widgets/base",
            "_view_module_version": "1.2.0",
            "_view_name": "LayoutView",
            "align_content": null,
            "align_items": null,
            "align_self": null,
            "border": null,
            "bottom": null,
            "display": null,
            "flex": null,
            "flex_flow": null,
            "grid_area": null,
            "grid_auto_columns": null,
            "grid_auto_flow": null,
            "grid_auto_rows": null,
            "grid_column": null,
            "grid_gap": null,
            "grid_row": null,
            "grid_template_areas": null,
            "grid_template_columns": null,
            "grid_template_rows": null,
            "height": null,
            "justify_content": null,
            "justify_items": null,
            "left": null,
            "margin": null,
            "max_height": null,
            "max_width": null,
            "min_height": null,
            "min_width": null,
            "object_fit": null,
            "object_position": null,
            "order": null,
            "overflow": null,
            "overflow_x": null,
            "overflow_y": null,
            "padding": null,
            "right": null,
            "top": null,
            "visibility": null,
            "width": null
          }
        },
        "11433a6f0efb4ecdab3b0cb182c0748d": {
          "model_module": "@jupyter-widgets/base",
          "model_name": "LayoutModel",
          "model_module_version": "1.2.0",
          "state": {
            "_model_module": "@jupyter-widgets/base",
            "_model_module_version": "1.2.0",
            "_model_name": "LayoutModel",
            "_view_count": null,
            "_view_module": "@jupyter-widgets/base",
            "_view_module_version": "1.2.0",
            "_view_name": "LayoutView",
            "align_content": null,
            "align_items": null,
            "align_self": null,
            "border": null,
            "bottom": null,
            "display": null,
            "flex": null,
            "flex_flow": null,
            "grid_area": null,
            "grid_auto_columns": null,
            "grid_auto_flow": null,
            "grid_auto_rows": null,
            "grid_column": null,
            "grid_gap": null,
            "grid_row": null,
            "grid_template_areas": null,
            "grid_template_columns": null,
            "grid_template_rows": null,
            "height": null,
            "justify_content": null,
            "justify_items": null,
            "left": null,
            "margin": null,
            "max_height": null,
            "max_width": null,
            "min_height": null,
            "min_width": null,
            "object_fit": null,
            "object_position": null,
            "order": null,
            "overflow": null,
            "overflow_x": null,
            "overflow_y": null,
            "padding": null,
            "right": null,
            "top": null,
            "visibility": null,
            "width": null
          }
        },
        "dc9a6f41ce624b869094d1a7b0f92f4e": {
          "model_module": "@jupyter-widgets/controls",
          "model_name": "DescriptionStyleModel",
          "model_module_version": "1.5.0",
          "state": {
            "_model_module": "@jupyter-widgets/controls",
            "_model_module_version": "1.5.0",
            "_model_name": "DescriptionStyleModel",
            "_view_count": null,
            "_view_module": "@jupyter-widgets/base",
            "_view_module_version": "1.2.0",
            "_view_name": "StyleView",
            "description_width": ""
          }
        },
        "7014b46b6c2945f2a117c6290b764f74": {
          "model_module": "@jupyter-widgets/base",
          "model_name": "LayoutModel",
          "model_module_version": "1.2.0",
          "state": {
            "_model_module": "@jupyter-widgets/base",
            "_model_module_version": "1.2.0",
            "_model_name": "LayoutModel",
            "_view_count": null,
            "_view_module": "@jupyter-widgets/base",
            "_view_module_version": "1.2.0",
            "_view_name": "LayoutView",
            "align_content": null,
            "align_items": null,
            "align_self": null,
            "border": null,
            "bottom": null,
            "display": null,
            "flex": null,
            "flex_flow": null,
            "grid_area": null,
            "grid_auto_columns": null,
            "grid_auto_flow": null,
            "grid_auto_rows": null,
            "grid_column": null,
            "grid_gap": null,
            "grid_row": null,
            "grid_template_areas": null,
            "grid_template_columns": null,
            "grid_template_rows": null,
            "height": null,
            "justify_content": null,
            "justify_items": null,
            "left": null,
            "margin": null,
            "max_height": null,
            "max_width": null,
            "min_height": null,
            "min_width": null,
            "object_fit": null,
            "object_position": null,
            "order": null,
            "overflow": null,
            "overflow_x": null,
            "overflow_y": null,
            "padding": null,
            "right": null,
            "top": null,
            "visibility": null,
            "width": null
          }
        },
        "54ab47ed323c45599c907f45717fff29": {
          "model_module": "@jupyter-widgets/controls",
          "model_name": "ProgressStyleModel",
          "model_module_version": "1.5.0",
          "state": {
            "_model_module": "@jupyter-widgets/controls",
            "_model_module_version": "1.5.0",
            "_model_name": "ProgressStyleModel",
            "_view_count": null,
            "_view_module": "@jupyter-widgets/base",
            "_view_module_version": "1.2.0",
            "_view_name": "StyleView",
            "bar_color": null,
            "description_width": ""
          }
        },
        "5de1838c03b1400692f844b701eeb5b4": {
          "model_module": "@jupyter-widgets/base",
          "model_name": "LayoutModel",
          "model_module_version": "1.2.0",
          "state": {
            "_model_module": "@jupyter-widgets/base",
            "_model_module_version": "1.2.0",
            "_model_name": "LayoutModel",
            "_view_count": null,
            "_view_module": "@jupyter-widgets/base",
            "_view_module_version": "1.2.0",
            "_view_name": "LayoutView",
            "align_content": null,
            "align_items": null,
            "align_self": null,
            "border": null,
            "bottom": null,
            "display": null,
            "flex": null,
            "flex_flow": null,
            "grid_area": null,
            "grid_auto_columns": null,
            "grid_auto_flow": null,
            "grid_auto_rows": null,
            "grid_column": null,
            "grid_gap": null,
            "grid_row": null,
            "grid_template_areas": null,
            "grid_template_columns": null,
            "grid_template_rows": null,
            "height": null,
            "justify_content": null,
            "justify_items": null,
            "left": null,
            "margin": null,
            "max_height": null,
            "max_width": null,
            "min_height": null,
            "min_width": null,
            "object_fit": null,
            "object_position": null,
            "order": null,
            "overflow": null,
            "overflow_x": null,
            "overflow_y": null,
            "padding": null,
            "right": null,
            "top": null,
            "visibility": null,
            "width": null
          }
        },
        "18747ac9367e40a6a7df75e3e8467855": {
          "model_module": "@jupyter-widgets/controls",
          "model_name": "DescriptionStyleModel",
          "model_module_version": "1.5.0",
          "state": {
            "_model_module": "@jupyter-widgets/controls",
            "_model_module_version": "1.5.0",
            "_model_name": "DescriptionStyleModel",
            "_view_count": null,
            "_view_module": "@jupyter-widgets/base",
            "_view_module_version": "1.2.0",
            "_view_name": "StyleView",
            "description_width": ""
          }
        },
        "65f9ebba0fe84999a98979fc03a09d13": {
          "model_module": "@jupyter-widgets/controls",
          "model_name": "HBoxModel",
          "model_module_version": "1.5.0",
          "state": {
            "_dom_classes": [],
            "_model_module": "@jupyter-widgets/controls",
            "_model_module_version": "1.5.0",
            "_model_name": "HBoxModel",
            "_view_count": null,
            "_view_module": "@jupyter-widgets/controls",
            "_view_module_version": "1.5.0",
            "_view_name": "HBoxView",
            "box_style": "",
            "children": [
              "IPY_MODEL_488dc10984874f2da4dad052ad61efbc",
              "IPY_MODEL_5100a44667544f22bef8f06500bfab47",
              "IPY_MODEL_38c7742ca953407a9abbb9ec9813304f"
            ],
            "layout": "IPY_MODEL_c905fe1bac4941dfabcc0c71d9b1aca3"
          }
        },
        "488dc10984874f2da4dad052ad61efbc": {
          "model_module": "@jupyter-widgets/controls",
          "model_name": "HTMLModel",
          "model_module_version": "1.5.0",
          "state": {
            "_dom_classes": [],
            "_model_module": "@jupyter-widgets/controls",
            "_model_module_version": "1.5.0",
            "_model_name": "HTMLModel",
            "_view_count": null,
            "_view_module": "@jupyter-widgets/controls",
            "_view_module_version": "1.5.0",
            "_view_name": "HTMLView",
            "description": "",
            "description_tooltip": null,
            "layout": "IPY_MODEL_e55fd6d08fba49958085130b370d016d",
            "placeholder": "​",
            "style": "IPY_MODEL_8489b0ed6c544e6883c837eeca6150f5",
            "value": "Downloading (…)solve/main/vocab.txt: 100%"
          }
        },
        "5100a44667544f22bef8f06500bfab47": {
          "model_module": "@jupyter-widgets/controls",
          "model_name": "FloatProgressModel",
          "model_module_version": "1.5.0",
          "state": {
            "_dom_classes": [],
            "_model_module": "@jupyter-widgets/controls",
            "_model_module_version": "1.5.0",
            "_model_name": "FloatProgressModel",
            "_view_count": null,
            "_view_module": "@jupyter-widgets/controls",
            "_view_module_version": "1.5.0",
            "_view_name": "ProgressView",
            "bar_style": "success",
            "description": "",
            "description_tooltip": null,
            "layout": "IPY_MODEL_e6c2d9bfa36e4cf7aecc6d2207fd97a3",
            "max": 231508,
            "min": 0,
            "orientation": "horizontal",
            "style": "IPY_MODEL_4482d9c4da224461920741d916c7e689",
            "value": 231508
          }
        },
        "38c7742ca953407a9abbb9ec9813304f": {
          "model_module": "@jupyter-widgets/controls",
          "model_name": "HTMLModel",
          "model_module_version": "1.5.0",
          "state": {
            "_dom_classes": [],
            "_model_module": "@jupyter-widgets/controls",
            "_model_module_version": "1.5.0",
            "_model_name": "HTMLModel",
            "_view_count": null,
            "_view_module": "@jupyter-widgets/controls",
            "_view_module_version": "1.5.0",
            "_view_name": "HTMLView",
            "description": "",
            "description_tooltip": null,
            "layout": "IPY_MODEL_9068ac6e3362433a93eccbe70de4ccd7",
            "placeholder": "​",
            "style": "IPY_MODEL_69de7bdd61ab4c2d9d072aef3490bd00",
            "value": " 232k/232k [00:00&lt;00:00, 3.46MB/s]"
          }
        },
        "c905fe1bac4941dfabcc0c71d9b1aca3": {
          "model_module": "@jupyter-widgets/base",
          "model_name": "LayoutModel",
          "model_module_version": "1.2.0",
          "state": {
            "_model_module": "@jupyter-widgets/base",
            "_model_module_version": "1.2.0",
            "_model_name": "LayoutModel",
            "_view_count": null,
            "_view_module": "@jupyter-widgets/base",
            "_view_module_version": "1.2.0",
            "_view_name": "LayoutView",
            "align_content": null,
            "align_items": null,
            "align_self": null,
            "border": null,
            "bottom": null,
            "display": null,
            "flex": null,
            "flex_flow": null,
            "grid_area": null,
            "grid_auto_columns": null,
            "grid_auto_flow": null,
            "grid_auto_rows": null,
            "grid_column": null,
            "grid_gap": null,
            "grid_row": null,
            "grid_template_areas": null,
            "grid_template_columns": null,
            "grid_template_rows": null,
            "height": null,
            "justify_content": null,
            "justify_items": null,
            "left": null,
            "margin": null,
            "max_height": null,
            "max_width": null,
            "min_height": null,
            "min_width": null,
            "object_fit": null,
            "object_position": null,
            "order": null,
            "overflow": null,
            "overflow_x": null,
            "overflow_y": null,
            "padding": null,
            "right": null,
            "top": null,
            "visibility": null,
            "width": null
          }
        },
        "e55fd6d08fba49958085130b370d016d": {
          "model_module": "@jupyter-widgets/base",
          "model_name": "LayoutModel",
          "model_module_version": "1.2.0",
          "state": {
            "_model_module": "@jupyter-widgets/base",
            "_model_module_version": "1.2.0",
            "_model_name": "LayoutModel",
            "_view_count": null,
            "_view_module": "@jupyter-widgets/base",
            "_view_module_version": "1.2.0",
            "_view_name": "LayoutView",
            "align_content": null,
            "align_items": null,
            "align_self": null,
            "border": null,
            "bottom": null,
            "display": null,
            "flex": null,
            "flex_flow": null,
            "grid_area": null,
            "grid_auto_columns": null,
            "grid_auto_flow": null,
            "grid_auto_rows": null,
            "grid_column": null,
            "grid_gap": null,
            "grid_row": null,
            "grid_template_areas": null,
            "grid_template_columns": null,
            "grid_template_rows": null,
            "height": null,
            "justify_content": null,
            "justify_items": null,
            "left": null,
            "margin": null,
            "max_height": null,
            "max_width": null,
            "min_height": null,
            "min_width": null,
            "object_fit": null,
            "object_position": null,
            "order": null,
            "overflow": null,
            "overflow_x": null,
            "overflow_y": null,
            "padding": null,
            "right": null,
            "top": null,
            "visibility": null,
            "width": null
          }
        },
        "8489b0ed6c544e6883c837eeca6150f5": {
          "model_module": "@jupyter-widgets/controls",
          "model_name": "DescriptionStyleModel",
          "model_module_version": "1.5.0",
          "state": {
            "_model_module": "@jupyter-widgets/controls",
            "_model_module_version": "1.5.0",
            "_model_name": "DescriptionStyleModel",
            "_view_count": null,
            "_view_module": "@jupyter-widgets/base",
            "_view_module_version": "1.2.0",
            "_view_name": "StyleView",
            "description_width": ""
          }
        },
        "e6c2d9bfa36e4cf7aecc6d2207fd97a3": {
          "model_module": "@jupyter-widgets/base",
          "model_name": "LayoutModel",
          "model_module_version": "1.2.0",
          "state": {
            "_model_module": "@jupyter-widgets/base",
            "_model_module_version": "1.2.0",
            "_model_name": "LayoutModel",
            "_view_count": null,
            "_view_module": "@jupyter-widgets/base",
            "_view_module_version": "1.2.0",
            "_view_name": "LayoutView",
            "align_content": null,
            "align_items": null,
            "align_self": null,
            "border": null,
            "bottom": null,
            "display": null,
            "flex": null,
            "flex_flow": null,
            "grid_area": null,
            "grid_auto_columns": null,
            "grid_auto_flow": null,
            "grid_auto_rows": null,
            "grid_column": null,
            "grid_gap": null,
            "grid_row": null,
            "grid_template_areas": null,
            "grid_template_columns": null,
            "grid_template_rows": null,
            "height": null,
            "justify_content": null,
            "justify_items": null,
            "left": null,
            "margin": null,
            "max_height": null,
            "max_width": null,
            "min_height": null,
            "min_width": null,
            "object_fit": null,
            "object_position": null,
            "order": null,
            "overflow": null,
            "overflow_x": null,
            "overflow_y": null,
            "padding": null,
            "right": null,
            "top": null,
            "visibility": null,
            "width": null
          }
        },
        "4482d9c4da224461920741d916c7e689": {
          "model_module": "@jupyter-widgets/controls",
          "model_name": "ProgressStyleModel",
          "model_module_version": "1.5.0",
          "state": {
            "_model_module": "@jupyter-widgets/controls",
            "_model_module_version": "1.5.0",
            "_model_name": "ProgressStyleModel",
            "_view_count": null,
            "_view_module": "@jupyter-widgets/base",
            "_view_module_version": "1.2.0",
            "_view_name": "StyleView",
            "bar_color": null,
            "description_width": ""
          }
        },
        "9068ac6e3362433a93eccbe70de4ccd7": {
          "model_module": "@jupyter-widgets/base",
          "model_name": "LayoutModel",
          "model_module_version": "1.2.0",
          "state": {
            "_model_module": "@jupyter-widgets/base",
            "_model_module_version": "1.2.0",
            "_model_name": "LayoutModel",
            "_view_count": null,
            "_view_module": "@jupyter-widgets/base",
            "_view_module_version": "1.2.0",
            "_view_name": "LayoutView",
            "align_content": null,
            "align_items": null,
            "align_self": null,
            "border": null,
            "bottom": null,
            "display": null,
            "flex": null,
            "flex_flow": null,
            "grid_area": null,
            "grid_auto_columns": null,
            "grid_auto_flow": null,
            "grid_auto_rows": null,
            "grid_column": null,
            "grid_gap": null,
            "grid_row": null,
            "grid_template_areas": null,
            "grid_template_columns": null,
            "grid_template_rows": null,
            "height": null,
            "justify_content": null,
            "justify_items": null,
            "left": null,
            "margin": null,
            "max_height": null,
            "max_width": null,
            "min_height": null,
            "min_width": null,
            "object_fit": null,
            "object_position": null,
            "order": null,
            "overflow": null,
            "overflow_x": null,
            "overflow_y": null,
            "padding": null,
            "right": null,
            "top": null,
            "visibility": null,
            "width": null
          }
        },
        "69de7bdd61ab4c2d9d072aef3490bd00": {
          "model_module": "@jupyter-widgets/controls",
          "model_name": "DescriptionStyleModel",
          "model_module_version": "1.5.0",
          "state": {
            "_model_module": "@jupyter-widgets/controls",
            "_model_module_version": "1.5.0",
            "_model_name": "DescriptionStyleModel",
            "_view_count": null,
            "_view_module": "@jupyter-widgets/base",
            "_view_module_version": "1.2.0",
            "_view_name": "StyleView",
            "description_width": ""
          }
        },
        "80a4145fd96d4e83845092c649d58bd6": {
          "model_module": "@jupyter-widgets/controls",
          "model_name": "HBoxModel",
          "model_module_version": "1.5.0",
          "state": {
            "_dom_classes": [],
            "_model_module": "@jupyter-widgets/controls",
            "_model_module_version": "1.5.0",
            "_model_name": "HBoxModel",
            "_view_count": null,
            "_view_module": "@jupyter-widgets/controls",
            "_view_module_version": "1.5.0",
            "_view_name": "HBoxView",
            "box_style": "",
            "children": [
              "IPY_MODEL_457fde3410ad4a9d960b65719d1f6032",
              "IPY_MODEL_d50e02e5c3ff46d98e5567e5887f7f82",
              "IPY_MODEL_500cbd9dfa504f0196370430cf54cd29"
            ],
            "layout": "IPY_MODEL_42447df079da49429601c65557dd7681"
          }
        },
        "457fde3410ad4a9d960b65719d1f6032": {
          "model_module": "@jupyter-widgets/controls",
          "model_name": "HTMLModel",
          "model_module_version": "1.5.0",
          "state": {
            "_dom_classes": [],
            "_model_module": "@jupyter-widgets/controls",
            "_model_module_version": "1.5.0",
            "_model_name": "HTMLModel",
            "_view_count": null,
            "_view_module": "@jupyter-widgets/controls",
            "_view_module_version": "1.5.0",
            "_view_name": "HTMLView",
            "description": "",
            "description_tooltip": null,
            "layout": "IPY_MODEL_ecdf601fdd404f068da8c7172d19d5c8",
            "placeholder": "​",
            "style": "IPY_MODEL_f51079cf1d794902aa2bba8db2541386",
            "value": "Downloading (…)/main/tokenizer.json: 100%"
          }
        },
        "d50e02e5c3ff46d98e5567e5887f7f82": {
          "model_module": "@jupyter-widgets/controls",
          "model_name": "FloatProgressModel",
          "model_module_version": "1.5.0",
          "state": {
            "_dom_classes": [],
            "_model_module": "@jupyter-widgets/controls",
            "_model_module_version": "1.5.0",
            "_model_name": "FloatProgressModel",
            "_view_count": null,
            "_view_module": "@jupyter-widgets/controls",
            "_view_module_version": "1.5.0",
            "_view_name": "ProgressView",
            "bar_style": "success",
            "description": "",
            "description_tooltip": null,
            "layout": "IPY_MODEL_2aef2e9915d1433b95c40d7e9d435905",
            "max": 466062,
            "min": 0,
            "orientation": "horizontal",
            "style": "IPY_MODEL_0d6fb04e7e364958bf269fa7e54ee097",
            "value": 466062
          }
        },
        "500cbd9dfa504f0196370430cf54cd29": {
          "model_module": "@jupyter-widgets/controls",
          "model_name": "HTMLModel",
          "model_module_version": "1.5.0",
          "state": {
            "_dom_classes": [],
            "_model_module": "@jupyter-widgets/controls",
            "_model_module_version": "1.5.0",
            "_model_name": "HTMLModel",
            "_view_count": null,
            "_view_module": "@jupyter-widgets/controls",
            "_view_module_version": "1.5.0",
            "_view_name": "HTMLView",
            "description": "",
            "description_tooltip": null,
            "layout": "IPY_MODEL_0ab85d23dd7b4418863d2ef5440fef9e",
            "placeholder": "​",
            "style": "IPY_MODEL_76380c9b0b854dd6882c2b242544908e",
            "value": " 466k/466k [00:00&lt;00:00, 4.00MB/s]"
          }
        },
        "42447df079da49429601c65557dd7681": {
          "model_module": "@jupyter-widgets/base",
          "model_name": "LayoutModel",
          "model_module_version": "1.2.0",
          "state": {
            "_model_module": "@jupyter-widgets/base",
            "_model_module_version": "1.2.0",
            "_model_name": "LayoutModel",
            "_view_count": null,
            "_view_module": "@jupyter-widgets/base",
            "_view_module_version": "1.2.0",
            "_view_name": "LayoutView",
            "align_content": null,
            "align_items": null,
            "align_self": null,
            "border": null,
            "bottom": null,
            "display": null,
            "flex": null,
            "flex_flow": null,
            "grid_area": null,
            "grid_auto_columns": null,
            "grid_auto_flow": null,
            "grid_auto_rows": null,
            "grid_column": null,
            "grid_gap": null,
            "grid_row": null,
            "grid_template_areas": null,
            "grid_template_columns": null,
            "grid_template_rows": null,
            "height": null,
            "justify_content": null,
            "justify_items": null,
            "left": null,
            "margin": null,
            "max_height": null,
            "max_width": null,
            "min_height": null,
            "min_width": null,
            "object_fit": null,
            "object_position": null,
            "order": null,
            "overflow": null,
            "overflow_x": null,
            "overflow_y": null,
            "padding": null,
            "right": null,
            "top": null,
            "visibility": null,
            "width": null
          }
        },
        "ecdf601fdd404f068da8c7172d19d5c8": {
          "model_module": "@jupyter-widgets/base",
          "model_name": "LayoutModel",
          "model_module_version": "1.2.0",
          "state": {
            "_model_module": "@jupyter-widgets/base",
            "_model_module_version": "1.2.0",
            "_model_name": "LayoutModel",
            "_view_count": null,
            "_view_module": "@jupyter-widgets/base",
            "_view_module_version": "1.2.0",
            "_view_name": "LayoutView",
            "align_content": null,
            "align_items": null,
            "align_self": null,
            "border": null,
            "bottom": null,
            "display": null,
            "flex": null,
            "flex_flow": null,
            "grid_area": null,
            "grid_auto_columns": null,
            "grid_auto_flow": null,
            "grid_auto_rows": null,
            "grid_column": null,
            "grid_gap": null,
            "grid_row": null,
            "grid_template_areas": null,
            "grid_template_columns": null,
            "grid_template_rows": null,
            "height": null,
            "justify_content": null,
            "justify_items": null,
            "left": null,
            "margin": null,
            "max_height": null,
            "max_width": null,
            "min_height": null,
            "min_width": null,
            "object_fit": null,
            "object_position": null,
            "order": null,
            "overflow": null,
            "overflow_x": null,
            "overflow_y": null,
            "padding": null,
            "right": null,
            "top": null,
            "visibility": null,
            "width": null
          }
        },
        "f51079cf1d794902aa2bba8db2541386": {
          "model_module": "@jupyter-widgets/controls",
          "model_name": "DescriptionStyleModel",
          "model_module_version": "1.5.0",
          "state": {
            "_model_module": "@jupyter-widgets/controls",
            "_model_module_version": "1.5.0",
            "_model_name": "DescriptionStyleModel",
            "_view_count": null,
            "_view_module": "@jupyter-widgets/base",
            "_view_module_version": "1.2.0",
            "_view_name": "StyleView",
            "description_width": ""
          }
        },
        "2aef2e9915d1433b95c40d7e9d435905": {
          "model_module": "@jupyter-widgets/base",
          "model_name": "LayoutModel",
          "model_module_version": "1.2.0",
          "state": {
            "_model_module": "@jupyter-widgets/base",
            "_model_module_version": "1.2.0",
            "_model_name": "LayoutModel",
            "_view_count": null,
            "_view_module": "@jupyter-widgets/base",
            "_view_module_version": "1.2.0",
            "_view_name": "LayoutView",
            "align_content": null,
            "align_items": null,
            "align_self": null,
            "border": null,
            "bottom": null,
            "display": null,
            "flex": null,
            "flex_flow": null,
            "grid_area": null,
            "grid_auto_columns": null,
            "grid_auto_flow": null,
            "grid_auto_rows": null,
            "grid_column": null,
            "grid_gap": null,
            "grid_row": null,
            "grid_template_areas": null,
            "grid_template_columns": null,
            "grid_template_rows": null,
            "height": null,
            "justify_content": null,
            "justify_items": null,
            "left": null,
            "margin": null,
            "max_height": null,
            "max_width": null,
            "min_height": null,
            "min_width": null,
            "object_fit": null,
            "object_position": null,
            "order": null,
            "overflow": null,
            "overflow_x": null,
            "overflow_y": null,
            "padding": null,
            "right": null,
            "top": null,
            "visibility": null,
            "width": null
          }
        },
        "0d6fb04e7e364958bf269fa7e54ee097": {
          "model_module": "@jupyter-widgets/controls",
          "model_name": "ProgressStyleModel",
          "model_module_version": "1.5.0",
          "state": {
            "_model_module": "@jupyter-widgets/controls",
            "_model_module_version": "1.5.0",
            "_model_name": "ProgressStyleModel",
            "_view_count": null,
            "_view_module": "@jupyter-widgets/base",
            "_view_module_version": "1.2.0",
            "_view_name": "StyleView",
            "bar_color": null,
            "description_width": ""
          }
        },
        "0ab85d23dd7b4418863d2ef5440fef9e": {
          "model_module": "@jupyter-widgets/base",
          "model_name": "LayoutModel",
          "model_module_version": "1.2.0",
          "state": {
            "_model_module": "@jupyter-widgets/base",
            "_model_module_version": "1.2.0",
            "_model_name": "LayoutModel",
            "_view_count": null,
            "_view_module": "@jupyter-widgets/base",
            "_view_module_version": "1.2.0",
            "_view_name": "LayoutView",
            "align_content": null,
            "align_items": null,
            "align_self": null,
            "border": null,
            "bottom": null,
            "display": null,
            "flex": null,
            "flex_flow": null,
            "grid_area": null,
            "grid_auto_columns": null,
            "grid_auto_flow": null,
            "grid_auto_rows": null,
            "grid_column": null,
            "grid_gap": null,
            "grid_row": null,
            "grid_template_areas": null,
            "grid_template_columns": null,
            "grid_template_rows": null,
            "height": null,
            "justify_content": null,
            "justify_items": null,
            "left": null,
            "margin": null,
            "max_height": null,
            "max_width": null,
            "min_height": null,
            "min_width": null,
            "object_fit": null,
            "object_position": null,
            "order": null,
            "overflow": null,
            "overflow_x": null,
            "overflow_y": null,
            "padding": null,
            "right": null,
            "top": null,
            "visibility": null,
            "width": null
          }
        },
        "76380c9b0b854dd6882c2b242544908e": {
          "model_module": "@jupyter-widgets/controls",
          "model_name": "DescriptionStyleModel",
          "model_module_version": "1.5.0",
          "state": {
            "_model_module": "@jupyter-widgets/controls",
            "_model_module_version": "1.5.0",
            "_model_name": "DescriptionStyleModel",
            "_view_count": null,
            "_view_module": "@jupyter-widgets/base",
            "_view_module_version": "1.2.0",
            "_view_name": "StyleView",
            "description_width": ""
          }
        },
        "f74109a7cbf2402f9346a2c252b2d48b": {
          "model_module": "@jupyter-widgets/controls",
          "model_name": "HBoxModel",
          "model_module_version": "1.5.0",
          "state": {
            "_dom_classes": [],
            "_model_module": "@jupyter-widgets/controls",
            "_model_module_version": "1.5.0",
            "_model_name": "HBoxModel",
            "_view_count": null,
            "_view_module": "@jupyter-widgets/controls",
            "_view_module_version": "1.5.0",
            "_view_name": "HBoxView",
            "box_style": "",
            "children": [
              "IPY_MODEL_9d3abb0e86fb4f55bc820a86c5eb462f",
              "IPY_MODEL_7515bd9b3dcc4263b7475a673e92b9e2",
              "IPY_MODEL_e427b0b8e1a74ad5942abff721dc97bc"
            ],
            "layout": "IPY_MODEL_598f3d685ae34cb7bf91f613b4c679aa"
          }
        },
        "9d3abb0e86fb4f55bc820a86c5eb462f": {
          "model_module": "@jupyter-widgets/controls",
          "model_name": "HTMLModel",
          "model_module_version": "1.5.0",
          "state": {
            "_dom_classes": [],
            "_model_module": "@jupyter-widgets/controls",
            "_model_module_version": "1.5.0",
            "_model_name": "HTMLModel",
            "_view_count": null,
            "_view_module": "@jupyter-widgets/controls",
            "_view_module_version": "1.5.0",
            "_view_name": "HTMLView",
            "description": "",
            "description_tooltip": null,
            "layout": "IPY_MODEL_10a4f3801c464dc7829b96f39a35c672",
            "placeholder": "​",
            "style": "IPY_MODEL_069bda2f46b84169b76fb2a52a69ae0b",
            "value": "Downloading (…)lve/main/config.json: 100%"
          }
        },
        "7515bd9b3dcc4263b7475a673e92b9e2": {
          "model_module": "@jupyter-widgets/controls",
          "model_name": "FloatProgressModel",
          "model_module_version": "1.5.0",
          "state": {
            "_dom_classes": [],
            "_model_module": "@jupyter-widgets/controls",
            "_model_module_version": "1.5.0",
            "_model_name": "FloatProgressModel",
            "_view_count": null,
            "_view_module": "@jupyter-widgets/controls",
            "_view_module_version": "1.5.0",
            "_view_name": "ProgressView",
            "bar_style": "success",
            "description": "",
            "description_tooltip": null,
            "layout": "IPY_MODEL_fa6ed5eef9974b3dabc09797efb56b3e",
            "max": 570,
            "min": 0,
            "orientation": "horizontal",
            "style": "IPY_MODEL_2d81d2715954423998495cea8de98e4c",
            "value": 570
          }
        },
        "e427b0b8e1a74ad5942abff721dc97bc": {
          "model_module": "@jupyter-widgets/controls",
          "model_name": "HTMLModel",
          "model_module_version": "1.5.0",
          "state": {
            "_dom_classes": [],
            "_model_module": "@jupyter-widgets/controls",
            "_model_module_version": "1.5.0",
            "_model_name": "HTMLModel",
            "_view_count": null,
            "_view_module": "@jupyter-widgets/controls",
            "_view_module_version": "1.5.0",
            "_view_name": "HTMLView",
            "description": "",
            "description_tooltip": null,
            "layout": "IPY_MODEL_ff055ebc729b416a919009e5e626427a",
            "placeholder": "​",
            "style": "IPY_MODEL_3d818416da6d40c7b51919dacfdd414b",
            "value": " 570/570 [00:00&lt;00:00, 12.8kB/s]"
          }
        },
        "598f3d685ae34cb7bf91f613b4c679aa": {
          "model_module": "@jupyter-widgets/base",
          "model_name": "LayoutModel",
          "model_module_version": "1.2.0",
          "state": {
            "_model_module": "@jupyter-widgets/base",
            "_model_module_version": "1.2.0",
            "_model_name": "LayoutModel",
            "_view_count": null,
            "_view_module": "@jupyter-widgets/base",
            "_view_module_version": "1.2.0",
            "_view_name": "LayoutView",
            "align_content": null,
            "align_items": null,
            "align_self": null,
            "border": null,
            "bottom": null,
            "display": null,
            "flex": null,
            "flex_flow": null,
            "grid_area": null,
            "grid_auto_columns": null,
            "grid_auto_flow": null,
            "grid_auto_rows": null,
            "grid_column": null,
            "grid_gap": null,
            "grid_row": null,
            "grid_template_areas": null,
            "grid_template_columns": null,
            "grid_template_rows": null,
            "height": null,
            "justify_content": null,
            "justify_items": null,
            "left": null,
            "margin": null,
            "max_height": null,
            "max_width": null,
            "min_height": null,
            "min_width": null,
            "object_fit": null,
            "object_position": null,
            "order": null,
            "overflow": null,
            "overflow_x": null,
            "overflow_y": null,
            "padding": null,
            "right": null,
            "top": null,
            "visibility": null,
            "width": null
          }
        },
        "10a4f3801c464dc7829b96f39a35c672": {
          "model_module": "@jupyter-widgets/base",
          "model_name": "LayoutModel",
          "model_module_version": "1.2.0",
          "state": {
            "_model_module": "@jupyter-widgets/base",
            "_model_module_version": "1.2.0",
            "_model_name": "LayoutModel",
            "_view_count": null,
            "_view_module": "@jupyter-widgets/base",
            "_view_module_version": "1.2.0",
            "_view_name": "LayoutView",
            "align_content": null,
            "align_items": null,
            "align_self": null,
            "border": null,
            "bottom": null,
            "display": null,
            "flex": null,
            "flex_flow": null,
            "grid_area": null,
            "grid_auto_columns": null,
            "grid_auto_flow": null,
            "grid_auto_rows": null,
            "grid_column": null,
            "grid_gap": null,
            "grid_row": null,
            "grid_template_areas": null,
            "grid_template_columns": null,
            "grid_template_rows": null,
            "height": null,
            "justify_content": null,
            "justify_items": null,
            "left": null,
            "margin": null,
            "max_height": null,
            "max_width": null,
            "min_height": null,
            "min_width": null,
            "object_fit": null,
            "object_position": null,
            "order": null,
            "overflow": null,
            "overflow_x": null,
            "overflow_y": null,
            "padding": null,
            "right": null,
            "top": null,
            "visibility": null,
            "width": null
          }
        },
        "069bda2f46b84169b76fb2a52a69ae0b": {
          "model_module": "@jupyter-widgets/controls",
          "model_name": "DescriptionStyleModel",
          "model_module_version": "1.5.0",
          "state": {
            "_model_module": "@jupyter-widgets/controls",
            "_model_module_version": "1.5.0",
            "_model_name": "DescriptionStyleModel",
            "_view_count": null,
            "_view_module": "@jupyter-widgets/base",
            "_view_module_version": "1.2.0",
            "_view_name": "StyleView",
            "description_width": ""
          }
        },
        "fa6ed5eef9974b3dabc09797efb56b3e": {
          "model_module": "@jupyter-widgets/base",
          "model_name": "LayoutModel",
          "model_module_version": "1.2.0",
          "state": {
            "_model_module": "@jupyter-widgets/base",
            "_model_module_version": "1.2.0",
            "_model_name": "LayoutModel",
            "_view_count": null,
            "_view_module": "@jupyter-widgets/base",
            "_view_module_version": "1.2.0",
            "_view_name": "LayoutView",
            "align_content": null,
            "align_items": null,
            "align_self": null,
            "border": null,
            "bottom": null,
            "display": null,
            "flex": null,
            "flex_flow": null,
            "grid_area": null,
            "grid_auto_columns": null,
            "grid_auto_flow": null,
            "grid_auto_rows": null,
            "grid_column": null,
            "grid_gap": null,
            "grid_row": null,
            "grid_template_areas": null,
            "grid_template_columns": null,
            "grid_template_rows": null,
            "height": null,
            "justify_content": null,
            "justify_items": null,
            "left": null,
            "margin": null,
            "max_height": null,
            "max_width": null,
            "min_height": null,
            "min_width": null,
            "object_fit": null,
            "object_position": null,
            "order": null,
            "overflow": null,
            "overflow_x": null,
            "overflow_y": null,
            "padding": null,
            "right": null,
            "top": null,
            "visibility": null,
            "width": null
          }
        },
        "2d81d2715954423998495cea8de98e4c": {
          "model_module": "@jupyter-widgets/controls",
          "model_name": "ProgressStyleModel",
          "model_module_version": "1.5.0",
          "state": {
            "_model_module": "@jupyter-widgets/controls",
            "_model_module_version": "1.5.0",
            "_model_name": "ProgressStyleModel",
            "_view_count": null,
            "_view_module": "@jupyter-widgets/base",
            "_view_module_version": "1.2.0",
            "_view_name": "StyleView",
            "bar_color": null,
            "description_width": ""
          }
        },
        "ff055ebc729b416a919009e5e626427a": {
          "model_module": "@jupyter-widgets/base",
          "model_name": "LayoutModel",
          "model_module_version": "1.2.0",
          "state": {
            "_model_module": "@jupyter-widgets/base",
            "_model_module_version": "1.2.0",
            "_model_name": "LayoutModel",
            "_view_count": null,
            "_view_module": "@jupyter-widgets/base",
            "_view_module_version": "1.2.0",
            "_view_name": "LayoutView",
            "align_content": null,
            "align_items": null,
            "align_self": null,
            "border": null,
            "bottom": null,
            "display": null,
            "flex": null,
            "flex_flow": null,
            "grid_area": null,
            "grid_auto_columns": null,
            "grid_auto_flow": null,
            "grid_auto_rows": null,
            "grid_column": null,
            "grid_gap": null,
            "grid_row": null,
            "grid_template_areas": null,
            "grid_template_columns": null,
            "grid_template_rows": null,
            "height": null,
            "justify_content": null,
            "justify_items": null,
            "left": null,
            "margin": null,
            "max_height": null,
            "max_width": null,
            "min_height": null,
            "min_width": null,
            "object_fit": null,
            "object_position": null,
            "order": null,
            "overflow": null,
            "overflow_x": null,
            "overflow_y": null,
            "padding": null,
            "right": null,
            "top": null,
            "visibility": null,
            "width": null
          }
        },
        "3d818416da6d40c7b51919dacfdd414b": {
          "model_module": "@jupyter-widgets/controls",
          "model_name": "DescriptionStyleModel",
          "model_module_version": "1.5.0",
          "state": {
            "_model_module": "@jupyter-widgets/controls",
            "_model_module_version": "1.5.0",
            "_model_name": "DescriptionStyleModel",
            "_view_count": null,
            "_view_module": "@jupyter-widgets/base",
            "_view_module_version": "1.2.0",
            "_view_name": "StyleView",
            "description_width": ""
          }
        },
        "cc57069313b846d4b336156e231f774b": {
          "model_module": "@jupyter-widgets/controls",
          "model_name": "HBoxModel",
          "model_module_version": "1.5.0",
          "state": {
            "_dom_classes": [],
            "_model_module": "@jupyter-widgets/controls",
            "_model_module_version": "1.5.0",
            "_model_name": "HBoxModel",
            "_view_count": null,
            "_view_module": "@jupyter-widgets/controls",
            "_view_module_version": "1.5.0",
            "_view_name": "HBoxView",
            "box_style": "",
            "children": [
              "IPY_MODEL_1f247757083a4e4abf8631814c93b756",
              "IPY_MODEL_8f3310c3e84049bca1db51856f5ed96f",
              "IPY_MODEL_8fa02f61c2154e85bf25696ae7429376"
            ],
            "layout": "IPY_MODEL_ab41d32506574b97a8da8aa9df0fc74e"
          }
        },
        "1f247757083a4e4abf8631814c93b756": {
          "model_module": "@jupyter-widgets/controls",
          "model_name": "HTMLModel",
          "model_module_version": "1.5.0",
          "state": {
            "_dom_classes": [],
            "_model_module": "@jupyter-widgets/controls",
            "_model_module_version": "1.5.0",
            "_model_name": "HTMLModel",
            "_view_count": null,
            "_view_module": "@jupyter-widgets/controls",
            "_view_module_version": "1.5.0",
            "_view_name": "HTMLView",
            "description": "",
            "description_tooltip": null,
            "layout": "IPY_MODEL_93e6ecacb6d643b49a05acc8f953428e",
            "placeholder": "​",
            "style": "IPY_MODEL_f0088ca6e99d49bba56dba71bbe9a0c4",
            "value": "Downloading model.safetensors: 100%"
          }
        },
        "8f3310c3e84049bca1db51856f5ed96f": {
          "model_module": "@jupyter-widgets/controls",
          "model_name": "FloatProgressModel",
          "model_module_version": "1.5.0",
          "state": {
            "_dom_classes": [],
            "_model_module": "@jupyter-widgets/controls",
            "_model_module_version": "1.5.0",
            "_model_name": "FloatProgressModel",
            "_view_count": null,
            "_view_module": "@jupyter-widgets/controls",
            "_view_module_version": "1.5.0",
            "_view_name": "ProgressView",
            "bar_style": "success",
            "description": "",
            "description_tooltip": null,
            "layout": "IPY_MODEL_6b2cf78cc6604a5e92535ef3660885e9",
            "max": 440449768,
            "min": 0,
            "orientation": "horizontal",
            "style": "IPY_MODEL_54cc8bc19e944364a50e10ed0d16506f",
            "value": 440449768
          }
        },
        "8fa02f61c2154e85bf25696ae7429376": {
          "model_module": "@jupyter-widgets/controls",
          "model_name": "HTMLModel",
          "model_module_version": "1.5.0",
          "state": {
            "_dom_classes": [],
            "_model_module": "@jupyter-widgets/controls",
            "_model_module_version": "1.5.0",
            "_model_name": "HTMLModel",
            "_view_count": null,
            "_view_module": "@jupyter-widgets/controls",
            "_view_module_version": "1.5.0",
            "_view_name": "HTMLView",
            "description": "",
            "description_tooltip": null,
            "layout": "IPY_MODEL_ba9694a9605f41e1ad281651c67ff9b2",
            "placeholder": "​",
            "style": "IPY_MODEL_0a304a637b084271a090f742ad71e92e",
            "value": " 440M/440M [00:02&lt;00:00, 224MB/s]"
          }
        },
        "ab41d32506574b97a8da8aa9df0fc74e": {
          "model_module": "@jupyter-widgets/base",
          "model_name": "LayoutModel",
          "model_module_version": "1.2.0",
          "state": {
            "_model_module": "@jupyter-widgets/base",
            "_model_module_version": "1.2.0",
            "_model_name": "LayoutModel",
            "_view_count": null,
            "_view_module": "@jupyter-widgets/base",
            "_view_module_version": "1.2.0",
            "_view_name": "LayoutView",
            "align_content": null,
            "align_items": null,
            "align_self": null,
            "border": null,
            "bottom": null,
            "display": null,
            "flex": null,
            "flex_flow": null,
            "grid_area": null,
            "grid_auto_columns": null,
            "grid_auto_flow": null,
            "grid_auto_rows": null,
            "grid_column": null,
            "grid_gap": null,
            "grid_row": null,
            "grid_template_areas": null,
            "grid_template_columns": null,
            "grid_template_rows": null,
            "height": null,
            "justify_content": null,
            "justify_items": null,
            "left": null,
            "margin": null,
            "max_height": null,
            "max_width": null,
            "min_height": null,
            "min_width": null,
            "object_fit": null,
            "object_position": null,
            "order": null,
            "overflow": null,
            "overflow_x": null,
            "overflow_y": null,
            "padding": null,
            "right": null,
            "top": null,
            "visibility": null,
            "width": null
          }
        },
        "93e6ecacb6d643b49a05acc8f953428e": {
          "model_module": "@jupyter-widgets/base",
          "model_name": "LayoutModel",
          "model_module_version": "1.2.0",
          "state": {
            "_model_module": "@jupyter-widgets/base",
            "_model_module_version": "1.2.0",
            "_model_name": "LayoutModel",
            "_view_count": null,
            "_view_module": "@jupyter-widgets/base",
            "_view_module_version": "1.2.0",
            "_view_name": "LayoutView",
            "align_content": null,
            "align_items": null,
            "align_self": null,
            "border": null,
            "bottom": null,
            "display": null,
            "flex": null,
            "flex_flow": null,
            "grid_area": null,
            "grid_auto_columns": null,
            "grid_auto_flow": null,
            "grid_auto_rows": null,
            "grid_column": null,
            "grid_gap": null,
            "grid_row": null,
            "grid_template_areas": null,
            "grid_template_columns": null,
            "grid_template_rows": null,
            "height": null,
            "justify_content": null,
            "justify_items": null,
            "left": null,
            "margin": null,
            "max_height": null,
            "max_width": null,
            "min_height": null,
            "min_width": null,
            "object_fit": null,
            "object_position": null,
            "order": null,
            "overflow": null,
            "overflow_x": null,
            "overflow_y": null,
            "padding": null,
            "right": null,
            "top": null,
            "visibility": null,
            "width": null
          }
        },
        "f0088ca6e99d49bba56dba71bbe9a0c4": {
          "model_module": "@jupyter-widgets/controls",
          "model_name": "DescriptionStyleModel",
          "model_module_version": "1.5.0",
          "state": {
            "_model_module": "@jupyter-widgets/controls",
            "_model_module_version": "1.5.0",
            "_model_name": "DescriptionStyleModel",
            "_view_count": null,
            "_view_module": "@jupyter-widgets/base",
            "_view_module_version": "1.2.0",
            "_view_name": "StyleView",
            "description_width": ""
          }
        },
        "6b2cf78cc6604a5e92535ef3660885e9": {
          "model_module": "@jupyter-widgets/base",
          "model_name": "LayoutModel",
          "model_module_version": "1.2.0",
          "state": {
            "_model_module": "@jupyter-widgets/base",
            "_model_module_version": "1.2.0",
            "_model_name": "LayoutModel",
            "_view_count": null,
            "_view_module": "@jupyter-widgets/base",
            "_view_module_version": "1.2.0",
            "_view_name": "LayoutView",
            "align_content": null,
            "align_items": null,
            "align_self": null,
            "border": null,
            "bottom": null,
            "display": null,
            "flex": null,
            "flex_flow": null,
            "grid_area": null,
            "grid_auto_columns": null,
            "grid_auto_flow": null,
            "grid_auto_rows": null,
            "grid_column": null,
            "grid_gap": null,
            "grid_row": null,
            "grid_template_areas": null,
            "grid_template_columns": null,
            "grid_template_rows": null,
            "height": null,
            "justify_content": null,
            "justify_items": null,
            "left": null,
            "margin": null,
            "max_height": null,
            "max_width": null,
            "min_height": null,
            "min_width": null,
            "object_fit": null,
            "object_position": null,
            "order": null,
            "overflow": null,
            "overflow_x": null,
            "overflow_y": null,
            "padding": null,
            "right": null,
            "top": null,
            "visibility": null,
            "width": null
          }
        },
        "54cc8bc19e944364a50e10ed0d16506f": {
          "model_module": "@jupyter-widgets/controls",
          "model_name": "ProgressStyleModel",
          "model_module_version": "1.5.0",
          "state": {
            "_model_module": "@jupyter-widgets/controls",
            "_model_module_version": "1.5.0",
            "_model_name": "ProgressStyleModel",
            "_view_count": null,
            "_view_module": "@jupyter-widgets/base",
            "_view_module_version": "1.2.0",
            "_view_name": "StyleView",
            "bar_color": null,
            "description_width": ""
          }
        },
        "ba9694a9605f41e1ad281651c67ff9b2": {
          "model_module": "@jupyter-widgets/base",
          "model_name": "LayoutModel",
          "model_module_version": "1.2.0",
          "state": {
            "_model_module": "@jupyter-widgets/base",
            "_model_module_version": "1.2.0",
            "_model_name": "LayoutModel",
            "_view_count": null,
            "_view_module": "@jupyter-widgets/base",
            "_view_module_version": "1.2.0",
            "_view_name": "LayoutView",
            "align_content": null,
            "align_items": null,
            "align_self": null,
            "border": null,
            "bottom": null,
            "display": null,
            "flex": null,
            "flex_flow": null,
            "grid_area": null,
            "grid_auto_columns": null,
            "grid_auto_flow": null,
            "grid_auto_rows": null,
            "grid_column": null,
            "grid_gap": null,
            "grid_row": null,
            "grid_template_areas": null,
            "grid_template_columns": null,
            "grid_template_rows": null,
            "height": null,
            "justify_content": null,
            "justify_items": null,
            "left": null,
            "margin": null,
            "max_height": null,
            "max_width": null,
            "min_height": null,
            "min_width": null,
            "object_fit": null,
            "object_position": null,
            "order": null,
            "overflow": null,
            "overflow_x": null,
            "overflow_y": null,
            "padding": null,
            "right": null,
            "top": null,
            "visibility": null,
            "width": null
          }
        },
        "0a304a637b084271a090f742ad71e92e": {
          "model_module": "@jupyter-widgets/controls",
          "model_name": "DescriptionStyleModel",
          "model_module_version": "1.5.0",
          "state": {
            "_model_module": "@jupyter-widgets/controls",
            "_model_module_version": "1.5.0",
            "_model_name": "DescriptionStyleModel",
            "_view_count": null,
            "_view_module": "@jupyter-widgets/base",
            "_view_module_version": "1.2.0",
            "_view_name": "StyleView",
            "description_width": ""
          }
        }
      }
    }
  },
  "nbformat": 4,
  "nbformat_minor": 0
}