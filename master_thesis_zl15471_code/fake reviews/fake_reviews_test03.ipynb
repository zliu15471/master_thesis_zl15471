{
 "cells": [
  {
   "cell_type": "code",
   "execution_count": 1,
   "id": "bec77148",
   "metadata": {
    "id": "bec77148"
   },
   "outputs": [],
   "source": [
    "import tensorflow as tf\n",
    "from transformers import TFRobertaForSequenceClassification, RobertaTokenizer\n",
    "from sklearn.model_selection import train_test_split\n",
    "from sklearn.preprocessing import LabelEncoder\n",
    "import pandas as pd\n"
   ]
  },
  {
   "cell_type": "code",
   "execution_count": 2,
   "id": "l3PJQ0Je9-31",
   "metadata": {
    "colab": {
     "base_uri": "https://localhost:8080/"
    },
    "id": "l3PJQ0Je9-31",
    "outputId": "be756215-209a-40a4-aabe-1bb6a180376e"
   },
   "outputs": [
    {
     "name": "stdout",
     "output_type": "stream",
     "text": [
      "Collecting transformers\n",
      "  Downloading transformers-4.31.0-py3-none-any.whl (7.4 MB)\n",
      "\u001b[2K     \u001b[90m━━━━━━━━━━━━━━━━━━━━━━━━━━━━━━━━━━━━━━━━\u001b[0m \u001b[32m7.4/7.4 MB\u001b[0m \u001b[31m29.8 MB/s\u001b[0m eta \u001b[36m0:00:00\u001b[0m\n",
      "\u001b[?25hRequirement already satisfied: filelock in /usr/local/lib/python3.10/dist-packages (from transformers) (3.12.2)\n",
      "Collecting huggingface-hub<1.0,>=0.14.1 (from transformers)\n",
      "  Downloading huggingface_hub-0.16.4-py3-none-any.whl (268 kB)\n",
      "\u001b[2K     \u001b[90m━━━━━━━━━━━━━━━━━━━━━━━━━━━━━━━━━━━━━━\u001b[0m \u001b[32m268.8/268.8 kB\u001b[0m \u001b[31m30.4 MB/s\u001b[0m eta \u001b[36m0:00:00\u001b[0m\n",
      "\u001b[?25hRequirement already satisfied: numpy>=1.17 in /usr/local/lib/python3.10/dist-packages (from transformers) (1.22.4)\n",
      "Requirement already satisfied: packaging>=20.0 in /usr/local/lib/python3.10/dist-packages (from transformers) (23.1)\n",
      "Requirement already satisfied: pyyaml>=5.1 in /usr/local/lib/python3.10/dist-packages (from transformers) (6.0.1)\n",
      "Requirement already satisfied: regex!=2019.12.17 in /usr/local/lib/python3.10/dist-packages (from transformers) (2022.10.31)\n",
      "Requirement already satisfied: requests in /usr/local/lib/python3.10/dist-packages (from transformers) (2.27.1)\n",
      "Collecting tokenizers!=0.11.3,<0.14,>=0.11.1 (from transformers)\n",
      "  Downloading tokenizers-0.13.3-cp310-cp310-manylinux_2_17_x86_64.manylinux2014_x86_64.whl (7.8 MB)\n",
      "\u001b[2K     \u001b[90m━━━━━━━━━━━━━━━━━━━━━━━━━━━━━━━━━━━━━━━━\u001b[0m \u001b[32m7.8/7.8 MB\u001b[0m \u001b[31m79.4 MB/s\u001b[0m eta \u001b[36m0:00:00\u001b[0m\n",
      "\u001b[?25hCollecting safetensors>=0.3.1 (from transformers)\n",
      "  Downloading safetensors-0.3.1-cp310-cp310-manylinux_2_17_x86_64.manylinux2014_x86_64.whl (1.3 MB)\n",
      "\u001b[2K     \u001b[90m━━━━━━━━━━━━━━━━━━━━━━━━━━━━━━━━━━━━━━━━\u001b[0m \u001b[32m1.3/1.3 MB\u001b[0m \u001b[31m75.1 MB/s\u001b[0m eta \u001b[36m0:00:00\u001b[0m\n",
      "\u001b[?25hRequirement already satisfied: tqdm>=4.27 in /usr/local/lib/python3.10/dist-packages (from transformers) (4.65.0)\n",
      "Requirement already satisfied: fsspec in /usr/local/lib/python3.10/dist-packages (from huggingface-hub<1.0,>=0.14.1->transformers) (2023.6.0)\n",
      "Requirement already satisfied: typing-extensions>=3.7.4.3 in /usr/local/lib/python3.10/dist-packages (from huggingface-hub<1.0,>=0.14.1->transformers) (4.7.1)\n",
      "Requirement already satisfied: urllib3<1.27,>=1.21.1 in /usr/local/lib/python3.10/dist-packages (from requests->transformers) (1.26.16)\n",
      "Requirement already satisfied: certifi>=2017.4.17 in /usr/local/lib/python3.10/dist-packages (from requests->transformers) (2023.5.7)\n",
      "Requirement already satisfied: charset-normalizer~=2.0.0 in /usr/local/lib/python3.10/dist-packages (from requests->transformers) (2.0.12)\n",
      "Requirement already satisfied: idna<4,>=2.5 in /usr/local/lib/python3.10/dist-packages (from requests->transformers) (3.4)\n",
      "Installing collected packages: tokenizers, safetensors, huggingface-hub, transformers\n",
      "Successfully installed huggingface-hub-0.16.4 safetensors-0.3.1 tokenizers-0.13.3 transformers-4.31.0\n"
     ]
    }
   ],
   "source": [
    "!pip install transformers\n"
   ]
  },
  {
   "cell_type": "markdown",
   "id": "26c4ad1c",
   "metadata": {
    "id": "26c4ad1c"
   },
   "source": [
    "# Loading data"
   ]
  },
  {
   "cell_type": "code",
   "execution_count": 2,
   "id": "5ff91d10",
   "metadata": {
    "id": "5ff91d10"
   },
   "outputs": [],
   "source": [
    "data_fake_reviews = pd.read_csv('./fake reviews dataset.csv')"
   ]
  },
  {
   "cell_type": "code",
   "execution_count": 3,
   "id": "be07a069",
   "metadata": {
    "colab": {
     "base_uri": "https://localhost:8080/"
    },
    "id": "be07a069",
    "outputId": "8692476b-c073-4a0c-cbdc-71944d599688"
   },
   "outputs": [
    {
     "data": {
      "text/plain": [
       "(40432, 4)"
      ]
     },
     "execution_count": 3,
     "metadata": {},
     "output_type": "execute_result"
    }
   ],
   "source": [
    "data_fake_reviews.shape"
   ]
  },
  {
   "cell_type": "code",
   "execution_count": 4,
   "id": "5e24fb8a",
   "metadata": {
    "colab": {
     "base_uri": "https://localhost:8080/",
     "height": 206
    },
    "id": "5e24fb8a",
    "outputId": "c9272d39-eab6-45d6-a2a1-bbc5c7529fc8"
   },
   "outputs": [
    {
     "data": {
      "text/html": [
       "\n",
       "\n",
       "  <div id=\"df-d62bac8e-b786-4e57-9c2c-52f0aca71400\">\n",
       "    <div class=\"colab-df-container\">\n",
       "      <div>\n",
       "<style scoped>\n",
       "    .dataframe tbody tr th:only-of-type {\n",
       "        vertical-align: middle;\n",
       "    }\n",
       "\n",
       "    .dataframe tbody tr th {\n",
       "        vertical-align: top;\n",
       "    }\n",
       "\n",
       "    .dataframe thead th {\n",
       "        text-align: right;\n",
       "    }\n",
       "</style>\n",
       "<table border=\"1\" class=\"dataframe\">\n",
       "  <thead>\n",
       "    <tr style=\"text-align: right;\">\n",
       "      <th></th>\n",
       "      <th>category</th>\n",
       "      <th>rating</th>\n",
       "      <th>label</th>\n",
       "      <th>text_</th>\n",
       "    </tr>\n",
       "  </thead>\n",
       "  <tbody>\n",
       "    <tr>\n",
       "      <th>0</th>\n",
       "      <td>Home_and_Kitchen_5</td>\n",
       "      <td>5.0</td>\n",
       "      <td>CG</td>\n",
       "      <td>Love this!  Well made, sturdy, and very comfor...</td>\n",
       "    </tr>\n",
       "    <tr>\n",
       "      <th>1</th>\n",
       "      <td>Home_and_Kitchen_5</td>\n",
       "      <td>5.0</td>\n",
       "      <td>CG</td>\n",
       "      <td>love it, a great upgrade from the original.  I...</td>\n",
       "    </tr>\n",
       "    <tr>\n",
       "      <th>2</th>\n",
       "      <td>Home_and_Kitchen_5</td>\n",
       "      <td>5.0</td>\n",
       "      <td>CG</td>\n",
       "      <td>This pillow saved my back. I love the look and...</td>\n",
       "    </tr>\n",
       "    <tr>\n",
       "      <th>3</th>\n",
       "      <td>Home_and_Kitchen_5</td>\n",
       "      <td>1.0</td>\n",
       "      <td>CG</td>\n",
       "      <td>Missing information on how to use it, but it i...</td>\n",
       "    </tr>\n",
       "    <tr>\n",
       "      <th>4</th>\n",
       "      <td>Home_and_Kitchen_5</td>\n",
       "      <td>5.0</td>\n",
       "      <td>CG</td>\n",
       "      <td>Very nice set. Good quality. We have had the s...</td>\n",
       "    </tr>\n",
       "  </tbody>\n",
       "</table>\n",
       "</div>\n",
       "      <button class=\"colab-df-convert\" onclick=\"convertToInteractive('df-d62bac8e-b786-4e57-9c2c-52f0aca71400')\"\n",
       "              title=\"Convert this dataframe to an interactive table.\"\n",
       "              style=\"display:none;\">\n",
       "\n",
       "  <svg xmlns=\"http://www.w3.org/2000/svg\" height=\"24px\"viewBox=\"0 0 24 24\"\n",
       "       width=\"24px\">\n",
       "    <path d=\"M0 0h24v24H0V0z\" fill=\"none\"/>\n",
       "    <path d=\"M18.56 5.44l.94 2.06.94-2.06 2.06-.94-2.06-.94-.94-2.06-.94 2.06-2.06.94zm-11 1L8.5 8.5l.94-2.06 2.06-.94-2.06-.94L8.5 2.5l-.94 2.06-2.06.94zm10 10l.94 2.06.94-2.06 2.06-.94-2.06-.94-.94-2.06-.94 2.06-2.06.94z\"/><path d=\"M17.41 7.96l-1.37-1.37c-.4-.4-.92-.59-1.43-.59-.52 0-1.04.2-1.43.59L10.3 9.45l-7.72 7.72c-.78.78-.78 2.05 0 2.83L4 21.41c.39.39.9.59 1.41.59.51 0 1.02-.2 1.41-.59l7.78-7.78 2.81-2.81c.8-.78.8-2.07 0-2.86zM5.41 20L4 18.59l7.72-7.72 1.47 1.35L5.41 20z\"/>\n",
       "  </svg>\n",
       "      </button>\n",
       "\n",
       "\n",
       "\n",
       "    <div id=\"df-67fcabb3-5381-4d72-b03b-5bb364feb0aa\">\n",
       "      <button class=\"colab-df-quickchart\" onclick=\"quickchart('df-67fcabb3-5381-4d72-b03b-5bb364feb0aa')\"\n",
       "              title=\"Suggest charts.\"\n",
       "              style=\"display:none;\">\n",
       "\n",
       "<svg xmlns=\"http://www.w3.org/2000/svg\" height=\"24px\"viewBox=\"0 0 24 24\"\n",
       "     width=\"24px\">\n",
       "    <g>\n",
       "        <path d=\"M19 3H5c-1.1 0-2 .9-2 2v14c0 1.1.9 2 2 2h14c1.1 0 2-.9 2-2V5c0-1.1-.9-2-2-2zM9 17H7v-7h2v7zm4 0h-2V7h2v10zm4 0h-2v-4h2v4z\"/>\n",
       "    </g>\n",
       "</svg>\n",
       "      </button>\n",
       "    </div>\n",
       "\n",
       "<style>\n",
       "  .colab-df-quickchart {\n",
       "    background-color: #E8F0FE;\n",
       "    border: none;\n",
       "    border-radius: 50%;\n",
       "    cursor: pointer;\n",
       "    display: none;\n",
       "    fill: #1967D2;\n",
       "    height: 32px;\n",
       "    padding: 0 0 0 0;\n",
       "    width: 32px;\n",
       "  }\n",
       "\n",
       "  .colab-df-quickchart:hover {\n",
       "    background-color: #E2EBFA;\n",
       "    box-shadow: 0px 1px 2px rgba(60, 64, 67, 0.3), 0px 1px 3px 1px rgba(60, 64, 67, 0.15);\n",
       "    fill: #174EA6;\n",
       "  }\n",
       "\n",
       "  [theme=dark] .colab-df-quickchart {\n",
       "    background-color: #3B4455;\n",
       "    fill: #D2E3FC;\n",
       "  }\n",
       "\n",
       "  [theme=dark] .colab-df-quickchart:hover {\n",
       "    background-color: #434B5C;\n",
       "    box-shadow: 0px 1px 3px 1px rgba(0, 0, 0, 0.15);\n",
       "    filter: drop-shadow(0px 1px 2px rgba(0, 0, 0, 0.3));\n",
       "    fill: #FFFFFF;\n",
       "  }\n",
       "</style>\n",
       "\n",
       "    <script>\n",
       "      async function quickchart(key) {\n",
       "        const containerElement = document.querySelector('#' + key);\n",
       "        const charts = await google.colab.kernel.invokeFunction(\n",
       "            'suggestCharts', [key], {});\n",
       "      }\n",
       "    </script>\n",
       "\n",
       "      <script>\n",
       "\n",
       "function displayQuickchartButton(domScope) {\n",
       "  let quickchartButtonEl =\n",
       "    domScope.querySelector('#df-67fcabb3-5381-4d72-b03b-5bb364feb0aa button.colab-df-quickchart');\n",
       "  quickchartButtonEl.style.display =\n",
       "    google.colab.kernel.accessAllowed ? 'block' : 'none';\n",
       "}\n",
       "\n",
       "        displayQuickchartButton(document);\n",
       "      </script>\n",
       "      <style>\n",
       "    .colab-df-container {\n",
       "      display:flex;\n",
       "      flex-wrap:wrap;\n",
       "      gap: 12px;\n",
       "    }\n",
       "\n",
       "    .colab-df-convert {\n",
       "      background-color: #E8F0FE;\n",
       "      border: none;\n",
       "      border-radius: 50%;\n",
       "      cursor: pointer;\n",
       "      display: none;\n",
       "      fill: #1967D2;\n",
       "      height: 32px;\n",
       "      padding: 0 0 0 0;\n",
       "      width: 32px;\n",
       "    }\n",
       "\n",
       "    .colab-df-convert:hover {\n",
       "      background-color: #E2EBFA;\n",
       "      box-shadow: 0px 1px 2px rgba(60, 64, 67, 0.3), 0px 1px 3px 1px rgba(60, 64, 67, 0.15);\n",
       "      fill: #174EA6;\n",
       "    }\n",
       "\n",
       "    [theme=dark] .colab-df-convert {\n",
       "      background-color: #3B4455;\n",
       "      fill: #D2E3FC;\n",
       "    }\n",
       "\n",
       "    [theme=dark] .colab-df-convert:hover {\n",
       "      background-color: #434B5C;\n",
       "      box-shadow: 0px 1px 3px 1px rgba(0, 0, 0, 0.15);\n",
       "      filter: drop-shadow(0px 1px 2px rgba(0, 0, 0, 0.3));\n",
       "      fill: #FFFFFF;\n",
       "    }\n",
       "  </style>\n",
       "\n",
       "      <script>\n",
       "        const buttonEl =\n",
       "          document.querySelector('#df-d62bac8e-b786-4e57-9c2c-52f0aca71400 button.colab-df-convert');\n",
       "        buttonEl.style.display =\n",
       "          google.colab.kernel.accessAllowed ? 'block' : 'none';\n",
       "\n",
       "        async function convertToInteractive(key) {\n",
       "          const element = document.querySelector('#df-d62bac8e-b786-4e57-9c2c-52f0aca71400');\n",
       "          const dataTable =\n",
       "            await google.colab.kernel.invokeFunction('convertToInteractive',\n",
       "                                                     [key], {});\n",
       "          if (!dataTable) return;\n",
       "\n",
       "          const docLinkHtml = 'Like what you see? Visit the ' +\n",
       "            '<a target=\"_blank\" href=https://colab.research.google.com/notebooks/data_table.ipynb>data table notebook</a>'\n",
       "            + ' to learn more about interactive tables.';\n",
       "          element.innerHTML = '';\n",
       "          dataTable['output_type'] = 'display_data';\n",
       "          await google.colab.output.renderOutput(dataTable, element);\n",
       "          const docLink = document.createElement('div');\n",
       "          docLink.innerHTML = docLinkHtml;\n",
       "          element.appendChild(docLink);\n",
       "        }\n",
       "      </script>\n",
       "    </div>\n",
       "  </div>\n"
      ],
      "text/plain": [
       "             category  rating label  \\\n",
       "0  Home_and_Kitchen_5     5.0    CG   \n",
       "1  Home_and_Kitchen_5     5.0    CG   \n",
       "2  Home_and_Kitchen_5     5.0    CG   \n",
       "3  Home_and_Kitchen_5     1.0    CG   \n",
       "4  Home_and_Kitchen_5     5.0    CG   \n",
       "\n",
       "                                               text_  \n",
       "0  Love this!  Well made, sturdy, and very comfor...  \n",
       "1  love it, a great upgrade from the original.  I...  \n",
       "2  This pillow saved my back. I love the look and...  \n",
       "3  Missing information on how to use it, but it i...  \n",
       "4  Very nice set. Good quality. We have had the s...  "
      ]
     },
     "execution_count": 4,
     "metadata": {},
     "output_type": "execute_result"
    }
   ],
   "source": [
    "data_fake_reviews.head()"
   ]
  },
  {
   "cell_type": "code",
   "execution_count": 5,
   "id": "1a544dc6",
   "metadata": {
    "colab": {
     "base_uri": "https://localhost:8080/"
    },
    "id": "1a544dc6",
    "outputId": "ef9c9af9-07d0-4a35-c6b3-725ebcf63c7b"
   },
   "outputs": [
    {
     "name": "stdout",
     "output_type": "stream",
     "text": [
      "<class 'pandas.core.frame.DataFrame'>\n",
      "RangeIndex: 40432 entries, 0 to 40431\n",
      "Data columns (total 4 columns):\n",
      " #   Column    Non-Null Count  Dtype  \n",
      "---  ------    --------------  -----  \n",
      " 0   category  40432 non-null  object \n",
      " 1   rating    40432 non-null  float64\n",
      " 2   label     40432 non-null  object \n",
      " 3   text_     40432 non-null  object \n",
      "dtypes: float64(1), object(3)\n",
      "memory usage: 1.2+ MB\n"
     ]
    }
   ],
   "source": [
    "data_fake_reviews.info()"
   ]
  },
  {
   "cell_type": "code",
   "execution_count": 6,
   "id": "bdcc3eac",
   "metadata": {
    "colab": {
     "base_uri": "https://localhost:8080/"
    },
    "id": "bdcc3eac",
    "outputId": "f9109184-981b-450b-c4fa-1c14c6fd5a9d"
   },
   "outputs": [
    {
     "data": {
      "text/plain": [
       "array(['CG', 'OR'], dtype=object)"
      ]
     },
     "execution_count": 6,
     "metadata": {},
     "output_type": "execute_result"
    }
   ],
   "source": [
    "data_fake_reviews.label.unique()"
   ]
  },
  {
   "cell_type": "code",
   "execution_count": 7,
   "id": "a2bbfeff",
   "metadata": {
    "colab": {
     "base_uri": "https://localhost:8080/"
    },
    "id": "a2bbfeff",
    "outputId": "7778ad87-912e-4145-ea17-819a345a6e27"
   },
   "outputs": [
    {
     "data": {
      "text/plain": [
       "Index(['category', 'rating', 'label', 'text_'], dtype='object')"
      ]
     },
     "execution_count": 7,
     "metadata": {},
     "output_type": "execute_result"
    }
   ],
   "source": [
    "data_fake_reviews.columns"
   ]
  },
  {
   "cell_type": "markdown",
   "id": "84a4b327",
   "metadata": {
    "id": "84a4b327"
   },
   "source": [
    "# Obtain the training dataset and validation dataset"
   ]
  },
  {
   "cell_type": "code",
   "execution_count": 8,
   "id": "4bc2d7a2",
   "metadata": {
    "id": "4bc2d7a2"
   },
   "outputs": [],
   "source": [
    "dict_target = {'CG':0, 'OR':1}\n",
    "def encode_label(x):\n",
    "    return dict_target.get(x,-1)"
   ]
  },
  {
   "cell_type": "code",
   "execution_count": 9,
   "id": "ebb80fce",
   "metadata": {
    "id": "ebb80fce"
   },
   "outputs": [],
   "source": [
    "data_fake_reviews[\"target\"] = data_fake_reviews[\"label\"].apply(lambda x: encode_label(x))"
   ]
  },
  {
   "cell_type": "code",
   "execution_count": 10,
   "id": "6be35d60",
   "metadata": {
    "id": "6be35d60"
   },
   "outputs": [],
   "source": [
    "# Split the data into training and validation sets\n",
    "train_dataset, tv_dataset = train_test_split(data_fake_reviews, test_size=0.4, shuffle=True, stratify=None, random_state=2021)"
   ]
  },
  {
   "cell_type": "code",
   "execution_count": 11,
   "id": "unEAIZfdTGFm",
   "metadata": {
    "id": "unEAIZfdTGFm"
   },
   "outputs": [],
   "source": [
    "test_dataset_raw, valid_dataset = train_test_split(tv_dataset, test_size=0.5, shuffle=True, stratify=None, random_state=2021)"
   ]
  },
  {
   "cell_type": "code",
   "execution_count": 12,
   "id": "888f5940",
   "metadata": {
    "id": "888f5940"
   },
   "outputs": [],
   "source": [
    "# Load the tokenizer\n",
    "tokenizer = RobertaTokenizer.from_pretrained('roberta-base')"
   ]
  },
  {
   "cell_type": "code",
   "execution_count": 13,
   "id": "8193d2a8",
   "metadata": {
    "id": "8193d2a8"
   },
   "outputs": [],
   "source": [
    "# Tokenize the data\n",
    "train_encodings = tokenizer(train_dataset['text_'].tolist(), truncation=True, padding=True, max_length=256)\n",
    "valid_encodings = tokenizer(valid_dataset['text_'].tolist(), truncation=True, padding=True, max_length=256)\n",
    "test_encodings = tokenizer(test_dataset_raw['text_'].tolist(), truncation=True, padding=True, max_length=256)"
   ]
  },
  {
   "cell_type": "code",
   "execution_count": 15,
   "id": "0844d8af",
   "metadata": {
    "id": "0844d8af"
   },
   "outputs": [],
   "source": [
    "# Convert the data to TensorFlow tensors\n",
    "train_dataset = tf.data.Dataset.from_tensor_slices((\n",
    "    dict(train_encodings),\n",
    "    train_dataset['target'].values\n",
    "))\n",
    "valid_dataset = tf.data.Dataset.from_tensor_slices((\n",
    "    dict(valid_encodings),\n",
    "    valid_dataset['target'].values\n",
    "))\n",
    "test_dataset = tf.data.Dataset.from_tensor_slices((\n",
    "    dict(test_encodings),\n",
    "    test_dataset_raw['target'].values\n",
    "))"
   ]
  },
  {
   "cell_type": "markdown",
   "id": "95ea540d",
   "metadata": {
    "id": "95ea540d"
   },
   "source": [
    "# Load the model"
   ]
  },
  {
   "cell_type": "code",
   "execution_count": 16,
   "id": "dd06c222",
   "metadata": {
    "colab": {
     "base_uri": "https://localhost:8080/"
    },
    "id": "dd06c222",
    "outputId": "fbdaec90-bff2-4ee7-b29f-29c6b1f4ad4a"
   },
   "outputs": [
    {
     "name": "stderr",
     "output_type": "stream",
     "text": [
      "Some weights of the PyTorch model were not used when initializing the TF 2.0 model TFRobertaForSequenceClassification: ['roberta.embeddings.position_ids']\n",
      "- This IS expected if you are initializing TFRobertaForSequenceClassification from a PyTorch model trained on another task or with another architecture (e.g. initializing a TFBertForSequenceClassification model from a BertForPreTraining model).\n",
      "- This IS NOT expected if you are initializing TFRobertaForSequenceClassification from a PyTorch model that you expect to be exactly identical (e.g. initializing a TFBertForSequenceClassification model from a BertForSequenceClassification model).\n",
      "Some weights or buffers of the TF 2.0 model TFRobertaForSequenceClassification were not initialized from the PyTorch model and are newly initialized: ['classifier.dense.weight', 'classifier.dense.bias', 'classifier.out_proj.weight', 'classifier.out_proj.bias']\n",
      "You should probably TRAIN this model on a down-stream task to be able to use it for predictions and inference.\n"
     ]
    }
   ],
   "source": [
    "# Load the model\n",
    "model = TFRobertaForSequenceClassification.from_pretrained('roberta-base')\n",
    "\n"
   ]
  },
  {
   "cell_type": "code",
   "execution_count": 17,
   "id": "124e430c",
   "metadata": {
    "id": "124e430c"
   },
   "outputs": [],
   "source": [
    "\n",
    "# Compile the model\n",
    "model.compile(optimizer=tf.keras.optimizers.Adam(learning_rate=1e-5),\n",
    "              loss=tf.keras.losses.SparseCategoricalCrossentropy(from_logits=True),\n",
    "              metrics=['accuracy'])"
   ]
  },
  {
   "cell_type": "code",
   "execution_count": 18,
   "id": "54f84725",
   "metadata": {
    "colab": {
     "base_uri": "https://localhost:8080/"
    },
    "id": "54f84725",
    "outputId": "52dc54aa-eea4-4277-b95c-cb8859ca6567"
   },
   "outputs": [
    {
     "name": "stdout",
     "output_type": "stream",
     "text": [
      "1517/1517 [==============================] - 1525s 967ms/step - loss: 0.1325 - accuracy: 0.9462 - val_loss: 0.1024 - val_accuracy: 0.9596\n"
     ]
    },
    {
     "data": {
      "text/plain": [
       "<keras.callbacks.History at 0x7ddbf12af8b0>"
      ]
     },
     "execution_count": 18,
     "metadata": {},
     "output_type": "execute_result"
    }
   ],
   "source": [
    "\n",
    "# Train the model\n",
    "model.fit(train_dataset.shuffle(1000).batch(16), epochs=1, batch_size=16, validation_data=valid_dataset.batch(16))"
   ]
  },
  {
   "cell_type": "markdown",
   "id": "fULjTN2qN2ZY",
   "metadata": {
    "id": "fULjTN2qN2ZY"
   },
   "source": [
    "# evaluate the performance"
   ]
  },
  {
   "cell_type": "code",
   "execution_count": 19,
   "id": "fc31b0f6",
   "metadata": {
    "colab": {
     "base_uri": "https://localhost:8080/"
    },
    "id": "fc31b0f6",
    "outputId": "02cc0435-f8dc-4b9b-c9b0-7d956b427d5d"
   },
   "outputs": [
    {
     "name": "stdout",
     "output_type": "stream",
     "text": [
      "506/506 [==============================] - 155s 291ms/step\n",
      "              precision    recall  f1-score   support\n",
      "\n",
      "          CG       0.93      1.00      0.96      3974\n",
      "          OR       1.00      0.93      0.96      4112\n",
      "\n",
      "    accuracy                           0.96      8086\n",
      "   macro avg       0.96      0.96      0.96      8086\n",
      "weighted avg       0.96      0.96      0.96      8086\n",
      "\n"
     ]
    }
   ],
   "source": [
    "from sklearn.metrics import classification_report\n",
    "import numpy as np\n",
    "# Make predictions on the validation dataset\n",
    "test_dataset_batched = test_dataset.batch(16)\n",
    "y_pred_raw = model.predict(test_dataset_batched)\n",
    "\n",
    "# Convert raw predictions to class predictions\n",
    "y_pred = np.argmax(y_pred_raw.logits, axis=1)\n",
    "\n",
    "# Get the actual class labels\n",
    "y_true = []\n",
    "for features, label in test_dataset:\n",
    "    y_true.append(label.numpy())\n",
    "y_true = np.array(y_true)\n",
    "\n",
    "\n",
    "# Generate a classification report\n",
    "report = classification_report(y_true, y_pred, target_names=[\"CG\", \"OR\"])  # replace target_names with your actual class names\n",
    "print(report)\n"
   ]
  },
  {
   "cell_type": "code",
   "execution_count": null,
   "id": "78f2add8",
   "metadata": {
    "colab": {
     "base_uri": "https://localhost:8080/"
    },
    "id": "78f2add8",
    "outputId": "b5135bd6-4d78-43f8-9c31-d554b166f631"
   },
   "outputs": [
    {
     "name": "stderr",
     "output_type": "stream",
     "text": [
      "WARNING:absl:Found untraced functions such as encoder_layer_call_fn, encoder_layer_call_and_return_conditional_losses, embeddings_layer_call_fn, embeddings_layer_call_and_return_conditional_losses, dense_layer_call_fn while saving (showing 5 of 422). These functions will not be directly callable after loading.\n"
     ]
    }
   ],
   "source": [
    "model.save('my_model_fake_reviews')\n",
    "\n"
   ]
  },
  {
   "cell_type": "code",
   "execution_count": null,
   "id": "y2sWhHmpuaCO",
   "metadata": {
    "id": "y2sWhHmpuaCO"
   },
   "outputs": [],
   "source": []
  },
  {
   "cell_type": "code",
   "execution_count": null,
   "id": "MLyJMwSCua38",
   "metadata": {
    "id": "MLyJMwSCua38"
   },
   "outputs": [],
   "source": []
  },
  {
   "cell_type": "markdown",
   "id": "AsztkdYsubdn",
   "metadata": {
    "id": "AsztkdYsubdn"
   },
   "source": [
    "# Test dataset with 150\n"
   ]
  },
  {
   "cell_type": "code",
   "execution_count": 21,
   "id": "1aRzr41KiekI",
   "metadata": {
    "colab": {
     "base_uri": "https://localhost:8080/"
    },
    "id": "1aRzr41KiekI",
    "outputId": "fc5c354e-bec3-4c1e-e46b-05f7252f91af"
   },
   "outputs": [
    {
     "data": {
      "text/plain": [
       "(8086, 5)"
      ]
     },
     "execution_count": 21,
     "metadata": {},
     "output_type": "execute_result"
    }
   ],
   "source": [
    "test_dataset_raw.shape"
   ]
  },
  {
   "cell_type": "code",
   "execution_count": 22,
   "id": "txTILS5nieuK",
   "metadata": {
    "colab": {
     "base_uri": "https://localhost:8080/",
     "height": 206
    },
    "id": "txTILS5nieuK",
    "outputId": "319a1549-6cf9-4064-d82c-91d4c494c70f"
   },
   "outputs": [
    {
     "data": {
      "text/html": [
       "\n",
       "\n",
       "  <div id=\"df-32b9f740-cdd8-4f27-9d13-d46cd908eb50\">\n",
       "    <div class=\"colab-df-container\">\n",
       "      <div>\n",
       "<style scoped>\n",
       "    .dataframe tbody tr th:only-of-type {\n",
       "        vertical-align: middle;\n",
       "    }\n",
       "\n",
       "    .dataframe tbody tr th {\n",
       "        vertical-align: top;\n",
       "    }\n",
       "\n",
       "    .dataframe thead th {\n",
       "        text-align: right;\n",
       "    }\n",
       "</style>\n",
       "<table border=\"1\" class=\"dataframe\">\n",
       "  <thead>\n",
       "    <tr style=\"text-align: right;\">\n",
       "      <th></th>\n",
       "      <th>category</th>\n",
       "      <th>rating</th>\n",
       "      <th>label</th>\n",
       "      <th>text_</th>\n",
       "      <th>target</th>\n",
       "    </tr>\n",
       "  </thead>\n",
       "  <tbody>\n",
       "    <tr>\n",
       "      <th>31179</th>\n",
       "      <td>Books_5</td>\n",
       "      <td>5.0</td>\n",
       "      <td>CG</td>\n",
       "      <td>Rick Bragg is one of the most entertaining cha...</td>\n",
       "      <td>0</td>\n",
       "    </tr>\n",
       "    <tr>\n",
       "      <th>26353</th>\n",
       "      <td>Kindle_Store_5</td>\n",
       "      <td>5.0</td>\n",
       "      <td>CG</td>\n",
       "      <td>Ms. Rasley's prose never fails to capture the ...</td>\n",
       "      <td>0</td>\n",
       "    </tr>\n",
       "    <tr>\n",
       "      <th>9403</th>\n",
       "      <td>Electronics_5</td>\n",
       "      <td>5.0</td>\n",
       "      <td>OR</td>\n",
       "      <td>Rebuilt my PC from the ground up and I absolut...</td>\n",
       "      <td>1</td>\n",
       "    </tr>\n",
       "    <tr>\n",
       "      <th>13753</th>\n",
       "      <td>Movies_and_TV_5</td>\n",
       "      <td>5.0</td>\n",
       "      <td>CG</td>\n",
       "      <td>An awesome show! Got a few of the movies on dv...</td>\n",
       "      <td>0</td>\n",
       "    </tr>\n",
       "    <tr>\n",
       "      <th>19789</th>\n",
       "      <td>Pet_Supplies_5</td>\n",
       "      <td>5.0</td>\n",
       "      <td>OR</td>\n",
       "      <td>Highly recommend this brand of milk replacer, ...</td>\n",
       "      <td>1</td>\n",
       "    </tr>\n",
       "  </tbody>\n",
       "</table>\n",
       "</div>\n",
       "      <button class=\"colab-df-convert\" onclick=\"convertToInteractive('df-32b9f740-cdd8-4f27-9d13-d46cd908eb50')\"\n",
       "              title=\"Convert this dataframe to an interactive table.\"\n",
       "              style=\"display:none;\">\n",
       "\n",
       "  <svg xmlns=\"http://www.w3.org/2000/svg\" height=\"24px\"viewBox=\"0 0 24 24\"\n",
       "       width=\"24px\">\n",
       "    <path d=\"M0 0h24v24H0V0z\" fill=\"none\"/>\n",
       "    <path d=\"M18.56 5.44l.94 2.06.94-2.06 2.06-.94-2.06-.94-.94-2.06-.94 2.06-2.06.94zm-11 1L8.5 8.5l.94-2.06 2.06-.94-2.06-.94L8.5 2.5l-.94 2.06-2.06.94zm10 10l.94 2.06.94-2.06 2.06-.94-2.06-.94-.94-2.06-.94 2.06-2.06.94z\"/><path d=\"M17.41 7.96l-1.37-1.37c-.4-.4-.92-.59-1.43-.59-.52 0-1.04.2-1.43.59L10.3 9.45l-7.72 7.72c-.78.78-.78 2.05 0 2.83L4 21.41c.39.39.9.59 1.41.59.51 0 1.02-.2 1.41-.59l7.78-7.78 2.81-2.81c.8-.78.8-2.07 0-2.86zM5.41 20L4 18.59l7.72-7.72 1.47 1.35L5.41 20z\"/>\n",
       "  </svg>\n",
       "      </button>\n",
       "\n",
       "\n",
       "\n",
       "    <div id=\"df-663802bb-0e34-4b49-8b62-65f3b111dde8\">\n",
       "      <button class=\"colab-df-quickchart\" onclick=\"quickchart('df-663802bb-0e34-4b49-8b62-65f3b111dde8')\"\n",
       "              title=\"Suggest charts.\"\n",
       "              style=\"display:none;\">\n",
       "\n",
       "<svg xmlns=\"http://www.w3.org/2000/svg\" height=\"24px\"viewBox=\"0 0 24 24\"\n",
       "     width=\"24px\">\n",
       "    <g>\n",
       "        <path d=\"M19 3H5c-1.1 0-2 .9-2 2v14c0 1.1.9 2 2 2h14c1.1 0 2-.9 2-2V5c0-1.1-.9-2-2-2zM9 17H7v-7h2v7zm4 0h-2V7h2v10zm4 0h-2v-4h2v4z\"/>\n",
       "    </g>\n",
       "</svg>\n",
       "      </button>\n",
       "    </div>\n",
       "\n",
       "<style>\n",
       "  .colab-df-quickchart {\n",
       "    background-color: #E8F0FE;\n",
       "    border: none;\n",
       "    border-radius: 50%;\n",
       "    cursor: pointer;\n",
       "    display: none;\n",
       "    fill: #1967D2;\n",
       "    height: 32px;\n",
       "    padding: 0 0 0 0;\n",
       "    width: 32px;\n",
       "  }\n",
       "\n",
       "  .colab-df-quickchart:hover {\n",
       "    background-color: #E2EBFA;\n",
       "    box-shadow: 0px 1px 2px rgba(60, 64, 67, 0.3), 0px 1px 3px 1px rgba(60, 64, 67, 0.15);\n",
       "    fill: #174EA6;\n",
       "  }\n",
       "\n",
       "  [theme=dark] .colab-df-quickchart {\n",
       "    background-color: #3B4455;\n",
       "    fill: #D2E3FC;\n",
       "  }\n",
       "\n",
       "  [theme=dark] .colab-df-quickchart:hover {\n",
       "    background-color: #434B5C;\n",
       "    box-shadow: 0px 1px 3px 1px rgba(0, 0, 0, 0.15);\n",
       "    filter: drop-shadow(0px 1px 2px rgba(0, 0, 0, 0.3));\n",
       "    fill: #FFFFFF;\n",
       "  }\n",
       "</style>\n",
       "\n",
       "    <script>\n",
       "      async function quickchart(key) {\n",
       "        const containerElement = document.querySelector('#' + key);\n",
       "        const charts = await google.colab.kernel.invokeFunction(\n",
       "            'suggestCharts', [key], {});\n",
       "      }\n",
       "    </script>\n",
       "\n",
       "      <script>\n",
       "\n",
       "function displayQuickchartButton(domScope) {\n",
       "  let quickchartButtonEl =\n",
       "    domScope.querySelector('#df-663802bb-0e34-4b49-8b62-65f3b111dde8 button.colab-df-quickchart');\n",
       "  quickchartButtonEl.style.display =\n",
       "    google.colab.kernel.accessAllowed ? 'block' : 'none';\n",
       "}\n",
       "\n",
       "        displayQuickchartButton(document);\n",
       "      </script>\n",
       "      <style>\n",
       "    .colab-df-container {\n",
       "      display:flex;\n",
       "      flex-wrap:wrap;\n",
       "      gap: 12px;\n",
       "    }\n",
       "\n",
       "    .colab-df-convert {\n",
       "      background-color: #E8F0FE;\n",
       "      border: none;\n",
       "      border-radius: 50%;\n",
       "      cursor: pointer;\n",
       "      display: none;\n",
       "      fill: #1967D2;\n",
       "      height: 32px;\n",
       "      padding: 0 0 0 0;\n",
       "      width: 32px;\n",
       "    }\n",
       "\n",
       "    .colab-df-convert:hover {\n",
       "      background-color: #E2EBFA;\n",
       "      box-shadow: 0px 1px 2px rgba(60, 64, 67, 0.3), 0px 1px 3px 1px rgba(60, 64, 67, 0.15);\n",
       "      fill: #174EA6;\n",
       "    }\n",
       "\n",
       "    [theme=dark] .colab-df-convert {\n",
       "      background-color: #3B4455;\n",
       "      fill: #D2E3FC;\n",
       "    }\n",
       "\n",
       "    [theme=dark] .colab-df-convert:hover {\n",
       "      background-color: #434B5C;\n",
       "      box-shadow: 0px 1px 3px 1px rgba(0, 0, 0, 0.15);\n",
       "      filter: drop-shadow(0px 1px 2px rgba(0, 0, 0, 0.3));\n",
       "      fill: #FFFFFF;\n",
       "    }\n",
       "  </style>\n",
       "\n",
       "      <script>\n",
       "        const buttonEl =\n",
       "          document.querySelector('#df-32b9f740-cdd8-4f27-9d13-d46cd908eb50 button.colab-df-convert');\n",
       "        buttonEl.style.display =\n",
       "          google.colab.kernel.accessAllowed ? 'block' : 'none';\n",
       "\n",
       "        async function convertToInteractive(key) {\n",
       "          const element = document.querySelector('#df-32b9f740-cdd8-4f27-9d13-d46cd908eb50');\n",
       "          const dataTable =\n",
       "            await google.colab.kernel.invokeFunction('convertToInteractive',\n",
       "                                                     [key], {});\n",
       "          if (!dataTable) return;\n",
       "\n",
       "          const docLinkHtml = 'Like what you see? Visit the ' +\n",
       "            '<a target=\"_blank\" href=https://colab.research.google.com/notebooks/data_table.ipynb>data table notebook</a>'\n",
       "            + ' to learn more about interactive tables.';\n",
       "          element.innerHTML = '';\n",
       "          dataTable['output_type'] = 'display_data';\n",
       "          await google.colab.output.renderOutput(dataTable, element);\n",
       "          const docLink = document.createElement('div');\n",
       "          docLink.innerHTML = docLinkHtml;\n",
       "          element.appendChild(docLink);\n",
       "        }\n",
       "      </script>\n",
       "    </div>\n",
       "  </div>\n"
      ],
      "text/plain": [
       "              category  rating label  \\\n",
       "31179          Books_5     5.0    CG   \n",
       "26353   Kindle_Store_5     5.0    CG   \n",
       "9403     Electronics_5     5.0    OR   \n",
       "13753  Movies_and_TV_5     5.0    CG   \n",
       "19789   Pet_Supplies_5     5.0    OR   \n",
       "\n",
       "                                                   text_  target  \n",
       "31179  Rick Bragg is one of the most entertaining cha...       0  \n",
       "26353  Ms. Rasley's prose never fails to capture the ...       0  \n",
       "9403   Rebuilt my PC from the ground up and I absolut...       1  \n",
       "13753  An awesome show! Got a few of the movies on dv...       0  \n",
       "19789  Highly recommend this brand of milk replacer, ...       1  "
      ]
     },
     "execution_count": 22,
     "metadata": {},
     "output_type": "execute_result"
    }
   ],
   "source": [
    "test_dataset_raw.head()"
   ]
  },
  {
   "cell_type": "code",
   "execution_count": 23,
   "id": "SFW65Ne8ie1c",
   "metadata": {
    "id": "SFW65Ne8ie1c"
   },
   "outputs": [],
   "source": [
    "test_dataset_raw_0 = test_dataset_raw[test_dataset_raw['target']==0]"
   ]
  },
  {
   "cell_type": "code",
   "execution_count": 24,
   "id": "3YX69rM1sCcg",
   "metadata": {
    "colab": {
     "base_uri": "https://localhost:8080/"
    },
    "id": "3YX69rM1sCcg",
    "outputId": "916f99b5-344c-4c9e-e9c4-78830117ca45"
   },
   "outputs": [
    {
     "data": {
      "text/plain": [
       "(3974, 5)"
      ]
     },
     "execution_count": 24,
     "metadata": {},
     "output_type": "execute_result"
    }
   ],
   "source": [
    "test_dataset_raw_0.shape"
   ]
  },
  {
   "cell_type": "code",
   "execution_count": 25,
   "id": "e6-Vagh6ie8e",
   "metadata": {
    "id": "e6-Vagh6ie8e"
   },
   "outputs": [],
   "source": [
    "random_50_rows = test_dataset_raw_0.sample(n=50)\n",
    "\n",
    "# Build the new DataFrame using the randomly selected rows\n",
    "test_dataset_raw_0_50 = pd.DataFrame(random_50_rows)"
   ]
  },
  {
   "cell_type": "code",
   "execution_count": 28,
   "id": "ypKe1AlvifCf",
   "metadata": {
    "colab": {
     "base_uri": "https://localhost:8080/",
     "height": 206
    },
    "id": "ypKe1AlvifCf",
    "outputId": "85c93814-3119-43dd-b86f-d941c12c8b21"
   },
   "outputs": [
    {
     "data": {
      "text/html": [
       "\n",
       "\n",
       "  <div id=\"df-27c85005-d3e2-43a5-ab52-a72ab91539d1\">\n",
       "    <div class=\"colab-df-container\">\n",
       "      <div>\n",
       "<style scoped>\n",
       "    .dataframe tbody tr th:only-of-type {\n",
       "        vertical-align: middle;\n",
       "    }\n",
       "\n",
       "    .dataframe tbody tr th {\n",
       "        vertical-align: top;\n",
       "    }\n",
       "\n",
       "    .dataframe thead th {\n",
       "        text-align: right;\n",
       "    }\n",
       "</style>\n",
       "<table border=\"1\" class=\"dataframe\">\n",
       "  <thead>\n",
       "    <tr style=\"text-align: right;\">\n",
       "      <th></th>\n",
       "      <th>category</th>\n",
       "      <th>rating</th>\n",
       "      <th>label</th>\n",
       "      <th>text_</th>\n",
       "      <th>target</th>\n",
       "    </tr>\n",
       "  </thead>\n",
       "  <tbody>\n",
       "    <tr>\n",
       "      <th>19080</th>\n",
       "      <td>Tools_and_Home_Improvement_5</td>\n",
       "      <td>5.0</td>\n",
       "      <td>CG</td>\n",
       "      <td>I really like the Skeletool.  I have an old Sk...</td>\n",
       "      <td>0</td>\n",
       "    </tr>\n",
       "    <tr>\n",
       "      <th>37380</th>\n",
       "      <td>Clothing_Shoes_and_Jewelry_5</td>\n",
       "      <td>5.0</td>\n",
       "      <td>CG</td>\n",
       "      <td>Well made belt. High quality material. The onl...</td>\n",
       "      <td>0</td>\n",
       "    </tr>\n",
       "    <tr>\n",
       "      <th>6466</th>\n",
       "      <td>Sports_and_Outdoors_5</td>\n",
       "      <td>5.0</td>\n",
       "      <td>CG</td>\n",
       "      <td>Perfect for 18\" inch dolls. The only problem i...</td>\n",
       "      <td>0</td>\n",
       "    </tr>\n",
       "    <tr>\n",
       "      <th>3934</th>\n",
       "      <td>Home_and_Kitchen_5</td>\n",
       "      <td>3.0</td>\n",
       "      <td>CG</td>\n",
       "      <td>This Martha Stewart pom-pom flower pot.  It's ...</td>\n",
       "      <td>0</td>\n",
       "    </tr>\n",
       "    <tr>\n",
       "      <th>33275</th>\n",
       "      <td>Toys_and_Games_5</td>\n",
       "      <td>5.0</td>\n",
       "      <td>CG</td>\n",
       "      <td>I can't say enough good things about this prod...</td>\n",
       "      <td>0</td>\n",
       "    </tr>\n",
       "  </tbody>\n",
       "</table>\n",
       "</div>\n",
       "      <button class=\"colab-df-convert\" onclick=\"convertToInteractive('df-27c85005-d3e2-43a5-ab52-a72ab91539d1')\"\n",
       "              title=\"Convert this dataframe to an interactive table.\"\n",
       "              style=\"display:none;\">\n",
       "\n",
       "  <svg xmlns=\"http://www.w3.org/2000/svg\" height=\"24px\"viewBox=\"0 0 24 24\"\n",
       "       width=\"24px\">\n",
       "    <path d=\"M0 0h24v24H0V0z\" fill=\"none\"/>\n",
       "    <path d=\"M18.56 5.44l.94 2.06.94-2.06 2.06-.94-2.06-.94-.94-2.06-.94 2.06-2.06.94zm-11 1L8.5 8.5l.94-2.06 2.06-.94-2.06-.94L8.5 2.5l-.94 2.06-2.06.94zm10 10l.94 2.06.94-2.06 2.06-.94-2.06-.94-.94-2.06-.94 2.06-2.06.94z\"/><path d=\"M17.41 7.96l-1.37-1.37c-.4-.4-.92-.59-1.43-.59-.52 0-1.04.2-1.43.59L10.3 9.45l-7.72 7.72c-.78.78-.78 2.05 0 2.83L4 21.41c.39.39.9.59 1.41.59.51 0 1.02-.2 1.41-.59l7.78-7.78 2.81-2.81c.8-.78.8-2.07 0-2.86zM5.41 20L4 18.59l7.72-7.72 1.47 1.35L5.41 20z\"/>\n",
       "  </svg>\n",
       "      </button>\n",
       "\n",
       "\n",
       "\n",
       "    <div id=\"df-940422db-26a4-4428-9a50-cd95c1c48a22\">\n",
       "      <button class=\"colab-df-quickchart\" onclick=\"quickchart('df-940422db-26a4-4428-9a50-cd95c1c48a22')\"\n",
       "              title=\"Suggest charts.\"\n",
       "              style=\"display:none;\">\n",
       "\n",
       "<svg xmlns=\"http://www.w3.org/2000/svg\" height=\"24px\"viewBox=\"0 0 24 24\"\n",
       "     width=\"24px\">\n",
       "    <g>\n",
       "        <path d=\"M19 3H5c-1.1 0-2 .9-2 2v14c0 1.1.9 2 2 2h14c1.1 0 2-.9 2-2V5c0-1.1-.9-2-2-2zM9 17H7v-7h2v7zm4 0h-2V7h2v10zm4 0h-2v-4h2v4z\"/>\n",
       "    </g>\n",
       "</svg>\n",
       "      </button>\n",
       "    </div>\n",
       "\n",
       "<style>\n",
       "  .colab-df-quickchart {\n",
       "    background-color: #E8F0FE;\n",
       "    border: none;\n",
       "    border-radius: 50%;\n",
       "    cursor: pointer;\n",
       "    display: none;\n",
       "    fill: #1967D2;\n",
       "    height: 32px;\n",
       "    padding: 0 0 0 0;\n",
       "    width: 32px;\n",
       "  }\n",
       "\n",
       "  .colab-df-quickchart:hover {\n",
       "    background-color: #E2EBFA;\n",
       "    box-shadow: 0px 1px 2px rgba(60, 64, 67, 0.3), 0px 1px 3px 1px rgba(60, 64, 67, 0.15);\n",
       "    fill: #174EA6;\n",
       "  }\n",
       "\n",
       "  [theme=dark] .colab-df-quickchart {\n",
       "    background-color: #3B4455;\n",
       "    fill: #D2E3FC;\n",
       "  }\n",
       "\n",
       "  [theme=dark] .colab-df-quickchart:hover {\n",
       "    background-color: #434B5C;\n",
       "    box-shadow: 0px 1px 3px 1px rgba(0, 0, 0, 0.15);\n",
       "    filter: drop-shadow(0px 1px 2px rgba(0, 0, 0, 0.3));\n",
       "    fill: #FFFFFF;\n",
       "  }\n",
       "</style>\n",
       "\n",
       "    <script>\n",
       "      async function quickchart(key) {\n",
       "        const containerElement = document.querySelector('#' + key);\n",
       "        const charts = await google.colab.kernel.invokeFunction(\n",
       "            'suggestCharts', [key], {});\n",
       "      }\n",
       "    </script>\n",
       "\n",
       "      <script>\n",
       "\n",
       "function displayQuickchartButton(domScope) {\n",
       "  let quickchartButtonEl =\n",
       "    domScope.querySelector('#df-940422db-26a4-4428-9a50-cd95c1c48a22 button.colab-df-quickchart');\n",
       "  quickchartButtonEl.style.display =\n",
       "    google.colab.kernel.accessAllowed ? 'block' : 'none';\n",
       "}\n",
       "\n",
       "        displayQuickchartButton(document);\n",
       "      </script>\n",
       "      <style>\n",
       "    .colab-df-container {\n",
       "      display:flex;\n",
       "      flex-wrap:wrap;\n",
       "      gap: 12px;\n",
       "    }\n",
       "\n",
       "    .colab-df-convert {\n",
       "      background-color: #E8F0FE;\n",
       "      border: none;\n",
       "      border-radius: 50%;\n",
       "      cursor: pointer;\n",
       "      display: none;\n",
       "      fill: #1967D2;\n",
       "      height: 32px;\n",
       "      padding: 0 0 0 0;\n",
       "      width: 32px;\n",
       "    }\n",
       "\n",
       "    .colab-df-convert:hover {\n",
       "      background-color: #E2EBFA;\n",
       "      box-shadow: 0px 1px 2px rgba(60, 64, 67, 0.3), 0px 1px 3px 1px rgba(60, 64, 67, 0.15);\n",
       "      fill: #174EA6;\n",
       "    }\n",
       "\n",
       "    [theme=dark] .colab-df-convert {\n",
       "      background-color: #3B4455;\n",
       "      fill: #D2E3FC;\n",
       "    }\n",
       "\n",
       "    [theme=dark] .colab-df-convert:hover {\n",
       "      background-color: #434B5C;\n",
       "      box-shadow: 0px 1px 3px 1px rgba(0, 0, 0, 0.15);\n",
       "      filter: drop-shadow(0px 1px 2px rgba(0, 0, 0, 0.3));\n",
       "      fill: #FFFFFF;\n",
       "    }\n",
       "  </style>\n",
       "\n",
       "      <script>\n",
       "        const buttonEl =\n",
       "          document.querySelector('#df-27c85005-d3e2-43a5-ab52-a72ab91539d1 button.colab-df-convert');\n",
       "        buttonEl.style.display =\n",
       "          google.colab.kernel.accessAllowed ? 'block' : 'none';\n",
       "\n",
       "        async function convertToInteractive(key) {\n",
       "          const element = document.querySelector('#df-27c85005-d3e2-43a5-ab52-a72ab91539d1');\n",
       "          const dataTable =\n",
       "            await google.colab.kernel.invokeFunction('convertToInteractive',\n",
       "                                                     [key], {});\n",
       "          if (!dataTable) return;\n",
       "\n",
       "          const docLinkHtml = 'Like what you see? Visit the ' +\n",
       "            '<a target=\"_blank\" href=https://colab.research.google.com/notebooks/data_table.ipynb>data table notebook</a>'\n",
       "            + ' to learn more about interactive tables.';\n",
       "          element.innerHTML = '';\n",
       "          dataTable['output_type'] = 'display_data';\n",
       "          await google.colab.output.renderOutput(dataTable, element);\n",
       "          const docLink = document.createElement('div');\n",
       "          docLink.innerHTML = docLinkHtml;\n",
       "          element.appendChild(docLink);\n",
       "        }\n",
       "      </script>\n",
       "    </div>\n",
       "  </div>\n"
      ],
      "text/plain": [
       "                           category  rating label  \\\n",
       "19080  Tools_and_Home_Improvement_5     5.0    CG   \n",
       "37380  Clothing_Shoes_and_Jewelry_5     5.0    CG   \n",
       "6466          Sports_and_Outdoors_5     5.0    CG   \n",
       "3934             Home_and_Kitchen_5     3.0    CG   \n",
       "33275              Toys_and_Games_5     5.0    CG   \n",
       "\n",
       "                                                   text_  target  \n",
       "19080  I really like the Skeletool.  I have an old Sk...       0  \n",
       "37380  Well made belt. High quality material. The onl...       0  \n",
       "6466   Perfect for 18\" inch dolls. The only problem i...       0  \n",
       "3934   This Martha Stewart pom-pom flower pot.  It's ...       0  \n",
       "33275  I can't say enough good things about this prod...       0  "
      ]
     },
     "execution_count": 28,
     "metadata": {},
     "output_type": "execute_result"
    }
   ],
   "source": [
    "test_dataset_raw_0_50.head()"
   ]
  },
  {
   "cell_type": "code",
   "execution_count": 29,
   "id": "xuzhd-X1ifIo",
   "metadata": {
    "id": "xuzhd-X1ifIo"
   },
   "outputs": [],
   "source": [
    "test_dataset_raw_1 = test_dataset_raw[test_dataset_raw['target']==1]"
   ]
  },
  {
   "cell_type": "code",
   "execution_count": 30,
   "id": "k-VlkfWtifNX",
   "metadata": {
    "id": "k-VlkfWtifNX"
   },
   "outputs": [],
   "source": [
    "random_1_rows = test_dataset_raw_1.sample(n=100)\n",
    "\n",
    "# Build the new DataFrame using the randomly selected rows\n",
    "test_dataset_raw_1_100 = pd.DataFrame(random_1_rows)"
   ]
  },
  {
   "cell_type": "code",
   "execution_count": 31,
   "id": "Iwwpp_IyifRY",
   "metadata": {
    "colab": {
     "base_uri": "https://localhost:8080/"
    },
    "id": "Iwwpp_IyifRY",
    "outputId": "d6d6b3b2-bbb1-4f61-e8ea-19163f62ddda"
   },
   "outputs": [
    {
     "data": {
      "text/plain": [
       "(100, 5)"
      ]
     },
     "execution_count": 31,
     "metadata": {},
     "output_type": "execute_result"
    }
   ],
   "source": [
    "test_dataset_raw_1_100.shape"
   ]
  },
  {
   "cell_type": "code",
   "execution_count": 32,
   "id": "kzKmcqHStTnd",
   "metadata": {
    "id": "kzKmcqHStTnd"
   },
   "outputs": [],
   "source": [
    "merged_df = pd.concat([test_dataset_raw_0_50, test_dataset_raw_1_100], ignore_index=True)\n",
    "\n",
    "# Shuffle the index\n",
    "test_150_df = merged_df.sample(frac=1).reset_index(drop=True)"
   ]
  },
  {
   "cell_type": "code",
   "execution_count": 33,
   "id": "6xNQ5K9OtUFk",
   "metadata": {
    "colab": {
     "base_uri": "https://localhost:8080/",
     "height": 424
    },
    "id": "6xNQ5K9OtUFk",
    "outputId": "5860d7a1-e34e-44ff-cf0d-be778985ecc1"
   },
   "outputs": [
    {
     "data": {
      "text/html": [
       "\n",
       "\n",
       "  <div id=\"df-cc1eb1e2-0c86-46ef-a3e1-109bb4ff805f\">\n",
       "    <div class=\"colab-df-container\">\n",
       "      <div>\n",
       "<style scoped>\n",
       "    .dataframe tbody tr th:only-of-type {\n",
       "        vertical-align: middle;\n",
       "    }\n",
       "\n",
       "    .dataframe tbody tr th {\n",
       "        vertical-align: top;\n",
       "    }\n",
       "\n",
       "    .dataframe thead th {\n",
       "        text-align: right;\n",
       "    }\n",
       "</style>\n",
       "<table border=\"1\" class=\"dataframe\">\n",
       "  <thead>\n",
       "    <tr style=\"text-align: right;\">\n",
       "      <th></th>\n",
       "      <th>category</th>\n",
       "      <th>rating</th>\n",
       "      <th>label</th>\n",
       "      <th>text_</th>\n",
       "      <th>target</th>\n",
       "    </tr>\n",
       "  </thead>\n",
       "  <tbody>\n",
       "    <tr>\n",
       "      <th>0</th>\n",
       "      <td>Electronics_5</td>\n",
       "      <td>5.0</td>\n",
       "      <td>OR</td>\n",
       "      <td>I am amazed.  These are light and comfortable....</td>\n",
       "      <td>1</td>\n",
       "    </tr>\n",
       "    <tr>\n",
       "      <th>1</th>\n",
       "      <td>Movies_and_TV_5</td>\n",
       "      <td>5.0</td>\n",
       "      <td>OR</td>\n",
       "      <td>This is one of my favorite movies.  It's a cat...</td>\n",
       "      <td>1</td>\n",
       "    </tr>\n",
       "    <tr>\n",
       "      <th>2</th>\n",
       "      <td>Toys_and_Games_5</td>\n",
       "      <td>5.0</td>\n",
       "      <td>CG</td>\n",
       "      <td>This deck is a good starter set, with lots of ...</td>\n",
       "      <td>0</td>\n",
       "    </tr>\n",
       "    <tr>\n",
       "      <th>3</th>\n",
       "      <td>Pet_Supplies_5</td>\n",
       "      <td>4.0</td>\n",
       "      <td>OR</td>\n",
       "      <td>Oh, gosh, I can't believe it's taken me this l...</td>\n",
       "      <td>1</td>\n",
       "    </tr>\n",
       "    <tr>\n",
       "      <th>4</th>\n",
       "      <td>Toys_and_Games_5</td>\n",
       "      <td>5.0</td>\n",
       "      <td>OR</td>\n",
       "      <td>great for the price even came in a back pack t...</td>\n",
       "      <td>1</td>\n",
       "    </tr>\n",
       "    <tr>\n",
       "      <th>...</th>\n",
       "      <td>...</td>\n",
       "      <td>...</td>\n",
       "      <td>...</td>\n",
       "      <td>...</td>\n",
       "      <td>...</td>\n",
       "    </tr>\n",
       "    <tr>\n",
       "      <th>145</th>\n",
       "      <td>Toys_and_Games_5</td>\n",
       "      <td>5.0</td>\n",
       "      <td>CG</td>\n",
       "      <td>We purchased this camera for my daughter and s...</td>\n",
       "      <td>0</td>\n",
       "    </tr>\n",
       "    <tr>\n",
       "      <th>146</th>\n",
       "      <td>Electronics_5</td>\n",
       "      <td>5.0</td>\n",
       "      <td>OR</td>\n",
       "      <td>I purchased one of these to replace an error p...</td>\n",
       "      <td>1</td>\n",
       "    </tr>\n",
       "    <tr>\n",
       "      <th>147</th>\n",
       "      <td>Kindle_Store_5</td>\n",
       "      <td>5.0</td>\n",
       "      <td>OR</td>\n",
       "      <td>I picked this up, expecting just another short...</td>\n",
       "      <td>1</td>\n",
       "    </tr>\n",
       "    <tr>\n",
       "      <th>148</th>\n",
       "      <td>Pet_Supplies_5</td>\n",
       "      <td>4.0</td>\n",
       "      <td>OR</td>\n",
       "      <td>My dog loves this toy and is always chewing on...</td>\n",
       "      <td>1</td>\n",
       "    </tr>\n",
       "    <tr>\n",
       "      <th>149</th>\n",
       "      <td>Toys_and_Games_5</td>\n",
       "      <td>5.0</td>\n",
       "      <td>CG</td>\n",
       "      <td>Our 3yo daughter loves playing with this and s...</td>\n",
       "      <td>0</td>\n",
       "    </tr>\n",
       "  </tbody>\n",
       "</table>\n",
       "<p>150 rows × 5 columns</p>\n",
       "</div>\n",
       "      <button class=\"colab-df-convert\" onclick=\"convertToInteractive('df-cc1eb1e2-0c86-46ef-a3e1-109bb4ff805f')\"\n",
       "              title=\"Convert this dataframe to an interactive table.\"\n",
       "              style=\"display:none;\">\n",
       "\n",
       "  <svg xmlns=\"http://www.w3.org/2000/svg\" height=\"24px\"viewBox=\"0 0 24 24\"\n",
       "       width=\"24px\">\n",
       "    <path d=\"M0 0h24v24H0V0z\" fill=\"none\"/>\n",
       "    <path d=\"M18.56 5.44l.94 2.06.94-2.06 2.06-.94-2.06-.94-.94-2.06-.94 2.06-2.06.94zm-11 1L8.5 8.5l.94-2.06 2.06-.94-2.06-.94L8.5 2.5l-.94 2.06-2.06.94zm10 10l.94 2.06.94-2.06 2.06-.94-2.06-.94-.94-2.06-.94 2.06-2.06.94z\"/><path d=\"M17.41 7.96l-1.37-1.37c-.4-.4-.92-.59-1.43-.59-.52 0-1.04.2-1.43.59L10.3 9.45l-7.72 7.72c-.78.78-.78 2.05 0 2.83L4 21.41c.39.39.9.59 1.41.59.51 0 1.02-.2 1.41-.59l7.78-7.78 2.81-2.81c.8-.78.8-2.07 0-2.86zM5.41 20L4 18.59l7.72-7.72 1.47 1.35L5.41 20z\"/>\n",
       "  </svg>\n",
       "      </button>\n",
       "\n",
       "\n",
       "\n",
       "    <div id=\"df-1877c6dc-eb1d-4376-b588-4fb3585d06ab\">\n",
       "      <button class=\"colab-df-quickchart\" onclick=\"quickchart('df-1877c6dc-eb1d-4376-b588-4fb3585d06ab')\"\n",
       "              title=\"Suggest charts.\"\n",
       "              style=\"display:none;\">\n",
       "\n",
       "<svg xmlns=\"http://www.w3.org/2000/svg\" height=\"24px\"viewBox=\"0 0 24 24\"\n",
       "     width=\"24px\">\n",
       "    <g>\n",
       "        <path d=\"M19 3H5c-1.1 0-2 .9-2 2v14c0 1.1.9 2 2 2h14c1.1 0 2-.9 2-2V5c0-1.1-.9-2-2-2zM9 17H7v-7h2v7zm4 0h-2V7h2v10zm4 0h-2v-4h2v4z\"/>\n",
       "    </g>\n",
       "</svg>\n",
       "      </button>\n",
       "    </div>\n",
       "\n",
       "<style>\n",
       "  .colab-df-quickchart {\n",
       "    background-color: #E8F0FE;\n",
       "    border: none;\n",
       "    border-radius: 50%;\n",
       "    cursor: pointer;\n",
       "    display: none;\n",
       "    fill: #1967D2;\n",
       "    height: 32px;\n",
       "    padding: 0 0 0 0;\n",
       "    width: 32px;\n",
       "  }\n",
       "\n",
       "  .colab-df-quickchart:hover {\n",
       "    background-color: #E2EBFA;\n",
       "    box-shadow: 0px 1px 2px rgba(60, 64, 67, 0.3), 0px 1px 3px 1px rgba(60, 64, 67, 0.15);\n",
       "    fill: #174EA6;\n",
       "  }\n",
       "\n",
       "  [theme=dark] .colab-df-quickchart {\n",
       "    background-color: #3B4455;\n",
       "    fill: #D2E3FC;\n",
       "  }\n",
       "\n",
       "  [theme=dark] .colab-df-quickchart:hover {\n",
       "    background-color: #434B5C;\n",
       "    box-shadow: 0px 1px 3px 1px rgba(0, 0, 0, 0.15);\n",
       "    filter: drop-shadow(0px 1px 2px rgba(0, 0, 0, 0.3));\n",
       "    fill: #FFFFFF;\n",
       "  }\n",
       "</style>\n",
       "\n",
       "    <script>\n",
       "      async function quickchart(key) {\n",
       "        const containerElement = document.querySelector('#' + key);\n",
       "        const charts = await google.colab.kernel.invokeFunction(\n",
       "            'suggestCharts', [key], {});\n",
       "      }\n",
       "    </script>\n",
       "\n",
       "      <script>\n",
       "\n",
       "function displayQuickchartButton(domScope) {\n",
       "  let quickchartButtonEl =\n",
       "    domScope.querySelector('#df-1877c6dc-eb1d-4376-b588-4fb3585d06ab button.colab-df-quickchart');\n",
       "  quickchartButtonEl.style.display =\n",
       "    google.colab.kernel.accessAllowed ? 'block' : 'none';\n",
       "}\n",
       "\n",
       "        displayQuickchartButton(document);\n",
       "      </script>\n",
       "      <style>\n",
       "    .colab-df-container {\n",
       "      display:flex;\n",
       "      flex-wrap:wrap;\n",
       "      gap: 12px;\n",
       "    }\n",
       "\n",
       "    .colab-df-convert {\n",
       "      background-color: #E8F0FE;\n",
       "      border: none;\n",
       "      border-radius: 50%;\n",
       "      cursor: pointer;\n",
       "      display: none;\n",
       "      fill: #1967D2;\n",
       "      height: 32px;\n",
       "      padding: 0 0 0 0;\n",
       "      width: 32px;\n",
       "    }\n",
       "\n",
       "    .colab-df-convert:hover {\n",
       "      background-color: #E2EBFA;\n",
       "      box-shadow: 0px 1px 2px rgba(60, 64, 67, 0.3), 0px 1px 3px 1px rgba(60, 64, 67, 0.15);\n",
       "      fill: #174EA6;\n",
       "    }\n",
       "\n",
       "    [theme=dark] .colab-df-convert {\n",
       "      background-color: #3B4455;\n",
       "      fill: #D2E3FC;\n",
       "    }\n",
       "\n",
       "    [theme=dark] .colab-df-convert:hover {\n",
       "      background-color: #434B5C;\n",
       "      box-shadow: 0px 1px 3px 1px rgba(0, 0, 0, 0.15);\n",
       "      filter: drop-shadow(0px 1px 2px rgba(0, 0, 0, 0.3));\n",
       "      fill: #FFFFFF;\n",
       "    }\n",
       "  </style>\n",
       "\n",
       "      <script>\n",
       "        const buttonEl =\n",
       "          document.querySelector('#df-cc1eb1e2-0c86-46ef-a3e1-109bb4ff805f button.colab-df-convert');\n",
       "        buttonEl.style.display =\n",
       "          google.colab.kernel.accessAllowed ? 'block' : 'none';\n",
       "\n",
       "        async function convertToInteractive(key) {\n",
       "          const element = document.querySelector('#df-cc1eb1e2-0c86-46ef-a3e1-109bb4ff805f');\n",
       "          const dataTable =\n",
       "            await google.colab.kernel.invokeFunction('convertToInteractive',\n",
       "                                                     [key], {});\n",
       "          if (!dataTable) return;\n",
       "\n",
       "          const docLinkHtml = 'Like what you see? Visit the ' +\n",
       "            '<a target=\"_blank\" href=https://colab.research.google.com/notebooks/data_table.ipynb>data table notebook</a>'\n",
       "            + ' to learn more about interactive tables.';\n",
       "          element.innerHTML = '';\n",
       "          dataTable['output_type'] = 'display_data';\n",
       "          await google.colab.output.renderOutput(dataTable, element);\n",
       "          const docLink = document.createElement('div');\n",
       "          docLink.innerHTML = docLinkHtml;\n",
       "          element.appendChild(docLink);\n",
       "        }\n",
       "      </script>\n",
       "    </div>\n",
       "  </div>\n"
      ],
      "text/plain": [
       "             category  rating label  \\\n",
       "0       Electronics_5     5.0    OR   \n",
       "1     Movies_and_TV_5     5.0    OR   \n",
       "2    Toys_and_Games_5     5.0    CG   \n",
       "3      Pet_Supplies_5     4.0    OR   \n",
       "4    Toys_and_Games_5     5.0    OR   \n",
       "..                ...     ...   ...   \n",
       "145  Toys_and_Games_5     5.0    CG   \n",
       "146     Electronics_5     5.0    OR   \n",
       "147    Kindle_Store_5     5.0    OR   \n",
       "148    Pet_Supplies_5     4.0    OR   \n",
       "149  Toys_and_Games_5     5.0    CG   \n",
       "\n",
       "                                                 text_  target  \n",
       "0    I am amazed.  These are light and comfortable....       1  \n",
       "1    This is one of my favorite movies.  It's a cat...       1  \n",
       "2    This deck is a good starter set, with lots of ...       0  \n",
       "3    Oh, gosh, I can't believe it's taken me this l...       1  \n",
       "4    great for the price even came in a back pack t...       1  \n",
       "..                                                 ...     ...  \n",
       "145  We purchased this camera for my daughter and s...       0  \n",
       "146  I purchased one of these to replace an error p...       1  \n",
       "147  I picked this up, expecting just another short...       1  \n",
       "148  My dog loves this toy and is always chewing on...       1  \n",
       "149  Our 3yo daughter loves playing with this and s...       0  \n",
       "\n",
       "[150 rows x 5 columns]"
      ]
     },
     "execution_count": 33,
     "metadata": {},
     "output_type": "execute_result"
    }
   ],
   "source": [
    "test_150_df"
   ]
  },
  {
   "cell_type": "code",
   "execution_count": 34,
   "id": "TyhnSXcgtULQ",
   "metadata": {
    "id": "TyhnSXcgtULQ"
   },
   "outputs": [],
   "source": [
    "test_encodings_150 = tokenizer(test_150_df['text_'].tolist(), truncation=True, padding=True, max_length=256)\n",
    "\n",
    "test_dataset_150 = tf.data.Dataset.from_tensor_slices((\n",
    "    dict(test_encodings_150),\n",
    "    test_150_df['target'].values\n",
    "))\n",
    "\n"
   ]
  },
  {
   "cell_type": "code",
   "execution_count": 35,
   "id": "dRVrHOvmtmAO",
   "metadata": {
    "colab": {
     "base_uri": "https://localhost:8080/"
    },
    "id": "dRVrHOvmtmAO",
    "outputId": "d18fa6b4-204f-4e90-af1a-56d9963e47d1"
   },
   "outputs": [
    {
     "name": "stdout",
     "output_type": "stream",
     "text": [
      "10/10 [==============================] - 3s 296ms/step\n",
      "              precision    recall  f1-score   support\n",
      "\n",
      "          CG       0.91      0.98      0.94        50\n",
      "          OR       0.99      0.95      0.97       100\n",
      "\n",
      "    accuracy                           0.96       150\n",
      "   macro avg       0.95      0.96      0.96       150\n",
      "weighted avg       0.96      0.96      0.96       150\n",
      "\n"
     ]
    }
   ],
   "source": [
    "test_dataset_150_batched = test_dataset_150.batch(16)\n",
    "y_pred_raw_150 = model.predict(test_dataset_150_batched)\n",
    "\n",
    "# Convert raw predictions to class predictions\n",
    "y_pred_150 = np.argmax(y_pred_raw_150.logits, axis=1)\n",
    "\n",
    "# Get the actual class labels\n",
    "y_true_150 = []\n",
    "for features, label in test_dataset_150:\n",
    "    y_true_150.append(label.numpy())\n",
    "y_true_150 = np.array(y_true_150)\n",
    "\n",
    "\n",
    "# Generate a classification report\n",
    "report_150 = classification_report(y_true_150, y_pred_150, target_names=[\"CG\", \"OR\"])  # replace target_names with your actual class names\n",
    "print(report_150)"
   ]
  },
  {
   "cell_type": "markdown",
   "id": "KzBjYqL6uhVs",
   "metadata": {
    "id": "KzBjYqL6uhVs"
   },
   "source": [
    "# chatgpt"
   ]
  },
  {
   "cell_type": "code",
   "execution_count": 39,
   "id": "fagR18BevYrg",
   "metadata": {
    "colab": {
     "base_uri": "https://localhost:8080/"
    },
    "id": "fagR18BevYrg",
    "outputId": "f4b61b35-e8e1-4364-e839-b34a263e4b1c"
   },
   "outputs": [
    {
     "data": {
      "text/plain": [
       "Int64Index([19080, 37380,  6466,  3934, 33275, 24286, 11892, 36412,  5625,\n",
       "            25570,  8501, 20411, 28867, 12409, 33851, 34246, 39476, 13831,\n",
       "            24371,  9662, 33463,  2954, 36835, 11507, 17802, 28244, 10309,\n",
       "            31786, 26381,  3940, 12791, 21130, 26333, 34131, 28036, 21829,\n",
       "            36002, 32896, 13185,  4173,  6265, 36584, 18300, 36500,  8968,\n",
       "            32790, 26048, 10131, 28084,  6407],\n",
       "           dtype='int64')"
      ]
     },
     "execution_count": 39,
     "metadata": {},
     "output_type": "execute_result"
    }
   ],
   "source": [
    "test_dataset_raw_0_50.index"
   ]
  },
  {
   "cell_type": "code",
   "execution_count": 140,
   "id": "kaot5Xc3tmi5",
   "metadata": {
    "colab": {
     "base_uri": "https://localhost:8080/",
     "height": 53
    },
    "id": "kaot5Xc3tmi5",
    "outputId": "df90d3f9-079b-43e0-b25d-a7a3799e3cff"
   },
   "outputs": [
    {
     "data": {
      "application/vnd.google.colaboratory.intrinsic+json": {
       "type": "string"
      },
      "text/plain": [
       "\"I now want these in a larger size. I've also used them for a few hours in a cave. The seams are solid and they have a nice feel to them. I have had no issues with the seams becoming loose.\""
      ]
     },
     "execution_count": 140,
     "metadata": {},
     "output_type": "execute_result"
    }
   ],
   "source": [
    "test_dataset_raw_0_50['text_'][6407]"
   ]
  },
  {
   "cell_type": "code",
   "execution_count": null,
   "id": "e9wz94onxVOV",
   "metadata": {
    "id": "e9wz94onxVOV"
   },
   "outputs": [],
   "source": []
  },
  {
   "cell_type": "code",
   "execution_count": 40,
   "id": "ZEPJkLs1uj8V",
   "metadata": {
    "colab": {
     "base_uri": "https://localhost:8080/"
    },
    "id": "ZEPJkLs1uj8V",
    "outputId": "d605cc07-0250-4a2d-d35f-3e026b49a698"
   },
   "outputs": [
    {
     "name": "stderr",
     "output_type": "stream",
     "text": [
      "<ipython-input-40-b6051550059d>:1: SettingWithCopyWarning: \n",
      "A value is trying to be set on a copy of a slice from a DataFrame\n",
      "\n",
      "See the caveats in the documentation: https://pandas.pydata.org/pandas-docs/stable/user_guide/indexing.html#returning-a-view-versus-a-copy\n",
      "  test_dataset_raw_0_50['text_'][19080] = \"I really admire the Skeletool; it's the first saw I've ever owned, and while it may be a bit pricey, it's definitely worth the investment. The clean cuts it delivers are impressive, and I find myself using it on numerous projects. Recently, I decided to purchase a new one and used it to cut with a saw I've had for about a year now. The Skeletool's build quality is excellent, but it is quite heavy, which can be a bit challenging on my workbench. However, I've still grown fond of it. One minor issue I've encountered is that it doesn't work as effectively when pushing the handle back against the base. Nonetheless, I'm generally satisfied with its performance and reliability.\"\n"
     ]
    }
   ],
   "source": [
    "test_dataset_raw_0_50['text_'][19080] = \"I really admire the Skeletool; it's the first saw I've ever owned, and while it may be a bit pricey, it's definitely worth the investment. The clean cuts it delivers are impressive, and I find myself using it on numerous projects. Recently, I decided to purchase a new one and used it to cut with a saw I've had for about a year now. The Skeletool's build quality is excellent, but it is quite heavy, which can be a bit challenging on my workbench. However, I've still grown fond of it. One minor issue I've encountered is that it doesn't work as effectively when pushing the handle back against the base. Nonetheless, I'm generally satisfied with its performance and reliability.\""
   ]
  },
  {
   "cell_type": "code",
   "execution_count": 42,
   "id": "QeCvONajukat",
   "metadata": {
    "colab": {
     "base_uri": "https://localhost:8080/"
    },
    "id": "QeCvONajukat",
    "outputId": "a98dae0c-6c68-4e6c-f84c-abd3dead9325"
   },
   "outputs": [
    {
     "name": "stderr",
     "output_type": "stream",
     "text": [
      "<ipython-input-42-efaa4ca88644>:1: SettingWithCopyWarning: \n",
      "A value is trying to be set on a copy of a slice from a DataFrame\n",
      "\n",
      "See the caveats in the documentation: https://pandas.pydata.org/pandas-docs/stable/user_guide/indexing.html#returning-a-view-versus-a-copy\n",
      "  test_dataset_raw_0_50['text_'][37380] =\"The belt is crafted with excellent craftsmanship and made from high-quality materials. The only drawback I've noticed is that it comes with a relatively small buckle.\"\n"
     ]
    }
   ],
   "source": [
    "test_dataset_raw_0_50['text_'][37380] =\"The belt is crafted with excellent craftsmanship and made from high-quality materials. The only drawback I've noticed is that it comes with a relatively small buckle.\""
   ]
  },
  {
   "cell_type": "code",
   "execution_count": 45,
   "id": "aU9WvDkaukwh",
   "metadata": {
    "colab": {
     "base_uri": "https://localhost:8080/"
    },
    "id": "aU9WvDkaukwh",
    "outputId": "8b2fff15-109e-4b62-cd25-0fbfd814092f"
   },
   "outputs": [
    {
     "name": "stderr",
     "output_type": "stream",
     "text": [
      "<ipython-input-45-de8f3bb6d6e5>:1: SettingWithCopyWarning: \n",
      "A value is trying to be set on a copy of a slice from a DataFrame\n",
      "\n",
      "See the caveats in the documentation: https://pandas.pydata.org/pandas-docs/stable/user_guide/indexing.html#returning-a-view-versus-a-copy\n",
      "  test_dataset_raw_0_50['text_'][6466] =\"This item is an ideal fit for 18-inch dolls. However, there's a minor issue with a small screw that comes with it, as it tends to be overly tight. Additionally, the clamp that holds the doll may be a bit loose, although this shouldn't pose a problem for the majority of dolls.\"\n"
     ]
    }
   ],
   "source": [
    "test_dataset_raw_0_50['text_'][6466] =\"This item is an ideal fit for 18-inch dolls. However, there's a minor issue with a small screw that comes with it, as it tends to be overly tight. Additionally, the clamp that holds the doll may be a bit loose, although this shouldn't pose a problem for the majority of dolls.\""
   ]
  },
  {
   "cell_type": "code",
   "execution_count": 47,
   "id": "f7uHsymxuk4_",
   "metadata": {
    "colab": {
     "base_uri": "https://localhost:8080/"
    },
    "id": "f7uHsymxuk4_",
    "outputId": "be780db0-0116-4617-b13e-582327ff77e3"
   },
   "outputs": [
    {
     "name": "stderr",
     "output_type": "stream",
     "text": [
      "<ipython-input-47-b30b2886de5e>:1: SettingWithCopyWarning: \n",
      "A value is trying to be set on a copy of a slice from a DataFrame\n",
      "\n",
      "See the caveats in the documentation: https://pandas.pydata.org/pandas-docs/stable/user_guide/indexing.html#returning-a-view-versus-a-copy\n",
      "  test_dataset_raw_0_50['text_'][3934] = \"I purchased the Martha Stewart pom-pom flower pot, and it fits perfectly in my kitchen, adding a lovely touch to the decor. The top features a durable stainless steel ring with a sturdy ceramic edge, making it a visually appealing piece. Although it might not be the most budget-friendly option, I find it to be a worthwhile addition to my kitchen. I received a free sample of this product at a discounted price in exchange for providing my honest and unbiased review, and I couldn't be happier with the purchase. Having used this product, I can confidently say that it has become an essential item in my kitchen. I'm delighted to have received it at a discount in exchange for my honest and unbiased review, and I genuinely believe it has been a valuable addition to my home\"\n"
     ]
    }
   ],
   "source": [
    "test_dataset_raw_0_50['text_'][3934] = \"I purchased the Martha Stewart pom-pom flower pot, and it fits perfectly in my kitchen, adding a lovely touch to the decor. The top features a durable stainless steel ring with a sturdy ceramic edge, making it a visually appealing piece. Although it might not be the most budget-friendly option, I find it to be a worthwhile addition to my kitchen. I received a free sample of this product at a discounted price in exchange for providing my honest and unbiased review, and I couldn't be happier with the purchase. Having used this product, I can confidently say that it has become an essential item in my kitchen. I'm delighted to have received it at a discount in exchange for my honest and unbiased review, and I genuinely believe it has been a valuable addition to my home\""
   ]
  },
  {
   "cell_type": "code",
   "execution_count": 49,
   "id": "TFA56i6UwThn",
   "metadata": {
    "colab": {
     "base_uri": "https://localhost:8080/"
    },
    "id": "TFA56i6UwThn",
    "outputId": "5a87f02e-630e-428e-c813-c167f90ca4a4"
   },
   "outputs": [
    {
     "name": "stderr",
     "output_type": "stream",
     "text": [
      "<ipython-input-49-19b2cb63559a>:1: SettingWithCopyWarning: \n",
      "A value is trying to be set on a copy of a slice from a DataFrame\n",
      "\n",
      "See the caveats in the documentation: https://pandas.pydata.org/pandas-docs/stable/user_guide/indexing.html#returning-a-view-versus-a-copy\n",
      "  test_dataset_raw_0_50['text_'][33275] = \"I cannot express how much I appreciate this product, and it brings me immense joy to see how much my daughter loves it.\"\n"
     ]
    }
   ],
   "source": [
    "test_dataset_raw_0_50['text_'][33275] = \"I cannot express how much I appreciate this product, and it brings me immense joy to see how much my daughter loves it.\""
   ]
  },
  {
   "cell_type": "code",
   "execution_count": 51,
   "id": "RFyNt0GVtmqn",
   "metadata": {
    "colab": {
     "base_uri": "https://localhost:8080/"
    },
    "id": "RFyNt0GVtmqn",
    "outputId": "d6a9ec1d-a846-44d8-9254-38c3334c0969"
   },
   "outputs": [
    {
     "name": "stderr",
     "output_type": "stream",
     "text": [
      "<ipython-input-51-7f3593c100ed>:1: SettingWithCopyWarning: \n",
      "A value is trying to be set on a copy of a slice from a DataFrame\n",
      "\n",
      "See the caveats in the documentation: https://pandas.pydata.org/pandas-docs/stable/user_guide/indexing.html#returning-a-view-versus-a-copy\n",
      "  test_dataset_raw_0_50['text_'][24286] =\"It's just perfect for that special time of year when her sister returns for a new year, and we get a glimpse of their joy and excitement.\"\n"
     ]
    }
   ],
   "source": [
    "test_dataset_raw_0_50['text_'][24286] =\"It's just perfect for that special time of year when her sister returns for a new year, and we get a glimpse of their joy and excitement.\""
   ]
  },
  {
   "cell_type": "code",
   "execution_count": 53,
   "id": "XzGrScNVtmyY",
   "metadata": {
    "colab": {
     "base_uri": "https://localhost:8080/"
    },
    "id": "XzGrScNVtmyY",
    "outputId": "00805744-d793-41d5-a4ef-86939d68477a"
   },
   "outputs": [
    {
     "name": "stderr",
     "output_type": "stream",
     "text": [
      "<ipython-input-53-913db2992c1f>:1: SettingWithCopyWarning: \n",
      "A value is trying to be set on a copy of a slice from a DataFrame\n",
      "\n",
      "See the caveats in the documentation: https://pandas.pydata.org/pandas-docs/stable/user_guide/indexing.html#returning-a-view-versus-a-copy\n",
      "  test_dataset_raw_0_50['text_'][11892] =\"When using the device with my computer running Windows XP and Windows 7, I found that it connected easily without direct computer connection, requiring only a USB cable. However, when attempting to connect it to my Windows 8.1 computer with an old hard drive, I encountered some confusion and had to take a few extra steps to establish a stable connection. Overall, the device worked well with Windows XP and Windows 7, but required additional attention for proper connectivity with the Windows 8.1 computer and old hard drive setup.\"\n"
     ]
    }
   ],
   "source": [
    "test_dataset_raw_0_50['text_'][11892] =\"When using the device with my computer running Windows XP and Windows 7, I found that it connected easily without direct computer connection, requiring only a USB cable. However, when attempting to connect it to my Windows 8.1 computer with an old hard drive, I encountered some confusion and had to take a few extra steps to establish a stable connection. Overall, the device worked well with Windows XP and Windows 7, but required additional attention for proper connectivity with the Windows 8.1 computer and old hard drive setup.\""
   ]
  },
  {
   "cell_type": "code",
   "execution_count": 55,
   "id": "chTURBAytUPm",
   "metadata": {
    "colab": {
     "base_uri": "https://localhost:8080/"
    },
    "id": "chTURBAytUPm",
    "outputId": "02861571-50d4-48ca-aebf-c7f7c94770fb"
   },
   "outputs": [
    {
     "name": "stderr",
     "output_type": "stream",
     "text": [
      "<ipython-input-55-436abdf226fe>:1: SettingWithCopyWarning: \n",
      "A value is trying to be set on a copy of a slice from a DataFrame\n",
      "\n",
      "See the caveats in the documentation: https://pandas.pydata.org/pandas-docs/stable/user_guide/indexing.html#returning-a-view-versus-a-copy\n",
      "  test_dataset_raw_0_50['text_'][36412] =\"My four-year-old son (age 3) absolutely adores these toys, and we also have a smaller version for the baby. He loves the sounds the animals make, and it's a fantastic toy that keeps him entertained. I highly recommend it. It was a gift for my niece, and she loves it too! Getting it as a free item made it even better. The set is the perfect size and looks wonderful. Assembling it is easy, and my son enjoys playing with it. The inclusion of two small pieces, each with a lid, is a nice feature. We gave this as a Christmas gift to my son, and he adores it; it's simply adorable. This train set is fantastic, and our kids enjoy playing with it. We got it for our 6-year-old, and it's a hit. Even our 5-year-old loves it. The train is about 18 tall and weighs approximately 8 lbs, making it suitable for younger children. Furthermore, it's a sturdy and durable toy, perfect for young babies, and the small plastic cup holder is a convenient addition.\"\n"
     ]
    }
   ],
   "source": [
    "test_dataset_raw_0_50['text_'][36412] =\"My four-year-old son (age 3) absolutely adores these toys, and we also have a smaller version for the baby. He loves the sounds the animals make, and it's a fantastic toy that keeps him entertained. I highly recommend it. It was a gift for my niece, and she loves it too! Getting it as a free item made it even better. The set is the perfect size and looks wonderful. Assembling it is easy, and my son enjoys playing with it. The inclusion of two small pieces, each with a lid, is a nice feature. We gave this as a Christmas gift to my son, and he adores it; it's simply adorable. This train set is fantastic, and our kids enjoy playing with it. We got it for our 6-year-old, and it's a hit. Even our 5-year-old loves it. The train is about 18 tall and weighs approximately 8 lbs, making it suitable for younger children. Furthermore, it's a sturdy and durable toy, perfect for young babies, and the small plastic cup holder is a convenient addition.\""
   ]
  },
  {
   "cell_type": "code",
   "execution_count": 58,
   "id": "zR3SfrJqtUT2",
   "metadata": {
    "colab": {
     "base_uri": "https://localhost:8080/"
    },
    "id": "zR3SfrJqtUT2",
    "outputId": "78105157-b988-4a54-a49e-077f109aec8e"
   },
   "outputs": [
    {
     "name": "stderr",
     "output_type": "stream",
     "text": [
      "<ipython-input-58-73aeffaf752e>:1: SettingWithCopyWarning: \n",
      "A value is trying to be set on a copy of a slice from a DataFrame\n",
      "\n",
      "See the caveats in the documentation: https://pandas.pydata.org/pandas-docs/stable/user_guide/indexing.html#returning-a-view-versus-a-copy\n",
      "  test_dataset_raw_0_50['text_'][5625]  = \"The perfect powder measure lives up to its name as it functions flawlessly. However, the only issue I encountered was with a small screw that was a bit too tight. Despite that, I'm still using it with great satisfaction.\"\n"
     ]
    }
   ],
   "source": [
    "test_dataset_raw_0_50['text_'][5625]  = \"The perfect powder measure lives up to its name as it functions flawlessly. However, the only issue I encountered was with a small screw that was a bit too tight. Despite that, I'm still using it with great satisfaction.\""
   ]
  },
  {
   "cell_type": "code",
   "execution_count": 60,
   "id": "5XVDqr-HifUX",
   "metadata": {
    "colab": {
     "base_uri": "https://localhost:8080/"
    },
    "id": "5XVDqr-HifUX",
    "outputId": "054476b0-b1ce-4fd2-cf3c-803b272456cf"
   },
   "outputs": [
    {
     "name": "stderr",
     "output_type": "stream",
     "text": [
      "<ipython-input-60-1ec7b74e365d>:1: SettingWithCopyWarning: \n",
      "A value is trying to be set on a copy of a slice from a DataFrame\n",
      "\n",
      "See the caveats in the documentation: https://pandas.pydata.org/pandas-docs/stable/user_guide/indexing.html#returning-a-view-versus-a-copy\n",
      "  test_dataset_raw_0_50['text_'][25570] = \"I found great pleasure in reading this book as it beautifully combined chemistry and humor in a love story. However, I couldn't help but feel a bit melancholic when the story concluded. That might be the reason why I rated it 4 stars. The author's storytelling had me captivated throughout the entire journey.\"\n"
     ]
    }
   ],
   "source": [
    "test_dataset_raw_0_50['text_'][25570] = \"I found great pleasure in reading this book as it beautifully combined chemistry and humor in a love story. However, I couldn't help but feel a bit melancholic when the story concluded. That might be the reason why I rated it 4 stars. The author's storytelling had me captivated throughout the entire journey.\""
   ]
  },
  {
   "cell_type": "code",
   "execution_count": 62,
   "id": "Wwj3BOKrxeXX",
   "metadata": {
    "colab": {
     "base_uri": "https://localhost:8080/"
    },
    "id": "Wwj3BOKrxeXX",
    "outputId": "9480754f-0aef-4546-c43d-946cb2f6fd8e"
   },
   "outputs": [
    {
     "name": "stderr",
     "output_type": "stream",
     "text": [
      "<ipython-input-62-3e715dd8f0a9>:1: SettingWithCopyWarning: \n",
      "A value is trying to be set on a copy of a slice from a DataFrame\n",
      "\n",
      "See the caveats in the documentation: https://pandas.pydata.org/pandas-docs/stable/user_guide/indexing.html#returning-a-view-versus-a-copy\n",
      "  test_dataset_raw_0_50['text_'][8501] = \"Two words: heavy-duty! I use it daily with my phone, and it functions exceptionally well.\"\n"
     ]
    }
   ],
   "source": [
    "test_dataset_raw_0_50['text_'][8501] = \"Two words: heavy-duty! I use it daily with my phone, and it functions exceptionally well.\""
   ]
  },
  {
   "cell_type": "code",
   "execution_count": 64,
   "id": "NPRb0xXoxemj",
   "metadata": {
    "colab": {
     "base_uri": "https://localhost:8080/"
    },
    "id": "NPRb0xXoxemj",
    "outputId": "58699495-cdab-49f6-9bb1-dc5eccd3c882"
   },
   "outputs": [
    {
     "name": "stderr",
     "output_type": "stream",
     "text": [
      "<ipython-input-64-6dbe9ddfa188>:1: SettingWithCopyWarning: \n",
      "A value is trying to be set on a copy of a slice from a DataFrame\n",
      "\n",
      "See the caveats in the documentation: https://pandas.pydata.org/pandas-docs/stable/user_guide/indexing.html#returning-a-view-versus-a-copy\n",
      "  test_dataset_raw_0_50['text_'][20411] =\"It works wonderfully and has a pleasant scent. In fact, it's the only product I will purchase for my cats!\"\n"
     ]
    }
   ],
   "source": [
    "test_dataset_raw_0_50['text_'][20411] =\"It works wonderfully and has a pleasant scent. In fact, it's the only product I will purchase for my cats!\""
   ]
  },
  {
   "cell_type": "code",
   "execution_count": 66,
   "id": "elk89cLnxex4",
   "metadata": {
    "colab": {
     "base_uri": "https://localhost:8080/"
    },
    "id": "elk89cLnxex4",
    "outputId": "7c9026e0-4e5e-4bc3-92f7-07f1e06a4421"
   },
   "outputs": [
    {
     "name": "stderr",
     "output_type": "stream",
     "text": [
      "<ipython-input-66-7425deab10b8>:1: SettingWithCopyWarning: \n",
      "A value is trying to be set on a copy of a slice from a DataFrame\n",
      "\n",
      "See the caveats in the documentation: https://pandas.pydata.org/pandas-docs/stable/user_guide/indexing.html#returning-a-view-versus-a-copy\n",
      "  test_dataset_raw_0_50['text_'][28867] = \"The book is highly recommended for anyone looking for a clear and easily understandable format, along with straightforward examples that are easy to follow.\"\n"
     ]
    }
   ],
   "source": [
    "test_dataset_raw_0_50['text_'][28867] = \"The book is highly recommended for anyone looking for a clear and easily understandable format, along with straightforward examples that are easy to follow.\""
   ]
  },
  {
   "cell_type": "code",
   "execution_count": 68,
   "id": "1TZ2l0hhxe8a",
   "metadata": {
    "colab": {
     "base_uri": "https://localhost:8080/"
    },
    "id": "1TZ2l0hhxe8a",
    "outputId": "6a2e3b2f-2cb8-4e0c-f5b7-3cb0230319ba"
   },
   "outputs": [
    {
     "name": "stderr",
     "output_type": "stream",
     "text": [
      "<ipython-input-68-06b1847c36cc>:1: SettingWithCopyWarning: \n",
      "A value is trying to be set on a copy of a slice from a DataFrame\n",
      "\n",
      "See the caveats in the documentation: https://pandas.pydata.org/pandas-docs/stable/user_guide/indexing.html#returning-a-view-versus-a-copy\n",
      "  test_dataset_raw_0_50['text_'][12409] =\"This does remind me of 'Colusses: The World's Towards the Div', but I'm not sure what you want me to rephrase. Could you please provide more context or clarify your request?\"\n"
     ]
    }
   ],
   "source": [
    "test_dataset_raw_0_50['text_'][12409] =\"This does remind me of 'Colusses: The World's Towards the Div', but I'm not sure what you want me to rephrase. Could you please provide more context or clarify your request?\""
   ]
  },
  {
   "cell_type": "code",
   "execution_count": 70,
   "id": "Q8wgLHOuxfFc",
   "metadata": {
    "colab": {
     "base_uri": "https://localhost:8080/"
    },
    "id": "Q8wgLHOuxfFc",
    "outputId": "5fbd6ed0-d4ba-499d-848b-984176d6d2d3"
   },
   "outputs": [
    {
     "name": "stderr",
     "output_type": "stream",
     "text": [
      "<ipython-input-70-0acde49c2d75>:1: SettingWithCopyWarning: \n",
      "A value is trying to be set on a copy of a slice from a DataFrame\n",
      "\n",
      "See the caveats in the documentation: https://pandas.pydata.org/pandas-docs/stable/user_guide/indexing.html#returning-a-view-versus-a-copy\n",
      "  test_dataset_raw_0_50['text_'][33851] =\"This doll is absolutely adorable! She is incredibly soft and cuddly, and the baby's touch is gentle and tender.\"\n"
     ]
    }
   ],
   "source": [
    "test_dataset_raw_0_50['text_'][33851] =\"This doll is absolutely adorable! She is incredibly soft and cuddly, and the baby's touch is gentle and tender.\""
   ]
  },
  {
   "cell_type": "code",
   "execution_count": 72,
   "id": "50lIsoE4xfOm",
   "metadata": {
    "colab": {
     "base_uri": "https://localhost:8080/"
    },
    "id": "50lIsoE4xfOm",
    "outputId": "4e0fbeb1-ec68-4db2-9358-f1def831b189"
   },
   "outputs": [
    {
     "name": "stderr",
     "output_type": "stream",
     "text": [
      "<ipython-input-72-92f7350a2ecf>:1: SettingWithCopyWarning: \n",
      "A value is trying to be set on a copy of a slice from a DataFrame\n",
      "\n",
      "See the caveats in the documentation: https://pandas.pydata.org/pandas-docs/stable/user_guide/indexing.html#returning-a-view-versus-a-copy\n",
      "  test_dataset_raw_0_50['text_'][34246] =\"I wish this item could have been slightly more expensive. While I'm unsure if I would have bought it from Amazon, I am contemplating my decision.\"\n"
     ]
    }
   ],
   "source": [
    "test_dataset_raw_0_50['text_'][34246] =\"I wish this item could have been slightly more expensive. While I'm unsure if I would have bought it from Amazon, I am contemplating my decision.\""
   ]
  },
  {
   "cell_type": "code",
   "execution_count": 74,
   "id": "PFqwV5mdxfkP",
   "metadata": {
    "colab": {
     "base_uri": "https://localhost:8080/"
    },
    "id": "PFqwV5mdxfkP",
    "outputId": "d51f7635-158b-441c-b97a-6154ae757dd9"
   },
   "outputs": [
    {
     "name": "stderr",
     "output_type": "stream",
     "text": [
      "<ipython-input-74-9047959fb319>:1: SettingWithCopyWarning: \n",
      "A value is trying to be set on a copy of a slice from a DataFrame\n",
      "\n",
      "See the caveats in the documentation: https://pandas.pydata.org/pandas-docs/stable/user_guide/indexing.html#returning-a-view-versus-a-copy\n",
      "  test_dataset_raw_0_50['text_'][39476] = \"These shoes are incredibly fashionable and stylish, making anyone wearing them look well-dressed. I purchased them for my son, and he absolutely loves them! He wears them frequently, and they provide great comfort. However, it's important to note that these are not waterproof boots, so their longevity might be limited in certain conditions. Overall, they are a fantastic shoe choice.\"\n"
     ]
    }
   ],
   "source": [
    "test_dataset_raw_0_50['text_'][39476] = \"These shoes are incredibly fashionable and stylish, making anyone wearing them look well-dressed. I purchased them for my son, and he absolutely loves them! He wears them frequently, and they provide great comfort. However, it's important to note that these are not waterproof boots, so their longevity might be limited in certain conditions. Overall, they are a fantastic shoe choice.\""
   ]
  },
  {
   "cell_type": "code",
   "execution_count": 76,
   "id": "j9-lmnW5y2dH",
   "metadata": {
    "colab": {
     "base_uri": "https://localhost:8080/"
    },
    "id": "j9-lmnW5y2dH",
    "outputId": "d4cb6d18-5e37-46f2-ad1e-6603910a5ffa"
   },
   "outputs": [
    {
     "name": "stderr",
     "output_type": "stream",
     "text": [
      "<ipython-input-76-2caa9230c099>:1: SettingWithCopyWarning: \n",
      "A value is trying to be set on a copy of a slice from a DataFrame\n",
      "\n",
      "See the caveats in the documentation: https://pandas.pydata.org/pandas-docs/stable/user_guide/indexing.html#returning-a-view-versus-a-copy\n",
      "  test_dataset_raw_0_50['text_'][13831] = \"This film is truly remarkable as a Christian movie. The storytelling is well-crafted, and the acting is of excellent quality. I highly recommend this film to anyone who appreciates a compelling Christian story. As a movie enthusiast, I must say this one stands out as a great choice.\"\n"
     ]
    }
   ],
   "source": [
    "test_dataset_raw_0_50['text_'][13831] = \"This film is truly remarkable as a Christian movie. The storytelling is well-crafted, and the acting is of excellent quality. I highly recommend this film to anyone who appreciates a compelling Christian story. As a movie enthusiast, I must say this one stands out as a great choice.\""
   ]
  },
  {
   "cell_type": "code",
   "execution_count": 78,
   "id": "Jhwunubqy2lb",
   "metadata": {
    "colab": {
     "base_uri": "https://localhost:8080/"
    },
    "id": "Jhwunubqy2lb",
    "outputId": "f2764f14-2e0b-4f06-c7c6-03dd6cd29be5"
   },
   "outputs": [
    {
     "name": "stderr",
     "output_type": "stream",
     "text": [
      "<ipython-input-78-436a9663ffe8>:1: SettingWithCopyWarning: \n",
      "A value is trying to be set on a copy of a slice from a DataFrame\n",
      "\n",
      "See the caveats in the documentation: https://pandas.pydata.org/pandas-docs/stable/user_guide/indexing.html#returning-a-view-versus-a-copy\n",
      "  test_dataset_raw_0_50['text_'][24371] = \"I derive immense pleasure from reading this series. The characters are skillfully developed, and the narrative is masterfully told. The story is truly captivating and engrossing\"\n"
     ]
    }
   ],
   "source": [
    "test_dataset_raw_0_50['text_'][24371] = \"I derive immense pleasure from reading this series. The characters are skillfully developed, and the narrative is masterfully told. The story is truly captivating and engrossing\""
   ]
  },
  {
   "cell_type": "code",
   "execution_count": 80,
   "id": "hLgFRVfvy2rV",
   "metadata": {
    "colab": {
     "base_uri": "https://localhost:8080/"
    },
    "id": "hLgFRVfvy2rV",
    "outputId": "437e25a1-e67a-4746-ffc1-47c9e83f9f59"
   },
   "outputs": [
    {
     "name": "stderr",
     "output_type": "stream",
     "text": [
      "<ipython-input-80-322e19cebd58>:1: SettingWithCopyWarning: \n",
      "A value is trying to be set on a copy of a slice from a DataFrame\n",
      "\n",
      "See the caveats in the documentation: https://pandas.pydata.org/pandas-docs/stable/user_guide/indexing.html#returning-a-view-versus-a-copy\n",
      "  test_dataset_raw_0_50['text_'][9662] =\"This is another outstanding addition to an already impressive collection, offering excellent value for the money spent. While I may not be an expert on music, as a passionate music lover, I can confidently say that this is a remarkable choice.\"\n"
     ]
    }
   ],
   "source": [
    "test_dataset_raw_0_50['text_'][9662] =\"This is another outstanding addition to an already impressive collection, offering excellent value for the money spent. While I may not be an expert on music, as a passionate music lover, I can confidently say that this is a remarkable choice.\""
   ]
  },
  {
   "cell_type": "code",
   "execution_count": 82,
   "id": "q9ZGzDogy2wK",
   "metadata": {
    "colab": {
     "base_uri": "https://localhost:8080/"
    },
    "id": "q9ZGzDogy2wK",
    "outputId": "06e4ad06-9da0-4b9a-d5f4-5985c237a570"
   },
   "outputs": [
    {
     "name": "stderr",
     "output_type": "stream",
     "text": [
      "<ipython-input-82-da9e8f503cdc>:1: SettingWithCopyWarning: \n",
      "A value is trying to be set on a copy of a slice from a DataFrame\n",
      "\n",
      "See the caveats in the documentation: https://pandas.pydata.org/pandas-docs/stable/user_guide/indexing.html#returning-a-view-versus-a-copy\n",
      "  test_dataset_raw_0_50['text_'][33463] = \"Our 3-year-old daughter thoroughly enjoys playing with this toy, especially in her playroom. It's a delightful addition to her playtime.\"\n"
     ]
    }
   ],
   "source": [
    "test_dataset_raw_0_50['text_'][33463] = \"Our 3-year-old daughter thoroughly enjoys playing with this toy, especially in her playroom. It's a delightful addition to her playtime.\""
   ]
  },
  {
   "cell_type": "code",
   "execution_count": 84,
   "id": "_ZPvgd-oy208",
   "metadata": {
    "colab": {
     "base_uri": "https://localhost:8080/"
    },
    "id": "_ZPvgd-oy208",
    "outputId": "55dbbff7-6cbf-4d64-afe9-a98514208676"
   },
   "outputs": [
    {
     "name": "stderr",
     "output_type": "stream",
     "text": [
      "<ipython-input-84-11b359630d46>:1: SettingWithCopyWarning: \n",
      "A value is trying to be set on a copy of a slice from a DataFrame\n",
      "\n",
      "See the caveats in the documentation: https://pandas.pydata.org/pandas-docs/stable/user_guide/indexing.html#returning-a-view-versus-a-copy\n",
      "  test_dataset_raw_0_50['text_'][2954] = \"This product is generously sized, providing a comfortable and pleasant feel in my hand. I purchased it as a gift for a friend who turned out to be a big fan of it. She loved it so much that she even sent one to her brother as a Christmas present. The positive reviews mentioning its excellent quality were indeed accurate, and I can vouch for its impressive build.\"\n"
     ]
    }
   ],
   "source": [
    "test_dataset_raw_0_50['text_'][2954] = \"This product is generously sized, providing a comfortable and pleasant feel in my hand. I purchased it as a gift for a friend who turned out to be a big fan of it. She loved it so much that she even sent one to her brother as a Christmas present. The positive reviews mentioning its excellent quality were indeed accurate, and I can vouch for its impressive build.\""
   ]
  },
  {
   "cell_type": "code",
   "execution_count": 86,
   "id": "8rUMVgwTy26K",
   "metadata": {
    "colab": {
     "base_uri": "https://localhost:8080/"
    },
    "id": "8rUMVgwTy26K",
    "outputId": "72885944-50b2-467b-ae32-3c5a26d1b9b1"
   },
   "outputs": [
    {
     "name": "stderr",
     "output_type": "stream",
     "text": [
      "<ipython-input-86-981a18f10eeb>:1: SettingWithCopyWarning: \n",
      "A value is trying to be set on a copy of a slice from a DataFrame\n",
      "\n",
      "See the caveats in the documentation: https://pandas.pydata.org/pandas-docs/stable/user_guide/indexing.html#returning-a-view-versus-a-copy\n",
      "  test_dataset_raw_0_50['text_'][36835] = \"Highly comfortable and pleasantly designed, I wholeheartedly recommend this product. Its quality is superb, and it offers a comfortable fit, even for those with wide feet.\"\n"
     ]
    }
   ],
   "source": [
    "test_dataset_raw_0_50['text_'][36835] = \"Highly comfortable and pleasantly designed, I wholeheartedly recommend this product. Its quality is superb, and it offers a comfortable fit, even for those with wide feet.\""
   ]
  },
  {
   "cell_type": "code",
   "execution_count": 88,
   "id": "Lzkxrpeyy3N3",
   "metadata": {
    "colab": {
     "base_uri": "https://localhost:8080/"
    },
    "id": "Lzkxrpeyy3N3",
    "outputId": "e46960cb-e063-4dfc-dda1-2e2e6cc50f83"
   },
   "outputs": [
    {
     "name": "stderr",
     "output_type": "stream",
     "text": [
      "<ipython-input-88-ce03be20f652>:1: SettingWithCopyWarning: \n",
      "A value is trying to be set on a copy of a slice from a DataFrame\n",
      "\n",
      "See the caveats in the documentation: https://pandas.pydata.org/pandas-docs/stable/user_guide/indexing.html#returning-a-view-versus-a-copy\n",
      "  test_dataset_raw_0_50['text_'][11507] = \"After enduring several months of delays, this product has finally become a reality. I rate it 4 stars only because it's slightly too small for a laptop. The keyboard size is a bit compact, which might not be a major issue for me, but it could be better suited for laptops. Additionally, the keyboard is a bit large and cumbersome to handle. Personally, I prefer having my laptop on my lap or on the couch rather than dealing with a bulky keyboard on my lap with a hard surface. There are some doubts about the keyboard's longevity, as it may be too small for a laptop. However, it does a commendable job of securely holding my Macbook Pro, and I've been using it comfortably for some time now.\"\n"
     ]
    }
   ],
   "source": [
    "test_dataset_raw_0_50['text_'][11507] = \"After enduring several months of delays, this product has finally become a reality. I rate it 4 stars only because it's slightly too small for a laptop. The keyboard size is a bit compact, which might not be a major issue for me, but it could be better suited for laptops. Additionally, the keyboard is a bit large and cumbersome to handle. Personally, I prefer having my laptop on my lap or on the couch rather than dealing with a bulky keyboard on my lap with a hard surface. There are some doubts about the keyboard's longevity, as it may be too small for a laptop. However, it does a commendable job of securely holding my Macbook Pro, and I've been using it comfortably for some time now.\""
   ]
  },
  {
   "cell_type": "code",
   "execution_count": 90,
   "id": "WdqLyyodxftG",
   "metadata": {
    "colab": {
     "base_uri": "https://localhost:8080/"
    },
    "id": "WdqLyyodxftG",
    "outputId": "8137ed1d-05e6-46fe-ad74-45ebdfe3ca77"
   },
   "outputs": [
    {
     "name": "stderr",
     "output_type": "stream",
     "text": [
      "<ipython-input-90-0425f2da9a42>:1: SettingWithCopyWarning: \n",
      "A value is trying to be set on a copy of a slice from a DataFrame\n",
      "\n",
      "See the caveats in the documentation: https://pandas.pydata.org/pandas-docs/stable/user_guide/indexing.html#returning-a-view-versus-a-copy\n",
      "  test_dataset_raw_0_50['text_'][17802] = \"I've owned this gun for a couple of years, and I couldn't be happier with its performance. Despite its small size, it packs a punch and proves its worth without the need for spending extra money. It's particularly useful for handling small jobs and comes in handy for tasks, especially when on the go or working in a truck.\"\n"
     ]
    }
   ],
   "source": [
    "test_dataset_raw_0_50['text_'][17802] = \"I've owned this gun for a couple of years, and I couldn't be happier with its performance. Despite its small size, it packs a punch and proves its worth without the need for spending extra money. It's particularly useful for handling small jobs and comes in handy for tasks, especially when on the go or working in a truck.\""
   ]
  },
  {
   "cell_type": "code",
   "execution_count": 92,
   "id": "TLPb2ioF0L4m",
   "metadata": {
    "colab": {
     "base_uri": "https://localhost:8080/"
    },
    "id": "TLPb2ioF0L4m",
    "outputId": "04c5b4d2-3d83-438e-9ae1-6bdb34c6c204"
   },
   "outputs": [
    {
     "name": "stderr",
     "output_type": "stream",
     "text": [
      "<ipython-input-92-9c5a84f9b9ed>:1: SettingWithCopyWarning: \n",
      "A value is trying to be set on a copy of a slice from a DataFrame\n",
      "\n",
      "See the caveats in the documentation: https://pandas.pydata.org/pandas-docs/stable/user_guide/indexing.html#returning-a-view-versus-a-copy\n",
      "  test_dataset_raw_0_50['text_'][28244] = \"I received this book as an Amazon freebie and got an ARC in exchange for an honest review. While the first two books were enjoyable, the rest of the story didn't quite captivate me, especially the second book, which lacked a compelling storyline. The hero and heroine were a bit frustrating, and their characters lacked depth, although the hero was likable and the heroine's growth was interesting. The villain was well-portrayed, but didn't evoke much emotion. The ending was pleasant, and I had hoped for a sequel that didn't materialize. Overall, the book had some enjoyable aspects with twists and turns, making it worth recommending to those who appreciate a good story.\"\n"
     ]
    }
   ],
   "source": [
    "test_dataset_raw_0_50['text_'][28244] = \"I received this book as an Amazon freebie and got an ARC in exchange for an honest review. While the first two books were enjoyable, the rest of the story didn't quite captivate me, especially the second book, which lacked a compelling storyline. The hero and heroine were a bit frustrating, and their characters lacked depth, although the hero was likable and the heroine's growth was interesting. The villain was well-portrayed, but didn't evoke much emotion. The ending was pleasant, and I had hoped for a sequel that didn't materialize. Overall, the book had some enjoyable aspects with twists and turns, making it worth recommending to those who appreciate a good story.\""
   ]
  },
  {
   "cell_type": "code",
   "execution_count": 94,
   "id": "qFpuQxdu0L9g",
   "metadata": {
    "colab": {
     "base_uri": "https://localhost:8080/"
    },
    "id": "qFpuQxdu0L9g",
    "outputId": "997957bc-aae7-45b1-e9dc-5dba73dd1be0"
   },
   "outputs": [
    {
     "name": "stderr",
     "output_type": "stream",
     "text": [
      "<ipython-input-94-c356e26ba2e3>:1: SettingWithCopyWarning: \n",
      "A value is trying to be set on a copy of a slice from a DataFrame\n",
      "\n",
      "See the caveats in the documentation: https://pandas.pydata.org/pandas-docs/stable/user_guide/indexing.html#returning-a-view-versus-a-copy\n",
      "  test_dataset_raw_0_50['text_'][10309] =\"The device serves its purpose, but it does have a design flaw. I must admit that it's a bit bulky. If you're looking for a nice and sturdy desktop, then this is the one to get. However, if you prefer a smaller desktop, then this might not be the best choice for you. I purchased this device for...\"\n"
     ]
    }
   ],
   "source": [
    "test_dataset_raw_0_50['text_'][10309] =\"The device serves its purpose, but it does have a design flaw. I must admit that it's a bit bulky. If you're looking for a nice and sturdy desktop, then this is the one to get. However, if you prefer a smaller desktop, then this might not be the best choice for you. I purchased this device for...\""
   ]
  },
  {
   "cell_type": "code",
   "execution_count": 96,
   "id": "fVF_1GT80MB7",
   "metadata": {
    "colab": {
     "base_uri": "https://localhost:8080/"
    },
    "id": "fVF_1GT80MB7",
    "outputId": "347afb49-56f9-4e83-b90e-9325fe413a9c"
   },
   "outputs": [
    {
     "name": "stderr",
     "output_type": "stream",
     "text": [
      "<ipython-input-96-07c98fa1d941>:1: SettingWithCopyWarning: \n",
      "A value is trying to be set on a copy of a slice from a DataFrame\n",
      "\n",
      "See the caveats in the documentation: https://pandas.pydata.org/pandas-docs/stable/user_guide/indexing.html#returning-a-view-versus-a-copy\n",
      "  test_dataset_raw_0_50['text_'][31786] =\"It's unfortunate that this book has been overlooked in history, but dwelling on the past isn't worth my time. However, I must acknowledge that the book is well-written and in good condition. On the brighter side, I absolutely adored this book and couldn't wait to read it, along with its thrilling sequel. It seamlessly continues the series, and I'm eagerly looking forward to what unfolds next. This entire series has been a delightful journey for me over the past month, and each book has been a joy to read.\"\n"
     ]
    }
   ],
   "source": [
    "test_dataset_raw_0_50['text_'][31786] =\"It's unfortunate that this book has been overlooked in history, but dwelling on the past isn't worth my time. However, I must acknowledge that the book is well-written and in good condition. On the brighter side, I absolutely adored this book and couldn't wait to read it, along with its thrilling sequel. It seamlessly continues the series, and I'm eagerly looking forward to what unfolds next. This entire series has been a delightful journey for me over the past month, and each book has been a joy to read.\""
   ]
  },
  {
   "cell_type": "code",
   "execution_count": 98,
   "id": "wMF8mybn0MLU",
   "metadata": {
    "colab": {
     "base_uri": "https://localhost:8080/"
    },
    "id": "wMF8mybn0MLU",
    "outputId": "35188759-22d3-4387-a3f2-f3c928431d96"
   },
   "outputs": [
    {
     "name": "stderr",
     "output_type": "stream",
     "text": [
      "<ipython-input-98-be9211b3276e>:1: SettingWithCopyWarning: \n",
      "A value is trying to be set on a copy of a slice from a DataFrame\n",
      "\n",
      "See the caveats in the documentation: https://pandas.pydata.org/pandas-docs/stable/user_guide/indexing.html#returning-a-view-versus-a-copy\n",
      "  test_dataset_raw_0_50['text_'][26381] = \"I absolutely adored this book! The emotional love story kept me captivated, and I loved the characters' journey to find their way back together. It's a must-read for all romance enthusiasts. The story was very engaging, and the characters were well-developed, which I truly appreciated.\"\n"
     ]
    }
   ],
   "source": [
    "test_dataset_raw_0_50['text_'][26381] = \"I absolutely adored this book! The emotional love story kept me captivated, and I loved the characters' journey to find their way back together. It's a must-read for all romance enthusiasts. The story was very engaging, and the characters were well-developed, which I truly appreciated.\""
   ]
  },
  {
   "cell_type": "code",
   "execution_count": 100,
   "id": "J3jctCsJ0MSc",
   "metadata": {
    "colab": {
     "base_uri": "https://localhost:8080/"
    },
    "id": "J3jctCsJ0MSc",
    "outputId": "50550b16-88d8-4f4c-f943-5036f1c805bc"
   },
   "outputs": [
    {
     "name": "stderr",
     "output_type": "stream",
     "text": [
      "<ipython-input-100-22d559de4195>:1: SettingWithCopyWarning: \n",
      "A value is trying to be set on a copy of a slice from a DataFrame\n",
      "\n",
      "See the caveats in the documentation: https://pandas.pydata.org/pandas-docs/stable/user_guide/indexing.html#returning-a-view-versus-a-copy\n",
      "  test_dataset_raw_0_50['text_'][3940] =\"I have two Keurig-type vacuum cleaners, and they work perfectly fine. The extra suction on the top is a great feature, and the blades make it easy to clean. I would definitely repurchase this product./The reviews mentioned that it was a great size, but I found it to be smaller than expected, so I had to order another set for my grandson. Nevertheless, I love the color, and they work wonderfully for me. /This blanket is fantastic! It's soft, cozy, and durable. While it's not overly heavy, it does a good job of keeping me comfortable in hot weather. I'll be buying another set for my daughter, who is having trouble sleeping. /I bought these curtains, and they looked pretty cute. They are also great for my son's bed. The colors are exactly as pictured, and the fabric is softer than expected, but I still like it. The vibrant colors are a pleasant surprise. They are a wonderful addition to my bedroom, and I highly recommend them.\"\n"
     ]
    }
   ],
   "source": [
    "test_dataset_raw_0_50['text_'][3940] =\"I have two Keurig-type vacuum cleaners, and they work perfectly fine. The extra suction on the top is a great feature, and the blades make it easy to clean. I would definitely repurchase this product./The reviews mentioned that it was a great size, but I found it to be smaller than expected, so I had to order another set for my grandson. Nevertheless, I love the color, and they work wonderfully for me. /This blanket is fantastic! It's soft, cozy, and durable. While it's not overly heavy, it does a good job of keeping me comfortable in hot weather. I'll be buying another set for my daughter, who is having trouble sleeping. /I bought these curtains, and they looked pretty cute. They are also great for my son's bed. The colors are exactly as pictured, and the fabric is softer than expected, but I still like it. The vibrant colors are a pleasant surprise. They are a wonderful addition to my bedroom, and I highly recommend them.\""
   ]
  },
  {
   "cell_type": "code",
   "execution_count": 102,
   "id": "s09tD2Qa0MZH",
   "metadata": {
    "colab": {
     "base_uri": "https://localhost:8080/"
    },
    "id": "s09tD2Qa0MZH",
    "outputId": "9f68c491-cb9b-4370-babc-f73f1a2ea596"
   },
   "outputs": [
    {
     "name": "stderr",
     "output_type": "stream",
     "text": [
      "<ipython-input-102-0e687f8424a9>:1: SettingWithCopyWarning: \n",
      "A value is trying to be set on a copy of a slice from a DataFrame\n",
      "\n",
      "See the caveats in the documentation: https://pandas.pydata.org/pandas-docs/stable/user_guide/indexing.html#returning-a-view-versus-a-copy\n",
      "  test_dataset_raw_0_50['text_'][12791] = \"This animated movie was fantastic! Initially, I didn't expect it to be as good as the original, but it pleasantly surprised me with its greatness.\"\n"
     ]
    }
   ],
   "source": [
    "test_dataset_raw_0_50['text_'][12791] = \"This animated movie was fantastic! Initially, I didn't expect it to be as good as the original, but it pleasantly surprised me with its greatness.\""
   ]
  },
  {
   "cell_type": "code",
   "execution_count": 104,
   "id": "iw-DpUCP0MeY",
   "metadata": {
    "colab": {
     "base_uri": "https://localhost:8080/"
    },
    "id": "iw-DpUCP0MeY",
    "outputId": "eb9ac051-aba5-4268-e32f-700daa97db0a"
   },
   "outputs": [
    {
     "name": "stderr",
     "output_type": "stream",
     "text": [
      "<ipython-input-104-54da43a17500>:1: SettingWithCopyWarning: \n",
      "A value is trying to be set on a copy of a slice from a DataFrame\n",
      "\n",
      "See the caveats in the documentation: https://pandas.pydata.org/pandas-docs/stable/user_guide/indexing.html#returning-a-view-versus-a-copy\n",
      "  test_dataset_raw_0_50['text_'][21130] = \"My cat absolutely loves this toy, and it keeps her entertained for a considerable amount of time. She doesn't chase it, but it still proves to be an excellent value for the price.\"\n"
     ]
    }
   ],
   "source": [
    "test_dataset_raw_0_50['text_'][21130] = \"My cat absolutely loves this toy, and it keeps her entertained for a considerable amount of time. She doesn't chase it, but it still proves to be an excellent value for the price.\""
   ]
  },
  {
   "cell_type": "code",
   "execution_count": 107,
   "id": "cAsLdhCb1iiF",
   "metadata": {
    "colab": {
     "base_uri": "https://localhost:8080/"
    },
    "id": "cAsLdhCb1iiF",
    "outputId": "c6bf4ee3-47bf-40af-9507-e44712d01cea"
   },
   "outputs": [
    {
     "name": "stderr",
     "output_type": "stream",
     "text": [
      "<ipython-input-107-efde937c0e47>:1: SettingWithCopyWarning: \n",
      "A value is trying to be set on a copy of a slice from a DataFrame\n",
      "\n",
      "See the caveats in the documentation: https://pandas.pydata.org/pandas-docs/stable/user_guide/indexing.html#returning-a-view-versus-a-copy\n",
      "  test_dataset_raw_0_50['text_'][26333] = \"Calling it 'broken' would be an understatement of the thrilling journey this story takes you on. Filled with captivating twists and turns, it keeps you hooked and eager for more. The characters are truly believable, and the fast-paced narrative adds to its appeal. Without a doubt, this book is a must-read, and I highly recommend it. I received this book from a friend, and in all honesty, I absolutely loved it!\"\n"
     ]
    }
   ],
   "source": [
    "test_dataset_raw_0_50['text_'][26333] = \"Calling it 'broken' would be an understatement of the thrilling journey this story takes you on. Filled with captivating twists and turns, it keeps you hooked and eager for more. The characters are truly believable, and the fast-paced narrative adds to its appeal. Without a doubt, this book is a must-read, and I highly recommend it. I received this book from a friend, and in all honesty, I absolutely loved it!\""
   ]
  },
  {
   "cell_type": "code",
   "execution_count": 109,
   "id": "a4-vo1BU1irf",
   "metadata": {
    "colab": {
     "base_uri": "https://localhost:8080/"
    },
    "id": "a4-vo1BU1irf",
    "outputId": "f0cc2510-2874-4322-9897-687753aab02f"
   },
   "outputs": [
    {
     "name": "stderr",
     "output_type": "stream",
     "text": [
      "<ipython-input-109-6cae279b0a14>:1: SettingWithCopyWarning: \n",
      "A value is trying to be set on a copy of a slice from a DataFrame\n",
      "\n",
      "See the caveats in the documentation: https://pandas.pydata.org/pandas-docs/stable/user_guide/indexing.html#returning-a-view-versus-a-copy\n",
      "  test_dataset_raw_0_50['text_'][34131] = \"This deck serves as an excellent starter set, featuring numerous high-quality cards. The variety among the cards is impressive, and the design is well-crafted.\"\n"
     ]
    }
   ],
   "source": [
    "test_dataset_raw_0_50['text_'][34131] = \"This deck serves as an excellent starter set, featuring numerous high-quality cards. The variety among the cards is impressive, and the design is well-crafted.\""
   ]
  },
  {
   "cell_type": "code",
   "execution_count": 111,
   "id": "ULG9pelb1iyW",
   "metadata": {
    "colab": {
     "base_uri": "https://localhost:8080/"
    },
    "id": "ULG9pelb1iyW",
    "outputId": "45b46a9f-73ba-4f6a-cd4b-84d7ef4c2f06"
   },
   "outputs": [
    {
     "name": "stderr",
     "output_type": "stream",
     "text": [
      "<ipython-input-111-37a1efa1aaa9>:1: SettingWithCopyWarning: \n",
      "A value is trying to be set on a copy of a slice from a DataFrame\n",
      "\n",
      "See the caveats in the documentation: https://pandas.pydata.org/pandas-docs/stable/user_guide/indexing.html#returning-a-view-versus-a-copy\n",
      "  test_dataset_raw_0_50['text_'][28036] =\"Slight spoiler alert: Killian is portrayed as the male lead with a troubled past that has made him come across as a bit of a jerk. His desire to avoid involvement with the mercenary organization he was hired to protect was the only thing holding him back from making a decision. He had much to learn about the world and military, and it was a challenging lesson to grasp. Throughout the experience, he underwent significant personal growth, but it was hard to see him as anything other than a jerk.On the other hand, Kylo, a former Marine, is a young woman with a military background. Although she wasn't in a position to tell Killian how to behave, she was committed to protecting him. While she also had much to learn about her family and their opinions, she was determined to do everything in her power to keep him safe and make him happy. At the same time, Kylo felt that there was something about herself that would profoundly change her life for the better. The last thing she wanted was to...\"\n"
     ]
    }
   ],
   "source": [
    "test_dataset_raw_0_50['text_'][28036] =\"Slight spoiler alert: Killian is portrayed as the male lead with a troubled past that has made him come across as a bit of a jerk. His desire to avoid involvement with the mercenary organization he was hired to protect was the only thing holding him back from making a decision. He had much to learn about the world and military, and it was a challenging lesson to grasp. Throughout the experience, he underwent significant personal growth, but it was hard to see him as anything other than a jerk.On the other hand, Kylo, a former Marine, is a young woman with a military background. Although she wasn't in a position to tell Killian how to behave, she was committed to protecting him. While she also had much to learn about her family and their opinions, she was determined to do everything in her power to keep him safe and make him happy. At the same time, Kylo felt that there was something about herself that would profoundly change her life for the better. The last thing she wanted was to...\""
   ]
  },
  {
   "cell_type": "code",
   "execution_count": 113,
   "id": "OMVgDIi81i4F",
   "metadata": {
    "colab": {
     "base_uri": "https://localhost:8080/"
    },
    "id": "OMVgDIi81i4F",
    "outputId": "819a9943-e3df-4bc4-b8da-be59ba10c2ea"
   },
   "outputs": [
    {
     "name": "stderr",
     "output_type": "stream",
     "text": [
      "<ipython-input-113-fe397863835c>:1: SettingWithCopyWarning: \n",
      "A value is trying to be set on a copy of a slice from a DataFrame\n",
      "\n",
      "See the caveats in the documentation: https://pandas.pydata.org/pandas-docs/stable/user_guide/indexing.html#returning-a-view-versus-a-copy\n",
      "  test_dataset_raw_0_50['text_'][21829] =\"This product is fantastic for taking my two small dogs outside with me. I plan to keep using it for the next couple of months due to its great functionality and the excellent price. It works perfectly, especially since my dog is a chewer, and I find it easy to get her to eat with it.\"\n"
     ]
    }
   ],
   "source": [
    "test_dataset_raw_0_50['text_'][21829] =\"This product is fantastic for taking my two small dogs outside with me. I plan to keep using it for the next couple of months due to its great functionality and the excellent price. It works perfectly, especially since my dog is a chewer, and I find it easy to get her to eat with it.\""
   ]
  },
  {
   "cell_type": "code",
   "execution_count": 115,
   "id": "u9X3pmAR1i8O",
   "metadata": {
    "colab": {
     "base_uri": "https://localhost:8080/"
    },
    "id": "u9X3pmAR1i8O",
    "outputId": "083b9806-92c8-4541-fe71-8156244a2cd4"
   },
   "outputs": [
    {
     "name": "stderr",
     "output_type": "stream",
     "text": [
      "<ipython-input-115-31b7ac0123c6>:1: SettingWithCopyWarning: \n",
      "A value is trying to be set on a copy of a slice from a DataFrame\n",
      "\n",
      "See the caveats in the documentation: https://pandas.pydata.org/pandas-docs/stable/user_guide/indexing.html#returning-a-view-versus-a-copy\n",
      "  test_dataset_raw_0_50['text_'][36002] =\"We bought this camera for my daughter, and she absolutely loves it, especially the bright colors. She plays with it frequently, and it's easy for her to use. The camera has been perfect for her as she enjoys taking pictures of everything she can, including her family's toys and other items. The camera's quality is impressive, and it's very durable and user-friendly. I highly recommend this camera for any child interested in video. It's an excellent choice, and I would recommend it to anyone who is interested.\"\n"
     ]
    }
   ],
   "source": [
    "test_dataset_raw_0_50['text_'][36002] =\"We bought this camera for my daughter, and she absolutely loves it, especially the bright colors. She plays with it frequently, and it's easy for her to use. The camera has been perfect for her as she enjoys taking pictures of everything she can, including her family's toys and other items. The camera's quality is impressive, and it's very durable and user-friendly. I highly recommend this camera for any child interested in video. It's an excellent choice, and I would recommend it to anyone who is interested.\""
   ]
  },
  {
   "cell_type": "code",
   "execution_count": 117,
   "id": "ip_jn-Sy1jAc",
   "metadata": {
    "colab": {
     "base_uri": "https://localhost:8080/"
    },
    "id": "ip_jn-Sy1jAc",
    "outputId": "0634fc60-94d3-4aab-fa09-0d42154f4b73"
   },
   "outputs": [
    {
     "name": "stderr",
     "output_type": "stream",
     "text": [
      "<ipython-input-117-9aaa60778100>:1: SettingWithCopyWarning: \n",
      "A value is trying to be set on a copy of a slice from a DataFrame\n",
      "\n",
      "See the caveats in the documentation: https://pandas.pydata.org/pandas-docs/stable/user_guide/indexing.html#returning-a-view-versus-a-copy\n",
      "  test_dataset_raw_0_50['text_'][32896] =\"This item fits my 20-month-old perfectly and includes all the necessary pieces to make it function.\"\n"
     ]
    }
   ],
   "source": [
    "test_dataset_raw_0_50['text_'][32896] =\"This item fits my 20-month-old perfectly and includes all the necessary pieces to make it function.\""
   ]
  },
  {
   "cell_type": "code",
   "execution_count": 119,
   "id": "9o6KsMIL2x1O",
   "metadata": {
    "colab": {
     "base_uri": "https://localhost:8080/"
    },
    "id": "9o6KsMIL2x1O",
    "outputId": "c71a7751-5874-435f-c483-4bb7b9814ed0"
   },
   "outputs": [
    {
     "name": "stderr",
     "output_type": "stream",
     "text": [
      "<ipython-input-119-c18ed5cfdc53>:1: SettingWithCopyWarning: \n",
      "A value is trying to be set on a copy of a slice from a DataFrame\n",
      "\n",
      "See the caveats in the documentation: https://pandas.pydata.org/pandas-docs/stable/user_guide/indexing.html#returning-a-view-versus-a-copy\n",
      "  test_dataset_raw_0_50['text_'][13185] =\"I haven't watched the entire movie yet, and I won't be purchasing the Blu-ray. Instead, I had to obtain a copy in some other way.\"\n"
     ]
    }
   ],
   "source": [
    "test_dataset_raw_0_50['text_'][13185] =\"I haven't watched the entire movie yet, and I won't be purchasing the Blu-ray. Instead, I had to obtain a copy in some other way.\""
   ]
  },
  {
   "cell_type": "code",
   "execution_count": 121,
   "id": "r3K9N_O82x6q",
   "metadata": {
    "colab": {
     "base_uri": "https://localhost:8080/"
    },
    "id": "r3K9N_O82x6q",
    "outputId": "911f5466-7f62-411a-9f20-25c288d70975"
   },
   "outputs": [
    {
     "name": "stderr",
     "output_type": "stream",
     "text": [
      "<ipython-input-121-805f5e6dbdce>:1: SettingWithCopyWarning: \n",
      "A value is trying to be set on a copy of a slice from a DataFrame\n",
      "\n",
      "See the caveats in the documentation: https://pandas.pydata.org/pandas-docs/stable/user_guide/indexing.html#returning-a-view-versus-a-copy\n",
      "  test_dataset_raw_0_50['text_'][4173] =\"I purchased this as a gift for my husband, and he absolutely adores it. He loves the way it...\"\n"
     ]
    }
   ],
   "source": [
    "test_dataset_raw_0_50['text_'][4173] =\"I purchased this as a gift for my husband, and he absolutely adores it. He loves the way it...\""
   ]
  },
  {
   "cell_type": "code",
   "execution_count": 123,
   "id": "bJmFA8Lg2yAr",
   "metadata": {
    "colab": {
     "base_uri": "https://localhost:8080/"
    },
    "id": "bJmFA8Lg2yAr",
    "outputId": "a880f920-9076-4d96-d6d9-3d12c4c0b9f2"
   },
   "outputs": [
    {
     "name": "stderr",
     "output_type": "stream",
     "text": [
      "<ipython-input-123-755e6ebbb440>:1: SettingWithCopyWarning: \n",
      "A value is trying to be set on a copy of a slice from a DataFrame\n",
      "\n",
      "See the caveats in the documentation: https://pandas.pydata.org/pandas-docs/stable/user_guide/indexing.html#returning-a-view-versus-a-copy\n",
      "  test_dataset_raw_0_50['text_'][6265] =\"While I typically shoot multiple weapons, I found it a bit challenging to acquire this particular one. However, I managed to get a solid grip on the gun, making it suitable for use with a Ruger 1911.\"\n"
     ]
    }
   ],
   "source": [
    "test_dataset_raw_0_50['text_'][6265] =\"While I typically shoot multiple weapons, I found it a bit challenging to acquire this particular one. However, I managed to get a solid grip on the gun, making it suitable for use with a Ruger 1911.\""
   ]
  },
  {
   "cell_type": "code",
   "execution_count": 125,
   "id": "MDK5EBAU2yGO",
   "metadata": {
    "colab": {
     "base_uri": "https://localhost:8080/"
    },
    "id": "MDK5EBAU2yGO",
    "outputId": "9c882c34-d74a-4f95-b0cb-569427bb6b2a"
   },
   "outputs": [
    {
     "name": "stderr",
     "output_type": "stream",
     "text": [
      "<ipython-input-125-61f64eb8f375>:1: SettingWithCopyWarning: \n",
      "A value is trying to be set on a copy of a slice from a DataFrame\n",
      "\n",
      "See the caveats in the documentation: https://pandas.pydata.org/pandas-docs/stable/user_guide/indexing.html#returning-a-view-versus-a-copy\n",
      "  test_dataset_raw_0_50['text_'][36584] =\"My granddaughter adores it. I purchased boxer briefs for my daughter, and she was thrilled with them.\"\n"
     ]
    }
   ],
   "source": [
    "test_dataset_raw_0_50['text_'][36584] =\"My granddaughter adores it. I purchased boxer briefs for my daughter, and she was thrilled with them.\""
   ]
  },
  {
   "cell_type": "code",
   "execution_count": 127,
   "id": "rVGWpYci2yLn",
   "metadata": {
    "colab": {
     "base_uri": "https://localhost:8080/"
    },
    "id": "rVGWpYci2yLn",
    "outputId": "ced0a49d-8f2e-429b-bf06-acc012693047"
   },
   "outputs": [
    {
     "name": "stderr",
     "output_type": "stream",
     "text": [
      "<ipython-input-127-a33e0ca4e81a>:1: SettingWithCopyWarning: \n",
      "A value is trying to be set on a copy of a slice from a DataFrame\n",
      "\n",
      "See the caveats in the documentation: https://pandas.pydata.org/pandas-docs/stable/user_guide/indexing.html#returning-a-view-versus-a-copy\n",
      "  test_dataset_raw_0_50['text_'][18300] =\"I'm giving this product 4 stars because it's a cost-effective light that is suitable for various tasks.I previously purchased a similar light from Home Depot that was advertised as a 4-watt light, but it turned out to be a 5-watt light with no sun and a 2-watt dimmer. In contrast, the one I have now is genuinely a 4-watt light.\"\n"
     ]
    }
   ],
   "source": [
    "test_dataset_raw_0_50['text_'][18300] =\"I'm giving this product 4 stars because it's a cost-effective light that is suitable for various tasks.I previously purchased a similar light from Home Depot that was advertised as a 4-watt light, but it turned out to be a 5-watt light with no sun and a 2-watt dimmer. In contrast, the one I have now is genuinely a 4-watt light.\""
   ]
  },
  {
   "cell_type": "code",
   "execution_count": 129,
   "id": "2Y5qjg3S3gF7",
   "metadata": {
    "colab": {
     "base_uri": "https://localhost:8080/"
    },
    "id": "2Y5qjg3S3gF7",
    "outputId": "8cd6b01e-5a2a-43d4-d3c1-34619d2219c5"
   },
   "outputs": [
    {
     "name": "stderr",
     "output_type": "stream",
     "text": [
      "<ipython-input-129-113611e17aff>:1: SettingWithCopyWarning: \n",
      "A value is trying to be set on a copy of a slice from a DataFrame\n",
      "\n",
      "See the caveats in the documentation: https://pandas.pydata.org/pandas-docs/stable/user_guide/indexing.html#returning-a-view-versus-a-copy\n",
      "  test_dataset_raw_0_50['text_'][36500] =\"I've always been a Star Wars fan, but I was pleasantly surprised by how well-made this particular item is. The attention to detail is fantastic, and the paintwork is exquisite. Despite my initial expectation of a smaller figure, I found it to be perfect in size. It's still enjoyable to play with and is a must-have for any Star Wars enthusiast.I bought this as a gift for my son, and he was genuinely interested in it. The toy is very cute, and he loved it. I'm looking forward to getting more items like this for him, knowing it will make him happy. Great product! My granddaughter adores these bath toys, but the kids prefer not to leave them outside for too long. I got them for my 9-year-old daughter on her birthday, and she loves playing with them, although she found the small pieces a bit challenging to handle. My granddaughter loved this doll, even though she's not generally into dolls. She was initially a little apprehensive about the wooden material, but she found the doll to be very cute. However, I felt it was a bit more expensive than expected, and the dress was too small and loose at the back. The dolls are also cheaply made and challenging to put on the doll's back. Despite these shortcomings, it's a fun toy overall.\"\n"
     ]
    }
   ],
   "source": [
    "test_dataset_raw_0_50['text_'][36500] =\"I've always been a Star Wars fan, but I was pleasantly surprised by how well-made this particular item is. The attention to detail is fantastic, and the paintwork is exquisite. Despite my initial expectation of a smaller figure, I found it to be perfect in size. It's still enjoyable to play with and is a must-have for any Star Wars enthusiast.I bought this as a gift for my son, and he was genuinely interested in it. The toy is very cute, and he loved it. I'm looking forward to getting more items like this for him, knowing it will make him happy. Great product! My granddaughter adores these bath toys, but the kids prefer not to leave them outside for too long. I got them for my 9-year-old daughter on her birthday, and she loves playing with them, although she found the small pieces a bit challenging to handle. My granddaughter loved this doll, even though she's not generally into dolls. She was initially a little apprehensive about the wooden material, but she found the doll to be very cute. However, I felt it was a bit more expensive than expected, and the dress was too small and loose at the back. The dolls are also cheaply made and challenging to put on the doll's back. Despite these shortcomings, it's a fun toy overall.\""
   ]
  },
  {
   "cell_type": "code",
   "execution_count": 131,
   "id": "QEVr1pMW3gSo",
   "metadata": {
    "colab": {
     "base_uri": "https://localhost:8080/"
    },
    "id": "QEVr1pMW3gSo",
    "outputId": "7a652987-4f68-4458-f57e-2474d32b50ef"
   },
   "outputs": [
    {
     "name": "stderr",
     "output_type": "stream",
     "text": [
      "<ipython-input-131-6e0491220eaf>:1: SettingWithCopyWarning: \n",
      "A value is trying to be set on a copy of a slice from a DataFrame\n",
      "\n",
      "See the caveats in the documentation: https://pandas.pydata.org/pandas-docs/stable/user_guide/indexing.html#returning-a-view-versus-a-copy\n",
      "  test_dataset_raw_0_50['text_'][8968] =\"The product worked right away and significantly enhanced home security. The only downside is that it takes some time to get accustomed to using it.\"\n"
     ]
    }
   ],
   "source": [
    "test_dataset_raw_0_50['text_'][8968] =\"The product worked right away and significantly enhanced home security. The only downside is that it takes some time to get accustomed to using it.\""
   ]
  },
  {
   "cell_type": "code",
   "execution_count": 133,
   "id": "QGSn4BdU3gXp",
   "metadata": {
    "colab": {
     "base_uri": "https://localhost:8080/"
    },
    "id": "QGSn4BdU3gXp",
    "outputId": "065f8561-9980-434f-f348-1b7be60ef9b3"
   },
   "outputs": [
    {
     "name": "stderr",
     "output_type": "stream",
     "text": [
      "<ipython-input-133-16121b8e7d9e>:1: SettingWithCopyWarning: \n",
      "A value is trying to be set on a copy of a slice from a DataFrame\n",
      "\n",
      "See the caveats in the documentation: https://pandas.pydata.org/pandas-docs/stable/user_guide/indexing.html#returning-a-view-versus-a-copy\n",
      "  test_dataset_raw_0_50['text_'][32790] =\"This product works exceptionally well! The material is thick and durable, and the pieces are sturdy, capable of enduring the wear and tear of... \"\n"
     ]
    }
   ],
   "source": [
    "test_dataset_raw_0_50['text_'][32790] =\"This product works exceptionally well! The material is thick and durable, and the pieces are sturdy, capable of enduring the wear and tear of... \""
   ]
  },
  {
   "cell_type": "code",
   "execution_count": 135,
   "id": "ZUgwyq3k3gb7",
   "metadata": {
    "colab": {
     "base_uri": "https://localhost:8080/"
    },
    "id": "ZUgwyq3k3gb7",
    "outputId": "6da87a54-3464-4ed8-9679-665f50305665"
   },
   "outputs": [
    {
     "name": "stderr",
     "output_type": "stream",
     "text": [
      "<ipython-input-135-b08172eb1bc9>:1: SettingWithCopyWarning: \n",
      "A value is trying to be set on a copy of a slice from a DataFrame\n",
      "\n",
      "See the caveats in the documentation: https://pandas.pydata.org/pandas-docs/stable/user_guide/indexing.html#returning-a-view-versus-a-copy\n",
      "  test_dataset_raw_0_50['text_'][26048] =\"I thoroughly enjoyed reading this P.J. Parrish book, and it was my first experience with this author's work. I loved it so much that I have already bought her other books, and I'm eagerly looking forward to reading them. I'm very excited about diving into more of her writing.\"\n"
     ]
    }
   ],
   "source": [
    "test_dataset_raw_0_50['text_'][26048] =\"I thoroughly enjoyed reading this P.J. Parrish book, and it was my first experience with this author's work. I loved it so much that I have already bought her other books, and I'm eagerly looking forward to reading them. I'm very excited about diving into more of her writing.\""
   ]
  },
  {
   "cell_type": "code",
   "execution_count": 137,
   "id": "e80whCL73gfM",
   "metadata": {
    "colab": {
     "base_uri": "https://localhost:8080/"
    },
    "id": "e80whCL73gfM",
    "outputId": "64436351-e04d-4018-e2db-e20848da4dc7"
   },
   "outputs": [
    {
     "name": "stderr",
     "output_type": "stream",
     "text": [
      "<ipython-input-137-4b50a9810c73>:1: SettingWithCopyWarning: \n",
      "A value is trying to be set on a copy of a slice from a DataFrame\n",
      "\n",
      "See the caveats in the documentation: https://pandas.pydata.org/pandas-docs/stable/user_guide/indexing.html#returning-a-view-versus-a-copy\n",
      "  test_dataset_raw_0_50['text_'][10131] =\"Adding an external HDD to your computer is incredibly easy with this product; all you have to do is plug it in. I had to replace a malfunctioning solid-state drive that wasn't compatible with the other drives I had. If you're considering making a purchase...\"\n"
     ]
    }
   ],
   "source": [
    "test_dataset_raw_0_50['text_'][10131] =\"Adding an external HDD to your computer is incredibly easy with this product; all you have to do is plug it in. I had to replace a malfunctioning solid-state drive that wasn't compatible with the other drives I had. If you're considering making a purchase...\""
   ]
  },
  {
   "cell_type": "code",
   "execution_count": 139,
   "id": "duSrBjVE1jEo",
   "metadata": {
    "colab": {
     "base_uri": "https://localhost:8080/"
    },
    "id": "duSrBjVE1jEo",
    "outputId": "cc421bd5-1e4e-48ad-e1d5-3cb6a0a2ac99"
   },
   "outputs": [
    {
     "name": "stderr",
     "output_type": "stream",
     "text": [
      "<ipython-input-139-ff259b867177>:1: SettingWithCopyWarning: \n",
      "A value is trying to be set on a copy of a slice from a DataFrame\n",
      "\n",
      "See the caveats in the documentation: https://pandas.pydata.org/pandas-docs/stable/user_guide/indexing.html#returning-a-view-versus-a-copy\n",
      "  test_dataset_raw_0_50['text_'][28084] =\"I thoroughly enjoy a good SEAL story, and this book didn't disappoint. The characters are well-developed and believable, and the writing is solid. I finished reading it in just a few days and found the plot to be strong, leading to a satisfying ending. The author also excels in describing the most common type of dog and its characteristics, making the book an enjoyable, quick, and easy read. I read the entire story in one sitting and found it captivating; I'm a fan of Ms. King's writing and look forward to more from her. Overall, it's a great start to a series, and I highly recommend this book, especially to those who appreciate westerns and seek an entertaining, quick read. The characters and plot are well-written, and the humor adds to the enjoyment of the story.\"\n"
     ]
    }
   ],
   "source": [
    "test_dataset_raw_0_50['text_'][28084] =\"I thoroughly enjoy a good SEAL story, and this book didn't disappoint. The characters are well-developed and believable, and the writing is solid. I finished reading it in just a few days and found the plot to be strong, leading to a satisfying ending. The author also excels in describing the most common type of dog and its characteristics, making the book an enjoyable, quick, and easy read. I read the entire story in one sitting and found it captivating; I'm a fan of Ms. King's writing and look forward to more from her. Overall, it's a great start to a series, and I highly recommend this book, especially to those who appreciate westerns and seek an entertaining, quick read. The characters and plot are well-written, and the humor adds to the enjoyment of the story.\""
   ]
  },
  {
   "cell_type": "code",
   "execution_count": 141,
   "id": "j3GASXvY1jHt",
   "metadata": {
    "colab": {
     "base_uri": "https://localhost:8080/"
    },
    "id": "j3GASXvY1jHt",
    "outputId": "04491ca2-c0da-40b2-b324-3d2d2b6fca4c"
   },
   "outputs": [
    {
     "name": "stderr",
     "output_type": "stream",
     "text": [
      "<ipython-input-141-b72525e2818c>:1: SettingWithCopyWarning: \n",
      "A value is trying to be set on a copy of a slice from a DataFrame\n",
      "\n",
      "See the caveats in the documentation: https://pandas.pydata.org/pandas-docs/stable/user_guide/indexing.html#returning-a-view-versus-a-copy\n",
      "  test_dataset_raw_0_50['text_'][6407] =\"I am now interested in getting these in a larger size, as I have found them to be quite useful. I even used them for a few hours in a cave, and I am impressed with the solid seams and pleasant texture. So far, I haven't experienced any problems with the seams becoming loose.\"\n"
     ]
    }
   ],
   "source": [
    "test_dataset_raw_0_50['text_'][6407] =\"I am now interested in getting these in a larger size, as I have found them to be quite useful. I even used them for a few hours in a cave, and I am impressed with the solid seams and pleasant texture. So far, I haven't experienced any problems with the seams becoming loose.\""
   ]
  },
  {
   "cell_type": "code",
   "execution_count": 145,
   "id": "g3EuEGBnxf0k",
   "metadata": {
    "id": "g3EuEGBnxf0k"
   },
   "outputs": [],
   "source": [
    "merged_df_gpt = pd.concat([test_dataset_raw_0_50, test_dataset_raw_1_100], ignore_index=True)\n",
    "\n",
    "# Shuffle the index\n",
    "test_150_gpt = merged_df_gpt.sample(frac=1, random_state=42).reset_index(drop=True)"
   ]
  },
  {
   "cell_type": "code",
   "execution_count": 146,
   "id": "rGiutMNg43gP",
   "metadata": {
    "colab": {
     "base_uri": "https://localhost:8080/",
     "height": 424
    },
    "id": "rGiutMNg43gP",
    "outputId": "23909f04-f5f4-4ef1-955a-f7dd562d2ce2"
   },
   "outputs": [
    {
     "data": {
      "text/html": [
       "\n",
       "\n",
       "  <div id=\"df-b0eb4a29-0f51-457f-a4ec-e28a4e099169\">\n",
       "    <div class=\"colab-df-container\">\n",
       "      <div>\n",
       "<style scoped>\n",
       "    .dataframe tbody tr th:only-of-type {\n",
       "        vertical-align: middle;\n",
       "    }\n",
       "\n",
       "    .dataframe tbody tr th {\n",
       "        vertical-align: top;\n",
       "    }\n",
       "\n",
       "    .dataframe thead th {\n",
       "        text-align: right;\n",
       "    }\n",
       "</style>\n",
       "<table border=\"1\" class=\"dataframe\">\n",
       "  <thead>\n",
       "    <tr style=\"text-align: right;\">\n",
       "      <th></th>\n",
       "      <th>category</th>\n",
       "      <th>rating</th>\n",
       "      <th>label</th>\n",
       "      <th>text_</th>\n",
       "      <th>target</th>\n",
       "    </tr>\n",
       "  </thead>\n",
       "  <tbody>\n",
       "    <tr>\n",
       "      <th>0</th>\n",
       "      <td>Pet_Supplies_5</td>\n",
       "      <td>3.0</td>\n",
       "      <td>OR</td>\n",
       "      <td>I know this works great for other dogs, but it...</td>\n",
       "      <td>1</td>\n",
       "    </tr>\n",
       "    <tr>\n",
       "      <th>1</th>\n",
       "      <td>Kindle_Store_5</td>\n",
       "      <td>5.0</td>\n",
       "      <td>CG</td>\n",
       "      <td>I derive immense pleasure from reading this se...</td>\n",
       "      <td>0</td>\n",
       "    </tr>\n",
       "    <tr>\n",
       "      <th>2</th>\n",
       "      <td>Clothing_Shoes_and_Jewelry_5</td>\n",
       "      <td>5.0</td>\n",
       "      <td>OR</td>\n",
       "      <td>This turned out to be a great jacket.  This ja...</td>\n",
       "      <td>1</td>\n",
       "    </tr>\n",
       "    <tr>\n",
       "      <th>3</th>\n",
       "      <td>Kindle_Store_5</td>\n",
       "      <td>5.0</td>\n",
       "      <td>OR</td>\n",
       "      <td>It is a very nice story. It is funny and lovin...</td>\n",
       "      <td>1</td>\n",
       "    </tr>\n",
       "    <tr>\n",
       "      <th>4</th>\n",
       "      <td>Kindle_Store_5</td>\n",
       "      <td>5.0</td>\n",
       "      <td>OR</td>\n",
       "      <td>I picked this up, expecting just another short...</td>\n",
       "      <td>1</td>\n",
       "    </tr>\n",
       "    <tr>\n",
       "      <th>...</th>\n",
       "      <td>...</td>\n",
       "      <td>...</td>\n",
       "      <td>...</td>\n",
       "      <td>...</td>\n",
       "      <td>...</td>\n",
       "    </tr>\n",
       "    <tr>\n",
       "      <th>145</th>\n",
       "      <td>Pet_Supplies_5</td>\n",
       "      <td>4.0</td>\n",
       "      <td>OR</td>\n",
       "      <td>Oh, gosh, I can't believe it's taken me this l...</td>\n",
       "      <td>1</td>\n",
       "    </tr>\n",
       "    <tr>\n",
       "      <th>146</th>\n",
       "      <td>Clothing_Shoes_and_Jewelry_5</td>\n",
       "      <td>5.0</td>\n",
       "      <td>OR</td>\n",
       "      <td>Been wearing 501s since the late 1970s - can't...</td>\n",
       "      <td>1</td>\n",
       "    </tr>\n",
       "    <tr>\n",
       "      <th>147</th>\n",
       "      <td>Toys_and_Games_5</td>\n",
       "      <td>5.0</td>\n",
       "      <td>CG</td>\n",
       "      <td>This doll is absolutely adorable! She is incre...</td>\n",
       "      <td>0</td>\n",
       "    </tr>\n",
       "    <tr>\n",
       "      <th>148</th>\n",
       "      <td>Toys_and_Games_5</td>\n",
       "      <td>5.0</td>\n",
       "      <td>OR</td>\n",
       "      <td>These were a fun addition to the goody bags fo...</td>\n",
       "      <td>1</td>\n",
       "    </tr>\n",
       "    <tr>\n",
       "      <th>149</th>\n",
       "      <td>Home_and_Kitchen_5</td>\n",
       "      <td>3.0</td>\n",
       "      <td>OR</td>\n",
       "      <td>Beautiful in appearance. Very comfy to sit on ...</td>\n",
       "      <td>1</td>\n",
       "    </tr>\n",
       "  </tbody>\n",
       "</table>\n",
       "<p>150 rows × 5 columns</p>\n",
       "</div>\n",
       "      <button class=\"colab-df-convert\" onclick=\"convertToInteractive('df-b0eb4a29-0f51-457f-a4ec-e28a4e099169')\"\n",
       "              title=\"Convert this dataframe to an interactive table.\"\n",
       "              style=\"display:none;\">\n",
       "\n",
       "  <svg xmlns=\"http://www.w3.org/2000/svg\" height=\"24px\"viewBox=\"0 0 24 24\"\n",
       "       width=\"24px\">\n",
       "    <path d=\"M0 0h24v24H0V0z\" fill=\"none\"/>\n",
       "    <path d=\"M18.56 5.44l.94 2.06.94-2.06 2.06-.94-2.06-.94-.94-2.06-.94 2.06-2.06.94zm-11 1L8.5 8.5l.94-2.06 2.06-.94-2.06-.94L8.5 2.5l-.94 2.06-2.06.94zm10 10l.94 2.06.94-2.06 2.06-.94-2.06-.94-.94-2.06-.94 2.06-2.06.94z\"/><path d=\"M17.41 7.96l-1.37-1.37c-.4-.4-.92-.59-1.43-.59-.52 0-1.04.2-1.43.59L10.3 9.45l-7.72 7.72c-.78.78-.78 2.05 0 2.83L4 21.41c.39.39.9.59 1.41.59.51 0 1.02-.2 1.41-.59l7.78-7.78 2.81-2.81c.8-.78.8-2.07 0-2.86zM5.41 20L4 18.59l7.72-7.72 1.47 1.35L5.41 20z\"/>\n",
       "  </svg>\n",
       "      </button>\n",
       "\n",
       "\n",
       "\n",
       "    <div id=\"df-c14ce4bd-bad9-40e0-9e41-e6da5b45bd97\">\n",
       "      <button class=\"colab-df-quickchart\" onclick=\"quickchart('df-c14ce4bd-bad9-40e0-9e41-e6da5b45bd97')\"\n",
       "              title=\"Suggest charts.\"\n",
       "              style=\"display:none;\">\n",
       "\n",
       "<svg xmlns=\"http://www.w3.org/2000/svg\" height=\"24px\"viewBox=\"0 0 24 24\"\n",
       "     width=\"24px\">\n",
       "    <g>\n",
       "        <path d=\"M19 3H5c-1.1 0-2 .9-2 2v14c0 1.1.9 2 2 2h14c1.1 0 2-.9 2-2V5c0-1.1-.9-2-2-2zM9 17H7v-7h2v7zm4 0h-2V7h2v10zm4 0h-2v-4h2v4z\"/>\n",
       "    </g>\n",
       "</svg>\n",
       "      </button>\n",
       "    </div>\n",
       "\n",
       "<style>\n",
       "  .colab-df-quickchart {\n",
       "    background-color: #E8F0FE;\n",
       "    border: none;\n",
       "    border-radius: 50%;\n",
       "    cursor: pointer;\n",
       "    display: none;\n",
       "    fill: #1967D2;\n",
       "    height: 32px;\n",
       "    padding: 0 0 0 0;\n",
       "    width: 32px;\n",
       "  }\n",
       "\n",
       "  .colab-df-quickchart:hover {\n",
       "    background-color: #E2EBFA;\n",
       "    box-shadow: 0px 1px 2px rgba(60, 64, 67, 0.3), 0px 1px 3px 1px rgba(60, 64, 67, 0.15);\n",
       "    fill: #174EA6;\n",
       "  }\n",
       "\n",
       "  [theme=dark] .colab-df-quickchart {\n",
       "    background-color: #3B4455;\n",
       "    fill: #D2E3FC;\n",
       "  }\n",
       "\n",
       "  [theme=dark] .colab-df-quickchart:hover {\n",
       "    background-color: #434B5C;\n",
       "    box-shadow: 0px 1px 3px 1px rgba(0, 0, 0, 0.15);\n",
       "    filter: drop-shadow(0px 1px 2px rgba(0, 0, 0, 0.3));\n",
       "    fill: #FFFFFF;\n",
       "  }\n",
       "</style>\n",
       "\n",
       "    <script>\n",
       "      async function quickchart(key) {\n",
       "        const containerElement = document.querySelector('#' + key);\n",
       "        const charts = await google.colab.kernel.invokeFunction(\n",
       "            'suggestCharts', [key], {});\n",
       "      }\n",
       "    </script>\n",
       "\n",
       "      <script>\n",
       "\n",
       "function displayQuickchartButton(domScope) {\n",
       "  let quickchartButtonEl =\n",
       "    domScope.querySelector('#df-c14ce4bd-bad9-40e0-9e41-e6da5b45bd97 button.colab-df-quickchart');\n",
       "  quickchartButtonEl.style.display =\n",
       "    google.colab.kernel.accessAllowed ? 'block' : 'none';\n",
       "}\n",
       "\n",
       "        displayQuickchartButton(document);\n",
       "      </script>\n",
       "      <style>\n",
       "    .colab-df-container {\n",
       "      display:flex;\n",
       "      flex-wrap:wrap;\n",
       "      gap: 12px;\n",
       "    }\n",
       "\n",
       "    .colab-df-convert {\n",
       "      background-color: #E8F0FE;\n",
       "      border: none;\n",
       "      border-radius: 50%;\n",
       "      cursor: pointer;\n",
       "      display: none;\n",
       "      fill: #1967D2;\n",
       "      height: 32px;\n",
       "      padding: 0 0 0 0;\n",
       "      width: 32px;\n",
       "    }\n",
       "\n",
       "    .colab-df-convert:hover {\n",
       "      background-color: #E2EBFA;\n",
       "      box-shadow: 0px 1px 2px rgba(60, 64, 67, 0.3), 0px 1px 3px 1px rgba(60, 64, 67, 0.15);\n",
       "      fill: #174EA6;\n",
       "    }\n",
       "\n",
       "    [theme=dark] .colab-df-convert {\n",
       "      background-color: #3B4455;\n",
       "      fill: #D2E3FC;\n",
       "    }\n",
       "\n",
       "    [theme=dark] .colab-df-convert:hover {\n",
       "      background-color: #434B5C;\n",
       "      box-shadow: 0px 1px 3px 1px rgba(0, 0, 0, 0.15);\n",
       "      filter: drop-shadow(0px 1px 2px rgba(0, 0, 0, 0.3));\n",
       "      fill: #FFFFFF;\n",
       "    }\n",
       "  </style>\n",
       "\n",
       "      <script>\n",
       "        const buttonEl =\n",
       "          document.querySelector('#df-b0eb4a29-0f51-457f-a4ec-e28a4e099169 button.colab-df-convert');\n",
       "        buttonEl.style.display =\n",
       "          google.colab.kernel.accessAllowed ? 'block' : 'none';\n",
       "\n",
       "        async function convertToInteractive(key) {\n",
       "          const element = document.querySelector('#df-b0eb4a29-0f51-457f-a4ec-e28a4e099169');\n",
       "          const dataTable =\n",
       "            await google.colab.kernel.invokeFunction('convertToInteractive',\n",
       "                                                     [key], {});\n",
       "          if (!dataTable) return;\n",
       "\n",
       "          const docLinkHtml = 'Like what you see? Visit the ' +\n",
       "            '<a target=\"_blank\" href=https://colab.research.google.com/notebooks/data_table.ipynb>data table notebook</a>'\n",
       "            + ' to learn more about interactive tables.';\n",
       "          element.innerHTML = '';\n",
       "          dataTable['output_type'] = 'display_data';\n",
       "          await google.colab.output.renderOutput(dataTable, element);\n",
       "          const docLink = document.createElement('div');\n",
       "          docLink.innerHTML = docLinkHtml;\n",
       "          element.appendChild(docLink);\n",
       "        }\n",
       "      </script>\n",
       "    </div>\n",
       "  </div>\n"
      ],
      "text/plain": [
       "                         category  rating label  \\\n",
       "0                  Pet_Supplies_5     3.0    OR   \n",
       "1                  Kindle_Store_5     5.0    CG   \n",
       "2    Clothing_Shoes_and_Jewelry_5     5.0    OR   \n",
       "3                  Kindle_Store_5     5.0    OR   \n",
       "4                  Kindle_Store_5     5.0    OR   \n",
       "..                            ...     ...   ...   \n",
       "145                Pet_Supplies_5     4.0    OR   \n",
       "146  Clothing_Shoes_and_Jewelry_5     5.0    OR   \n",
       "147              Toys_and_Games_5     5.0    CG   \n",
       "148              Toys_and_Games_5     5.0    OR   \n",
       "149            Home_and_Kitchen_5     3.0    OR   \n",
       "\n",
       "                                                 text_  target  \n",
       "0    I know this works great for other dogs, but it...       1  \n",
       "1    I derive immense pleasure from reading this se...       0  \n",
       "2    This turned out to be a great jacket.  This ja...       1  \n",
       "3    It is a very nice story. It is funny and lovin...       1  \n",
       "4    I picked this up, expecting just another short...       1  \n",
       "..                                                 ...     ...  \n",
       "145  Oh, gosh, I can't believe it's taken me this l...       1  \n",
       "146  Been wearing 501s since the late 1970s - can't...       1  \n",
       "147  This doll is absolutely adorable! She is incre...       0  \n",
       "148  These were a fun addition to the goody bags fo...       1  \n",
       "149  Beautiful in appearance. Very comfy to sit on ...       1  \n",
       "\n",
       "[150 rows x 5 columns]"
      ]
     },
     "execution_count": 146,
     "metadata": {},
     "output_type": "execute_result"
    }
   ],
   "source": [
    "test_150_gpt"
   ]
  },
  {
   "cell_type": "code",
   "execution_count": 147,
   "id": "3yMrIZ7B44DU",
   "metadata": {
    "id": "3yMrIZ7B44DU"
   },
   "outputs": [],
   "source": [
    "test_encodings_gpt = tokenizer(test_150_gpt['text_'].tolist(), truncation=True, padding=True, max_length=256)\n",
    "\n",
    "test_dataset_gpt = tf.data.Dataset.from_tensor_slices((\n",
    "    dict(test_encodings_gpt),\n",
    "    test_150_gpt['target'].values\n",
    "))\n"
   ]
  },
  {
   "cell_type": "code",
   "execution_count": 148,
   "id": "BOMlv-f644JJ",
   "metadata": {
    "colab": {
     "base_uri": "https://localhost:8080/"
    },
    "id": "BOMlv-f644JJ",
    "outputId": "344ef103-66c3-4268-b8d5-82f4a537eab9"
   },
   "outputs": [
    {
     "name": "stdout",
     "output_type": "stream",
     "text": [
      "10/10 [==============================] - 3s 267ms/step\n",
      "              precision    recall  f1-score   support\n",
      "\n",
      "          CG       0.87      0.68      0.76        50\n",
      "          OR       0.86      0.95      0.90       100\n",
      "\n",
      "    accuracy                           0.86       150\n",
      "   macro avg       0.86      0.81      0.83       150\n",
      "weighted avg       0.86      0.86      0.85       150\n",
      "\n"
     ]
    }
   ],
   "source": [
    "test_dataset_gpt_batched = test_dataset_gpt.batch(16)\n",
    "y_pred_raw_gpt = model.predict(test_dataset_gpt_batched)\n",
    "\n",
    "# Convert raw predictions to class predictions\n",
    "y_pred_gpt = np.argmax(y_pred_raw_gpt.logits, axis=1)\n",
    "\n",
    "# Get the actual class labels\n",
    "y_true_gpt = []\n",
    "for features, label in test_dataset_gpt:\n",
    "    y_true_gpt.append(label.numpy())\n",
    "y_true_gpt = np.array(y_true_gpt)\n",
    "\n",
    "\n",
    "# Generate a classification report\n",
    "report_gpt = classification_report(y_true_gpt, y_pred_gpt, target_names=[\"CG\", \"OR\"])  # replace target_names with your actual class names\n",
    "print(report_gpt)"
   ]
  },
  {
   "cell_type": "code",
   "execution_count": null,
   "id": "gweeCRgk44Q5",
   "metadata": {
    "id": "gweeCRgk44Q5"
   },
   "outputs": [],
   "source": []
  },
  {
   "cell_type": "markdown",
   "id": "fKECxbcQ7xwM",
   "metadata": {
    "id": "fKECxbcQ7xwM"
   },
   "source": [
    "# chatgpt4"
   ]
  },
  {
   "cell_type": "code",
   "execution_count": 149,
   "id": "0WRyzi_n6VFW",
   "metadata": {
    "id": "0WRyzi_n6VFW"
   },
   "outputs": [],
   "source": [
    "random_25_rows = test_dataset_raw_0.sample(n=25)\n",
    "\n",
    "# Build the new DataFrame using the randomly selected rows\n",
    "test_dataset_raw_0_25 = pd.DataFrame(random_25_rows)"
   ]
  },
  {
   "cell_type": "code",
   "execution_count": 151,
   "id": "WIVeV3GV6VKB",
   "metadata": {
    "colab": {
     "base_uri": "https://localhost:8080/"
    },
    "id": "WIVeV3GV6VKB",
    "outputId": "c8ee81ad-e2e1-45d0-c74f-6e86a93e700d"
   },
   "outputs": [
    {
     "data": {
      "text/plain": [
       "Int64Index([17408,  9913,  7820, 27662, 26833,  7804, 21469, 18647, 15587,\n",
       "            39912, 17068,  2006, 22140, 33467, 22840, 35898, 30798, 25185,\n",
       "            17279,  4867, 22505, 11525, 25079, 36858, 37468],\n",
       "           dtype='int64')"
      ]
     },
     "execution_count": 151,
     "metadata": {},
     "output_type": "execute_result"
    }
   ],
   "source": [
    "test_dataset_raw_0_25.index"
   ]
  },
  {
   "cell_type": "code",
   "execution_count": 200,
   "id": "kHerbLda6VOp",
   "metadata": {
    "colab": {
     "base_uri": "https://localhost:8080/",
     "height": 35
    },
    "id": "kHerbLda6VOp",
    "outputId": "22361183-d92f-43db-975b-d25db0dad0f8"
   },
   "outputs": [
    {
     "data": {
      "application/vnd.google.colaboratory.intrinsic+json": {
       "type": "string"
      },
      "text/plain": [
       "'Fits true to size and looks great.  It is a little snug for my small size,'"
      ]
     },
     "execution_count": 200,
     "metadata": {},
     "output_type": "execute_result"
    }
   ],
   "source": [
    "test_dataset_raw_0_25['text_'][37468]"
   ]
  },
  {
   "cell_type": "code",
   "execution_count": null,
   "id": "Ljbiw97b8eBO",
   "metadata": {
    "id": "Ljbiw97b8eBO"
   },
   "outputs": [],
   "source": []
  },
  {
   "cell_type": "code",
   "execution_count": 153,
   "id": "hEqPhPMN6VTK",
   "metadata": {
    "colab": {
     "base_uri": "https://localhost:8080/"
    },
    "id": "hEqPhPMN6VTK",
    "outputId": "9a5d8e4c-2e47-4d57-910b-cbaf0d94432e"
   },
   "outputs": [
    {
     "name": "stderr",
     "output_type": "stream",
     "text": [
      "<ipython-input-153-1799c2a950be>:1: SettingWithCopyWarning: \n",
      "A value is trying to be set on a copy of a slice from a DataFrame\n",
      "\n",
      "See the caveats in the documentation: https://pandas.pydata.org/pandas-docs/stable/user_guide/indexing.html#returning-a-view-versus-a-copy\n",
      "  test_dataset_raw_0_25['text_'][17408] =\"Fantastic lights! Kudos to both the manufacturer and the seller! The quality is top-notch. It's a charming, compact light that functions perfectly. The pricing is also remarkably reasonable. The light unit itself is excellent and performs brilliantly.\"\n"
     ]
    }
   ],
   "source": [
    "test_dataset_raw_0_25['text_'][17408] =\"Fantastic lights! Kudos to both the manufacturer and the seller! The quality is top-notch. It's a charming, compact light that functions perfectly. The pricing is also remarkably reasonable. The light unit itself is excellent and performs brilliantly.\""
   ]
  },
  {
   "cell_type": "code",
   "execution_count": 155,
   "id": "VbPRbCLL6VXR",
   "metadata": {
    "colab": {
     "base_uri": "https://localhost:8080/"
    },
    "id": "VbPRbCLL6VXR",
    "outputId": "b8767d1c-41a2-498b-bea5-f4e6544c768d"
   },
   "outputs": [
    {
     "name": "stderr",
     "output_type": "stream",
     "text": [
      "<ipython-input-155-079a0e5e2ba6>:1: SettingWithCopyWarning: \n",
      "A value is trying to be set on a copy of a slice from a DataFrame\n",
      "\n",
      "See the caveats in the documentation: https://pandas.pydata.org/pandas-docs/stable/user_guide/indexing.html#returning-a-view-versus-a-copy\n",
      "  test_dataset_raw_0_25['text_'][9913] =\"The item functions perfectly. However, the description doesn't include details about the shipping box. I'm planning to return this item. Despite this, it's an impressive product. I purchased this for a friend who is extremely satisfied with it. The only aspect I would like to change is...\"\n"
     ]
    }
   ],
   "source": [
    "test_dataset_raw_0_25['text_'][9913] =\"The item functions perfectly. However, the description doesn't include details about the shipping box. I'm planning to return this item. Despite this, it's an impressive product. I purchased this for a friend who is extremely satisfied with it. The only aspect I would like to change is...\""
   ]
  },
  {
   "cell_type": "code",
   "execution_count": 157,
   "id": "qbAM0lux8ROR",
   "metadata": {
    "colab": {
     "base_uri": "https://localhost:8080/"
    },
    "id": "qbAM0lux8ROR",
    "outputId": "43543303-2729-4216-a026-94f44c7df400"
   },
   "outputs": [
    {
     "name": "stderr",
     "output_type": "stream",
     "text": [
      "<ipython-input-157-2a2f11cbc04f>:1: SettingWithCopyWarning: \n",
      "A value is trying to be set on a copy of a slice from a DataFrame\n",
      "\n",
      "See the caveats in the documentation: https://pandas.pydata.org/pandas-docs/stable/user_guide/indexing.html#returning-a-view-versus-a-copy\n",
      "  test_dataset_raw_0_25['text_'][7820] = \"This is an essential item for anyone wanting to experiment with a new bat for the first time. I had a friend who was interested in a bat at a local store that was similar to one we'd used for batting practice. That bat performed exceptionally well, and we absolutely loved it. Despite being slightly on the pricier side, it met our requirements perfectly and was worth the investment. We recently went to Walmart and purchased a new bat. The cost was $30 less than the previous one, which delighted us. The bat was a tad heavy, so we stored it in a bag and placed it in a closet. Despite initial difficulties fitting it into our cooler, it ended up being a good fit and we used it for our batting practice. It's a superb bat, and we're pleased with our purchase. I would recommend it to anyone considering buying a bat. In addition, we acquired a tent for our boat journey along Mexico's east coast. It was astounding how warm and comfortable it was. The tent was not only spacious but also simple to set up. It even allowed us to sleep inside while we were out on the water, with a clear view of the water.\"\n"
     ]
    }
   ],
   "source": [
    "test_dataset_raw_0_25['text_'][7820] = \"This is an essential item for anyone wanting to experiment with a new bat for the first time. I had a friend who was interested in a bat at a local store that was similar to one we'd used for batting practice. That bat performed exceptionally well, and we absolutely loved it. Despite being slightly on the pricier side, it met our requirements perfectly and was worth the investment. We recently went to Walmart and purchased a new bat. The cost was $30 less than the previous one, which delighted us. The bat was a tad heavy, so we stored it in a bag and placed it in a closet. Despite initial difficulties fitting it into our cooler, it ended up being a good fit and we used it for our batting practice. It's a superb bat, and we're pleased with our purchase. I would recommend it to anyone considering buying a bat. In addition, we acquired a tent for our boat journey along Mexico's east coast. It was astounding how warm and comfortable it was. The tent was not only spacious but also simple to set up. It even allowed us to sleep inside while we were out on the water, with a clear view of the water.\""
   ]
  },
  {
   "cell_type": "code",
   "execution_count": 159,
   "id": "wBIhXANV8RTt",
   "metadata": {
    "colab": {
     "base_uri": "https://localhost:8080/"
    },
    "id": "wBIhXANV8RTt",
    "outputId": "a691faad-8ada-47a2-b6d5-ee114451e680"
   },
   "outputs": [
    {
     "name": "stderr",
     "output_type": "stream",
     "text": [
      "<ipython-input-159-9e3fc059b1d3>:1: SettingWithCopyWarning: \n",
      "A value is trying to be set on a copy of a slice from a DataFrame\n",
      "\n",
      "See the caveats in the documentation: https://pandas.pydata.org/pandas-docs/stable/user_guide/indexing.html#returning-a-view-versus-a-copy\n",
      "  test_dataset_raw_0_25['text_'][27662] = \"I found the book incredibly captivating. The characters were skillfully fleshed out, making the storyline quite enjoyable. I received an advance reader's copy in return for an unbiased review. This book is a gem; the characters and plot are beautifully crafted. It serves as an excellent series for the younger audience. Having read the initial book in the series, I can vouch for the overall quality of the series. I strongly recommend this book. This book was a pleasure to read. I am a fan of good romance, and this had a hint of mystery, enhancing the overall story. This book was appealing, though initially, there was a bit of confusion. However, once I overcame the initial ambiguity, the read was worthwhile. I'm eagerly anticipating that the upcoming books in this series will follow suit. This charming tale revolves around a young man and a girl named Belinda who...\"\n"
     ]
    }
   ],
   "source": [
    "test_dataset_raw_0_25['text_'][27662] = \"I found the book incredibly captivating. The characters were skillfully fleshed out, making the storyline quite enjoyable. I received an advance reader's copy in return for an unbiased review. This book is a gem; the characters and plot are beautifully crafted. It serves as an excellent series for the younger audience. Having read the initial book in the series, I can vouch for the overall quality of the series. I strongly recommend this book. This book was a pleasure to read. I am a fan of good romance, and this had a hint of mystery, enhancing the overall story. This book was appealing, though initially, there was a bit of confusion. However, once I overcame the initial ambiguity, the read was worthwhile. I'm eagerly anticipating that the upcoming books in this series will follow suit. This charming tale revolves around a young man and a girl named Belinda who...\""
   ]
  },
  {
   "cell_type": "code",
   "execution_count": 161,
   "id": "5wCJhERh8oGL",
   "metadata": {
    "colab": {
     "base_uri": "https://localhost:8080/"
    },
    "id": "5wCJhERh8oGL",
    "outputId": "4f14fcf8-19fd-40fe-f5b5-258965973219"
   },
   "outputs": [
    {
     "name": "stderr",
     "output_type": "stream",
     "text": [
      "<ipython-input-161-3c68ea8e946e>:1: SettingWithCopyWarning: \n",
      "A value is trying to be set on a copy of a slice from a DataFrame\n",
      "\n",
      "See the caveats in the documentation: https://pandas.pydata.org/pandas-docs/stable/user_guide/indexing.html#returning-a-view-versus-a-copy\n",
      "  test_dataset_raw_0_25['text_'][26833] = \"This is the sequel in The Crystal Queen series. The Crystal Queen series has held a special place in my reading list for the past few years, and I'm confident that I'll continue to explore more of her works in the future. This book was an absolute delight! A friend gifted me this book in return for a candid review. I found it marvelous, brimming with compelling characters and unexpected plot twists. I heartily endorse it! It was...\"\n"
     ]
    }
   ],
   "source": [
    "test_dataset_raw_0_25['text_'][26833] = \"This is the sequel in The Crystal Queen series. The Crystal Queen series has held a special place in my reading list for the past few years, and I'm confident that I'll continue to explore more of her works in the future. This book was an absolute delight! A friend gifted me this book in return for a candid review. I found it marvelous, brimming with compelling characters and unexpected plot twists. I heartily endorse it! It was...\""
   ]
  },
  {
   "cell_type": "code",
   "execution_count": 163,
   "id": "RZ2nkpjs8oK5",
   "metadata": {
    "colab": {
     "base_uri": "https://localhost:8080/"
    },
    "id": "RZ2nkpjs8oK5",
    "outputId": "4f97749f-d183-4da8-cc84-ce5bfdfea815"
   },
   "outputs": [
    {
     "name": "stderr",
     "output_type": "stream",
     "text": [
      "<ipython-input-163-bba4c5859c4e>:1: SettingWithCopyWarning: \n",
      "A value is trying to be set on a copy of a slice from a DataFrame\n",
      "\n",
      "See the caveats in the documentation: https://pandas.pydata.org/pandas-docs/stable/user_guide/indexing.html#returning-a-view-versus-a-copy\n",
      "  test_dataset_raw_0_25['text_'][7804] =\"The only reason I rated this a 3-star is because I didn't want to unduly skew the ratings. It may not be the best in terms of design, but it's undoubtedly a superior product. I also gave it 4 stars at one point, not because I desired to use it, but rather I needed it to kickstart my day. Despite its effectiveness, I didn't intend to use it for anything else. My curiosity was mainly around whether it could perform that specific task, and it did. However, it's challenging to always ascertain if you're making a mistake. It's a remarkable product, and I plan to purchase more of it. I'll certainly retain it for my wife. Regarding the tent, I've been using it for several years without encountering any issues. I employed this tent during a boat ride in the summer of 2012, and its durability has been impressive. The tent boasts a substantial footprint and appears to be well-constructed. I'd recommend it to anyone looking to establish a tent on a boat. I've used this tent on a few other boats...\"\n"
     ]
    }
   ],
   "source": [
    "test_dataset_raw_0_25['text_'][7804] =\"The only reason I rated this a 3-star is because I didn't want to unduly skew the ratings. It may not be the best in terms of design, but it's undoubtedly a superior product. I also gave it 4 stars at one point, not because I desired to use it, but rather I needed it to kickstart my day. Despite its effectiveness, I didn't intend to use it for anything else. My curiosity was mainly around whether it could perform that specific task, and it did. However, it's challenging to always ascertain if you're making a mistake. It's a remarkable product, and I plan to purchase more of it. I'll certainly retain it for my wife. Regarding the tent, I've been using it for several years without encountering any issues. I employed this tent during a boat ride in the summer of 2012, and its durability has been impressive. The tent boasts a substantial footprint and appears to be well-constructed. I'd recommend it to anyone looking to establish a tent on a boat. I've used this tent on a few other boats...\""
   ]
  },
  {
   "cell_type": "code",
   "execution_count": 165,
   "id": "75tCfkFv8oOu",
   "metadata": {
    "colab": {
     "base_uri": "https://localhost:8080/"
    },
    "id": "75tCfkFv8oOu",
    "outputId": "4b74a182-2624-4910-f5f1-b9843ce7835c"
   },
   "outputs": [
    {
     "name": "stderr",
     "output_type": "stream",
     "text": [
      "<ipython-input-165-f94a80caef7c>:1: SettingWithCopyWarning: \n",
      "A value is trying to be set on a copy of a slice from a DataFrame\n",
      "\n",
      "See the caveats in the documentation: https://pandas.pydata.org/pandas-docs/stable/user_guide/indexing.html#returning-a-view-versus-a-copy\n",
      "  test_dataset_raw_0_25['text_'][21469] =\"This product shields my kittens from the odor of the litter box. Additionally, I appreciate that it's one of the initial items I've purchased for my kitty that we're not constantly having to remove and...\"\n"
     ]
    }
   ],
   "source": [
    "test_dataset_raw_0_25['text_'][21469] =\"This product shields my kittens from the odor of the litter box. Additionally, I appreciate that it's one of the initial items I've purchased for my kitty that we're not constantly having to remove and...\""
   ]
  },
  {
   "cell_type": "code",
   "execution_count": 167,
   "id": "9lVIfOod8oR9",
   "metadata": {
    "colab": {
     "base_uri": "https://localhost:8080/"
    },
    "id": "9lVIfOod8oR9",
    "outputId": "422cedb8-77d4-44d5-d89a-683bfb96836e"
   },
   "outputs": [
    {
     "name": "stderr",
     "output_type": "stream",
     "text": [
      "<ipython-input-167-463af6542b10>:1: SettingWithCopyWarning: \n",
      "A value is trying to be set on a copy of a slice from a DataFrame\n",
      "\n",
      "See the caveats in the documentation: https://pandas.pydata.org/pandas-docs/stable/user_guide/indexing.html#returning-a-view-versus-a-copy\n",
      "  test_dataset_raw_0_25['text_'][18647] =\"The Bosch template adapters can be quite a challenge to locate. I find myself needing to switch them off and on. I replaced the original adapters with these ones, which was a surprisingly straightforward task. They continue to function excellently, leaving me very satisfied. I purchased this item to replace a damaged one I previously owned. I appreciate the ability to use the hose to clear the ballast from my sink. After a few installations, it has proven to be the ideal replacement for the broken one. I'm now planning to...\"\n"
     ]
    }
   ],
   "source": [
    "test_dataset_raw_0_25['text_'][18647] =\"The Bosch template adapters can be quite a challenge to locate. I find myself needing to switch them off and on. I replaced the original adapters with these ones, which was a surprisingly straightforward task. They continue to function excellently, leaving me very satisfied. I purchased this item to replace a damaged one I previously owned. I appreciate the ability to use the hose to clear the ballast from my sink. After a few installations, it has proven to be the ideal replacement for the broken one. I'm now planning to...\""
   ]
  },
  {
   "cell_type": "code",
   "execution_count": 169,
   "id": "rl0FpiWQ8oUw",
   "metadata": {
    "colab": {
     "base_uri": "https://localhost:8080/"
    },
    "id": "rl0FpiWQ8oUw",
    "outputId": "464bb11f-12dc-4db2-e856-2c72289e3150"
   },
   "outputs": [
    {
     "name": "stderr",
     "output_type": "stream",
     "text": [
      "<ipython-input-169-1627f4fb74c1>:1: SettingWithCopyWarning: \n",
      "A value is trying to be set on a copy of a slice from a DataFrame\n",
      "\n",
      "See the caveats in the documentation: https://pandas.pydata.org/pandas-docs/stable/user_guide/indexing.html#returning-a-view-versus-a-copy\n",
      "  test_dataset_raw_0_25['text_'][15587] =\"Fantastic tool from an impressive toolbox. The only issue is that it includes a miniature screwdriver.\"\n"
     ]
    }
   ],
   "source": [
    "test_dataset_raw_0_25['text_'][15587] =\"Fantastic tool from an impressive toolbox. The only issue is that it includes a miniature screwdriver.\""
   ]
  },
  {
   "cell_type": "code",
   "execution_count": 171,
   "id": "Ql8NbEOb8RZL",
   "metadata": {
    "colab": {
     "base_uri": "https://localhost:8080/"
    },
    "id": "Ql8NbEOb8RZL",
    "outputId": "4990264a-3938-46d8-856e-851d91cdaaf6"
   },
   "outputs": [
    {
     "name": "stderr",
     "output_type": "stream",
     "text": [
      "<ipython-input-171-14adfe5550da>:1: SettingWithCopyWarning: \n",
      "A value is trying to be set on a copy of a slice from a DataFrame\n",
      "\n",
      "See the caveats in the documentation: https://pandas.pydata.org/pandas-docs/stable/user_guide/indexing.html#returning-a-view-versus-a-copy\n",
      "  test_dataset_raw_0_25['text_'][39912] =\"I am the proud owner of an OMAPC, and the accompanying knee pads are a perfect fit. The heel size is just right, and the material is pleasantly soft and comfy. However, I encountered an issue with the material being excessively loose. Consequently, I'll be returning it. I opted for a size up on reorder, and it fitted perfectly. I had to wash the boots on the first day, but they're incredibly comfortable. I've yet to wear them for an extended period, but finding boots that remain comfortable for long durations has always been a challenge. For reference, I'm 5'4 and weigh 140lbs, and these...\"\n"
     ]
    }
   ],
   "source": [
    "test_dataset_raw_0_25['text_'][39912] =\"I am the proud owner of an OMAPC, and the accompanying knee pads are a perfect fit. The heel size is just right, and the material is pleasantly soft and comfy. However, I encountered an issue with the material being excessively loose. Consequently, I'll be returning it. I opted for a size up on reorder, and it fitted perfectly. I had to wash the boots on the first day, but they're incredibly comfortable. I've yet to wear them for an extended period, but finding boots that remain comfortable for long durations has always been a challenge. For reference, I'm 5'4 and weigh 140lbs, and these...\""
   ]
  },
  {
   "cell_type": "code",
   "execution_count": 173,
   "id": "n280y3hW8ReR",
   "metadata": {
    "colab": {
     "base_uri": "https://localhost:8080/"
    },
    "id": "n280y3hW8ReR",
    "outputId": "c848c9a3-75c8-4620-b6da-c1163950b65e"
   },
   "outputs": [
    {
     "name": "stderr",
     "output_type": "stream",
     "text": [
      "<ipython-input-173-65c5ce737675>:1: SettingWithCopyWarning: \n",
      "A value is trying to be set on a copy of a slice from a DataFrame\n",
      "\n",
      "See the caveats in the documentation: https://pandas.pydata.org/pandas-docs/stable/user_guide/indexing.html#returning-a-view-versus-a-copy\n",
      "  test_dataset_raw_0_25['text_'][17068] =\"The quality is appalling. Do not squander valuable metal or steel on it. The sole reason I purchased this item was to replace a faulty...\"\n"
     ]
    }
   ],
   "source": [
    "test_dataset_raw_0_25['text_'][17068] =\"The quality is appalling. Do not squander valuable metal or steel on it. The sole reason I purchased this item was to replace a faulty...\""
   ]
  },
  {
   "cell_type": "code",
   "execution_count": 175,
   "id": "oNiD0ybI8Rjl",
   "metadata": {
    "colab": {
     "base_uri": "https://localhost:8080/"
    },
    "id": "oNiD0ybI8Rjl",
    "outputId": "82aec989-2d97-45d7-d915-5fef46c5a9a4"
   },
   "outputs": [
    {
     "name": "stderr",
     "output_type": "stream",
     "text": [
      "<ipython-input-175-a98989124ecc>:1: SettingWithCopyWarning: \n",
      "A value is trying to be set on a copy of a slice from a DataFrame\n",
      "\n",
      "See the caveats in the documentation: https://pandas.pydata.org/pandas-docs/stable/user_guide/indexing.html#returning-a-view-versus-a-copy\n",
      "  test_dataset_raw_0_25['text_'][2006] =\"Despite its modest size, this machine makes a sound investment. The only drawback is its compact size. The components needed to attach the cover at the top were...\"\n"
     ]
    }
   ],
   "source": [
    "test_dataset_raw_0_25['text_'][2006] =\"Despite its modest size, this machine makes a sound investment. The only drawback is its compact size. The components needed to attach the cover at the top were...\""
   ]
  },
  {
   "cell_type": "code",
   "execution_count": 177,
   "id": "MVky6Db_-NQY",
   "metadata": {
    "colab": {
     "base_uri": "https://localhost:8080/"
    },
    "id": "MVky6Db_-NQY",
    "outputId": "5201fea8-fc9f-4a25-f759-48044fd1ef94"
   },
   "outputs": [
    {
     "name": "stderr",
     "output_type": "stream",
     "text": [
      "<ipython-input-177-0a2258be8c09>:1: SettingWithCopyWarning: \n",
      "A value is trying to be set on a copy of a slice from a DataFrame\n",
      "\n",
      "See the caveats in the documentation: https://pandas.pydata.org/pandas-docs/stable/user_guide/indexing.html#returning-a-view-versus-a-copy\n",
      "  test_dataset_raw_0_25['text_'][22140] =\"I own two small breed dogs and felt this would be a beneficial enhancement for the litter box. The top comes in a striking bright color and is simple to clean. I used this tool to tidy up my older cat's litter box, although it didn't include a large filter.\"\n"
     ]
    }
   ],
   "source": [
    "test_dataset_raw_0_25['text_'][22140] =\"I own two small breed dogs and felt this would be a beneficial enhancement for the litter box. The top comes in a striking bright color and is simple to clean. I used this tool to tidy up my older cat's litter box, although it didn't include a large filter.\""
   ]
  },
  {
   "cell_type": "code",
   "execution_count": 179,
   "id": "CKqNQtVg-NWm",
   "metadata": {
    "colab": {
     "base_uri": "https://localhost:8080/"
    },
    "id": "CKqNQtVg-NWm",
    "outputId": "e9fa0f49-7a6e-4a8e-9f77-8ccd8fb74cbb"
   },
   "outputs": [
    {
     "name": "stderr",
     "output_type": "stream",
     "text": [
      "<ipython-input-179-50f3d8653dff>:1: SettingWithCopyWarning: \n",
      "A value is trying to be set on a copy of a slice from a DataFrame\n",
      "\n",
      "See the caveats in the documentation: https://pandas.pydata.org/pandas-docs/stable/user_guide/indexing.html#returning-a-view-versus-a-copy\n",
      "  test_dataset_raw_0_25['text_'][33467] =\"Delightfully soft and plush. My daughter adores it, and her two-year-old sister shares the same sentiment.\"\n"
     ]
    }
   ],
   "source": [
    "test_dataset_raw_0_25['text_'][33467] =\"Delightfully soft and plush. My daughter adores it, and her two-year-old sister shares the same sentiment.\""
   ]
  },
  {
   "cell_type": "code",
   "execution_count": 181,
   "id": "kK5HTrTW-NdS",
   "metadata": {
    "colab": {
     "base_uri": "https://localhost:8080/"
    },
    "id": "kK5HTrTW-NdS",
    "outputId": "4b4496f2-cc4d-4ab9-ac07-9591c1c459a1"
   },
   "outputs": [
    {
     "name": "stderr",
     "output_type": "stream",
     "text": [
      "<ipython-input-181-8001721759f0>:1: SettingWithCopyWarning: \n",
      "A value is trying to be set on a copy of a slice from a DataFrame\n",
      "\n",
      "See the caveats in the documentation: https://pandas.pydata.org/pandas-docs/stable/user_guide/indexing.html#returning-a-view-versus-a-copy\n",
      "  test_dataset_raw_0_25['text_'][22840] =\"Both my Aussie and my African Grey are fond of these! I plan to keep them stocked for the next few months. This food is a big hit with my dogs. My dog consumes it leisurely, first from a deep, slow-feed bowl, then from a larger bowl. I own two dogs, each weighing 4 lbs., and one of them is quite finicky about food. I've purchased a second bag to use for her vet visits. The two bags I've received so far are strikingly similar.\"\n"
     ]
    }
   ],
   "source": [
    "test_dataset_raw_0_25['text_'][22840] =\"Both my Aussie and my African Grey are fond of these! I plan to keep them stocked for the next few months. This food is a big hit with my dogs. My dog consumes it leisurely, first from a deep, slow-feed bowl, then from a larger bowl. I own two dogs, each weighing 4 lbs., and one of them is quite finicky about food. I've purchased a second bag to use for her vet visits. The two bags I've received so far are strikingly similar.\""
   ]
  },
  {
   "cell_type": "code",
   "execution_count": 183,
   "id": "epafjcz0-NjR",
   "metadata": {
    "colab": {
     "base_uri": "https://localhost:8080/"
    },
    "id": "epafjcz0-NjR",
    "outputId": "117c3edc-f211-45f2-941a-91749ab79e7f"
   },
   "outputs": [
    {
     "name": "stderr",
     "output_type": "stream",
     "text": [
      "<ipython-input-183-57a7ee43906d>:1: SettingWithCopyWarning: \n",
      "A value is trying to be set on a copy of a slice from a DataFrame\n",
      "\n",
      "See the caveats in the documentation: https://pandas.pydata.org/pandas-docs/stable/user_guide/indexing.html#returning-a-view-versus-a-copy\n",
      "  test_dataset_raw_0_25['text_'][35898] =\"I was taken aback by the level of detail in the figures. The Batman figure is notably impressive, although the figure itself is somewhat diminutive, and the cover seems quite fragile. I wouldn't advise anyone to purchase this figure. Nonetheless, it remains an entertaining toy to play with and makes a fine addition to any collection. This product is exceptionally well-crafted. My daughter has engaged with it for approximately two months now and continues to enjoy it immensely. I'm extremely satisfied with this purchase. My son is nearly 3, and...\"\n"
     ]
    }
   ],
   "source": [
    "test_dataset_raw_0_25['text_'][35898] =\"I was taken aback by the level of detail in the figures. The Batman figure is notably impressive, although the figure itself is somewhat diminutive, and the cover seems quite fragile. I wouldn't advise anyone to purchase this figure. Nonetheless, it remains an entertaining toy to play with and makes a fine addition to any collection. This product is exceptionally well-crafted. My daughter has engaged with it for approximately two months now and continues to enjoy it immensely. I'm extremely satisfied with this purchase. My son is nearly 3, and...\""
   ]
  },
  {
   "cell_type": "code",
   "execution_count": 185,
   "id": "1oxVyRBF-wbu",
   "metadata": {
    "colab": {
     "base_uri": "https://localhost:8080/"
    },
    "id": "1oxVyRBF-wbu",
    "outputId": "6d4acc7d-a3af-448b-eecf-24aee05eb83f"
   },
   "outputs": [
    {
     "name": "stderr",
     "output_type": "stream",
     "text": [
      "<ipython-input-185-2b0cad0f7085>:1: SettingWithCopyWarning: \n",
      "A value is trying to be set on a copy of a slice from a DataFrame\n",
      "\n",
      "See the caveats in the documentation: https://pandas.pydata.org/pandas-docs/stable/user_guide/indexing.html#returning-a-view-versus-a-copy\n",
      "  test_dataset_raw_0_25['text_'][30798] =\"I went through the whole book, and it proved to be a fascinating read. The narrative commences when Kary, one of the two girls, is assaulted by an enigmatic character. The abductor is portrayed as a devilish figure. Interestingly, Kary's father held the position of a priest, and strikingly, so did the kidnapper.\"\n"
     ]
    }
   ],
   "source": [
    "test_dataset_raw_0_25['text_'][30798] =\"I went through the whole book, and it proved to be a fascinating read. The narrative commences when Kary, one of the two girls, is assaulted by an enigmatic character. The abductor is portrayed as a devilish figure. Interestingly, Kary's father held the position of a priest, and strikingly, so did the kidnapper.\""
   ]
  },
  {
   "cell_type": "code",
   "execution_count": 187,
   "id": "_sqOrnhL-wgb",
   "metadata": {
    "colab": {
     "base_uri": "https://localhost:8080/"
    },
    "id": "_sqOrnhL-wgb",
    "outputId": "82205099-1b87-4ab1-c08c-79656b3af8bc"
   },
   "outputs": [
    {
     "name": "stderr",
     "output_type": "stream",
     "text": [
      "<ipython-input-187-679f1a5903dd>:1: SettingWithCopyWarning: \n",
      "A value is trying to be set on a copy of a slice from a DataFrame\n",
      "\n",
      "See the caveats in the documentation: https://pandas.pydata.org/pandas-docs/stable/user_guide/indexing.html#returning-a-view-versus-a-copy\n",
      "  test_dataset_raw_0_25['text_'][25185] =\"This author is a new discovery for me. I found her work captivating and am eager to delve into more of her books. I received an advance reader's copy in return for my candid review. I'm smitten with this book.\"\n"
     ]
    }
   ],
   "source": [
    "test_dataset_raw_0_25['text_'][25185] =\"This author is a new discovery for me. I found her work captivating and am eager to delve into more of her books. I received an advance reader's copy in return for my candid review. I'm smitten with this book.\""
   ]
  },
  {
   "cell_type": "code",
   "execution_count": 189,
   "id": "UpTMyKfP-wlv",
   "metadata": {
    "colab": {
     "base_uri": "https://localhost:8080/"
    },
    "id": "UpTMyKfP-wlv",
    "outputId": "ad171079-0b2a-4b41-8b83-de9a56fc3ea9"
   },
   "outputs": [
    {
     "name": "stderr",
     "output_type": "stream",
     "text": [
      "<ipython-input-189-97b3311a55c1>:1: SettingWithCopyWarning: \n",
      "A value is trying to be set on a copy of a slice from a DataFrame\n",
      "\n",
      "See the caveats in the documentation: https://pandas.pydata.org/pandas-docs/stable/user_guide/indexing.html#returning-a-view-versus-a-copy\n",
      "  test_dataset_raw_0_25['text_'][17279] = \"These are indeed very impressive - a high-quality tool set. I plan to retain them for the next few years. They were a bargain at a fantastic price! They function excellently. The light is somewhat brighter...\"\n"
     ]
    }
   ],
   "source": [
    "test_dataset_raw_0_25['text_'][17279] = \"These are indeed very impressive - a high-quality tool set. I plan to retain them for the next few years. They were a bargain at a fantastic price! They function excellently. The light is somewhat brighter...\""
   ]
  },
  {
   "cell_type": "code",
   "execution_count": 191,
   "id": "L2wMGKjK-wq_",
   "metadata": {
    "colab": {
     "base_uri": "https://localhost:8080/"
    },
    "id": "L2wMGKjK-wq_",
    "outputId": "0874cc45-ee0c-4a9f-e260-9dabf95afd7d"
   },
   "outputs": [
    {
     "name": "stderr",
     "output_type": "stream",
     "text": [
      "<ipython-input-191-b606dcfa57a7>:1: SettingWithCopyWarning: \n",
      "A value is trying to be set on a copy of a slice from a DataFrame\n",
      "\n",
      "See the caveats in the documentation: https://pandas.pydata.org/pandas-docs/stable/user_guide/indexing.html#returning-a-view-versus-a-copy\n",
      "  test_dataset_raw_0_25['text_'][4867] =\"This clock is a must-have! I absolutely adore the texture of it.\"\n"
     ]
    }
   ],
   "source": [
    "test_dataset_raw_0_25['text_'][4867] =\"This clock is a must-have! I absolutely adore the texture of it.\""
   ]
  },
  {
   "cell_type": "code",
   "execution_count": 193,
   "id": "kBBUTaL5-Nn6",
   "metadata": {
    "colab": {
     "base_uri": "https://localhost:8080/"
    },
    "id": "kBBUTaL5-Nn6",
    "outputId": "dbe77438-2005-4847-b183-7c0885bcf5df"
   },
   "outputs": [
    {
     "name": "stderr",
     "output_type": "stream",
     "text": [
      "<ipython-input-193-0bced201bf32>:1: SettingWithCopyWarning: \n",
      "A value is trying to be set on a copy of a slice from a DataFrame\n",
      "\n",
      "See the caveats in the documentation: https://pandas.pydata.org/pandas-docs/stable/user_guide/indexing.html#returning-a-view-versus-a-copy\n",
      "  test_dataset_raw_0_25['text_'][22505] =\"I'm a big fan of this kit. My puppy, being an intense chewer, makes quick work of it, and I love how quickly I can toss this thing. I've been using it along with the Tasers on a 4lb bag of dog food, and she doesn't object to it at all. I keep another 4 lb bag of dog food handy, which is excellent for her to carry around in her mouth. She's absolutely wild about this.\"\n"
     ]
    }
   ],
   "source": [
    "test_dataset_raw_0_25['text_'][22505] =\"I'm a big fan of this kit. My puppy, being an intense chewer, makes quick work of it, and I love how quickly I can toss this thing. I've been using it along with the Tasers on a 4lb bag of dog food, and she doesn't object to it at all. I keep another 4 lb bag of dog food handy, which is excellent for her to carry around in her mouth. She's absolutely wild about this.\""
   ]
  },
  {
   "cell_type": "code",
   "execution_count": 195,
   "id": "RUrNK7jd44WC",
   "metadata": {
    "colab": {
     "base_uri": "https://localhost:8080/"
    },
    "id": "RUrNK7jd44WC",
    "outputId": "3c4bd2d0-fdde-4e7d-e529-993881edca70"
   },
   "outputs": [
    {
     "name": "stderr",
     "output_type": "stream",
     "text": [
      "<ipython-input-195-6af7de42c6e9>:1: SettingWithCopyWarning: \n",
      "A value is trying to be set on a copy of a slice from a DataFrame\n",
      "\n",
      "See the caveats in the documentation: https://pandas.pydata.org/pandas-docs/stable/user_guide/indexing.html#returning-a-view-versus-a-copy\n",
      "  test_dataset_raw_0_25['text_'][11525] =\"The arm functions excellently. I use it as an extended cable for my computer and also have one in my bedroom. The cable is robust and easy to operate. I would certainly recommend it as a valuable addition to your computer setup. I acquired this device with the intention of utilizing it as a family-friendly DVD player. I own a Samsung Galaxy S4 and a Sony PS3. The Sony is the only device among them that I haven't tested yet. I wanted to make my Galaxy S4 compatible with my Samsung, but I was concerned that a lengthy cord might reduce its lifespan. I came across the Sony on a sale at Best Buy and decided to give it a shot. It doesn't feature a cord but does offer a USB port, which is incredibly useful for transferring DVD files.\"\n"
     ]
    }
   ],
   "source": [
    "test_dataset_raw_0_25['text_'][11525] =\"The arm functions excellently. I use it as an extended cable for my computer and also have one in my bedroom. The cable is robust and easy to operate. I would certainly recommend it as a valuable addition to your computer setup. I acquired this device with the intention of utilizing it as a family-friendly DVD player. I own a Samsung Galaxy S4 and a Sony PS3. The Sony is the only device among them that I haven't tested yet. I wanted to make my Galaxy S4 compatible with my Samsung, but I was concerned that a lengthy cord might reduce its lifespan. I came across the Sony on a sale at Best Buy and decided to give it a shot. It doesn't feature a cord but does offer a USB port, which is incredibly useful for transferring DVD files.\""
   ]
  },
  {
   "cell_type": "code",
   "execution_count": 197,
   "id": "9-msIG5p44bQ",
   "metadata": {
    "colab": {
     "base_uri": "https://localhost:8080/"
    },
    "id": "9-msIG5p44bQ",
    "outputId": "be9bee30-82e3-4d4c-cb55-88519ce7302a"
   },
   "outputs": [
    {
     "name": "stderr",
     "output_type": "stream",
     "text": [
      "<ipython-input-197-5a87d1bbc00d>:1: SettingWithCopyWarning: \n",
      "A value is trying to be set on a copy of a slice from a DataFrame\n",
      "\n",
      "See the caveats in the documentation: https://pandas.pydata.org/pandas-docs/stable/user_guide/indexing.html#returning-a-view-versus-a-copy\n",
      "  test_dataset_raw_0_25['text_'][25079] =\"I'm uncertain about the origins of some individuals, but comprehending the events that transpired is crucial.I found considerable enjoyment in reading this book and I...\"\n"
     ]
    }
   ],
   "source": [
    "test_dataset_raw_0_25['text_'][25079] =\"I'm uncertain about the origins of some individuals, but comprehending the events that transpired is crucial.I found considerable enjoyment in reading this book and I...\""
   ]
  },
  {
   "cell_type": "code",
   "execution_count": 199,
   "id": "Hc_J4t52_vDO",
   "metadata": {
    "colab": {
     "base_uri": "https://localhost:8080/"
    },
    "id": "Hc_J4t52_vDO",
    "outputId": "4c8027c5-865a-4fdd-e9ca-1f0ac5b83fcc"
   },
   "outputs": [
    {
     "name": "stderr",
     "output_type": "stream",
     "text": [
      "<ipython-input-199-29c34c3434ac>:1: SettingWithCopyWarning: \n",
      "A value is trying to be set on a copy of a slice from a DataFrame\n",
      "\n",
      "See the caveats in the documentation: https://pandas.pydata.org/pandas-docs/stable/user_guide/indexing.html#returning-a-view-versus-a-copy\n",
      "  test_dataset_raw_0_25['text_'][36858] =\"It has an odd fit, tight around the thighs. I'm unsure if the knee section is considerably tighter, but...\"\n"
     ]
    }
   ],
   "source": [
    "test_dataset_raw_0_25['text_'][36858] =\"It has an odd fit, tight around the thighs. I'm unsure if the knee section is considerably tighter, but...\""
   ]
  },
  {
   "cell_type": "code",
   "execution_count": 201,
   "id": "HJLEmnCS_vH2",
   "metadata": {
    "colab": {
     "base_uri": "https://localhost:8080/"
    },
    "id": "HJLEmnCS_vH2",
    "outputId": "5bbdd8e8-9636-44bb-aaa7-d32aa66ba142"
   },
   "outputs": [
    {
     "name": "stderr",
     "output_type": "stream",
     "text": [
      "<ipython-input-201-b8b729cc3458>:1: SettingWithCopyWarning: \n",
      "A value is trying to be set on a copy of a slice from a DataFrame\n",
      "\n",
      "See the caveats in the documentation: https://pandas.pydata.org/pandas-docs/stable/user_guide/indexing.html#returning-a-view-versus-a-copy\n",
      "  test_dataset_raw_0_25['text_'][37468] =\"It fits accurately to size and has an appealing appearance. However, for my petite frame, it's slightly tight.\"\n"
     ]
    }
   ],
   "source": [
    "test_dataset_raw_0_25['text_'][37468] =\"It fits accurately to size and has an appealing appearance. However, for my petite frame, it's slightly tight.\""
   ]
  },
  {
   "cell_type": "code",
   "execution_count": 202,
   "id": "-k03joae_vPN",
   "metadata": {
    "id": "-k03joae_vPN"
   },
   "outputs": [],
   "source": [
    "merged_df_120 = pd.concat([test_dataset_raw_0_25, test_dataset_raw_1_100], ignore_index=True)\n",
    "\n",
    "# Shuffle the index\n",
    "test_120 = merged_df_120.sample(frac=1, random_state=42).reset_index(drop=True)"
   ]
  },
  {
   "cell_type": "code",
   "execution_count": 203,
   "id": "886zEJC3_vVL",
   "metadata": {
    "id": "886zEJC3_vVL"
   },
   "outputs": [],
   "source": [
    "test_encodings_120 = tokenizer(test_120['text_'].tolist(), truncation=True, padding=True, max_length=256)\n",
    "\n",
    "test_dataset_120 = tf.data.Dataset.from_tensor_slices((\n",
    "    dict(test_encodings_120),\n",
    "    test_120['target'].values\n",
    "))"
   ]
  },
  {
   "cell_type": "code",
   "execution_count": 215,
   "id": "GaA76KfsSfRg",
   "metadata": {
    "colab": {
     "base_uri": "https://localhost:8080/"
    },
    "id": "GaA76KfsSfRg",
    "outputId": "1cf67cda-d942-46ad-b0d3-255e7da0a363"
   },
   "outputs": [
    {
     "data": {
      "text/plain": [
       "<_TensorSliceDataset element_spec=({'input_ids': TensorSpec(shape=(256,), dtype=tf.int32, name=None), 'attention_mask': TensorSpec(shape=(256,), dtype=tf.int32, name=None)}, TensorSpec(shape=(), dtype=tf.int64, name=None))>"
      ]
     },
     "execution_count": 215,
     "metadata": {},
     "output_type": "execute_result"
    }
   ],
   "source": [
    "test_dataset_120"
   ]
  },
  {
   "cell_type": "code",
   "execution_count": 204,
   "id": "bXFJlSgc_vbM",
   "metadata": {
    "colab": {
     "base_uri": "https://localhost:8080/"
    },
    "id": "bXFJlSgc_vbM",
    "outputId": "f104c3e9-9f6e-4fae-b089-10bab02d1faa"
   },
   "outputs": [
    {
     "name": "stdout",
     "output_type": "stream",
     "text": [
      "8/8 [==============================] - 2s 271ms/step\n",
      "              precision    recall  f1-score   support\n",
      "\n",
      "          CG       0.69      0.44      0.54        25\n",
      "          OR       0.87      0.95      0.91       100\n",
      "\n",
      "    accuracy                           0.85       125\n",
      "   macro avg       0.78      0.69      0.72       125\n",
      "weighted avg       0.83      0.85      0.83       125\n",
      "\n"
     ]
    }
   ],
   "source": [
    "test_dataset_120_batched = test_dataset_120.batch(16)\n",
    "y_pred_raw_120 = model.predict(test_dataset_120_batched)\n",
    "\n",
    "# Convert raw predictions to class predictions\n",
    "y_pred_120 = np.argmax(y_pred_raw_120.logits, axis=1)\n",
    "\n",
    "# Get the actual class labels\n",
    "y_true_120 = []\n",
    "for features, label in test_dataset_120:\n",
    "    y_true_120.append(label.numpy())\n",
    "y_true_120 = np.array(y_true_120)\n",
    "\n",
    "\n",
    "# Generate a classification report\n",
    "report_120 = classification_report(y_true_120, y_pred_120, target_names=[\"CG\", \"OR\"])  # replace target_names with your actual class names\n",
    "print(report_120)"
   ]
  },
  {
   "cell_type": "code",
   "execution_count": null,
   "id": "AffIM13C_vhd",
   "metadata": {
    "id": "AffIM13C_vhd"
   },
   "outputs": [],
   "source": []
  },
  {
   "cell_type": "markdown",
   "id": "FiYtB4PQQH96",
   "metadata": {
    "id": "FiYtB4PQQH96"
   },
   "source": [
    "# GPT 4 with contents generating"
   ]
  },
  {
   "cell_type": "code",
   "execution_count": 205,
   "id": "RkPd_Z2ECetM",
   "metadata": {
    "id": "RkPd_Z2ECetM"
   },
   "outputs": [],
   "source": [
    "\n",
    "# Dictionary with your texts and target values\n",
    "data = {\n",
    "    \"text_\": [\n",
    "        \"This kitchen blender is not only a perfect companion for creating delightful smoothies but also an elegant addition to any kitchen countertop.\",\n",
    "        \"The comfort and sound quality of these headphones are nothing short of impressive. The noise cancellation feature allows for an immersive experience.\",\n",
    "        \"This book is an absolute page-turner. The storyline is intriguing, the characters are well-developed, and the author's writing style is compelling.\",\n",
    "        \"I was thoroughly impressed with this smartphone. It offers excellent performance, a crisp display, and a battery that lasts all day.\",\n",
    "        \"This cookware set exceeded my expectations. It's not only aesthetically pleasing but also has an amazing non-stick surface and heats evenly.\",\n",
    "        \"These running shoes are fantastic. They offer great support, are lightweight, and incredibly comfortable.\",\n",
    "        \"The soundbar provides clear, room-filling sound. The setup was straightforward, and the Bluetooth connectivity is a great feature.\",\n",
    "        \"This backpack is not only stylish but also functional. It has a generous storage capacity, and the material is durable.\",\n",
    "        \"The vacuum cleaner is extremely efficient. The powerful suction is a plus, and it maneuvers around furniture effortlessly.\",\n",
    "        \"The camping tent is easy to set up and spacious. The material is durable, withstanding various weather conditions.\",\n",
    "        \"This pet bed is a hit with my dog. It's plush and comfortable, providing a cozy spot for her to rest.\",\n",
    "        \"The keyboard delivers an enjoyable typing experience. The keys are responsive and comfortable to use for prolonged periods.\",\n",
    "        \"This skincare product has transformed my skin. It's gentle, yet effective, leaving my skin feeling soft, refreshed, and visibly brighter.\",\n",
    "        \"These wireless earbuds have an impressive sound quality, a comfortable fit, and the battery life is long-lasting.\",\n",
    "        \"This yoga mat is excellent. It provides enough cushioning, has a non-slip surface, and is easy to clean.\",\n",
    "        \"I love this coffee maker. It brews coffee quickly, it's easy to use, and the coffee tastes great.\",\n",
    "        \"The slow cooker is a gem. It's easy to operate, the food comes out delicious, and it's easy to clean.\",\n",
    "        \"This facial cleanser is wonderful. It cleanses deeply, leaving the skin feeling fresh and clean without drying it out.\",\n",
    "        \"The fitness tracker is an excellent workout companion. It's accurate, easy to use, and the app provides insightful data.\",\n",
    "        \"This bedsheet set is fantastic. It's incredibly soft, comfortable, and the color hasn't faded after several washes.\",\n",
    "        \"This nail polish is amazing. The color is vibrant, it applies smoothly, and it has a long-lasting finish.\",\n",
    "        \"This computer mouse is reliable and comfortable to use. It moves smoothly and the click is quiet.\",\n",
    "        \"The baby monitor gives peace of mind. The video is clear, the audio is crisp, and the range is good.\",\n",
    "        \"This electric toothbrush cleans teeth thoroughly. It has different modes for different needs, and the battery life is good.\",\n",
    "        \"This lawn mower is a workhorse. It's powerful, easy to maneuver, and the cut is even.\"\n",
    "    ],\n",
    "    \"target\": [0] * 25\n",
    "}\n",
    "\n",
    "# Create DataFrame\n",
    "test_dataset_raw_1_25 = pd.DataFrame(data)\n",
    "\n",
    "\n"
   ]
  },
  {
   "cell_type": "code",
   "execution_count": 206,
   "id": "jDBrxUv7CexD",
   "metadata": {
    "colab": {
     "base_uri": "https://localhost:8080/",
     "height": 833
    },
    "id": "jDBrxUv7CexD",
    "outputId": "03a29e7a-77bd-42da-a757-5dbd9a2eb16f"
   },
   "outputs": [
    {
     "data": {
      "text/html": [
       "\n",
       "\n",
       "  <div id=\"df-f7341e61-83ec-4b0d-83e8-a6d774402543\">\n",
       "    <div class=\"colab-df-container\">\n",
       "      <div>\n",
       "<style scoped>\n",
       "    .dataframe tbody tr th:only-of-type {\n",
       "        vertical-align: middle;\n",
       "    }\n",
       "\n",
       "    .dataframe tbody tr th {\n",
       "        vertical-align: top;\n",
       "    }\n",
       "\n",
       "    .dataframe thead th {\n",
       "        text-align: right;\n",
       "    }\n",
       "</style>\n",
       "<table border=\"1\" class=\"dataframe\">\n",
       "  <thead>\n",
       "    <tr style=\"text-align: right;\">\n",
       "      <th></th>\n",
       "      <th>text_</th>\n",
       "      <th>target</th>\n",
       "    </tr>\n",
       "  </thead>\n",
       "  <tbody>\n",
       "    <tr>\n",
       "      <th>0</th>\n",
       "      <td>This kitchen blender is not only a perfect com...</td>\n",
       "      <td>0</td>\n",
       "    </tr>\n",
       "    <tr>\n",
       "      <th>1</th>\n",
       "      <td>The comfort and sound quality of these headpho...</td>\n",
       "      <td>0</td>\n",
       "    </tr>\n",
       "    <tr>\n",
       "      <th>2</th>\n",
       "      <td>This book is an absolute page-turner. The stor...</td>\n",
       "      <td>0</td>\n",
       "    </tr>\n",
       "    <tr>\n",
       "      <th>3</th>\n",
       "      <td>I was thoroughly impressed with this smartphon...</td>\n",
       "      <td>0</td>\n",
       "    </tr>\n",
       "    <tr>\n",
       "      <th>4</th>\n",
       "      <td>This cookware set exceeded my expectations. It...</td>\n",
       "      <td>0</td>\n",
       "    </tr>\n",
       "    <tr>\n",
       "      <th>5</th>\n",
       "      <td>These running shoes are fantastic. They offer ...</td>\n",
       "      <td>0</td>\n",
       "    </tr>\n",
       "    <tr>\n",
       "      <th>6</th>\n",
       "      <td>The soundbar provides clear, room-filling soun...</td>\n",
       "      <td>0</td>\n",
       "    </tr>\n",
       "    <tr>\n",
       "      <th>7</th>\n",
       "      <td>This backpack is not only stylish but also fun...</td>\n",
       "      <td>0</td>\n",
       "    </tr>\n",
       "    <tr>\n",
       "      <th>8</th>\n",
       "      <td>The vacuum cleaner is extremely efficient. The...</td>\n",
       "      <td>0</td>\n",
       "    </tr>\n",
       "    <tr>\n",
       "      <th>9</th>\n",
       "      <td>The camping tent is easy to set up and spaciou...</td>\n",
       "      <td>0</td>\n",
       "    </tr>\n",
       "    <tr>\n",
       "      <th>10</th>\n",
       "      <td>This pet bed is a hit with my dog. It's plush ...</td>\n",
       "      <td>0</td>\n",
       "    </tr>\n",
       "    <tr>\n",
       "      <th>11</th>\n",
       "      <td>The keyboard delivers an enjoyable typing expe...</td>\n",
       "      <td>0</td>\n",
       "    </tr>\n",
       "    <tr>\n",
       "      <th>12</th>\n",
       "      <td>This skincare product has transformed my skin....</td>\n",
       "      <td>0</td>\n",
       "    </tr>\n",
       "    <tr>\n",
       "      <th>13</th>\n",
       "      <td>These wireless earbuds have an impressive soun...</td>\n",
       "      <td>0</td>\n",
       "    </tr>\n",
       "    <tr>\n",
       "      <th>14</th>\n",
       "      <td>This yoga mat is excellent. It provides enough...</td>\n",
       "      <td>0</td>\n",
       "    </tr>\n",
       "    <tr>\n",
       "      <th>15</th>\n",
       "      <td>I love this coffee maker. It brews coffee quic...</td>\n",
       "      <td>0</td>\n",
       "    </tr>\n",
       "    <tr>\n",
       "      <th>16</th>\n",
       "      <td>The slow cooker is a gem. It's easy to operate...</td>\n",
       "      <td>0</td>\n",
       "    </tr>\n",
       "    <tr>\n",
       "      <th>17</th>\n",
       "      <td>This facial cleanser is wonderful. It cleanses...</td>\n",
       "      <td>0</td>\n",
       "    </tr>\n",
       "    <tr>\n",
       "      <th>18</th>\n",
       "      <td>The fitness tracker is an excellent workout co...</td>\n",
       "      <td>0</td>\n",
       "    </tr>\n",
       "    <tr>\n",
       "      <th>19</th>\n",
       "      <td>This bedsheet set is fantastic. It's incredibl...</td>\n",
       "      <td>0</td>\n",
       "    </tr>\n",
       "    <tr>\n",
       "      <th>20</th>\n",
       "      <td>This nail polish is amazing. The color is vibr...</td>\n",
       "      <td>0</td>\n",
       "    </tr>\n",
       "    <tr>\n",
       "      <th>21</th>\n",
       "      <td>This computer mouse is reliable and comfortabl...</td>\n",
       "      <td>0</td>\n",
       "    </tr>\n",
       "    <tr>\n",
       "      <th>22</th>\n",
       "      <td>The baby monitor gives peace of mind. The vide...</td>\n",
       "      <td>0</td>\n",
       "    </tr>\n",
       "    <tr>\n",
       "      <th>23</th>\n",
       "      <td>This electric toothbrush cleans teeth thorough...</td>\n",
       "      <td>0</td>\n",
       "    </tr>\n",
       "    <tr>\n",
       "      <th>24</th>\n",
       "      <td>This lawn mower is a workhorse. It's powerful,...</td>\n",
       "      <td>0</td>\n",
       "    </tr>\n",
       "  </tbody>\n",
       "</table>\n",
       "</div>\n",
       "      <button class=\"colab-df-convert\" onclick=\"convertToInteractive('df-f7341e61-83ec-4b0d-83e8-a6d774402543')\"\n",
       "              title=\"Convert this dataframe to an interactive table.\"\n",
       "              style=\"display:none;\">\n",
       "\n",
       "  <svg xmlns=\"http://www.w3.org/2000/svg\" height=\"24px\"viewBox=\"0 0 24 24\"\n",
       "       width=\"24px\">\n",
       "    <path d=\"M0 0h24v24H0V0z\" fill=\"none\"/>\n",
       "    <path d=\"M18.56 5.44l.94 2.06.94-2.06 2.06-.94-2.06-.94-.94-2.06-.94 2.06-2.06.94zm-11 1L8.5 8.5l.94-2.06 2.06-.94-2.06-.94L8.5 2.5l-.94 2.06-2.06.94zm10 10l.94 2.06.94-2.06 2.06-.94-2.06-.94-.94-2.06-.94 2.06-2.06.94z\"/><path d=\"M17.41 7.96l-1.37-1.37c-.4-.4-.92-.59-1.43-.59-.52 0-1.04.2-1.43.59L10.3 9.45l-7.72 7.72c-.78.78-.78 2.05 0 2.83L4 21.41c.39.39.9.59 1.41.59.51 0 1.02-.2 1.41-.59l7.78-7.78 2.81-2.81c.8-.78.8-2.07 0-2.86zM5.41 20L4 18.59l7.72-7.72 1.47 1.35L5.41 20z\"/>\n",
       "  </svg>\n",
       "      </button>\n",
       "\n",
       "\n",
       "\n",
       "    <div id=\"df-7bcc0688-871f-40af-9c4e-e67d6dd14f19\">\n",
       "      <button class=\"colab-df-quickchart\" onclick=\"quickchart('df-7bcc0688-871f-40af-9c4e-e67d6dd14f19')\"\n",
       "              title=\"Suggest charts.\"\n",
       "              style=\"display:none;\">\n",
       "\n",
       "<svg xmlns=\"http://www.w3.org/2000/svg\" height=\"24px\"viewBox=\"0 0 24 24\"\n",
       "     width=\"24px\">\n",
       "    <g>\n",
       "        <path d=\"M19 3H5c-1.1 0-2 .9-2 2v14c0 1.1.9 2 2 2h14c1.1 0 2-.9 2-2V5c0-1.1-.9-2-2-2zM9 17H7v-7h2v7zm4 0h-2V7h2v10zm4 0h-2v-4h2v4z\"/>\n",
       "    </g>\n",
       "</svg>\n",
       "      </button>\n",
       "    </div>\n",
       "\n",
       "<style>\n",
       "  .colab-df-quickchart {\n",
       "    background-color: #E8F0FE;\n",
       "    border: none;\n",
       "    border-radius: 50%;\n",
       "    cursor: pointer;\n",
       "    display: none;\n",
       "    fill: #1967D2;\n",
       "    height: 32px;\n",
       "    padding: 0 0 0 0;\n",
       "    width: 32px;\n",
       "  }\n",
       "\n",
       "  .colab-df-quickchart:hover {\n",
       "    background-color: #E2EBFA;\n",
       "    box-shadow: 0px 1px 2px rgba(60, 64, 67, 0.3), 0px 1px 3px 1px rgba(60, 64, 67, 0.15);\n",
       "    fill: #174EA6;\n",
       "  }\n",
       "\n",
       "  [theme=dark] .colab-df-quickchart {\n",
       "    background-color: #3B4455;\n",
       "    fill: #D2E3FC;\n",
       "  }\n",
       "\n",
       "  [theme=dark] .colab-df-quickchart:hover {\n",
       "    background-color: #434B5C;\n",
       "    box-shadow: 0px 1px 3px 1px rgba(0, 0, 0, 0.15);\n",
       "    filter: drop-shadow(0px 1px 2px rgba(0, 0, 0, 0.3));\n",
       "    fill: #FFFFFF;\n",
       "  }\n",
       "</style>\n",
       "\n",
       "    <script>\n",
       "      async function quickchart(key) {\n",
       "        const containerElement = document.querySelector('#' + key);\n",
       "        const charts = await google.colab.kernel.invokeFunction(\n",
       "            'suggestCharts', [key], {});\n",
       "      }\n",
       "    </script>\n",
       "\n",
       "      <script>\n",
       "\n",
       "function displayQuickchartButton(domScope) {\n",
       "  let quickchartButtonEl =\n",
       "    domScope.querySelector('#df-7bcc0688-871f-40af-9c4e-e67d6dd14f19 button.colab-df-quickchart');\n",
       "  quickchartButtonEl.style.display =\n",
       "    google.colab.kernel.accessAllowed ? 'block' : 'none';\n",
       "}\n",
       "\n",
       "        displayQuickchartButton(document);\n",
       "      </script>\n",
       "      <style>\n",
       "    .colab-df-container {\n",
       "      display:flex;\n",
       "      flex-wrap:wrap;\n",
       "      gap: 12px;\n",
       "    }\n",
       "\n",
       "    .colab-df-convert {\n",
       "      background-color: #E8F0FE;\n",
       "      border: none;\n",
       "      border-radius: 50%;\n",
       "      cursor: pointer;\n",
       "      display: none;\n",
       "      fill: #1967D2;\n",
       "      height: 32px;\n",
       "      padding: 0 0 0 0;\n",
       "      width: 32px;\n",
       "    }\n",
       "\n",
       "    .colab-df-convert:hover {\n",
       "      background-color: #E2EBFA;\n",
       "      box-shadow: 0px 1px 2px rgba(60, 64, 67, 0.3), 0px 1px 3px 1px rgba(60, 64, 67, 0.15);\n",
       "      fill: #174EA6;\n",
       "    }\n",
       "\n",
       "    [theme=dark] .colab-df-convert {\n",
       "      background-color: #3B4455;\n",
       "      fill: #D2E3FC;\n",
       "    }\n",
       "\n",
       "    [theme=dark] .colab-df-convert:hover {\n",
       "      background-color: #434B5C;\n",
       "      box-shadow: 0px 1px 3px 1px rgba(0, 0, 0, 0.15);\n",
       "      filter: drop-shadow(0px 1px 2px rgba(0, 0, 0, 0.3));\n",
       "      fill: #FFFFFF;\n",
       "    }\n",
       "  </style>\n",
       "\n",
       "      <script>\n",
       "        const buttonEl =\n",
       "          document.querySelector('#df-f7341e61-83ec-4b0d-83e8-a6d774402543 button.colab-df-convert');\n",
       "        buttonEl.style.display =\n",
       "          google.colab.kernel.accessAllowed ? 'block' : 'none';\n",
       "\n",
       "        async function convertToInteractive(key) {\n",
       "          const element = document.querySelector('#df-f7341e61-83ec-4b0d-83e8-a6d774402543');\n",
       "          const dataTable =\n",
       "            await google.colab.kernel.invokeFunction('convertToInteractive',\n",
       "                                                     [key], {});\n",
       "          if (!dataTable) return;\n",
       "\n",
       "          const docLinkHtml = 'Like what you see? Visit the ' +\n",
       "            '<a target=\"_blank\" href=https://colab.research.google.com/notebooks/data_table.ipynb>data table notebook</a>'\n",
       "            + ' to learn more about interactive tables.';\n",
       "          element.innerHTML = '';\n",
       "          dataTable['output_type'] = 'display_data';\n",
       "          await google.colab.output.renderOutput(dataTable, element);\n",
       "          const docLink = document.createElement('div');\n",
       "          docLink.innerHTML = docLinkHtml;\n",
       "          element.appendChild(docLink);\n",
       "        }\n",
       "      </script>\n",
       "    </div>\n",
       "  </div>\n"
      ],
      "text/plain": [
       "                                                text_  target\n",
       "0   This kitchen blender is not only a perfect com...       0\n",
       "1   The comfort and sound quality of these headpho...       0\n",
       "2   This book is an absolute page-turner. The stor...       0\n",
       "3   I was thoroughly impressed with this smartphon...       0\n",
       "4   This cookware set exceeded my expectations. It...       0\n",
       "5   These running shoes are fantastic. They offer ...       0\n",
       "6   The soundbar provides clear, room-filling soun...       0\n",
       "7   This backpack is not only stylish but also fun...       0\n",
       "8   The vacuum cleaner is extremely efficient. The...       0\n",
       "9   The camping tent is easy to set up and spaciou...       0\n",
       "10  This pet bed is a hit with my dog. It's plush ...       0\n",
       "11  The keyboard delivers an enjoyable typing expe...       0\n",
       "12  This skincare product has transformed my skin....       0\n",
       "13  These wireless earbuds have an impressive soun...       0\n",
       "14  This yoga mat is excellent. It provides enough...       0\n",
       "15  I love this coffee maker. It brews coffee quic...       0\n",
       "16  The slow cooker is a gem. It's easy to operate...       0\n",
       "17  This facial cleanser is wonderful. It cleanses...       0\n",
       "18  The fitness tracker is an excellent workout co...       0\n",
       "19  This bedsheet set is fantastic. It's incredibl...       0\n",
       "20  This nail polish is amazing. The color is vibr...       0\n",
       "21  This computer mouse is reliable and comfortabl...       0\n",
       "22  The baby monitor gives peace of mind. The vide...       0\n",
       "23  This electric toothbrush cleans teeth thorough...       0\n",
       "24  This lawn mower is a workhorse. It's powerful,...       0"
      ]
     },
     "execution_count": 206,
     "metadata": {},
     "output_type": "execute_result"
    }
   ],
   "source": [
    "test_dataset_raw_1_25"
   ]
  },
  {
   "cell_type": "code",
   "execution_count": 208,
   "id": "VHpN6LHZCe1l",
   "metadata": {
    "id": "VHpN6LHZCe1l"
   },
   "outputs": [],
   "source": [
    "test_dataset_raw_2_100 = test_dataset_raw_1_100[['text_','target']]"
   ]
  },
  {
   "cell_type": "code",
   "execution_count": 209,
   "id": "rAs8KVHICe6N",
   "metadata": {
    "colab": {
     "base_uri": "https://localhost:8080/",
     "height": 424
    },
    "id": "rAs8KVHICe6N",
    "outputId": "38c4ddf6-2ddd-4149-e1e3-c01eff7399a0"
   },
   "outputs": [
    {
     "data": {
      "text/html": [
       "\n",
       "\n",
       "  <div id=\"df-c92c6c33-1c62-4bb3-abed-0aa0f42d7bf0\">\n",
       "    <div class=\"colab-df-container\">\n",
       "      <div>\n",
       "<style scoped>\n",
       "    .dataframe tbody tr th:only-of-type {\n",
       "        vertical-align: middle;\n",
       "    }\n",
       "\n",
       "    .dataframe tbody tr th {\n",
       "        vertical-align: top;\n",
       "    }\n",
       "\n",
       "    .dataframe thead th {\n",
       "        text-align: right;\n",
       "    }\n",
       "</style>\n",
       "<table border=\"1\" class=\"dataframe\">\n",
       "  <thead>\n",
       "    <tr style=\"text-align: right;\">\n",
       "      <th></th>\n",
       "      <th>text_</th>\n",
       "      <th>target</th>\n",
       "    </tr>\n",
       "  </thead>\n",
       "  <tbody>\n",
       "    <tr>\n",
       "      <th>11323</th>\n",
       "      <td>Are people really dum enough to pay this for t...</td>\n",
       "      <td>1</td>\n",
       "    </tr>\n",
       "    <tr>\n",
       "      <th>2591</th>\n",
       "      <td>These are great. They are a bit smaller than I...</td>\n",
       "      <td>1</td>\n",
       "    </tr>\n",
       "    <tr>\n",
       "      <th>7051</th>\n",
       "      <td>These are really good cycling gloves. I have h...</td>\n",
       "      <td>1</td>\n",
       "    </tr>\n",
       "    <tr>\n",
       "      <th>17807</th>\n",
       "      <td>This painter's tape has a strong stick. This i...</td>\n",
       "      <td>1</td>\n",
       "    </tr>\n",
       "    <tr>\n",
       "      <th>30082</th>\n",
       "      <td>Her books are truly laugh our loud funny. I lo...</td>\n",
       "      <td>1</td>\n",
       "    </tr>\n",
       "    <tr>\n",
       "      <th>...</th>\n",
       "      <td>...</td>\n",
       "      <td>...</td>\n",
       "    </tr>\n",
       "    <tr>\n",
       "      <th>5415</th>\n",
       "      <td>Very good dynamic range. Comfortable to wear w...</td>\n",
       "      <td>1</td>\n",
       "    </tr>\n",
       "    <tr>\n",
       "      <th>12067</th>\n",
       "      <td>About half way through with the season and it'...</td>\n",
       "      <td>1</td>\n",
       "    </tr>\n",
       "    <tr>\n",
       "      <th>10087</th>\n",
       "      <td>Item works as advertised. Good for baby monito...</td>\n",
       "      <td>1</td>\n",
       "    </tr>\n",
       "    <tr>\n",
       "      <th>30954</th>\n",
       "      <td>Its been a while since Ive read a Grisham. And...</td>\n",
       "      <td>1</td>\n",
       "    </tr>\n",
       "    <tr>\n",
       "      <th>9791</th>\n",
       "      <td>This lens cleaner didn't work at all... My oth...</td>\n",
       "      <td>1</td>\n",
       "    </tr>\n",
       "  </tbody>\n",
       "</table>\n",
       "<p>100 rows × 2 columns</p>\n",
       "</div>\n",
       "      <button class=\"colab-df-convert\" onclick=\"convertToInteractive('df-c92c6c33-1c62-4bb3-abed-0aa0f42d7bf0')\"\n",
       "              title=\"Convert this dataframe to an interactive table.\"\n",
       "              style=\"display:none;\">\n",
       "\n",
       "  <svg xmlns=\"http://www.w3.org/2000/svg\" height=\"24px\"viewBox=\"0 0 24 24\"\n",
       "       width=\"24px\">\n",
       "    <path d=\"M0 0h24v24H0V0z\" fill=\"none\"/>\n",
       "    <path d=\"M18.56 5.44l.94 2.06.94-2.06 2.06-.94-2.06-.94-.94-2.06-.94 2.06-2.06.94zm-11 1L8.5 8.5l.94-2.06 2.06-.94-2.06-.94L8.5 2.5l-.94 2.06-2.06.94zm10 10l.94 2.06.94-2.06 2.06-.94-2.06-.94-.94-2.06-.94 2.06-2.06.94z\"/><path d=\"M17.41 7.96l-1.37-1.37c-.4-.4-.92-.59-1.43-.59-.52 0-1.04.2-1.43.59L10.3 9.45l-7.72 7.72c-.78.78-.78 2.05 0 2.83L4 21.41c.39.39.9.59 1.41.59.51 0 1.02-.2 1.41-.59l7.78-7.78 2.81-2.81c.8-.78.8-2.07 0-2.86zM5.41 20L4 18.59l7.72-7.72 1.47 1.35L5.41 20z\"/>\n",
       "  </svg>\n",
       "      </button>\n",
       "\n",
       "\n",
       "\n",
       "    <div id=\"df-f2783d8c-37a0-4acd-ba34-1318ee02ffdc\">\n",
       "      <button class=\"colab-df-quickchart\" onclick=\"quickchart('df-f2783d8c-37a0-4acd-ba34-1318ee02ffdc')\"\n",
       "              title=\"Suggest charts.\"\n",
       "              style=\"display:none;\">\n",
       "\n",
       "<svg xmlns=\"http://www.w3.org/2000/svg\" height=\"24px\"viewBox=\"0 0 24 24\"\n",
       "     width=\"24px\">\n",
       "    <g>\n",
       "        <path d=\"M19 3H5c-1.1 0-2 .9-2 2v14c0 1.1.9 2 2 2h14c1.1 0 2-.9 2-2V5c0-1.1-.9-2-2-2zM9 17H7v-7h2v7zm4 0h-2V7h2v10zm4 0h-2v-4h2v4z\"/>\n",
       "    </g>\n",
       "</svg>\n",
       "      </button>\n",
       "    </div>\n",
       "\n",
       "<style>\n",
       "  .colab-df-quickchart {\n",
       "    background-color: #E8F0FE;\n",
       "    border: none;\n",
       "    border-radius: 50%;\n",
       "    cursor: pointer;\n",
       "    display: none;\n",
       "    fill: #1967D2;\n",
       "    height: 32px;\n",
       "    padding: 0 0 0 0;\n",
       "    width: 32px;\n",
       "  }\n",
       "\n",
       "  .colab-df-quickchart:hover {\n",
       "    background-color: #E2EBFA;\n",
       "    box-shadow: 0px 1px 2px rgba(60, 64, 67, 0.3), 0px 1px 3px 1px rgba(60, 64, 67, 0.15);\n",
       "    fill: #174EA6;\n",
       "  }\n",
       "\n",
       "  [theme=dark] .colab-df-quickchart {\n",
       "    background-color: #3B4455;\n",
       "    fill: #D2E3FC;\n",
       "  }\n",
       "\n",
       "  [theme=dark] .colab-df-quickchart:hover {\n",
       "    background-color: #434B5C;\n",
       "    box-shadow: 0px 1px 3px 1px rgba(0, 0, 0, 0.15);\n",
       "    filter: drop-shadow(0px 1px 2px rgba(0, 0, 0, 0.3));\n",
       "    fill: #FFFFFF;\n",
       "  }\n",
       "</style>\n",
       "\n",
       "    <script>\n",
       "      async function quickchart(key) {\n",
       "        const containerElement = document.querySelector('#' + key);\n",
       "        const charts = await google.colab.kernel.invokeFunction(\n",
       "            'suggestCharts', [key], {});\n",
       "      }\n",
       "    </script>\n",
       "\n",
       "      <script>\n",
       "\n",
       "function displayQuickchartButton(domScope) {\n",
       "  let quickchartButtonEl =\n",
       "    domScope.querySelector('#df-f2783d8c-37a0-4acd-ba34-1318ee02ffdc button.colab-df-quickchart');\n",
       "  quickchartButtonEl.style.display =\n",
       "    google.colab.kernel.accessAllowed ? 'block' : 'none';\n",
       "}\n",
       "\n",
       "        displayQuickchartButton(document);\n",
       "      </script>\n",
       "      <style>\n",
       "    .colab-df-container {\n",
       "      display:flex;\n",
       "      flex-wrap:wrap;\n",
       "      gap: 12px;\n",
       "    }\n",
       "\n",
       "    .colab-df-convert {\n",
       "      background-color: #E8F0FE;\n",
       "      border: none;\n",
       "      border-radius: 50%;\n",
       "      cursor: pointer;\n",
       "      display: none;\n",
       "      fill: #1967D2;\n",
       "      height: 32px;\n",
       "      padding: 0 0 0 0;\n",
       "      width: 32px;\n",
       "    }\n",
       "\n",
       "    .colab-df-convert:hover {\n",
       "      background-color: #E2EBFA;\n",
       "      box-shadow: 0px 1px 2px rgba(60, 64, 67, 0.3), 0px 1px 3px 1px rgba(60, 64, 67, 0.15);\n",
       "      fill: #174EA6;\n",
       "    }\n",
       "\n",
       "    [theme=dark] .colab-df-convert {\n",
       "      background-color: #3B4455;\n",
       "      fill: #D2E3FC;\n",
       "    }\n",
       "\n",
       "    [theme=dark] .colab-df-convert:hover {\n",
       "      background-color: #434B5C;\n",
       "      box-shadow: 0px 1px 3px 1px rgba(0, 0, 0, 0.15);\n",
       "      filter: drop-shadow(0px 1px 2px rgba(0, 0, 0, 0.3));\n",
       "      fill: #FFFFFF;\n",
       "    }\n",
       "  </style>\n",
       "\n",
       "      <script>\n",
       "        const buttonEl =\n",
       "          document.querySelector('#df-c92c6c33-1c62-4bb3-abed-0aa0f42d7bf0 button.colab-df-convert');\n",
       "        buttonEl.style.display =\n",
       "          google.colab.kernel.accessAllowed ? 'block' : 'none';\n",
       "\n",
       "        async function convertToInteractive(key) {\n",
       "          const element = document.querySelector('#df-c92c6c33-1c62-4bb3-abed-0aa0f42d7bf0');\n",
       "          const dataTable =\n",
       "            await google.colab.kernel.invokeFunction('convertToInteractive',\n",
       "                                                     [key], {});\n",
       "          if (!dataTable) return;\n",
       "\n",
       "          const docLinkHtml = 'Like what you see? Visit the ' +\n",
       "            '<a target=\"_blank\" href=https://colab.research.google.com/notebooks/data_table.ipynb>data table notebook</a>'\n",
       "            + ' to learn more about interactive tables.';\n",
       "          element.innerHTML = '';\n",
       "          dataTable['output_type'] = 'display_data';\n",
       "          await google.colab.output.renderOutput(dataTable, element);\n",
       "          const docLink = document.createElement('div');\n",
       "          docLink.innerHTML = docLinkHtml;\n",
       "          element.appendChild(docLink);\n",
       "        }\n",
       "      </script>\n",
       "    </div>\n",
       "  </div>\n"
      ],
      "text/plain": [
       "                                                   text_  target\n",
       "11323  Are people really dum enough to pay this for t...       1\n",
       "2591   These are great. They are a bit smaller than I...       1\n",
       "7051   These are really good cycling gloves. I have h...       1\n",
       "17807  This painter's tape has a strong stick. This i...       1\n",
       "30082  Her books are truly laugh our loud funny. I lo...       1\n",
       "...                                                  ...     ...\n",
       "5415   Very good dynamic range. Comfortable to wear w...       1\n",
       "12067  About half way through with the season and it'...       1\n",
       "10087  Item works as advertised. Good for baby monito...       1\n",
       "30954  Its been a while since Ive read a Grisham. And...       1\n",
       "9791   This lens cleaner didn't work at all... My oth...       1\n",
       "\n",
       "[100 rows x 2 columns]"
      ]
     },
     "execution_count": 209,
     "metadata": {},
     "output_type": "execute_result"
    }
   ],
   "source": [
    "test_dataset_raw_2_100"
   ]
  },
  {
   "cell_type": "code",
   "execution_count": 210,
   "id": "yUEkrPjwCfAi",
   "metadata": {
    "id": "yUEkrPjwCfAi"
   },
   "outputs": [],
   "source": [
    "merged_df_120_2 = pd.concat([test_dataset_raw_1_25, test_dataset_raw_2_100], ignore_index=True)\n",
    "\n",
    "# Shuffle the index\n",
    "test_120_2 = merged_df_120_2.sample(frac=1, random_state=42).reset_index(drop=True)"
   ]
  },
  {
   "cell_type": "code",
   "execution_count": 211,
   "id": "7uCG8CxkCfGP",
   "metadata": {
    "colab": {
     "base_uri": "https://localhost:8080/",
     "height": 424
    },
    "id": "7uCG8CxkCfGP",
    "outputId": "cc03dfd2-14b0-4dbd-fd14-198425142f9e"
   },
   "outputs": [
    {
     "data": {
      "text/html": [
       "\n",
       "\n",
       "  <div id=\"df-5af3fb9b-590b-49b3-ad5b-421ffda5f1a5\">\n",
       "    <div class=\"colab-df-container\">\n",
       "      <div>\n",
       "<style scoped>\n",
       "    .dataframe tbody tr th:only-of-type {\n",
       "        vertical-align: middle;\n",
       "    }\n",
       "\n",
       "    .dataframe tbody tr th {\n",
       "        vertical-align: top;\n",
       "    }\n",
       "\n",
       "    .dataframe thead th {\n",
       "        text-align: right;\n",
       "    }\n",
       "</style>\n",
       "<table border=\"1\" class=\"dataframe\">\n",
       "  <thead>\n",
       "    <tr style=\"text-align: right;\">\n",
       "      <th></th>\n",
       "      <th>text_</th>\n",
       "      <th>target</th>\n",
       "    </tr>\n",
       "  </thead>\n",
       "  <tbody>\n",
       "    <tr>\n",
       "      <th>0</th>\n",
       "      <td>The fitness tracker is an excellent workout co...</td>\n",
       "      <td>0</td>\n",
       "    </tr>\n",
       "    <tr>\n",
       "      <th>1</th>\n",
       "      <td>Connections are light duty and can break as mi...</td>\n",
       "      <td>1</td>\n",
       "    </tr>\n",
       "    <tr>\n",
       "      <th>2</th>\n",
       "      <td>I fell in love with the illustrations in this ...</td>\n",
       "      <td>1</td>\n",
       "    </tr>\n",
       "    <tr>\n",
       "      <th>3</th>\n",
       "      <td>great for the price even came in a back pack t...</td>\n",
       "      <td>1</td>\n",
       "    </tr>\n",
       "    <tr>\n",
       "      <th>4</th>\n",
       "      <td>It is a very nice story. It is funny and lovin...</td>\n",
       "      <td>1</td>\n",
       "    </tr>\n",
       "    <tr>\n",
       "      <th>...</th>\n",
       "      <td>...</td>\n",
       "      <td>...</td>\n",
       "    </tr>\n",
       "    <tr>\n",
       "      <th>120</th>\n",
       "      <td>Unfortunately, the version sent to me was appa...</td>\n",
       "      <td>1</td>\n",
       "    </tr>\n",
       "    <tr>\n",
       "      <th>121</th>\n",
       "      <td>This yoga mat is excellent. It provides enough...</td>\n",
       "      <td>0</td>\n",
       "    </tr>\n",
       "    <tr>\n",
       "      <th>122</th>\n",
       "      <td>This cable arrived DOA. It doesn't appear dama...</td>\n",
       "      <td>1</td>\n",
       "    </tr>\n",
       "    <tr>\n",
       "      <th>123</th>\n",
       "      <td>I picked this up, expecting just another short...</td>\n",
       "      <td>1</td>\n",
       "    </tr>\n",
       "    <tr>\n",
       "      <th>124</th>\n",
       "      <td>Censorship and moral codes took the bite out o...</td>\n",
       "      <td>1</td>\n",
       "    </tr>\n",
       "  </tbody>\n",
       "</table>\n",
       "<p>125 rows × 2 columns</p>\n",
       "</div>\n",
       "      <button class=\"colab-df-convert\" onclick=\"convertToInteractive('df-5af3fb9b-590b-49b3-ad5b-421ffda5f1a5')\"\n",
       "              title=\"Convert this dataframe to an interactive table.\"\n",
       "              style=\"display:none;\">\n",
       "\n",
       "  <svg xmlns=\"http://www.w3.org/2000/svg\" height=\"24px\"viewBox=\"0 0 24 24\"\n",
       "       width=\"24px\">\n",
       "    <path d=\"M0 0h24v24H0V0z\" fill=\"none\"/>\n",
       "    <path d=\"M18.56 5.44l.94 2.06.94-2.06 2.06-.94-2.06-.94-.94-2.06-.94 2.06-2.06.94zm-11 1L8.5 8.5l.94-2.06 2.06-.94-2.06-.94L8.5 2.5l-.94 2.06-2.06.94zm10 10l.94 2.06.94-2.06 2.06-.94-2.06-.94-.94-2.06-.94 2.06-2.06.94z\"/><path d=\"M17.41 7.96l-1.37-1.37c-.4-.4-.92-.59-1.43-.59-.52 0-1.04.2-1.43.59L10.3 9.45l-7.72 7.72c-.78.78-.78 2.05 0 2.83L4 21.41c.39.39.9.59 1.41.59.51 0 1.02-.2 1.41-.59l7.78-7.78 2.81-2.81c.8-.78.8-2.07 0-2.86zM5.41 20L4 18.59l7.72-7.72 1.47 1.35L5.41 20z\"/>\n",
       "  </svg>\n",
       "      </button>\n",
       "\n",
       "\n",
       "\n",
       "    <div id=\"df-64b6f3ef-f645-4f72-a6ee-92d3a54507fa\">\n",
       "      <button class=\"colab-df-quickchart\" onclick=\"quickchart('df-64b6f3ef-f645-4f72-a6ee-92d3a54507fa')\"\n",
       "              title=\"Suggest charts.\"\n",
       "              style=\"display:none;\">\n",
       "\n",
       "<svg xmlns=\"http://www.w3.org/2000/svg\" height=\"24px\"viewBox=\"0 0 24 24\"\n",
       "     width=\"24px\">\n",
       "    <g>\n",
       "        <path d=\"M19 3H5c-1.1 0-2 .9-2 2v14c0 1.1.9 2 2 2h14c1.1 0 2-.9 2-2V5c0-1.1-.9-2-2-2zM9 17H7v-7h2v7zm4 0h-2V7h2v10zm4 0h-2v-4h2v4z\"/>\n",
       "    </g>\n",
       "</svg>\n",
       "      </button>\n",
       "    </div>\n",
       "\n",
       "<style>\n",
       "  .colab-df-quickchart {\n",
       "    background-color: #E8F0FE;\n",
       "    border: none;\n",
       "    border-radius: 50%;\n",
       "    cursor: pointer;\n",
       "    display: none;\n",
       "    fill: #1967D2;\n",
       "    height: 32px;\n",
       "    padding: 0 0 0 0;\n",
       "    width: 32px;\n",
       "  }\n",
       "\n",
       "  .colab-df-quickchart:hover {\n",
       "    background-color: #E2EBFA;\n",
       "    box-shadow: 0px 1px 2px rgba(60, 64, 67, 0.3), 0px 1px 3px 1px rgba(60, 64, 67, 0.15);\n",
       "    fill: #174EA6;\n",
       "  }\n",
       "\n",
       "  [theme=dark] .colab-df-quickchart {\n",
       "    background-color: #3B4455;\n",
       "    fill: #D2E3FC;\n",
       "  }\n",
       "\n",
       "  [theme=dark] .colab-df-quickchart:hover {\n",
       "    background-color: #434B5C;\n",
       "    box-shadow: 0px 1px 3px 1px rgba(0, 0, 0, 0.15);\n",
       "    filter: drop-shadow(0px 1px 2px rgba(0, 0, 0, 0.3));\n",
       "    fill: #FFFFFF;\n",
       "  }\n",
       "</style>\n",
       "\n",
       "    <script>\n",
       "      async function quickchart(key) {\n",
       "        const containerElement = document.querySelector('#' + key);\n",
       "        const charts = await google.colab.kernel.invokeFunction(\n",
       "            'suggestCharts', [key], {});\n",
       "      }\n",
       "    </script>\n",
       "\n",
       "      <script>\n",
       "\n",
       "function displayQuickchartButton(domScope) {\n",
       "  let quickchartButtonEl =\n",
       "    domScope.querySelector('#df-64b6f3ef-f645-4f72-a6ee-92d3a54507fa button.colab-df-quickchart');\n",
       "  quickchartButtonEl.style.display =\n",
       "    google.colab.kernel.accessAllowed ? 'block' : 'none';\n",
       "}\n",
       "\n",
       "        displayQuickchartButton(document);\n",
       "      </script>\n",
       "      <style>\n",
       "    .colab-df-container {\n",
       "      display:flex;\n",
       "      flex-wrap:wrap;\n",
       "      gap: 12px;\n",
       "    }\n",
       "\n",
       "    .colab-df-convert {\n",
       "      background-color: #E8F0FE;\n",
       "      border: none;\n",
       "      border-radius: 50%;\n",
       "      cursor: pointer;\n",
       "      display: none;\n",
       "      fill: #1967D2;\n",
       "      height: 32px;\n",
       "      padding: 0 0 0 0;\n",
       "      width: 32px;\n",
       "    }\n",
       "\n",
       "    .colab-df-convert:hover {\n",
       "      background-color: #E2EBFA;\n",
       "      box-shadow: 0px 1px 2px rgba(60, 64, 67, 0.3), 0px 1px 3px 1px rgba(60, 64, 67, 0.15);\n",
       "      fill: #174EA6;\n",
       "    }\n",
       "\n",
       "    [theme=dark] .colab-df-convert {\n",
       "      background-color: #3B4455;\n",
       "      fill: #D2E3FC;\n",
       "    }\n",
       "\n",
       "    [theme=dark] .colab-df-convert:hover {\n",
       "      background-color: #434B5C;\n",
       "      box-shadow: 0px 1px 3px 1px rgba(0, 0, 0, 0.15);\n",
       "      filter: drop-shadow(0px 1px 2px rgba(0, 0, 0, 0.3));\n",
       "      fill: #FFFFFF;\n",
       "    }\n",
       "  </style>\n",
       "\n",
       "      <script>\n",
       "        const buttonEl =\n",
       "          document.querySelector('#df-5af3fb9b-590b-49b3-ad5b-421ffda5f1a5 button.colab-df-convert');\n",
       "        buttonEl.style.display =\n",
       "          google.colab.kernel.accessAllowed ? 'block' : 'none';\n",
       "\n",
       "        async function convertToInteractive(key) {\n",
       "          const element = document.querySelector('#df-5af3fb9b-590b-49b3-ad5b-421ffda5f1a5');\n",
       "          const dataTable =\n",
       "            await google.colab.kernel.invokeFunction('convertToInteractive',\n",
       "                                                     [key], {});\n",
       "          if (!dataTable) return;\n",
       "\n",
       "          const docLinkHtml = 'Like what you see? Visit the ' +\n",
       "            '<a target=\"_blank\" href=https://colab.research.google.com/notebooks/data_table.ipynb>data table notebook</a>'\n",
       "            + ' to learn more about interactive tables.';\n",
       "          element.innerHTML = '';\n",
       "          dataTable['output_type'] = 'display_data';\n",
       "          await google.colab.output.renderOutput(dataTable, element);\n",
       "          const docLink = document.createElement('div');\n",
       "          docLink.innerHTML = docLinkHtml;\n",
       "          element.appendChild(docLink);\n",
       "        }\n",
       "      </script>\n",
       "    </div>\n",
       "  </div>\n"
      ],
      "text/plain": [
       "                                                 text_  target\n",
       "0    The fitness tracker is an excellent workout co...       0\n",
       "1    Connections are light duty and can break as mi...       1\n",
       "2    I fell in love with the illustrations in this ...       1\n",
       "3    great for the price even came in a back pack t...       1\n",
       "4    It is a very nice story. It is funny and lovin...       1\n",
       "..                                                 ...     ...\n",
       "120  Unfortunately, the version sent to me was appa...       1\n",
       "121  This yoga mat is excellent. It provides enough...       0\n",
       "122  This cable arrived DOA. It doesn't appear dama...       1\n",
       "123  I picked this up, expecting just another short...       1\n",
       "124  Censorship and moral codes took the bite out o...       1\n",
       "\n",
       "[125 rows x 2 columns]"
      ]
     },
     "execution_count": 211,
     "metadata": {},
     "output_type": "execute_result"
    }
   ],
   "source": [
    "test_120_2"
   ]
  },
  {
   "cell_type": "code",
   "execution_count": 212,
   "id": "2XXF5IXmCfLv",
   "metadata": {
    "id": "2XXF5IXmCfLv"
   },
   "outputs": [],
   "source": [
    "test_encodings_120_2 = tokenizer(test_120_2['text_'].tolist(), truncation=True, padding=True, max_length=256)\n",
    "\n",
    "test_dataset_120_2 = tf.data.Dataset.from_tensor_slices((\n",
    "    dict(test_encodings_120_2),\n",
    "    test_120_2['target'].values\n",
    "))"
   ]
  },
  {
   "cell_type": "code",
   "execution_count": 216,
   "id": "Zl64S5_9_vn3",
   "metadata": {
    "colab": {
     "base_uri": "https://localhost:8080/"
    },
    "id": "Zl64S5_9_vn3",
    "outputId": "192c8d9b-55c1-447a-fce5-88491bb612cb"
   },
   "outputs": [
    {
     "name": "stdout",
     "output_type": "stream",
     "text": [
      "8/8 [==============================] - 2s 297ms/step\n",
      "              precision    recall  f1-score   support\n",
      "\n",
      "          CG       0.76      0.64      0.70        25\n",
      "          OR       0.91      0.95      0.93       100\n",
      "\n",
      "    accuracy                           0.89       125\n",
      "   macro avg       0.84      0.79      0.81       125\n",
      "weighted avg       0.88      0.89      0.88       125\n",
      "\n"
     ]
    }
   ],
   "source": [
    "test_dataset_120_2_batched = test_dataset_120_2.batch(16)\n",
    "y_pred_raw_120_2 = model.predict(test_dataset_120_2_batched)\n",
    "\n",
    "# Convert raw predictions to class predictions\n",
    "y_pred_120_2 = np.argmax(y_pred_raw_120_2.logits, axis=1)\n",
    "\n",
    "# Get the actual class labels\n",
    "y_true_120_2 = []\n",
    "for features, label in test_dataset_120_2:\n",
    "    y_true_120_2.append(label.numpy())\n",
    "y_true_120_2 = np.array(y_true_120_2)\n",
    "\n",
    "\n",
    "# Generate a classification report\n",
    "report_120_2 = classification_report(y_true_120_2, y_pred_120_2, target_names=[\"CG\", \"OR\"])\n",
    "print(report_120_2)"
   ]
  },
  {
   "cell_type": "code",
   "execution_count": null,
   "id": "j1YT_NvMQ-di",
   "metadata": {
    "id": "j1YT_NvMQ-di"
   },
   "outputs": [],
   "source": []
  },
  {
   "cell_type": "code",
   "execution_count": null,
   "id": "_DNhygNyQ-hR",
   "metadata": {
    "id": "_DNhygNyQ-hR"
   },
   "outputs": [],
   "source": []
  },
  {
   "cell_type": "code",
   "execution_count": null,
   "id": "LOfAbsbqQ-kb",
   "metadata": {
    "id": "LOfAbsbqQ-kb"
   },
   "outputs": [],
   "source": []
  },
  {
   "cell_type": "code",
   "execution_count": null,
   "id": "k4a_rHxvQ-my",
   "metadata": {
    "id": "k4a_rHxvQ-my"
   },
   "outputs": [],
   "source": []
  },
  {
   "cell_type": "code",
   "execution_count": null,
   "id": "gfC9sTXRQ-pi",
   "metadata": {
    "id": "gfC9sTXRQ-pi"
   },
   "outputs": [],
   "source": []
  },
  {
   "cell_type": "code",
   "execution_count": null,
   "id": "u-QT47gHCeFW",
   "metadata": {
    "id": "u-QT47gHCeFW"
   },
   "outputs": [],
   "source": []
  }
 ],
 "metadata": {
  "accelerator": "GPU",
  "colab": {
   "gpuType": "T4",
   "provenance": []
  },
  "kernelspec": {
   "display_name": "Python 3 (ipykernel)",
   "language": "python",
   "name": "python3"
  },
  "language_info": {
   "codemirror_mode": {
    "name": "ipython",
    "version": 3
   },
   "file_extension": ".py",
   "mimetype": "text/x-python",
   "name": "python",
   "nbconvert_exporter": "python",
   "pygments_lexer": "ipython3",
   "version": "3.8.12"
  },
  "toc": {
   "base_numbering": 1,
   "nav_menu": {},
   "number_sections": true,
   "sideBar": true,
   "skip_h1_title": false,
   "title_cell": "Table of Contents",
   "title_sidebar": "Contents",
   "toc_cell": false,
   "toc_position": {},
   "toc_section_display": true,
   "toc_window_display": false
  }
 },
 "nbformat": 4,
 "nbformat_minor": 5
}
