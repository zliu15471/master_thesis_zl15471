{
 "cells": [
  {
   "cell_type": "code",
   "execution_count": 2,
   "id": "425b4ede",
   "metadata": {},
   "outputs": [],
   "source": [
    "import warnings\n",
    "warnings.filterwarnings('ignore')\n",
    "import numpy as np\n",
    "import pandas as pd\n",
    "import seaborn as sns\n",
    "import matplotlib.pyplot as plt\n",
    "from wordcloud import WordCloud\n",
    "from bs4 import BeautifulSoup\n"
   ]
  },
  {
   "cell_type": "code",
   "execution_count": 3,
   "id": "d1a1bdee",
   "metadata": {},
   "outputs": [
    {
     "data": {
      "text/html": [
       "<div>\n",
       "<style scoped>\n",
       "    .dataframe tbody tr th:only-of-type {\n",
       "        vertical-align: middle;\n",
       "    }\n",
       "\n",
       "    .dataframe tbody tr th {\n",
       "        vertical-align: top;\n",
       "    }\n",
       "\n",
       "    .dataframe thead th {\n",
       "        text-align: right;\n",
       "    }\n",
       "</style>\n",
       "<table border=\"1\" class=\"dataframe\">\n",
       "  <thead>\n",
       "    <tr style=\"text-align: right;\">\n",
       "      <th></th>\n",
       "      <th>Text</th>\n",
       "      <th>Class</th>\n",
       "    </tr>\n",
       "  </thead>\n",
       "  <tbody>\n",
       "    <tr>\n",
       "      <th>0</th>\n",
       "      <td>Supply Quality China's EXCLUSIVE dimensions at...</td>\n",
       "      <td>1</td>\n",
       "    </tr>\n",
       "    <tr>\n",
       "      <th>1</th>\n",
       "      <td>over. SidLet me know. Thx.</td>\n",
       "      <td>0</td>\n",
       "    </tr>\n",
       "    <tr>\n",
       "      <th>2</th>\n",
       "      <td>Dear Friend,Greetings to you.I wish to accost ...</td>\n",
       "      <td>1</td>\n",
       "    </tr>\n",
       "    <tr>\n",
       "      <th>3</th>\n",
       "      <td>MR. CHEUNG PUIHANG SENG BANK LTD.DES VOEUX RD....</td>\n",
       "      <td>1</td>\n",
       "    </tr>\n",
       "    <tr>\n",
       "      <th>4</th>\n",
       "      <td>Not a surprising assessment from Embassy.</td>\n",
       "      <td>0</td>\n",
       "    </tr>\n",
       "  </tbody>\n",
       "</table>\n",
       "</div>"
      ],
      "text/plain": [
       "                                                Text  Class\n",
       "0  Supply Quality China's EXCLUSIVE dimensions at...      1\n",
       "1                         over. SidLet me know. Thx.      0\n",
       "2  Dear Friend,Greetings to you.I wish to accost ...      1\n",
       "3  MR. CHEUNG PUIHANG SENG BANK LTD.DES VOEUX RD....      1\n",
       "4          Not a surprising assessment from Embassy.      0"
      ]
     },
     "execution_count": 3,
     "metadata": {},
     "output_type": "execute_result"
    }
   ],
   "source": [
    "df = pd.read_csv('../raw_data/fraud_email.csv')\n",
    "df.head()"
   ]
  },
  {
   "cell_type": "code",
   "execution_count": 4,
   "id": "1dfa04f5",
   "metadata": {},
   "outputs": [
    {
     "data": {
      "text/plain": [
       "(11929, 2)"
      ]
     },
     "execution_count": 4,
     "metadata": {},
     "output_type": "execute_result"
    }
   ],
   "source": [
    "df.shape"
   ]
  },
  {
   "cell_type": "code",
   "execution_count": 5,
   "id": "c060905a",
   "metadata": {},
   "outputs": [
    {
     "data": {
      "text/plain": [
       "0    6742\n",
       "1    5187\n",
       "Name: Class, dtype: int64"
      ]
     },
     "execution_count": 5,
     "metadata": {},
     "output_type": "execute_result"
    }
   ],
   "source": [
    "df['Class'].value_counts()"
   ]
  },
  {
   "cell_type": "code",
   "execution_count": 6,
   "id": "4afd3ed5",
   "metadata": {},
   "outputs": [
    {
     "data": {
      "text/plain": [
       "Text     0\n",
       "Class    0\n",
       "dtype: int64"
      ]
     },
     "execution_count": 6,
     "metadata": {},
     "output_type": "execute_result"
    }
   ],
   "source": [
    "df.dropna(inplace=True)\n",
    "df.isnull().sum()"
   ]
  },
  {
   "cell_type": "code",
   "execution_count": 7,
   "id": "30f0c9f9",
   "metadata": {},
   "outputs": [
    {
     "name": "stdout",
     "output_type": "stream",
     "text": [
      "Requirement already satisfied: nltp in /Users/zhenliu15471/.pyenv/versions/3.8.12/envs/lewagon/lib/python3.8/site-packages (0.1.0)\n",
      "unzip:  cannot find or open /usr/share/nltk_data/corpora/wordnet.zip, /usr/share/nltk_data/corpora/wordnet.zip.zip or /usr/share/nltk_data/corpora/wordnet.zip.ZIP.\n"
     ]
    }
   ],
   "source": [
    "!pip install nltp\n",
    "!unzip /usr/share/nltk_data/corpora/wordnet.zip -d /usr/share/nltk_data/corpora/\n",
    "from nltp import Preprocessor"
   ]
  },
  {
   "cell_type": "code",
   "execution_count": 8,
   "id": "e86bfb86",
   "metadata": {},
   "outputs": [
    {
     "data": {
      "text/html": [
       "<div>\n",
       "<style scoped>\n",
       "    .dataframe tbody tr th:only-of-type {\n",
       "        vertical-align: middle;\n",
       "    }\n",
       "\n",
       "    .dataframe tbody tr th {\n",
       "        vertical-align: top;\n",
       "    }\n",
       "\n",
       "    .dataframe thead th {\n",
       "        text-align: right;\n",
       "    }\n",
       "</style>\n",
       "<table border=\"1\" class=\"dataframe\">\n",
       "  <thead>\n",
       "    <tr style=\"text-align: right;\">\n",
       "      <th></th>\n",
       "      <th>Text</th>\n",
       "      <th>Class</th>\n",
       "    </tr>\n",
       "  </thead>\n",
       "  <tbody>\n",
       "    <tr>\n",
       "      <th>0</th>\n",
       "      <td>Supply Quality China's EXCLUSIVE dimensions at...</td>\n",
       "      <td>1</td>\n",
       "    </tr>\n",
       "    <tr>\n",
       "      <th>1</th>\n",
       "      <td>over. SidLet me know. Thx.</td>\n",
       "      <td>0</td>\n",
       "    </tr>\n",
       "    <tr>\n",
       "      <th>2</th>\n",
       "      <td>Dear Friend,Greetings to you.I wish to accost ...</td>\n",
       "      <td>1</td>\n",
       "    </tr>\n",
       "    <tr>\n",
       "      <th>3</th>\n",
       "      <td>MR. CHEUNG PUIHANG SENG BANK LTD.DES VOEUX RD....</td>\n",
       "      <td>1</td>\n",
       "    </tr>\n",
       "    <tr>\n",
       "      <th>4</th>\n",
       "      <td>Not a surprising assessment from Embassy.</td>\n",
       "      <td>0</td>\n",
       "    </tr>\n",
       "  </tbody>\n",
       "</table>\n",
       "</div>"
      ],
      "text/plain": [
       "                                                Text  Class\n",
       "0  Supply Quality China's EXCLUSIVE dimensions at...      1\n",
       "1                         over. SidLet me know. Thx.      0\n",
       "2  Dear Friend,Greetings to you.I wish to accost ...      1\n",
       "3  MR. CHEUNG PUIHANG SENG BANK LTD.DES VOEUX RD....      1\n",
       "4          Not a surprising assessment from Embassy.      0"
      ]
     },
     "execution_count": 8,
     "metadata": {},
     "output_type": "execute_result"
    }
   ],
   "source": [
    "df['Text'] = df['Text'].apply(lambda s: BeautifulSoup(s).text)\n",
    "df.head()"
   ]
  },
  {
   "cell_type": "code",
   "execution_count": 9,
   "id": "ee43522a",
   "metadata": {},
   "outputs": [
    {
     "name": "stdout",
     "output_type": "stream",
     "text": [
      "Cleaning Complete\n",
      "Time Taken: 7.379 seconds\n"
     ]
    }
   ],
   "source": [
    "pre = Preprocessor(df['Text']).text_cleaner()"
   ]
  },
  {
   "cell_type": "code",
   "execution_count": 9,
   "id": "d1ecd711",
   "metadata": {},
   "outputs": [
    {
     "data": {
      "text/plain": [
       "'sidlet know thx'"
      ]
     },
     "execution_count": 9,
     "metadata": {},
     "output_type": "execute_result"
    }
   ],
   "source": [
    "pre[1]"
   ]
  },
  {
   "cell_type": "code",
   "execution_count": 10,
   "id": "ee7c56d7",
   "metadata": {},
   "outputs": [
    {
     "data": {
      "text/plain": [
       "'dear friend greeting wish accost request would immense benefit u executor will possible may tempted make fortune client situation cannot help left better option issue presenting case client willed fortune next kin unfortunate next kin died day st october egyptian airline passenger board confirm website published bbc world news website http ew bbc co uk hi world america stm faced confusion pas fortune according english law fortune supposed bequeathed government nobody come forward next kin within seven year demise benefactor purpose contacting seek acting beneficiary lay claim legacy million deceased client bequeathed next kin alone know client great confidence everything left share would would want give huge part share tsunami victim primary objective amend add codicil make beneficiary million legacy feel may apprehensive consider amount big defend matter document back legacy passed next kin sure getting consent issue prefer divulge full identity risk disbarred english bar considers breach oath english bar need emphasize sensitivity issue need toyed neglecting confidentiality therefore appeal discus request anybody even decline request look forward hearing soon trulystephen ayling'"
      ]
     },
     "execution_count": 10,
     "metadata": {},
     "output_type": "execute_result"
    }
   ],
   "source": [
    "pre[2]"
   ]
  },
  {
   "cell_type": "code",
   "execution_count": 11,
   "id": "86cdb4f0",
   "metadata": {},
   "outputs": [],
   "source": [
    "X = pre\n",
    "y = df['Class']"
   ]
  },
  {
   "cell_type": "code",
   "execution_count": 12,
   "id": "4c424767",
   "metadata": {},
   "outputs": [],
   "source": [
    "from sklearn.pipeline import Pipeline\n",
    "from sklearn.feature_extraction.text import TfidfVectorizer\n",
    "from sklearn.model_selection import train_test_split\n",
    "from sklearn.metrics import confusion_matrix,classification_report\n",
    "from sklearn.linear_model import LogisticRegression\n",
    "\n",
    "from sklearn.svm import LinearSVC\n",
    "from sklearn.naive_bayes import BernoulliNB"
   ]
  },
  {
   "cell_type": "code",
   "execution_count": 13,
   "id": "977cb2a9",
   "metadata": {},
   "outputs": [
    {
     "name": "stdout",
     "output_type": "stream",
     "text": [
      "X_Train: 9542\n",
      "X_Test: 2386\n",
      "y_Train: 9542\n",
      "y_Test: 2386\n"
     ]
    }
   ],
   "source": [
    "X_train, X_test, y_train, y_test = train_test_split(X, y, test_size=0.2, shuffle=True, random_state=42)\n",
    "\n",
    "print(f'X_Train: {len(X_train)}\\nX_Test: {len(X_test)}\\ny_Train: {len(y_train)}\\ny_Test: {len(y_test)}')"
   ]
  },
  {
   "cell_type": "code",
   "execution_count": 14,
   "id": "7102b99d",
   "metadata": {},
   "outputs": [],
   "source": [
    "def fit_predict(model):   \n",
    "\n",
    "    clf = Pipeline([('tfidf',TfidfVectorizer()),\n",
    "                   ('clf',model)])\n",
    "\n",
    "    clf.fit(X_train, y_train)\n",
    "   \n",
    "    Score = clf.score(X_test,y_test)\n",
    "    print(f'score: {Score*100}') \n",
    "    \n",
    "    return clf"
   ]
  },
  {
   "cell_type": "code",
   "execution_count": 15,
   "id": "3e0df1d1",
   "metadata": {},
   "outputs": [],
   "source": [
    "class Metrics():\n",
    "    \n",
    "    def __init__(self, pred):\n",
    "        self.pred = pred\n",
    "        \n",
    "    def cm(self):\n",
    "        cm = confusion_matrix(y_test, self.pred)\n",
    "        labels = ['Not Spam','Spam']\n",
    "\n",
    "        f, ax = plt.subplots(figsize=(5,5))\n",
    "        sns.heatmap(cm,annot =True, linewidth=.6, linecolor=\"r\", fmt=\".0f\", ax = ax)\n",
    "\n",
    "        ax.set_xticklabels(labels)\n",
    "        ax.set_yticklabels(labels)\n",
    "        plt.show()\n",
    "\n",
    "    def report(self):\n",
    "        class_report = classification_report(y_test, self.pred)\n",
    "        print(class_report)"
   ]
  },
  {
   "cell_type": "code",
   "execution_count": 16,
   "id": "ab96de6a",
   "metadata": {},
   "outputs": [
    {
     "name": "stdout",
     "output_type": "stream",
     "text": [
      "score: 98.23973176865046\n"
     ]
    }
   ],
   "source": [
    "LR_model = fit_predict(LogisticRegression())\n",
    "\n",
    "LR_pred = LR_model.predict(X_test)"
   ]
  },
  {
   "cell_type": "code",
   "execution_count": 17,
   "id": "3fbe5936",
   "metadata": {},
   "outputs": [
    {
     "data": {
      "image/png": "[encoded data removed]",
      "text/plain": [
       "<Figure size 360x360 with 2 Axes>"
      ]
     },
     "metadata": {
      "needs_background": "light"
     },
     "output_type": "display_data"
    },
    {
     "name": "stdout",
     "output_type": "stream",
     "text": [
      "              precision    recall  f1-score   support\n",
      "\n",
      "           0       0.97      1.00      0.98      1322\n",
      "           1       1.00      0.96      0.98      1064\n",
      "\n",
      "    accuracy                           0.98      2386\n",
      "   macro avg       0.98      0.98      0.98      2386\n",
      "weighted avg       0.98      0.98      0.98      2386\n",
      "\n"
     ]
    }
   ],
   "source": [
    "Metrics(LR_pred).cm()\n",
    "\n",
    "Metrics(LR_pred).report()"
   ]
  },
  {
   "cell_type": "code",
   "execution_count": 18,
   "id": "7138902a",
   "metadata": {},
   "outputs": [],
   "source": [
    "from sklearn.ensemble import RandomForestClassifier\n"
   ]
  },
  {
   "cell_type": "code",
   "execution_count": 19,
   "id": "b68fd8fc",
   "metadata": {},
   "outputs": [
    {
     "name": "stdout",
     "output_type": "stream",
     "text": [
      "score: 98.44928751047779\n"
     ]
    }
   ],
   "source": [
    "RF_model = fit_predict(RandomForestClassifier())\n",
    "RF_pred = RF_model.predict(X_test)"
   ]
  },
  {
   "cell_type": "code",
   "execution_count": 20,
   "id": "330ac70c",
   "metadata": {},
   "outputs": [
    {
     "data": {
      "image/png": "[encoded data removed]",
      "text/plain": [
       "<Figure size 360x360 with 2 Axes>"
      ]
     },
     "metadata": {
      "needs_background": "light"
     },
     "output_type": "display_data"
    },
    {
     "name": "stdout",
     "output_type": "stream",
     "text": [
      "              precision    recall  f1-score   support\n",
      "\n",
      "           0       0.98      1.00      0.99      1322\n",
      "           1       1.00      0.97      0.98      1064\n",
      "\n",
      "    accuracy                           0.98      2386\n",
      "   macro avg       0.99      0.98      0.98      2386\n",
      "weighted avg       0.98      0.98      0.98      2386\n",
      "\n"
     ]
    }
   ],
   "source": [
    "Metrics(RF_pred).cm()\n",
    "\n",
    "Metrics(RF_pred).report()"
   ]
  },
  {
   "cell_type": "code",
   "execution_count": 21,
   "id": "4438056a",
   "metadata": {},
   "outputs": [],
   "source": [
    "X_train_new, X_vali, y_train_new, y_vali = train_test_split(X_train, y_train, test_size=0.2, shuffle=True, random_state=42)"
   ]
  },
  {
   "cell_type": "code",
   "execution_count": 1,
   "id": "cd294127",
   "metadata": {},
   "outputs": [
    {
     "name": "stdout",
     "output_type": "stream",
     "text": [
      "Name: tensorflow\n",
      "Version: 2.13.0\n",
      "Summary: TensorFlow is an open source machine learning framework for everyone.\n",
      "Home-page: https://www.tensorflow.org/\n",
      "Author: Google Inc.\n",
      "Author-email: packages@tensorflow.org\n",
      "License: Apache 2.0\n",
      "Location: /Users/zhenliu15471/.pyenv/versions/3.8.12/envs/lewagon/lib/python3.8/site-packages\n",
      "Requires: absl-py, astunparse, flatbuffers, gast, google-pasta, grpcio, h5py, keras, libclang, numpy, opt-einsum, packaging, protobuf, setuptools, six, tensorboard, tensorflow-estimator, tensorflow-io-gcs-filesystem, termcolor, typing-extensions, wrapt\n",
      "Required-by: tensorflow-text\n",
      "Note: you may need to restart the kernel to use updated packages.\n"
     ]
    }
   ],
   "source": [
    "pip show tensorflow"
   ]
  },
  {
   "cell_type": "code",
   "execution_count": 1,
   "id": "6ae930a0",
   "metadata": {},
   "outputs": [
    {
     "name": "stdout",
     "output_type": "stream",
     "text": [
      "Requirement already satisfied: tensorflow in /Users/zhenliu15471/.pyenv/versions/3.8.12/envs/lewagon/lib/python3.8/site-packages (2.13.0)\n",
      "Requirement already satisfied: absl-py>=1.0.0 in /Users/zhenliu15471/.pyenv/versions/3.8.12/envs/lewagon/lib/python3.8/site-packages (from tensorflow) (1.4.0)\n",
      "Requirement already satisfied: astunparse>=1.6.0 in /Users/zhenliu15471/.pyenv/versions/3.8.12/envs/lewagon/lib/python3.8/site-packages (from tensorflow) (1.6.3)\n",
      "Requirement already satisfied: flatbuffers>=23.1.21 in /Users/zhenliu15471/.pyenv/versions/3.8.12/envs/lewagon/lib/python3.8/site-packages (from tensorflow) (23.5.26)\n",
      "Requirement already satisfied: gast<=0.4.0,>=0.2.1 in /Users/zhenliu15471/.pyenv/versions/3.8.12/envs/lewagon/lib/python3.8/site-packages (from tensorflow) (0.4.0)\n",
      "Requirement already satisfied: google-pasta>=0.1.1 in /Users/zhenliu15471/.pyenv/versions/3.8.12/envs/lewagon/lib/python3.8/site-packages (from tensorflow) (0.2.0)\n",
      "Requirement already satisfied: h5py>=2.9.0 in /Users/zhenliu15471/.pyenv/versions/3.8.12/envs/lewagon/lib/python3.8/site-packages (from tensorflow) (3.1.0)\n",
      "Requirement already satisfied: libclang>=13.0.0 in /Users/zhenliu15471/.pyenv/versions/3.8.12/envs/lewagon/lib/python3.8/site-packages (from tensorflow) (16.0.6)\n",
      "Requirement already satisfied: numpy<=1.24.3,>=1.22 in /Users/zhenliu15471/.pyenv/versions/3.8.12/envs/lewagon/lib/python3.8/site-packages (from tensorflow) (1.22.0)\n",
      "Requirement already satisfied: opt-einsum>=2.3.2 in /Users/zhenliu15471/.pyenv/versions/3.8.12/envs/lewagon/lib/python3.8/site-packages (from tensorflow) (3.3.0)\n",
      "Requirement already satisfied: packaging in /Users/zhenliu15471/.pyenv/versions/3.8.12/envs/lewagon/lib/python3.8/site-packages (from tensorflow) (21.3)\n",
      "Requirement already satisfied: protobuf!=4.21.0,!=4.21.1,!=4.21.2,!=4.21.3,!=4.21.4,!=4.21.5,<5.0.0dev,>=3.20.3 in /Users/zhenliu15471/.pyenv/versions/3.8.12/envs/lewagon/lib/python3.8/site-packages (from tensorflow) (4.23.4)\n",
      "Requirement already satisfied: setuptools in /Users/zhenliu15471/.pyenv/versions/3.8.12/envs/lewagon/lib/python3.8/site-packages (from tensorflow) (56.0.0)\n",
      "Requirement already satisfied: six>=1.12.0 in /Users/zhenliu15471/.pyenv/versions/3.8.12/envs/lewagon/lib/python3.8/site-packages (from tensorflow) (1.14.0)\n",
      "Requirement already satisfied: termcolor>=1.1.0 in /Users/zhenliu15471/.pyenv/versions/3.8.12/envs/lewagon/lib/python3.8/site-packages (from tensorflow) (1.1.0)\n",
      "Requirement already satisfied: typing-extensions<4.6.0,>=3.6.6 in /Users/zhenliu15471/.pyenv/versions/3.8.12/envs/lewagon/lib/python3.8/site-packages (from tensorflow) (4.2.0)\n",
      "Requirement already satisfied: wrapt>=1.11.0 in /Users/zhenliu15471/.pyenv/versions/3.8.12/envs/lewagon/lib/python3.8/site-packages (from tensorflow) (1.12.1)\n",
      "Requirement already satisfied: grpcio<2.0,>=1.24.3 in /Users/zhenliu15471/.pyenv/versions/3.8.12/envs/lewagon/lib/python3.8/site-packages (from tensorflow) (1.56.2)\n",
      "Requirement already satisfied: tensorboard<2.14,>=2.13 in /Users/zhenliu15471/.pyenv/versions/3.8.12/envs/lewagon/lib/python3.8/site-packages (from tensorflow) (2.13.0)\n",
      "Requirement already satisfied: tensorflow-estimator<2.14,>=2.13.0 in /Users/zhenliu15471/.pyenv/versions/3.8.12/envs/lewagon/lib/python3.8/site-packages (from tensorflow) (2.13.0)\n",
      "Requirement already satisfied: keras<2.14,>=2.13.1 in /Users/zhenliu15471/.pyenv/versions/3.8.12/envs/lewagon/lib/python3.8/site-packages (from tensorflow) (2.13.1)\n",
      "Requirement already satisfied: tensorflow-io-gcs-filesystem>=0.23.1 in /Users/zhenliu15471/.pyenv/versions/3.8.12/envs/lewagon/lib/python3.8/site-packages (from tensorflow) (0.33.0)\n",
      "Requirement already satisfied: wheel<1.0,>=0.23.0 in /Users/zhenliu15471/.pyenv/versions/3.8.12/envs/lewagon/lib/python3.8/site-packages (from astunparse>=1.6.0->tensorflow) (0.37.1)\n",
      "Requirement already satisfied: google-auth<3,>=1.6.3 in /Users/zhenliu15471/.pyenv/versions/3.8.12/envs/lewagon/lib/python3.8/site-packages (from tensorboard<2.14,>=2.13->tensorflow) (2.22.0)\n",
      "Requirement already satisfied: google-auth-oauthlib<1.1,>=0.5 in /Users/zhenliu15471/.pyenv/versions/3.8.12/envs/lewagon/lib/python3.8/site-packages (from tensorboard<2.14,>=2.13->tensorflow) (1.0.0)\n",
      "Requirement already satisfied: markdown>=2.6.8 in /Users/zhenliu15471/.pyenv/versions/3.8.12/envs/lewagon/lib/python3.8/site-packages (from tensorboard<2.14,>=2.13->tensorflow) (3.3.6)\n",
      "Requirement already satisfied: requests<3,>=2.21.0 in /Users/zhenliu15471/.pyenv/versions/3.8.12/envs/lewagon/lib/python3.8/site-packages (from tensorboard<2.14,>=2.13->tensorflow) (2.27.1)\n",
      "Requirement already satisfied: tensorboard-data-server<0.8.0,>=0.7.0 in /Users/zhenliu15471/.pyenv/versions/3.8.12/envs/lewagon/lib/python3.8/site-packages (from tensorboard<2.14,>=2.13->tensorflow) (0.7.1)\n",
      "Requirement already satisfied: werkzeug>=1.0.1 in /Users/zhenliu15471/.pyenv/versions/3.8.12/envs/lewagon/lib/python3.8/site-packages (from tensorboard<2.14,>=2.13->tensorflow) (2.0.2)\n",
      "Requirement already satisfied: pyparsing!=3.0.5,>=2.0.2 in /Users/zhenliu15471/.pyenv/versions/3.8.12/envs/lewagon/lib/python3.8/site-packages (from packaging->tensorflow) (3.0.6)\n",
      "Requirement already satisfied: cachetools<6.0,>=2.0.0 in /Users/zhenliu15471/.pyenv/versions/3.8.12/envs/lewagon/lib/python3.8/site-packages (from google-auth<3,>=1.6.3->tensorboard<2.14,>=2.13->tensorflow) (4.2.4)\n",
      "Requirement already satisfied: pyasn1-modules>=0.2.1 in /Users/zhenliu15471/.pyenv/versions/3.8.12/envs/lewagon/lib/python3.8/site-packages (from google-auth<3,>=1.6.3->tensorboard<2.14,>=2.13->tensorflow) (0.2.8)\n",
      "Requirement already satisfied: rsa<5,>=3.1.4 in /Users/zhenliu15471/.pyenv/versions/3.8.12/envs/lewagon/lib/python3.8/site-packages (from google-auth<3,>=1.6.3->tensorboard<2.14,>=2.13->tensorflow) (4.8)\n",
      "Requirement already satisfied: urllib3<2.0 in /Users/zhenliu15471/.pyenv/versions/3.8.12/envs/lewagon/lib/python3.8/site-packages (from google-auth<3,>=1.6.3->tensorboard<2.14,>=2.13->tensorflow) (1.26.16)\n",
      "Requirement already satisfied: requests-oauthlib>=0.7.0 in /Users/zhenliu15471/.pyenv/versions/3.8.12/envs/lewagon/lib/python3.8/site-packages (from google-auth-oauthlib<1.1,>=0.5->tensorboard<2.14,>=2.13->tensorflow) (1.3.0)\n",
      "Requirement already satisfied: importlib-metadata>=4.4 in /Users/zhenliu15471/.pyenv/versions/3.8.12/envs/lewagon/lib/python3.8/site-packages (from markdown>=2.6.8->tensorboard<2.14,>=2.13->tensorflow) (4.10.0)\n",
      "Requirement already satisfied: certifi>=2017.4.17 in /Users/zhenliu15471/.pyenv/versions/3.8.12/envs/lewagon/lib/python3.8/site-packages (from requests<3,>=2.21.0->tensorboard<2.14,>=2.13->tensorflow) (2021.10.8)\n",
      "Requirement already satisfied: charset-normalizer~=2.0.0 in /Users/zhenliu15471/.pyenv/versions/3.8.12/envs/lewagon/lib/python3.8/site-packages (from requests<3,>=2.21.0->tensorboard<2.14,>=2.13->tensorflow) (2.0.12)\n",
      "Requirement already satisfied: idna<4,>=2.5 in /Users/zhenliu15471/.pyenv/versions/3.8.12/envs/lewagon/lib/python3.8/site-packages (from requests<3,>=2.21.0->tensorboard<2.14,>=2.13->tensorflow) (3.3)\n",
      "Requirement already satisfied: zipp>=0.5 in /Users/zhenliu15471/.pyenv/versions/3.8.12/envs/lewagon/lib/python3.8/site-packages (from importlib-metadata>=4.4->markdown>=2.6.8->tensorboard<2.14,>=2.13->tensorflow) (3.7.0)\n",
      "Requirement already satisfied: pyasn1<0.5.0,>=0.4.6 in /Users/zhenliu15471/.pyenv/versions/3.8.12/envs/lewagon/lib/python3.8/site-packages (from pyasn1-modules>=0.2.1->google-auth<3,>=1.6.3->tensorboard<2.14,>=2.13->tensorflow) (0.4.8)\n",
      "Requirement already satisfied: oauthlib>=3.0.0 in /Users/zhenliu15471/.pyenv/versions/3.8.12/envs/lewagon/lib/python3.8/site-packages (from requests-oauthlib>=0.7.0->google-auth-oauthlib<1.1,>=0.5->tensorboard<2.14,>=2.13->tensorflow) (3.1.1)\n",
      "Note: you may need to restart the kernel to use updated packages.\n"
     ]
    }
   ],
   "source": [
    "pip install --upgrade tensorflow"
   ]
  },
  {
   "cell_type": "code",
   "execution_count": null,
   "id": "3bf96d9e",
   "metadata": {},
   "outputs": [],
   "source": [
    "\n",
    "import tensorflow as tf"
   ]
  },
  {
   "cell_type": "code",
   "execution_count": 2,
   "id": "39681e12",
   "metadata": {},
   "outputs": [
    {
     "name": "stdout",
     "output_type": "stream",
     "text": [
      "absl-py==1.4.0\n",
      "aiobotocore==2.3.2\n",
      "aiohttp==3.8.1\n",
      "aioitertools==0.8.0\n",
      "aiosignal==1.2.0\n",
      "alembic==1.4.1\n",
      "altair==4.2.0\n",
      "anyio==3.4.0\n",
      "appdirs==1.4.4\n",
      "appnope==0.1.2\n",
      "argon2-cffi==21.3.0\n",
      "argon2-cffi-bindings==21.2.0\n",
      "asgiref==3.4.1\n",
      "astroid==2.7.3\n",
      "astunparse==1.6.3\n",
      "async-generator==1.10\n",
      "async-timeout==4.0.2\n",
      "attrs==21.4.0\n",
      "autoflake==1.4\n",
      "autopep8==1.6.0\n",
      "Babel==2.9.1\n",
      "backcall==0.2.0\n",
      "backports.zoneinfo==0.2.1\n",
      "beautifulsoup4==4.10.0\n",
      "bert-tensorflow==1.0.1\n",
      "black==21.7b0\n",
      "bleach==4.1.0\n",
      "blinker==1.4\n",
      "botocore==1.24.21\n",
      "branca==0.4.2\n",
      "cachetools==4.2.4\n",
      "category-encoders==2.3.0\n",
      "certifi==2021.10.8\n",
      "cffi==1.15.0\n",
      "chardet==5.2.0\n",
      "charset-normalizer==2.0.12\n",
      "chromedriver-binary==77.0.3865.40.0\n",
      "click==8.0.3\n",
      "cloudpickle==2.0.0\n",
      "cmdstanpy==0.9.5\n",
      "colorama==0.4.4\n",
      "commonmark==0.9.1\n",
      "convertdate==2.3.2\n",
      "coverage==6.2\n",
      "cryptography==36.0.1\n",
      "cycler==0.11.0\n",
      "Cython==0.29.26\n",
      "dask==2021.12.0\n",
      "databricks-cli==0.16.2\n",
      "datasets==2.10.1\n",
      "deap==1.3.1\n",
      "debugpy==1.5.1\n",
      "decorator==5.1.0\n",
      "defusedxml==0.7.1\n",
      "dill==0.3.6\n",
      "docker==5.0.3\n",
      "docutils==0.18.1\n",
      "emoji==2.6.0\n",
      "entrypoints==0.3\n",
      "ephem==4.1.3\n",
      "et-xmlfile==1.1.0\n",
      "fastapi==0.70.1\n",
      "fbprophet==0.7.1\n",
      "filelock==3.10.0\n",
      "flake8==4.0.1\n",
      "Flask==2.0.2\n",
      "Flask-Cors==3.0.10\n",
      "flatbuffers==23.5.26\n",
      "folium==0.12.1.post1\n",
      "fonttools==4.28.5\n",
      "frozenlist==1.2.0\n",
      "fsspec==2022.5.0\n",
      "funcy==2.0\n",
      "future==0.18.2\n",
      "gast==0.4.0\n",
      "gcsfs==2022.5.0\n",
      "gensim==4.1.2\n",
      "gitdb==4.0.9\n",
      "GitPython==3.1.24\n",
      "google-api-core==1.31.5\n",
      "google-auth==2.22.0\n",
      "google-auth-oauthlib==1.0.0\n",
      "google-cloud-bigquery==2.20.0\n",
      "google-cloud-bigquery-storage==2.10.1\n",
      "google-cloud-core==2.3.0\n",
      "google-cloud-storage==2.3.0\n",
      "google-crc32c==1.3.0\n",
      "google-pasta==0.2.0\n",
      "google-resumable-media==2.3.3\n",
      "google-trans-new==1.1.9\n",
      "googleapis-common-protos==1.54.0\n",
      "graphviz==0.20\n",
      "greenlet==1.1.2\n",
      "grpcio==1.56.2\n",
      "gunicorn==20.1.0\n",
      "h11==0.12.0\n",
      "h5py==3.1.0\n",
      "hijri-converter==2.2.2\n",
      "holidays==0.12\n",
      "htmlmin==0.1.12\n",
      "httpcore==0.15.0\n",
      "httpx==0.23.0\n",
      "huggingface-hub==0.13.3\n",
      "idna==3.3\n",
      "ImageHash==4.2.1\n",
      "imageio==2.13.5\n",
      "imbalanced-learn==0.8.1\n",
      "imblearn==0.0\n",
      "importlib-metadata==4.10.0\n",
      "importlib-resources==5.4.0\n",
      "iniconfig==1.1.1\n",
      "install==1.3.5\n",
      "ipdb==0.13.9\n",
      "ipykernel==6.6.1\n",
      "ipympl==0.8.5\n",
      "ipython==7.31.0\n",
      "ipython-genutils==0.2.0\n",
      "ipywidgets==7.6.5\n",
      "isort==5.10.1\n",
      "itsdangerous==2.0.1\n",
      "jedi==0.18.1\n",
      "Jinja2==3.0.3\n",
      "jmespath==0.10.0\n",
      "joblib==1.2.0\n",
      "json5==0.9.6\n",
      "jsonschema==4.3.3\n",
      "jupyter==1.0.0\n",
      "jupyter-client==7.1.0\n",
      "jupyter-console==6.4.0\n",
      "jupyter-contrib-core==0.3.3\n",
      "jupyter-contrib-nbextensions==0.5.1\n",
      "jupyter-core==4.9.1\n",
      "jupyter-highlight-selected-word==0.2.0\n",
      "jupyter-latex-envs==1.4.6\n",
      "jupyter-nbextensions-configurator==0.4.1\n",
      "jupyter-resource-usage==0.6.1\n",
      "jupyter-server==1.13.1\n",
      "jupyter-server-mathjax==0.2.3\n",
      "jupyterlab==3.2.5\n",
      "jupyterlab-pygments==0.1.2\n",
      "jupyterlab-server==2.10.2\n",
      "jupyterlab-widgets==1.0.2\n",
      "kaggle==1.5.12\n",
      "keras==2.13.1\n",
      "Keras-Applications==1.0.8\n",
      "keras-nightly==2.5.0.dev2021032900\n",
      "Keras-Preprocessing==1.1.2\n",
      "keyring==23.5.1\n",
      "kiwisolver==1.3.2\n",
      "korean-lunar-calendar==0.2.1\n",
      "lazy-object-proxy==1.7.1\n",
      "libclang==16.0.6\n",
      "libcst==0.3.23\n",
      "llvmlite==0.39.1\n",
      "locket==0.2.1\n",
      "LunarCalendar==0.0.9\n",
      "lxml==4.7.1\n",
      "Mako==1.1.6\n",
      "Markdown==3.3.6\n",
      "MarkupSafe==2.0.1\n",
      "matplotlib==3.4.3\n",
      "matplotlib-inline==0.1.3\n",
      "mccabe==0.6.1\n",
      "memoized-property==1.0.3\n",
      "missingno==0.5.0\n",
      "mistune==0.8.4\n",
      "mlflow==1.22.0\n",
      "# Editable Git install with no remote (mlproject==1.0)\n",
      "-e /Users/zhenliu15471/code/zliu15471/mlproject\n",
      "mpld3==0.5.9\n",
      "msgpack==1.0.5\n",
      "multidict==5.2.0\n",
      "multimethod==1.6\n",
      "multiprocess==0.70.14\n",
      "mypackage @ git+ssh://git@github.com/theebak31/mypackage2@7368206c9411437f24a1bc3304c8f7a50b0200d1\n",
      "mypy-extensions==0.4.3\n",
      "nbclassic==0.3.4\n",
      "nbclient==0.5.9\n",
      "nbconvert==6.4.0\n",
      "nbdime==3.1.1\n",
      "nbformat==5.1.3\n",
      "nbresult==0.0.4\n",
      "nest-asyncio==1.5.4\n",
      "networkx==2.6.3\n",
      "nltk==3.6.7\n",
      "nltp==0.1.0\n",
      "notebook==6.4.6\n",
      "notebook-as-pdf==0.5.0\n",
      "numba==0.56.4\n",
      "numexpr==2.8.4\n",
      "numpy==1.22.0\n",
      "oauthlib==3.1.1\n",
      "openai==0.20.0\n",
      "openapi-python-client==0.11.2\n",
      "openpyxl==3.0.10\n",
      "opt-einsum==3.3.0\n",
      "outcome==1.1.0\n",
      "packaging==21.3\n",
      "packgenlite==1.1.3\n",
      "pandas==1.3.3\n",
      "pandas-gbq==0.16.0\n",
      "pandas-profiling==3.1.0\n",
      "pandas-stubs==1.2.0.61\n",
      "pandocfilters==1.5.0\n",
      "parso==0.8.3\n",
      "partd==1.2.0\n",
      "pathspec==0.9.0\n",
      "patsy==0.5.2\n",
      "pexpect==4.8.0\n",
      "phik==0.12.0\n",
      "pickleshare==0.7.5\n",
      "Pillow==9.0.0\n",
      "pkginfo==1.8.2\n",
      "platformdirs==2.4.1\n",
      "plotly==5.5.0\n",
      "pluggy==1.0.0\n",
      "pmdarima==1.8.4\n",
      "prometheus-client==0.12.0\n",
      "prometheus-flask-exporter==0.18.7\n",
      "promise==2.3\n",
      "prompt-toolkit==3.0.24\n",
      "proto-plus==1.19.8\n",
      "protobuf==4.23.4\n",
      "psutil==5.9.0\n",
      "ptyprocess==0.7.0\n",
      "py==1.11.0\n",
      "pyarrow==11.0.0\n",
      "pyasn1==0.4.8\n",
      "pyasn1-modules==0.2.8\n",
      "pycodestyle==2.8.0\n",
      "pycparser==2.21\n",
      "pydantic==1.9.0\n",
      "pydata-google-auth==1.3.0\n",
      "pydeck==0.7.1\n",
      "pydot==1.4.2\n",
      "pyee==8.2.2\n",
      "pyflakes==2.4.0\n",
      "pygeohash==1.2.0\n",
      "Pygments==2.11.2\n",
      "pyLDAvis==3.4.0\n",
      "pylint==2.10.2\n",
      "PyMeeus==0.5.11\n",
      "Pympler==1.0.1\n",
      "pynndescent==0.5.8\n",
      "pyOpenSSL==21.0.0\n",
      "pyparsing==3.0.6\n",
      "PyPDF2==3.0.1\n",
      "pyppeteer==1.0.2\n",
      "pyrsistent==0.18.0\n",
      "pystan==2.19.1.1\n",
      "pytest==6.2.5\n",
      "python-dateutil==2.8.2\n",
      "python-dotenv==0.20.0\n",
      "python-editor==1.0.4\n",
      "python-gitlab==3.0.0\n",
      "python-slugify==5.0.2\n",
      "pytz==2021.3\n",
      "pytz-deprecation-shim==0.1.0.post0\n",
      "PyWavelets==1.2.0\n",
      "PyYAML==6.0\n",
      "pyzmq==22.3.0\n",
      "qtconsole==5.2.2\n",
      "QtPy==2.0.0\n",
      "querystring-parser==1.2.4\n",
      "readme-renderer==35.0\n",
      "regex==2021.11.10\n",
      "requests==2.27.1\n",
      "requests-oauthlib==1.3.0\n",
      "requests-toolbelt==0.9.1\n",
      "responses==0.18.0\n",
      "rfc3986==1.5.0\n",
      "rich==12.4.4\n",
      "rsa==4.8\n",
      "s3fs==2022.5.0\n",
      "scikit-image==0.19.1\n",
      "scikit-learn==1.1.1\n",
      "scipy==1.7.3\n",
      "seaborn==0.11.2\n",
      "selenium==4.1.0\n",
      "semver==2.13.0\n",
      "Send2Trash==1.8.0\n",
      "setuptools-git==1.2\n",
      "setuptools-scm==6.3.2\n",
      "shellingham==1.4.0\n",
      "# Editable Git install with no remote (SimpleTaxiFare==1.0)\n",
      "-e /Users/zhenliu15471/code/zliu15471/TFM_TrainAtScale\n",
      "six==1.14.0\n",
      "sklearn==0.0\n",
      "smart-open==5.2.1\n",
      "smmap==5.0.0\n",
      "sniffio==1.2.0\n",
      "sortedcontainers==2.4.0\n",
      "soupsieve==2.3.1\n",
      "SQLAlchemy==1.4.29\n",
      "sqlparse==0.4.2\n",
      "starlette==0.16.0\n",
      "statsmodels==0.13.2\n",
      "stopit==1.1.2\n",
      "streamlit==1.10.0\n",
      "tabulate==0.8.9\n",
      "tangled-up-in-unicode==0.1.0\n",
      "# Editable Git install with no remote (TaxiFareModel==1.0)\n",
      "-e /Users/zhenliu15471/code/zliu15471/TFM_PredictInProd\n",
      "tblib==1.7.0\n",
      "tenacity==8.0.1\n",
      "tensorboard==2.13.0\n",
      "tensorboard-data-server==0.7.1\n",
      "tensorboard-plugin-wit==1.8.1\n",
      "tensorflow==2.13.0\n",
      "tensorflow-datasets==4.4.0\n",
      "tensorflow-estimator==2.13.0\n",
      "tensorflow-hub==0.14.0\n",
      "tensorflow-io-gcs-filesystem==0.33.0\n",
      "tensorflow-macos==2.5.0\n",
      "tensorflow-metadata==1.5.0\n",
      "tensorflow-text==2.13.0\n",
      "termcolor==1.1.0\n",
      "terminado==0.12.1\n",
      "testpath==0.5.0\n",
      "text-unidecode==1.3\n",
      "threadpoolctl==3.0.0\n",
      "tifffile==2021.11.2\n",
      "tokenizers==0.13.3\n",
      "toml==0.10.2\n",
      "tomli==1.2.3\n",
      "toolz==0.11.2\n",
      "torch==1.9.0\n",
      "tornado==6.1\n",
      "TPOT==0.11.7\n",
      "tqdm==4.62.2\n",
      "traitlets==5.1.1\n",
      "transformers==4.28.1\n",
      "trio==0.19.0\n",
      "trio-websocket==0.9.2\n",
      "twine==4.0.0\n",
      "typer==0.4.1\n",
      "typing-inspect==0.7.1\n",
      "typing_extensions==4.2.0\n",
      "tzdata==2022.1\n",
      "tzlocal==4.2\n",
      "ugtm==2.1.0.post2\n",
      "umap-learn==0.5.3\n",
      "update-checker==0.18.0\n",
      "urllib3==1.26.16\n",
      "uvicorn==0.16.0\n",
      "validators==0.19.0\n",
      "visions==0.7.4\n",
      "wcwidth==0.2.5\n",
      "webencodings==0.5.1\n",
      "websocket-client==1.2.3\n",
      "websockets==10.4\n",
      "Werkzeug==2.0.2\n",
      "widgetsnbextension==3.5.2\n",
      "wordcloud==1.9.1.1\n",
      "wrapt==1.12.1\n",
      "wsproto==1.0.0\n",
      "XBNet @ git+https://github.com/tusharsarkar3/XBNet.git@2b771d6beb9f15ae48e2a365f46d6f996811086f\n",
      "xgboost==1.4.2\n",
      "xlrd==2.0.1\n",
      "XlsxWriter==3.0.2\n",
      "xxhash==3.2.0\n",
      "yapf==0.32.0\n",
      "yarl==1.7.2\n",
      "zict==3.0.0\n",
      "zipp==3.7.0\n",
      "Note: you may need to restart the kernel to use updated packages.\n"
     ]
    }
   ],
   "source": [
    "pip freeze"
   ]
  },
  {
   "cell_type": "code",
   "execution_count": 23,
   "id": "35da2204",
   "metadata": {},
   "outputs": [],
   "source": [
    "import numpy as np\n",
    "from transformers import BertTokenizer, TFBertForSequenceClassification\n",
    "from transformers import InputExample, InputFeatures\n",
    "from tensorflow.keras.optimizers import Adam\n",
    "from tensorflow.keras.losses import SparseCategoricalCrossentropy\n",
    "from sklearn.metrics import classification_report\n",
    "\n",
    "from sklearn.preprocessing import LabelEncoder"
   ]
  },
  {
   "cell_type": "code",
   "execution_count": 24,
   "id": "aac641d0",
   "metadata": {},
   "outputs": [],
   "source": [
    "tokenizer = BertTokenizer.from_pretrained('bert-base-uncased')"
   ]
  },
  {
   "cell_type": "code",
   "execution_count": 25,
   "id": "3a554a14",
   "metadata": {},
   "outputs": [],
   "source": [
    "# Encode Labels\n",
    "encoder = LabelEncoder()\n",
    "train_labels = encoder.fit_transform(y_train_new)\n",
    "val_labels = encoder.transform(y_vali)\n",
    "test_labels = encoder.transform(y_test)"
   ]
  },
  {
   "cell_type": "code",
   "execution_count": null,
   "id": "04e96f88",
   "metadata": {},
   "outputs": [],
   "source": []
  },
  {
   "cell_type": "code",
   "execution_count": 26,
   "id": "ba9eefaa",
   "metadata": {},
   "outputs": [],
   "source": [
    "# Tokenize the data\n",
    "train_encodings = tokenizer(X_train_new, truncation=True, padding=True, max_length=256)\n",
    "valid_encodings = tokenizer(X_vali, truncation=True, padding=True, max_length=256)\n",
    "test_encodings = tokenizer(X_test, truncation=True, padding=True, max_length=256)"
   ]
  },
  {
   "cell_type": "code",
   "execution_count": 27,
   "id": "0dd5f3f2",
   "metadata": {},
   "outputs": [
    {
     "name": "stderr",
     "output_type": "stream",
     "text": [
      "2023-08-03 17:10:15.070538: I tensorflow/core/platform/cpu_feature_guard.cc:142] This TensorFlow binary is optimized with oneAPI Deep Neural Network Library (oneDNN) to use the following CPU instructions in performance-critical operations:  SSE4.2\n",
      "To enable them in other operations, rebuild TensorFlow with the appropriate compiler flags.\n"
     ]
    }
   ],
   "source": [
    "# Convert to TensorFlow Datasets\n",
    "train_dataset = tf.data.Dataset.from_tensor_slices((\n",
    "    dict(train_encodings),\n",
    "    train_labels\n",
    ")).shuffle(1000).batch(16)\n",
    "\n",
    "val_dataset = tf.data.Dataset.from_tensor_slices((\n",
    "    dict(valid_encodings),\n",
    "    val_labels\n",
    ")).batch(16)\n",
    "\n",
    "test_dataset = tf.data.Dataset.from_tensor_slices((\n",
    "    dict(test_encodings),\n",
    "    test_labels\n",
    ")).batch(16)"
   ]
  },
  {
   "cell_type": "code",
   "execution_count": 37,
   "id": "70f07dc7",
   "metadata": {},
   "outputs": [],
   "source": [
    "test_dataset_tf = tf.data.Dataset.from_tensor_slices((\n",
    "    dict(test_encodings),\n",
    "    test_labels\n",
    "))"
   ]
  },
  {
   "cell_type": "code",
   "execution_count": 28,
   "id": "0e3d05ce",
   "metadata": {},
   "outputs": [
    {
     "name": "stderr",
     "output_type": "stream",
     "text": [
      "All model checkpoint layers were used when initializing TFBertForSequenceClassification.\n",
      "\n",
      "Some layers of TFBertForSequenceClassification were not initialized from the model checkpoint at bert-base-uncased and are newly initialized: ['classifier']\n",
      "You should probably TRAIN this model on a down-stream task to be able to use it for predictions and inference.\n"
     ]
    }
   ],
   "source": [
    "model = TFBertForSequenceClassification.from_pretrained(\"bert-base-uncased\")"
   ]
  },
  {
   "cell_type": "code",
   "execution_count": 29,
   "id": "d4e63548",
   "metadata": {},
   "outputs": [],
   "source": [
    "# Compile the model\n",
    "model.compile(optimizer=tf.keras.optimizers.Adam(learning_rate=1e-5),\n",
    "              loss=tf.keras.losses.SparseCategoricalCrossentropy(from_logits=True),\n",
    "              metrics=['accuracy'])"
   ]
  },
  {
   "cell_type": "code",
   "execution_count": 30,
   "id": "f7d3c5e5",
   "metadata": {},
   "outputs": [
    {
     "name": "stdout",
     "output_type": "stream",
     "text": [
      "WARNING:tensorflow:AutoGraph could not transform <function input_processing at 0x17b74e430> and will run it as-is.\n",
      "Please report this to the TensorFlow team. When filing the bug, set the verbosity to 10 (on Linux, `export AUTOGRAPH_VERBOSITY=10`) and attach the full output.\n",
      "Cause: '<' not supported between instances of 'str' and 'Literal'\n",
      "To silence this warning, decorate the function with @tf.autograph.experimental.do_not_convert\n",
      "WARNING: AutoGraph could not transform <function input_processing at 0x17b74e430> and will run it as-is.\n",
      "Please report this to the TensorFlow team. When filing the bug, set the verbosity to 10 (on Linux, `export AUTOGRAPH_VERBOSITY=10`) and attach the full output.\n",
      "Cause: '<' not supported between instances of 'str' and 'Literal'\n",
      "To silence this warning, decorate the function with @tf.autograph.experimental.do_not_convert\n",
      "WARNING:tensorflow:From /Users/zhenliu15471/.pyenv/versions/lewagon/lib/python3.8/site-packages/tensorflow/python/ops/array_ops.py:5043: calling gather (from tensorflow.python.ops.array_ops) with validate_indices is deprecated and will be removed in a future version.\n",
      "Instructions for updating:\n",
      "The `validate_indices` argument has no effect. Indices are always validated on CPU and never validated on GPU.\n"
     ]
    },
    {
     "name": "stderr",
     "output_type": "stream",
     "text": [
      "2023-08-03 17:11:05.896450: I tensorflow/compiler/mlir/mlir_graph_optimization_pass.cc:176] None of the MLIR Optimization Passes are enabled (registered 2)\n"
     ]
    },
    {
     "name": "stdout",
     "output_type": "stream",
     "text": [
      "478/478 [==============================] - 5598s 12s/step - loss: 0.1046 - accuracy: 0.9684 - val_loss: 0.0412 - val_accuracy: 0.9869\n"
     ]
    },
    {
     "data": {
      "text/plain": [
       "<tensorflow.python.keras.callbacks.History at 0x177c1c3d0>"
      ]
     },
     "execution_count": 30,
     "metadata": {},
     "output_type": "execute_result"
    }
   ],
   "source": [
    "# Train the model\n",
    "model.fit(\n",
    "    train_dataset,\n",
    "    validation_data=val_dataset,\n",
    "    epochs=1,)"
   ]
  },
  {
   "cell_type": "code",
   "execution_count": 34,
   "id": "8ce6dc98",
   "metadata": {},
   "outputs": [],
   "source": [
    "y_pred_raw = model.predict(test_dataset)"
   ]
  },
  {
   "cell_type": "code",
   "execution_count": 35,
   "id": "9d9fece5",
   "metadata": {},
   "outputs": [],
   "source": [
    "# Convert raw predictions to class predictions\n",
    "y_pred = np.argmax(y_pred_raw.logits, axis=1)"
   ]
  },
  {
   "cell_type": "code",
   "execution_count": 38,
   "id": "31790951",
   "metadata": {},
   "outputs": [
    {
     "data": {
      "text/plain": [
       "array([0, 1, 0, ..., 0, 0, 0])"
      ]
     },
     "execution_count": 38,
     "metadata": {},
     "output_type": "execute_result"
    }
   ],
   "source": [
    "y_pred"
   ]
  },
  {
   "cell_type": "code",
   "execution_count": 39,
   "id": "1bc946d9",
   "metadata": {},
   "outputs": [
    {
     "data": {
      "text/plain": [
       "3958     0\n",
       "8588     1\n",
       "3742     0\n",
       "357      0\n",
       "4898     0\n",
       "        ..\n",
       "3921     0\n",
       "10392    0\n",
       "3984     0\n",
       "267      0\n",
       "4048     0\n",
       "Name: Class, Length: 2386, dtype: int64"
      ]
     },
     "execution_count": 39,
     "metadata": {},
     "output_type": "execute_result"
    }
   ],
   "source": [
    "y_test"
   ]
  },
  {
   "cell_type": "code",
   "execution_count": 41,
   "id": "99783855",
   "metadata": {},
   "outputs": [
    {
     "name": "stdout",
     "output_type": "stream",
     "text": [
      "              precision    recall  f1-score   support\n",
      "\n",
      "Not Phishing       0.98      1.00      0.99      1322\n",
      "    Phishing       1.00      0.97      0.99      1064\n",
      "\n",
      "    accuracy                           0.99      2386\n",
      "   macro avg       0.99      0.99      0.99      2386\n",
      "weighted avg       0.99      0.99      0.99      2386\n",
      "\n"
     ]
    }
   ],
   "source": [
    "\n",
    "\n",
    "# Generate a classification report\n",
    "report = classification_report(y_test, y_pred,target_names=[\"Not Phishing\", \"Phishing\"])  # replace target_names with your actual class names\n",
    "print(report)\n"
   ]
  },
  {
   "cell_type": "code",
   "execution_count": null,
   "id": "5d261f30",
   "metadata": {},
   "outputs": [],
   "source": []
  },
  {
   "cell_type": "code",
   "execution_count": null,
   "id": "50b6bd54",
   "metadata": {},
   "outputs": [],
   "source": []
  },
  {
   "cell_type": "code",
   "execution_count": null,
   "id": "09d87ee8",
   "metadata": {},
   "outputs": [],
   "source": []
  },
  {
   "cell_type": "code",
   "execution_count": null,
   "id": "222d44c9",
   "metadata": {},
   "outputs": [],
   "source": []
  },
  {
   "cell_type": "code",
   "execution_count": null,
   "id": "5f19f223",
   "metadata": {},
   "outputs": [],
   "source": []
  },
  {
   "cell_type": "code",
   "execution_count": null,
   "id": "e2fd6ef6",
   "metadata": {},
   "outputs": [],
   "source": []
  },
  {
   "cell_type": "code",
   "execution_count": null,
   "id": "fc8b42fd",
   "metadata": {},
   "outputs": [],
   "source": []
  },
  {
   "cell_type": "code",
   "execution_count": null,
   "id": "60f84326",
   "metadata": {},
   "outputs": [],
   "source": []
  },
  {
   "cell_type": "code",
   "execution_count": null,
   "id": "abbff787",
   "metadata": {},
   "outputs": [],
   "source": []
  },
  {
   "cell_type": "code",
   "execution_count": null,
   "id": "d61aac80",
   "metadata": {},
   "outputs": [],
   "source": []
  },
  {
   "cell_type": "code",
   "execution_count": null,
   "id": "ed0ccc58",
   "metadata": {},
   "outputs": [],
   "source": []
  },
  {
   "cell_type": "code",
   "execution_count": null,
   "id": "b8445322",
   "metadata": {},
   "outputs": [],
   "source": []
  },
  {
   "cell_type": "code",
   "execution_count": null,
   "id": "2270c2a3",
   "metadata": {},
   "outputs": [],
   "source": []
  }
 ],
 "metadata": {
  "kernelspec": {
   "display_name": "adv_data_analytics",
   "language": "python",
   "name": "adv_data_analytics"
  },
  "language_info": {
   "codemirror_mode": {
    "name": "ipython",
    "version": 3
   },
   "file_extension": ".py",
   "mimetype": "text/x-python",
   "name": "python",
   "nbconvert_exporter": "python",
   "pygments_lexer": "ipython3",
   "version": "3.8.12"
  },
  "toc": {
   "base_numbering": 1,
   "nav_menu": {},
   "number_sections": true,
   "sideBar": true,
   "skip_h1_title": false,
   "title_cell": "Table of Contents",
   "title_sidebar": "Contents",
   "toc_cell": false,
   "toc_position": {},
   "toc_section_display": true,
   "toc_window_display": false
  }
 },
 "nbformat": 4,
 "nbformat_minor": 5
}
