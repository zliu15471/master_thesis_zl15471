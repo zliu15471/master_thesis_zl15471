{
 "cells": [
  {
   "cell_type": "markdown",
   "metadata": {},
   "source": [
    "# Pre-processing"
   ]
  },
  {
   "cell_type": "code",
   "execution_count": 1,
   "metadata": {
    "id": "s_SNJ_Je2R96"
   },
   "outputs": [],
   "source": [
    "import os\n",
    "import re\n",
    "import pandas as pd\n",
    "import numpy as np\n",
    "from tqdm import tqdm"
   ]
  },
  {
   "cell_type": "code",
   "execution_count": 2,
   "metadata": {
    "id": "zDWsaHy_2ZH-"
   },
   "outputs": [],
   "source": [
    "# Params for bert model and tokenization\n",
    "Nsamp = 2000 # number of samples to generate in each class - 'spam', 'not spam'\n",
    "maxtokens = 200 # the maximum number of tokens per document\n",
    "maxtokenlen = 100 # the maximum length of each token"
   ]
  },
  {
   "cell_type": "code",
   "execution_count": 3,
   "metadata": {
    "colab": {
     "base_uri": "https://localhost:8080/"
    },
    "id": "MB5yLe6L2jGb",
    "outputId": "bee172b0-aa8c-4515-ec9f-45ee050e3c93"
   },
   "outputs": [
    {
     "name": "stderr",
     "output_type": "stream",
     "text": [
      "<>:2: SyntaxWarning: \"is\" with a literal. Did you mean \"==\"?\n",
      "<>:2: SyntaxWarning: \"is\" with a literal. Did you mean \"==\"?\n",
      "<ipython-input-3-4889ac943b93>:2: SyntaxWarning: \"is\" with a literal. Did you mean \"==\"?\n",
      "  if row is None or row is '':\n"
     ]
    }
   ],
   "source": [
    "def tokenize(row):\n",
    "    if row is None or row is '':\n",
    "        tokens = \"\"\n",
    "    else:\n",
    "        try:\n",
    "            tokens = row.split(\" \")[:maxtokens]\n",
    "        except:\n",
    "            tokens=\"\"\n",
    "    return tokens"
   ]
  },
  {
   "cell_type": "code",
   "execution_count": 4,
   "metadata": {
    "id": "GfNq8p8v2kTL"
   },
   "outputs": [],
   "source": [
    "def reg_expressions(row):\n",
    "    tokens = []\n",
    "    try:\n",
    "        for token in row:\n",
    "            token = token.lower()\n",
    "            token = re.sub(r'[\\W\\d]', \"\", token)\n",
    "            token = token[:maxtokenlen] # truncate token\n",
    "            tokens.append(token)\n",
    "    except:\n",
    "        token = \"\"\n",
    "        tokens.append(token)\n",
    "    return tokens"
   ]
  },
  {
   "cell_type": "code",
   "execution_count": 5,
   "metadata": {
    "colab": {
     "base_uri": "https://localhost:8080/"
    },
    "id": "zTaQleLe2lfN",
    "outputId": "483db878-6fc8-45a9-8e19-05c8fb0458de"
   },
   "outputs": [
    {
     "name": "stdout",
     "output_type": "stream",
     "text": [
      "['i', 'me', 'my', 'myself', 'we', 'our', 'ours', 'ourselves', 'you', \"you're\", \"you've\", \"you'll\", \"you'd\", 'your', 'yours', 'yourself', 'yourselves', 'he', 'him', 'his', 'himself', 'she', \"she's\", 'her', 'hers', 'herself', 'it', \"it's\", 'its', 'itself', 'they', 'them', 'their', 'theirs', 'themselves', 'what', 'which', 'who', 'whom', 'this', 'that', \"that'll\", 'these', 'those', 'am', 'is', 'are', 'was', 'were', 'be', 'been', 'being', 'have', 'has', 'had', 'having', 'do', 'does', 'did', 'doing', 'a', 'an', 'the', 'and', 'but', 'if', 'or', 'because', 'as', 'until', 'while', 'of', 'at', 'by', 'for', 'with', 'about', 'against', 'between', 'into', 'through', 'during', 'before', 'after', 'above', 'below', 'to', 'from', 'up', 'down', 'in', 'out', 'on', 'off', 'over', 'under', 'again', 'further', 'then', 'once', 'here', 'there', 'when', 'where', 'why', 'how', 'all', 'any', 'both', 'each', 'few', 'more', 'most', 'other', 'some', 'such', 'no', 'nor', 'not', 'only', 'own', 'same', 'so', 'than', 'too', 'very', 's', 't', 'can', 'will', 'just', 'don', \"don't\", 'should', \"should've\", 'now', 'd', 'll', 'm', 'o', 're', 've', 'y', 'ain', 'aren', \"aren't\", 'couldn', \"couldn't\", 'didn', \"didn't\", 'doesn', \"doesn't\", 'hadn', \"hadn't\", 'hasn', \"hasn't\", 'haven', \"haven't\", 'isn', \"isn't\", 'ma', 'mightn', \"mightn't\", 'mustn', \"mustn't\", 'needn', \"needn't\", 'shan', \"shan't\", 'shouldn', \"shouldn't\", 'wasn', \"wasn't\", 'weren', \"weren't\", 'won', \"won't\", 'wouldn', \"wouldn't\"]\n"
     ]
    },
    {
     "name": "stderr",
     "output_type": "stream",
     "text": [
      "[nltk_data] Downloading package stopwords to /root/nltk_data...\n",
      "[nltk_data]   Unzipping corpora/stopwords.zip.\n"
     ]
    }
   ],
   "source": [
    "import nltk\n",
    "\n",
    "nltk.download('stopwords')\n",
    "from nltk.corpus import stopwords\n",
    "stopwords = stopwords.words('english')\n",
    "print(stopwords) # see default stopwords\n",
    "\n",
    "def stop_word_removal(row):\n",
    "    token = [token for token in row if token not in stopwords]\n",
    "    token = filter(None, token)\n",
    "    return token"
   ]
  },
  {
   "cell_type": "code",
   "execution_count": 6,
   "metadata": {
    "id": "mucQNYW32mtP"
   },
   "outputs": [],
   "source": [
    "bodies_df = pd.read_csv('./bodies.csv')"
   ]
  },
  {
   "cell_type": "code",
   "execution_count": 7,
   "metadata": {
    "id": "-oxyQsI2QXkm"
   },
   "outputs": [],
   "source": [
    "fraud_bodies_df = pd.read_csv('./fraud_bodies_df.csv')"
   ]
  },
  {
   "cell_type": "code",
   "execution_count": 8,
   "metadata": {
    "id": "nox1Q916QjLT"
   },
   "outputs": [],
   "source": [
    "import random\n",
    "\n",
    "# Convert everything to lower-case, truncate to maxtokens and truncate each token to maxtokenlen\n",
    "EnronEmails = bodies_df.iloc[:,0].apply(tokenize)\n",
    "EnronEmails = EnronEmails.apply(stop_word_removal)\n",
    "EnronEmails = EnronEmails.apply(reg_expressions)\n",
    "EnronEmails = EnronEmails.sample(Nsamp)\n",
    "\n",
    "SpamEmails = fraud_bodies_df.iloc[:,0].apply(tokenize)\n",
    "SpamEmails = SpamEmails.apply(stop_word_removal)\n",
    "SpamEmails = SpamEmails.apply(reg_expressions)\n",
    "SpamEmails = SpamEmails.sample(Nsamp)\n",
    "\n",
    "raw_data = pd.concat([SpamEmails,EnronEmails], axis=0).values"
   ]
  },
  {
   "cell_type": "code",
   "execution_count": 9,
   "metadata": {
    "colab": {
     "base_uri": "https://localhost:8080/"
    },
    "id": "u49F5z75QXqm",
    "outputId": "cbdb6bd0-c003-4ca0-cb69-5fe0f3266876"
   },
   "outputs": [
    {
     "name": "stdout",
     "output_type": "stream",
     "text": [
      "Shape of combined data represented as numpy array is:\n",
      "(4000,)\n",
      "Data represented as numpy array is:\n",
      "[list(['from', 'john', 'carlostel', '', '', 'cape', 'town', 'southafrica', 'dear', 'sirmadam', 'assistant', 'and', 'investmentyou', 'may', 'surprise', 'receive', 'letter', 'sinceyou', 'know', 'personally', 'i', 'son', 'dr', 'davidcarlos', 'recently', 'murdered', 'land', 'dispute', 'inzimbabwe', 'i', 'got', 'contact', 'network', 'line', 'mysearch', 'reliable', 'reputable', 'person', 'handle', 'veryconfidential', 'transaction', 'involves', 'transfer', 'fundto', 'foreign', 'account', 'i', 'decided', 'write', 'you', 'my', 'latefather', 'among', 'black', 'zimbabwean', 'rich', 'farmersmurdered', 'cold', 'blood', 'agents', 'rulinggovernment', 'president', 'robert', 'mugabe', 'allegedsupport', 'sympathy', 'zimbabwean', 'opposition', 'partycontrolled', 'white', 'minority', 'before', 'death', 'taken', 'johannesburg', '', 'southafrica', 'deposit', 'sum', 'us', '', 'million', 'eighteenmillion', 'five', 'hundred', 'thousand', 'united', 'states', 'dollars', 'withsecurity', 'finance'])\n",
      " list(['greetingsi', 'mr', 'martins', 'imaa', 'lucas', 'member', 'staff', 'corporate', 'securities', 'firm', 'we', 'keep', 'valuables', 'high', 'net', 'worth', 'individuals', 'blue', 'chip', 'corporations', 'diplomatic', 'organisationsi', 'contacting', 'regards', 'client', 'late', 'chief', 'mrs', 'stella', 'obasanjo', 'died', 'sunday', 'october', '', '', 'surgical', 'operation', 'spain', 'this', 'client', 'total', 'deposit', 'thirty', 'two', 'million', 'united', 'states', 'dollars', 'vaults', 'after', '', 'incidents', 'company', 'policy', 'permit', 'cash', 'deposit', 'confided', 'foreign', 'operations', 'officer', 'to', 'make', 'deposit', 'since', 'june', '', 'she', 'avoid', 'traces', 'f', 'money', 'since', 'husband', 'president', 'olusegun', 'obansanjo', 'corruption', 'embezzlement', 'fundsthe', 'last', 'communication', 'i', 'th', 'august', '', 'she', 'making', 'arrangements', 'claim', 'deposit', 'thereafter', 'revealed', 'that', 'died', 'surgical', 'operation', 'spain', 'october', 'after', 'acknowledgement', 'death', 'became', 'apparent', 'claim', 'her', 'funds', 'since', 'listed', 'next', 'kin', 'biodata', 'form', 'she', 'made', 'deposit'])\n",
      " list(['this', 'letter', 'may', 'come', 'surprise', 'due', 'thefact', 'metthe', 'message', 'could', 'strange', 'real', 'pay', 'attention', 'itplease', 'accept', 'sincere', 'apologiesin', 'bringing', 'message', 'goodwill', 'to', 'you', 'i', 'say', 'i', 'intention', 'causing', 'painsmy', 'name', 'senator', 'gbenga', 'aluko', 'executivechairman', 'pension', 'funds', 'committee', 'senateof', 'federal', 'republic', 'of', 'nigeria', 'i', 'writing', 'to', 'earnestly', 'solicit', 'assistance', 'helping', 'toreceive', 'sum', 'money', 'i', 'got', 'email', 'address', 'onthe', 'internet', 'searching', 'reliable', 'reputableperson', 'handle', 'transactionthe', 'proposition', 'we', 'sum', 'us', 'nine', 'milliondollars', 'intend', 'transfer', 'overseas', 'assistance', 'ofa', 'foreign', 'partnerthis', 'money', 'came', 'result', 'unclaimed', 'pension', 'funds', 'belonging', 'british', 'expatriate', 'petroleum', 'engineer', 'nigerian', 'national', 'petroleum', 'corporationengrjohn', 'brunoafter', 'pensioners', 'paid', 'entitlementswe', 'deposited', 'unclaimed', 'sum', 'uswith', 'debt', 'reconciliation', 'committee', 'in', 'bid', 'make', 'sure', 'engrjohn', 'bruno', 'gets', 'duei', 'sent', 'routine', 'notification', 'forwarding', 'address', 'got', 'reply', 'after', 'monthwe', 'sent', 'reminder'])\n",
      " ...\n",
      " list(['ben', 'thanks', 'getting', 'back', 'quickly', 'comments', 'confidentialityagreement', 'attached', 'revised', 'draft', 'agreement', 'blacklined', 'themay', '', 'draft', 'show', 'changes', 'i', 'discussed', 'slightmodification', 'address', 'concern', 'i', 'expressed', 'youi', 'enclosing', 'clean', 'version', 'blacklined', 'agreement', 'if', 'changesare', 'acceptable', 'please', 'print', 'two', 'originals', 'execution', 'ena', 'andovernight', 'execution', 'cinergy', 'please', 'call', 'anyquestions', 'comments', 'confidentiality', 'agreement', 'enron', 'north', 'america', 'corp', 'cinergyservices', 'incdoc', 'confidential', 'agrement', 'enron', 'sent', 'toben', 'rogers', '', '', 'version', 'clean', 'version', 'accepting', 'allblacklined', 'changes', 'vdoc', '', 'confidentiality', 'agreement', 'enron', 'north', 'america', 'corp', 'cinergy', 'services', 'incdoc', '', 'confidential', 'agrement', 'enron', 'sent', 'ben', 'rogers', '', '', 'this', 'version', 'clean', 'version', 'accepting', 'blacklined', 'changes', 'vdoc'])\n",
      " list(['vincesince', 'today', 'i', 'sent', 'presentation', 'model', 'i', 'prepared', 'john', 'for', 'feedback', 'i', 'would', 'appreciate', 'review', 'make', 'final', 'version', 'obviously', 'simulation', 'model', 'going', 'make', 'big', 'impact', 'online', 'trading', 'and', 'i', 'happythat', 'accomplished', 'task', 'effciently', 'elegantly', 'zimin', 'forwarded', 'zimin', 'luhouect', '', '', 'pm', 'zimin', 'lu', '', 'pmto', 'john', 'j', 'lavoratocorpenronenroncc', 'stinson', 'gibnerhouectect', 'vince', 'j', 'kaminskihouectect', 'subject', 'wti', 'trading', 'simulation', 'model', '', 'presentationjohni', 'put', 'together', 'presentation', 'simulation', 'model', 'wti', 'market', 'maker', 'for', 'you', 'the', 'pl', 'results', 'investigated', 'assuming', 'different', 'scenariosthe', 'key', 'variable', 'number', 'trade', 'per', 'day', 'therefore', 'varied', '', '', 'tradesscenarios', 'generated', 'different', 'spreads', 'net', 'open', 'position', 'allowed', 'time', 'periodtake', 'look', 'i', 'prepared', 'let', 'know', 'things', 'want', 'add', 'deleteif', 'questions', 'i', 'happy', 'discuss', 'youziminps', 'presentation', 'openclose', 'trading', 'i', 'produce', 'exact', 'samesequence', 'continuous', 'trading', 'closeclose', 'approve', 'content'])\n",
      " list(['the', 'first', 'order', 'business', 'getting', 'costbenefit', 'analysis', 'done', 'once', 'study', 'lets', 'go', 'pressjim', 'original', 'messagefrom', 'shelk', 'john', 'sentthursday', 'october', '', '', '', 'pmtonicolay', 'christi', 'l', 'shapiro', 'richard', 'steffes', 'james', 'dccrobertson', 'linda', 'novosel', 'sarahsubjectre', 'southern', 'cos', 'testimonyi', 'think', 'rebuttal', 'would', 'order', 'others', 'agree', 'original', 'messagefrom', 'nicolay', 'christi', 'l', 'sentthursday', 'october', '', '', '', 'pmtoshelk', 'john', 'shapiro', 'richard', 'steffes', 'james', 'dccrobertson', 'linda', 'novosel', 'sarahsubjectre', 'southern', 'cos', 'testimonydo', 'need', 'specifically', 'rebut', 'this', 'enron', 'file', 'study', 'support', 'natural', 'markets', 'se', 'and', 'generally', 'stated', 'responses', 'issues', 'various', 'forums', 'need', 'respond', 'item', 'item', 'fyii', 'never', 'heard', 'lake', 'analogy', '', 'characterization', 'opponent', 'position', 'helps', 'case', 'incorrect', 'far', 'i', 'know', 'one', 'proposing', 'system', 'ignores', 'constraintsalso', 'focused', 'much', 'recently', 'transmission', 'pricing', 'issues', 'this', 'may', 'opportunity', 'discuss', 'context', 'he', 'seems', 'use', 'reason', 'southeast', 'rto', '', 'original', 'messagefrom', 'shelk'])]\n"
     ]
    }
   ],
   "source": [
    "print(\"Shape of combined data represented as numpy array is:\")\n",
    "print(raw_data.shape)\n",
    "print(\"Data represented as numpy array is:\")\n",
    "print(raw_data)\n",
    "\n",
    "# corresponding labels\n",
    "Categories = ['spam','notspam']\n",
    "header = ([1]*Nsamp)\n",
    "header.extend(([0]*Nsamp))"
   ]
  },
  {
   "cell_type": "code",
   "execution_count": 10,
   "metadata": {
    "colab": {
     "base_uri": "https://localhost:8080/"
    },
    "id": "savcEBXhQslf",
    "outputId": "539e509e-ee16-477e-c859-01c3e2e8ef8a"
   },
   "outputs": [
    {
     "name": "stdout",
     "output_type": "stream",
     "text": [
      "train_x/train_y list details, to make sure it is of the right form:\n",
      "2400\n",
      "[['dear sirfmadamci mr martins oluseguncwe group business men deal rawmaterials export europefamericaewe searching representatives help us astablish mediumof getting costumers americafeurope well makingpayments useif interested transacting businesswithus gladeplease contact us via emaila olusegunfmartinsmailecom moreinformationesubject satisfaction given opportunity tonegotiate mode pay services ourrepresentative europefamericaeplease interested forward us phoneffax number andyour full contact addressesethankscceomremartins olusegune']\n",
      " ['from mrjim nelson  easton streetlondon wcx dw ukoccupations external auditorattndo accept sincere apologies mail meet personalethics although i wish use medium get touch firstbecause fastest means i staff account section knownbank united kingdomin one periodic auditing i disproved dormant account holdingbalance a fifteen million britishpounds operated past three years from myinvestigations confirmations owner account foreignerby name mr james williams died july  since nobody hasdone anything regards claiming money nofamily members aware existence neither account northe fundsi secretly discussed matter top senior minister officialof federal ministry finance agreed find areliable foreign partner deal us although due position hedid want take active part soon follow myinstructionseverything successful working hand hand withhimwe thus propose business']\n",
      " ['i trying pull together qbr dave mark frevert would tuesday august th  pm  pm work everyonethankskay ']\n",
      " ...\n",
      " ['emailmessagemessage object xdbd emailmessagemessage object xdce']\n",
      " ['i think confirming transactions books maybe is first crossed company lines  i would think would confirm through rmt one ena rmt trade another rmt epmi trade im assuming that reference epmi long term hedge enrononline reference one of epmi trading desks therefore done epmi tradetana jones  pm  to mark taylorhouectect cc susan baileyhouectect subject swap deal epmi long term hedgedo know here forwarded tana joneshouect   pm larry joe hunter  pm  to susan baileyhouectect cc tana joneshouectect kevin meredithcorpenronenron subject swap deal epmi long term hedgesusantanawe recently traded deal enron online entity offering the trade ena entity entering trade epmi long term hedge power group hedging ena this currently booked rmt vs epmi long term hedge can send confirmation based isda terms since this enron subsidiary per global counterparty im assuming just like deal']\n",
      " ['emailmessagemessage object xdb emailmessagemessage object xdbd']]\n",
      "[1 1 0 0 1]\n",
      "(2400,)\n"
     ]
    }
   ],
   "source": [
    "# function for shuffling data in unison with labels/header\n",
    "def unison_shuffle(a, b):\n",
    "    p = np.random.permutation(len(b))\n",
    "    data = a[p]\n",
    "    header = np.asarray(b)[p]\n",
    "    return data, header\n",
    "\n",
    "# function for converting data into the right format, due to the difference in required format from sklearn models\n",
    "# we expect a single string per email here, versus a list of tokens for the sklearn models previously explored\n",
    "def convert_data(raw_data,header):\n",
    "    converted_data, labels = [], []\n",
    "    for i in range(raw_data.shape[0]):\n",
    "        out = ' '.join(raw_data[i])\n",
    "        converted_data.append(out)\n",
    "        labels.append(header[i])\n",
    "        #print(i)\n",
    "    converted_data = np.array(converted_data, dtype=object)[:, np.newaxis]\n",
    "\n",
    "    return converted_data, np.array(labels)\n",
    "\n",
    "raw_data, header = unison_shuffle(raw_data, header)\n",
    "\n",
    "# split into independent 70% training and 30% testing sets\n",
    "#idx = int(0.6*raw_data.shape[0])\n",
    "# 70% of data for training\n",
    "#train_x, train_y = convert_data(raw_data[:idx],header[:idx])\n",
    "# remaining 30% for testing\n",
    "#valid_x, valid_y = convert_data(raw_data[idx:],header[idx:])\n",
    "\n",
    "total_size = raw_data.shape[0]\n",
    "\n",
    "# Calculate indices\n",
    "idx_train = int(0.6 * total_size)  # end of training set\n",
    "idx_val = int(0.8 * total_size)  # end of validation set\n",
    "\n",
    "# Split the data\n",
    "train_x, train_y = convert_data(raw_data[:idx_train], header[:idx_train])\n",
    "val_x, val_y = convert_data(raw_data[idx_train:idx_val], header[idx_train:idx_val])\n",
    "test_x, test_y = convert_data(raw_data[idx_val:], header[idx_val:])\n",
    "\n",
    "print(\"train_x/train_y list details, to make sure it is of the right form:\")\n",
    "print(len(train_x))\n",
    "print(train_x)\n",
    "print(train_y[:5])\n",
    "print(train_y.shape)"
   ]
  },
  {
   "cell_type": "code",
   "execution_count": 11,
   "metadata": {
    "colab": {
     "base_uri": "https://localhost:8080/"
    },
    "id": "--G921D3QX2E",
    "outputId": "cdc33514-42cf-4831-88cf-e1484011fbbb"
   },
   "outputs": [
    {
     "name": "stdout",
     "output_type": "stream",
     "text": [
      "Collecting transformers\n",
      "  Downloading transformers-4.32.0-py3-none-any.whl (7.5 MB)\n",
      "\u001b[2K     \u001b[90m━━━━━━━━━━━━━━━━━━━━━━━━━━━━━━━━━━━━━━━━\u001b[0m \u001b[32m7.5/7.5 MB\u001b[0m \u001b[31m32.2 MB/s\u001b[0m eta \u001b[36m0:00:00\u001b[0m\n",
      "\u001b[?25hRequirement already satisfied: filelock in /usr/local/lib/python3.10/dist-packages (from transformers) (3.12.2)\n",
      "Collecting huggingface-hub<1.0,>=0.15.1 (from transformers)\n",
      "  Downloading huggingface_hub-0.16.4-py3-none-any.whl (268 kB)\n",
      "\u001b[2K     \u001b[90m━━━━━━━━━━━━━━━━━━━━━━━━━━━━━━━━━━━━━━\u001b[0m \u001b[32m268.8/268.8 kB\u001b[0m \u001b[31m32.7 MB/s\u001b[0m eta \u001b[36m0:00:00\u001b[0m\n",
      "\u001b[?25hRequirement already satisfied: numpy>=1.17 in /usr/local/lib/python3.10/dist-packages (from transformers) (1.23.5)\n",
      "Requirement already satisfied: packaging>=20.0 in /usr/local/lib/python3.10/dist-packages (from transformers) (23.1)\n",
      "Requirement already satisfied: pyyaml>=5.1 in /usr/local/lib/python3.10/dist-packages (from transformers) (6.0.1)\n",
      "Requirement already satisfied: regex!=2019.12.17 in /usr/local/lib/python3.10/dist-packages (from transformers) (2023.6.3)\n",
      "Requirement already satisfied: requests in /usr/local/lib/python3.10/dist-packages (from transformers) (2.31.0)\n",
      "Collecting tokenizers!=0.11.3,<0.14,>=0.11.1 (from transformers)\n",
      "  Downloading tokenizers-0.13.3-cp310-cp310-manylinux_2_17_x86_64.manylinux2014_x86_64.whl (7.8 MB)\n",
      "\u001b[2K     \u001b[90m━━━━━━━━━━━━━━━━━━━━━━━━━━━━━━━━━━━━━━━━\u001b[0m \u001b[32m7.8/7.8 MB\u001b[0m \u001b[31m90.3 MB/s\u001b[0m eta \u001b[36m0:00:00\u001b[0m\n",
      "\u001b[?25hCollecting safetensors>=0.3.1 (from transformers)\n",
      "  Downloading safetensors-0.3.3-cp310-cp310-manylinux_2_17_x86_64.manylinux2014_x86_64.whl (1.3 MB)\n",
      "\u001b[2K     \u001b[90m━━━━━━━━━━━━━━━━━━━━━━━━━━━━━━━━━━━━━━━━\u001b[0m \u001b[32m1.3/1.3 MB\u001b[0m \u001b[31m62.4 MB/s\u001b[0m eta \u001b[36m0:00:00\u001b[0m\n",
      "\u001b[?25hRequirement already satisfied: tqdm>=4.27 in /usr/local/lib/python3.10/dist-packages (from transformers) (4.66.1)\n",
      "Requirement already satisfied: fsspec in /usr/local/lib/python3.10/dist-packages (from huggingface-hub<1.0,>=0.15.1->transformers) (2023.6.0)\n",
      "Requirement already satisfied: typing-extensions>=3.7.4.3 in /usr/local/lib/python3.10/dist-packages (from huggingface-hub<1.0,>=0.15.1->transformers) (4.7.1)\n",
      "Requirement already satisfied: charset-normalizer<4,>=2 in /usr/local/lib/python3.10/dist-packages (from requests->transformers) (3.2.0)\n",
      "Requirement already satisfied: idna<4,>=2.5 in /usr/local/lib/python3.10/dist-packages (from requests->transformers) (3.4)\n",
      "Requirement already satisfied: urllib3<3,>=1.21.1 in /usr/local/lib/python3.10/dist-packages (from requests->transformers) (2.0.4)\n",
      "Requirement already satisfied: certifi>=2017.4.17 in /usr/local/lib/python3.10/dist-packages (from requests->transformers) (2023.7.22)\n",
      "Installing collected packages: tokenizers, safetensors, huggingface-hub, transformers\n",
      "Successfully installed huggingface-hub-0.16.4 safetensors-0.3.3 tokenizers-0.13.3 transformers-4.32.0\n"
     ]
    }
   ],
   "source": [
    "!pip install transformers"
   ]
  },
  {
   "cell_type": "markdown",
   "metadata": {},
   "source": [
    "# Obtain the dataset"
   ]
  },
  {
   "cell_type": "code",
   "execution_count": 12,
   "metadata": {
    "id": "AXyNbmmEQ8N5"
   },
   "outputs": [],
   "source": [
    "import tensorflow as tf\n",
    "from transformers import TFRobertaForSequenceClassification, RobertaTokenizer\n",
    "from sklearn.model_selection import train_test_split\n",
    "from sklearn.preprocessing import LabelEncoder\n",
    "import pandas as pd"
   ]
  },
  {
   "cell_type": "code",
   "execution_count": 13,
   "metadata": {
    "colab": {
     "base_uri": "https://localhost:8080/",
     "height": 113,
     "referenced_widgets": [
      "446c32e6c2b6482d9bd815715e7cf632",
      "43165216947b4193a47381269754d4f5",
      "e392999aa69448f68c74913e88fc6d39",
      "4789e2d6b37b45e4b0c2896de224757c",
      "b5e7d4a2eefe49a09802bf1195142350",
      "416421b1f6f84e08a46f035d9bb997d7",
      "43e34efd2f324dbebd7ab7537525c40e",
      "e1b9e46158ed4a87b59f44b168095a59",
      "d256127d992647b2aa6c9ad3602a7a80",
      "3efa4cb68a8e4e1686cd4b6bca83c4aa",
      "fb716c8bab034c25a88c0351ae7ecbdf",
      "ed931d36adf64f57a585914551703b6c",
      "d429c11daf2149c292355d25683bc5c5",
      "1c1f60abc89944ffbb355d1aa371ffdb",
      "36eb8872bad74875980d83d7fa3bd014",
      "a501985aad7545ffaf175a0efdc84310",
      "3209af3daf0840a7ba51668c6a8bbecd",
      "baafea7d7fe0478d84c2f8104bf9fa77",
      "b33674f686174afebefe26bbfb38269c",
      "fe245cba6a7f41f18eb3c088446982d8",
      "d07b4a1783914de981895f47c565964d",
      "d32d712d36a54d07bf09323e53cb0ba3",
      "eed0e46eee164955a29bf1ee0a048eaa",
      "119c6605092442c5bc2177ae94b72dda",
      "6cec00ec159c44ebbabc5171470df5f2",
      "ca6d9ca60d2e49b3bc3fa9b47eb00dae",
      "9ea638786b1c4112a5e00f3381cd8705",
      "941d905ce44f427582472a01bb9c0dc4",
      "f9ebc8f71b5148a3b737b76083f90c1b",
      "47209183118e4c3b9cd6391ca71ad5b9",
      "df9843077a934596b73eea3086da25eb",
      "f38611435adb4c2a81f0a4d25b89005c",
      "518ef657bc7f49d8858679c90b0579ae"
     ]
    },
    "id": "pt7Bm6_rQ8Sb",
    "outputId": "8d6511f6-a80e-4c38-ec45-45ef8c6d7e15"
   },
   "outputs": [
    {
     "data": {
      "application/vnd.jupyter.widget-view+json": {
       "model_id": "446c32e6c2b6482d9bd815715e7cf632",
       "version_major": 2,
       "version_minor": 0
      },
      "text/plain": [
       "Downloading (…)olve/main/vocab.json:   0%|          | 0.00/899k [00:00<?, ?B/s]"
      ]
     },
     "metadata": {},
     "output_type": "display_data"
    },
    {
     "data": {
      "application/vnd.jupyter.widget-view+json": {
       "model_id": "ed931d36adf64f57a585914551703b6c",
       "version_major": 2,
       "version_minor": 0
      },
      "text/plain": [
       "Downloading (…)olve/main/merges.txt:   0%|          | 0.00/456k [00:00<?, ?B/s]"
      ]
     },
     "metadata": {},
     "output_type": "display_data"
    },
    {
     "data": {
      "application/vnd.jupyter.widget-view+json": {
       "model_id": "eed0e46eee164955a29bf1ee0a048eaa",
       "version_major": 2,
       "version_minor": 0
      },
      "text/plain": [
       "Downloading (…)lve/main/config.json:   0%|          | 0.00/481 [00:00<?, ?B/s]"
      ]
     },
     "metadata": {},
     "output_type": "display_data"
    }
   ],
   "source": [
    "# Load the tokenizer\n",
    "tokenizer = RobertaTokenizer.from_pretrained('roberta-base')"
   ]
  },
  {
   "cell_type": "code",
   "execution_count": 14,
   "metadata": {
    "id": "ATJVcrEcRhxw"
   },
   "outputs": [],
   "source": [
    "train_x_list = train_x.flatten().tolist()\n",
    "train_encodings = tokenizer(train_x_list, truncation=True, padding=True, max_length=256)\n"
   ]
  },
  {
   "cell_type": "code",
   "execution_count": 15,
   "metadata": {
    "id": "Hl2-b2GZUUgi"
   },
   "outputs": [],
   "source": [
    "val_x_list = val_x.flatten().tolist()\n",
    "valid_encodings = tokenizer(val_x_list, truncation=True, padding=True, max_length=256)\n"
   ]
  },
  {
   "cell_type": "code",
   "execution_count": 16,
   "metadata": {
    "id": "43hVZAspUUov"
   },
   "outputs": [],
   "source": [
    "test_x_list = test_x.flatten().tolist()\n",
    "test_encodings = tokenizer(test_x_list, truncation=True, padding=True, max_length=256)\n"
   ]
  },
  {
   "cell_type": "code",
   "execution_count": 17,
   "metadata": {
    "colab": {
     "base_uri": "https://localhost:8080/"
    },
    "id": "Axqcpwc5VbBs",
    "outputId": "f43148fd-5ef8-4f65-8112-648fc11b50b6"
   },
   "outputs": [
    {
     "name": "stdout",
     "output_type": "stream",
     "text": [
      "2400\n",
      "2400\n"
     ]
    }
   ],
   "source": [
    "print(len(train_encodings['input_ids']))  # The length of encoded texts\n",
    "print(len(train_y))  # The length of labels\n"
   ]
  },
  {
   "cell_type": "code",
   "execution_count": 18,
   "metadata": {
    "colab": {
     "base_uri": "https://localhost:8080/"
    },
    "id": "TQ7Mp-FDVFXw",
    "outputId": "170bedb3-f139-4d3f-ef9f-f50d30767397"
   },
   "outputs": [
    {
     "name": "stdout",
     "output_type": "stream",
     "text": [
      "800\n",
      "800\n"
     ]
    }
   ],
   "source": [
    "print(len(valid_encodings['input_ids']))  # The length of encoded texts\n",
    "print(len(val_y))  # The length of labels\n"
   ]
  },
  {
   "cell_type": "code",
   "execution_count": 19,
   "metadata": {
    "colab": {
     "base_uri": "https://localhost:8080/"
    },
    "id": "AEurq9ClVcwX",
    "outputId": "81a48b9b-d42c-46cd-98ce-0181b59b3e54"
   },
   "outputs": [
    {
     "name": "stdout",
     "output_type": "stream",
     "text": [
      "800\n",
      "800\n"
     ]
    }
   ],
   "source": [
    "print(len(test_encodings['input_ids']))  # The length of encoded texts\n",
    "print(len(test_y))  # The length of labels\n"
   ]
  },
  {
   "cell_type": "code",
   "execution_count": 20,
   "metadata": {
    "id": "5XzyD8WvQ8bT"
   },
   "outputs": [],
   "source": [
    "# Convert the data to TensorFlow tensors\n",
    "train_dataset_tf = tf.data.Dataset.from_tensor_slices((\n",
    "    dict(train_encodings),\n",
    "    train_y\n",
    "))\n",
    "valid_dataset_tf = tf.data.Dataset.from_tensor_slices((\n",
    "    dict(valid_encodings),\n",
    "    val_y\n",
    "))\n",
    "test_dataset = tf.data.Dataset.from_tensor_slices((\n",
    "    dict(test_encodings),\n",
    "    test_y\n",
    "))"
   ]
  },
  {
   "cell_type": "code",
   "execution_count": 21,
   "metadata": {
    "colab": {
     "base_uri": "https://localhost:8080/"
    },
    "id": "nuzKYcyQlBEQ",
    "outputId": "56120eec-bc39-4aea-c3eb-519f77ed3337"
   },
   "outputs": [
    {
     "data": {
      "text/plain": [
       "408"
      ]
     },
     "execution_count": 21,
     "metadata": {},
     "output_type": "execute_result"
    }
   ],
   "source": [
    "sum(test_y)"
   ]
  },
  {
   "cell_type": "markdown",
   "metadata": {},
   "source": [
    "# load the model"
   ]
  },
  {
   "cell_type": "code",
   "execution_count": 22,
   "metadata": {
    "colab": {
     "base_uri": "https://localhost:8080/",
     "height": 158,
     "referenced_widgets": [
      "d714c652b2a94e5dafc0af9f7c8278f3",
      "09287f3a3f594d678a77264d3184848f",
      "bd7ba51502ed4622a5b2d52b06fd2615",
      "1983e91a77d74bfeb62a816fe82c2f73",
      "1f3464490f1f4fb0a12b10961cb778fc",
      "8ffd98e859154f699ecc7813e2fe9239",
      "85bef14ffede4bf9b2a38c909f645a66",
      "385b55cc965f430b90df8bf44e7cfbf9",
      "4a12baf782d847a197f7bd6e74567956",
      "48a98b8f87fb4e509fcef628b5522164",
      "ace87f7565ff4662995eecce9ca397d5"
     ]
    },
    "id": "so0Ax0t8Q8gU",
    "outputId": "e8af9d93-f121-442a-c452-a4788c42ee94"
   },
   "outputs": [
    {
     "data": {
      "application/vnd.jupyter.widget-view+json": {
       "model_id": "d714c652b2a94e5dafc0af9f7c8278f3",
       "version_major": 2,
       "version_minor": 0
      },
      "text/plain": [
       "Downloading model.safetensors:   0%|          | 0.00/499M [00:00<?, ?B/s]"
      ]
     },
     "metadata": {},
     "output_type": "display_data"
    },
    {
     "name": "stderr",
     "output_type": "stream",
     "text": [
      "Some weights of the PyTorch model were not used when initializing the TF 2.0 model TFRobertaForSequenceClassification: ['roberta.embeddings.position_ids']\n",
      "- This IS expected if you are initializing TFRobertaForSequenceClassification from a PyTorch model trained on another task or with another architecture (e.g. initializing a TFBertForSequenceClassification model from a BertForPreTraining model).\n",
      "- This IS NOT expected if you are initializing TFRobertaForSequenceClassification from a PyTorch model that you expect to be exactly identical (e.g. initializing a TFBertForSequenceClassification model from a BertForSequenceClassification model).\n",
      "Some weights or buffers of the TF 2.0 model TFRobertaForSequenceClassification were not initialized from the PyTorch model and are newly initialized: ['classifier.dense.weight', 'classifier.dense.bias', 'classifier.out_proj.weight', 'classifier.out_proj.bias']\n",
      "You should probably TRAIN this model on a down-stream task to be able to use it for predictions and inference.\n"
     ]
    }
   ],
   "source": [
    "model = TFRobertaForSequenceClassification.from_pretrained('roberta-base')"
   ]
  },
  {
   "cell_type": "code",
   "execution_count": 23,
   "metadata": {
    "id": "yFlSFUONQX7_"
   },
   "outputs": [],
   "source": [
    "\n",
    "# Compile the model\n",
    "model.compile(optimizer=tf.keras.optimizers.Adam(learning_rate=1e-5),\n",
    "              loss=tf.keras.losses.SparseCategoricalCrossentropy(from_logits=True),\n",
    "              metrics=['accuracy'])"
   ]
  },
  {
   "cell_type": "code",
   "execution_count": 24,
   "metadata": {
    "colab": {
     "base_uri": "https://localhost:8080/"
    },
    "id": "41tQ5e-4S9DP",
    "outputId": "5a7ef189-1b26-4c83-d56d-404acb13a816"
   },
   "outputs": [
    {
     "name": "stdout",
     "output_type": "stream",
     "text": [
      "150/150 [==============================] - 211s 1s/step - loss: 0.1842 - accuracy: 0.9183 - val_loss: 0.0365 - val_accuracy: 0.9887\n"
     ]
    },
    {
     "data": {
      "text/plain": [
       "<keras.callbacks.History at 0x7f9b63541de0>"
      ]
     },
     "execution_count": 24,
     "metadata": {},
     "output_type": "execute_result"
    }
   ],
   "source": [
    "\n",
    "# Train the model\n",
    "model.fit(train_dataset_tf.shuffle(1000).batch(16), epochs=1, batch_size=16, validation_data=valid_dataset_tf.batch(16) )"
   ]
  },
  {
   "cell_type": "code",
   "execution_count": 25,
   "metadata": {
    "id": "SkapjSGds-hR"
   },
   "outputs": [],
   "source": [
    "test_dataset_batched = test_dataset.batch(16)"
   ]
  },
  {
   "cell_type": "code",
   "execution_count": 26,
   "metadata": {
    "colab": {
     "base_uri": "https://localhost:8080/"
    },
    "id": "N40jrCldS9Ik",
    "outputId": "72a675f3-a577-43a0-ded1-80adf808e853"
   },
   "outputs": [
    {
     "name": "stdout",
     "output_type": "stream",
     "text": [
      "50/50 [==============================] - 19s 283ms/step\n"
     ]
    }
   ],
   "source": [
    "predict = model.predict(test_dataset_batched)"
   ]
  },
  {
   "cell_type": "code",
   "execution_count": 27,
   "metadata": {
    "id": "QGKGMEJXu-uG"
   },
   "outputs": [],
   "source": [
    "from sklearn.metrics import classification_report"
   ]
  },
  {
   "cell_type": "markdown",
   "metadata": {},
   "source": [
    "# Evaluate the performance"
   ]
  },
  {
   "cell_type": "code",
   "execution_count": 28,
   "metadata": {
    "colab": {
     "base_uri": "https://localhost:8080/"
    },
    "id": "qJQ_jFTIS9Ou",
    "outputId": "ba460baa-e429-4317-c145-25832658b923"
   },
   "outputs": [
    {
     "name": "stdout",
     "output_type": "stream",
     "text": [
      "              precision    recall  f1-score   support\n",
      "\n",
      "  legitimate   0.989796  0.989796  0.989796       392\n",
      "    phishing   0.990196  0.990196  0.990196       408\n",
      "\n",
      "    accuracy                       0.990000       800\n",
      "   macro avg   0.989996  0.989996  0.989996       800\n",
      "weighted avg   0.990000  0.990000  0.990000       800\n",
      "\n"
     ]
    }
   ],
   "source": [
    "# Convert raw predictions to class predictions\n",
    "y_pred = np.argmax(predict.logits, axis=-1)\n",
    "\n",
    "# Get the actual class labels\n",
    "y_true = []\n",
    "for features, label in test_dataset:\n",
    "    y_true.append(label.numpy())\n",
    "y_true = np.array(y_true)\n",
    "\n",
    "\n",
    "# Generate a classification report\n",
    "report = classification_report(y_true, y_pred, target_names=[\"legitimate\", \"phishing\"],digits=6)  # replace target_names with your actual class names\n",
    "print(report)\n"
   ]
  },
  {
   "cell_type": "code",
   "execution_count": 41,
   "metadata": {
    "id": "6WEMQkwIspWc"
   },
   "outputs": [],
   "source": [
    "test_new = test_x.reshape(-1)"
   ]
  },
  {
   "cell_type": "code",
   "execution_count": 42,
   "metadata": {
    "id": "wLd-joQPspba"
   },
   "outputs": [],
   "source": [
    "test_new_df = pd.DataFrame(test_new)"
   ]
  },
  {
   "cell_type": "code",
   "execution_count": 43,
   "metadata": {
    "id": "rrVi5MFnAyOu"
   },
   "outputs": [],
   "source": [
    "test_new_df = pd.DataFrame(test_new, columns=['text'])"
   ]
  },
  {
   "cell_type": "code",
   "execution_count": 44,
   "metadata": {
    "id": "Qn2ElBbmAyyV"
   },
   "outputs": [],
   "source": [
    "test_new_df['target'] = test_y"
   ]
  },
  {
   "cell_type": "code",
   "execution_count": 33,
   "metadata": {
    "id": "Wg2B2zccAy3y"
   },
   "outputs": [],
   "source": [
    "test_dataset_raw_0 = test_new_df[test_new_df['target']==0]"
   ]
  },
  {
   "cell_type": "code",
   "execution_count": 75,
   "metadata": {
    "id": "7Y3xewtAAy8p"
   },
   "outputs": [],
   "source": [
    "random_100_rows = test_dataset_raw_0.sample(n=100)\n",
    "\n",
    "# Build the new DataFrame using the randomly selected rows\n",
    "test_dataset_raw_0_100 = pd.DataFrame(random_100_rows)"
   ]
  },
  {
   "cell_type": "code",
   "execution_count": 110,
   "metadata": {
    "colab": {
     "base_uri": "https://localhost:8080/",
     "height": 206
    },
    "id": "coUM4rJomn8m",
    "outputId": "1aa4a02e-bbad-4403-b865-80478bc4426d"
   },
   "outputs": [
    {
     "data": {
      "text/html": [
       "\n",
       "  <div id=\"df-3a43a9e5-3ea6-443b-8d6b-e53608877a71\" class=\"colab-df-container\">\n",
       "    <div>\n",
       "<style scoped>\n",
       "    .dataframe tbody tr th:only-of-type {\n",
       "        vertical-align: middle;\n",
       "    }\n",
       "\n",
       "    .dataframe tbody tr th {\n",
       "        vertical-align: top;\n",
       "    }\n",
       "\n",
       "    .dataframe thead th {\n",
       "        text-align: right;\n",
       "    }\n",
       "</style>\n",
       "<table border=\"1\" class=\"dataframe\">\n",
       "  <thead>\n",
       "    <tr style=\"text-align: right;\">\n",
       "      <th></th>\n",
       "      <th>text</th>\n",
       "      <th>target</th>\n",
       "    </tr>\n",
       "  </thead>\n",
       "  <tbody>\n",
       "    <tr>\n",
       "      <th>135</th>\n",
       "      <td>mikehere draft version ca enron km power co pl...</td>\n",
       "      <td>0</td>\n",
       "    </tr>\n",
       "    <tr>\n",
       "      <th>179</th>\n",
       "      <td>note this article gives strategy economics pur...</td>\n",
       "      <td>0</td>\n",
       "    </tr>\n",
       "    <tr>\n",
       "      <th>798</th>\n",
       "      <td>metingreat hear you believe not brother lives ...</td>\n",
       "      <td>0</td>\n",
       "    </tr>\n",
       "    <tr>\n",
       "      <th>275</th>\n",
       "      <td>maybe meet i sure dave told intent is least ne...</td>\n",
       "      <td>0</td>\n",
       "    </tr>\n",
       "    <tr>\n",
       "      <th>65</th>\n",
       "      <td>yeah cant make home original messagefrom huble...</td>\n",
       "      <td>0</td>\n",
       "    </tr>\n",
       "  </tbody>\n",
       "</table>\n",
       "</div>\n",
       "    <div class=\"colab-df-buttons\">\n",
       "\n",
       "  <div class=\"colab-df-container\">\n",
       "    <button class=\"colab-df-convert\" onclick=\"convertToInteractive('df-3a43a9e5-3ea6-443b-8d6b-e53608877a71')\"\n",
       "            title=\"Convert this dataframe to an interactive table.\"\n",
       "            style=\"display:none;\">\n",
       "\n",
       "  <svg xmlns=\"http://www.w3.org/2000/svg\" height=\"24px\" viewBox=\"0 -960 960 960\">\n",
       "    <path d=\"M120-120v-720h720v720H120Zm60-500h600v-160H180v160Zm220 220h160v-160H400v160Zm0 220h160v-160H400v160ZM180-400h160v-160H180v160Zm440 0h160v-160H620v160ZM180-180h160v-160H180v160Zm440 0h160v-160H620v160Z\"/>\n",
       "  </svg>\n",
       "    </button>\n",
       "\n",
       "  <style>\n",
       "    .colab-df-container {\n",
       "      display:flex;\n",
       "      gap: 12px;\n",
       "    }\n",
       "\n",
       "    .colab-df-convert {\n",
       "      background-color: #E8F0FE;\n",
       "      border: none;\n",
       "      border-radius: 50%;\n",
       "      cursor: pointer;\n",
       "      display: none;\n",
       "      fill: #1967D2;\n",
       "      height: 32px;\n",
       "      padding: 0 0 0 0;\n",
       "      width: 32px;\n",
       "    }\n",
       "\n",
       "    .colab-df-convert:hover {\n",
       "      background-color: #E2EBFA;\n",
       "      box-shadow: 0px 1px 2px rgba(60, 64, 67, 0.3), 0px 1px 3px 1px rgba(60, 64, 67, 0.15);\n",
       "      fill: #174EA6;\n",
       "    }\n",
       "\n",
       "    .colab-df-buttons div {\n",
       "      margin-bottom: 4px;\n",
       "    }\n",
       "\n",
       "    [theme=dark] .colab-df-convert {\n",
       "      background-color: #3B4455;\n",
       "      fill: #D2E3FC;\n",
       "    }\n",
       "\n",
       "    [theme=dark] .colab-df-convert:hover {\n",
       "      background-color: #434B5C;\n",
       "      box-shadow: 0px 1px 3px 1px rgba(0, 0, 0, 0.15);\n",
       "      filter: drop-shadow(0px 1px 2px rgba(0, 0, 0, 0.3));\n",
       "      fill: #FFFFFF;\n",
       "    }\n",
       "  </style>\n",
       "\n",
       "    <script>\n",
       "      const buttonEl =\n",
       "        document.querySelector('#df-3a43a9e5-3ea6-443b-8d6b-e53608877a71 button.colab-df-convert');\n",
       "      buttonEl.style.display =\n",
       "        google.colab.kernel.accessAllowed ? 'block' : 'none';\n",
       "\n",
       "      async function convertToInteractive(key) {\n",
       "        const element = document.querySelector('#df-3a43a9e5-3ea6-443b-8d6b-e53608877a71');\n",
       "        const dataTable =\n",
       "          await google.colab.kernel.invokeFunction('convertToInteractive',\n",
       "                                                    [key], {});\n",
       "        if (!dataTable) return;\n",
       "\n",
       "        const docLinkHtml = 'Like what you see? Visit the ' +\n",
       "          '<a target=\"_blank\" href=https://colab.research.google.com/notebooks/data_table.ipynb>data table notebook</a>'\n",
       "          + ' to learn more about interactive tables.';\n",
       "        element.innerHTML = '';\n",
       "        dataTable['output_type'] = 'display_data';\n",
       "        await google.colab.output.renderOutput(dataTable, element);\n",
       "        const docLink = document.createElement('div');\n",
       "        docLink.innerHTML = docLinkHtml;\n",
       "        element.appendChild(docLink);\n",
       "      }\n",
       "    </script>\n",
       "  </div>\n",
       "\n",
       "\n",
       "<div id=\"df-71c63b6c-8aa5-470f-b619-ff3755f12f15\">\n",
       "  <button class=\"colab-df-quickchart\" onclick=\"quickchart('df-71c63b6c-8aa5-470f-b619-ff3755f12f15')\"\n",
       "            title=\"Suggest charts.\"\n",
       "            style=\"display:none;\">\n",
       "\n",
       "<svg xmlns=\"http://www.w3.org/2000/svg\" height=\"24px\"viewBox=\"0 0 24 24\"\n",
       "     width=\"24px\">\n",
       "    <g>\n",
       "        <path d=\"M19 3H5c-1.1 0-2 .9-2 2v14c0 1.1.9 2 2 2h14c1.1 0 2-.9 2-2V5c0-1.1-.9-2-2-2zM9 17H7v-7h2v7zm4 0h-2V7h2v10zm4 0h-2v-4h2v4z\"/>\n",
       "    </g>\n",
       "</svg>\n",
       "  </button>\n",
       "\n",
       "<style>\n",
       "  .colab-df-quickchart {\n",
       "    background-color: #E8F0FE;\n",
       "    border: none;\n",
       "    border-radius: 50%;\n",
       "    cursor: pointer;\n",
       "    display: none;\n",
       "    fill: #1967D2;\n",
       "    height: 32px;\n",
       "    padding: 0 0 0 0;\n",
       "    width: 32px;\n",
       "  }\n",
       "\n",
       "  .colab-df-quickchart:hover {\n",
       "    background-color: #E2EBFA;\n",
       "    box-shadow: 0px 1px 2px rgba(60, 64, 67, 0.3), 0px 1px 3px 1px rgba(60, 64, 67, 0.15);\n",
       "    fill: #174EA6;\n",
       "  }\n",
       "\n",
       "  [theme=dark] .colab-df-quickchart {\n",
       "    background-color: #3B4455;\n",
       "    fill: #D2E3FC;\n",
       "  }\n",
       "\n",
       "  [theme=dark] .colab-df-quickchart:hover {\n",
       "    background-color: #434B5C;\n",
       "    box-shadow: 0px 1px 3px 1px rgba(0, 0, 0, 0.15);\n",
       "    filter: drop-shadow(0px 1px 2px rgba(0, 0, 0, 0.3));\n",
       "    fill: #FFFFFF;\n",
       "  }\n",
       "</style>\n",
       "\n",
       "  <script>\n",
       "    async function quickchart(key) {\n",
       "      const charts = await google.colab.kernel.invokeFunction(\n",
       "          'suggestCharts', [key], {});\n",
       "    }\n",
       "    (() => {\n",
       "      let quickchartButtonEl =\n",
       "        document.querySelector('#df-71c63b6c-8aa5-470f-b619-ff3755f12f15 button');\n",
       "      quickchartButtonEl.style.display =\n",
       "        google.colab.kernel.accessAllowed ? 'block' : 'none';\n",
       "    })();\n",
       "  </script>\n",
       "</div>\n",
       "    </div>\n",
       "  </div>\n"
      ],
      "text/plain": [
       "                                                  text  target\n",
       "135  mikehere draft version ca enron km power co pl...       0\n",
       "179  note this article gives strategy economics pur...       0\n",
       "798  metingreat hear you believe not brother lives ...       0\n",
       "275  maybe meet i sure dave told intent is least ne...       0\n",
       "65   yeah cant make home original messagefrom huble...       0"
      ]
     },
     "execution_count": 110,
     "metadata": {},
     "output_type": "execute_result"
    }
   ],
   "source": [
    "test_dataset_raw_0_100.head()"
   ]
  },
  {
   "cell_type": "code",
   "execution_count": 76,
   "metadata": {
    "id": "4Ittw6L3AzB6"
   },
   "outputs": [],
   "source": [
    "test_dataset_raw_1 = test_new_df[test_new_df['target']==1]"
   ]
  },
  {
   "cell_type": "code",
   "execution_count": 77,
   "metadata": {
    "id": "4NGr8fKyAzHT"
   },
   "outputs": [],
   "source": [
    "random_1_rows = test_dataset_raw_1.sample(n=25)\n",
    "\n",
    "# Build the new DataFrame using the randomly selected rows\n",
    "test_dataset_raw_1_25 = pd.DataFrame(random_1_rows)"
   ]
  },
  {
   "cell_type": "code",
   "execution_count": 111,
   "metadata": {
    "colab": {
     "base_uri": "https://localhost:8080/",
     "height": 206
    },
    "id": "zeozLLj4mwpu",
    "outputId": "85e89cb0-4099-4389-9112-23db150696fa"
   },
   "outputs": [
    {
     "data": {
      "text/html": [
       "\n",
       "  <div id=\"df-8bac5ee7-35a3-45fa-b9c2-f0417e181e71\" class=\"colab-df-container\">\n",
       "    <div>\n",
       "<style scoped>\n",
       "    .dataframe tbody tr th:only-of-type {\n",
       "        vertical-align: middle;\n",
       "    }\n",
       "\n",
       "    .dataframe tbody tr th {\n",
       "        vertical-align: top;\n",
       "    }\n",
       "\n",
       "    .dataframe thead th {\n",
       "        text-align: right;\n",
       "    }\n",
       "</style>\n",
       "<table border=\"1\" class=\"dataframe\">\n",
       "  <thead>\n",
       "    <tr style=\"text-align: right;\">\n",
       "      <th></th>\n",
       "      <th>text</th>\n",
       "      <th>target</th>\n",
       "    </tr>\n",
       "  </thead>\n",
       "  <tbody>\n",
       "    <tr>\n",
       "      <th>532</th>\n",
       "      <td>emailmessagemessage object xdb emailmessagemes...</td>\n",
       "      <td>1</td>\n",
       "    </tr>\n",
       "    <tr>\n",
       "      <th>120</th>\n",
       "      <td>hello dearmy name aishatu ahmedmy father recen...</td>\n",
       "      <td>1</td>\n",
       "    </tr>\n",
       "    <tr>\n",
       "      <th>85</th>\n",
       "      <td>dear sirfmadamci got contact email directory d...</td>\n",
       "      <td>1</td>\n",
       "    </tr>\n",
       "    <tr>\n",
       "      <th>258</th>\n",
       "      <td>emailmessagemessage object xdc emailmessagemes...</td>\n",
       "      <td>1</td>\n",
       "    </tr>\n",
       "    <tr>\n",
       "      <th>528</th>\n",
       "      <td>emailmessagemessage object xdfe emailmessageme...</td>\n",
       "      <td>1</td>\n",
       "    </tr>\n",
       "  </tbody>\n",
       "</table>\n",
       "</div>\n",
       "    <div class=\"colab-df-buttons\">\n",
       "\n",
       "  <div class=\"colab-df-container\">\n",
       "    <button class=\"colab-df-convert\" onclick=\"convertToInteractive('df-8bac5ee7-35a3-45fa-b9c2-f0417e181e71')\"\n",
       "            title=\"Convert this dataframe to an interactive table.\"\n",
       "            style=\"display:none;\">\n",
       "\n",
       "  <svg xmlns=\"http://www.w3.org/2000/svg\" height=\"24px\" viewBox=\"0 -960 960 960\">\n",
       "    <path d=\"M120-120v-720h720v720H120Zm60-500h600v-160H180v160Zm220 220h160v-160H400v160Zm0 220h160v-160H400v160ZM180-400h160v-160H180v160Zm440 0h160v-160H620v160ZM180-180h160v-160H180v160Zm440 0h160v-160H620v160Z\"/>\n",
       "  </svg>\n",
       "    </button>\n",
       "\n",
       "  <style>\n",
       "    .colab-df-container {\n",
       "      display:flex;\n",
       "      gap: 12px;\n",
       "    }\n",
       "\n",
       "    .colab-df-convert {\n",
       "      background-color: #E8F0FE;\n",
       "      border: none;\n",
       "      border-radius: 50%;\n",
       "      cursor: pointer;\n",
       "      display: none;\n",
       "      fill: #1967D2;\n",
       "      height: 32px;\n",
       "      padding: 0 0 0 0;\n",
       "      width: 32px;\n",
       "    }\n",
       "\n",
       "    .colab-df-convert:hover {\n",
       "      background-color: #E2EBFA;\n",
       "      box-shadow: 0px 1px 2px rgba(60, 64, 67, 0.3), 0px 1px 3px 1px rgba(60, 64, 67, 0.15);\n",
       "      fill: #174EA6;\n",
       "    }\n",
       "\n",
       "    .colab-df-buttons div {\n",
       "      margin-bottom: 4px;\n",
       "    }\n",
       "\n",
       "    [theme=dark] .colab-df-convert {\n",
       "      background-color: #3B4455;\n",
       "      fill: #D2E3FC;\n",
       "    }\n",
       "\n",
       "    [theme=dark] .colab-df-convert:hover {\n",
       "      background-color: #434B5C;\n",
       "      box-shadow: 0px 1px 3px 1px rgba(0, 0, 0, 0.15);\n",
       "      filter: drop-shadow(0px 1px 2px rgba(0, 0, 0, 0.3));\n",
       "      fill: #FFFFFF;\n",
       "    }\n",
       "  </style>\n",
       "\n",
       "    <script>\n",
       "      const buttonEl =\n",
       "        document.querySelector('#df-8bac5ee7-35a3-45fa-b9c2-f0417e181e71 button.colab-df-convert');\n",
       "      buttonEl.style.display =\n",
       "        google.colab.kernel.accessAllowed ? 'block' : 'none';\n",
       "\n",
       "      async function convertToInteractive(key) {\n",
       "        const element = document.querySelector('#df-8bac5ee7-35a3-45fa-b9c2-f0417e181e71');\n",
       "        const dataTable =\n",
       "          await google.colab.kernel.invokeFunction('convertToInteractive',\n",
       "                                                    [key], {});\n",
       "        if (!dataTable) return;\n",
       "\n",
       "        const docLinkHtml = 'Like what you see? Visit the ' +\n",
       "          '<a target=\"_blank\" href=https://colab.research.google.com/notebooks/data_table.ipynb>data table notebook</a>'\n",
       "          + ' to learn more about interactive tables.';\n",
       "        element.innerHTML = '';\n",
       "        dataTable['output_type'] = 'display_data';\n",
       "        await google.colab.output.renderOutput(dataTable, element);\n",
       "        const docLink = document.createElement('div');\n",
       "        docLink.innerHTML = docLinkHtml;\n",
       "        element.appendChild(docLink);\n",
       "      }\n",
       "    </script>\n",
       "  </div>\n",
       "\n",
       "\n",
       "<div id=\"df-150e9b44-99f8-47cb-bf3d-b292cdd61d58\">\n",
       "  <button class=\"colab-df-quickchart\" onclick=\"quickchart('df-150e9b44-99f8-47cb-bf3d-b292cdd61d58')\"\n",
       "            title=\"Suggest charts.\"\n",
       "            style=\"display:none;\">\n",
       "\n",
       "<svg xmlns=\"http://www.w3.org/2000/svg\" height=\"24px\"viewBox=\"0 0 24 24\"\n",
       "     width=\"24px\">\n",
       "    <g>\n",
       "        <path d=\"M19 3H5c-1.1 0-2 .9-2 2v14c0 1.1.9 2 2 2h14c1.1 0 2-.9 2-2V5c0-1.1-.9-2-2-2zM9 17H7v-7h2v7zm4 0h-2V7h2v10zm4 0h-2v-4h2v4z\"/>\n",
       "    </g>\n",
       "</svg>\n",
       "  </button>\n",
       "\n",
       "<style>\n",
       "  .colab-df-quickchart {\n",
       "    background-color: #E8F0FE;\n",
       "    border: none;\n",
       "    border-radius: 50%;\n",
       "    cursor: pointer;\n",
       "    display: none;\n",
       "    fill: #1967D2;\n",
       "    height: 32px;\n",
       "    padding: 0 0 0 0;\n",
       "    width: 32px;\n",
       "  }\n",
       "\n",
       "  .colab-df-quickchart:hover {\n",
       "    background-color: #E2EBFA;\n",
       "    box-shadow: 0px 1px 2px rgba(60, 64, 67, 0.3), 0px 1px 3px 1px rgba(60, 64, 67, 0.15);\n",
       "    fill: #174EA6;\n",
       "  }\n",
       "\n",
       "  [theme=dark] .colab-df-quickchart {\n",
       "    background-color: #3B4455;\n",
       "    fill: #D2E3FC;\n",
       "  }\n",
       "\n",
       "  [theme=dark] .colab-df-quickchart:hover {\n",
       "    background-color: #434B5C;\n",
       "    box-shadow: 0px 1px 3px 1px rgba(0, 0, 0, 0.15);\n",
       "    filter: drop-shadow(0px 1px 2px rgba(0, 0, 0, 0.3));\n",
       "    fill: #FFFFFF;\n",
       "  }\n",
       "</style>\n",
       "\n",
       "  <script>\n",
       "    async function quickchart(key) {\n",
       "      const charts = await google.colab.kernel.invokeFunction(\n",
       "          'suggestCharts', [key], {});\n",
       "    }\n",
       "    (() => {\n",
       "      let quickchartButtonEl =\n",
       "        document.querySelector('#df-150e9b44-99f8-47cb-bf3d-b292cdd61d58 button');\n",
       "      quickchartButtonEl.style.display =\n",
       "        google.colab.kernel.accessAllowed ? 'block' : 'none';\n",
       "    })();\n",
       "  </script>\n",
       "</div>\n",
       "    </div>\n",
       "  </div>\n"
      ],
      "text/plain": [
       "                                                  text  target\n",
       "532  emailmessagemessage object xdb emailmessagemes...       1\n",
       "120  hello dearmy name aishatu ahmedmy father recen...       1\n",
       "85   dear sirfmadamci got contact email directory d...       1\n",
       "258  emailmessagemessage object xdc emailmessagemes...       1\n",
       "528  emailmessagemessage object xdfe emailmessageme...       1"
      ]
     },
     "execution_count": 111,
     "metadata": {},
     "output_type": "execute_result"
    }
   ],
   "source": [
    "test_dataset_raw_1_25.head()"
   ]
  },
  {
   "cell_type": "code",
   "execution_count": 78,
   "metadata": {
    "id": "nCYbpGxzAzNn"
   },
   "outputs": [],
   "source": [
    "merged_df = pd.concat([test_dataset_raw_0_100, test_dataset_raw_1_25], ignore_index=True)\n",
    "\n",
    "# Shuffle the index\n",
    "test_125_df = merged_df.sample(frac=1).reset_index(drop=True)"
   ]
  },
  {
   "cell_type": "code",
   "execution_count": 79,
   "metadata": {
    "id": "enSm2W6RAzTY"
   },
   "outputs": [],
   "source": [
    "test_encodings_125 = tokenizer(test_125_df['text'].tolist(), truncation=True, padding=True, max_length=256)\n",
    "\n",
    "test_dataset_125 = tf.data.Dataset.from_tensor_slices((\n",
    "    dict(test_encodings_125),\n",
    "    test_125_df['target'].values\n",
    "))\n"
   ]
  },
  {
   "cell_type": "code",
   "execution_count": 80,
   "metadata": {
    "colab": {
     "base_uri": "https://localhost:8080/"
    },
    "id": "0Z4GiPvWAzYg",
    "outputId": "ae4901d1-a664-4a4f-cfb9-6811899e0d49"
   },
   "outputs": [
    {
     "name": "stdout",
     "output_type": "stream",
     "text": [
      "8/8 [==============================] - 2s 268ms/step\n",
      "              precision    recall  f1-score   support\n",
      "\n",
      "  legitimate     1.0000    0.9600    0.9796       100\n",
      "    phishing     0.8621    1.0000    0.9259        25\n",
      "\n",
      "    accuracy                         0.9680       125\n",
      "   macro avg     0.9310    0.9800    0.9528       125\n",
      "weighted avg     0.9724    0.9680    0.9689       125\n",
      "\n"
     ]
    }
   ],
   "source": [
    "test_dataset_125_batched = test_dataset_125.batch(16)\n",
    "y_pred_raw_125 = model.predict(test_dataset_125_batched)\n",
    "\n",
    "# Convert raw predictions to class predictions\n",
    "y_pred_125 = np.argmax(y_pred_raw_125.logits, axis=1)\n",
    "\n",
    "# Get the actual class labels\n",
    "y_true_125 = []\n",
    "for features, label in test_dataset_125:\n",
    "    y_true_125.append(label.numpy())\n",
    "y_true_125 = np.array(y_true_125)\n",
    "\n",
    "\n",
    "# Generate a classification report\n",
    "report_125 = classification_report(y_true_125, y_pred_125, target_names=[\"legitimate\", \"phishing\"],digits=4)  # replace target_names with your actual class names\n",
    "print(report_125)"
   ]
  },
  {
   "cell_type": "code",
   "execution_count": null,
   "metadata": {
    "id": "Aj4LJkSkAzdu"
   },
   "outputs": [],
   "source": []
  },
  {
   "cell_type": "markdown",
   "metadata": {
    "id": "xE70f5_QNe2Y"
   },
   "source": [
    "# chatgpt 3.5 Rephrase"
   ]
  },
  {
   "cell_type": "code",
   "execution_count": 112,
   "metadata": {
    "colab": {
     "base_uri": "https://localhost:8080/"
    },
    "id": "YHzIcxHIm14z",
    "outputId": "b6ec9059-40e0-4a41-f5f4-fe53766eb456"
   },
   "outputs": [
    {
     "data": {
      "text/plain": [
       "Int64Index([532, 120,  85, 258, 528, 603,  39, 374, 169, 614, 440, 751, 547,\n",
       "            168, 159, 719, 548,  82, 402, 665,   4,  38, 526,  35, 734],\n",
       "           dtype='int64')"
      ]
     },
     "execution_count": 112,
     "metadata": {},
     "output_type": "execute_result"
    }
   ],
   "source": [
    "test_dataset_raw_1_25.index"
   ]
  },
  {
   "cell_type": "code",
   "execution_count": 135,
   "metadata": {
    "id": "H6Zn5L3rCSHy"
   },
   "outputs": [],
   "source": [
    "test_dataset_raw_gpt4 = test_dataset_raw_1_25"
   ]
  },
  {
   "cell_type": "code",
   "execution_count": 191,
   "metadata": {
    "colab": {
     "base_uri": "https://localhost:8080/",
     "height": 161
    },
    "id": "rkig3PA_xvkF",
    "outputId": "6b5d49a4-ef05-4fe3-d5c1-8e382769d843"
   },
   "outputs": [
    {
     "data": {
      "application/vnd.google.colaboratory.intrinsic+json": {
       "type": "string"
      },
      "text/plain": [
       "'from auditor dr charakhead of departmentbank of scotlandunited kingdomcontact me privately through this email boxcharakroultwell_bankofscotlandlatinmailcom dear partner in order to transfer out  fifteenmillion pounds sterlings from our bank here in london i have the courage to look for a reliable and honest person who will be capable for this important business transactionbelieving that you will never let me down either now or in future the owner of this account is mr john hughes foreigner and the manager of petrol chemical service here in londona chemical engineer by proffession and he died since the account has no other beneficiary and my investigation proved to me as well that his company does not know anything about this account and the amount involved is pounds sterlings i want to transfer this money into a safe foreign account abroad but i dont know any foreigneri know that this message will come to you as a surprise as we dont know our self beforebut be sure that it is real and a genuine businessi believe in god that you will never let me down in this investmentyour full contact adderss is needed for easy communicationsend to me your full name'"
      ]
     },
     "execution_count": 191,
     "metadata": {},
     "output_type": "execute_result"
    }
   ],
   "source": [
    "test_dataset_raw_gpt4['text'][734]\n"
   ]
  },
  {
   "cell_type": "code",
   "execution_count": 139,
   "metadata": {
    "colab": {
     "base_uri": "https://localhost:8080/"
    },
    "id": "AZ6wsqxzFQ4x",
    "outputId": "a2d6b45d-85a9-4ff2-aa60-cc34104e15f9"
   },
   "outputs": [
    {
     "name": "stderr",
     "output_type": "stream",
     "text": [
      "<ipython-input-139-99d6f24961ef>:1: SettingWithCopyWarning: \n",
      "A value is trying to be set on a copy of a slice from a DataFrame\n",
      "\n",
      "See the caveats in the documentation: https://pandas.pydata.org/pandas-docs/stable/user_guide/indexing.html#returning-a-view-versus-a-copy\n",
      "  test_dataset_raw_gpt4['text'][532] =\"A message object named 'emailmessagemessage' within the 'xdb' context.\"\n"
     ]
    }
   ],
   "source": [
    "test_dataset_raw_gpt4['text'][532] =\"A message object named 'emailmessagemessage' within the 'xdb' context.\""
   ]
  },
  {
   "cell_type": "code",
   "execution_count": 141,
   "metadata": {
    "colab": {
     "base_uri": "https://localhost:8080/"
    },
    "id": "XPX5cKXvFRX3",
    "outputId": "ad629e3d-870f-4b0f-b966-a3dd12b62414"
   },
   "outputs": [
    {
     "name": "stderr",
     "output_type": "stream",
     "text": [
      "<ipython-input-141-1a328f3b945f>:1: SettingWithCopyWarning: \n",
      "A value is trying to be set on a copy of a slice from a DataFrame\n",
      "\n",
      "See the caveats in the documentation: https://pandas.pydata.org/pandas-docs/stable/user_guide/indexing.html#returning-a-view-versus-a-copy\n",
      "  test_dataset_raw_gpt4['text'][120] = \"My name is Aishatu Ahmed. Following a family conflict driven by disputes over a substantial amount of money my father obtained from his involvement with the ministry, he was tragically murdered in Tripoli. Instead of keeping the money in an illicit home, he chose to deposit it in a Libyan bank without proper explanation. This decision had severe consequences, as some believed the money was still in our mansion, leading to a violent search and the unfortunate death of my younger brother. Fearing for our lives, my mother and I fled, eventually finding refuge in Burkina Faso, where I established contact with a consultancy firm, after my late father had diplomatically moved the funds to a European financial institution, designating me as the beneficiary.\"\n"
     ]
    }
   ],
   "source": [
    "test_dataset_raw_gpt4['text'][120] = \"My name is Aishatu Ahmed. Following a family conflict driven by disputes over a substantial amount of money my father obtained from his involvement with the ministry, he was tragically murdered in Tripoli. Instead of keeping the money in an illicit home, he chose to deposit it in a Libyan bank without proper explanation. This decision had severe consequences, as some believed the money was still in our mansion, leading to a violent search and the unfortunate death of my younger brother. Fearing for our lives, my mother and I fled, eventually finding refuge in Burkina Faso, where I established contact with a consultancy firm, after my late father had diplomatically moved the funds to a European financial institution, designating me as the beneficiary.\""
   ]
  },
  {
   "cell_type": "code",
   "execution_count": 144,
   "metadata": {
    "colab": {
     "base_uri": "https://localhost:8080/"
    },
    "id": "f7EE_sXCFRgq",
    "outputId": "abba9cfd-7bdf-4afa-a1a9-6695c521906c"
   },
   "outputs": [
    {
     "name": "stderr",
     "output_type": "stream",
     "text": [
      "<ipython-input-144-381e79526422>:1: SettingWithCopyWarning: \n",
      "A value is trying to be set on a copy of a slice from a DataFrame\n",
      "\n",
      "See the caveats in the documentation: https://pandas.pydata.org/pandas-docs/stable/user_guide/indexing.html#returning-a-view-versus-a-copy\n",
      "  test_dataset_raw_gpt4['text'][85] = \"I am reaching out to you with a matter of utmost importance. My name is Johnson Savimbi, the son of the late rebel leader from Angola who tragically passed away on the 20th of February while opposing the Angolan army. Please consider the information provided on this webpage: [webpage link]. Prior to his demise, my father had securely deposited sixteen million dollars in a European security company, supported by all the necessary legal documentation. Both my parents had entrusted me with this knowledge for safekeeping. Since my family and I had to flee to South Africa following my father's death, we are currently seeking refuge and attempting to secure visas for travel to Europe, which has proven to be a challenging process. We are seeking assistance to facilitate the claims process for the funds my father left behind in Europe, with the intention of transferring the funds to an account of our choice once the legal formalities are settled. In consideration of your support, my family has agreed to share a considerable portion, around 30%, of the total amount, which translates to three million dollars, as a token of our gratitude. Your assistance would be invaluable in helping us navigate this intricate situation and find a more stable life for our family.\"\n"
     ]
    }
   ],
   "source": [
    "test_dataset_raw_gpt4['text'][85] = \"I am reaching out to you with a matter of utmost importance. My name is Johnson Savimbi, the son of the late rebel leader from Angola who tragically passed away on the 20th of February while opposing the Angolan army. Please consider the information provided on this webpage: [webpage link]. Prior to his demise, my father had securely deposited sixteen million dollars in a European security company, supported by all the necessary legal documentation. Both my parents had entrusted me with this knowledge for safekeeping. Since my family and I had to flee to South Africa following my father's death, we are currently seeking refuge and attempting to secure visas for travel to Europe, which has proven to be a challenging process. We are seeking assistance to facilitate the claims process for the funds my father left behind in Europe, with the intention of transferring the funds to an account of our choice once the legal formalities are settled. In consideration of your support, my family has agreed to share a considerable portion, around 30%, of the total amount, which translates to three million dollars, as a token of our gratitude. Your assistance would be invaluable in helping us navigate this intricate situation and find a more stable life for our family.\""
   ]
  },
  {
   "cell_type": "code",
   "execution_count": 146,
   "metadata": {
    "colab": {
     "base_uri": "https://localhost:8080/"
    },
    "id": "7FofpO08FRoj",
    "outputId": "5daae204-2531-4f0a-8ebf-29650215ce4c"
   },
   "outputs": [
    {
     "name": "stderr",
     "output_type": "stream",
     "text": [
      "<ipython-input-146-869f9316dbd2>:1: SettingWithCopyWarning: \n",
      "A value is trying to be set on a copy of a slice from a DataFrame\n",
      "\n",
      "See the caveats in the documentation: https://pandas.pydata.org/pandas-docs/stable/user_guide/indexing.html#returning-a-view-versus-a-copy\n",
      "  test_dataset_raw_gpt4['text'][258] = \"In the realm of 'xdc,' there exists an email message object denoted as 'emailmessagemessage.'\"\n"
     ]
    }
   ],
   "source": [
    "test_dataset_raw_gpt4['text'][258] = \"In the realm of 'xdc,' there exists an email message object denoted as 'emailmessagemessage.'\""
   ]
  },
  {
   "cell_type": "code",
   "execution_count": 148,
   "metadata": {
    "colab": {
     "base_uri": "https://localhost:8080/"
    },
    "id": "RsPXjmk-FRv0",
    "outputId": "b760833f-11b3-4c9f-8495-5b23248ed601"
   },
   "outputs": [
    {
     "name": "stderr",
     "output_type": "stream",
     "text": [
      "<ipython-input-148-b1fd2a45de1b>:1: SettingWithCopyWarning: \n",
      "A value is trying to be set on a copy of a slice from a DataFrame\n",
      "\n",
      "See the caveats in the documentation: https://pandas.pydata.org/pandas-docs/stable/user_guide/indexing.html#returning-a-view-versus-a-copy\n",
      "  test_dataset_raw_gpt4['text'][528] = \"In the context of 'xdfe,' a message entity known as 'emailmessagemessage object xdffa' exists.\"\n"
     ]
    }
   ],
   "source": [
    "test_dataset_raw_gpt4['text'][528] = \"In the context of 'xdfe,' a message entity known as 'emailmessagemessage object xdffa' exists.\""
   ]
  },
  {
   "cell_type": "code",
   "execution_count": 152,
   "metadata": {
    "colab": {
     "base_uri": "https://localhost:8080/"
    },
    "id": "5pb-ik96GLRP",
    "outputId": "133321e0-33a0-445d-d874-91e5b76db868"
   },
   "outputs": [
    {
     "name": "stderr",
     "output_type": "stream",
     "text": [
      "<ipython-input-152-973ba2239dbb>:1: SettingWithCopyWarning: \n",
      "A value is trying to be set on a copy of a slice from a DataFrame\n",
      "\n",
      "See the caveats in the documentation: https://pandas.pydata.org/pandas-docs/stable/user_guide/indexing.html#returning-a-view-versus-a-copy\n",
      "  test_dataset_raw_gpt4['text'][603] =\"I am writing to you from the office of Dr. Yinka Craige, a senior accountant at the Nigerian Liquified Natural Gas (NLNG) in Lagos. I have been tasked by my associates to seek a foreign partner capable of aiding us in the transfer of a significant amount totaling $27.5 million USD. This sum has resulted from a deliberate overinvoicing of a specific contract granted by our organization. My colleagues and I have collectively agreed that if you or your company can furnish an account for the funds' reception, the distribution will be as follows: 85% for our team here in Nigeria, including the involved officials, and 15% for you or your company that facilitates this endeavor. Your assistance in this matter would be greatly appreciated.\"\n"
     ]
    }
   ],
   "source": [
    "test_dataset_raw_gpt4['text'][603] =\"I am writing to you from the office of Dr. Yinka Craige, a senior accountant at the Nigerian Liquified Natural Gas (NLNG) in Lagos. I have been tasked by my associates to seek a foreign partner capable of aiding us in the transfer of a significant amount totaling $27.5 million USD. This sum has resulted from a deliberate overinvoicing of a specific contract granted by our organization. My colleagues and I have collectively agreed that if you or your company can furnish an account for the funds' reception, the distribution will be as follows: 85% for our team here in Nigeria, including the involved officials, and 15% for you or your company that facilitates this endeavor. Your assistance in this matter would be greatly appreciated.\""
   ]
  },
  {
   "cell_type": "code",
   "execution_count": 154,
   "metadata": {
    "colab": {
     "base_uri": "https://localhost:8080/"
    },
    "id": "rIQhqo-3GLWy",
    "outputId": "e39d25d9-bb73-4c93-a0f5-08533e01f395"
   },
   "outputs": [
    {
     "name": "stderr",
     "output_type": "stream",
     "text": [
      "<ipython-input-154-7cb353b5bef6>:1: SettingWithCopyWarning: \n",
      "A value is trying to be set on a copy of a slice from a DataFrame\n",
      "\n",
      "See the caveats in the documentation: https://pandas.pydata.org/pandas-docs/stable/user_guide/indexing.html#returning-a-view-versus-a-copy\n",
      "  test_dataset_raw_gpt4['text'][39] = \"emailmessagemessage object xde.\"\n"
     ]
    }
   ],
   "source": [
    "test_dataset_raw_gpt4['text'][39] = \"emailmessagemessage object xde.\""
   ]
  },
  {
   "cell_type": "code",
   "execution_count": 156,
   "metadata": {
    "colab": {
     "base_uri": "https://localhost:8080/"
    },
    "id": "h6jvHj5GGLb6",
    "outputId": "5f86f581-ff64-4e18-e112-c9bf45db39c7"
   },
   "outputs": [
    {
     "name": "stderr",
     "output_type": "stream",
     "text": [
      "<ipython-input-156-b96a3a2add7e>:1: SettingWithCopyWarning: \n",
      "A value is trying to be set on a copy of a slice from a DataFrame\n",
      "\n",
      "See the caveats in the documentation: https://pandas.pydata.org/pandas-docs/stable/user_guide/indexing.html#returning-a-view-versus-a-copy\n",
      "  test_dataset_raw_gpt4['text'][374] = \"Dear Friend, I hope this email finds you well. I am Dr. Ibrahim Usman, the Manager of the Bill and Exchange Department at the Bank of Africa (BOA) in Ouagadougou, Burkina Faso. I understand that this message might come as a surprise, but I am writing to you with a proposal that I believe could be of mutual benefit to both of our families. There is an urgent matter at hand involving the transfer of a substantial sum of money—millions—into an account. This money has been dormant in our bank for several years without any activity or claim from its owner, Joseph F. Grillo, a foreigner and the manager of a petrochemical service. Tragically, he lost his life as a victim of the September incident at the World Trade Center in the United States. Despite our efforts, we have been unable to locate his relatives to claim the funds. I am seeking your assistance in facilitating the transfer of this abandoned fund into the bank's treasury. Your involvement is essential, and I assure you that all proceedings will be handled discreetly and with utmost confidentiality. I kindly request your prompt response to this matter. For more information, you can verify the details on this website: [website link]. Thank you for considering this proposal, and I look forward to your positive response.\"\n"
     ]
    }
   ],
   "source": [
    "test_dataset_raw_gpt4['text'][374] = \"Dear Friend, I hope this email finds you well. I am Dr. Ibrahim Usman, the Manager of the Bill and Exchange Department at the Bank of Africa (BOA) in Ouagadougou, Burkina Faso. I understand that this message might come as a surprise, but I am writing to you with a proposal that I believe could be of mutual benefit to both of our families. There is an urgent matter at hand involving the transfer of a substantial sum of money—millions—into an account. This money has been dormant in our bank for several years without any activity or claim from its owner, Joseph F. Grillo, a foreigner and the manager of a petrochemical service. Tragically, he lost his life as a victim of the September incident at the World Trade Center in the United States. Despite our efforts, we have been unable to locate his relatives to claim the funds. I am seeking your assistance in facilitating the transfer of this abandoned fund into the bank's treasury. Your involvement is essential, and I assure you that all proceedings will be handled discreetly and with utmost confidentiality. I kindly request your prompt response to this matter. For more information, you can verify the details on this website: [website link]. Thank you for considering this proposal, and I look forward to your positive response.\""
   ]
  },
  {
   "cell_type": "code",
   "execution_count": 158,
   "metadata": {
    "colab": {
     "base_uri": "https://localhost:8080/"
    },
    "id": "5Yg7jyMQGLgK",
    "outputId": "0aff3635-61cf-4274-d942-f9c103e2b35c"
   },
   "outputs": [
    {
     "name": "stderr",
     "output_type": "stream",
     "text": [
      "<ipython-input-158-666488e0edbf>:1: SettingWithCopyWarning: \n",
      "A value is trying to be set on a copy of a slice from a DataFrame\n",
      "\n",
      "See the caveats in the documentation: https://pandas.pydata.org/pandas-docs/stable/user_guide/indexing.html#returning-a-view-versus-a-copy\n",
      "  test_dataset_raw_gpt4['text'][169] = \"Dear Sir/Madam, I hope this message finds you well. I am reaching out to you with a proposal that holds significant importance and urgency. I am Frani Korona, and I have experienced both joyful and challenging moments in life. My late brother, Abdul Korona Junior, and his 7-year-old daughter are no longer with us. We tragically lost our beloved father, Dr. Abdul Korona, who was a highly respected business figure and the Director General of the National Gold Diamond Mining Corporation in Sierra Leone. His sudden demise occurred during a business trip to Dublin under mysterious circumstances. While the circumstances surrounding his passing have raised suspicions of foul play orchestrated by an uncle who accompanied him, only divine knowledge holds the complete truth. The loss extended further with the passing of our mother, leaving me, aged 21, and my younger brother, 17, without parental guidance. Our father was caring and attentive, ensuring our needs were met. Before his untimely passing, he entrusted us with important documents and a sum of money that he had deposited with an overseas security company. This amount is secured within two trunk boxes that hold our family's cherished valuables and treasures. My brother, Paul John, stands as my only remaining family. This proposal carries immense significance, and I eagerly await your response.\"\n"
     ]
    }
   ],
   "source": [
    "test_dataset_raw_gpt4['text'][169] = \"Dear Sir/Madam, I hope this message finds you well. I am reaching out to you with a proposal that holds significant importance and urgency. I am Frani Korona, and I have experienced both joyful and challenging moments in life. My late brother, Abdul Korona Junior, and his 7-year-old daughter are no longer with us. We tragically lost our beloved father, Dr. Abdul Korona, who was a highly respected business figure and the Director General of the National Gold Diamond Mining Corporation in Sierra Leone. His sudden demise occurred during a business trip to Dublin under mysterious circumstances. While the circumstances surrounding his passing have raised suspicions of foul play orchestrated by an uncle who accompanied him, only divine knowledge holds the complete truth. The loss extended further with the passing of our mother, leaving me, aged 21, and my younger brother, 17, without parental guidance. Our father was caring and attentive, ensuring our needs were met. Before his untimely passing, he entrusted us with important documents and a sum of money that he had deposited with an overseas security company. This amount is secured within two trunk boxes that hold our family's cherished valuables and treasures. My brother, Paul John, stands as my only remaining family. This proposal carries immense significance, and I eagerly await your response.\""
   ]
  },
  {
   "cell_type": "code",
   "execution_count": 160,
   "metadata": {
    "colab": {
     "base_uri": "https://localhost:8080/"
    },
    "id": "d8C3EYYHGLlB",
    "outputId": "81a53b9e-1d44-4b78-96d5-9f3c539c32bc"
   },
   "outputs": [
    {
     "name": "stderr",
     "output_type": "stream",
     "text": [
      "<ipython-input-160-7063be200b04>:1: SettingWithCopyWarning: \n",
      "A value is trying to be set on a copy of a slice from a DataFrame\n",
      "\n",
      "See the caveats in the documentation: https://pandas.pydata.org/pandas-docs/stable/user_guide/indexing.html#returning-a-view-versus-a-copy\n",
      "  test_dataset_raw_gpt4['text'][614] = \"Hello, dear recipient. I understand that this email might be unexpected, and there could be a temptation to dismiss it as unserious. However, I sincerely request that you consider this message with genuine humility. I am Mr. Zeid Ahmadi, responsible for the Telex Computing Department at the Bank of Africa (BOA) in Ouagadougou, Burkina Faso, West Africa. With utmost respect, I have reached out to you to propose a business transaction that has the potential to be mutually beneficial. During an investigation and audit in our bank's department, we stumbled upon a significant sum of money that belonged to a deceased customer. This individual tragically passed away on July 15th in a motor accident, leaving behind a dormant account with considerable funds that have remained unclaimed by any family member or relation. This discovery has led me to contemplate a course of action that could yield profit for both parties involved. While I have maintained confidentiality regarding this information, I believe that your involvement could contribute to the successful execution of this plan. The total sum in question is $18.5 million USD, and I have been impressed by your credentials.\"\n"
     ]
    }
   ],
   "source": [
    "test_dataset_raw_gpt4['text'][614] = \"Hello, dear recipient. I understand that this email might be unexpected, and there could be a temptation to dismiss it as unserious. However, I sincerely request that you consider this message with genuine humility. I am Mr. Zeid Ahmadi, responsible for the Telex Computing Department at the Bank of Africa (BOA) in Ouagadougou, Burkina Faso, West Africa. With utmost respect, I have reached out to you to propose a business transaction that has the potential to be mutually beneficial. During an investigation and audit in our bank's department, we stumbled upon a significant sum of money that belonged to a deceased customer. This individual tragically passed away on July 15th in a motor accident, leaving behind a dormant account with considerable funds that have remained unclaimed by any family member or relation. This discovery has led me to contemplate a course of action that could yield profit for both parties involved. While I have maintained confidentiality regarding this information, I believe that your involvement could contribute to the successful execution of this plan. The total sum in question is $18.5 million USD, and I have been impressed by your credentials.\""
   ]
  },
  {
   "cell_type": "code",
   "execution_count": 162,
   "metadata": {
    "colab": {
     "base_uri": "https://localhost:8080/"
    },
    "id": "i1t7Yk0HGLp-",
    "outputId": "2a8c1474-3759-4a6f-fdc5-5c8419344387"
   },
   "outputs": [
    {
     "name": "stderr",
     "output_type": "stream",
     "text": [
      "<ipython-input-162-2d11a7688b4c>:1: SettingWithCopyWarning: \n",
      "A value is trying to be set on a copy of a slice from a DataFrame\n",
      "\n",
      "See the caveats in the documentation: https://pandas.pydata.org/pandas-docs/stable/user_guide/indexing.html#returning-a-view-versus-a-copy\n",
      "  test_dataset_raw_gpt4['text'][440] = \"Dear Friend, I understand that you may have encountered messages of this nature online, and they might have seemed like mere jokes or games. However, I urge you to take this seriously and provide an urgent response. I am Barrister Alexander Afadia, a solicitor and the personal attorney of Mr. Adams Kielar, a national of your country who was an expatriate contractor in the oil industry. Tragically, on April 1st, Mr. Kielar, along with his wife and three children, lost their lives in a car accident on the Sagamu-Lagos Express Road. Since the accident, I have made numerous efforts, including embassy inquiries, to locate any extended relatives of my late client, but all my attempts have been unsuccessful. In light of this, I turned to the internet to find a family member, and that is why I am reaching out to you. My goal is to seek your assistance in repatriating the money and property left behind by my late client before they are confiscated or declared unserviceable by the bank. He had substantial deposits, particularly in one specific bank, and the total value is significant. Your involvement could greatly aid in this process.\"\n"
     ]
    }
   ],
   "source": [
    "test_dataset_raw_gpt4['text'][440] = \"Dear Friend, I understand that you may have encountered messages of this nature online, and they might have seemed like mere jokes or games. However, I urge you to take this seriously and provide an urgent response. I am Barrister Alexander Afadia, a solicitor and the personal attorney of Mr. Adams Kielar, a national of your country who was an expatriate contractor in the oil industry. Tragically, on April 1st, Mr. Kielar, along with his wife and three children, lost their lives in a car accident on the Sagamu-Lagos Express Road. Since the accident, I have made numerous efforts, including embassy inquiries, to locate any extended relatives of my late client, but all my attempts have been unsuccessful. In light of this, I turned to the internet to find a family member, and that is why I am reaching out to you. My goal is to seek your assistance in repatriating the money and property left behind by my late client before they are confiscated or declared unserviceable by the bank. He had substantial deposits, particularly in one specific bank, and the total value is significant. Your involvement could greatly aid in this process.\""
   ]
  },
  {
   "cell_type": "code",
   "execution_count": 164,
   "metadata": {
    "colab": {
     "base_uri": "https://localhost:8080/"
    },
    "id": "5T9xGoGeGLvO",
    "outputId": "f839d957-3879-4886-e767-73a468a70bd9"
   },
   "outputs": [
    {
     "name": "stderr",
     "output_type": "stream",
     "text": [
      "<ipython-input-164-7033bc3e3da2>:1: SettingWithCopyWarning: \n",
      "A value is trying to be set on a copy of a slice from a DataFrame\n",
      "\n",
      "See the caveats in the documentation: https://pandas.pydata.org/pandas-docs/stable/user_guide/indexing.html#returning-a-view-versus-a-copy\n",
      "  test_dataset_raw_gpt4['text'][751]= \"A message entity labeled as emailmessagemessage object xdaf corresponds to emailmessagemessage object xdac.\"\n"
     ]
    }
   ],
   "source": [
    "test_dataset_raw_gpt4['text'][751]= \"A message entity labeled as emailmessagemessage object xdaf corresponds to emailmessagemessage object xdac.\"\n"
   ]
  },
  {
   "cell_type": "code",
   "execution_count": 166,
   "metadata": {
    "colab": {
     "base_uri": "https://localhost:8080/"
    },
    "id": "Oux0wknTGL1j",
    "outputId": "953a7225-a6c7-4538-bd72-81970a201151"
   },
   "outputs": [
    {
     "name": "stderr",
     "output_type": "stream",
     "text": [
      "<ipython-input-166-c1cbcaf13ee2>:1: SettingWithCopyWarning: \n",
      "A value is trying to be set on a copy of a slice from a DataFrame\n",
      "\n",
      "See the caveats in the documentation: https://pandas.pydata.org/pandas-docs/stable/user_guide/indexing.html#returning-a-view-versus-a-copy\n",
      "  test_dataset_raw_gpt4['text'][547] = \"Mr. Paul Wemba of Ellwood Crescent, Pretoria, can be contacted via email at p_webay@yahoo.co.in. I am Mr. Paul Wemba, the Chief Auditor at the African Development Bank (ADB). There is an account that has been established within our bank, but it has remained dormant without any activity. Upon reviewing old files and records, I have made a discovery that requires urgent attention. If no action is taken promptly, the funds within this account could be lost. It appears that nobody has operated on this account for quite some time. The implications are that either the bank's board of directors might gain access to these funds, which could eventually be classified as dormant and seized by the government's treasury during the forthcoming audit by national auditors. To prevent this outcome, I urgently need to remit the funds. It is my belief that the government's treasury will confiscate the funds if not claimed, and considering that individuals like you and I are involved, it is imperative that we act to secure these funds. The account belongs to the late Dr. B. D. Redo, a foreign miner associated with Kruger Gold Co and a professional geologist, who has since passed away. Nobody else has any knowledge of this account or its contents, and my investigation has confirmed that the company is unaware of its existence. The total amount involved is $10.5 million USD.\"\n"
     ]
    }
   ],
   "source": [
    "test_dataset_raw_gpt4['text'][547] = \"Mr. Paul Wemba of Ellwood Crescent, Pretoria, can be contacted via email at p_webay@yahoo.co.in. I am Mr. Paul Wemba, the Chief Auditor at the African Development Bank (ADB). There is an account that has been established within our bank, but it has remained dormant without any activity. Upon reviewing old files and records, I have made a discovery that requires urgent attention. If no action is taken promptly, the funds within this account could be lost. It appears that nobody has operated on this account for quite some time. The implications are that either the bank's board of directors might gain access to these funds, which could eventually be classified as dormant and seized by the government's treasury during the forthcoming audit by national auditors. To prevent this outcome, I urgently need to remit the funds. It is my belief that the government's treasury will confiscate the funds if not claimed, and considering that individuals like you and I are involved, it is imperative that we act to secure these funds. The account belongs to the late Dr. B. D. Redo, a foreign miner associated with Kruger Gold Co and a professional geologist, who has since passed away. Nobody else has any knowledge of this account or its contents, and my investigation has confirmed that the company is unaware of its existence. The total amount involved is $10.5 million USD.\""
   ]
  },
  {
   "cell_type": "code",
   "execution_count": 169,
   "metadata": {
    "colab": {
     "base_uri": "https://localhost:8080/"
    },
    "id": "VpRZiqBLH1MF",
    "outputId": "c9f817bb-302e-4863-f84f-42301694010f"
   },
   "outputs": [
    {
     "name": "stderr",
     "output_type": "stream",
     "text": [
      "<ipython-input-169-4196334444e8>:1: SettingWithCopyWarning: \n",
      "A value is trying to be set on a copy of a slice from a DataFrame\n",
      "\n",
      "See the caveats in the documentation: https://pandas.pydata.org/pandas-docs/stable/user_guide/indexing.html#returning-a-view-versus-a-copy\n",
      "  test_dataset_raw_gpt4['text'][168] = \"From the office of Dr. Dan Kabo, Accountant General of the Nigerian Liquefied Natural Gas (NLNG), I am writing to you with a business proposal that I sincerely believe holds genuine potential, despite the possibility that you may have encountered similar propositions in the past. I am approaching you in my capacity as the Chief Accountant, with full endorsement from the Auditor General of the Nigerian Liquefied Natural Gas Company (NLNG). Following an internal audit conducted after the close of the third quarter, a revelation has come to light. This disclosure pertains to the sum of $32 million USD, which has been unearthed from the records of executed contracts awarded by NLNG since the inception of democracy in Nigeria. Notably, NLNG has scaled its operations to a significant working asset worth $3 billion USD in the current civilian dispensation, with a projected completion cost of $2 billion USD for the final phase. Importantly, this $32 million USD has been authorized for payment by NLNG and endorsed by the Federal Ministry of Finance, with the Accountant General of the Federation overseeing the payment through the apex bank.\"\n"
     ]
    }
   ],
   "source": [
    "test_dataset_raw_gpt4['text'][168] = \"From the office of Dr. Dan Kabo, Accountant General of the Nigerian Liquefied Natural Gas (NLNG), I am writing to you with a business proposal that I sincerely believe holds genuine potential, despite the possibility that you may have encountered similar propositions in the past. I am approaching you in my capacity as the Chief Accountant, with full endorsement from the Auditor General of the Nigerian Liquefied Natural Gas Company (NLNG). Following an internal audit conducted after the close of the third quarter, a revelation has come to light. This disclosure pertains to the sum of $32 million USD, which has been unearthed from the records of executed contracts awarded by NLNG since the inception of democracy in Nigeria. Notably, NLNG has scaled its operations to a significant working asset worth $3 billion USD in the current civilian dispensation, with a projected completion cost of $2 billion USD for the final phase. Importantly, this $32 million USD has been authorized for payment by NLNG and endorsed by the Federal Ministry of Finance, with the Accountant General of the Federation overseeing the payment through the apex bank.\"\n"
   ]
  },
  {
   "cell_type": "code",
   "execution_count": 171,
   "metadata": {
    "colab": {
     "base_uri": "https://localhost:8080/"
    },
    "id": "9jWXW-UQH1SE",
    "outputId": "07a7835c-d49e-4f1f-c59f-f7600ca54503"
   },
   "outputs": [
    {
     "name": "stderr",
     "output_type": "stream",
     "text": [
      "<ipython-input-171-ef7e3b9ce9b1>:1: SettingWithCopyWarning: \n",
      "A value is trying to be set on a copy of a slice from a DataFrame\n",
      "\n",
      "See the caveats in the documentation: https://pandas.pydata.org/pandas-docs/stable/user_guide/indexing.html#returning-a-view-versus-a-copy\n",
      "  test_dataset_raw_gpt4['text'][159] =\"The message entity denoted as emailmessagemessage object xdd can be equivalently expressed as emailmessagemessage object xdc.\"\n"
     ]
    }
   ],
   "source": [
    "test_dataset_raw_gpt4['text'][159] =\"The message entity denoted as emailmessagemessage object xdd can be equivalently expressed as emailmessagemessage object xdc.\""
   ]
  },
  {
   "cell_type": "code",
   "execution_count": 173,
   "metadata": {
    "colab": {
     "base_uri": "https://localhost:8080/"
    },
    "id": "hpSgVsqIH1Xz",
    "outputId": "ea1b0680-82f0-45cd-bda0-bf847933f45e"
   },
   "outputs": [
    {
     "name": "stderr",
     "output_type": "stream",
     "text": [
      "<ipython-input-173-5238ba42e5e4>:1: SettingWithCopyWarning: \n",
      "A value is trying to be set on a copy of a slice from a DataFrame\n",
      "\n",
      "See the caveats in the documentation: https://pandas.pydata.org/pandas-docs/stable/user_guide/indexing.html#returning-a-view-versus-a-copy\n",
      "  test_dataset_raw_gpt4['text'][719] = \"Attention: The Managing Director,Allow me to introduce myself as Mrs. Amina Eabello, an Iraqi refugee. Following recent events, my husband, who was once a personal aide to the former President of Iraq before the American government's intervention, has unfortunately passed away. Amidst the ongoing crisis that has engulfed our country, I find myself in the position of seeking refuge in Thailand. I wish to share that we have inherited a substantial sum of $7 million USD from my late husband's endeavors. This fund was originally obtained during his tenure as a personal aide to the President, and it has been safeguarded through diplomatic channels. Now residing in Thailand, I am reaching out to you with the intention of seeking guidance on making a prudent investment in a business-friendly environment. Additionally, I am interested in purchasing a residential property as I plan to relocate my family in the near future. I kindly request your expert assistance in ensuring that all technical and logistical aspects are meticulously addressed to our satisfaction. Your insights and support are invaluable, and I look forward to your guidance in this endeavor.\"\n"
     ]
    }
   ],
   "source": [
    "test_dataset_raw_gpt4['text'][719] = \"Attention: The Managing Director,Allow me to introduce myself as Mrs. Amina Eabello, an Iraqi refugee. Following recent events, my husband, who was once a personal aide to the former President of Iraq before the American government's intervention, has unfortunately passed away. Amidst the ongoing crisis that has engulfed our country, I find myself in the position of seeking refuge in Thailand. I wish to share that we have inherited a substantial sum of $7 million USD from my late husband's endeavors. This fund was originally obtained during his tenure as a personal aide to the President, and it has been safeguarded through diplomatic channels. Now residing in Thailand, I am reaching out to you with the intention of seeking guidance on making a prudent investment in a business-friendly environment. Additionally, I am interested in purchasing a residential property as I plan to relocate my family in the near future. I kindly request your expert assistance in ensuring that all technical and logistical aspects are meticulously addressed to our satisfaction. Your insights and support are invaluable, and I look forward to your guidance in this endeavor.\""
   ]
  },
  {
   "cell_type": "code",
   "execution_count": 175,
   "metadata": {
    "colab": {
     "base_uri": "https://localhost:8080/"
    },
    "id": "wWIZEbbWH1dn",
    "outputId": "0404fbf9-323d-48e4-acc3-5cd3fd6bba86"
   },
   "outputs": [
    {
     "name": "stderr",
     "output_type": "stream",
     "text": [
      "<ipython-input-175-9a13e3063b6a>:1: SettingWithCopyWarning: \n",
      "A value is trying to be set on a copy of a slice from a DataFrame\n",
      "\n",
      "See the caveats in the documentation: https://pandas.pydata.org/pandas-docs/stable/user_guide/indexing.html#returning-a-view-versus-a-copy\n",
      "  test_dataset_raw_gpt4['text'][548]=\"Dear Sir/Madam,Greetings. I am reaching out to you with a request for your confidence in a transaction that I am proposing. I understand that the sensitive nature and potential scale of this transaction might raise concerns, but I assure you of its confidentiality and successful outcome. Urgency has prompted me to contact you, and I trust in your discretion and capability to manage a matter of utmost importance. Allow me to properly introduce myself: I am Mr. Mike Charles Kobic, the son of the late Cole Johnson Kobi, who served as the Assistant Chief of the General Staff for Sierra Leone's Revolutionary United Front (RUF). I also hold the title of Crown Prince in the Kuloma village of the South West District in Sierra Leone. My father tragically passed away on August 11th, due to circumstances related to the war in our country. My purpose in reaching out to you is because I have conducted a private search on the internet to find a reliable and reputable individual who can handle a confidential transaction that involves the transfer of a substantial sum of money.\"\n"
     ]
    }
   ],
   "source": [
    "test_dataset_raw_gpt4['text'][548]=\"Dear Sir/Madam,Greetings. I am reaching out to you with a request for your confidence in a transaction that I am proposing. I understand that the sensitive nature and potential scale of this transaction might raise concerns, but I assure you of its confidentiality and successful outcome. Urgency has prompted me to contact you, and I trust in your discretion and capability to manage a matter of utmost importance. Allow me to properly introduce myself: I am Mr. Mike Charles Kobic, the son of the late Cole Johnson Kobi, who served as the Assistant Chief of the General Staff for Sierra Leone's Revolutionary United Front (RUF). I also hold the title of Crown Prince in the Kuloma village of the South West District in Sierra Leone. My father tragically passed away on August 11th, due to circumstances related to the war in our country. My purpose in reaching out to you is because I have conducted a private search on the internet to find a reliable and reputable individual who can handle a confidential transaction that involves the transfer of a substantial sum of money.\""
   ]
  },
  {
   "cell_type": "code",
   "execution_count": 177,
   "metadata": {
    "colab": {
     "base_uri": "https://localhost:8080/"
    },
    "id": "oUpcUjg0I91e",
    "outputId": "e82445f5-dc39-42bb-8f21-4ff372f717c2"
   },
   "outputs": [
    {
     "name": "stderr",
     "output_type": "stream",
     "text": [
      "<ipython-input-177-96637cc5b2e5>:1: SettingWithCopyWarning: \n",
      "A value is trying to be set on a copy of a slice from a DataFrame\n",
      "\n",
      "See the caveats in the documentation: https://pandas.pydata.org/pandas-docs/stable/user_guide/indexing.html#returning-a-view-versus-a-copy\n",
      "  test_dataset_raw_gpt4['text'][82] = \"Dear Sir/Madam,I extend my apologies for utilizing your valuable time, but I consider it imperative to introduce a business proposal that I believe could prove mutually beneficial. As the first son of the late Chief Ken Saro Wiwa, a prominent environmental activist, writer, publisher, and business leader in the oil-producing community of Ogoni Land within the Niger Delta region of Nigeria, I am reaching out. My father was not only the President and Founder of the Movement for the Survival of the Ogoni People (MOSOP), a nonviolent advocacy group, but also a crucial figure in the fight for the rights of the Ogoni people and their land's resources. His demise occurred through a hanging under the military regime of President General Sani Abacha, who he was actively opposing. Prior to his untimely death, my father was well aware of the precarious situation he was in and, as such, he crafted a will that specifically outlined his stocks, bonds, properties, and funds – assets that rightfully belong to me. However, his personal legal advisor, Mr. Briggs, conspired with the government, leading to the confiscation of my father's fixed assets and the freezing of his accounts.\"\n"
     ]
    }
   ],
   "source": [
    "test_dataset_raw_gpt4['text'][82] = \"Dear Sir/Madam,I extend my apologies for utilizing your valuable time, but I consider it imperative to introduce a business proposal that I believe could prove mutually beneficial. As the first son of the late Chief Ken Saro Wiwa, a prominent environmental activist, writer, publisher, and business leader in the oil-producing community of Ogoni Land within the Niger Delta region of Nigeria, I am reaching out. My father was not only the President and Founder of the Movement for the Survival of the Ogoni People (MOSOP), a nonviolent advocacy group, but also a crucial figure in the fight for the rights of the Ogoni people and their land's resources. His demise occurred through a hanging under the military regime of President General Sani Abacha, who he was actively opposing. Prior to his untimely death, my father was well aware of the precarious situation he was in and, as such, he crafted a will that specifically outlined his stocks, bonds, properties, and funds – assets that rightfully belong to me. However, his personal legal advisor, Mr. Briggs, conspired with the government, leading to the confiscation of my father's fixed assets and the freezing of his accounts.\""
   ]
  },
  {
   "cell_type": "code",
   "execution_count": 179,
   "metadata": {
    "colab": {
     "base_uri": "https://localhost:8080/"
    },
    "id": "rmipl6dXI96B",
    "outputId": "09d519ce-2a82-4c1a-f60c-bdd826e6fd50"
   },
   "outputs": [
    {
     "name": "stderr",
     "output_type": "stream",
     "text": [
      "<ipython-input-179-772c3a31efd9>:1: SettingWithCopyWarning: \n",
      "A value is trying to be set on a copy of a slice from a DataFrame\n",
      "\n",
      "See the caveats in the documentation: https://pandas.pydata.org/pandas-docs/stable/user_guide/indexing.html#returning-a-view-versus-a-copy\n",
      "  test_dataset_raw_gpt4['text'][402] = \"The phrase emailmessagemessage object xcffdf can be rephrased as a message entity labeled as xcffdf.\"\n"
     ]
    }
   ],
   "source": [
    "test_dataset_raw_gpt4['text'][402] = \"The phrase emailmessagemessage object xcffdf can be rephrased as a message entity labeled as xcffdf.\""
   ]
  },
  {
   "cell_type": "code",
   "execution_count": 181,
   "metadata": {
    "colab": {
     "base_uri": "https://localhost:8080/"
    },
    "id": "--za3x0DI9-Y",
    "outputId": "8f4443f7-bf90-4539-fca6-5fc653b5b02f"
   },
   "outputs": [
    {
     "name": "stderr",
     "output_type": "stream",
     "text": [
      "<ipython-input-181-b068aaea0554>:1: SettingWithCopyWarning: \n",
      "A value is trying to be set on a copy of a slice from a DataFrame\n",
      "\n",
      "See the caveats in the documentation: https://pandas.pydata.org/pandas-docs/stable/user_guide/indexing.html#returning-a-view-versus-a-copy\n",
      "  test_dataset_raw_gpt4['text'][665] = \"Greetings, I am Rabi Al Salih, the wife of Mohammed Mahdi Al Salih, the former Iraqi Minister of Interior Affairs. I came across your email address while searching the internet for a reliable person who could assist my family. I believe you might be able to offer the help we need. My husband was captured by US forces in April and is currently imprisoned, facing trial on charges of terrorism, corruption, embezzlement, and the mysterious charge of plunder, which carries the risk of a death sentence. During his time as the Minister of Interior, I realized a substantial amount of money from various successful deals. My intention was to invest this money for the future of our children, focusing on real estate and industrial production. While my husband was in power, I discreetly siphoned a sum of $10 million USD from Iraq and deposited it with a security firm that specializes in transporting valuable goods through diplomatic channels. I also declared this consignment as solid gold, belonging to a foreign business partner. I am reaching out to you because I am seeking assistance in safeguarding these funds and ensuring our family's security in this difficult time.\"\n"
     ]
    }
   ],
   "source": [
    "test_dataset_raw_gpt4['text'][665] = \"Greetings, I am Rabi Al Salih, the wife of Mohammed Mahdi Al Salih, the former Iraqi Minister of Interior Affairs. I came across your email address while searching the internet for a reliable person who could assist my family. I believe you might be able to offer the help we need. My husband was captured by US forces in April and is currently imprisoned, facing trial on charges of terrorism, corruption, embezzlement, and the mysterious charge of plunder, which carries the risk of a death sentence. During his time as the Minister of Interior, I realized a substantial amount of money from various successful deals. My intention was to invest this money for the future of our children, focusing on real estate and industrial production. While my husband was in power, I discreetly siphoned a sum of $10 million USD from Iraq and deposited it with a security firm that specializes in transporting valuable goods through diplomatic channels. I also declared this consignment as solid gold, belonging to a foreign business partner. I am reaching out to you because I am seeking assistance in safeguarding these funds and ensuring our family's security in this difficult time.\""
   ]
  },
  {
   "cell_type": "code",
   "execution_count": 183,
   "metadata": {
    "colab": {
     "base_uri": "https://localhost:8080/"
    },
    "id": "qgRaTScrI-CA",
    "outputId": "d163fb7d-13b1-4d25-cc6e-f2a3e6466d04"
   },
   "outputs": [
    {
     "name": "stderr",
     "output_type": "stream",
     "text": [
      "<ipython-input-183-293f8b845a40>:1: SettingWithCopyWarning: \n",
      "A value is trying to be set on a copy of a slice from a DataFrame\n",
      "\n",
      "See the caveats in the documentation: https://pandas.pydata.org/pandas-docs/stable/user_guide/indexing.html#returning-a-view-versus-a-copy\n",
      "  test_dataset_raw_gpt4['text'][4] =\"The phrase emailmessagemessage object xcffdbe can be rephrased as a message entity identified as xcffdbe.\"\n"
     ]
    }
   ],
   "source": [
    "test_dataset_raw_gpt4['text'][4] =\"The phrase emailmessagemessage object xcffdbe can be rephrased as a message entity identified as xcffdbe.\""
   ]
  },
  {
   "cell_type": "code",
   "execution_count": 185,
   "metadata": {
    "colab": {
     "base_uri": "https://localhost:8080/"
    },
    "id": "tA4aaGY7H1jm",
    "outputId": "e09d6ed7-1f3f-4577-b4e7-c50d9cf92e24"
   },
   "outputs": [
    {
     "name": "stderr",
     "output_type": "stream",
     "text": [
      "<ipython-input-185-a433a2cfd3b6>:1: SettingWithCopyWarning: \n",
      "A value is trying to be set on a copy of a slice from a DataFrame\n",
      "\n",
      "See the caveats in the documentation: https://pandas.pydata.org/pandas-docs/stable/user_guide/indexing.html#returning-a-view-versus-a-copy\n",
      "  test_dataset_raw_gpt4['text'][38] = \"From Nicholas Mavis in Abidjan, Ivory Coast, using a private email address nicholasfmavis@yahoo.eco.jp, I am making an earnest appeal for your urgent assistance. With all due respect, I believe that with the divine's grace, it's possible for me to reach out for help. Kindly allow me to express my desire for establishing a business relationship with you. I am Nicholas Mavis, the son of the late Mavis Radcic. My father was a prosperous cocoa merchant in Abidjan, the economic capital of Ivory Coast. Unfortunately, my father was poisoned to death by his business associates during an outing on the first day of January while celebrating the New Year. Tragedy further struck as my mother passed away when I was still an infant. My father had taken special care of me before his demise. On his deathbed in January, within a private hospital in Abidjan, he confided in me about a sum of $12 million USD that he had discreetly left in a suspense account at a prime bank in Abidjan. He used my name as his son and next of kin to deposit these funds. He also expressed his wish for me to find a trustworthy foreign partner who could assist in moving these funds abroad for investment purposes.\"\n"
     ]
    }
   ],
   "source": [
    "test_dataset_raw_gpt4['text'][38] = \"From Nicholas Mavis in Abidjan, Ivory Coast, using a private email address nicholasfmavis@yahoo.eco.jp, I am making an earnest appeal for your urgent assistance. With all due respect, I believe that with the divine's grace, it's possible for me to reach out for help. Kindly allow me to express my desire for establishing a business relationship with you. I am Nicholas Mavis, the son of the late Mavis Radcic. My father was a prosperous cocoa merchant in Abidjan, the economic capital of Ivory Coast. Unfortunately, my father was poisoned to death by his business associates during an outing on the first day of January while celebrating the New Year. Tragedy further struck as my mother passed away when I was still an infant. My father had taken special care of me before his demise. On his deathbed in January, within a private hospital in Abidjan, he confided in me about a sum of $12 million USD that he had discreetly left in a suspense account at a prime bank in Abidjan. He used my name as his son and next of kin to deposit these funds. He also expressed his wish for me to find a trustworthy foreign partner who could assist in moving these funds abroad for investment purposes.\""
   ]
  },
  {
   "cell_type": "code",
   "execution_count": 187,
   "metadata": {
    "colab": {
     "base_uri": "https://localhost:8080/"
    },
    "id": "BScSgI2yH1oZ",
    "outputId": "97bab38d-b890-469c-b97f-a96617db45fd"
   },
   "outputs": [
    {
     "name": "stderr",
     "output_type": "stream",
     "text": [
      "<ipython-input-187-445ee67ac9bf>:1: SettingWithCopyWarning: \n",
      "A value is trying to be set on a copy of a slice from a DataFrame\n",
      "\n",
      "See the caveats in the documentation: https://pandas.pydata.org/pandas-docs/stable/user_guide/indexing.html#returning-a-view-versus-a-copy\n",
      "  test_dataset_raw_gpt4['text'][526] = \"Dear Friend,Greetings to you. I hope this message finds you well. I am reaching out with a request that holds immense potential benefit for both of us. As an executor of wills, you might understand the situations that arise in which we are tempted to make fortunes for our clients. Unfortunately, circumstances often leave us with limited options. The matter I am presenting pertains to a unique case involving a client who willed a significant fortune to a next of kin. However, tragically, this individual passed away on the same day as the October 1st incident involving an Egyptian airline carrying passengers. You can verify this from the news published on the BBC World News website: http://news.bbc.co.uk/hi/world/americas/6650315.stm. The challenge I am facing is how to handle this fortune. According to English law, if nobody comes forward as the next of kin within seven years of the benefactor's demise, the fortune is supposed to be bequeathed to the government. In light of this, I am contacting you to propose that you act as the beneficiary and lay claim to this legacy of millions that my deceased client had bequeathed to their next of kin. At this point, I am the sole individual who is aware of this situation.\"\n"
     ]
    }
   ],
   "source": [
    "test_dataset_raw_gpt4['text'][526] = \"Dear Friend,Greetings to you. I hope this message finds you well. I am reaching out with a request that holds immense potential benefit for both of us. As an executor of wills, you might understand the situations that arise in which we are tempted to make fortunes for our clients. Unfortunately, circumstances often leave us with limited options. The matter I am presenting pertains to a unique case involving a client who willed a significant fortune to a next of kin. However, tragically, this individual passed away on the same day as the October 1st incident involving an Egyptian airline carrying passengers. You can verify this from the news published on the BBC World News website: http://news.bbc.co.uk/hi/world/americas/6650315.stm. The challenge I am facing is how to handle this fortune. According to English law, if nobody comes forward as the next of kin within seven years of the benefactor's demise, the fortune is supposed to be bequeathed to the government. In light of this, I am contacting you to propose that you act as the beneficiary and lay claim to this legacy of millions that my deceased client had bequeathed to their next of kin. At this point, I am the sole individual who is aware of this situation.\""
   ]
  },
  {
   "cell_type": "code",
   "execution_count": 190,
   "metadata": {
    "colab": {
     "base_uri": "https://localhost:8080/"
    },
    "id": "vVmX8GxjH1-S",
    "outputId": "9334dd0a-9cd8-4642-8096-1c556494f652"
   },
   "outputs": [
    {
     "name": "stderr",
     "output_type": "stream",
     "text": [
      "<ipython-input-190-2fff7992e574>:1: SettingWithCopyWarning: \n",
      "A value is trying to be set on a copy of a slice from a DataFrame\n",
      "\n",
      "See the caveats in the documentation: https://pandas.pydata.org/pandas-docs/stable/user_guide/indexing.html#returning-a-view-versus-a-copy\n",
      "  test_dataset_raw_gpt4['text'][35] = \"Dear Friend, I sincerely apologize for any past efforts you might have made to assist me. I am pleased to inform you that I have successfully managed to facilitate the transfer of funds with the cooperation of a new partner from Chile. You can contact the secretary in Cotonou, Benin, for further instructions on my behalf. His name is Davide Marks, and his email is davide_marks@myway.com. Please take note of the required information that you need to provide to my secretary: your full names, your residential address, your direct cellphone number, and your home phone, along with a fax if applicable. Currently, I am occupied with investment projects in Chile with my new partner, so please don't hesitate to get in touch with Mr. Davide Marks. He will ensure the prompt dispatch of the bank draft. Please accept my regards, and kindly note that this email was sent via http://webmail.zoom.co.uk.Warm regards,Barr Ahmed Abdulaziz\"\n"
     ]
    }
   ],
   "source": [
    "test_dataset_raw_gpt4['text'][35] = \"Dear Friend, I sincerely apologize for any past efforts you might have made to assist me. I am pleased to inform you that I have successfully managed to facilitate the transfer of funds with the cooperation of a new partner from Chile. You can contact the secretary in Cotonou, Benin, for further instructions on my behalf. His name is Davide Marks, and his email is davide_marks@myway.com. Please take note of the required information that you need to provide to my secretary: your full names, your residential address, your direct cellphone number, and your home phone, along with a fax if applicable. Currently, I am occupied with investment projects in Chile with my new partner, so please don't hesitate to get in touch with Mr. Davide Marks. He will ensure the prompt dispatch of the bank draft. Please accept my regards, and kindly note that this email was sent via http://webmail.zoom.co.uk.Warm regards,Barr Ahmed Abdulaziz\""
   ]
  },
  {
   "cell_type": "code",
   "execution_count": 192,
   "metadata": {
    "colab": {
     "base_uri": "https://localhost:8080/"
    },
    "id": "Zc8V-QBIKRIx",
    "outputId": "fcc7a8f1-9f81-4792-c527-5f17b085d807"
   },
   "outputs": [
    {
     "name": "stderr",
     "output_type": "stream",
     "text": [
      "<ipython-input-192-15bd9b6d388a>:1: SettingWithCopyWarning: \n",
      "A value is trying to be set on a copy of a slice from a DataFrame\n",
      "\n",
      "See the caveats in the documentation: https://pandas.pydata.org/pandas-docs/stable/user_guide/indexing.html#returning-a-view-versus-a-copy\n",
      "  test_dataset_raw_gpt4['text'][734] = \"From: Dr. Charak Head of Department Bank of Scotland United Kingdom Contact me privately through this email address: charakroultwell_bankofscotlandlatinmail.comDear Partner,I am reaching out in pursuit of a significant business transaction that entails transferring fifteen million pounds sterling from our bank in London. In seeking a trustworthy individual, I am convinced that your reliability and honesty make you suitable for this endeavor. I have confidence that you will prove your commitment, not only now but also in the future. The account holder, Mr. John Hughes, was a foreigner and the manager of a petrol chemical service in London. He was a chemical engineer by profession and has since passed away. Given that there are no other beneficiaries for this account and my investigation revealed that his company is unaware of the account, I intend to transfer the funds into a secure foreign account abroad. Although we are not acquainted, I am confident that this proposal is legitimate and sincere. Your participation in this investment is highly appreciated. To facilitate communication, kindly provide your full contact address and send me your full name.Best regards,Dr. Chara\"\n"
     ]
    }
   ],
   "source": [
    "test_dataset_raw_gpt4['text'][734] = \"From: Dr. Charak Head of Department Bank of Scotland United Kingdom Contact me privately through this email address: charakroultwell_bankofscotlandlatinmail.comDear Partner,I am reaching out in pursuit of a significant business transaction that entails transferring fifteen million pounds sterling from our bank in London. In seeking a trustworthy individual, I am convinced that your reliability and honesty make you suitable for this endeavor. I have confidence that you will prove your commitment, not only now but also in the future. The account holder, Mr. John Hughes, was a foreigner and the manager of a petrol chemical service in London. He was a chemical engineer by profession and has since passed away. Given that there are no other beneficiaries for this account and my investigation revealed that his company is unaware of the account, I intend to transfer the funds into a secure foreign account abroad. Although we are not acquainted, I am confident that this proposal is legitimate and sincere. Your participation in this investment is highly appreciated. To facilitate communication, kindly provide your full contact address and send me your full name.Best regards,Dr. Chara\""
   ]
  },
  {
   "cell_type": "code",
   "execution_count": 193,
   "metadata": {
    "colab": {
     "base_uri": "https://localhost:8080/",
     "height": 206
    },
    "id": "mi-e4DaCOJNT",
    "outputId": "a65e6b74-a2b5-4d08-f147-286a65a1077f"
   },
   "outputs": [
    {
     "data": {
      "text/html": [
       "\n",
       "  <div id=\"df-be77fadc-0fb2-4693-8359-b99b6bee33b2\" class=\"colab-df-container\">\n",
       "    <div>\n",
       "<style scoped>\n",
       "    .dataframe tbody tr th:only-of-type {\n",
       "        vertical-align: middle;\n",
       "    }\n",
       "\n",
       "    .dataframe tbody tr th {\n",
       "        vertical-align: top;\n",
       "    }\n",
       "\n",
       "    .dataframe thead th {\n",
       "        text-align: right;\n",
       "    }\n",
       "</style>\n",
       "<table border=\"1\" class=\"dataframe\">\n",
       "  <thead>\n",
       "    <tr style=\"text-align: right;\">\n",
       "      <th></th>\n",
       "      <th>text</th>\n",
       "      <th>target</th>\n",
       "    </tr>\n",
       "  </thead>\n",
       "  <tbody>\n",
       "    <tr>\n",
       "      <th>532</th>\n",
       "      <td>A message object named 'emailmessagemessage' w...</td>\n",
       "      <td>1</td>\n",
       "    </tr>\n",
       "    <tr>\n",
       "      <th>120</th>\n",
       "      <td>My name is Aishatu Ahmed. Following a family c...</td>\n",
       "      <td>1</td>\n",
       "    </tr>\n",
       "    <tr>\n",
       "      <th>85</th>\n",
       "      <td>I am reaching out to you with a matter of utmo...</td>\n",
       "      <td>1</td>\n",
       "    </tr>\n",
       "    <tr>\n",
       "      <th>258</th>\n",
       "      <td>In the realm of 'xdc,' there exists an email m...</td>\n",
       "      <td>1</td>\n",
       "    </tr>\n",
       "    <tr>\n",
       "      <th>528</th>\n",
       "      <td>In the context of 'xdfe,' a message entity kno...</td>\n",
       "      <td>1</td>\n",
       "    </tr>\n",
       "  </tbody>\n",
       "</table>\n",
       "</div>\n",
       "    <div class=\"colab-df-buttons\">\n",
       "\n",
       "  <div class=\"colab-df-container\">\n",
       "    <button class=\"colab-df-convert\" onclick=\"convertToInteractive('df-be77fadc-0fb2-4693-8359-b99b6bee33b2')\"\n",
       "            title=\"Convert this dataframe to an interactive table.\"\n",
       "            style=\"display:none;\">\n",
       "\n",
       "  <svg xmlns=\"http://www.w3.org/2000/svg\" height=\"24px\" viewBox=\"0 -960 960 960\">\n",
       "    <path d=\"M120-120v-720h720v720H120Zm60-500h600v-160H180v160Zm220 220h160v-160H400v160Zm0 220h160v-160H400v160ZM180-400h160v-160H180v160Zm440 0h160v-160H620v160ZM180-180h160v-160H180v160Zm440 0h160v-160H620v160Z\"/>\n",
       "  </svg>\n",
       "    </button>\n",
       "\n",
       "  <style>\n",
       "    .colab-df-container {\n",
       "      display:flex;\n",
       "      gap: 12px;\n",
       "    }\n",
       "\n",
       "    .colab-df-convert {\n",
       "      background-color: #E8F0FE;\n",
       "      border: none;\n",
       "      border-radius: 50%;\n",
       "      cursor: pointer;\n",
       "      display: none;\n",
       "      fill: #1967D2;\n",
       "      height: 32px;\n",
       "      padding: 0 0 0 0;\n",
       "      width: 32px;\n",
       "    }\n",
       "\n",
       "    .colab-df-convert:hover {\n",
       "      background-color: #E2EBFA;\n",
       "      box-shadow: 0px 1px 2px rgba(60, 64, 67, 0.3), 0px 1px 3px 1px rgba(60, 64, 67, 0.15);\n",
       "      fill: #174EA6;\n",
       "    }\n",
       "\n",
       "    .colab-df-buttons div {\n",
       "      margin-bottom: 4px;\n",
       "    }\n",
       "\n",
       "    [theme=dark] .colab-df-convert {\n",
       "      background-color: #3B4455;\n",
       "      fill: #D2E3FC;\n",
       "    }\n",
       "\n",
       "    [theme=dark] .colab-df-convert:hover {\n",
       "      background-color: #434B5C;\n",
       "      box-shadow: 0px 1px 3px 1px rgba(0, 0, 0, 0.15);\n",
       "      filter: drop-shadow(0px 1px 2px rgba(0, 0, 0, 0.3));\n",
       "      fill: #FFFFFF;\n",
       "    }\n",
       "  </style>\n",
       "\n",
       "    <script>\n",
       "      const buttonEl =\n",
       "        document.querySelector('#df-be77fadc-0fb2-4693-8359-b99b6bee33b2 button.colab-df-convert');\n",
       "      buttonEl.style.display =\n",
       "        google.colab.kernel.accessAllowed ? 'block' : 'none';\n",
       "\n",
       "      async function convertToInteractive(key) {\n",
       "        const element = document.querySelector('#df-be77fadc-0fb2-4693-8359-b99b6bee33b2');\n",
       "        const dataTable =\n",
       "          await google.colab.kernel.invokeFunction('convertToInteractive',\n",
       "                                                    [key], {});\n",
       "        if (!dataTable) return;\n",
       "\n",
       "        const docLinkHtml = 'Like what you see? Visit the ' +\n",
       "          '<a target=\"_blank\" href=https://colab.research.google.com/notebooks/data_table.ipynb>data table notebook</a>'\n",
       "          + ' to learn more about interactive tables.';\n",
       "        element.innerHTML = '';\n",
       "        dataTable['output_type'] = 'display_data';\n",
       "        await google.colab.output.renderOutput(dataTable, element);\n",
       "        const docLink = document.createElement('div');\n",
       "        docLink.innerHTML = docLinkHtml;\n",
       "        element.appendChild(docLink);\n",
       "      }\n",
       "    </script>\n",
       "  </div>\n",
       "\n",
       "\n",
       "<div id=\"df-ca04ae0c-8317-4b4c-81fb-ef1226d82748\">\n",
       "  <button class=\"colab-df-quickchart\" onclick=\"quickchart('df-ca04ae0c-8317-4b4c-81fb-ef1226d82748')\"\n",
       "            title=\"Suggest charts.\"\n",
       "            style=\"display:none;\">\n",
       "\n",
       "<svg xmlns=\"http://www.w3.org/2000/svg\" height=\"24px\"viewBox=\"0 0 24 24\"\n",
       "     width=\"24px\">\n",
       "    <g>\n",
       "        <path d=\"M19 3H5c-1.1 0-2 .9-2 2v14c0 1.1.9 2 2 2h14c1.1 0 2-.9 2-2V5c0-1.1-.9-2-2-2zM9 17H7v-7h2v7zm4 0h-2V7h2v10zm4 0h-2v-4h2v4z\"/>\n",
       "    </g>\n",
       "</svg>\n",
       "  </button>\n",
       "\n",
       "<style>\n",
       "  .colab-df-quickchart {\n",
       "    background-color: #E8F0FE;\n",
       "    border: none;\n",
       "    border-radius: 50%;\n",
       "    cursor: pointer;\n",
       "    display: none;\n",
       "    fill: #1967D2;\n",
       "    height: 32px;\n",
       "    padding: 0 0 0 0;\n",
       "    width: 32px;\n",
       "  }\n",
       "\n",
       "  .colab-df-quickchart:hover {\n",
       "    background-color: #E2EBFA;\n",
       "    box-shadow: 0px 1px 2px rgba(60, 64, 67, 0.3), 0px 1px 3px 1px rgba(60, 64, 67, 0.15);\n",
       "    fill: #174EA6;\n",
       "  }\n",
       "\n",
       "  [theme=dark] .colab-df-quickchart {\n",
       "    background-color: #3B4455;\n",
       "    fill: #D2E3FC;\n",
       "  }\n",
       "\n",
       "  [theme=dark] .colab-df-quickchart:hover {\n",
       "    background-color: #434B5C;\n",
       "    box-shadow: 0px 1px 3px 1px rgba(0, 0, 0, 0.15);\n",
       "    filter: drop-shadow(0px 1px 2px rgba(0, 0, 0, 0.3));\n",
       "    fill: #FFFFFF;\n",
       "  }\n",
       "</style>\n",
       "\n",
       "  <script>\n",
       "    async function quickchart(key) {\n",
       "      const charts = await google.colab.kernel.invokeFunction(\n",
       "          'suggestCharts', [key], {});\n",
       "    }\n",
       "    (() => {\n",
       "      let quickchartButtonEl =\n",
       "        document.querySelector('#df-ca04ae0c-8317-4b4c-81fb-ef1226d82748 button');\n",
       "      quickchartButtonEl.style.display =\n",
       "        google.colab.kernel.accessAllowed ? 'block' : 'none';\n",
       "    })();\n",
       "  </script>\n",
       "</div>\n",
       "    </div>\n",
       "  </div>\n"
      ],
      "text/plain": [
       "                                                  text  target\n",
       "532  A message object named 'emailmessagemessage' w...       1\n",
       "120  My name is Aishatu Ahmed. Following a family c...       1\n",
       "85   I am reaching out to you with a matter of utmo...       1\n",
       "258  In the realm of 'xdc,' there exists an email m...       1\n",
       "528  In the context of 'xdfe,' a message entity kno...       1"
      ]
     },
     "execution_count": 193,
     "metadata": {},
     "output_type": "execute_result"
    }
   ],
   "source": [
    "test_dataset_raw_gpt4.head()"
   ]
  },
  {
   "cell_type": "code",
   "execution_count": 194,
   "metadata": {
    "id": "sNyI2uhBOJSp"
   },
   "outputs": [],
   "source": [
    "merged_df_gpt4 = pd.concat([test_dataset_raw_0_100, test_dataset_raw_gpt4], ignore_index=True)\n",
    "\n",
    "# Shuffle the index\n",
    "test_125_df_gpt4 = merged_df_gpt4.sample(frac=1).reset_index(drop=True)"
   ]
  },
  {
   "cell_type": "code",
   "execution_count": 195,
   "metadata": {
    "id": "8Fb3429sOf6F"
   },
   "outputs": [],
   "source": [
    "test_encodings_125_gpt4 = tokenizer(test_125_df_gpt4['text'].tolist(), truncation=True, padding=True, max_length=256)\n",
    "\n",
    "test_dataset_125_gpt4 = tf.data.Dataset.from_tensor_slices((\n",
    "    dict(test_encodings_125_gpt4),\n",
    "    test_125_df_gpt4['target'].values\n",
    "))\n"
   ]
  },
  {
   "cell_type": "code",
   "execution_count": 196,
   "metadata": {
    "colab": {
     "base_uri": "https://localhost:8080/"
    },
    "id": "lwDN0VBZOgAM",
    "outputId": "a39fe54c-2538-4ff6-c1b2-2d21980e49f2"
   },
   "outputs": [
    {
     "name": "stdout",
     "output_type": "stream",
     "text": [
      "8/8 [==============================] - 2s 265ms/step\n",
      "              precision    recall  f1-score   support\n",
      "\n",
      "  legitimate     1.0000    0.9600    0.9796       100\n",
      "    phishing     0.8621    1.0000    0.9259        25\n",
      "\n",
      "    accuracy                         0.9680       125\n",
      "   macro avg     0.9310    0.9800    0.9528       125\n",
      "weighted avg     0.9724    0.9680    0.9689       125\n",
      "\n"
     ]
    }
   ],
   "source": [
    "test_encodings_125_gpt4_batched = test_dataset_125_gpt4.batch(16)\n",
    "y_pred_raw_125_gpt4 = model.predict(test_encodings_125_gpt4_batched)\n",
    "\n",
    "# Convert raw predictions to class predictions\n",
    "y_pred_125_gpt4 = np.argmax(y_pred_raw_125_gpt4.logits, axis=1)\n",
    "\n",
    "# Get the actual class labels\n",
    "y_true_125_gpt4 = []\n",
    "for features, label in test_dataset_125_gpt4:\n",
    "    y_true_125_gpt4.append(label.numpy())\n",
    "y_true_125_gpt4 = np.array(y_true_125_gpt4)\n",
    "\n",
    "\n",
    "# Generate a classification report\n",
    "report_125_gpt4 = classification_report(y_true_125_gpt4, y_pred_125_gpt4, target_names=[\"legitimate\", \"phishing\"],digits=4)\n",
    "print(report_125_gpt4)"
   ]
  },
  {
   "cell_type": "code",
   "execution_count": null,
   "metadata": {
    "id": "dbYaHB11OgGE"
   },
   "outputs": [],
   "source": []
  },
  {
   "cell_type": "markdown",
   "metadata": {
    "id": "zMVd0sYTLT8e"
   },
   "source": [
    "# gpt 4.0 Rephrase"
   ]
  },
  {
   "cell_type": "code",
   "execution_count": 200,
   "metadata": {
    "id": "ZfZgeTH1OgMV"
   },
   "outputs": [],
   "source": [
    "test_dataset_raw_gpt3 = test_dataset_raw_1_25"
   ]
  },
  {
   "cell_type": "code",
   "execution_count": 201,
   "metadata": {
    "colab": {
     "base_uri": "https://localhost:8080/"
    },
    "id": "wK8YGiTVM9s6",
    "outputId": "f233a81b-2f7e-4a35-f29b-977d55f6ce13"
   },
   "outputs": [
    {
     "data": {
      "text/plain": [
       "Int64Index([532, 120,  85, 258, 528, 603,  39, 374, 169, 614, 440, 751, 547,\n",
       "            168, 159, 719, 548,  82, 402, 665,   4,  38, 526,  35, 734],\n",
       "           dtype='int64')"
      ]
     },
     "execution_count": 201,
     "metadata": {},
     "output_type": "execute_result"
    }
   ],
   "source": [
    "test_dataset_raw_gpt3.index"
   ]
  },
  {
   "cell_type": "code",
   "execution_count": 208,
   "metadata": {
    "colab": {
     "base_uri": "https://localhost:8080/",
     "height": 161
    },
    "id": "lRCu7DvqQj6R",
    "outputId": "02eb5484-dd16-4068-efcd-36199e8b5fcd"
   },
   "outputs": [
    {
     "data": {
      "application/vnd.google.colaboratory.intrinsic+json": {
       "type": "string"
      },
      "text/plain": [
       "\"From Nicholas Mavis in Abidjan, Ivory Coast, using a private email address nicholasfmavis@yahoo.eco.jp, I am making an earnest appeal for your urgent assistance. With all due respect, I believe that with the divine's grace, it's possible for me to reach out for help. Kindly allow me to express my desire for establishing a business relationship with you. I am Nicholas Mavis, the son of the late Mavis Radcic. My father was a prosperous cocoa merchant in Abidjan, the economic capital of Ivory Coast. Unfortunately, my father was poisoned to death by his business associates during an outing on the first day of January while celebrating the New Year. Tragedy further struck as my mother passed away when I was still an infant. My father had taken special care of me before his demise. On his deathbed in January, within a private hospital in Abidjan, he confided in me about a sum of $12 million USD that he had discreetly left in a suspense account at a prime bank in Abidjan. He used my name as his son and next of kin to deposit these funds. He also expressed his wish for me to find a trustworthy foreign partner who could assist in moving these funds abroad for investment purposes.\""
      ]
     },
     "execution_count": 208,
     "metadata": {},
     "output_type": "execute_result"
    }
   ],
   "source": [
    "test_dataset_raw_1_25['text'][38]"
   ]
  },
  {
   "cell_type": "code",
   "execution_count": 202,
   "metadata": {
    "id": "YHqjRFi9OgSq"
   },
   "outputs": [],
   "source": [
    "indices = [532, 120, 85, 258, 528, 603, 39, 374, 169, 614, 440, 751, 547, 168, 159, 719, 548, 82, 402, 665, 4, 38, 526, 35, 734]\n"
   ]
  },
  {
   "cell_type": "code",
   "execution_count": 209,
   "metadata": {
    "colab": {
     "base_uri": "https://localhost:8080/"
    },
    "id": "ujKxuwgiOgZg",
    "outputId": "e055c55d-80db-408f-cf41-4610e8748f19"
   },
   "outputs": [
    {
     "name": "stderr",
     "output_type": "stream",
     "text": [
      "<ipython-input-209-bb84dfc75992>:1: SettingWithCopyWarning: \n",
      "A value is trying to be set on a copy of a slice from a DataFrame\n",
      "\n",
      "See the caveats in the documentation: https://pandas.pydata.org/pandas-docs/stable/user_guide/indexing.html#returning-a-view-versus-a-copy\n",
      "  test_dataset_raw_gpt3['text'][532] = \"Email message object from XDB.\"\n",
      "<ipython-input-209-bb84dfc75992>:2: SettingWithCopyWarning: \n",
      "A value is trying to be set on a copy of a slice from a DataFrame\n",
      "\n",
      "See the caveats in the documentation: https://pandas.pydata.org/pandas-docs/stable/user_guide/indexing.html#returning-a-view-versus-a-copy\n",
      "  test_dataset_raw_gpt3['text'][120]=\"Two email message objects from XDB.\"\n",
      "<ipython-input-209-bb84dfc75992>:3: SettingWithCopyWarning: \n",
      "A value is trying to be set on a copy of a slice from a DataFrame\n",
      "\n",
      "See the caveats in the documentation: https://pandas.pydata.org/pandas-docs/stable/user_guide/indexing.html#returning-a-view-versus-a-copy\n",
      "  test_dataset_raw_gpt3['text'][85]=\"Hello, my name is Aishatu Ahmed. Recently, my father was tragically murdered in Tripoli due to conflicts over wealth within our family and friends circle. Many affluent individuals in Libya keep their funds at home due to banking regulations. Some believed that my father's wealth was still at our residence and attacked our home in an attempt to seize it. However, he had already transferred his assets to a European finance house, naming me as the beneficiary. A week after his burial, our house was ambushed, leading to my younger brother's death. My mother and I managed to escape to Burkina Faso, where we are currently in hiding at a hotel. I received assistance from a consultancy firm here.\"\n",
      "<ipython-input-209-bb84dfc75992>:4: SettingWithCopyWarning: \n",
      "A value is trying to be set on a copy of a slice from a DataFrame\n",
      "\n",
      "See the caveats in the documentation: https://pandas.pydata.org/pandas-docs/stable/user_guide/indexing.html#returning-a-view-versus-a-copy\n",
      "  test_dataset_raw_gpt3['text'][258]= \"Dear Sir/Madam,I am the son of Johnson Savimbi, the late rebel leader of Angola, who passed away on February 22nd. For more context, please refer to this webpage: http://news.bbc.co.uk/hi/english/world/africa/newsid_1835000/1835101.stm. Before his demise, my father deposited $16 million in a European security company. Following his death, my family and I relocated to South Africa. We aim to move to Europe, but visa acquisition has been challenging from Africa. We seek your help to claim the deposited fund, and in gratitude, we're willing to offer you 10% ($1.6 million) for your assistance.\"\n",
      "<ipython-input-209-bb84dfc75992>:5: SettingWithCopyWarning: \n",
      "A value is trying to be set on a copy of a slice from a DataFrame\n",
      "\n",
      "See the caveats in the documentation: https://pandas.pydata.org/pandas-docs/stable/user_guide/indexing.html#returning-a-view-versus-a-copy\n",
      "  test_dataset_raw_gpt3['text'][528]= \"Two email message objects labeled XDC.\"\n",
      "<ipython-input-209-bb84dfc75992>:6: SettingWithCopyWarning: \n",
      "A value is trying to be set on a copy of a slice from a DataFrame\n",
      "\n",
      "See the caveats in the documentation: https://pandas.pydata.org/pandas-docs/stable/user_guide/indexing.html#returning-a-view-versus-a-copy\n",
      "  test_dataset_raw_gpt3['text'][603]= \"Two email message objects: XDFE and XDFFA.\"\n",
      "<ipython-input-209-bb84dfc75992>:7: SettingWithCopyWarning: \n",
      "A value is trying to be set on a copy of a slice from a DataFrame\n",
      "\n",
      "See the caveats in the documentation: https://pandas.pydata.org/pandas-docs/stable/user_guide/indexing.html#returning-a-view-versus-a-copy\n",
      "  test_dataset_raw_gpt3['text'][39]= \"I'm Dr. Yinka Craige, a senior accountant at the Nigerian Liquified Natural Gas (NLNG) in Lagos. My colleagues and I are seeking an international partner to help transfer USD 27.5 million, which originates from an intentionally over-invoiced contract from our corporation. In appreciation for your assistance, we propose a distribution: 70% for us, the officials in Nigeria, and 30% for you or your company that provides the account.\"\n",
      "<ipython-input-209-bb84dfc75992>:8: SettingWithCopyWarning: \n",
      "A value is trying to be set on a copy of a slice from a DataFrame\n",
      "\n",
      "See the caveats in the documentation: https://pandas.pydata.org/pandas-docs/stable/user_guide/indexing.html#returning-a-view-versus-a-copy\n",
      "  test_dataset_raw_gpt3['text'][374]= \"Two email message objects: XD and XDE.\"\n",
      "<ipython-input-209-bb84dfc75992>:9: SettingWithCopyWarning: \n",
      "A value is trying to be set on a copy of a slice from a DataFrame\n",
      "\n",
      "See the caveats in the documentation: https://pandas.pydata.org/pandas-docs/stable/user_guide/indexing.html#returning-a-view-versus-a-copy\n",
      "  test_dataset_raw_gpt3['text'][169]= \"Dr. Ibrahim Usman, the Manager of Bill and Exchange at the Bank of Africa in Ouagadougou, Burkina Faso, writes to you unexpectedly. He oversees a dormant account holding $15 million belonging to Joseph F. Grillo, a foreign chemical engineer who tragically died during the September 11 attacks in the U.S. Despite multiple attempts, the bank has been unable to contact any of Grillo's relatives. Without intervention, the money will be absorbed into the bank's treasury as unclaimed funds. For more information on the victim, visit [http://www.septembervictims.com/septembervictims/victiminfo.asp?id=]. Dr. Usman seeks assistance in transferring this money before it's claimed by the bank.\"\n",
      "<ipython-input-209-bb84dfc75992>:10: SettingWithCopyWarning: \n",
      "A value is trying to be set on a copy of a slice from a DataFrame\n",
      "\n",
      "See the caveats in the documentation: https://pandas.pydata.org/pandas-docs/stable/user_guide/indexing.html#returning-a-view-versus-a-copy\n",
      "  test_dataset_raw_gpt3['text'][614]= \"Dear Sir/Madam,I'm reaching out with a pressing matter. I am Miss Frani Korona, and along with my younger brother, Abdul Korona Junior, we are the children of the late Dr. Abdul Korona, a respected businessman and the Director General of the National Gold & Diamond Mining Corporation in Sierra Leone. Tragically, our father died under suspicious circumstances in Dublin on a business trip, which we suspect was orchestrated by our uncle. With our mother having passed away when I was just 15 and my brother 3, our father became our sole guardian. Prior to his death, he entrusted us with documents regarding money and family valuables stored in two trunk boxes overseas, registered under the name of my brother as the son of Paul John.\"\n",
      "<ipython-input-209-bb84dfc75992>:11: SettingWithCopyWarning: \n",
      "A value is trying to be set on a copy of a slice from a DataFrame\n",
      "\n",
      "See the caveats in the documentation: https://pandas.pydata.org/pandas-docs/stable/user_guide/indexing.html#returning-a-view-versus-a-copy\n",
      "  test_dataset_raw_gpt3['text'][440]= \"I'm Mr. Zeid Ahmadi, the manager of the Telex/Computing Department at the Bank of Africa in Ouagadougou, Burkina Faso. I've stumbled upon a dormant account containing $18.5 million belonging to a deceased customer who tragically passed away in a motor accident on July 4th, 2003. This account has no claimants from family or relatives. I've kept this discovery confidential and believe collaborating with you could be mutually beneficial in claiming these funds. I was impressed by your profile and decided to reach out.\"\n",
      "<ipython-input-209-bb84dfc75992>:12: SettingWithCopyWarning: \n",
      "A value is trying to be set on a copy of a slice from a DataFrame\n",
      "\n",
      "See the caveats in the documentation: https://pandas.pydata.org/pandas-docs/stable/user_guide/indexing.html#returning-a-view-versus-a-copy\n",
      "  test_dataset_raw_gpt3['text'][751]= \"Although you might have received similar letters online, please understand that my request is genuine and urgent. I'm Barrister Alexander Afadia, representing the late Mr. Adams Kielar, an expatriate and oil industry contractor. Tragically, he and his family died in a car accident on April 1st along the Sagamu-Lagos express road. Despite extensive efforts, I've been unable to locate any living relatives, leading me to seek your assistance. Without intervention, the considerable funds left in his account at a specific bank, as well as other properties, risk being seized. I hope you can help repatriate these assets.\"\n",
      "<ipython-input-209-bb84dfc75992>:13: SettingWithCopyWarning: \n",
      "A value is trying to be set on a copy of a slice from a DataFrame\n",
      "\n",
      "See the caveats in the documentation: https://pandas.pydata.org/pandas-docs/stable/user_guide/indexing.html#returning-a-view-versus-a-copy\n",
      "  test_dataset_raw_gpt3['text'][547]= \"Two email message objects: XDAF and XDAC.\"\n",
      "<ipython-input-209-bb84dfc75992>:14: SettingWithCopyWarning: \n",
      "A value is trying to be set on a copy of a slice from a DataFrame\n",
      "\n",
      "See the caveats in the documentation: https://pandas.pydata.org/pandas-docs/stable/user_guide/indexing.html#returning-a-view-versus-a-copy\n",
      "  test_dataset_raw_gpt3['text'][168]= \"Attention President/CEO/Manager,I am Mr. Paul Wemba, Chief Auditor at the African Development Bank (ADB). I've discovered a dormant account opened in 1999 with $10.5 million USD. The account owner, Dr. B.D. Redo, a foreign miner with Kruger Gold Co and a geologist, died in 2003. No one has been aware or claimed this account since. Without urgent action, these funds risk being absorbed either by our bank's board or identified by national auditors as dormant, ultimately being turned over to the government. Given that the government and treasury officials are just people like us, I feel compelled to ensure this money doesn't get misallocated.\"\n",
      "<ipython-input-209-bb84dfc75992>:15: SettingWithCopyWarning: \n",
      "A value is trying to be set on a copy of a slice from a DataFrame\n",
      "\n",
      "See the caveats in the documentation: https://pandas.pydata.org/pandas-docs/stable/user_guide/indexing.html#returning-a-view-versus-a-copy\n",
      "  test_dataset_raw_gpt3['text'][159]= \"From Dr. Dan Kabo, Accountant General at Nigerian Liquefied Natural Gas (NLNG):Dear Sir,I approach you with a business proposal borne out of genuine intent, despite the possibility of you receiving similar ones before. As the Chief Accountant, in collaboration with the Auditor-General, our recent internal audit for the NLNG revealed an unallocated $32 million from contracts since the start of Nigeria's democracy. The NLNG, operating at its peak during the current civilian rule, boasts assets worth $3 billion, anticipating a total expenditure of $2 billion upon completion of its fifth phase. The mentioned $32 million has been sanctioned for payment by both the NLNG and the Federal Ministry of Finance and awaits release from the apex bank.\"\n",
      "<ipython-input-209-bb84dfc75992>:16: SettingWithCopyWarning: \n",
      "A value is trying to be set on a copy of a slice from a DataFrame\n",
      "\n",
      "See the caveats in the documentation: https://pandas.pydata.org/pandas-docs/stable/user_guide/indexing.html#returning-a-view-versus-a-copy\n",
      "  test_dataset_raw_gpt3['text'][719]= \"Two email message objects: XDD and XDC.\"\n",
      "<ipython-input-209-bb84dfc75992>:17: SettingWithCopyWarning: \n",
      "A value is trying to be set on a copy of a slice from a DataFrame\n",
      "\n",
      "See the caveats in the documentation: https://pandas.pydata.org/pandas-docs/stable/user_guide/indexing.html#returning-a-view-versus-a-copy\n",
      "  test_dataset_raw_gpt3['text'][548]= \"Mrs. Aminaea Bello, an Iraqi refugee, writes to the Managing Director. Once closely tied to the former president of Iraq who was overthrown by the American government, her husband was a personal aide to the president. Following recent upheavals in Iraq, they relocated to Thailand. They possess $35 million, acquired through her late husband's endeavors, which they want to invest in a friendly nation. Mrs. Bello seeks guidance on proper investments and is interested in purchasing residential property, intending to relocate her family soon. She emphasizes a need for mutual satisfaction in any agreements made.\"\n",
      "<ipython-input-209-bb84dfc75992>:18: SettingWithCopyWarning: \n",
      "A value is trying to be set on a copy of a slice from a DataFrame\n",
      "\n",
      "See the caveats in the documentation: https://pandas.pydata.org/pandas-docs/stable/user_guide/indexing.html#returning-a-view-versus-a-copy\n",
      "  test_dataset_raw_gpt3['text'][82]= \"Greetings,I am Mr. Mike Charles Kobi, son of the late Col. Johnson Kobi, the Assistant Chief General Staff of Sierra Leone's Revolutionary United Front (RUF) and crown prince of the Kuloma village. Understanding the significant nature of my proposal, I assure you of its authenticity and confidentiality. I discovered you during an online search for a reputable individual capable of managing a discreet transaction involving a substantial transfer of funds. My father tragically died on August 10th during the conflicts in our nation.\"\n",
      "<ipython-input-209-bb84dfc75992>:19: SettingWithCopyWarning: \n",
      "A value is trying to be set on a copy of a slice from a DataFrame\n",
      "\n",
      "See the caveats in the documentation: https://pandas.pydata.org/pandas-docs/stable/user_guide/indexing.html#returning-a-view-versus-a-copy\n",
      "  test_dataset_raw_gpt3['text'][402]= \"Dear Sir/Madam,I'm the eldest son of the late Chief Ken Saro Wiwa, a renowned environmental activist, writer, and businessman from the oil-rich Ogoni region in Nigeria. He founded MOSOP, a non-violent advocacy group for Ogoni rights. Tragically, due to his activism, he was executed by the regime of General Sani Abacha. Anticipating danger, my father wrote a will entrusting his assets, stocks, and bonds to me. However, his legal advisor, Mr. Briggs, in collusion with the government, has since seized these assets and frozen his accounts.\"\n",
      "<ipython-input-209-bb84dfc75992>:20: SettingWithCopyWarning: \n",
      "A value is trying to be set on a copy of a slice from a DataFrame\n",
      "\n",
      "See the caveats in the documentation: https://pandas.pydata.org/pandas-docs/stable/user_guide/indexing.html#returning-a-view-versus-a-copy\n",
      "  test_dataset_raw_gpt3['text'][665]= \"Email message with the object code XCFFDF.\"\n",
      "<ipython-input-209-bb84dfc75992>:21: SettingWithCopyWarning: \n",
      "A value is trying to be set on a copy of a slice from a DataFrame\n",
      "\n",
      "See the caveats in the documentation: https://pandas.pydata.org/pandas-docs/stable/user_guide/indexing.html#returning-a-view-versus-a-copy\n",
      "  test_dataset_raw_gpt3['text'][4]= \"Greetings,I am Rabi Al Salih, the wife of Mahammed Mahdi Al Salih, former Iraqi Minister of Interior Affairs. He's currently incarcerated by US forces, facing serious charges. During his tenure, I managed to secure funds from deals and have $18 million USD stored in a security firm, misrepresented as solid gold for a foreign partner. I found your contact online and seek your assistance to invest this money discreetly for my children's future in sectors like real estate or industrial production.\"\n",
      "<ipython-input-209-bb84dfc75992>:22: SettingWithCopyWarning: \n",
      "A value is trying to be set on a copy of a slice from a DataFrame\n",
      "\n",
      "See the caveats in the documentation: https://pandas.pydata.org/pandas-docs/stable/user_guide/indexing.html#returning-a-view-versus-a-copy\n",
      "  test_dataset_raw_gpt3['text'][38]= \"Dear [Recipient],I am Nicholas Mavis from Abidjan, Ivory Coast, the son of the late Mavis Radcic, a prosperous cocoa merchant. Tragically, my father was poisoned by business associates in early January, leaving me as his sole heir. Prior to his death, he confidentially informed me about $7 million USD he deposited in a prime bank in Abidjan, with me as the next of kin. I am now seeking a trustworthy foreign partner to assist with this fund.\"\n",
      "<ipython-input-209-bb84dfc75992>:23: SettingWithCopyWarning: \n",
      "A value is trying to be set on a copy of a slice from a DataFrame\n",
      "\n",
      "See the caveats in the documentation: https://pandas.pydata.org/pandas-docs/stable/user_guide/indexing.html#returning-a-view-versus-a-copy\n",
      "  test_dataset_raw_gpt3['text'][526]= \"Dear friend,I'm reaching out regarding a unique opportunity related to my late client's will. As the executor, I've learned that both he and his next of kin tragically died on the Egyptian Airline in 1999, which you can verify on the BBC's website. According to English law, if no one claims a legacy within seven years, it goes to the government. I'm seeking someone trustworthy to act as the beneficiary for the $18 million legacy to prevent it from defaulting to the state, and currently, I'm the only one aware of this.\"\n",
      "<ipython-input-209-bb84dfc75992>:24: SettingWithCopyWarning: \n",
      "A value is trying to be set on a copy of a slice from a DataFrame\n",
      "\n",
      "See the caveats in the documentation: https://pandas.pydata.org/pandas-docs/stable/user_guide/indexing.html#returning-a-view-versus-a-copy\n",
      "  test_dataset_raw_gpt3['text'][35]= \"Dear friend,I wanted to update you on my financial situation. Although our initial efforts didn't succeed, I've since managed to transfer the funds with the assistance of a new partner from Chile. To compensate you for your past help, I've instructed my secretary, Mr. Davide Marks (email: davide_marks@myway.com), based in Cotonou, Benin, to send you some funds. Please provide him with your full name, address, and phone numbers. Currently, I'm in Chile focused on new investment projects, but you can contact Davide directly for the bank draft.Regards,Barr. Ahmed Abdulaziz.\"\n",
      "<ipython-input-209-bb84dfc75992>:25: SettingWithCopyWarning: \n",
      "A value is trying to be set on a copy of a slice from a DataFrame\n",
      "\n",
      "See the caveats in the documentation: https://pandas.pydata.org/pandas-docs/stable/user_guide/indexing.html#returning-a-view-versus-a-copy\n",
      "  test_dataset_raw_gpt3['text'][734]= \"Dr. Charak, the head of the department at the Bank of Scotland in the UK, seeks a trustworthy individual to assist in transferring £15 million from the bank. The funds originally belonged to Mr. John Hughes, a foreign chemical engineer with no known beneficiaries. Since his passing, Dr. Charak has determined that no one is aware of this account or the sum contained within. Desiring to transfer the money to a secure overseas account, Dr. Charak is reaching out for a reliable partner for this significant transaction, emphasizing its authenticity and importance. He requests the recipient's full contact details for smooth communication\"\n"
     ]
    }
   ],
   "source": [
    "test_dataset_raw_gpt3['text'][532] = \"Email message object from XDB.\"\n",
    "test_dataset_raw_gpt3['text'][120]=\"Two email message objects from XDB.\"\n",
    "test_dataset_raw_gpt3['text'][85]=\"Hello, my name is Aishatu Ahmed. Recently, my father was tragically murdered in Tripoli due to conflicts over wealth within our family and friends circle. Many affluent individuals in Libya keep their funds at home due to banking regulations. Some believed that my father's wealth was still at our residence and attacked our home in an attempt to seize it. However, he had already transferred his assets to a European finance house, naming me as the beneficiary. A week after his burial, our house was ambushed, leading to my younger brother's death. My mother and I managed to escape to Burkina Faso, where we are currently in hiding at a hotel. I received assistance from a consultancy firm here.\"\n",
    "test_dataset_raw_gpt3['text'][258]= \"Dear Sir/Madam,I am the son of Johnson Savimbi, the late rebel leader of Angola, who passed away on February 22nd. For more context, please refer to this webpage: http://news.bbc.co.uk/hi/english/world/africa/newsid_1835000/1835101.stm. Before his demise, my father deposited $16 million in a European security company. Following his death, my family and I relocated to South Africa. We aim to move to Europe, but visa acquisition has been challenging from Africa. We seek your help to claim the deposited fund, and in gratitude, we're willing to offer you 10% ($1.6 million) for your assistance.\"\n",
    "test_dataset_raw_gpt3['text'][528]= \"Two email message objects labeled XDC.\"\n",
    "test_dataset_raw_gpt3['text'][603]= \"Two email message objects: XDFE and XDFFA.\"\n",
    "test_dataset_raw_gpt3['text'][39]= \"I'm Dr. Yinka Craige, a senior accountant at the Nigerian Liquified Natural Gas (NLNG) in Lagos. My colleagues and I are seeking an international partner to help transfer USD 27.5 million, which originates from an intentionally over-invoiced contract from our corporation. In appreciation for your assistance, we propose a distribution: 70% for us, the officials in Nigeria, and 30% for you or your company that provides the account.\"\n",
    "test_dataset_raw_gpt3['text'][374]= \"Two email message objects: XD and XDE.\"\n",
    "test_dataset_raw_gpt3['text'][169]= \"Dr. Ibrahim Usman, the Manager of Bill and Exchange at the Bank of Africa in Ouagadougou, Burkina Faso, writes to you unexpectedly. He oversees a dormant account holding $15 million belonging to Joseph F. Grillo, a foreign chemical engineer who tragically died during the September 11 attacks in the U.S. Despite multiple attempts, the bank has been unable to contact any of Grillo's relatives. Without intervention, the money will be absorbed into the bank's treasury as unclaimed funds. For more information on the victim, visit [http://www.septembervictims.com/septembervictims/victiminfo.asp?id=]. Dr. Usman seeks assistance in transferring this money before it's claimed by the bank.\"\n",
    "test_dataset_raw_gpt3['text'][614]= \"Dear Sir/Madam,I'm reaching out with a pressing matter. I am Miss Frani Korona, and along with my younger brother, Abdul Korona Junior, we are the children of the late Dr. Abdul Korona, a respected businessman and the Director General of the National Gold & Diamond Mining Corporation in Sierra Leone. Tragically, our father died under suspicious circumstances in Dublin on a business trip, which we suspect was orchestrated by our uncle. With our mother having passed away when I was just 15 and my brother 3, our father became our sole guardian. Prior to his death, he entrusted us with documents regarding money and family valuables stored in two trunk boxes overseas, registered under the name of my brother as the son of Paul John.\"\n",
    "test_dataset_raw_gpt3['text'][440]= \"I'm Mr. Zeid Ahmadi, the manager of the Telex/Computing Department at the Bank of Africa in Ouagadougou, Burkina Faso. I've stumbled upon a dormant account containing $18.5 million belonging to a deceased customer who tragically passed away in a motor accident on July 4th, 2003. This account has no claimants from family or relatives. I've kept this discovery confidential and believe collaborating with you could be mutually beneficial in claiming these funds. I was impressed by your profile and decided to reach out.\"\n",
    "test_dataset_raw_gpt3['text'][751]= \"Although you might have received similar letters online, please understand that my request is genuine and urgent. I'm Barrister Alexander Afadia, representing the late Mr. Adams Kielar, an expatriate and oil industry contractor. Tragically, he and his family died in a car accident on April 1st along the Sagamu-Lagos express road. Despite extensive efforts, I've been unable to locate any living relatives, leading me to seek your assistance. Without intervention, the considerable funds left in his account at a specific bank, as well as other properties, risk being seized. I hope you can help repatriate these assets.\"\n",
    "test_dataset_raw_gpt3['text'][547]= \"Two email message objects: XDAF and XDAC.\"\n",
    "test_dataset_raw_gpt3['text'][168]= \"Attention President/CEO/Manager,I am Mr. Paul Wemba, Chief Auditor at the African Development Bank (ADB). I've discovered a dormant account opened in 1999 with $10.5 million USD. The account owner, Dr. B.D. Redo, a foreign miner with Kruger Gold Co and a geologist, died in 2003. No one has been aware or claimed this account since. Without urgent action, these funds risk being absorbed either by our bank's board or identified by national auditors as dormant, ultimately being turned over to the government. Given that the government and treasury officials are just people like us, I feel compelled to ensure this money doesn't get misallocated.\"\n",
    "test_dataset_raw_gpt3['text'][159]= \"From Dr. Dan Kabo, Accountant General at Nigerian Liquefied Natural Gas (NLNG):Dear Sir,I approach you with a business proposal borne out of genuine intent, despite the possibility of you receiving similar ones before. As the Chief Accountant, in collaboration with the Auditor-General, our recent internal audit for the NLNG revealed an unallocated $32 million from contracts since the start of Nigeria's democracy. The NLNG, operating at its peak during the current civilian rule, boasts assets worth $3 billion, anticipating a total expenditure of $2 billion upon completion of its fifth phase. The mentioned $32 million has been sanctioned for payment by both the NLNG and the Federal Ministry of Finance and awaits release from the apex bank.\"\n",
    "test_dataset_raw_gpt3['text'][719]= \"Two email message objects: XDD and XDC.\"\n",
    "test_dataset_raw_gpt3['text'][548]= \"Mrs. Aminaea Bello, an Iraqi refugee, writes to the Managing Director. Once closely tied to the former president of Iraq who was overthrown by the American government, her husband was a personal aide to the president. Following recent upheavals in Iraq, they relocated to Thailand. They possess $35 million, acquired through her late husband's endeavors, which they want to invest in a friendly nation. Mrs. Bello seeks guidance on proper investments and is interested in purchasing residential property, intending to relocate her family soon. She emphasizes a need for mutual satisfaction in any agreements made.\"\n",
    "test_dataset_raw_gpt3['text'][82]= \"Greetings,I am Mr. Mike Charles Kobi, son of the late Col. Johnson Kobi, the Assistant Chief General Staff of Sierra Leone's Revolutionary United Front (RUF) and crown prince of the Kuloma village. Understanding the significant nature of my proposal, I assure you of its authenticity and confidentiality. I discovered you during an online search for a reputable individual capable of managing a discreet transaction involving a substantial transfer of funds. My father tragically died on August 10th during the conflicts in our nation.\"\n",
    "test_dataset_raw_gpt3['text'][402]= \"Dear Sir/Madam,I'm the eldest son of the late Chief Ken Saro Wiwa, a renowned environmental activist, writer, and businessman from the oil-rich Ogoni region in Nigeria. He founded MOSOP, a non-violent advocacy group for Ogoni rights. Tragically, due to his activism, he was executed by the regime of General Sani Abacha. Anticipating danger, my father wrote a will entrusting his assets, stocks, and bonds to me. However, his legal advisor, Mr. Briggs, in collusion with the government, has since seized these assets and frozen his accounts.\"\n",
    "test_dataset_raw_gpt3['text'][665]= \"Email message with the object code XCFFDF.\"\n",
    "test_dataset_raw_gpt3['text'][4]= \"Greetings,I am Rabi Al Salih, the wife of Mahammed Mahdi Al Salih, former Iraqi Minister of Interior Affairs. He's currently incarcerated by US forces, facing serious charges. During his tenure, I managed to secure funds from deals and have $18 million USD stored in a security firm, misrepresented as solid gold for a foreign partner. I found your contact online and seek your assistance to invest this money discreetly for my children's future in sectors like real estate or industrial production.\"\n",
    "test_dataset_raw_gpt3['text'][38]= \"Dear [Recipient],I am Nicholas Mavis from Abidjan, Ivory Coast, the son of the late Mavis Radcic, a prosperous cocoa merchant. Tragically, my father was poisoned by business associates in early January, leaving me as his sole heir. Prior to his death, he confidentially informed me about $7 million USD he deposited in a prime bank in Abidjan, with me as the next of kin. I am now seeking a trustworthy foreign partner to assist with this fund.\"\n",
    "test_dataset_raw_gpt3['text'][526]= \"Dear friend,I'm reaching out regarding a unique opportunity related to my late client's will. As the executor, I've learned that both he and his next of kin tragically died on the Egyptian Airline in 1999, which you can verify on the BBC's website. According to English law, if no one claims a legacy within seven years, it goes to the government. I'm seeking someone trustworthy to act as the beneficiary for the $18 million legacy to prevent it from defaulting to the state, and currently, I'm the only one aware of this.\"\n",
    "test_dataset_raw_gpt3['text'][35]= \"Dear friend,I wanted to update you on my financial situation. Although our initial efforts didn't succeed, I've since managed to transfer the funds with the assistance of a new partner from Chile. To compensate you for your past help, I've instructed my secretary, Mr. Davide Marks (email: davide_marks@myway.com), based in Cotonou, Benin, to send you some funds. Please provide him with your full name, address, and phone numbers. Currently, I'm in Chile focused on new investment projects, but you can contact Davide directly for the bank draft.Regards,Barr. Ahmed Abdulaziz.\"\n",
    "test_dataset_raw_gpt3['text'][734]= \"Dr. Charak, the head of the department at the Bank of Scotland in the UK, seeks a trustworthy individual to assist in transferring £15 million from the bank. The funds originally belonged to Mr. John Hughes, a foreign chemical engineer with no known beneficiaries. Since his passing, Dr. Charak has determined that no one is aware of this account or the sum contained within. Desiring to transfer the money to a secure overseas account, Dr. Charak is reaching out for a reliable partner for this significant transaction, emphasizing its authenticity and importance. He requests the recipient's full contact details for smooth communication\"\n"
   ]
  },
  {
   "cell_type": "code",
   "execution_count": 210,
   "metadata": {
    "id": "shZ7wuwjOggG"
   },
   "outputs": [],
   "source": [
    "merged_df_gpt3 = pd.concat([test_dataset_raw_0_100, test_dataset_raw_gpt3], ignore_index=True)\n",
    "\n",
    "# Shuffle the index\n",
    "test_125_df_gpt3 = merged_df_gpt3.sample(frac=1).reset_index(drop=True)"
   ]
  },
  {
   "cell_type": "code",
   "execution_count": 211,
   "metadata": {
    "id": "2GG-oZDGOgnQ"
   },
   "outputs": [],
   "source": [
    "test_encodings_125_gpt3 = tokenizer(test_125_df_gpt3['text'].tolist(), truncation=True, padding=True, max_length=256)\n",
    "\n",
    "test_dataset_125_gpt3 = tf.data.Dataset.from_tensor_slices((\n",
    "    dict(test_encodings_125_gpt3),\n",
    "    test_125_df_gpt3['target'].values\n",
    "))\n"
   ]
  },
  {
   "cell_type": "code",
   "execution_count": 212,
   "metadata": {
    "colab": {
     "base_uri": "https://localhost:8080/"
    },
    "id": "MJuia59BOJX1",
    "outputId": "13dc7604-1370-4251-e6a7-f71271c96dce"
   },
   "outputs": [
    {
     "name": "stdout",
     "output_type": "stream",
     "text": [
      "8/8 [==============================] - 2s 281ms/step\n",
      "              precision    recall  f1-score   support\n",
      "\n",
      "  legitimate     0.9697    0.9600    0.9648       100\n",
      "    phishing     0.8462    0.8800    0.8627        25\n",
      "\n",
      "    accuracy                         0.9440       125\n",
      "   macro avg     0.9079    0.9200    0.9138       125\n",
      "weighted avg     0.9450    0.9440    0.9444       125\n",
      "\n"
     ]
    }
   ],
   "source": [
    "test_encodings_125_gpt3_batched = test_dataset_125_gpt3.batch(16)\n",
    "y_pred_raw_125_gpt3 = model.predict(test_encodings_125_gpt3_batched)\n",
    "\n",
    "# Convert raw predictions to class predictions\n",
    "y_pred_125_gpt3 = np.argmax(y_pred_raw_125_gpt3.logits, axis=1)\n",
    "\n",
    "# Get the actual class labels\n",
    "y_true_125_gpt3 = []\n",
    "for features, label in test_dataset_125_gpt3:\n",
    "    y_true_125_gpt3.append(label.numpy())\n",
    "y_true_125_gpt3 = np.array(y_true_125_gpt3)\n",
    "\n",
    "\n",
    "# Generate a classification report\n",
    "report_125_gpt3 = classification_report(y_true_125_gpt3, y_pred_125_gpt3, target_names=[\"legitimate\", \"phishing\"],digits=4)\n",
    "print(report_125_gpt3)"
   ]
  },
  {
   "cell_type": "code",
   "execution_count": null,
   "metadata": {
    "id": "_oL-mD8JOJdB"
   },
   "outputs": [],
   "source": []
  },
  {
   "cell_type": "markdown",
   "metadata": {
    "id": "LjLJeFhoSPMo"
   },
   "source": [
    "# GPT 3.5 random"
   ]
  },
  {
   "cell_type": "code",
   "execution_count": null,
   "metadata": {
    "id": "enZ2OsYSCS_3"
   },
   "outputs": [],
   "source": [
    "\n"
   ]
  },
  {
   "cell_type": "code",
   "execution_count": 213,
   "metadata": {
    "id": "3sTGPuyKSNaW"
   },
   "outputs": [],
   "source": [
    "\n",
    "\n",
    "data3_1 = {\n",
    "    'text': [\n",
    "        \"Dear Valued [Bank Name] Customer,\\n\\nDue to recent security updates and to ensure the continued safety of your account, we require you to verify your account information as part of our routine security measures. Your cooperation in this matter is highly appreciated.\\n\\nTo proceed with the verification process, please click on the link below or copy and paste it into your browser:\\n[Phishing Link]\\n\\nFailure to complete the verification within the next 48 hours may result in a temporary suspension of your account. We apologize for any inconvenience this may cause and appreciate your prompt attention to this matter.\\n\\nThank you for being a valued customer of [Bank Name].\\n\\nSincerely,\\n[Fake Bank Name] Security Team\",\n",
    "\n",
    "        \"Congratulations [Recipient's Name],\\n\\nYou've been selected as the lucky winner of a special promotion from [Fake Company]. You've won a gift card worth $500 that can be used for any of our products or services. To claim your prize, simply follow the link below and provide your contact details.\\n\\nClaim Your Prize Now: [Phishing Link]\\n\\nAct fast, as this offer is time-limited! Please note that by participating, you agree to receive occasional promotional emails from us. Your privacy is important to us, and your information will not be shared.\\n\\nThank you for choosing [Fake Company]!\\n\\nBest Regards,\\nThe [Fake Company] Team\",\n",
    "\n",
    "        \"Dear PayPal User,\\n\\nWe regret to inform you that we have detected some unusual activity on your PayPal account. In order to ensure the security of your account, we have temporarily limited its functionality.\\n\\nTo resolve this issue and regain access to your account, please click the following link and follow the instructions to verify your identity and update your account information:\\n[Phishing Link]\\n\\nWe take the security of your information seriously and apologize for any inconvenience this may cause. Your prompt attention to this matter is appreciated.\\n\\nSincerely,\\nPayPal Security Team\",\n",
    "\n",
    "\n",
    "    ]\n",
    "}\n",
    "\n",
    "df3_1 = pd.DataFrame(data3_1)\n",
    "\n",
    "\n"
   ]
  },
  {
   "cell_type": "code",
   "execution_count": 214,
   "metadata": {
    "id": "xgr-WWpLSNet"
   },
   "outputs": [],
   "source": [
    "\n",
    "\n",
    "data3_2 = {\n",
    "    'text': [\n",
    "        \"Hello [Recipient's Name],\\n\\nWe hope this message finds you well. Are you looking for a flexible work-from-home opportunity that allows you to earn up to $1000 per week? Look no further! We have a limited number of positions available in your area.\\n\\nOur program offers you the chance to achieve financial independence from the comfort of your own home. To learn more about this incredible opportunity and secure your spot, click on the link below:\\n[Phishing Link]\\n\\nDon't miss out on this chance to change your life. Take the first step toward financial freedom today!\\n\\nRegards,\\nThe [Fake Company] Hiring Team\",\n",
    "\n",
    "        \"Dear Taxpayer,\\n\\nWe would like to inform you that there is an issue with the processing of your tax return. It appears that some of the information you provided is incomplete or incorrect. In order to proceed with the processing, we need you to verify your personal details.\\n\\nPlease click on the link below to access the secure verification form and update your information:\\n[Phishing Link]\\n\\nYour prompt attention to this matter is crucial to ensure the timely processing of your tax return. Thank you for your cooperation.\\n\\nSincerely,\\nThe IRS Support Team\",\n",
    "\n",
    "\n",
    "    ]\n",
    "}\n",
    "\n",
    "df3_2 = pd.DataFrame(data3_2)\n",
    "\n"
   ]
  },
  {
   "cell_type": "code",
   "execution_count": 215,
   "metadata": {
    "id": "_wBJvwUASNi4"
   },
   "outputs": [],
   "source": [
    "\n",
    "\n",
    "data3_3 = {\n",
    "    'text': [\n",
    "        \"Dear [Your Name],\\n\\nI hope this message finds you in good health. I am [Your Name], a Human Rights activist from [Your Location]. I am writing to seek your assistance for a mission I am working on, focusing on providing educational materials and healthcare support to underserved communities in our region. The lack of resources is our biggest challenge, and your generous contribution could go a long way to help. I would be extremely grateful for any financial support you can offer.\",\n",
    "\n",
    "        \"Dear [Your Name],\\n\\nI am reaching out to you with a unique and potentially lucrative business proposal. I am looking for a trustworthy individual who can assist me in a profitable business venture. Due to my position as a government official, I am currently unable to move a considerable sum of money to a foreign account. I am requesting your assistance in this operation, promising a sizable percentage of the sum for your cooperation.\",\n",
    "\n",
    "        \"Dear [Your Name],\\n\\nI am writing this email with a heavy heart, burdened by the financial obstacles preventing me from pursuing my dream of a college education. My name is [Your Name], and I was recently accepted into [College/University Name]. Unfortunately, due to my financial circumstances, I am struggling to pay my tuition fees. I humbly ask for your assistance in helping me continue my education.\",\n",
    "\n",
    "        \"Hello [Your Name],\\n\\nI am [Your Name], a friend of [Patient's Name]. Unfortunately, [Patient's Name] has recently been diagnosed with [Disease Name] and the treatment cost is beyond what we can afford. The financial burden is overwhelming and I am asking for your help to raise funds for [Patient's Name]'s medical expenses.\",\n",
    "\n",
    "        \"Dear [Your Name],\\n\\nI am writing on behalf of a Non-Governmental Organization that assists refugees. We are currently facing a severe funding crisis and are unable to extend the much-needed support to the displaced victims. I am reaching out to ask for your help. Your donation will help us provide essential supplies, medical care, and educational resources.\",\n",
    "\n",
    "        \"Hello [Your Name],\\n\\nI am the coach of a local youth sports team, and we're preparing for the upcoming national championship. Unfortunately, we are struggling with a lack of resources to provide the necessary equipment for our young athletes. I am writing to ask for your generous contribution to help us equip these promising athletes.\",\n",
    "\n",
    "        \"Dear [Your Name],\\n\\nI run an animal shelter that provides a safe haven for stray and abandoned animals. We are currently facing a financial crisis and are struggling to provide necessary medical care and shelter for these helpless animals. Your financial support can help us feed, treat, and find homes for these lovely animals.\",\n",
    "\n",
    "        \"Dear [Your Name],\\n\\nAs a researcher at [Your Institute's Name], I am leading a project on [Briefly Describe the Project]. Despite the promising nature of this research, we are currently facing financial constraints that are hindering our progress. I am writing to ask for your financial support to help us continue our groundbreaking work.\",\n",
    "\n",
    "        \"Hello [Your Name],\\n\\nOur charity organization is actively involved in disaster relief work for the victims of the recent [Natural Disaster]. However, due to the scale of the disaster, we are struggling to keep up with the needs of the affected people. Any financial assistance you could provide would greatly help us in our mission.\",\n",
    "\n",
    "        \"Dear [Your Name],\\n\\nI am a local artist working on a community art project. The aim is to use art as a medium to promote cultural awareness and unity in our community. Unfortunately, I lack the necessary funds to bring this project to life. Any financial support from your end would help immensely in executing this project.\"\n",
    "    ]\n",
    "}\n",
    "\n",
    "df3_3 = pd.DataFrame(data3_3)\n",
    "print(df)\n"
   ]
  },
  {
   "cell_type": "code",
   "execution_count": 216,
   "metadata": {
    "id": "XxBAtuqUSNnT"
   },
   "outputs": [],
   "source": [
    "\n",
    "\n",
    "data3_4 = {\n",
    "    'text': [\n",
    "        \"Dear [Your Name],\\n\\nI am writing to inform you about an incredible investment opportunity that promises substantial returns. As an esteemed businessperson, I believe you would appreciate the potential of this venture. By investing in our project, you can secure your financial future and enjoy unprecedented profits. Your involvement would be greatly valued, and I would be happy to provide you with more details.\",\n",
    "\n",
    "        \"Hello [Your Name],\\n\\nI hope this email finds you well. I am [Your Name], a representative of [Fake Charity Name]. Our organization is dedicated to providing humanitarian aid to impoverished communities around the world. We are seeking compassionate individuals like you to contribute to our cause. Your donation will directly impact the lives of those in need by providing them with essential resources and support.\",\n",
    "\n",
    "        \"Dear [Your Name],\\n\\nWe are excited to offer you an exclusive opportunity to join our elite membership program. As a member, you will gain access to unparalleled benefits, including luxury vacations, premium discounts, and personalized services. Act now to secure your spot and elevate your lifestyle to new heights. Click the link below to learn more and sign up for this limited-time offer.\",\n",
    "\n",
    "        \"Dear [Your Name],\\n\\nI am [Your Name], a representative of [Fake Insurance Company Name]. We understand the importance of protecting your assets and loved ones. Our comprehensive insurance policies provide peace of mind and financial security. Contact us today to discuss your insurance needs and receive a customized plan that suits your requirements.\",\n",
    "\n",
    "        \"Hello [Your Name],\\n\\nI am [Your Name], a renowned author, and I am excited to introduce you to my latest book, '[Fake Book Title].' This thought-provoking masterpiece has garnered critical acclaim and has the potential to change lives. By purchasing a copy, you not only support my work but also embark on a journey of self-discovery and enlightenment.\",\n",
    "\n",
    "        \"Dear [Your Name],\\n\\nI am reaching out to you on behalf of [Fake Tech Company Name], a leader in innovative technology solutions. Our cutting-edge products have revolutionized industries and empowered businesses. I invite you to explore our latest offerings and discover how our solutions can enhance efficiency and drive growth for your organization.\",\n",
    "\n",
    "        \"Hello [Your Name],\\n\\nI am [Your Name], a representative of [Fake Survey Company Name]. We are conducting a research study on consumer preferences and would greatly appreciate your input. By participating in our survey, you contribute to valuable market insights and have a chance to win exciting prizes. Click the link below to start the survey and enter the prize draw.\",\n",
    "\n",
    "        \"Dear [Your Name],\\n\\nI am [Your Name], a talent scout for [Fake Talent Agency Name]. We have identified you as a potential star with incredible potential in the entertainment industry. Our agency is dedicated to nurturing emerging talents and providing them with lucrative opportunities. I would love to discuss how we can shape your future success together.\",\n",
    "\n",
    "        \"Hello [Your Name],\\n\\nI am writing to inform you that your account has been selected for a security audit. In order to ensure the safety of your sensitive information, we kindly ask you to update your account credentials. Click the link below to securely update your password and maintain the integrity of your account. Your cooperation is essential in preventing unauthorized access.\",\n",
    "\n",
    "        \"Dear [Your Name],\\n\\nI am [Your Name], a representative of [Fake Event Planning Company Name]. We specialize in creating unforgettable experiences and cherished memories. Whether you are planning a wedding, corporate event, or private celebration, our team of experts is here to bring your vision to life. Contact us today to discuss your event and receive a personalized proposal.\"\n",
    "    ]\n",
    "}\n",
    "\n",
    "df3_4 = pd.DataFrame(data3_4)\n",
    "\n"
   ]
  },
  {
   "cell_type": "code",
   "execution_count": 217,
   "metadata": {
    "id": "0pN_hXl4SLmT"
   },
   "outputs": [],
   "source": [
    "data_gpt3_random = pd.concat([df3_1,df3_2,df3_3,df3_4], ignore_index=True)"
   ]
  },
  {
   "cell_type": "code",
   "execution_count": 218,
   "metadata": {
    "id": "qnzHQHrBSLpl"
   },
   "outputs": [],
   "source": [
    "data_gpt3_random['target'] = 1"
   ]
  },
  {
   "cell_type": "code",
   "execution_count": 219,
   "metadata": {
    "id": "7B-wDFG4SLs7"
   },
   "outputs": [],
   "source": [
    "merged_df_gpt3_random = pd.concat([test_dataset_raw_0_100, data_gpt3_random], ignore_index=True)\n",
    "\n",
    "# Shuffle the index\n",
    "test_125_df_gpt3_random = merged_df_gpt3_random.sample(frac=1).reset_index(drop=True)"
   ]
  },
  {
   "cell_type": "code",
   "execution_count": 220,
   "metadata": {
    "id": "eW4x8pBESLv8"
   },
   "outputs": [],
   "source": [
    "test_encodings_125_gpt3_random = tokenizer(test_125_df_gpt3_random['text'].tolist(), truncation=True, padding=True, max_length=256)\n",
    "\n",
    "test_dataset_125_gpt3_random = tf.data.Dataset.from_tensor_slices((\n",
    "    dict(test_encodings_125_gpt3_random),\n",
    "    test_125_df_gpt3_random['target'].values\n",
    "))"
   ]
  },
  {
   "cell_type": "code",
   "execution_count": 221,
   "metadata": {
    "colab": {
     "base_uri": "https://localhost:8080/"
    },
    "id": "xyDwVtCOSMWJ",
    "outputId": "03340128-219a-4c02-d1d7-2f82debfc9b2"
   },
   "outputs": [
    {
     "name": "stdout",
     "output_type": "stream",
     "text": [
      "8/8 [==============================] - 2s 278ms/step\n",
      "              precision    recall  f1-score   support\n",
      "\n",
      "  legitimate     0.8972    0.9600    0.9275       100\n",
      "    phishing     0.7778    0.5600    0.6512        25\n",
      "\n",
      "    accuracy                         0.8800       125\n",
      "   macro avg     0.8375    0.7600    0.7893       125\n",
      "weighted avg     0.8733    0.8800    0.8723       125\n",
      "\n"
     ]
    }
   ],
   "source": [
    "test_encodings_125_gpt3_random_batched = test_dataset_125_gpt3_random.batch(16)\n",
    "y_pred_raw_125_gpt3_random = model.predict(test_encodings_125_gpt3_random_batched)\n",
    "\n",
    "# Convert raw predictions to class predictions\n",
    "y_pred_125_gpt3_random = np.argmax(y_pred_raw_125_gpt3_random.logits, axis=1)\n",
    "\n",
    "# Get the actual class labels\n",
    "y_true_125_gpt3_random = []\n",
    "for features, label in test_dataset_125_gpt3_random:\n",
    "    y_true_125_gpt3_random.append(label.numpy())\n",
    "y_true_125_gpt3_random = np.array(y_true_125_gpt3_random)\n",
    "\n",
    "\n",
    "# Generate a classification report\n",
    "report_125_gpt3_random = classification_report(y_true_125_gpt3_random, y_pred_125_gpt3_random, target_names=[\"legitimate\", \"phishing\"],digits=4)  # replace target_names with your actual class names\n",
    "print(report_125_gpt3_random)"
   ]
  },
  {
   "cell_type": "markdown",
   "metadata": {
    "id": "1XY3rwdKNiAk"
   },
   "source": [
    "# chatgpt4 random"
   ]
  },
  {
   "cell_type": "code",
   "execution_count": 125,
   "metadata": {
    "id": "Y3R4awm9CUlq"
   },
   "outputs": [],
   "source": [
    "\n",
    "data1 = {'text': [\n",
    "    \"I hope this message finds you in good health. I am [Your Name], a Human Rights activist from [Your Location]. I am writing to seek your assistance for a mission I am working on, focusing on providing educational materials and healthcare support to underserved communities in our region. The lack of resources is our biggest challenge, and your generous contribution could go a long way to help. I would be extremely grateful for any financial support you can offer.\",\n",
    "    \"I am reaching out to you with a unique and potentially lucrative business proposal. I am looking for a trustworthy individual who can assist me in a profitable business venture. Due to my position as a government official, I am currently unable to move a considerable sum of money to a foreign account. I am requesting your assistance in this operation, promising a sizable percentage of the sum for your cooperation.\",\n",
    "    \"I am writing this email with a heavy heart, burdened by the financial obstacles preventing me from pursuing my dream of a college education. My name is [Your Name], and I was recently accepted into [College/University Name]. Unfortunately, due to my financial circumstances, I am struggling to pay my tuition fees. I humbly ask for your assistance in helping me continue my education.\",\n",
    "    \"I am [Your Name], a friend of [Patient's Name]. Unfortunately, [Patient's Name] has recently been diagnosed with [Disease Name] and the treatment cost is beyond what we can afford. The financial burden is overwhelming and I am asking for your help to raise funds for [Patient's Name]'s medical expenses.\",\n",
    "    \"I am writing on behalf of a Non-Governmental Organization that assists refugees. We are currently facing a severe funding crisis and are unable to extend the much-needed support to the displaced victims. I am reaching out to ask for your help. Your donation will help us provide essential supplies, medical care, and educational resources.\",\n",
    "    \"I am the coach of a local youth sports team, and we're preparing for the upcoming national championship. Unfortunately, we are struggling with a lack of resources to provide the necessary equipment for our young athletes. I am writing to ask for your generous contribution to help us equip these promising athletes.\",\n",
    "    \"I run an animal shelter that provides a safe haven for stray and abandoned animals. We are currently facing a financial crisis and are struggling to provide necessary medical care and shelter for these helpless animals. Your financial support can help us feed, treat, and find homes for these lovely animals.\",\n",
    "    \"As a researcher at [Your Institute's Name], I am leading a project on [Briefly Describe the Project]. Despite the promising nature of this research, we are currently facing financial constraints that are hindering our progress. I am writing to ask for your financial support to help us continue our groundbreaking work.\",\n",
    "    \"Our charity organization is actively involved in disaster relief work for the victims of the recent [Natural Disaster]. However, due to the scale of the disaster, we are struggling to keep up with the needs of the affected people. Any financial assistance you could provide would greatly help us in our mission.\",\n",
    "    \"I am a local artist working on a community art project. The aim is to use art as a medium to promote cultural awareness and unity in our community. Unfortunately, I lack the necessary funds to bring this project to life. Any financial support from your end would help immensely in executing this project.\"\n",
    "]}\n",
    "\n",
    "df1 = pd.DataFrame(data1)"
   ]
  },
  {
   "cell_type": "code",
   "execution_count": 126,
   "metadata": {
    "id": "eLfZj0yHCUtP"
   },
   "outputs": [],
   "source": [
    "data2 = {'text': [\n",
    "    \"Greetings! I am writing to you from the heart of a small, impoverished school in a rural area. Our school is the only source of education for the children in our community, who display an undeniable eagerness to learn and broaden their horizons. Unfortunately, we lack the basic facilities needed to provide these children with the quality education they deserve. Our classrooms are deteriorating, educational resources are scarce, and our hardworking teachers are struggling with the limited tools at their disposal. We humbly request your generous contributions to help us rebuild our school and create an environment conducive to learning for these deserving children.\",\n",
    "    \"Dear friend, this letter finds its way to you with a heavy heart. My name is [Your Name], and I served as a professor at [University Name] for over two decades. Recently, due to a series of unfortunate circumstances, I have found myself grappling with a dire financial situation. From health problems leading to skyrocketing medical bills to the financial market downturn affecting my savings, the road has been challenging. In these difficult times, I find myself turning to the kindness of individuals who may have the means to provide assistance. Any financial help, no matter how small, would go a long way in helping me navigate through these tough times.\",\n",
    "    \"Dear Sir/Madam, I am a single parent blessed with three beautiful children. Our world turned upside down when I recently lost my job due to company-wide layoffs as a result of the economic downturn. Since then, our days have been marred by uncertainty and struggles to make ends meet. I am doing my best to provide for my family and keep a roof over our heads, but it is becoming increasingly difficult with each passing day. I am writing to you today, in hope that you might find it in your heart to assist us during this difficult period. Your generous assistance, in any form or amount, will help us greatly.\",\n",
    "    \"Hello, I am writing on behalf of our local church, an establishment that has stood as a cornerstone of our community for over a century. Sadly, due to years of wear and tear, the church is in dire need of repairs. The roof is leaking, the paint is peeling, and our heating system is on its last legs. Without sufficient funds, we face the heartbreaking possibility of closing the church. As such, we are seeking donations to help us preserve this important community institution. We believe that with your help, we can restore the church to its former glory and continue serving our community.\",\n",
    "    \"Dear friend, I am an independent filmmaker currently working on a project that highlights the effects of climate change on indigenous communities. This documentary aims to bring attention to the often-overlooked victims of our changing environment, showcasing their resilience and struggle in the face of adversity. However, without the necessary funds, it has been challenging to provide this project the justice it deserves. Travel expenses, equipment rental, and post-production costs are proving to be overwhelming. I write to you in hopes of garnering financial support to help complete this crucial project. Any amount, big or small, will bring us closer to our goal.\",\n",
    "]}\n",
    "\n",
    "df2 = pd.DataFrame(data2)\n"
   ]
  },
  {
   "cell_type": "code",
   "execution_count": 127,
   "metadata": {
    "id": "fi6BoxK5CUzV"
   },
   "outputs": [],
   "source": [
    "data3 = {'text': [\n",
    "    \"Greetings! I am writing to you from the heart of a small, impoverished school in a rural area. Our school is the only source of education for the children in our community, who display an undeniable eagerness to learn and broaden their horizons. Unfortunately, we lack the basic facilities needed to provide these children with the quality education they deserve. Our classrooms are deteriorating, educational resources are scarce, and our hardworking teachers are struggling with the limited tools at their disposal. We humbly request your generous contributions to help us rebuild our school and create an environment conducive to learning for these deserving children.\",\n",
    "    \"Dear friend, this letter finds its way to you with a heavy heart. My name is [Your Name], and I served as a professor at [University Name] for over two decades. Recently, due to a series of unfortunate circumstances, I have found myself grappling with a dire financial situation. From health problems leading to skyrocketing medical bills to the financial market downturn affecting my savings, the road has been challenging. In these difficult times, I find myself turning to the kindness of individuals who may have the means to provide assistance. Any financial help, no matter how small, would go a long way in helping me navigate through these tough times.\",\n",
    "    \"Dear Sir/Madam, I am a single parent blessed with three beautiful children. Our world turned upside down when I recently lost my job due to company-wide layoffs as a result of the economic downturn. Since then, our days have been marred by uncertainty and struggles to make ends meet. I am doing my best to provide for my family and keep a roof over our heads, but it is becoming increasingly difficult with each passing day. I am writing to you today, in hope that you might find it in your heart to assist us during this difficult period. Your generous assistance, in any form or amount, will help us greatly.\",\n",
    "    \"Hello, I am writing on behalf of our local church, an establishment that has stood as a cornerstone of our community for over a century. Sadly, due to years of wear and tear, the church is in dire need of repairs. The roof is leaking, the paint is peeling, and our heating system is on its last legs. Without sufficient funds, we face the heartbreaking possibility of closing the church. As such, we are seeking donations to help us preserve this important community institution. We believe that with your help, we can restore the church to its former glory and continue serving our community.\",\n",
    "    \"Dear friend, I am an independent filmmaker currently working on a project that highlights the effects of climate change on indigenous communities. This documentary aims to bring attention to the often-overlooked victims of our changing environment, showcasing their resilience and struggle in the face of adversity. However, without the necessary funds, it has been challenging to provide this project the justice it deserves. Travel expenses, equipment rental, and post-production costs are proving to be overwhelming. I write to you in hopes of garnering financial support to help complete this crucial project. Any amount, big or small, will bring us closer to our goal.\",\n",
    "    \"Hello, my name is [Your Name] and I am an aspiring entrepreneur. I have developed an innovative product that I believe has the potential to make a significant impact in the [industry name]. I have devoted a great deal of time and personal savings into this project, but I now find myself at a standstill due to insufficient funding. I'm writing to request financial assistance to push this product to market. Your support would greatly help in covering manufacturing, marketing, and distribution costs. I sincerely believe in the potential of this product and I hope you would consider investing in its success.\",\n",
    "    \"Dear friend, I am a researcher at [Institution Name] and our team has been working tirelessly to find solutions for environmental challenges. However, scientific research often requires substantial funding. I'm writing to ask for your support. Your generous contribution would allow us to invest in essential equipment, expand our research team, and fund testing and experiments. Every donation brings us one step closer to realizing our goals for a cleaner, more sustainable world.\",\n",
    "    \"Hello, my name is [Your Name], and I am a struggling artist. I've dedicated my life to creating art that communicates the human experience, evokes emotion, and sparks thought. Unfortunately, art supplies and exhibition expenses are cost-prohibitive, often creating a barrier to my creative process. I'm writing to kindly ask for your financial assistance, which would provide much-needed support for purchasing materials and showcasing my work. Your generosity would significantly impact my ability to continue creating and sharing my art.\",\n",
    "    \"Dear Sir/Madam, I am a recent graduate carrying a substantial student loan. While I am actively seeking employment, my financial situation is precarious at best. Until I can secure a stable job, I am struggling to manage my day-to-day expenses and loan repayments. I am writing to ask for your help during this difficult time. Any assistance, financial or otherwise, would greatly alleviate the burden I am currently facing.\",\n",
    "    \"Hello, I am writing to you on behalf of a local animal shelter. We provide a safe haven for abused, abandoned, and stray animals, but operating costs are high and our resources are dwindling. From food and medical supplies to maintenance and staffing, every aspect of running the shelter needs funding. If you are in a position to help, we would greatly appreciate your support. Your donation could give an innocent animal a second chance at life.\"\n",
    "]}\n",
    "\n",
    "df3 = pd.DataFrame(data3)\n"
   ]
  },
  {
   "cell_type": "code",
   "execution_count": 128,
   "metadata": {
    "id": "fhizg6A3CU6F"
   },
   "outputs": [],
   "source": [
    "data_gpt4_random = pd.concat([df1,df2,df3], ignore_index=True)"
   ]
  },
  {
   "cell_type": "code",
   "execution_count": 129,
   "metadata": {
    "id": "4DVcnBmGCTlh"
   },
   "outputs": [],
   "source": [
    "data_gpt4_random['target'] = 1\n"
   ]
  },
  {
   "cell_type": "code",
   "execution_count": 130,
   "metadata": {
    "id": "4s9GyCN3AziJ"
   },
   "outputs": [],
   "source": [
    "merged_df_gpt4_random = pd.concat([test_dataset_raw_0_100, data_gpt4_random], ignore_index=True)\n",
    "\n",
    "# Shuffle the index\n",
    "test_125_df_gpt4_random = merged_df_gpt4_random.sample(frac=1).reset_index(drop=True)"
   ]
  },
  {
   "cell_type": "code",
   "execution_count": 131,
   "metadata": {
    "colab": {
     "base_uri": "https://localhost:8080/",
     "height": 206
    },
    "id": "mIRTaFnDnusy",
    "outputId": "99ce9a8f-acbb-44ba-a3a6-d3fc0fde2619"
   },
   "outputs": [
    {
     "data": {
      "text/html": [
       "\n",
       "  <div id=\"df-41d4901d-9cb1-4033-98f2-11941e06ef04\" class=\"colab-df-container\">\n",
       "    <div>\n",
       "<style scoped>\n",
       "    .dataframe tbody tr th:only-of-type {\n",
       "        vertical-align: middle;\n",
       "    }\n",
       "\n",
       "    .dataframe tbody tr th {\n",
       "        vertical-align: top;\n",
       "    }\n",
       "\n",
       "    .dataframe thead th {\n",
       "        text-align: right;\n",
       "    }\n",
       "</style>\n",
       "<table border=\"1\" class=\"dataframe\">\n",
       "  <thead>\n",
       "    <tr style=\"text-align: right;\">\n",
       "      <th></th>\n",
       "      <th>text</th>\n",
       "      <th>target</th>\n",
       "    </tr>\n",
       "  </thead>\n",
       "  <tbody>\n",
       "    <tr>\n",
       "      <th>0</th>\n",
       "      <td>hello guysim bugging you completed questionnai...</td>\n",
       "      <td>0</td>\n",
       "    </tr>\n",
       "    <tr>\n",
       "      <th>1</th>\n",
       "      <td>forwarded request joe hillings forwarded lora ...</td>\n",
       "      <td>0</td>\n",
       "    </tr>\n",
       "    <tr>\n",
       "      <th>2</th>\n",
       "      <td>not theorybut highly confidential jeff islikel...</td>\n",
       "      <td>0</td>\n",
       "    </tr>\n",
       "    <tr>\n",
       "      <th>3</th>\n",
       "      <td>mikehere draft version ca enron km power co pl...</td>\n",
       "      <td>0</td>\n",
       "    </tr>\n",
       "    <tr>\n",
       "      <th>4</th>\n",
       "      <td>please find attached weekly report ets optimiz...</td>\n",
       "      <td>0</td>\n",
       "    </tr>\n",
       "  </tbody>\n",
       "</table>\n",
       "</div>\n",
       "    <div class=\"colab-df-buttons\">\n",
       "\n",
       "  <div class=\"colab-df-container\">\n",
       "    <button class=\"colab-df-convert\" onclick=\"convertToInteractive('df-41d4901d-9cb1-4033-98f2-11941e06ef04')\"\n",
       "            title=\"Convert this dataframe to an interactive table.\"\n",
       "            style=\"display:none;\">\n",
       "\n",
       "  <svg xmlns=\"http://www.w3.org/2000/svg\" height=\"24px\" viewBox=\"0 -960 960 960\">\n",
       "    <path d=\"M120-120v-720h720v720H120Zm60-500h600v-160H180v160Zm220 220h160v-160H400v160Zm0 220h160v-160H400v160ZM180-400h160v-160H180v160Zm440 0h160v-160H620v160ZM180-180h160v-160H180v160Zm440 0h160v-160H620v160Z\"/>\n",
       "  </svg>\n",
       "    </button>\n",
       "\n",
       "  <style>\n",
       "    .colab-df-container {\n",
       "      display:flex;\n",
       "      gap: 12px;\n",
       "    }\n",
       "\n",
       "    .colab-df-convert {\n",
       "      background-color: #E8F0FE;\n",
       "      border: none;\n",
       "      border-radius: 50%;\n",
       "      cursor: pointer;\n",
       "      display: none;\n",
       "      fill: #1967D2;\n",
       "      height: 32px;\n",
       "      padding: 0 0 0 0;\n",
       "      width: 32px;\n",
       "    }\n",
       "\n",
       "    .colab-df-convert:hover {\n",
       "      background-color: #E2EBFA;\n",
       "      box-shadow: 0px 1px 2px rgba(60, 64, 67, 0.3), 0px 1px 3px 1px rgba(60, 64, 67, 0.15);\n",
       "      fill: #174EA6;\n",
       "    }\n",
       "\n",
       "    .colab-df-buttons div {\n",
       "      margin-bottom: 4px;\n",
       "    }\n",
       "\n",
       "    [theme=dark] .colab-df-convert {\n",
       "      background-color: #3B4455;\n",
       "      fill: #D2E3FC;\n",
       "    }\n",
       "\n",
       "    [theme=dark] .colab-df-convert:hover {\n",
       "      background-color: #434B5C;\n",
       "      box-shadow: 0px 1px 3px 1px rgba(0, 0, 0, 0.15);\n",
       "      filter: drop-shadow(0px 1px 2px rgba(0, 0, 0, 0.3));\n",
       "      fill: #FFFFFF;\n",
       "    }\n",
       "  </style>\n",
       "\n",
       "    <script>\n",
       "      const buttonEl =\n",
       "        document.querySelector('#df-41d4901d-9cb1-4033-98f2-11941e06ef04 button.colab-df-convert');\n",
       "      buttonEl.style.display =\n",
       "        google.colab.kernel.accessAllowed ? 'block' : 'none';\n",
       "\n",
       "      async function convertToInteractive(key) {\n",
       "        const element = document.querySelector('#df-41d4901d-9cb1-4033-98f2-11941e06ef04');\n",
       "        const dataTable =\n",
       "          await google.colab.kernel.invokeFunction('convertToInteractive',\n",
       "                                                    [key], {});\n",
       "        if (!dataTable) return;\n",
       "\n",
       "        const docLinkHtml = 'Like what you see? Visit the ' +\n",
       "          '<a target=\"_blank\" href=https://colab.research.google.com/notebooks/data_table.ipynb>data table notebook</a>'\n",
       "          + ' to learn more about interactive tables.';\n",
       "        element.innerHTML = '';\n",
       "        dataTable['output_type'] = 'display_data';\n",
       "        await google.colab.output.renderOutput(dataTable, element);\n",
       "        const docLink = document.createElement('div');\n",
       "        docLink.innerHTML = docLinkHtml;\n",
       "        element.appendChild(docLink);\n",
       "      }\n",
       "    </script>\n",
       "  </div>\n",
       "\n",
       "\n",
       "<div id=\"df-3636c731-1082-4a3b-b8e6-43dda81a542c\">\n",
       "  <button class=\"colab-df-quickchart\" onclick=\"quickchart('df-3636c731-1082-4a3b-b8e6-43dda81a542c')\"\n",
       "            title=\"Suggest charts.\"\n",
       "            style=\"display:none;\">\n",
       "\n",
       "<svg xmlns=\"http://www.w3.org/2000/svg\" height=\"24px\"viewBox=\"0 0 24 24\"\n",
       "     width=\"24px\">\n",
       "    <g>\n",
       "        <path d=\"M19 3H5c-1.1 0-2 .9-2 2v14c0 1.1.9 2 2 2h14c1.1 0 2-.9 2-2V5c0-1.1-.9-2-2-2zM9 17H7v-7h2v7zm4 0h-2V7h2v10zm4 0h-2v-4h2v4z\"/>\n",
       "    </g>\n",
       "</svg>\n",
       "  </button>\n",
       "\n",
       "<style>\n",
       "  .colab-df-quickchart {\n",
       "    background-color: #E8F0FE;\n",
       "    border: none;\n",
       "    border-radius: 50%;\n",
       "    cursor: pointer;\n",
       "    display: none;\n",
       "    fill: #1967D2;\n",
       "    height: 32px;\n",
       "    padding: 0 0 0 0;\n",
       "    width: 32px;\n",
       "  }\n",
       "\n",
       "  .colab-df-quickchart:hover {\n",
       "    background-color: #E2EBFA;\n",
       "    box-shadow: 0px 1px 2px rgba(60, 64, 67, 0.3), 0px 1px 3px 1px rgba(60, 64, 67, 0.15);\n",
       "    fill: #174EA6;\n",
       "  }\n",
       "\n",
       "  [theme=dark] .colab-df-quickchart {\n",
       "    background-color: #3B4455;\n",
       "    fill: #D2E3FC;\n",
       "  }\n",
       "\n",
       "  [theme=dark] .colab-df-quickchart:hover {\n",
       "    background-color: #434B5C;\n",
       "    box-shadow: 0px 1px 3px 1px rgba(0, 0, 0, 0.15);\n",
       "    filter: drop-shadow(0px 1px 2px rgba(0, 0, 0, 0.3));\n",
       "    fill: #FFFFFF;\n",
       "  }\n",
       "</style>\n",
       "\n",
       "  <script>\n",
       "    async function quickchart(key) {\n",
       "      const charts = await google.colab.kernel.invokeFunction(\n",
       "          'suggestCharts', [key], {});\n",
       "    }\n",
       "    (() => {\n",
       "      let quickchartButtonEl =\n",
       "        document.querySelector('#df-3636c731-1082-4a3b-b8e6-43dda81a542c button');\n",
       "      quickchartButtonEl.style.display =\n",
       "        google.colab.kernel.accessAllowed ? 'block' : 'none';\n",
       "    })();\n",
       "  </script>\n",
       "</div>\n",
       "    </div>\n",
       "  </div>\n"
      ],
      "text/plain": [
       "                                                text  target\n",
       "0  hello guysim bugging you completed questionnai...       0\n",
       "1  forwarded request joe hillings forwarded lora ...       0\n",
       "2  not theorybut highly confidential jeff islikel...       0\n",
       "3  mikehere draft version ca enron km power co pl...       0\n",
       "4  please find attached weekly report ets optimiz...       0"
      ]
     },
     "execution_count": 131,
     "metadata": {},
     "output_type": "execute_result"
    }
   ],
   "source": [
    "test_125_df_gpt4_random.head()"
   ]
  },
  {
   "cell_type": "code",
   "execution_count": 132,
   "metadata": {
    "id": "oHoBAAh3MIn-"
   },
   "outputs": [],
   "source": [
    "test_encodings_125_gpt4_random = tokenizer(test_125_df_gpt4_random['text'].tolist(), truncation=True, padding=True, max_length=256)\n",
    "\n",
    "test_dataset_125_gpt4_random = tf.data.Dataset.from_tensor_slices((\n",
    "    dict(test_encodings_125_gpt4_random),\n",
    "    test_125_df_gpt4_random['target'].values\n",
    "))\n"
   ]
  },
  {
   "cell_type": "code",
   "execution_count": 133,
   "metadata": {
    "colab": {
     "base_uri": "https://localhost:8080/"
    },
    "id": "AOiRdsc9MItG",
    "outputId": "4f65910a-0722-4710-f935-e36ccf316c2c"
   },
   "outputs": [
    {
     "name": "stdout",
     "output_type": "stream",
     "text": [
      "8/8 [==============================] - 2s 274ms/step\n",
      "              precision    recall  f1-score   support\n",
      "\n",
      "  legitimate     0.8276    0.9600    0.8889       100\n",
      "    phishing     0.5556    0.2000    0.2941        25\n",
      "\n",
      "    accuracy                         0.8080       125\n",
      "   macro avg     0.6916    0.5800    0.5915       125\n",
      "weighted avg     0.7732    0.8080    0.7699       125\n",
      "\n"
     ]
    }
   ],
   "source": [
    "test_encodings_125_gpt4_random_batched = test_dataset_125_gpt4_random.batch(16)\n",
    "y_pred_raw_125_gpt4_random = model.predict(test_encodings_125_gpt4_random_batched)\n",
    "\n",
    "# Convert raw predictions to class predictions\n",
    "y_pred_125_gpt4_random = np.argmax(y_pred_raw_125_gpt4_random.logits, axis=1)\n",
    "\n",
    "# Get the actual class labels\n",
    "y_true_125_gpt4_random = []\n",
    "for features, label in test_dataset_125_gpt4_random:\n",
    "    y_true_125_gpt4_random.append(label.numpy())\n",
    "y_true_125_gpt4_random = np.array(y_true_125_gpt4_random)\n",
    "\n",
    "\n",
    "# Generate a classification report\n",
    "report_125_gpt4_random = classification_report(y_true_125_gpt4_random, y_pred_125_gpt4_random, target_names=[\"legitimate\", \"phishing\"],digits=4)  # replace target_names with your actual class names\n",
    "print(report_125_gpt4_random)"
   ]
  },
  {
   "cell_type": "code",
   "execution_count": null,
   "metadata": {
    "id": "ElWZESZcMIzI"
   },
   "outputs": [],
   "source": []
  },
  {
   "cell_type": "code",
   "execution_count": 232,
   "metadata": {
    "id": "UVhlIBNrWREZ"
   },
   "outputs": [],
   "source": [
    "data5_1 = {\n",
    "    'text': [\n",
    "        \"Dear Valued [Bank Name] Customer,We're committed to protecting your account. Due to recent security updates, we've noticed some inconsistencies with your login credentials. For your safety, we require all users to undergo a quick account verification. Click the link below to start the process. If you don't verify within 24 hours, we might have to suspend your account temporarily as a precautionary measure. We understand this might be an inconvenience, but your security is our top priority.\",\n",
    "        \"Congratulations [Recipient's Name],Great news! You've been exclusively selected as the winner of our grand monthly giveaway. This means you're now eligible to claim a whopping $1,000 prize. Don't miss out on this limited-time offer, as slots fill up quickly. To get started, simply click the link below and follow the instructions. Hurry, before the offer runs out!\",\n",
    "        \"Dear PayPal User,Our team is continuously monitoring PayPal accounts for any unusual activities. Regrettably, we have detected some suspicious transactions on your account. As part of our protocol, we require you to verify your recent transactions. To help us secure your account, please log in via the link below and follow the necessary steps to confirm your identity. Failure to do so might result in temporary limitations to your account functionality.\",\n",
    "        \"Dear [Recipient's Name],We pride ourselves on the security of our user accounts. Our system recently detected an unusual login attempt to your account from an unrecognized device on [Date]. If you did not authorize this, it could mean someone tried accessing your account. Click the link below to secure your account and reset your password. Remember, never share your password with anyone.\",\n",
    "        \"Dear User,During our regular account maintenance, we noticed that your registered email address hasn't been verified yet. This is a crucial step in ensuring uninterrupted service. Confirm your email address by clicking the link below. This will also enhance the security of your account and help in faster recovery in case you ever forget your credentials.\",\n",
    "        \"Hello [Recipient's Name],Based on your last year's financial activities, our records indicate that you are eligible for a tax refund of $500. To process this, you need to confirm some personal details. Click the link below to fill out the necessary form and claim your refund. Act now, or you might miss out on your deserved refund.\",\n",
    "        \"Dear [Recipient's Name],Thank you for your recent purchase on Amazon. Your order, comprising of a [Product Name], has been confirmed, and the total charge is $299.99. If you believe there's been a mistake and you did not authorize this purchase, please click the link below immediately to get in touch with our support team and prevent potential fraudulent activity.\",\n",
    "        \"Hello,A new voicemail was left on your account at 4:32 PM today. Given the importance of the message, we urge you to listen to it at the earliest. Simply click the link below to access the voicemail. Please note that for security reasons, the link will expire in 24 hours.\",\n",
    "        \"Dear User, A trusted contact, [Contact's Name], has shared a crucial document with you via Google Docs. We believe this could be of utmost importance. Click the link below to access the document. For the safety and privacy of both parties involved, we request you not to forward this email or the document link to anyone else.\",\n",
    "        \"Dear [Service Name] User,We've encountered an issue with your recent payment. Our system was unable to process it due to some inconsistencies with the provided payment details. To ensure uninterrupted service, kindly click the link below to update your payment information. Remember, timely action can prevent potential service lags and disruptions.\"\n",
    "    ]\n",
    "}\n",
    "\n",
    "df5_1 = pd.DataFrame(data5_1)\n",
    "\n"
   ]
  },
  {
   "cell_type": "code",
   "execution_count": 233,
   "metadata": {
    "id": "lGEwKaoXWRJr"
   },
   "outputs": [],
   "source": [
    "data5_2 = {\n",
    "    'text': [\n",
    "        \"Dear [Recipient's Name],We've noticed that your Microsoft Office 365 account hasn't been updated to our latest security protocol. In order to maintain uninterrupted access to your services and enhance your security, please click the link below and follow the instructions to update your account. Failure to do so within 72 hours might result in reduced functionalities.\",\n",
    "        \"Hello Valued Customer,As a routine check, our team has identified that your email storage has reached its maximum limit. To avoid bouncing back of incoming messages, it is essential that you extend your storage limit. Click the link below to purchase additional storage and ensure a smooth email experience.\",\n",
    "        \"Dear [Recipient's Name],We are excited to announce our special anniversary giveaway! As a token of our gratitude for your continued loyalty, you've been chosen to take part in our exclusive sweepstakes. Click the link below for a chance to win exciting prizes, including a brand new iPhone! Act now, the offer is for a limited period.\",\n",
    "        \"Hello,We regret to inform you that your credit card transaction on our website faced an error. To avoid any disruption and rectify this, we need you to confirm your payment details. Click the link below to provide the necessary information. Your prompt action is highly appreciated.\",\n",
    "        \"Dear User,We've detected an unauthorized login to your Facebook account from an unfamiliar location. For your security, we've temporarily locked your account. To regain access, click the link below and follow the steps to verify your identity. Remember, it's crucial to act swiftly to prevent any potential misuse.\",\n",
    "        \"Hello,Your iCloud account shows that a new device has been added. If you did not authorize this change, it's crucial to secure your account immediately. Click the link below to verify your devices and, if needed, change your password. Your digital safety is our priority.\",\n",
    "        \"Dear [Recipient's Name],We are updating our database and wish to validate all user accounts to better tailor our services. Please click the link below to confirm your account details. Users who fail to confirm their details by the given deadline might experience service interruptions.\",\n",
    "        \"Greetings,We noticed you haven't been using your Dropbox account recently. To keep your account active and avoid deletion due to inactivity, please log in by clicking the link below and accessing some of your stored files. Remember, active usage ensures the continued safety of your files.\",\n",
    "        \"Dear [Service Name] Subscriber,Our records indicate that your subscription is about to expire. To continue enjoying our premium benefits, please renew your subscription by clicking the link below. Early renewals might be eligible for special discounts!\",\n",
    "        \"Hello [Recipient's Name],We noticed an attempt to change the password for your Gmail account. If you did not request this change, please click the link below immediately to secure your account. Regular checks and timely actions are crucial for maintaining the integrity of your personal information.\"\n",
    "    ]\n",
    "}\n",
    "\n",
    "df5_2 = pd.DataFrame(data5_2)\n",
    "\n"
   ]
  },
  {
   "cell_type": "code",
   "execution_count": 234,
   "metadata": {
    "id": "ShbdbivlWROo"
   },
   "outputs": [],
   "source": [
    "data5_3 = {\n",
    "    'text': [\n",
    "        \"Dear Amazon Shopper,During our regular account verification, we found a discrepancy in your delivery details. To ensure uninterrupted service and timely deliveries, please update your shipping address by clicking the link below. Remember, keeping your details up-to-date ensures a seamless shopping experience.\",\n",
    "        \"Hello [Recipient's Name],Thank you for participating in our recent survey. Based on your responses, you qualify for a $100 gift voucher from our partner brands! Claim your reward by clicking the link below. Hurry, this offer is time-sensitiv\",\n",
    "        \"Dear [Recipient's Name],We noticed multiple failed login attempts on your Netflix account. For your protection, we've temporarily locked your account. Click the link below to validate your identity and reset your password. Ensure you use strong passwords for enhanced safety.\",\n",
    "        \"Greetings,You're receiving this because you've been selected to participate in our exclusive beta testing for the new Google features. Experience the future of online search before anyone else! Click the link below to join the program and provide us with invaluable feedback.\",\n",
    "        \"Hello [Recipient's Name],We're updating our user agreement. To continue using our services, you must agree to the new terms and conditions. Click the link below to review and accept the changes. Users who don't accept the updated terms may face service limitations.\"\n",
    "    ]\n",
    "}\n",
    "\n",
    "df5_3 = pd.DataFrame(data5_3)\n",
    "\n"
   ]
  },
  {
   "cell_type": "code",
   "execution_count": 235,
   "metadata": {
    "id": "5pinr5ulWkxI"
   },
   "outputs": [],
   "source": [
    "data_gpt5_random = pd.concat([df5_1,df5_2,df5_3], ignore_index=True)"
   ]
  },
  {
   "cell_type": "code",
   "execution_count": 236,
   "metadata": {
    "id": "hJlDoVdbWk1U"
   },
   "outputs": [],
   "source": [
    "data_gpt5_random['target'] = 1\n"
   ]
  },
  {
   "cell_type": "code",
   "execution_count": 237,
   "metadata": {
    "colab": {
     "base_uri": "https://localhost:8080/"
    },
    "id": "hmeOb22eZF7Q",
    "outputId": "7bed4d40-7c3f-488c-cd68-ed928e1a258a"
   },
   "outputs": [
    {
     "data": {
      "text/plain": [
       "(25, 2)"
      ]
     },
     "execution_count": 237,
     "metadata": {},
     "output_type": "execute_result"
    }
   ],
   "source": [
    "data_gpt5_random.shape"
   ]
  },
  {
   "cell_type": "code",
   "execution_count": 242,
   "metadata": {
    "id": "iw3qGrbbWk4r"
   },
   "outputs": [],
   "source": [
    "merged_df_gpt5_random = pd.concat([test_dataset_raw_0_100, data_gpt5_random], ignore_index=True)\n",
    "\n",
    "# Shuffle the index\n",
    "test_125_df_gpt5_random = merged_df_gpt5_random.sample(frac=1).reset_index(drop=True)"
   ]
  },
  {
   "cell_type": "code",
   "execution_count": 243,
   "metadata": {
    "colab": {
     "base_uri": "https://localhost:8080/",
     "height": 424
    },
    "id": "-0DdodVXZMiN",
    "outputId": "32c01c67-853e-4e2a-9897-ec5956f41714"
   },
   "outputs": [
    {
     "data": {
      "text/html": [
       "\n",
       "  <div id=\"df-226cb856-5ddf-4ba3-be19-20a23e81fdc1\" class=\"colab-df-container\">\n",
       "    <div>\n",
       "<style scoped>\n",
       "    .dataframe tbody tr th:only-of-type {\n",
       "        vertical-align: middle;\n",
       "    }\n",
       "\n",
       "    .dataframe tbody tr th {\n",
       "        vertical-align: top;\n",
       "    }\n",
       "\n",
       "    .dataframe thead th {\n",
       "        text-align: right;\n",
       "    }\n",
       "</style>\n",
       "<table border=\"1\" class=\"dataframe\">\n",
       "  <thead>\n",
       "    <tr style=\"text-align: right;\">\n",
       "      <th></th>\n",
       "      <th>text</th>\n",
       "      <th>target</th>\n",
       "    </tr>\n",
       "  </thead>\n",
       "  <tbody>\n",
       "    <tr>\n",
       "      <th>0</th>\n",
       "      <td>Dear User,During our regular account maintenan...</td>\n",
       "      <td>1</td>\n",
       "    </tr>\n",
       "    <tr>\n",
       "      <th>1</th>\n",
       "      <td>Dear [Recipient's Name],We've noticed that you...</td>\n",
       "      <td>1</td>\n",
       "    </tr>\n",
       "    <tr>\n",
       "      <th>2</th>\n",
       "      <td>Greetings,We noticed you haven't been using yo...</td>\n",
       "      <td>1</td>\n",
       "    </tr>\n",
       "    <tr>\n",
       "      <th>3</th>\n",
       "      <td>mike i already seen resume i know gas market a...</td>\n",
       "      <td>0</td>\n",
       "    </tr>\n",
       "    <tr>\n",
       "      <th>4</th>\n",
       "      <td>jeffmy name tom mashington im construction pro...</td>\n",
       "      <td>0</td>\n",
       "    </tr>\n",
       "    <tr>\n",
       "      <th>...</th>\n",
       "      <td>...</td>\n",
       "      <td>...</td>\n",
       "    </tr>\n",
       "    <tr>\n",
       "      <th>120</th>\n",
       "      <td>i proud owner  doors  even door handles andloc...</td>\n",
       "      <td>0</td>\n",
       "    </tr>\n",
       "    <tr>\n",
       "      <th>121</th>\n",
       "      <td>kay london eventregardsdelainey forwarded davi...</td>\n",
       "      <td>0</td>\n",
       "    </tr>\n",
       "    <tr>\n",
       "      <th>122</th>\n",
       "      <td>fyi michelle forwarded michelle cashhouect   a...</td>\n",
       "      <td>0</td>\n",
       "    </tr>\n",
       "    <tr>\n",
       "      <th>123</th>\n",
       "      <td>business highlightsenron industrial marketsth...</td>\n",
       "      <td>0</td>\n",
       "    </tr>\n",
       "    <tr>\n",
       "      <th>124</th>\n",
       "      <td>i met contact department state global affairs ...</td>\n",
       "      <td>0</td>\n",
       "    </tr>\n",
       "  </tbody>\n",
       "</table>\n",
       "<p>125 rows × 2 columns</p>\n",
       "</div>\n",
       "    <div class=\"colab-df-buttons\">\n",
       "\n",
       "  <div class=\"colab-df-container\">\n",
       "    <button class=\"colab-df-convert\" onclick=\"convertToInteractive('df-226cb856-5ddf-4ba3-be19-20a23e81fdc1')\"\n",
       "            title=\"Convert this dataframe to an interactive table.\"\n",
       "            style=\"display:none;\">\n",
       "\n",
       "  <svg xmlns=\"http://www.w3.org/2000/svg\" height=\"24px\" viewBox=\"0 -960 960 960\">\n",
       "    <path d=\"M120-120v-720h720v720H120Zm60-500h600v-160H180v160Zm220 220h160v-160H400v160Zm0 220h160v-160H400v160ZM180-400h160v-160H180v160Zm440 0h160v-160H620v160ZM180-180h160v-160H180v160Zm440 0h160v-160H620v160Z\"/>\n",
       "  </svg>\n",
       "    </button>\n",
       "\n",
       "  <style>\n",
       "    .colab-df-container {\n",
       "      display:flex;\n",
       "      gap: 12px;\n",
       "    }\n",
       "\n",
       "    .colab-df-convert {\n",
       "      background-color: #E8F0FE;\n",
       "      border: none;\n",
       "      border-radius: 50%;\n",
       "      cursor: pointer;\n",
       "      display: none;\n",
       "      fill: #1967D2;\n",
       "      height: 32px;\n",
       "      padding: 0 0 0 0;\n",
       "      width: 32px;\n",
       "    }\n",
       "\n",
       "    .colab-df-convert:hover {\n",
       "      background-color: #E2EBFA;\n",
       "      box-shadow: 0px 1px 2px rgba(60, 64, 67, 0.3), 0px 1px 3px 1px rgba(60, 64, 67, 0.15);\n",
       "      fill: #174EA6;\n",
       "    }\n",
       "\n",
       "    .colab-df-buttons div {\n",
       "      margin-bottom: 4px;\n",
       "    }\n",
       "\n",
       "    [theme=dark] .colab-df-convert {\n",
       "      background-color: #3B4455;\n",
       "      fill: #D2E3FC;\n",
       "    }\n",
       "\n",
       "    [theme=dark] .colab-df-convert:hover {\n",
       "      background-color: #434B5C;\n",
       "      box-shadow: 0px 1px 3px 1px rgba(0, 0, 0, 0.15);\n",
       "      filter: drop-shadow(0px 1px 2px rgba(0, 0, 0, 0.3));\n",
       "      fill: #FFFFFF;\n",
       "    }\n",
       "  </style>\n",
       "\n",
       "    <script>\n",
       "      const buttonEl =\n",
       "        document.querySelector('#df-226cb856-5ddf-4ba3-be19-20a23e81fdc1 button.colab-df-convert');\n",
       "      buttonEl.style.display =\n",
       "        google.colab.kernel.accessAllowed ? 'block' : 'none';\n",
       "\n",
       "      async function convertToInteractive(key) {\n",
       "        const element = document.querySelector('#df-226cb856-5ddf-4ba3-be19-20a23e81fdc1');\n",
       "        const dataTable =\n",
       "          await google.colab.kernel.invokeFunction('convertToInteractive',\n",
       "                                                    [key], {});\n",
       "        if (!dataTable) return;\n",
       "\n",
       "        const docLinkHtml = 'Like what you see? Visit the ' +\n",
       "          '<a target=\"_blank\" href=https://colab.research.google.com/notebooks/data_table.ipynb>data table notebook</a>'\n",
       "          + ' to learn more about interactive tables.';\n",
       "        element.innerHTML = '';\n",
       "        dataTable['output_type'] = 'display_data';\n",
       "        await google.colab.output.renderOutput(dataTable, element);\n",
       "        const docLink = document.createElement('div');\n",
       "        docLink.innerHTML = docLinkHtml;\n",
       "        element.appendChild(docLink);\n",
       "      }\n",
       "    </script>\n",
       "  </div>\n",
       "\n",
       "\n",
       "<div id=\"df-6e8f1491-7aed-4779-ac76-9b24628751d1\">\n",
       "  <button class=\"colab-df-quickchart\" onclick=\"quickchart('df-6e8f1491-7aed-4779-ac76-9b24628751d1')\"\n",
       "            title=\"Suggest charts.\"\n",
       "            style=\"display:none;\">\n",
       "\n",
       "<svg xmlns=\"http://www.w3.org/2000/svg\" height=\"24px\"viewBox=\"0 0 24 24\"\n",
       "     width=\"24px\">\n",
       "    <g>\n",
       "        <path d=\"M19 3H5c-1.1 0-2 .9-2 2v14c0 1.1.9 2 2 2h14c1.1 0 2-.9 2-2V5c0-1.1-.9-2-2-2zM9 17H7v-7h2v7zm4 0h-2V7h2v10zm4 0h-2v-4h2v4z\"/>\n",
       "    </g>\n",
       "</svg>\n",
       "  </button>\n",
       "\n",
       "<style>\n",
       "  .colab-df-quickchart {\n",
       "    background-color: #E8F0FE;\n",
       "    border: none;\n",
       "    border-radius: 50%;\n",
       "    cursor: pointer;\n",
       "    display: none;\n",
       "    fill: #1967D2;\n",
       "    height: 32px;\n",
       "    padding: 0 0 0 0;\n",
       "    width: 32px;\n",
       "  }\n",
       "\n",
       "  .colab-df-quickchart:hover {\n",
       "    background-color: #E2EBFA;\n",
       "    box-shadow: 0px 1px 2px rgba(60, 64, 67, 0.3), 0px 1px 3px 1px rgba(60, 64, 67, 0.15);\n",
       "    fill: #174EA6;\n",
       "  }\n",
       "\n",
       "  [theme=dark] .colab-df-quickchart {\n",
       "    background-color: #3B4455;\n",
       "    fill: #D2E3FC;\n",
       "  }\n",
       "\n",
       "  [theme=dark] .colab-df-quickchart:hover {\n",
       "    background-color: #434B5C;\n",
       "    box-shadow: 0px 1px 3px 1px rgba(0, 0, 0, 0.15);\n",
       "    filter: drop-shadow(0px 1px 2px rgba(0, 0, 0, 0.3));\n",
       "    fill: #FFFFFF;\n",
       "  }\n",
       "</style>\n",
       "\n",
       "  <script>\n",
       "    async function quickchart(key) {\n",
       "      const charts = await google.colab.kernel.invokeFunction(\n",
       "          'suggestCharts', [key], {});\n",
       "    }\n",
       "    (() => {\n",
       "      let quickchartButtonEl =\n",
       "        document.querySelector('#df-6e8f1491-7aed-4779-ac76-9b24628751d1 button');\n",
       "      quickchartButtonEl.style.display =\n",
       "        google.colab.kernel.accessAllowed ? 'block' : 'none';\n",
       "    })();\n",
       "  </script>\n",
       "</div>\n",
       "    </div>\n",
       "  </div>\n"
      ],
      "text/plain": [
       "                                                  text  target\n",
       "0    Dear User,During our regular account maintenan...       1\n",
       "1    Dear [Recipient's Name],We've noticed that you...       1\n",
       "2    Greetings,We noticed you haven't been using yo...       1\n",
       "3    mike i already seen resume i know gas market a...       0\n",
       "4    jeffmy name tom mashington im construction pro...       0\n",
       "..                                                 ...     ...\n",
       "120  i proud owner  doors  even door handles andloc...       0\n",
       "121  kay london eventregardsdelainey forwarded davi...       0\n",
       "122  fyi michelle forwarded michelle cashhouect   a...       0\n",
       "123   business highlightsenron industrial marketsth...       0\n",
       "124  i met contact department state global affairs ...       0\n",
       "\n",
       "[125 rows x 2 columns]"
      ]
     },
     "execution_count": 243,
     "metadata": {},
     "output_type": "execute_result"
    }
   ],
   "source": [
    "test_125_df_gpt5_random"
   ]
  },
  {
   "cell_type": "code",
   "execution_count": 244,
   "metadata": {
    "id": "qdBQm1n0WRSy"
   },
   "outputs": [],
   "source": [
    "test_encodings_125_gpt5_random = tokenizer(test_125_df_gpt5_random['text'].tolist(), truncation=True, padding=True, max_length=256)\n",
    "\n",
    "test_dataset_125_gpt5_random = tf.data.Dataset.from_tensor_slices((\n",
    "    dict(test_encodings_125_gpt5_random),\n",
    "    test_125_df_gpt5_random['target'].values\n",
    "))"
   ]
  },
  {
   "cell_type": "code",
   "execution_count": 245,
   "metadata": {
    "colab": {
     "base_uri": "https://localhost:8080/"
    },
    "id": "0JugbjGBWRXR",
    "outputId": "ae72adc9-c8ce-4a3e-9b4f-85087b502a08"
   },
   "outputs": [
    {
     "name": "stdout",
     "output_type": "stream",
     "text": [
      "8/8 [==============================] - 2s 276ms/step\n",
      "              precision    recall  f1-score   support\n",
      "\n",
      "  legitimate     0.7934    0.9600    0.8688       100\n",
      "    phishing     0.0000    0.0000    0.0000        25\n",
      "\n",
      "    accuracy                         0.7680       125\n",
      "   macro avg     0.3967    0.4800    0.4344       125\n",
      "weighted avg     0.6347    0.7680    0.6950       125\n",
      "\n"
     ]
    }
   ],
   "source": [
    "test_encodings_125_gpt5_random_batched = test_dataset_125_gpt5_random.batch(16)\n",
    "y_pred_raw_125_gpt5_random = model.predict(test_encodings_125_gpt5_random_batched)\n",
    "\n",
    "# Convert raw predictions to class predictions\n",
    "y_pred_125_gpt5_random = np.argmax(y_pred_raw_125_gpt5_random.logits, axis=1)\n",
    "\n",
    "# Get the actual class labels\n",
    "y_true_125_gpt5_random = []\n",
    "for features, label in test_dataset_125_gpt5_random:\n",
    "    y_true_125_gpt5_random.append(label.numpy())\n",
    "y_true_125_gpt5_random = np.array(y_true_125_gpt5_random)\n",
    "\n",
    "\n",
    "# Generate a classification report\n",
    "report_125_gpt5_random = classification_report(y_true_125_gpt5_random, y_pred_125_gpt5_random, target_names=[\"legitimate\", \"phishing\"],digits=4)  # replace target_names with your actual class names\n",
    "print(report_125_gpt5_random)"
   ]
  },
  {
   "cell_type": "code",
   "execution_count": null,
   "metadata": {
    "id": "Tv72JuUIWRbd"
   },
   "outputs": [],
   "source": []
  },
  {
   "cell_type": "code",
   "execution_count": null,
   "metadata": {
    "id": "ODU45agZMI4j"
   },
   "outputs": [],
   "source": []
  },
  {
   "cell_type": "code",
   "execution_count": null,
   "metadata": {
    "id": "uJGqnmJ-Aznc"
   },
   "outputs": [],
   "source": []
  }
 ],
 "metadata": {
  "accelerator": "GPU",
  "colab": {
   "gpuType": "T4",
   "provenance": []
  },
  "kernelspec": {
   "display_name": "Python 3 (ipykernel)",
   "language": "python",
   "name": "python3"
  },
  "language_info": {
   "codemirror_mode": {
    "name": "ipython",
    "version": 3
   },
   "file_extension": ".py",
   "mimetype": "text/x-python",
   "name": "python",
   "nbconvert_exporter": "python",
   "pygments_lexer": "ipython3",
   "version": "3.8.12"
  },
  "toc": {
   "base_numbering": 1,
   "nav_menu": {},
   "number_sections": true,
   "sideBar": true,
   "skip_h1_title": false,
   "title_cell": "Table of Contents",
   "title_sidebar": "Contents",
   "toc_cell": false,
   "toc_position": {},
   "toc_section_display": true,
   "toc_window_display": false
  },
  "widgets": {
   "application/vnd.jupyter.widget-state+json": {
    "09287f3a3f594d678a77264d3184848f": {
     "model_module": "@jupyter-widgets/controls",
     "model_module_version": "1.5.0",
     "model_name": "HTMLModel",
     "state": {
      "_dom_classes": [],
      "_model_module": "@jupyter-widgets/controls",
      "_model_module_version": "1.5.0",
      "_model_name": "HTMLModel",
      "_view_count": null,
      "_view_module": "@jupyter-widgets/controls",
      "_view_module_version": "1.5.0",
      "_view_name": "HTMLView",
      "description": "",
      "description_tooltip": null,
      "layout": "IPY_MODEL_8ffd98e859154f699ecc7813e2fe9239",
      "placeholder": "​",
      "style": "IPY_MODEL_85bef14ffede4bf9b2a38c909f645a66",
      "value": "Downloading model.safetensors: 100%"
     }
    },
    "119c6605092442c5bc2177ae94b72dda": {
     "model_module": "@jupyter-widgets/controls",
     "model_module_version": "1.5.0",
     "model_name": "HTMLModel",
     "state": {
      "_dom_classes": [],
      "_model_module": "@jupyter-widgets/controls",
      "_model_module_version": "1.5.0",
      "_model_name": "HTMLModel",
      "_view_count": null,
      "_view_module": "@jupyter-widgets/controls",
      "_view_module_version": "1.5.0",
      "_view_name": "HTMLView",
      "description": "",
      "description_tooltip": null,
      "layout": "IPY_MODEL_941d905ce44f427582472a01bb9c0dc4",
      "placeholder": "​",
      "style": "IPY_MODEL_f9ebc8f71b5148a3b737b76083f90c1b",
      "value": "Downloading (…)lve/main/config.json: 100%"
     }
    },
    "1983e91a77d74bfeb62a816fe82c2f73": {
     "model_module": "@jupyter-widgets/controls",
     "model_module_version": "1.5.0",
     "model_name": "HTMLModel",
     "state": {
      "_dom_classes": [],
      "_model_module": "@jupyter-widgets/controls",
      "_model_module_version": "1.5.0",
      "_model_name": "HTMLModel",
      "_view_count": null,
      "_view_module": "@jupyter-widgets/controls",
      "_view_module_version": "1.5.0",
      "_view_name": "HTMLView",
      "description": "",
      "description_tooltip": null,
      "layout": "IPY_MODEL_48a98b8f87fb4e509fcef628b5522164",
      "placeholder": "​",
      "style": "IPY_MODEL_ace87f7565ff4662995eecce9ca397d5",
      "value": " 499M/499M [00:05&lt;00:00, 34.1MB/s]"
     }
    },
    "1c1f60abc89944ffbb355d1aa371ffdb": {
     "model_module": "@jupyter-widgets/controls",
     "model_module_version": "1.5.0",
     "model_name": "FloatProgressModel",
     "state": {
      "_dom_classes": [],
      "_model_module": "@jupyter-widgets/controls",
      "_model_module_version": "1.5.0",
      "_model_name": "FloatProgressModel",
      "_view_count": null,
      "_view_module": "@jupyter-widgets/controls",
      "_view_module_version": "1.5.0",
      "_view_name": "ProgressView",
      "bar_style": "success",
      "description": "",
      "description_tooltip": null,
      "layout": "IPY_MODEL_b33674f686174afebefe26bbfb38269c",
      "max": 456318,
      "min": 0,
      "orientation": "horizontal",
      "style": "IPY_MODEL_fe245cba6a7f41f18eb3c088446982d8",
      "value": 456318
     }
    },
    "1f3464490f1f4fb0a12b10961cb778fc": {
     "model_module": "@jupyter-widgets/base",
     "model_module_version": "1.2.0",
     "model_name": "LayoutModel",
     "state": {
      "_model_module": "@jupyter-widgets/base",
      "_model_module_version": "1.2.0",
      "_model_name": "LayoutModel",
      "_view_count": null,
      "_view_module": "@jupyter-widgets/base",
      "_view_module_version": "1.2.0",
      "_view_name": "LayoutView",
      "align_content": null,
      "align_items": null,
      "align_self": null,
      "border": null,
      "bottom": null,
      "display": null,
      "flex": null,
      "flex_flow": null,
      "grid_area": null,
      "grid_auto_columns": null,
      "grid_auto_flow": null,
      "grid_auto_rows": null,
      "grid_column": null,
      "grid_gap": null,
      "grid_row": null,
      "grid_template_areas": null,
      "grid_template_columns": null,
      "grid_template_rows": null,
      "height": null,
      "justify_content": null,
      "justify_items": null,
      "left": null,
      "margin": null,
      "max_height": null,
      "max_width": null,
      "min_height": null,
      "min_width": null,
      "object_fit": null,
      "object_position": null,
      "order": null,
      "overflow": null,
      "overflow_x": null,
      "overflow_y": null,
      "padding": null,
      "right": null,
      "top": null,
      "visibility": null,
      "width": null
     }
    },
    "3209af3daf0840a7ba51668c6a8bbecd": {
     "model_module": "@jupyter-widgets/base",
     "model_module_version": "1.2.0",
     "model_name": "LayoutModel",
     "state": {
      "_model_module": "@jupyter-widgets/base",
      "_model_module_version": "1.2.0",
      "_model_name": "LayoutModel",
      "_view_count": null,
      "_view_module": "@jupyter-widgets/base",
      "_view_module_version": "1.2.0",
      "_view_name": "LayoutView",
      "align_content": null,
      "align_items": null,
      "align_self": null,
      "border": null,
      "bottom": null,
      "display": null,
      "flex": null,
      "flex_flow": null,
      "grid_area": null,
      "grid_auto_columns": null,
      "grid_auto_flow": null,
      "grid_auto_rows": null,
      "grid_column": null,
      "grid_gap": null,
      "grid_row": null,
      "grid_template_areas": null,
      "grid_template_columns": null,
      "grid_template_rows": null,
      "height": null,
      "justify_content": null,
      "justify_items": null,
      "left": null,
      "margin": null,
      "max_height": null,
      "max_width": null,
      "min_height": null,
      "min_width": null,
      "object_fit": null,
      "object_position": null,
      "order": null,
      "overflow": null,
      "overflow_x": null,
      "overflow_y": null,
      "padding": null,
      "right": null,
      "top": null,
      "visibility": null,
      "width": null
     }
    },
    "36eb8872bad74875980d83d7fa3bd014": {
     "model_module": "@jupyter-widgets/controls",
     "model_module_version": "1.5.0",
     "model_name": "HTMLModel",
     "state": {
      "_dom_classes": [],
      "_model_module": "@jupyter-widgets/controls",
      "_model_module_version": "1.5.0",
      "_model_name": "HTMLModel",
      "_view_count": null,
      "_view_module": "@jupyter-widgets/controls",
      "_view_module_version": "1.5.0",
      "_view_name": "HTMLView",
      "description": "",
      "description_tooltip": null,
      "layout": "IPY_MODEL_d07b4a1783914de981895f47c565964d",
      "placeholder": "​",
      "style": "IPY_MODEL_d32d712d36a54d07bf09323e53cb0ba3",
      "value": " 456k/456k [00:00&lt;00:00, 1.89MB/s]"
     }
    },
    "385b55cc965f430b90df8bf44e7cfbf9": {
     "model_module": "@jupyter-widgets/base",
     "model_module_version": "1.2.0",
     "model_name": "LayoutModel",
     "state": {
      "_model_module": "@jupyter-widgets/base",
      "_model_module_version": "1.2.0",
      "_model_name": "LayoutModel",
      "_view_count": null,
      "_view_module": "@jupyter-widgets/base",
      "_view_module_version": "1.2.0",
      "_view_name": "LayoutView",
      "align_content": null,
      "align_items": null,
      "align_self": null,
      "border": null,
      "bottom": null,
      "display": null,
      "flex": null,
      "flex_flow": null,
      "grid_area": null,
      "grid_auto_columns": null,
      "grid_auto_flow": null,
      "grid_auto_rows": null,
      "grid_column": null,
      "grid_gap": null,
      "grid_row": null,
      "grid_template_areas": null,
      "grid_template_columns": null,
      "grid_template_rows": null,
      "height": null,
      "justify_content": null,
      "justify_items": null,
      "left": null,
      "margin": null,
      "max_height": null,
      "max_width": null,
      "min_height": null,
      "min_width": null,
      "object_fit": null,
      "object_position": null,
      "order": null,
      "overflow": null,
      "overflow_x": null,
      "overflow_y": null,
      "padding": null,
      "right": null,
      "top": null,
      "visibility": null,
      "width": null
     }
    },
    "3efa4cb68a8e4e1686cd4b6bca83c4aa": {
     "model_module": "@jupyter-widgets/base",
     "model_module_version": "1.2.0",
     "model_name": "LayoutModel",
     "state": {
      "_model_module": "@jupyter-widgets/base",
      "_model_module_version": "1.2.0",
      "_model_name": "LayoutModel",
      "_view_count": null,
      "_view_module": "@jupyter-widgets/base",
      "_view_module_version": "1.2.0",
      "_view_name": "LayoutView",
      "align_content": null,
      "align_items": null,
      "align_self": null,
      "border": null,
      "bottom": null,
      "display": null,
      "flex": null,
      "flex_flow": null,
      "grid_area": null,
      "grid_auto_columns": null,
      "grid_auto_flow": null,
      "grid_auto_rows": null,
      "grid_column": null,
      "grid_gap": null,
      "grid_row": null,
      "grid_template_areas": null,
      "grid_template_columns": null,
      "grid_template_rows": null,
      "height": null,
      "justify_content": null,
      "justify_items": null,
      "left": null,
      "margin": null,
      "max_height": null,
      "max_width": null,
      "min_height": null,
      "min_width": null,
      "object_fit": null,
      "object_position": null,
      "order": null,
      "overflow": null,
      "overflow_x": null,
      "overflow_y": null,
      "padding": null,
      "right": null,
      "top": null,
      "visibility": null,
      "width": null
     }
    },
    "416421b1f6f84e08a46f035d9bb997d7": {
     "model_module": "@jupyter-widgets/base",
     "model_module_version": "1.2.0",
     "model_name": "LayoutModel",
     "state": {
      "_model_module": "@jupyter-widgets/base",
      "_model_module_version": "1.2.0",
      "_model_name": "LayoutModel",
      "_view_count": null,
      "_view_module": "@jupyter-widgets/base",
      "_view_module_version": "1.2.0",
      "_view_name": "LayoutView",
      "align_content": null,
      "align_items": null,
      "align_self": null,
      "border": null,
      "bottom": null,
      "display": null,
      "flex": null,
      "flex_flow": null,
      "grid_area": null,
      "grid_auto_columns": null,
      "grid_auto_flow": null,
      "grid_auto_rows": null,
      "grid_column": null,
      "grid_gap": null,
      "grid_row": null,
      "grid_template_areas": null,
      "grid_template_columns": null,
      "grid_template_rows": null,
      "height": null,
      "justify_content": null,
      "justify_items": null,
      "left": null,
      "margin": null,
      "max_height": null,
      "max_width": null,
      "min_height": null,
      "min_width": null,
      "object_fit": null,
      "object_position": null,
      "order": null,
      "overflow": null,
      "overflow_x": null,
      "overflow_y": null,
      "padding": null,
      "right": null,
      "top": null,
      "visibility": null,
      "width": null
     }
    },
    "43165216947b4193a47381269754d4f5": {
     "model_module": "@jupyter-widgets/controls",
     "model_module_version": "1.5.0",
     "model_name": "HTMLModel",
     "state": {
      "_dom_classes": [],
      "_model_module": "@jupyter-widgets/controls",
      "_model_module_version": "1.5.0",
      "_model_name": "HTMLModel",
      "_view_count": null,
      "_view_module": "@jupyter-widgets/controls",
      "_view_module_version": "1.5.0",
      "_view_name": "HTMLView",
      "description": "",
      "description_tooltip": null,
      "layout": "IPY_MODEL_416421b1f6f84e08a46f035d9bb997d7",
      "placeholder": "​",
      "style": "IPY_MODEL_43e34efd2f324dbebd7ab7537525c40e",
      "value": "Downloading (…)olve/main/vocab.json: 100%"
     }
    },
    "43e34efd2f324dbebd7ab7537525c40e": {
     "model_module": "@jupyter-widgets/controls",
     "model_module_version": "1.5.0",
     "model_name": "DescriptionStyleModel",
     "state": {
      "_model_module": "@jupyter-widgets/controls",
      "_model_module_version": "1.5.0",
      "_model_name": "DescriptionStyleModel",
      "_view_count": null,
      "_view_module": "@jupyter-widgets/base",
      "_view_module_version": "1.2.0",
      "_view_name": "StyleView",
      "description_width": ""
     }
    },
    "446c32e6c2b6482d9bd815715e7cf632": {
     "model_module": "@jupyter-widgets/controls",
     "model_module_version": "1.5.0",
     "model_name": "HBoxModel",
     "state": {
      "_dom_classes": [],
      "_model_module": "@jupyter-widgets/controls",
      "_model_module_version": "1.5.0",
      "_model_name": "HBoxModel",
      "_view_count": null,
      "_view_module": "@jupyter-widgets/controls",
      "_view_module_version": "1.5.0",
      "_view_name": "HBoxView",
      "box_style": "",
      "children": [
       "IPY_MODEL_43165216947b4193a47381269754d4f5",
       "IPY_MODEL_e392999aa69448f68c74913e88fc6d39",
       "IPY_MODEL_4789e2d6b37b45e4b0c2896de224757c"
      ],
      "layout": "IPY_MODEL_b5e7d4a2eefe49a09802bf1195142350"
     }
    },
    "47209183118e4c3b9cd6391ca71ad5b9": {
     "model_module": "@jupyter-widgets/base",
     "model_module_version": "1.2.0",
     "model_name": "LayoutModel",
     "state": {
      "_model_module": "@jupyter-widgets/base",
      "_model_module_version": "1.2.0",
      "_model_name": "LayoutModel",
      "_view_count": null,
      "_view_module": "@jupyter-widgets/base",
      "_view_module_version": "1.2.0",
      "_view_name": "LayoutView",
      "align_content": null,
      "align_items": null,
      "align_self": null,
      "border": null,
      "bottom": null,
      "display": null,
      "flex": null,
      "flex_flow": null,
      "grid_area": null,
      "grid_auto_columns": null,
      "grid_auto_flow": null,
      "grid_auto_rows": null,
      "grid_column": null,
      "grid_gap": null,
      "grid_row": null,
      "grid_template_areas": null,
      "grid_template_columns": null,
      "grid_template_rows": null,
      "height": null,
      "justify_content": null,
      "justify_items": null,
      "left": null,
      "margin": null,
      "max_height": null,
      "max_width": null,
      "min_height": null,
      "min_width": null,
      "object_fit": null,
      "object_position": null,
      "order": null,
      "overflow": null,
      "overflow_x": null,
      "overflow_y": null,
      "padding": null,
      "right": null,
      "top": null,
      "visibility": null,
      "width": null
     }
    },
    "4789e2d6b37b45e4b0c2896de224757c": {
     "model_module": "@jupyter-widgets/controls",
     "model_module_version": "1.5.0",
     "model_name": "HTMLModel",
     "state": {
      "_dom_classes": [],
      "_model_module": "@jupyter-widgets/controls",
      "_model_module_version": "1.5.0",
      "_model_name": "HTMLModel",
      "_view_count": null,
      "_view_module": "@jupyter-widgets/controls",
      "_view_module_version": "1.5.0",
      "_view_name": "HTMLView",
      "description": "",
      "description_tooltip": null,
      "layout": "IPY_MODEL_3efa4cb68a8e4e1686cd4b6bca83c4aa",
      "placeholder": "​",
      "style": "IPY_MODEL_fb716c8bab034c25a88c0351ae7ecbdf",
      "value": " 899k/899k [00:00&lt;00:00, 2.89MB/s]"
     }
    },
    "48a98b8f87fb4e509fcef628b5522164": {
     "model_module": "@jupyter-widgets/base",
     "model_module_version": "1.2.0",
     "model_name": "LayoutModel",
     "state": {
      "_model_module": "@jupyter-widgets/base",
      "_model_module_version": "1.2.0",
      "_model_name": "LayoutModel",
      "_view_count": null,
      "_view_module": "@jupyter-widgets/base",
      "_view_module_version": "1.2.0",
      "_view_name": "LayoutView",
      "align_content": null,
      "align_items": null,
      "align_self": null,
      "border": null,
      "bottom": null,
      "display": null,
      "flex": null,
      "flex_flow": null,
      "grid_area": null,
      "grid_auto_columns": null,
      "grid_auto_flow": null,
      "grid_auto_rows": null,
      "grid_column": null,
      "grid_gap": null,
      "grid_row": null,
      "grid_template_areas": null,
      "grid_template_columns": null,
      "grid_template_rows": null,
      "height": null,
      "justify_content": null,
      "justify_items": null,
      "left": null,
      "margin": null,
      "max_height": null,
      "max_width": null,
      "min_height": null,
      "min_width": null,
      "object_fit": null,
      "object_position": null,
      "order": null,
      "overflow": null,
      "overflow_x": null,
      "overflow_y": null,
      "padding": null,
      "right": null,
      "top": null,
      "visibility": null,
      "width": null
     }
    },
    "4a12baf782d847a197f7bd6e74567956": {
     "model_module": "@jupyter-widgets/controls",
     "model_module_version": "1.5.0",
     "model_name": "ProgressStyleModel",
     "state": {
      "_model_module": "@jupyter-widgets/controls",
      "_model_module_version": "1.5.0",
      "_model_name": "ProgressStyleModel",
      "_view_count": null,
      "_view_module": "@jupyter-widgets/base",
      "_view_module_version": "1.2.0",
      "_view_name": "StyleView",
      "bar_color": null,
      "description_width": ""
     }
    },
    "518ef657bc7f49d8858679c90b0579ae": {
     "model_module": "@jupyter-widgets/controls",
     "model_module_version": "1.5.0",
     "model_name": "DescriptionStyleModel",
     "state": {
      "_model_module": "@jupyter-widgets/controls",
      "_model_module_version": "1.5.0",
      "_model_name": "DescriptionStyleModel",
      "_view_count": null,
      "_view_module": "@jupyter-widgets/base",
      "_view_module_version": "1.2.0",
      "_view_name": "StyleView",
      "description_width": ""
     }
    },
    "6cec00ec159c44ebbabc5171470df5f2": {
     "model_module": "@jupyter-widgets/controls",
     "model_module_version": "1.5.0",
     "model_name": "FloatProgressModel",
     "state": {
      "_dom_classes": [],
      "_model_module": "@jupyter-widgets/controls",
      "_model_module_version": "1.5.0",
      "_model_name": "FloatProgressModel",
      "_view_count": null,
      "_view_module": "@jupyter-widgets/controls",
      "_view_module_version": "1.5.0",
      "_view_name": "ProgressView",
      "bar_style": "success",
      "description": "",
      "description_tooltip": null,
      "layout": "IPY_MODEL_47209183118e4c3b9cd6391ca71ad5b9",
      "max": 481,
      "min": 0,
      "orientation": "horizontal",
      "style": "IPY_MODEL_df9843077a934596b73eea3086da25eb",
      "value": 481
     }
    },
    "85bef14ffede4bf9b2a38c909f645a66": {
     "model_module": "@jupyter-widgets/controls",
     "model_module_version": "1.5.0",
     "model_name": "DescriptionStyleModel",
     "state": {
      "_model_module": "@jupyter-widgets/controls",
      "_model_module_version": "1.5.0",
      "_model_name": "DescriptionStyleModel",
      "_view_count": null,
      "_view_module": "@jupyter-widgets/base",
      "_view_module_version": "1.2.0",
      "_view_name": "StyleView",
      "description_width": ""
     }
    },
    "8ffd98e859154f699ecc7813e2fe9239": {
     "model_module": "@jupyter-widgets/base",
     "model_module_version": "1.2.0",
     "model_name": "LayoutModel",
     "state": {
      "_model_module": "@jupyter-widgets/base",
      "_model_module_version": "1.2.0",
      "_model_name": "LayoutModel",
      "_view_count": null,
      "_view_module": "@jupyter-widgets/base",
      "_view_module_version": "1.2.0",
      "_view_name": "LayoutView",
      "align_content": null,
      "align_items": null,
      "align_self": null,
      "border": null,
      "bottom": null,
      "display": null,
      "flex": null,
      "flex_flow": null,
      "grid_area": null,
      "grid_auto_columns": null,
      "grid_auto_flow": null,
      "grid_auto_rows": null,
      "grid_column": null,
      "grid_gap": null,
      "grid_row": null,
      "grid_template_areas": null,
      "grid_template_columns": null,
      "grid_template_rows": null,
      "height": null,
      "justify_content": null,
      "justify_items": null,
      "left": null,
      "margin": null,
      "max_height": null,
      "max_width": null,
      "min_height": null,
      "min_width": null,
      "object_fit": null,
      "object_position": null,
      "order": null,
      "overflow": null,
      "overflow_x": null,
      "overflow_y": null,
      "padding": null,
      "right": null,
      "top": null,
      "visibility": null,
      "width": null
     }
    },
    "941d905ce44f427582472a01bb9c0dc4": {
     "model_module": "@jupyter-widgets/base",
     "model_module_version": "1.2.0",
     "model_name": "LayoutModel",
     "state": {
      "_model_module": "@jupyter-widgets/base",
      "_model_module_version": "1.2.0",
      "_model_name": "LayoutModel",
      "_view_count": null,
      "_view_module": "@jupyter-widgets/base",
      "_view_module_version": "1.2.0",
      "_view_name": "LayoutView",
      "align_content": null,
      "align_items": null,
      "align_self": null,
      "border": null,
      "bottom": null,
      "display": null,
      "flex": null,
      "flex_flow": null,
      "grid_area": null,
      "grid_auto_columns": null,
      "grid_auto_flow": null,
      "grid_auto_rows": null,
      "grid_column": null,
      "grid_gap": null,
      "grid_row": null,
      "grid_template_areas": null,
      "grid_template_columns": null,
      "grid_template_rows": null,
      "height": null,
      "justify_content": null,
      "justify_items": null,
      "left": null,
      "margin": null,
      "max_height": null,
      "max_width": null,
      "min_height": null,
      "min_width": null,
      "object_fit": null,
      "object_position": null,
      "order": null,
      "overflow": null,
      "overflow_x": null,
      "overflow_y": null,
      "padding": null,
      "right": null,
      "top": null,
      "visibility": null,
      "width": null
     }
    },
    "9ea638786b1c4112a5e00f3381cd8705": {
     "model_module": "@jupyter-widgets/base",
     "model_module_version": "1.2.0",
     "model_name": "LayoutModel",
     "state": {
      "_model_module": "@jupyter-widgets/base",
      "_model_module_version": "1.2.0",
      "_model_name": "LayoutModel",
      "_view_count": null,
      "_view_module": "@jupyter-widgets/base",
      "_view_module_version": "1.2.0",
      "_view_name": "LayoutView",
      "align_content": null,
      "align_items": null,
      "align_self": null,
      "border": null,
      "bottom": null,
      "display": null,
      "flex": null,
      "flex_flow": null,
      "grid_area": null,
      "grid_auto_columns": null,
      "grid_auto_flow": null,
      "grid_auto_rows": null,
      "grid_column": null,
      "grid_gap": null,
      "grid_row": null,
      "grid_template_areas": null,
      "grid_template_columns": null,
      "grid_template_rows": null,
      "height": null,
      "justify_content": null,
      "justify_items": null,
      "left": null,
      "margin": null,
      "max_height": null,
      "max_width": null,
      "min_height": null,
      "min_width": null,
      "object_fit": null,
      "object_position": null,
      "order": null,
      "overflow": null,
      "overflow_x": null,
      "overflow_y": null,
      "padding": null,
      "right": null,
      "top": null,
      "visibility": null,
      "width": null
     }
    },
    "a501985aad7545ffaf175a0efdc84310": {
     "model_module": "@jupyter-widgets/base",
     "model_module_version": "1.2.0",
     "model_name": "LayoutModel",
     "state": {
      "_model_module": "@jupyter-widgets/base",
      "_model_module_version": "1.2.0",
      "_model_name": "LayoutModel",
      "_view_count": null,
      "_view_module": "@jupyter-widgets/base",
      "_view_module_version": "1.2.0",
      "_view_name": "LayoutView",
      "align_content": null,
      "align_items": null,
      "align_self": null,
      "border": null,
      "bottom": null,
      "display": null,
      "flex": null,
      "flex_flow": null,
      "grid_area": null,
      "grid_auto_columns": null,
      "grid_auto_flow": null,
      "grid_auto_rows": null,
      "grid_column": null,
      "grid_gap": null,
      "grid_row": null,
      "grid_template_areas": null,
      "grid_template_columns": null,
      "grid_template_rows": null,
      "height": null,
      "justify_content": null,
      "justify_items": null,
      "left": null,
      "margin": null,
      "max_height": null,
      "max_width": null,
      "min_height": null,
      "min_width": null,
      "object_fit": null,
      "object_position": null,
      "order": null,
      "overflow": null,
      "overflow_x": null,
      "overflow_y": null,
      "padding": null,
      "right": null,
      "top": null,
      "visibility": null,
      "width": null
     }
    },
    "ace87f7565ff4662995eecce9ca397d5": {
     "model_module": "@jupyter-widgets/controls",
     "model_module_version": "1.5.0",
     "model_name": "DescriptionStyleModel",
     "state": {
      "_model_module": "@jupyter-widgets/controls",
      "_model_module_version": "1.5.0",
      "_model_name": "DescriptionStyleModel",
      "_view_count": null,
      "_view_module": "@jupyter-widgets/base",
      "_view_module_version": "1.2.0",
      "_view_name": "StyleView",
      "description_width": ""
     }
    },
    "b33674f686174afebefe26bbfb38269c": {
     "model_module": "@jupyter-widgets/base",
     "model_module_version": "1.2.0",
     "model_name": "LayoutModel",
     "state": {
      "_model_module": "@jupyter-widgets/base",
      "_model_module_version": "1.2.0",
      "_model_name": "LayoutModel",
      "_view_count": null,
      "_view_module": "@jupyter-widgets/base",
      "_view_module_version": "1.2.0",
      "_view_name": "LayoutView",
      "align_content": null,
      "align_items": null,
      "align_self": null,
      "border": null,
      "bottom": null,
      "display": null,
      "flex": null,
      "flex_flow": null,
      "grid_area": null,
      "grid_auto_columns": null,
      "grid_auto_flow": null,
      "grid_auto_rows": null,
      "grid_column": null,
      "grid_gap": null,
      "grid_row": null,
      "grid_template_areas": null,
      "grid_template_columns": null,
      "grid_template_rows": null,
      "height": null,
      "justify_content": null,
      "justify_items": null,
      "left": null,
      "margin": null,
      "max_height": null,
      "max_width": null,
      "min_height": null,
      "min_width": null,
      "object_fit": null,
      "object_position": null,
      "order": null,
      "overflow": null,
      "overflow_x": null,
      "overflow_y": null,
      "padding": null,
      "right": null,
      "top": null,
      "visibility": null,
      "width": null
     }
    },
    "b5e7d4a2eefe49a09802bf1195142350": {
     "model_module": "@jupyter-widgets/base",
     "model_module_version": "1.2.0",
     "model_name": "LayoutModel",
     "state": {
      "_model_module": "@jupyter-widgets/base",
      "_model_module_version": "1.2.0",
      "_model_name": "LayoutModel",
      "_view_count": null,
      "_view_module": "@jupyter-widgets/base",
      "_view_module_version": "1.2.0",
      "_view_name": "LayoutView",
      "align_content": null,
      "align_items": null,
      "align_self": null,
      "border": null,
      "bottom": null,
      "display": null,
      "flex": null,
      "flex_flow": null,
      "grid_area": null,
      "grid_auto_columns": null,
      "grid_auto_flow": null,
      "grid_auto_rows": null,
      "grid_column": null,
      "grid_gap": null,
      "grid_row": null,
      "grid_template_areas": null,
      "grid_template_columns": null,
      "grid_template_rows": null,
      "height": null,
      "justify_content": null,
      "justify_items": null,
      "left": null,
      "margin": null,
      "max_height": null,
      "max_width": null,
      "min_height": null,
      "min_width": null,
      "object_fit": null,
      "object_position": null,
      "order": null,
      "overflow": null,
      "overflow_x": null,
      "overflow_y": null,
      "padding": null,
      "right": null,
      "top": null,
      "visibility": null,
      "width": null
     }
    },
    "baafea7d7fe0478d84c2f8104bf9fa77": {
     "model_module": "@jupyter-widgets/controls",
     "model_module_version": "1.5.0",
     "model_name": "DescriptionStyleModel",
     "state": {
      "_model_module": "@jupyter-widgets/controls",
      "_model_module_version": "1.5.0",
      "_model_name": "DescriptionStyleModel",
      "_view_count": null,
      "_view_module": "@jupyter-widgets/base",
      "_view_module_version": "1.2.0",
      "_view_name": "StyleView",
      "description_width": ""
     }
    },
    "bd7ba51502ed4622a5b2d52b06fd2615": {
     "model_module": "@jupyter-widgets/controls",
     "model_module_version": "1.5.0",
     "model_name": "FloatProgressModel",
     "state": {
      "_dom_classes": [],
      "_model_module": "@jupyter-widgets/controls",
      "_model_module_version": "1.5.0",
      "_model_name": "FloatProgressModel",
      "_view_count": null,
      "_view_module": "@jupyter-widgets/controls",
      "_view_module_version": "1.5.0",
      "_view_name": "ProgressView",
      "bar_style": "success",
      "description": "",
      "description_tooltip": null,
      "layout": "IPY_MODEL_385b55cc965f430b90df8bf44e7cfbf9",
      "max": 498818054,
      "min": 0,
      "orientation": "horizontal",
      "style": "IPY_MODEL_4a12baf782d847a197f7bd6e74567956",
      "value": 498818054
     }
    },
    "ca6d9ca60d2e49b3bc3fa9b47eb00dae": {
     "model_module": "@jupyter-widgets/controls",
     "model_module_version": "1.5.0",
     "model_name": "HTMLModel",
     "state": {
      "_dom_classes": [],
      "_model_module": "@jupyter-widgets/controls",
      "_model_module_version": "1.5.0",
      "_model_name": "HTMLModel",
      "_view_count": null,
      "_view_module": "@jupyter-widgets/controls",
      "_view_module_version": "1.5.0",
      "_view_name": "HTMLView",
      "description": "",
      "description_tooltip": null,
      "layout": "IPY_MODEL_f38611435adb4c2a81f0a4d25b89005c",
      "placeholder": "​",
      "style": "IPY_MODEL_518ef657bc7f49d8858679c90b0579ae",
      "value": " 481/481 [00:00&lt;00:00, 5.84kB/s]"
     }
    },
    "d07b4a1783914de981895f47c565964d": {
     "model_module": "@jupyter-widgets/base",
     "model_module_version": "1.2.0",
     "model_name": "LayoutModel",
     "state": {
      "_model_module": "@jupyter-widgets/base",
      "_model_module_version": "1.2.0",
      "_model_name": "LayoutModel",
      "_view_count": null,
      "_view_module": "@jupyter-widgets/base",
      "_view_module_version": "1.2.0",
      "_view_name": "LayoutView",
      "align_content": null,
      "align_items": null,
      "align_self": null,
      "border": null,
      "bottom": null,
      "display": null,
      "flex": null,
      "flex_flow": null,
      "grid_area": null,
      "grid_auto_columns": null,
      "grid_auto_flow": null,
      "grid_auto_rows": null,
      "grid_column": null,
      "grid_gap": null,
      "grid_row": null,
      "grid_template_areas": null,
      "grid_template_columns": null,
      "grid_template_rows": null,
      "height": null,
      "justify_content": null,
      "justify_items": null,
      "left": null,
      "margin": null,
      "max_height": null,
      "max_width": null,
      "min_height": null,
      "min_width": null,
      "object_fit": null,
      "object_position": null,
      "order": null,
      "overflow": null,
      "overflow_x": null,
      "overflow_y": null,
      "padding": null,
      "right": null,
      "top": null,
      "visibility": null,
      "width": null
     }
    },
    "d256127d992647b2aa6c9ad3602a7a80": {
     "model_module": "@jupyter-widgets/controls",
     "model_module_version": "1.5.0",
     "model_name": "ProgressStyleModel",
     "state": {
      "_model_module": "@jupyter-widgets/controls",
      "_model_module_version": "1.5.0",
      "_model_name": "ProgressStyleModel",
      "_view_count": null,
      "_view_module": "@jupyter-widgets/base",
      "_view_module_version": "1.2.0",
      "_view_name": "StyleView",
      "bar_color": null,
      "description_width": ""
     }
    },
    "d32d712d36a54d07bf09323e53cb0ba3": {
     "model_module": "@jupyter-widgets/controls",
     "model_module_version": "1.5.0",
     "model_name": "DescriptionStyleModel",
     "state": {
      "_model_module": "@jupyter-widgets/controls",
      "_model_module_version": "1.5.0",
      "_model_name": "DescriptionStyleModel",
      "_view_count": null,
      "_view_module": "@jupyter-widgets/base",
      "_view_module_version": "1.2.0",
      "_view_name": "StyleView",
      "description_width": ""
     }
    },
    "d429c11daf2149c292355d25683bc5c5": {
     "model_module": "@jupyter-widgets/controls",
     "model_module_version": "1.5.0",
     "model_name": "HTMLModel",
     "state": {
      "_dom_classes": [],
      "_model_module": "@jupyter-widgets/controls",
      "_model_module_version": "1.5.0",
      "_model_name": "HTMLModel",
      "_view_count": null,
      "_view_module": "@jupyter-widgets/controls",
      "_view_module_version": "1.5.0",
      "_view_name": "HTMLView",
      "description": "",
      "description_tooltip": null,
      "layout": "IPY_MODEL_3209af3daf0840a7ba51668c6a8bbecd",
      "placeholder": "​",
      "style": "IPY_MODEL_baafea7d7fe0478d84c2f8104bf9fa77",
      "value": "Downloading (…)olve/main/merges.txt: 100%"
     }
    },
    "d714c652b2a94e5dafc0af9f7c8278f3": {
     "model_module": "@jupyter-widgets/controls",
     "model_module_version": "1.5.0",
     "model_name": "HBoxModel",
     "state": {
      "_dom_classes": [],
      "_model_module": "@jupyter-widgets/controls",
      "_model_module_version": "1.5.0",
      "_model_name": "HBoxModel",
      "_view_count": null,
      "_view_module": "@jupyter-widgets/controls",
      "_view_module_version": "1.5.0",
      "_view_name": "HBoxView",
      "box_style": "",
      "children": [
       "IPY_MODEL_09287f3a3f594d678a77264d3184848f",
       "IPY_MODEL_bd7ba51502ed4622a5b2d52b06fd2615",
       "IPY_MODEL_1983e91a77d74bfeb62a816fe82c2f73"
      ],
      "layout": "IPY_MODEL_1f3464490f1f4fb0a12b10961cb778fc"
     }
    },
    "df9843077a934596b73eea3086da25eb": {
     "model_module": "@jupyter-widgets/controls",
     "model_module_version": "1.5.0",
     "model_name": "ProgressStyleModel",
     "state": {
      "_model_module": "@jupyter-widgets/controls",
      "_model_module_version": "1.5.0",
      "_model_name": "ProgressStyleModel",
      "_view_count": null,
      "_view_module": "@jupyter-widgets/base",
      "_view_module_version": "1.2.0",
      "_view_name": "StyleView",
      "bar_color": null,
      "description_width": ""
     }
    },
    "e1b9e46158ed4a87b59f44b168095a59": {
     "model_module": "@jupyter-widgets/base",
     "model_module_version": "1.2.0",
     "model_name": "LayoutModel",
     "state": {
      "_model_module": "@jupyter-widgets/base",
      "_model_module_version": "1.2.0",
      "_model_name": "LayoutModel",
      "_view_count": null,
      "_view_module": "@jupyter-widgets/base",
      "_view_module_version": "1.2.0",
      "_view_name": "LayoutView",
      "align_content": null,
      "align_items": null,
      "align_self": null,
      "border": null,
      "bottom": null,
      "display": null,
      "flex": null,
      "flex_flow": null,
      "grid_area": null,
      "grid_auto_columns": null,
      "grid_auto_flow": null,
      "grid_auto_rows": null,
      "grid_column": null,
      "grid_gap": null,
      "grid_row": null,
      "grid_template_areas": null,
      "grid_template_columns": null,
      "grid_template_rows": null,
      "height": null,
      "justify_content": null,
      "justify_items": null,
      "left": null,
      "margin": null,
      "max_height": null,
      "max_width": null,
      "min_height": null,
      "min_width": null,
      "object_fit": null,
      "object_position": null,
      "order": null,
      "overflow": null,
      "overflow_x": null,
      "overflow_y": null,
      "padding": null,
      "right": null,
      "top": null,
      "visibility": null,
      "width": null
     }
    },
    "e392999aa69448f68c74913e88fc6d39": {
     "model_module": "@jupyter-widgets/controls",
     "model_module_version": "1.5.0",
     "model_name": "FloatProgressModel",
     "state": {
      "_dom_classes": [],
      "_model_module": "@jupyter-widgets/controls",
      "_model_module_version": "1.5.0",
      "_model_name": "FloatProgressModel",
      "_view_count": null,
      "_view_module": "@jupyter-widgets/controls",
      "_view_module_version": "1.5.0",
      "_view_name": "ProgressView",
      "bar_style": "success",
      "description": "",
      "description_tooltip": null,
      "layout": "IPY_MODEL_e1b9e46158ed4a87b59f44b168095a59",
      "max": 898823,
      "min": 0,
      "orientation": "horizontal",
      "style": "IPY_MODEL_d256127d992647b2aa6c9ad3602a7a80",
      "value": 898823
     }
    },
    "ed931d36adf64f57a585914551703b6c": {
     "model_module": "@jupyter-widgets/controls",
     "model_module_version": "1.5.0",
     "model_name": "HBoxModel",
     "state": {
      "_dom_classes": [],
      "_model_module": "@jupyter-widgets/controls",
      "_model_module_version": "1.5.0",
      "_model_name": "HBoxModel",
      "_view_count": null,
      "_view_module": "@jupyter-widgets/controls",
      "_view_module_version": "1.5.0",
      "_view_name": "HBoxView",
      "box_style": "",
      "children": [
       "IPY_MODEL_d429c11daf2149c292355d25683bc5c5",
       "IPY_MODEL_1c1f60abc89944ffbb355d1aa371ffdb",
       "IPY_MODEL_36eb8872bad74875980d83d7fa3bd014"
      ],
      "layout": "IPY_MODEL_a501985aad7545ffaf175a0efdc84310"
     }
    },
    "eed0e46eee164955a29bf1ee0a048eaa": {
     "model_module": "@jupyter-widgets/controls",
     "model_module_version": "1.5.0",
     "model_name": "HBoxModel",
     "state": {
      "_dom_classes": [],
      "_model_module": "@jupyter-widgets/controls",
      "_model_module_version": "1.5.0",
      "_model_name": "HBoxModel",
      "_view_count": null,
      "_view_module": "@jupyter-widgets/controls",
      "_view_module_version": "1.5.0",
      "_view_name": "HBoxView",
      "box_style": "",
      "children": [
       "IPY_MODEL_119c6605092442c5bc2177ae94b72dda",
       "IPY_MODEL_6cec00ec159c44ebbabc5171470df5f2",
       "IPY_MODEL_ca6d9ca60d2e49b3bc3fa9b47eb00dae"
      ],
      "layout": "IPY_MODEL_9ea638786b1c4112a5e00f3381cd8705"
     }
    },
    "f38611435adb4c2a81f0a4d25b89005c": {
     "model_module": "@jupyter-widgets/base",
     "model_module_version": "1.2.0",
     "model_name": "LayoutModel",
     "state": {
      "_model_module": "@jupyter-widgets/base",
      "_model_module_version": "1.2.0",
      "_model_name": "LayoutModel",
      "_view_count": null,
      "_view_module": "@jupyter-widgets/base",
      "_view_module_version": "1.2.0",
      "_view_name": "LayoutView",
      "align_content": null,
      "align_items": null,
      "align_self": null,
      "border": null,
      "bottom": null,
      "display": null,
      "flex": null,
      "flex_flow": null,
      "grid_area": null,
      "grid_auto_columns": null,
      "grid_auto_flow": null,
      "grid_auto_rows": null,
      "grid_column": null,
      "grid_gap": null,
      "grid_row": null,
      "grid_template_areas": null,
      "grid_template_columns": null,
      "grid_template_rows": null,
      "height": null,
      "justify_content": null,
      "justify_items": null,
      "left": null,
      "margin": null,
      "max_height": null,
      "max_width": null,
      "min_height": null,
      "min_width": null,
      "object_fit": null,
      "object_position": null,
      "order": null,
      "overflow": null,
      "overflow_x": null,
      "overflow_y": null,
      "padding": null,
      "right": null,
      "top": null,
      "visibility": null,
      "width": null
     }
    },
    "f9ebc8f71b5148a3b737b76083f90c1b": {
     "model_module": "@jupyter-widgets/controls",
     "model_module_version": "1.5.0",
     "model_name": "DescriptionStyleModel",
     "state": {
      "_model_module": "@jupyter-widgets/controls",
      "_model_module_version": "1.5.0",
      "_model_name": "DescriptionStyleModel",
      "_view_count": null,
      "_view_module": "@jupyter-widgets/base",
      "_view_module_version": "1.2.0",
      "_view_name": "StyleView",
      "description_width": ""
     }
    },
    "fb716c8bab034c25a88c0351ae7ecbdf": {
     "model_module": "@jupyter-widgets/controls",
     "model_module_version": "1.5.0",
     "model_name": "DescriptionStyleModel",
     "state": {
      "_model_module": "@jupyter-widgets/controls",
      "_model_module_version": "1.5.0",
      "_model_name": "DescriptionStyleModel",
      "_view_count": null,
      "_view_module": "@jupyter-widgets/base",
      "_view_module_version": "1.2.0",
      "_view_name": "StyleView",
      "description_width": ""
     }
    },
    "fe245cba6a7f41f18eb3c088446982d8": {
     "model_module": "@jupyter-widgets/controls",
     "model_module_version": "1.5.0",
     "model_name": "ProgressStyleModel",
     "state": {
      "_model_module": "@jupyter-widgets/controls",
      "_model_module_version": "1.5.0",
      "_model_name": "ProgressStyleModel",
      "_view_count": null,
      "_view_module": "@jupyter-widgets/base",
      "_view_module_version": "1.2.0",
      "_view_name": "StyleView",
      "bar_color": null,
      "description_width": ""
     }
    }
   }
  }
 },
 "nbformat": 4,
 "nbformat_minor": 1
}
