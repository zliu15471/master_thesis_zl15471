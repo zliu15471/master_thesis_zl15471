{
  "cells": [
    {
      "cell_type": "markdown",
      "metadata": {
        "id": "LKiZPNsDZKoI"
      },
      "source": [
        "# OLID datasets"
      ]
    },
    {
      "cell_type": "markdown",
      "metadata": {
        "id": "d__lhz6DZSXQ"
      },
      "source": [
        "## import libraries"
      ]
    },
    {
      "cell_type": "code",
      "execution_count": 1,
      "metadata": {
        "id": "hs8Uv4JiY73R"
      },
      "outputs": [],
      "source": [
        "import pandas as pd\n",
        "import string\n",
        "import numpy as np\n",
        "import seaborn as sns\n",
        "import matplotlib.pyplot as plt\n",
        "\n",
        "from sklearn.preprocessing import LabelEncoder\n",
        "from sklearn.feature_extraction.text import TfidfVectorizer\n",
        "from sklearn.metrics import precision_recall_fscore_support, accuracy_score, confusion_matrix\n",
        "from sklearn.model_selection import train_test_split\n"
      ]
    },
    {
      "cell_type": "markdown",
      "metadata": {
        "id": "6pco8I-fbBgs"
      },
      "source": [
        "## load the datasets"
      ]
    },
    {
      "cell_type": "code",
      "execution_count": 3,
      "metadata": {
        "colab": {
          "base_uri": "https://localhost:8080/"
        },
        "id": "fD49tpaqY8gu",
        "outputId": "d3d6994d-c0da-4771-b873-c315377b24c6"
      },
      "outputs": [
        {
          "output_type": "stream",
          "name": "stdout",
          "text": [
            "          id                                              tweet subtask_a  \\\n",
            "0      86426  @USER She should ask a few native Americans wh...       OFF   \n",
            "1      90194  @USER @USER Go home you’re drunk!!! @USER #MAG...       OFF   \n",
            "2      16820  Amazon is investigating Chinese employees who ...       NOT   \n",
            "3      62688  @USER Someone should'veTaken\" this piece of sh...       OFF   \n",
            "4      43605  @USER @USER Obama wanted liberals &amp; illega...       NOT   \n",
            "...      ...                                                ...       ...   \n",
            "13235  95338  @USER Sometimes I get strong vibes from people...       OFF   \n",
            "13236  67210  Benidorm ✅  Creamfields ✅  Maga ✅   Not too sh...       NOT   \n",
            "13237  82921  @USER And why report this garbage.  We don't g...       OFF   \n",
            "13238  27429                                        @USER Pussy       OFF   \n",
            "13239  46552  #Spanishrevenge vs. #justice #HumanRights and ...       NOT   \n",
            "\n",
            "      subtask_b subtask_c  \n",
            "0           UNT       NaN  \n",
            "1           TIN       IND  \n",
            "2           NaN       NaN  \n",
            "3           UNT       NaN  \n",
            "4           NaN       NaN  \n",
            "...         ...       ...  \n",
            "13235       TIN       IND  \n",
            "13236       NaN       NaN  \n",
            "13237       TIN       OTH  \n",
            "13238       UNT       NaN  \n",
            "13239       NaN       NaN  \n",
            "\n",
            "[13240 rows x 5 columns]\n"
          ]
        }
      ],
      "source": [
        "train_data=pd.read_csv('./olid-training-v1.0.tsv', delimiter='\\t', encoding='utf-8')\n",
        "\n",
        "train_tweets = train_data[['tweet']] #Extract tweets\n",
        "train_task_a_labels= train_data[['subtask_a']] #Extract subtsak_a labels\n",
        "\n",
        "train_task_a_labels.columns.values[0] = 'class_a' #Rename class attribute\n",
        "\n",
        "\n",
        "print(train_data)"
      ]
    },
    {
      "cell_type": "code",
      "execution_count": 4,
      "metadata": {
        "colab": {
          "base_uri": "https://localhost:8080/",
          "height": 424
        },
        "id": "FtSxdXMGwWar",
        "outputId": "5fe88eaa-b98d-4741-9f82-49da49c02410"
      },
      "outputs": [
        {
          "output_type": "execute_result",
          "data": {
            "text/plain": [
              "          id                                              tweet subtask_a  \\\n",
              "0      86426  @USER She should ask a few native Americans wh...       OFF   \n",
              "1      90194  @USER @USER Go home you’re drunk!!! @USER #MAG...       OFF   \n",
              "2      16820  Amazon is investigating Chinese employees who ...       NOT   \n",
              "3      62688  @USER Someone should'veTaken\" this piece of sh...       OFF   \n",
              "4      43605  @USER @USER Obama wanted liberals &amp; illega...       NOT   \n",
              "...      ...                                                ...       ...   \n",
              "13235  95338  @USER Sometimes I get strong vibes from people...       OFF   \n",
              "13236  67210  Benidorm ✅  Creamfields ✅  Maga ✅   Not too sh...       NOT   \n",
              "13237  82921  @USER And why report this garbage.  We don't g...       OFF   \n",
              "13238  27429                                        @USER Pussy       OFF   \n",
              "13239  46552  #Spanishrevenge vs. #justice #HumanRights and ...       NOT   \n",
              "\n",
              "      subtask_b subtask_c  \n",
              "0           UNT       NaN  \n",
              "1           TIN       IND  \n",
              "2           NaN       NaN  \n",
              "3           UNT       NaN  \n",
              "4           NaN       NaN  \n",
              "...         ...       ...  \n",
              "13235       TIN       IND  \n",
              "13236       NaN       NaN  \n",
              "13237       TIN       OTH  \n",
              "13238       UNT       NaN  \n",
              "13239       NaN       NaN  \n",
              "\n",
              "[13240 rows x 5 columns]"
            ],
            "text/html": [
              "\n",
              "  <div id=\"df-286c22a1-eec7-447d-b85b-f5450a31d823\" class=\"colab-df-container\">\n",
              "    <div>\n",
              "<style scoped>\n",
              "    .dataframe tbody tr th:only-of-type {\n",
              "        vertical-align: middle;\n",
              "    }\n",
              "\n",
              "    .dataframe tbody tr th {\n",
              "        vertical-align: top;\n",
              "    }\n",
              "\n",
              "    .dataframe thead th {\n",
              "        text-align: right;\n",
              "    }\n",
              "</style>\n",
              "<table border=\"1\" class=\"dataframe\">\n",
              "  <thead>\n",
              "    <tr style=\"text-align: right;\">\n",
              "      <th></th>\n",
              "      <th>id</th>\n",
              "      <th>tweet</th>\n",
              "      <th>subtask_a</th>\n",
              "      <th>subtask_b</th>\n",
              "      <th>subtask_c</th>\n",
              "    </tr>\n",
              "  </thead>\n",
              "  <tbody>\n",
              "    <tr>\n",
              "      <th>0</th>\n",
              "      <td>86426</td>\n",
              "      <td>@USER She should ask a few native Americans wh...</td>\n",
              "      <td>OFF</td>\n",
              "      <td>UNT</td>\n",
              "      <td>NaN</td>\n",
              "    </tr>\n",
              "    <tr>\n",
              "      <th>1</th>\n",
              "      <td>90194</td>\n",
              "      <td>@USER @USER Go home you’re drunk!!! @USER #MAG...</td>\n",
              "      <td>OFF</td>\n",
              "      <td>TIN</td>\n",
              "      <td>IND</td>\n",
              "    </tr>\n",
              "    <tr>\n",
              "      <th>2</th>\n",
              "      <td>16820</td>\n",
              "      <td>Amazon is investigating Chinese employees who ...</td>\n",
              "      <td>NOT</td>\n",
              "      <td>NaN</td>\n",
              "      <td>NaN</td>\n",
              "    </tr>\n",
              "    <tr>\n",
              "      <th>3</th>\n",
              "      <td>62688</td>\n",
              "      <td>@USER Someone should'veTaken\" this piece of sh...</td>\n",
              "      <td>OFF</td>\n",
              "      <td>UNT</td>\n",
              "      <td>NaN</td>\n",
              "    </tr>\n",
              "    <tr>\n",
              "      <th>4</th>\n",
              "      <td>43605</td>\n",
              "      <td>@USER @USER Obama wanted liberals &amp;amp; illega...</td>\n",
              "      <td>NOT</td>\n",
              "      <td>NaN</td>\n",
              "      <td>NaN</td>\n",
              "    </tr>\n",
              "    <tr>\n",
              "      <th>...</th>\n",
              "      <td>...</td>\n",
              "      <td>...</td>\n",
              "      <td>...</td>\n",
              "      <td>...</td>\n",
              "      <td>...</td>\n",
              "    </tr>\n",
              "    <tr>\n",
              "      <th>13235</th>\n",
              "      <td>95338</td>\n",
              "      <td>@USER Sometimes I get strong vibes from people...</td>\n",
              "      <td>OFF</td>\n",
              "      <td>TIN</td>\n",
              "      <td>IND</td>\n",
              "    </tr>\n",
              "    <tr>\n",
              "      <th>13236</th>\n",
              "      <td>67210</td>\n",
              "      <td>Benidorm ✅  Creamfields ✅  Maga ✅   Not too sh...</td>\n",
              "      <td>NOT</td>\n",
              "      <td>NaN</td>\n",
              "      <td>NaN</td>\n",
              "    </tr>\n",
              "    <tr>\n",
              "      <th>13237</th>\n",
              "      <td>82921</td>\n",
              "      <td>@USER And why report this garbage.  We don't g...</td>\n",
              "      <td>OFF</td>\n",
              "      <td>TIN</td>\n",
              "      <td>OTH</td>\n",
              "    </tr>\n",
              "    <tr>\n",
              "      <th>13238</th>\n",
              "      <td>27429</td>\n",
              "      <td>@USER Pussy</td>\n",
              "      <td>OFF</td>\n",
              "      <td>UNT</td>\n",
              "      <td>NaN</td>\n",
              "    </tr>\n",
              "    <tr>\n",
              "      <th>13239</th>\n",
              "      <td>46552</td>\n",
              "      <td>#Spanishrevenge vs. #justice #HumanRights and ...</td>\n",
              "      <td>NOT</td>\n",
              "      <td>NaN</td>\n",
              "      <td>NaN</td>\n",
              "    </tr>\n",
              "  </tbody>\n",
              "</table>\n",
              "<p>13240 rows × 5 columns</p>\n",
              "</div>\n",
              "    <div class=\"colab-df-buttons\">\n",
              "\n",
              "  <div class=\"colab-df-container\">\n",
              "    <button class=\"colab-df-convert\" onclick=\"convertToInteractive('df-286c22a1-eec7-447d-b85b-f5450a31d823')\"\n",
              "            title=\"Convert this dataframe to an interactive table.\"\n",
              "            style=\"display:none;\">\n",
              "\n",
              "  <svg xmlns=\"http://www.w3.org/2000/svg\" height=\"24px\" viewBox=\"0 -960 960 960\">\n",
              "    <path d=\"M120-120v-720h720v720H120Zm60-500h600v-160H180v160Zm220 220h160v-160H400v160Zm0 220h160v-160H400v160ZM180-400h160v-160H180v160Zm440 0h160v-160H620v160ZM180-180h160v-160H180v160Zm440 0h160v-160H620v160Z\"/>\n",
              "  </svg>\n",
              "    </button>\n",
              "\n",
              "  <style>\n",
              "    .colab-df-container {\n",
              "      display:flex;\n",
              "      gap: 12px;\n",
              "    }\n",
              "\n",
              "    .colab-df-convert {\n",
              "      background-color: #E8F0FE;\n",
              "      border: none;\n",
              "      border-radius: 50%;\n",
              "      cursor: pointer;\n",
              "      display: none;\n",
              "      fill: #1967D2;\n",
              "      height: 32px;\n",
              "      padding: 0 0 0 0;\n",
              "      width: 32px;\n",
              "    }\n",
              "\n",
              "    .colab-df-convert:hover {\n",
              "      background-color: #E2EBFA;\n",
              "      box-shadow: 0px 1px 2px rgba(60, 64, 67, 0.3), 0px 1px 3px 1px rgba(60, 64, 67, 0.15);\n",
              "      fill: #174EA6;\n",
              "    }\n",
              "\n",
              "    .colab-df-buttons div {\n",
              "      margin-bottom: 4px;\n",
              "    }\n",
              "\n",
              "    [theme=dark] .colab-df-convert {\n",
              "      background-color: #3B4455;\n",
              "      fill: #D2E3FC;\n",
              "    }\n",
              "\n",
              "    [theme=dark] .colab-df-convert:hover {\n",
              "      background-color: #434B5C;\n",
              "      box-shadow: 0px 1px 3px 1px rgba(0, 0, 0, 0.15);\n",
              "      filter: drop-shadow(0px 1px 2px rgba(0, 0, 0, 0.3));\n",
              "      fill: #FFFFFF;\n",
              "    }\n",
              "  </style>\n",
              "\n",
              "    <script>\n",
              "      const buttonEl =\n",
              "        document.querySelector('#df-286c22a1-eec7-447d-b85b-f5450a31d823 button.colab-df-convert');\n",
              "      buttonEl.style.display =\n",
              "        google.colab.kernel.accessAllowed ? 'block' : 'none';\n",
              "\n",
              "      async function convertToInteractive(key) {\n",
              "        const element = document.querySelector('#df-286c22a1-eec7-447d-b85b-f5450a31d823');\n",
              "        const dataTable =\n",
              "          await google.colab.kernel.invokeFunction('convertToInteractive',\n",
              "                                                    [key], {});\n",
              "        if (!dataTable) return;\n",
              "\n",
              "        const docLinkHtml = 'Like what you see? Visit the ' +\n",
              "          '<a target=\"_blank\" href=https://colab.research.google.com/notebooks/data_table.ipynb>data table notebook</a>'\n",
              "          + ' to learn more about interactive tables.';\n",
              "        element.innerHTML = '';\n",
              "        dataTable['output_type'] = 'display_data';\n",
              "        await google.colab.output.renderOutput(dataTable, element);\n",
              "        const docLink = document.createElement('div');\n",
              "        docLink.innerHTML = docLinkHtml;\n",
              "        element.appendChild(docLink);\n",
              "      }\n",
              "    </script>\n",
              "  </div>\n",
              "\n",
              "\n",
              "<div id=\"df-3dae05cd-3e5a-487b-a3d8-5327f16ffe95\">\n",
              "  <button class=\"colab-df-quickchart\" onclick=\"quickchart('df-3dae05cd-3e5a-487b-a3d8-5327f16ffe95')\"\n",
              "            title=\"Suggest charts.\"\n",
              "            style=\"display:none;\">\n",
              "\n",
              "<svg xmlns=\"http://www.w3.org/2000/svg\" height=\"24px\"viewBox=\"0 0 24 24\"\n",
              "     width=\"24px\">\n",
              "    <g>\n",
              "        <path d=\"M19 3H5c-1.1 0-2 .9-2 2v14c0 1.1.9 2 2 2h14c1.1 0 2-.9 2-2V5c0-1.1-.9-2-2-2zM9 17H7v-7h2v7zm4 0h-2V7h2v10zm4 0h-2v-4h2v4z\"/>\n",
              "    </g>\n",
              "</svg>\n",
              "  </button>\n",
              "\n",
              "<style>\n",
              "  .colab-df-quickchart {\n",
              "    background-color: #E8F0FE;\n",
              "    border: none;\n",
              "    border-radius: 50%;\n",
              "    cursor: pointer;\n",
              "    display: none;\n",
              "    fill: #1967D2;\n",
              "    height: 32px;\n",
              "    padding: 0 0 0 0;\n",
              "    width: 32px;\n",
              "  }\n",
              "\n",
              "  .colab-df-quickchart:hover {\n",
              "    background-color: #E2EBFA;\n",
              "    box-shadow: 0px 1px 2px rgba(60, 64, 67, 0.3), 0px 1px 3px 1px rgba(60, 64, 67, 0.15);\n",
              "    fill: #174EA6;\n",
              "  }\n",
              "\n",
              "  [theme=dark] .colab-df-quickchart {\n",
              "    background-color: #3B4455;\n",
              "    fill: #D2E3FC;\n",
              "  }\n",
              "\n",
              "  [theme=dark] .colab-df-quickchart:hover {\n",
              "    background-color: #434B5C;\n",
              "    box-shadow: 0px 1px 3px 1px rgba(0, 0, 0, 0.15);\n",
              "    filter: drop-shadow(0px 1px 2px rgba(0, 0, 0, 0.3));\n",
              "    fill: #FFFFFF;\n",
              "  }\n",
              "</style>\n",
              "\n",
              "  <script>\n",
              "    async function quickchart(key) {\n",
              "      const charts = await google.colab.kernel.invokeFunction(\n",
              "          'suggestCharts', [key], {});\n",
              "    }\n",
              "    (() => {\n",
              "      let quickchartButtonEl =\n",
              "        document.querySelector('#df-3dae05cd-3e5a-487b-a3d8-5327f16ffe95 button');\n",
              "      quickchartButtonEl.style.display =\n",
              "        google.colab.kernel.accessAllowed ? 'block' : 'none';\n",
              "    })();\n",
              "  </script>\n",
              "</div>\n",
              "    </div>\n",
              "  </div>\n"
            ]
          },
          "metadata": {},
          "execution_count": 4
        }
      ],
      "source": [
        "train_data"
      ]
    },
    {
      "cell_type": "code",
      "execution_count": 5,
      "metadata": {
        "colab": {
          "base_uri": "https://localhost:8080/"
        },
        "id": "QRU1bFkwwWas",
        "outputId": "14b42c83-094f-4bd8-c1c6-66cf1bc8424a"
      },
      "outputs": [
        {
          "output_type": "execute_result",
          "data": {
            "text/plain": [
              "NOT    8840\n",
              "OFF    4400\n",
              "Name: subtask_a, dtype: int64"
            ]
          },
          "metadata": {},
          "execution_count": 5
        }
      ],
      "source": [
        "train_data['subtask_a'].value_counts()"
      ]
    },
    {
      "cell_type": "markdown",
      "metadata": {
        "id": "hX5l0QKGk9d8"
      },
      "source": [
        "## NLP"
      ]
    },
    {
      "cell_type": "code",
      "execution_count": 6,
      "metadata": {
        "colab": {
          "base_uri": "https://localhost:8080/"
        },
        "id": "tcZZ4cv-G-NW",
        "outputId": "4f9af478-25bc-4c8c-8b8a-b4dce2be91a6"
      },
      "outputs": [
        {
          "output_type": "stream",
          "name": "stdout",
          "text": [
            "Collecting emoji\n",
            "  Downloading emoji-2.8.0-py2.py3-none-any.whl (358 kB)\n",
            "\u001b[?25l     \u001b[90m━━━━━━━━━━━━━━━━━━━━━━━━━━━━━━━━━━━━━━━━\u001b[0m \u001b[32m0.0/358.9 kB\u001b[0m \u001b[31m?\u001b[0m eta \u001b[36m-:--:--\u001b[0m\r\u001b[2K     \u001b[91m━━━━━━━━━━\u001b[0m\u001b[90m╺\u001b[0m\u001b[90m━━━━━━━━━━━━━━━━━━━━━━━━━━━━━\u001b[0m \u001b[32m92.2/358.9 kB\u001b[0m \u001b[31m2.6 MB/s\u001b[0m eta \u001b[36m0:00:01\u001b[0m\r\u001b[2K     \u001b[90m━━━━━━━━━━━━━━━━━━━━━━━━━━━━━━━━━━━━━━━\u001b[0m \u001b[32m358.9/358.9 kB\u001b[0m \u001b[31m5.1 MB/s\u001b[0m eta \u001b[36m0:00:00\u001b[0m\n",
            "\u001b[?25hInstalling collected packages: emoji\n",
            "Successfully installed emoji-2.8.0\n"
          ]
        }
      ],
      "source": [
        "!pip install emoji"
      ]
    },
    {
      "cell_type": "code",
      "execution_count": 7,
      "metadata": {
        "id": "R3OzrFfzHGwS"
      },
      "outputs": [],
      "source": [
        "import emoji\n",
        "import re"
      ]
    },
    {
      "cell_type": "code",
      "execution_count": 8,
      "metadata": {
        "id": "sNzvVQCZJ1ET"
      },
      "outputs": [],
      "source": [
        "def replace_multiple_user_mentions(text):\n",
        "    \"\"\"\n",
        "    Replaces multiple '@USER' mentions in a tweet with a single '@USERS'.\n",
        "    \"\"\"\n",
        "    user_mentions = len(re.findall('@USER', text))\n",
        "    if user_mentions > 1:\n",
        "        text = re.sub('@USER', '@USERS', text)\n",
        "    return text\n"
      ]
    },
    {
      "cell_type": "code",
      "execution_count": 9,
      "metadata": {
        "id": "IYfUl-KTJ23q"
      },
      "outputs": [],
      "source": [
        "\n",
        "def emoji_to_text(text):\n",
        "    return emoji.demojize(text, delimiters=(\"\", \"\"))"
      ]
    },
    {
      "cell_type": "code",
      "execution_count": 10,
      "metadata": {
        "id": "ZfiRe8uZY8tl"
      },
      "outputs": [],
      "source": [
        "def clean_tweets(df):\n",
        "    punctuations = string.punctuation\n",
        "\n",
        "    df.loc[:, 'tweet'] = df.tweet.str.replace('@USER', '') #Remove mentions (@USER)\n",
        "    df.loc[:, 'tweet'] = df.tweet.str.replace('URL', '') #Remove URLs\n",
        "    df.loc[:, 'tweet'] = df.tweet.str.replace('&amp', 'and') #Replace ampersand (&) with and\n",
        "    df.loc[:, 'tweet'] = df.tweet.str.replace('&lt','') #Remove &lt\n",
        "    df.loc[:, 'tweet'] = df.tweet.str.replace('&gt','') #Remove &gt\n",
        "    df.loc[:, 'tweet'] = df.tweet.str.replace('\\d+','') #Remove numbers\n",
        "    df.loc[:, 'tweet'] = df.tweet.str.lower() #Lowercase\n",
        "\n",
        "    #Remove punctuations\n",
        "    for punctuation in punctuations:\n",
        "        df.loc[:, 'tweet'] = df.tweet.str.replace(punctuation, '')\n",
        "\n",
        "        df['tweet'] = df['tweet'].apply(\n",
        "        lambda x: x.encode('ascii', 'ignore').decode('ascii')\n",
        ")\n",
        "\n",
        "    # Transfer emojis to segmentations\n",
        "    df.loc[:, 'tweet'] = df['tweet'].apply(emoji.demojize)\n",
        "    #Remove emojis\n",
        "    #df.loc[:, 'tweet'] = df.tweet.str.strip() #Trim leading and trailing whitespaces\n",
        "    # Replace multiple user mentions\n",
        "    df.loc[:, 'tweet'] = df['tweet'].apply(replace_multiple_user_mentions)\n",
        "\n",
        "    # Substitute out-of-vocabulary (OOV) words\n",
        "    df.loc[:, 'tweet'] = df['tweet'].apply(lambda x: re.sub(r'http\\S+|www\\S+', 'http', x))\n"
      ]
    },
    {
      "cell_type": "code",
      "execution_count": 11,
      "metadata": {
        "colab": {
          "base_uri": "https://localhost:8080/"
        },
        "id": "7ATgJ-CNY83G",
        "outputId": "e45d9d73-f4cf-4c54-8762-c3ac3f42f7a8"
      },
      "outputs": [
        {
          "output_type": "stream",
          "name": "stderr",
          "text": [
            "<ipython-input-10-58d0d99cd0a4>:4: SettingWithCopyWarning: \n",
            "A value is trying to be set on a copy of a slice from a DataFrame.\n",
            "Try using .loc[row_indexer,col_indexer] = value instead\n",
            "\n",
            "See the caveats in the documentation: https://pandas.pydata.org/pandas-docs/stable/user_guide/indexing.html#returning-a-view-versus-a-copy\n",
            "  df.loc[:, 'tweet'] = df.tweet.str.replace('@USER', '') #Remove mentions (@USER)\n",
            "<ipython-input-10-58d0d99cd0a4>:5: SettingWithCopyWarning: \n",
            "A value is trying to be set on a copy of a slice from a DataFrame.\n",
            "Try using .loc[row_indexer,col_indexer] = value instead\n",
            "\n",
            "See the caveats in the documentation: https://pandas.pydata.org/pandas-docs/stable/user_guide/indexing.html#returning-a-view-versus-a-copy\n",
            "  df.loc[:, 'tweet'] = df.tweet.str.replace('URL', '') #Remove URLs\n",
            "<ipython-input-10-58d0d99cd0a4>:6: SettingWithCopyWarning: \n",
            "A value is trying to be set on a copy of a slice from a DataFrame.\n",
            "Try using .loc[row_indexer,col_indexer] = value instead\n",
            "\n",
            "See the caveats in the documentation: https://pandas.pydata.org/pandas-docs/stable/user_guide/indexing.html#returning-a-view-versus-a-copy\n",
            "  df.loc[:, 'tweet'] = df.tweet.str.replace('&amp', 'and') #Replace ampersand (&) with and\n",
            "<ipython-input-10-58d0d99cd0a4>:7: SettingWithCopyWarning: \n",
            "A value is trying to be set on a copy of a slice from a DataFrame.\n",
            "Try using .loc[row_indexer,col_indexer] = value instead\n",
            "\n",
            "See the caveats in the documentation: https://pandas.pydata.org/pandas-docs/stable/user_guide/indexing.html#returning-a-view-versus-a-copy\n",
            "  df.loc[:, 'tweet'] = df.tweet.str.replace('&lt','') #Remove &lt\n",
            "<ipython-input-10-58d0d99cd0a4>:8: SettingWithCopyWarning: \n",
            "A value is trying to be set on a copy of a slice from a DataFrame.\n",
            "Try using .loc[row_indexer,col_indexer] = value instead\n",
            "\n",
            "See the caveats in the documentation: https://pandas.pydata.org/pandas-docs/stable/user_guide/indexing.html#returning-a-view-versus-a-copy\n",
            "  df.loc[:, 'tweet'] = df.tweet.str.replace('&gt','') #Remove &gt\n",
            "<ipython-input-10-58d0d99cd0a4>:9: FutureWarning: The default value of regex will change from True to False in a future version.\n",
            "  df.loc[:, 'tweet'] = df.tweet.str.replace('\\d+','') #Remove numbers\n",
            "<ipython-input-10-58d0d99cd0a4>:9: SettingWithCopyWarning: \n",
            "A value is trying to be set on a copy of a slice from a DataFrame.\n",
            "Try using .loc[row_indexer,col_indexer] = value instead\n",
            "\n",
            "See the caveats in the documentation: https://pandas.pydata.org/pandas-docs/stable/user_guide/indexing.html#returning-a-view-versus-a-copy\n",
            "  df.loc[:, 'tweet'] = df.tweet.str.replace('\\d+','') #Remove numbers\n",
            "<ipython-input-10-58d0d99cd0a4>:10: SettingWithCopyWarning: \n",
            "A value is trying to be set on a copy of a slice from a DataFrame.\n",
            "Try using .loc[row_indexer,col_indexer] = value instead\n",
            "\n",
            "See the caveats in the documentation: https://pandas.pydata.org/pandas-docs/stable/user_guide/indexing.html#returning-a-view-versus-a-copy\n",
            "  df.loc[:, 'tweet'] = df.tweet.str.lower() #Lowercase\n",
            "<ipython-input-10-58d0d99cd0a4>:14: SettingWithCopyWarning: \n",
            "A value is trying to be set on a copy of a slice from a DataFrame.\n",
            "Try using .loc[row_indexer,col_indexer] = value instead\n",
            "\n",
            "See the caveats in the documentation: https://pandas.pydata.org/pandas-docs/stable/user_guide/indexing.html#returning-a-view-versus-a-copy\n",
            "  df.loc[:, 'tweet'] = df.tweet.str.replace(punctuation, '')\n",
            "<ipython-input-10-58d0d99cd0a4>:16: SettingWithCopyWarning: \n",
            "A value is trying to be set on a copy of a slice from a DataFrame.\n",
            "Try using .loc[row_indexer,col_indexer] = value instead\n",
            "\n",
            "See the caveats in the documentation: https://pandas.pydata.org/pandas-docs/stable/user_guide/indexing.html#returning-a-view-versus-a-copy\n",
            "  df['tweet'] = df['tweet'].apply(\n",
            "<ipython-input-10-58d0d99cd0a4>:14: SettingWithCopyWarning: \n",
            "A value is trying to be set on a copy of a slice from a DataFrame.\n",
            "Try using .loc[row_indexer,col_indexer] = value instead\n",
            "\n",
            "See the caveats in the documentation: https://pandas.pydata.org/pandas-docs/stable/user_guide/indexing.html#returning-a-view-versus-a-copy\n",
            "  df.loc[:, 'tweet'] = df.tweet.str.replace(punctuation, '')\n",
            "<ipython-input-10-58d0d99cd0a4>:16: SettingWithCopyWarning: \n",
            "A value is trying to be set on a copy of a slice from a DataFrame.\n",
            "Try using .loc[row_indexer,col_indexer] = value instead\n",
            "\n",
            "See the caveats in the documentation: https://pandas.pydata.org/pandas-docs/stable/user_guide/indexing.html#returning-a-view-versus-a-copy\n",
            "  df['tweet'] = df['tweet'].apply(\n",
            "<ipython-input-10-58d0d99cd0a4>:14: SettingWithCopyWarning: \n",
            "A value is trying to be set on a copy of a slice from a DataFrame.\n",
            "Try using .loc[row_indexer,col_indexer] = value instead\n",
            "\n",
            "See the caveats in the documentation: https://pandas.pydata.org/pandas-docs/stable/user_guide/indexing.html#returning-a-view-versus-a-copy\n",
            "  df.loc[:, 'tweet'] = df.tweet.str.replace(punctuation, '')\n",
            "<ipython-input-10-58d0d99cd0a4>:16: SettingWithCopyWarning: \n",
            "A value is trying to be set on a copy of a slice from a DataFrame.\n",
            "Try using .loc[row_indexer,col_indexer] = value instead\n",
            "\n",
            "See the caveats in the documentation: https://pandas.pydata.org/pandas-docs/stable/user_guide/indexing.html#returning-a-view-versus-a-copy\n",
            "  df['tweet'] = df['tweet'].apply(\n",
            "<ipython-input-10-58d0d99cd0a4>:14: FutureWarning: The default value of regex will change from True to False in a future version. In addition, single character regular expressions will *not* be treated as literal strings when regex=True.\n",
            "  df.loc[:, 'tweet'] = df.tweet.str.replace(punctuation, '')\n",
            "<ipython-input-10-58d0d99cd0a4>:14: SettingWithCopyWarning: \n",
            "A value is trying to be set on a copy of a slice from a DataFrame.\n",
            "Try using .loc[row_indexer,col_indexer] = value instead\n",
            "\n",
            "See the caveats in the documentation: https://pandas.pydata.org/pandas-docs/stable/user_guide/indexing.html#returning-a-view-versus-a-copy\n",
            "  df.loc[:, 'tweet'] = df.tweet.str.replace(punctuation, '')\n",
            "<ipython-input-10-58d0d99cd0a4>:16: SettingWithCopyWarning: \n",
            "A value is trying to be set on a copy of a slice from a DataFrame.\n",
            "Try using .loc[row_indexer,col_indexer] = value instead\n",
            "\n",
            "See the caveats in the documentation: https://pandas.pydata.org/pandas-docs/stable/user_guide/indexing.html#returning-a-view-versus-a-copy\n",
            "  df['tweet'] = df['tweet'].apply(\n",
            "<ipython-input-10-58d0d99cd0a4>:14: SettingWithCopyWarning: \n",
            "A value is trying to be set on a copy of a slice from a DataFrame.\n",
            "Try using .loc[row_indexer,col_indexer] = value instead\n",
            "\n",
            "See the caveats in the documentation: https://pandas.pydata.org/pandas-docs/stable/user_guide/indexing.html#returning-a-view-versus-a-copy\n",
            "  df.loc[:, 'tweet'] = df.tweet.str.replace(punctuation, '')\n",
            "<ipython-input-10-58d0d99cd0a4>:16: SettingWithCopyWarning: \n",
            "A value is trying to be set on a copy of a slice from a DataFrame.\n",
            "Try using .loc[row_indexer,col_indexer] = value instead\n",
            "\n",
            "See the caveats in the documentation: https://pandas.pydata.org/pandas-docs/stable/user_guide/indexing.html#returning-a-view-versus-a-copy\n",
            "  df['tweet'] = df['tweet'].apply(\n",
            "<ipython-input-10-58d0d99cd0a4>:14: SettingWithCopyWarning: \n",
            "A value is trying to be set on a copy of a slice from a DataFrame.\n",
            "Try using .loc[row_indexer,col_indexer] = value instead\n",
            "\n",
            "See the caveats in the documentation: https://pandas.pydata.org/pandas-docs/stable/user_guide/indexing.html#returning-a-view-versus-a-copy\n",
            "  df.loc[:, 'tweet'] = df.tweet.str.replace(punctuation, '')\n",
            "<ipython-input-10-58d0d99cd0a4>:16: SettingWithCopyWarning: \n",
            "A value is trying to be set on a copy of a slice from a DataFrame.\n",
            "Try using .loc[row_indexer,col_indexer] = value instead\n",
            "\n",
            "See the caveats in the documentation: https://pandas.pydata.org/pandas-docs/stable/user_guide/indexing.html#returning-a-view-versus-a-copy\n",
            "  df['tweet'] = df['tweet'].apply(\n",
            "<ipython-input-10-58d0d99cd0a4>:14: SettingWithCopyWarning: \n",
            "A value is trying to be set on a copy of a slice from a DataFrame.\n",
            "Try using .loc[row_indexer,col_indexer] = value instead\n",
            "\n",
            "See the caveats in the documentation: https://pandas.pydata.org/pandas-docs/stable/user_guide/indexing.html#returning-a-view-versus-a-copy\n",
            "  df.loc[:, 'tweet'] = df.tweet.str.replace(punctuation, '')\n",
            "<ipython-input-10-58d0d99cd0a4>:16: SettingWithCopyWarning: \n",
            "A value is trying to be set on a copy of a slice from a DataFrame.\n",
            "Try using .loc[row_indexer,col_indexer] = value instead\n",
            "\n",
            "See the caveats in the documentation: https://pandas.pydata.org/pandas-docs/stable/user_guide/indexing.html#returning-a-view-versus-a-copy\n",
            "  df['tweet'] = df['tweet'].apply(\n",
            "<ipython-input-10-58d0d99cd0a4>:14: FutureWarning: The default value of regex will change from True to False in a future version. In addition, single character regular expressions will *not* be treated as literal strings when regex=True.\n",
            "  df.loc[:, 'tweet'] = df.tweet.str.replace(punctuation, '')\n",
            "<ipython-input-10-58d0d99cd0a4>:14: SettingWithCopyWarning: \n",
            "A value is trying to be set on a copy of a slice from a DataFrame.\n",
            "Try using .loc[row_indexer,col_indexer] = value instead\n",
            "\n",
            "See the caveats in the documentation: https://pandas.pydata.org/pandas-docs/stable/user_guide/indexing.html#returning-a-view-versus-a-copy\n",
            "  df.loc[:, 'tweet'] = df.tweet.str.replace(punctuation, '')\n",
            "<ipython-input-10-58d0d99cd0a4>:16: SettingWithCopyWarning: \n",
            "A value is trying to be set on a copy of a slice from a DataFrame.\n",
            "Try using .loc[row_indexer,col_indexer] = value instead\n",
            "\n",
            "See the caveats in the documentation: https://pandas.pydata.org/pandas-docs/stable/user_guide/indexing.html#returning-a-view-versus-a-copy\n",
            "  df['tweet'] = df['tweet'].apply(\n",
            "<ipython-input-10-58d0d99cd0a4>:14: FutureWarning: The default value of regex will change from True to False in a future version. In addition, single character regular expressions will *not* be treated as literal strings when regex=True.\n",
            "  df.loc[:, 'tweet'] = df.tweet.str.replace(punctuation, '')\n",
            "<ipython-input-10-58d0d99cd0a4>:14: SettingWithCopyWarning: \n",
            "A value is trying to be set on a copy of a slice from a DataFrame.\n",
            "Try using .loc[row_indexer,col_indexer] = value instead\n",
            "\n",
            "See the caveats in the documentation: https://pandas.pydata.org/pandas-docs/stable/user_guide/indexing.html#returning-a-view-versus-a-copy\n",
            "  df.loc[:, 'tweet'] = df.tweet.str.replace(punctuation, '')\n",
            "<ipython-input-10-58d0d99cd0a4>:16: SettingWithCopyWarning: \n",
            "A value is trying to be set on a copy of a slice from a DataFrame.\n",
            "Try using .loc[row_indexer,col_indexer] = value instead\n",
            "\n",
            "See the caveats in the documentation: https://pandas.pydata.org/pandas-docs/stable/user_guide/indexing.html#returning-a-view-versus-a-copy\n",
            "  df['tweet'] = df['tweet'].apply(\n",
            "<ipython-input-10-58d0d99cd0a4>:14: FutureWarning: The default value of regex will change from True to False in a future version. In addition, single character regular expressions will *not* be treated as literal strings when regex=True.\n",
            "  df.loc[:, 'tweet'] = df.tweet.str.replace(punctuation, '')\n",
            "<ipython-input-10-58d0d99cd0a4>:14: SettingWithCopyWarning: \n",
            "A value is trying to be set on a copy of a slice from a DataFrame.\n",
            "Try using .loc[row_indexer,col_indexer] = value instead\n",
            "\n",
            "See the caveats in the documentation: https://pandas.pydata.org/pandas-docs/stable/user_guide/indexing.html#returning-a-view-versus-a-copy\n",
            "  df.loc[:, 'tweet'] = df.tweet.str.replace(punctuation, '')\n",
            "<ipython-input-10-58d0d99cd0a4>:16: SettingWithCopyWarning: \n",
            "A value is trying to be set on a copy of a slice from a DataFrame.\n",
            "Try using .loc[row_indexer,col_indexer] = value instead\n",
            "\n",
            "See the caveats in the documentation: https://pandas.pydata.org/pandas-docs/stable/user_guide/indexing.html#returning-a-view-versus-a-copy\n",
            "  df['tweet'] = df['tweet'].apply(\n",
            "<ipython-input-10-58d0d99cd0a4>:14: FutureWarning: The default value of regex will change from True to False in a future version. In addition, single character regular expressions will *not* be treated as literal strings when regex=True.\n",
            "  df.loc[:, 'tweet'] = df.tweet.str.replace(punctuation, '')\n",
            "<ipython-input-10-58d0d99cd0a4>:14: SettingWithCopyWarning: \n",
            "A value is trying to be set on a copy of a slice from a DataFrame.\n",
            "Try using .loc[row_indexer,col_indexer] = value instead\n",
            "\n",
            "See the caveats in the documentation: https://pandas.pydata.org/pandas-docs/stable/user_guide/indexing.html#returning-a-view-versus-a-copy\n",
            "  df.loc[:, 'tweet'] = df.tweet.str.replace(punctuation, '')\n",
            "<ipython-input-10-58d0d99cd0a4>:16: SettingWithCopyWarning: \n",
            "A value is trying to be set on a copy of a slice from a DataFrame.\n",
            "Try using .loc[row_indexer,col_indexer] = value instead\n",
            "\n",
            "See the caveats in the documentation: https://pandas.pydata.org/pandas-docs/stable/user_guide/indexing.html#returning-a-view-versus-a-copy\n",
            "  df['tweet'] = df['tweet'].apply(\n",
            "<ipython-input-10-58d0d99cd0a4>:14: SettingWithCopyWarning: \n",
            "A value is trying to be set on a copy of a slice from a DataFrame.\n",
            "Try using .loc[row_indexer,col_indexer] = value instead\n",
            "\n",
            "See the caveats in the documentation: https://pandas.pydata.org/pandas-docs/stable/user_guide/indexing.html#returning-a-view-versus-a-copy\n",
            "  df.loc[:, 'tweet'] = df.tweet.str.replace(punctuation, '')\n",
            "<ipython-input-10-58d0d99cd0a4>:16: SettingWithCopyWarning: \n",
            "A value is trying to be set on a copy of a slice from a DataFrame.\n",
            "Try using .loc[row_indexer,col_indexer] = value instead\n",
            "\n",
            "See the caveats in the documentation: https://pandas.pydata.org/pandas-docs/stable/user_guide/indexing.html#returning-a-view-versus-a-copy\n",
            "  df['tweet'] = df['tweet'].apply(\n",
            "<ipython-input-10-58d0d99cd0a4>:14: SettingWithCopyWarning: \n",
            "A value is trying to be set on a copy of a slice from a DataFrame.\n",
            "Try using .loc[row_indexer,col_indexer] = value instead\n",
            "\n",
            "See the caveats in the documentation: https://pandas.pydata.org/pandas-docs/stable/user_guide/indexing.html#returning-a-view-versus-a-copy\n",
            "  df.loc[:, 'tweet'] = df.tweet.str.replace(punctuation, '')\n",
            "<ipython-input-10-58d0d99cd0a4>:16: SettingWithCopyWarning: \n",
            "A value is trying to be set on a copy of a slice from a DataFrame.\n",
            "Try using .loc[row_indexer,col_indexer] = value instead\n",
            "\n",
            "See the caveats in the documentation: https://pandas.pydata.org/pandas-docs/stable/user_guide/indexing.html#returning-a-view-versus-a-copy\n",
            "  df['tweet'] = df['tweet'].apply(\n",
            "<ipython-input-10-58d0d99cd0a4>:14: FutureWarning: The default value of regex will change from True to False in a future version. In addition, single character regular expressions will *not* be treated as literal strings when regex=True.\n",
            "  df.loc[:, 'tweet'] = df.tweet.str.replace(punctuation, '')\n",
            "<ipython-input-10-58d0d99cd0a4>:14: SettingWithCopyWarning: \n",
            "A value is trying to be set on a copy of a slice from a DataFrame.\n",
            "Try using .loc[row_indexer,col_indexer] = value instead\n",
            "\n",
            "See the caveats in the documentation: https://pandas.pydata.org/pandas-docs/stable/user_guide/indexing.html#returning-a-view-versus-a-copy\n",
            "  df.loc[:, 'tweet'] = df.tweet.str.replace(punctuation, '')\n",
            "<ipython-input-10-58d0d99cd0a4>:16: SettingWithCopyWarning: \n",
            "A value is trying to be set on a copy of a slice from a DataFrame.\n",
            "Try using .loc[row_indexer,col_indexer] = value instead\n",
            "\n",
            "See the caveats in the documentation: https://pandas.pydata.org/pandas-docs/stable/user_guide/indexing.html#returning-a-view-versus-a-copy\n",
            "  df['tweet'] = df['tweet'].apply(\n",
            "<ipython-input-10-58d0d99cd0a4>:14: SettingWithCopyWarning: \n",
            "A value is trying to be set on a copy of a slice from a DataFrame.\n",
            "Try using .loc[row_indexer,col_indexer] = value instead\n",
            "\n",
            "See the caveats in the documentation: https://pandas.pydata.org/pandas-docs/stable/user_guide/indexing.html#returning-a-view-versus-a-copy\n",
            "  df.loc[:, 'tweet'] = df.tweet.str.replace(punctuation, '')\n",
            "<ipython-input-10-58d0d99cd0a4>:16: SettingWithCopyWarning: \n",
            "A value is trying to be set on a copy of a slice from a DataFrame.\n",
            "Try using .loc[row_indexer,col_indexer] = value instead\n",
            "\n",
            "See the caveats in the documentation: https://pandas.pydata.org/pandas-docs/stable/user_guide/indexing.html#returning-a-view-versus-a-copy\n",
            "  df['tweet'] = df['tweet'].apply(\n",
            "<ipython-input-10-58d0d99cd0a4>:14: SettingWithCopyWarning: \n",
            "A value is trying to be set on a copy of a slice from a DataFrame.\n",
            "Try using .loc[row_indexer,col_indexer] = value instead\n",
            "\n",
            "See the caveats in the documentation: https://pandas.pydata.org/pandas-docs/stable/user_guide/indexing.html#returning-a-view-versus-a-copy\n",
            "  df.loc[:, 'tweet'] = df.tweet.str.replace(punctuation, '')\n",
            "<ipython-input-10-58d0d99cd0a4>:16: SettingWithCopyWarning: \n",
            "A value is trying to be set on a copy of a slice from a DataFrame.\n",
            "Try using .loc[row_indexer,col_indexer] = value instead\n",
            "\n",
            "See the caveats in the documentation: https://pandas.pydata.org/pandas-docs/stable/user_guide/indexing.html#returning-a-view-versus-a-copy\n",
            "  df['tweet'] = df['tweet'].apply(\n",
            "<ipython-input-10-58d0d99cd0a4>:14: SettingWithCopyWarning: \n",
            "A value is trying to be set on a copy of a slice from a DataFrame.\n",
            "Try using .loc[row_indexer,col_indexer] = value instead\n",
            "\n",
            "See the caveats in the documentation: https://pandas.pydata.org/pandas-docs/stable/user_guide/indexing.html#returning-a-view-versus-a-copy\n",
            "  df.loc[:, 'tweet'] = df.tweet.str.replace(punctuation, '')\n",
            "<ipython-input-10-58d0d99cd0a4>:16: SettingWithCopyWarning: \n",
            "A value is trying to be set on a copy of a slice from a DataFrame.\n",
            "Try using .loc[row_indexer,col_indexer] = value instead\n",
            "\n",
            "See the caveats in the documentation: https://pandas.pydata.org/pandas-docs/stable/user_guide/indexing.html#returning-a-view-versus-a-copy\n",
            "  df['tweet'] = df['tweet'].apply(\n",
            "<ipython-input-10-58d0d99cd0a4>:14: SettingWithCopyWarning: \n",
            "A value is trying to be set on a copy of a slice from a DataFrame.\n",
            "Try using .loc[row_indexer,col_indexer] = value instead\n",
            "\n",
            "See the caveats in the documentation: https://pandas.pydata.org/pandas-docs/stable/user_guide/indexing.html#returning-a-view-versus-a-copy\n",
            "  df.loc[:, 'tweet'] = df.tweet.str.replace(punctuation, '')\n",
            "<ipython-input-10-58d0d99cd0a4>:16: SettingWithCopyWarning: \n",
            "A value is trying to be set on a copy of a slice from a DataFrame.\n",
            "Try using .loc[row_indexer,col_indexer] = value instead\n",
            "\n",
            "See the caveats in the documentation: https://pandas.pydata.org/pandas-docs/stable/user_guide/indexing.html#returning-a-view-versus-a-copy\n",
            "  df['tweet'] = df['tweet'].apply(\n",
            "<ipython-input-10-58d0d99cd0a4>:14: SettingWithCopyWarning: \n",
            "A value is trying to be set on a copy of a slice from a DataFrame.\n",
            "Try using .loc[row_indexer,col_indexer] = value instead\n",
            "\n",
            "See the caveats in the documentation: https://pandas.pydata.org/pandas-docs/stable/user_guide/indexing.html#returning-a-view-versus-a-copy\n",
            "  df.loc[:, 'tweet'] = df.tweet.str.replace(punctuation, '')\n",
            "<ipython-input-10-58d0d99cd0a4>:16: SettingWithCopyWarning: \n",
            "A value is trying to be set on a copy of a slice from a DataFrame.\n",
            "Try using .loc[row_indexer,col_indexer] = value instead\n",
            "\n",
            "See the caveats in the documentation: https://pandas.pydata.org/pandas-docs/stable/user_guide/indexing.html#returning-a-view-versus-a-copy\n",
            "  df['tweet'] = df['tweet'].apply(\n",
            "<ipython-input-10-58d0d99cd0a4>:14: SettingWithCopyWarning: \n",
            "A value is trying to be set on a copy of a slice from a DataFrame.\n",
            "Try using .loc[row_indexer,col_indexer] = value instead\n",
            "\n",
            "See the caveats in the documentation: https://pandas.pydata.org/pandas-docs/stable/user_guide/indexing.html#returning-a-view-versus-a-copy\n",
            "  df.loc[:, 'tweet'] = df.tweet.str.replace(punctuation, '')\n",
            "<ipython-input-10-58d0d99cd0a4>:16: SettingWithCopyWarning: \n",
            "A value is trying to be set on a copy of a slice from a DataFrame.\n",
            "Try using .loc[row_indexer,col_indexer] = value instead\n",
            "\n",
            "See the caveats in the documentation: https://pandas.pydata.org/pandas-docs/stable/user_guide/indexing.html#returning-a-view-versus-a-copy\n",
            "  df['tweet'] = df['tweet'].apply(\n",
            "<ipython-input-10-58d0d99cd0a4>:14: FutureWarning: The default value of regex will change from True to False in a future version. In addition, single character regular expressions will *not* be treated as literal strings when regex=True.\n",
            "  df.loc[:, 'tweet'] = df.tweet.str.replace(punctuation, '')\n",
            "<ipython-input-10-58d0d99cd0a4>:14: SettingWithCopyWarning: \n",
            "A value is trying to be set on a copy of a slice from a DataFrame.\n",
            "Try using .loc[row_indexer,col_indexer] = value instead\n",
            "\n",
            "See the caveats in the documentation: https://pandas.pydata.org/pandas-docs/stable/user_guide/indexing.html#returning-a-view-versus-a-copy\n",
            "  df.loc[:, 'tweet'] = df.tweet.str.replace(punctuation, '')\n",
            "<ipython-input-10-58d0d99cd0a4>:16: SettingWithCopyWarning: \n",
            "A value is trying to be set on a copy of a slice from a DataFrame.\n",
            "Try using .loc[row_indexer,col_indexer] = value instead\n",
            "\n",
            "See the caveats in the documentation: https://pandas.pydata.org/pandas-docs/stable/user_guide/indexing.html#returning-a-view-versus-a-copy\n",
            "  df['tweet'] = df['tweet'].apply(\n",
            "<ipython-input-10-58d0d99cd0a4>:14: SettingWithCopyWarning: \n",
            "A value is trying to be set on a copy of a slice from a DataFrame.\n",
            "Try using .loc[row_indexer,col_indexer] = value instead\n",
            "\n",
            "See the caveats in the documentation: https://pandas.pydata.org/pandas-docs/stable/user_guide/indexing.html#returning-a-view-versus-a-copy\n",
            "  df.loc[:, 'tweet'] = df.tweet.str.replace(punctuation, '')\n",
            "<ipython-input-10-58d0d99cd0a4>:16: SettingWithCopyWarning: \n",
            "A value is trying to be set on a copy of a slice from a DataFrame.\n",
            "Try using .loc[row_indexer,col_indexer] = value instead\n",
            "\n",
            "See the caveats in the documentation: https://pandas.pydata.org/pandas-docs/stable/user_guide/indexing.html#returning-a-view-versus-a-copy\n",
            "  df['tweet'] = df['tweet'].apply(\n",
            "<ipython-input-10-58d0d99cd0a4>:14: FutureWarning: The default value of regex will change from True to False in a future version. In addition, single character regular expressions will *not* be treated as literal strings when regex=True.\n",
            "  df.loc[:, 'tweet'] = df.tweet.str.replace(punctuation, '')\n",
            "<ipython-input-10-58d0d99cd0a4>:14: SettingWithCopyWarning: \n",
            "A value is trying to be set on a copy of a slice from a DataFrame.\n",
            "Try using .loc[row_indexer,col_indexer] = value instead\n",
            "\n",
            "See the caveats in the documentation: https://pandas.pydata.org/pandas-docs/stable/user_guide/indexing.html#returning-a-view-versus-a-copy\n",
            "  df.loc[:, 'tweet'] = df.tweet.str.replace(punctuation, '')\n",
            "<ipython-input-10-58d0d99cd0a4>:16: SettingWithCopyWarning: \n",
            "A value is trying to be set on a copy of a slice from a DataFrame.\n",
            "Try using .loc[row_indexer,col_indexer] = value instead\n",
            "\n",
            "See the caveats in the documentation: https://pandas.pydata.org/pandas-docs/stable/user_guide/indexing.html#returning-a-view-versus-a-copy\n",
            "  df['tweet'] = df['tweet'].apply(\n",
            "<ipython-input-10-58d0d99cd0a4>:14: FutureWarning: The default value of regex will change from True to False in a future version. In addition, single character regular expressions will *not* be treated as literal strings when regex=True.\n",
            "  df.loc[:, 'tweet'] = df.tweet.str.replace(punctuation, '')\n",
            "<ipython-input-10-58d0d99cd0a4>:14: SettingWithCopyWarning: \n",
            "A value is trying to be set on a copy of a slice from a DataFrame.\n",
            "Try using .loc[row_indexer,col_indexer] = value instead\n",
            "\n",
            "See the caveats in the documentation: https://pandas.pydata.org/pandas-docs/stable/user_guide/indexing.html#returning-a-view-versus-a-copy\n",
            "  df.loc[:, 'tweet'] = df.tweet.str.replace(punctuation, '')\n",
            "<ipython-input-10-58d0d99cd0a4>:16: SettingWithCopyWarning: \n",
            "A value is trying to be set on a copy of a slice from a DataFrame.\n",
            "Try using .loc[row_indexer,col_indexer] = value instead\n",
            "\n",
            "See the caveats in the documentation: https://pandas.pydata.org/pandas-docs/stable/user_guide/indexing.html#returning-a-view-versus-a-copy\n",
            "  df['tweet'] = df['tweet'].apply(\n",
            "<ipython-input-10-58d0d99cd0a4>:14: FutureWarning: The default value of regex will change from True to False in a future version. In addition, single character regular expressions will *not* be treated as literal strings when regex=True.\n",
            "  df.loc[:, 'tweet'] = df.tweet.str.replace(punctuation, '')\n",
            "<ipython-input-10-58d0d99cd0a4>:14: SettingWithCopyWarning: \n",
            "A value is trying to be set on a copy of a slice from a DataFrame.\n",
            "Try using .loc[row_indexer,col_indexer] = value instead\n",
            "\n",
            "See the caveats in the documentation: https://pandas.pydata.org/pandas-docs/stable/user_guide/indexing.html#returning-a-view-versus-a-copy\n",
            "  df.loc[:, 'tweet'] = df.tweet.str.replace(punctuation, '')\n",
            "<ipython-input-10-58d0d99cd0a4>:16: SettingWithCopyWarning: \n",
            "A value is trying to be set on a copy of a slice from a DataFrame.\n",
            "Try using .loc[row_indexer,col_indexer] = value instead\n",
            "\n",
            "See the caveats in the documentation: https://pandas.pydata.org/pandas-docs/stable/user_guide/indexing.html#returning-a-view-versus-a-copy\n",
            "  df['tweet'] = df['tweet'].apply(\n",
            "<ipython-input-10-58d0d99cd0a4>:14: FutureWarning: The default value of regex will change from True to False in a future version. In addition, single character regular expressions will *not* be treated as literal strings when regex=True.\n",
            "  df.loc[:, 'tweet'] = df.tweet.str.replace(punctuation, '')\n",
            "<ipython-input-10-58d0d99cd0a4>:14: SettingWithCopyWarning: \n",
            "A value is trying to be set on a copy of a slice from a DataFrame.\n",
            "Try using .loc[row_indexer,col_indexer] = value instead\n",
            "\n",
            "See the caveats in the documentation: https://pandas.pydata.org/pandas-docs/stable/user_guide/indexing.html#returning-a-view-versus-a-copy\n",
            "  df.loc[:, 'tweet'] = df.tweet.str.replace(punctuation, '')\n",
            "<ipython-input-10-58d0d99cd0a4>:16: SettingWithCopyWarning: \n",
            "A value is trying to be set on a copy of a slice from a DataFrame.\n",
            "Try using .loc[row_indexer,col_indexer] = value instead\n",
            "\n",
            "See the caveats in the documentation: https://pandas.pydata.org/pandas-docs/stable/user_guide/indexing.html#returning-a-view-versus-a-copy\n",
            "  df['tweet'] = df['tweet'].apply(\n",
            "<ipython-input-10-58d0d99cd0a4>:14: SettingWithCopyWarning: \n",
            "A value is trying to be set on a copy of a slice from a DataFrame.\n",
            "Try using .loc[row_indexer,col_indexer] = value instead\n",
            "\n",
            "See the caveats in the documentation: https://pandas.pydata.org/pandas-docs/stable/user_guide/indexing.html#returning-a-view-versus-a-copy\n",
            "  df.loc[:, 'tweet'] = df.tweet.str.replace(punctuation, '')\n",
            "<ipython-input-10-58d0d99cd0a4>:16: SettingWithCopyWarning: \n",
            "A value is trying to be set on a copy of a slice from a DataFrame.\n",
            "Try using .loc[row_indexer,col_indexer] = value instead\n",
            "\n",
            "See the caveats in the documentation: https://pandas.pydata.org/pandas-docs/stable/user_guide/indexing.html#returning-a-view-versus-a-copy\n",
            "  df['tweet'] = df['tweet'].apply(\n",
            "<ipython-input-10-58d0d99cd0a4>:14: SettingWithCopyWarning: \n",
            "A value is trying to be set on a copy of a slice from a DataFrame.\n",
            "Try using .loc[row_indexer,col_indexer] = value instead\n",
            "\n",
            "See the caveats in the documentation: https://pandas.pydata.org/pandas-docs/stable/user_guide/indexing.html#returning-a-view-versus-a-copy\n",
            "  df.loc[:, 'tweet'] = df.tweet.str.replace(punctuation, '')\n",
            "<ipython-input-10-58d0d99cd0a4>:16: SettingWithCopyWarning: \n",
            "A value is trying to be set on a copy of a slice from a DataFrame.\n",
            "Try using .loc[row_indexer,col_indexer] = value instead\n",
            "\n",
            "See the caveats in the documentation: https://pandas.pydata.org/pandas-docs/stable/user_guide/indexing.html#returning-a-view-versus-a-copy\n",
            "  df['tweet'] = df['tweet'].apply(\n",
            "<ipython-input-10-58d0d99cd0a4>:14: FutureWarning: The default value of regex will change from True to False in a future version. In addition, single character regular expressions will *not* be treated as literal strings when regex=True.\n",
            "  df.loc[:, 'tweet'] = df.tweet.str.replace(punctuation, '')\n",
            "<ipython-input-10-58d0d99cd0a4>:14: SettingWithCopyWarning: \n",
            "A value is trying to be set on a copy of a slice from a DataFrame.\n",
            "Try using .loc[row_indexer,col_indexer] = value instead\n",
            "\n",
            "See the caveats in the documentation: https://pandas.pydata.org/pandas-docs/stable/user_guide/indexing.html#returning-a-view-versus-a-copy\n",
            "  df.loc[:, 'tweet'] = df.tweet.str.replace(punctuation, '')\n",
            "<ipython-input-10-58d0d99cd0a4>:16: SettingWithCopyWarning: \n",
            "A value is trying to be set on a copy of a slice from a DataFrame.\n",
            "Try using .loc[row_indexer,col_indexer] = value instead\n",
            "\n",
            "See the caveats in the documentation: https://pandas.pydata.org/pandas-docs/stable/user_guide/indexing.html#returning-a-view-versus-a-copy\n",
            "  df['tweet'] = df['tweet'].apply(\n",
            "<ipython-input-10-58d0d99cd0a4>:14: FutureWarning: The default value of regex will change from True to False in a future version. In addition, single character regular expressions will *not* be treated as literal strings when regex=True.\n",
            "  df.loc[:, 'tweet'] = df.tweet.str.replace(punctuation, '')\n",
            "<ipython-input-10-58d0d99cd0a4>:14: SettingWithCopyWarning: \n",
            "A value is trying to be set on a copy of a slice from a DataFrame.\n",
            "Try using .loc[row_indexer,col_indexer] = value instead\n",
            "\n",
            "See the caveats in the documentation: https://pandas.pydata.org/pandas-docs/stable/user_guide/indexing.html#returning-a-view-versus-a-copy\n",
            "  df.loc[:, 'tweet'] = df.tweet.str.replace(punctuation, '')\n",
            "<ipython-input-10-58d0d99cd0a4>:16: SettingWithCopyWarning: \n",
            "A value is trying to be set on a copy of a slice from a DataFrame.\n",
            "Try using .loc[row_indexer,col_indexer] = value instead\n",
            "\n",
            "See the caveats in the documentation: https://pandas.pydata.org/pandas-docs/stable/user_guide/indexing.html#returning-a-view-versus-a-copy\n",
            "  df['tweet'] = df['tweet'].apply(\n",
            "<ipython-input-10-58d0d99cd0a4>:14: FutureWarning: The default value of regex will change from True to False in a future version. In addition, single character regular expressions will *not* be treated as literal strings when regex=True.\n",
            "  df.loc[:, 'tweet'] = df.tweet.str.replace(punctuation, '')\n",
            "<ipython-input-10-58d0d99cd0a4>:14: SettingWithCopyWarning: \n",
            "A value is trying to be set on a copy of a slice from a DataFrame.\n",
            "Try using .loc[row_indexer,col_indexer] = value instead\n",
            "\n",
            "See the caveats in the documentation: https://pandas.pydata.org/pandas-docs/stable/user_guide/indexing.html#returning-a-view-versus-a-copy\n",
            "  df.loc[:, 'tweet'] = df.tweet.str.replace(punctuation, '')\n",
            "<ipython-input-10-58d0d99cd0a4>:16: SettingWithCopyWarning: \n",
            "A value is trying to be set on a copy of a slice from a DataFrame.\n",
            "Try using .loc[row_indexer,col_indexer] = value instead\n",
            "\n",
            "See the caveats in the documentation: https://pandas.pydata.org/pandas-docs/stable/user_guide/indexing.html#returning-a-view-versus-a-copy\n",
            "  df['tweet'] = df['tweet'].apply(\n",
            "<ipython-input-10-58d0d99cd0a4>:14: SettingWithCopyWarning: \n",
            "A value is trying to be set on a copy of a slice from a DataFrame.\n",
            "Try using .loc[row_indexer,col_indexer] = value instead\n",
            "\n",
            "See the caveats in the documentation: https://pandas.pydata.org/pandas-docs/stable/user_guide/indexing.html#returning-a-view-versus-a-copy\n",
            "  df.loc[:, 'tweet'] = df.tweet.str.replace(punctuation, '')\n",
            "<ipython-input-10-58d0d99cd0a4>:16: SettingWithCopyWarning: \n",
            "A value is trying to be set on a copy of a slice from a DataFrame.\n",
            "Try using .loc[row_indexer,col_indexer] = value instead\n",
            "\n",
            "See the caveats in the documentation: https://pandas.pydata.org/pandas-docs/stable/user_guide/indexing.html#returning-a-view-versus-a-copy\n",
            "  df['tweet'] = df['tweet'].apply(\n",
            "<ipython-input-10-58d0d99cd0a4>:21: SettingWithCopyWarning: \n",
            "A value is trying to be set on a copy of a slice from a DataFrame.\n",
            "Try using .loc[row_indexer,col_indexer] = value instead\n",
            "\n",
            "See the caveats in the documentation: https://pandas.pydata.org/pandas-docs/stable/user_guide/indexing.html#returning-a-view-versus-a-copy\n",
            "  df.loc[:, 'tweet'] = df['tweet'].apply(emoji.demojize)\n",
            "<ipython-input-10-58d0d99cd0a4>:25: SettingWithCopyWarning: \n",
            "A value is trying to be set on a copy of a slice from a DataFrame.\n",
            "Try using .loc[row_indexer,col_indexer] = value instead\n",
            "\n",
            "See the caveats in the documentation: https://pandas.pydata.org/pandas-docs/stable/user_guide/indexing.html#returning-a-view-versus-a-copy\n",
            "  df.loc[:, 'tweet'] = df['tweet'].apply(replace_multiple_user_mentions)\n",
            "<ipython-input-10-58d0d99cd0a4>:28: SettingWithCopyWarning: \n",
            "A value is trying to be set on a copy of a slice from a DataFrame.\n",
            "Try using .loc[row_indexer,col_indexer] = value instead\n",
            "\n",
            "See the caveats in the documentation: https://pandas.pydata.org/pandas-docs/stable/user_guide/indexing.html#returning-a-view-versus-a-copy\n",
            "  df.loc[:, 'tweet'] = df['tweet'].apply(lambda x: re.sub(r'http\\S+|www\\S+', 'http', x))\n"
          ]
        }
      ],
      "source": [
        "clean_tweets(train_tweets)"
      ]
    },
    {
      "cell_type": "code",
      "execution_count": 12,
      "metadata": {
        "id": "LlB7a12SY8-e"
      },
      "outputs": [],
      "source": [
        "train_task_a_data = train_tweets.join(train_task_a_labels)\n",
        "train_task_a_data.update(train_task_a_data[['tweet']].applymap('\\'{}\\''.format))\n"
      ]
    },
    {
      "cell_type": "code",
      "execution_count": 13,
      "metadata": {
        "colab": {
          "base_uri": "https://localhost:8080/",
          "height": 206
        },
        "id": "tsNvIhPFlNzJ",
        "outputId": "83b33d91-0167-4486-ff5b-f75b9d1d64de"
      },
      "outputs": [
        {
          "output_type": "execute_result",
          "data": {
            "text/plain": [
              "                                               tweet class_a\n",
              "0  ' she should ask a few native americans what t...     OFF\n",
              "1              '  go home youre drunk  maga trump  '     OFF\n",
              "2  'amazon is investigating chinese employees who...     NOT\n",
              "3  ' someone shouldvetaken this piece of shit to ...     OFF\n",
              "4  '  obama wanted liberals and illegals to move ...     NOT"
            ],
            "text/html": [
              "\n",
              "  <div id=\"df-eb0f4519-85a9-4413-a69d-320597c111d0\" class=\"colab-df-container\">\n",
              "    <div>\n",
              "<style scoped>\n",
              "    .dataframe tbody tr th:only-of-type {\n",
              "        vertical-align: middle;\n",
              "    }\n",
              "\n",
              "    .dataframe tbody tr th {\n",
              "        vertical-align: top;\n",
              "    }\n",
              "\n",
              "    .dataframe thead th {\n",
              "        text-align: right;\n",
              "    }\n",
              "</style>\n",
              "<table border=\"1\" class=\"dataframe\">\n",
              "  <thead>\n",
              "    <tr style=\"text-align: right;\">\n",
              "      <th></th>\n",
              "      <th>tweet</th>\n",
              "      <th>class_a</th>\n",
              "    </tr>\n",
              "  </thead>\n",
              "  <tbody>\n",
              "    <tr>\n",
              "      <th>0</th>\n",
              "      <td>' she should ask a few native americans what t...</td>\n",
              "      <td>OFF</td>\n",
              "    </tr>\n",
              "    <tr>\n",
              "      <th>1</th>\n",
              "      <td>'  go home youre drunk  maga trump  '</td>\n",
              "      <td>OFF</td>\n",
              "    </tr>\n",
              "    <tr>\n",
              "      <th>2</th>\n",
              "      <td>'amazon is investigating chinese employees who...</td>\n",
              "      <td>NOT</td>\n",
              "    </tr>\n",
              "    <tr>\n",
              "      <th>3</th>\n",
              "      <td>' someone shouldvetaken this piece of shit to ...</td>\n",
              "      <td>OFF</td>\n",
              "    </tr>\n",
              "    <tr>\n",
              "      <th>4</th>\n",
              "      <td>'  obama wanted liberals and illegals to move ...</td>\n",
              "      <td>NOT</td>\n",
              "    </tr>\n",
              "  </tbody>\n",
              "</table>\n",
              "</div>\n",
              "    <div class=\"colab-df-buttons\">\n",
              "\n",
              "  <div class=\"colab-df-container\">\n",
              "    <button class=\"colab-df-convert\" onclick=\"convertToInteractive('df-eb0f4519-85a9-4413-a69d-320597c111d0')\"\n",
              "            title=\"Convert this dataframe to an interactive table.\"\n",
              "            style=\"display:none;\">\n",
              "\n",
              "  <svg xmlns=\"http://www.w3.org/2000/svg\" height=\"24px\" viewBox=\"0 -960 960 960\">\n",
              "    <path d=\"M120-120v-720h720v720H120Zm60-500h600v-160H180v160Zm220 220h160v-160H400v160Zm0 220h160v-160H400v160ZM180-400h160v-160H180v160Zm440 0h160v-160H620v160ZM180-180h160v-160H180v160Zm440 0h160v-160H620v160Z\"/>\n",
              "  </svg>\n",
              "    </button>\n",
              "\n",
              "  <style>\n",
              "    .colab-df-container {\n",
              "      display:flex;\n",
              "      gap: 12px;\n",
              "    }\n",
              "\n",
              "    .colab-df-convert {\n",
              "      background-color: #E8F0FE;\n",
              "      border: none;\n",
              "      border-radius: 50%;\n",
              "      cursor: pointer;\n",
              "      display: none;\n",
              "      fill: #1967D2;\n",
              "      height: 32px;\n",
              "      padding: 0 0 0 0;\n",
              "      width: 32px;\n",
              "    }\n",
              "\n",
              "    .colab-df-convert:hover {\n",
              "      background-color: #E2EBFA;\n",
              "      box-shadow: 0px 1px 2px rgba(60, 64, 67, 0.3), 0px 1px 3px 1px rgba(60, 64, 67, 0.15);\n",
              "      fill: #174EA6;\n",
              "    }\n",
              "\n",
              "    .colab-df-buttons div {\n",
              "      margin-bottom: 4px;\n",
              "    }\n",
              "\n",
              "    [theme=dark] .colab-df-convert {\n",
              "      background-color: #3B4455;\n",
              "      fill: #D2E3FC;\n",
              "    }\n",
              "\n",
              "    [theme=dark] .colab-df-convert:hover {\n",
              "      background-color: #434B5C;\n",
              "      box-shadow: 0px 1px 3px 1px rgba(0, 0, 0, 0.15);\n",
              "      filter: drop-shadow(0px 1px 2px rgba(0, 0, 0, 0.3));\n",
              "      fill: #FFFFFF;\n",
              "    }\n",
              "  </style>\n",
              "\n",
              "    <script>\n",
              "      const buttonEl =\n",
              "        document.querySelector('#df-eb0f4519-85a9-4413-a69d-320597c111d0 button.colab-df-convert');\n",
              "      buttonEl.style.display =\n",
              "        google.colab.kernel.accessAllowed ? 'block' : 'none';\n",
              "\n",
              "      async function convertToInteractive(key) {\n",
              "        const element = document.querySelector('#df-eb0f4519-85a9-4413-a69d-320597c111d0');\n",
              "        const dataTable =\n",
              "          await google.colab.kernel.invokeFunction('convertToInteractive',\n",
              "                                                    [key], {});\n",
              "        if (!dataTable) return;\n",
              "\n",
              "        const docLinkHtml = 'Like what you see? Visit the ' +\n",
              "          '<a target=\"_blank\" href=https://colab.research.google.com/notebooks/data_table.ipynb>data table notebook</a>'\n",
              "          + ' to learn more about interactive tables.';\n",
              "        element.innerHTML = '';\n",
              "        dataTable['output_type'] = 'display_data';\n",
              "        await google.colab.output.renderOutput(dataTable, element);\n",
              "        const docLink = document.createElement('div');\n",
              "        docLink.innerHTML = docLinkHtml;\n",
              "        element.appendChild(docLink);\n",
              "      }\n",
              "    </script>\n",
              "  </div>\n",
              "\n",
              "\n",
              "<div id=\"df-af644f6d-99ca-44a2-9c15-a8880fdac6c2\">\n",
              "  <button class=\"colab-df-quickchart\" onclick=\"quickchart('df-af644f6d-99ca-44a2-9c15-a8880fdac6c2')\"\n",
              "            title=\"Suggest charts.\"\n",
              "            style=\"display:none;\">\n",
              "\n",
              "<svg xmlns=\"http://www.w3.org/2000/svg\" height=\"24px\"viewBox=\"0 0 24 24\"\n",
              "     width=\"24px\">\n",
              "    <g>\n",
              "        <path d=\"M19 3H5c-1.1 0-2 .9-2 2v14c0 1.1.9 2 2 2h14c1.1 0 2-.9 2-2V5c0-1.1-.9-2-2-2zM9 17H7v-7h2v7zm4 0h-2V7h2v10zm4 0h-2v-4h2v4z\"/>\n",
              "    </g>\n",
              "</svg>\n",
              "  </button>\n",
              "\n",
              "<style>\n",
              "  .colab-df-quickchart {\n",
              "    background-color: #E8F0FE;\n",
              "    border: none;\n",
              "    border-radius: 50%;\n",
              "    cursor: pointer;\n",
              "    display: none;\n",
              "    fill: #1967D2;\n",
              "    height: 32px;\n",
              "    padding: 0 0 0 0;\n",
              "    width: 32px;\n",
              "  }\n",
              "\n",
              "  .colab-df-quickchart:hover {\n",
              "    background-color: #E2EBFA;\n",
              "    box-shadow: 0px 1px 2px rgba(60, 64, 67, 0.3), 0px 1px 3px 1px rgba(60, 64, 67, 0.15);\n",
              "    fill: #174EA6;\n",
              "  }\n",
              "\n",
              "  [theme=dark] .colab-df-quickchart {\n",
              "    background-color: #3B4455;\n",
              "    fill: #D2E3FC;\n",
              "  }\n",
              "\n",
              "  [theme=dark] .colab-df-quickchart:hover {\n",
              "    background-color: #434B5C;\n",
              "    box-shadow: 0px 1px 3px 1px rgba(0, 0, 0, 0.15);\n",
              "    filter: drop-shadow(0px 1px 2px rgba(0, 0, 0, 0.3));\n",
              "    fill: #FFFFFF;\n",
              "  }\n",
              "</style>\n",
              "\n",
              "  <script>\n",
              "    async function quickchart(key) {\n",
              "      const charts = await google.colab.kernel.invokeFunction(\n",
              "          'suggestCharts', [key], {});\n",
              "    }\n",
              "    (() => {\n",
              "      let quickchartButtonEl =\n",
              "        document.querySelector('#df-af644f6d-99ca-44a2-9c15-a8880fdac6c2 button');\n",
              "      quickchartButtonEl.style.display =\n",
              "        google.colab.kernel.accessAllowed ? 'block' : 'none';\n",
              "    })();\n",
              "  </script>\n",
              "</div>\n",
              "    </div>\n",
              "  </div>\n"
            ]
          },
          "metadata": {},
          "execution_count": 13
        }
      ],
      "source": [
        "train_task_a_data.head()"
      ]
    },
    {
      "cell_type": "code",
      "execution_count": 14,
      "metadata": {
        "colab": {
          "base_uri": "https://localhost:8080/",
          "height": 298
        },
        "id": "8Uc_gX_klN11",
        "outputId": "bbc23637-ccc8-4a95-c2fe-8a076366946a"
      },
      "outputs": [
        {
          "output_type": "stream",
          "name": "stderr",
          "text": [
            "<ipython-input-10-58d0d99cd0a4>:9: FutureWarning: The default value of regex will change from True to False in a future version.\n",
            "  df.loc[:, 'tweet'] = df.tweet.str.replace('\\d+','') #Remove numbers\n",
            "<ipython-input-10-58d0d99cd0a4>:14: FutureWarning: The default value of regex will change from True to False in a future version. In addition, single character regular expressions will *not* be treated as literal strings when regex=True.\n",
            "  df.loc[:, 'tweet'] = df.tweet.str.replace(punctuation, '')\n"
          ]
        },
        {
          "output_type": "execute_result",
          "data": {
            "text/plain": [
              "                                               tweet class_a\n",
              "0  'whoisq wherestheserver dumpnike declasfisa de...     OFF\n",
              "1  'constitutionday is revered by conservatives h...     NOT\n",
              "2  'foxnews nra maga potus trump ndamendment rnc ...     NOT\n",
              "3  'watching boomer getting the news that she is ...     NOT\n",
              "4  'nopasaran unity demo to oppose the farright i...     OFF"
            ],
            "text/html": [
              "\n",
              "  <div id=\"df-7c052b20-5d5b-4b43-b584-96ea5293c17a\" class=\"colab-df-container\">\n",
              "    <div>\n",
              "<style scoped>\n",
              "    .dataframe tbody tr th:only-of-type {\n",
              "        vertical-align: middle;\n",
              "    }\n",
              "\n",
              "    .dataframe tbody tr th {\n",
              "        vertical-align: top;\n",
              "    }\n",
              "\n",
              "    .dataframe thead th {\n",
              "        text-align: right;\n",
              "    }\n",
              "</style>\n",
              "<table border=\"1\" class=\"dataframe\">\n",
              "  <thead>\n",
              "    <tr style=\"text-align: right;\">\n",
              "      <th></th>\n",
              "      <th>tweet</th>\n",
              "      <th>class_a</th>\n",
              "    </tr>\n",
              "  </thead>\n",
              "  <tbody>\n",
              "    <tr>\n",
              "      <th>0</th>\n",
              "      <td>'whoisq wherestheserver dumpnike declasfisa de...</td>\n",
              "      <td>OFF</td>\n",
              "    </tr>\n",
              "    <tr>\n",
              "      <th>1</th>\n",
              "      <td>'constitutionday is revered by conservatives h...</td>\n",
              "      <td>NOT</td>\n",
              "    </tr>\n",
              "    <tr>\n",
              "      <th>2</th>\n",
              "      <td>'foxnews nra maga potus trump ndamendment rnc ...</td>\n",
              "      <td>NOT</td>\n",
              "    </tr>\n",
              "    <tr>\n",
              "      <th>3</th>\n",
              "      <td>'watching boomer getting the news that she is ...</td>\n",
              "      <td>NOT</td>\n",
              "    </tr>\n",
              "    <tr>\n",
              "      <th>4</th>\n",
              "      <td>'nopasaran unity demo to oppose the farright i...</td>\n",
              "      <td>OFF</td>\n",
              "    </tr>\n",
              "  </tbody>\n",
              "</table>\n",
              "</div>\n",
              "    <div class=\"colab-df-buttons\">\n",
              "\n",
              "  <div class=\"colab-df-container\">\n",
              "    <button class=\"colab-df-convert\" onclick=\"convertToInteractive('df-7c052b20-5d5b-4b43-b584-96ea5293c17a')\"\n",
              "            title=\"Convert this dataframe to an interactive table.\"\n",
              "            style=\"display:none;\">\n",
              "\n",
              "  <svg xmlns=\"http://www.w3.org/2000/svg\" height=\"24px\" viewBox=\"0 -960 960 960\">\n",
              "    <path d=\"M120-120v-720h720v720H120Zm60-500h600v-160H180v160Zm220 220h160v-160H400v160Zm0 220h160v-160H400v160ZM180-400h160v-160H180v160Zm440 0h160v-160H620v160ZM180-180h160v-160H180v160Zm440 0h160v-160H620v160Z\"/>\n",
              "  </svg>\n",
              "    </button>\n",
              "\n",
              "  <style>\n",
              "    .colab-df-container {\n",
              "      display:flex;\n",
              "      gap: 12px;\n",
              "    }\n",
              "\n",
              "    .colab-df-convert {\n",
              "      background-color: #E8F0FE;\n",
              "      border: none;\n",
              "      border-radius: 50%;\n",
              "      cursor: pointer;\n",
              "      display: none;\n",
              "      fill: #1967D2;\n",
              "      height: 32px;\n",
              "      padding: 0 0 0 0;\n",
              "      width: 32px;\n",
              "    }\n",
              "\n",
              "    .colab-df-convert:hover {\n",
              "      background-color: #E2EBFA;\n",
              "      box-shadow: 0px 1px 2px rgba(60, 64, 67, 0.3), 0px 1px 3px 1px rgba(60, 64, 67, 0.15);\n",
              "      fill: #174EA6;\n",
              "    }\n",
              "\n",
              "    .colab-df-buttons div {\n",
              "      margin-bottom: 4px;\n",
              "    }\n",
              "\n",
              "    [theme=dark] .colab-df-convert {\n",
              "      background-color: #3B4455;\n",
              "      fill: #D2E3FC;\n",
              "    }\n",
              "\n",
              "    [theme=dark] .colab-df-convert:hover {\n",
              "      background-color: #434B5C;\n",
              "      box-shadow: 0px 1px 3px 1px rgba(0, 0, 0, 0.15);\n",
              "      filter: drop-shadow(0px 1px 2px rgba(0, 0, 0, 0.3));\n",
              "      fill: #FFFFFF;\n",
              "    }\n",
              "  </style>\n",
              "\n",
              "    <script>\n",
              "      const buttonEl =\n",
              "        document.querySelector('#df-7c052b20-5d5b-4b43-b584-96ea5293c17a button.colab-df-convert');\n",
              "      buttonEl.style.display =\n",
              "        google.colab.kernel.accessAllowed ? 'block' : 'none';\n",
              "\n",
              "      async function convertToInteractive(key) {\n",
              "        const element = document.querySelector('#df-7c052b20-5d5b-4b43-b584-96ea5293c17a');\n",
              "        const dataTable =\n",
              "          await google.colab.kernel.invokeFunction('convertToInteractive',\n",
              "                                                    [key], {});\n",
              "        if (!dataTable) return;\n",
              "\n",
              "        const docLinkHtml = 'Like what you see? Visit the ' +\n",
              "          '<a target=\"_blank\" href=https://colab.research.google.com/notebooks/data_table.ipynb>data table notebook</a>'\n",
              "          + ' to learn more about interactive tables.';\n",
              "        element.innerHTML = '';\n",
              "        dataTable['output_type'] = 'display_data';\n",
              "        await google.colab.output.renderOutput(dataTable, element);\n",
              "        const docLink = document.createElement('div');\n",
              "        docLink.innerHTML = docLinkHtml;\n",
              "        element.appendChild(docLink);\n",
              "      }\n",
              "    </script>\n",
              "  </div>\n",
              "\n",
              "\n",
              "<div id=\"df-c9c1979c-6449-4cd0-b6c4-60ee32a30ce5\">\n",
              "  <button class=\"colab-df-quickchart\" onclick=\"quickchart('df-c9c1979c-6449-4cd0-b6c4-60ee32a30ce5')\"\n",
              "            title=\"Suggest charts.\"\n",
              "            style=\"display:none;\">\n",
              "\n",
              "<svg xmlns=\"http://www.w3.org/2000/svg\" height=\"24px\"viewBox=\"0 0 24 24\"\n",
              "     width=\"24px\">\n",
              "    <g>\n",
              "        <path d=\"M19 3H5c-1.1 0-2 .9-2 2v14c0 1.1.9 2 2 2h14c1.1 0 2-.9 2-2V5c0-1.1-.9-2-2-2zM9 17H7v-7h2v7zm4 0h-2V7h2v10zm4 0h-2v-4h2v4z\"/>\n",
              "    </g>\n",
              "</svg>\n",
              "  </button>\n",
              "\n",
              "<style>\n",
              "  .colab-df-quickchart {\n",
              "    background-color: #E8F0FE;\n",
              "    border: none;\n",
              "    border-radius: 50%;\n",
              "    cursor: pointer;\n",
              "    display: none;\n",
              "    fill: #1967D2;\n",
              "    height: 32px;\n",
              "    padding: 0 0 0 0;\n",
              "    width: 32px;\n",
              "  }\n",
              "\n",
              "  .colab-df-quickchart:hover {\n",
              "    background-color: #E2EBFA;\n",
              "    box-shadow: 0px 1px 2px rgba(60, 64, 67, 0.3), 0px 1px 3px 1px rgba(60, 64, 67, 0.15);\n",
              "    fill: #174EA6;\n",
              "  }\n",
              "\n",
              "  [theme=dark] .colab-df-quickchart {\n",
              "    background-color: #3B4455;\n",
              "    fill: #D2E3FC;\n",
              "  }\n",
              "\n",
              "  [theme=dark] .colab-df-quickchart:hover {\n",
              "    background-color: #434B5C;\n",
              "    box-shadow: 0px 1px 3px 1px rgba(0, 0, 0, 0.15);\n",
              "    filter: drop-shadow(0px 1px 2px rgba(0, 0, 0, 0.3));\n",
              "    fill: #FFFFFF;\n",
              "  }\n",
              "</style>\n",
              "\n",
              "  <script>\n",
              "    async function quickchart(key) {\n",
              "      const charts = await google.colab.kernel.invokeFunction(\n",
              "          'suggestCharts', [key], {});\n",
              "    }\n",
              "    (() => {\n",
              "      let quickchartButtonEl =\n",
              "        document.querySelector('#df-c9c1979c-6449-4cd0-b6c4-60ee32a30ce5 button');\n",
              "      quickchartButtonEl.style.display =\n",
              "        google.colab.kernel.accessAllowed ? 'block' : 'none';\n",
              "    })();\n",
              "  </script>\n",
              "</div>\n",
              "    </div>\n",
              "  </div>\n"
            ]
          },
          "metadata": {},
          "execution_count": 14
        }
      ],
      "source": [
        "#Read tweets from test sets\n",
        "test_tweet_a=pd.read_csv('./testset-levela.tsv', delimiter='\\t', encoding='utf-8')\n",
        "\n",
        "#Read tweet labels\n",
        "test_label_a=pd.read_csv('./labels-levela.csv', encoding='utf-8',\n",
        "                         index_col=False, names=['id', 'class_a'])\n",
        "\n",
        "\n",
        "#Merge tweets with labels by id\n",
        "test_tweet_a = test_tweet_a.merge(test_label_a, on='id')\n",
        "\n",
        "#Drop id column\n",
        "test_tweet_a = test_tweet_a.drop(columns='id')\n",
        "\n",
        "#Clean tweets in test sets\n",
        "clean_tweets(test_tweet_a)\n",
        "\n",
        "#Apply quotes to cleaned tweets\n",
        "test_tweet_a.update(test_tweet_a[['tweet']].applymap('\\'{}\\''.format))\n",
        "\n",
        "\n",
        "test_tweet_a.head()"
      ]
    },
    {
      "cell_type": "code",
      "execution_count": null,
      "metadata": {
        "id": "M-yoBD1YlN4O"
      },
      "outputs": [],
      "source": []
    },
    {
      "cell_type": "markdown",
      "metadata": {
        "id": "GlV1RGIGl7vm"
      },
      "source": [
        "# Task A"
      ]
    },
    {
      "cell_type": "code",
      "execution_count": 15,
      "metadata": {
        "id": "SW8tg9-nlN64"
      },
      "outputs": [],
      "source": [
        "# Creating labelEncoder\n",
        "encoder = LabelEncoder()\n",
        "# Converting string labels into numbers.\n",
        "train_task_a_data[\"class_a_code\"] = encoder.fit_transform(train_task_a_data[\"class_a\"])\n",
        "test_tweet_a[\"class_a_code\"] = encoder.fit_transform(test_tweet_a[\"class_a\"])"
      ]
    },
    {
      "cell_type": "code",
      "execution_count": 16,
      "metadata": {
        "colab": {
          "base_uri": "https://localhost:8080/"
        },
        "id": "Y4tudMqNlOAF",
        "outputId": "5ba36d05-3be0-4265-c446-7dfb8940b137"
      },
      "outputs": [
        {
          "output_type": "execute_result",
          "data": {
            "text/plain": [
              "array([('OFF', 1), ('NOT', 0)], dtype=object)"
            ]
          },
          "metadata": {},
          "execution_count": 16
        }
      ],
      "source": [
        "#Create tuple pair for class and class code\n",
        "train_task_a_data['class-tuple'] = train_task_a_data[['class_a', 'class_a_code']].apply(tuple, axis=1)\n",
        "class_a = train_task_a_data['class-tuple'].unique()\n",
        "class_a"
      ]
    },
    {
      "cell_type": "code",
      "execution_count": 17,
      "metadata": {
        "colab": {
          "base_uri": "https://localhost:8080/"
        },
        "id": "cqSZJHMqmA95",
        "outputId": "b6af2efc-6889-4866-98d5-67fc1ccbeef8"
      },
      "outputs": [
        {
          "output_type": "stream",
          "name": "stdout",
          "text": [
            "Shape of train_tweet is (13240,) and shape of train_label is (13240,)\n",
            "Shape of test_tweet is (860,) and shape of test_label is (860,)\n"
          ]
        }
      ],
      "source": [
        "# Label the Data\n",
        "\n",
        "train_tweets = train_task_a_data['tweet']\n",
        "train_labels = train_task_a_data['class_a_code']\n",
        "\n",
        "X_test = test_tweet_a['tweet']\n",
        "y_test = test_tweet_a['class_a_code']\n",
        "\n",
        "\n",
        "print(\"Shape of train_tweet is {} and shape of train_label is {}\".format(train_tweets.shape, train_labels.shape))\n",
        "print(\"Shape of test_tweet is {} and shape of test_label is {}\".format(X_test.shape, y_test.shape))"
      ]
    },
    {
      "cell_type": "code",
      "execution_count": 18,
      "metadata": {
        "colab": {
          "base_uri": "https://localhost:8080/"
        },
        "id": "sVct0MmPmBAP",
        "outputId": "a984d5f4-02fe-41f1-8d3d-2f9aab899a5a"
      },
      "outputs": [
        {
          "output_type": "stream",
          "name": "stdout",
          "text": [
            "Shape of test_tweets is (9268,) and shape of test_labels is (9268,)\n"
          ]
        }
      ],
      "source": [
        "X_train,X_val,y_train,y_val = train_test_split(train_tweets,train_labels,test_size=0.30,random_state=42)\n",
        "\n",
        "\n",
        "print(\"Shape of test_tweets is {} and shape of test_labels is {}\".format(X_train.shape, y_train.shape))"
      ]
    },
    {
      "cell_type": "code",
      "execution_count": 19,
      "metadata": {
        "colab": {
          "base_uri": "https://localhost:8080/"
        },
        "id": "ScTsfdD4dTBI",
        "outputId": "588f2879-a9b8-4207-bd0d-ab8db0bf8725"
      },
      "outputs": [
        {
          "output_type": "execute_result",
          "data": {
            "text/plain": [
              "2804               '  truly anything to avoid gun control'\n",
              "13084    ' its not wrongfully characterizing its the fu...\n",
              "2211     '  they need to add more gun control laws and ...\n",
              "11154    'boom  maybe that book deal isnt such a good i...\n",
              "10620    ' unfirtunately i have seen hispanics justifyi...\n",
              "                               ...                        \n",
              "11964    ' isnt there a statute of limitations on sexua...\n",
              "5191             '  he is probably dying due to dog fumes'\n",
              "5390                                  '  you are so right'\n",
              "860           ' sams act is working i swear she is acting'\n",
              "7270                                     '  chuckle heads'\n",
              "Name: tweet, Length: 9268, dtype: object"
            ]
          },
          "metadata": {},
          "execution_count": 19
        }
      ],
      "source": [
        "X_train"
      ]
    },
    {
      "cell_type": "code",
      "execution_count": 20,
      "metadata": {
        "colab": {
          "base_uri": "https://localhost:8080/"
        },
        "id": "avexXbYXdh57",
        "outputId": "e6952fca-f1a8-4734-d480-5c30cb8be446"
      },
      "outputs": [
        {
          "output_type": "execute_result",
          "data": {
            "text/plain": [
              "2804     0\n",
              "13084    1\n",
              "2211     0\n",
              "11154    0\n",
              "10620    1\n",
              "        ..\n",
              "11964    0\n",
              "5191     0\n",
              "5390     0\n",
              "860      0\n",
              "7270     0\n",
              "Name: class_a_code, Length: 9268, dtype: int64"
            ]
          },
          "metadata": {},
          "execution_count": 20
        }
      ],
      "source": [
        "y_train"
      ]
    },
    {
      "cell_type": "code",
      "execution_count": 21,
      "metadata": {
        "colab": {
          "base_uri": "https://localhost:8080/",
          "height": 424
        },
        "id": "MvF-1jp_wWat",
        "outputId": "66bdc330-6537-44d6-d80a-43fc112880c8"
      },
      "outputs": [
        {
          "output_type": "execute_result",
          "data": {
            "text/plain": [
              "                                                 tweet class_a  class_a_code\n",
              "0    'whoisq wherestheserver dumpnike declasfisa de...     OFF             1\n",
              "1    'constitutionday is revered by conservatives h...     NOT             0\n",
              "2    'foxnews nra maga potus trump ndamendment rnc ...     NOT             0\n",
              "3    'watching boomer getting the news that she is ...     NOT             0\n",
              "4    'nopasaran unity demo to oppose the farright i...     OFF             1\n",
              "..                                                 ...     ...           ...\n",
              "855  'despicabledems lie again about rifles dem dis...     OFF             1\n",
              "856  'meetthespeakers   will present in our event o...     NOT             0\n",
              "857  ' people just unfollowed me for talking about ...     OFF             1\n",
              "858  'wednesdaywisdom antifa calls the right fascis...     NOT             0\n",
              "859           'kavanaugh typical liberals  democrats '     NOT             0\n",
              "\n",
              "[860 rows x 3 columns]"
            ],
            "text/html": [
              "\n",
              "  <div id=\"df-effb7289-55d7-436d-918e-8c23be6001be\" class=\"colab-df-container\">\n",
              "    <div>\n",
              "<style scoped>\n",
              "    .dataframe tbody tr th:only-of-type {\n",
              "        vertical-align: middle;\n",
              "    }\n",
              "\n",
              "    .dataframe tbody tr th {\n",
              "        vertical-align: top;\n",
              "    }\n",
              "\n",
              "    .dataframe thead th {\n",
              "        text-align: right;\n",
              "    }\n",
              "</style>\n",
              "<table border=\"1\" class=\"dataframe\">\n",
              "  <thead>\n",
              "    <tr style=\"text-align: right;\">\n",
              "      <th></th>\n",
              "      <th>tweet</th>\n",
              "      <th>class_a</th>\n",
              "      <th>class_a_code</th>\n",
              "    </tr>\n",
              "  </thead>\n",
              "  <tbody>\n",
              "    <tr>\n",
              "      <th>0</th>\n",
              "      <td>'whoisq wherestheserver dumpnike declasfisa de...</td>\n",
              "      <td>OFF</td>\n",
              "      <td>1</td>\n",
              "    </tr>\n",
              "    <tr>\n",
              "      <th>1</th>\n",
              "      <td>'constitutionday is revered by conservatives h...</td>\n",
              "      <td>NOT</td>\n",
              "      <td>0</td>\n",
              "    </tr>\n",
              "    <tr>\n",
              "      <th>2</th>\n",
              "      <td>'foxnews nra maga potus trump ndamendment rnc ...</td>\n",
              "      <td>NOT</td>\n",
              "      <td>0</td>\n",
              "    </tr>\n",
              "    <tr>\n",
              "      <th>3</th>\n",
              "      <td>'watching boomer getting the news that she is ...</td>\n",
              "      <td>NOT</td>\n",
              "      <td>0</td>\n",
              "    </tr>\n",
              "    <tr>\n",
              "      <th>4</th>\n",
              "      <td>'nopasaran unity demo to oppose the farright i...</td>\n",
              "      <td>OFF</td>\n",
              "      <td>1</td>\n",
              "    </tr>\n",
              "    <tr>\n",
              "      <th>...</th>\n",
              "      <td>...</td>\n",
              "      <td>...</td>\n",
              "      <td>...</td>\n",
              "    </tr>\n",
              "    <tr>\n",
              "      <th>855</th>\n",
              "      <td>'despicabledems lie again about rifles dem dis...</td>\n",
              "      <td>OFF</td>\n",
              "      <td>1</td>\n",
              "    </tr>\n",
              "    <tr>\n",
              "      <th>856</th>\n",
              "      <td>'meetthespeakers   will present in our event o...</td>\n",
              "      <td>NOT</td>\n",
              "      <td>0</td>\n",
              "    </tr>\n",
              "    <tr>\n",
              "      <th>857</th>\n",
              "      <td>' people just unfollowed me for talking about ...</td>\n",
              "      <td>OFF</td>\n",
              "      <td>1</td>\n",
              "    </tr>\n",
              "    <tr>\n",
              "      <th>858</th>\n",
              "      <td>'wednesdaywisdom antifa calls the right fascis...</td>\n",
              "      <td>NOT</td>\n",
              "      <td>0</td>\n",
              "    </tr>\n",
              "    <tr>\n",
              "      <th>859</th>\n",
              "      <td>'kavanaugh typical liberals  democrats '</td>\n",
              "      <td>NOT</td>\n",
              "      <td>0</td>\n",
              "    </tr>\n",
              "  </tbody>\n",
              "</table>\n",
              "<p>860 rows × 3 columns</p>\n",
              "</div>\n",
              "    <div class=\"colab-df-buttons\">\n",
              "\n",
              "  <div class=\"colab-df-container\">\n",
              "    <button class=\"colab-df-convert\" onclick=\"convertToInteractive('df-effb7289-55d7-436d-918e-8c23be6001be')\"\n",
              "            title=\"Convert this dataframe to an interactive table.\"\n",
              "            style=\"display:none;\">\n",
              "\n",
              "  <svg xmlns=\"http://www.w3.org/2000/svg\" height=\"24px\" viewBox=\"0 -960 960 960\">\n",
              "    <path d=\"M120-120v-720h720v720H120Zm60-500h600v-160H180v160Zm220 220h160v-160H400v160Zm0 220h160v-160H400v160ZM180-400h160v-160H180v160Zm440 0h160v-160H620v160ZM180-180h160v-160H180v160Zm440 0h160v-160H620v160Z\"/>\n",
              "  </svg>\n",
              "    </button>\n",
              "\n",
              "  <style>\n",
              "    .colab-df-container {\n",
              "      display:flex;\n",
              "      gap: 12px;\n",
              "    }\n",
              "\n",
              "    .colab-df-convert {\n",
              "      background-color: #E8F0FE;\n",
              "      border: none;\n",
              "      border-radius: 50%;\n",
              "      cursor: pointer;\n",
              "      display: none;\n",
              "      fill: #1967D2;\n",
              "      height: 32px;\n",
              "      padding: 0 0 0 0;\n",
              "      width: 32px;\n",
              "    }\n",
              "\n",
              "    .colab-df-convert:hover {\n",
              "      background-color: #E2EBFA;\n",
              "      box-shadow: 0px 1px 2px rgba(60, 64, 67, 0.3), 0px 1px 3px 1px rgba(60, 64, 67, 0.15);\n",
              "      fill: #174EA6;\n",
              "    }\n",
              "\n",
              "    .colab-df-buttons div {\n",
              "      margin-bottom: 4px;\n",
              "    }\n",
              "\n",
              "    [theme=dark] .colab-df-convert {\n",
              "      background-color: #3B4455;\n",
              "      fill: #D2E3FC;\n",
              "    }\n",
              "\n",
              "    [theme=dark] .colab-df-convert:hover {\n",
              "      background-color: #434B5C;\n",
              "      box-shadow: 0px 1px 3px 1px rgba(0, 0, 0, 0.15);\n",
              "      filter: drop-shadow(0px 1px 2px rgba(0, 0, 0, 0.3));\n",
              "      fill: #FFFFFF;\n",
              "    }\n",
              "  </style>\n",
              "\n",
              "    <script>\n",
              "      const buttonEl =\n",
              "        document.querySelector('#df-effb7289-55d7-436d-918e-8c23be6001be button.colab-df-convert');\n",
              "      buttonEl.style.display =\n",
              "        google.colab.kernel.accessAllowed ? 'block' : 'none';\n",
              "\n",
              "      async function convertToInteractive(key) {\n",
              "        const element = document.querySelector('#df-effb7289-55d7-436d-918e-8c23be6001be');\n",
              "        const dataTable =\n",
              "          await google.colab.kernel.invokeFunction('convertToInteractive',\n",
              "                                                    [key], {});\n",
              "        if (!dataTable) return;\n",
              "\n",
              "        const docLinkHtml = 'Like what you see? Visit the ' +\n",
              "          '<a target=\"_blank\" href=https://colab.research.google.com/notebooks/data_table.ipynb>data table notebook</a>'\n",
              "          + ' to learn more about interactive tables.';\n",
              "        element.innerHTML = '';\n",
              "        dataTable['output_type'] = 'display_data';\n",
              "        await google.colab.output.renderOutput(dataTable, element);\n",
              "        const docLink = document.createElement('div');\n",
              "        docLink.innerHTML = docLinkHtml;\n",
              "        element.appendChild(docLink);\n",
              "      }\n",
              "    </script>\n",
              "  </div>\n",
              "\n",
              "\n",
              "<div id=\"df-c5aa828f-7f63-4989-97c7-21c280b4b5df\">\n",
              "  <button class=\"colab-df-quickchart\" onclick=\"quickchart('df-c5aa828f-7f63-4989-97c7-21c280b4b5df')\"\n",
              "            title=\"Suggest charts.\"\n",
              "            style=\"display:none;\">\n",
              "\n",
              "<svg xmlns=\"http://www.w3.org/2000/svg\" height=\"24px\"viewBox=\"0 0 24 24\"\n",
              "     width=\"24px\">\n",
              "    <g>\n",
              "        <path d=\"M19 3H5c-1.1 0-2 .9-2 2v14c0 1.1.9 2 2 2h14c1.1 0 2-.9 2-2V5c0-1.1-.9-2-2-2zM9 17H7v-7h2v7zm4 0h-2V7h2v10zm4 0h-2v-4h2v4z\"/>\n",
              "    </g>\n",
              "</svg>\n",
              "  </button>\n",
              "\n",
              "<style>\n",
              "  .colab-df-quickchart {\n",
              "    background-color: #E8F0FE;\n",
              "    border: none;\n",
              "    border-radius: 50%;\n",
              "    cursor: pointer;\n",
              "    display: none;\n",
              "    fill: #1967D2;\n",
              "    height: 32px;\n",
              "    padding: 0 0 0 0;\n",
              "    width: 32px;\n",
              "  }\n",
              "\n",
              "  .colab-df-quickchart:hover {\n",
              "    background-color: #E2EBFA;\n",
              "    box-shadow: 0px 1px 2px rgba(60, 64, 67, 0.3), 0px 1px 3px 1px rgba(60, 64, 67, 0.15);\n",
              "    fill: #174EA6;\n",
              "  }\n",
              "\n",
              "  [theme=dark] .colab-df-quickchart {\n",
              "    background-color: #3B4455;\n",
              "    fill: #D2E3FC;\n",
              "  }\n",
              "\n",
              "  [theme=dark] .colab-df-quickchart:hover {\n",
              "    background-color: #434B5C;\n",
              "    box-shadow: 0px 1px 3px 1px rgba(0, 0, 0, 0.15);\n",
              "    filter: drop-shadow(0px 1px 2px rgba(0, 0, 0, 0.3));\n",
              "    fill: #FFFFFF;\n",
              "  }\n",
              "</style>\n",
              "\n",
              "  <script>\n",
              "    async function quickchart(key) {\n",
              "      const charts = await google.colab.kernel.invokeFunction(\n",
              "          'suggestCharts', [key], {});\n",
              "    }\n",
              "    (() => {\n",
              "      let quickchartButtonEl =\n",
              "        document.querySelector('#df-c5aa828f-7f63-4989-97c7-21c280b4b5df button');\n",
              "      quickchartButtonEl.style.display =\n",
              "        google.colab.kernel.accessAllowed ? 'block' : 'none';\n",
              "    })();\n",
              "  </script>\n",
              "</div>\n",
              "    </div>\n",
              "  </div>\n"
            ]
          },
          "metadata": {},
          "execution_count": 21
        }
      ],
      "source": [
        "test_tweet_a"
      ]
    },
    {
      "cell_type": "code",
      "execution_count": 22,
      "metadata": {
        "colab": {
          "base_uri": "https://localhost:8080/"
        },
        "id": "6Da0D1LvwWau",
        "outputId": "16f3acf1-a5a1-434a-cb92-9e1b2c7a5c55"
      },
      "outputs": [
        {
          "output_type": "execute_result",
          "data": {
            "text/plain": [
              "0      'whoisq wherestheserver dumpnike declasfisa de...\n",
              "1      'constitutionday is revered by conservatives h...\n",
              "2      'foxnews nra maga potus trump ndamendment rnc ...\n",
              "3      'watching boomer getting the news that she is ...\n",
              "4      'nopasaran unity demo to oppose the farright i...\n",
              "                             ...                        \n",
              "855    'despicabledems lie again about rifles dem dis...\n",
              "856    'meetthespeakers   will present in our event o...\n",
              "857    ' people just unfollowed me for talking about ...\n",
              "858    'wednesdaywisdom antifa calls the right fascis...\n",
              "859             'kavanaugh typical liberals  democrats '\n",
              "Name: tweet, Length: 860, dtype: object"
            ]
          },
          "metadata": {},
          "execution_count": 22
        }
      ],
      "source": [
        "X_test"
      ]
    },
    {
      "cell_type": "code",
      "execution_count": 23,
      "metadata": {
        "colab": {
          "base_uri": "https://localhost:8080/"
        },
        "id": "H1AibeqpwWau",
        "outputId": "2522c566-94b0-47ac-85b5-207f43421d6f"
      },
      "outputs": [
        {
          "output_type": "execute_result",
          "data": {
            "text/plain": [
              "0      1\n",
              "1      0\n",
              "2      0\n",
              "3      0\n",
              "4      1\n",
              "      ..\n",
              "855    1\n",
              "856    0\n",
              "857    1\n",
              "858    0\n",
              "859    0\n",
              "Name: class_a_code, Length: 860, dtype: int64"
            ]
          },
          "metadata": {},
          "execution_count": 23
        }
      ],
      "source": [
        "y_test"
      ]
    },
    {
      "cell_type": "code",
      "execution_count": 28,
      "metadata": {
        "colab": {
          "base_uri": "https://localhost:8080/"
        },
        "id": "-MvD0Gr_rJUV",
        "outputId": "8c054b85-c7e0-406b-b389-31c31a90ba10"
      },
      "outputs": [
        {
          "output_type": "stream",
          "name": "stdout",
          "text": [
            "Collecting transformers\n",
            "  Downloading transformers-4.32.0-py3-none-any.whl (7.5 MB)\n",
            "\u001b[2K     \u001b[90m━━━━━━━━━━━━━━━━━━━━━━━━━━━━━━━━━━━━━━━━\u001b[0m \u001b[32m7.5/7.5 MB\u001b[0m \u001b[31m16.9 MB/s\u001b[0m eta \u001b[36m0:00:00\u001b[0m\n",
            "\u001b[?25hRequirement already satisfied: filelock in /usr/local/lib/python3.10/dist-packages (from transformers) (3.12.2)\n",
            "Collecting huggingface-hub<1.0,>=0.15.1 (from transformers)\n",
            "  Downloading huggingface_hub-0.16.4-py3-none-any.whl (268 kB)\n",
            "\u001b[2K     \u001b[90m━━━━━━━━━━━━━━━━━━━━━━━━━━━━━━━━━━━━━━\u001b[0m \u001b[32m268.8/268.8 kB\u001b[0m \u001b[31m27.4 MB/s\u001b[0m eta \u001b[36m0:00:00\u001b[0m\n",
            "\u001b[?25hRequirement already satisfied: numpy>=1.17 in /usr/local/lib/python3.10/dist-packages (from transformers) (1.23.5)\n",
            "Requirement already satisfied: packaging>=20.0 in /usr/local/lib/python3.10/dist-packages (from transformers) (23.1)\n",
            "Requirement already satisfied: pyyaml>=5.1 in /usr/local/lib/python3.10/dist-packages (from transformers) (6.0.1)\n",
            "Requirement already satisfied: regex!=2019.12.17 in /usr/local/lib/python3.10/dist-packages (from transformers) (2023.6.3)\n",
            "Requirement already satisfied: requests in /usr/local/lib/python3.10/dist-packages (from transformers) (2.31.0)\n",
            "Collecting tokenizers!=0.11.3,<0.14,>=0.11.1 (from transformers)\n",
            "  Downloading tokenizers-0.13.3-cp310-cp310-manylinux_2_17_x86_64.manylinux2014_x86_64.whl (7.8 MB)\n",
            "\u001b[2K     \u001b[90m━━━━━━━━━━━━━━━━━━━━━━━━━━━━━━━━━━━━━━━━\u001b[0m \u001b[32m7.8/7.8 MB\u001b[0m \u001b[31m42.1 MB/s\u001b[0m eta \u001b[36m0:00:00\u001b[0m\n",
            "\u001b[?25hCollecting safetensors>=0.3.1 (from transformers)\n",
            "  Downloading safetensors-0.3.3-cp310-cp310-manylinux_2_17_x86_64.manylinux2014_x86_64.whl (1.3 MB)\n",
            "\u001b[2K     \u001b[90m━━━━━━━━━━━━━━━━━━━━━━━━━━━━━━━━━━━━━━━━\u001b[0m \u001b[32m1.3/1.3 MB\u001b[0m \u001b[31m45.9 MB/s\u001b[0m eta \u001b[36m0:00:00\u001b[0m\n",
            "\u001b[?25hRequirement already satisfied: tqdm>=4.27 in /usr/local/lib/python3.10/dist-packages (from transformers) (4.66.1)\n",
            "Requirement already satisfied: fsspec in /usr/local/lib/python3.10/dist-packages (from huggingface-hub<1.0,>=0.15.1->transformers) (2023.6.0)\n",
            "Requirement already satisfied: typing-extensions>=3.7.4.3 in /usr/local/lib/python3.10/dist-packages (from huggingface-hub<1.0,>=0.15.1->transformers) (4.7.1)\n",
            "Requirement already satisfied: charset-normalizer<4,>=2 in /usr/local/lib/python3.10/dist-packages (from requests->transformers) (3.2.0)\n",
            "Requirement already satisfied: idna<4,>=2.5 in /usr/local/lib/python3.10/dist-packages (from requests->transformers) (3.4)\n",
            "Requirement already satisfied: urllib3<3,>=1.21.1 in /usr/local/lib/python3.10/dist-packages (from requests->transformers) (2.0.4)\n",
            "Requirement already satisfied: certifi>=2017.4.17 in /usr/local/lib/python3.10/dist-packages (from requests->transformers) (2023.7.22)\n",
            "Installing collected packages: tokenizers, safetensors, huggingface-hub, transformers\n",
            "Successfully installed huggingface-hub-0.16.4 safetensors-0.3.3 tokenizers-0.13.3 transformers-4.32.0\n"
          ]
        }
      ],
      "source": [
        "!pip install transformers\n"
      ]
    },
    {
      "cell_type": "code",
      "execution_count": 30,
      "metadata": {
        "id": "wUVHxeCimbjo"
      },
      "outputs": [],
      "source": [
        "from transformers import BertTokenizerFast, TFBertForSequenceClassification\n",
        "from transformers import glue_convert_examples_to_features\n",
        "\n",
        "import tensorflow as tf\n",
        "\n",
        "# Use the same tokenizer\n",
        "tokenizer = BertTokenizerFast.from_pretrained('bert-base-uncased')\n",
        "\n",
        "# Encode Labels\n",
        "encoder = LabelEncoder()\n",
        "train_labels = encoder.fit_transform(y_train)\n",
        "val_labels = encoder.transform(y_val)\n",
        "test_labels = encoder.transform(y_test)\n",
        "\n",
        "# Tokenize and align labels with the tokenized inputs\n",
        "train_encodings = tokenizer(list(X_train), truncation=True, padding=True, max_length=256)\n",
        "val_encodings = tokenizer(list(X_val), truncation=True, padding=True, max_length=256)\n",
        "test_encodings = tokenizer(list(X_test), truncation=True, padding=True, max_length=256)\n",
        "\n"
      ]
    },
    {
      "cell_type": "code",
      "execution_count": 31,
      "metadata": {
        "id": "jCJJxXlomblx"
      },
      "outputs": [],
      "source": [
        "# Convert to TensorFlow Datasets\n",
        "train_dataset = tf.data.Dataset.from_tensor_slices((\n",
        "    dict(train_encodings),\n",
        "    train_labels\n",
        ")).shuffle(1000).batch(16)\n",
        "\n",
        "val_dataset = tf.data.Dataset.from_tensor_slices((\n",
        "    dict(val_encodings),\n",
        "    val_labels\n",
        ")).batch(16)\n",
        "\n",
        "test_dataset = tf.data.Dataset.from_tensor_slices((\n",
        "    dict(test_encodings),\n",
        "    test_labels\n",
        ")).batch(16)"
      ]
    },
    {
      "cell_type": "code",
      "execution_count": 32,
      "metadata": {
        "colab": {
          "base_uri": "https://localhost:8080/",
          "height": 140,
          "referenced_widgets": [
            "9cfb7c04dc684433a04329f2ae2daf39",
            "2ab71537834b4622a2ce09c1582a597c",
            "d4149565cfd54e69920a606f6cfb5e55",
            "f375ec559ebe483c8faf2f3613da2075",
            "61536eb5d4364eaebe9b1590ef307a3d",
            "0cebd8d7d8db4b35816e1b9fa1ca6fbf",
            "7f114d2a00544f19b6b0bbdc889282a3",
            "a78c9d4f339c44b98577c23f5040385a",
            "660d5ef2f5404fedbc24054096b25ef3",
            "9da56c8f0b2443f18dfac0805f1639d4",
            "58be890845a447cbb86fa68db585f2e1"
          ]
        },
        "id": "wPBcuFNzmbnw",
        "outputId": "c4825440-8de7-4728-a744-6c5becee71a6"
      },
      "outputs": [
        {
          "output_type": "display_data",
          "data": {
            "text/plain": [
              "Downloading model.safetensors:   0%|          | 0.00/440M [00:00<?, ?B/s]"
            ],
            "application/vnd.jupyter.widget-view+json": {
              "version_major": 2,
              "version_minor": 0,
              "model_id": "9cfb7c04dc684433a04329f2ae2daf39"
            }
          },
          "metadata": {}
        },
        {
          "output_type": "stream",
          "name": "stderr",
          "text": [
            "All PyTorch model weights were used when initializing TFBertForSequenceClassification.\n",
            "\n",
            "Some weights or buffers of the TF 2.0 model TFBertForSequenceClassification were not initialized from the PyTorch model and are newly initialized: ['classifier.weight', 'classifier.bias']\n",
            "You should probably TRAIN this model on a down-stream task to be able to use it for predictions and inference.\n"
          ]
        }
      ],
      "source": [
        "\n",
        "# Initialize the BERT model (make sure the number of labels match your dataset)\n",
        "model = TFBertForSequenceClassification.from_pretrained('bert-base-uncased', num_labels=len(class_a))\n",
        "\n",
        "# Choose an optimizer\n",
        "optimizer = tf.keras.optimizers.Adam(learning_rate=3e-6)\n",
        "\n",
        "# Choose a loss function\n",
        "loss = tf.keras.losses.SparseCategoricalCrossentropy(from_logits=True)\n",
        "\n",
        "# Compile the model\n",
        "model.compile(optimizer=optimizer, loss=loss, metrics=['accuracy'])"
      ]
    },
    {
      "cell_type": "code",
      "execution_count": 33,
      "metadata": {
        "id": "poBSJsTWfeAz"
      },
      "outputs": [],
      "source": [
        "from tensorflow.keras.callbacks import EarlyStopping\n",
        "\n",
        "\n",
        "# Define early stopping\n",
        "early_stopping = EarlyStopping(\n",
        "    monitor='val_loss', # usually val_loss or val_acc\n",
        "    mode='min', # the direction that you want to monitor (min for loss, max for accuracy)\n",
        "    patience=3, # number of epochs to wait before stopping the training\n",
        "    verbose=1 # verbosity mode\n",
        ")\n",
        "\n"
      ]
    },
    {
      "cell_type": "code",
      "execution_count": 34,
      "metadata": {
        "colab": {
          "base_uri": "https://localhost:8080/"
        },
        "id": "m6vcOwHafmX_",
        "outputId": "e4e727a6-d2a4-4ee4-ca08-06a460e0637e"
      },
      "outputs": [
        {
          "output_type": "stream",
          "name": "stdout",
          "text": [
            "Epoch 1/15\n",
            "580/580 [==============================] - 300s 376ms/step - loss: 0.5478 - accuracy: 0.7281 - val_loss: 0.4582 - val_accuracy: 0.7931\n",
            "Epoch 2/15\n",
            "580/580 [==============================] - 195s 336ms/step - loss: 0.4331 - accuracy: 0.8062 - val_loss: 0.4529 - val_accuracy: 0.7832\n",
            "Epoch 3/15\n",
            "580/580 [==============================] - 192s 332ms/step - loss: 0.3955 - accuracy: 0.8234 - val_loss: 0.4469 - val_accuracy: 0.8014\n",
            "Epoch 4/15\n",
            "580/580 [==============================] - 192s 331ms/step - loss: 0.3608 - accuracy: 0.8467 - val_loss: 0.4583 - val_accuracy: 0.8004\n",
            "Epoch 5/15\n",
            "580/580 [==============================] - 209s 361ms/step - loss: 0.3264 - accuracy: 0.8657 - val_loss: 0.4866 - val_accuracy: 0.7847\n",
            "Epoch 6/15\n",
            "580/580 [==============================] - 192s 330ms/step - loss: 0.2819 - accuracy: 0.8909 - val_loss: 0.4960 - val_accuracy: 0.7968\n",
            "Epoch 6: early stopping\n",
            "54/54 [==============================] - 8s 96ms/step - loss: 0.4233 - accuracy: 0.8174\n",
            "54/54 [==============================] - 8s 88ms/step\n"
          ]
        }
      ],
      "source": [
        "# Train the model\n",
        "model.fit(\n",
        "    train_dataset,\n",
        "    validation_data=val_dataset,\n",
        "    epochs=15,\n",
        "    callbacks=[early_stopping] # add early stopping to the callbacks\n",
        ")\n",
        "\n",
        "# Evaluate the model\n",
        "results = model.evaluate(test_dataset)\n",
        "\n",
        "# Get the model predictions\n",
        "predictions = tf.argmax(model.predict(test_dataset)[0], axis=-1)\n"
      ]
    },
    {
      "cell_type": "code",
      "execution_count": 35,
      "metadata": {
        "colab": {
          "base_uri": "https://localhost:8080/"
        },
        "id": "0fl_KupIrX4K",
        "outputId": "4bd95cbd-b7f3-425a-ae72-d5fc6259986b"
      },
      "outputs": [
        {
          "output_type": "stream",
          "name": "stdout",
          "text": [
            "              precision    recall  f1-score   support\n",
            "\n",
            "           0     0.8704    0.8774    0.8739       620\n",
            "           1     0.6766    0.6625    0.6695       240\n",
            "\n",
            "    accuracy                         0.8174       860\n",
            "   macro avg     0.7735    0.7700    0.7717       860\n",
            "weighted avg     0.8163    0.8174    0.8168       860\n",
            "\n"
          ]
        }
      ],
      "source": [
        "from sklearn.metrics import classification_report\n",
        "\n",
        "\n",
        "# Decode the label numbers back into original labels\n",
        "y_test_inverse = encoder.inverse_transform(y_test)\n",
        "predictions_inverse = encoder.inverse_transform(predictions.numpy())\n",
        "\n",
        "# Generate the classification report\n",
        "report = classification_report(y_test_inverse, predictions_inverse,\n",
        "                               target_names=encoder.classes_.astype(str),digits =4)\n",
        "print(report)\n"
      ]
    },
    {
      "cell_type": "markdown",
      "metadata": {
        "id": "sNZ_I_VBwWav"
      },
      "source": [
        "# test dataset with 150 rows"
      ]
    },
    {
      "cell_type": "code",
      "source": [
        "random_0_rows = test_tweet_a[test_tweet_a['class_a_code'] == 0].sample(n=100, random_state=42)\n",
        "\n",
        "# Select random 50 rows with class_a_code equal to 1\n",
        "random_1_rows = test_tweet_a[test_tweet_a['class_a_code'] == 1].sample(n=50)\n",
        "\n",
        "# Concatenate the two DataFrames\n",
        "test_tweet_a_150 = pd.concat([random_0_rows, random_1_rows])"
      ],
      "metadata": {
        "id": "3RY5_QYHRXlX"
      },
      "execution_count": 86,
      "outputs": []
    },
    {
      "cell_type": "code",
      "source": [
        "test_tweet_a_150= test_tweet_a_150.sample(frac=1).reset_index(drop=True)"
      ],
      "metadata": {
        "id": "dXyRkRMLRgN7"
      },
      "execution_count": 87,
      "outputs": []
    },
    {
      "cell_type": "code",
      "source": [
        "X_test_150 = test_tweet_a_150['tweet']\n",
        "y_test_150 = test_tweet_a_150['class_a_code']"
      ],
      "metadata": {
        "id": "WiXbBfwYRgSq"
      },
      "execution_count": 88,
      "outputs": []
    },
    {
      "cell_type": "code",
      "execution_count": 89,
      "metadata": {
        "id": "rI3yqjLHwWav"
      },
      "outputs": [],
      "source": [
        "encoder = LabelEncoder()\n",
        "train_labels = encoder.fit_transform(y_train)\n",
        "\n",
        "test_labels_150 = encoder.transform(y_test_150)\n",
        "test_encodings_150 = tokenizer(list(X_test_150), truncation=True, padding=True, max_length=256)\n"
      ]
    },
    {
      "cell_type": "code",
      "execution_count": 90,
      "metadata": {
        "id": "fyQtQZZvwWav"
      },
      "outputs": [],
      "source": [
        "test_dataset_150 = tf.data.Dataset.from_tensor_slices((\n",
        "    dict(test_encodings_150),\n",
        "    test_labels_150\n",
        ")).batch(16)"
      ]
    },
    {
      "cell_type": "code",
      "execution_count": 91,
      "metadata": {
        "colab": {
          "base_uri": "https://localhost:8080/"
        },
        "id": "C7La9PcjwWav",
        "outputId": "d0a716e6-4c91-4d5d-c0f1-860672ab05ff"
      },
      "outputs": [
        {
          "output_type": "stream",
          "name": "stdout",
          "text": [
            "10/10 [==============================] - 1s 91ms/step\n"
          ]
        }
      ],
      "source": [
        "predictions_150 = tf.argmax(model.predict(test_dataset_150)[0], axis=-1)"
      ]
    },
    {
      "cell_type": "code",
      "execution_count": 92,
      "metadata": {
        "colab": {
          "base_uri": "https://localhost:8080/"
        },
        "id": "iXxpWiAfwWav",
        "outputId": "cb8e17a7-3409-4b24-ac9d-7807347a85ae"
      },
      "outputs": [
        {
          "output_type": "stream",
          "name": "stdout",
          "text": [
            "              precision    recall  f1-score   support\n",
            "\n",
            "           0     0.8750    0.8400    0.8571       100\n",
            "           1     0.7037    0.7600    0.7308        50\n",
            "\n",
            "    accuracy                         0.8133       150\n",
            "   macro avg     0.7894    0.8000    0.7940       150\n",
            "weighted avg     0.8179    0.8133    0.8150       150\n",
            "\n"
          ]
        }
      ],
      "source": [
        "y_test_inverse_150 = encoder.inverse_transform(y_test_150)\n",
        "predictions_inverse_150 = encoder.inverse_transform(predictions_150.numpy())\n",
        "\n",
        "# Generate the classification report\n",
        "report_150 = classification_report(y_test_inverse_150, predictions_inverse_150,\n",
        "                               target_names=encoder.classes_.astype(str),digits =4)\n",
        "print(report_150)"
      ]
    },
    {
      "cell_type": "code",
      "source": [],
      "metadata": {
        "id": "oNw47NTBRuNo"
      },
      "execution_count": null,
      "outputs": []
    },
    {
      "cell_type": "code",
      "source": [
        "test_tweet_off = test_tweet_a[test_tweet_a['class_a']=='OFF']"
      ],
      "metadata": {
        "id": "NVJok18ATT3V"
      },
      "execution_count": 94,
      "outputs": []
    },
    {
      "cell_type": "code",
      "source": [
        "test_tweet_off.head()"
      ],
      "metadata": {
        "colab": {
          "base_uri": "https://localhost:8080/",
          "height": 206
        },
        "id": "YNmm7RwATT7k",
        "outputId": "54037df8-042c-406c-fdea-161ec3110e07"
      },
      "execution_count": 95,
      "outputs": [
        {
          "output_type": "execute_result",
          "data": {
            "text/plain": [
              "                                                tweet class_a  class_a_code\n",
              "0   'whoisq wherestheserver dumpnike declasfisa de...     OFF             1\n",
              "4   'nopasaran unity demo to oppose the farright i...     OFF             1\n",
              "5              '   what the fuck did he do this time'     OFF             1\n",
              "7   ' do you get the feeling he is kissing  behind...     OFF             1\n",
              "14                           ' nigga ware da hits at'     OFF             1"
            ],
            "text/html": [
              "\n",
              "  <div id=\"df-3dbe36ba-c0bc-4585-8245-480dc691dc62\" class=\"colab-df-container\">\n",
              "    <div>\n",
              "<style scoped>\n",
              "    .dataframe tbody tr th:only-of-type {\n",
              "        vertical-align: middle;\n",
              "    }\n",
              "\n",
              "    .dataframe tbody tr th {\n",
              "        vertical-align: top;\n",
              "    }\n",
              "\n",
              "    .dataframe thead th {\n",
              "        text-align: right;\n",
              "    }\n",
              "</style>\n",
              "<table border=\"1\" class=\"dataframe\">\n",
              "  <thead>\n",
              "    <tr style=\"text-align: right;\">\n",
              "      <th></th>\n",
              "      <th>tweet</th>\n",
              "      <th>class_a</th>\n",
              "      <th>class_a_code</th>\n",
              "    </tr>\n",
              "  </thead>\n",
              "  <tbody>\n",
              "    <tr>\n",
              "      <th>0</th>\n",
              "      <td>'whoisq wherestheserver dumpnike declasfisa de...</td>\n",
              "      <td>OFF</td>\n",
              "      <td>1</td>\n",
              "    </tr>\n",
              "    <tr>\n",
              "      <th>4</th>\n",
              "      <td>'nopasaran unity demo to oppose the farright i...</td>\n",
              "      <td>OFF</td>\n",
              "      <td>1</td>\n",
              "    </tr>\n",
              "    <tr>\n",
              "      <th>5</th>\n",
              "      <td>'   what the fuck did he do this time'</td>\n",
              "      <td>OFF</td>\n",
              "      <td>1</td>\n",
              "    </tr>\n",
              "    <tr>\n",
              "      <th>7</th>\n",
              "      <td>' do you get the feeling he is kissing  behind...</td>\n",
              "      <td>OFF</td>\n",
              "      <td>1</td>\n",
              "    </tr>\n",
              "    <tr>\n",
              "      <th>14</th>\n",
              "      <td>' nigga ware da hits at'</td>\n",
              "      <td>OFF</td>\n",
              "      <td>1</td>\n",
              "    </tr>\n",
              "  </tbody>\n",
              "</table>\n",
              "</div>\n",
              "    <div class=\"colab-df-buttons\">\n",
              "\n",
              "  <div class=\"colab-df-container\">\n",
              "    <button class=\"colab-df-convert\" onclick=\"convertToInteractive('df-3dbe36ba-c0bc-4585-8245-480dc691dc62')\"\n",
              "            title=\"Convert this dataframe to an interactive table.\"\n",
              "            style=\"display:none;\">\n",
              "\n",
              "  <svg xmlns=\"http://www.w3.org/2000/svg\" height=\"24px\" viewBox=\"0 -960 960 960\">\n",
              "    <path d=\"M120-120v-720h720v720H120Zm60-500h600v-160H180v160Zm220 220h160v-160H400v160Zm0 220h160v-160H400v160ZM180-400h160v-160H180v160Zm440 0h160v-160H620v160ZM180-180h160v-160H180v160Zm440 0h160v-160H620v160Z\"/>\n",
              "  </svg>\n",
              "    </button>\n",
              "\n",
              "  <style>\n",
              "    .colab-df-container {\n",
              "      display:flex;\n",
              "      gap: 12px;\n",
              "    }\n",
              "\n",
              "    .colab-df-convert {\n",
              "      background-color: #E8F0FE;\n",
              "      border: none;\n",
              "      border-radius: 50%;\n",
              "      cursor: pointer;\n",
              "      display: none;\n",
              "      fill: #1967D2;\n",
              "      height: 32px;\n",
              "      padding: 0 0 0 0;\n",
              "      width: 32px;\n",
              "    }\n",
              "\n",
              "    .colab-df-convert:hover {\n",
              "      background-color: #E2EBFA;\n",
              "      box-shadow: 0px 1px 2px rgba(60, 64, 67, 0.3), 0px 1px 3px 1px rgba(60, 64, 67, 0.15);\n",
              "      fill: #174EA6;\n",
              "    }\n",
              "\n",
              "    .colab-df-buttons div {\n",
              "      margin-bottom: 4px;\n",
              "    }\n",
              "\n",
              "    [theme=dark] .colab-df-convert {\n",
              "      background-color: #3B4455;\n",
              "      fill: #D2E3FC;\n",
              "    }\n",
              "\n",
              "    [theme=dark] .colab-df-convert:hover {\n",
              "      background-color: #434B5C;\n",
              "      box-shadow: 0px 1px 3px 1px rgba(0, 0, 0, 0.15);\n",
              "      filter: drop-shadow(0px 1px 2px rgba(0, 0, 0, 0.3));\n",
              "      fill: #FFFFFF;\n",
              "    }\n",
              "  </style>\n",
              "\n",
              "    <script>\n",
              "      const buttonEl =\n",
              "        document.querySelector('#df-3dbe36ba-c0bc-4585-8245-480dc691dc62 button.colab-df-convert');\n",
              "      buttonEl.style.display =\n",
              "        google.colab.kernel.accessAllowed ? 'block' : 'none';\n",
              "\n",
              "      async function convertToInteractive(key) {\n",
              "        const element = document.querySelector('#df-3dbe36ba-c0bc-4585-8245-480dc691dc62');\n",
              "        const dataTable =\n",
              "          await google.colab.kernel.invokeFunction('convertToInteractive',\n",
              "                                                    [key], {});\n",
              "        if (!dataTable) return;\n",
              "\n",
              "        const docLinkHtml = 'Like what you see? Visit the ' +\n",
              "          '<a target=\"_blank\" href=https://colab.research.google.com/notebooks/data_table.ipynb>data table notebook</a>'\n",
              "          + ' to learn more about interactive tables.';\n",
              "        element.innerHTML = '';\n",
              "        dataTable['output_type'] = 'display_data';\n",
              "        await google.colab.output.renderOutput(dataTable, element);\n",
              "        const docLink = document.createElement('div');\n",
              "        docLink.innerHTML = docLinkHtml;\n",
              "        element.appendChild(docLink);\n",
              "      }\n",
              "    </script>\n",
              "  </div>\n",
              "\n",
              "\n",
              "<div id=\"df-568547b8-25ec-467c-81f3-da6752a44c22\">\n",
              "  <button class=\"colab-df-quickchart\" onclick=\"quickchart('df-568547b8-25ec-467c-81f3-da6752a44c22')\"\n",
              "            title=\"Suggest charts.\"\n",
              "            style=\"display:none;\">\n",
              "\n",
              "<svg xmlns=\"http://www.w3.org/2000/svg\" height=\"24px\"viewBox=\"0 0 24 24\"\n",
              "     width=\"24px\">\n",
              "    <g>\n",
              "        <path d=\"M19 3H5c-1.1 0-2 .9-2 2v14c0 1.1.9 2 2 2h14c1.1 0 2-.9 2-2V5c0-1.1-.9-2-2-2zM9 17H7v-7h2v7zm4 0h-2V7h2v10zm4 0h-2v-4h2v4z\"/>\n",
              "    </g>\n",
              "</svg>\n",
              "  </button>\n",
              "\n",
              "<style>\n",
              "  .colab-df-quickchart {\n",
              "    background-color: #E8F0FE;\n",
              "    border: none;\n",
              "    border-radius: 50%;\n",
              "    cursor: pointer;\n",
              "    display: none;\n",
              "    fill: #1967D2;\n",
              "    height: 32px;\n",
              "    padding: 0 0 0 0;\n",
              "    width: 32px;\n",
              "  }\n",
              "\n",
              "  .colab-df-quickchart:hover {\n",
              "    background-color: #E2EBFA;\n",
              "    box-shadow: 0px 1px 2px rgba(60, 64, 67, 0.3), 0px 1px 3px 1px rgba(60, 64, 67, 0.15);\n",
              "    fill: #174EA6;\n",
              "  }\n",
              "\n",
              "  [theme=dark] .colab-df-quickchart {\n",
              "    background-color: #3B4455;\n",
              "    fill: #D2E3FC;\n",
              "  }\n",
              "\n",
              "  [theme=dark] .colab-df-quickchart:hover {\n",
              "    background-color: #434B5C;\n",
              "    box-shadow: 0px 1px 3px 1px rgba(0, 0, 0, 0.15);\n",
              "    filter: drop-shadow(0px 1px 2px rgba(0, 0, 0, 0.3));\n",
              "    fill: #FFFFFF;\n",
              "  }\n",
              "</style>\n",
              "\n",
              "  <script>\n",
              "    async function quickchart(key) {\n",
              "      const charts = await google.colab.kernel.invokeFunction(\n",
              "          'suggestCharts', [key], {});\n",
              "    }\n",
              "    (() => {\n",
              "      let quickchartButtonEl =\n",
              "        document.querySelector('#df-568547b8-25ec-467c-81f3-da6752a44c22 button');\n",
              "      quickchartButtonEl.style.display =\n",
              "        google.colab.kernel.accessAllowed ? 'block' : 'none';\n",
              "    })();\n",
              "  </script>\n",
              "</div>\n",
              "    </div>\n",
              "  </div>\n"
            ]
          },
          "metadata": {},
          "execution_count": 95
        }
      ]
    },
    {
      "cell_type": "code",
      "source": [
        "test_tweet_off['class_a_code'] =1"
      ],
      "metadata": {
        "colab": {
          "base_uri": "https://localhost:8080/"
        },
        "id": "nVq1n2iXUle1",
        "outputId": "5ec57ad5-9639-45fe-b39b-a06af0ff88a8"
      },
      "execution_count": 96,
      "outputs": [
        {
          "output_type": "stream",
          "name": "stderr",
          "text": [
            "<ipython-input-96-3a0f14904e30>:1: SettingWithCopyWarning: \n",
            "A value is trying to be set on a copy of a slice from a DataFrame.\n",
            "Try using .loc[row_indexer,col_indexer] = value instead\n",
            "\n",
            "See the caveats in the documentation: https://pandas.pydata.org/pandas-docs/stable/user_guide/indexing.html#returning-a-view-versus-a-copy\n",
            "  test_tweet_off['class_a_code'] =1\n"
          ]
        }
      ]
    },
    {
      "cell_type": "code",
      "source": [
        "test_tweet_off_00 = test_tweet_off.loc[index_new2]"
      ],
      "metadata": {
        "id": "fxRSNbvATT_O"
      },
      "execution_count": 98,
      "outputs": []
    },
    {
      "cell_type": "code",
      "source": [
        "test_tweet_off_00.shape"
      ],
      "metadata": {
        "colab": {
          "base_uri": "https://localhost:8080/"
        },
        "id": "uAy763J4TUC0",
        "outputId": "aa458893-dfca-49e3-886b-e0ebac974963"
      },
      "execution_count": 99,
      "outputs": [
        {
          "output_type": "execute_result",
          "data": {
            "text/plain": [
              "(50, 3)"
            ]
          },
          "metadata": {},
          "execution_count": 99
        }
      ]
    },
    {
      "cell_type": "code",
      "source": [
        "test_tweet_off_00.head()"
      ],
      "metadata": {
        "colab": {
          "base_uri": "https://localhost:8080/",
          "height": 206
        },
        "id": "mxSyCupUT6_z",
        "outputId": "4bbe5e1b-fe90-4537-aeb1-4b1922a4f497"
      },
      "execution_count": 100,
      "outputs": [
        {
          "output_type": "execute_result",
          "data": {
            "text/plain": [
              "                                                 tweet class_a  class_a_code\n",
              "308  '   okay and anybody can go to eredivise and s...     OFF             1\n",
              "216                  'and females b on the same shit '     OFF             1\n",
              "732  'liberalhypocrisy tacobell when liberals ask w...     OFF             1\n",
              "376             ' fucking years mytwitteranniversary '     OFF             1\n",
              "382  'christineblaseyford is only being harassed by...     OFF             1"
            ],
            "text/html": [
              "\n",
              "  <div id=\"df-af8cbec9-dc73-4158-8011-503ada8a87bd\" class=\"colab-df-container\">\n",
              "    <div>\n",
              "<style scoped>\n",
              "    .dataframe tbody tr th:only-of-type {\n",
              "        vertical-align: middle;\n",
              "    }\n",
              "\n",
              "    .dataframe tbody tr th {\n",
              "        vertical-align: top;\n",
              "    }\n",
              "\n",
              "    .dataframe thead th {\n",
              "        text-align: right;\n",
              "    }\n",
              "</style>\n",
              "<table border=\"1\" class=\"dataframe\">\n",
              "  <thead>\n",
              "    <tr style=\"text-align: right;\">\n",
              "      <th></th>\n",
              "      <th>tweet</th>\n",
              "      <th>class_a</th>\n",
              "      <th>class_a_code</th>\n",
              "    </tr>\n",
              "  </thead>\n",
              "  <tbody>\n",
              "    <tr>\n",
              "      <th>308</th>\n",
              "      <td>'   okay and anybody can go to eredivise and s...</td>\n",
              "      <td>OFF</td>\n",
              "      <td>1</td>\n",
              "    </tr>\n",
              "    <tr>\n",
              "      <th>216</th>\n",
              "      <td>'and females b on the same shit '</td>\n",
              "      <td>OFF</td>\n",
              "      <td>1</td>\n",
              "    </tr>\n",
              "    <tr>\n",
              "      <th>732</th>\n",
              "      <td>'liberalhypocrisy tacobell when liberals ask w...</td>\n",
              "      <td>OFF</td>\n",
              "      <td>1</td>\n",
              "    </tr>\n",
              "    <tr>\n",
              "      <th>376</th>\n",
              "      <td>' fucking years mytwitteranniversary '</td>\n",
              "      <td>OFF</td>\n",
              "      <td>1</td>\n",
              "    </tr>\n",
              "    <tr>\n",
              "      <th>382</th>\n",
              "      <td>'christineblaseyford is only being harassed by...</td>\n",
              "      <td>OFF</td>\n",
              "      <td>1</td>\n",
              "    </tr>\n",
              "  </tbody>\n",
              "</table>\n",
              "</div>\n",
              "    <div class=\"colab-df-buttons\">\n",
              "\n",
              "  <div class=\"colab-df-container\">\n",
              "    <button class=\"colab-df-convert\" onclick=\"convertToInteractive('df-af8cbec9-dc73-4158-8011-503ada8a87bd')\"\n",
              "            title=\"Convert this dataframe to an interactive table.\"\n",
              "            style=\"display:none;\">\n",
              "\n",
              "  <svg xmlns=\"http://www.w3.org/2000/svg\" height=\"24px\" viewBox=\"0 -960 960 960\">\n",
              "    <path d=\"M120-120v-720h720v720H120Zm60-500h600v-160H180v160Zm220 220h160v-160H400v160Zm0 220h160v-160H400v160ZM180-400h160v-160H180v160Zm440 0h160v-160H620v160ZM180-180h160v-160H180v160Zm440 0h160v-160H620v160Z\"/>\n",
              "  </svg>\n",
              "    </button>\n",
              "\n",
              "  <style>\n",
              "    .colab-df-container {\n",
              "      display:flex;\n",
              "      gap: 12px;\n",
              "    }\n",
              "\n",
              "    .colab-df-convert {\n",
              "      background-color: #E8F0FE;\n",
              "      border: none;\n",
              "      border-radius: 50%;\n",
              "      cursor: pointer;\n",
              "      display: none;\n",
              "      fill: #1967D2;\n",
              "      height: 32px;\n",
              "      padding: 0 0 0 0;\n",
              "      width: 32px;\n",
              "    }\n",
              "\n",
              "    .colab-df-convert:hover {\n",
              "      background-color: #E2EBFA;\n",
              "      box-shadow: 0px 1px 2px rgba(60, 64, 67, 0.3), 0px 1px 3px 1px rgba(60, 64, 67, 0.15);\n",
              "      fill: #174EA6;\n",
              "    }\n",
              "\n",
              "    .colab-df-buttons div {\n",
              "      margin-bottom: 4px;\n",
              "    }\n",
              "\n",
              "    [theme=dark] .colab-df-convert {\n",
              "      background-color: #3B4455;\n",
              "      fill: #D2E3FC;\n",
              "    }\n",
              "\n",
              "    [theme=dark] .colab-df-convert:hover {\n",
              "      background-color: #434B5C;\n",
              "      box-shadow: 0px 1px 3px 1px rgba(0, 0, 0, 0.15);\n",
              "      filter: drop-shadow(0px 1px 2px rgba(0, 0, 0, 0.3));\n",
              "      fill: #FFFFFF;\n",
              "    }\n",
              "  </style>\n",
              "\n",
              "    <script>\n",
              "      const buttonEl =\n",
              "        document.querySelector('#df-af8cbec9-dc73-4158-8011-503ada8a87bd button.colab-df-convert');\n",
              "      buttonEl.style.display =\n",
              "        google.colab.kernel.accessAllowed ? 'block' : 'none';\n",
              "\n",
              "      async function convertToInteractive(key) {\n",
              "        const element = document.querySelector('#df-af8cbec9-dc73-4158-8011-503ada8a87bd');\n",
              "        const dataTable =\n",
              "          await google.colab.kernel.invokeFunction('convertToInteractive',\n",
              "                                                    [key], {});\n",
              "        if (!dataTable) return;\n",
              "\n",
              "        const docLinkHtml = 'Like what you see? Visit the ' +\n",
              "          '<a target=\"_blank\" href=https://colab.research.google.com/notebooks/data_table.ipynb>data table notebook</a>'\n",
              "          + ' to learn more about interactive tables.';\n",
              "        element.innerHTML = '';\n",
              "        dataTable['output_type'] = 'display_data';\n",
              "        await google.colab.output.renderOutput(dataTable, element);\n",
              "        const docLink = document.createElement('div');\n",
              "        docLink.innerHTML = docLinkHtml;\n",
              "        element.appendChild(docLink);\n",
              "      }\n",
              "    </script>\n",
              "  </div>\n",
              "\n",
              "\n",
              "<div id=\"df-58af1229-e647-4a49-af91-8727004d204e\">\n",
              "  <button class=\"colab-df-quickchart\" onclick=\"quickchart('df-58af1229-e647-4a49-af91-8727004d204e')\"\n",
              "            title=\"Suggest charts.\"\n",
              "            style=\"display:none;\">\n",
              "\n",
              "<svg xmlns=\"http://www.w3.org/2000/svg\" height=\"24px\"viewBox=\"0 0 24 24\"\n",
              "     width=\"24px\">\n",
              "    <g>\n",
              "        <path d=\"M19 3H5c-1.1 0-2 .9-2 2v14c0 1.1.9 2 2 2h14c1.1 0 2-.9 2-2V5c0-1.1-.9-2-2-2zM9 17H7v-7h2v7zm4 0h-2V7h2v10zm4 0h-2v-4h2v4z\"/>\n",
              "    </g>\n",
              "</svg>\n",
              "  </button>\n",
              "\n",
              "<style>\n",
              "  .colab-df-quickchart {\n",
              "    background-color: #E8F0FE;\n",
              "    border: none;\n",
              "    border-radius: 50%;\n",
              "    cursor: pointer;\n",
              "    display: none;\n",
              "    fill: #1967D2;\n",
              "    height: 32px;\n",
              "    padding: 0 0 0 0;\n",
              "    width: 32px;\n",
              "  }\n",
              "\n",
              "  .colab-df-quickchart:hover {\n",
              "    background-color: #E2EBFA;\n",
              "    box-shadow: 0px 1px 2px rgba(60, 64, 67, 0.3), 0px 1px 3px 1px rgba(60, 64, 67, 0.15);\n",
              "    fill: #174EA6;\n",
              "  }\n",
              "\n",
              "  [theme=dark] .colab-df-quickchart {\n",
              "    background-color: #3B4455;\n",
              "    fill: #D2E3FC;\n",
              "  }\n",
              "\n",
              "  [theme=dark] .colab-df-quickchart:hover {\n",
              "    background-color: #434B5C;\n",
              "    box-shadow: 0px 1px 3px 1px rgba(0, 0, 0, 0.15);\n",
              "    filter: drop-shadow(0px 1px 2px rgba(0, 0, 0, 0.3));\n",
              "    fill: #FFFFFF;\n",
              "  }\n",
              "</style>\n",
              "\n",
              "  <script>\n",
              "    async function quickchart(key) {\n",
              "      const charts = await google.colab.kernel.invokeFunction(\n",
              "          'suggestCharts', [key], {});\n",
              "    }\n",
              "    (() => {\n",
              "      let quickchartButtonEl =\n",
              "        document.querySelector('#df-58af1229-e647-4a49-af91-8727004d204e button');\n",
              "      quickchartButtonEl.style.display =\n",
              "        google.colab.kernel.accessAllowed ? 'block' : 'none';\n",
              "    })();\n",
              "  </script>\n",
              "</div>\n",
              "    </div>\n",
              "  </div>\n"
            ]
          },
          "metadata": {},
          "execution_count": 100
        }
      ]
    },
    {
      "cell_type": "code",
      "source": [
        "test_tweet_a_150_00 = pd.concat([random_0_rows, test_tweet_off_00])"
      ],
      "metadata": {
        "id": "hXkJcK83TUGm"
      },
      "execution_count": 102,
      "outputs": []
    },
    {
      "cell_type": "code",
      "source": [
        "test_tweet_a_150_00= test_tweet_a_150_00.sample(frac=1).reset_index(drop=True)"
      ],
      "metadata": {
        "id": "hrpWIZpKTz2m"
      },
      "execution_count": 104,
      "outputs": []
    },
    {
      "cell_type": "code",
      "source": [
        "X_test_150_00 = test_tweet_a_150_00['tweet']\n",
        "y_test_150_00 = test_tweet_a_150_00['class_a_code']"
      ],
      "metadata": {
        "id": "jHx-aZRfTz8k"
      },
      "execution_count": 105,
      "outputs": []
    },
    {
      "cell_type": "code",
      "source": [
        "encoder = LabelEncoder()\n",
        "train_labels = encoder.fit_transform(y_train)\n",
        "\n",
        "test_labels_150_00 = encoder.transform(y_test_150_00)\n",
        "test_encodings_150_00 = tokenizer(list(X_test_150_00), truncation=True, padding=True, max_length=256)\n"
      ],
      "metadata": {
        "id": "4DxjR9RGT0Am"
      },
      "execution_count": 106,
      "outputs": []
    },
    {
      "cell_type": "code",
      "source": [
        "test_dataset_150_00 = tf.data.Dataset.from_tensor_slices((\n",
        "    dict(test_encodings_150_00),\n",
        "    test_labels_150_00\n",
        ")).batch(16)"
      ],
      "metadata": {
        "id": "i8fzZMVZUWMm"
      },
      "execution_count": 107,
      "outputs": []
    },
    {
      "cell_type": "code",
      "source": [
        "predictions_150_00 = tf.argmax(model.predict(test_dataset_150_00)[0], axis=-1)"
      ],
      "metadata": {
        "colab": {
          "base_uri": "https://localhost:8080/"
        },
        "id": "A_CCTqd-UWPu",
        "outputId": "2f0c40c1-24bf-4408-8699-cd2110faf0e3"
      },
      "execution_count": 108,
      "outputs": [
        {
          "output_type": "stream",
          "name": "stdout",
          "text": [
            "10/10 [==============================] - 1s 99ms/step\n"
          ]
        }
      ]
    },
    {
      "cell_type": "code",
      "source": [
        "y_test_inverse_150_00 = encoder.inverse_transform(y_test_150_00)\n",
        "predictions_inverse_150_00 = encoder.inverse_transform(predictions_150_00.numpy())\n",
        "\n",
        "# Generate the classification report\n",
        "report_150_00 = classification_report(y_test_inverse_150_00, predictions_inverse_150_00,\n",
        "                               target_names=encoder.classes_.astype(str),digits =4)\n",
        "print(report_150_00)"
      ],
      "metadata": {
        "colab": {
          "base_uri": "https://localhost:8080/"
        },
        "id": "RXnUeQISUWSf",
        "outputId": "fb19c44c-251b-4d0d-edbb-d2ea346e2c1d"
      },
      "execution_count": 110,
      "outputs": [
        {
          "output_type": "stream",
          "name": "stdout",
          "text": [
            "              precision    recall  f1-score   support\n",
            "\n",
            "           0     0.8155    0.8400    0.8276       100\n",
            "           1     0.6596    0.6200    0.6392        50\n",
            "\n",
            "    accuracy                         0.7667       150\n",
            "   macro avg     0.7376    0.7300    0.7334       150\n",
            "weighted avg     0.7635    0.7667    0.7648       150\n",
            "\n"
          ]
        }
      ]
    },
    {
      "cell_type": "code",
      "source": [],
      "metadata": {
        "id": "yOh1n6PIUhGd"
      },
      "execution_count": null,
      "outputs": []
    },
    {
      "cell_type": "markdown",
      "source": [
        "# 125 Test Dataset"
      ],
      "metadata": {
        "id": "mB0wMFixULT0"
      }
    },
    {
      "cell_type": "code",
      "source": [
        "random_0_rows = test_tweet_a[test_tweet_a['class_a_code'] == 0].sample(n=100, random_state=42)\n",
        "\n",
        "# Select random 50 rows with class_a_code equal to 1\n",
        "random_25_rows = test_tweet_a[test_tweet_a['class_a_code'] == 1].sample(n=25)\n",
        "\n",
        "# Concatenate the two DataFrames\n",
        "test_tweet_a_125 = pd.concat([random_0_rows, random_25_rows])"
      ],
      "metadata": {
        "id": "inPtLcWATVdR"
      },
      "execution_count": 345,
      "outputs": []
    },
    {
      "cell_type": "code",
      "source": [
        "test_tweet_a_125= test_tweet_a_125.sample(frac=1).reset_index(drop=True)"
      ],
      "metadata": {
        "id": "KoXWytAUTV2x"
      },
      "execution_count": 346,
      "outputs": []
    },
    {
      "cell_type": "code",
      "source": [
        "X_test_125 = test_tweet_a_125['tweet']\n",
        "y_test_125 = test_tweet_a_125['class_a_code']"
      ],
      "metadata": {
        "id": "SNEJ_OaSTV-9"
      },
      "execution_count": 347,
      "outputs": []
    },
    {
      "cell_type": "code",
      "source": [
        "encoder = LabelEncoder()\n",
        "train_labels = encoder.fit_transform(y_train)\n",
        "\n",
        "test_labels_125 = encoder.transform(y_test_125)\n",
        "test_encodings_125 = tokenizer(list(X_test_125), truncation=True, padding=True, max_length=256)\n"
      ],
      "metadata": {
        "id": "f2EDipJCTWGL"
      },
      "execution_count": 348,
      "outputs": []
    },
    {
      "cell_type": "code",
      "source": [
        "test_dataset_125 = tf.data.Dataset.from_tensor_slices((\n",
        "    dict(test_encodings_125),\n",
        "    test_labels_125\n",
        ")).batch(16)"
      ],
      "metadata": {
        "id": "-PLImHG0TWMr"
      },
      "execution_count": 349,
      "outputs": []
    },
    {
      "cell_type": "code",
      "source": [
        "predictions_125 = tf.argmax(model.predict(test_dataset_125)[0], axis=-1)"
      ],
      "metadata": {
        "colab": {
          "base_uri": "https://localhost:8080/"
        },
        "id": "bQCs5ziRTWTK",
        "outputId": "e31558d6-48b3-4fd2-97ad-1a51a1233957"
      },
      "execution_count": 350,
      "outputs": [
        {
          "output_type": "stream",
          "name": "stdout",
          "text": [
            "8/8 [==============================] - 1s 91ms/step\n"
          ]
        }
      ]
    },
    {
      "cell_type": "code",
      "source": [
        "y_test_inverse_125 = encoder.inverse_transform(y_test_125)\n",
        "predictions_inverse_125 = encoder.inverse_transform(predictions_125.numpy())\n",
        "\n",
        "# Generate the classification report\n",
        "report_125 = classification_report(y_test_inverse_125, predictions_inverse_125,\n",
        "                               target_names=encoder.classes_.astype(str),digits =4)\n",
        "print(report_125)"
      ],
      "metadata": {
        "colab": {
          "base_uri": "https://localhost:8080/"
        },
        "id": "IMP_-WyITWar",
        "outputId": "a58659fe-60cd-4033-8bfa-be88350f0900"
      },
      "execution_count": 351,
      "outputs": [
        {
          "output_type": "stream",
          "name": "stdout",
          "text": [
            "              precision    recall  f1-score   support\n",
            "\n",
            "           0     0.9333    0.8400    0.8842       100\n",
            "           1     0.5429    0.7600    0.6333        25\n",
            "\n",
            "    accuracy                         0.8240       125\n",
            "   macro avg     0.7381    0.8000    0.7588       125\n",
            "weighted avg     0.8552    0.8240    0.8340       125\n",
            "\n"
          ]
        }
      ]
    },
    {
      "cell_type": "code",
      "source": [],
      "metadata": {
        "id": "L-CmF9tsTWgf"
      },
      "execution_count": null,
      "outputs": []
    },
    {
      "cell_type": "code",
      "source": [],
      "metadata": {
        "id": "_-bFHD7bQeiG"
      },
      "execution_count": null,
      "outputs": []
    },
    {
      "cell_type": "markdown",
      "source": [
        "# Get the test dataset"
      ],
      "metadata": {
        "id": "4jKEPINAQfDJ"
      }
    },
    {
      "cell_type": "code",
      "execution_count": 132,
      "metadata": {
        "id": "gtWfPxN9wWav"
      },
      "outputs": [],
      "source": [
        "test_tweet_a_new=pd.read_csv('./testset-levela.tsv', delimiter='\\t', encoding='utf-8')\n",
        "test_label_a_new=pd.read_csv('./labels-levela.csv', encoding='utf-8',\n",
        "                         index_col=False, names=['id', 'class_a'])\n",
        "\n",
        "test_tweet_a_new = test_tweet_a_new.merge(test_label_a_new, on='id')\n",
        "\n",
        "test_tweet_a_new = test_tweet_a_new.drop(columns='id')\n",
        "\n"
      ]
    },
    {
      "cell_type": "code",
      "execution_count": 133,
      "metadata": {
        "colab": {
          "base_uri": "https://localhost:8080/",
          "height": 424
        },
        "id": "CEGJZoytwWav",
        "outputId": "fdd6da0d-6c68-4564-80a8-6d4b6653691d"
      },
      "outputs": [
        {
          "output_type": "execute_result",
          "data": {
            "text/plain": [
              "                                                 tweet class_a\n",
              "0    #WhoIsQ #WheresTheServer #DumpNike #DECLASFISA...     OFF\n",
              "1    #ConstitutionDay is revered by Conservatives, ...     NOT\n",
              "2    #FOXNews #NRA #MAGA #POTUS #TRUMP #2ndAmendmen...     NOT\n",
              "3    #Watching #Boomer getting the news that she is...     NOT\n",
              "4    #NoPasaran: Unity demo to oppose the far-right...     OFF\n",
              "..                                                 ...     ...\n",
              "855  #DespicableDems lie again about rifles. Dem Di...     OFF\n",
              "856  #MeetTheSpeakers 🙌 @USER will present in our e...     NOT\n",
              "857  3 people just unfollowed me for talking about ...     OFF\n",
              "858  #WednesdayWisdom Antifa calls the right fascis...     NOT\n",
              "859      #Kavanaugh typical #liberals , #Democrats URL     NOT\n",
              "\n",
              "[860 rows x 2 columns]"
            ],
            "text/html": [
              "\n",
              "  <div id=\"df-b3055b7c-8680-4078-ba60-cbc7152119e6\" class=\"colab-df-container\">\n",
              "    <div>\n",
              "<style scoped>\n",
              "    .dataframe tbody tr th:only-of-type {\n",
              "        vertical-align: middle;\n",
              "    }\n",
              "\n",
              "    .dataframe tbody tr th {\n",
              "        vertical-align: top;\n",
              "    }\n",
              "\n",
              "    .dataframe thead th {\n",
              "        text-align: right;\n",
              "    }\n",
              "</style>\n",
              "<table border=\"1\" class=\"dataframe\">\n",
              "  <thead>\n",
              "    <tr style=\"text-align: right;\">\n",
              "      <th></th>\n",
              "      <th>tweet</th>\n",
              "      <th>class_a</th>\n",
              "    </tr>\n",
              "  </thead>\n",
              "  <tbody>\n",
              "    <tr>\n",
              "      <th>0</th>\n",
              "      <td>#WhoIsQ #WheresTheServer #DumpNike #DECLASFISA...</td>\n",
              "      <td>OFF</td>\n",
              "    </tr>\n",
              "    <tr>\n",
              "      <th>1</th>\n",
              "      <td>#ConstitutionDay is revered by Conservatives, ...</td>\n",
              "      <td>NOT</td>\n",
              "    </tr>\n",
              "    <tr>\n",
              "      <th>2</th>\n",
              "      <td>#FOXNews #NRA #MAGA #POTUS #TRUMP #2ndAmendmen...</td>\n",
              "      <td>NOT</td>\n",
              "    </tr>\n",
              "    <tr>\n",
              "      <th>3</th>\n",
              "      <td>#Watching #Boomer getting the news that she is...</td>\n",
              "      <td>NOT</td>\n",
              "    </tr>\n",
              "    <tr>\n",
              "      <th>4</th>\n",
              "      <td>#NoPasaran: Unity demo to oppose the far-right...</td>\n",
              "      <td>OFF</td>\n",
              "    </tr>\n",
              "    <tr>\n",
              "      <th>...</th>\n",
              "      <td>...</td>\n",
              "      <td>...</td>\n",
              "    </tr>\n",
              "    <tr>\n",
              "      <th>855</th>\n",
              "      <td>#DespicableDems lie again about rifles. Dem Di...</td>\n",
              "      <td>OFF</td>\n",
              "    </tr>\n",
              "    <tr>\n",
              "      <th>856</th>\n",
              "      <td>#MeetTheSpeakers 🙌 @USER will present in our e...</td>\n",
              "      <td>NOT</td>\n",
              "    </tr>\n",
              "    <tr>\n",
              "      <th>857</th>\n",
              "      <td>3 people just unfollowed me for talking about ...</td>\n",
              "      <td>OFF</td>\n",
              "    </tr>\n",
              "    <tr>\n",
              "      <th>858</th>\n",
              "      <td>#WednesdayWisdom Antifa calls the right fascis...</td>\n",
              "      <td>NOT</td>\n",
              "    </tr>\n",
              "    <tr>\n",
              "      <th>859</th>\n",
              "      <td>#Kavanaugh typical #liberals , #Democrats URL</td>\n",
              "      <td>NOT</td>\n",
              "    </tr>\n",
              "  </tbody>\n",
              "</table>\n",
              "<p>860 rows × 2 columns</p>\n",
              "</div>\n",
              "    <div class=\"colab-df-buttons\">\n",
              "\n",
              "  <div class=\"colab-df-container\">\n",
              "    <button class=\"colab-df-convert\" onclick=\"convertToInteractive('df-b3055b7c-8680-4078-ba60-cbc7152119e6')\"\n",
              "            title=\"Convert this dataframe to an interactive table.\"\n",
              "            style=\"display:none;\">\n",
              "\n",
              "  <svg xmlns=\"http://www.w3.org/2000/svg\" height=\"24px\" viewBox=\"0 -960 960 960\">\n",
              "    <path d=\"M120-120v-720h720v720H120Zm60-500h600v-160H180v160Zm220 220h160v-160H400v160Zm0 220h160v-160H400v160ZM180-400h160v-160H180v160Zm440 0h160v-160H620v160ZM180-180h160v-160H180v160Zm440 0h160v-160H620v160Z\"/>\n",
              "  </svg>\n",
              "    </button>\n",
              "\n",
              "  <style>\n",
              "    .colab-df-container {\n",
              "      display:flex;\n",
              "      gap: 12px;\n",
              "    }\n",
              "\n",
              "    .colab-df-convert {\n",
              "      background-color: #E8F0FE;\n",
              "      border: none;\n",
              "      border-radius: 50%;\n",
              "      cursor: pointer;\n",
              "      display: none;\n",
              "      fill: #1967D2;\n",
              "      height: 32px;\n",
              "      padding: 0 0 0 0;\n",
              "      width: 32px;\n",
              "    }\n",
              "\n",
              "    .colab-df-convert:hover {\n",
              "      background-color: #E2EBFA;\n",
              "      box-shadow: 0px 1px 2px rgba(60, 64, 67, 0.3), 0px 1px 3px 1px rgba(60, 64, 67, 0.15);\n",
              "      fill: #174EA6;\n",
              "    }\n",
              "\n",
              "    .colab-df-buttons div {\n",
              "      margin-bottom: 4px;\n",
              "    }\n",
              "\n",
              "    [theme=dark] .colab-df-convert {\n",
              "      background-color: #3B4455;\n",
              "      fill: #D2E3FC;\n",
              "    }\n",
              "\n",
              "    [theme=dark] .colab-df-convert:hover {\n",
              "      background-color: #434B5C;\n",
              "      box-shadow: 0px 1px 3px 1px rgba(0, 0, 0, 0.15);\n",
              "      filter: drop-shadow(0px 1px 2px rgba(0, 0, 0, 0.3));\n",
              "      fill: #FFFFFF;\n",
              "    }\n",
              "  </style>\n",
              "\n",
              "    <script>\n",
              "      const buttonEl =\n",
              "        document.querySelector('#df-b3055b7c-8680-4078-ba60-cbc7152119e6 button.colab-df-convert');\n",
              "      buttonEl.style.display =\n",
              "        google.colab.kernel.accessAllowed ? 'block' : 'none';\n",
              "\n",
              "      async function convertToInteractive(key) {\n",
              "        const element = document.querySelector('#df-b3055b7c-8680-4078-ba60-cbc7152119e6');\n",
              "        const dataTable =\n",
              "          await google.colab.kernel.invokeFunction('convertToInteractive',\n",
              "                                                    [key], {});\n",
              "        if (!dataTable) return;\n",
              "\n",
              "        const docLinkHtml = 'Like what you see? Visit the ' +\n",
              "          '<a target=\"_blank\" href=https://colab.research.google.com/notebooks/data_table.ipynb>data table notebook</a>'\n",
              "          + ' to learn more about interactive tables.';\n",
              "        element.innerHTML = '';\n",
              "        dataTable['output_type'] = 'display_data';\n",
              "        await google.colab.output.renderOutput(dataTable, element);\n",
              "        const docLink = document.createElement('div');\n",
              "        docLink.innerHTML = docLinkHtml;\n",
              "        element.appendChild(docLink);\n",
              "      }\n",
              "    </script>\n",
              "  </div>\n",
              "\n",
              "\n",
              "<div id=\"df-945ec3cd-64bb-4b41-b7ae-abf3951f9620\">\n",
              "  <button class=\"colab-df-quickchart\" onclick=\"quickchart('df-945ec3cd-64bb-4b41-b7ae-abf3951f9620')\"\n",
              "            title=\"Suggest charts.\"\n",
              "            style=\"display:none;\">\n",
              "\n",
              "<svg xmlns=\"http://www.w3.org/2000/svg\" height=\"24px\"viewBox=\"0 0 24 24\"\n",
              "     width=\"24px\">\n",
              "    <g>\n",
              "        <path d=\"M19 3H5c-1.1 0-2 .9-2 2v14c0 1.1.9 2 2 2h14c1.1 0 2-.9 2-2V5c0-1.1-.9-2-2-2zM9 17H7v-7h2v7zm4 0h-2V7h2v10zm4 0h-2v-4h2v4z\"/>\n",
              "    </g>\n",
              "</svg>\n",
              "  </button>\n",
              "\n",
              "<style>\n",
              "  .colab-df-quickchart {\n",
              "    background-color: #E8F0FE;\n",
              "    border: none;\n",
              "    border-radius: 50%;\n",
              "    cursor: pointer;\n",
              "    display: none;\n",
              "    fill: #1967D2;\n",
              "    height: 32px;\n",
              "    padding: 0 0 0 0;\n",
              "    width: 32px;\n",
              "  }\n",
              "\n",
              "  .colab-df-quickchart:hover {\n",
              "    background-color: #E2EBFA;\n",
              "    box-shadow: 0px 1px 2px rgba(60, 64, 67, 0.3), 0px 1px 3px 1px rgba(60, 64, 67, 0.15);\n",
              "    fill: #174EA6;\n",
              "  }\n",
              "\n",
              "  [theme=dark] .colab-df-quickchart {\n",
              "    background-color: #3B4455;\n",
              "    fill: #D2E3FC;\n",
              "  }\n",
              "\n",
              "  [theme=dark] .colab-df-quickchart:hover {\n",
              "    background-color: #434B5C;\n",
              "    box-shadow: 0px 1px 3px 1px rgba(0, 0, 0, 0.15);\n",
              "    filter: drop-shadow(0px 1px 2px rgba(0, 0, 0, 0.3));\n",
              "    fill: #FFFFFF;\n",
              "  }\n",
              "</style>\n",
              "\n",
              "  <script>\n",
              "    async function quickchart(key) {\n",
              "      const charts = await google.colab.kernel.invokeFunction(\n",
              "          'suggestCharts', [key], {});\n",
              "    }\n",
              "    (() => {\n",
              "      let quickchartButtonEl =\n",
              "        document.querySelector('#df-945ec3cd-64bb-4b41-b7ae-abf3951f9620 button');\n",
              "      quickchartButtonEl.style.display =\n",
              "        google.colab.kernel.accessAllowed ? 'block' : 'none';\n",
              "    })();\n",
              "  </script>\n",
              "</div>\n",
              "    </div>\n",
              "  </div>\n"
            ]
          },
          "metadata": {},
          "execution_count": 133
        }
      ],
      "source": [
        "test_tweet_a_new"
      ]
    },
    {
      "cell_type": "code",
      "execution_count": 134,
      "metadata": {
        "id": "blBIW9RrwWav"
      },
      "outputs": [],
      "source": [
        "off_new = test_tweet_a_new[test_tweet_a_new['class_a']=='OFF']"
      ]
    },
    {
      "cell_type": "code",
      "execution_count": 135,
      "metadata": {
        "colab": {
          "base_uri": "https://localhost:8080/",
          "height": 424
        },
        "id": "uNRiMKtNwWav",
        "outputId": "9c206044-f058-4ddc-9e74-e1d048a4ae88"
      },
      "outputs": [
        {
          "output_type": "execute_result",
          "data": {
            "text/plain": [
              "                                                 tweet class_a\n",
              "0    #WhoIsQ #WheresTheServer #DumpNike #DECLASFISA...     OFF\n",
              "4    #NoPasaran: Unity demo to oppose the far-right...     OFF\n",
              "5             . . . What the fuck did he do this time?     OFF\n",
              "7    @USER Do you get the feeling he is kissing @US...     OFF\n",
              "14                         @USER Nigga ware da hits at     OFF\n",
              "..                                                 ...     ...\n",
              "842  #Antifa are mentally unstable cowards, pretend...     OFF\n",
              "847  @USER @USER And Browning looked like dog shit ...     OFF\n",
              "853                All two of them taste like ass. URL     OFF\n",
              "855  #DespicableDems lie again about rifles. Dem Di...     OFF\n",
              "857  3 people just unfollowed me for talking about ...     OFF\n",
              "\n",
              "[240 rows x 2 columns]"
            ],
            "text/html": [
              "\n",
              "  <div id=\"df-b167b132-08c4-46d0-bfb9-bc7c9dd7c2bb\" class=\"colab-df-container\">\n",
              "    <div>\n",
              "<style scoped>\n",
              "    .dataframe tbody tr th:only-of-type {\n",
              "        vertical-align: middle;\n",
              "    }\n",
              "\n",
              "    .dataframe tbody tr th {\n",
              "        vertical-align: top;\n",
              "    }\n",
              "\n",
              "    .dataframe thead th {\n",
              "        text-align: right;\n",
              "    }\n",
              "</style>\n",
              "<table border=\"1\" class=\"dataframe\">\n",
              "  <thead>\n",
              "    <tr style=\"text-align: right;\">\n",
              "      <th></th>\n",
              "      <th>tweet</th>\n",
              "      <th>class_a</th>\n",
              "    </tr>\n",
              "  </thead>\n",
              "  <tbody>\n",
              "    <tr>\n",
              "      <th>0</th>\n",
              "      <td>#WhoIsQ #WheresTheServer #DumpNike #DECLASFISA...</td>\n",
              "      <td>OFF</td>\n",
              "    </tr>\n",
              "    <tr>\n",
              "      <th>4</th>\n",
              "      <td>#NoPasaran: Unity demo to oppose the far-right...</td>\n",
              "      <td>OFF</td>\n",
              "    </tr>\n",
              "    <tr>\n",
              "      <th>5</th>\n",
              "      <td>. . . What the fuck did he do this time?</td>\n",
              "      <td>OFF</td>\n",
              "    </tr>\n",
              "    <tr>\n",
              "      <th>7</th>\n",
              "      <td>@USER Do you get the feeling he is kissing @US...</td>\n",
              "      <td>OFF</td>\n",
              "    </tr>\n",
              "    <tr>\n",
              "      <th>14</th>\n",
              "      <td>@USER Nigga ware da hits at</td>\n",
              "      <td>OFF</td>\n",
              "    </tr>\n",
              "    <tr>\n",
              "      <th>...</th>\n",
              "      <td>...</td>\n",
              "      <td>...</td>\n",
              "    </tr>\n",
              "    <tr>\n",
              "      <th>842</th>\n",
              "      <td>#Antifa are mentally unstable cowards, pretend...</td>\n",
              "      <td>OFF</td>\n",
              "    </tr>\n",
              "    <tr>\n",
              "      <th>847</th>\n",
              "      <td>@USER @USER And Browning looked like dog shit ...</td>\n",
              "      <td>OFF</td>\n",
              "    </tr>\n",
              "    <tr>\n",
              "      <th>853</th>\n",
              "      <td>All two of them taste like ass. URL</td>\n",
              "      <td>OFF</td>\n",
              "    </tr>\n",
              "    <tr>\n",
              "      <th>855</th>\n",
              "      <td>#DespicableDems lie again about rifles. Dem Di...</td>\n",
              "      <td>OFF</td>\n",
              "    </tr>\n",
              "    <tr>\n",
              "      <th>857</th>\n",
              "      <td>3 people just unfollowed me for talking about ...</td>\n",
              "      <td>OFF</td>\n",
              "    </tr>\n",
              "  </tbody>\n",
              "</table>\n",
              "<p>240 rows × 2 columns</p>\n",
              "</div>\n",
              "    <div class=\"colab-df-buttons\">\n",
              "\n",
              "  <div class=\"colab-df-container\">\n",
              "    <button class=\"colab-df-convert\" onclick=\"convertToInteractive('df-b167b132-08c4-46d0-bfb9-bc7c9dd7c2bb')\"\n",
              "            title=\"Convert this dataframe to an interactive table.\"\n",
              "            style=\"display:none;\">\n",
              "\n",
              "  <svg xmlns=\"http://www.w3.org/2000/svg\" height=\"24px\" viewBox=\"0 -960 960 960\">\n",
              "    <path d=\"M120-120v-720h720v720H120Zm60-500h600v-160H180v160Zm220 220h160v-160H400v160Zm0 220h160v-160H400v160ZM180-400h160v-160H180v160Zm440 0h160v-160H620v160ZM180-180h160v-160H180v160Zm440 0h160v-160H620v160Z\"/>\n",
              "  </svg>\n",
              "    </button>\n",
              "\n",
              "  <style>\n",
              "    .colab-df-container {\n",
              "      display:flex;\n",
              "      gap: 12px;\n",
              "    }\n",
              "\n",
              "    .colab-df-convert {\n",
              "      background-color: #E8F0FE;\n",
              "      border: none;\n",
              "      border-radius: 50%;\n",
              "      cursor: pointer;\n",
              "      display: none;\n",
              "      fill: #1967D2;\n",
              "      height: 32px;\n",
              "      padding: 0 0 0 0;\n",
              "      width: 32px;\n",
              "    }\n",
              "\n",
              "    .colab-df-convert:hover {\n",
              "      background-color: #E2EBFA;\n",
              "      box-shadow: 0px 1px 2px rgba(60, 64, 67, 0.3), 0px 1px 3px 1px rgba(60, 64, 67, 0.15);\n",
              "      fill: #174EA6;\n",
              "    }\n",
              "\n",
              "    .colab-df-buttons div {\n",
              "      margin-bottom: 4px;\n",
              "    }\n",
              "\n",
              "    [theme=dark] .colab-df-convert {\n",
              "      background-color: #3B4455;\n",
              "      fill: #D2E3FC;\n",
              "    }\n",
              "\n",
              "    [theme=dark] .colab-df-convert:hover {\n",
              "      background-color: #434B5C;\n",
              "      box-shadow: 0px 1px 3px 1px rgba(0, 0, 0, 0.15);\n",
              "      filter: drop-shadow(0px 1px 2px rgba(0, 0, 0, 0.3));\n",
              "      fill: #FFFFFF;\n",
              "    }\n",
              "  </style>\n",
              "\n",
              "    <script>\n",
              "      const buttonEl =\n",
              "        document.querySelector('#df-b167b132-08c4-46d0-bfb9-bc7c9dd7c2bb button.colab-df-convert');\n",
              "      buttonEl.style.display =\n",
              "        google.colab.kernel.accessAllowed ? 'block' : 'none';\n",
              "\n",
              "      async function convertToInteractive(key) {\n",
              "        const element = document.querySelector('#df-b167b132-08c4-46d0-bfb9-bc7c9dd7c2bb');\n",
              "        const dataTable =\n",
              "          await google.colab.kernel.invokeFunction('convertToInteractive',\n",
              "                                                    [key], {});\n",
              "        if (!dataTable) return;\n",
              "\n",
              "        const docLinkHtml = 'Like what you see? Visit the ' +\n",
              "          '<a target=\"_blank\" href=https://colab.research.google.com/notebooks/data_table.ipynb>data table notebook</a>'\n",
              "          + ' to learn more about interactive tables.';\n",
              "        element.innerHTML = '';\n",
              "        dataTable['output_type'] = 'display_data';\n",
              "        await google.colab.output.renderOutput(dataTable, element);\n",
              "        const docLink = document.createElement('div');\n",
              "        docLink.innerHTML = docLinkHtml;\n",
              "        element.appendChild(docLink);\n",
              "      }\n",
              "    </script>\n",
              "  </div>\n",
              "\n",
              "\n",
              "<div id=\"df-9584b519-4e26-40a6-92b0-b635e135134d\">\n",
              "  <button class=\"colab-df-quickchart\" onclick=\"quickchart('df-9584b519-4e26-40a6-92b0-b635e135134d')\"\n",
              "            title=\"Suggest charts.\"\n",
              "            style=\"display:none;\">\n",
              "\n",
              "<svg xmlns=\"http://www.w3.org/2000/svg\" height=\"24px\"viewBox=\"0 0 24 24\"\n",
              "     width=\"24px\">\n",
              "    <g>\n",
              "        <path d=\"M19 3H5c-1.1 0-2 .9-2 2v14c0 1.1.9 2 2 2h14c1.1 0 2-.9 2-2V5c0-1.1-.9-2-2-2zM9 17H7v-7h2v7zm4 0h-2V7h2v10zm4 0h-2v-4h2v4z\"/>\n",
              "    </g>\n",
              "</svg>\n",
              "  </button>\n",
              "\n",
              "<style>\n",
              "  .colab-df-quickchart {\n",
              "    background-color: #E8F0FE;\n",
              "    border: none;\n",
              "    border-radius: 50%;\n",
              "    cursor: pointer;\n",
              "    display: none;\n",
              "    fill: #1967D2;\n",
              "    height: 32px;\n",
              "    padding: 0 0 0 0;\n",
              "    width: 32px;\n",
              "  }\n",
              "\n",
              "  .colab-df-quickchart:hover {\n",
              "    background-color: #E2EBFA;\n",
              "    box-shadow: 0px 1px 2px rgba(60, 64, 67, 0.3), 0px 1px 3px 1px rgba(60, 64, 67, 0.15);\n",
              "    fill: #174EA6;\n",
              "  }\n",
              "\n",
              "  [theme=dark] .colab-df-quickchart {\n",
              "    background-color: #3B4455;\n",
              "    fill: #D2E3FC;\n",
              "  }\n",
              "\n",
              "  [theme=dark] .colab-df-quickchart:hover {\n",
              "    background-color: #434B5C;\n",
              "    box-shadow: 0px 1px 3px 1px rgba(0, 0, 0, 0.15);\n",
              "    filter: drop-shadow(0px 1px 2px rgba(0, 0, 0, 0.3));\n",
              "    fill: #FFFFFF;\n",
              "  }\n",
              "</style>\n",
              "\n",
              "  <script>\n",
              "    async function quickchart(key) {\n",
              "      const charts = await google.colab.kernel.invokeFunction(\n",
              "          'suggestCharts', [key], {});\n",
              "    }\n",
              "    (() => {\n",
              "      let quickchartButtonEl =\n",
              "        document.querySelector('#df-9584b519-4e26-40a6-92b0-b635e135134d button');\n",
              "      quickchartButtonEl.style.display =\n",
              "        google.colab.kernel.accessAllowed ? 'block' : 'none';\n",
              "    })();\n",
              "  </script>\n",
              "</div>\n",
              "    </div>\n",
              "  </div>\n"
            ]
          },
          "metadata": {},
          "execution_count": 135
        }
      ],
      "source": [
        "off_new"
      ]
    },
    {
      "cell_type": "code",
      "execution_count": 136,
      "metadata": {
        "colab": {
          "base_uri": "https://localhost:8080/",
          "height": 53
        },
        "id": "eEUypEvXwWav",
        "outputId": "868e7a24-1290-4477-ea8a-07224ad1034e"
      },
      "outputs": [
        {
          "output_type": "execute_result",
          "data": {
            "text/plain": [
              "'#WhoIsQ #WheresTheServer #DumpNike #DECLASFISA Democrats Support Antifa, Muslim Brotherhood, MS13, ISIS, Pedophilia, Child Trafficking, Taxpayer Funded Abortion’s, Election Fraud, Sedition And Treason!!! #LockThemAllUp #WWG1WGA #QAnon \\u2066@USER URL'"
            ],
            "application/vnd.google.colaboratory.intrinsic+json": {
              "type": "string"
            }
          },
          "metadata": {},
          "execution_count": 136
        }
      ],
      "source": [
        "off_new['tweet'][0]"
      ]
    },
    {
      "cell_type": "code",
      "execution_count": 137,
      "metadata": {
        "colab": {
          "base_uri": "https://localhost:8080/",
          "height": 35
        },
        "id": "za1VwEerwWaw",
        "outputId": "c3fa090e-b259-415a-9b4a-58eef7ceb992"
      },
      "outputs": [
        {
          "output_type": "execute_result",
          "data": {
            "text/plain": [
              "'And🤷🏽\\u200d♂️ females b on the same shit URL'"
            ],
            "application/vnd.google.colaboratory.intrinsic+json": {
              "type": "string"
            }
          },
          "metadata": {},
          "execution_count": 137
        }
      ],
      "source": [
        "off_new['tweet'][216]"
      ]
    },
    {
      "cell_type": "code",
      "execution_count": 138,
      "metadata": {
        "id": "JVgXk2ORwWaw"
      },
      "outputs": [],
      "source": [
        "index_new = [27,370,334,702,857,243,460,827,326,30,221,617,173,85,371,567,428,740,439,408,420,638,663,377,775,502,468,177,180,422,262,335,774,555,657,201,222,511,549,509,587,771,437,800,108,207,609,156,0,857]"
      ]
    },
    {
      "cell_type": "code",
      "source": [
        "test_tweet_off_new =off_new.loc[index_new]"
      ],
      "metadata": {
        "id": "VqjCABTEQZ8b"
      },
      "execution_count": 139,
      "outputs": []
    },
    {
      "cell_type": "markdown",
      "metadata": {
        "id": "QIFYeBrQwWaw"
      },
      "source": [
        "# ChatGPT 3.5 with rephrasing less aggressive"
      ]
    },
    {
      "cell_type": "code",
      "execution_count": 140,
      "metadata": {
        "id": "cyC0_7D_wWaw"
      },
      "outputs": [],
      "source": [
        "test_tweet_off_new['tweet'][27] =\"Let's consider a scenario where DeLauro is put in a police lineup. Some people might point her out due to certain negative perceptions. This situation raises questions about the voters' choices or the possibility of voter fraud. It's essential to remember that everyone's right to vote should be respected, regardless of their gender or appearance. \\u2066@USER @USER\""
      ]
    },
    {
      "cell_type": "code",
      "execution_count": 141,
      "metadata": {
        "id": "6MKof7ycwWaw"
      },
      "outputs": [],
      "source": [
        "test_tweet_off_new['tweet'][370] =\"Recent events involving #Beeto in #Texas serve as a demonstration of how not to run a successful election campaign. #MAGA \\u2066@USER #rkba @USER #DVC UR\""
      ]
    },
    {
      "cell_type": "code",
      "execution_count": 142,
      "metadata": {
        "id": "aYFN0gpuwWaw"
      },
      "outputs": [],
      "source": [
        "test_tweet_off_new['tweet'][334] =\"#Conservative Individuals can learn valuable lessons from the gaming community. URL #Conservatives #TriggerWarningRadio\""
      ]
    },
    {
      "cell_type": "code",
      "execution_count": 143,
      "metadata": {
        "id": "rVwsLONlwWaw"
      },
      "outputs": [],
      "source": [
        "test_tweet_off_new['tweet'][702] = \"I'd like to share my opinion, even though #NoOneAskMe. Regarding the ongoing beef between #CardiB and @USER, it seems like #Offset is involved to some extent. Cardi might be trusting him, considering their relationship. However, it's important for #offset to handle the situation calmly and thoughtfully.\""
      ]
    },
    {
      "cell_type": "code",
      "execution_count": 144,
      "metadata": {
        "id": "XcQyhTT6wWaw"
      },
      "outputs": [],
      "source": [
        "test_tweet_off_new['tweet'][857]=\"Three people recently unfollowed me after discussing Merlin. Apologies, everyone! I'm still obsessed with Covinsky, but I'm eagerly waiting for a possible sequel announcement for PS I Still Love You. I've run out of witty and funny tweets about To All the Boys I've Loved Before; it's been quite exhausting.\""
      ]
    },
    {
      "cell_type": "code",
      "execution_count": 145,
      "metadata": {
        "id": "l__7YDxXwWax"
      },
      "outputs": [],
      "source": [
        "test_tweet_off_new['tweet'][243] = \"#Trump's actions have raised concerns about possible obstruction of justice, as some see them as significant evidence. Critics view him as a controversial figure in this regard.\""
      ]
    },
    {
      "cell_type": "code",
      "execution_count": 146,
      "metadata": {
        "id": "qu9_Bpp3wWax"
      },
      "outputs": [],
      "source": [
        "test_tweet_off_new['tweet'][460] = \"#Feinstein, it's important to be honest and truthful in your statements. Let's strive to maintain integrity and avoid spreading misinformation. URL\""
      ]
    },
    {
      "cell_type": "code",
      "execution_count": 147,
      "metadata": {
        "id": "cFhz_HMZwWax"
      },
      "outputs": [],
      "source": [
        "test_tweet_off_new['tweet'][827] = \"#MAGA Can you please share one positive action that #Trump has taken during his time as #president? I'm open to hearing different perspectives. Let's discuss his accomplishments and record objectively.\""
      ]
    },
    {
      "cell_type": "code",
      "execution_count": 148,
      "metadata": {
        "id": "Bg52M8LZwWax"
      },
      "outputs": [],
      "source": [
        "test_tweet_off_new['tweet'][326] = \"#FamiliarWife JH-Oh my goodness, she's quite unpredictable. WJ-Hold on!...yes, I find assistant manager Cha interesting. BH-You two seem compatible. VO-Any issues between you? Just sit here. JH-I advise against it! WJ-Let's live life on our terms. Let's give it a try. News-There's a collision on the highway causing traffic. JH-Woo-jin~ URL\""
      ]
    },
    {
      "cell_type": "code",
      "execution_count": 149,
      "metadata": {
        "id": "bNtZKbdjwWax"
      },
      "outputs": [],
      "source": [
        "test_tweet_off_new['tweet'][30] = \"#ChristineBlaseyFord is the individual who accused #Kavanaugh. It seems like this accusation is a pattern that #Liberals tend to follow each time. Let's focus on discussing the #ConfirmJudgeKavanaugh process. URL\"\n"
      ]
    },
    {
      "cell_type": "code",
      "execution_count": 150,
      "metadata": {
        "id": "Xm7CRUNOwWax"
      },
      "outputs": [],
      "source": [
        "test_tweet_off_new['tweet'][221]=\"#DeclassifyDocuments It's intriguing to observe different perspectives, like Maria's, during discussions. #Outnumbered\""
      ]
    },
    {
      "cell_type": "code",
      "execution_count": 152,
      "metadata": {
        "id": "1ElhJPzcwWax"
      },
      "outputs": [],
      "source": [
        "test_tweet_off_new['tweet'][617] = \"#LiberalismIsAMentalDisorder It's essential to recognize differing viewpoints. #Hypocrites #DemocratsHateAmerica #DemocratsAreDangerous It's important to engage in constructive dialogue and find common ground. URL\""
      ]
    },
    {
      "cell_type": "code",
      "execution_count": 153,
      "metadata": {
        "id": "2FAbqLFZwWax"
      },
      "outputs": [],
      "source": [
        "test_tweet_off_new['tweet'][173] =\"#Elitist #Actors #NBC #Liberals at the #Emmy Awards showcased a self-promotion event with some #MeToo references. It's worth noting that this was a planned and staged occasion, which might align with their #Democratic and #Socialist beliefs. Let's remember the importance of respectful dialogue and understanding different perspectives. #WALKAWAY URL\""
      ]
    },
    {
      "cell_type": "code",
      "execution_count": 154,
      "metadata": {
        "id": "OmU2H4mdwWax"
      },
      "outputs": [],
      "source": [
        "test_tweet_off_new['tweet'][85] = \"#Liberals can be seen differently by some, but let's remember the principle of INNOCENT UNTIL PROVEN GUILTY. It's important to examine both parties if there are concerns about individuals' conduct. Let's strive to have respectful discussions and avoid harsh language. #KavanaughIsInnocent #WalkAwayFromDemocrats. Let's focus on honesty and avoid extreme accusations. URL\""
      ]
    },
    {
      "cell_type": "code",
      "execution_count": 155,
      "metadata": {
        "id": "60Iny4P8wWax"
      },
      "outputs": [],
      "source": [
        "test_tweet_off_new['tweet'][371] =\"And sometimes, people can give off the impression that they have money, but in reality, they may not\""
      ]
    },
    {
      "cell_type": "code",
      "execution_count": 156,
      "metadata": {
        "id": "UFXn7vmNwWax"
      },
      "outputs": [],
      "source": [
        "test_tweet_off_new['tweet'][567] =\"Ford's attorney has mentioned that she's facing death threats, leading her to relocate her family for safety. However, it's essential to seek evidence before making assumptions about who might be behind these threats. Let's approach this situation with a fair and unbiased perspective\""
      ]
    },
    {
      "cell_type": "code",
      "execution_count": 157,
      "metadata": {
        "id": "Ny7OBJsDwWax"
      },
      "outputs": [],
      "source": [
        "test_tweet_off_new['tweet'][428]=\"Anyone who finds M*neta's behavior humorous may have a different sense of humor.\""
      ]
    },
    {
      "cell_type": "code",
      "execution_count": 158,
      "metadata": {
        "id": "9J58tN9FwWax"
      },
      "outputs": [],
      "source": [
        "test_tweet_off_new['tweet'][740] = \"@USER - Opinions about this POTUS vary widely.\""
      ]
    },
    {
      "cell_type": "code",
      "execution_count": 159,
      "metadata": {
        "id": "PU8QWPBxwWax"
      },
      "outputs": [],
      "source": [
        "test_tweet_off_new['tweet'][439] = \"#CnnIsFakeNews @USER @USER, some people have concerns about the network's ratings and credibility. #cnnisajoke #FakeNews #MAGA URL\""
      ]
    },
    {
      "cell_type": "code",
      "execution_count": 160,
      "metadata": {
        "id": "R6QKxR6xwWax"
      },
      "outputs": [],
      "source": [
        "test_tweet_off_new['tweet'][408] = \"#Hillary and at least 16 other individuals have strong opinions as #AngryDemocrats. Let's discuss #WorldWarQ, #WWG1WGA, #MAGA, #RedTsunami, #AmericaFirst, #WalkAway, and #Truth. URL\""
      ]
    },
    {
      "cell_type": "code",
      "execution_count": 161,
      "metadata": {
        "id": "cJBNFEp1wWax"
      },
      "outputs": [],
      "source": [
        "test_tweet_off_new['tweet'][420] =\"@USER @USER As I've mentioned before, some people believe that media and financial influences, like Soros and Waters, are contributing to increased tensions in society.\""
      ]
    },
    {
      "cell_type": "code",
      "execution_count": 162,
      "metadata": {
        "id": "tsEwHvCNwWax"
      },
      "outputs": [],
      "source": [
        "test_tweet_off_new['tweet'][638] =\"#Liberals are often known for their strategic tactics to achieve their goals. 👇👇 URL\""
      ]
    },
    {
      "cell_type": "code",
      "execution_count": 163,
      "metadata": {
        "id": "22TRlS3KwWay"
      },
      "outputs": [],
      "source": [
        "test_tweet_off_new['tweet'][663]=\"#HonourSacrificeBoycottMatch I have concerns about the impact on human rights. I hope all parties involved find some satisfaction. Let's engage in cricket with them and express gratitude for their efforts to support our soldiers. We need to address the situation thoughtfully; even smaller nations like Pakistan should not be underestimated.\""
      ]
    },
    {
      "cell_type": "code",
      "execution_count": 164,
      "metadata": {
        "id": "OfyEMWR_wWay"
      },
      "outputs": [],
      "source": [
        "test_tweet_off_new['tweet'][377] = \"#Dems have shown a concerning pattern of believing accusations against conservatives while dismissing those against liberals. There is a need for fair and impartial treatment in such cases. URL\""
      ]
    },
    {
      "cell_type": "code",
      "execution_count": 165,
      "metadata": {
        "id": "vfTV5lCSwWay"
      },
      "outputs": [],
      "source": [
        "test_tweet_off_new['tweet'][775]=\"#FemiNazis, who are often associated with Liberals, seem to emphasize #MeToo only when accusing non-Liberal men. The situation may seem perplexing. #Bizarro #KAG2018 ❤️🇺🇸 URL\""
      ]
    },
    {
      "cell_type": "code",
      "execution_count": 166,
      "metadata": {
        "id": "Tbc59HLCwWay"
      },
      "outputs": [],
      "source": [
        "test_tweet_off_new['tweet'][502] =\"@USER One possible explanation is that he may be tone-deaf to the situation. It's challenging to remain understanding when he and others continue to behave this way.\""
      ]
    },
    {
      "cell_type": "code",
      "execution_count": 167,
      "metadata": {
        "id": "KdBFBVCjwWay"
      },
      "outputs": [],
      "source": [
        "test_tweet_off_new['tweet'][468] =\"#Nigeria #Naija #9ja 'Atiku criticizes Buhari, calling him one of the least competent leaders in Nigeria's history' - Read more on this via URL provided by championnewsng.\""
      ]
    },
    {
      "cell_type": "code",
      "execution_count": 168,
      "metadata": {
        "id": "zrCriiWswWay"
      },
      "outputs": [],
      "source": [
        "test_tweet_off_new['tweet'][177] =\"#BlueWave #DumpTrump ...show love and seek to cooperate or find common ground with conservatives/Trump supporters while advocating for the rights of marginalized groups and supporting women's rights to make choices about their own bodies...\""
      ]
    },
    {
      "cell_type": "code",
      "execution_count": 169,
      "metadata": {
        "id": "VuP-2EV_wWay"
      },
      "outputs": [],
      "source": [
        "test_tweet_off_new['tweet'][180] =\"#NightMayor's DT cycle track can be repurposed for various community activities, like setting up tennis courts for Antifa inside Crescent Heights, until we address concerns related to Nenshi's vape shop.\""
      ]
    },
    {
      "cell_type": "code",
      "execution_count": 170,
      "metadata": {
        "id": "pKSS7DLswWay"
      },
      "outputs": [],
      "source": [
        "test_tweet_off_new['tweet'][422] =\"#Texas Ted Cruz's campaign has been sending solicitations that some recipients mistake for official county summons. This has caused confusion, particularly among elderly residents. Some people find this approach questionable. URL\""
      ]
    },
    {
      "cell_type": "code",
      "execution_count": 171,
      "metadata": {
        "id": "qqUo7mp6wWay"
      },
      "outputs": [],
      "source": [
        "test_tweet_off_new['tweet'][262] = \"$uicideboy$ ON HALLOWEEN! Get ready for a seriously spooky time!\""
      ]
    },
    {
      "cell_type": "code",
      "execution_count": 172,
      "metadata": {
        "id": "Jtwic8KZwWay"
      },
      "outputs": [],
      "source": [
        "test_tweet_off_new['tweet'][335] =\"#Barbara Boxer: When discussing serious issues like rape, it's crucial for everyone, including liberals, to provide solid evidence. Personal accounts alone might not be sufficient. On a related note, without evidence, making accusations could be misleading. Let's focus on respectful discussions. URL\""
      ]
    },
    {
      "cell_type": "code",
      "execution_count": 173,
      "metadata": {
        "id": "e5Aep_XBwWay"
      },
      "outputs": [],
      "source": [
        "test_tweet_off_new['tweet'][774] =\"@USER #Rosie's actions or statements sometimes make me feel uncomfortable. URL\""
      ]
    },
    {
      "cell_type": "code",
      "execution_count": 174,
      "metadata": {
        "id": "ZCkuqzcmwWay"
      },
      "outputs": [],
      "source": [
        "test_tweet_off_new['tweet'][555] =\"Anyway, this game isn't really my cup of tea :)\""
      ]
    },
    {
      "cell_type": "code",
      "execution_count": 175,
      "metadata": {
        "id": "Wb5VsGGawWay"
      },
      "outputs": [],
      "source": [
        "test_tweet_off_new['tweet'][657] =\"#Bakersfield is an example of why some people advocate for gun control. My thoughts are with the victims, except for the gunman himself. I hope justice is served\""
      ]
    },
    {
      "cell_type": "code",
      "execution_count": 176,
      "metadata": {
        "id": "1R7w59l7wWay"
      },
      "outputs": [],
      "source": [
        "test_tweet_off_new['tweet'][201] =\"@USER These seem to be coordinated attacks from individuals with extreme views. It's unfortunate that such incidents may escalate further before the election. Some people criticize the President for not being a traditional politician, even though they fear potential consequences for the economy and their 401 plans. Let's hope for more reasoned and respectful discussions.\""
      ]
    },
    {
      "cell_type": "code",
      "execution_count": 177,
      "metadata": {
        "id": "RiEvuuejwWay"
      },
      "outputs": [],
      "source": [
        "test_tweet_off_new['tweet'][222] =\"#PoliticsInFocus Hey Donald! Let's remember we all have different perspectives, no need to talk down to me! URL'\""
      ]
    },
    {
      "cell_type": "code",
      "execution_count": 178,
      "metadata": {
        "id": "dBQ2tRTwwWay"
      },
      "outputs": [],
      "source": [
        "test_tweet_off_new['tweet'][511] =\"#Kavanaugh has been influenced by Anthony Kennedy, known for delivering opinions that upset liberals. Some view him as an attempt by Trump to convince conservatives that the #SCOTUS is leaning right. If @USER were strategic, they would work to support BK's confirmation. However, it seems unlikely. #TuesdayThoughts URL\""
      ]
    },
    {
      "cell_type": "code",
      "execution_count": 179,
      "metadata": {
        "id": "Y198ciDjwWaz"
      },
      "outputs": [],
      "source": [
        "test_tweet_off_new['tweet'][549] =\"#NEWS Jeff Sessions: In his perspective, following the guidance of the ACLU, Antifa, and Black Lives Matter may lead to more negative outcomes. URL #CNBC\""
      ]
    },
    {
      "cell_type": "code",
      "execution_count": 180,
      "metadata": {
        "id": "X4OVPYHmwWaz"
      },
      "outputs": [],
      "source": [
        "test_tweet_off_new['tweet'][509] = \"...how about death metal? I'm eager to discover more death metal music... Can you please suggest some good places to find it? URL\""
      ]
    },
    {
      "cell_type": "code",
      "execution_count": 181,
      "metadata": {
        "id": "wNDEmfdvwWaz"
      },
      "outputs": [],
      "source": [
        "test_tweet_off_new['tweet'][587] =\"@USER #ThoseThatAreTheLoudest might be concerned, but many believe that justice will prevail. Let's remember to focus on the facts. #Bono and the #ClintonFoundation have raised some questions, and people have expressed skepticism about their actions. #PedoWood #Haiti URL\""
      ]
    },
    {
      "cell_type": "code",
      "execution_count": 182,
      "metadata": {
        "id": "iszsmgF_wWaz"
      },
      "outputs": [],
      "source": [
        "test_tweet_off_new['tweet'][771] = \"#Conservatives might not be as informed as some may hope, that's the main idea behind my tweet.\""
      ]
    },
    {
      "cell_type": "code",
      "execution_count": 183,
      "metadata": {
        "id": "k5AFAoQvwWaz"
      },
      "outputs": [],
      "source": [
        "test_tweet_off_new['tweet'][437] = \"#MSNBC #Hardball @USER Bingo, you've hit the mark. It seems evident that he holds a grudge against President Obama, likely stemming from the White House correspondents dinner. This could be a significant factor in his negative feelings towards the former President.\""
      ]
    },
    {
      "cell_type": "code",
      "execution_count": 184,
      "metadata": {
        "id": "T6bxGknLwWaz"
      },
      "outputs": [],
      "source": [
        "test_tweet_off_new['tweet'][800] =\"#Kavanaugh If #BlaseyFord's credibility is questioned, there's a possibility of another accuser coming forward. Some people criticize liberals for their consistent approach in such situations. #LiberalismIsAMentalDisorder\""
      ]
    },
    {
      "cell_type": "code",
      "execution_count": 185,
      "metadata": {
        "id": "LvCS81PcwWaz"
      },
      "outputs": [],
      "source": [
        "test_tweet_off_new['tweet'][108] = \"Amazon is now offering to ship live Christmas trees to your doorstep. But the big question is, will they stay and help with putting on the lights? URL\""
      ]
    },
    {
      "cell_type": "code",
      "execution_count": 186,
      "metadata": {
        "id": "HDDkMznMwWaz"
      },
      "outputs": [],
      "source": [
        "test_tweet_off_new['tweet'][207] =\"#JoinTheFight Join the discussion about concerns regarding certain political ideologies. Some people feel that Democrats and Liberals are promoting ideas that they believe could be harmful to America. Let's engage in constructive conversations. #JoinTheFightAgainstCommunism URL\""
      ]
    },
    {
      "cell_type": "code",
      "execution_count": 187,
      "metadata": {
        "id": "we_NRVCewWaz"
      },
      "outputs": [],
      "source": [
        "test_tweet_off_new['tweet'][609] =\"#DeSantis=DeRacist, while some may view him as a questionable choice, he chose to distance himself from the President's comments about deaths in Puerto Rico from Hurricane Maria. @USER @USER #whataputz\""
      ]
    },
    {
      "cell_type": "code",
      "execution_count": 188,
      "metadata": {
        "id": "_lyujnkXwWaz"
      },
      "outputs": [],
      "source": [
        "test_tweet_off_new['tweet'][156] =\"#TheArchers I want to excel in Karate and improve my skills for self-defense and personal growth.\""
      ]
    },
    {
      "cell_type": "code",
      "source": [
        "test_tweet_off_new.shape"
      ],
      "metadata": {
        "colab": {
          "base_uri": "https://localhost:8080/"
        },
        "id": "iTjV-LtWRRXI",
        "outputId": "0ebcfd3d-fa28-42ac-c70e-725dfce11a28"
      },
      "execution_count": 193,
      "outputs": [
        {
          "output_type": "execute_result",
          "data": {
            "text/plain": [
              "(50, 2)"
            ]
          },
          "metadata": {},
          "execution_count": 193
        }
      ]
    },
    {
      "cell_type": "code",
      "execution_count": 194,
      "metadata": {
        "id": "EOm6Z2BOwWaz"
      },
      "outputs": [],
      "source": [
        "test_tweet_not = test_tweet_a_new[test_tweet_a_new['class_a']=='NOT']"
      ]
    },
    {
      "cell_type": "code",
      "execution_count": 195,
      "metadata": {
        "id": "Ekaw_r-MwWaz"
      },
      "outputs": [],
      "source": [
        "random_100_rows = test_tweet_not.sample(n=100)\n",
        "\n",
        "# Build the new DataFrame using the randomly selected rows\n",
        "test_tweet_not_new = pd.DataFrame(random_100_rows)"
      ]
    },
    {
      "cell_type": "code",
      "execution_count": 196,
      "metadata": {
        "colab": {
          "base_uri": "https://localhost:8080/",
          "height": 424
        },
        "id": "YxiPzXLWwWaz",
        "outputId": "6a992d98-b791-460c-9f6e-2b2dbfc8311c"
      },
      "outputs": [
        {
          "output_type": "execute_result",
          "data": {
            "text/plain": [
              "                                                 tweet class_a\n",
              "516  #Trump #MAGA| @USER @USER on #ElizabethSmart c...     NOT\n",
              "498  #PiperThePup sends her love to everyone who mi...     NOT\n",
              "92   #FordTheatre  Right on Cue, a GoFundMe acct ha...     NOT\n",
              "619                  ...veer left by the old church...     NOT\n",
              "257                   An open letter to Mac Miller URL     NOT\n",
              "..                                                 ...     ...\n",
              "586  10 minutes in to Instinct and I love it #AlanC...     NOT\n",
              "166  #Eagles are setting up a workout with Jeremy M...     NOT\n",
              "174  @USER Kellerman knows only 1 thing more then t...     NOT\n",
              "804  Aparently my computer doesn't want to operate ...     NOT\n",
              "742  (6) he got angry with me for stating I had che...     NOT\n",
              "\n",
              "[100 rows x 2 columns]"
            ],
            "text/html": [
              "\n",
              "  <div id=\"df-a7bf929a-bb44-42f7-a85d-45be81221495\" class=\"colab-df-container\">\n",
              "    <div>\n",
              "<style scoped>\n",
              "    .dataframe tbody tr th:only-of-type {\n",
              "        vertical-align: middle;\n",
              "    }\n",
              "\n",
              "    .dataframe tbody tr th {\n",
              "        vertical-align: top;\n",
              "    }\n",
              "\n",
              "    .dataframe thead th {\n",
              "        text-align: right;\n",
              "    }\n",
              "</style>\n",
              "<table border=\"1\" class=\"dataframe\">\n",
              "  <thead>\n",
              "    <tr style=\"text-align: right;\">\n",
              "      <th></th>\n",
              "      <th>tweet</th>\n",
              "      <th>class_a</th>\n",
              "    </tr>\n",
              "  </thead>\n",
              "  <tbody>\n",
              "    <tr>\n",
              "      <th>516</th>\n",
              "      <td>#Trump #MAGA| @USER @USER on #ElizabethSmart c...</td>\n",
              "      <td>NOT</td>\n",
              "    </tr>\n",
              "    <tr>\n",
              "      <th>498</th>\n",
              "      <td>#PiperThePup sends her love to everyone who mi...</td>\n",
              "      <td>NOT</td>\n",
              "    </tr>\n",
              "    <tr>\n",
              "      <th>92</th>\n",
              "      <td>#FordTheatre  Right on Cue, a GoFundMe acct ha...</td>\n",
              "      <td>NOT</td>\n",
              "    </tr>\n",
              "    <tr>\n",
              "      <th>619</th>\n",
              "      <td>...veer left by the old church...</td>\n",
              "      <td>NOT</td>\n",
              "    </tr>\n",
              "    <tr>\n",
              "      <th>257</th>\n",
              "      <td>An open letter to Mac Miller URL</td>\n",
              "      <td>NOT</td>\n",
              "    </tr>\n",
              "    <tr>\n",
              "      <th>...</th>\n",
              "      <td>...</td>\n",
              "      <td>...</td>\n",
              "    </tr>\n",
              "    <tr>\n",
              "      <th>586</th>\n",
              "      <td>10 minutes in to Instinct and I love it #AlanC...</td>\n",
              "      <td>NOT</td>\n",
              "    </tr>\n",
              "    <tr>\n",
              "      <th>166</th>\n",
              "      <td>#Eagles are setting up a workout with Jeremy M...</td>\n",
              "      <td>NOT</td>\n",
              "    </tr>\n",
              "    <tr>\n",
              "      <th>174</th>\n",
              "      <td>@USER Kellerman knows only 1 thing more then t...</td>\n",
              "      <td>NOT</td>\n",
              "    </tr>\n",
              "    <tr>\n",
              "      <th>804</th>\n",
              "      <td>Aparently my computer doesn't want to operate ...</td>\n",
              "      <td>NOT</td>\n",
              "    </tr>\n",
              "    <tr>\n",
              "      <th>742</th>\n",
              "      <td>(6) he got angry with me for stating I had che...</td>\n",
              "      <td>NOT</td>\n",
              "    </tr>\n",
              "  </tbody>\n",
              "</table>\n",
              "<p>100 rows × 2 columns</p>\n",
              "</div>\n",
              "    <div class=\"colab-df-buttons\">\n",
              "\n",
              "  <div class=\"colab-df-container\">\n",
              "    <button class=\"colab-df-convert\" onclick=\"convertToInteractive('df-a7bf929a-bb44-42f7-a85d-45be81221495')\"\n",
              "            title=\"Convert this dataframe to an interactive table.\"\n",
              "            style=\"display:none;\">\n",
              "\n",
              "  <svg xmlns=\"http://www.w3.org/2000/svg\" height=\"24px\" viewBox=\"0 -960 960 960\">\n",
              "    <path d=\"M120-120v-720h720v720H120Zm60-500h600v-160H180v160Zm220 220h160v-160H400v160Zm0 220h160v-160H400v160ZM180-400h160v-160H180v160Zm440 0h160v-160H620v160ZM180-180h160v-160H180v160Zm440 0h160v-160H620v160Z\"/>\n",
              "  </svg>\n",
              "    </button>\n",
              "\n",
              "  <style>\n",
              "    .colab-df-container {\n",
              "      display:flex;\n",
              "      gap: 12px;\n",
              "    }\n",
              "\n",
              "    .colab-df-convert {\n",
              "      background-color: #E8F0FE;\n",
              "      border: none;\n",
              "      border-radius: 50%;\n",
              "      cursor: pointer;\n",
              "      display: none;\n",
              "      fill: #1967D2;\n",
              "      height: 32px;\n",
              "      padding: 0 0 0 0;\n",
              "      width: 32px;\n",
              "    }\n",
              "\n",
              "    .colab-df-convert:hover {\n",
              "      background-color: #E2EBFA;\n",
              "      box-shadow: 0px 1px 2px rgba(60, 64, 67, 0.3), 0px 1px 3px 1px rgba(60, 64, 67, 0.15);\n",
              "      fill: #174EA6;\n",
              "    }\n",
              "\n",
              "    .colab-df-buttons div {\n",
              "      margin-bottom: 4px;\n",
              "    }\n",
              "\n",
              "    [theme=dark] .colab-df-convert {\n",
              "      background-color: #3B4455;\n",
              "      fill: #D2E3FC;\n",
              "    }\n",
              "\n",
              "    [theme=dark] .colab-df-convert:hover {\n",
              "      background-color: #434B5C;\n",
              "      box-shadow: 0px 1px 3px 1px rgba(0, 0, 0, 0.15);\n",
              "      filter: drop-shadow(0px 1px 2px rgba(0, 0, 0, 0.3));\n",
              "      fill: #FFFFFF;\n",
              "    }\n",
              "  </style>\n",
              "\n",
              "    <script>\n",
              "      const buttonEl =\n",
              "        document.querySelector('#df-a7bf929a-bb44-42f7-a85d-45be81221495 button.colab-df-convert');\n",
              "      buttonEl.style.display =\n",
              "        google.colab.kernel.accessAllowed ? 'block' : 'none';\n",
              "\n",
              "      async function convertToInteractive(key) {\n",
              "        const element = document.querySelector('#df-a7bf929a-bb44-42f7-a85d-45be81221495');\n",
              "        const dataTable =\n",
              "          await google.colab.kernel.invokeFunction('convertToInteractive',\n",
              "                                                    [key], {});\n",
              "        if (!dataTable) return;\n",
              "\n",
              "        const docLinkHtml = 'Like what you see? Visit the ' +\n",
              "          '<a target=\"_blank\" href=https://colab.research.google.com/notebooks/data_table.ipynb>data table notebook</a>'\n",
              "          + ' to learn more about interactive tables.';\n",
              "        element.innerHTML = '';\n",
              "        dataTable['output_type'] = 'display_data';\n",
              "        await google.colab.output.renderOutput(dataTable, element);\n",
              "        const docLink = document.createElement('div');\n",
              "        docLink.innerHTML = docLinkHtml;\n",
              "        element.appendChild(docLink);\n",
              "      }\n",
              "    </script>\n",
              "  </div>\n",
              "\n",
              "\n",
              "<div id=\"df-700260cd-eb18-4e87-8b2d-5013113c1084\">\n",
              "  <button class=\"colab-df-quickchart\" onclick=\"quickchart('df-700260cd-eb18-4e87-8b2d-5013113c1084')\"\n",
              "            title=\"Suggest charts.\"\n",
              "            style=\"display:none;\">\n",
              "\n",
              "<svg xmlns=\"http://www.w3.org/2000/svg\" height=\"24px\"viewBox=\"0 0 24 24\"\n",
              "     width=\"24px\">\n",
              "    <g>\n",
              "        <path d=\"M19 3H5c-1.1 0-2 .9-2 2v14c0 1.1.9 2 2 2h14c1.1 0 2-.9 2-2V5c0-1.1-.9-2-2-2zM9 17H7v-7h2v7zm4 0h-2V7h2v10zm4 0h-2v-4h2v4z\"/>\n",
              "    </g>\n",
              "</svg>\n",
              "  </button>\n",
              "\n",
              "<style>\n",
              "  .colab-df-quickchart {\n",
              "    background-color: #E8F0FE;\n",
              "    border: none;\n",
              "    border-radius: 50%;\n",
              "    cursor: pointer;\n",
              "    display: none;\n",
              "    fill: #1967D2;\n",
              "    height: 32px;\n",
              "    padding: 0 0 0 0;\n",
              "    width: 32px;\n",
              "  }\n",
              "\n",
              "  .colab-df-quickchart:hover {\n",
              "    background-color: #E2EBFA;\n",
              "    box-shadow: 0px 1px 2px rgba(60, 64, 67, 0.3), 0px 1px 3px 1px rgba(60, 64, 67, 0.15);\n",
              "    fill: #174EA6;\n",
              "  }\n",
              "\n",
              "  [theme=dark] .colab-df-quickchart {\n",
              "    background-color: #3B4455;\n",
              "    fill: #D2E3FC;\n",
              "  }\n",
              "\n",
              "  [theme=dark] .colab-df-quickchart:hover {\n",
              "    background-color: #434B5C;\n",
              "    box-shadow: 0px 1px 3px 1px rgba(0, 0, 0, 0.15);\n",
              "    filter: drop-shadow(0px 1px 2px rgba(0, 0, 0, 0.3));\n",
              "    fill: #FFFFFF;\n",
              "  }\n",
              "</style>\n",
              "\n",
              "  <script>\n",
              "    async function quickchart(key) {\n",
              "      const charts = await google.colab.kernel.invokeFunction(\n",
              "          'suggestCharts', [key], {});\n",
              "    }\n",
              "    (() => {\n",
              "      let quickchartButtonEl =\n",
              "        document.querySelector('#df-700260cd-eb18-4e87-8b2d-5013113c1084 button');\n",
              "      quickchartButtonEl.style.display =\n",
              "        google.colab.kernel.accessAllowed ? 'block' : 'none';\n",
              "    })();\n",
              "  </script>\n",
              "</div>\n",
              "    </div>\n",
              "  </div>\n"
            ]
          },
          "metadata": {},
          "execution_count": 196
        }
      ],
      "source": [
        "test_tweet_not_new"
      ]
    },
    {
      "cell_type": "code",
      "execution_count": 197,
      "metadata": {
        "id": "97wrHVdUwWaz"
      },
      "outputs": [],
      "source": [
        "merged_df = pd.concat([test_tweet_not_new, test_tweet_off_new], ignore_index=True)\n",
        "\n",
        "# Shuffle the index\n",
        "test_shuffled_df = merged_df.sample(frac=1).reset_index(drop=True)"
      ]
    },
    {
      "cell_type": "code",
      "execution_count": 198,
      "metadata": {
        "colab": {
          "base_uri": "https://localhost:8080/",
          "height": 424
        },
        "id": "-jGo7OG8wWaz",
        "outputId": "a9dd3849-c461-4924-b514-b7670a505416"
      },
      "outputs": [
        {
          "output_type": "execute_result",
          "data": {
            "text/plain": [
              "                                                 tweet class_a\n",
              "0    3,000 is definitely a tad high Puerto Rico. Ho...     NOT\n",
              "1    #WCW #WCE @USER  It’s your special day of the ...     NOT\n",
              "2    #LisaxMichaelKors she is sooo talented, love h...     NOT\n",
              "3    @USER These seem to be coordinated attacks fro...     OFF\n",
              "4    #Trump is going to visit victims of #Hurricane...     NOT\n",
              "..                                                 ...     ...\n",
              "145  #Charlotte could see anywhere from 6 to 10” of...     NOT\n",
              "146  #MAGA Can you please share one positive action...     OFF\n",
              "147  #Conservatives might not be as informed as som...     OFF\n",
              "148  #CnnIsFakeNews @USER @USER, some people have c...     OFF\n",
              "149  #LiberalismIsAMentalDisorder It's essential to...     OFF\n",
              "\n",
              "[150 rows x 2 columns]"
            ],
            "text/html": [
              "\n",
              "  <div id=\"df-13e0c80c-8523-43f7-9e5c-080afa44641f\" class=\"colab-df-container\">\n",
              "    <div>\n",
              "<style scoped>\n",
              "    .dataframe tbody tr th:only-of-type {\n",
              "        vertical-align: middle;\n",
              "    }\n",
              "\n",
              "    .dataframe tbody tr th {\n",
              "        vertical-align: top;\n",
              "    }\n",
              "\n",
              "    .dataframe thead th {\n",
              "        text-align: right;\n",
              "    }\n",
              "</style>\n",
              "<table border=\"1\" class=\"dataframe\">\n",
              "  <thead>\n",
              "    <tr style=\"text-align: right;\">\n",
              "      <th></th>\n",
              "      <th>tweet</th>\n",
              "      <th>class_a</th>\n",
              "    </tr>\n",
              "  </thead>\n",
              "  <tbody>\n",
              "    <tr>\n",
              "      <th>0</th>\n",
              "      <td>3,000 is definitely a tad high Puerto Rico. Ho...</td>\n",
              "      <td>NOT</td>\n",
              "    </tr>\n",
              "    <tr>\n",
              "      <th>1</th>\n",
              "      <td>#WCW #WCE @USER  It’s your special day of the ...</td>\n",
              "      <td>NOT</td>\n",
              "    </tr>\n",
              "    <tr>\n",
              "      <th>2</th>\n",
              "      <td>#LisaxMichaelKors she is sooo talented, love h...</td>\n",
              "      <td>NOT</td>\n",
              "    </tr>\n",
              "    <tr>\n",
              "      <th>3</th>\n",
              "      <td>@USER These seem to be coordinated attacks fro...</td>\n",
              "      <td>OFF</td>\n",
              "    </tr>\n",
              "    <tr>\n",
              "      <th>4</th>\n",
              "      <td>#Trump is going to visit victims of #Hurricane...</td>\n",
              "      <td>NOT</td>\n",
              "    </tr>\n",
              "    <tr>\n",
              "      <th>...</th>\n",
              "      <td>...</td>\n",
              "      <td>...</td>\n",
              "    </tr>\n",
              "    <tr>\n",
              "      <th>145</th>\n",
              "      <td>#Charlotte could see anywhere from 6 to 10” of...</td>\n",
              "      <td>NOT</td>\n",
              "    </tr>\n",
              "    <tr>\n",
              "      <th>146</th>\n",
              "      <td>#MAGA Can you please share one positive action...</td>\n",
              "      <td>OFF</td>\n",
              "    </tr>\n",
              "    <tr>\n",
              "      <th>147</th>\n",
              "      <td>#Conservatives might not be as informed as som...</td>\n",
              "      <td>OFF</td>\n",
              "    </tr>\n",
              "    <tr>\n",
              "      <th>148</th>\n",
              "      <td>#CnnIsFakeNews @USER @USER, some people have c...</td>\n",
              "      <td>OFF</td>\n",
              "    </tr>\n",
              "    <tr>\n",
              "      <th>149</th>\n",
              "      <td>#LiberalismIsAMentalDisorder It's essential to...</td>\n",
              "      <td>OFF</td>\n",
              "    </tr>\n",
              "  </tbody>\n",
              "</table>\n",
              "<p>150 rows × 2 columns</p>\n",
              "</div>\n",
              "    <div class=\"colab-df-buttons\">\n",
              "\n",
              "  <div class=\"colab-df-container\">\n",
              "    <button class=\"colab-df-convert\" onclick=\"convertToInteractive('df-13e0c80c-8523-43f7-9e5c-080afa44641f')\"\n",
              "            title=\"Convert this dataframe to an interactive table.\"\n",
              "            style=\"display:none;\">\n",
              "\n",
              "  <svg xmlns=\"http://www.w3.org/2000/svg\" height=\"24px\" viewBox=\"0 -960 960 960\">\n",
              "    <path d=\"M120-120v-720h720v720H120Zm60-500h600v-160H180v160Zm220 220h160v-160H400v160Zm0 220h160v-160H400v160ZM180-400h160v-160H180v160Zm440 0h160v-160H620v160ZM180-180h160v-160H180v160Zm440 0h160v-160H620v160Z\"/>\n",
              "  </svg>\n",
              "    </button>\n",
              "\n",
              "  <style>\n",
              "    .colab-df-container {\n",
              "      display:flex;\n",
              "      gap: 12px;\n",
              "    }\n",
              "\n",
              "    .colab-df-convert {\n",
              "      background-color: #E8F0FE;\n",
              "      border: none;\n",
              "      border-radius: 50%;\n",
              "      cursor: pointer;\n",
              "      display: none;\n",
              "      fill: #1967D2;\n",
              "      height: 32px;\n",
              "      padding: 0 0 0 0;\n",
              "      width: 32px;\n",
              "    }\n",
              "\n",
              "    .colab-df-convert:hover {\n",
              "      background-color: #E2EBFA;\n",
              "      box-shadow: 0px 1px 2px rgba(60, 64, 67, 0.3), 0px 1px 3px 1px rgba(60, 64, 67, 0.15);\n",
              "      fill: #174EA6;\n",
              "    }\n",
              "\n",
              "    .colab-df-buttons div {\n",
              "      margin-bottom: 4px;\n",
              "    }\n",
              "\n",
              "    [theme=dark] .colab-df-convert {\n",
              "      background-color: #3B4455;\n",
              "      fill: #D2E3FC;\n",
              "    }\n",
              "\n",
              "    [theme=dark] .colab-df-convert:hover {\n",
              "      background-color: #434B5C;\n",
              "      box-shadow: 0px 1px 3px 1px rgba(0, 0, 0, 0.15);\n",
              "      filter: drop-shadow(0px 1px 2px rgba(0, 0, 0, 0.3));\n",
              "      fill: #FFFFFF;\n",
              "    }\n",
              "  </style>\n",
              "\n",
              "    <script>\n",
              "      const buttonEl =\n",
              "        document.querySelector('#df-13e0c80c-8523-43f7-9e5c-080afa44641f button.colab-df-convert');\n",
              "      buttonEl.style.display =\n",
              "        google.colab.kernel.accessAllowed ? 'block' : 'none';\n",
              "\n",
              "      async function convertToInteractive(key) {\n",
              "        const element = document.querySelector('#df-13e0c80c-8523-43f7-9e5c-080afa44641f');\n",
              "        const dataTable =\n",
              "          await google.colab.kernel.invokeFunction('convertToInteractive',\n",
              "                                                    [key], {});\n",
              "        if (!dataTable) return;\n",
              "\n",
              "        const docLinkHtml = 'Like what you see? Visit the ' +\n",
              "          '<a target=\"_blank\" href=https://colab.research.google.com/notebooks/data_table.ipynb>data table notebook</a>'\n",
              "          + ' to learn more about interactive tables.';\n",
              "        element.innerHTML = '';\n",
              "        dataTable['output_type'] = 'display_data';\n",
              "        await google.colab.output.renderOutput(dataTable, element);\n",
              "        const docLink = document.createElement('div');\n",
              "        docLink.innerHTML = docLinkHtml;\n",
              "        element.appendChild(docLink);\n",
              "      }\n",
              "    </script>\n",
              "  </div>\n",
              "\n",
              "\n",
              "<div id=\"df-7cedaa4d-fd7a-4dd8-8a40-c7b77532df74\">\n",
              "  <button class=\"colab-df-quickchart\" onclick=\"quickchart('df-7cedaa4d-fd7a-4dd8-8a40-c7b77532df74')\"\n",
              "            title=\"Suggest charts.\"\n",
              "            style=\"display:none;\">\n",
              "\n",
              "<svg xmlns=\"http://www.w3.org/2000/svg\" height=\"24px\"viewBox=\"0 0 24 24\"\n",
              "     width=\"24px\">\n",
              "    <g>\n",
              "        <path d=\"M19 3H5c-1.1 0-2 .9-2 2v14c0 1.1.9 2 2 2h14c1.1 0 2-.9 2-2V5c0-1.1-.9-2-2-2zM9 17H7v-7h2v7zm4 0h-2V7h2v10zm4 0h-2v-4h2v4z\"/>\n",
              "    </g>\n",
              "</svg>\n",
              "  </button>\n",
              "\n",
              "<style>\n",
              "  .colab-df-quickchart {\n",
              "    background-color: #E8F0FE;\n",
              "    border: none;\n",
              "    border-radius: 50%;\n",
              "    cursor: pointer;\n",
              "    display: none;\n",
              "    fill: #1967D2;\n",
              "    height: 32px;\n",
              "    padding: 0 0 0 0;\n",
              "    width: 32px;\n",
              "  }\n",
              "\n",
              "  .colab-df-quickchart:hover {\n",
              "    background-color: #E2EBFA;\n",
              "    box-shadow: 0px 1px 2px rgba(60, 64, 67, 0.3), 0px 1px 3px 1px rgba(60, 64, 67, 0.15);\n",
              "    fill: #174EA6;\n",
              "  }\n",
              "\n",
              "  [theme=dark] .colab-df-quickchart {\n",
              "    background-color: #3B4455;\n",
              "    fill: #D2E3FC;\n",
              "  }\n",
              "\n",
              "  [theme=dark] .colab-df-quickchart:hover {\n",
              "    background-color: #434B5C;\n",
              "    box-shadow: 0px 1px 3px 1px rgba(0, 0, 0, 0.15);\n",
              "    filter: drop-shadow(0px 1px 2px rgba(0, 0, 0, 0.3));\n",
              "    fill: #FFFFFF;\n",
              "  }\n",
              "</style>\n",
              "\n",
              "  <script>\n",
              "    async function quickchart(key) {\n",
              "      const charts = await google.colab.kernel.invokeFunction(\n",
              "          'suggestCharts', [key], {});\n",
              "    }\n",
              "    (() => {\n",
              "      let quickchartButtonEl =\n",
              "        document.querySelector('#df-7cedaa4d-fd7a-4dd8-8a40-c7b77532df74 button');\n",
              "      quickchartButtonEl.style.display =\n",
              "        google.colab.kernel.accessAllowed ? 'block' : 'none';\n",
              "    })();\n",
              "  </script>\n",
              "</div>\n",
              "    </div>\n",
              "  </div>\n"
            ]
          },
          "metadata": {},
          "execution_count": 198
        }
      ],
      "source": [
        "test_shuffled_df"
      ]
    },
    {
      "cell_type": "code",
      "execution_count": 199,
      "metadata": {
        "colab": {
          "base_uri": "https://localhost:8080/"
        },
        "id": "uUmardYCwWaz",
        "outputId": "c0f6ed9c-67f9-4217-c67a-7f07b3859f47"
      },
      "outputs": [
        {
          "output_type": "stream",
          "name": "stderr",
          "text": [
            "<ipython-input-10-58d0d99cd0a4>:9: FutureWarning: The default value of regex will change from True to False in a future version.\n",
            "  df.loc[:, 'tweet'] = df.tweet.str.replace('\\d+','') #Remove numbers\n",
            "<ipython-input-10-58d0d99cd0a4>:14: FutureWarning: The default value of regex will change from True to False in a future version. In addition, single character regular expressions will *not* be treated as literal strings when regex=True.\n",
            "  df.loc[:, 'tweet'] = df.tweet.str.replace(punctuation, '')\n"
          ]
        }
      ],
      "source": [
        "clean_tweets(test_shuffled_df)"
      ]
    },
    {
      "cell_type": "code",
      "execution_count": 200,
      "metadata": {
        "id": "pt4l9GFawWaz",
        "colab": {
          "base_uri": "https://localhost:8080/",
          "height": 206
        },
        "outputId": "b5714c18-c7df-44c2-f4e5-0e214c964b10"
      },
      "outputs": [
        {
          "output_type": "execute_result",
          "data": {
            "text/plain": [
              "                                               tweet class_a\n",
              "0  ' is definitely a tad high puerto rico how abo...     NOT\n",
              "1  'wcw wce   its your special day of the week ag...     NOT\n",
              "2  'lisaxmichaelkors she is sooo talented love hr...     NOT\n",
              "3  ' these seem to be coordinated attacks from in...     OFF\n",
              "4  'trump is going to visit victims of hurricanef...     NOT"
            ],
            "text/html": [
              "\n",
              "  <div id=\"df-67a17057-04a3-4962-a9ef-a9d05156a4fe\" class=\"colab-df-container\">\n",
              "    <div>\n",
              "<style scoped>\n",
              "    .dataframe tbody tr th:only-of-type {\n",
              "        vertical-align: middle;\n",
              "    }\n",
              "\n",
              "    .dataframe tbody tr th {\n",
              "        vertical-align: top;\n",
              "    }\n",
              "\n",
              "    .dataframe thead th {\n",
              "        text-align: right;\n",
              "    }\n",
              "</style>\n",
              "<table border=\"1\" class=\"dataframe\">\n",
              "  <thead>\n",
              "    <tr style=\"text-align: right;\">\n",
              "      <th></th>\n",
              "      <th>tweet</th>\n",
              "      <th>class_a</th>\n",
              "    </tr>\n",
              "  </thead>\n",
              "  <tbody>\n",
              "    <tr>\n",
              "      <th>0</th>\n",
              "      <td>' is definitely a tad high puerto rico how abo...</td>\n",
              "      <td>NOT</td>\n",
              "    </tr>\n",
              "    <tr>\n",
              "      <th>1</th>\n",
              "      <td>'wcw wce   its your special day of the week ag...</td>\n",
              "      <td>NOT</td>\n",
              "    </tr>\n",
              "    <tr>\n",
              "      <th>2</th>\n",
              "      <td>'lisaxmichaelkors she is sooo talented love hr...</td>\n",
              "      <td>NOT</td>\n",
              "    </tr>\n",
              "    <tr>\n",
              "      <th>3</th>\n",
              "      <td>' these seem to be coordinated attacks from in...</td>\n",
              "      <td>OFF</td>\n",
              "    </tr>\n",
              "    <tr>\n",
              "      <th>4</th>\n",
              "      <td>'trump is going to visit victims of hurricanef...</td>\n",
              "      <td>NOT</td>\n",
              "    </tr>\n",
              "  </tbody>\n",
              "</table>\n",
              "</div>\n",
              "    <div class=\"colab-df-buttons\">\n",
              "\n",
              "  <div class=\"colab-df-container\">\n",
              "    <button class=\"colab-df-convert\" onclick=\"convertToInteractive('df-67a17057-04a3-4962-a9ef-a9d05156a4fe')\"\n",
              "            title=\"Convert this dataframe to an interactive table.\"\n",
              "            style=\"display:none;\">\n",
              "\n",
              "  <svg xmlns=\"http://www.w3.org/2000/svg\" height=\"24px\" viewBox=\"0 -960 960 960\">\n",
              "    <path d=\"M120-120v-720h720v720H120Zm60-500h600v-160H180v160Zm220 220h160v-160H400v160Zm0 220h160v-160H400v160ZM180-400h160v-160H180v160Zm440 0h160v-160H620v160ZM180-180h160v-160H180v160Zm440 0h160v-160H620v160Z\"/>\n",
              "  </svg>\n",
              "    </button>\n",
              "\n",
              "  <style>\n",
              "    .colab-df-container {\n",
              "      display:flex;\n",
              "      gap: 12px;\n",
              "    }\n",
              "\n",
              "    .colab-df-convert {\n",
              "      background-color: #E8F0FE;\n",
              "      border: none;\n",
              "      border-radius: 50%;\n",
              "      cursor: pointer;\n",
              "      display: none;\n",
              "      fill: #1967D2;\n",
              "      height: 32px;\n",
              "      padding: 0 0 0 0;\n",
              "      width: 32px;\n",
              "    }\n",
              "\n",
              "    .colab-df-convert:hover {\n",
              "      background-color: #E2EBFA;\n",
              "      box-shadow: 0px 1px 2px rgba(60, 64, 67, 0.3), 0px 1px 3px 1px rgba(60, 64, 67, 0.15);\n",
              "      fill: #174EA6;\n",
              "    }\n",
              "\n",
              "    .colab-df-buttons div {\n",
              "      margin-bottom: 4px;\n",
              "    }\n",
              "\n",
              "    [theme=dark] .colab-df-convert {\n",
              "      background-color: #3B4455;\n",
              "      fill: #D2E3FC;\n",
              "    }\n",
              "\n",
              "    [theme=dark] .colab-df-convert:hover {\n",
              "      background-color: #434B5C;\n",
              "      box-shadow: 0px 1px 3px 1px rgba(0, 0, 0, 0.15);\n",
              "      filter: drop-shadow(0px 1px 2px rgba(0, 0, 0, 0.3));\n",
              "      fill: #FFFFFF;\n",
              "    }\n",
              "  </style>\n",
              "\n",
              "    <script>\n",
              "      const buttonEl =\n",
              "        document.querySelector('#df-67a17057-04a3-4962-a9ef-a9d05156a4fe button.colab-df-convert');\n",
              "      buttonEl.style.display =\n",
              "        google.colab.kernel.accessAllowed ? 'block' : 'none';\n",
              "\n",
              "      async function convertToInteractive(key) {\n",
              "        const element = document.querySelector('#df-67a17057-04a3-4962-a9ef-a9d05156a4fe');\n",
              "        const dataTable =\n",
              "          await google.colab.kernel.invokeFunction('convertToInteractive',\n",
              "                                                    [key], {});\n",
              "        if (!dataTable) return;\n",
              "\n",
              "        const docLinkHtml = 'Like what you see? Visit the ' +\n",
              "          '<a target=\"_blank\" href=https://colab.research.google.com/notebooks/data_table.ipynb>data table notebook</a>'\n",
              "          + ' to learn more about interactive tables.';\n",
              "        element.innerHTML = '';\n",
              "        dataTable['output_type'] = 'display_data';\n",
              "        await google.colab.output.renderOutput(dataTable, element);\n",
              "        const docLink = document.createElement('div');\n",
              "        docLink.innerHTML = docLinkHtml;\n",
              "        element.appendChild(docLink);\n",
              "      }\n",
              "    </script>\n",
              "  </div>\n",
              "\n",
              "\n",
              "<div id=\"df-b15af69c-211a-47d3-8e3c-6ba636028fe9\">\n",
              "  <button class=\"colab-df-quickchart\" onclick=\"quickchart('df-b15af69c-211a-47d3-8e3c-6ba636028fe9')\"\n",
              "            title=\"Suggest charts.\"\n",
              "            style=\"display:none;\">\n",
              "\n",
              "<svg xmlns=\"http://www.w3.org/2000/svg\" height=\"24px\"viewBox=\"0 0 24 24\"\n",
              "     width=\"24px\">\n",
              "    <g>\n",
              "        <path d=\"M19 3H5c-1.1 0-2 .9-2 2v14c0 1.1.9 2 2 2h14c1.1 0 2-.9 2-2V5c0-1.1-.9-2-2-2zM9 17H7v-7h2v7zm4 0h-2V7h2v10zm4 0h-2v-4h2v4z\"/>\n",
              "    </g>\n",
              "</svg>\n",
              "  </button>\n",
              "\n",
              "<style>\n",
              "  .colab-df-quickchart {\n",
              "    background-color: #E8F0FE;\n",
              "    border: none;\n",
              "    border-radius: 50%;\n",
              "    cursor: pointer;\n",
              "    display: none;\n",
              "    fill: #1967D2;\n",
              "    height: 32px;\n",
              "    padding: 0 0 0 0;\n",
              "    width: 32px;\n",
              "  }\n",
              "\n",
              "  .colab-df-quickchart:hover {\n",
              "    background-color: #E2EBFA;\n",
              "    box-shadow: 0px 1px 2px rgba(60, 64, 67, 0.3), 0px 1px 3px 1px rgba(60, 64, 67, 0.15);\n",
              "    fill: #174EA6;\n",
              "  }\n",
              "\n",
              "  [theme=dark] .colab-df-quickchart {\n",
              "    background-color: #3B4455;\n",
              "    fill: #D2E3FC;\n",
              "  }\n",
              "\n",
              "  [theme=dark] .colab-df-quickchart:hover {\n",
              "    background-color: #434B5C;\n",
              "    box-shadow: 0px 1px 3px 1px rgba(0, 0, 0, 0.15);\n",
              "    filter: drop-shadow(0px 1px 2px rgba(0, 0, 0, 0.3));\n",
              "    fill: #FFFFFF;\n",
              "  }\n",
              "</style>\n",
              "\n",
              "  <script>\n",
              "    async function quickchart(key) {\n",
              "      const charts = await google.colab.kernel.invokeFunction(\n",
              "          'suggestCharts', [key], {});\n",
              "    }\n",
              "    (() => {\n",
              "      let quickchartButtonEl =\n",
              "        document.querySelector('#df-b15af69c-211a-47d3-8e3c-6ba636028fe9 button');\n",
              "      quickchartButtonEl.style.display =\n",
              "        google.colab.kernel.accessAllowed ? 'block' : 'none';\n",
              "    })();\n",
              "  </script>\n",
              "</div>\n",
              "    </div>\n",
              "  </div>\n"
            ]
          },
          "metadata": {},
          "execution_count": 200
        }
      ],
      "source": [
        "\n",
        "test_shuffled_df.update(test_shuffled_df[['tweet']].applymap('\\'{}\\''.format))\n",
        "\n",
        "test_shuffled_df.head()"
      ]
    },
    {
      "cell_type": "code",
      "execution_count": 201,
      "metadata": {
        "id": "0JBesCKGwWa0"
      },
      "outputs": [],
      "source": [
        "\n",
        "test_shuffled_df[\"class_a_code\"] = encoder.fit_transform(test_shuffled_df[\"class_a\"])"
      ]
    },
    {
      "cell_type": "code",
      "execution_count": 202,
      "metadata": {
        "id": "H3BHtP9swWa0"
      },
      "outputs": [],
      "source": [
        "X_test_shuffled = test_shuffled_df['tweet']\n",
        "y_test_shuffled = test_shuffled_df['class_a_code']"
      ]
    },
    {
      "cell_type": "code",
      "execution_count": 203,
      "metadata": {
        "colab": {
          "base_uri": "https://localhost:8080/"
        },
        "id": "z3j4jQYywWa0",
        "outputId": "838e91e5-ee7d-48cf-b240-3d627f127448"
      },
      "outputs": [
        {
          "output_type": "execute_result",
          "data": {
            "text/plain": [
              "0      ' is definitely a tad high puerto rico how abo...\n",
              "1      'wcw wce   its your special day of the week ag...\n",
              "2      'lisaxmichaelkors she is sooo talented love hr...\n",
              "3      ' these seem to be coordinated attacks from in...\n",
              "4      'trump is going to visit victims of hurricanef...\n",
              "                             ...                        \n",
              "145    'charlotte could see anywhere from  to  of rai...\n",
              "146    'maga can you please share one positive action...\n",
              "147    'conservatives might not be as informed as som...\n",
              "148    'cnnisfakenews   some people have concerns abo...\n",
              "149    'liberalismisamentaldisorder its essential to ...\n",
              "Name: tweet, Length: 150, dtype: object"
            ]
          },
          "metadata": {},
          "execution_count": 203
        }
      ],
      "source": [
        "X_test_shuffled"
      ]
    },
    {
      "cell_type": "code",
      "execution_count": 204,
      "metadata": {
        "colab": {
          "base_uri": "https://localhost:8080/"
        },
        "id": "S4Oex-HSwWa0",
        "outputId": "41e71ccd-b2df-43b5-ab72-6af48cbdc1e8"
      },
      "outputs": [
        {
          "output_type": "execute_result",
          "data": {
            "text/plain": [
              "0      0\n",
              "1      0\n",
              "2      0\n",
              "3      1\n",
              "4      0\n",
              "      ..\n",
              "145    0\n",
              "146    1\n",
              "147    1\n",
              "148    1\n",
              "149    1\n",
              "Name: class_a_code, Length: 150, dtype: int64"
            ]
          },
          "metadata": {},
          "execution_count": 204
        }
      ],
      "source": [
        "y_test_shuffled"
      ]
    },
    {
      "cell_type": "code",
      "execution_count": 205,
      "metadata": {
        "id": "Rco9fWTVwWa0"
      },
      "outputs": [],
      "source": [
        "encoder = LabelEncoder()\n",
        "train_labels = encoder.fit_transform(y_train)\n",
        "\n",
        "test_labels_shuffled = encoder.transform(y_test_shuffled)"
      ]
    },
    {
      "cell_type": "code",
      "execution_count": 206,
      "metadata": {
        "id": "X02y9B_0wWa0"
      },
      "outputs": [],
      "source": [
        "test_encodings_shuffled = tokenizer(list(X_test_shuffled), truncation=True, padding=True, max_length=256)"
      ]
    },
    {
      "cell_type": "code",
      "execution_count": 207,
      "metadata": {
        "id": "pNzAcN_rwWa0"
      },
      "outputs": [],
      "source": [
        "test_dataset_shuffled = tf.data.Dataset.from_tensor_slices((\n",
        "    dict(test_encodings_shuffled),\n",
        "    test_labels_shuffled\n",
        ")).batch(16)"
      ]
    },
    {
      "cell_type": "code",
      "execution_count": 208,
      "metadata": {
        "colab": {
          "base_uri": "https://localhost:8080/"
        },
        "id": "j7-J7kjcwWa0",
        "outputId": "23994119-e4d8-4103-cd60-be4e188573d9"
      },
      "outputs": [
        {
          "output_type": "stream",
          "name": "stdout",
          "text": [
            "10/10 [==============================] - 1s 90ms/step\n"
          ]
        }
      ],
      "source": [
        "\n",
        "# Get the model predictions\n",
        "predictions = tf.argmax(model.predict(test_dataset_shuffled)[0], axis=-1)\n"
      ]
    },
    {
      "cell_type": "code",
      "execution_count": 209,
      "metadata": {
        "colab": {
          "base_uri": "https://localhost:8080/"
        },
        "id": "QwJYr7LuwWa0",
        "outputId": "46b07914-04e5-4c97-ffa1-ed6d255a4e54"
      },
      "outputs": [
        {
          "output_type": "stream",
          "name": "stdout",
          "text": [
            "              precision    recall  f1-score   support\n",
            "\n",
            "           0     0.6471    0.8800    0.7458       100\n",
            "           1     0.1429    0.0400    0.0625        50\n",
            "\n",
            "    accuracy                         0.6000       150\n",
            "   macro avg     0.3950    0.4600    0.4041       150\n",
            "weighted avg     0.4790    0.6000    0.5180       150\n",
            "\n"
          ]
        }
      ],
      "source": [
        "# Decode the label numbers back into original labels\n",
        "y_test_inverse_shuffled = encoder.inverse_transform(y_test_shuffled)\n",
        "predictions_inverse_shuffled = encoder.inverse_transform(predictions.numpy())\n",
        "\n",
        "# Generate the classification report\n",
        "report_gpt3 = classification_report(y_test_inverse_shuffled, predictions_inverse_shuffled,\n",
        "                               target_names=encoder.classes_.astype(str),digits =4)\n",
        "print(report_gpt3)"
      ]
    },
    {
      "cell_type": "markdown",
      "metadata": {
        "id": "xX6u9v9kwWa0"
      },
      "source": [
        "# ChatGPT 3 with rephrasing (150)\n"
      ]
    },
    {
      "cell_type": "code",
      "source": [
        "index_new2 = [308, 216, 732, 376, 382, 339, 47, 99, 797, 282, 228, 362, 701, 480, 115, 136, 77, 51, 681, 749, 389, 260, 258, 100, 233, 554, 810, 483, 614, 778, 107, 613, 175, 307, 634, 313, 182, 154, 855, 352, 853, 323, 40, 38, 531, 135, 281, 737, 823, 413]"
      ],
      "metadata": {
        "id": "zmmwFkSO-x0m"
      },
      "execution_count": 210,
      "outputs": []
    },
    {
      "cell_type": "code",
      "source": [
        "test_tweet_off_new = off_new.loc[index_new2]"
      ],
      "metadata": {
        "id": "cNIc_jQsR096"
      },
      "execution_count": 211,
      "outputs": []
    },
    {
      "cell_type": "code",
      "execution_count": 212,
      "metadata": {
        "colab": {
          "base_uri": "https://localhost:8080/",
          "height": 35
        },
        "id": "noN_i8tAwWa0",
        "outputId": "bfbe6e72-4bca-412a-91f6-8c6237adf299"
      },
      "outputs": [
        {
          "output_type": "execute_result",
          "data": {
            "text/plain": [
              "'#Antifa is recruiting for a designated #terrorist organization URL'"
            ],
            "application/vnd.google.colaboratory.intrinsic+json": {
              "type": "string"
            }
          },
          "metadata": {},
          "execution_count": 212
        }
      ],
      "source": [
        "test_tweet_off_new['tweet'][413]"
      ]
    },
    {
      "cell_type": "code",
      "execution_count": 213,
      "metadata": {
        "id": "XzSy7x53wWa0"
      },
      "outputs": [],
      "source": [
        "test_tweet_off_new['tweet'][308] = \"Alright, let's consider the situation. It's true that some players have scored 15+ goals in Eredivisie, but some might argue that it's not the most challenging league. On the other hand, Bundesliga teams have proven to be competitive in European competitions. As for Mexican talent, it's been some time since someone like Pulisic emerged. Nevertheless, there's always hope for the future, and who knows, Mexico might produce exceptional talents in due time.\""
      ]
    },
    {
      "cell_type": "code",
      "execution_count": 214,
      "metadata": {
        "id": "-SQAxPqSwWa0"
      },
      "outputs": [],
      "source": [
        "test_tweet_off_new['tweet'][216] =\"It seems like both males and females are dealing with similar situations, and that's something to consider. The URL might be a shared experience for both genders.\""
      ]
    },
    {
      "cell_type": "code",
      "execution_count": 215,
      "metadata": {
        "id": "6LXInilMwWa0"
      },
      "outputs": [],
      "source": [
        "test_tweet_off_new['tweet'][732] = \"Addressing the topic of #LiberalHypocrisy and #TacoBell, some individuals question why others are against illegal immigration. They mention an incident involving a Taco Bell employee responding with 'No Habla Ingles!' when asked.\""
      ]
    },
    {
      "cell_type": "code",
      "execution_count": 216,
      "metadata": {
        "id": "zjji-AwkwWa0"
      },
      "outputs": [],
      "source": [
        "test_tweet_off_new['tweet'][376]  =\"It's been an incredible seven years! #MyTwitterAnniversary URL\""
      ]
    },
    {
      "cell_type": "code",
      "execution_count": 217,
      "metadata": {
        "id": "OMDJDA8NwWa0"
      },
      "outputs": [],
      "source": [
        "test_tweet_off_new['tweet'][382] =\"The situation surrounding #ChristineBlaseyFord has drawn attention, and some suggest that she is facing harassment from certain groups. They point to the involvement of Antifa, seen as the radical arm of the Democratic Party, allegedly backed by George Soros. The hashtag #VoteRedToSaveAmerica is being used in this context.\""
      ]
    },
    {
      "cell_type": "code",
      "execution_count": 218,
      "metadata": {
        "id": "vMOcu2NxwWa0"
      },
      "outputs": [],
      "source": [
        "test_tweet_off_new['tweet'][339] =\"On #ConstitutionDay, there's an interesting contrast between some conservative members of the alt-right who criticize efforts for #GunControlNow, accusing it of damaging the Constitution, while expressing concerns about non-White foreigners seeking to live in this country. The situation sparks debate on constitutional interpretations and immigration policies.\""
      ]
    },
    {
      "cell_type": "code",
      "execution_count": 219,
      "metadata": {
        "id": "qW8gTvLmwWa1"
      },
      "outputs": [],
      "source": [
        "test_tweet_off_new['tweet'][47] =\"#Conservatives, it's disheartening to witness such disrespectful interactions like the one with @USER. URL\""
      ]
    },
    {
      "cell_type": "code",
      "execution_count": 220,
      "metadata": {
        "id": "qUUjOR5gwWa1"
      },
      "outputs": [],
      "source": [
        "test_tweet_off_new['tweet'][99]  =\"Some people find #SerenaWilliams to be overly confident, making it challenging to enjoy both watching her play and listening to her speak.\""
      ]
    },
    {
      "cell_type": "code",
      "execution_count": 221,
      "metadata": {
        "id": "fOehRqsgwWa1"
      },
      "outputs": [],
      "source": [
        "test_tweet_off_new['tweet'][797] =\"If you want to encourage people to leave your home, perhaps you could try using humor or lighthearted jokes, like pretending to be a vampire, without causing harm or discomfort. It's essential to find a friendly and non-threatening way to address the situation.\""
      ]
    },
    {
      "cell_type": "code",
      "execution_count": 222,
      "metadata": {
        "id": "uR4BPl1NwWa1"
      },
      "outputs": [],
      "source": [
        "test_tweet_off_new['tweet'][282] = \"The ongoing #CrowderConfronts series continues to demonstrate that when conservatives respond with truth and facts, the so-called SJW bullies appear less intimidating and substantial. It encourages others not to be afraid and emphasizes the importance of confronting issues with honesty and evidence. URL\""
      ]
    },
    {
      "cell_type": "code",
      "execution_count": 223,
      "metadata": {
        "id": "8dOsFP3iwWa1"
      },
      "outputs": [],
      "source": [
        "test_tweet_off_new['tweet'][228] =\"'#CarbonTax proves effective and promises to significantly increase money in the pockets of Canadians. .@USER .@USER .@USER .@USER Back in 2015, part of Trudeau's successful campaign was centered around a national carbon tax, which played a role in the Conservative party's defeat. They face a similar challenge in 2019, and some are determined to ensure their loss once again. URL'\""
      ]
    },
    {
      "cell_type": "code",
      "execution_count": 224,
      "metadata": {
        "id": "sIwWGUxzwWa1"
      },
      "outputs": [],
      "source": [
        "test_tweet_off_new['tweet'][362] =\"'#Repost theleadersmindset • • • 📍Hello Leaders!🔥 ✔️Type 'READY' if you are prepared to embrace these steps. - 'Set goals, keep them to yourself, crush them with determination, celebrate your successes… URL'\""
      ]
    },
    {
      "cell_type": "code",
      "execution_count": 225,
      "metadata": {
        "id": "w7OUmHG7wWa1"
      },
      "outputs": [],
      "source": [
        "test_tweet_off_new['tweet'][701] =\"'@USER nigga are you stupid your trash dont play with him play with your bitch 😂'\""
      ]
    },
    {
      "cell_type": "code",
      "execution_count": 226,
      "metadata": {
        "id": "Eclv4CO3wWa1"
      },
      "outputs": [],
      "source": [
        "test_tweet_off_new['tweet'][480] =\"#FailedDemFeinstein's continued presence in politics is questionable, and some believe she should have stepped down years ago. Her recent actions, like blaming the GOP in the Kavanaugh accuser situation while admitting uncertainty about the truthfulness, add to her perceived disgrace. URL\""
      ]
    },
    {
      "cell_type": "code",
      "execution_count": 227,
      "metadata": {
        "id": "iBfZLQgYwWa1"
      },
      "outputs": [],
      "source": [
        "test_tweet_off_new['tweet'][115] =\"#Conservatives Govt ' @USER caused immense hardship': whistleblowers report being threatened by a regulator; Weren't they supposed to safeguard whistleblowers? URL\""
      ]
    },
    {
      "cell_type": "code",
      "execution_count": 228,
      "metadata": {
        "id": "CzuTWcrcwWa1"
      },
      "outputs": [],
      "source": [
        "test_tweet_off_new['tweet'][136] =\"@USER #WalkAwayFromAllDemocrats Michelle had her 8 years, and many believe we don't need more of her advice. We now have a new Sheriff in Town who's #MAGA. It's crucial for everyone, regardless of color or gender (AKA all Americans), to get out and VOTE! URL\""
      ]
    },
    {
      "cell_type": "code",
      "execution_count": 229,
      "metadata": {
        "id": "b8nM0qUnwWa1"
      },
      "outputs": [],
      "source": [
        "test_tweet_off_new['tweet'][77] =\"#ANTIFA is seen as allied with The Democratic Socialists of America (DSA), whom #JamesOKeefe has revealed as having infiltrated various government positions with the aim of undermining #America. #Trump #MAGA🇺🇸 #DeepState URL\""
      ]
    },
    {
      "cell_type": "code",
      "execution_count": 230,
      "metadata": {
        "id": "__f417zVwWa1"
      },
      "outputs": [],
      "source": [
        "test_tweet_off_new['tweet'][51] =\"'#Kids Beating #Paraplegic #Trump #Boy!  #Left Teach Their #Children Hate Violence!  #schools #teachers #Democrats #Liberals #WalkAway #Moms #Mother #NEA #teachthemyoung #Christian #Catholic #Jews #Evangelicals #family #BlackWomen #BlackTwitter #Blacks #News #Media #Disabled #MAGA URL'\""
      ]
    },
    {
      "cell_type": "code",
      "execution_count": 231,
      "metadata": {
        "id": "9xZgfucowWa1"
      },
      "outputs": [],
      "source": [
        "test_tweet_off_new['tweet'][681] =\"Can you believe it? A hundred rounds! Goon, you must be kidding me! 🤣\""
      ]
    },
    {
      "cell_type": "code",
      "execution_count": 232,
      "metadata": {
        "id": "gbM-uyoHwWa1"
      },
      "outputs": [],
      "source": [
        "test_tweet_off_new['tweet'][749] =\"#Antifa plans to counter the fascist NVU in #Amsterdam on September 22. URL\""
      ]
    },
    {
      "cell_type": "code",
      "execution_count": 233,
      "metadata": {
        "id": "Y9u-8l1SwWa1"
      },
      "outputs": [],
      "source": [
        "test_tweet_off_new['tweet'][389] =\"50 Cent addresses Joe Budden's actions on Instagram, calling them out as 'bullshit.' URL URL\""
      ]
    },
    {
      "cell_type": "code",
      "execution_count": 234,
      "metadata": {
        "id": "f3WTNYvowWa1"
      },
      "outputs": [],
      "source": [
        "test_tweet_off_new['tweet'][260] =\"#Liberals are resorting to extreme measures, urging #PhillipRuddock to communicate with #Turnbull and persuade him to assist with #WentworthVotes on 18 Sept 2018. @USER #Auspol #LNP #NSWpol @USER @USER @USER #LNPMemes URL\""
      ]
    },
    {
      "cell_type": "code",
      "execution_count": 235,
      "metadata": {
        "id": "psylmG2bwWa1"
      },
      "outputs": [],
      "source": [
        "test_tweet_off_new['tweet'][258] =\"'#CincinnatiEnquirer finally addresses #GunControl following a tragic #MassShooting right on their doorstep. It took this event for their editors to wake up, but better late than never. URL'\""
      ]
    },
    {
      "cell_type": "code",
      "execution_count": 236,
      "metadata": {
        "id": "d4CMuLS8wWa1"
      },
      "outputs": [],
      "source": [
        "test_tweet_off_new['tweet'][100] =\"Regarding #ColinKaepernick, some people believe he has been unproductive and merely voicing complaints. They think it's time for both black individuals and passionate white liberals, including @USER, to become more aware or stop making noise about the cause. They see Colin as not fitting the role of a Civil Rights hero or martyr by any means.\""
      ]
    },
    {
      "cell_type": "code",
      "execution_count": 237,
      "metadata": {
        "id": "YKkrMVMwwWa1"
      },
      "outputs": [],
      "source": [
        "test_tweet_off_new['tweet'][233] =\"During #TheView, Stormy Daniels found herself in a difficult situation with a dollar bill in her face, highlighting the challenges faced by adult film stars. The post also seems to allude to her involvement with the Democratic Party.\""
      ]
    },
    {
      "cell_type": "code",
      "execution_count": 238,
      "metadata": {
        "id": "fXcB6ATnwWa1"
      },
      "outputs": [],
      "source": [
        "test_tweet_off_new['tweet'][554] = \"#DavidMiliband relocated to #NewYork to align with #US #Liberals #Democrats, seeking a departure from the hostility towards Jews by #Corbynists.\""
      ]
    },
    {
      "cell_type": "code",
      "execution_count": 239,
      "metadata": {
        "id": "tnMPTrYfwWa2"
      },
      "outputs": [],
      "source": [
        "test_tweet_off_new['tweet'][810] =\"'#BCOG @USER portrays a cool, confident, and assertive character who is highly skilled and successful! @USER @USER @USER URL'\""
      ]
    },
    {
      "cell_type": "code",
      "execution_count": 240,
      "metadata": {
        "id": "cn9Vo8BHwWa2"
      },
      "outputs": [],
      "source": [
        "test_tweet_off_new['tweet'][483] =\"'@USER @USER @USER Your meme suggests that both Fascism and Antifa were opposed to liberals.'\""
      ]
    },
    {
      "cell_type": "code",
      "execution_count": 241,
      "metadata": {
        "id": "KzOYm_0UwWa2"
      },
      "outputs": [],
      "source": [
        "test_tweet_off_new['tweet'][614] =\"@USER @USER I plan to use that argument in future discussions on gun control, free speech, or taxes. It's essential to promote responsibility, and that's what I advocate for. There's nothing right about justifying murder by denying the life of another or claiming it as a right.\""
      ]
    },
    {
      "cell_type": "code",
      "execution_count": 242,
      "metadata": {
        "id": "hgMkLPI1wWa2"
      },
      "outputs": [],
      "source": [
        "test_tweet_off_new['tweet'][778] =\"It appears that a #BREXIT deal has been reached and will be presented at a special summit in November. The question raised is whether @USER has compromised the #UK's position with the EU. People are concerned, hoping that there hasn't been a sellout, as it could have significant consequences for @USER. URL\""
      ]
    },
    {
      "cell_type": "code",
      "execution_count": 243,
      "metadata": {
        "id": "PfFe6ok4wWa2"
      },
      "outputs": [],
      "source": [
        "test_tweet_off_new['tweet'][107] =\"Jeff Sessions suggests that listening to groups like the ACLU, Antifa, and Black Lives Matter could result in an increase in Chicago shootings. URL\""
      ]
    },
    {
      "cell_type": "code",
      "execution_count": 244,
      "metadata": {
        "id": "-sG2rZ0UwWa2"
      },
      "outputs": [],
      "source": [
        "test_tweet_off_new['tweet'][613] =\"Lost my acca on the first fight, 0-1. So frustrating.\""
      ]
    },
    {
      "cell_type": "code",
      "execution_count": 245,
      "metadata": {
        "id": "o_ACDHijwWa2"
      },
      "outputs": [],
      "source": [
        "test_tweet_off_new['tweet'][307] =\"#1 son, hitting it out of the park! URL\""
      ]
    },
    {
      "cell_type": "code",
      "execution_count": 246,
      "metadata": {
        "id": "4vBrtJeBwWa2"
      },
      "outputs": [],
      "source": [
        "test_tweet_off_new['tweet'][313]  = \"@USER @USER @USER Many believe she is the most disingenuous person in the Senate. If she were my Senator, I would feel ashamed due to her despicable behavior in the SCOTUS hearings.\""
      ]
    },
    {
      "cell_type": "code",
      "execution_count": 247,
      "metadata": {
        "id": "dC8IPuFBwWa2"
      },
      "outputs": [],
      "source": [
        "test_tweet_off_new['tweet'][182] = \"#ArunJaitleyStepDown is trending, with many expressing strong criticism towards him. They consider him the most shameless Finance Minister in the history of India, and his audacity to lie in public is viewed as a disgrace to his position.\""
      ]
    },
    {
      "cell_type": "code",
      "execution_count": 248,
      "metadata": {
        "id": "BQoX9owMwWa2"
      },
      "outputs": [],
      "source": [
        "test_tweet_off_new['tweet'][154] =\"#GOP still appearing hesitant, and some view them as lacking courage. It seems they haven't realized that Liberals will oppose them no matter what they say. Some believe Republicans are either struggling to make strategic decisions or have shifted too far left. #ConfirmKavanaughNow\""
      ]
    },
    {
      "cell_type": "code",
      "execution_count": 249,
      "metadata": {
        "id": "XBzGCpnlwWa2"
      },
      "outputs": [],
      "source": [
        "test_tweet_off_new['tweet'][855] = \"'#DespicableDems are accused of spreading misinformation about rifles. Some claim that Democrats manipulated the law to advocate for gun control during the Kavanaugh confirmation. URL via @USER'\""
      ]
    },
    {
      "cell_type": "code",
      "execution_count": 250,
      "metadata": {
        "id": "s2fvZ5duwWa2"
      },
      "outputs": [],
      "source": [
        "test_tweet_off_new['tweet'][352] = \"'#OrrinHatch's involvement in another woman's charges against a Supreme Court nominee has sparked strong criticism. Some view him as sexist, clueless, and outdated, drawing comparisons to his past behavior during the Anita Hill case. They believe it's time for him to step aside. Good riddance to this Neanderthal!'\""
      ]
    },
    {
      "cell_type": "code",
      "execution_count": 251,
      "metadata": {
        "id": "4QdpWq4KwWa2"
      },
      "outputs": [],
      "source": [
        "test_tweet_off_new['tweet'][853] =\"Both of them have an unpleasant taste. URL\""
      ]
    },
    {
      "cell_type": "code",
      "execution_count": 252,
      "metadata": {
        "id": "zqZ39VoswWa2"
      },
      "outputs": [],
      "source": [
        "test_tweet_off_new['tweet'][323] = \"#AVALANCHE, I apologize! I acknowledge your presence, and I care about you! I regret my previous behavior and acknowledge that we all make mistakes. #maga\""
      ]
    },
    {
      "cell_type": "code",
      "execution_count": 253,
      "metadata": {
        "id": "jAyt6fG5wWa2"
      },
      "outputs": [],
      "source": [
        "test_tweet_off_new['tweet'][38] = \"#ArianaAsesina? Seriously?! Please, let's not jump to conclusions and spread hate. She's already going through a tough time, and pointing fingers won't help. It was an overdose, and blaming others won't change the tragic outcome. Let's stop seeking someone to blame, and instead, show empathy and support.\"\n",
        "\n"
      ]
    },
    {
      "cell_type": "code",
      "execution_count": 254,
      "metadata": {
        "id": "JaH2MtS8wWa2"
      },
      "outputs": [],
      "source": [
        "test_tweet_off_new['tweet'][531] = \"@USER, it's widely known that a genuine leader doesn't stumble or fall like a sack of potatoes into a van...\""
      ]
    },
    {
      "cell_type": "code",
      "execution_count": 255,
      "metadata": {
        "id": "LW4rEgp5wWa2"
      },
      "outputs": [],
      "source": [
        "test_tweet_off_new['tweet'][135] = \"'#BoycottNFL, I have decided to no longer support you. You have lost my loyalty. @USER @USER URL'\""
      ]
    },
    {
      "cell_type": "code",
      "execution_count": 256,
      "metadata": {
        "id": "4saVcuQhwWa2"
      },
      "outputs": [],
      "source": [
        "test_tweet_off_new['tweet'][281]  = \"'#Conservatives Govt has accumulated debt despite implementing austerity cuts, and during this time, the wealth of the rich has doubled. This highlights the issue of #inequality. URL via @USER'\""
      ]
    },
    {
      "cell_type": "code",
      "execution_count": 257,
      "metadata": {
        "id": "3aUE0vCowWa2"
      },
      "outputs": [],
      "source": [
        "test_tweet_off_new['tweet'][413] = \"'#Antifa is actively seeking new members for what some perceive as a designated #terrorist organization. URL'\""
      ]
    },
    {
      "cell_type": "code",
      "execution_count": null,
      "metadata": {
        "id": "hViKmnvCwWa2"
      },
      "outputs": [],
      "source": [
        "\n"
      ]
    },
    {
      "cell_type": "code",
      "execution_count": 258,
      "metadata": {
        "id": "FMOxQQ1zwWa3"
      },
      "outputs": [],
      "source": [
        "\n",
        "merged_df_02 = pd.concat([test_tweet_not_new, test_tweet_off_new], ignore_index=True)\n",
        "\n",
        "# Shuffle the index\n",
        "test_02_df = merged_df_02.sample(frac=1,random_state=42).reset_index(drop=True)"
      ]
    },
    {
      "cell_type": "code",
      "execution_count": 259,
      "metadata": {
        "colab": {
          "base_uri": "https://localhost:8080/",
          "height": 424
        },
        "id": "QIoOpHoywWa3",
        "outputId": "8c95aab0-5e55-47e7-a4d1-a344b5940989"
      },
      "outputs": [
        {
          "output_type": "execute_result",
          "data": {
            "text/plain": [
              "                                                 tweet class_a\n",
              "0    #Florencehurricane 72 HOURS OF SUSTAINED LETHA...     NOT\n",
              "1    #Angel_Dad: If Lawmakers Really Cared About Ci...     NOT\n",
              "2    Can you believe it? A hundred rounds! Goon, yo...     OFF\n",
              "3    #TheNunMovie was just as scary as I thought it...     NOT\n",
              "4    @USER #Google as a fellow Goggler I must say e...     NOT\n",
              "..                                                 ...     ...\n",
              "145  #KamalaHarris may run for President in 2020, b...     NOT\n",
              "146  #Conservatives, it's disheartening to witness ...     OFF\n",
              "147  #FridayNightFun!!   With Halloween events star...     NOT\n",
              "148  @USER #GoodbyeNFL 👋 It was great before your p...     NOT\n",
              "149  Addressing the topic of #LiberalHypocrisy and ...     OFF\n",
              "\n",
              "[150 rows x 2 columns]"
            ],
            "text/html": [
              "\n",
              "  <div id=\"df-e57ef4a9-6446-41ed-9c8b-bc7663d3255d\" class=\"colab-df-container\">\n",
              "    <div>\n",
              "<style scoped>\n",
              "    .dataframe tbody tr th:only-of-type {\n",
              "        vertical-align: middle;\n",
              "    }\n",
              "\n",
              "    .dataframe tbody tr th {\n",
              "        vertical-align: top;\n",
              "    }\n",
              "\n",
              "    .dataframe thead th {\n",
              "        text-align: right;\n",
              "    }\n",
              "</style>\n",
              "<table border=\"1\" class=\"dataframe\">\n",
              "  <thead>\n",
              "    <tr style=\"text-align: right;\">\n",
              "      <th></th>\n",
              "      <th>tweet</th>\n",
              "      <th>class_a</th>\n",
              "    </tr>\n",
              "  </thead>\n",
              "  <tbody>\n",
              "    <tr>\n",
              "      <th>0</th>\n",
              "      <td>#Florencehurricane 72 HOURS OF SUSTAINED LETHA...</td>\n",
              "      <td>NOT</td>\n",
              "    </tr>\n",
              "    <tr>\n",
              "      <th>1</th>\n",
              "      <td>#Angel_Dad: If Lawmakers Really Cared About Ci...</td>\n",
              "      <td>NOT</td>\n",
              "    </tr>\n",
              "    <tr>\n",
              "      <th>2</th>\n",
              "      <td>Can you believe it? A hundred rounds! Goon, yo...</td>\n",
              "      <td>OFF</td>\n",
              "    </tr>\n",
              "    <tr>\n",
              "      <th>3</th>\n",
              "      <td>#TheNunMovie was just as scary as I thought it...</td>\n",
              "      <td>NOT</td>\n",
              "    </tr>\n",
              "    <tr>\n",
              "      <th>4</th>\n",
              "      <td>@USER #Google as a fellow Goggler I must say e...</td>\n",
              "      <td>NOT</td>\n",
              "    </tr>\n",
              "    <tr>\n",
              "      <th>...</th>\n",
              "      <td>...</td>\n",
              "      <td>...</td>\n",
              "    </tr>\n",
              "    <tr>\n",
              "      <th>145</th>\n",
              "      <td>#KamalaHarris may run for President in 2020, b...</td>\n",
              "      <td>NOT</td>\n",
              "    </tr>\n",
              "    <tr>\n",
              "      <th>146</th>\n",
              "      <td>#Conservatives, it's disheartening to witness ...</td>\n",
              "      <td>OFF</td>\n",
              "    </tr>\n",
              "    <tr>\n",
              "      <th>147</th>\n",
              "      <td>#FridayNightFun!!   With Halloween events star...</td>\n",
              "      <td>NOT</td>\n",
              "    </tr>\n",
              "    <tr>\n",
              "      <th>148</th>\n",
              "      <td>@USER #GoodbyeNFL 👋 It was great before your p...</td>\n",
              "      <td>NOT</td>\n",
              "    </tr>\n",
              "    <tr>\n",
              "      <th>149</th>\n",
              "      <td>Addressing the topic of #LiberalHypocrisy and ...</td>\n",
              "      <td>OFF</td>\n",
              "    </tr>\n",
              "  </tbody>\n",
              "</table>\n",
              "<p>150 rows × 2 columns</p>\n",
              "</div>\n",
              "    <div class=\"colab-df-buttons\">\n",
              "\n",
              "  <div class=\"colab-df-container\">\n",
              "    <button class=\"colab-df-convert\" onclick=\"convertToInteractive('df-e57ef4a9-6446-41ed-9c8b-bc7663d3255d')\"\n",
              "            title=\"Convert this dataframe to an interactive table.\"\n",
              "            style=\"display:none;\">\n",
              "\n",
              "  <svg xmlns=\"http://www.w3.org/2000/svg\" height=\"24px\" viewBox=\"0 -960 960 960\">\n",
              "    <path d=\"M120-120v-720h720v720H120Zm60-500h600v-160H180v160Zm220 220h160v-160H400v160Zm0 220h160v-160H400v160ZM180-400h160v-160H180v160Zm440 0h160v-160H620v160ZM180-180h160v-160H180v160Zm440 0h160v-160H620v160Z\"/>\n",
              "  </svg>\n",
              "    </button>\n",
              "\n",
              "  <style>\n",
              "    .colab-df-container {\n",
              "      display:flex;\n",
              "      gap: 12px;\n",
              "    }\n",
              "\n",
              "    .colab-df-convert {\n",
              "      background-color: #E8F0FE;\n",
              "      border: none;\n",
              "      border-radius: 50%;\n",
              "      cursor: pointer;\n",
              "      display: none;\n",
              "      fill: #1967D2;\n",
              "      height: 32px;\n",
              "      padding: 0 0 0 0;\n",
              "      width: 32px;\n",
              "    }\n",
              "\n",
              "    .colab-df-convert:hover {\n",
              "      background-color: #E2EBFA;\n",
              "      box-shadow: 0px 1px 2px rgba(60, 64, 67, 0.3), 0px 1px 3px 1px rgba(60, 64, 67, 0.15);\n",
              "      fill: #174EA6;\n",
              "    }\n",
              "\n",
              "    .colab-df-buttons div {\n",
              "      margin-bottom: 4px;\n",
              "    }\n",
              "\n",
              "    [theme=dark] .colab-df-convert {\n",
              "      background-color: #3B4455;\n",
              "      fill: #D2E3FC;\n",
              "    }\n",
              "\n",
              "    [theme=dark] .colab-df-convert:hover {\n",
              "      background-color: #434B5C;\n",
              "      box-shadow: 0px 1px 3px 1px rgba(0, 0, 0, 0.15);\n",
              "      filter: drop-shadow(0px 1px 2px rgba(0, 0, 0, 0.3));\n",
              "      fill: #FFFFFF;\n",
              "    }\n",
              "  </style>\n",
              "\n",
              "    <script>\n",
              "      const buttonEl =\n",
              "        document.querySelector('#df-e57ef4a9-6446-41ed-9c8b-bc7663d3255d button.colab-df-convert');\n",
              "      buttonEl.style.display =\n",
              "        google.colab.kernel.accessAllowed ? 'block' : 'none';\n",
              "\n",
              "      async function convertToInteractive(key) {\n",
              "        const element = document.querySelector('#df-e57ef4a9-6446-41ed-9c8b-bc7663d3255d');\n",
              "        const dataTable =\n",
              "          await google.colab.kernel.invokeFunction('convertToInteractive',\n",
              "                                                    [key], {});\n",
              "        if (!dataTable) return;\n",
              "\n",
              "        const docLinkHtml = 'Like what you see? Visit the ' +\n",
              "          '<a target=\"_blank\" href=https://colab.research.google.com/notebooks/data_table.ipynb>data table notebook</a>'\n",
              "          + ' to learn more about interactive tables.';\n",
              "        element.innerHTML = '';\n",
              "        dataTable['output_type'] = 'display_data';\n",
              "        await google.colab.output.renderOutput(dataTable, element);\n",
              "        const docLink = document.createElement('div');\n",
              "        docLink.innerHTML = docLinkHtml;\n",
              "        element.appendChild(docLink);\n",
              "      }\n",
              "    </script>\n",
              "  </div>\n",
              "\n",
              "\n",
              "<div id=\"df-0b16b7eb-afec-467f-8521-75ab35949d63\">\n",
              "  <button class=\"colab-df-quickchart\" onclick=\"quickchart('df-0b16b7eb-afec-467f-8521-75ab35949d63')\"\n",
              "            title=\"Suggest charts.\"\n",
              "            style=\"display:none;\">\n",
              "\n",
              "<svg xmlns=\"http://www.w3.org/2000/svg\" height=\"24px\"viewBox=\"0 0 24 24\"\n",
              "     width=\"24px\">\n",
              "    <g>\n",
              "        <path d=\"M19 3H5c-1.1 0-2 .9-2 2v14c0 1.1.9 2 2 2h14c1.1 0 2-.9 2-2V5c0-1.1-.9-2-2-2zM9 17H7v-7h2v7zm4 0h-2V7h2v10zm4 0h-2v-4h2v4z\"/>\n",
              "    </g>\n",
              "</svg>\n",
              "  </button>\n",
              "\n",
              "<style>\n",
              "  .colab-df-quickchart {\n",
              "    background-color: #E8F0FE;\n",
              "    border: none;\n",
              "    border-radius: 50%;\n",
              "    cursor: pointer;\n",
              "    display: none;\n",
              "    fill: #1967D2;\n",
              "    height: 32px;\n",
              "    padding: 0 0 0 0;\n",
              "    width: 32px;\n",
              "  }\n",
              "\n",
              "  .colab-df-quickchart:hover {\n",
              "    background-color: #E2EBFA;\n",
              "    box-shadow: 0px 1px 2px rgba(60, 64, 67, 0.3), 0px 1px 3px 1px rgba(60, 64, 67, 0.15);\n",
              "    fill: #174EA6;\n",
              "  }\n",
              "\n",
              "  [theme=dark] .colab-df-quickchart {\n",
              "    background-color: #3B4455;\n",
              "    fill: #D2E3FC;\n",
              "  }\n",
              "\n",
              "  [theme=dark] .colab-df-quickchart:hover {\n",
              "    background-color: #434B5C;\n",
              "    box-shadow: 0px 1px 3px 1px rgba(0, 0, 0, 0.15);\n",
              "    filter: drop-shadow(0px 1px 2px rgba(0, 0, 0, 0.3));\n",
              "    fill: #FFFFFF;\n",
              "  }\n",
              "</style>\n",
              "\n",
              "  <script>\n",
              "    async function quickchart(key) {\n",
              "      const charts = await google.colab.kernel.invokeFunction(\n",
              "          'suggestCharts', [key], {});\n",
              "    }\n",
              "    (() => {\n",
              "      let quickchartButtonEl =\n",
              "        document.querySelector('#df-0b16b7eb-afec-467f-8521-75ab35949d63 button');\n",
              "      quickchartButtonEl.style.display =\n",
              "        google.colab.kernel.accessAllowed ? 'block' : 'none';\n",
              "    })();\n",
              "  </script>\n",
              "</div>\n",
              "    </div>\n",
              "  </div>\n"
            ]
          },
          "metadata": {},
          "execution_count": 259
        }
      ],
      "source": [
        "test_02_df"
      ]
    },
    {
      "cell_type": "code",
      "execution_count": 260,
      "metadata": {
        "colab": {
          "base_uri": "https://localhost:8080/"
        },
        "id": "CmmEk3OSwWa3",
        "outputId": "c7c94567-0567-4702-a6ee-bd57f15913f3"
      },
      "outputs": [
        {
          "output_type": "stream",
          "name": "stderr",
          "text": [
            "<ipython-input-10-58d0d99cd0a4>:9: FutureWarning: The default value of regex will change from True to False in a future version.\n",
            "  df.loc[:, 'tweet'] = df.tweet.str.replace('\\d+','') #Remove numbers\n",
            "<ipython-input-10-58d0d99cd0a4>:14: FutureWarning: The default value of regex will change from True to False in a future version. In addition, single character regular expressions will *not* be treated as literal strings when regex=True.\n",
            "  df.loc[:, 'tweet'] = df.tweet.str.replace(punctuation, '')\n"
          ]
        }
      ],
      "source": [
        "clean_tweets(test_02_df)"
      ]
    },
    {
      "cell_type": "code",
      "execution_count": 261,
      "metadata": {
        "colab": {
          "base_uri": "https://localhost:8080/",
          "height": 206
        },
        "id": "nKPCHpq4wWa3",
        "outputId": "a152d910-15dd-4ee0-dc78-021f4a621e2d"
      },
      "outputs": [
        {
          "output_type": "execute_result",
          "data": {
            "text/plain": [
              "                                               tweet class_a\n",
              "0  'florencehurricane  hours of sustained lethal ...     NOT\n",
              "1  'angeldad if lawmakers really cared about citi...     NOT\n",
              "2  'can you believe it a hundred rounds goon you ...     OFF\n",
              "3  'thenunmovie was just as scary as i thought it...     NOT\n",
              "4  ' google as a fellow goggler i must say electi...     NOT"
            ],
            "text/html": [
              "\n",
              "  <div id=\"df-e3a047af-c8fc-47f2-b250-6d23e0811578\" class=\"colab-df-container\">\n",
              "    <div>\n",
              "<style scoped>\n",
              "    .dataframe tbody tr th:only-of-type {\n",
              "        vertical-align: middle;\n",
              "    }\n",
              "\n",
              "    .dataframe tbody tr th {\n",
              "        vertical-align: top;\n",
              "    }\n",
              "\n",
              "    .dataframe thead th {\n",
              "        text-align: right;\n",
              "    }\n",
              "</style>\n",
              "<table border=\"1\" class=\"dataframe\">\n",
              "  <thead>\n",
              "    <tr style=\"text-align: right;\">\n",
              "      <th></th>\n",
              "      <th>tweet</th>\n",
              "      <th>class_a</th>\n",
              "    </tr>\n",
              "  </thead>\n",
              "  <tbody>\n",
              "    <tr>\n",
              "      <th>0</th>\n",
              "      <td>'florencehurricane  hours of sustained lethal ...</td>\n",
              "      <td>NOT</td>\n",
              "    </tr>\n",
              "    <tr>\n",
              "      <th>1</th>\n",
              "      <td>'angeldad if lawmakers really cared about citi...</td>\n",
              "      <td>NOT</td>\n",
              "    </tr>\n",
              "    <tr>\n",
              "      <th>2</th>\n",
              "      <td>'can you believe it a hundred rounds goon you ...</td>\n",
              "      <td>OFF</td>\n",
              "    </tr>\n",
              "    <tr>\n",
              "      <th>3</th>\n",
              "      <td>'thenunmovie was just as scary as i thought it...</td>\n",
              "      <td>NOT</td>\n",
              "    </tr>\n",
              "    <tr>\n",
              "      <th>4</th>\n",
              "      <td>' google as a fellow goggler i must say electi...</td>\n",
              "      <td>NOT</td>\n",
              "    </tr>\n",
              "  </tbody>\n",
              "</table>\n",
              "</div>\n",
              "    <div class=\"colab-df-buttons\">\n",
              "\n",
              "  <div class=\"colab-df-container\">\n",
              "    <button class=\"colab-df-convert\" onclick=\"convertToInteractive('df-e3a047af-c8fc-47f2-b250-6d23e0811578')\"\n",
              "            title=\"Convert this dataframe to an interactive table.\"\n",
              "            style=\"display:none;\">\n",
              "\n",
              "  <svg xmlns=\"http://www.w3.org/2000/svg\" height=\"24px\" viewBox=\"0 -960 960 960\">\n",
              "    <path d=\"M120-120v-720h720v720H120Zm60-500h600v-160H180v160Zm220 220h160v-160H400v160Zm0 220h160v-160H400v160ZM180-400h160v-160H180v160Zm440 0h160v-160H620v160ZM180-180h160v-160H180v160Zm440 0h160v-160H620v160Z\"/>\n",
              "  </svg>\n",
              "    </button>\n",
              "\n",
              "  <style>\n",
              "    .colab-df-container {\n",
              "      display:flex;\n",
              "      gap: 12px;\n",
              "    }\n",
              "\n",
              "    .colab-df-convert {\n",
              "      background-color: #E8F0FE;\n",
              "      border: none;\n",
              "      border-radius: 50%;\n",
              "      cursor: pointer;\n",
              "      display: none;\n",
              "      fill: #1967D2;\n",
              "      height: 32px;\n",
              "      padding: 0 0 0 0;\n",
              "      width: 32px;\n",
              "    }\n",
              "\n",
              "    .colab-df-convert:hover {\n",
              "      background-color: #E2EBFA;\n",
              "      box-shadow: 0px 1px 2px rgba(60, 64, 67, 0.3), 0px 1px 3px 1px rgba(60, 64, 67, 0.15);\n",
              "      fill: #174EA6;\n",
              "    }\n",
              "\n",
              "    .colab-df-buttons div {\n",
              "      margin-bottom: 4px;\n",
              "    }\n",
              "\n",
              "    [theme=dark] .colab-df-convert {\n",
              "      background-color: #3B4455;\n",
              "      fill: #D2E3FC;\n",
              "    }\n",
              "\n",
              "    [theme=dark] .colab-df-convert:hover {\n",
              "      background-color: #434B5C;\n",
              "      box-shadow: 0px 1px 3px 1px rgba(0, 0, 0, 0.15);\n",
              "      filter: drop-shadow(0px 1px 2px rgba(0, 0, 0, 0.3));\n",
              "      fill: #FFFFFF;\n",
              "    }\n",
              "  </style>\n",
              "\n",
              "    <script>\n",
              "      const buttonEl =\n",
              "        document.querySelector('#df-e3a047af-c8fc-47f2-b250-6d23e0811578 button.colab-df-convert');\n",
              "      buttonEl.style.display =\n",
              "        google.colab.kernel.accessAllowed ? 'block' : 'none';\n",
              "\n",
              "      async function convertToInteractive(key) {\n",
              "        const element = document.querySelector('#df-e3a047af-c8fc-47f2-b250-6d23e0811578');\n",
              "        const dataTable =\n",
              "          await google.colab.kernel.invokeFunction('convertToInteractive',\n",
              "                                                    [key], {});\n",
              "        if (!dataTable) return;\n",
              "\n",
              "        const docLinkHtml = 'Like what you see? Visit the ' +\n",
              "          '<a target=\"_blank\" href=https://colab.research.google.com/notebooks/data_table.ipynb>data table notebook</a>'\n",
              "          + ' to learn more about interactive tables.';\n",
              "        element.innerHTML = '';\n",
              "        dataTable['output_type'] = 'display_data';\n",
              "        await google.colab.output.renderOutput(dataTable, element);\n",
              "        const docLink = document.createElement('div');\n",
              "        docLink.innerHTML = docLinkHtml;\n",
              "        element.appendChild(docLink);\n",
              "      }\n",
              "    </script>\n",
              "  </div>\n",
              "\n",
              "\n",
              "<div id=\"df-b480f7ad-9c22-4d0d-aaac-f05ea1020a0b\">\n",
              "  <button class=\"colab-df-quickchart\" onclick=\"quickchart('df-b480f7ad-9c22-4d0d-aaac-f05ea1020a0b')\"\n",
              "            title=\"Suggest charts.\"\n",
              "            style=\"display:none;\">\n",
              "\n",
              "<svg xmlns=\"http://www.w3.org/2000/svg\" height=\"24px\"viewBox=\"0 0 24 24\"\n",
              "     width=\"24px\">\n",
              "    <g>\n",
              "        <path d=\"M19 3H5c-1.1 0-2 .9-2 2v14c0 1.1.9 2 2 2h14c1.1 0 2-.9 2-2V5c0-1.1-.9-2-2-2zM9 17H7v-7h2v7zm4 0h-2V7h2v10zm4 0h-2v-4h2v4z\"/>\n",
              "    </g>\n",
              "</svg>\n",
              "  </button>\n",
              "\n",
              "<style>\n",
              "  .colab-df-quickchart {\n",
              "    background-color: #E8F0FE;\n",
              "    border: none;\n",
              "    border-radius: 50%;\n",
              "    cursor: pointer;\n",
              "    display: none;\n",
              "    fill: #1967D2;\n",
              "    height: 32px;\n",
              "    padding: 0 0 0 0;\n",
              "    width: 32px;\n",
              "  }\n",
              "\n",
              "  .colab-df-quickchart:hover {\n",
              "    background-color: #E2EBFA;\n",
              "    box-shadow: 0px 1px 2px rgba(60, 64, 67, 0.3), 0px 1px 3px 1px rgba(60, 64, 67, 0.15);\n",
              "    fill: #174EA6;\n",
              "  }\n",
              "\n",
              "  [theme=dark] .colab-df-quickchart {\n",
              "    background-color: #3B4455;\n",
              "    fill: #D2E3FC;\n",
              "  }\n",
              "\n",
              "  [theme=dark] .colab-df-quickchart:hover {\n",
              "    background-color: #434B5C;\n",
              "    box-shadow: 0px 1px 3px 1px rgba(0, 0, 0, 0.15);\n",
              "    filter: drop-shadow(0px 1px 2px rgba(0, 0, 0, 0.3));\n",
              "    fill: #FFFFFF;\n",
              "  }\n",
              "</style>\n",
              "\n",
              "  <script>\n",
              "    async function quickchart(key) {\n",
              "      const charts = await google.colab.kernel.invokeFunction(\n",
              "          'suggestCharts', [key], {});\n",
              "    }\n",
              "    (() => {\n",
              "      let quickchartButtonEl =\n",
              "        document.querySelector('#df-b480f7ad-9c22-4d0d-aaac-f05ea1020a0b button');\n",
              "      quickchartButtonEl.style.display =\n",
              "        google.colab.kernel.accessAllowed ? 'block' : 'none';\n",
              "    })();\n",
              "  </script>\n",
              "</div>\n",
              "    </div>\n",
              "  </div>\n"
            ]
          },
          "metadata": {},
          "execution_count": 261
        }
      ],
      "source": [
        "test_02_df.update(test_02_df[['tweet']].applymap('\\'{}\\''.format))\n",
        "\n",
        "test_02_df.head()"
      ]
    },
    {
      "cell_type": "code",
      "execution_count": 262,
      "metadata": {
        "id": "gJuXkVjWwWa3"
      },
      "outputs": [],
      "source": [
        "\n",
        "test_02_df[\"class_a_code\"] = encoder.fit_transform(test_02_df[\"class_a\"])"
      ]
    },
    {
      "cell_type": "code",
      "execution_count": 263,
      "metadata": {
        "id": "lXlGwKlcwWa3"
      },
      "outputs": [],
      "source": [
        "X_test_02 = test_02_df['tweet']\n",
        "y_test_02 = test_02_df['class_a_code']"
      ]
    },
    {
      "cell_type": "code",
      "execution_count": 264,
      "metadata": {
        "id": "92_GTU2hwWa3"
      },
      "outputs": [],
      "source": [
        "encoder = LabelEncoder()\n",
        "train_labels = encoder.fit_transform(y_train)\n",
        "\n",
        "test_labels_02 = encoder.transform(y_test_02)"
      ]
    },
    {
      "cell_type": "code",
      "execution_count": 265,
      "metadata": {
        "id": "j7-kxv_RwWa3"
      },
      "outputs": [],
      "source": [
        "test_encodings_02 = tokenizer(list(X_test_02), truncation=True, padding=True, max_length=256)"
      ]
    },
    {
      "cell_type": "code",
      "execution_count": 266,
      "metadata": {
        "id": "_SOr4AjEwWa3"
      },
      "outputs": [],
      "source": [
        "test_dataset_02 = tf.data.Dataset.from_tensor_slices((\n",
        "    dict(test_encodings_02),\n",
        "    test_labels_02\n",
        ")).batch(16)"
      ]
    },
    {
      "cell_type": "code",
      "execution_count": 267,
      "metadata": {
        "colab": {
          "base_uri": "https://localhost:8080/"
        },
        "id": "FjdbSlGjwWa3",
        "outputId": "88a92313-444d-4073-e6a0-e98e255c7755"
      },
      "outputs": [
        {
          "output_type": "stream",
          "name": "stdout",
          "text": [
            "10/10 [==============================] - 1s 101ms/step\n"
          ]
        }
      ],
      "source": [
        "# Get the model predictions\n",
        "predictions_02 = tf.argmax(model.predict(test_dataset_02)[0], axis=-1)"
      ]
    },
    {
      "cell_type": "code",
      "execution_count": 268,
      "metadata": {
        "colab": {
          "base_uri": "https://localhost:8080/"
        },
        "id": "51coWadBwWa3",
        "outputId": "816d20ab-c039-4ea2-c231-c662220b0777"
      },
      "outputs": [
        {
          "output_type": "stream",
          "name": "stdout",
          "text": [
            "              precision    recall  f1-score   support\n",
            "\n",
            "           0     0.7273    0.8800    0.7964       100\n",
            "           1     0.5862    0.3400    0.4304        50\n",
            "\n",
            "    accuracy                         0.7000       150\n",
            "   macro avg     0.6567    0.6100    0.6134       150\n",
            "weighted avg     0.6803    0.7000    0.6744       150\n",
            "\n"
          ]
        }
      ],
      "source": [
        "# Decode the label numbers back into original labels\n",
        "y_test_inverse_02 = encoder.inverse_transform(y_test_02)\n",
        "predictions_inverse_02 = encoder.inverse_transform(predictions_02.numpy())\n",
        "\n",
        "# Generate the classification report\n",
        "report_02 = classification_report(y_test_inverse_02, predictions_inverse_02,\n",
        "                               target_names=encoder.classes_.astype(str),digits =4)\n",
        "print(report_02)"
      ]
    },
    {
      "cell_type": "code",
      "execution_count": null,
      "metadata": {
        "id": "Swq89v0nwWa3"
      },
      "outputs": [],
      "source": []
    },
    {
      "cell_type": "markdown",
      "source": [
        "# gpt 3.5 rephrase with 125"
      ],
      "metadata": {
        "id": "IdOEEqzNWGam"
      }
    },
    {
      "cell_type": "code",
      "source": [
        "index_new5 = random.sample(index_new2, 25)"
      ],
      "metadata": {
        "id": "m1iePqByWENj"
      },
      "execution_count": 417,
      "outputs": []
    },
    {
      "cell_type": "code",
      "source": [
        "test_tweet_off_new5 = test_tweet_off_new.loc[index_new5]"
      ],
      "metadata": {
        "id": "oKU5osnXWkqF"
      },
      "execution_count": 418,
      "outputs": []
    },
    {
      "cell_type": "code",
      "source": [
        "test_tweet_off_new5.shape"
      ],
      "metadata": {
        "colab": {
          "base_uri": "https://localhost:8080/"
        },
        "id": "mWzuzSfdWrIi",
        "outputId": "fd703f32-f55a-4f69-94d6-49cd030b9828"
      },
      "execution_count": 419,
      "outputs": [
        {
          "output_type": "execute_result",
          "data": {
            "text/plain": [
              "(25, 2)"
            ]
          },
          "metadata": {},
          "execution_count": 419
        }
      ]
    },
    {
      "cell_type": "code",
      "source": [
        "\n",
        "merged_df_05 = pd.concat([test_tweet_not_new, test_tweet_off_new5], ignore_index=True)\n",
        "\n",
        "# Shuffle the index\n",
        "test_05_df = merged_df_05.sample(frac=1).reset_index(drop=True)"
      ],
      "metadata": {
        "id": "cowGq4RxWFH-"
      },
      "execution_count": 420,
      "outputs": []
    },
    {
      "cell_type": "code",
      "source": [
        "clean_tweets(test_05_df)"
      ],
      "metadata": {
        "colab": {
          "base_uri": "https://localhost:8080/"
        },
        "id": "heBV5AjHWFNt",
        "outputId": "0472bca6-4667-406a-b632-16289132efc4"
      },
      "execution_count": 421,
      "outputs": [
        {
          "output_type": "stream",
          "name": "stderr",
          "text": [
            "<ipython-input-10-58d0d99cd0a4>:9: FutureWarning: The default value of regex will change from True to False in a future version.\n",
            "  df.loc[:, 'tweet'] = df.tweet.str.replace('\\d+','') #Remove numbers\n",
            "<ipython-input-10-58d0d99cd0a4>:14: FutureWarning: The default value of regex will change from True to False in a future version. In addition, single character regular expressions will *not* be treated as literal strings when regex=True.\n",
            "  df.loc[:, 'tweet'] = df.tweet.str.replace(punctuation, '')\n"
          ]
        }
      ]
    },
    {
      "cell_type": "code",
      "source": [
        "test_05_df.update(test_05_df[['tweet']].applymap('\\'{}\\''.format))"
      ],
      "metadata": {
        "id": "-UzqeuklWFTe"
      },
      "execution_count": 422,
      "outputs": []
    },
    {
      "cell_type": "code",
      "source": [
        "\n",
        "test_05_df[\"class_a_code\"] = encoder.fit_transform(test_05_df[\"class_a\"])"
      ],
      "metadata": {
        "id": "eNE13h5DWFZt"
      },
      "execution_count": 423,
      "outputs": []
    },
    {
      "cell_type": "code",
      "source": [
        "X_test_05 = test_05_df['tweet']\n",
        "y_test_05 = test_05_df['class_a_code']"
      ],
      "metadata": {
        "id": "iuSmNLjeWFfv"
      },
      "execution_count": 424,
      "outputs": []
    },
    {
      "cell_type": "code",
      "source": [
        "encoder = LabelEncoder()\n",
        "train_labels = encoder.fit_transform(y_train)\n",
        "\n",
        "test_labels_05 = encoder.transform(y_test_05)"
      ],
      "metadata": {
        "id": "t_jAHyckWFlq"
      },
      "execution_count": 425,
      "outputs": []
    },
    {
      "cell_type": "code",
      "source": [
        "test_encodings_05 = tokenizer(list(X_test_05), truncation=True, padding=True, max_length=256)"
      ],
      "metadata": {
        "id": "Jmbb282VWFrZ"
      },
      "execution_count": 426,
      "outputs": []
    },
    {
      "cell_type": "code",
      "source": [
        "test_dataset_05 = tf.data.Dataset.from_tensor_slices((\n",
        "    dict(test_encodings_05),\n",
        "    test_labels_05\n",
        ")).batch(16)"
      ],
      "metadata": {
        "id": "CsOOvMd5WFyL"
      },
      "execution_count": 427,
      "outputs": []
    },
    {
      "cell_type": "code",
      "source": [
        "# Get the model predictions\n",
        "predictions_05 = tf.argmax(model.predict(test_dataset_05)[0], axis=-1)"
      ],
      "metadata": {
        "colab": {
          "base_uri": "https://localhost:8080/"
        },
        "id": "FeQGEs7ZWEUR",
        "outputId": "f2556dd8-a78c-4d45-dc1a-696b88ee66e0"
      },
      "execution_count": 428,
      "outputs": [
        {
          "output_type": "stream",
          "name": "stdout",
          "text": [
            "8/8 [==============================] - 1s 105ms/step\n"
          ]
        }
      ]
    },
    {
      "cell_type": "code",
      "source": [
        "# Decode the label numbers back into original labels\n",
        "y_test_inverse_05 = encoder.inverse_transform(y_test_05)\n",
        "predictions_inverse_05 = encoder.inverse_transform(predictions_05.numpy())\n",
        "\n",
        "# Generate the classification report\n",
        "report_05 = classification_report(y_test_inverse_05, predictions_inverse_05,\n",
        "                               target_names=encoder.classes_.astype(str),digits =4)\n",
        "print(report_05)"
      ],
      "metadata": {
        "colab": {
          "base_uri": "https://localhost:8080/"
        },
        "id": "TIPqInjXWEbN",
        "outputId": "2bc9acc3-c20c-46fe-d784-acad4d7107df"
      },
      "execution_count": 429,
      "outputs": [
        {
          "output_type": "stream",
          "name": "stdout",
          "text": [
            "              precision    recall  f1-score   support\n",
            "\n",
            "           0     0.8544    0.8800    0.8670       100\n",
            "           1     0.4545    0.4000    0.4255        25\n",
            "\n",
            "    accuracy                         0.7840       125\n",
            "   macro avg     0.6545    0.6400    0.6463       125\n",
            "weighted avg     0.7744    0.7840    0.7787       125\n",
            "\n"
          ]
        }
      ]
    },
    {
      "cell_type": "code",
      "source": [],
      "metadata": {
        "id": "3FGOuTPsWEh5"
      },
      "execution_count": null,
      "outputs": []
    },
    {
      "cell_type": "code",
      "source": [],
      "metadata": {
        "id": "wSq_LBfPBWB7"
      },
      "execution_count": null,
      "outputs": []
    },
    {
      "cell_type": "markdown",
      "source": [
        "# ChatGPT 4 with rephrasing 125"
      ],
      "metadata": {
        "id": "xqxg76xbCI8s"
      }
    },
    {
      "cell_type": "code",
      "source": [
        "index_new3 = random.sample(index_new2, 25)"
      ],
      "metadata": {
        "id": "tHz934eBBV-q"
      },
      "execution_count": 269,
      "outputs": []
    },
    {
      "cell_type": "code",
      "execution_count": 271,
      "metadata": {
        "id": "VtWInB4xwWa3"
      },
      "outputs": [],
      "source": [
        "test_tweet_off_new_4 = off_new.loc[index_new3]"
      ]
    },
    {
      "cell_type": "code",
      "source": [
        "test_tweet_off_new_4['tweet'][853]\n"
      ],
      "metadata": {
        "colab": {
          "base_uri": "https://localhost:8080/",
          "height": 35
        },
        "id": "cNgMBfS0CyKO",
        "outputId": "0e8c8bb3-d743-4938-947b-730e1aff74a6"
      },
      "execution_count": 272,
      "outputs": [
        {
          "output_type": "execute_result",
          "data": {
            "text/plain": [
              "'All two of them taste like ass. URL'"
            ],
            "application/vnd.google.colaboratory.intrinsic+json": {
              "type": "string"
            }
          },
          "metadata": {},
          "execution_count": 272
        }
      ]
    },
    {
      "cell_type": "code",
      "source": [
        "test_tweet_off_new_4['tweet'][135] =\"#AvoidNFL, I've chosen to withdraw my support. My loyalty has been lost. @USER @USER [URL]\""
      ],
      "metadata": {
        "id": "7yTtYclhCywF"
      },
      "execution_count": 273,
      "outputs": []
    },
    {
      "cell_type": "code",
      "source": [
        "test_tweet_off_new_4['tweet'][216] = \"Both men and women appear to face similar circumstances, which is worth noting. The URL could reflect an experience common to both genders.\""
      ],
      "metadata": {
        "id": "y0Z_dVzvCy2p"
      },
      "execution_count": 274,
      "outputs": []
    },
    {
      "cell_type": "code",
      "source": [
        "test_tweet_off_new_4['tweet'][308] =\"Okay, let's evaluate the scenario. While certain players have netted more than 15 goals in the Eredivisie, there are those who believe it's not the toughest league. Conversely, Bundesliga squads have demonstrated their mettle in European tournaments. Regarding Mexican players, it's been a while since we've seen a standout like Pulisic. However, the future remains promising, and Mexico could very well nurture outstanding players in the coming years.\""
      ],
      "metadata": {
        "id": "C39WeQLxCy9W"
      },
      "execution_count": 275,
      "outputs": []
    },
    {
      "cell_type": "code",
      "source": [
        "test_tweet_off_new_4['tweet'][389] =\"50 Cent calls out Joe Budden's behavior on Instagram, labeling it as 'nonsense.' [URL] [URL]\""
      ],
      "metadata": {
        "id": "znt3v2NICzER"
      },
      "execution_count": 276,
      "outputs": []
    },
    {
      "cell_type": "code",
      "source": [
        "test_tweet_off_new_4['tweet'][823] = \"#DemocraticPartyConcerns #Extremists #AntifaIssues #RadicalFeminism Consider distancing yourself. [URL]\""
      ],
      "metadata": {
        "id": "m6zExV7jCzKM"
      },
      "execution_count": 277,
      "outputs": []
    },
    {
      "cell_type": "code",
      "source": [
        "test_tweet_off_new_4['tweet'][115] = \"#ConservativeGovernment - Whistleblowers claim they faced threats under @USER's regime, despite regulators supposed to protect them. [URL]\""
      ],
      "metadata": {
        "id": "ORLuwkC2CzQn"
      },
      "execution_count": 278,
      "outputs": []
    },
    {
      "cell_type": "code",
      "source": [
        "test_tweet_off_new_4['tweet'][323] =\"#AVALANCHE, my sincere apologies! I recognize and value you. Regretfully, I made errors in the past, but we all err at times. #maga\""
      ],
      "metadata": {
        "id": "Ff3wkenYCzWk"
      },
      "execution_count": 279,
      "outputs": []
    },
    {
      "cell_type": "code",
      "source": [
        "test_tweet_off_new_4['tweet'][77] = \"#ANTIFA is perceived to be associated with The Democratic Socialists of America (DSA). #JamesOKeefe has exposed their alleged presence in multiple government roles, purportedly aiming to challenge #America's foundations. #Trump #MAGA🇺🇸 #UnderlyingForces [URL]\""
      ],
      "metadata": {
        "id": "ovZUh3jYCzcz"
      },
      "execution_count": 280,
      "outputs": []
    },
    {
      "cell_type": "code",
      "source": [
        "test_tweet_off_new_4['tweet'][260] =\"#Liberals are taking significant steps, asking #PhillipRuddock to liaise with #Turnbull in hopes of influencing the #WentworthVotes on 18 Sept 2018. @USER #Auspol #LNP #NSWpol @USER @USER @USER #LNPTrends [URL]\""
      ],
      "metadata": {
        "id": "PNosOHpKCzi6"
      },
      "execution_count": 281,
      "outputs": []
    },
    {
      "cell_type": "code",
      "source": [
        "test_tweet_off_new_4['tweet'][281] =\"#Conservatives Government, despite austerity measures, has seen an increase in debt. Meanwhile, the affluent's wealth has grown twofold, spotlighting the #inequality problem. [URL] courtesy of @USER.\""
      ],
      "metadata": {
        "id": "fCgCoskFC0MS"
      },
      "execution_count": 282,
      "outputs": []
    },
    {
      "cell_type": "code",
      "source": [
        "test_tweet_off_new_4['tweet'][352]  =\"#OrrinHatch's role in handling another woman's allegations against a Supreme Court nominee has garnered significant backlash. Some consider his approach reminiscent of his stance during the Anita Hill case, labeling him as out of touch. Many feel it's time for a change in leadership.\""
      ],
      "metadata": {
        "id": "6h1v2rsGC0TZ"
      },
      "execution_count": 283,
      "outputs": []
    },
    {
      "cell_type": "code",
      "source": [
        "test_tweet_off_new_4['tweet'][47]  =\"#Conservatives, it's unfortunate to see such discourteous exchanges, especially ones involving @USER. [URL]\""
      ],
      "metadata": {
        "id": "hEaTinf7C0at"
      },
      "execution_count": 284,
      "outputs": []
    },
    {
      "cell_type": "code",
      "source": [
        "test_tweet_off_new_4['tweet'][233] =\"On #TheView, Stormy Daniels encountered a challenging moment when confronted with a dollar bill, underscoring the difficulties adult film actors often face. The mention also hints at her ties to the Democratic Party.\""
      ],
      "metadata": {
        "id": "EoIJwD62C0hJ"
      },
      "execution_count": 285,
      "outputs": []
    },
    {
      "cell_type": "code",
      "source": [
        "test_tweet_off_new_4['tweet'][38] =\"Using the hashtag #ArianaAsesina? Let's avoid rushing to judgments and promoting negativity. She's facing difficult moments, and assigning blame doesn't alter the sad reality. An overdose occurred, and finding fault won't help. Let's prioritize understanding and compassion over blame.\""
      ],
      "metadata": {
        "id": "fN1ma6J-C0nw"
      },
      "execution_count": 286,
      "outputs": []
    },
    {
      "cell_type": "code",
      "source": [
        "test_tweet_off_new_4['tweet'][614] =\"@USER @USER I intend to incorporate that perspective in upcoming debates about gun control, free speech, and taxes. Advocating for responsibility is crucial. It's incorrect to excuse taking a life by negating its value or asserting it as an entitlement.\""
      ],
      "metadata": {
        "id": "mQgtY2zaC0tt"
      },
      "execution_count": 287,
      "outputs": []
    },
    {
      "cell_type": "code",
      "source": [
        "test_tweet_off_new_4['tweet'][100] = \"Concerning #ColinKaepernick, there's a viewpoint that he has been more vocal than effective. Some argue that both the black community and supportive white liberals, including @USER, should be more informed or reduce the vocal intensity about the issue. They don't see Colin as embodying the image of a Civil Rights champion.\""
      ],
      "metadata": {
        "id": "gaQNcx2lC0y6"
      },
      "execution_count": 288,
      "outputs": []
    },
    {
      "cell_type": "code",
      "source": [
        "test_tweet_off_new_4['tweet'][376] = \"What an amazing seven-year journey it's been! #MyTwitterAnniversary [URL].\""
      ],
      "metadata": {
        "id": "h872Rof-Krer"
      },
      "execution_count": 289,
      "outputs": []
    },
    {
      "cell_type": "code",
      "source": [
        "test_tweet_off_new_4['tweet'][681] = \"Can you even imagine? A hundred rounds? You've got to be joking, Goon! 🤣\""
      ],
      "metadata": {
        "id": "KsjY7d_kKr5L"
      },
      "execution_count": 290,
      "outputs": []
    },
    {
      "cell_type": "code",
      "source": [
        "test_tweet_off_new_4['tweet'][797]  = \"To get folks to head out from your place, consider a humorous touch, like playfully acting like a vampire. Just ensure it's all in good fun and doesn't make anyone uneasy. Always approach situations with kindness and without being intimidating.\""
      ],
      "metadata": {
        "id": "dKtQq7s2KsAq"
      },
      "execution_count": 291,
      "outputs": []
    },
    {
      "cell_type": "code",
      "source": [
        "test_tweet_off_new_4['tweet'][749] = \"#Antifa intends to oppose the NVU's fascist views in #Amsterdam on September 22. [URL]\""
      ],
      "metadata": {
        "id": "V_82ninbKsHg"
      },
      "execution_count": 292,
      "outputs": []
    },
    {
      "cell_type": "code",
      "source": [
        "test_tweet_off_new_4['tweet'][362]  = \"#Share theleadersmindset • • • 📍Hey Leaders!🔥 ✔️Comment 'SET' if you're geared up for these actions. - 'Determine objectives, hold them close, tackle them with zeal, rejoice in your achievements... [URL]\""
      ],
      "metadata": {
        "id": "d8FvLK-BKsOi"
      },
      "execution_count": 293,
      "outputs": []
    },
    {
      "cell_type": "code",
      "source": [
        "test_tweet_off_new_4['tweet'][483] =\"@USER @USER @USER Your meme seems to indicate that both Fascism and Antifa stood against liberals.\""
      ],
      "metadata": {
        "id": "cTtUnkycKsVe"
      },
      "execution_count": 294,
      "outputs": []
    },
    {
      "cell_type": "code",
      "source": [
        "test_tweet_off_new_4['tweet'][313] =\"@USER @USER @USER A lot of people perceive her as insincere within the Senate. If she represented me, I'd be disappointed by her actions during the SCOTUS hearings.\""
      ],
      "metadata": {
        "id": "NXdRmr1YY8fp"
      },
      "execution_count": 295,
      "outputs": []
    },
    {
      "cell_type": "code",
      "source": [
        "test_tweet_off_new_4['tweet'][382] = \"The circumstances involving #ChristineBlaseyFord have garnered notice. Some observers claim she's experiencing undue pressure from specific factions. They highlight alleged ties between Antifa, viewed by some as an extreme wing of the Democratic Party, and purported support from George Soros. The hashtag #VoteRedToSaveAmerica is associated with these discussions.\""
      ],
      "metadata": {
        "id": "9fPNSsVFY8kN"
      },
      "execution_count": 296,
      "outputs": []
    },
    {
      "cell_type": "code",
      "source": [
        "test_tweet_off_new_4['tweet'][853] =\"Both possess a displeasing flavor. [URL].\""
      ],
      "metadata": {
        "id": "G6RRtz9SY8od"
      },
      "execution_count": 297,
      "outputs": []
    },
    {
      "cell_type": "code",
      "source": [
        "test_tweet_off_new_4.shape"
      ],
      "metadata": {
        "id": "afPzF6ylY8r2",
        "colab": {
          "base_uri": "https://localhost:8080/"
        },
        "outputId": "5f2c6562-df53-49e8-f106-70cb3e6f19d9"
      },
      "execution_count": 298,
      "outputs": [
        {
          "output_type": "execute_result",
          "data": {
            "text/plain": [
              "(25, 2)"
            ]
          },
          "metadata": {},
          "execution_count": 298
        }
      ]
    },
    {
      "cell_type": "code",
      "source": [
        "\n",
        "merged_df_4 = pd.concat([test_tweet_not_new, test_tweet_off_new_4], ignore_index=True)\n",
        "\n",
        "# Shuffle the index\n",
        "test_4_df = merged_df_4.sample(frac=1).reset_index(drop=True)"
      ],
      "metadata": {
        "id": "SKc9Jgv_Y8uh"
      },
      "execution_count": 299,
      "outputs": []
    },
    {
      "cell_type": "code",
      "source": [
        "test_4_df.shape"
      ],
      "metadata": {
        "colab": {
          "base_uri": "https://localhost:8080/"
        },
        "id": "_tMgb5nOb-9o",
        "outputId": "23c77604-06fe-483c-e1b4-d2c8c6417c8b"
      },
      "execution_count": 300,
      "outputs": [
        {
          "output_type": "execute_result",
          "data": {
            "text/plain": [
              "(125, 2)"
            ]
          },
          "metadata": {},
          "execution_count": 300
        }
      ]
    },
    {
      "cell_type": "code",
      "source": [
        "clean_tweets(test_4_df)"
      ],
      "metadata": {
        "colab": {
          "base_uri": "https://localhost:8080/"
        },
        "id": "FnHU0ErSC04D",
        "outputId": "c6e07b39-d36d-43b8-895b-e0e82d36bce4"
      },
      "execution_count": 301,
      "outputs": [
        {
          "output_type": "stream",
          "name": "stderr",
          "text": [
            "<ipython-input-10-58d0d99cd0a4>:9: FutureWarning: The default value of regex will change from True to False in a future version.\n",
            "  df.loc[:, 'tweet'] = df.tweet.str.replace('\\d+','') #Remove numbers\n",
            "<ipython-input-10-58d0d99cd0a4>:14: FutureWarning: The default value of regex will change from True to False in a future version. In addition, single character regular expressions will *not* be treated as literal strings when regex=True.\n",
            "  df.loc[:, 'tweet'] = df.tweet.str.replace(punctuation, '')\n"
          ]
        }
      ]
    },
    {
      "cell_type": "code",
      "source": [
        "test_4_df.update(test_4_df[['tweet']].applymap('\\'{}\\''.format))"
      ],
      "metadata": {
        "id": "4OrhltqobCL9"
      },
      "execution_count": 302,
      "outputs": []
    },
    {
      "cell_type": "code",
      "source": [
        "\n",
        "test_4_df[\"class_a_code\"] = encoder.fit_transform(test_4_df[\"class_a\"])"
      ],
      "metadata": {
        "id": "3TqNFMt1bCQ6"
      },
      "execution_count": 303,
      "outputs": []
    },
    {
      "cell_type": "code",
      "source": [
        "X_test_4 = test_4_df['tweet']\n",
        "y_test_4 = test_4_df['class_a_code']"
      ],
      "metadata": {
        "id": "4NoWkB7LbCVn"
      },
      "execution_count": 304,
      "outputs": []
    },
    {
      "cell_type": "code",
      "source": [
        "encoder = LabelEncoder()\n",
        "train_labels = encoder.fit_transform(y_train)\n",
        "\n",
        "test_labels_4 = encoder.transform(y_test_4)"
      ],
      "metadata": {
        "id": "O1gJdH6JbCa5"
      },
      "execution_count": 305,
      "outputs": []
    },
    {
      "cell_type": "code",
      "source": [
        "test_encodings_4 = tokenizer(list(X_test_4), truncation=True, padding=True, max_length=256)"
      ],
      "metadata": {
        "id": "IYKj0G1AbCgQ"
      },
      "execution_count": 306,
      "outputs": []
    },
    {
      "cell_type": "code",
      "source": [
        "test_dataset_4 = tf.data.Dataset.from_tensor_slices((\n",
        "    dict(test_encodings_4),\n",
        "    test_labels_4\n",
        ")).batch(16)"
      ],
      "metadata": {
        "id": "B5sM3nHJbCkx"
      },
      "execution_count": 307,
      "outputs": []
    },
    {
      "cell_type": "code",
      "source": [
        "# Get the model predictions\n",
        "predictions_4 = tf.argmax(model.predict(test_dataset_4)[0], axis=-1)"
      ],
      "metadata": {
        "colab": {
          "base_uri": "https://localhost:8080/"
        },
        "id": "84OA4mcZbe7r",
        "outputId": "10b39844-4903-45bf-f469-4849d01f6781"
      },
      "execution_count": 308,
      "outputs": [
        {
          "output_type": "stream",
          "name": "stdout",
          "text": [
            "8/8 [==============================] - 1s 87ms/step\n"
          ]
        }
      ]
    },
    {
      "cell_type": "code",
      "source": [
        "# Decode the label numbers back into original labels\n",
        "y_test_inverse_4 = encoder.inverse_transform(y_test_4)\n",
        "predictions_inverse_4 = encoder.inverse_transform(predictions_4.numpy())\n",
        "\n",
        "# Generate the classification report\n",
        "report_4 = classification_report(y_test_inverse_4, predictions_inverse_4,\n",
        "                               target_names=encoder.classes_.astype(str),digits =4)\n",
        "print(report_4)"
      ],
      "metadata": {
        "colab": {
          "base_uri": "https://localhost:8080/"
        },
        "id": "rnxGdTSWbfA_",
        "outputId": "dde60503-a54d-436c-d072-22ad46f26d8d"
      },
      "execution_count": 309,
      "outputs": [
        {
          "output_type": "stream",
          "name": "stdout",
          "text": [
            "              precision    recall  f1-score   support\n",
            "\n",
            "           0     0.8224    0.8800    0.8502       100\n",
            "           1     0.3333    0.2400    0.2791        25\n",
            "\n",
            "    accuracy                         0.7520       125\n",
            "   macro avg     0.5779    0.5600    0.5647       125\n",
            "weighted avg     0.7246    0.7520    0.7360       125\n",
            "\n"
          ]
        }
      ]
    },
    {
      "cell_type": "code",
      "source": [],
      "metadata": {
        "id": "ArhbTAJebfF2"
      },
      "execution_count": null,
      "outputs": []
    },
    {
      "cell_type": "code",
      "source": [],
      "metadata": {
        "id": "lJmgnhUUbfKs"
      },
      "execution_count": null,
      "outputs": []
    },
    {
      "cell_type": "code",
      "source": [],
      "metadata": {
        "id": "drCQXmHjbfPM"
      },
      "execution_count": null,
      "outputs": []
    },
    {
      "cell_type": "code",
      "source": [],
      "metadata": {
        "id": "_SnVz850bfSw"
      },
      "execution_count": null,
      "outputs": []
    },
    {
      "cell_type": "code",
      "execution_count": null,
      "metadata": {
        "id": "HqVPoCBHwWa3"
      },
      "outputs": [],
      "source": []
    }
  ],
  "metadata": {
    "accelerator": "GPU",
    "colab": {
      "gpuType": "T4",
      "provenance": []
    },
    "kernelspec": {
      "display_name": "Python 3 (ipykernel)",
      "language": "python",
      "name": "python3"
    },
    "language_info": {
      "codemirror_mode": {
        "name": "ipython",
        "version": 3
      },
      "file_extension": ".py",
      "mimetype": "text/x-python",
      "name": "python",
      "nbconvert_exporter": "python",
      "pygments_lexer": "ipython3",
      "version": "3.8.12"
    },
    "toc": {
      "base_numbering": 1,
      "nav_menu": {},
      "number_sections": true,
      "sideBar": true,
      "skip_h1_title": false,
      "title_cell": "Table of Contents",
      "title_sidebar": "Contents",
      "toc_cell": false,
      "toc_position": {},
      "toc_section_display": true,
      "toc_window_display": false
    },
    "widgets": {
      "application/vnd.jupyter.widget-state+json": {
        "9cfb7c04dc684433a04329f2ae2daf39": {
          "model_module": "@jupyter-widgets/controls",
          "model_name": "HBoxModel",
          "model_module_version": "1.5.0",
          "state": {
            "_dom_classes": [],
            "_model_module": "@jupyter-widgets/controls",
            "_model_module_version": "1.5.0",
            "_model_name": "HBoxModel",
            "_view_count": null,
            "_view_module": "@jupyter-widgets/controls",
            "_view_module_version": "1.5.0",
            "_view_name": "HBoxView",
            "box_style": "",
            "children": [
              "IPY_MODEL_2ab71537834b4622a2ce09c1582a597c",
              "IPY_MODEL_d4149565cfd54e69920a606f6cfb5e55",
              "IPY_MODEL_f375ec559ebe483c8faf2f3613da2075"
            ],
            "layout": "IPY_MODEL_61536eb5d4364eaebe9b1590ef307a3d"
          }
        },
        "2ab71537834b4622a2ce09c1582a597c": {
          "model_module": "@jupyter-widgets/controls",
          "model_name": "HTMLModel",
          "model_module_version": "1.5.0",
          "state": {
            "_dom_classes": [],
            "_model_module": "@jupyter-widgets/controls",
            "_model_module_version": "1.5.0",
            "_model_name": "HTMLModel",
            "_view_count": null,
            "_view_module": "@jupyter-widgets/controls",
            "_view_module_version": "1.5.0",
            "_view_name": "HTMLView",
            "description": "",
            "description_tooltip": null,
            "layout": "IPY_MODEL_0cebd8d7d8db4b35816e1b9fa1ca6fbf",
            "placeholder": "​",
            "style": "IPY_MODEL_7f114d2a00544f19b6b0bbdc889282a3",
            "value": "Downloading model.safetensors: 100%"
          }
        },
        "d4149565cfd54e69920a606f6cfb5e55": {
          "model_module": "@jupyter-widgets/controls",
          "model_name": "FloatProgressModel",
          "model_module_version": "1.5.0",
          "state": {
            "_dom_classes": [],
            "_model_module": "@jupyter-widgets/controls",
            "_model_module_version": "1.5.0",
            "_model_name": "FloatProgressModel",
            "_view_count": null,
            "_view_module": "@jupyter-widgets/controls",
            "_view_module_version": "1.5.0",
            "_view_name": "ProgressView",
            "bar_style": "success",
            "description": "",
            "description_tooltip": null,
            "layout": "IPY_MODEL_a78c9d4f339c44b98577c23f5040385a",
            "max": 440449768,
            "min": 0,
            "orientation": "horizontal",
            "style": "IPY_MODEL_660d5ef2f5404fedbc24054096b25ef3",
            "value": 440449768
          }
        },
        "f375ec559ebe483c8faf2f3613da2075": {
          "model_module": "@jupyter-widgets/controls",
          "model_name": "HTMLModel",
          "model_module_version": "1.5.0",
          "state": {
            "_dom_classes": [],
            "_model_module": "@jupyter-widgets/controls",
            "_model_module_version": "1.5.0",
            "_model_name": "HTMLModel",
            "_view_count": null,
            "_view_module": "@jupyter-widgets/controls",
            "_view_module_version": "1.5.0",
            "_view_name": "HTMLView",
            "description": "",
            "description_tooltip": null,
            "layout": "IPY_MODEL_9da56c8f0b2443f18dfac0805f1639d4",
            "placeholder": "​",
            "style": "IPY_MODEL_58be890845a447cbb86fa68db585f2e1",
            "value": " 440M/440M [00:04&lt;00:00, 90.1MB/s]"
          }
        },
        "61536eb5d4364eaebe9b1590ef307a3d": {
          "model_module": "@jupyter-widgets/base",
          "model_name": "LayoutModel",
          "model_module_version": "1.2.0",
          "state": {
            "_model_module": "@jupyter-widgets/base",
            "_model_module_version": "1.2.0",
            "_model_name": "LayoutModel",
            "_view_count": null,
            "_view_module": "@jupyter-widgets/base",
            "_view_module_version": "1.2.0",
            "_view_name": "LayoutView",
            "align_content": null,
            "align_items": null,
            "align_self": null,
            "border": null,
            "bottom": null,
            "display": null,
            "flex": null,
            "flex_flow": null,
            "grid_area": null,
            "grid_auto_columns": null,
            "grid_auto_flow": null,
            "grid_auto_rows": null,
            "grid_column": null,
            "grid_gap": null,
            "grid_row": null,
            "grid_template_areas": null,
            "grid_template_columns": null,
            "grid_template_rows": null,
            "height": null,
            "justify_content": null,
            "justify_items": null,
            "left": null,
            "margin": null,
            "max_height": null,
            "max_width": null,
            "min_height": null,
            "min_width": null,
            "object_fit": null,
            "object_position": null,
            "order": null,
            "overflow": null,
            "overflow_x": null,
            "overflow_y": null,
            "padding": null,
            "right": null,
            "top": null,
            "visibility": null,
            "width": null
          }
        },
        "0cebd8d7d8db4b35816e1b9fa1ca6fbf": {
          "model_module": "@jupyter-widgets/base",
          "model_name": "LayoutModel",
          "model_module_version": "1.2.0",
          "state": {
            "_model_module": "@jupyter-widgets/base",
            "_model_module_version": "1.2.0",
            "_model_name": "LayoutModel",
            "_view_count": null,
            "_view_module": "@jupyter-widgets/base",
            "_view_module_version": "1.2.0",
            "_view_name": "LayoutView",
            "align_content": null,
            "align_items": null,
            "align_self": null,
            "border": null,
            "bottom": null,
            "display": null,
            "flex": null,
            "flex_flow": null,
            "grid_area": null,
            "grid_auto_columns": null,
            "grid_auto_flow": null,
            "grid_auto_rows": null,
            "grid_column": null,
            "grid_gap": null,
            "grid_row": null,
            "grid_template_areas": null,
            "grid_template_columns": null,
            "grid_template_rows": null,
            "height": null,
            "justify_content": null,
            "justify_items": null,
            "left": null,
            "margin": null,
            "max_height": null,
            "max_width": null,
            "min_height": null,
            "min_width": null,
            "object_fit": null,
            "object_position": null,
            "order": null,
            "overflow": null,
            "overflow_x": null,
            "overflow_y": null,
            "padding": null,
            "right": null,
            "top": null,
            "visibility": null,
            "width": null
          }
        },
        "7f114d2a00544f19b6b0bbdc889282a3": {
          "model_module": "@jupyter-widgets/controls",
          "model_name": "DescriptionStyleModel",
          "model_module_version": "1.5.0",
          "state": {
            "_model_module": "@jupyter-widgets/controls",
            "_model_module_version": "1.5.0",
            "_model_name": "DescriptionStyleModel",
            "_view_count": null,
            "_view_module": "@jupyter-widgets/base",
            "_view_module_version": "1.2.0",
            "_view_name": "StyleView",
            "description_width": ""
          }
        },
        "a78c9d4f339c44b98577c23f5040385a": {
          "model_module": "@jupyter-widgets/base",
          "model_name": "LayoutModel",
          "model_module_version": "1.2.0",
          "state": {
            "_model_module": "@jupyter-widgets/base",
            "_model_module_version": "1.2.0",
            "_model_name": "LayoutModel",
            "_view_count": null,
            "_view_module": "@jupyter-widgets/base",
            "_view_module_version": "1.2.0",
            "_view_name": "LayoutView",
            "align_content": null,
            "align_items": null,
            "align_self": null,
            "border": null,
            "bottom": null,
            "display": null,
            "flex": null,
            "flex_flow": null,
            "grid_area": null,
            "grid_auto_columns": null,
            "grid_auto_flow": null,
            "grid_auto_rows": null,
            "grid_column": null,
            "grid_gap": null,
            "grid_row": null,
            "grid_template_areas": null,
            "grid_template_columns": null,
            "grid_template_rows": null,
            "height": null,
            "justify_content": null,
            "justify_items": null,
            "left": null,
            "margin": null,
            "max_height": null,
            "max_width": null,
            "min_height": null,
            "min_width": null,
            "object_fit": null,
            "object_position": null,
            "order": null,
            "overflow": null,
            "overflow_x": null,
            "overflow_y": null,
            "padding": null,
            "right": null,
            "top": null,
            "visibility": null,
            "width": null
          }
        },
        "660d5ef2f5404fedbc24054096b25ef3": {
          "model_module": "@jupyter-widgets/controls",
          "model_name": "ProgressStyleModel",
          "model_module_version": "1.5.0",
          "state": {
            "_model_module": "@jupyter-widgets/controls",
            "_model_module_version": "1.5.0",
            "_model_name": "ProgressStyleModel",
            "_view_count": null,
            "_view_module": "@jupyter-widgets/base",
            "_view_module_version": "1.2.0",
            "_view_name": "StyleView",
            "bar_color": null,
            "description_width": ""
          }
        },
        "9da56c8f0b2443f18dfac0805f1639d4": {
          "model_module": "@jupyter-widgets/base",
          "model_name": "LayoutModel",
          "model_module_version": "1.2.0",
          "state": {
            "_model_module": "@jupyter-widgets/base",
            "_model_module_version": "1.2.0",
            "_model_name": "LayoutModel",
            "_view_count": null,
            "_view_module": "@jupyter-widgets/base",
            "_view_module_version": "1.2.0",
            "_view_name": "LayoutView",
            "align_content": null,
            "align_items": null,
            "align_self": null,
            "border": null,
            "bottom": null,
            "display": null,
            "flex": null,
            "flex_flow": null,
            "grid_area": null,
            "grid_auto_columns": null,
            "grid_auto_flow": null,
            "grid_auto_rows": null,
            "grid_column": null,
            "grid_gap": null,
            "grid_row": null,
            "grid_template_areas": null,
            "grid_template_columns": null,
            "grid_template_rows": null,
            "height": null,
            "justify_content": null,
            "justify_items": null,
            "left": null,
            "margin": null,
            "max_height": null,
            "max_width": null,
            "min_height": null,
            "min_width": null,
            "object_fit": null,
            "object_position": null,
            "order": null,
            "overflow": null,
            "overflow_x": null,
            "overflow_y": null,
            "padding": null,
            "right": null,
            "top": null,
            "visibility": null,
            "width": null
          }
        },
        "58be890845a447cbb86fa68db585f2e1": {
          "model_module": "@jupyter-widgets/controls",
          "model_name": "DescriptionStyleModel",
          "model_module_version": "1.5.0",
          "state": {
            "_model_module": "@jupyter-widgets/controls",
            "_model_module_version": "1.5.0",
            "_model_name": "DescriptionStyleModel",
            "_view_count": null,
            "_view_module": "@jupyter-widgets/base",
            "_view_module_version": "1.2.0",
            "_view_name": "StyleView",
            "description_width": ""
          }
        }
      }
    }
  },
  "nbformat": 4,
  "nbformat_minor": 0
}