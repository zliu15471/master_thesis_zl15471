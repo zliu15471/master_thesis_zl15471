{
  "cells": [
    {
      "cell_type": "code",
      "execution_count": 3,
      "id": "bec77148",
      "metadata": {
        "id": "bec77148"
      },
      "outputs": [],
      "source": [
        "import tensorflow as tf\n",
        "from transformers import TFRobertaForSequenceClassification, RobertaTokenizer\n",
        "from sklearn.model_selection import train_test_split\n",
        "from sklearn.preprocessing import LabelEncoder\n",
        "import pandas as pd\n"
      ]
    },
    {
      "cell_type": "code",
      "execution_count": 2,
      "id": "l3PJQ0Je9-31",
      "metadata": {
        "colab": {
          "base_uri": "https://localhost:8080/"
        },
        "id": "l3PJQ0Je9-31",
        "outputId": "c1ffacf5-b491-46b9-cdad-bd1934d0645f"
      },
      "outputs": [
        {
          "output_type": "stream",
          "name": "stdout",
          "text": [
            "Collecting transformers\n",
            "  Downloading transformers-4.32.1-py3-none-any.whl (7.5 MB)\n",
            "\u001b[2K     \u001b[90m━━━━━━━━━━━━━━━━━━━━━━━━━━━━━━━━━━━━━━━━\u001b[0m \u001b[32m7.5/7.5 MB\u001b[0m \u001b[31m14.2 MB/s\u001b[0m eta \u001b[36m0:00:00\u001b[0m\n",
            "\u001b[?25hRequirement already satisfied: filelock in /usr/local/lib/python3.10/dist-packages (from transformers) (3.12.2)\n",
            "Collecting huggingface-hub<1.0,>=0.15.1 (from transformers)\n",
            "  Downloading huggingface_hub-0.16.4-py3-none-any.whl (268 kB)\n",
            "\u001b[2K     \u001b[90m━━━━━━━━━━━━━━━━━━━━━━━━━━━━━━━━━━━━━━\u001b[0m \u001b[32m268.8/268.8 kB\u001b[0m \u001b[31m29.4 MB/s\u001b[0m eta \u001b[36m0:00:00\u001b[0m\n",
            "\u001b[?25hRequirement already satisfied: numpy>=1.17 in /usr/local/lib/python3.10/dist-packages (from transformers) (1.23.5)\n",
            "Requirement already satisfied: packaging>=20.0 in /usr/local/lib/python3.10/dist-packages (from transformers) (23.1)\n",
            "Requirement already satisfied: pyyaml>=5.1 in /usr/local/lib/python3.10/dist-packages (from transformers) (6.0.1)\n",
            "Requirement already satisfied: regex!=2019.12.17 in /usr/local/lib/python3.10/dist-packages (from transformers) (2023.6.3)\n",
            "Requirement already satisfied: requests in /usr/local/lib/python3.10/dist-packages (from transformers) (2.31.0)\n",
            "Collecting tokenizers!=0.11.3,<0.14,>=0.11.1 (from transformers)\n",
            "  Downloading tokenizers-0.13.3-cp310-cp310-manylinux_2_17_x86_64.manylinux2014_x86_64.whl (7.8 MB)\n",
            "\u001b[2K     \u001b[90m━━━━━━━━━━━━━━━━━━━━━━━━━━━━━━━━━━━━━━━━\u001b[0m \u001b[32m7.8/7.8 MB\u001b[0m \u001b[31m43.4 MB/s\u001b[0m eta \u001b[36m0:00:00\u001b[0m\n",
            "\u001b[?25hCollecting safetensors>=0.3.1 (from transformers)\n",
            "  Downloading safetensors-0.3.3-cp310-cp310-manylinux_2_17_x86_64.manylinux2014_x86_64.whl (1.3 MB)\n",
            "\u001b[2K     \u001b[90m━━━━━━━━━━━━━━━━━━━━━━━━━━━━━━━━━━━━━━━━\u001b[0m \u001b[32m1.3/1.3 MB\u001b[0m \u001b[31m49.6 MB/s\u001b[0m eta \u001b[36m0:00:00\u001b[0m\n",
            "\u001b[?25hRequirement already satisfied: tqdm>=4.27 in /usr/local/lib/python3.10/dist-packages (from transformers) (4.66.1)\n",
            "Requirement already satisfied: fsspec in /usr/local/lib/python3.10/dist-packages (from huggingface-hub<1.0,>=0.15.1->transformers) (2023.6.0)\n",
            "Requirement already satisfied: typing-extensions>=3.7.4.3 in /usr/local/lib/python3.10/dist-packages (from huggingface-hub<1.0,>=0.15.1->transformers) (4.7.1)\n",
            "Requirement already satisfied: charset-normalizer<4,>=2 in /usr/local/lib/python3.10/dist-packages (from requests->transformers) (3.2.0)\n",
            "Requirement already satisfied: idna<4,>=2.5 in /usr/local/lib/python3.10/dist-packages (from requests->transformers) (3.4)\n",
            "Requirement already satisfied: urllib3<3,>=1.21.1 in /usr/local/lib/python3.10/dist-packages (from requests->transformers) (2.0.4)\n",
            "Requirement already satisfied: certifi>=2017.4.17 in /usr/local/lib/python3.10/dist-packages (from requests->transformers) (2023.7.22)\n",
            "Installing collected packages: tokenizers, safetensors, huggingface-hub, transformers\n",
            "Successfully installed huggingface-hub-0.16.4 safetensors-0.3.3 tokenizers-0.13.3 transformers-4.32.1\n"
          ]
        }
      ],
      "source": [
        "!pip install transformers\n"
      ]
    },
    {
      "cell_type": "markdown",
      "id": "26c4ad1c",
      "metadata": {
        "id": "26c4ad1c"
      },
      "source": [
        "# Loading data"
      ]
    },
    {
      "cell_type": "code",
      "execution_count": 4,
      "id": "5ff91d10",
      "metadata": {
        "id": "5ff91d10"
      },
      "outputs": [],
      "source": [
        "data_fake_reviews = pd.read_csv('./fake reviews dataset.csv')"
      ]
    },
    {
      "cell_type": "code",
      "execution_count": 5,
      "id": "be07a069",
      "metadata": {
        "colab": {
          "base_uri": "https://localhost:8080/"
        },
        "id": "be07a069",
        "outputId": "5e205907-2f17-4afa-fc0b-c519ac8b2aec"
      },
      "outputs": [
        {
          "output_type": "execute_result",
          "data": {
            "text/plain": [
              "(40432, 4)"
            ]
          },
          "metadata": {},
          "execution_count": 5
        }
      ],
      "source": [
        "data_fake_reviews.shape"
      ]
    },
    {
      "cell_type": "code",
      "execution_count": 6,
      "id": "5e24fb8a",
      "metadata": {
        "colab": {
          "base_uri": "https://localhost:8080/",
          "height": 206
        },
        "id": "5e24fb8a",
        "outputId": "e75e8d93-4a5e-4309-9b59-2373ad5a62e1"
      },
      "outputs": [
        {
          "output_type": "execute_result",
          "data": {
            "text/plain": [
              "             category  rating label  \\\n",
              "0  Home_and_Kitchen_5     5.0    CG   \n",
              "1  Home_and_Kitchen_5     5.0    CG   \n",
              "2  Home_and_Kitchen_5     5.0    CG   \n",
              "3  Home_and_Kitchen_5     1.0    CG   \n",
              "4  Home_and_Kitchen_5     5.0    CG   \n",
              "\n",
              "                                               text_  \n",
              "0  Love this!  Well made, sturdy, and very comfor...  \n",
              "1  love it, a great upgrade from the original.  I...  \n",
              "2  This pillow saved my back. I love the look and...  \n",
              "3  Missing information on how to use it, but it i...  \n",
              "4  Very nice set. Good quality. We have had the s...  "
            ],
            "text/html": [
              "\n",
              "  <div id=\"df-6d547df1-c413-46ec-b765-3e5d2687526e\" class=\"colab-df-container\">\n",
              "    <div>\n",
              "<style scoped>\n",
              "    .dataframe tbody tr th:only-of-type {\n",
              "        vertical-align: middle;\n",
              "    }\n",
              "\n",
              "    .dataframe tbody tr th {\n",
              "        vertical-align: top;\n",
              "    }\n",
              "\n",
              "    .dataframe thead th {\n",
              "        text-align: right;\n",
              "    }\n",
              "</style>\n",
              "<table border=\"1\" class=\"dataframe\">\n",
              "  <thead>\n",
              "    <tr style=\"text-align: right;\">\n",
              "      <th></th>\n",
              "      <th>category</th>\n",
              "      <th>rating</th>\n",
              "      <th>label</th>\n",
              "      <th>text_</th>\n",
              "    </tr>\n",
              "  </thead>\n",
              "  <tbody>\n",
              "    <tr>\n",
              "      <th>0</th>\n",
              "      <td>Home_and_Kitchen_5</td>\n",
              "      <td>5.0</td>\n",
              "      <td>CG</td>\n",
              "      <td>Love this!  Well made, sturdy, and very comfor...</td>\n",
              "    </tr>\n",
              "    <tr>\n",
              "      <th>1</th>\n",
              "      <td>Home_and_Kitchen_5</td>\n",
              "      <td>5.0</td>\n",
              "      <td>CG</td>\n",
              "      <td>love it, a great upgrade from the original.  I...</td>\n",
              "    </tr>\n",
              "    <tr>\n",
              "      <th>2</th>\n",
              "      <td>Home_and_Kitchen_5</td>\n",
              "      <td>5.0</td>\n",
              "      <td>CG</td>\n",
              "      <td>This pillow saved my back. I love the look and...</td>\n",
              "    </tr>\n",
              "    <tr>\n",
              "      <th>3</th>\n",
              "      <td>Home_and_Kitchen_5</td>\n",
              "      <td>1.0</td>\n",
              "      <td>CG</td>\n",
              "      <td>Missing information on how to use it, but it i...</td>\n",
              "    </tr>\n",
              "    <tr>\n",
              "      <th>4</th>\n",
              "      <td>Home_and_Kitchen_5</td>\n",
              "      <td>5.0</td>\n",
              "      <td>CG</td>\n",
              "      <td>Very nice set. Good quality. We have had the s...</td>\n",
              "    </tr>\n",
              "  </tbody>\n",
              "</table>\n",
              "</div>\n",
              "    <div class=\"colab-df-buttons\">\n",
              "\n",
              "  <div class=\"colab-df-container\">\n",
              "    <button class=\"colab-df-convert\" onclick=\"convertToInteractive('df-6d547df1-c413-46ec-b765-3e5d2687526e')\"\n",
              "            title=\"Convert this dataframe to an interactive table.\"\n",
              "            style=\"display:none;\">\n",
              "\n",
              "  <svg xmlns=\"http://www.w3.org/2000/svg\" height=\"24px\" viewBox=\"0 -960 960 960\">\n",
              "    <path d=\"M120-120v-720h720v720H120Zm60-500h600v-160H180v160Zm220 220h160v-160H400v160Zm0 220h160v-160H400v160ZM180-400h160v-160H180v160Zm440 0h160v-160H620v160ZM180-180h160v-160H180v160Zm440 0h160v-160H620v160Z\"/>\n",
              "  </svg>\n",
              "    </button>\n",
              "\n",
              "  <style>\n",
              "    .colab-df-container {\n",
              "      display:flex;\n",
              "      gap: 12px;\n",
              "    }\n",
              "\n",
              "    .colab-df-convert {\n",
              "      background-color: #E8F0FE;\n",
              "      border: none;\n",
              "      border-radius: 50%;\n",
              "      cursor: pointer;\n",
              "      display: none;\n",
              "      fill: #1967D2;\n",
              "      height: 32px;\n",
              "      padding: 0 0 0 0;\n",
              "      width: 32px;\n",
              "    }\n",
              "\n",
              "    .colab-df-convert:hover {\n",
              "      background-color: #E2EBFA;\n",
              "      box-shadow: 0px 1px 2px rgba(60, 64, 67, 0.3), 0px 1px 3px 1px rgba(60, 64, 67, 0.15);\n",
              "      fill: #174EA6;\n",
              "    }\n",
              "\n",
              "    .colab-df-buttons div {\n",
              "      margin-bottom: 4px;\n",
              "    }\n",
              "\n",
              "    [theme=dark] .colab-df-convert {\n",
              "      background-color: #3B4455;\n",
              "      fill: #D2E3FC;\n",
              "    }\n",
              "\n",
              "    [theme=dark] .colab-df-convert:hover {\n",
              "      background-color: #434B5C;\n",
              "      box-shadow: 0px 1px 3px 1px rgba(0, 0, 0, 0.15);\n",
              "      filter: drop-shadow(0px 1px 2px rgba(0, 0, 0, 0.3));\n",
              "      fill: #FFFFFF;\n",
              "    }\n",
              "  </style>\n",
              "\n",
              "    <script>\n",
              "      const buttonEl =\n",
              "        document.querySelector('#df-6d547df1-c413-46ec-b765-3e5d2687526e button.colab-df-convert');\n",
              "      buttonEl.style.display =\n",
              "        google.colab.kernel.accessAllowed ? 'block' : 'none';\n",
              "\n",
              "      async function convertToInteractive(key) {\n",
              "        const element = document.querySelector('#df-6d547df1-c413-46ec-b765-3e5d2687526e');\n",
              "        const dataTable =\n",
              "          await google.colab.kernel.invokeFunction('convertToInteractive',\n",
              "                                                    [key], {});\n",
              "        if (!dataTable) return;\n",
              "\n",
              "        const docLinkHtml = 'Like what you see? Visit the ' +\n",
              "          '<a target=\"_blank\" href=https://colab.research.google.com/notebooks/data_table.ipynb>data table notebook</a>'\n",
              "          + ' to learn more about interactive tables.';\n",
              "        element.innerHTML = '';\n",
              "        dataTable['output_type'] = 'display_data';\n",
              "        await google.colab.output.renderOutput(dataTable, element);\n",
              "        const docLink = document.createElement('div');\n",
              "        docLink.innerHTML = docLinkHtml;\n",
              "        element.appendChild(docLink);\n",
              "      }\n",
              "    </script>\n",
              "  </div>\n",
              "\n",
              "\n",
              "<div id=\"df-1d9b7e9d-092e-46f4-9476-c4894cd9340c\">\n",
              "  <button class=\"colab-df-quickchart\" onclick=\"quickchart('df-1d9b7e9d-092e-46f4-9476-c4894cd9340c')\"\n",
              "            title=\"Suggest charts.\"\n",
              "            style=\"display:none;\">\n",
              "\n",
              "<svg xmlns=\"http://www.w3.org/2000/svg\" height=\"24px\"viewBox=\"0 0 24 24\"\n",
              "     width=\"24px\">\n",
              "    <g>\n",
              "        <path d=\"M19 3H5c-1.1 0-2 .9-2 2v14c0 1.1.9 2 2 2h14c1.1 0 2-.9 2-2V5c0-1.1-.9-2-2-2zM9 17H7v-7h2v7zm4 0h-2V7h2v10zm4 0h-2v-4h2v4z\"/>\n",
              "    </g>\n",
              "</svg>\n",
              "  </button>\n",
              "\n",
              "<style>\n",
              "  .colab-df-quickchart {\n",
              "    background-color: #E8F0FE;\n",
              "    border: none;\n",
              "    border-radius: 50%;\n",
              "    cursor: pointer;\n",
              "    display: none;\n",
              "    fill: #1967D2;\n",
              "    height: 32px;\n",
              "    padding: 0 0 0 0;\n",
              "    width: 32px;\n",
              "  }\n",
              "\n",
              "  .colab-df-quickchart:hover {\n",
              "    background-color: #E2EBFA;\n",
              "    box-shadow: 0px 1px 2px rgba(60, 64, 67, 0.3), 0px 1px 3px 1px rgba(60, 64, 67, 0.15);\n",
              "    fill: #174EA6;\n",
              "  }\n",
              "\n",
              "  [theme=dark] .colab-df-quickchart {\n",
              "    background-color: #3B4455;\n",
              "    fill: #D2E3FC;\n",
              "  }\n",
              "\n",
              "  [theme=dark] .colab-df-quickchart:hover {\n",
              "    background-color: #434B5C;\n",
              "    box-shadow: 0px 1px 3px 1px rgba(0, 0, 0, 0.15);\n",
              "    filter: drop-shadow(0px 1px 2px rgba(0, 0, 0, 0.3));\n",
              "    fill: #FFFFFF;\n",
              "  }\n",
              "</style>\n",
              "\n",
              "  <script>\n",
              "    async function quickchart(key) {\n",
              "      const charts = await google.colab.kernel.invokeFunction(\n",
              "          'suggestCharts', [key], {});\n",
              "    }\n",
              "    (() => {\n",
              "      let quickchartButtonEl =\n",
              "        document.querySelector('#df-1d9b7e9d-092e-46f4-9476-c4894cd9340c button');\n",
              "      quickchartButtonEl.style.display =\n",
              "        google.colab.kernel.accessAllowed ? 'block' : 'none';\n",
              "    })();\n",
              "  </script>\n",
              "</div>\n",
              "    </div>\n",
              "  </div>\n"
            ]
          },
          "metadata": {},
          "execution_count": 6
        }
      ],
      "source": [
        "data_fake_reviews.head()"
      ]
    },
    {
      "cell_type": "code",
      "execution_count": 10,
      "id": "1a544dc6",
      "metadata": {
        "colab": {
          "base_uri": "https://localhost:8080/"
        },
        "id": "1a544dc6",
        "outputId": "9b4db122-8ea0-48fe-f9a0-10633143f786"
      },
      "outputs": [
        {
          "output_type": "execute_result",
          "data": {
            "text/plain": [
              "array(['Home_and_Kitchen_5', 'Sports_and_Outdoors_5', 'Electronics_5',\n",
              "       'Movies_and_TV_5', 'Tools_and_Home_Improvement_5',\n",
              "       'Pet_Supplies_5', 'Kindle_Store_5', 'Books_5', 'Toys_and_Games_5',\n",
              "       'Clothing_Shoes_and_Jewelry_5'], dtype=object)"
            ]
          },
          "metadata": {},
          "execution_count": 10
        }
      ],
      "source": [
        "data_fake_reviews['category'].unique()"
      ]
    },
    {
      "cell_type": "code",
      "execution_count": 8,
      "id": "bdcc3eac",
      "metadata": {
        "colab": {
          "base_uri": "https://localhost:8080/"
        },
        "id": "bdcc3eac",
        "outputId": "38d18695-1654-4970-8142-f7022031c6c6"
      },
      "outputs": [
        {
          "output_type": "execute_result",
          "data": {
            "text/plain": [
              "array(['CG', 'OR'], dtype=object)"
            ]
          },
          "metadata": {},
          "execution_count": 8
        }
      ],
      "source": [
        "data_fake_reviews.label.unique()"
      ]
    },
    {
      "cell_type": "code",
      "source": [
        "data_fake_reviews.info()"
      ],
      "metadata": {
        "colab": {
          "base_uri": "https://localhost:8080/"
        },
        "id": "hiFtNZtlNoOH",
        "outputId": "cc76b872-6cee-4e79-e04d-045821f87ad5"
      },
      "id": "hiFtNZtlNoOH",
      "execution_count": 11,
      "outputs": [
        {
          "output_type": "stream",
          "name": "stdout",
          "text": [
            "<class 'pandas.core.frame.DataFrame'>\n",
            "RangeIndex: 40432 entries, 0 to 40431\n",
            "Data columns (total 4 columns):\n",
            " #   Column    Non-Null Count  Dtype  \n",
            "---  ------    --------------  -----  \n",
            " 0   category  40432 non-null  object \n",
            " 1   rating    40432 non-null  float64\n",
            " 2   label     40432 non-null  object \n",
            " 3   text_     40432 non-null  object \n",
            "dtypes: float64(1), object(3)\n",
            "memory usage: 1.2+ MB\n"
          ]
        }
      ]
    },
    {
      "cell_type": "code",
      "execution_count": 9,
      "id": "a2bbfeff",
      "metadata": {
        "colab": {
          "base_uri": "https://localhost:8080/"
        },
        "id": "a2bbfeff",
        "outputId": "ddb51bfb-87fb-4ebf-975f-7cd012daefc8"
      },
      "outputs": [
        {
          "output_type": "execute_result",
          "data": {
            "text/plain": [
              "Index(['category', 'rating', 'label', 'text_'], dtype='object')"
            ]
          },
          "metadata": {},
          "execution_count": 9
        }
      ],
      "source": [
        "data_fake_reviews.columns"
      ]
    },
    {
      "cell_type": "code",
      "source": [
        "df_OR = data_fake_reviews[data_fake_reviews['label'] == 'OR']\n"
      ],
      "metadata": {
        "id": "_rZFjDLCNrJ_"
      },
      "id": "_rZFjDLCNrJ_",
      "execution_count": 12,
      "outputs": []
    },
    {
      "cell_type": "code",
      "source": [
        "df_CG = data_fake_reviews[data_fake_reviews['label'] == 'CG']"
      ],
      "metadata": {
        "id": "5yyYa6I0NrPc"
      },
      "id": "5yyYa6I0NrPc",
      "execution_count": 13,
      "outputs": []
    },
    {
      "cell_type": "code",
      "source": [
        "df_OR_sample = df_OR.sample(n=2000)"
      ],
      "metadata": {
        "id": "gIcG2P6MN13D"
      },
      "id": "gIcG2P6MN13D",
      "execution_count": 14,
      "outputs": []
    },
    {
      "cell_type": "code",
      "source": [
        "fake_reviews_true = df_OR_sample[['text_','label']]"
      ],
      "metadata": {
        "id": "og_X1_hDN18S"
      },
      "id": "og_X1_hDN18S",
      "execution_count": 15,
      "outputs": []
    },
    {
      "cell_type": "code",
      "source": [
        "fake_reviews_true"
      ],
      "metadata": {
        "colab": {
          "base_uri": "https://localhost:8080/",
          "height": 424
        },
        "id": "K2kc3LOBN4Gk",
        "outputId": "1189f9cf-6cb3-4674-d9e3-f77554165167"
      },
      "id": "K2kc3LOBN4Gk",
      "execution_count": 16,
      "outputs": [
        {
          "output_type": "execute_result",
          "data": {
            "text/plain": [
              "                                                   text_ label\n",
              "22419  I have two outside cats and this works great f...    OR\n",
              "14592  When I first saw this movie I was blown away b...    OR\n",
              "2898   The \"polish\" already shows lots of scratches, ...    OR\n",
              "1167   A nice idea that my daughter loved, too bad th...    OR\n",
              "30440  The book covers many ways to build and maintai...    OR\n",
              "...                                                  ...   ...\n",
              "33322  This was okay. Kids played with it a bit but t...    OR\n",
              "11857  I'm very disappointed in this drive, as even w...    OR\n",
              "6156   this bota bag is awsome , perfect size , stron...    OR\n",
              "16147  Easy to install the shower head is great to cl...    OR\n",
              "8525   worked out of the box with my mac mini on Face...    OR\n",
              "\n",
              "[2000 rows x 2 columns]"
            ],
            "text/html": [
              "\n",
              "  <div id=\"df-6a3b6431-079d-4938-9b10-0a98e498deaf\" class=\"colab-df-container\">\n",
              "    <div>\n",
              "<style scoped>\n",
              "    .dataframe tbody tr th:only-of-type {\n",
              "        vertical-align: middle;\n",
              "    }\n",
              "\n",
              "    .dataframe tbody tr th {\n",
              "        vertical-align: top;\n",
              "    }\n",
              "\n",
              "    .dataframe thead th {\n",
              "        text-align: right;\n",
              "    }\n",
              "</style>\n",
              "<table border=\"1\" class=\"dataframe\">\n",
              "  <thead>\n",
              "    <tr style=\"text-align: right;\">\n",
              "      <th></th>\n",
              "      <th>text_</th>\n",
              "      <th>label</th>\n",
              "    </tr>\n",
              "  </thead>\n",
              "  <tbody>\n",
              "    <tr>\n",
              "      <th>22419</th>\n",
              "      <td>I have two outside cats and this works great f...</td>\n",
              "      <td>OR</td>\n",
              "    </tr>\n",
              "    <tr>\n",
              "      <th>14592</th>\n",
              "      <td>When I first saw this movie I was blown away b...</td>\n",
              "      <td>OR</td>\n",
              "    </tr>\n",
              "    <tr>\n",
              "      <th>2898</th>\n",
              "      <td>The \"polish\" already shows lots of scratches, ...</td>\n",
              "      <td>OR</td>\n",
              "    </tr>\n",
              "    <tr>\n",
              "      <th>1167</th>\n",
              "      <td>A nice idea that my daughter loved, too bad th...</td>\n",
              "      <td>OR</td>\n",
              "    </tr>\n",
              "    <tr>\n",
              "      <th>30440</th>\n",
              "      <td>The book covers many ways to build and maintai...</td>\n",
              "      <td>OR</td>\n",
              "    </tr>\n",
              "    <tr>\n",
              "      <th>...</th>\n",
              "      <td>...</td>\n",
              "      <td>...</td>\n",
              "    </tr>\n",
              "    <tr>\n",
              "      <th>33322</th>\n",
              "      <td>This was okay. Kids played with it a bit but t...</td>\n",
              "      <td>OR</td>\n",
              "    </tr>\n",
              "    <tr>\n",
              "      <th>11857</th>\n",
              "      <td>I'm very disappointed in this drive, as even w...</td>\n",
              "      <td>OR</td>\n",
              "    </tr>\n",
              "    <tr>\n",
              "      <th>6156</th>\n",
              "      <td>this bota bag is awsome , perfect size , stron...</td>\n",
              "      <td>OR</td>\n",
              "    </tr>\n",
              "    <tr>\n",
              "      <th>16147</th>\n",
              "      <td>Easy to install the shower head is great to cl...</td>\n",
              "      <td>OR</td>\n",
              "    </tr>\n",
              "    <tr>\n",
              "      <th>8525</th>\n",
              "      <td>worked out of the box with my mac mini on Face...</td>\n",
              "      <td>OR</td>\n",
              "    </tr>\n",
              "  </tbody>\n",
              "</table>\n",
              "<p>2000 rows × 2 columns</p>\n",
              "</div>\n",
              "    <div class=\"colab-df-buttons\">\n",
              "\n",
              "  <div class=\"colab-df-container\">\n",
              "    <button class=\"colab-df-convert\" onclick=\"convertToInteractive('df-6a3b6431-079d-4938-9b10-0a98e498deaf')\"\n",
              "            title=\"Convert this dataframe to an interactive table.\"\n",
              "            style=\"display:none;\">\n",
              "\n",
              "  <svg xmlns=\"http://www.w3.org/2000/svg\" height=\"24px\" viewBox=\"0 -960 960 960\">\n",
              "    <path d=\"M120-120v-720h720v720H120Zm60-500h600v-160H180v160Zm220 220h160v-160H400v160Zm0 220h160v-160H400v160ZM180-400h160v-160H180v160Zm440 0h160v-160H620v160ZM180-180h160v-160H180v160Zm440 0h160v-160H620v160Z\"/>\n",
              "  </svg>\n",
              "    </button>\n",
              "\n",
              "  <style>\n",
              "    .colab-df-container {\n",
              "      display:flex;\n",
              "      gap: 12px;\n",
              "    }\n",
              "\n",
              "    .colab-df-convert {\n",
              "      background-color: #E8F0FE;\n",
              "      border: none;\n",
              "      border-radius: 50%;\n",
              "      cursor: pointer;\n",
              "      display: none;\n",
              "      fill: #1967D2;\n",
              "      height: 32px;\n",
              "      padding: 0 0 0 0;\n",
              "      width: 32px;\n",
              "    }\n",
              "\n",
              "    .colab-df-convert:hover {\n",
              "      background-color: #E2EBFA;\n",
              "      box-shadow: 0px 1px 2px rgba(60, 64, 67, 0.3), 0px 1px 3px 1px rgba(60, 64, 67, 0.15);\n",
              "      fill: #174EA6;\n",
              "    }\n",
              "\n",
              "    .colab-df-buttons div {\n",
              "      margin-bottom: 4px;\n",
              "    }\n",
              "\n",
              "    [theme=dark] .colab-df-convert {\n",
              "      background-color: #3B4455;\n",
              "      fill: #D2E3FC;\n",
              "    }\n",
              "\n",
              "    [theme=dark] .colab-df-convert:hover {\n",
              "      background-color: #434B5C;\n",
              "      box-shadow: 0px 1px 3px 1px rgba(0, 0, 0, 0.15);\n",
              "      filter: drop-shadow(0px 1px 2px rgba(0, 0, 0, 0.3));\n",
              "      fill: #FFFFFF;\n",
              "    }\n",
              "  </style>\n",
              "\n",
              "    <script>\n",
              "      const buttonEl =\n",
              "        document.querySelector('#df-6a3b6431-079d-4938-9b10-0a98e498deaf button.colab-df-convert');\n",
              "      buttonEl.style.display =\n",
              "        google.colab.kernel.accessAllowed ? 'block' : 'none';\n",
              "\n",
              "      async function convertToInteractive(key) {\n",
              "        const element = document.querySelector('#df-6a3b6431-079d-4938-9b10-0a98e498deaf');\n",
              "        const dataTable =\n",
              "          await google.colab.kernel.invokeFunction('convertToInteractive',\n",
              "                                                    [key], {});\n",
              "        if (!dataTable) return;\n",
              "\n",
              "        const docLinkHtml = 'Like what you see? Visit the ' +\n",
              "          '<a target=\"_blank\" href=https://colab.research.google.com/notebooks/data_table.ipynb>data table notebook</a>'\n",
              "          + ' to learn more about interactive tables.';\n",
              "        element.innerHTML = '';\n",
              "        dataTable['output_type'] = 'display_data';\n",
              "        await google.colab.output.renderOutput(dataTable, element);\n",
              "        const docLink = document.createElement('div');\n",
              "        docLink.innerHTML = docLinkHtml;\n",
              "        element.appendChild(docLink);\n",
              "      }\n",
              "    </script>\n",
              "  </div>\n",
              "\n",
              "\n",
              "<div id=\"df-6ae0c631-f684-4b77-89b6-7827440e8027\">\n",
              "  <button class=\"colab-df-quickchart\" onclick=\"quickchart('df-6ae0c631-f684-4b77-89b6-7827440e8027')\"\n",
              "            title=\"Suggest charts.\"\n",
              "            style=\"display:none;\">\n",
              "\n",
              "<svg xmlns=\"http://www.w3.org/2000/svg\" height=\"24px\"viewBox=\"0 0 24 24\"\n",
              "     width=\"24px\">\n",
              "    <g>\n",
              "        <path d=\"M19 3H5c-1.1 0-2 .9-2 2v14c0 1.1.9 2 2 2h14c1.1 0 2-.9 2-2V5c0-1.1-.9-2-2-2zM9 17H7v-7h2v7zm4 0h-2V7h2v10zm4 0h-2v-4h2v4z\"/>\n",
              "    </g>\n",
              "</svg>\n",
              "  </button>\n",
              "\n",
              "<style>\n",
              "  .colab-df-quickchart {\n",
              "    background-color: #E8F0FE;\n",
              "    border: none;\n",
              "    border-radius: 50%;\n",
              "    cursor: pointer;\n",
              "    display: none;\n",
              "    fill: #1967D2;\n",
              "    height: 32px;\n",
              "    padding: 0 0 0 0;\n",
              "    width: 32px;\n",
              "  }\n",
              "\n",
              "  .colab-df-quickchart:hover {\n",
              "    background-color: #E2EBFA;\n",
              "    box-shadow: 0px 1px 2px rgba(60, 64, 67, 0.3), 0px 1px 3px 1px rgba(60, 64, 67, 0.15);\n",
              "    fill: #174EA6;\n",
              "  }\n",
              "\n",
              "  [theme=dark] .colab-df-quickchart {\n",
              "    background-color: #3B4455;\n",
              "    fill: #D2E3FC;\n",
              "  }\n",
              "\n",
              "  [theme=dark] .colab-df-quickchart:hover {\n",
              "    background-color: #434B5C;\n",
              "    box-shadow: 0px 1px 3px 1px rgba(0, 0, 0, 0.15);\n",
              "    filter: drop-shadow(0px 1px 2px rgba(0, 0, 0, 0.3));\n",
              "    fill: #FFFFFF;\n",
              "  }\n",
              "</style>\n",
              "\n",
              "  <script>\n",
              "    async function quickchart(key) {\n",
              "      const charts = await google.colab.kernel.invokeFunction(\n",
              "          'suggestCharts', [key], {});\n",
              "    }\n",
              "    (() => {\n",
              "      let quickchartButtonEl =\n",
              "        document.querySelector('#df-6ae0c631-f684-4b77-89b6-7827440e8027 button');\n",
              "      quickchartButtonEl.style.display =\n",
              "        google.colab.kernel.accessAllowed ? 'block' : 'none';\n",
              "    })();\n",
              "  </script>\n",
              "</div>\n",
              "    </div>\n",
              "  </div>\n"
            ]
          },
          "metadata": {},
          "execution_count": 16
        }
      ]
    },
    {
      "cell_type": "code",
      "source": [
        "fake_reviews_gpt = pd.read_csv('./fake_reviews_gpt.csv')"
      ],
      "metadata": {
        "id": "_dWeGo9gN4Mq"
      },
      "id": "_dWeGo9gN4Mq",
      "execution_count": 17,
      "outputs": []
    },
    {
      "cell_type": "code",
      "source": [
        "fake_reviews_gpt.head()"
      ],
      "metadata": {
        "colab": {
          "base_uri": "https://localhost:8080/",
          "height": 206
        },
        "id": "uDJ5vA9-N9Ml",
        "outputId": "97353c47-0e5f-4e23-ae67-3f4b22df27bf"
      },
      "id": "uDJ5vA9-N9Ml",
      "execution_count": 18,
      "outputs": [
        {
          "output_type": "execute_result",
          "data": {
            "text/plain": [
              "                                               text_ label\n",
              "0  The 'WinterWonder' woolen hat is warm and cozy...    CG\n",
              "1  The 'SmoothMix' blender makes delicious smooth...    CG\n",
              "2  I'm very satisfied with this distance learning...    CG\n",
              "3  The movie 'Nebula Nebulae' is a visually stunn...    CG\n",
              "4  I'm very satisfied with this electric shaver. ...    CG"
            ],
            "text/html": [
              "\n",
              "  <div id=\"df-d37c1752-8f3d-46b5-8c27-1b3df1da2b39\" class=\"colab-df-container\">\n",
              "    <div>\n",
              "<style scoped>\n",
              "    .dataframe tbody tr th:only-of-type {\n",
              "        vertical-align: middle;\n",
              "    }\n",
              "\n",
              "    .dataframe tbody tr th {\n",
              "        vertical-align: top;\n",
              "    }\n",
              "\n",
              "    .dataframe thead th {\n",
              "        text-align: right;\n",
              "    }\n",
              "</style>\n",
              "<table border=\"1\" class=\"dataframe\">\n",
              "  <thead>\n",
              "    <tr style=\"text-align: right;\">\n",
              "      <th></th>\n",
              "      <th>text_</th>\n",
              "      <th>label</th>\n",
              "    </tr>\n",
              "  </thead>\n",
              "  <tbody>\n",
              "    <tr>\n",
              "      <th>0</th>\n",
              "      <td>The 'WinterWonder' woolen hat is warm and cozy...</td>\n",
              "      <td>CG</td>\n",
              "    </tr>\n",
              "    <tr>\n",
              "      <th>1</th>\n",
              "      <td>The 'SmoothMix' blender makes delicious smooth...</td>\n",
              "      <td>CG</td>\n",
              "    </tr>\n",
              "    <tr>\n",
              "      <th>2</th>\n",
              "      <td>I'm very satisfied with this distance learning...</td>\n",
              "      <td>CG</td>\n",
              "    </tr>\n",
              "    <tr>\n",
              "      <th>3</th>\n",
              "      <td>The movie 'Nebula Nebulae' is a visually stunn...</td>\n",
              "      <td>CG</td>\n",
              "    </tr>\n",
              "    <tr>\n",
              "      <th>4</th>\n",
              "      <td>I'm very satisfied with this electric shaver. ...</td>\n",
              "      <td>CG</td>\n",
              "    </tr>\n",
              "  </tbody>\n",
              "</table>\n",
              "</div>\n",
              "    <div class=\"colab-df-buttons\">\n",
              "\n",
              "  <div class=\"colab-df-container\">\n",
              "    <button class=\"colab-df-convert\" onclick=\"convertToInteractive('df-d37c1752-8f3d-46b5-8c27-1b3df1da2b39')\"\n",
              "            title=\"Convert this dataframe to an interactive table.\"\n",
              "            style=\"display:none;\">\n",
              "\n",
              "  <svg xmlns=\"http://www.w3.org/2000/svg\" height=\"24px\" viewBox=\"0 -960 960 960\">\n",
              "    <path d=\"M120-120v-720h720v720H120Zm60-500h600v-160H180v160Zm220 220h160v-160H400v160Zm0 220h160v-160H400v160ZM180-400h160v-160H180v160Zm440 0h160v-160H620v160ZM180-180h160v-160H180v160Zm440 0h160v-160H620v160Z\"/>\n",
              "  </svg>\n",
              "    </button>\n",
              "\n",
              "  <style>\n",
              "    .colab-df-container {\n",
              "      display:flex;\n",
              "      gap: 12px;\n",
              "    }\n",
              "\n",
              "    .colab-df-convert {\n",
              "      background-color: #E8F0FE;\n",
              "      border: none;\n",
              "      border-radius: 50%;\n",
              "      cursor: pointer;\n",
              "      display: none;\n",
              "      fill: #1967D2;\n",
              "      height: 32px;\n",
              "      padding: 0 0 0 0;\n",
              "      width: 32px;\n",
              "    }\n",
              "\n",
              "    .colab-df-convert:hover {\n",
              "      background-color: #E2EBFA;\n",
              "      box-shadow: 0px 1px 2px rgba(60, 64, 67, 0.3), 0px 1px 3px 1px rgba(60, 64, 67, 0.15);\n",
              "      fill: #174EA6;\n",
              "    }\n",
              "\n",
              "    .colab-df-buttons div {\n",
              "      margin-bottom: 4px;\n",
              "    }\n",
              "\n",
              "    [theme=dark] .colab-df-convert {\n",
              "      background-color: #3B4455;\n",
              "      fill: #D2E3FC;\n",
              "    }\n",
              "\n",
              "    [theme=dark] .colab-df-convert:hover {\n",
              "      background-color: #434B5C;\n",
              "      box-shadow: 0px 1px 3px 1px rgba(0, 0, 0, 0.15);\n",
              "      filter: drop-shadow(0px 1px 2px rgba(0, 0, 0, 0.3));\n",
              "      fill: #FFFFFF;\n",
              "    }\n",
              "  </style>\n",
              "\n",
              "    <script>\n",
              "      const buttonEl =\n",
              "        document.querySelector('#df-d37c1752-8f3d-46b5-8c27-1b3df1da2b39 button.colab-df-convert');\n",
              "      buttonEl.style.display =\n",
              "        google.colab.kernel.accessAllowed ? 'block' : 'none';\n",
              "\n",
              "      async function convertToInteractive(key) {\n",
              "        const element = document.querySelector('#df-d37c1752-8f3d-46b5-8c27-1b3df1da2b39');\n",
              "        const dataTable =\n",
              "          await google.colab.kernel.invokeFunction('convertToInteractive',\n",
              "                                                    [key], {});\n",
              "        if (!dataTable) return;\n",
              "\n",
              "        const docLinkHtml = 'Like what you see? Visit the ' +\n",
              "          '<a target=\"_blank\" href=https://colab.research.google.com/notebooks/data_table.ipynb>data table notebook</a>'\n",
              "          + ' to learn more about interactive tables.';\n",
              "        element.innerHTML = '';\n",
              "        dataTable['output_type'] = 'display_data';\n",
              "        await google.colab.output.renderOutput(dataTable, element);\n",
              "        const docLink = document.createElement('div');\n",
              "        docLink.innerHTML = docLinkHtml;\n",
              "        element.appendChild(docLink);\n",
              "      }\n",
              "    </script>\n",
              "  </div>\n",
              "\n",
              "\n",
              "<div id=\"df-23dc8c92-679a-412c-9b40-26bba503afe8\">\n",
              "  <button class=\"colab-df-quickchart\" onclick=\"quickchart('df-23dc8c92-679a-412c-9b40-26bba503afe8')\"\n",
              "            title=\"Suggest charts.\"\n",
              "            style=\"display:none;\">\n",
              "\n",
              "<svg xmlns=\"http://www.w3.org/2000/svg\" height=\"24px\"viewBox=\"0 0 24 24\"\n",
              "     width=\"24px\">\n",
              "    <g>\n",
              "        <path d=\"M19 3H5c-1.1 0-2 .9-2 2v14c0 1.1.9 2 2 2h14c1.1 0 2-.9 2-2V5c0-1.1-.9-2-2-2zM9 17H7v-7h2v7zm4 0h-2V7h2v10zm4 0h-2v-4h2v4z\"/>\n",
              "    </g>\n",
              "</svg>\n",
              "  </button>\n",
              "\n",
              "<style>\n",
              "  .colab-df-quickchart {\n",
              "    background-color: #E8F0FE;\n",
              "    border: none;\n",
              "    border-radius: 50%;\n",
              "    cursor: pointer;\n",
              "    display: none;\n",
              "    fill: #1967D2;\n",
              "    height: 32px;\n",
              "    padding: 0 0 0 0;\n",
              "    width: 32px;\n",
              "  }\n",
              "\n",
              "  .colab-df-quickchart:hover {\n",
              "    background-color: #E2EBFA;\n",
              "    box-shadow: 0px 1px 2px rgba(60, 64, 67, 0.3), 0px 1px 3px 1px rgba(60, 64, 67, 0.15);\n",
              "    fill: #174EA6;\n",
              "  }\n",
              "\n",
              "  [theme=dark] .colab-df-quickchart {\n",
              "    background-color: #3B4455;\n",
              "    fill: #D2E3FC;\n",
              "  }\n",
              "\n",
              "  [theme=dark] .colab-df-quickchart:hover {\n",
              "    background-color: #434B5C;\n",
              "    box-shadow: 0px 1px 3px 1px rgba(0, 0, 0, 0.15);\n",
              "    filter: drop-shadow(0px 1px 2px rgba(0, 0, 0, 0.3));\n",
              "    fill: #FFFFFF;\n",
              "  }\n",
              "</style>\n",
              "\n",
              "  <script>\n",
              "    async function quickchart(key) {\n",
              "      const charts = await google.colab.kernel.invokeFunction(\n",
              "          'suggestCharts', [key], {});\n",
              "    }\n",
              "    (() => {\n",
              "      let quickchartButtonEl =\n",
              "        document.querySelector('#df-23dc8c92-679a-412c-9b40-26bba503afe8 button');\n",
              "      quickchartButtonEl.style.display =\n",
              "        google.colab.kernel.accessAllowed ? 'block' : 'none';\n",
              "    })();\n",
              "  </script>\n",
              "</div>\n",
              "    </div>\n",
              "  </div>\n"
            ]
          },
          "metadata": {},
          "execution_count": 18
        }
      ]
    },
    {
      "cell_type": "code",
      "source": [
        "# Combine the dataframes\n",
        "combined_df = pd.concat([fake_reviews_true, fake_reviews_gpt])\n",
        "\n",
        "# Shuffle the combined dataframe\n",
        "shuffled_df = combined_df.sample(frac=1).reset_index(drop=True)\n"
      ],
      "metadata": {
        "id": "2QNJNaMsN9TV"
      },
      "id": "2QNJNaMsN9TV",
      "execution_count": 19,
      "outputs": []
    },
    {
      "cell_type": "code",
      "source": [],
      "metadata": {
        "id": "SjK7RoyyN9Zi"
      },
      "id": "SjK7RoyyN9Zi",
      "execution_count": null,
      "outputs": []
    },
    {
      "cell_type": "markdown",
      "id": "84a4b327",
      "metadata": {
        "id": "84a4b327"
      },
      "source": [
        "# Obtain the training dataset and validation dataset"
      ]
    },
    {
      "cell_type": "code",
      "execution_count": 20,
      "id": "4bc2d7a2",
      "metadata": {
        "id": "4bc2d7a2"
      },
      "outputs": [],
      "source": [
        "dict_target = {'CG':0, 'OR':1}\n",
        "def encode_label(x):\n",
        "    return dict_target.get(x,-1)"
      ]
    },
    {
      "cell_type": "code",
      "execution_count": 21,
      "id": "ebb80fce",
      "metadata": {
        "id": "ebb80fce"
      },
      "outputs": [],
      "source": [
        "data_fake_reviews[\"target\"] = data_fake_reviews[\"label\"].apply(lambda x: encode_label(x))"
      ]
    },
    {
      "cell_type": "code",
      "source": [
        "shuffled_df[\"target\"] = shuffled_df[\"label\"].apply(lambda x: encode_label(x))"
      ],
      "metadata": {
        "id": "30hhVF5qOQRL"
      },
      "id": "30hhVF5qOQRL",
      "execution_count": 22,
      "outputs": []
    },
    {
      "cell_type": "code",
      "execution_count": 23,
      "id": "6be35d60",
      "metadata": {
        "id": "6be35d60"
      },
      "outputs": [],
      "source": [
        "# Split the data into training and validation sets\n",
        "train_dataset, valid_dataset  = train_test_split(shuffled_df, test_size=0.2, shuffle=True, stratify=None, random_state=2021)"
      ]
    },
    {
      "cell_type": "code",
      "source": [
        "train_dataset.shape"
      ],
      "metadata": {
        "colab": {
          "base_uri": "https://localhost:8080/"
        },
        "id": "W-99e6qxOm7n",
        "outputId": "660305b4-165e-48dd-a1c2-81ed181f9ed5"
      },
      "id": "W-99e6qxOm7n",
      "execution_count": 24,
      "outputs": [
        {
          "output_type": "execute_result",
          "data": {
            "text/plain": [
              "(3200, 3)"
            ]
          },
          "metadata": {},
          "execution_count": 24
        }
      ]
    },
    {
      "cell_type": "code",
      "execution_count": 25,
      "id": "unEAIZfdTGFm",
      "metadata": {
        "id": "unEAIZfdTGFm"
      },
      "outputs": [],
      "source": [
        "# Split the data into training and validation sets\n",
        "train_dataset_new, tv_dataset = train_test_split(data_fake_reviews, test_size=0.4, shuffle=True, stratify=None, random_state=2021)"
      ]
    },
    {
      "cell_type": "code",
      "source": [
        "test_dataset_raw, valid_dataset_new = train_test_split(tv_dataset, test_size=0.5, shuffle=True, stratify=None, random_state=2021)"
      ],
      "metadata": {
        "id": "_M4iCGXvOtvr"
      },
      "id": "_M4iCGXvOtvr",
      "execution_count": 26,
      "outputs": []
    },
    {
      "cell_type": "code",
      "source": [
        "train_dataset_new.shape"
      ],
      "metadata": {
        "colab": {
          "base_uri": "https://localhost:8080/"
        },
        "id": "Ha9vnsW3Ot3c",
        "outputId": "337a3ddf-006f-4d50-deba-38c77793c6b7"
      },
      "id": "Ha9vnsW3Ot3c",
      "execution_count": 27,
      "outputs": [
        {
          "output_type": "execute_result",
          "data": {
            "text/plain": [
              "(24259, 5)"
            ]
          },
          "metadata": {},
          "execution_count": 27
        }
      ]
    },
    {
      "cell_type": "code",
      "source": [
        "train_dataset_new_true = train_dataset_new[['text_','label','target']]"
      ],
      "metadata": {
        "id": "sf045k-8Ot_k"
      },
      "id": "sf045k-8Ot_k",
      "execution_count": 28,
      "outputs": []
    },
    {
      "cell_type": "code",
      "source": [
        "fake_reviews_gpt[\"target\"] = fake_reviews_gpt[\"label\"].apply(lambda x: encode_label(x))"
      ],
      "metadata": {
        "id": "uuUc9Z6nOuG8"
      },
      "id": "uuUc9Z6nOuG8",
      "execution_count": 29,
      "outputs": []
    },
    {
      "cell_type": "code",
      "source": [
        "fake_reviews_gpt"
      ],
      "metadata": {
        "colab": {
          "base_uri": "https://localhost:8080/",
          "height": 424
        },
        "id": "MyGCgqZaOuOp",
        "outputId": "81442306-82b3-4694-8fb2-6a860cbe4ad8"
      },
      "id": "MyGCgqZaOuOp",
      "execution_count": 30,
      "outputs": [
        {
          "output_type": "execute_result",
          "data": {
            "text/plain": [
              "                                                  text_ label  target\n",
              "0     The 'WinterWonder' woolen hat is warm and cozy...    CG       0\n",
              "1     The 'SmoothMix' blender makes delicious smooth...    CG       0\n",
              "2     I'm very satisfied with this distance learning...    CG       0\n",
              "3     The movie 'Nebula Nebulae' is a visually stunn...    CG       0\n",
              "4     I'm very satisfied with this electric shaver. ...    CG       0\n",
              "...                                                 ...   ...     ...\n",
              "1995  'Planetary Plushies' are soft, colorful, and e...    CG       0\n",
              "1996  The TV series 'Galactic Guardians' is a superh...    CG       0\n",
              "1997  This virtual reality gaming service is impress...    CG       0\n",
              "1998  The movie 'Astral Alliances' is an action-pack...    CG       0\n",
              "1999  This range hood is fantastic. It's powerful, t...    CG       0\n",
              "\n",
              "[2000 rows x 3 columns]"
            ],
            "text/html": [
              "\n",
              "  <div id=\"df-caf074ec-cddf-47dc-8dca-b8c75ae32970\" class=\"colab-df-container\">\n",
              "    <div>\n",
              "<style scoped>\n",
              "    .dataframe tbody tr th:only-of-type {\n",
              "        vertical-align: middle;\n",
              "    }\n",
              "\n",
              "    .dataframe tbody tr th {\n",
              "        vertical-align: top;\n",
              "    }\n",
              "\n",
              "    .dataframe thead th {\n",
              "        text-align: right;\n",
              "    }\n",
              "</style>\n",
              "<table border=\"1\" class=\"dataframe\">\n",
              "  <thead>\n",
              "    <tr style=\"text-align: right;\">\n",
              "      <th></th>\n",
              "      <th>text_</th>\n",
              "      <th>label</th>\n",
              "      <th>target</th>\n",
              "    </tr>\n",
              "  </thead>\n",
              "  <tbody>\n",
              "    <tr>\n",
              "      <th>0</th>\n",
              "      <td>The 'WinterWonder' woolen hat is warm and cozy...</td>\n",
              "      <td>CG</td>\n",
              "      <td>0</td>\n",
              "    </tr>\n",
              "    <tr>\n",
              "      <th>1</th>\n",
              "      <td>The 'SmoothMix' blender makes delicious smooth...</td>\n",
              "      <td>CG</td>\n",
              "      <td>0</td>\n",
              "    </tr>\n",
              "    <tr>\n",
              "      <th>2</th>\n",
              "      <td>I'm very satisfied with this distance learning...</td>\n",
              "      <td>CG</td>\n",
              "      <td>0</td>\n",
              "    </tr>\n",
              "    <tr>\n",
              "      <th>3</th>\n",
              "      <td>The movie 'Nebula Nebulae' is a visually stunn...</td>\n",
              "      <td>CG</td>\n",
              "      <td>0</td>\n",
              "    </tr>\n",
              "    <tr>\n",
              "      <th>4</th>\n",
              "      <td>I'm very satisfied with this electric shaver. ...</td>\n",
              "      <td>CG</td>\n",
              "      <td>0</td>\n",
              "    </tr>\n",
              "    <tr>\n",
              "      <th>...</th>\n",
              "      <td>...</td>\n",
              "      <td>...</td>\n",
              "      <td>...</td>\n",
              "    </tr>\n",
              "    <tr>\n",
              "      <th>1995</th>\n",
              "      <td>'Planetary Plushies' are soft, colorful, and e...</td>\n",
              "      <td>CG</td>\n",
              "      <td>0</td>\n",
              "    </tr>\n",
              "    <tr>\n",
              "      <th>1996</th>\n",
              "      <td>The TV series 'Galactic Guardians' is a superh...</td>\n",
              "      <td>CG</td>\n",
              "      <td>0</td>\n",
              "    </tr>\n",
              "    <tr>\n",
              "      <th>1997</th>\n",
              "      <td>This virtual reality gaming service is impress...</td>\n",
              "      <td>CG</td>\n",
              "      <td>0</td>\n",
              "    </tr>\n",
              "    <tr>\n",
              "      <th>1998</th>\n",
              "      <td>The movie 'Astral Alliances' is an action-pack...</td>\n",
              "      <td>CG</td>\n",
              "      <td>0</td>\n",
              "    </tr>\n",
              "    <tr>\n",
              "      <th>1999</th>\n",
              "      <td>This range hood is fantastic. It's powerful, t...</td>\n",
              "      <td>CG</td>\n",
              "      <td>0</td>\n",
              "    </tr>\n",
              "  </tbody>\n",
              "</table>\n",
              "<p>2000 rows × 3 columns</p>\n",
              "</div>\n",
              "    <div class=\"colab-df-buttons\">\n",
              "\n",
              "  <div class=\"colab-df-container\">\n",
              "    <button class=\"colab-df-convert\" onclick=\"convertToInteractive('df-caf074ec-cddf-47dc-8dca-b8c75ae32970')\"\n",
              "            title=\"Convert this dataframe to an interactive table.\"\n",
              "            style=\"display:none;\">\n",
              "\n",
              "  <svg xmlns=\"http://www.w3.org/2000/svg\" height=\"24px\" viewBox=\"0 -960 960 960\">\n",
              "    <path d=\"M120-120v-720h720v720H120Zm60-500h600v-160H180v160Zm220 220h160v-160H400v160Zm0 220h160v-160H400v160ZM180-400h160v-160H180v160Zm440 0h160v-160H620v160ZM180-180h160v-160H180v160Zm440 0h160v-160H620v160Z\"/>\n",
              "  </svg>\n",
              "    </button>\n",
              "\n",
              "  <style>\n",
              "    .colab-df-container {\n",
              "      display:flex;\n",
              "      gap: 12px;\n",
              "    }\n",
              "\n",
              "    .colab-df-convert {\n",
              "      background-color: #E8F0FE;\n",
              "      border: none;\n",
              "      border-radius: 50%;\n",
              "      cursor: pointer;\n",
              "      display: none;\n",
              "      fill: #1967D2;\n",
              "      height: 32px;\n",
              "      padding: 0 0 0 0;\n",
              "      width: 32px;\n",
              "    }\n",
              "\n",
              "    .colab-df-convert:hover {\n",
              "      background-color: #E2EBFA;\n",
              "      box-shadow: 0px 1px 2px rgba(60, 64, 67, 0.3), 0px 1px 3px 1px rgba(60, 64, 67, 0.15);\n",
              "      fill: #174EA6;\n",
              "    }\n",
              "\n",
              "    .colab-df-buttons div {\n",
              "      margin-bottom: 4px;\n",
              "    }\n",
              "\n",
              "    [theme=dark] .colab-df-convert {\n",
              "      background-color: #3B4455;\n",
              "      fill: #D2E3FC;\n",
              "    }\n",
              "\n",
              "    [theme=dark] .colab-df-convert:hover {\n",
              "      background-color: #434B5C;\n",
              "      box-shadow: 0px 1px 3px 1px rgba(0, 0, 0, 0.15);\n",
              "      filter: drop-shadow(0px 1px 2px rgba(0, 0, 0, 0.3));\n",
              "      fill: #FFFFFF;\n",
              "    }\n",
              "  </style>\n",
              "\n",
              "    <script>\n",
              "      const buttonEl =\n",
              "        document.querySelector('#df-caf074ec-cddf-47dc-8dca-b8c75ae32970 button.colab-df-convert');\n",
              "      buttonEl.style.display =\n",
              "        google.colab.kernel.accessAllowed ? 'block' : 'none';\n",
              "\n",
              "      async function convertToInteractive(key) {\n",
              "        const element = document.querySelector('#df-caf074ec-cddf-47dc-8dca-b8c75ae32970');\n",
              "        const dataTable =\n",
              "          await google.colab.kernel.invokeFunction('convertToInteractive',\n",
              "                                                    [key], {});\n",
              "        if (!dataTable) return;\n",
              "\n",
              "        const docLinkHtml = 'Like what you see? Visit the ' +\n",
              "          '<a target=\"_blank\" href=https://colab.research.google.com/notebooks/data_table.ipynb>data table notebook</a>'\n",
              "          + ' to learn more about interactive tables.';\n",
              "        element.innerHTML = '';\n",
              "        dataTable['output_type'] = 'display_data';\n",
              "        await google.colab.output.renderOutput(dataTable, element);\n",
              "        const docLink = document.createElement('div');\n",
              "        docLink.innerHTML = docLinkHtml;\n",
              "        element.appendChild(docLink);\n",
              "      }\n",
              "    </script>\n",
              "  </div>\n",
              "\n",
              "\n",
              "<div id=\"df-e6ef2a8a-fe27-4740-aae1-fb4052ec3310\">\n",
              "  <button class=\"colab-df-quickchart\" onclick=\"quickchart('df-e6ef2a8a-fe27-4740-aae1-fb4052ec3310')\"\n",
              "            title=\"Suggest charts.\"\n",
              "            style=\"display:none;\">\n",
              "\n",
              "<svg xmlns=\"http://www.w3.org/2000/svg\" height=\"24px\"viewBox=\"0 0 24 24\"\n",
              "     width=\"24px\">\n",
              "    <g>\n",
              "        <path d=\"M19 3H5c-1.1 0-2 .9-2 2v14c0 1.1.9 2 2 2h14c1.1 0 2-.9 2-2V5c0-1.1-.9-2-2-2zM9 17H7v-7h2v7zm4 0h-2V7h2v10zm4 0h-2v-4h2v4z\"/>\n",
              "    </g>\n",
              "</svg>\n",
              "  </button>\n",
              "\n",
              "<style>\n",
              "  .colab-df-quickchart {\n",
              "    background-color: #E8F0FE;\n",
              "    border: none;\n",
              "    border-radius: 50%;\n",
              "    cursor: pointer;\n",
              "    display: none;\n",
              "    fill: #1967D2;\n",
              "    height: 32px;\n",
              "    padding: 0 0 0 0;\n",
              "    width: 32px;\n",
              "  }\n",
              "\n",
              "  .colab-df-quickchart:hover {\n",
              "    background-color: #E2EBFA;\n",
              "    box-shadow: 0px 1px 2px rgba(60, 64, 67, 0.3), 0px 1px 3px 1px rgba(60, 64, 67, 0.15);\n",
              "    fill: #174EA6;\n",
              "  }\n",
              "\n",
              "  [theme=dark] .colab-df-quickchart {\n",
              "    background-color: #3B4455;\n",
              "    fill: #D2E3FC;\n",
              "  }\n",
              "\n",
              "  [theme=dark] .colab-df-quickchart:hover {\n",
              "    background-color: #434B5C;\n",
              "    box-shadow: 0px 1px 3px 1px rgba(0, 0, 0, 0.15);\n",
              "    filter: drop-shadow(0px 1px 2px rgba(0, 0, 0, 0.3));\n",
              "    fill: #FFFFFF;\n",
              "  }\n",
              "</style>\n",
              "\n",
              "  <script>\n",
              "    async function quickchart(key) {\n",
              "      const charts = await google.colab.kernel.invokeFunction(\n",
              "          'suggestCharts', [key], {});\n",
              "    }\n",
              "    (() => {\n",
              "      let quickchartButtonEl =\n",
              "        document.querySelector('#df-e6ef2a8a-fe27-4740-aae1-fb4052ec3310 button');\n",
              "      quickchartButtonEl.style.display =\n",
              "        google.colab.kernel.accessAllowed ? 'block' : 'none';\n",
              "    })();\n",
              "  </script>\n",
              "</div>\n",
              "    </div>\n",
              "  </div>\n"
            ]
          },
          "metadata": {},
          "execution_count": 30
        }
      ]
    },
    {
      "cell_type": "code",
      "source": [
        "# Combine the dataframes\n",
        "combined_df = pd.concat([train_dataset_new_true, fake_reviews_gpt])\n",
        "\n",
        "# Shuffle the combined dataframe\n",
        "train_dataset = combined_df.sample(frac=1).reset_index(drop=True)"
      ],
      "metadata": {
        "id": "8dxC2RY8OuWM"
      },
      "id": "8dxC2RY8OuWM",
      "execution_count": 31,
      "outputs": []
    },
    {
      "cell_type": "code",
      "source": [
        "train_dataset.shape"
      ],
      "metadata": {
        "colab": {
          "base_uri": "https://localhost:8080/"
        },
        "id": "anru35A-O44-",
        "outputId": "5af8c62d-3341-42ab-de88-9646425f3d1e"
      },
      "id": "anru35A-O44-",
      "execution_count": 32,
      "outputs": [
        {
          "output_type": "execute_result",
          "data": {
            "text/plain": [
              "(26259, 3)"
            ]
          },
          "metadata": {},
          "execution_count": 32
        }
      ]
    },
    {
      "cell_type": "code",
      "source": [
        "train_dataset_0 = train_dataset_new[train_dataset_new['target']==0]"
      ],
      "metadata": {
        "id": "L6n3bM1RO496"
      },
      "id": "L6n3bM1RO496",
      "execution_count": 33,
      "outputs": []
    },
    {
      "cell_type": "code",
      "source": [
        "train_dataset_0.shape"
      ],
      "metadata": {
        "colab": {
          "base_uri": "https://localhost:8080/"
        },
        "id": "S6OA3yoIO5Dw",
        "outputId": "53f429f2-7467-42a0-f6ab-dd4a411914df"
      },
      "id": "S6OA3yoIO5Dw",
      "execution_count": 34,
      "outputs": [
        {
          "output_type": "execute_result",
          "data": {
            "text/plain": [
              "(12178, 5)"
            ]
          },
          "metadata": {},
          "execution_count": 34
        }
      ]
    },
    {
      "cell_type": "code",
      "source": [
        "# Load the tokenizer\n",
        "tokenizer = RobertaTokenizer.from_pretrained('roberta-base')"
      ],
      "metadata": {
        "colab": {
          "base_uri": "https://localhost:8080/",
          "height": 113,
          "referenced_widgets": [
            "d44dd63976ac4806aae93fe9f47bfef6",
            "6391912fccee4856aea900459d42190e",
            "2dd7a2a23a9d4999897ac0e351957641",
            "47b62b4e55a440d4980107670d6d1434",
            "3eed6bdb14354078921f24941835c521",
            "a60ce57ce0394e47aabb34e9315f32c9",
            "8f70cfd81f744e5a95e470880cff1567",
            "f8338c3f870a4c73b82535b98ac03b9f",
            "d1238ea195e44dd99bb87733943ab0fb",
            "9d0b253a371c4a8995354c4b47df4861",
            "d661fe9854e24002b8bd5425a10c8dcb",
            "dac3b65ba8a74baf85a02e76e6fa0805",
            "83754067abc64576aa89c1cdfc3c14b4",
            "90b3a3fa000843e69c6337a3ade11c8e",
            "fa62a41cf81e4612ba4a6ab521e46eba",
            "fa9b07a464e14d7d8b20b9979b58bb39",
            "e369743aadb94dc6ad8967e5e6dd620a",
            "89bf1062e79847e1a340caae4076ddd1",
            "5ac33548ad7c44f5985f60f9fc670aa4",
            "d17ebd6387b64218bc865f67af287ae7",
            "3269fadbeedd48d0af6126f0c670b71b",
            "b6f1b245a7b8438893f2f17c63b581f5",
            "ad006cea1b624f50821f5c1c7f1469de",
            "131337fdae7c48f180cbb7a24be9ad65",
            "82e6699b117344fbbeb17d77ee0957bd",
            "14ce217309cb48a38771b8babfab9f87",
            "7f7a26d569a143228ba3bcc234326c8a",
            "dc4ee52078b44cf49a69c6bd8bc49af2",
            "226192e89d5946999b5b3528864b9bc0",
            "281f9066883a46f08f2a4502f44b566c",
            "fafaefbe6a1442cdbb24c5c613c11f94",
            "b6ab8b90fec2455ca3889c3aea1f4175",
            "dd61f965839a409c9c99f948c3d952e3"
          ]
        },
        "id": "Q8yo7qN_O5Jj",
        "outputId": "a5243ee9-f6fe-4621-c4f8-57b03f65d6eb"
      },
      "id": "Q8yo7qN_O5Jj",
      "execution_count": 35,
      "outputs": [
        {
          "output_type": "display_data",
          "data": {
            "text/plain": [
              "Downloading (…)olve/main/vocab.json:   0%|          | 0.00/899k [00:00<?, ?B/s]"
            ],
            "application/vnd.jupyter.widget-view+json": {
              "version_major": 2,
              "version_minor": 0,
              "model_id": "d44dd63976ac4806aae93fe9f47bfef6"
            }
          },
          "metadata": {}
        },
        {
          "output_type": "display_data",
          "data": {
            "text/plain": [
              "Downloading (…)olve/main/merges.txt:   0%|          | 0.00/456k [00:00<?, ?B/s]"
            ],
            "application/vnd.jupyter.widget-view+json": {
              "version_major": 2,
              "version_minor": 0,
              "model_id": "dac3b65ba8a74baf85a02e76e6fa0805"
            }
          },
          "metadata": {}
        },
        {
          "output_type": "display_data",
          "data": {
            "text/plain": [
              "Downloading (…)lve/main/config.json:   0%|          | 0.00/481 [00:00<?, ?B/s]"
            ],
            "application/vnd.jupyter.widget-view+json": {
              "version_major": 2,
              "version_minor": 0,
              "model_id": "ad006cea1b624f50821f5c1c7f1469de"
            }
          },
          "metadata": {}
        }
      ]
    },
    {
      "cell_type": "code",
      "source": [
        "# Tokenize the data\n",
        "train_encodings = tokenizer(train_dataset['text_'].tolist(), truncation=True, padding=True, max_length=256)\n",
        "valid_encodings = tokenizer(valid_dataset_new['text_'].tolist(), truncation=True, padding=True, max_length=256)\n",
        "test_encodings = tokenizer(test_dataset_raw['text_'].tolist(), truncation=True, padding=True, max_length=256)"
      ],
      "metadata": {
        "id": "nii3ReI7O5PV"
      },
      "id": "nii3ReI7O5PV",
      "execution_count": 36,
      "outputs": []
    },
    {
      "cell_type": "code",
      "source": [
        "# Convert the data to TensorFlow tensors\n",
        "train_dataset_tf = tf.data.Dataset.from_tensor_slices((\n",
        "    dict(train_encodings),\n",
        "    train_dataset['target'].values\n",
        "))\n",
        "valid_dataset_tf = tf.data.Dataset.from_tensor_slices((\n",
        "    dict(valid_encodings),\n",
        "    valid_dataset_new['target'].values\n",
        "))\n"
      ],
      "metadata": {
        "id": "tPlvgHGxO5Vi"
      },
      "id": "tPlvgHGxO5Vi",
      "execution_count": 37,
      "outputs": []
    },
    {
      "cell_type": "code",
      "source": [
        "test_dataset_tf = tf.data.Dataset.from_tensor_slices((\n",
        "    dict(test_encodings),\n",
        "    test_dataset_raw['target'].values\n",
        "))"
      ],
      "metadata": {
        "id": "SLkgwgChO5b7"
      },
      "id": "SLkgwgChO5b7",
      "execution_count": 38,
      "outputs": []
    },
    {
      "cell_type": "code",
      "source": [],
      "metadata": {
        "id": "_O-_mv1pO5tR"
      },
      "id": "_O-_mv1pO5tR",
      "execution_count": null,
      "outputs": []
    },
    {
      "cell_type": "markdown",
      "id": "95ea540d",
      "metadata": {
        "id": "95ea540d"
      },
      "source": [
        "# Load the model"
      ]
    },
    {
      "cell_type": "code",
      "execution_count": 39,
      "id": "dd06c222",
      "metadata": {
        "colab": {
          "base_uri": "https://localhost:8080/",
          "height": 158,
          "referenced_widgets": [
            "9fdd62a7e33443adac616f220cc49b22",
            "6b9eb098a99e40e797fa00d56c395c24",
            "c811232a127d48c79f3a93a9a81e9841",
            "b54d406f532845df983faa5c5e721adb",
            "8c85b1a9e1704c9c987efd8b188f5fc1",
            "d0cbb77dde9d4e41a53323da97dc5216",
            "e175bc225dd549dc9e0ae580c0e64bad",
            "3288dd2bc6be4fd4a421ca63420b0b9b",
            "d3999065dba64de2a50b1e5e641c1fba",
            "04a049ffa7354d0489ff162d4e2f9eb1",
            "d0e96328a159400f9910c15bda7482e1"
          ]
        },
        "id": "dd06c222",
        "outputId": "a3c157c7-2a4c-4bcd-b761-af66c2b2a308"
      },
      "outputs": [
        {
          "output_type": "display_data",
          "data": {
            "text/plain": [
              "Downloading model.safetensors:   0%|          | 0.00/499M [00:00<?, ?B/s]"
            ],
            "application/vnd.jupyter.widget-view+json": {
              "version_major": 2,
              "version_minor": 0,
              "model_id": "9fdd62a7e33443adac616f220cc49b22"
            }
          },
          "metadata": {}
        },
        {
          "output_type": "stream",
          "name": "stderr",
          "text": [
            "Some weights of the PyTorch model were not used when initializing the TF 2.0 model TFRobertaForSequenceClassification: ['roberta.embeddings.position_ids']\n",
            "- This IS expected if you are initializing TFRobertaForSequenceClassification from a PyTorch model trained on another task or with another architecture (e.g. initializing a TFBertForSequenceClassification model from a BertForPreTraining model).\n",
            "- This IS NOT expected if you are initializing TFRobertaForSequenceClassification from a PyTorch model that you expect to be exactly identical (e.g. initializing a TFBertForSequenceClassification model from a BertForSequenceClassification model).\n",
            "Some weights or buffers of the TF 2.0 model TFRobertaForSequenceClassification were not initialized from the PyTorch model and are newly initialized: ['classifier.dense.weight', 'classifier.dense.bias', 'classifier.out_proj.weight', 'classifier.out_proj.bias']\n",
            "You should probably TRAIN this model on a down-stream task to be able to use it for predictions and inference.\n"
          ]
        }
      ],
      "source": [
        "# Load the model\n",
        "model = TFRobertaForSequenceClassification.from_pretrained('roberta-base')\n",
        "\n"
      ]
    },
    {
      "cell_type": "code",
      "execution_count": 40,
      "id": "124e430c",
      "metadata": {
        "id": "124e430c"
      },
      "outputs": [],
      "source": [
        "\n",
        "# Compile the model\n",
        "model.compile(optimizer=tf.keras.optimizers.Adam(learning_rate=1e-5),\n",
        "              loss=tf.keras.losses.SparseCategoricalCrossentropy(from_logits=True),\n",
        "              metrics=['accuracy'])"
      ]
    },
    {
      "cell_type": "code",
      "execution_count": 43,
      "id": "54f84725",
      "metadata": {
        "colab": {
          "base_uri": "https://localhost:8080/"
        },
        "id": "54f84725",
        "outputId": "c1ac5284-91a8-44b8-eff3-e175d7cb4927"
      },
      "outputs": [
        {
          "output_type": "stream",
          "name": "stdout",
          "text": [
            "1642/1642 [==============================] - 1591s 920ms/step - loss: 0.1425 - accuracy: 0.9361 - val_loss: 0.0915 - val_accuracy: 0.9620\n"
          ]
        },
        {
          "output_type": "execute_result",
          "data": {
            "text/plain": [
              "<keras.callbacks.History at 0x7e584ef36f80>"
            ]
          },
          "metadata": {},
          "execution_count": 43
        }
      ],
      "source": [
        "\n",
        "# Train the model\n",
        "model.fit(train_dataset_tf.shuffle(1000).batch(16), epochs=1, batch_size=16, validation_data=valid_dataset_tf.batch(16))"
      ]
    },
    {
      "cell_type": "markdown",
      "id": "fULjTN2qN2ZY",
      "metadata": {
        "id": "fULjTN2qN2ZY"
      },
      "source": [
        "# evaluate the performance"
      ]
    },
    {
      "cell_type": "code",
      "execution_count": 44,
      "id": "fc31b0f6",
      "metadata": {
        "colab": {
          "base_uri": "https://localhost:8080/"
        },
        "id": "fc31b0f6",
        "outputId": "6cf70c10-89b7-4625-f7f9-b997297d05b0"
      },
      "outputs": [
        {
          "output_type": "stream",
          "name": "stdout",
          "text": [
            "506/506 [==============================] - 140s 269ms/step\n",
            "              precision    recall  f1-score   support\n",
            "\n",
            "          CG     0.9319    0.9947    0.9623      3974\n",
            "          OR     0.9945    0.9297    0.9610      4112\n",
            "\n",
            "    accuracy                         0.9617      8086\n",
            "   macro avg     0.9632    0.9622    0.9617      8086\n",
            "weighted avg     0.9637    0.9617    0.9616      8086\n",
            "\n"
          ]
        }
      ],
      "source": [
        "from sklearn.metrics import classification_report\n",
        "import numpy as np\n",
        "# Make predictions on the validation dataset\n",
        "test_dataset_batched = test_dataset_tf.batch(16)\n",
        "y_pred_raw = model.predict(test_dataset_batched)\n",
        "\n",
        "# Convert raw predictions to class predictions\n",
        "y_pred = np.argmax(y_pred_raw.logits, axis=1)\n",
        "\n",
        "# Get the actual class labels\n",
        "y_true = []\n",
        "for features, label in test_dataset_tf:\n",
        "    y_true.append(label.numpy())\n",
        "y_true = np.array(y_true)\n",
        "\n",
        "\n",
        "# Generate a classification report\n",
        "report = classification_report(y_true, y_pred, target_names=[\"CG\", \"OR\"],digits =4)  # replace target_names with your actual class names\n",
        "print(report)\n"
      ]
    },
    {
      "cell_type": "code",
      "execution_count": null,
      "id": "78f2add8",
      "metadata": {
        "colab": {
          "base_uri": "https://localhost:8080/"
        },
        "id": "78f2add8",
        "outputId": "b5135bd6-4d78-43f8-9c31-d554b166f631"
      },
      "outputs": [
        {
          "name": "stderr",
          "output_type": "stream",
          "text": [
            "WARNING:absl:Found untraced functions such as encoder_layer_call_fn, encoder_layer_call_and_return_conditional_losses, embeddings_layer_call_fn, embeddings_layer_call_and_return_conditional_losses, dense_layer_call_fn while saving (showing 5 of 422). These functions will not be directly callable after loading.\n"
          ]
        }
      ],
      "source": [
        "model.save('my_model_fake_reviews')\n",
        "\n"
      ]
    },
    {
      "cell_type": "code",
      "execution_count": null,
      "id": "y2sWhHmpuaCO",
      "metadata": {
        "id": "y2sWhHmpuaCO"
      },
      "outputs": [],
      "source": []
    },
    {
      "cell_type": "code",
      "execution_count": null,
      "id": "MLyJMwSCua38",
      "metadata": {
        "id": "MLyJMwSCua38"
      },
      "outputs": [],
      "source": []
    },
    {
      "cell_type": "markdown",
      "id": "AsztkdYsubdn",
      "metadata": {
        "id": "AsztkdYsubdn"
      },
      "source": [
        "# Test dataset with 150\n"
      ]
    },
    {
      "cell_type": "code",
      "execution_count": 45,
      "id": "1aRzr41KiekI",
      "metadata": {
        "colab": {
          "base_uri": "https://localhost:8080/"
        },
        "id": "1aRzr41KiekI",
        "outputId": "6fd4b34f-e7e3-4fc1-d3f6-a735df1a94cb"
      },
      "outputs": [
        {
          "output_type": "execute_result",
          "data": {
            "text/plain": [
              "(8086, 5)"
            ]
          },
          "metadata": {},
          "execution_count": 45
        }
      ],
      "source": [
        "test_dataset_raw.shape"
      ]
    },
    {
      "cell_type": "code",
      "execution_count": 46,
      "id": "txTILS5nieuK",
      "metadata": {
        "colab": {
          "base_uri": "https://localhost:8080/",
          "height": 206
        },
        "id": "txTILS5nieuK",
        "outputId": "07d3b370-fbee-4ac4-82f6-2bf0add4c695"
      },
      "outputs": [
        {
          "output_type": "execute_result",
          "data": {
            "text/plain": [
              "              category  rating label  \\\n",
              "31179          Books_5     5.0    CG   \n",
              "26353   Kindle_Store_5     5.0    CG   \n",
              "9403     Electronics_5     5.0    OR   \n",
              "13753  Movies_and_TV_5     5.0    CG   \n",
              "19789   Pet_Supplies_5     5.0    OR   \n",
              "\n",
              "                                                   text_  target  \n",
              "31179  Rick Bragg is one of the most entertaining cha...       0  \n",
              "26353  Ms. Rasley's prose never fails to capture the ...       0  \n",
              "9403   Rebuilt my PC from the ground up and I absolut...       1  \n",
              "13753  An awesome show! Got a few of the movies on dv...       0  \n",
              "19789  Highly recommend this brand of milk replacer, ...       1  "
            ],
            "text/html": [
              "\n",
              "  <div id=\"df-a2708a4f-5661-43b1-87d8-741e6a65a65b\" class=\"colab-df-container\">\n",
              "    <div>\n",
              "<style scoped>\n",
              "    .dataframe tbody tr th:only-of-type {\n",
              "        vertical-align: middle;\n",
              "    }\n",
              "\n",
              "    .dataframe tbody tr th {\n",
              "        vertical-align: top;\n",
              "    }\n",
              "\n",
              "    .dataframe thead th {\n",
              "        text-align: right;\n",
              "    }\n",
              "</style>\n",
              "<table border=\"1\" class=\"dataframe\">\n",
              "  <thead>\n",
              "    <tr style=\"text-align: right;\">\n",
              "      <th></th>\n",
              "      <th>category</th>\n",
              "      <th>rating</th>\n",
              "      <th>label</th>\n",
              "      <th>text_</th>\n",
              "      <th>target</th>\n",
              "    </tr>\n",
              "  </thead>\n",
              "  <tbody>\n",
              "    <tr>\n",
              "      <th>31179</th>\n",
              "      <td>Books_5</td>\n",
              "      <td>5.0</td>\n",
              "      <td>CG</td>\n",
              "      <td>Rick Bragg is one of the most entertaining cha...</td>\n",
              "      <td>0</td>\n",
              "    </tr>\n",
              "    <tr>\n",
              "      <th>26353</th>\n",
              "      <td>Kindle_Store_5</td>\n",
              "      <td>5.0</td>\n",
              "      <td>CG</td>\n",
              "      <td>Ms. Rasley's prose never fails to capture the ...</td>\n",
              "      <td>0</td>\n",
              "    </tr>\n",
              "    <tr>\n",
              "      <th>9403</th>\n",
              "      <td>Electronics_5</td>\n",
              "      <td>5.0</td>\n",
              "      <td>OR</td>\n",
              "      <td>Rebuilt my PC from the ground up and I absolut...</td>\n",
              "      <td>1</td>\n",
              "    </tr>\n",
              "    <tr>\n",
              "      <th>13753</th>\n",
              "      <td>Movies_and_TV_5</td>\n",
              "      <td>5.0</td>\n",
              "      <td>CG</td>\n",
              "      <td>An awesome show! Got a few of the movies on dv...</td>\n",
              "      <td>0</td>\n",
              "    </tr>\n",
              "    <tr>\n",
              "      <th>19789</th>\n",
              "      <td>Pet_Supplies_5</td>\n",
              "      <td>5.0</td>\n",
              "      <td>OR</td>\n",
              "      <td>Highly recommend this brand of milk replacer, ...</td>\n",
              "      <td>1</td>\n",
              "    </tr>\n",
              "  </tbody>\n",
              "</table>\n",
              "</div>\n",
              "    <div class=\"colab-df-buttons\">\n",
              "\n",
              "  <div class=\"colab-df-container\">\n",
              "    <button class=\"colab-df-convert\" onclick=\"convertToInteractive('df-a2708a4f-5661-43b1-87d8-741e6a65a65b')\"\n",
              "            title=\"Convert this dataframe to an interactive table.\"\n",
              "            style=\"display:none;\">\n",
              "\n",
              "  <svg xmlns=\"http://www.w3.org/2000/svg\" height=\"24px\" viewBox=\"0 -960 960 960\">\n",
              "    <path d=\"M120-120v-720h720v720H120Zm60-500h600v-160H180v160Zm220 220h160v-160H400v160Zm0 220h160v-160H400v160ZM180-400h160v-160H180v160Zm440 0h160v-160H620v160ZM180-180h160v-160H180v160Zm440 0h160v-160H620v160Z\"/>\n",
              "  </svg>\n",
              "    </button>\n",
              "\n",
              "  <style>\n",
              "    .colab-df-container {\n",
              "      display:flex;\n",
              "      gap: 12px;\n",
              "    }\n",
              "\n",
              "    .colab-df-convert {\n",
              "      background-color: #E8F0FE;\n",
              "      border: none;\n",
              "      border-radius: 50%;\n",
              "      cursor: pointer;\n",
              "      display: none;\n",
              "      fill: #1967D2;\n",
              "      height: 32px;\n",
              "      padding: 0 0 0 0;\n",
              "      width: 32px;\n",
              "    }\n",
              "\n",
              "    .colab-df-convert:hover {\n",
              "      background-color: #E2EBFA;\n",
              "      box-shadow: 0px 1px 2px rgba(60, 64, 67, 0.3), 0px 1px 3px 1px rgba(60, 64, 67, 0.15);\n",
              "      fill: #174EA6;\n",
              "    }\n",
              "\n",
              "    .colab-df-buttons div {\n",
              "      margin-bottom: 4px;\n",
              "    }\n",
              "\n",
              "    [theme=dark] .colab-df-convert {\n",
              "      background-color: #3B4455;\n",
              "      fill: #D2E3FC;\n",
              "    }\n",
              "\n",
              "    [theme=dark] .colab-df-convert:hover {\n",
              "      background-color: #434B5C;\n",
              "      box-shadow: 0px 1px 3px 1px rgba(0, 0, 0, 0.15);\n",
              "      filter: drop-shadow(0px 1px 2px rgba(0, 0, 0, 0.3));\n",
              "      fill: #FFFFFF;\n",
              "    }\n",
              "  </style>\n",
              "\n",
              "    <script>\n",
              "      const buttonEl =\n",
              "        document.querySelector('#df-a2708a4f-5661-43b1-87d8-741e6a65a65b button.colab-df-convert');\n",
              "      buttonEl.style.display =\n",
              "        google.colab.kernel.accessAllowed ? 'block' : 'none';\n",
              "\n",
              "      async function convertToInteractive(key) {\n",
              "        const element = document.querySelector('#df-a2708a4f-5661-43b1-87d8-741e6a65a65b');\n",
              "        const dataTable =\n",
              "          await google.colab.kernel.invokeFunction('convertToInteractive',\n",
              "                                                    [key], {});\n",
              "        if (!dataTable) return;\n",
              "\n",
              "        const docLinkHtml = 'Like what you see? Visit the ' +\n",
              "          '<a target=\"_blank\" href=https://colab.research.google.com/notebooks/data_table.ipynb>data table notebook</a>'\n",
              "          + ' to learn more about interactive tables.';\n",
              "        element.innerHTML = '';\n",
              "        dataTable['output_type'] = 'display_data';\n",
              "        await google.colab.output.renderOutput(dataTable, element);\n",
              "        const docLink = document.createElement('div');\n",
              "        docLink.innerHTML = docLinkHtml;\n",
              "        element.appendChild(docLink);\n",
              "      }\n",
              "    </script>\n",
              "  </div>\n",
              "\n",
              "\n",
              "<div id=\"df-f3f43921-3c79-471f-989d-87da7a7b2cf7\">\n",
              "  <button class=\"colab-df-quickchart\" onclick=\"quickchart('df-f3f43921-3c79-471f-989d-87da7a7b2cf7')\"\n",
              "            title=\"Suggest charts.\"\n",
              "            style=\"display:none;\">\n",
              "\n",
              "<svg xmlns=\"http://www.w3.org/2000/svg\" height=\"24px\"viewBox=\"0 0 24 24\"\n",
              "     width=\"24px\">\n",
              "    <g>\n",
              "        <path d=\"M19 3H5c-1.1 0-2 .9-2 2v14c0 1.1.9 2 2 2h14c1.1 0 2-.9 2-2V5c0-1.1-.9-2-2-2zM9 17H7v-7h2v7zm4 0h-2V7h2v10zm4 0h-2v-4h2v4z\"/>\n",
              "    </g>\n",
              "</svg>\n",
              "  </button>\n",
              "\n",
              "<style>\n",
              "  .colab-df-quickchart {\n",
              "    background-color: #E8F0FE;\n",
              "    border: none;\n",
              "    border-radius: 50%;\n",
              "    cursor: pointer;\n",
              "    display: none;\n",
              "    fill: #1967D2;\n",
              "    height: 32px;\n",
              "    padding: 0 0 0 0;\n",
              "    width: 32px;\n",
              "  }\n",
              "\n",
              "  .colab-df-quickchart:hover {\n",
              "    background-color: #E2EBFA;\n",
              "    box-shadow: 0px 1px 2px rgba(60, 64, 67, 0.3), 0px 1px 3px 1px rgba(60, 64, 67, 0.15);\n",
              "    fill: #174EA6;\n",
              "  }\n",
              "\n",
              "  [theme=dark] .colab-df-quickchart {\n",
              "    background-color: #3B4455;\n",
              "    fill: #D2E3FC;\n",
              "  }\n",
              "\n",
              "  [theme=dark] .colab-df-quickchart:hover {\n",
              "    background-color: #434B5C;\n",
              "    box-shadow: 0px 1px 3px 1px rgba(0, 0, 0, 0.15);\n",
              "    filter: drop-shadow(0px 1px 2px rgba(0, 0, 0, 0.3));\n",
              "    fill: #FFFFFF;\n",
              "  }\n",
              "</style>\n",
              "\n",
              "  <script>\n",
              "    async function quickchart(key) {\n",
              "      const charts = await google.colab.kernel.invokeFunction(\n",
              "          'suggestCharts', [key], {});\n",
              "    }\n",
              "    (() => {\n",
              "      let quickchartButtonEl =\n",
              "        document.querySelector('#df-f3f43921-3c79-471f-989d-87da7a7b2cf7 button');\n",
              "      quickchartButtonEl.style.display =\n",
              "        google.colab.kernel.accessAllowed ? 'block' : 'none';\n",
              "    })();\n",
              "  </script>\n",
              "</div>\n",
              "    </div>\n",
              "  </div>\n"
            ]
          },
          "metadata": {},
          "execution_count": 46
        }
      ],
      "source": [
        "test_dataset_raw.head()"
      ]
    },
    {
      "cell_type": "code",
      "execution_count": 47,
      "id": "SFW65Ne8ie1c",
      "metadata": {
        "id": "SFW65Ne8ie1c"
      },
      "outputs": [],
      "source": [
        "test_dataset_raw_0 = test_dataset_raw[test_dataset_raw['target']==0]"
      ]
    },
    {
      "cell_type": "code",
      "execution_count": 48,
      "id": "3YX69rM1sCcg",
      "metadata": {
        "colab": {
          "base_uri": "https://localhost:8080/"
        },
        "id": "3YX69rM1sCcg",
        "outputId": "54637fa0-3357-4ff0-e942-3c57b8086bfd"
      },
      "outputs": [
        {
          "output_type": "execute_result",
          "data": {
            "text/plain": [
              "(3974, 5)"
            ]
          },
          "metadata": {},
          "execution_count": 48
        }
      ],
      "source": [
        "test_dataset_raw_0.shape"
      ]
    },
    {
      "cell_type": "code",
      "execution_count": 94,
      "id": "e6-Vagh6ie8e",
      "metadata": {
        "id": "e6-Vagh6ie8e"
      },
      "outputs": [],
      "source": [
        "random_50_rows = test_dataset_raw_0.sample(n=50)\n",
        "\n",
        "# Build the new DataFrame using the randomly selected rows\n",
        "test_dataset_raw_50 = pd.DataFrame(random_50_rows)"
      ]
    },
    {
      "cell_type": "code",
      "execution_count": 95,
      "id": "ypKe1AlvifCf",
      "metadata": {
        "colab": {
          "base_uri": "https://localhost:8080/",
          "height": 206
        },
        "id": "ypKe1AlvifCf",
        "outputId": "64390011-5b6f-4990-dbc6-88a91b515ea2"
      },
      "outputs": [
        {
          "output_type": "execute_result",
          "data": {
            "text/plain": [
              "                           category  rating label  \\\n",
              "30520                       Books_5     4.0    CG   \n",
              "1919             Home_and_Kitchen_5     5.0    CG   \n",
              "24604                Kindle_Store_5     5.0    CG   \n",
              "24184                Kindle_Store_5     5.0    CG   \n",
              "39193  Clothing_Shoes_and_Jewelry_5     5.0    CG   \n",
              "\n",
              "                                                   text_  target  \n",
              "30520  This could not be called a book, but it is a b...       0  \n",
              "1919   Used for moving kitchen ware.  Works well.  Ea...       0  \n",
              "24604  Loved the awkwardness of the time period and t...       0  \n",
              "24184  Never a dull moment. Not a bad story, just not...       0  \n",
              "39193  I got these to wear with a T-shirt. I normally...       0  "
            ],
            "text/html": [
              "\n",
              "  <div id=\"df-e48fe93c-ab46-4e77-8af8-138f47365247\" class=\"colab-df-container\">\n",
              "    <div>\n",
              "<style scoped>\n",
              "    .dataframe tbody tr th:only-of-type {\n",
              "        vertical-align: middle;\n",
              "    }\n",
              "\n",
              "    .dataframe tbody tr th {\n",
              "        vertical-align: top;\n",
              "    }\n",
              "\n",
              "    .dataframe thead th {\n",
              "        text-align: right;\n",
              "    }\n",
              "</style>\n",
              "<table border=\"1\" class=\"dataframe\">\n",
              "  <thead>\n",
              "    <tr style=\"text-align: right;\">\n",
              "      <th></th>\n",
              "      <th>category</th>\n",
              "      <th>rating</th>\n",
              "      <th>label</th>\n",
              "      <th>text_</th>\n",
              "      <th>target</th>\n",
              "    </tr>\n",
              "  </thead>\n",
              "  <tbody>\n",
              "    <tr>\n",
              "      <th>30520</th>\n",
              "      <td>Books_5</td>\n",
              "      <td>4.0</td>\n",
              "      <td>CG</td>\n",
              "      <td>This could not be called a book, but it is a b...</td>\n",
              "      <td>0</td>\n",
              "    </tr>\n",
              "    <tr>\n",
              "      <th>1919</th>\n",
              "      <td>Home_and_Kitchen_5</td>\n",
              "      <td>5.0</td>\n",
              "      <td>CG</td>\n",
              "      <td>Used for moving kitchen ware.  Works well.  Ea...</td>\n",
              "      <td>0</td>\n",
              "    </tr>\n",
              "    <tr>\n",
              "      <th>24604</th>\n",
              "      <td>Kindle_Store_5</td>\n",
              "      <td>5.0</td>\n",
              "      <td>CG</td>\n",
              "      <td>Loved the awkwardness of the time period and t...</td>\n",
              "      <td>0</td>\n",
              "    </tr>\n",
              "    <tr>\n",
              "      <th>24184</th>\n",
              "      <td>Kindle_Store_5</td>\n",
              "      <td>5.0</td>\n",
              "      <td>CG</td>\n",
              "      <td>Never a dull moment. Not a bad story, just not...</td>\n",
              "      <td>0</td>\n",
              "    </tr>\n",
              "    <tr>\n",
              "      <th>39193</th>\n",
              "      <td>Clothing_Shoes_and_Jewelry_5</td>\n",
              "      <td>5.0</td>\n",
              "      <td>CG</td>\n",
              "      <td>I got these to wear with a T-shirt. I normally...</td>\n",
              "      <td>0</td>\n",
              "    </tr>\n",
              "  </tbody>\n",
              "</table>\n",
              "</div>\n",
              "    <div class=\"colab-df-buttons\">\n",
              "\n",
              "  <div class=\"colab-df-container\">\n",
              "    <button class=\"colab-df-convert\" onclick=\"convertToInteractive('df-e48fe93c-ab46-4e77-8af8-138f47365247')\"\n",
              "            title=\"Convert this dataframe to an interactive table.\"\n",
              "            style=\"display:none;\">\n",
              "\n",
              "  <svg xmlns=\"http://www.w3.org/2000/svg\" height=\"24px\" viewBox=\"0 -960 960 960\">\n",
              "    <path d=\"M120-120v-720h720v720H120Zm60-500h600v-160H180v160Zm220 220h160v-160H400v160Zm0 220h160v-160H400v160ZM180-400h160v-160H180v160Zm440 0h160v-160H620v160ZM180-180h160v-160H180v160Zm440 0h160v-160H620v160Z\"/>\n",
              "  </svg>\n",
              "    </button>\n",
              "\n",
              "  <style>\n",
              "    .colab-df-container {\n",
              "      display:flex;\n",
              "      gap: 12px;\n",
              "    }\n",
              "\n",
              "    .colab-df-convert {\n",
              "      background-color: #E8F0FE;\n",
              "      border: none;\n",
              "      border-radius: 50%;\n",
              "      cursor: pointer;\n",
              "      display: none;\n",
              "      fill: #1967D2;\n",
              "      height: 32px;\n",
              "      padding: 0 0 0 0;\n",
              "      width: 32px;\n",
              "    }\n",
              "\n",
              "    .colab-df-convert:hover {\n",
              "      background-color: #E2EBFA;\n",
              "      box-shadow: 0px 1px 2px rgba(60, 64, 67, 0.3), 0px 1px 3px 1px rgba(60, 64, 67, 0.15);\n",
              "      fill: #174EA6;\n",
              "    }\n",
              "\n",
              "    .colab-df-buttons div {\n",
              "      margin-bottom: 4px;\n",
              "    }\n",
              "\n",
              "    [theme=dark] .colab-df-convert {\n",
              "      background-color: #3B4455;\n",
              "      fill: #D2E3FC;\n",
              "    }\n",
              "\n",
              "    [theme=dark] .colab-df-convert:hover {\n",
              "      background-color: #434B5C;\n",
              "      box-shadow: 0px 1px 3px 1px rgba(0, 0, 0, 0.15);\n",
              "      filter: drop-shadow(0px 1px 2px rgba(0, 0, 0, 0.3));\n",
              "      fill: #FFFFFF;\n",
              "    }\n",
              "  </style>\n",
              "\n",
              "    <script>\n",
              "      const buttonEl =\n",
              "        document.querySelector('#df-e48fe93c-ab46-4e77-8af8-138f47365247 button.colab-df-convert');\n",
              "      buttonEl.style.display =\n",
              "        google.colab.kernel.accessAllowed ? 'block' : 'none';\n",
              "\n",
              "      async function convertToInteractive(key) {\n",
              "        const element = document.querySelector('#df-e48fe93c-ab46-4e77-8af8-138f47365247');\n",
              "        const dataTable =\n",
              "          await google.colab.kernel.invokeFunction('convertToInteractive',\n",
              "                                                    [key], {});\n",
              "        if (!dataTable) return;\n",
              "\n",
              "        const docLinkHtml = 'Like what you see? Visit the ' +\n",
              "          '<a target=\"_blank\" href=https://colab.research.google.com/notebooks/data_table.ipynb>data table notebook</a>'\n",
              "          + ' to learn more about interactive tables.';\n",
              "        element.innerHTML = '';\n",
              "        dataTable['output_type'] = 'display_data';\n",
              "        await google.colab.output.renderOutput(dataTable, element);\n",
              "        const docLink = document.createElement('div');\n",
              "        docLink.innerHTML = docLinkHtml;\n",
              "        element.appendChild(docLink);\n",
              "      }\n",
              "    </script>\n",
              "  </div>\n",
              "\n",
              "\n",
              "<div id=\"df-fbe2d26e-03ec-4888-8be9-0a8af09971fc\">\n",
              "  <button class=\"colab-df-quickchart\" onclick=\"quickchart('df-fbe2d26e-03ec-4888-8be9-0a8af09971fc')\"\n",
              "            title=\"Suggest charts.\"\n",
              "            style=\"display:none;\">\n",
              "\n",
              "<svg xmlns=\"http://www.w3.org/2000/svg\" height=\"24px\"viewBox=\"0 0 24 24\"\n",
              "     width=\"24px\">\n",
              "    <g>\n",
              "        <path d=\"M19 3H5c-1.1 0-2 .9-2 2v14c0 1.1.9 2 2 2h14c1.1 0 2-.9 2-2V5c0-1.1-.9-2-2-2zM9 17H7v-7h2v7zm4 0h-2V7h2v10zm4 0h-2v-4h2v4z\"/>\n",
              "    </g>\n",
              "</svg>\n",
              "  </button>\n",
              "\n",
              "<style>\n",
              "  .colab-df-quickchart {\n",
              "    background-color: #E8F0FE;\n",
              "    border: none;\n",
              "    border-radius: 50%;\n",
              "    cursor: pointer;\n",
              "    display: none;\n",
              "    fill: #1967D2;\n",
              "    height: 32px;\n",
              "    padding: 0 0 0 0;\n",
              "    width: 32px;\n",
              "  }\n",
              "\n",
              "  .colab-df-quickchart:hover {\n",
              "    background-color: #E2EBFA;\n",
              "    box-shadow: 0px 1px 2px rgba(60, 64, 67, 0.3), 0px 1px 3px 1px rgba(60, 64, 67, 0.15);\n",
              "    fill: #174EA6;\n",
              "  }\n",
              "\n",
              "  [theme=dark] .colab-df-quickchart {\n",
              "    background-color: #3B4455;\n",
              "    fill: #D2E3FC;\n",
              "  }\n",
              "\n",
              "  [theme=dark] .colab-df-quickchart:hover {\n",
              "    background-color: #434B5C;\n",
              "    box-shadow: 0px 1px 3px 1px rgba(0, 0, 0, 0.15);\n",
              "    filter: drop-shadow(0px 1px 2px rgba(0, 0, 0, 0.3));\n",
              "    fill: #FFFFFF;\n",
              "  }\n",
              "</style>\n",
              "\n",
              "  <script>\n",
              "    async function quickchart(key) {\n",
              "      const charts = await google.colab.kernel.invokeFunction(\n",
              "          'suggestCharts', [key], {});\n",
              "    }\n",
              "    (() => {\n",
              "      let quickchartButtonEl =\n",
              "        document.querySelector('#df-fbe2d26e-03ec-4888-8be9-0a8af09971fc button');\n",
              "      quickchartButtonEl.style.display =\n",
              "        google.colab.kernel.accessAllowed ? 'block' : 'none';\n",
              "    })();\n",
              "  </script>\n",
              "</div>\n",
              "    </div>\n",
              "  </div>\n"
            ]
          },
          "metadata": {},
          "execution_count": 95
        }
      ],
      "source": [
        "test_dataset_raw_50.head()"
      ]
    },
    {
      "cell_type": "code",
      "execution_count": 96,
      "id": "xuzhd-X1ifIo",
      "metadata": {
        "id": "xuzhd-X1ifIo"
      },
      "outputs": [],
      "source": [
        "test_dataset_raw_1 = test_dataset_raw[test_dataset_raw['target']==1]"
      ]
    },
    {
      "cell_type": "code",
      "execution_count": 97,
      "id": "k-VlkfWtifNX",
      "metadata": {
        "id": "k-VlkfWtifNX"
      },
      "outputs": [],
      "source": [
        "random_1_rows = test_dataset_raw_1.sample(n=100)\n",
        "\n",
        "# Build the new DataFrame using the randomly selected rows\n",
        "test_dataset_raw_1_100 = pd.DataFrame(random_1_rows)"
      ]
    },
    {
      "cell_type": "code",
      "execution_count": 98,
      "id": "Iwwpp_IyifRY",
      "metadata": {
        "colab": {
          "base_uri": "https://localhost:8080/"
        },
        "id": "Iwwpp_IyifRY",
        "outputId": "db8b42bf-b5fb-4c3a-c523-f48974be683c"
      },
      "outputs": [
        {
          "output_type": "execute_result",
          "data": {
            "text/plain": [
              "(100, 5)"
            ]
          },
          "metadata": {},
          "execution_count": 98
        }
      ],
      "source": [
        "test_dataset_raw_1_100.shape"
      ]
    },
    {
      "cell_type": "code",
      "execution_count": 99,
      "id": "kzKmcqHStTnd",
      "metadata": {
        "id": "kzKmcqHStTnd"
      },
      "outputs": [],
      "source": [
        "merged_df = pd.concat([test_dataset_raw_50, test_dataset_raw_1_100], ignore_index=True)\n",
        "\n",
        "# Shuffle the index\n",
        "test_150_df = merged_df.sample(frac=1).reset_index(drop=True)"
      ]
    },
    {
      "cell_type": "code",
      "execution_count": 100,
      "id": "6xNQ5K9OtUFk",
      "metadata": {
        "colab": {
          "base_uri": "https://localhost:8080/",
          "height": 424
        },
        "id": "6xNQ5K9OtUFk",
        "outputId": "3ba84277-18e6-423b-e5f8-ae9076bde026"
      },
      "outputs": [
        {
          "output_type": "execute_result",
          "data": {
            "text/plain": [
              "                         category  rating label  \\\n",
              "0                 Movies_and_TV_5     5.0    OR   \n",
              "1              Home_and_Kitchen_5     5.0    OR   \n",
              "2                         Books_5     4.0    CG   \n",
              "3           Sports_and_Outdoors_5     5.0    OR   \n",
              "4                  Pet_Supplies_5     4.0    OR   \n",
              "..                            ...     ...   ...   \n",
              "145               Movies_and_TV_5     5.0    OR   \n",
              "146  Tools_and_Home_Improvement_5     5.0    OR   \n",
              "147            Home_and_Kitchen_5     4.0    CG   \n",
              "148                Kindle_Store_5     5.0    CG   \n",
              "149                       Books_5     5.0    OR   \n",
              "\n",
              "                                                 text_  target  \n",
              "0    Great story. B&W, full screen, monophonic soun...       1  \n",
              "1    Arrived as stated when ordered.  Works as expe...       1  \n",
              "2    Justice Louis Brandeis, appointed to the US Su...       0  \n",
              "3    This is a good light hammock.\\n\\nIt is contain...       1  \n",
              "4    I have been using this condicioner without any...       1  \n",
              "..                                                 ...     ...  \n",
              "145  I was very pleased with the quality of the vid...       1  \n",
              "146  Works just fine for me. I don't need to move i...       1  \n",
              "147  Knives look well in the kitchen. The only prob...       0  \n",
              "148  Loved the awkwardness of the time period and t...       0  \n",
              "149  I ordered this for my teen son, he loves the b...       1  \n",
              "\n",
              "[150 rows x 5 columns]"
            ],
            "text/html": [
              "\n",
              "  <div id=\"df-6b04756e-b92b-40fe-b3bd-2e201fb361fc\" class=\"colab-df-container\">\n",
              "    <div>\n",
              "<style scoped>\n",
              "    .dataframe tbody tr th:only-of-type {\n",
              "        vertical-align: middle;\n",
              "    }\n",
              "\n",
              "    .dataframe tbody tr th {\n",
              "        vertical-align: top;\n",
              "    }\n",
              "\n",
              "    .dataframe thead th {\n",
              "        text-align: right;\n",
              "    }\n",
              "</style>\n",
              "<table border=\"1\" class=\"dataframe\">\n",
              "  <thead>\n",
              "    <tr style=\"text-align: right;\">\n",
              "      <th></th>\n",
              "      <th>category</th>\n",
              "      <th>rating</th>\n",
              "      <th>label</th>\n",
              "      <th>text_</th>\n",
              "      <th>target</th>\n",
              "    </tr>\n",
              "  </thead>\n",
              "  <tbody>\n",
              "    <tr>\n",
              "      <th>0</th>\n",
              "      <td>Movies_and_TV_5</td>\n",
              "      <td>5.0</td>\n",
              "      <td>OR</td>\n",
              "      <td>Great story. B&amp;W, full screen, monophonic soun...</td>\n",
              "      <td>1</td>\n",
              "    </tr>\n",
              "    <tr>\n",
              "      <th>1</th>\n",
              "      <td>Home_and_Kitchen_5</td>\n",
              "      <td>5.0</td>\n",
              "      <td>OR</td>\n",
              "      <td>Arrived as stated when ordered.  Works as expe...</td>\n",
              "      <td>1</td>\n",
              "    </tr>\n",
              "    <tr>\n",
              "      <th>2</th>\n",
              "      <td>Books_5</td>\n",
              "      <td>4.0</td>\n",
              "      <td>CG</td>\n",
              "      <td>Justice Louis Brandeis, appointed to the US Su...</td>\n",
              "      <td>0</td>\n",
              "    </tr>\n",
              "    <tr>\n",
              "      <th>3</th>\n",
              "      <td>Sports_and_Outdoors_5</td>\n",
              "      <td>5.0</td>\n",
              "      <td>OR</td>\n",
              "      <td>This is a good light hammock.\\n\\nIt is contain...</td>\n",
              "      <td>1</td>\n",
              "    </tr>\n",
              "    <tr>\n",
              "      <th>4</th>\n",
              "      <td>Pet_Supplies_5</td>\n",
              "      <td>4.0</td>\n",
              "      <td>OR</td>\n",
              "      <td>I have been using this condicioner without any...</td>\n",
              "      <td>1</td>\n",
              "    </tr>\n",
              "    <tr>\n",
              "      <th>...</th>\n",
              "      <td>...</td>\n",
              "      <td>...</td>\n",
              "      <td>...</td>\n",
              "      <td>...</td>\n",
              "      <td>...</td>\n",
              "    </tr>\n",
              "    <tr>\n",
              "      <th>145</th>\n",
              "      <td>Movies_and_TV_5</td>\n",
              "      <td>5.0</td>\n",
              "      <td>OR</td>\n",
              "      <td>I was very pleased with the quality of the vid...</td>\n",
              "      <td>1</td>\n",
              "    </tr>\n",
              "    <tr>\n",
              "      <th>146</th>\n",
              "      <td>Tools_and_Home_Improvement_5</td>\n",
              "      <td>5.0</td>\n",
              "      <td>OR</td>\n",
              "      <td>Works just fine for me. I don't need to move i...</td>\n",
              "      <td>1</td>\n",
              "    </tr>\n",
              "    <tr>\n",
              "      <th>147</th>\n",
              "      <td>Home_and_Kitchen_5</td>\n",
              "      <td>4.0</td>\n",
              "      <td>CG</td>\n",
              "      <td>Knives look well in the kitchen. The only prob...</td>\n",
              "      <td>0</td>\n",
              "    </tr>\n",
              "    <tr>\n",
              "      <th>148</th>\n",
              "      <td>Kindle_Store_5</td>\n",
              "      <td>5.0</td>\n",
              "      <td>CG</td>\n",
              "      <td>Loved the awkwardness of the time period and t...</td>\n",
              "      <td>0</td>\n",
              "    </tr>\n",
              "    <tr>\n",
              "      <th>149</th>\n",
              "      <td>Books_5</td>\n",
              "      <td>5.0</td>\n",
              "      <td>OR</td>\n",
              "      <td>I ordered this for my teen son, he loves the b...</td>\n",
              "      <td>1</td>\n",
              "    </tr>\n",
              "  </tbody>\n",
              "</table>\n",
              "<p>150 rows × 5 columns</p>\n",
              "</div>\n",
              "    <div class=\"colab-df-buttons\">\n",
              "\n",
              "  <div class=\"colab-df-container\">\n",
              "    <button class=\"colab-df-convert\" onclick=\"convertToInteractive('df-6b04756e-b92b-40fe-b3bd-2e201fb361fc')\"\n",
              "            title=\"Convert this dataframe to an interactive table.\"\n",
              "            style=\"display:none;\">\n",
              "\n",
              "  <svg xmlns=\"http://www.w3.org/2000/svg\" height=\"24px\" viewBox=\"0 -960 960 960\">\n",
              "    <path d=\"M120-120v-720h720v720H120Zm60-500h600v-160H180v160Zm220 220h160v-160H400v160Zm0 220h160v-160H400v160ZM180-400h160v-160H180v160Zm440 0h160v-160H620v160ZM180-180h160v-160H180v160Zm440 0h160v-160H620v160Z\"/>\n",
              "  </svg>\n",
              "    </button>\n",
              "\n",
              "  <style>\n",
              "    .colab-df-container {\n",
              "      display:flex;\n",
              "      gap: 12px;\n",
              "    }\n",
              "\n",
              "    .colab-df-convert {\n",
              "      background-color: #E8F0FE;\n",
              "      border: none;\n",
              "      border-radius: 50%;\n",
              "      cursor: pointer;\n",
              "      display: none;\n",
              "      fill: #1967D2;\n",
              "      height: 32px;\n",
              "      padding: 0 0 0 0;\n",
              "      width: 32px;\n",
              "    }\n",
              "\n",
              "    .colab-df-convert:hover {\n",
              "      background-color: #E2EBFA;\n",
              "      box-shadow: 0px 1px 2px rgba(60, 64, 67, 0.3), 0px 1px 3px 1px rgba(60, 64, 67, 0.15);\n",
              "      fill: #174EA6;\n",
              "    }\n",
              "\n",
              "    .colab-df-buttons div {\n",
              "      margin-bottom: 4px;\n",
              "    }\n",
              "\n",
              "    [theme=dark] .colab-df-convert {\n",
              "      background-color: #3B4455;\n",
              "      fill: #D2E3FC;\n",
              "    }\n",
              "\n",
              "    [theme=dark] .colab-df-convert:hover {\n",
              "      background-color: #434B5C;\n",
              "      box-shadow: 0px 1px 3px 1px rgba(0, 0, 0, 0.15);\n",
              "      filter: drop-shadow(0px 1px 2px rgba(0, 0, 0, 0.3));\n",
              "      fill: #FFFFFF;\n",
              "    }\n",
              "  </style>\n",
              "\n",
              "    <script>\n",
              "      const buttonEl =\n",
              "        document.querySelector('#df-6b04756e-b92b-40fe-b3bd-2e201fb361fc button.colab-df-convert');\n",
              "      buttonEl.style.display =\n",
              "        google.colab.kernel.accessAllowed ? 'block' : 'none';\n",
              "\n",
              "      async function convertToInteractive(key) {\n",
              "        const element = document.querySelector('#df-6b04756e-b92b-40fe-b3bd-2e201fb361fc');\n",
              "        const dataTable =\n",
              "          await google.colab.kernel.invokeFunction('convertToInteractive',\n",
              "                                                    [key], {});\n",
              "        if (!dataTable) return;\n",
              "\n",
              "        const docLinkHtml = 'Like what you see? Visit the ' +\n",
              "          '<a target=\"_blank\" href=https://colab.research.google.com/notebooks/data_table.ipynb>data table notebook</a>'\n",
              "          + ' to learn more about interactive tables.';\n",
              "        element.innerHTML = '';\n",
              "        dataTable['output_type'] = 'display_data';\n",
              "        await google.colab.output.renderOutput(dataTable, element);\n",
              "        const docLink = document.createElement('div');\n",
              "        docLink.innerHTML = docLinkHtml;\n",
              "        element.appendChild(docLink);\n",
              "      }\n",
              "    </script>\n",
              "  </div>\n",
              "\n",
              "\n",
              "<div id=\"df-e64adf7e-113b-4e40-8efe-3e7d2ce694f1\">\n",
              "  <button class=\"colab-df-quickchart\" onclick=\"quickchart('df-e64adf7e-113b-4e40-8efe-3e7d2ce694f1')\"\n",
              "            title=\"Suggest charts.\"\n",
              "            style=\"display:none;\">\n",
              "\n",
              "<svg xmlns=\"http://www.w3.org/2000/svg\" height=\"24px\"viewBox=\"0 0 24 24\"\n",
              "     width=\"24px\">\n",
              "    <g>\n",
              "        <path d=\"M19 3H5c-1.1 0-2 .9-2 2v14c0 1.1.9 2 2 2h14c1.1 0 2-.9 2-2V5c0-1.1-.9-2-2-2zM9 17H7v-7h2v7zm4 0h-2V7h2v10zm4 0h-2v-4h2v4z\"/>\n",
              "    </g>\n",
              "</svg>\n",
              "  </button>\n",
              "\n",
              "<style>\n",
              "  .colab-df-quickchart {\n",
              "    background-color: #E8F0FE;\n",
              "    border: none;\n",
              "    border-radius: 50%;\n",
              "    cursor: pointer;\n",
              "    display: none;\n",
              "    fill: #1967D2;\n",
              "    height: 32px;\n",
              "    padding: 0 0 0 0;\n",
              "    width: 32px;\n",
              "  }\n",
              "\n",
              "  .colab-df-quickchart:hover {\n",
              "    background-color: #E2EBFA;\n",
              "    box-shadow: 0px 1px 2px rgba(60, 64, 67, 0.3), 0px 1px 3px 1px rgba(60, 64, 67, 0.15);\n",
              "    fill: #174EA6;\n",
              "  }\n",
              "\n",
              "  [theme=dark] .colab-df-quickchart {\n",
              "    background-color: #3B4455;\n",
              "    fill: #D2E3FC;\n",
              "  }\n",
              "\n",
              "  [theme=dark] .colab-df-quickchart:hover {\n",
              "    background-color: #434B5C;\n",
              "    box-shadow: 0px 1px 3px 1px rgba(0, 0, 0, 0.15);\n",
              "    filter: drop-shadow(0px 1px 2px rgba(0, 0, 0, 0.3));\n",
              "    fill: #FFFFFF;\n",
              "  }\n",
              "</style>\n",
              "\n",
              "  <script>\n",
              "    async function quickchart(key) {\n",
              "      const charts = await google.colab.kernel.invokeFunction(\n",
              "          'suggestCharts', [key], {});\n",
              "    }\n",
              "    (() => {\n",
              "      let quickchartButtonEl =\n",
              "        document.querySelector('#df-e64adf7e-113b-4e40-8efe-3e7d2ce694f1 button');\n",
              "      quickchartButtonEl.style.display =\n",
              "        google.colab.kernel.accessAllowed ? 'block' : 'none';\n",
              "    })();\n",
              "  </script>\n",
              "</div>\n",
              "    </div>\n",
              "  </div>\n"
            ]
          },
          "metadata": {},
          "execution_count": 100
        }
      ],
      "source": [
        "test_150_df"
      ]
    },
    {
      "cell_type": "code",
      "execution_count": 101,
      "id": "TyhnSXcgtULQ",
      "metadata": {
        "id": "TyhnSXcgtULQ"
      },
      "outputs": [],
      "source": [
        "test_encodings_150 = tokenizer(test_150_df['text_'].tolist(), truncation=True, padding=True, max_length=256)\n",
        "\n",
        "test_dataset_150 = tf.data.Dataset.from_tensor_slices((\n",
        "    dict(test_encodings_150),\n",
        "    test_150_df['target'].values\n",
        "))\n",
        "\n"
      ]
    },
    {
      "cell_type": "code",
      "execution_count": 102,
      "id": "dRVrHOvmtmAO",
      "metadata": {
        "colab": {
          "base_uri": "https://localhost:8080/"
        },
        "id": "dRVrHOvmtmAO",
        "outputId": "f2b8097f-86f5-49ef-8f9f-a6d1a4c732c2"
      },
      "outputs": [
        {
          "output_type": "stream",
          "name": "stdout",
          "text": [
            "10/10 [==============================] - 3s 246ms/step\n",
            "              precision    recall  f1-score   support\n",
            "\n",
            "          CG     0.9259    1.0000    0.9615        50\n",
            "          OR     1.0000    0.9600    0.9796       100\n",
            "\n",
            "    accuracy                         0.9733       150\n",
            "   macro avg     0.9630    0.9800    0.9706       150\n",
            "weighted avg     0.9753    0.9733    0.9736       150\n",
            "\n"
          ]
        }
      ],
      "source": [
        "test_dataset_150_batched = test_dataset_150.batch(16)\n",
        "y_pred_raw_150 = model.predict(test_dataset_150_batched)\n",
        "\n",
        "# Convert raw predictions to class predictions\n",
        "y_pred_150 = np.argmax(y_pred_raw_150.logits, axis=1)\n",
        "\n",
        "# Get the actual class labels\n",
        "y_true_150 = []\n",
        "for features, label in test_dataset_150:\n",
        "    y_true_150.append(label.numpy())\n",
        "y_true_150 = np.array(y_true_150)\n",
        "\n",
        "\n",
        "# Generate a classification report\n",
        "report_150 = classification_report(y_true_150, y_pred_150, target_names=[\"CG\", \"OR\"],digits =4)  # replace target_names with your actual class names\n",
        "print(report_150)"
      ]
    },
    {
      "cell_type": "markdown",
      "source": [
        "# Test dataset with 125"
      ],
      "metadata": {
        "id": "AFroXvq4rXit"
      },
      "id": "AFroXvq4rXit"
    },
    {
      "cell_type": "code",
      "source": [],
      "metadata": {
        "id": "Hv2yO-1FrGeK"
      },
      "id": "Hv2yO-1FrGeK",
      "execution_count": null,
      "outputs": []
    },
    {
      "cell_type": "code",
      "source": [
        "random_25_rows_125 = test_dataset_raw_0.sample(n=25)\n",
        "\n",
        "# Build the new DataFrame using the randomly selected rows\n",
        "test_dataset_raw_251 = pd.DataFrame(random_25_rows_125)"
      ],
      "metadata": {
        "id": "jhZZ21d7rHA0"
      },
      "id": "jhZZ21d7rHA0",
      "execution_count": 128,
      "outputs": []
    },
    {
      "cell_type": "code",
      "source": [
        "random_1_rows = test_dataset_raw_1.sample(n=100)\n",
        "\n",
        "# Build the new DataFrame using the randomly selected rows\n",
        "test_dataset_raw_1_100 = pd.DataFrame(random_1_rows)"
      ],
      "metadata": {
        "id": "VkiSJZUtrHGg"
      },
      "id": "VkiSJZUtrHGg",
      "execution_count": 129,
      "outputs": []
    },
    {
      "cell_type": "code",
      "source": [
        "merged_df_1 = pd.concat([test_dataset_raw_251, test_dataset_raw_1_100], ignore_index=True)\n",
        "\n",
        "# Shuffle the index\n",
        "test_1251_df = merged_df_1.sample(frac=1).reset_index(drop=True)"
      ],
      "metadata": {
        "id": "79NbK-H1rHMe"
      },
      "id": "79NbK-H1rHMe",
      "execution_count": 130,
      "outputs": []
    },
    {
      "cell_type": "code",
      "source": [
        "test_encodings_1251 = tokenizer(test_1251_df['text_'].tolist(), truncation=True, padding=True, max_length=256)\n",
        "\n",
        "test_dataset_1251 = tf.data.Dataset.from_tensor_slices((\n",
        "    dict(test_encodings_1251),\n",
        "    test_1251_df['target'].values\n",
        "))\n",
        "\n"
      ],
      "metadata": {
        "id": "Ky08rKN4rHSe"
      },
      "id": "Ky08rKN4rHSe",
      "execution_count": 131,
      "outputs": []
    },
    {
      "cell_type": "code",
      "source": [
        "test_dataset_1251_batched = test_dataset_1251.batch(16)\n",
        "y_pred_raw_1251 = model.predict(test_dataset_1251_batched)\n",
        "\n",
        "# Convert raw predictions to class predictions\n",
        "y_pred_1251 = np.argmax(y_pred_raw_1251.logits, axis=1)\n",
        "\n",
        "# Get the actual class labels\n",
        "y_true_1251 = []\n",
        "for features, label in test_dataset_1251:\n",
        "    y_true_1251.append(label.numpy())\n",
        "y_true_1251 = np.array(y_true_1251)\n",
        "\n",
        "\n",
        "# Generate a classification report\n",
        "report_1251 = classification_report(y_true_1251, y_pred_1251, target_names=[\"CG\", \"OR\"],digits =4)  # replace target_names with your actual class names\n",
        "print(report_1251)"
      ],
      "metadata": {
        "colab": {
          "base_uri": "https://localhost:8080/"
        },
        "id": "JmUIvdWErHYy",
        "outputId": "fa5a7088-3a13-457a-8af2-6855388d6702"
      },
      "id": "JmUIvdWErHYy",
      "execution_count": 132,
      "outputs": [
        {
          "output_type": "stream",
          "name": "stdout",
          "text": [
            "8/8 [==============================] - 2s 258ms/step\n",
            "              precision    recall  f1-score   support\n",
            "\n",
            "          CG     0.8276    0.9600    0.8889        25\n",
            "          OR     0.9896    0.9500    0.9694       100\n",
            "\n",
            "    accuracy                         0.9520       125\n",
            "   macro avg     0.9086    0.9550    0.9291       125\n",
            "weighted avg     0.9572    0.9520    0.9533       125\n",
            "\n"
          ]
        }
      ]
    },
    {
      "cell_type": "markdown",
      "source": [],
      "metadata": {
        "id": "pah1jwOWrWcb"
      },
      "id": "pah1jwOWrWcb"
    },
    {
      "cell_type": "code",
      "source": [],
      "metadata": {
        "id": "AR28Nh00rHeg"
      },
      "id": "AR28Nh00rHeg",
      "execution_count": null,
      "outputs": []
    },
    {
      "cell_type": "code",
      "source": [],
      "metadata": {
        "id": "4eNWy4wXrHkW"
      },
      "id": "4eNWy4wXrHkW",
      "execution_count": null,
      "outputs": []
    },
    {
      "cell_type": "code",
      "source": [],
      "metadata": {
        "id": "7Yr13rfGrHqX"
      },
      "id": "7Yr13rfGrHqX",
      "execution_count": null,
      "outputs": []
    },
    {
      "cell_type": "code",
      "source": [],
      "metadata": {
        "id": "VJTpurW1rH2C"
      },
      "id": "VJTpurW1rH2C",
      "execution_count": null,
      "outputs": []
    },
    {
      "cell_type": "markdown",
      "source": [],
      "metadata": {
        "id": "NKLdKQ25uPNV"
      },
      "id": "NKLdKQ25uPNV"
    },
    {
      "cell_type": "markdown",
      "id": "KzBjYqL6uhVs",
      "metadata": {
        "id": "KzBjYqL6uhVs"
      },
      "source": [
        "# chatgpt 3.5"
      ]
    },
    {
      "cell_type": "code",
      "source": [
        "index_1 = [19080, 37380,  6466,  3934, 33275, 24286, 11892, 36412,  5625,\n",
        "            25570,  8501, 20411, 28867, 12409, 33851, 34246, 39476, 13831,\n",
        "            24371,  9662, 33463,  2954, 36835, 11507, 17802, 28244, 10309,\n",
        "            31786, 26381,  3940, 12791, 21130, 26333, 34131, 28036, 21829,\n",
        "            36002, 32896, 13185,  4173,  6265, 36584, 18300, 36500,  8968,\n",
        "            32790, 26048, 10131, 28084,  6407]"
      ],
      "metadata": {
        "id": "Mpoh0EoLf6Jz"
      },
      "id": "Mpoh0EoLf6Jz",
      "execution_count": 133,
      "outputs": []
    },
    {
      "cell_type": "code",
      "execution_count": 134,
      "id": "fagR18BevYrg",
      "metadata": {
        "id": "fagR18BevYrg"
      },
      "outputs": [],
      "source": [
        "test_dataset_raw_0_50 = test_dataset_raw_0.loc[index_1]"
      ]
    },
    {
      "cell_type": "code",
      "source": [
        "test_dataset_raw_0_50.index"
      ],
      "metadata": {
        "colab": {
          "base_uri": "https://localhost:8080/"
        },
        "id": "2mP76n6rf-US",
        "outputId": "68b8e576-fd8a-4054-915b-eb9a12ea3256"
      },
      "id": "2mP76n6rf-US",
      "execution_count": 135,
      "outputs": [
        {
          "output_type": "execute_result",
          "data": {
            "text/plain": [
              "Int64Index([19080, 37380,  6466,  3934, 33275, 24286, 11892, 36412,  5625,\n",
              "            25570,  8501, 20411, 28867, 12409, 33851, 34246, 39476, 13831,\n",
              "            24371,  9662, 33463,  2954, 36835, 11507, 17802, 28244, 10309,\n",
              "            31786, 26381,  3940, 12791, 21130, 26333, 34131, 28036, 21829,\n",
              "            36002, 32896, 13185,  4173,  6265, 36584, 18300, 36500,  8968,\n",
              "            32790, 26048, 10131, 28084,  6407],\n",
              "           dtype='int64')"
            ]
          },
          "metadata": {},
          "execution_count": 135
        }
      ]
    },
    {
      "cell_type": "code",
      "execution_count": 136,
      "id": "kaot5Xc3tmi5",
      "metadata": {
        "colab": {
          "base_uri": "https://localhost:8080/",
          "height": 53
        },
        "id": "kaot5Xc3tmi5",
        "outputId": "89ba021e-7254-4d7f-ea85-eeedbbd17663"
      },
      "outputs": [
        {
          "output_type": "execute_result",
          "data": {
            "text/plain": [
              "\"I now want these in a larger size. I've also used them for a few hours in a cave. The seams are solid and they have a nice feel to them. I have had no issues with the seams becoming loose.\""
            ],
            "application/vnd.google.colaboratory.intrinsic+json": {
              "type": "string"
            }
          },
          "metadata": {},
          "execution_count": 136
        }
      ],
      "source": [
        "test_dataset_raw_0_50['text_'][6407]"
      ]
    },
    {
      "cell_type": "code",
      "execution_count": 137,
      "id": "ZEPJkLs1uj8V",
      "metadata": {
        "colab": {
          "base_uri": "https://localhost:8080/"
        },
        "id": "ZEPJkLs1uj8V",
        "outputId": "6bc4b0d2-c9af-4e47-ad1a-c845df511f1d"
      },
      "outputs": [
        {
          "output_type": "stream",
          "name": "stderr",
          "text": [
            "<ipython-input-137-b6051550059d>:1: SettingWithCopyWarning: \n",
            "A value is trying to be set on a copy of a slice from a DataFrame\n",
            "\n",
            "See the caveats in the documentation: https://pandas.pydata.org/pandas-docs/stable/user_guide/indexing.html#returning-a-view-versus-a-copy\n",
            "  test_dataset_raw_0_50['text_'][19080] = \"I really admire the Skeletool; it's the first saw I've ever owned, and while it may be a bit pricey, it's definitely worth the investment. The clean cuts it delivers are impressive, and I find myself using it on numerous projects. Recently, I decided to purchase a new one and used it to cut with a saw I've had for about a year now. The Skeletool's build quality is excellent, but it is quite heavy, which can be a bit challenging on my workbench. However, I've still grown fond of it. One minor issue I've encountered is that it doesn't work as effectively when pushing the handle back against the base. Nonetheless, I'm generally satisfied with its performance and reliability.\"\n"
          ]
        }
      ],
      "source": [
        "test_dataset_raw_0_50['text_'][19080] = \"I really admire the Skeletool; it's the first saw I've ever owned, and while it may be a bit pricey, it's definitely worth the investment. The clean cuts it delivers are impressive, and I find myself using it on numerous projects. Recently, I decided to purchase a new one and used it to cut with a saw I've had for about a year now. The Skeletool's build quality is excellent, but it is quite heavy, which can be a bit challenging on my workbench. However, I've still grown fond of it. One minor issue I've encountered is that it doesn't work as effectively when pushing the handle back against the base. Nonetheless, I'm generally satisfied with its performance and reliability.\""
      ]
    },
    {
      "cell_type": "code",
      "execution_count": 138,
      "id": "QeCvONajukat",
      "metadata": {
        "colab": {
          "base_uri": "https://localhost:8080/"
        },
        "id": "QeCvONajukat",
        "outputId": "b65dd7c7-463d-409c-8527-fd47cacbe8e2"
      },
      "outputs": [
        {
          "output_type": "stream",
          "name": "stderr",
          "text": [
            "<ipython-input-138-efaa4ca88644>:1: SettingWithCopyWarning: \n",
            "A value is trying to be set on a copy of a slice from a DataFrame\n",
            "\n",
            "See the caveats in the documentation: https://pandas.pydata.org/pandas-docs/stable/user_guide/indexing.html#returning-a-view-versus-a-copy\n",
            "  test_dataset_raw_0_50['text_'][37380] =\"The belt is crafted with excellent craftsmanship and made from high-quality materials. The only drawback I've noticed is that it comes with a relatively small buckle.\"\n"
          ]
        }
      ],
      "source": [
        "test_dataset_raw_0_50['text_'][37380] =\"The belt is crafted with excellent craftsmanship and made from high-quality materials. The only drawback I've noticed is that it comes with a relatively small buckle.\""
      ]
    },
    {
      "cell_type": "code",
      "execution_count": 139,
      "id": "aU9WvDkaukwh",
      "metadata": {
        "colab": {
          "base_uri": "https://localhost:8080/"
        },
        "id": "aU9WvDkaukwh",
        "outputId": "2ea7c617-06e5-408f-e902-c3e0e4514283"
      },
      "outputs": [
        {
          "output_type": "stream",
          "name": "stderr",
          "text": [
            "<ipython-input-139-de8f3bb6d6e5>:1: SettingWithCopyWarning: \n",
            "A value is trying to be set on a copy of a slice from a DataFrame\n",
            "\n",
            "See the caveats in the documentation: https://pandas.pydata.org/pandas-docs/stable/user_guide/indexing.html#returning-a-view-versus-a-copy\n",
            "  test_dataset_raw_0_50['text_'][6466] =\"This item is an ideal fit for 18-inch dolls. However, there's a minor issue with a small screw that comes with it, as it tends to be overly tight. Additionally, the clamp that holds the doll may be a bit loose, although this shouldn't pose a problem for the majority of dolls.\"\n"
          ]
        }
      ],
      "source": [
        "test_dataset_raw_0_50['text_'][6466] =\"This item is an ideal fit for 18-inch dolls. However, there's a minor issue with a small screw that comes with it, as it tends to be overly tight. Additionally, the clamp that holds the doll may be a bit loose, although this shouldn't pose a problem for the majority of dolls.\""
      ]
    },
    {
      "cell_type": "code",
      "execution_count": 140,
      "id": "f7uHsymxuk4_",
      "metadata": {
        "colab": {
          "base_uri": "https://localhost:8080/"
        },
        "id": "f7uHsymxuk4_",
        "outputId": "ea03c0c3-d8de-48e2-c940-46f67f4f3b26"
      },
      "outputs": [
        {
          "output_type": "stream",
          "name": "stderr",
          "text": [
            "<ipython-input-140-b30b2886de5e>:1: SettingWithCopyWarning: \n",
            "A value is trying to be set on a copy of a slice from a DataFrame\n",
            "\n",
            "See the caveats in the documentation: https://pandas.pydata.org/pandas-docs/stable/user_guide/indexing.html#returning-a-view-versus-a-copy\n",
            "  test_dataset_raw_0_50['text_'][3934] = \"I purchased the Martha Stewart pom-pom flower pot, and it fits perfectly in my kitchen, adding a lovely touch to the decor. The top features a durable stainless steel ring with a sturdy ceramic edge, making it a visually appealing piece. Although it might not be the most budget-friendly option, I find it to be a worthwhile addition to my kitchen. I received a free sample of this product at a discounted price in exchange for providing my honest and unbiased review, and I couldn't be happier with the purchase. Having used this product, I can confidently say that it has become an essential item in my kitchen. I'm delighted to have received it at a discount in exchange for my honest and unbiased review, and I genuinely believe it has been a valuable addition to my home\"\n"
          ]
        }
      ],
      "source": [
        "test_dataset_raw_0_50['text_'][3934] = \"I purchased the Martha Stewart pom-pom flower pot, and it fits perfectly in my kitchen, adding a lovely touch to the decor. The top features a durable stainless steel ring with a sturdy ceramic edge, making it a visually appealing piece. Although it might not be the most budget-friendly option, I find it to be a worthwhile addition to my kitchen. I received a free sample of this product at a discounted price in exchange for providing my honest and unbiased review, and I couldn't be happier with the purchase. Having used this product, I can confidently say that it has become an essential item in my kitchen. I'm delighted to have received it at a discount in exchange for my honest and unbiased review, and I genuinely believe it has been a valuable addition to my home\""
      ]
    },
    {
      "cell_type": "code",
      "execution_count": 141,
      "id": "TFA56i6UwThn",
      "metadata": {
        "colab": {
          "base_uri": "https://localhost:8080/"
        },
        "id": "TFA56i6UwThn",
        "outputId": "3a41cdf2-6941-45e0-b43f-dd354fbd6adc"
      },
      "outputs": [
        {
          "output_type": "stream",
          "name": "stderr",
          "text": [
            "<ipython-input-141-19b2cb63559a>:1: SettingWithCopyWarning: \n",
            "A value is trying to be set on a copy of a slice from a DataFrame\n",
            "\n",
            "See the caveats in the documentation: https://pandas.pydata.org/pandas-docs/stable/user_guide/indexing.html#returning-a-view-versus-a-copy\n",
            "  test_dataset_raw_0_50['text_'][33275] = \"I cannot express how much I appreciate this product, and it brings me immense joy to see how much my daughter loves it.\"\n"
          ]
        }
      ],
      "source": [
        "test_dataset_raw_0_50['text_'][33275] = \"I cannot express how much I appreciate this product, and it brings me immense joy to see how much my daughter loves it.\""
      ]
    },
    {
      "cell_type": "code",
      "execution_count": 142,
      "id": "RFyNt0GVtmqn",
      "metadata": {
        "colab": {
          "base_uri": "https://localhost:8080/"
        },
        "id": "RFyNt0GVtmqn",
        "outputId": "c899dc95-24b4-4906-e1e6-0162dca23565"
      },
      "outputs": [
        {
          "output_type": "stream",
          "name": "stderr",
          "text": [
            "<ipython-input-142-7f3593c100ed>:1: SettingWithCopyWarning: \n",
            "A value is trying to be set on a copy of a slice from a DataFrame\n",
            "\n",
            "See the caveats in the documentation: https://pandas.pydata.org/pandas-docs/stable/user_guide/indexing.html#returning-a-view-versus-a-copy\n",
            "  test_dataset_raw_0_50['text_'][24286] =\"It's just perfect for that special time of year when her sister returns for a new year, and we get a glimpse of their joy and excitement.\"\n"
          ]
        }
      ],
      "source": [
        "test_dataset_raw_0_50['text_'][24286] =\"It's just perfect for that special time of year when her sister returns for a new year, and we get a glimpse of their joy and excitement.\""
      ]
    },
    {
      "cell_type": "code",
      "execution_count": 143,
      "id": "XzGrScNVtmyY",
      "metadata": {
        "colab": {
          "base_uri": "https://localhost:8080/"
        },
        "id": "XzGrScNVtmyY",
        "outputId": "a9794e11-82da-4217-ef59-bdbff9524ce9"
      },
      "outputs": [
        {
          "output_type": "stream",
          "name": "stderr",
          "text": [
            "<ipython-input-143-913db2992c1f>:1: SettingWithCopyWarning: \n",
            "A value is trying to be set on a copy of a slice from a DataFrame\n",
            "\n",
            "See the caveats in the documentation: https://pandas.pydata.org/pandas-docs/stable/user_guide/indexing.html#returning-a-view-versus-a-copy\n",
            "  test_dataset_raw_0_50['text_'][11892] =\"When using the device with my computer running Windows XP and Windows 7, I found that it connected easily without direct computer connection, requiring only a USB cable. However, when attempting to connect it to my Windows 8.1 computer with an old hard drive, I encountered some confusion and had to take a few extra steps to establish a stable connection. Overall, the device worked well with Windows XP and Windows 7, but required additional attention for proper connectivity with the Windows 8.1 computer and old hard drive setup.\"\n"
          ]
        }
      ],
      "source": [
        "test_dataset_raw_0_50['text_'][11892] =\"When using the device with my computer running Windows XP and Windows 7, I found that it connected easily without direct computer connection, requiring only a USB cable. However, when attempting to connect it to my Windows 8.1 computer with an old hard drive, I encountered some confusion and had to take a few extra steps to establish a stable connection. Overall, the device worked well with Windows XP and Windows 7, but required additional attention for proper connectivity with the Windows 8.1 computer and old hard drive setup.\""
      ]
    },
    {
      "cell_type": "code",
      "execution_count": 144,
      "id": "chTURBAytUPm",
      "metadata": {
        "colab": {
          "base_uri": "https://localhost:8080/"
        },
        "id": "chTURBAytUPm",
        "outputId": "f85a81bf-315a-440e-8ddf-5f6d2aa787e2"
      },
      "outputs": [
        {
          "output_type": "stream",
          "name": "stderr",
          "text": [
            "<ipython-input-144-436abdf226fe>:1: SettingWithCopyWarning: \n",
            "A value is trying to be set on a copy of a slice from a DataFrame\n",
            "\n",
            "See the caveats in the documentation: https://pandas.pydata.org/pandas-docs/stable/user_guide/indexing.html#returning-a-view-versus-a-copy\n",
            "  test_dataset_raw_0_50['text_'][36412] =\"My four-year-old son (age 3) absolutely adores these toys, and we also have a smaller version for the baby. He loves the sounds the animals make, and it's a fantastic toy that keeps him entertained. I highly recommend it. It was a gift for my niece, and she loves it too! Getting it as a free item made it even better. The set is the perfect size and looks wonderful. Assembling it is easy, and my son enjoys playing with it. The inclusion of two small pieces, each with a lid, is a nice feature. We gave this as a Christmas gift to my son, and he adores it; it's simply adorable. This train set is fantastic, and our kids enjoy playing with it. We got it for our 6-year-old, and it's a hit. Even our 5-year-old loves it. The train is about 18 tall and weighs approximately 8 lbs, making it suitable for younger children. Furthermore, it's a sturdy and durable toy, perfect for young babies, and the small plastic cup holder is a convenient addition.\"\n"
          ]
        }
      ],
      "source": [
        "test_dataset_raw_0_50['text_'][36412] =\"My four-year-old son (age 3) absolutely adores these toys, and we also have a smaller version for the baby. He loves the sounds the animals make, and it's a fantastic toy that keeps him entertained. I highly recommend it. It was a gift for my niece, and she loves it too! Getting it as a free item made it even better. The set is the perfect size and looks wonderful. Assembling it is easy, and my son enjoys playing with it. The inclusion of two small pieces, each with a lid, is a nice feature. We gave this as a Christmas gift to my son, and he adores it; it's simply adorable. This train set is fantastic, and our kids enjoy playing with it. We got it for our 6-year-old, and it's a hit. Even our 5-year-old loves it. The train is about 18 tall and weighs approximately 8 lbs, making it suitable for younger children. Furthermore, it's a sturdy and durable toy, perfect for young babies, and the small plastic cup holder is a convenient addition.\""
      ]
    },
    {
      "cell_type": "code",
      "execution_count": 145,
      "id": "zR3SfrJqtUT2",
      "metadata": {
        "colab": {
          "base_uri": "https://localhost:8080/"
        },
        "id": "zR3SfrJqtUT2",
        "outputId": "c6dd3ff0-603c-42c7-cd65-e2328c5fae4c"
      },
      "outputs": [
        {
          "output_type": "stream",
          "name": "stderr",
          "text": [
            "<ipython-input-145-73aeffaf752e>:1: SettingWithCopyWarning: \n",
            "A value is trying to be set on a copy of a slice from a DataFrame\n",
            "\n",
            "See the caveats in the documentation: https://pandas.pydata.org/pandas-docs/stable/user_guide/indexing.html#returning-a-view-versus-a-copy\n",
            "  test_dataset_raw_0_50['text_'][5625]  = \"The perfect powder measure lives up to its name as it functions flawlessly. However, the only issue I encountered was with a small screw that was a bit too tight. Despite that, I'm still using it with great satisfaction.\"\n"
          ]
        }
      ],
      "source": [
        "test_dataset_raw_0_50['text_'][5625]  = \"The perfect powder measure lives up to its name as it functions flawlessly. However, the only issue I encountered was with a small screw that was a bit too tight. Despite that, I'm still using it with great satisfaction.\""
      ]
    },
    {
      "cell_type": "code",
      "execution_count": 146,
      "id": "5XVDqr-HifUX",
      "metadata": {
        "colab": {
          "base_uri": "https://localhost:8080/"
        },
        "id": "5XVDqr-HifUX",
        "outputId": "d7935c94-9dcd-488e-9c50-67ab7d684625"
      },
      "outputs": [
        {
          "output_type": "stream",
          "name": "stderr",
          "text": [
            "<ipython-input-146-1ec7b74e365d>:1: SettingWithCopyWarning: \n",
            "A value is trying to be set on a copy of a slice from a DataFrame\n",
            "\n",
            "See the caveats in the documentation: https://pandas.pydata.org/pandas-docs/stable/user_guide/indexing.html#returning-a-view-versus-a-copy\n",
            "  test_dataset_raw_0_50['text_'][25570] = \"I found great pleasure in reading this book as it beautifully combined chemistry and humor in a love story. However, I couldn't help but feel a bit melancholic when the story concluded. That might be the reason why I rated it 4 stars. The author's storytelling had me captivated throughout the entire journey.\"\n"
          ]
        }
      ],
      "source": [
        "test_dataset_raw_0_50['text_'][25570] = \"I found great pleasure in reading this book as it beautifully combined chemistry and humor in a love story. However, I couldn't help but feel a bit melancholic when the story concluded. That might be the reason why I rated it 4 stars. The author's storytelling had me captivated throughout the entire journey.\""
      ]
    },
    {
      "cell_type": "code",
      "execution_count": 147,
      "id": "Wwj3BOKrxeXX",
      "metadata": {
        "colab": {
          "base_uri": "https://localhost:8080/"
        },
        "id": "Wwj3BOKrxeXX",
        "outputId": "f095130b-5c18-4649-ca28-2a56b94c3f2b"
      },
      "outputs": [
        {
          "output_type": "stream",
          "name": "stderr",
          "text": [
            "<ipython-input-147-3e715dd8f0a9>:1: SettingWithCopyWarning: \n",
            "A value is trying to be set on a copy of a slice from a DataFrame\n",
            "\n",
            "See the caveats in the documentation: https://pandas.pydata.org/pandas-docs/stable/user_guide/indexing.html#returning-a-view-versus-a-copy\n",
            "  test_dataset_raw_0_50['text_'][8501] = \"Two words: heavy-duty! I use it daily with my phone, and it functions exceptionally well.\"\n"
          ]
        }
      ],
      "source": [
        "test_dataset_raw_0_50['text_'][8501] = \"Two words: heavy-duty! I use it daily with my phone, and it functions exceptionally well.\""
      ]
    },
    {
      "cell_type": "code",
      "execution_count": 148,
      "id": "NPRb0xXoxemj",
      "metadata": {
        "colab": {
          "base_uri": "https://localhost:8080/"
        },
        "id": "NPRb0xXoxemj",
        "outputId": "5e69288f-d2fb-4fd3-8234-5e267fd5a0b7"
      },
      "outputs": [
        {
          "output_type": "stream",
          "name": "stderr",
          "text": [
            "<ipython-input-148-6dbe9ddfa188>:1: SettingWithCopyWarning: \n",
            "A value is trying to be set on a copy of a slice from a DataFrame\n",
            "\n",
            "See the caveats in the documentation: https://pandas.pydata.org/pandas-docs/stable/user_guide/indexing.html#returning-a-view-versus-a-copy\n",
            "  test_dataset_raw_0_50['text_'][20411] =\"It works wonderfully and has a pleasant scent. In fact, it's the only product I will purchase for my cats!\"\n"
          ]
        }
      ],
      "source": [
        "test_dataset_raw_0_50['text_'][20411] =\"It works wonderfully and has a pleasant scent. In fact, it's the only product I will purchase for my cats!\""
      ]
    },
    {
      "cell_type": "code",
      "execution_count": 149,
      "id": "elk89cLnxex4",
      "metadata": {
        "colab": {
          "base_uri": "https://localhost:8080/"
        },
        "id": "elk89cLnxex4",
        "outputId": "a5130354-c916-4aa3-e626-ec2748bda611"
      },
      "outputs": [
        {
          "output_type": "stream",
          "name": "stderr",
          "text": [
            "<ipython-input-149-7425deab10b8>:1: SettingWithCopyWarning: \n",
            "A value is trying to be set on a copy of a slice from a DataFrame\n",
            "\n",
            "See the caveats in the documentation: https://pandas.pydata.org/pandas-docs/stable/user_guide/indexing.html#returning-a-view-versus-a-copy\n",
            "  test_dataset_raw_0_50['text_'][28867] = \"The book is highly recommended for anyone looking for a clear and easily understandable format, along with straightforward examples that are easy to follow.\"\n"
          ]
        }
      ],
      "source": [
        "test_dataset_raw_0_50['text_'][28867] = \"The book is highly recommended for anyone looking for a clear and easily understandable format, along with straightforward examples that are easy to follow.\""
      ]
    },
    {
      "cell_type": "code",
      "execution_count": 150,
      "id": "1TZ2l0hhxe8a",
      "metadata": {
        "colab": {
          "base_uri": "https://localhost:8080/"
        },
        "id": "1TZ2l0hhxe8a",
        "outputId": "917c5072-134a-403c-bef0-e482a340c7be"
      },
      "outputs": [
        {
          "output_type": "stream",
          "name": "stderr",
          "text": [
            "<ipython-input-150-06b1847c36cc>:1: SettingWithCopyWarning: \n",
            "A value is trying to be set on a copy of a slice from a DataFrame\n",
            "\n",
            "See the caveats in the documentation: https://pandas.pydata.org/pandas-docs/stable/user_guide/indexing.html#returning-a-view-versus-a-copy\n",
            "  test_dataset_raw_0_50['text_'][12409] =\"This does remind me of 'Colusses: The World's Towards the Div', but I'm not sure what you want me to rephrase. Could you please provide more context or clarify your request?\"\n"
          ]
        }
      ],
      "source": [
        "test_dataset_raw_0_50['text_'][12409] =\"This does remind me of 'Colusses: The World's Towards the Div', but I'm not sure what you want me to rephrase. Could you please provide more context or clarify your request?\""
      ]
    },
    {
      "cell_type": "code",
      "execution_count": 151,
      "id": "Q8wgLHOuxfFc",
      "metadata": {
        "colab": {
          "base_uri": "https://localhost:8080/"
        },
        "id": "Q8wgLHOuxfFc",
        "outputId": "140ee123-d464-4e4d-dfb1-db0a341bc9d9"
      },
      "outputs": [
        {
          "output_type": "stream",
          "name": "stderr",
          "text": [
            "<ipython-input-151-0acde49c2d75>:1: SettingWithCopyWarning: \n",
            "A value is trying to be set on a copy of a slice from a DataFrame\n",
            "\n",
            "See the caveats in the documentation: https://pandas.pydata.org/pandas-docs/stable/user_guide/indexing.html#returning-a-view-versus-a-copy\n",
            "  test_dataset_raw_0_50['text_'][33851] =\"This doll is absolutely adorable! She is incredibly soft and cuddly, and the baby's touch is gentle and tender.\"\n"
          ]
        }
      ],
      "source": [
        "test_dataset_raw_0_50['text_'][33851] =\"This doll is absolutely adorable! She is incredibly soft and cuddly, and the baby's touch is gentle and tender.\""
      ]
    },
    {
      "cell_type": "code",
      "execution_count": 152,
      "id": "50lIsoE4xfOm",
      "metadata": {
        "colab": {
          "base_uri": "https://localhost:8080/"
        },
        "id": "50lIsoE4xfOm",
        "outputId": "bf0bb7cb-4acc-4cfc-b4c3-055ec14d6aa4"
      },
      "outputs": [
        {
          "output_type": "stream",
          "name": "stderr",
          "text": [
            "<ipython-input-152-92f7350a2ecf>:1: SettingWithCopyWarning: \n",
            "A value is trying to be set on a copy of a slice from a DataFrame\n",
            "\n",
            "See the caveats in the documentation: https://pandas.pydata.org/pandas-docs/stable/user_guide/indexing.html#returning-a-view-versus-a-copy\n",
            "  test_dataset_raw_0_50['text_'][34246] =\"I wish this item could have been slightly more expensive. While I'm unsure if I would have bought it from Amazon, I am contemplating my decision.\"\n"
          ]
        }
      ],
      "source": [
        "test_dataset_raw_0_50['text_'][34246] =\"I wish this item could have been slightly more expensive. While I'm unsure if I would have bought it from Amazon, I am contemplating my decision.\""
      ]
    },
    {
      "cell_type": "code",
      "execution_count": 153,
      "id": "PFqwV5mdxfkP",
      "metadata": {
        "colab": {
          "base_uri": "https://localhost:8080/"
        },
        "id": "PFqwV5mdxfkP",
        "outputId": "c247d74e-2bce-4b31-c5f4-aa48fbb8a9da"
      },
      "outputs": [
        {
          "output_type": "stream",
          "name": "stderr",
          "text": [
            "<ipython-input-153-9047959fb319>:1: SettingWithCopyWarning: \n",
            "A value is trying to be set on a copy of a slice from a DataFrame\n",
            "\n",
            "See the caveats in the documentation: https://pandas.pydata.org/pandas-docs/stable/user_guide/indexing.html#returning-a-view-versus-a-copy\n",
            "  test_dataset_raw_0_50['text_'][39476] = \"These shoes are incredibly fashionable and stylish, making anyone wearing them look well-dressed. I purchased them for my son, and he absolutely loves them! He wears them frequently, and they provide great comfort. However, it's important to note that these are not waterproof boots, so their longevity might be limited in certain conditions. Overall, they are a fantastic shoe choice.\"\n"
          ]
        }
      ],
      "source": [
        "test_dataset_raw_0_50['text_'][39476] = \"These shoes are incredibly fashionable and stylish, making anyone wearing them look well-dressed. I purchased them for my son, and he absolutely loves them! He wears them frequently, and they provide great comfort. However, it's important to note that these are not waterproof boots, so their longevity might be limited in certain conditions. Overall, they are a fantastic shoe choice.\""
      ]
    },
    {
      "cell_type": "code",
      "execution_count": 154,
      "id": "j9-lmnW5y2dH",
      "metadata": {
        "colab": {
          "base_uri": "https://localhost:8080/"
        },
        "id": "j9-lmnW5y2dH",
        "outputId": "cbc925d2-3bff-4dc2-80cb-03c17bcf027b"
      },
      "outputs": [
        {
          "output_type": "stream",
          "name": "stderr",
          "text": [
            "<ipython-input-154-2caa9230c099>:1: SettingWithCopyWarning: \n",
            "A value is trying to be set on a copy of a slice from a DataFrame\n",
            "\n",
            "See the caveats in the documentation: https://pandas.pydata.org/pandas-docs/stable/user_guide/indexing.html#returning-a-view-versus-a-copy\n",
            "  test_dataset_raw_0_50['text_'][13831] = \"This film is truly remarkable as a Christian movie. The storytelling is well-crafted, and the acting is of excellent quality. I highly recommend this film to anyone who appreciates a compelling Christian story. As a movie enthusiast, I must say this one stands out as a great choice.\"\n"
          ]
        }
      ],
      "source": [
        "test_dataset_raw_0_50['text_'][13831] = \"This film is truly remarkable as a Christian movie. The storytelling is well-crafted, and the acting is of excellent quality. I highly recommend this film to anyone who appreciates a compelling Christian story. As a movie enthusiast, I must say this one stands out as a great choice.\""
      ]
    },
    {
      "cell_type": "code",
      "execution_count": 155,
      "id": "Jhwunubqy2lb",
      "metadata": {
        "colab": {
          "base_uri": "https://localhost:8080/"
        },
        "id": "Jhwunubqy2lb",
        "outputId": "3516afbf-2cab-4f68-e90b-cd8e6caff18c"
      },
      "outputs": [
        {
          "output_type": "stream",
          "name": "stderr",
          "text": [
            "<ipython-input-155-436a9663ffe8>:1: SettingWithCopyWarning: \n",
            "A value is trying to be set on a copy of a slice from a DataFrame\n",
            "\n",
            "See the caveats in the documentation: https://pandas.pydata.org/pandas-docs/stable/user_guide/indexing.html#returning-a-view-versus-a-copy\n",
            "  test_dataset_raw_0_50['text_'][24371] = \"I derive immense pleasure from reading this series. The characters are skillfully developed, and the narrative is masterfully told. The story is truly captivating and engrossing\"\n"
          ]
        }
      ],
      "source": [
        "test_dataset_raw_0_50['text_'][24371] = \"I derive immense pleasure from reading this series. The characters are skillfully developed, and the narrative is masterfully told. The story is truly captivating and engrossing\""
      ]
    },
    {
      "cell_type": "code",
      "execution_count": 156,
      "id": "hLgFRVfvy2rV",
      "metadata": {
        "colab": {
          "base_uri": "https://localhost:8080/"
        },
        "id": "hLgFRVfvy2rV",
        "outputId": "fd7eedd6-1c50-4df0-b2d2-002bba6472ab"
      },
      "outputs": [
        {
          "output_type": "stream",
          "name": "stderr",
          "text": [
            "<ipython-input-156-322e19cebd58>:1: SettingWithCopyWarning: \n",
            "A value is trying to be set on a copy of a slice from a DataFrame\n",
            "\n",
            "See the caveats in the documentation: https://pandas.pydata.org/pandas-docs/stable/user_guide/indexing.html#returning-a-view-versus-a-copy\n",
            "  test_dataset_raw_0_50['text_'][9662] =\"This is another outstanding addition to an already impressive collection, offering excellent value for the money spent. While I may not be an expert on music, as a passionate music lover, I can confidently say that this is a remarkable choice.\"\n"
          ]
        }
      ],
      "source": [
        "test_dataset_raw_0_50['text_'][9662] =\"This is another outstanding addition to an already impressive collection, offering excellent value for the money spent. While I may not be an expert on music, as a passionate music lover, I can confidently say that this is a remarkable choice.\""
      ]
    },
    {
      "cell_type": "code",
      "execution_count": 157,
      "id": "q9ZGzDogy2wK",
      "metadata": {
        "colab": {
          "base_uri": "https://localhost:8080/"
        },
        "id": "q9ZGzDogy2wK",
        "outputId": "a6df7f59-e16f-413d-ff8f-dcd7dcdcd094"
      },
      "outputs": [
        {
          "output_type": "stream",
          "name": "stderr",
          "text": [
            "<ipython-input-157-da9e8f503cdc>:1: SettingWithCopyWarning: \n",
            "A value is trying to be set on a copy of a slice from a DataFrame\n",
            "\n",
            "See the caveats in the documentation: https://pandas.pydata.org/pandas-docs/stable/user_guide/indexing.html#returning-a-view-versus-a-copy\n",
            "  test_dataset_raw_0_50['text_'][33463] = \"Our 3-year-old daughter thoroughly enjoys playing with this toy, especially in her playroom. It's a delightful addition to her playtime.\"\n"
          ]
        }
      ],
      "source": [
        "test_dataset_raw_0_50['text_'][33463] = \"Our 3-year-old daughter thoroughly enjoys playing with this toy, especially in her playroom. It's a delightful addition to her playtime.\""
      ]
    },
    {
      "cell_type": "code",
      "execution_count": 158,
      "id": "_ZPvgd-oy208",
      "metadata": {
        "colab": {
          "base_uri": "https://localhost:8080/"
        },
        "id": "_ZPvgd-oy208",
        "outputId": "efdb439c-2cfc-4984-87ac-4ff85704dc0e"
      },
      "outputs": [
        {
          "output_type": "stream",
          "name": "stderr",
          "text": [
            "<ipython-input-158-11b359630d46>:1: SettingWithCopyWarning: \n",
            "A value is trying to be set on a copy of a slice from a DataFrame\n",
            "\n",
            "See the caveats in the documentation: https://pandas.pydata.org/pandas-docs/stable/user_guide/indexing.html#returning-a-view-versus-a-copy\n",
            "  test_dataset_raw_0_50['text_'][2954] = \"This product is generously sized, providing a comfortable and pleasant feel in my hand. I purchased it as a gift for a friend who turned out to be a big fan of it. She loved it so much that she even sent one to her brother as a Christmas present. The positive reviews mentioning its excellent quality were indeed accurate, and I can vouch for its impressive build.\"\n"
          ]
        }
      ],
      "source": [
        "test_dataset_raw_0_50['text_'][2954] = \"This product is generously sized, providing a comfortable and pleasant feel in my hand. I purchased it as a gift for a friend who turned out to be a big fan of it. She loved it so much that she even sent one to her brother as a Christmas present. The positive reviews mentioning its excellent quality were indeed accurate, and I can vouch for its impressive build.\""
      ]
    },
    {
      "cell_type": "code",
      "execution_count": 159,
      "id": "8rUMVgwTy26K",
      "metadata": {
        "colab": {
          "base_uri": "https://localhost:8080/"
        },
        "id": "8rUMVgwTy26K",
        "outputId": "01394ed9-b078-4ed5-dc93-4946ab47a882"
      },
      "outputs": [
        {
          "output_type": "stream",
          "name": "stderr",
          "text": [
            "<ipython-input-159-981a18f10eeb>:1: SettingWithCopyWarning: \n",
            "A value is trying to be set on a copy of a slice from a DataFrame\n",
            "\n",
            "See the caveats in the documentation: https://pandas.pydata.org/pandas-docs/stable/user_guide/indexing.html#returning-a-view-versus-a-copy\n",
            "  test_dataset_raw_0_50['text_'][36835] = \"Highly comfortable and pleasantly designed, I wholeheartedly recommend this product. Its quality is superb, and it offers a comfortable fit, even for those with wide feet.\"\n"
          ]
        }
      ],
      "source": [
        "test_dataset_raw_0_50['text_'][36835] = \"Highly comfortable and pleasantly designed, I wholeheartedly recommend this product. Its quality is superb, and it offers a comfortable fit, even for those with wide feet.\""
      ]
    },
    {
      "cell_type": "code",
      "execution_count": 160,
      "id": "Lzkxrpeyy3N3",
      "metadata": {
        "colab": {
          "base_uri": "https://localhost:8080/"
        },
        "id": "Lzkxrpeyy3N3",
        "outputId": "859e0495-45b9-43ea-fa61-c8af1b4cb900"
      },
      "outputs": [
        {
          "output_type": "stream",
          "name": "stderr",
          "text": [
            "<ipython-input-160-ce03be20f652>:1: SettingWithCopyWarning: \n",
            "A value is trying to be set on a copy of a slice from a DataFrame\n",
            "\n",
            "See the caveats in the documentation: https://pandas.pydata.org/pandas-docs/stable/user_guide/indexing.html#returning-a-view-versus-a-copy\n",
            "  test_dataset_raw_0_50['text_'][11507] = \"After enduring several months of delays, this product has finally become a reality. I rate it 4 stars only because it's slightly too small for a laptop. The keyboard size is a bit compact, which might not be a major issue for me, but it could be better suited for laptops. Additionally, the keyboard is a bit large and cumbersome to handle. Personally, I prefer having my laptop on my lap or on the couch rather than dealing with a bulky keyboard on my lap with a hard surface. There are some doubts about the keyboard's longevity, as it may be too small for a laptop. However, it does a commendable job of securely holding my Macbook Pro, and I've been using it comfortably for some time now.\"\n"
          ]
        }
      ],
      "source": [
        "test_dataset_raw_0_50['text_'][11507] = \"After enduring several months of delays, this product has finally become a reality. I rate it 4 stars only because it's slightly too small for a laptop. The keyboard size is a bit compact, which might not be a major issue for me, but it could be better suited for laptops. Additionally, the keyboard is a bit large and cumbersome to handle. Personally, I prefer having my laptop on my lap or on the couch rather than dealing with a bulky keyboard on my lap with a hard surface. There are some doubts about the keyboard's longevity, as it may be too small for a laptop. However, it does a commendable job of securely holding my Macbook Pro, and I've been using it comfortably for some time now.\""
      ]
    },
    {
      "cell_type": "code",
      "execution_count": 161,
      "id": "WdqLyyodxftG",
      "metadata": {
        "colab": {
          "base_uri": "https://localhost:8080/"
        },
        "id": "WdqLyyodxftG",
        "outputId": "44fcf18e-a92c-4acc-f8ad-1831fb1de12a"
      },
      "outputs": [
        {
          "output_type": "stream",
          "name": "stderr",
          "text": [
            "<ipython-input-161-0425f2da9a42>:1: SettingWithCopyWarning: \n",
            "A value is trying to be set on a copy of a slice from a DataFrame\n",
            "\n",
            "See the caveats in the documentation: https://pandas.pydata.org/pandas-docs/stable/user_guide/indexing.html#returning-a-view-versus-a-copy\n",
            "  test_dataset_raw_0_50['text_'][17802] = \"I've owned this gun for a couple of years, and I couldn't be happier with its performance. Despite its small size, it packs a punch and proves its worth without the need for spending extra money. It's particularly useful for handling small jobs and comes in handy for tasks, especially when on the go or working in a truck.\"\n"
          ]
        }
      ],
      "source": [
        "test_dataset_raw_0_50['text_'][17802] = \"I've owned this gun for a couple of years, and I couldn't be happier with its performance. Despite its small size, it packs a punch and proves its worth without the need for spending extra money. It's particularly useful for handling small jobs and comes in handy for tasks, especially when on the go or working in a truck.\""
      ]
    },
    {
      "cell_type": "code",
      "execution_count": 162,
      "id": "TLPb2ioF0L4m",
      "metadata": {
        "colab": {
          "base_uri": "https://localhost:8080/"
        },
        "id": "TLPb2ioF0L4m",
        "outputId": "a8f6f2b3-2f6d-4eae-ef87-aedad2ff571f"
      },
      "outputs": [
        {
          "output_type": "stream",
          "name": "stderr",
          "text": [
            "<ipython-input-162-9c5a84f9b9ed>:1: SettingWithCopyWarning: \n",
            "A value is trying to be set on a copy of a slice from a DataFrame\n",
            "\n",
            "See the caveats in the documentation: https://pandas.pydata.org/pandas-docs/stable/user_guide/indexing.html#returning-a-view-versus-a-copy\n",
            "  test_dataset_raw_0_50['text_'][28244] = \"I received this book as an Amazon freebie and got an ARC in exchange for an honest review. While the first two books were enjoyable, the rest of the story didn't quite captivate me, especially the second book, which lacked a compelling storyline. The hero and heroine were a bit frustrating, and their characters lacked depth, although the hero was likable and the heroine's growth was interesting. The villain was well-portrayed, but didn't evoke much emotion. The ending was pleasant, and I had hoped for a sequel that didn't materialize. Overall, the book had some enjoyable aspects with twists and turns, making it worth recommending to those who appreciate a good story.\"\n"
          ]
        }
      ],
      "source": [
        "test_dataset_raw_0_50['text_'][28244] = \"I received this book as an Amazon freebie and got an ARC in exchange for an honest review. While the first two books were enjoyable, the rest of the story didn't quite captivate me, especially the second book, which lacked a compelling storyline. The hero and heroine were a bit frustrating, and their characters lacked depth, although the hero was likable and the heroine's growth was interesting. The villain was well-portrayed, but didn't evoke much emotion. The ending was pleasant, and I had hoped for a sequel that didn't materialize. Overall, the book had some enjoyable aspects with twists and turns, making it worth recommending to those who appreciate a good story.\""
      ]
    },
    {
      "cell_type": "code",
      "execution_count": 163,
      "id": "qFpuQxdu0L9g",
      "metadata": {
        "colab": {
          "base_uri": "https://localhost:8080/"
        },
        "id": "qFpuQxdu0L9g",
        "outputId": "e5fa736c-13bd-48c5-ca47-3dd617874e15"
      },
      "outputs": [
        {
          "output_type": "stream",
          "name": "stderr",
          "text": [
            "<ipython-input-163-c356e26ba2e3>:1: SettingWithCopyWarning: \n",
            "A value is trying to be set on a copy of a slice from a DataFrame\n",
            "\n",
            "See the caveats in the documentation: https://pandas.pydata.org/pandas-docs/stable/user_guide/indexing.html#returning-a-view-versus-a-copy\n",
            "  test_dataset_raw_0_50['text_'][10309] =\"The device serves its purpose, but it does have a design flaw. I must admit that it's a bit bulky. If you're looking for a nice and sturdy desktop, then this is the one to get. However, if you prefer a smaller desktop, then this might not be the best choice for you. I purchased this device for...\"\n"
          ]
        }
      ],
      "source": [
        "test_dataset_raw_0_50['text_'][10309] =\"The device serves its purpose, but it does have a design flaw. I must admit that it's a bit bulky. If you're looking for a nice and sturdy desktop, then this is the one to get. However, if you prefer a smaller desktop, then this might not be the best choice for you. I purchased this device for...\""
      ]
    },
    {
      "cell_type": "code",
      "execution_count": 164,
      "id": "fVF_1GT80MB7",
      "metadata": {
        "colab": {
          "base_uri": "https://localhost:8080/"
        },
        "id": "fVF_1GT80MB7",
        "outputId": "b83bf81f-1f23-4726-f1a0-fd2a3670d131"
      },
      "outputs": [
        {
          "output_type": "stream",
          "name": "stderr",
          "text": [
            "<ipython-input-164-07c98fa1d941>:1: SettingWithCopyWarning: \n",
            "A value is trying to be set on a copy of a slice from a DataFrame\n",
            "\n",
            "See the caveats in the documentation: https://pandas.pydata.org/pandas-docs/stable/user_guide/indexing.html#returning-a-view-versus-a-copy\n",
            "  test_dataset_raw_0_50['text_'][31786] =\"It's unfortunate that this book has been overlooked in history, but dwelling on the past isn't worth my time. However, I must acknowledge that the book is well-written and in good condition. On the brighter side, I absolutely adored this book and couldn't wait to read it, along with its thrilling sequel. It seamlessly continues the series, and I'm eagerly looking forward to what unfolds next. This entire series has been a delightful journey for me over the past month, and each book has been a joy to read.\"\n"
          ]
        }
      ],
      "source": [
        "test_dataset_raw_0_50['text_'][31786] =\"It's unfortunate that this book has been overlooked in history, but dwelling on the past isn't worth my time. However, I must acknowledge that the book is well-written and in good condition. On the brighter side, I absolutely adored this book and couldn't wait to read it, along with its thrilling sequel. It seamlessly continues the series, and I'm eagerly looking forward to what unfolds next. This entire series has been a delightful journey for me over the past month, and each book has been a joy to read.\""
      ]
    },
    {
      "cell_type": "code",
      "execution_count": 165,
      "id": "wMF8mybn0MLU",
      "metadata": {
        "colab": {
          "base_uri": "https://localhost:8080/"
        },
        "id": "wMF8mybn0MLU",
        "outputId": "880b1c19-4154-4e6c-da00-e875d786d6f4"
      },
      "outputs": [
        {
          "output_type": "stream",
          "name": "stderr",
          "text": [
            "<ipython-input-165-be9211b3276e>:1: SettingWithCopyWarning: \n",
            "A value is trying to be set on a copy of a slice from a DataFrame\n",
            "\n",
            "See the caveats in the documentation: https://pandas.pydata.org/pandas-docs/stable/user_guide/indexing.html#returning-a-view-versus-a-copy\n",
            "  test_dataset_raw_0_50['text_'][26381] = \"I absolutely adored this book! The emotional love story kept me captivated, and I loved the characters' journey to find their way back together. It's a must-read for all romance enthusiasts. The story was very engaging, and the characters were well-developed, which I truly appreciated.\"\n"
          ]
        }
      ],
      "source": [
        "test_dataset_raw_0_50['text_'][26381] = \"I absolutely adored this book! The emotional love story kept me captivated, and I loved the characters' journey to find their way back together. It's a must-read for all romance enthusiasts. The story was very engaging, and the characters were well-developed, which I truly appreciated.\""
      ]
    },
    {
      "cell_type": "code",
      "execution_count": 166,
      "id": "J3jctCsJ0MSc",
      "metadata": {
        "colab": {
          "base_uri": "https://localhost:8080/"
        },
        "id": "J3jctCsJ0MSc",
        "outputId": "af3a887f-c437-46b6-9115-a54f43633f17"
      },
      "outputs": [
        {
          "output_type": "stream",
          "name": "stderr",
          "text": [
            "<ipython-input-166-22d559de4195>:1: SettingWithCopyWarning: \n",
            "A value is trying to be set on a copy of a slice from a DataFrame\n",
            "\n",
            "See the caveats in the documentation: https://pandas.pydata.org/pandas-docs/stable/user_guide/indexing.html#returning-a-view-versus-a-copy\n",
            "  test_dataset_raw_0_50['text_'][3940] =\"I have two Keurig-type vacuum cleaners, and they work perfectly fine. The extra suction on the top is a great feature, and the blades make it easy to clean. I would definitely repurchase this product./The reviews mentioned that it was a great size, but I found it to be smaller than expected, so I had to order another set for my grandson. Nevertheless, I love the color, and they work wonderfully for me. /This blanket is fantastic! It's soft, cozy, and durable. While it's not overly heavy, it does a good job of keeping me comfortable in hot weather. I'll be buying another set for my daughter, who is having trouble sleeping. /I bought these curtains, and they looked pretty cute. They are also great for my son's bed. The colors are exactly as pictured, and the fabric is softer than expected, but I still like it. The vibrant colors are a pleasant surprise. They are a wonderful addition to my bedroom, and I highly recommend them.\"\n"
          ]
        }
      ],
      "source": [
        "test_dataset_raw_0_50['text_'][3940] =\"I have two Keurig-type vacuum cleaners, and they work perfectly fine. The extra suction on the top is a great feature, and the blades make it easy to clean. I would definitely repurchase this product./The reviews mentioned that it was a great size, but I found it to be smaller than expected, so I had to order another set for my grandson. Nevertheless, I love the color, and they work wonderfully for me. /This blanket is fantastic! It's soft, cozy, and durable. While it's not overly heavy, it does a good job of keeping me comfortable in hot weather. I'll be buying another set for my daughter, who is having trouble sleeping. /I bought these curtains, and they looked pretty cute. They are also great for my son's bed. The colors are exactly as pictured, and the fabric is softer than expected, but I still like it. The vibrant colors are a pleasant surprise. They are a wonderful addition to my bedroom, and I highly recommend them.\""
      ]
    },
    {
      "cell_type": "code",
      "execution_count": 167,
      "id": "s09tD2Qa0MZH",
      "metadata": {
        "colab": {
          "base_uri": "https://localhost:8080/"
        },
        "id": "s09tD2Qa0MZH",
        "outputId": "422ba336-1183-4355-a772-848e68b0c90f"
      },
      "outputs": [
        {
          "output_type": "stream",
          "name": "stderr",
          "text": [
            "<ipython-input-167-0e687f8424a9>:1: SettingWithCopyWarning: \n",
            "A value is trying to be set on a copy of a slice from a DataFrame\n",
            "\n",
            "See the caveats in the documentation: https://pandas.pydata.org/pandas-docs/stable/user_guide/indexing.html#returning-a-view-versus-a-copy\n",
            "  test_dataset_raw_0_50['text_'][12791] = \"This animated movie was fantastic! Initially, I didn't expect it to be as good as the original, but it pleasantly surprised me with its greatness.\"\n"
          ]
        }
      ],
      "source": [
        "test_dataset_raw_0_50['text_'][12791] = \"This animated movie was fantastic! Initially, I didn't expect it to be as good as the original, but it pleasantly surprised me with its greatness.\""
      ]
    },
    {
      "cell_type": "code",
      "execution_count": 168,
      "id": "iw-DpUCP0MeY",
      "metadata": {
        "colab": {
          "base_uri": "https://localhost:8080/"
        },
        "id": "iw-DpUCP0MeY",
        "outputId": "4f5bd8b1-1122-4ddd-f7af-db58e40cf244"
      },
      "outputs": [
        {
          "output_type": "stream",
          "name": "stderr",
          "text": [
            "<ipython-input-168-54da43a17500>:1: SettingWithCopyWarning: \n",
            "A value is trying to be set on a copy of a slice from a DataFrame\n",
            "\n",
            "See the caveats in the documentation: https://pandas.pydata.org/pandas-docs/stable/user_guide/indexing.html#returning-a-view-versus-a-copy\n",
            "  test_dataset_raw_0_50['text_'][21130] = \"My cat absolutely loves this toy, and it keeps her entertained for a considerable amount of time. She doesn't chase it, but it still proves to be an excellent value for the price.\"\n"
          ]
        }
      ],
      "source": [
        "test_dataset_raw_0_50['text_'][21130] = \"My cat absolutely loves this toy, and it keeps her entertained for a considerable amount of time. She doesn't chase it, but it still proves to be an excellent value for the price.\""
      ]
    },
    {
      "cell_type": "code",
      "execution_count": 169,
      "id": "cAsLdhCb1iiF",
      "metadata": {
        "colab": {
          "base_uri": "https://localhost:8080/"
        },
        "id": "cAsLdhCb1iiF",
        "outputId": "06dac040-6094-41b1-99c0-c696dd2ae2c3"
      },
      "outputs": [
        {
          "output_type": "stream",
          "name": "stderr",
          "text": [
            "<ipython-input-169-efde937c0e47>:1: SettingWithCopyWarning: \n",
            "A value is trying to be set on a copy of a slice from a DataFrame\n",
            "\n",
            "See the caveats in the documentation: https://pandas.pydata.org/pandas-docs/stable/user_guide/indexing.html#returning-a-view-versus-a-copy\n",
            "  test_dataset_raw_0_50['text_'][26333] = \"Calling it 'broken' would be an understatement of the thrilling journey this story takes you on. Filled with captivating twists and turns, it keeps you hooked and eager for more. The characters are truly believable, and the fast-paced narrative adds to its appeal. Without a doubt, this book is a must-read, and I highly recommend it. I received this book from a friend, and in all honesty, I absolutely loved it!\"\n"
          ]
        }
      ],
      "source": [
        "test_dataset_raw_0_50['text_'][26333] = \"Calling it 'broken' would be an understatement of the thrilling journey this story takes you on. Filled with captivating twists and turns, it keeps you hooked and eager for more. The characters are truly believable, and the fast-paced narrative adds to its appeal. Without a doubt, this book is a must-read, and I highly recommend it. I received this book from a friend, and in all honesty, I absolutely loved it!\""
      ]
    },
    {
      "cell_type": "code",
      "execution_count": 170,
      "id": "a4-vo1BU1irf",
      "metadata": {
        "colab": {
          "base_uri": "https://localhost:8080/"
        },
        "id": "a4-vo1BU1irf",
        "outputId": "31a0798e-1848-4875-a3ec-79e587dfad23"
      },
      "outputs": [
        {
          "output_type": "stream",
          "name": "stderr",
          "text": [
            "<ipython-input-170-6cae279b0a14>:1: SettingWithCopyWarning: \n",
            "A value is trying to be set on a copy of a slice from a DataFrame\n",
            "\n",
            "See the caveats in the documentation: https://pandas.pydata.org/pandas-docs/stable/user_guide/indexing.html#returning-a-view-versus-a-copy\n",
            "  test_dataset_raw_0_50['text_'][34131] = \"This deck serves as an excellent starter set, featuring numerous high-quality cards. The variety among the cards is impressive, and the design is well-crafted.\"\n"
          ]
        }
      ],
      "source": [
        "test_dataset_raw_0_50['text_'][34131] = \"This deck serves as an excellent starter set, featuring numerous high-quality cards. The variety among the cards is impressive, and the design is well-crafted.\""
      ]
    },
    {
      "cell_type": "code",
      "execution_count": 171,
      "id": "ULG9pelb1iyW",
      "metadata": {
        "colab": {
          "base_uri": "https://localhost:8080/"
        },
        "id": "ULG9pelb1iyW",
        "outputId": "af3baf91-a743-43da-c007-11e20c385fd1"
      },
      "outputs": [
        {
          "output_type": "stream",
          "name": "stderr",
          "text": [
            "<ipython-input-171-37a1efa1aaa9>:1: SettingWithCopyWarning: \n",
            "A value is trying to be set on a copy of a slice from a DataFrame\n",
            "\n",
            "See the caveats in the documentation: https://pandas.pydata.org/pandas-docs/stable/user_guide/indexing.html#returning-a-view-versus-a-copy\n",
            "  test_dataset_raw_0_50['text_'][28036] =\"Slight spoiler alert: Killian is portrayed as the male lead with a troubled past that has made him come across as a bit of a jerk. His desire to avoid involvement with the mercenary organization he was hired to protect was the only thing holding him back from making a decision. He had much to learn about the world and military, and it was a challenging lesson to grasp. Throughout the experience, he underwent significant personal growth, but it was hard to see him as anything other than a jerk.On the other hand, Kylo, a former Marine, is a young woman with a military background. Although she wasn't in a position to tell Killian how to behave, she was committed to protecting him. While she also had much to learn about her family and their opinions, she was determined to do everything in her power to keep him safe and make him happy. At the same time, Kylo felt that there was something about herself that would profoundly change her life for the better. The last thing she wanted was to...\"\n"
          ]
        }
      ],
      "source": [
        "test_dataset_raw_0_50['text_'][28036] =\"Slight spoiler alert: Killian is portrayed as the male lead with a troubled past that has made him come across as a bit of a jerk. His desire to avoid involvement with the mercenary organization he was hired to protect was the only thing holding him back from making a decision. He had much to learn about the world and military, and it was a challenging lesson to grasp. Throughout the experience, he underwent significant personal growth, but it was hard to see him as anything other than a jerk.On the other hand, Kylo, a former Marine, is a young woman with a military background. Although she wasn't in a position to tell Killian how to behave, she was committed to protecting him. While she also had much to learn about her family and their opinions, she was determined to do everything in her power to keep him safe and make him happy. At the same time, Kylo felt that there was something about herself that would profoundly change her life for the better. The last thing she wanted was to...\""
      ]
    },
    {
      "cell_type": "code",
      "execution_count": 172,
      "id": "OMVgDIi81i4F",
      "metadata": {
        "colab": {
          "base_uri": "https://localhost:8080/"
        },
        "id": "OMVgDIi81i4F",
        "outputId": "b3505e9e-dd5b-4b51-8f25-332076ef5bfd"
      },
      "outputs": [
        {
          "output_type": "stream",
          "name": "stderr",
          "text": [
            "<ipython-input-172-fe397863835c>:1: SettingWithCopyWarning: \n",
            "A value is trying to be set on a copy of a slice from a DataFrame\n",
            "\n",
            "See the caveats in the documentation: https://pandas.pydata.org/pandas-docs/stable/user_guide/indexing.html#returning-a-view-versus-a-copy\n",
            "  test_dataset_raw_0_50['text_'][21829] =\"This product is fantastic for taking my two small dogs outside with me. I plan to keep using it for the next couple of months due to its great functionality and the excellent price. It works perfectly, especially since my dog is a chewer, and I find it easy to get her to eat with it.\"\n"
          ]
        }
      ],
      "source": [
        "test_dataset_raw_0_50['text_'][21829] =\"This product is fantastic for taking my two small dogs outside with me. I plan to keep using it for the next couple of months due to its great functionality and the excellent price. It works perfectly, especially since my dog is a chewer, and I find it easy to get her to eat with it.\""
      ]
    },
    {
      "cell_type": "code",
      "execution_count": 173,
      "id": "u9X3pmAR1i8O",
      "metadata": {
        "colab": {
          "base_uri": "https://localhost:8080/"
        },
        "id": "u9X3pmAR1i8O",
        "outputId": "4ddf845e-3ab5-4e01-b4dc-a9a28dc13e24"
      },
      "outputs": [
        {
          "output_type": "stream",
          "name": "stderr",
          "text": [
            "<ipython-input-173-31b7ac0123c6>:1: SettingWithCopyWarning: \n",
            "A value is trying to be set on a copy of a slice from a DataFrame\n",
            "\n",
            "See the caveats in the documentation: https://pandas.pydata.org/pandas-docs/stable/user_guide/indexing.html#returning-a-view-versus-a-copy\n",
            "  test_dataset_raw_0_50['text_'][36002] =\"We bought this camera for my daughter, and she absolutely loves it, especially the bright colors. She plays with it frequently, and it's easy for her to use. The camera has been perfect for her as she enjoys taking pictures of everything she can, including her family's toys and other items. The camera's quality is impressive, and it's very durable and user-friendly. I highly recommend this camera for any child interested in video. It's an excellent choice, and I would recommend it to anyone who is interested.\"\n"
          ]
        }
      ],
      "source": [
        "test_dataset_raw_0_50['text_'][36002] =\"We bought this camera for my daughter, and she absolutely loves it, especially the bright colors. She plays with it frequently, and it's easy for her to use. The camera has been perfect for her as she enjoys taking pictures of everything she can, including her family's toys and other items. The camera's quality is impressive, and it's very durable and user-friendly. I highly recommend this camera for any child interested in video. It's an excellent choice, and I would recommend it to anyone who is interested.\""
      ]
    },
    {
      "cell_type": "code",
      "execution_count": 174,
      "id": "ip_jn-Sy1jAc",
      "metadata": {
        "colab": {
          "base_uri": "https://localhost:8080/"
        },
        "id": "ip_jn-Sy1jAc",
        "outputId": "8b45044a-6ec2-4347-e8c1-adb170b0b377"
      },
      "outputs": [
        {
          "output_type": "stream",
          "name": "stderr",
          "text": [
            "<ipython-input-174-9aaa60778100>:1: SettingWithCopyWarning: \n",
            "A value is trying to be set on a copy of a slice from a DataFrame\n",
            "\n",
            "See the caveats in the documentation: https://pandas.pydata.org/pandas-docs/stable/user_guide/indexing.html#returning-a-view-versus-a-copy\n",
            "  test_dataset_raw_0_50['text_'][32896] =\"This item fits my 20-month-old perfectly and includes all the necessary pieces to make it function.\"\n"
          ]
        }
      ],
      "source": [
        "test_dataset_raw_0_50['text_'][32896] =\"This item fits my 20-month-old perfectly and includes all the necessary pieces to make it function.\""
      ]
    },
    {
      "cell_type": "code",
      "execution_count": 175,
      "id": "9o6KsMIL2x1O",
      "metadata": {
        "colab": {
          "base_uri": "https://localhost:8080/"
        },
        "id": "9o6KsMIL2x1O",
        "outputId": "31d14bc2-3c18-4490-b92a-77e1a8265422"
      },
      "outputs": [
        {
          "output_type": "stream",
          "name": "stderr",
          "text": [
            "<ipython-input-175-c18ed5cfdc53>:1: SettingWithCopyWarning: \n",
            "A value is trying to be set on a copy of a slice from a DataFrame\n",
            "\n",
            "See the caveats in the documentation: https://pandas.pydata.org/pandas-docs/stable/user_guide/indexing.html#returning-a-view-versus-a-copy\n",
            "  test_dataset_raw_0_50['text_'][13185] =\"I haven't watched the entire movie yet, and I won't be purchasing the Blu-ray. Instead, I had to obtain a copy in some other way.\"\n"
          ]
        }
      ],
      "source": [
        "test_dataset_raw_0_50['text_'][13185] =\"I haven't watched the entire movie yet, and I won't be purchasing the Blu-ray. Instead, I had to obtain a copy in some other way.\""
      ]
    },
    {
      "cell_type": "code",
      "execution_count": 176,
      "id": "r3K9N_O82x6q",
      "metadata": {
        "colab": {
          "base_uri": "https://localhost:8080/"
        },
        "id": "r3K9N_O82x6q",
        "outputId": "d7a9fd61-e912-4033-8100-e2998b5fe6c1"
      },
      "outputs": [
        {
          "output_type": "stream",
          "name": "stderr",
          "text": [
            "<ipython-input-176-805f5e6dbdce>:1: SettingWithCopyWarning: \n",
            "A value is trying to be set on a copy of a slice from a DataFrame\n",
            "\n",
            "See the caveats in the documentation: https://pandas.pydata.org/pandas-docs/stable/user_guide/indexing.html#returning-a-view-versus-a-copy\n",
            "  test_dataset_raw_0_50['text_'][4173] =\"I purchased this as a gift for my husband, and he absolutely adores it. He loves the way it...\"\n"
          ]
        }
      ],
      "source": [
        "test_dataset_raw_0_50['text_'][4173] =\"I purchased this as a gift for my husband, and he absolutely adores it. He loves the way it...\""
      ]
    },
    {
      "cell_type": "code",
      "execution_count": 177,
      "id": "bJmFA8Lg2yAr",
      "metadata": {
        "colab": {
          "base_uri": "https://localhost:8080/"
        },
        "id": "bJmFA8Lg2yAr",
        "outputId": "1a9b9aa6-4be5-4dbd-cfac-f0d0e2ecc7ab"
      },
      "outputs": [
        {
          "output_type": "stream",
          "name": "stderr",
          "text": [
            "<ipython-input-177-755e6ebbb440>:1: SettingWithCopyWarning: \n",
            "A value is trying to be set on a copy of a slice from a DataFrame\n",
            "\n",
            "See the caveats in the documentation: https://pandas.pydata.org/pandas-docs/stable/user_guide/indexing.html#returning-a-view-versus-a-copy\n",
            "  test_dataset_raw_0_50['text_'][6265] =\"While I typically shoot multiple weapons, I found it a bit challenging to acquire this particular one. However, I managed to get a solid grip on the gun, making it suitable for use with a Ruger 1911.\"\n"
          ]
        }
      ],
      "source": [
        "test_dataset_raw_0_50['text_'][6265] =\"While I typically shoot multiple weapons, I found it a bit challenging to acquire this particular one. However, I managed to get a solid grip on the gun, making it suitable for use with a Ruger 1911.\""
      ]
    },
    {
      "cell_type": "code",
      "execution_count": 178,
      "id": "MDK5EBAU2yGO",
      "metadata": {
        "colab": {
          "base_uri": "https://localhost:8080/"
        },
        "id": "MDK5EBAU2yGO",
        "outputId": "75e5cd92-a740-4417-ad37-e1a0af7ca2b1"
      },
      "outputs": [
        {
          "output_type": "stream",
          "name": "stderr",
          "text": [
            "<ipython-input-178-61f64eb8f375>:1: SettingWithCopyWarning: \n",
            "A value is trying to be set on a copy of a slice from a DataFrame\n",
            "\n",
            "See the caveats in the documentation: https://pandas.pydata.org/pandas-docs/stable/user_guide/indexing.html#returning-a-view-versus-a-copy\n",
            "  test_dataset_raw_0_50['text_'][36584] =\"My granddaughter adores it. I purchased boxer briefs for my daughter, and she was thrilled with them.\"\n"
          ]
        }
      ],
      "source": [
        "test_dataset_raw_0_50['text_'][36584] =\"My granddaughter adores it. I purchased boxer briefs for my daughter, and she was thrilled with them.\""
      ]
    },
    {
      "cell_type": "code",
      "execution_count": 179,
      "id": "rVGWpYci2yLn",
      "metadata": {
        "colab": {
          "base_uri": "https://localhost:8080/"
        },
        "id": "rVGWpYci2yLn",
        "outputId": "c2933233-c45a-4126-9a75-406428e0ad08"
      },
      "outputs": [
        {
          "output_type": "stream",
          "name": "stderr",
          "text": [
            "<ipython-input-179-a33e0ca4e81a>:1: SettingWithCopyWarning: \n",
            "A value is trying to be set on a copy of a slice from a DataFrame\n",
            "\n",
            "See the caveats in the documentation: https://pandas.pydata.org/pandas-docs/stable/user_guide/indexing.html#returning-a-view-versus-a-copy\n",
            "  test_dataset_raw_0_50['text_'][18300] =\"I'm giving this product 4 stars because it's a cost-effective light that is suitable for various tasks.I previously purchased a similar light from Home Depot that was advertised as a 4-watt light, but it turned out to be a 5-watt light with no sun and a 2-watt dimmer. In contrast, the one I have now is genuinely a 4-watt light.\"\n"
          ]
        }
      ],
      "source": [
        "test_dataset_raw_0_50['text_'][18300] =\"I'm giving this product 4 stars because it's a cost-effective light that is suitable for various tasks.I previously purchased a similar light from Home Depot that was advertised as a 4-watt light, but it turned out to be a 5-watt light with no sun and a 2-watt dimmer. In contrast, the one I have now is genuinely a 4-watt light.\""
      ]
    },
    {
      "cell_type": "code",
      "execution_count": 180,
      "id": "2Y5qjg3S3gF7",
      "metadata": {
        "colab": {
          "base_uri": "https://localhost:8080/"
        },
        "id": "2Y5qjg3S3gF7",
        "outputId": "d099f341-e54f-43d0-a5c2-024b0f2339bb"
      },
      "outputs": [
        {
          "output_type": "stream",
          "name": "stderr",
          "text": [
            "<ipython-input-180-113611e17aff>:1: SettingWithCopyWarning: \n",
            "A value is trying to be set on a copy of a slice from a DataFrame\n",
            "\n",
            "See the caveats in the documentation: https://pandas.pydata.org/pandas-docs/stable/user_guide/indexing.html#returning-a-view-versus-a-copy\n",
            "  test_dataset_raw_0_50['text_'][36500] =\"I've always been a Star Wars fan, but I was pleasantly surprised by how well-made this particular item is. The attention to detail is fantastic, and the paintwork is exquisite. Despite my initial expectation of a smaller figure, I found it to be perfect in size. It's still enjoyable to play with and is a must-have for any Star Wars enthusiast.I bought this as a gift for my son, and he was genuinely interested in it. The toy is very cute, and he loved it. I'm looking forward to getting more items like this for him, knowing it will make him happy. Great product! My granddaughter adores these bath toys, but the kids prefer not to leave them outside for too long. I got them for my 9-year-old daughter on her birthday, and she loves playing with them, although she found the small pieces a bit challenging to handle. My granddaughter loved this doll, even though she's not generally into dolls. She was initially a little apprehensive about the wooden material, but she found the doll to be very cute. However, I felt it was a bit more expensive than expected, and the dress was too small and loose at the back. The dolls are also cheaply made and challenging to put on the doll's back. Despite these shortcomings, it's a fun toy overall.\"\n"
          ]
        }
      ],
      "source": [
        "test_dataset_raw_0_50['text_'][36500] =\"I've always been a Star Wars fan, but I was pleasantly surprised by how well-made this particular item is. The attention to detail is fantastic, and the paintwork is exquisite. Despite my initial expectation of a smaller figure, I found it to be perfect in size. It's still enjoyable to play with and is a must-have for any Star Wars enthusiast.I bought this as a gift for my son, and he was genuinely interested in it. The toy is very cute, and he loved it. I'm looking forward to getting more items like this for him, knowing it will make him happy. Great product! My granddaughter adores these bath toys, but the kids prefer not to leave them outside for too long. I got them for my 9-year-old daughter on her birthday, and she loves playing with them, although she found the small pieces a bit challenging to handle. My granddaughter loved this doll, even though she's not generally into dolls. She was initially a little apprehensive about the wooden material, but she found the doll to be very cute. However, I felt it was a bit more expensive than expected, and the dress was too small and loose at the back. The dolls are also cheaply made and challenging to put on the doll's back. Despite these shortcomings, it's a fun toy overall.\""
      ]
    },
    {
      "cell_type": "code",
      "execution_count": 181,
      "id": "QEVr1pMW3gSo",
      "metadata": {
        "colab": {
          "base_uri": "https://localhost:8080/"
        },
        "id": "QEVr1pMW3gSo",
        "outputId": "2db6c6a4-926a-4591-b187-18dc357075b3"
      },
      "outputs": [
        {
          "output_type": "stream",
          "name": "stderr",
          "text": [
            "<ipython-input-181-6e0491220eaf>:1: SettingWithCopyWarning: \n",
            "A value is trying to be set on a copy of a slice from a DataFrame\n",
            "\n",
            "See the caveats in the documentation: https://pandas.pydata.org/pandas-docs/stable/user_guide/indexing.html#returning-a-view-versus-a-copy\n",
            "  test_dataset_raw_0_50['text_'][8968] =\"The product worked right away and significantly enhanced home security. The only downside is that it takes some time to get accustomed to using it.\"\n"
          ]
        }
      ],
      "source": [
        "test_dataset_raw_0_50['text_'][8968] =\"The product worked right away and significantly enhanced home security. The only downside is that it takes some time to get accustomed to using it.\""
      ]
    },
    {
      "cell_type": "code",
      "execution_count": 182,
      "id": "QGSn4BdU3gXp",
      "metadata": {
        "colab": {
          "base_uri": "https://localhost:8080/"
        },
        "id": "QGSn4BdU3gXp",
        "outputId": "bc6a8e5e-f308-4496-b2a1-3c2e36132596"
      },
      "outputs": [
        {
          "output_type": "stream",
          "name": "stderr",
          "text": [
            "<ipython-input-182-16121b8e7d9e>:1: SettingWithCopyWarning: \n",
            "A value is trying to be set on a copy of a slice from a DataFrame\n",
            "\n",
            "See the caveats in the documentation: https://pandas.pydata.org/pandas-docs/stable/user_guide/indexing.html#returning-a-view-versus-a-copy\n",
            "  test_dataset_raw_0_50['text_'][32790] =\"This product works exceptionally well! The material is thick and durable, and the pieces are sturdy, capable of enduring the wear and tear of... \"\n"
          ]
        }
      ],
      "source": [
        "test_dataset_raw_0_50['text_'][32790] =\"This product works exceptionally well! The material is thick and durable, and the pieces are sturdy, capable of enduring the wear and tear of... \""
      ]
    },
    {
      "cell_type": "code",
      "execution_count": 183,
      "id": "ZUgwyq3k3gb7",
      "metadata": {
        "colab": {
          "base_uri": "https://localhost:8080/"
        },
        "id": "ZUgwyq3k3gb7",
        "outputId": "42552297-420b-4085-97d8-46ca2ff3e112"
      },
      "outputs": [
        {
          "output_type": "stream",
          "name": "stderr",
          "text": [
            "<ipython-input-183-b08172eb1bc9>:1: SettingWithCopyWarning: \n",
            "A value is trying to be set on a copy of a slice from a DataFrame\n",
            "\n",
            "See the caveats in the documentation: https://pandas.pydata.org/pandas-docs/stable/user_guide/indexing.html#returning-a-view-versus-a-copy\n",
            "  test_dataset_raw_0_50['text_'][26048] =\"I thoroughly enjoyed reading this P.J. Parrish book, and it was my first experience with this author's work. I loved it so much that I have already bought her other books, and I'm eagerly looking forward to reading them. I'm very excited about diving into more of her writing.\"\n"
          ]
        }
      ],
      "source": [
        "test_dataset_raw_0_50['text_'][26048] =\"I thoroughly enjoyed reading this P.J. Parrish book, and it was my first experience with this author's work. I loved it so much that I have already bought her other books, and I'm eagerly looking forward to reading them. I'm very excited about diving into more of her writing.\""
      ]
    },
    {
      "cell_type": "code",
      "execution_count": 184,
      "id": "e80whCL73gfM",
      "metadata": {
        "colab": {
          "base_uri": "https://localhost:8080/"
        },
        "id": "e80whCL73gfM",
        "outputId": "0a0010e4-ac03-424e-8faf-429b23050af0"
      },
      "outputs": [
        {
          "output_type": "stream",
          "name": "stderr",
          "text": [
            "<ipython-input-184-4b50a9810c73>:1: SettingWithCopyWarning: \n",
            "A value is trying to be set on a copy of a slice from a DataFrame\n",
            "\n",
            "See the caveats in the documentation: https://pandas.pydata.org/pandas-docs/stable/user_guide/indexing.html#returning-a-view-versus-a-copy\n",
            "  test_dataset_raw_0_50['text_'][10131] =\"Adding an external HDD to your computer is incredibly easy with this product; all you have to do is plug it in. I had to replace a malfunctioning solid-state drive that wasn't compatible with the other drives I had. If you're considering making a purchase...\"\n"
          ]
        }
      ],
      "source": [
        "test_dataset_raw_0_50['text_'][10131] =\"Adding an external HDD to your computer is incredibly easy with this product; all you have to do is plug it in. I had to replace a malfunctioning solid-state drive that wasn't compatible with the other drives I had. If you're considering making a purchase...\""
      ]
    },
    {
      "cell_type": "code",
      "execution_count": 185,
      "id": "duSrBjVE1jEo",
      "metadata": {
        "colab": {
          "base_uri": "https://localhost:8080/"
        },
        "id": "duSrBjVE1jEo",
        "outputId": "9e37a3b4-dbf2-4b50-e2f5-0245734b2a24"
      },
      "outputs": [
        {
          "output_type": "stream",
          "name": "stderr",
          "text": [
            "<ipython-input-185-ff259b867177>:1: SettingWithCopyWarning: \n",
            "A value is trying to be set on a copy of a slice from a DataFrame\n",
            "\n",
            "See the caveats in the documentation: https://pandas.pydata.org/pandas-docs/stable/user_guide/indexing.html#returning-a-view-versus-a-copy\n",
            "  test_dataset_raw_0_50['text_'][28084] =\"I thoroughly enjoy a good SEAL story, and this book didn't disappoint. The characters are well-developed and believable, and the writing is solid. I finished reading it in just a few days and found the plot to be strong, leading to a satisfying ending. The author also excels in describing the most common type of dog and its characteristics, making the book an enjoyable, quick, and easy read. I read the entire story in one sitting and found it captivating; I'm a fan of Ms. King's writing and look forward to more from her. Overall, it's a great start to a series, and I highly recommend this book, especially to those who appreciate westerns and seek an entertaining, quick read. The characters and plot are well-written, and the humor adds to the enjoyment of the story.\"\n"
          ]
        }
      ],
      "source": [
        "test_dataset_raw_0_50['text_'][28084] =\"I thoroughly enjoy a good SEAL story, and this book didn't disappoint. The characters are well-developed and believable, and the writing is solid. I finished reading it in just a few days and found the plot to be strong, leading to a satisfying ending. The author also excels in describing the most common type of dog and its characteristics, making the book an enjoyable, quick, and easy read. I read the entire story in one sitting and found it captivating; I'm a fan of Ms. King's writing and look forward to more from her. Overall, it's a great start to a series, and I highly recommend this book, especially to those who appreciate westerns and seek an entertaining, quick read. The characters and plot are well-written, and the humor adds to the enjoyment of the story.\""
      ]
    },
    {
      "cell_type": "code",
      "execution_count": 186,
      "id": "j3GASXvY1jHt",
      "metadata": {
        "colab": {
          "base_uri": "https://localhost:8080/"
        },
        "id": "j3GASXvY1jHt",
        "outputId": "04ee8d6f-6a20-4a6a-d603-0cbd10348546"
      },
      "outputs": [
        {
          "output_type": "stream",
          "name": "stderr",
          "text": [
            "<ipython-input-186-b72525e2818c>:1: SettingWithCopyWarning: \n",
            "A value is trying to be set on a copy of a slice from a DataFrame\n",
            "\n",
            "See the caveats in the documentation: https://pandas.pydata.org/pandas-docs/stable/user_guide/indexing.html#returning-a-view-versus-a-copy\n",
            "  test_dataset_raw_0_50['text_'][6407] =\"I am now interested in getting these in a larger size, as I have found them to be quite useful. I even used them for a few hours in a cave, and I am impressed with the solid seams and pleasant texture. So far, I haven't experienced any problems with the seams becoming loose.\"\n"
          ]
        }
      ],
      "source": [
        "test_dataset_raw_0_50['text_'][6407] =\"I am now interested in getting these in a larger size, as I have found them to be quite useful. I even used them for a few hours in a cave, and I am impressed with the solid seams and pleasant texture. So far, I haven't experienced any problems with the seams becoming loose.\""
      ]
    },
    {
      "cell_type": "code",
      "execution_count": 187,
      "id": "g3EuEGBnxf0k",
      "metadata": {
        "id": "g3EuEGBnxf0k"
      },
      "outputs": [],
      "source": [
        "merged_df_gpt = pd.concat([test_dataset_raw_0_50, test_dataset_raw_1_100], ignore_index=True)\n",
        "\n",
        "# Shuffle the index\n",
        "test_150_gpt = merged_df_gpt.sample(frac=1, random_state=42).reset_index(drop=True)"
      ]
    },
    {
      "cell_type": "code",
      "execution_count": 188,
      "id": "rGiutMNg43gP",
      "metadata": {
        "colab": {
          "base_uri": "https://localhost:8080/",
          "height": 424
        },
        "id": "rGiutMNg43gP",
        "outputId": "e76cd051-314d-4bf6-b2a5-dbd364b78fba"
      },
      "outputs": [
        {
          "output_type": "execute_result",
          "data": {
            "text/plain": [
              "                  category  rating label  \\\n",
              "0    Sports_and_Outdoors_5     5.0    OR   \n",
              "1           Kindle_Store_5     5.0    CG   \n",
              "2    Sports_and_Outdoors_5     5.0    OR   \n",
              "3           Pet_Supplies_5     5.0    OR   \n",
              "4           Pet_Supplies_5     4.0    OR   \n",
              "..                     ...     ...   ...   \n",
              "145                Books_5     5.0    OR   \n",
              "146        Movies_and_TV_5     4.0    OR   \n",
              "147       Toys_and_Games_5     5.0    CG   \n",
              "148         Kindle_Store_5     4.0    OR   \n",
              "149  Sports_and_Outdoors_5     5.0    OR   \n",
              "\n",
              "                                                 text_  target  \n",
              "0    be sure to check ser numbers for fit, mine loo...       1  \n",
              "1    I derive immense pleasure from reading this se...       0  \n",
              "2    I absolutely love my mat! I used to slip const...       1  \n",
              "3    Love this leash.  GREAT training tool!  Totall...       1  \n",
              "4    Apparently the fleas in my area (GA) are immun...       1  \n",
              "..                                                 ...     ...  \n",
              "145  I wasn't expecting it to be a collection of st...       1  \n",
              "146  Boy Meets World as a show was great. I enjoyed...       1  \n",
              "147  This doll is absolutely adorable! She is incre...       0  \n",
              "148  I enjoyed this book just shows you looking for...       1  \n",
              "149  Perfect for camping & overnight music festival...       1  \n",
              "\n",
              "[150 rows x 5 columns]"
            ],
            "text/html": [
              "\n",
              "  <div id=\"df-b83f0f33-a796-4879-aa4c-0c363e3c9347\" class=\"colab-df-container\">\n",
              "    <div>\n",
              "<style scoped>\n",
              "    .dataframe tbody tr th:only-of-type {\n",
              "        vertical-align: middle;\n",
              "    }\n",
              "\n",
              "    .dataframe tbody tr th {\n",
              "        vertical-align: top;\n",
              "    }\n",
              "\n",
              "    .dataframe thead th {\n",
              "        text-align: right;\n",
              "    }\n",
              "</style>\n",
              "<table border=\"1\" class=\"dataframe\">\n",
              "  <thead>\n",
              "    <tr style=\"text-align: right;\">\n",
              "      <th></th>\n",
              "      <th>category</th>\n",
              "      <th>rating</th>\n",
              "      <th>label</th>\n",
              "      <th>text_</th>\n",
              "      <th>target</th>\n",
              "    </tr>\n",
              "  </thead>\n",
              "  <tbody>\n",
              "    <tr>\n",
              "      <th>0</th>\n",
              "      <td>Sports_and_Outdoors_5</td>\n",
              "      <td>5.0</td>\n",
              "      <td>OR</td>\n",
              "      <td>be sure to check ser numbers for fit, mine loo...</td>\n",
              "      <td>1</td>\n",
              "    </tr>\n",
              "    <tr>\n",
              "      <th>1</th>\n",
              "      <td>Kindle_Store_5</td>\n",
              "      <td>5.0</td>\n",
              "      <td>CG</td>\n",
              "      <td>I derive immense pleasure from reading this se...</td>\n",
              "      <td>0</td>\n",
              "    </tr>\n",
              "    <tr>\n",
              "      <th>2</th>\n",
              "      <td>Sports_and_Outdoors_5</td>\n",
              "      <td>5.0</td>\n",
              "      <td>OR</td>\n",
              "      <td>I absolutely love my mat! I used to slip const...</td>\n",
              "      <td>1</td>\n",
              "    </tr>\n",
              "    <tr>\n",
              "      <th>3</th>\n",
              "      <td>Pet_Supplies_5</td>\n",
              "      <td>5.0</td>\n",
              "      <td>OR</td>\n",
              "      <td>Love this leash.  GREAT training tool!  Totall...</td>\n",
              "      <td>1</td>\n",
              "    </tr>\n",
              "    <tr>\n",
              "      <th>4</th>\n",
              "      <td>Pet_Supplies_5</td>\n",
              "      <td>4.0</td>\n",
              "      <td>OR</td>\n",
              "      <td>Apparently the fleas in my area (GA) are immun...</td>\n",
              "      <td>1</td>\n",
              "    </tr>\n",
              "    <tr>\n",
              "      <th>...</th>\n",
              "      <td>...</td>\n",
              "      <td>...</td>\n",
              "      <td>...</td>\n",
              "      <td>...</td>\n",
              "      <td>...</td>\n",
              "    </tr>\n",
              "    <tr>\n",
              "      <th>145</th>\n",
              "      <td>Books_5</td>\n",
              "      <td>5.0</td>\n",
              "      <td>OR</td>\n",
              "      <td>I wasn't expecting it to be a collection of st...</td>\n",
              "      <td>1</td>\n",
              "    </tr>\n",
              "    <tr>\n",
              "      <th>146</th>\n",
              "      <td>Movies_and_TV_5</td>\n",
              "      <td>4.0</td>\n",
              "      <td>OR</td>\n",
              "      <td>Boy Meets World as a show was great. I enjoyed...</td>\n",
              "      <td>1</td>\n",
              "    </tr>\n",
              "    <tr>\n",
              "      <th>147</th>\n",
              "      <td>Toys_and_Games_5</td>\n",
              "      <td>5.0</td>\n",
              "      <td>CG</td>\n",
              "      <td>This doll is absolutely adorable! She is incre...</td>\n",
              "      <td>0</td>\n",
              "    </tr>\n",
              "    <tr>\n",
              "      <th>148</th>\n",
              "      <td>Kindle_Store_5</td>\n",
              "      <td>4.0</td>\n",
              "      <td>OR</td>\n",
              "      <td>I enjoyed this book just shows you looking for...</td>\n",
              "      <td>1</td>\n",
              "    </tr>\n",
              "    <tr>\n",
              "      <th>149</th>\n",
              "      <td>Sports_and_Outdoors_5</td>\n",
              "      <td>5.0</td>\n",
              "      <td>OR</td>\n",
              "      <td>Perfect for camping &amp; overnight music festival...</td>\n",
              "      <td>1</td>\n",
              "    </tr>\n",
              "  </tbody>\n",
              "</table>\n",
              "<p>150 rows × 5 columns</p>\n",
              "</div>\n",
              "    <div class=\"colab-df-buttons\">\n",
              "\n",
              "  <div class=\"colab-df-container\">\n",
              "    <button class=\"colab-df-convert\" onclick=\"convertToInteractive('df-b83f0f33-a796-4879-aa4c-0c363e3c9347')\"\n",
              "            title=\"Convert this dataframe to an interactive table.\"\n",
              "            style=\"display:none;\">\n",
              "\n",
              "  <svg xmlns=\"http://www.w3.org/2000/svg\" height=\"24px\" viewBox=\"0 -960 960 960\">\n",
              "    <path d=\"M120-120v-720h720v720H120Zm60-500h600v-160H180v160Zm220 220h160v-160H400v160Zm0 220h160v-160H400v160ZM180-400h160v-160H180v160Zm440 0h160v-160H620v160ZM180-180h160v-160H180v160Zm440 0h160v-160H620v160Z\"/>\n",
              "  </svg>\n",
              "    </button>\n",
              "\n",
              "  <style>\n",
              "    .colab-df-container {\n",
              "      display:flex;\n",
              "      gap: 12px;\n",
              "    }\n",
              "\n",
              "    .colab-df-convert {\n",
              "      background-color: #E8F0FE;\n",
              "      border: none;\n",
              "      border-radius: 50%;\n",
              "      cursor: pointer;\n",
              "      display: none;\n",
              "      fill: #1967D2;\n",
              "      height: 32px;\n",
              "      padding: 0 0 0 0;\n",
              "      width: 32px;\n",
              "    }\n",
              "\n",
              "    .colab-df-convert:hover {\n",
              "      background-color: #E2EBFA;\n",
              "      box-shadow: 0px 1px 2px rgba(60, 64, 67, 0.3), 0px 1px 3px 1px rgba(60, 64, 67, 0.15);\n",
              "      fill: #174EA6;\n",
              "    }\n",
              "\n",
              "    .colab-df-buttons div {\n",
              "      margin-bottom: 4px;\n",
              "    }\n",
              "\n",
              "    [theme=dark] .colab-df-convert {\n",
              "      background-color: #3B4455;\n",
              "      fill: #D2E3FC;\n",
              "    }\n",
              "\n",
              "    [theme=dark] .colab-df-convert:hover {\n",
              "      background-color: #434B5C;\n",
              "      box-shadow: 0px 1px 3px 1px rgba(0, 0, 0, 0.15);\n",
              "      filter: drop-shadow(0px 1px 2px rgba(0, 0, 0, 0.3));\n",
              "      fill: #FFFFFF;\n",
              "    }\n",
              "  </style>\n",
              "\n",
              "    <script>\n",
              "      const buttonEl =\n",
              "        document.querySelector('#df-b83f0f33-a796-4879-aa4c-0c363e3c9347 button.colab-df-convert');\n",
              "      buttonEl.style.display =\n",
              "        google.colab.kernel.accessAllowed ? 'block' : 'none';\n",
              "\n",
              "      async function convertToInteractive(key) {\n",
              "        const element = document.querySelector('#df-b83f0f33-a796-4879-aa4c-0c363e3c9347');\n",
              "        const dataTable =\n",
              "          await google.colab.kernel.invokeFunction('convertToInteractive',\n",
              "                                                    [key], {});\n",
              "        if (!dataTable) return;\n",
              "\n",
              "        const docLinkHtml = 'Like what you see? Visit the ' +\n",
              "          '<a target=\"_blank\" href=https://colab.research.google.com/notebooks/data_table.ipynb>data table notebook</a>'\n",
              "          + ' to learn more about interactive tables.';\n",
              "        element.innerHTML = '';\n",
              "        dataTable['output_type'] = 'display_data';\n",
              "        await google.colab.output.renderOutput(dataTable, element);\n",
              "        const docLink = document.createElement('div');\n",
              "        docLink.innerHTML = docLinkHtml;\n",
              "        element.appendChild(docLink);\n",
              "      }\n",
              "    </script>\n",
              "  </div>\n",
              "\n",
              "\n",
              "<div id=\"df-d524acaa-0181-46fb-8217-2a91932069d2\">\n",
              "  <button class=\"colab-df-quickchart\" onclick=\"quickchart('df-d524acaa-0181-46fb-8217-2a91932069d2')\"\n",
              "            title=\"Suggest charts.\"\n",
              "            style=\"display:none;\">\n",
              "\n",
              "<svg xmlns=\"http://www.w3.org/2000/svg\" height=\"24px\"viewBox=\"0 0 24 24\"\n",
              "     width=\"24px\">\n",
              "    <g>\n",
              "        <path d=\"M19 3H5c-1.1 0-2 .9-2 2v14c0 1.1.9 2 2 2h14c1.1 0 2-.9 2-2V5c0-1.1-.9-2-2-2zM9 17H7v-7h2v7zm4 0h-2V7h2v10zm4 0h-2v-4h2v4z\"/>\n",
              "    </g>\n",
              "</svg>\n",
              "  </button>\n",
              "\n",
              "<style>\n",
              "  .colab-df-quickchart {\n",
              "    background-color: #E8F0FE;\n",
              "    border: none;\n",
              "    border-radius: 50%;\n",
              "    cursor: pointer;\n",
              "    display: none;\n",
              "    fill: #1967D2;\n",
              "    height: 32px;\n",
              "    padding: 0 0 0 0;\n",
              "    width: 32px;\n",
              "  }\n",
              "\n",
              "  .colab-df-quickchart:hover {\n",
              "    background-color: #E2EBFA;\n",
              "    box-shadow: 0px 1px 2px rgba(60, 64, 67, 0.3), 0px 1px 3px 1px rgba(60, 64, 67, 0.15);\n",
              "    fill: #174EA6;\n",
              "  }\n",
              "\n",
              "  [theme=dark] .colab-df-quickchart {\n",
              "    background-color: #3B4455;\n",
              "    fill: #D2E3FC;\n",
              "  }\n",
              "\n",
              "  [theme=dark] .colab-df-quickchart:hover {\n",
              "    background-color: #434B5C;\n",
              "    box-shadow: 0px 1px 3px 1px rgba(0, 0, 0, 0.15);\n",
              "    filter: drop-shadow(0px 1px 2px rgba(0, 0, 0, 0.3));\n",
              "    fill: #FFFFFF;\n",
              "  }\n",
              "</style>\n",
              "\n",
              "  <script>\n",
              "    async function quickchart(key) {\n",
              "      const charts = await google.colab.kernel.invokeFunction(\n",
              "          'suggestCharts', [key], {});\n",
              "    }\n",
              "    (() => {\n",
              "      let quickchartButtonEl =\n",
              "        document.querySelector('#df-d524acaa-0181-46fb-8217-2a91932069d2 button');\n",
              "      quickchartButtonEl.style.display =\n",
              "        google.colab.kernel.accessAllowed ? 'block' : 'none';\n",
              "    })();\n",
              "  </script>\n",
              "</div>\n",
              "    </div>\n",
              "  </div>\n"
            ]
          },
          "metadata": {},
          "execution_count": 188
        }
      ],
      "source": [
        "test_150_gpt"
      ]
    },
    {
      "cell_type": "code",
      "execution_count": 189,
      "id": "3yMrIZ7B44DU",
      "metadata": {
        "id": "3yMrIZ7B44DU"
      },
      "outputs": [],
      "source": [
        "test_encodings_gpt = tokenizer(test_150_gpt['text_'].tolist(), truncation=True, padding=True, max_length=256)\n",
        "\n",
        "test_dataset_gpt = tf.data.Dataset.from_tensor_slices((\n",
        "    dict(test_encodings_gpt),\n",
        "    test_150_gpt['target'].values\n",
        "))\n"
      ]
    },
    {
      "cell_type": "code",
      "execution_count": 190,
      "id": "BOMlv-f644JJ",
      "metadata": {
        "colab": {
          "base_uri": "https://localhost:8080/"
        },
        "id": "BOMlv-f644JJ",
        "outputId": "e0e28bb5-db67-4432-bb3d-ef4212387536"
      },
      "outputs": [
        {
          "output_type": "stream",
          "name": "stdout",
          "text": [
            "10/10 [==============================] - 3s 252ms/step\n",
            "              precision    recall  f1-score   support\n",
            "\n",
            "          CG     0.9000    0.9000    0.9000        50\n",
            "          OR     0.9500    0.9500    0.9500       100\n",
            "\n",
            "    accuracy                         0.9333       150\n",
            "   macro avg     0.9250    0.9250    0.9250       150\n",
            "weighted avg     0.9333    0.9333    0.9333       150\n",
            "\n"
          ]
        }
      ],
      "source": [
        "test_dataset_gpt_batched = test_dataset_gpt.batch(16)\n",
        "y_pred_raw_gpt = model.predict(test_dataset_gpt_batched)\n",
        "\n",
        "# Convert raw predictions to class predictions\n",
        "y_pred_gpt = np.argmax(y_pred_raw_gpt.logits, axis=1)\n",
        "\n",
        "# Get the actual class labels\n",
        "y_true_gpt = []\n",
        "for features, label in test_dataset_gpt:\n",
        "    y_true_gpt.append(label.numpy())\n",
        "y_true_gpt = np.array(y_true_gpt)\n",
        "\n",
        "\n",
        "# Generate a classification report\n",
        "report_gpt = classification_report(y_true_gpt, y_pred_gpt, target_names=[\"CG\", \"OR\"],digits =4)  # replace target_names with your actual class names\n",
        "print(report_gpt)"
      ]
    },
    {
      "cell_type": "markdown",
      "source": [
        "# gpt 3.5 with 125"
      ],
      "metadata": {
        "id": "--gA8tV0xKwx"
      },
      "id": "--gA8tV0xKwx"
    },
    {
      "cell_type": "code",
      "execution_count": 211,
      "id": "gweeCRgk44Q5",
      "metadata": {
        "id": "gweeCRgk44Q5"
      },
      "outputs": [],
      "source": [
        "test_dataset_0_25 = test_dataset_raw_0_50.sample(n=25)\n",
        "test_dataset_0_25_df = pd.DataFrame(test_dataset_0_25)"
      ]
    },
    {
      "cell_type": "code",
      "source": [
        "merged_df_gpt125 = pd.concat([test_dataset_0_25_df, test_dataset_raw_1_100], ignore_index=True)\n",
        "\n",
        "# Shuffle the index\n",
        "test_125_gpt = merged_df_gpt125.sample(frac=1, random_state=42).reset_index(drop=True)"
      ],
      "metadata": {
        "id": "4dC4lJvdigUw"
      },
      "id": "4dC4lJvdigUw",
      "execution_count": 212,
      "outputs": []
    },
    {
      "cell_type": "code",
      "source": [
        "test_encodings_gpt_125 = tokenizer(test_125_gpt['text_'].tolist(), truncation=True, padding=True, max_length=256)\n",
        "\n",
        "test_dataset_gpt_125 = tf.data.Dataset.from_tensor_slices((\n",
        "    dict(test_encodings_gpt_125),\n",
        "    test_125_gpt['target'].values\n",
        "))\n"
      ],
      "metadata": {
        "id": "xS8GlxRaigaY"
      },
      "id": "xS8GlxRaigaY",
      "execution_count": 213,
      "outputs": []
    },
    {
      "cell_type": "code",
      "source": [
        "test_dataset_gpt_batched_125 = test_dataset_gpt_125.batch(16)\n",
        "y_pred_raw_gpt_125 = model.predict(test_dataset_gpt_batched_125)\n",
        "\n",
        "# Convert raw predictions to class predictions\n",
        "y_pred_gpt_125 = np.argmax(y_pred_raw_gpt_125.logits, axis=1)\n",
        "\n",
        "# Get the actual class labels\n",
        "y_true_gpt_125 = []\n",
        "for features, label in test_dataset_gpt_125:\n",
        "    y_true_gpt_125.append(label.numpy())\n",
        "y_true_gpt_125 = np.array(y_true_gpt_125)\n",
        "\n",
        "\n",
        "# Generate a classification report\n",
        "report_gpt_125 = classification_report(y_true_gpt_125, y_pred_gpt_125, target_names=[\"CG\", \"OR\"],digits =4)  # replace target_names with your actual class names\n",
        "print(report_gpt_125)"
      ],
      "metadata": {
        "colab": {
          "base_uri": "https://localhost:8080/"
        },
        "id": "LAe0nrFPjDqQ",
        "outputId": "72c73268-342a-4caf-b4bd-2532130c8f7f"
      },
      "id": "LAe0nrFPjDqQ",
      "execution_count": 214,
      "outputs": [
        {
          "output_type": "stream",
          "name": "stdout",
          "text": [
            "8/8 [==============================] - 2s 271ms/step\n",
            "              precision    recall  f1-score   support\n",
            "\n",
            "          CG     0.8276    0.9600    0.8889        25\n",
            "          OR     0.9896    0.9500    0.9694       100\n",
            "\n",
            "    accuracy                         0.9520       125\n",
            "   macro avg     0.9086    0.9550    0.9291       125\n",
            "weighted avg     0.9572    0.9520    0.9533       125\n",
            "\n"
          ]
        }
      ]
    },
    {
      "cell_type": "code",
      "source": [],
      "metadata": {
        "id": "dnTWKCXmige8"
      },
      "id": "dnTWKCXmige8",
      "execution_count": null,
      "outputs": []
    },
    {
      "cell_type": "code",
      "source": [],
      "metadata": {
        "id": "-r06Dw9Zigi0"
      },
      "id": "-r06Dw9Zigi0",
      "execution_count": null,
      "outputs": []
    },
    {
      "cell_type": "code",
      "source": [],
      "metadata": {
        "id": "MrCTInKlignQ"
      },
      "id": "MrCTInKlignQ",
      "execution_count": null,
      "outputs": []
    },
    {
      "cell_type": "code",
      "source": [],
      "metadata": {
        "id": "2SnewsBsigs0"
      },
      "id": "2SnewsBsigs0",
      "execution_count": null,
      "outputs": []
    },
    {
      "cell_type": "code",
      "source": [],
      "metadata": {
        "id": "gI__opICigyL"
      },
      "id": "gI__opICigyL",
      "execution_count": null,
      "outputs": []
    },
    {
      "cell_type": "markdown",
      "id": "fKECxbcQ7xwM",
      "metadata": {
        "id": "fKECxbcQ7xwM"
      },
      "source": [
        "# chatgpt4"
      ]
    },
    {
      "cell_type": "code",
      "source": [
        "index_2 = [17408,  9913,  7820, 27662, 26833,  7804, 21469, 18647, 15587,\n",
        "            39912, 17068,  2006, 22140, 33467, 22840, 35898, 30798, 25185,\n",
        "            17279,  4867, 22505, 11525, 25079, 36858, 37468]"
      ],
      "metadata": {
        "id": "l9oyB5KSh5TN"
      },
      "id": "l9oyB5KSh5TN",
      "execution_count": 220,
      "outputs": []
    },
    {
      "cell_type": "code",
      "source": [
        "test_dataset_raw_0_25 = test_dataset_raw_0.loc[index_2]"
      ],
      "metadata": {
        "id": "u6ta2zMKh8qE"
      },
      "id": "u6ta2zMKh8qE",
      "execution_count": 221,
      "outputs": []
    },
    {
      "cell_type": "code",
      "execution_count": 217,
      "id": "0WRyzi_n6VFW",
      "metadata": {
        "id": "0WRyzi_n6VFW"
      },
      "outputs": [],
      "source": [
        "random_25_rows = test_dataset_raw_0.sample(n=25)\n",
        "\n",
        "# Build the new DataFrame using the randomly selected rows\n",
        "test_dataset_raw_0_25 = pd.DataFrame(random_25_rows)"
      ]
    },
    {
      "cell_type": "code",
      "execution_count": 222,
      "id": "WIVeV3GV6VKB",
      "metadata": {
        "colab": {
          "base_uri": "https://localhost:8080/"
        },
        "id": "WIVeV3GV6VKB",
        "outputId": "36ac89c5-f283-4fb4-95a4-85d08d090f92"
      },
      "outputs": [
        {
          "output_type": "execute_result",
          "data": {
            "text/plain": [
              "Int64Index([17408,  9913,  7820, 27662, 26833,  7804, 21469, 18647, 15587,\n",
              "            39912, 17068,  2006, 22140, 33467, 22840, 35898, 30798, 25185,\n",
              "            17279,  4867, 22505, 11525, 25079, 36858, 37468],\n",
              "           dtype='int64')"
            ]
          },
          "metadata": {},
          "execution_count": 222
        }
      ],
      "source": [
        "test_dataset_raw_0_25.index"
      ]
    },
    {
      "cell_type": "code",
      "execution_count": 223,
      "id": "kHerbLda6VOp",
      "metadata": {
        "colab": {
          "base_uri": "https://localhost:8080/",
          "height": 35
        },
        "id": "kHerbLda6VOp",
        "outputId": "83eed415-b6ae-4d2e-c440-604144853b50"
      },
      "outputs": [
        {
          "output_type": "execute_result",
          "data": {
            "text/plain": [
              "'Fits true to size and looks great.  It is a little snug for my small size,'"
            ],
            "application/vnd.google.colaboratory.intrinsic+json": {
              "type": "string"
            }
          },
          "metadata": {},
          "execution_count": 223
        }
      ],
      "source": [
        "test_dataset_raw_0_25['text_'][37468]"
      ]
    },
    {
      "cell_type": "code",
      "execution_count": 224,
      "id": "hEqPhPMN6VTK",
      "metadata": {
        "colab": {
          "base_uri": "https://localhost:8080/"
        },
        "id": "hEqPhPMN6VTK",
        "outputId": "22ae25e1-960e-4e77-bd87-74204dc550b7"
      },
      "outputs": [
        {
          "output_type": "stream",
          "name": "stderr",
          "text": [
            "<ipython-input-224-1799c2a950be>:1: SettingWithCopyWarning: \n",
            "A value is trying to be set on a copy of a slice from a DataFrame\n",
            "\n",
            "See the caveats in the documentation: https://pandas.pydata.org/pandas-docs/stable/user_guide/indexing.html#returning-a-view-versus-a-copy\n",
            "  test_dataset_raw_0_25['text_'][17408] =\"Fantastic lights! Kudos to both the manufacturer and the seller! The quality is top-notch. It's a charming, compact light that functions perfectly. The pricing is also remarkably reasonable. The light unit itself is excellent and performs brilliantly.\"\n"
          ]
        }
      ],
      "source": [
        "test_dataset_raw_0_25['text_'][17408] =\"Fantastic lights! Kudos to both the manufacturer and the seller! The quality is top-notch. It's a charming, compact light that functions perfectly. The pricing is also remarkably reasonable. The light unit itself is excellent and performs brilliantly.\""
      ]
    },
    {
      "cell_type": "code",
      "execution_count": 225,
      "id": "VbPRbCLL6VXR",
      "metadata": {
        "colab": {
          "base_uri": "https://localhost:8080/"
        },
        "id": "VbPRbCLL6VXR",
        "outputId": "f03151e9-84d0-48e8-d133-0552dacd17e0"
      },
      "outputs": [
        {
          "output_type": "stream",
          "name": "stderr",
          "text": [
            "<ipython-input-225-079a0e5e2ba6>:1: SettingWithCopyWarning: \n",
            "A value is trying to be set on a copy of a slice from a DataFrame\n",
            "\n",
            "See the caveats in the documentation: https://pandas.pydata.org/pandas-docs/stable/user_guide/indexing.html#returning-a-view-versus-a-copy\n",
            "  test_dataset_raw_0_25['text_'][9913] =\"The item functions perfectly. However, the description doesn't include details about the shipping box. I'm planning to return this item. Despite this, it's an impressive product. I purchased this for a friend who is extremely satisfied with it. The only aspect I would like to change is...\"\n"
          ]
        }
      ],
      "source": [
        "test_dataset_raw_0_25['text_'][9913] =\"The item functions perfectly. However, the description doesn't include details about the shipping box. I'm planning to return this item. Despite this, it's an impressive product. I purchased this for a friend who is extremely satisfied with it. The only aspect I would like to change is...\""
      ]
    },
    {
      "cell_type": "code",
      "execution_count": 227,
      "id": "qbAM0lux8ROR",
      "metadata": {
        "colab": {
          "base_uri": "https://localhost:8080/"
        },
        "id": "qbAM0lux8ROR",
        "outputId": "b06b1b61-71c0-4f08-ab1f-bfda82dbbeba"
      },
      "outputs": [
        {
          "output_type": "stream",
          "name": "stderr",
          "text": [
            "<ipython-input-227-2a2f11cbc04f>:1: SettingWithCopyWarning: \n",
            "A value is trying to be set on a copy of a slice from a DataFrame\n",
            "\n",
            "See the caveats in the documentation: https://pandas.pydata.org/pandas-docs/stable/user_guide/indexing.html#returning-a-view-versus-a-copy\n",
            "  test_dataset_raw_0_25['text_'][7820] = \"This is an essential item for anyone wanting to experiment with a new bat for the first time. I had a friend who was interested in a bat at a local store that was similar to one we'd used for batting practice. That bat performed exceptionally well, and we absolutely loved it. Despite being slightly on the pricier side, it met our requirements perfectly and was worth the investment. We recently went to Walmart and purchased a new bat. The cost was $30 less than the previous one, which delighted us. The bat was a tad heavy, so we stored it in a bag and placed it in a closet. Despite initial difficulties fitting it into our cooler, it ended up being a good fit and we used it for our batting practice. It's a superb bat, and we're pleased with our purchase. I would recommend it to anyone considering buying a bat. In addition, we acquired a tent for our boat journey along Mexico's east coast. It was astounding how warm and comfortable it was. The tent was not only spacious but also simple to set up. It even allowed us to sleep inside while we were out on the water, with a clear view of the water.\"\n"
          ]
        }
      ],
      "source": [
        "test_dataset_raw_0_25['text_'][7820] = \"This is an essential item for anyone wanting to experiment with a new bat for the first time. I had a friend who was interested in a bat at a local store that was similar to one we'd used for batting practice. That bat performed exceptionally well, and we absolutely loved it. Despite being slightly on the pricier side, it met our requirements perfectly and was worth the investment. We recently went to Walmart and purchased a new bat. The cost was $30 less than the previous one, which delighted us. The bat was a tad heavy, so we stored it in a bag and placed it in a closet. Despite initial difficulties fitting it into our cooler, it ended up being a good fit and we used it for our batting practice. It's a superb bat, and we're pleased with our purchase. I would recommend it to anyone considering buying a bat. In addition, we acquired a tent for our boat journey along Mexico's east coast. It was astounding how warm and comfortable it was. The tent was not only spacious but also simple to set up. It even allowed us to sleep inside while we were out on the water, with a clear view of the water.\""
      ]
    },
    {
      "cell_type": "code",
      "execution_count": 228,
      "id": "wBIhXANV8RTt",
      "metadata": {
        "colab": {
          "base_uri": "https://localhost:8080/"
        },
        "id": "wBIhXANV8RTt",
        "outputId": "683391fa-48ef-4a5d-be43-ccdd88dbdb7e"
      },
      "outputs": [
        {
          "output_type": "stream",
          "name": "stderr",
          "text": [
            "<ipython-input-228-9e3fc059b1d3>:1: SettingWithCopyWarning: \n",
            "A value is trying to be set on a copy of a slice from a DataFrame\n",
            "\n",
            "See the caveats in the documentation: https://pandas.pydata.org/pandas-docs/stable/user_guide/indexing.html#returning-a-view-versus-a-copy\n",
            "  test_dataset_raw_0_25['text_'][27662] = \"I found the book incredibly captivating. The characters were skillfully fleshed out, making the storyline quite enjoyable. I received an advance reader's copy in return for an unbiased review. This book is a gem; the characters and plot are beautifully crafted. It serves as an excellent series for the younger audience. Having read the initial book in the series, I can vouch for the overall quality of the series. I strongly recommend this book. This book was a pleasure to read. I am a fan of good romance, and this had a hint of mystery, enhancing the overall story. This book was appealing, though initially, there was a bit of confusion. However, once I overcame the initial ambiguity, the read was worthwhile. I'm eagerly anticipating that the upcoming books in this series will follow suit. This charming tale revolves around a young man and a girl named Belinda who...\"\n"
          ]
        }
      ],
      "source": [
        "test_dataset_raw_0_25['text_'][27662] = \"I found the book incredibly captivating. The characters were skillfully fleshed out, making the storyline quite enjoyable. I received an advance reader's copy in return for an unbiased review. This book is a gem; the characters and plot are beautifully crafted. It serves as an excellent series for the younger audience. Having read the initial book in the series, I can vouch for the overall quality of the series. I strongly recommend this book. This book was a pleasure to read. I am a fan of good romance, and this had a hint of mystery, enhancing the overall story. This book was appealing, though initially, there was a bit of confusion. However, once I overcame the initial ambiguity, the read was worthwhile. I'm eagerly anticipating that the upcoming books in this series will follow suit. This charming tale revolves around a young man and a girl named Belinda who...\""
      ]
    },
    {
      "cell_type": "code",
      "execution_count": 229,
      "id": "5wCJhERh8oGL",
      "metadata": {
        "colab": {
          "base_uri": "https://localhost:8080/"
        },
        "id": "5wCJhERh8oGL",
        "outputId": "30e0455d-5e42-46ce-96b0-2c48589029d8"
      },
      "outputs": [
        {
          "output_type": "stream",
          "name": "stderr",
          "text": [
            "<ipython-input-229-3c68ea8e946e>:1: SettingWithCopyWarning: \n",
            "A value is trying to be set on a copy of a slice from a DataFrame\n",
            "\n",
            "See the caveats in the documentation: https://pandas.pydata.org/pandas-docs/stable/user_guide/indexing.html#returning-a-view-versus-a-copy\n",
            "  test_dataset_raw_0_25['text_'][26833] = \"This is the sequel in The Crystal Queen series. The Crystal Queen series has held a special place in my reading list for the past few years, and I'm confident that I'll continue to explore more of her works in the future. This book was an absolute delight! A friend gifted me this book in return for a candid review. I found it marvelous, brimming with compelling characters and unexpected plot twists. I heartily endorse it! It was...\"\n"
          ]
        }
      ],
      "source": [
        "test_dataset_raw_0_25['text_'][26833] = \"This is the sequel in The Crystal Queen series. The Crystal Queen series has held a special place in my reading list for the past few years, and I'm confident that I'll continue to explore more of her works in the future. This book was an absolute delight! A friend gifted me this book in return for a candid review. I found it marvelous, brimming with compelling characters and unexpected plot twists. I heartily endorse it! It was...\""
      ]
    },
    {
      "cell_type": "code",
      "execution_count": 230,
      "id": "RZ2nkpjs8oK5",
      "metadata": {
        "colab": {
          "base_uri": "https://localhost:8080/"
        },
        "id": "RZ2nkpjs8oK5",
        "outputId": "b157f744-f74e-4fca-b3ca-d5dbd4836a57"
      },
      "outputs": [
        {
          "output_type": "stream",
          "name": "stderr",
          "text": [
            "<ipython-input-230-bba4c5859c4e>:1: SettingWithCopyWarning: \n",
            "A value is trying to be set on a copy of a slice from a DataFrame\n",
            "\n",
            "See the caveats in the documentation: https://pandas.pydata.org/pandas-docs/stable/user_guide/indexing.html#returning-a-view-versus-a-copy\n",
            "  test_dataset_raw_0_25['text_'][7804] =\"The only reason I rated this a 3-star is because I didn't want to unduly skew the ratings. It may not be the best in terms of design, but it's undoubtedly a superior product. I also gave it 4 stars at one point, not because I desired to use it, but rather I needed it to kickstart my day. Despite its effectiveness, I didn't intend to use it for anything else. My curiosity was mainly around whether it could perform that specific task, and it did. However, it's challenging to always ascertain if you're making a mistake. It's a remarkable product, and I plan to purchase more of it. I'll certainly retain it for my wife. Regarding the tent, I've been using it for several years without encountering any issues. I employed this tent during a boat ride in the summer of 2012, and its durability has been impressive. The tent boasts a substantial footprint and appears to be well-constructed. I'd recommend it to anyone looking to establish a tent on a boat. I've used this tent on a few other boats...\"\n"
          ]
        }
      ],
      "source": [
        "test_dataset_raw_0_25['text_'][7804] =\"The only reason I rated this a 3-star is because I didn't want to unduly skew the ratings. It may not be the best in terms of design, but it's undoubtedly a superior product. I also gave it 4 stars at one point, not because I desired to use it, but rather I needed it to kickstart my day. Despite its effectiveness, I didn't intend to use it for anything else. My curiosity was mainly around whether it could perform that specific task, and it did. However, it's challenging to always ascertain if you're making a mistake. It's a remarkable product, and I plan to purchase more of it. I'll certainly retain it for my wife. Regarding the tent, I've been using it for several years without encountering any issues. I employed this tent during a boat ride in the summer of 2012, and its durability has been impressive. The tent boasts a substantial footprint and appears to be well-constructed. I'd recommend it to anyone looking to establish a tent on a boat. I've used this tent on a few other boats...\""
      ]
    },
    {
      "cell_type": "code",
      "execution_count": 231,
      "id": "75tCfkFv8oOu",
      "metadata": {
        "colab": {
          "base_uri": "https://localhost:8080/"
        },
        "id": "75tCfkFv8oOu",
        "outputId": "c49d96fc-7a9e-453e-c87e-5d9d856d5972"
      },
      "outputs": [
        {
          "output_type": "stream",
          "name": "stderr",
          "text": [
            "<ipython-input-231-f94a80caef7c>:1: SettingWithCopyWarning: \n",
            "A value is trying to be set on a copy of a slice from a DataFrame\n",
            "\n",
            "See the caveats in the documentation: https://pandas.pydata.org/pandas-docs/stable/user_guide/indexing.html#returning-a-view-versus-a-copy\n",
            "  test_dataset_raw_0_25['text_'][21469] =\"This product shields my kittens from the odor of the litter box. Additionally, I appreciate that it's one of the initial items I've purchased for my kitty that we're not constantly having to remove and...\"\n"
          ]
        }
      ],
      "source": [
        "test_dataset_raw_0_25['text_'][21469] =\"This product shields my kittens from the odor of the litter box. Additionally, I appreciate that it's one of the initial items I've purchased for my kitty that we're not constantly having to remove and...\""
      ]
    },
    {
      "cell_type": "code",
      "execution_count": 232,
      "id": "9lVIfOod8oR9",
      "metadata": {
        "colab": {
          "base_uri": "https://localhost:8080/"
        },
        "id": "9lVIfOod8oR9",
        "outputId": "7efeca21-cdf9-4c37-c9fe-bee57c9b2c62"
      },
      "outputs": [
        {
          "output_type": "stream",
          "name": "stderr",
          "text": [
            "<ipython-input-232-463af6542b10>:1: SettingWithCopyWarning: \n",
            "A value is trying to be set on a copy of a slice from a DataFrame\n",
            "\n",
            "See the caveats in the documentation: https://pandas.pydata.org/pandas-docs/stable/user_guide/indexing.html#returning-a-view-versus-a-copy\n",
            "  test_dataset_raw_0_25['text_'][18647] =\"The Bosch template adapters can be quite a challenge to locate. I find myself needing to switch them off and on. I replaced the original adapters with these ones, which was a surprisingly straightforward task. They continue to function excellently, leaving me very satisfied. I purchased this item to replace a damaged one I previously owned. I appreciate the ability to use the hose to clear the ballast from my sink. After a few installations, it has proven to be the ideal replacement for the broken one. I'm now planning to...\"\n"
          ]
        }
      ],
      "source": [
        "test_dataset_raw_0_25['text_'][18647] =\"The Bosch template adapters can be quite a challenge to locate. I find myself needing to switch them off and on. I replaced the original adapters with these ones, which was a surprisingly straightforward task. They continue to function excellently, leaving me very satisfied. I purchased this item to replace a damaged one I previously owned. I appreciate the ability to use the hose to clear the ballast from my sink. After a few installations, it has proven to be the ideal replacement for the broken one. I'm now planning to...\""
      ]
    },
    {
      "cell_type": "code",
      "execution_count": 233,
      "id": "rl0FpiWQ8oUw",
      "metadata": {
        "colab": {
          "base_uri": "https://localhost:8080/"
        },
        "id": "rl0FpiWQ8oUw",
        "outputId": "99ec3753-8540-41cc-fca2-210c62b5d84a"
      },
      "outputs": [
        {
          "output_type": "stream",
          "name": "stderr",
          "text": [
            "<ipython-input-233-1627f4fb74c1>:1: SettingWithCopyWarning: \n",
            "A value is trying to be set on a copy of a slice from a DataFrame\n",
            "\n",
            "See the caveats in the documentation: https://pandas.pydata.org/pandas-docs/stable/user_guide/indexing.html#returning-a-view-versus-a-copy\n",
            "  test_dataset_raw_0_25['text_'][15587] =\"Fantastic tool from an impressive toolbox. The only issue is that it includes a miniature screwdriver.\"\n"
          ]
        }
      ],
      "source": [
        "test_dataset_raw_0_25['text_'][15587] =\"Fantastic tool from an impressive toolbox. The only issue is that it includes a miniature screwdriver.\""
      ]
    },
    {
      "cell_type": "code",
      "execution_count": 234,
      "id": "Ql8NbEOb8RZL",
      "metadata": {
        "colab": {
          "base_uri": "https://localhost:8080/"
        },
        "id": "Ql8NbEOb8RZL",
        "outputId": "df402b66-2100-4bf4-ac11-d2e458a3b5cd"
      },
      "outputs": [
        {
          "output_type": "stream",
          "name": "stderr",
          "text": [
            "<ipython-input-234-14adfe5550da>:1: SettingWithCopyWarning: \n",
            "A value is trying to be set on a copy of a slice from a DataFrame\n",
            "\n",
            "See the caveats in the documentation: https://pandas.pydata.org/pandas-docs/stable/user_guide/indexing.html#returning-a-view-versus-a-copy\n",
            "  test_dataset_raw_0_25['text_'][39912] =\"I am the proud owner of an OMAPC, and the accompanying knee pads are a perfect fit. The heel size is just right, and the material is pleasantly soft and comfy. However, I encountered an issue with the material being excessively loose. Consequently, I'll be returning it. I opted for a size up on reorder, and it fitted perfectly. I had to wash the boots on the first day, but they're incredibly comfortable. I've yet to wear them for an extended period, but finding boots that remain comfortable for long durations has always been a challenge. For reference, I'm 5'4 and weigh 140lbs, and these...\"\n"
          ]
        }
      ],
      "source": [
        "test_dataset_raw_0_25['text_'][39912] =\"I am the proud owner of an OMAPC, and the accompanying knee pads are a perfect fit. The heel size is just right, and the material is pleasantly soft and comfy. However, I encountered an issue with the material being excessively loose. Consequently, I'll be returning it. I opted for a size up on reorder, and it fitted perfectly. I had to wash the boots on the first day, but they're incredibly comfortable. I've yet to wear them for an extended period, but finding boots that remain comfortable for long durations has always been a challenge. For reference, I'm 5'4 and weigh 140lbs, and these...\""
      ]
    },
    {
      "cell_type": "code",
      "execution_count": 235,
      "id": "n280y3hW8ReR",
      "metadata": {
        "colab": {
          "base_uri": "https://localhost:8080/"
        },
        "id": "n280y3hW8ReR",
        "outputId": "a8581a3f-8895-45e0-d4b3-555adf918ab5"
      },
      "outputs": [
        {
          "output_type": "stream",
          "name": "stderr",
          "text": [
            "<ipython-input-235-65c5ce737675>:1: SettingWithCopyWarning: \n",
            "A value is trying to be set on a copy of a slice from a DataFrame\n",
            "\n",
            "See the caveats in the documentation: https://pandas.pydata.org/pandas-docs/stable/user_guide/indexing.html#returning-a-view-versus-a-copy\n",
            "  test_dataset_raw_0_25['text_'][17068] =\"The quality is appalling. Do not squander valuable metal or steel on it. The sole reason I purchased this item was to replace a faulty...\"\n"
          ]
        }
      ],
      "source": [
        "test_dataset_raw_0_25['text_'][17068] =\"The quality is appalling. Do not squander valuable metal or steel on it. The sole reason I purchased this item was to replace a faulty...\""
      ]
    },
    {
      "cell_type": "code",
      "execution_count": 236,
      "id": "oNiD0ybI8Rjl",
      "metadata": {
        "colab": {
          "base_uri": "https://localhost:8080/"
        },
        "id": "oNiD0ybI8Rjl",
        "outputId": "037d53f1-37f8-4e4e-b7b4-41b5c574fac7"
      },
      "outputs": [
        {
          "output_type": "stream",
          "name": "stderr",
          "text": [
            "<ipython-input-236-a98989124ecc>:1: SettingWithCopyWarning: \n",
            "A value is trying to be set on a copy of a slice from a DataFrame\n",
            "\n",
            "See the caveats in the documentation: https://pandas.pydata.org/pandas-docs/stable/user_guide/indexing.html#returning-a-view-versus-a-copy\n",
            "  test_dataset_raw_0_25['text_'][2006] =\"Despite its modest size, this machine makes a sound investment. The only drawback is its compact size. The components needed to attach the cover at the top were...\"\n"
          ]
        }
      ],
      "source": [
        "test_dataset_raw_0_25['text_'][2006] =\"Despite its modest size, this machine makes a sound investment. The only drawback is its compact size. The components needed to attach the cover at the top were...\""
      ]
    },
    {
      "cell_type": "code",
      "execution_count": 237,
      "id": "MVky6Db_-NQY",
      "metadata": {
        "colab": {
          "base_uri": "https://localhost:8080/"
        },
        "id": "MVky6Db_-NQY",
        "outputId": "c996f29d-dd0b-48de-c6ac-00a629c7f492"
      },
      "outputs": [
        {
          "output_type": "stream",
          "name": "stderr",
          "text": [
            "<ipython-input-237-0a2258be8c09>:1: SettingWithCopyWarning: \n",
            "A value is trying to be set on a copy of a slice from a DataFrame\n",
            "\n",
            "See the caveats in the documentation: https://pandas.pydata.org/pandas-docs/stable/user_guide/indexing.html#returning-a-view-versus-a-copy\n",
            "  test_dataset_raw_0_25['text_'][22140] =\"I own two small breed dogs and felt this would be a beneficial enhancement for the litter box. The top comes in a striking bright color and is simple to clean. I used this tool to tidy up my older cat's litter box, although it didn't include a large filter.\"\n"
          ]
        }
      ],
      "source": [
        "test_dataset_raw_0_25['text_'][22140] =\"I own two small breed dogs and felt this would be a beneficial enhancement for the litter box. The top comes in a striking bright color and is simple to clean. I used this tool to tidy up my older cat's litter box, although it didn't include a large filter.\""
      ]
    },
    {
      "cell_type": "code",
      "execution_count": 238,
      "id": "CKqNQtVg-NWm",
      "metadata": {
        "colab": {
          "base_uri": "https://localhost:8080/"
        },
        "id": "CKqNQtVg-NWm",
        "outputId": "9dcb0053-5271-4b57-be3e-b0b1e7949e13"
      },
      "outputs": [
        {
          "output_type": "stream",
          "name": "stderr",
          "text": [
            "<ipython-input-238-50f3d8653dff>:1: SettingWithCopyWarning: \n",
            "A value is trying to be set on a copy of a slice from a DataFrame\n",
            "\n",
            "See the caveats in the documentation: https://pandas.pydata.org/pandas-docs/stable/user_guide/indexing.html#returning-a-view-versus-a-copy\n",
            "  test_dataset_raw_0_25['text_'][33467] =\"Delightfully soft and plush. My daughter adores it, and her two-year-old sister shares the same sentiment.\"\n"
          ]
        }
      ],
      "source": [
        "test_dataset_raw_0_25['text_'][33467] =\"Delightfully soft and plush. My daughter adores it, and her two-year-old sister shares the same sentiment.\""
      ]
    },
    {
      "cell_type": "code",
      "execution_count": 239,
      "id": "kK5HTrTW-NdS",
      "metadata": {
        "colab": {
          "base_uri": "https://localhost:8080/"
        },
        "id": "kK5HTrTW-NdS",
        "outputId": "139b13fb-3c9d-499c-eb89-c36988d79522"
      },
      "outputs": [
        {
          "output_type": "stream",
          "name": "stderr",
          "text": [
            "<ipython-input-239-8001721759f0>:1: SettingWithCopyWarning: \n",
            "A value is trying to be set on a copy of a slice from a DataFrame\n",
            "\n",
            "See the caveats in the documentation: https://pandas.pydata.org/pandas-docs/stable/user_guide/indexing.html#returning-a-view-versus-a-copy\n",
            "  test_dataset_raw_0_25['text_'][22840] =\"Both my Aussie and my African Grey are fond of these! I plan to keep them stocked for the next few months. This food is a big hit with my dogs. My dog consumes it leisurely, first from a deep, slow-feed bowl, then from a larger bowl. I own two dogs, each weighing 4 lbs., and one of them is quite finicky about food. I've purchased a second bag to use for her vet visits. The two bags I've received so far are strikingly similar.\"\n"
          ]
        }
      ],
      "source": [
        "test_dataset_raw_0_25['text_'][22840] =\"Both my Aussie and my African Grey are fond of these! I plan to keep them stocked for the next few months. This food is a big hit with my dogs. My dog consumes it leisurely, first from a deep, slow-feed bowl, then from a larger bowl. I own two dogs, each weighing 4 lbs., and one of them is quite finicky about food. I've purchased a second bag to use for her vet visits. The two bags I've received so far are strikingly similar.\""
      ]
    },
    {
      "cell_type": "code",
      "execution_count": 240,
      "id": "epafjcz0-NjR",
      "metadata": {
        "colab": {
          "base_uri": "https://localhost:8080/"
        },
        "id": "epafjcz0-NjR",
        "outputId": "9e9cb747-4661-4524-9f45-d056c283187b"
      },
      "outputs": [
        {
          "output_type": "stream",
          "name": "stderr",
          "text": [
            "<ipython-input-240-57a7ee43906d>:1: SettingWithCopyWarning: \n",
            "A value is trying to be set on a copy of a slice from a DataFrame\n",
            "\n",
            "See the caveats in the documentation: https://pandas.pydata.org/pandas-docs/stable/user_guide/indexing.html#returning-a-view-versus-a-copy\n",
            "  test_dataset_raw_0_25['text_'][35898] =\"I was taken aback by the level of detail in the figures. The Batman figure is notably impressive, although the figure itself is somewhat diminutive, and the cover seems quite fragile. I wouldn't advise anyone to purchase this figure. Nonetheless, it remains an entertaining toy to play with and makes a fine addition to any collection. This product is exceptionally well-crafted. My daughter has engaged with it for approximately two months now and continues to enjoy it immensely. I'm extremely satisfied with this purchase. My son is nearly 3, and...\"\n"
          ]
        }
      ],
      "source": [
        "test_dataset_raw_0_25['text_'][35898] =\"I was taken aback by the level of detail in the figures. The Batman figure is notably impressive, although the figure itself is somewhat diminutive, and the cover seems quite fragile. I wouldn't advise anyone to purchase this figure. Nonetheless, it remains an entertaining toy to play with and makes a fine addition to any collection. This product is exceptionally well-crafted. My daughter has engaged with it for approximately two months now and continues to enjoy it immensely. I'm extremely satisfied with this purchase. My son is nearly 3, and...\""
      ]
    },
    {
      "cell_type": "code",
      "execution_count": 241,
      "id": "1oxVyRBF-wbu",
      "metadata": {
        "colab": {
          "base_uri": "https://localhost:8080/"
        },
        "id": "1oxVyRBF-wbu",
        "outputId": "fff77e5f-a658-4827-b98c-0cdce50fee5a"
      },
      "outputs": [
        {
          "output_type": "stream",
          "name": "stderr",
          "text": [
            "<ipython-input-241-2b0cad0f7085>:1: SettingWithCopyWarning: \n",
            "A value is trying to be set on a copy of a slice from a DataFrame\n",
            "\n",
            "See the caveats in the documentation: https://pandas.pydata.org/pandas-docs/stable/user_guide/indexing.html#returning-a-view-versus-a-copy\n",
            "  test_dataset_raw_0_25['text_'][30798] =\"I went through the whole book, and it proved to be a fascinating read. The narrative commences when Kary, one of the two girls, is assaulted by an enigmatic character. The abductor is portrayed as a devilish figure. Interestingly, Kary's father held the position of a priest, and strikingly, so did the kidnapper.\"\n"
          ]
        }
      ],
      "source": [
        "test_dataset_raw_0_25['text_'][30798] =\"I went through the whole book, and it proved to be a fascinating read. The narrative commences when Kary, one of the two girls, is assaulted by an enigmatic character. The abductor is portrayed as a devilish figure. Interestingly, Kary's father held the position of a priest, and strikingly, so did the kidnapper.\""
      ]
    },
    {
      "cell_type": "code",
      "execution_count": 242,
      "id": "_sqOrnhL-wgb",
      "metadata": {
        "colab": {
          "base_uri": "https://localhost:8080/"
        },
        "id": "_sqOrnhL-wgb",
        "outputId": "512c5b54-9eed-450c-fb62-7af914c2786f"
      },
      "outputs": [
        {
          "output_type": "stream",
          "name": "stderr",
          "text": [
            "<ipython-input-242-679f1a5903dd>:1: SettingWithCopyWarning: \n",
            "A value is trying to be set on a copy of a slice from a DataFrame\n",
            "\n",
            "See the caveats in the documentation: https://pandas.pydata.org/pandas-docs/stable/user_guide/indexing.html#returning-a-view-versus-a-copy\n",
            "  test_dataset_raw_0_25['text_'][25185] =\"This author is a new discovery for me. I found her work captivating and am eager to delve into more of her books. I received an advance reader's copy in return for my candid review. I'm smitten with this book.\"\n"
          ]
        }
      ],
      "source": [
        "test_dataset_raw_0_25['text_'][25185] =\"This author is a new discovery for me. I found her work captivating and am eager to delve into more of her books. I received an advance reader's copy in return for my candid review. I'm smitten with this book.\""
      ]
    },
    {
      "cell_type": "code",
      "execution_count": 243,
      "id": "UpTMyKfP-wlv",
      "metadata": {
        "colab": {
          "base_uri": "https://localhost:8080/"
        },
        "id": "UpTMyKfP-wlv",
        "outputId": "9fc2a949-8fe2-451b-c40f-9e5da08229a5"
      },
      "outputs": [
        {
          "output_type": "stream",
          "name": "stderr",
          "text": [
            "<ipython-input-243-97b3311a55c1>:1: SettingWithCopyWarning: \n",
            "A value is trying to be set on a copy of a slice from a DataFrame\n",
            "\n",
            "See the caveats in the documentation: https://pandas.pydata.org/pandas-docs/stable/user_guide/indexing.html#returning-a-view-versus-a-copy\n",
            "  test_dataset_raw_0_25['text_'][17279] = \"These are indeed very impressive - a high-quality tool set. I plan to retain them for the next few years. They were a bargain at a fantastic price! They function excellently. The light is somewhat brighter...\"\n"
          ]
        }
      ],
      "source": [
        "test_dataset_raw_0_25['text_'][17279] = \"These are indeed very impressive - a high-quality tool set. I plan to retain them for the next few years. They were a bargain at a fantastic price! They function excellently. The light is somewhat brighter...\""
      ]
    },
    {
      "cell_type": "code",
      "execution_count": 244,
      "id": "L2wMGKjK-wq_",
      "metadata": {
        "colab": {
          "base_uri": "https://localhost:8080/"
        },
        "id": "L2wMGKjK-wq_",
        "outputId": "45fbc047-d67c-42a9-b5fa-8203246d6877"
      },
      "outputs": [
        {
          "output_type": "stream",
          "name": "stderr",
          "text": [
            "<ipython-input-244-b606dcfa57a7>:1: SettingWithCopyWarning: \n",
            "A value is trying to be set on a copy of a slice from a DataFrame\n",
            "\n",
            "See the caveats in the documentation: https://pandas.pydata.org/pandas-docs/stable/user_guide/indexing.html#returning-a-view-versus-a-copy\n",
            "  test_dataset_raw_0_25['text_'][4867] =\"This clock is a must-have! I absolutely adore the texture of it.\"\n"
          ]
        }
      ],
      "source": [
        "test_dataset_raw_0_25['text_'][4867] =\"This clock is a must-have! I absolutely adore the texture of it.\""
      ]
    },
    {
      "cell_type": "code",
      "execution_count": 245,
      "id": "kBBUTaL5-Nn6",
      "metadata": {
        "colab": {
          "base_uri": "https://localhost:8080/"
        },
        "id": "kBBUTaL5-Nn6",
        "outputId": "c7a75089-7e32-4ddd-aa7c-a4e9b1e1c056"
      },
      "outputs": [
        {
          "output_type": "stream",
          "name": "stderr",
          "text": [
            "<ipython-input-245-0bced201bf32>:1: SettingWithCopyWarning: \n",
            "A value is trying to be set on a copy of a slice from a DataFrame\n",
            "\n",
            "See the caveats in the documentation: https://pandas.pydata.org/pandas-docs/stable/user_guide/indexing.html#returning-a-view-versus-a-copy\n",
            "  test_dataset_raw_0_25['text_'][22505] =\"I'm a big fan of this kit. My puppy, being an intense chewer, makes quick work of it, and I love how quickly I can toss this thing. I've been using it along with the Tasers on a 4lb bag of dog food, and she doesn't object to it at all. I keep another 4 lb bag of dog food handy, which is excellent for her to carry around in her mouth. She's absolutely wild about this.\"\n"
          ]
        }
      ],
      "source": [
        "test_dataset_raw_0_25['text_'][22505] =\"I'm a big fan of this kit. My puppy, being an intense chewer, makes quick work of it, and I love how quickly I can toss this thing. I've been using it along with the Tasers on a 4lb bag of dog food, and she doesn't object to it at all. I keep another 4 lb bag of dog food handy, which is excellent for her to carry around in her mouth. She's absolutely wild about this.\""
      ]
    },
    {
      "cell_type": "code",
      "execution_count": 246,
      "id": "RUrNK7jd44WC",
      "metadata": {
        "colab": {
          "base_uri": "https://localhost:8080/"
        },
        "id": "RUrNK7jd44WC",
        "outputId": "328578de-44df-4ae0-d149-09b9bf82c95c"
      },
      "outputs": [
        {
          "output_type": "stream",
          "name": "stderr",
          "text": [
            "<ipython-input-246-6af7de42c6e9>:1: SettingWithCopyWarning: \n",
            "A value is trying to be set on a copy of a slice from a DataFrame\n",
            "\n",
            "See the caveats in the documentation: https://pandas.pydata.org/pandas-docs/stable/user_guide/indexing.html#returning-a-view-versus-a-copy\n",
            "  test_dataset_raw_0_25['text_'][11525] =\"The arm functions excellently. I use it as an extended cable for my computer and also have one in my bedroom. The cable is robust and easy to operate. I would certainly recommend it as a valuable addition to your computer setup. I acquired this device with the intention of utilizing it as a family-friendly DVD player. I own a Samsung Galaxy S4 and a Sony PS3. The Sony is the only device among them that I haven't tested yet. I wanted to make my Galaxy S4 compatible with my Samsung, but I was concerned that a lengthy cord might reduce its lifespan. I came across the Sony on a sale at Best Buy and decided to give it a shot. It doesn't feature a cord but does offer a USB port, which is incredibly useful for transferring DVD files.\"\n"
          ]
        }
      ],
      "source": [
        "test_dataset_raw_0_25['text_'][11525] =\"The arm functions excellently. I use it as an extended cable for my computer and also have one in my bedroom. The cable is robust and easy to operate. I would certainly recommend it as a valuable addition to your computer setup. I acquired this device with the intention of utilizing it as a family-friendly DVD player. I own a Samsung Galaxy S4 and a Sony PS3. The Sony is the only device among them that I haven't tested yet. I wanted to make my Galaxy S4 compatible with my Samsung, but I was concerned that a lengthy cord might reduce its lifespan. I came across the Sony on a sale at Best Buy and decided to give it a shot. It doesn't feature a cord but does offer a USB port, which is incredibly useful for transferring DVD files.\""
      ]
    },
    {
      "cell_type": "code",
      "execution_count": 250,
      "id": "9-msIG5p44bQ",
      "metadata": {
        "colab": {
          "base_uri": "https://localhost:8080/"
        },
        "id": "9-msIG5p44bQ",
        "outputId": "f0a2ce76-cdc6-4a4f-bbea-f62c4f4580b4"
      },
      "outputs": [
        {
          "output_type": "stream",
          "name": "stderr",
          "text": [
            "<ipython-input-250-5a87d1bbc00d>:1: SettingWithCopyWarning: \n",
            "A value is trying to be set on a copy of a slice from a DataFrame\n",
            "\n",
            "See the caveats in the documentation: https://pandas.pydata.org/pandas-docs/stable/user_guide/indexing.html#returning-a-view-versus-a-copy\n",
            "  test_dataset_raw_0_25['text_'][25079] =\"I'm uncertain about the origins of some individuals, but comprehending the events that transpired is crucial.I found considerable enjoyment in reading this book and I...\"\n"
          ]
        }
      ],
      "source": [
        "test_dataset_raw_0_25['text_'][25079] =\"I'm uncertain about the origins of some individuals, but comprehending the events that transpired is crucial.I found considerable enjoyment in reading this book and I...\""
      ]
    },
    {
      "cell_type": "code",
      "execution_count": 251,
      "id": "Hc_J4t52_vDO",
      "metadata": {
        "colab": {
          "base_uri": "https://localhost:8080/"
        },
        "id": "Hc_J4t52_vDO",
        "outputId": "3c7f800e-f897-49c9-d2e3-b6c18bf9d2fa"
      },
      "outputs": [
        {
          "output_type": "stream",
          "name": "stderr",
          "text": [
            "<ipython-input-251-29c34c3434ac>:1: SettingWithCopyWarning: \n",
            "A value is trying to be set on a copy of a slice from a DataFrame\n",
            "\n",
            "See the caveats in the documentation: https://pandas.pydata.org/pandas-docs/stable/user_guide/indexing.html#returning-a-view-versus-a-copy\n",
            "  test_dataset_raw_0_25['text_'][36858] =\"It has an odd fit, tight around the thighs. I'm unsure if the knee section is considerably tighter, but...\"\n"
          ]
        }
      ],
      "source": [
        "test_dataset_raw_0_25['text_'][36858] =\"It has an odd fit, tight around the thighs. I'm unsure if the knee section is considerably tighter, but...\""
      ]
    },
    {
      "cell_type": "code",
      "execution_count": 253,
      "id": "HJLEmnCS_vH2",
      "metadata": {
        "id": "HJLEmnCS_vH2",
        "colab": {
          "base_uri": "https://localhost:8080/"
        },
        "outputId": "6428c1c7-0c3d-4111-818c-06aca776ba18"
      },
      "outputs": [
        {
          "output_type": "stream",
          "name": "stderr",
          "text": [
            "<ipython-input-253-b8b729cc3458>:1: SettingWithCopyWarning: \n",
            "A value is trying to be set on a copy of a slice from a DataFrame\n",
            "\n",
            "See the caveats in the documentation: https://pandas.pydata.org/pandas-docs/stable/user_guide/indexing.html#returning-a-view-versus-a-copy\n",
            "  test_dataset_raw_0_25['text_'][37468] =\"It fits accurately to size and has an appealing appearance. However, for my petite frame, it's slightly tight.\"\n"
          ]
        }
      ],
      "source": [
        "test_dataset_raw_0_25['text_'][37468] =\"It fits accurately to size and has an appealing appearance. However, for my petite frame, it's slightly tight.\""
      ]
    },
    {
      "cell_type": "code",
      "execution_count": 254,
      "id": "-k03joae_vPN",
      "metadata": {
        "id": "-k03joae_vPN"
      },
      "outputs": [],
      "source": [
        "merged_df_120 = pd.concat([test_dataset_raw_0_25, test_dataset_raw_1_100], ignore_index=True)\n",
        "\n",
        "# Shuffle the index\n",
        "test_120 = merged_df_120.sample(frac=1, random_state=42).reset_index(drop=True)"
      ]
    },
    {
      "cell_type": "code",
      "execution_count": 255,
      "id": "886zEJC3_vVL",
      "metadata": {
        "id": "886zEJC3_vVL"
      },
      "outputs": [],
      "source": [
        "test_encodings_120 = tokenizer(test_120['text_'].tolist(), truncation=True, padding=True, max_length=256)\n",
        "\n",
        "test_dataset_120 = tf.data.Dataset.from_tensor_slices((\n",
        "    dict(test_encodings_120),\n",
        "    test_120['target'].values\n",
        "))"
      ]
    },
    {
      "cell_type": "code",
      "execution_count": 256,
      "id": "bXFJlSgc_vbM",
      "metadata": {
        "colab": {
          "base_uri": "https://localhost:8080/"
        },
        "id": "bXFJlSgc_vbM",
        "outputId": "1ed2f4ea-e3fe-494a-923d-5d5a51d095f0"
      },
      "outputs": [
        {
          "output_type": "stream",
          "name": "stdout",
          "text": [
            "8/8 [==============================] - 2s 274ms/step\n",
            "              precision    recall  f1-score   support\n",
            "\n",
            "          CG     0.8333    1.0000    0.9091        25\n",
            "          OR     1.0000    0.9500    0.9744       100\n",
            "\n",
            "    accuracy                         0.9600       125\n",
            "   macro avg     0.9167    0.9750    0.9417       125\n",
            "weighted avg     0.9667    0.9600    0.9613       125\n",
            "\n"
          ]
        }
      ],
      "source": [
        "test_dataset_120_batched = test_dataset_120.batch(16)\n",
        "y_pred_raw_120 = model.predict(test_dataset_120_batched)\n",
        "\n",
        "# Convert raw predictions to class predictions\n",
        "y_pred_120 = np.argmax(y_pred_raw_120.logits, axis=1)\n",
        "\n",
        "# Get the actual class labels\n",
        "y_true_120 = []\n",
        "for features, label in test_dataset_120:\n",
        "    y_true_120.append(label.numpy())\n",
        "y_true_120 = np.array(y_true_120)\n",
        "\n",
        "\n",
        "# Generate a classification report\n",
        "report_120 = classification_report(y_true_120, y_pred_120, target_names=[\"CG\", \"OR\"],digits =4)  # replace target_names with your actual class names\n",
        "print(report_120)"
      ]
    },
    {
      "cell_type": "code",
      "execution_count": null,
      "id": "AffIM13C_vhd",
      "metadata": {
        "id": "AffIM13C_vhd"
      },
      "outputs": [],
      "source": []
    },
    {
      "cell_type": "markdown",
      "source": [
        "# GPT4 random 25"
      ],
      "metadata": {
        "id": "ttKR4mfC1ifl"
      },
      "id": "ttKR4mfC1ifl"
    },
    {
      "cell_type": "code",
      "execution_count": 257,
      "id": "RkPd_Z2ECetM",
      "metadata": {
        "id": "RkPd_Z2ECetM"
      },
      "outputs": [],
      "source": [
        "# Dictionary with your texts and target values\n",
        "data = {\n",
        "    \"text_\": [\n",
        "        \"This kitchen blender is not only a perfect companion for creating delightful smoothies but also an elegant addition to any kitchen countertop.\",\n",
        "        \"The comfort and sound quality of these headphones are nothing short of impressive. The noise cancellation feature allows for an immersive experience.\",\n",
        "        \"This book is an absolute page-turner. The storyline is intriguing, the characters are well-developed, and the author's writing style is compelling.\",\n",
        "        \"I was thoroughly impressed with this smartphone. It offers excellent performance, a crisp display, and a battery that lasts all day.\",\n",
        "        \"This cookware set exceeded my expectations. It's not only aesthetically pleasing but also has an amazing non-stick surface and heats evenly.\",\n",
        "        \"These running shoes are fantastic. They offer great support, are lightweight, and incredibly comfortable.\",\n",
        "        \"The soundbar provides clear, room-filling sound. The setup was straightforward, and the Bluetooth connectivity is a great feature.\",\n",
        "        \"This backpack is not only stylish but also functional. It has a generous storage capacity, and the material is durable.\",\n",
        "        \"The vacuum cleaner is extremely efficient. The powerful suction is a plus, and it maneuvers around furniture effortlessly.\",\n",
        "        \"The camping tent is easy to set up and spacious. The material is durable, withstanding various weather conditions.\",\n",
        "        \"This pet bed is a hit with my dog. It's plush and comfortable, providing a cozy spot for her to rest.\",\n",
        "        \"The keyboard delivers an enjoyable typing experience. The keys are responsive and comfortable to use for prolonged periods.\",\n",
        "        \"This skincare product has transformed my skin. It's gentle, yet effective, leaving my skin feeling soft, refreshed, and visibly brighter.\",\n",
        "        \"These wireless earbuds have an impressive sound quality, a comfortable fit, and the battery life is long-lasting.\",\n",
        "        \"This yoga mat is excellent. It provides enough cushioning, has a non-slip surface, and is easy to clean.\",\n",
        "        \"I love this coffee maker. It brews coffee quickly, it's easy to use, and the coffee tastes great.\",\n",
        "        \"The slow cooker is a gem. It's easy to operate, the food comes out delicious, and it's easy to clean.\",\n",
        "        \"This facial cleanser is wonderful. It cleanses deeply, leaving the skin feeling fresh and clean without drying it out.\",\n",
        "        \"The fitness tracker is an excellent workout companion. It's accurate, easy to use, and the app provides insightful data.\",\n",
        "        \"This bedsheet set is fantastic. It's incredibly soft, comfortable, and the color hasn't faded after several washes.\",\n",
        "        \"This nail polish is amazing. The color is vibrant, it applies smoothly, and it has a long-lasting finish.\",\n",
        "        \"This computer mouse is reliable and comfortable to use. It moves smoothly and the click is quiet.\",\n",
        "        \"The baby monitor gives peace of mind. The video is clear, the audio is crisp, and the range is good.\",\n",
        "        \"This electric toothbrush cleans teeth thoroughly. It has different modes for different needs, and the battery life is good.\",\n",
        "        \"This lawn mower is a workhorse. It's powerful, easy to maneuver, and the cut is even.\"\n",
        "    ],\n",
        "    \"target\": [0] * 25\n",
        "}\n",
        "\n",
        "# Create DataFrame\n",
        "test_dataset_raw_r_25 = pd.DataFrame(data)"
      ]
    },
    {
      "cell_type": "code",
      "execution_count": 258,
      "id": "jDBrxUv7CexD",
      "metadata": {
        "id": "jDBrxUv7CexD"
      },
      "outputs": [],
      "source": [
        "test_dataset_raw_2_100 = test_dataset_raw_1_100[['text_','target']]"
      ]
    },
    {
      "cell_type": "code",
      "execution_count": 259,
      "id": "VHpN6LHZCe1l",
      "metadata": {
        "id": "VHpN6LHZCe1l"
      },
      "outputs": [],
      "source": [
        "merged_df_120_2 = pd.concat([test_dataset_raw_r_25, test_dataset_raw_2_100], ignore_index=True)\n",
        "\n",
        "# Shuffle the index\n",
        "test_120_2 = merged_df_120_2.sample(frac=1, random_state=42).reset_index(drop=True)"
      ]
    },
    {
      "cell_type": "code",
      "execution_count": 260,
      "id": "rAs8KVHICe6N",
      "metadata": {
        "id": "rAs8KVHICe6N"
      },
      "outputs": [],
      "source": [
        "test_encodings_120_2 = tokenizer(test_120_2['text_'].tolist(), truncation=True, padding=True, max_length=256)\n",
        "\n",
        "test_dataset_120_2 = tf.data.Dataset.from_tensor_slices((\n",
        "    dict(test_encodings_120_2),\n",
        "    test_120_2['target'].values\n",
        "))"
      ]
    },
    {
      "cell_type": "code",
      "execution_count": 261,
      "id": "yUEkrPjwCfAi",
      "metadata": {
        "id": "yUEkrPjwCfAi",
        "colab": {
          "base_uri": "https://localhost:8080/"
        },
        "outputId": "4980c0d9-68da-4faf-bfb2-2baab3bca8ea"
      },
      "outputs": [
        {
          "output_type": "stream",
          "name": "stdout",
          "text": [
            "8/8 [==============================] - 2s 267ms/step\n",
            "              precision    recall  f1-score   support\n",
            "\n",
            "          CG     0.8333    1.0000    0.9091        25\n",
            "          OR     1.0000    0.9500    0.9744       100\n",
            "\n",
            "    accuracy                         0.9600       125\n",
            "   macro avg     0.9167    0.9750    0.9417       125\n",
            "weighted avg     0.9667    0.9600    0.9613       125\n",
            "\n"
          ]
        }
      ],
      "source": [
        "test_dataset_120_2_batched = test_dataset_120_2.batch(16)\n",
        "y_pred_raw_120_2 = model.predict(test_dataset_120_2_batched)\n",
        "\n",
        "# Convert raw predictions to class predictions\n",
        "y_pred_120_2 = np.argmax(y_pred_raw_120_2.logits, axis=1)\n",
        "\n",
        "# Get the actual class labels\n",
        "y_true_120_2 = []\n",
        "for features, label in test_dataset_120_2:\n",
        "    y_true_120_2.append(label.numpy())\n",
        "y_true_120_2 = np.array(y_true_120_2)\n",
        "\n",
        "\n",
        "# Generate a classification report\n",
        "report_120_2 = classification_report(y_true_120_2, y_pred_120_2, target_names=[\"CG\", \"OR\"],digits =4)\n",
        "print(report_120_2)"
      ]
    },
    {
      "cell_type": "code",
      "execution_count": null,
      "id": "7uCG8CxkCfGP",
      "metadata": {
        "id": "7uCG8CxkCfGP"
      },
      "outputs": [],
      "source": []
    },
    {
      "cell_type": "markdown",
      "source": [
        "# GPT 4 50"
      ],
      "metadata": {
        "id": "E8Iy2M1B1s0t"
      },
      "id": "E8Iy2M1B1s0t"
    },
    {
      "cell_type": "code",
      "execution_count": 262,
      "id": "2XXF5IXmCfLv",
      "metadata": {
        "id": "2XXF5IXmCfLv"
      },
      "outputs": [],
      "source": [
        "data1 ={\n",
        "    \"text_\": [\n",
        "        \"This kitchen blender is not only a perfect companion for creating delightful smoothies but also an elegant addition to any kitchen countertop.\",\n",
        "        \"The comfort and sound quality of these headphones are nothing short of impressive. The noise cancellation feature allows for an immersive experience.\",\n",
        "        \"This book is an absolute page-turner. The storyline is intriguing, the characters are well-developed, and the author's writing style is compelling.\",\n",
        "        \"I was thoroughly impressed with this smartphone. It offers excellent performance, a crisp display, and a battery that lasts all day.\",\n",
        "        \"This cookware set exceeded my expectations. It's not only aesthetically pleasing but also has an amazing non-stick surface and heats evenly.\",\n",
        "        \"These running shoes are fantastic. They offer great support, are lightweight, and incredibly comfortable.\",\n",
        "        \"The soundbar provides clear, room-filling sound. The setup was straightforward, and the Bluetooth connectivity is a great feature.\",\n",
        "        \"This backpack is not only stylish but also functional. It has a generous storage capacity, and the material is durable.\",\n",
        "        \"The vacuum cleaner is extremely efficient. The powerful suction is a plus, and it maneuvers around furniture effortlessly.\",\n",
        "        \"The camping tent is easy to set up and spacious. The material is durable, withstanding various weather conditions.\",\n",
        "        \"This pet bed is a hit with my dog. It's plush and comfortable, providing a cozy spot for her to rest.\",\n",
        "        \"The keyboard delivers an enjoyable typing experience. The keys are responsive and comfortable to use for prolonged periods.\",\n",
        "        \"This skincare product has transformed my skin. It's gentle, yet effective, leaving my skin feeling soft, refreshed, and visibly brighter.\",\n",
        "        \"These wireless earbuds have an impressive sound quality, a comfortable fit, and the battery life is long-lasting.\",\n",
        "        \"This yoga mat is excellent. It provides enough cushioning, has a non-slip surface, and is easy to clean.\",\n",
        "        \"I love this coffee maker. It brews coffee quickly, it's easy to use, and the coffee tastes great.\",\n",
        "        \"The slow cooker is a gem. It's easy to operate, the food comes out delicious, and it's easy to clean.\",\n",
        "        \"This facial cleanser is wonderful. It cleanses deeply, leaving the skin feeling fresh and clean without drying it out.\",\n",
        "        \"The fitness tracker is an excellent workout companion. It's accurate, easy to use, and the app provides insightful data.\",\n",
        "        \"This bedsheet set is fantastic. It's incredibly soft, comfortable, and the color hasn't faded after several washes.\",\n",
        "        \"This nail polish is amazing. The color is vibrant, it applies smoothly, and it has a long-lasting finish.\",\n",
        "        \"This computer mouse is reliable and comfortable to use. It moves smoothly and the click is quiet.\",\n",
        "        \"The baby monitor gives peace of mind. The video is clear, the audio is crisp, and the range is good.\",\n",
        "        \"This electric toothbrush cleans teeth thoroughly. It has different modes for different needs, and the battery life is good.\",\n",
        "        \"This lawn mower is a workhorse. It's powerful, easy to maneuver, and the cut is even.\",\n",
        "        \"The Zephyr earbuds offer a crystal clear sound experience. They fit snugly and stay in place, even during my most intense workouts. The battery life is impressive, and the touch controls are intuitive. Highly recommend!\",\n",
        "        \"I've tried countless night creams, but LunaLuxe is by far my favorite. Within a week, I noticed a softer, more hydrated complexion. Plus, the light lavender scent is such a calming bonus before bedtime.\",\n",
        "        \"Took these on a 10-mile hike right out of the box, and not a single blister! The TrekMaster boots provide great support and traction. They're also surprisingly lightweight. A must-have for any hiking enthusiast.\",\n",
        "        \"I never thought I'd be raving about a blender, but here we are. The StellarBlend is powerful, easy to clean, and makes the creamiest smoothies. The preset modes are a game-changer. Worth every penny!\",\n",
        "        \"PuraPure straws are not only sustainable but also durable and stylish. They come in an array of colors, and I love that they're dishwasher safe. Doing my bit for the environment just became a tad cooler.\",\n",
        "        \"Dropped my phone down a flight of stairs – it was a heart-stopping moment. But thanks to the TechGuard case, my phone didn't have a scratch! It's slim, not bulky, and offers top-notch protection.\",\n",
        "        \"I've been a die-hard physical book fan, but the BrioBook has converted me. The e-ink display is easy on the eyes, and the battery lasts forever. The built-in backlight is perfect for late-night reading.\",\n",
        "        \"Apart from being a stylish timepiece, the SolarWave's solar charging feature is genuinely impressive. I've not had to worry about the battery at all. The minimalist design and eco-friendly feature make it a conversation starter.\",\n",
        "        \"A quick spritz of AquaSpritz is all I need to feel refreshed. It's a lifesaver, especially during long flights or hot days. The mist is fine and doesn't disturb my makeup. Plus, the rosewater scent is divine.\",\n",
        "        \"The GlideFlow yoga mat provides just the right amount of cushion and grip. I've tried many mats, but this one feels the most stable, especially during challenging poses. And the alignment lines? Genius!\",\n",
        "\"This lamp is a tech lover's dream! Not only does it offer adjustable brightness settings, but it also syncs with my smart home system flawlessly. Plus, the modern design is the cherry on top.\",\n",
        "        \"Switching to EcoLife wraps has drastically reduced my plastic usage. They're easy to clean, seal well, and come in adorable patterns. I feel good knowing I'm making a sustainable choice.\",\n",
        "        \"Every time I wear Mystique, I receive endless compliments. It's a unique blend of floral and musk, lasting all day without being overpowering. A little goes a long way!\",\n",
        "        \"The fabric is soft yet durable, wicking away sweat during intense workouts. ProFit leggings don't roll down, and the pocket feature is super handy. Five stars!\",\n",
        "        \"From my phone to a physical photo in minutes! PixelPrint delivers vibrant, high-quality prints. The companion app's editing tools are a fantastic touch. No regrets on this purchase.\",\n",
        "        \"Cooking has never been better! This pan heats evenly, is easy to clean, and feels built to last a lifetime. Chef's Delight has truly lived up to its name.\",\n",
        "        \"Set up was a breeze, and it withstood a heavy downpour with no leaks. SkyHigh's tent is spacious and packed with thoughtful features. Camping trips just got an upgrade!\",\n",
        "        \"No more stiff necks on flights! The AeroFlow pillow provides perfect support and is compact enough to fit in my carry-on. I won't travel without it.\",\n",
        "        \"As an artist, the Novelty tablet has enhanced my digital creations. The pen feels natural, the screen is responsive, and the software bundle is generous. A masterpiece in its own right!\",\n",
        "        \"My hair has never felt or looked better! LushLocks serum tames frizz and adds a beautiful shine without feeling greasy. A staple in my haircare routine.\",\n",
        "        \"Sleeping on clouds! That's how the BellaCasa bedding feels. The fabric is soft yet breathable, and the patterns are elegant. Worth every penny.\",\n",
        "        \"For a beginner gardener, this kit is perfect. GreenThumb provides everything I need, from seeds to tools. My garden is thriving thanks to their quality products.\",\n",
        "        \"A mesmerizing addition to my backyard! The SolarZen lights charge quickly, glow beautifully, and have held up against all weather. No more tangled extension cords!\",\n",
        "        \"Sleep has never been this rejuvenating. The DriftAway mattress contours to my body, providing the right balance of support and comfort. Plus, the cooling technology is a game-changer.\",\n",
        "\n",
        "\"Tap water has never tasted so fresh! The EverPure filter was easy to install, and I've noticed a significant difference in water clarity and taste. A must-have for every household.\"\n",
        "\n",
        "\n",
        "\n",
        "\n",
        "\n",
        "    ],\n",
        "    \"target\": [0] * 50\n",
        "}\n"
      ]
    },
    {
      "cell_type": "code",
      "execution_count": 263,
      "id": "Zl64S5_9_vn3",
      "metadata": {
        "id": "Zl64S5_9_vn3"
      },
      "outputs": [],
      "source": [
        "test_dataset_raw_r_50 = pd.DataFrame(data1)"
      ]
    },
    {
      "cell_type": "code",
      "execution_count": 264,
      "id": "u-QT47gHCeFW",
      "metadata": {
        "id": "u-QT47gHCeFW"
      },
      "outputs": [],
      "source": [
        "test_dataset_raw_3_100 = test_dataset_raw_1_100[['text_','target']]"
      ]
    },
    {
      "cell_type": "code",
      "source": [
        "merged_df_120_3 = pd.concat([test_dataset_raw_r_50, test_dataset_raw_3_100], ignore_index=True)\n",
        "\n",
        "# Shuffle the index\n",
        "test_120_3 = merged_df_120_3.sample(frac=1, random_state=42).reset_index(drop=True)"
      ],
      "metadata": {
        "id": "K9rhEw1g0jza"
      },
      "id": "K9rhEw1g0jza",
      "execution_count": 265,
      "outputs": []
    },
    {
      "cell_type": "code",
      "source": [
        "test_encodings_120_3 = tokenizer(test_120_3['text_'].tolist(), truncation=True, padding=True, max_length=256)\n",
        "\n",
        "test_dataset_120_3 = tf.data.Dataset.from_tensor_slices((\n",
        "    dict(test_encodings_120_3),\n",
        "    test_120_3['target'].values\n",
        "))"
      ],
      "metadata": {
        "id": "z-IaMY3n0j4t"
      },
      "id": "z-IaMY3n0j4t",
      "execution_count": 266,
      "outputs": []
    },
    {
      "cell_type": "code",
      "source": [
        "test_dataset_120_3_batched = test_dataset_120_3.batch(16)\n",
        "y_pred_raw_120_3 = model.predict(test_dataset_120_3_batched)\n",
        "\n",
        "# Convert raw predictions to class predictions\n",
        "y_pred_120_3 = np.argmax(y_pred_raw_120_3.logits, axis=1)\n",
        "\n",
        "# Get the actual class labels\n",
        "y_true_120_3 = []\n",
        "for features, label in test_dataset_120_3:\n",
        "    y_true_120_3.append(label.numpy())\n",
        "y_true_120_3 = np.array(y_true_120_3)\n",
        "\n",
        "\n",
        "# Generate a classification report\n",
        "report_120_3 = classification_report(y_true_120_3, y_pred_120_3, target_names=[\"CG\", \"OR\"],digits =4)\n",
        "print(report_120_3)"
      ],
      "metadata": {
        "colab": {
          "base_uri": "https://localhost:8080/"
        },
        "id": "i3Bwv5xZ0j-J",
        "outputId": "9d0b99f4-9265-4b18-c27f-fa2cc2bb4eb0"
      },
      "id": "i3Bwv5xZ0j-J",
      "execution_count": 267,
      "outputs": [
        {
          "output_type": "stream",
          "name": "stdout",
          "text": [
            "10/10 [==============================] - 3s 264ms/step\n",
            "              precision    recall  f1-score   support\n",
            "\n",
            "          CG     0.8889    0.8000    0.8421        50\n",
            "          OR     0.9048    0.9500    0.9268       100\n",
            "\n",
            "    accuracy                         0.9000       150\n",
            "   macro avg     0.8968    0.8750    0.8845       150\n",
            "weighted avg     0.8995    0.9000    0.8986       150\n",
            "\n"
          ]
        }
      ]
    },
    {
      "cell_type": "code",
      "source": [],
      "metadata": {
        "id": "EOVN99bD0kDX"
      },
      "id": "EOVN99bD0kDX",
      "execution_count": null,
      "outputs": []
    },
    {
      "cell_type": "code",
      "source": [],
      "metadata": {
        "id": "33kQENx71OnC"
      },
      "id": "33kQENx71OnC",
      "execution_count": null,
      "outputs": []
    },
    {
      "cell_type": "markdown",
      "source": [
        "# GPT 3 50"
      ],
      "metadata": {
        "id": "9Nh5_dTK1yQu"
      },
      "id": "9Nh5_dTK1yQu"
    },
    {
      "cell_type": "code",
      "source": [
        "data2 ={\n",
        "    \"text_\": [\n",
        "        \"These earbuds are amazing! The sound quality is top-notch and the wireless connectivity is seamless. I love how comfortable they are in my ears, making them perfect for long listening sessions.\",\n",
        "        \"This portable charger is a lifesaver. It's compact and lightweight, making it easy to carry around. It charges my phone quickly and has saved me from running out of battery multiple times.\",\n",
        "        \"I'm loving this fitness tracker! It accurately monitors my steps, heart rate, and sleep patterns. The app is user-friendly and helps me stay on top of my health goals.\",\n",
        "        \"Cooking has become a breeze with this non-stick pan. It heats up evenly and the food slides right off. Cleanup is a breeze, too! Definitely a must-have in the kitchen.\",\n",
        "\"I take this water bottle everywhere I go. It keeps my water cold for hours, and I love that it's eco-friendly. The design is sleek and the quality is excellent.\",\n",
        "        \"These headphones are a game-changer. The noise cancellation is impressive, whether I'm on a noisy plane or just want to focus at home. The sound quality is fantastic as well.\",\n",
        "        \"I can't imagine my life without this smart home assistant. It controls my smart devices, plays my favorite music, and even answers my questions. It's like having a personal assistant at home.\",\n",
        "        \"Say goodbye to pre-ground coffee! This coffee maker with a built-in grinder takes freshness to a new level. Every cup is a delight, and the aroma is heavenly.\",\n",
        "        \"These suitcases exceeded my expectations. They're sturdy, well-built, and the wheels glide smoothly. The different sizes are perfect for various travel needs.\",\n",
        "        \"I've been using these resistance bands for my home workouts, and they add the perfect level of challenge. The set comes with different resistance levels, making it versatile.\",\n",
        "        \"Reading has never been this convenient. The e-reader tablet's screen resembles real paper, and I can carry a whole library with me. Battery life is impressive, too.\",\n",
        "        \"Finally, no more tangled wires on my desk. This wireless mouse is responsive and comfortable to use. It's a small change that has made a big difference.\",\n",
        "        \"As a yoga enthusiast, I appreciate the alignment lines on this mat. It helps me maintain proper positioning during poses. The thickness is just right for cushioning.\",\n",
        "        \"I'm amazed by how crispy and delicious the food turns out in this air fryer. It's a healthier alternative to frying, and I use it almost every day.\",\n",
        "        \"These headphones stay in place no matter how intense my workouts get. The sound quality is impressive, and they're sweat-resistant, which is a huge plus.\",\n",
        "        \"This video doorbell adds a new level of security to my home. I can see and talk to visitors from my phone, even when I'm not home. Installation was straightforward.\",\n",
        "        \"My teeth have never felt cleaner! This electric toothbrush not only cleans effectively but also has a UV sanitizer to keep the brush head germ-free. A great investment in oral hygiene.\",\n",
        "        \"Cleaning has become so much easier with this handheld steam cleaner. It tackles grime and dirt effortlessly, and I love that it uses only water for a chemical-free clean.\",\n",
        "        \"I no longer have to hunch over my laptop. This stand is adjustable and elevates my screen to eye level, saving my neck and improving my posture.\",\n",
        "        \"This Bluetooth speaker is a party in itself! The LED lights sync with the music and create a fun atmosphere. The sound quality is great, making it perfect for gatherings.\",\n",
        "\"I'm amazed by the versatility of this food processor. It slices, dices, and even kneads dough with ease. It has definitely become an essential tool in my kitchen.\",\n",
        "        \"This speaker delivers impressive sound quality for its size. The Bluetooth connection is stable, and the battery life is excellent. I take it with me everywhere.\",\n",
        "        \"Switching between sitting and standing is a game-changer for my productivity. This desk converter is easy to adjust and provides ample space for my monitors and keyboard.\",\n",
        "        \"These plant pots have taken the guesswork out of watering my plants. The self-watering system is effective, and my plants have never looked healthier.\",\n",
        "        \"These lights have added charm to my garden. They charge during the day and illuminate my outdoor space beautifully at night. Plus, they're eco-friendly!\",\n",
        "        \"Capturing breathtaking aerial shots has never been this accessible. This foldable drone is easy to control and the camera quality exceeds my expectations.\",\n",
        "\"Cleaning has become less of a chore with this cordless vacuum. It's lightweight, powerful, and the battery lasts long enough to clean my whole house.\",\n",
        "\"These knives have greatly improved my kitchen skills. They're sharp, well-balanced, and the variety of sizes makes meal prep a breeze.\",\n",
        "        \"This foam roller is a lifesaver for post-workout recovery. It helps relieve muscle tension and the textured surface adds an extra level of relief.\",\n",
        "        \"As an artist, this drawing tablet has opened up new creative possibilities for me. The pressure sensitivity and precision are impressive.\",\n",
        "        \"Controlling my home's temperature remotely is so convenient. This smart thermostat has helped me save on energy bills while keeping my space comfortable.\",\n",
        "        \"This tumbler keeps my drinks hot or cold for hours. The stainless steel design is durable, and it's a great alternative to disposable cups.\",\n",
        "        \"I've gained valuable insights into my sleep patterns with this smartwatch. It's comfortable to wear, and the app provides detailed sleep analysis.\",\n",
        "        \"This folding bike is perfect for urban commuting. It's lightweight, easy to fold, and the ride is surprisingly smooth.\",\n",
        "        \"Charging my devices is hassle-free with this wireless charging pad. It works seamlessly and eliminates the need for tangled cables.\",\n",
        "        \"This sanitizing wand is a must-have for keeping my belongings clean. It's portable and uses UV-C light to disinfect surfaces effectively.\",\n",
        "        \"Opening wine bottles has never been easier. This electric wine opener is quick, efficient, and adds a touch of elegance to wine nights.\",\n",
        "        \"These food containers are a space-saving marvel. They collapse for easy storage and are perfect for packing lunches and storing leftovers.\",\n",
        "        \"This keyboard is a game-changer for typing on my tablet or phone. It's compact, connects seamlessly via Bluetooth, and the keys have a satisfying feel.\",\n",
        "        \"I'm amazed by how quickly I can whip up meals with this pressure cooker. It's versatile, safe, and the flavors of my dishes are intensified.\",\n",
        "        \"This charging case keeps my earbuds powered up on the go. It's compact and convenient, ensuring I never run out of battery.\",\n",
        "        \"Say goodbye to fumbling with your phone in the car. This magnetic mount holds my phone securely, and the installation is a breeze.\",\n",
        "        \"These adjustable dumbbells have replaced a whole rack in my home gym. They're easy to change, and the weight range is perfect for various exercises.\",\n",
        "        \"I'm enjoying café-quality espresso at home with this compact machine. It's easy to use, and the crema on my shots is impressive.\",\n",
        "        \"Movie nights have become more exciting with this mini projector. The image quality is surprisingly good, and it's great for outdoor gatherings.\",\n",
        "        \"This razor gives me a close shave without irritation. The battery life is impressive, and the design makes it comfortable to hold.\",\n",
        "        \"Managing multiple devices is a breeze with this charging station. It keeps everything organized and charges devices quickly.\",\n",
        "\"This protein powder is a tasty addition to my post-workout routine. It's plant-based, blends well, and doesn't leave a chalky aftertaste.\",\n",
        "        \"These silicone food bags are a fantastic alternative to disposable plastic bags. They're leak-proof, easy to clean, and I feel great about reducing my waste.\",\n",
        "        \"This smart scale goes beyond just weight measurement. It tracks various health metrics and syncs seamlessly with my fitness app, helping me stay on track with my goals.\"\n",
        "\n",
        "\n",
        "\n",
        "\n",
        "\n",
        "    ],\n",
        "    \"target\": [0] * 50\n",
        "}"
      ],
      "metadata": {
        "id": "6XnRHJuU1Otw"
      },
      "id": "6XnRHJuU1Otw",
      "execution_count": 268,
      "outputs": []
    },
    {
      "cell_type": "code",
      "source": [
        "len(data2['text_'])"
      ],
      "metadata": {
        "colab": {
          "base_uri": "https://localhost:8080/"
        },
        "id": "g7rRW1dY4ZnE",
        "outputId": "54ed9b87-085e-42e7-9456-78d0638c4415"
      },
      "id": "g7rRW1dY4ZnE",
      "execution_count": 269,
      "outputs": [
        {
          "output_type": "execute_result",
          "data": {
            "text/plain": [
              "50"
            ]
          },
          "metadata": {},
          "execution_count": 269
        }
      ]
    },
    {
      "cell_type": "code",
      "source": [
        "test_dataset_raw_l_50 = pd.DataFrame(data2)"
      ],
      "metadata": {
        "id": "h8Lu89L71O0k"
      },
      "id": "h8Lu89L71O0k",
      "execution_count": 270,
      "outputs": []
    },
    {
      "cell_type": "code",
      "source": [
        "test_dataset_raw_4_100 = test_dataset_raw_1_100[['text_','target']]"
      ],
      "metadata": {
        "id": "w30Wn91r1O6e"
      },
      "id": "w30Wn91r1O6e",
      "execution_count": 271,
      "outputs": []
    },
    {
      "cell_type": "code",
      "source": [
        "merged_df_120_4 = pd.concat([test_dataset_raw_l_50, test_dataset_raw_4_100], ignore_index=True)\n",
        "\n",
        "# Shuffle the index\n",
        "test_120_4= merged_df_120_4.sample(frac=1, random_state=42).reset_index(drop=True)"
      ],
      "metadata": {
        "id": "rlyxmWFQ1O_K"
      },
      "id": "rlyxmWFQ1O_K",
      "execution_count": 272,
      "outputs": []
    },
    {
      "cell_type": "code",
      "source": [
        "test_encodings_120_4 = tokenizer(test_120_4['text_'].tolist(), truncation=True, padding=True, max_length=256)\n",
        "\n",
        "test_dataset_120_4 = tf.data.Dataset.from_tensor_slices((\n",
        "    dict(test_encodings_120_4),\n",
        "    test_120_4['target'].values\n",
        "))"
      ],
      "metadata": {
        "id": "OUQnP39d0kIm"
      },
      "id": "OUQnP39d0kIm",
      "execution_count": 273,
      "outputs": []
    },
    {
      "cell_type": "code",
      "source": [
        "test_dataset_120_4_batched = test_dataset_120_4.batch(16)\n",
        "y_pred_raw_120_4 = model.predict(test_dataset_120_4_batched)\n",
        "\n",
        "# Convert raw predictions to class predictions\n",
        "y_pred_120_4 = np.argmax(y_pred_raw_120_4.logits, axis=1)\n",
        "\n",
        "# Get the actual class labels\n",
        "y_true_120_4 = []\n",
        "for features, label in test_dataset_120_4:\n",
        "    y_true_120_4.append(label.numpy())\n",
        "y_true_120_4 = np.array(y_true_120_4)\n",
        "\n",
        "\n",
        "# Generate a classification report\n",
        "report_120_4 = classification_report(y_true_120_4, y_pred_120_4, target_names=[\"CG\", \"OR\"],digits =4)\n",
        "print(report_120_4)"
      ],
      "metadata": {
        "colab": {
          "base_uri": "https://localhost:8080/"
        },
        "id": "POmaZjfw0kOE",
        "outputId": "37643413-786f-4232-bd2d-0294f95f82f4"
      },
      "id": "POmaZjfw0kOE",
      "execution_count": 274,
      "outputs": [
        {
          "output_type": "stream",
          "name": "stdout",
          "text": [
            "10/10 [==============================] - 3s 248ms/step\n",
            "              precision    recall  f1-score   support\n",
            "\n",
            "          CG     0.9057    0.9600    0.9320        50\n",
            "          OR     0.9794    0.9500    0.9645       100\n",
            "\n",
            "    accuracy                         0.9533       150\n",
            "   macro avg     0.9425    0.9550    0.9483       150\n",
            "weighted avg     0.9548    0.9533    0.9537       150\n",
            "\n"
          ]
        }
      ]
    }
  ],
  "metadata": {
    "accelerator": "GPU",
    "colab": {
      "gpuType": "T4",
      "provenance": []
    },
    "kernelspec": {
      "display_name": "Python 3",
      "name": "python3"
    },
    "language_info": {
      "codemirror_mode": {
        "name": "ipython",
        "version": 3
      },
      "file_extension": ".py",
      "mimetype": "text/x-python",
      "name": "python",
      "nbconvert_exporter": "python",
      "pygments_lexer": "ipython3",
      "version": "3.8.12"
    },
    "toc": {
      "base_numbering": 1,
      "nav_menu": {},
      "number_sections": true,
      "sideBar": true,
      "skip_h1_title": false,
      "title_cell": "Table of Contents",
      "title_sidebar": "Contents",
      "toc_cell": false,
      "toc_position": {},
      "toc_section_display": true,
      "toc_window_display": false
    },
    "widgets": {
      "application/vnd.jupyter.widget-state+json": {
        "d44dd63976ac4806aae93fe9f47bfef6": {
          "model_module": "@jupyter-widgets/controls",
          "model_name": "HBoxModel",
          "model_module_version": "1.5.0",
          "state": {
            "_dom_classes": [],
            "_model_module": "@jupyter-widgets/controls",
            "_model_module_version": "1.5.0",
            "_model_name": "HBoxModel",
            "_view_count": null,
            "_view_module": "@jupyter-widgets/controls",
            "_view_module_version": "1.5.0",
            "_view_name": "HBoxView",
            "box_style": "",
            "children": [
              "IPY_MODEL_6391912fccee4856aea900459d42190e",
              "IPY_MODEL_2dd7a2a23a9d4999897ac0e351957641",
              "IPY_MODEL_47b62b4e55a440d4980107670d6d1434"
            ],
            "layout": "IPY_MODEL_3eed6bdb14354078921f24941835c521"
          }
        },
        "6391912fccee4856aea900459d42190e": {
          "model_module": "@jupyter-widgets/controls",
          "model_name": "HTMLModel",
          "model_module_version": "1.5.0",
          "state": {
            "_dom_classes": [],
            "_model_module": "@jupyter-widgets/controls",
            "_model_module_version": "1.5.0",
            "_model_name": "HTMLModel",
            "_view_count": null,
            "_view_module": "@jupyter-widgets/controls",
            "_view_module_version": "1.5.0",
            "_view_name": "HTMLView",
            "description": "",
            "description_tooltip": null,
            "layout": "IPY_MODEL_a60ce57ce0394e47aabb34e9315f32c9",
            "placeholder": "​",
            "style": "IPY_MODEL_8f70cfd81f744e5a95e470880cff1567",
            "value": "Downloading (…)olve/main/vocab.json: 100%"
          }
        },
        "2dd7a2a23a9d4999897ac0e351957641": {
          "model_module": "@jupyter-widgets/controls",
          "model_name": "FloatProgressModel",
          "model_module_version": "1.5.0",
          "state": {
            "_dom_classes": [],
            "_model_module": "@jupyter-widgets/controls",
            "_model_module_version": "1.5.0",
            "_model_name": "FloatProgressModel",
            "_view_count": null,
            "_view_module": "@jupyter-widgets/controls",
            "_view_module_version": "1.5.0",
            "_view_name": "ProgressView",
            "bar_style": "success",
            "description": "",
            "description_tooltip": null,
            "layout": "IPY_MODEL_f8338c3f870a4c73b82535b98ac03b9f",
            "max": 898823,
            "min": 0,
            "orientation": "horizontal",
            "style": "IPY_MODEL_d1238ea195e44dd99bb87733943ab0fb",
            "value": 898823
          }
        },
        "47b62b4e55a440d4980107670d6d1434": {
          "model_module": "@jupyter-widgets/controls",
          "model_name": "HTMLModel",
          "model_module_version": "1.5.0",
          "state": {
            "_dom_classes": [],
            "_model_module": "@jupyter-widgets/controls",
            "_model_module_version": "1.5.0",
            "_model_name": "HTMLModel",
            "_view_count": null,
            "_view_module": "@jupyter-widgets/controls",
            "_view_module_version": "1.5.0",
            "_view_name": "HTMLView",
            "description": "",
            "description_tooltip": null,
            "layout": "IPY_MODEL_9d0b253a371c4a8995354c4b47df4861",
            "placeholder": "​",
            "style": "IPY_MODEL_d661fe9854e24002b8bd5425a10c8dcb",
            "value": " 899k/899k [00:00&lt;00:00, 8.10MB/s]"
          }
        },
        "3eed6bdb14354078921f24941835c521": {
          "model_module": "@jupyter-widgets/base",
          "model_name": "LayoutModel",
          "model_module_version": "1.2.0",
          "state": {
            "_model_module": "@jupyter-widgets/base",
            "_model_module_version": "1.2.0",
            "_model_name": "LayoutModel",
            "_view_count": null,
            "_view_module": "@jupyter-widgets/base",
            "_view_module_version": "1.2.0",
            "_view_name": "LayoutView",
            "align_content": null,
            "align_items": null,
            "align_self": null,
            "border": null,
            "bottom": null,
            "display": null,
            "flex": null,
            "flex_flow": null,
            "grid_area": null,
            "grid_auto_columns": null,
            "grid_auto_flow": null,
            "grid_auto_rows": null,
            "grid_column": null,
            "grid_gap": null,
            "grid_row": null,
            "grid_template_areas": null,
            "grid_template_columns": null,
            "grid_template_rows": null,
            "height": null,
            "justify_content": null,
            "justify_items": null,
            "left": null,
            "margin": null,
            "max_height": null,
            "max_width": null,
            "min_height": null,
            "min_width": null,
            "object_fit": null,
            "object_position": null,
            "order": null,
            "overflow": null,
            "overflow_x": null,
            "overflow_y": null,
            "padding": null,
            "right": null,
            "top": null,
            "visibility": null,
            "width": null
          }
        },
        "a60ce57ce0394e47aabb34e9315f32c9": {
          "model_module": "@jupyter-widgets/base",
          "model_name": "LayoutModel",
          "model_module_version": "1.2.0",
          "state": {
            "_model_module": "@jupyter-widgets/base",
            "_model_module_version": "1.2.0",
            "_model_name": "LayoutModel",
            "_view_count": null,
            "_view_module": "@jupyter-widgets/base",
            "_view_module_version": "1.2.0",
            "_view_name": "LayoutView",
            "align_content": null,
            "align_items": null,
            "align_self": null,
            "border": null,
            "bottom": null,
            "display": null,
            "flex": null,
            "flex_flow": null,
            "grid_area": null,
            "grid_auto_columns": null,
            "grid_auto_flow": null,
            "grid_auto_rows": null,
            "grid_column": null,
            "grid_gap": null,
            "grid_row": null,
            "grid_template_areas": null,
            "grid_template_columns": null,
            "grid_template_rows": null,
            "height": null,
            "justify_content": null,
            "justify_items": null,
            "left": null,
            "margin": null,
            "max_height": null,
            "max_width": null,
            "min_height": null,
            "min_width": null,
            "object_fit": null,
            "object_position": null,
            "order": null,
            "overflow": null,
            "overflow_x": null,
            "overflow_y": null,
            "padding": null,
            "right": null,
            "top": null,
            "visibility": null,
            "width": null
          }
        },
        "8f70cfd81f744e5a95e470880cff1567": {
          "model_module": "@jupyter-widgets/controls",
          "model_name": "DescriptionStyleModel",
          "model_module_version": "1.5.0",
          "state": {
            "_model_module": "@jupyter-widgets/controls",
            "_model_module_version": "1.5.0",
            "_model_name": "DescriptionStyleModel",
            "_view_count": null,
            "_view_module": "@jupyter-widgets/base",
            "_view_module_version": "1.2.0",
            "_view_name": "StyleView",
            "description_width": ""
          }
        },
        "f8338c3f870a4c73b82535b98ac03b9f": {
          "model_module": "@jupyter-widgets/base",
          "model_name": "LayoutModel",
          "model_module_version": "1.2.0",
          "state": {
            "_model_module": "@jupyter-widgets/base",
            "_model_module_version": "1.2.0",
            "_model_name": "LayoutModel",
            "_view_count": null,
            "_view_module": "@jupyter-widgets/base",
            "_view_module_version": "1.2.0",
            "_view_name": "LayoutView",
            "align_content": null,
            "align_items": null,
            "align_self": null,
            "border": null,
            "bottom": null,
            "display": null,
            "flex": null,
            "flex_flow": null,
            "grid_area": null,
            "grid_auto_columns": null,
            "grid_auto_flow": null,
            "grid_auto_rows": null,
            "grid_column": null,
            "grid_gap": null,
            "grid_row": null,
            "grid_template_areas": null,
            "grid_template_columns": null,
            "grid_template_rows": null,
            "height": null,
            "justify_content": null,
            "justify_items": null,
            "left": null,
            "margin": null,
            "max_height": null,
            "max_width": null,
            "min_height": null,
            "min_width": null,
            "object_fit": null,
            "object_position": null,
            "order": null,
            "overflow": null,
            "overflow_x": null,
            "overflow_y": null,
            "padding": null,
            "right": null,
            "top": null,
            "visibility": null,
            "width": null
          }
        },
        "d1238ea195e44dd99bb87733943ab0fb": {
          "model_module": "@jupyter-widgets/controls",
          "model_name": "ProgressStyleModel",
          "model_module_version": "1.5.0",
          "state": {
            "_model_module": "@jupyter-widgets/controls",
            "_model_module_version": "1.5.0",
            "_model_name": "ProgressStyleModel",
            "_view_count": null,
            "_view_module": "@jupyter-widgets/base",
            "_view_module_version": "1.2.0",
            "_view_name": "StyleView",
            "bar_color": null,
            "description_width": ""
          }
        },
        "9d0b253a371c4a8995354c4b47df4861": {
          "model_module": "@jupyter-widgets/base",
          "model_name": "LayoutModel",
          "model_module_version": "1.2.0",
          "state": {
            "_model_module": "@jupyter-widgets/base",
            "_model_module_version": "1.2.0",
            "_model_name": "LayoutModel",
            "_view_count": null,
            "_view_module": "@jupyter-widgets/base",
            "_view_module_version": "1.2.0",
            "_view_name": "LayoutView",
            "align_content": null,
            "align_items": null,
            "align_self": null,
            "border": null,
            "bottom": null,
            "display": null,
            "flex": null,
            "flex_flow": null,
            "grid_area": null,
            "grid_auto_columns": null,
            "grid_auto_flow": null,
            "grid_auto_rows": null,
            "grid_column": null,
            "grid_gap": null,
            "grid_row": null,
            "grid_template_areas": null,
            "grid_template_columns": null,
            "grid_template_rows": null,
            "height": null,
            "justify_content": null,
            "justify_items": null,
            "left": null,
            "margin": null,
            "max_height": null,
            "max_width": null,
            "min_height": null,
            "min_width": null,
            "object_fit": null,
            "object_position": null,
            "order": null,
            "overflow": null,
            "overflow_x": null,
            "overflow_y": null,
            "padding": null,
            "right": null,
            "top": null,
            "visibility": null,
            "width": null
          }
        },
        "d661fe9854e24002b8bd5425a10c8dcb": {
          "model_module": "@jupyter-widgets/controls",
          "model_name": "DescriptionStyleModel",
          "model_module_version": "1.5.0",
          "state": {
            "_model_module": "@jupyter-widgets/controls",
            "_model_module_version": "1.5.0",
            "_model_name": "DescriptionStyleModel",
            "_view_count": null,
            "_view_module": "@jupyter-widgets/base",
            "_view_module_version": "1.2.0",
            "_view_name": "StyleView",
            "description_width": ""
          }
        },
        "dac3b65ba8a74baf85a02e76e6fa0805": {
          "model_module": "@jupyter-widgets/controls",
          "model_name": "HBoxModel",
          "model_module_version": "1.5.0",
          "state": {
            "_dom_classes": [],
            "_model_module": "@jupyter-widgets/controls",
            "_model_module_version": "1.5.0",
            "_model_name": "HBoxModel",
            "_view_count": null,
            "_view_module": "@jupyter-widgets/controls",
            "_view_module_version": "1.5.0",
            "_view_name": "HBoxView",
            "box_style": "",
            "children": [
              "IPY_MODEL_83754067abc64576aa89c1cdfc3c14b4",
              "IPY_MODEL_90b3a3fa000843e69c6337a3ade11c8e",
              "IPY_MODEL_fa62a41cf81e4612ba4a6ab521e46eba"
            ],
            "layout": "IPY_MODEL_fa9b07a464e14d7d8b20b9979b58bb39"
          }
        },
        "83754067abc64576aa89c1cdfc3c14b4": {
          "model_module": "@jupyter-widgets/controls",
          "model_name": "HTMLModel",
          "model_module_version": "1.5.0",
          "state": {
            "_dom_classes": [],
            "_model_module": "@jupyter-widgets/controls",
            "_model_module_version": "1.5.0",
            "_model_name": "HTMLModel",
            "_view_count": null,
            "_view_module": "@jupyter-widgets/controls",
            "_view_module_version": "1.5.0",
            "_view_name": "HTMLView",
            "description": "",
            "description_tooltip": null,
            "layout": "IPY_MODEL_e369743aadb94dc6ad8967e5e6dd620a",
            "placeholder": "​",
            "style": "IPY_MODEL_89bf1062e79847e1a340caae4076ddd1",
            "value": "Downloading (…)olve/main/merges.txt: 100%"
          }
        },
        "90b3a3fa000843e69c6337a3ade11c8e": {
          "model_module": "@jupyter-widgets/controls",
          "model_name": "FloatProgressModel",
          "model_module_version": "1.5.0",
          "state": {
            "_dom_classes": [],
            "_model_module": "@jupyter-widgets/controls",
            "_model_module_version": "1.5.0",
            "_model_name": "FloatProgressModel",
            "_view_count": null,
            "_view_module": "@jupyter-widgets/controls",
            "_view_module_version": "1.5.0",
            "_view_name": "ProgressView",
            "bar_style": "success",
            "description": "",
            "description_tooltip": null,
            "layout": "IPY_MODEL_5ac33548ad7c44f5985f60f9fc670aa4",
            "max": 456318,
            "min": 0,
            "orientation": "horizontal",
            "style": "IPY_MODEL_d17ebd6387b64218bc865f67af287ae7",
            "value": 456318
          }
        },
        "fa62a41cf81e4612ba4a6ab521e46eba": {
          "model_module": "@jupyter-widgets/controls",
          "model_name": "HTMLModel",
          "model_module_version": "1.5.0",
          "state": {
            "_dom_classes": [],
            "_model_module": "@jupyter-widgets/controls",
            "_model_module_version": "1.5.0",
            "_model_name": "HTMLModel",
            "_view_count": null,
            "_view_module": "@jupyter-widgets/controls",
            "_view_module_version": "1.5.0",
            "_view_name": "HTMLView",
            "description": "",
            "description_tooltip": null,
            "layout": "IPY_MODEL_3269fadbeedd48d0af6126f0c670b71b",
            "placeholder": "​",
            "style": "IPY_MODEL_b6f1b245a7b8438893f2f17c63b581f5",
            "value": " 456k/456k [00:00&lt;00:00, 8.64MB/s]"
          }
        },
        "fa9b07a464e14d7d8b20b9979b58bb39": {
          "model_module": "@jupyter-widgets/base",
          "model_name": "LayoutModel",
          "model_module_version": "1.2.0",
          "state": {
            "_model_module": "@jupyter-widgets/base",
            "_model_module_version": "1.2.0",
            "_model_name": "LayoutModel",
            "_view_count": null,
            "_view_module": "@jupyter-widgets/base",
            "_view_module_version": "1.2.0",
            "_view_name": "LayoutView",
            "align_content": null,
            "align_items": null,
            "align_self": null,
            "border": null,
            "bottom": null,
            "display": null,
            "flex": null,
            "flex_flow": null,
            "grid_area": null,
            "grid_auto_columns": null,
            "grid_auto_flow": null,
            "grid_auto_rows": null,
            "grid_column": null,
            "grid_gap": null,
            "grid_row": null,
            "grid_template_areas": null,
            "grid_template_columns": null,
            "grid_template_rows": null,
            "height": null,
            "justify_content": null,
            "justify_items": null,
            "left": null,
            "margin": null,
            "max_height": null,
            "max_width": null,
            "min_height": null,
            "min_width": null,
            "object_fit": null,
            "object_position": null,
            "order": null,
            "overflow": null,
            "overflow_x": null,
            "overflow_y": null,
            "padding": null,
            "right": null,
            "top": null,
            "visibility": null,
            "width": null
          }
        },
        "e369743aadb94dc6ad8967e5e6dd620a": {
          "model_module": "@jupyter-widgets/base",
          "model_name": "LayoutModel",
          "model_module_version": "1.2.0",
          "state": {
            "_model_module": "@jupyter-widgets/base",
            "_model_module_version": "1.2.0",
            "_model_name": "LayoutModel",
            "_view_count": null,
            "_view_module": "@jupyter-widgets/base",
            "_view_module_version": "1.2.0",
            "_view_name": "LayoutView",
            "align_content": null,
            "align_items": null,
            "align_self": null,
            "border": null,
            "bottom": null,
            "display": null,
            "flex": null,
            "flex_flow": null,
            "grid_area": null,
            "grid_auto_columns": null,
            "grid_auto_flow": null,
            "grid_auto_rows": null,
            "grid_column": null,
            "grid_gap": null,
            "grid_row": null,
            "grid_template_areas": null,
            "grid_template_columns": null,
            "grid_template_rows": null,
            "height": null,
            "justify_content": null,
            "justify_items": null,
            "left": null,
            "margin": null,
            "max_height": null,
            "max_width": null,
            "min_height": null,
            "min_width": null,
            "object_fit": null,
            "object_position": null,
            "order": null,
            "overflow": null,
            "overflow_x": null,
            "overflow_y": null,
            "padding": null,
            "right": null,
            "top": null,
            "visibility": null,
            "width": null
          }
        },
        "89bf1062e79847e1a340caae4076ddd1": {
          "model_module": "@jupyter-widgets/controls",
          "model_name": "DescriptionStyleModel",
          "model_module_version": "1.5.0",
          "state": {
            "_model_module": "@jupyter-widgets/controls",
            "_model_module_version": "1.5.0",
            "_model_name": "DescriptionStyleModel",
            "_view_count": null,
            "_view_module": "@jupyter-widgets/base",
            "_view_module_version": "1.2.0",
            "_view_name": "StyleView",
            "description_width": ""
          }
        },
        "5ac33548ad7c44f5985f60f9fc670aa4": {
          "model_module": "@jupyter-widgets/base",
          "model_name": "LayoutModel",
          "model_module_version": "1.2.0",
          "state": {
            "_model_module": "@jupyter-widgets/base",
            "_model_module_version": "1.2.0",
            "_model_name": "LayoutModel",
            "_view_count": null,
            "_view_module": "@jupyter-widgets/base",
            "_view_module_version": "1.2.0",
            "_view_name": "LayoutView",
            "align_content": null,
            "align_items": null,
            "align_self": null,
            "border": null,
            "bottom": null,
            "display": null,
            "flex": null,
            "flex_flow": null,
            "grid_area": null,
            "grid_auto_columns": null,
            "grid_auto_flow": null,
            "grid_auto_rows": null,
            "grid_column": null,
            "grid_gap": null,
            "grid_row": null,
            "grid_template_areas": null,
            "grid_template_columns": null,
            "grid_template_rows": null,
            "height": null,
            "justify_content": null,
            "justify_items": null,
            "left": null,
            "margin": null,
            "max_height": null,
            "max_width": null,
            "min_height": null,
            "min_width": null,
            "object_fit": null,
            "object_position": null,
            "order": null,
            "overflow": null,
            "overflow_x": null,
            "overflow_y": null,
            "padding": null,
            "right": null,
            "top": null,
            "visibility": null,
            "width": null
          }
        },
        "d17ebd6387b64218bc865f67af287ae7": {
          "model_module": "@jupyter-widgets/controls",
          "model_name": "ProgressStyleModel",
          "model_module_version": "1.5.0",
          "state": {
            "_model_module": "@jupyter-widgets/controls",
            "_model_module_version": "1.5.0",
            "_model_name": "ProgressStyleModel",
            "_view_count": null,
            "_view_module": "@jupyter-widgets/base",
            "_view_module_version": "1.2.0",
            "_view_name": "StyleView",
            "bar_color": null,
            "description_width": ""
          }
        },
        "3269fadbeedd48d0af6126f0c670b71b": {
          "model_module": "@jupyter-widgets/base",
          "model_name": "LayoutModel",
          "model_module_version": "1.2.0",
          "state": {
            "_model_module": "@jupyter-widgets/base",
            "_model_module_version": "1.2.0",
            "_model_name": "LayoutModel",
            "_view_count": null,
            "_view_module": "@jupyter-widgets/base",
            "_view_module_version": "1.2.0",
            "_view_name": "LayoutView",
            "align_content": null,
            "align_items": null,
            "align_self": null,
            "border": null,
            "bottom": null,
            "display": null,
            "flex": null,
            "flex_flow": null,
            "grid_area": null,
            "grid_auto_columns": null,
            "grid_auto_flow": null,
            "grid_auto_rows": null,
            "grid_column": null,
            "grid_gap": null,
            "grid_row": null,
            "grid_template_areas": null,
            "grid_template_columns": null,
            "grid_template_rows": null,
            "height": null,
            "justify_content": null,
            "justify_items": null,
            "left": null,
            "margin": null,
            "max_height": null,
            "max_width": null,
            "min_height": null,
            "min_width": null,
            "object_fit": null,
            "object_position": null,
            "order": null,
            "overflow": null,
            "overflow_x": null,
            "overflow_y": null,
            "padding": null,
            "right": null,
            "top": null,
            "visibility": null,
            "width": null
          }
        },
        "b6f1b245a7b8438893f2f17c63b581f5": {
          "model_module": "@jupyter-widgets/controls",
          "model_name": "DescriptionStyleModel",
          "model_module_version": "1.5.0",
          "state": {
            "_model_module": "@jupyter-widgets/controls",
            "_model_module_version": "1.5.0",
            "_model_name": "DescriptionStyleModel",
            "_view_count": null,
            "_view_module": "@jupyter-widgets/base",
            "_view_module_version": "1.2.0",
            "_view_name": "StyleView",
            "description_width": ""
          }
        },
        "ad006cea1b624f50821f5c1c7f1469de": {
          "model_module": "@jupyter-widgets/controls",
          "model_name": "HBoxModel",
          "model_module_version": "1.5.0",
          "state": {
            "_dom_classes": [],
            "_model_module": "@jupyter-widgets/controls",
            "_model_module_version": "1.5.0",
            "_model_name": "HBoxModel",
            "_view_count": null,
            "_view_module": "@jupyter-widgets/controls",
            "_view_module_version": "1.5.0",
            "_view_name": "HBoxView",
            "box_style": "",
            "children": [
              "IPY_MODEL_131337fdae7c48f180cbb7a24be9ad65",
              "IPY_MODEL_82e6699b117344fbbeb17d77ee0957bd",
              "IPY_MODEL_14ce217309cb48a38771b8babfab9f87"
            ],
            "layout": "IPY_MODEL_7f7a26d569a143228ba3bcc234326c8a"
          }
        },
        "131337fdae7c48f180cbb7a24be9ad65": {
          "model_module": "@jupyter-widgets/controls",
          "model_name": "HTMLModel",
          "model_module_version": "1.5.0",
          "state": {
            "_dom_classes": [],
            "_model_module": "@jupyter-widgets/controls",
            "_model_module_version": "1.5.0",
            "_model_name": "HTMLModel",
            "_view_count": null,
            "_view_module": "@jupyter-widgets/controls",
            "_view_module_version": "1.5.0",
            "_view_name": "HTMLView",
            "description": "",
            "description_tooltip": null,
            "layout": "IPY_MODEL_dc4ee52078b44cf49a69c6bd8bc49af2",
            "placeholder": "​",
            "style": "IPY_MODEL_226192e89d5946999b5b3528864b9bc0",
            "value": "Downloading (…)lve/main/config.json: 100%"
          }
        },
        "82e6699b117344fbbeb17d77ee0957bd": {
          "model_module": "@jupyter-widgets/controls",
          "model_name": "FloatProgressModel",
          "model_module_version": "1.5.0",
          "state": {
            "_dom_classes": [],
            "_model_module": "@jupyter-widgets/controls",
            "_model_module_version": "1.5.0",
            "_model_name": "FloatProgressModel",
            "_view_count": null,
            "_view_module": "@jupyter-widgets/controls",
            "_view_module_version": "1.5.0",
            "_view_name": "ProgressView",
            "bar_style": "success",
            "description": "",
            "description_tooltip": null,
            "layout": "IPY_MODEL_281f9066883a46f08f2a4502f44b566c",
            "max": 481,
            "min": 0,
            "orientation": "horizontal",
            "style": "IPY_MODEL_fafaefbe6a1442cdbb24c5c613c11f94",
            "value": 481
          }
        },
        "14ce217309cb48a38771b8babfab9f87": {
          "model_module": "@jupyter-widgets/controls",
          "model_name": "HTMLModel",
          "model_module_version": "1.5.0",
          "state": {
            "_dom_classes": [],
            "_model_module": "@jupyter-widgets/controls",
            "_model_module_version": "1.5.0",
            "_model_name": "HTMLModel",
            "_view_count": null,
            "_view_module": "@jupyter-widgets/controls",
            "_view_module_version": "1.5.0",
            "_view_name": "HTMLView",
            "description": "",
            "description_tooltip": null,
            "layout": "IPY_MODEL_b6ab8b90fec2455ca3889c3aea1f4175",
            "placeholder": "​",
            "style": "IPY_MODEL_dd61f965839a409c9c99f948c3d952e3",
            "value": " 481/481 [00:00&lt;00:00, 16.2kB/s]"
          }
        },
        "7f7a26d569a143228ba3bcc234326c8a": {
          "model_module": "@jupyter-widgets/base",
          "model_name": "LayoutModel",
          "model_module_version": "1.2.0",
          "state": {
            "_model_module": "@jupyter-widgets/base",
            "_model_module_version": "1.2.0",
            "_model_name": "LayoutModel",
            "_view_count": null,
            "_view_module": "@jupyter-widgets/base",
            "_view_module_version": "1.2.0",
            "_view_name": "LayoutView",
            "align_content": null,
            "align_items": null,
            "align_self": null,
            "border": null,
            "bottom": null,
            "display": null,
            "flex": null,
            "flex_flow": null,
            "grid_area": null,
            "grid_auto_columns": null,
            "grid_auto_flow": null,
            "grid_auto_rows": null,
            "grid_column": null,
            "grid_gap": null,
            "grid_row": null,
            "grid_template_areas": null,
            "grid_template_columns": null,
            "grid_template_rows": null,
            "height": null,
            "justify_content": null,
            "justify_items": null,
            "left": null,
            "margin": null,
            "max_height": null,
            "max_width": null,
            "min_height": null,
            "min_width": null,
            "object_fit": null,
            "object_position": null,
            "order": null,
            "overflow": null,
            "overflow_x": null,
            "overflow_y": null,
            "padding": null,
            "right": null,
            "top": null,
            "visibility": null,
            "width": null
          }
        },
        "dc4ee52078b44cf49a69c6bd8bc49af2": {
          "model_module": "@jupyter-widgets/base",
          "model_name": "LayoutModel",
          "model_module_version": "1.2.0",
          "state": {
            "_model_module": "@jupyter-widgets/base",
            "_model_module_version": "1.2.0",
            "_model_name": "LayoutModel",
            "_view_count": null,
            "_view_module": "@jupyter-widgets/base",
            "_view_module_version": "1.2.0",
            "_view_name": "LayoutView",
            "align_content": null,
            "align_items": null,
            "align_self": null,
            "border": null,
            "bottom": null,
            "display": null,
            "flex": null,
            "flex_flow": null,
            "grid_area": null,
            "grid_auto_columns": null,
            "grid_auto_flow": null,
            "grid_auto_rows": null,
            "grid_column": null,
            "grid_gap": null,
            "grid_row": null,
            "grid_template_areas": null,
            "grid_template_columns": null,
            "grid_template_rows": null,
            "height": null,
            "justify_content": null,
            "justify_items": null,
            "left": null,
            "margin": null,
            "max_height": null,
            "max_width": null,
            "min_height": null,
            "min_width": null,
            "object_fit": null,
            "object_position": null,
            "order": null,
            "overflow": null,
            "overflow_x": null,
            "overflow_y": null,
            "padding": null,
            "right": null,
            "top": null,
            "visibility": null,
            "width": null
          }
        },
        "226192e89d5946999b5b3528864b9bc0": {
          "model_module": "@jupyter-widgets/controls",
          "model_name": "DescriptionStyleModel",
          "model_module_version": "1.5.0",
          "state": {
            "_model_module": "@jupyter-widgets/controls",
            "_model_module_version": "1.5.0",
            "_model_name": "DescriptionStyleModel",
            "_view_count": null,
            "_view_module": "@jupyter-widgets/base",
            "_view_module_version": "1.2.0",
            "_view_name": "StyleView",
            "description_width": ""
          }
        },
        "281f9066883a46f08f2a4502f44b566c": {
          "model_module": "@jupyter-widgets/base",
          "model_name": "LayoutModel",
          "model_module_version": "1.2.0",
          "state": {
            "_model_module": "@jupyter-widgets/base",
            "_model_module_version": "1.2.0",
            "_model_name": "LayoutModel",
            "_view_count": null,
            "_view_module": "@jupyter-widgets/base",
            "_view_module_version": "1.2.0",
            "_view_name": "LayoutView",
            "align_content": null,
            "align_items": null,
            "align_self": null,
            "border": null,
            "bottom": null,
            "display": null,
            "flex": null,
            "flex_flow": null,
            "grid_area": null,
            "grid_auto_columns": null,
            "grid_auto_flow": null,
            "grid_auto_rows": null,
            "grid_column": null,
            "grid_gap": null,
            "grid_row": null,
            "grid_template_areas": null,
            "grid_template_columns": null,
            "grid_template_rows": null,
            "height": null,
            "justify_content": null,
            "justify_items": null,
            "left": null,
            "margin": null,
            "max_height": null,
            "max_width": null,
            "min_height": null,
            "min_width": null,
            "object_fit": null,
            "object_position": null,
            "order": null,
            "overflow": null,
            "overflow_x": null,
            "overflow_y": null,
            "padding": null,
            "right": null,
            "top": null,
            "visibility": null,
            "width": null
          }
        },
        "fafaefbe6a1442cdbb24c5c613c11f94": {
          "model_module": "@jupyter-widgets/controls",
          "model_name": "ProgressStyleModel",
          "model_module_version": "1.5.0",
          "state": {
            "_model_module": "@jupyter-widgets/controls",
            "_model_module_version": "1.5.0",
            "_model_name": "ProgressStyleModel",
            "_view_count": null,
            "_view_module": "@jupyter-widgets/base",
            "_view_module_version": "1.2.0",
            "_view_name": "StyleView",
            "bar_color": null,
            "description_width": ""
          }
        },
        "b6ab8b90fec2455ca3889c3aea1f4175": {
          "model_module": "@jupyter-widgets/base",
          "model_name": "LayoutModel",
          "model_module_version": "1.2.0",
          "state": {
            "_model_module": "@jupyter-widgets/base",
            "_model_module_version": "1.2.0",
            "_model_name": "LayoutModel",
            "_view_count": null,
            "_view_module": "@jupyter-widgets/base",
            "_view_module_version": "1.2.0",
            "_view_name": "LayoutView",
            "align_content": null,
            "align_items": null,
            "align_self": null,
            "border": null,
            "bottom": null,
            "display": null,
            "flex": null,
            "flex_flow": null,
            "grid_area": null,
            "grid_auto_columns": null,
            "grid_auto_flow": null,
            "grid_auto_rows": null,
            "grid_column": null,
            "grid_gap": null,
            "grid_row": null,
            "grid_template_areas": null,
            "grid_template_columns": null,
            "grid_template_rows": null,
            "height": null,
            "justify_content": null,
            "justify_items": null,
            "left": null,
            "margin": null,
            "max_height": null,
            "max_width": null,
            "min_height": null,
            "min_width": null,
            "object_fit": null,
            "object_position": null,
            "order": null,
            "overflow": null,
            "overflow_x": null,
            "overflow_y": null,
            "padding": null,
            "right": null,
            "top": null,
            "visibility": null,
            "width": null
          }
        },
        "dd61f965839a409c9c99f948c3d952e3": {
          "model_module": "@jupyter-widgets/controls",
          "model_name": "DescriptionStyleModel",
          "model_module_version": "1.5.0",
          "state": {
            "_model_module": "@jupyter-widgets/controls",
            "_model_module_version": "1.5.0",
            "_model_name": "DescriptionStyleModel",
            "_view_count": null,
            "_view_module": "@jupyter-widgets/base",
            "_view_module_version": "1.2.0",
            "_view_name": "StyleView",
            "description_width": ""
          }
        },
        "9fdd62a7e33443adac616f220cc49b22": {
          "model_module": "@jupyter-widgets/controls",
          "model_name": "HBoxModel",
          "model_module_version": "1.5.0",
          "state": {
            "_dom_classes": [],
            "_model_module": "@jupyter-widgets/controls",
            "_model_module_version": "1.5.0",
            "_model_name": "HBoxModel",
            "_view_count": null,
            "_view_module": "@jupyter-widgets/controls",
            "_view_module_version": "1.5.0",
            "_view_name": "HBoxView",
            "box_style": "",
            "children": [
              "IPY_MODEL_6b9eb098a99e40e797fa00d56c395c24",
              "IPY_MODEL_c811232a127d48c79f3a93a9a81e9841",
              "IPY_MODEL_b54d406f532845df983faa5c5e721adb"
            ],
            "layout": "IPY_MODEL_8c85b1a9e1704c9c987efd8b188f5fc1"
          }
        },
        "6b9eb098a99e40e797fa00d56c395c24": {
          "model_module": "@jupyter-widgets/controls",
          "model_name": "HTMLModel",
          "model_module_version": "1.5.0",
          "state": {
            "_dom_classes": [],
            "_model_module": "@jupyter-widgets/controls",
            "_model_module_version": "1.5.0",
            "_model_name": "HTMLModel",
            "_view_count": null,
            "_view_module": "@jupyter-widgets/controls",
            "_view_module_version": "1.5.0",
            "_view_name": "HTMLView",
            "description": "",
            "description_tooltip": null,
            "layout": "IPY_MODEL_d0cbb77dde9d4e41a53323da97dc5216",
            "placeholder": "​",
            "style": "IPY_MODEL_e175bc225dd549dc9e0ae580c0e64bad",
            "value": "Downloading model.safetensors: 100%"
          }
        },
        "c811232a127d48c79f3a93a9a81e9841": {
          "model_module": "@jupyter-widgets/controls",
          "model_name": "FloatProgressModel",
          "model_module_version": "1.5.0",
          "state": {
            "_dom_classes": [],
            "_model_module": "@jupyter-widgets/controls",
            "_model_module_version": "1.5.0",
            "_model_name": "FloatProgressModel",
            "_view_count": null,
            "_view_module": "@jupyter-widgets/controls",
            "_view_module_version": "1.5.0",
            "_view_name": "ProgressView",
            "bar_style": "success",
            "description": "",
            "description_tooltip": null,
            "layout": "IPY_MODEL_3288dd2bc6be4fd4a421ca63420b0b9b",
            "max": 498818054,
            "min": 0,
            "orientation": "horizontal",
            "style": "IPY_MODEL_d3999065dba64de2a50b1e5e641c1fba",
            "value": 498818054
          }
        },
        "b54d406f532845df983faa5c5e721adb": {
          "model_module": "@jupyter-widgets/controls",
          "model_name": "HTMLModel",
          "model_module_version": "1.5.0",
          "state": {
            "_dom_classes": [],
            "_model_module": "@jupyter-widgets/controls",
            "_model_module_version": "1.5.0",
            "_model_name": "HTMLModel",
            "_view_count": null,
            "_view_module": "@jupyter-widgets/controls",
            "_view_module_version": "1.5.0",
            "_view_name": "HTMLView",
            "description": "",
            "description_tooltip": null,
            "layout": "IPY_MODEL_04a049ffa7354d0489ff162d4e2f9eb1",
            "placeholder": "​",
            "style": "IPY_MODEL_d0e96328a159400f9910c15bda7482e1",
            "value": " 499M/499M [00:05&lt;00:00, 101MB/s]"
          }
        },
        "8c85b1a9e1704c9c987efd8b188f5fc1": {
          "model_module": "@jupyter-widgets/base",
          "model_name": "LayoutModel",
          "model_module_version": "1.2.0",
          "state": {
            "_model_module": "@jupyter-widgets/base",
            "_model_module_version": "1.2.0",
            "_model_name": "LayoutModel",
            "_view_count": null,
            "_view_module": "@jupyter-widgets/base",
            "_view_module_version": "1.2.0",
            "_view_name": "LayoutView",
            "align_content": null,
            "align_items": null,
            "align_self": null,
            "border": null,
            "bottom": null,
            "display": null,
            "flex": null,
            "flex_flow": null,
            "grid_area": null,
            "grid_auto_columns": null,
            "grid_auto_flow": null,
            "grid_auto_rows": null,
            "grid_column": null,
            "grid_gap": null,
            "grid_row": null,
            "grid_template_areas": null,
            "grid_template_columns": null,
            "grid_template_rows": null,
            "height": null,
            "justify_content": null,
            "justify_items": null,
            "left": null,
            "margin": null,
            "max_height": null,
            "max_width": null,
            "min_height": null,
            "min_width": null,
            "object_fit": null,
            "object_position": null,
            "order": null,
            "overflow": null,
            "overflow_x": null,
            "overflow_y": null,
            "padding": null,
            "right": null,
            "top": null,
            "visibility": null,
            "width": null
          }
        },
        "d0cbb77dde9d4e41a53323da97dc5216": {
          "model_module": "@jupyter-widgets/base",
          "model_name": "LayoutModel",
          "model_module_version": "1.2.0",
          "state": {
            "_model_module": "@jupyter-widgets/base",
            "_model_module_version": "1.2.0",
            "_model_name": "LayoutModel",
            "_view_count": null,
            "_view_module": "@jupyter-widgets/base",
            "_view_module_version": "1.2.0",
            "_view_name": "LayoutView",
            "align_content": null,
            "align_items": null,
            "align_self": null,
            "border": null,
            "bottom": null,
            "display": null,
            "flex": null,
            "flex_flow": null,
            "grid_area": null,
            "grid_auto_columns": null,
            "grid_auto_flow": null,
            "grid_auto_rows": null,
            "grid_column": null,
            "grid_gap": null,
            "grid_row": null,
            "grid_template_areas": null,
            "grid_template_columns": null,
            "grid_template_rows": null,
            "height": null,
            "justify_content": null,
            "justify_items": null,
            "left": null,
            "margin": null,
            "max_height": null,
            "max_width": null,
            "min_height": null,
            "min_width": null,
            "object_fit": null,
            "object_position": null,
            "order": null,
            "overflow": null,
            "overflow_x": null,
            "overflow_y": null,
            "padding": null,
            "right": null,
            "top": null,
            "visibility": null,
            "width": null
          }
        },
        "e175bc225dd549dc9e0ae580c0e64bad": {
          "model_module": "@jupyter-widgets/controls",
          "model_name": "DescriptionStyleModel",
          "model_module_version": "1.5.0",
          "state": {
            "_model_module": "@jupyter-widgets/controls",
            "_model_module_version": "1.5.0",
            "_model_name": "DescriptionStyleModel",
            "_view_count": null,
            "_view_module": "@jupyter-widgets/base",
            "_view_module_version": "1.2.0",
            "_view_name": "StyleView",
            "description_width": ""
          }
        },
        "3288dd2bc6be4fd4a421ca63420b0b9b": {
          "model_module": "@jupyter-widgets/base",
          "model_name": "LayoutModel",
          "model_module_version": "1.2.0",
          "state": {
            "_model_module": "@jupyter-widgets/base",
            "_model_module_version": "1.2.0",
            "_model_name": "LayoutModel",
            "_view_count": null,
            "_view_module": "@jupyter-widgets/base",
            "_view_module_version": "1.2.0",
            "_view_name": "LayoutView",
            "align_content": null,
            "align_items": null,
            "align_self": null,
            "border": null,
            "bottom": null,
            "display": null,
            "flex": null,
            "flex_flow": null,
            "grid_area": null,
            "grid_auto_columns": null,
            "grid_auto_flow": null,
            "grid_auto_rows": null,
            "grid_column": null,
            "grid_gap": null,
            "grid_row": null,
            "grid_template_areas": null,
            "grid_template_columns": null,
            "grid_template_rows": null,
            "height": null,
            "justify_content": null,
            "justify_items": null,
            "left": null,
            "margin": null,
            "max_height": null,
            "max_width": null,
            "min_height": null,
            "min_width": null,
            "object_fit": null,
            "object_position": null,
            "order": null,
            "overflow": null,
            "overflow_x": null,
            "overflow_y": null,
            "padding": null,
            "right": null,
            "top": null,
            "visibility": null,
            "width": null
          }
        },
        "d3999065dba64de2a50b1e5e641c1fba": {
          "model_module": "@jupyter-widgets/controls",
          "model_name": "ProgressStyleModel",
          "model_module_version": "1.5.0",
          "state": {
            "_model_module": "@jupyter-widgets/controls",
            "_model_module_version": "1.5.0",
            "_model_name": "ProgressStyleModel",
            "_view_count": null,
            "_view_module": "@jupyter-widgets/base",
            "_view_module_version": "1.2.0",
            "_view_name": "StyleView",
            "bar_color": null,
            "description_width": ""
          }
        },
        "04a049ffa7354d0489ff162d4e2f9eb1": {
          "model_module": "@jupyter-widgets/base",
          "model_name": "LayoutModel",
          "model_module_version": "1.2.0",
          "state": {
            "_model_module": "@jupyter-widgets/base",
            "_model_module_version": "1.2.0",
            "_model_name": "LayoutModel",
            "_view_count": null,
            "_view_module": "@jupyter-widgets/base",
            "_view_module_version": "1.2.0",
            "_view_name": "LayoutView",
            "align_content": null,
            "align_items": null,
            "align_self": null,
            "border": null,
            "bottom": null,
            "display": null,
            "flex": null,
            "flex_flow": null,
            "grid_area": null,
            "grid_auto_columns": null,
            "grid_auto_flow": null,
            "grid_auto_rows": null,
            "grid_column": null,
            "grid_gap": null,
            "grid_row": null,
            "grid_template_areas": null,
            "grid_template_columns": null,
            "grid_template_rows": null,
            "height": null,
            "justify_content": null,
            "justify_items": null,
            "left": null,
            "margin": null,
            "max_height": null,
            "max_width": null,
            "min_height": null,
            "min_width": null,
            "object_fit": null,
            "object_position": null,
            "order": null,
            "overflow": null,
            "overflow_x": null,
            "overflow_y": null,
            "padding": null,
            "right": null,
            "top": null,
            "visibility": null,
            "width": null
          }
        },
        "d0e96328a159400f9910c15bda7482e1": {
          "model_module": "@jupyter-widgets/controls",
          "model_name": "DescriptionStyleModel",
          "model_module_version": "1.5.0",
          "state": {
            "_model_module": "@jupyter-widgets/controls",
            "_model_module_version": "1.5.0",
            "_model_name": "DescriptionStyleModel",
            "_view_count": null,
            "_view_module": "@jupyter-widgets/base",
            "_view_module_version": "1.2.0",
            "_view_name": "StyleView",
            "description_width": ""
          }
        }
      }
    }
  },
  "nbformat": 4,
  "nbformat_minor": 5
}