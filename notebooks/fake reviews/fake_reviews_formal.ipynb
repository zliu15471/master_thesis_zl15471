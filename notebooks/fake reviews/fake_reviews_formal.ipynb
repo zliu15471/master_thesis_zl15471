{
  "cells": [
    {
      "cell_type": "code",
      "execution_count": 3,
      "id": "bec77148",
      "metadata": {
        "id": "bec77148"
      },
      "outputs": [],
      "source": [
        "import tensorflow as tf\n",
        "from transformers import TFRobertaForSequenceClassification, RobertaTokenizer\n",
        "from sklearn.model_selection import train_test_split\n",
        "from sklearn.preprocessing import LabelEncoder\n",
        "import pandas as pd\n"
      ]
    },
    {
      "cell_type": "code",
      "execution_count": 2,
      "id": "l3PJQ0Je9-31",
      "metadata": {
        "colab": {
          "base_uri": "https://localhost:8080/"
        },
        "id": "l3PJQ0Je9-31",
        "outputId": "f0f9bf21-5d7b-4544-cfa1-6191c4dd22fc"
      },
      "outputs": [
        {
          "output_type": "stream",
          "name": "stdout",
          "text": [
            "Collecting transformers\n",
            "  Downloading transformers-4.32.0-py3-none-any.whl (7.5 MB)\n",
            "\u001b[2K     \u001b[90m━━━━━━━━━━━━━━━━━━━━━━━━━━━━━━━━━━━━━━━━\u001b[0m \u001b[32m7.5/7.5 MB\u001b[0m \u001b[31m16.3 MB/s\u001b[0m eta \u001b[36m0:00:00\u001b[0m\n",
            "\u001b[?25hRequirement already satisfied: filelock in /usr/local/lib/python3.10/dist-packages (from transformers) (3.12.2)\n",
            "Collecting huggingface-hub<1.0,>=0.15.1 (from transformers)\n",
            "  Downloading huggingface_hub-0.16.4-py3-none-any.whl (268 kB)\n",
            "\u001b[2K     \u001b[90m━━━━━━━━━━━━━━━━━━━━━━━━━━━━━━━━━━━━━━\u001b[0m \u001b[32m268.8/268.8 kB\u001b[0m \u001b[31m32.7 MB/s\u001b[0m eta \u001b[36m0:00:00\u001b[0m\n",
            "\u001b[?25hRequirement already satisfied: numpy>=1.17 in /usr/local/lib/python3.10/dist-packages (from transformers) (1.23.5)\n",
            "Requirement already satisfied: packaging>=20.0 in /usr/local/lib/python3.10/dist-packages (from transformers) (23.1)\n",
            "Requirement already satisfied: pyyaml>=5.1 in /usr/local/lib/python3.10/dist-packages (from transformers) (6.0.1)\n",
            "Requirement already satisfied: regex!=2019.12.17 in /usr/local/lib/python3.10/dist-packages (from transformers) (2023.6.3)\n",
            "Requirement already satisfied: requests in /usr/local/lib/python3.10/dist-packages (from transformers) (2.31.0)\n",
            "Collecting tokenizers!=0.11.3,<0.14,>=0.11.1 (from transformers)\n",
            "  Downloading tokenizers-0.13.3-cp310-cp310-manylinux_2_17_x86_64.manylinux2014_x86_64.whl (7.8 MB)\n",
            "\u001b[2K     \u001b[90m━━━━━━━━━━━━━━━━━━━━━━━━━━━━━━━━━━━━━━━━\u001b[0m \u001b[32m7.8/7.8 MB\u001b[0m \u001b[31m33.3 MB/s\u001b[0m eta \u001b[36m0:00:00\u001b[0m\n",
            "\u001b[?25hCollecting safetensors>=0.3.1 (from transformers)\n",
            "  Downloading safetensors-0.3.3-cp310-cp310-manylinux_2_17_x86_64.manylinux2014_x86_64.whl (1.3 MB)\n",
            "\u001b[2K     \u001b[90m━━━━━━━━━━━━━━━━━━━━━━━━━━━━━━━━━━━━━━━━\u001b[0m \u001b[32m1.3/1.3 MB\u001b[0m \u001b[31m53.2 MB/s\u001b[0m eta \u001b[36m0:00:00\u001b[0m\n",
            "\u001b[?25hRequirement already satisfied: tqdm>=4.27 in /usr/local/lib/python3.10/dist-packages (from transformers) (4.66.1)\n",
            "Requirement already satisfied: fsspec in /usr/local/lib/python3.10/dist-packages (from huggingface-hub<1.0,>=0.15.1->transformers) (2023.6.0)\n",
            "Requirement already satisfied: typing-extensions>=3.7.4.3 in /usr/local/lib/python3.10/dist-packages (from huggingface-hub<1.0,>=0.15.1->transformers) (4.7.1)\n",
            "Requirement already satisfied: charset-normalizer<4,>=2 in /usr/local/lib/python3.10/dist-packages (from requests->transformers) (3.2.0)\n",
            "Requirement already satisfied: idna<4,>=2.5 in /usr/local/lib/python3.10/dist-packages (from requests->transformers) (3.4)\n",
            "Requirement already satisfied: urllib3<3,>=1.21.1 in /usr/local/lib/python3.10/dist-packages (from requests->transformers) (2.0.4)\n",
            "Requirement already satisfied: certifi>=2017.4.17 in /usr/local/lib/python3.10/dist-packages (from requests->transformers) (2023.7.22)\n",
            "Installing collected packages: tokenizers, safetensors, huggingface-hub, transformers\n",
            "Successfully installed huggingface-hub-0.16.4 safetensors-0.3.3 tokenizers-0.13.3 transformers-4.32.0\n"
          ]
        }
      ],
      "source": [
        "!pip install transformers\n"
      ]
    },
    {
      "cell_type": "markdown",
      "id": "26c4ad1c",
      "metadata": {
        "id": "26c4ad1c"
      },
      "source": [
        "# Loading data"
      ]
    },
    {
      "cell_type": "code",
      "execution_count": 4,
      "id": "5ff91d10",
      "metadata": {
        "id": "5ff91d10"
      },
      "outputs": [],
      "source": [
        "data_fake_reviews = pd.read_csv('./fake reviews dataset.csv')"
      ]
    },
    {
      "cell_type": "code",
      "execution_count": 5,
      "id": "be07a069",
      "metadata": {
        "colab": {
          "base_uri": "https://localhost:8080/"
        },
        "id": "be07a069",
        "outputId": "dfe70290-5cbc-48a7-f03f-fd15418d10be"
      },
      "outputs": [
        {
          "output_type": "execute_result",
          "data": {
            "text/plain": [
              "(40432, 4)"
            ]
          },
          "metadata": {},
          "execution_count": 5
        }
      ],
      "source": [
        "data_fake_reviews.shape"
      ]
    },
    {
      "cell_type": "code",
      "execution_count": 6,
      "id": "5e24fb8a",
      "metadata": {
        "colab": {
          "base_uri": "https://localhost:8080/",
          "height": 276
        },
        "id": "5e24fb8a",
        "outputId": "0aa48764-378c-473e-c659-88237b43992b"
      },
      "outputs": [
        {
          "output_type": "execute_result",
          "data": {
            "text/plain": [
              "             category  rating label  \\\n",
              "0  Home_and_Kitchen_5     5.0    CG   \n",
              "1  Home_and_Kitchen_5     5.0    CG   \n",
              "2  Home_and_Kitchen_5     5.0    CG   \n",
              "3  Home_and_Kitchen_5     1.0    CG   \n",
              "4  Home_and_Kitchen_5     5.0    CG   \n",
              "\n",
              "                                               text_  \n",
              "0  Love this!  Well made, sturdy, and very comfor...  \n",
              "1  love it, a great upgrade from the original.  I...  \n",
              "2  This pillow saved my back. I love the look and...  \n",
              "3  Missing information on how to use it, but it i...  \n",
              "4  Very nice set. Good quality. We have had the s...  "
            ],
            "text/html": [
              "\n",
              "  <div id=\"df-cc2f1a4d-4d50-4ba1-8d19-f721afe4d4f8\" class=\"colab-df-container\">\n",
              "    <div>\n",
              "<style scoped>\n",
              "    .dataframe tbody tr th:only-of-type {\n",
              "        vertical-align: middle;\n",
              "    }\n",
              "\n",
              "    .dataframe tbody tr th {\n",
              "        vertical-align: top;\n",
              "    }\n",
              "\n",
              "    .dataframe thead th {\n",
              "        text-align: right;\n",
              "    }\n",
              "</style>\n",
              "<table border=\"1\" class=\"dataframe\">\n",
              "  <thead>\n",
              "    <tr style=\"text-align: right;\">\n",
              "      <th></th>\n",
              "      <th>category</th>\n",
              "      <th>rating</th>\n",
              "      <th>label</th>\n",
              "      <th>text_</th>\n",
              "    </tr>\n",
              "  </thead>\n",
              "  <tbody>\n",
              "    <tr>\n",
              "      <th>0</th>\n",
              "      <td>Home_and_Kitchen_5</td>\n",
              "      <td>5.0</td>\n",
              "      <td>CG</td>\n",
              "      <td>Love this!  Well made, sturdy, and very comfor...</td>\n",
              "    </tr>\n",
              "    <tr>\n",
              "      <th>1</th>\n",
              "      <td>Home_and_Kitchen_5</td>\n",
              "      <td>5.0</td>\n",
              "      <td>CG</td>\n",
              "      <td>love it, a great upgrade from the original.  I...</td>\n",
              "    </tr>\n",
              "    <tr>\n",
              "      <th>2</th>\n",
              "      <td>Home_and_Kitchen_5</td>\n",
              "      <td>5.0</td>\n",
              "      <td>CG</td>\n",
              "      <td>This pillow saved my back. I love the look and...</td>\n",
              "    </tr>\n",
              "    <tr>\n",
              "      <th>3</th>\n",
              "      <td>Home_and_Kitchen_5</td>\n",
              "      <td>1.0</td>\n",
              "      <td>CG</td>\n",
              "      <td>Missing information on how to use it, but it i...</td>\n",
              "    </tr>\n",
              "    <tr>\n",
              "      <th>4</th>\n",
              "      <td>Home_and_Kitchen_5</td>\n",
              "      <td>5.0</td>\n",
              "      <td>CG</td>\n",
              "      <td>Very nice set. Good quality. We have had the s...</td>\n",
              "    </tr>\n",
              "  </tbody>\n",
              "</table>\n",
              "</div>\n",
              "    <div class=\"colab-df-buttons\">\n",
              "\n",
              "  <div class=\"colab-df-container\">\n",
              "    <button class=\"colab-df-convert\" onclick=\"convertToInteractive('df-cc2f1a4d-4d50-4ba1-8d19-f721afe4d4f8')\"\n",
              "            title=\"Convert this dataframe to an interactive table.\"\n",
              "            style=\"display:none;\">\n",
              "\n",
              "  <svg xmlns=\"http://www.w3.org/2000/svg\" height=\"24px\" viewBox=\"0 -960 960 960\">\n",
              "    <path d=\"M120-120v-720h720v720H120Zm60-500h600v-160H180v160Zm220 220h160v-160H400v160Zm0 220h160v-160H400v160ZM180-400h160v-160H180v160Zm440 0h160v-160H620v160ZM180-180h160v-160H180v160Zm440 0h160v-160H620v160Z\"/>\n",
              "  </svg>\n",
              "    </button>\n",
              "\n",
              "  <style>\n",
              "    .colab-df-container {\n",
              "      display:flex;\n",
              "      gap: 12px;\n",
              "    }\n",
              "\n",
              "    .colab-df-convert {\n",
              "      background-color: #E8F0FE;\n",
              "      border: none;\n",
              "      border-radius: 50%;\n",
              "      cursor: pointer;\n",
              "      display: none;\n",
              "      fill: #1967D2;\n",
              "      height: 32px;\n",
              "      padding: 0 0 0 0;\n",
              "      width: 32px;\n",
              "    }\n",
              "\n",
              "    .colab-df-convert:hover {\n",
              "      background-color: #E2EBFA;\n",
              "      box-shadow: 0px 1px 2px rgba(60, 64, 67, 0.3), 0px 1px 3px 1px rgba(60, 64, 67, 0.15);\n",
              "      fill: #174EA6;\n",
              "    }\n",
              "\n",
              "    .colab-df-buttons div {\n",
              "      margin-bottom: 4px;\n",
              "    }\n",
              "\n",
              "    [theme=dark] .colab-df-convert {\n",
              "      background-color: #3B4455;\n",
              "      fill: #D2E3FC;\n",
              "    }\n",
              "\n",
              "    [theme=dark] .colab-df-convert:hover {\n",
              "      background-color: #434B5C;\n",
              "      box-shadow: 0px 1px 3px 1px rgba(0, 0, 0, 0.15);\n",
              "      filter: drop-shadow(0px 1px 2px rgba(0, 0, 0, 0.3));\n",
              "      fill: #FFFFFF;\n",
              "    }\n",
              "  </style>\n",
              "\n",
              "    <script>\n",
              "      const buttonEl =\n",
              "        document.querySelector('#df-cc2f1a4d-4d50-4ba1-8d19-f721afe4d4f8 button.colab-df-convert');\n",
              "      buttonEl.style.display =\n",
              "        google.colab.kernel.accessAllowed ? 'block' : 'none';\n",
              "\n",
              "      async function convertToInteractive(key) {\n",
              "        const element = document.querySelector('#df-cc2f1a4d-4d50-4ba1-8d19-f721afe4d4f8');\n",
              "        const dataTable =\n",
              "          await google.colab.kernel.invokeFunction('convertToInteractive',\n",
              "                                                    [key], {});\n",
              "        if (!dataTable) return;\n",
              "\n",
              "        const docLinkHtml = 'Like what you see? Visit the ' +\n",
              "          '<a target=\"_blank\" href=https://colab.research.google.com/notebooks/data_table.ipynb>data table notebook</a>'\n",
              "          + ' to learn more about interactive tables.';\n",
              "        element.innerHTML = '';\n",
              "        dataTable['output_type'] = 'display_data';\n",
              "        await google.colab.output.renderOutput(dataTable, element);\n",
              "        const docLink = document.createElement('div');\n",
              "        docLink.innerHTML = docLinkHtml;\n",
              "        element.appendChild(docLink);\n",
              "      }\n",
              "    </script>\n",
              "  </div>\n",
              "\n",
              "\n",
              "<div id=\"df-a950fd72-7652-47e6-b996-77b64a5f04b8\">\n",
              "  <button class=\"colab-df-quickchart\" onclick=\"quickchart('df-a950fd72-7652-47e6-b996-77b64a5f04b8')\"\n",
              "            title=\"Suggest charts.\"\n",
              "            style=\"display:none;\">\n",
              "\n",
              "<svg xmlns=\"http://www.w3.org/2000/svg\" height=\"24px\"viewBox=\"0 0 24 24\"\n",
              "     width=\"24px\">\n",
              "    <g>\n",
              "        <path d=\"M19 3H5c-1.1 0-2 .9-2 2v14c0 1.1.9 2 2 2h14c1.1 0 2-.9 2-2V5c0-1.1-.9-2-2-2zM9 17H7v-7h2v7zm4 0h-2V7h2v10zm4 0h-2v-4h2v4z\"/>\n",
              "    </g>\n",
              "</svg>\n",
              "  </button>\n",
              "\n",
              "<style>\n",
              "  .colab-df-quickchart {\n",
              "    background-color: #E8F0FE;\n",
              "    border: none;\n",
              "    border-radius: 50%;\n",
              "    cursor: pointer;\n",
              "    display: none;\n",
              "    fill: #1967D2;\n",
              "    height: 32px;\n",
              "    padding: 0 0 0 0;\n",
              "    width: 32px;\n",
              "  }\n",
              "\n",
              "  .colab-df-quickchart:hover {\n",
              "    background-color: #E2EBFA;\n",
              "    box-shadow: 0px 1px 2px rgba(60, 64, 67, 0.3), 0px 1px 3px 1px rgba(60, 64, 67, 0.15);\n",
              "    fill: #174EA6;\n",
              "  }\n",
              "\n",
              "  [theme=dark] .colab-df-quickchart {\n",
              "    background-color: #3B4455;\n",
              "    fill: #D2E3FC;\n",
              "  }\n",
              "\n",
              "  [theme=dark] .colab-df-quickchart:hover {\n",
              "    background-color: #434B5C;\n",
              "    box-shadow: 0px 1px 3px 1px rgba(0, 0, 0, 0.15);\n",
              "    filter: drop-shadow(0px 1px 2px rgba(0, 0, 0, 0.3));\n",
              "    fill: #FFFFFF;\n",
              "  }\n",
              "</style>\n",
              "\n",
              "  <script>\n",
              "    async function quickchart(key) {\n",
              "      const charts = await google.colab.kernel.invokeFunction(\n",
              "          'suggestCharts', [key], {});\n",
              "    }\n",
              "    (() => {\n",
              "      let quickchartButtonEl =\n",
              "        document.querySelector('#df-a950fd72-7652-47e6-b996-77b64a5f04b8 button');\n",
              "      quickchartButtonEl.style.display =\n",
              "        google.colab.kernel.accessAllowed ? 'block' : 'none';\n",
              "    })();\n",
              "  </script>\n",
              "</div>\n",
              "    </div>\n",
              "  </div>\n"
            ]
          },
          "metadata": {},
          "execution_count": 6
        }
      ],
      "source": [
        "data_fake_reviews.head()"
      ]
    },
    {
      "cell_type": "code",
      "execution_count": 7,
      "id": "1a544dc6",
      "metadata": {
        "colab": {
          "base_uri": "https://localhost:8080/"
        },
        "id": "1a544dc6",
        "outputId": "2aa12984-e60f-4c9e-f608-f91bb7c2e807"
      },
      "outputs": [
        {
          "output_type": "stream",
          "name": "stdout",
          "text": [
            "<class 'pandas.core.frame.DataFrame'>\n",
            "RangeIndex: 40432 entries, 0 to 40431\n",
            "Data columns (total 4 columns):\n",
            " #   Column    Non-Null Count  Dtype  \n",
            "---  ------    --------------  -----  \n",
            " 0   category  40432 non-null  object \n",
            " 1   rating    40432 non-null  float64\n",
            " 2   label     40432 non-null  object \n",
            " 3   text_     40432 non-null  object \n",
            "dtypes: float64(1), object(3)\n",
            "memory usage: 1.2+ MB\n"
          ]
        }
      ],
      "source": [
        "data_fake_reviews.info()"
      ]
    },
    {
      "cell_type": "code",
      "execution_count": 8,
      "id": "bdcc3eac",
      "metadata": {
        "colab": {
          "base_uri": "https://localhost:8080/"
        },
        "id": "bdcc3eac",
        "outputId": "01079178-1ca0-4af1-95c7-09d1f95b327a"
      },
      "outputs": [
        {
          "output_type": "execute_result",
          "data": {
            "text/plain": [
              "array(['CG', 'OR'], dtype=object)"
            ]
          },
          "metadata": {},
          "execution_count": 8
        }
      ],
      "source": [
        "data_fake_reviews.label.unique()"
      ]
    },
    {
      "cell_type": "code",
      "execution_count": 9,
      "id": "a2bbfeff",
      "metadata": {
        "colab": {
          "base_uri": "https://localhost:8080/"
        },
        "id": "a2bbfeff",
        "outputId": "44e03a8d-c1f6-4aae-ee6f-8de145e0740c"
      },
      "outputs": [
        {
          "output_type": "execute_result",
          "data": {
            "text/plain": [
              "Index(['category', 'rating', 'label', 'text_'], dtype='object')"
            ]
          },
          "metadata": {},
          "execution_count": 9
        }
      ],
      "source": [
        "data_fake_reviews.columns"
      ]
    },
    {
      "cell_type": "markdown",
      "id": "84a4b327",
      "metadata": {
        "id": "84a4b327"
      },
      "source": [
        "# Obtain the training dataset and validation dataset"
      ]
    },
    {
      "cell_type": "code",
      "execution_count": 10,
      "id": "4bc2d7a2",
      "metadata": {
        "id": "4bc2d7a2"
      },
      "outputs": [],
      "source": [
        "dict_target = {'CG':0, 'OR':1}\n",
        "def encode_label(x):\n",
        "    return dict_target.get(x,-1)"
      ]
    },
    {
      "cell_type": "code",
      "execution_count": 11,
      "id": "ebb80fce",
      "metadata": {
        "id": "ebb80fce"
      },
      "outputs": [],
      "source": [
        "data_fake_reviews[\"target\"] = data_fake_reviews[\"label\"].apply(lambda x: encode_label(x))"
      ]
    },
    {
      "cell_type": "code",
      "execution_count": 12,
      "id": "6be35d60",
      "metadata": {
        "id": "6be35d60"
      },
      "outputs": [],
      "source": [
        "# Split the data into training and validation sets\n",
        "train_dataset, tv_dataset = train_test_split(data_fake_reviews, test_size=0.4, shuffle=True, stratify=None, random_state=2021)"
      ]
    },
    {
      "cell_type": "code",
      "execution_count": 13,
      "id": "unEAIZfdTGFm",
      "metadata": {
        "id": "unEAIZfdTGFm"
      },
      "outputs": [],
      "source": [
        "test_dataset_raw, valid_dataset = train_test_split(tv_dataset, test_size=0.5, shuffle=True, stratify=None, random_state=2021)"
      ]
    },
    {
      "cell_type": "code",
      "execution_count": 14,
      "id": "888f5940",
      "metadata": {
        "id": "888f5940",
        "colab": {
          "base_uri": "https://localhost:8080/",
          "height": 197,
          "referenced_widgets": [
            "71d3b1113df2403d817ffe312c6f2657",
            "8ce1e1227ef94dad94db0c6f8c9b11f2",
            "574a4d6d7e0b444f868dcad1718cd865",
            "e86dc66e0b534f1682245bb231a4b0ec",
            "32f4d3b8fee245559267b029bab0d813",
            "30b217a0a69b49c1ac7000236b46b79a",
            "84a37810bcfd47c4bbf83095a9dbd9ca",
            "4e0629c9ceae4a419fc32ce7428cd692",
            "748515a94fba408f9351808cad4f1d05",
            "209c20a8dcec403c92d6fb9773c76659",
            "bdb9fd2792bd49d4a336f42afe4655f0",
            "79b1550252cc4a4ab0d338141cd432ea",
            "7fc567965cac4eb1aa2f75c25b0c41b2",
            "e71c7b977d2e40378a7a2b32ec76124c",
            "69fc7116846d40328a66f465ce49eb0a",
            "1d4762e6af104f458713d3ddff6ade15",
            "23bd2964bbde446ba3ca156c65b318fe",
            "1d4093cf4ddd41728f549c530396e94b",
            "c510eb814c634251b5b5afd127366648",
            "bdf8eaff58d34231b17175a5608079a2",
            "de4d8d1dcb4142b09ab5be0f69b520b3",
            "636f697f134644f2bf82bae4663bcd87",
            "4c194f02e6b441ca9300160bf7429c82",
            "9659b2bc4750453b9bdfd8253defadbe",
            "0c3da6b2926d49378e11d7573dbaec76",
            "2fb3b524329a48f6b25b3d06f10d2138",
            "8d4c54d41efc490c890e813226007c7f",
            "e4605d68b3184b69bfeb7c7ae6c0a39d",
            "6d1b395c019740eaa556c93621ba75be",
            "454fe2e5b60149b7a3b2a49b593a63fb",
            "8e884cc534d84f6eba5df3a3e534ce07",
            "3199801776af4195bd23b20c23403231",
            "68354385437b4146ad2e657f9aff966d"
          ]
        },
        "outputId": "d2c206b9-a724-4db2-b17a-8f4e5d3f63ce"
      },
      "outputs": [
        {
          "output_type": "display_data",
          "data": {
            "text/plain": [
              "Downloading (…)olve/main/vocab.json:   0%|          | 0.00/899k [00:00<?, ?B/s]"
            ],
            "application/vnd.jupyter.widget-view+json": {
              "version_major": 2,
              "version_minor": 0,
              "model_id": "71d3b1113df2403d817ffe312c6f2657"
            }
          },
          "metadata": {}
        },
        {
          "output_type": "display_data",
          "data": {
            "text/plain": [
              "Downloading (…)olve/main/merges.txt:   0%|          | 0.00/456k [00:00<?, ?B/s]"
            ],
            "application/vnd.jupyter.widget-view+json": {
              "version_major": 2,
              "version_minor": 0,
              "model_id": "79b1550252cc4a4ab0d338141cd432ea"
            }
          },
          "metadata": {}
        },
        {
          "output_type": "display_data",
          "data": {
            "text/plain": [
              "Downloading (…)lve/main/config.json:   0%|          | 0.00/481 [00:00<?, ?B/s]"
            ],
            "application/vnd.jupyter.widget-view+json": {
              "version_major": 2,
              "version_minor": 0,
              "model_id": "4c194f02e6b441ca9300160bf7429c82"
            }
          },
          "metadata": {}
        }
      ],
      "source": [
        "# Load the tokenizer\n",
        "tokenizer = RobertaTokenizer.from_pretrained('roberta-base')"
      ]
    },
    {
      "cell_type": "code",
      "execution_count": 15,
      "id": "8193d2a8",
      "metadata": {
        "id": "8193d2a8"
      },
      "outputs": [],
      "source": [
        "# Tokenize the data\n",
        "train_encodings = tokenizer(train_dataset['text_'].tolist(), truncation=True, padding=True, max_length=256)\n",
        "valid_encodings = tokenizer(valid_dataset['text_'].tolist(), truncation=True, padding=True, max_length=256)\n",
        "test_encodings = tokenizer(test_dataset_raw['text_'].tolist(), truncation=True, padding=True, max_length=256)"
      ]
    },
    {
      "cell_type": "code",
      "execution_count": 16,
      "id": "0844d8af",
      "metadata": {
        "id": "0844d8af"
      },
      "outputs": [],
      "source": [
        "# Convert the data to TensorFlow tensors\n",
        "train_dataset = tf.data.Dataset.from_tensor_slices((\n",
        "    dict(train_encodings),\n",
        "    train_dataset['target'].values\n",
        "))\n",
        "valid_dataset = tf.data.Dataset.from_tensor_slices((\n",
        "    dict(valid_encodings),\n",
        "    valid_dataset['target'].values\n",
        "))\n",
        "test_dataset = tf.data.Dataset.from_tensor_slices((\n",
        "    dict(test_encodings),\n",
        "    test_dataset_raw['target'].values\n",
        "))"
      ]
    },
    {
      "cell_type": "markdown",
      "id": "95ea540d",
      "metadata": {
        "id": "95ea540d"
      },
      "source": [
        "# Load the model"
      ]
    },
    {
      "cell_type": "code",
      "execution_count": 17,
      "id": "dd06c222",
      "metadata": {
        "colab": {
          "base_uri": "https://localhost:8080/",
          "height": 186,
          "referenced_widgets": [
            "dae506b466f7425ca6ff8300976be8cf",
            "68ea79de5b7941d9ae5da718c240dd3a",
            "57b71b23238e4de1be30f9c4dc62e84a",
            "a5763c43dcf04d69beb8c62973f63f08",
            "a5730006bbc941c7894df189d0a1c128",
            "e9bbca29dc6d4aefb7141f5f1ca5527f",
            "ca987655f7a74844bc04a192eeca43f1",
            "118e05ed1cd84cb18e9497b7bff6df71",
            "1cb99f65e9d4414fb7d7d79059690a49",
            "2e8c8fa56fb340cbaf87a45dbdd8e788",
            "10092008464042dc8d9b26101ee17bad"
          ]
        },
        "id": "dd06c222",
        "outputId": "0158bc68-086f-4f9d-beb8-7d07131aea53"
      },
      "outputs": [
        {
          "output_type": "display_data",
          "data": {
            "text/plain": [
              "Downloading model.safetensors:   0%|          | 0.00/499M [00:00<?, ?B/s]"
            ],
            "application/vnd.jupyter.widget-view+json": {
              "version_major": 2,
              "version_minor": 0,
              "model_id": "dae506b466f7425ca6ff8300976be8cf"
            }
          },
          "metadata": {}
        },
        {
          "output_type": "stream",
          "name": "stderr",
          "text": [
            "Some weights of the PyTorch model were not used when initializing the TF 2.0 model TFRobertaForSequenceClassification: ['roberta.embeddings.position_ids']\n",
            "- This IS expected if you are initializing TFRobertaForSequenceClassification from a PyTorch model trained on another task or with another architecture (e.g. initializing a TFBertForSequenceClassification model from a BertForPreTraining model).\n",
            "- This IS NOT expected if you are initializing TFRobertaForSequenceClassification from a PyTorch model that you expect to be exactly identical (e.g. initializing a TFBertForSequenceClassification model from a BertForSequenceClassification model).\n",
            "Some weights or buffers of the TF 2.0 model TFRobertaForSequenceClassification were not initialized from the PyTorch model and are newly initialized: ['classifier.dense.weight', 'classifier.dense.bias', 'classifier.out_proj.weight', 'classifier.out_proj.bias']\n",
            "You should probably TRAIN this model on a down-stream task to be able to use it for predictions and inference.\n"
          ]
        }
      ],
      "source": [
        "# Load the model\n",
        "model = TFRobertaForSequenceClassification.from_pretrained('roberta-base')\n",
        "\n"
      ]
    },
    {
      "cell_type": "code",
      "execution_count": 18,
      "id": "124e430c",
      "metadata": {
        "id": "124e430c"
      },
      "outputs": [],
      "source": [
        "\n",
        "# Compile the model\n",
        "model.compile(optimizer=tf.keras.optimizers.Adam(learning_rate=1e-5),\n",
        "              loss=tf.keras.losses.SparseCategoricalCrossentropy(from_logits=True),\n",
        "              metrics=['accuracy'])"
      ]
    },
    {
      "cell_type": "code",
      "execution_count": 19,
      "id": "54f84725",
      "metadata": {
        "colab": {
          "base_uri": "https://localhost:8080/"
        },
        "id": "54f84725",
        "outputId": "f9a4e903-e812-428f-d74a-947add625298"
      },
      "outputs": [
        {
          "output_type": "stream",
          "name": "stdout",
          "text": [
            "1517/1517 [==============================] - 1506s 957ms/step - loss: 0.1398 - accuracy: 0.9408 - val_loss: 0.1601 - val_accuracy: 0.9261\n"
          ]
        },
        {
          "output_type": "execute_result",
          "data": {
            "text/plain": [
              "<keras.callbacks.History at 0x7d20e9f8cbb0>"
            ]
          },
          "metadata": {},
          "execution_count": 19
        }
      ],
      "source": [
        "\n",
        "# Train the model\n",
        "model.fit(train_dataset.shuffle(1000).batch(16), epochs=1, batch_size=16, validation_data=valid_dataset.batch(16))"
      ]
    },
    {
      "cell_type": "markdown",
      "id": "fULjTN2qN2ZY",
      "metadata": {
        "id": "fULjTN2qN2ZY"
      },
      "source": [
        "# evaluate the performance"
      ]
    },
    {
      "cell_type": "code",
      "execution_count": 20,
      "id": "fc31b0f6",
      "metadata": {
        "colab": {
          "base_uri": "https://localhost:8080/"
        },
        "id": "fc31b0f6",
        "outputId": "e1e16d1a-ebef-41b7-8610-655889ba114e"
      },
      "outputs": [
        {
          "output_type": "stream",
          "name": "stdout",
          "text": [
            "506/506 [==============================] - 149s 279ms/step\n",
            "              precision    recall  f1-score   support\n",
            "\n",
            "          CG       0.88      1.00      0.93      3974\n",
            "          OR       1.00      0.86      0.92      4112\n",
            "\n",
            "    accuracy                           0.93      8086\n",
            "   macro avg       0.94      0.93      0.93      8086\n",
            "weighted avg       0.94      0.93      0.93      8086\n",
            "\n"
          ]
        }
      ],
      "source": [
        "from sklearn.metrics import classification_report\n",
        "import numpy as np\n",
        "# Make predictions on the validation dataset\n",
        "test_dataset_batched = test_dataset.batch(16)\n",
        "y_pred_raw = model.predict(test_dataset_batched)\n",
        "\n",
        "# Convert raw predictions to class predictions\n",
        "y_pred = np.argmax(y_pred_raw.logits, axis=1)\n",
        "\n",
        "# Get the actual class labels\n",
        "y_true = []\n",
        "for features, label in test_dataset:\n",
        "    y_true.append(label.numpy())\n",
        "y_true = np.array(y_true)\n",
        "\n",
        "\n",
        "# Generate a classification report\n",
        "report = classification_report(y_true, y_pred, target_names=[\"CG\", \"OR\"])  # replace target_names with your actual class names\n",
        "print(report)\n"
      ]
    },
    {
      "cell_type": "code",
      "execution_count": null,
      "id": "78f2add8",
      "metadata": {
        "colab": {
          "base_uri": "https://localhost:8080/"
        },
        "id": "78f2add8",
        "outputId": "b5135bd6-4d78-43f8-9c31-d554b166f631"
      },
      "outputs": [
        {
          "name": "stderr",
          "output_type": "stream",
          "text": [
            "WARNING:absl:Found untraced functions such as encoder_layer_call_fn, encoder_layer_call_and_return_conditional_losses, embeddings_layer_call_fn, embeddings_layer_call_and_return_conditional_losses, dense_layer_call_fn while saving (showing 5 of 422). These functions will not be directly callable after loading.\n"
          ]
        }
      ],
      "source": [
        "model.save('my_model_fake_reviews')\n",
        "\n"
      ]
    },
    {
      "cell_type": "code",
      "execution_count": null,
      "id": "y2sWhHmpuaCO",
      "metadata": {
        "id": "y2sWhHmpuaCO"
      },
      "outputs": [],
      "source": []
    },
    {
      "cell_type": "code",
      "execution_count": null,
      "id": "MLyJMwSCua38",
      "metadata": {
        "id": "MLyJMwSCua38"
      },
      "outputs": [],
      "source": []
    },
    {
      "cell_type": "markdown",
      "id": "AsztkdYsubdn",
      "metadata": {
        "id": "AsztkdYsubdn"
      },
      "source": [
        "# Test dataset with 150\n"
      ]
    },
    {
      "cell_type": "code",
      "execution_count": 21,
      "id": "1aRzr41KiekI",
      "metadata": {
        "colab": {
          "base_uri": "https://localhost:8080/"
        },
        "id": "1aRzr41KiekI",
        "outputId": "3701c66c-02a4-47be-ded9-b01df765cd41"
      },
      "outputs": [
        {
          "output_type": "execute_result",
          "data": {
            "text/plain": [
              "(8086, 5)"
            ]
          },
          "metadata": {},
          "execution_count": 21
        }
      ],
      "source": [
        "test_dataset_raw.shape"
      ]
    },
    {
      "cell_type": "code",
      "execution_count": 22,
      "id": "txTILS5nieuK",
      "metadata": {
        "colab": {
          "base_uri": "https://localhost:8080/",
          "height": 293
        },
        "id": "txTILS5nieuK",
        "outputId": "645956b8-3a1a-4e5c-a207-b2074ffb6c6a"
      },
      "outputs": [
        {
          "output_type": "execute_result",
          "data": {
            "text/plain": [
              "              category  rating label  \\\n",
              "31179          Books_5     5.0    CG   \n",
              "26353   Kindle_Store_5     5.0    CG   \n",
              "9403     Electronics_5     5.0    OR   \n",
              "13753  Movies_and_TV_5     5.0    CG   \n",
              "19789   Pet_Supplies_5     5.0    OR   \n",
              "\n",
              "                                                   text_  target  \n",
              "31179  Rick Bragg is one of the most entertaining cha...       0  \n",
              "26353  Ms. Rasley's prose never fails to capture the ...       0  \n",
              "9403   Rebuilt my PC from the ground up and I absolut...       1  \n",
              "13753  An awesome show! Got a few of the movies on dv...       0  \n",
              "19789  Highly recommend this brand of milk replacer, ...       1  "
            ],
            "text/html": [
              "\n",
              "  <div id=\"df-75ea1653-1dc1-4506-ac5b-afc74f1464f3\" class=\"colab-df-container\">\n",
              "    <div>\n",
              "<style scoped>\n",
              "    .dataframe tbody tr th:only-of-type {\n",
              "        vertical-align: middle;\n",
              "    }\n",
              "\n",
              "    .dataframe tbody tr th {\n",
              "        vertical-align: top;\n",
              "    }\n",
              "\n",
              "    .dataframe thead th {\n",
              "        text-align: right;\n",
              "    }\n",
              "</style>\n",
              "<table border=\"1\" class=\"dataframe\">\n",
              "  <thead>\n",
              "    <tr style=\"text-align: right;\">\n",
              "      <th></th>\n",
              "      <th>category</th>\n",
              "      <th>rating</th>\n",
              "      <th>label</th>\n",
              "      <th>text_</th>\n",
              "      <th>target</th>\n",
              "    </tr>\n",
              "  </thead>\n",
              "  <tbody>\n",
              "    <tr>\n",
              "      <th>31179</th>\n",
              "      <td>Books_5</td>\n",
              "      <td>5.0</td>\n",
              "      <td>CG</td>\n",
              "      <td>Rick Bragg is one of the most entertaining cha...</td>\n",
              "      <td>0</td>\n",
              "    </tr>\n",
              "    <tr>\n",
              "      <th>26353</th>\n",
              "      <td>Kindle_Store_5</td>\n",
              "      <td>5.0</td>\n",
              "      <td>CG</td>\n",
              "      <td>Ms. Rasley's prose never fails to capture the ...</td>\n",
              "      <td>0</td>\n",
              "    </tr>\n",
              "    <tr>\n",
              "      <th>9403</th>\n",
              "      <td>Electronics_5</td>\n",
              "      <td>5.0</td>\n",
              "      <td>OR</td>\n",
              "      <td>Rebuilt my PC from the ground up and I absolut...</td>\n",
              "      <td>1</td>\n",
              "    </tr>\n",
              "    <tr>\n",
              "      <th>13753</th>\n",
              "      <td>Movies_and_TV_5</td>\n",
              "      <td>5.0</td>\n",
              "      <td>CG</td>\n",
              "      <td>An awesome show! Got a few of the movies on dv...</td>\n",
              "      <td>0</td>\n",
              "    </tr>\n",
              "    <tr>\n",
              "      <th>19789</th>\n",
              "      <td>Pet_Supplies_5</td>\n",
              "      <td>5.0</td>\n",
              "      <td>OR</td>\n",
              "      <td>Highly recommend this brand of milk replacer, ...</td>\n",
              "      <td>1</td>\n",
              "    </tr>\n",
              "  </tbody>\n",
              "</table>\n",
              "</div>\n",
              "    <div class=\"colab-df-buttons\">\n",
              "\n",
              "  <div class=\"colab-df-container\">\n",
              "    <button class=\"colab-df-convert\" onclick=\"convertToInteractive('df-75ea1653-1dc1-4506-ac5b-afc74f1464f3')\"\n",
              "            title=\"Convert this dataframe to an interactive table.\"\n",
              "            style=\"display:none;\">\n",
              "\n",
              "  <svg xmlns=\"http://www.w3.org/2000/svg\" height=\"24px\" viewBox=\"0 -960 960 960\">\n",
              "    <path d=\"M120-120v-720h720v720H120Zm60-500h600v-160H180v160Zm220 220h160v-160H400v160Zm0 220h160v-160H400v160ZM180-400h160v-160H180v160Zm440 0h160v-160H620v160ZM180-180h160v-160H180v160Zm440 0h160v-160H620v160Z\"/>\n",
              "  </svg>\n",
              "    </button>\n",
              "\n",
              "  <style>\n",
              "    .colab-df-container {\n",
              "      display:flex;\n",
              "      gap: 12px;\n",
              "    }\n",
              "\n",
              "    .colab-df-convert {\n",
              "      background-color: #E8F0FE;\n",
              "      border: none;\n",
              "      border-radius: 50%;\n",
              "      cursor: pointer;\n",
              "      display: none;\n",
              "      fill: #1967D2;\n",
              "      height: 32px;\n",
              "      padding: 0 0 0 0;\n",
              "      width: 32px;\n",
              "    }\n",
              "\n",
              "    .colab-df-convert:hover {\n",
              "      background-color: #E2EBFA;\n",
              "      box-shadow: 0px 1px 2px rgba(60, 64, 67, 0.3), 0px 1px 3px 1px rgba(60, 64, 67, 0.15);\n",
              "      fill: #174EA6;\n",
              "    }\n",
              "\n",
              "    .colab-df-buttons div {\n",
              "      margin-bottom: 4px;\n",
              "    }\n",
              "\n",
              "    [theme=dark] .colab-df-convert {\n",
              "      background-color: #3B4455;\n",
              "      fill: #D2E3FC;\n",
              "    }\n",
              "\n",
              "    [theme=dark] .colab-df-convert:hover {\n",
              "      background-color: #434B5C;\n",
              "      box-shadow: 0px 1px 3px 1px rgba(0, 0, 0, 0.15);\n",
              "      filter: drop-shadow(0px 1px 2px rgba(0, 0, 0, 0.3));\n",
              "      fill: #FFFFFF;\n",
              "    }\n",
              "  </style>\n",
              "\n",
              "    <script>\n",
              "      const buttonEl =\n",
              "        document.querySelector('#df-75ea1653-1dc1-4506-ac5b-afc74f1464f3 button.colab-df-convert');\n",
              "      buttonEl.style.display =\n",
              "        google.colab.kernel.accessAllowed ? 'block' : 'none';\n",
              "\n",
              "      async function convertToInteractive(key) {\n",
              "        const element = document.querySelector('#df-75ea1653-1dc1-4506-ac5b-afc74f1464f3');\n",
              "        const dataTable =\n",
              "          await google.colab.kernel.invokeFunction('convertToInteractive',\n",
              "                                                    [key], {});\n",
              "        if (!dataTable) return;\n",
              "\n",
              "        const docLinkHtml = 'Like what you see? Visit the ' +\n",
              "          '<a target=\"_blank\" href=https://colab.research.google.com/notebooks/data_table.ipynb>data table notebook</a>'\n",
              "          + ' to learn more about interactive tables.';\n",
              "        element.innerHTML = '';\n",
              "        dataTable['output_type'] = 'display_data';\n",
              "        await google.colab.output.renderOutput(dataTable, element);\n",
              "        const docLink = document.createElement('div');\n",
              "        docLink.innerHTML = docLinkHtml;\n",
              "        element.appendChild(docLink);\n",
              "      }\n",
              "    </script>\n",
              "  </div>\n",
              "\n",
              "\n",
              "<div id=\"df-06a9729a-5eda-4e0e-9fa8-6b680e6b608b\">\n",
              "  <button class=\"colab-df-quickchart\" onclick=\"quickchart('df-06a9729a-5eda-4e0e-9fa8-6b680e6b608b')\"\n",
              "            title=\"Suggest charts.\"\n",
              "            style=\"display:none;\">\n",
              "\n",
              "<svg xmlns=\"http://www.w3.org/2000/svg\" height=\"24px\"viewBox=\"0 0 24 24\"\n",
              "     width=\"24px\">\n",
              "    <g>\n",
              "        <path d=\"M19 3H5c-1.1 0-2 .9-2 2v14c0 1.1.9 2 2 2h14c1.1 0 2-.9 2-2V5c0-1.1-.9-2-2-2zM9 17H7v-7h2v7zm4 0h-2V7h2v10zm4 0h-2v-4h2v4z\"/>\n",
              "    </g>\n",
              "</svg>\n",
              "  </button>\n",
              "\n",
              "<style>\n",
              "  .colab-df-quickchart {\n",
              "    background-color: #E8F0FE;\n",
              "    border: none;\n",
              "    border-radius: 50%;\n",
              "    cursor: pointer;\n",
              "    display: none;\n",
              "    fill: #1967D2;\n",
              "    height: 32px;\n",
              "    padding: 0 0 0 0;\n",
              "    width: 32px;\n",
              "  }\n",
              "\n",
              "  .colab-df-quickchart:hover {\n",
              "    background-color: #E2EBFA;\n",
              "    box-shadow: 0px 1px 2px rgba(60, 64, 67, 0.3), 0px 1px 3px 1px rgba(60, 64, 67, 0.15);\n",
              "    fill: #174EA6;\n",
              "  }\n",
              "\n",
              "  [theme=dark] .colab-df-quickchart {\n",
              "    background-color: #3B4455;\n",
              "    fill: #D2E3FC;\n",
              "  }\n",
              "\n",
              "  [theme=dark] .colab-df-quickchart:hover {\n",
              "    background-color: #434B5C;\n",
              "    box-shadow: 0px 1px 3px 1px rgba(0, 0, 0, 0.15);\n",
              "    filter: drop-shadow(0px 1px 2px rgba(0, 0, 0, 0.3));\n",
              "    fill: #FFFFFF;\n",
              "  }\n",
              "</style>\n",
              "\n",
              "  <script>\n",
              "    async function quickchart(key) {\n",
              "      const charts = await google.colab.kernel.invokeFunction(\n",
              "          'suggestCharts', [key], {});\n",
              "    }\n",
              "    (() => {\n",
              "      let quickchartButtonEl =\n",
              "        document.querySelector('#df-06a9729a-5eda-4e0e-9fa8-6b680e6b608b button');\n",
              "      quickchartButtonEl.style.display =\n",
              "        google.colab.kernel.accessAllowed ? 'block' : 'none';\n",
              "    })();\n",
              "  </script>\n",
              "</div>\n",
              "    </div>\n",
              "  </div>\n"
            ]
          },
          "metadata": {},
          "execution_count": 22
        }
      ],
      "source": [
        "test_dataset_raw.head()"
      ]
    },
    {
      "cell_type": "code",
      "execution_count": 23,
      "id": "SFW65Ne8ie1c",
      "metadata": {
        "id": "SFW65Ne8ie1c"
      },
      "outputs": [],
      "source": [
        "test_dataset_raw_0 = test_dataset_raw[test_dataset_raw['target']==0]"
      ]
    },
    {
      "cell_type": "code",
      "execution_count": 24,
      "id": "3YX69rM1sCcg",
      "metadata": {
        "colab": {
          "base_uri": "https://localhost:8080/"
        },
        "id": "3YX69rM1sCcg",
        "outputId": "5e0bd2bf-dd87-43d2-fff8-613a65e78ea2"
      },
      "outputs": [
        {
          "output_type": "execute_result",
          "data": {
            "text/plain": [
              "(3974, 5)"
            ]
          },
          "metadata": {},
          "execution_count": 24
        }
      ],
      "source": [
        "test_dataset_raw_0.shape"
      ]
    },
    {
      "cell_type": "code",
      "execution_count": 185,
      "id": "e6-Vagh6ie8e",
      "metadata": {
        "id": "e6-Vagh6ie8e"
      },
      "outputs": [],
      "source": [
        "random_50_rows = test_dataset_raw_0.sample(n=50)\n",
        "\n",
        "# Build the new DataFrame using the randomly selected rows\n",
        "test_dataset_raw_50 = pd.DataFrame(random_50_rows)"
      ]
    },
    {
      "cell_type": "code",
      "execution_count": 186,
      "id": "ypKe1AlvifCf",
      "metadata": {
        "colab": {
          "base_uri": "https://localhost:8080/",
          "height": 449
        },
        "id": "ypKe1AlvifCf",
        "outputId": "fd8a0c34-e651-498c-bcc3-b2d96edb81e3"
      },
      "outputs": [
        {
          "output_type": "execute_result",
          "data": {
            "text/plain": [
              "                           category  rating label  \\\n",
              "33360              Toys_and_Games_5     4.0    CG   \n",
              "9704                  Electronics_5     4.0    CG   \n",
              "19128  Tools_and_Home_Improvement_5     5.0    CG   \n",
              "24624                Kindle_Store_5     5.0    CG   \n",
              "22680                Pet_Supplies_5     4.0    CG   \n",
              "\n",
              "                                                   text_  target  \n",
              "33360  Good Value, chuggington trains can go on the t...       0  \n",
              "9704   Works great!  Transfers photos and video to th...       0  \n",
              "19128  Love this seat... Never knew what to expect.  ...       0  \n",
              "24624  this is a story about a boy and girl who are s...       0  \n",
              "22680  I have a American pitbull and an Australian sh...       0  "
            ],
            "text/html": [
              "\n",
              "  <div id=\"df-28ea0a6e-5852-4990-86f5-c469c1b2d36e\" class=\"colab-df-container\">\n",
              "    <div>\n",
              "<style scoped>\n",
              "    .dataframe tbody tr th:only-of-type {\n",
              "        vertical-align: middle;\n",
              "    }\n",
              "\n",
              "    .dataframe tbody tr th {\n",
              "        vertical-align: top;\n",
              "    }\n",
              "\n",
              "    .dataframe thead th {\n",
              "        text-align: right;\n",
              "    }\n",
              "</style>\n",
              "<table border=\"1\" class=\"dataframe\">\n",
              "  <thead>\n",
              "    <tr style=\"text-align: right;\">\n",
              "      <th></th>\n",
              "      <th>category</th>\n",
              "      <th>rating</th>\n",
              "      <th>label</th>\n",
              "      <th>text_</th>\n",
              "      <th>target</th>\n",
              "    </tr>\n",
              "  </thead>\n",
              "  <tbody>\n",
              "    <tr>\n",
              "      <th>33360</th>\n",
              "      <td>Toys_and_Games_5</td>\n",
              "      <td>4.0</td>\n",
              "      <td>CG</td>\n",
              "      <td>Good Value, chuggington trains can go on the t...</td>\n",
              "      <td>0</td>\n",
              "    </tr>\n",
              "    <tr>\n",
              "      <th>9704</th>\n",
              "      <td>Electronics_5</td>\n",
              "      <td>4.0</td>\n",
              "      <td>CG</td>\n",
              "      <td>Works great!  Transfers photos and video to th...</td>\n",
              "      <td>0</td>\n",
              "    </tr>\n",
              "    <tr>\n",
              "      <th>19128</th>\n",
              "      <td>Tools_and_Home_Improvement_5</td>\n",
              "      <td>5.0</td>\n",
              "      <td>CG</td>\n",
              "      <td>Love this seat... Never knew what to expect.  ...</td>\n",
              "      <td>0</td>\n",
              "    </tr>\n",
              "    <tr>\n",
              "      <th>24624</th>\n",
              "      <td>Kindle_Store_5</td>\n",
              "      <td>5.0</td>\n",
              "      <td>CG</td>\n",
              "      <td>this is a story about a boy and girl who are s...</td>\n",
              "      <td>0</td>\n",
              "    </tr>\n",
              "    <tr>\n",
              "      <th>22680</th>\n",
              "      <td>Pet_Supplies_5</td>\n",
              "      <td>4.0</td>\n",
              "      <td>CG</td>\n",
              "      <td>I have a American pitbull and an Australian sh...</td>\n",
              "      <td>0</td>\n",
              "    </tr>\n",
              "  </tbody>\n",
              "</table>\n",
              "</div>\n",
              "    <div class=\"colab-df-buttons\">\n",
              "\n",
              "  <div class=\"colab-df-container\">\n",
              "    <button class=\"colab-df-convert\" onclick=\"convertToInteractive('df-28ea0a6e-5852-4990-86f5-c469c1b2d36e')\"\n",
              "            title=\"Convert this dataframe to an interactive table.\"\n",
              "            style=\"display:none;\">\n",
              "\n",
              "  <svg xmlns=\"http://www.w3.org/2000/svg\" height=\"24px\" viewBox=\"0 -960 960 960\">\n",
              "    <path d=\"M120-120v-720h720v720H120Zm60-500h600v-160H180v160Zm220 220h160v-160H400v160Zm0 220h160v-160H400v160ZM180-400h160v-160H180v160Zm440 0h160v-160H620v160ZM180-180h160v-160H180v160Zm440 0h160v-160H620v160Z\"/>\n",
              "  </svg>\n",
              "    </button>\n",
              "\n",
              "  <style>\n",
              "    .colab-df-container {\n",
              "      display:flex;\n",
              "      gap: 12px;\n",
              "    }\n",
              "\n",
              "    .colab-df-convert {\n",
              "      background-color: #E8F0FE;\n",
              "      border: none;\n",
              "      border-radius: 50%;\n",
              "      cursor: pointer;\n",
              "      display: none;\n",
              "      fill: #1967D2;\n",
              "      height: 32px;\n",
              "      padding: 0 0 0 0;\n",
              "      width: 32px;\n",
              "    }\n",
              "\n",
              "    .colab-df-convert:hover {\n",
              "      background-color: #E2EBFA;\n",
              "      box-shadow: 0px 1px 2px rgba(60, 64, 67, 0.3), 0px 1px 3px 1px rgba(60, 64, 67, 0.15);\n",
              "      fill: #174EA6;\n",
              "    }\n",
              "\n",
              "    .colab-df-buttons div {\n",
              "      margin-bottom: 4px;\n",
              "    }\n",
              "\n",
              "    [theme=dark] .colab-df-convert {\n",
              "      background-color: #3B4455;\n",
              "      fill: #D2E3FC;\n",
              "    }\n",
              "\n",
              "    [theme=dark] .colab-df-convert:hover {\n",
              "      background-color: #434B5C;\n",
              "      box-shadow: 0px 1px 3px 1px rgba(0, 0, 0, 0.15);\n",
              "      filter: drop-shadow(0px 1px 2px rgba(0, 0, 0, 0.3));\n",
              "      fill: #FFFFFF;\n",
              "    }\n",
              "  </style>\n",
              "\n",
              "    <script>\n",
              "      const buttonEl =\n",
              "        document.querySelector('#df-28ea0a6e-5852-4990-86f5-c469c1b2d36e button.colab-df-convert');\n",
              "      buttonEl.style.display =\n",
              "        google.colab.kernel.accessAllowed ? 'block' : 'none';\n",
              "\n",
              "      async function convertToInteractive(key) {\n",
              "        const element = document.querySelector('#df-28ea0a6e-5852-4990-86f5-c469c1b2d36e');\n",
              "        const dataTable =\n",
              "          await google.colab.kernel.invokeFunction('convertToInteractive',\n",
              "                                                    [key], {});\n",
              "        if (!dataTable) return;\n",
              "\n",
              "        const docLinkHtml = 'Like what you see? Visit the ' +\n",
              "          '<a target=\"_blank\" href=https://colab.research.google.com/notebooks/data_table.ipynb>data table notebook</a>'\n",
              "          + ' to learn more about interactive tables.';\n",
              "        element.innerHTML = '';\n",
              "        dataTable['output_type'] = 'display_data';\n",
              "        await google.colab.output.renderOutput(dataTable, element);\n",
              "        const docLink = document.createElement('div');\n",
              "        docLink.innerHTML = docLinkHtml;\n",
              "        element.appendChild(docLink);\n",
              "      }\n",
              "    </script>\n",
              "  </div>\n",
              "\n",
              "\n",
              "<div id=\"df-f88ac7a3-07fd-4d7e-b47c-18dcadc27bad\">\n",
              "  <button class=\"colab-df-quickchart\" onclick=\"quickchart('df-f88ac7a3-07fd-4d7e-b47c-18dcadc27bad')\"\n",
              "            title=\"Suggest charts.\"\n",
              "            style=\"display:none;\">\n",
              "\n",
              "<svg xmlns=\"http://www.w3.org/2000/svg\" height=\"24px\"viewBox=\"0 0 24 24\"\n",
              "     width=\"24px\">\n",
              "    <g>\n",
              "        <path d=\"M19 3H5c-1.1 0-2 .9-2 2v14c0 1.1.9 2 2 2h14c1.1 0 2-.9 2-2V5c0-1.1-.9-2-2-2zM9 17H7v-7h2v7zm4 0h-2V7h2v10zm4 0h-2v-4h2v4z\"/>\n",
              "    </g>\n",
              "</svg>\n",
              "  </button>\n",
              "\n",
              "<style>\n",
              "  .colab-df-quickchart {\n",
              "    background-color: #E8F0FE;\n",
              "    border: none;\n",
              "    border-radius: 50%;\n",
              "    cursor: pointer;\n",
              "    display: none;\n",
              "    fill: #1967D2;\n",
              "    height: 32px;\n",
              "    padding: 0 0 0 0;\n",
              "    width: 32px;\n",
              "  }\n",
              "\n",
              "  .colab-df-quickchart:hover {\n",
              "    background-color: #E2EBFA;\n",
              "    box-shadow: 0px 1px 2px rgba(60, 64, 67, 0.3), 0px 1px 3px 1px rgba(60, 64, 67, 0.15);\n",
              "    fill: #174EA6;\n",
              "  }\n",
              "\n",
              "  [theme=dark] .colab-df-quickchart {\n",
              "    background-color: #3B4455;\n",
              "    fill: #D2E3FC;\n",
              "  }\n",
              "\n",
              "  [theme=dark] .colab-df-quickchart:hover {\n",
              "    background-color: #434B5C;\n",
              "    box-shadow: 0px 1px 3px 1px rgba(0, 0, 0, 0.15);\n",
              "    filter: drop-shadow(0px 1px 2px rgba(0, 0, 0, 0.3));\n",
              "    fill: #FFFFFF;\n",
              "  }\n",
              "</style>\n",
              "\n",
              "  <script>\n",
              "    async function quickchart(key) {\n",
              "      const charts = await google.colab.kernel.invokeFunction(\n",
              "          'suggestCharts', [key], {});\n",
              "    }\n",
              "    (() => {\n",
              "      let quickchartButtonEl =\n",
              "        document.querySelector('#df-f88ac7a3-07fd-4d7e-b47c-18dcadc27bad button');\n",
              "      quickchartButtonEl.style.display =\n",
              "        google.colab.kernel.accessAllowed ? 'block' : 'none';\n",
              "    })();\n",
              "  </script>\n",
              "</div>\n",
              "    </div>\n",
              "  </div>\n"
            ]
          },
          "metadata": {},
          "execution_count": 186
        }
      ],
      "source": [
        "test_dataset_raw_50.head()"
      ]
    },
    {
      "cell_type": "code",
      "execution_count": 187,
      "id": "xuzhd-X1ifIo",
      "metadata": {
        "id": "xuzhd-X1ifIo"
      },
      "outputs": [],
      "source": [
        "test_dataset_raw_1 = test_dataset_raw[test_dataset_raw['target']==1]"
      ]
    },
    {
      "cell_type": "code",
      "execution_count": 188,
      "id": "k-VlkfWtifNX",
      "metadata": {
        "id": "k-VlkfWtifNX"
      },
      "outputs": [],
      "source": [
        "random_1_rows = test_dataset_raw_1.sample(n=100)\n",
        "\n",
        "# Build the new DataFrame using the randomly selected rows\n",
        "test_dataset_raw_1_100 = pd.DataFrame(random_1_rows)"
      ]
    },
    {
      "cell_type": "code",
      "execution_count": 189,
      "id": "Iwwpp_IyifRY",
      "metadata": {
        "colab": {
          "base_uri": "https://localhost:8080/"
        },
        "id": "Iwwpp_IyifRY",
        "outputId": "470ebe32-f2e3-4a87-a0f7-0eac38593e0a"
      },
      "outputs": [
        {
          "output_type": "execute_result",
          "data": {
            "text/plain": [
              "(100, 5)"
            ]
          },
          "metadata": {},
          "execution_count": 189
        }
      ],
      "source": [
        "test_dataset_raw_1_100.shape"
      ]
    },
    {
      "cell_type": "code",
      "execution_count": 190,
      "id": "kzKmcqHStTnd",
      "metadata": {
        "id": "kzKmcqHStTnd"
      },
      "outputs": [],
      "source": [
        "merged_df = pd.concat([test_dataset_raw_50, test_dataset_raw_1_100], ignore_index=True)\n",
        "\n",
        "# Shuffle the index\n",
        "test_150_df = merged_df.sample(frac=1).reset_index(drop=True)"
      ]
    },
    {
      "cell_type": "code",
      "execution_count": 191,
      "id": "6xNQ5K9OtUFk",
      "metadata": {
        "colab": {
          "base_uri": "https://localhost:8080/",
          "height": 771
        },
        "id": "6xNQ5K9OtUFk",
        "outputId": "ea881bda-0e84-48ce-b372-d5929eca56f8"
      },
      "outputs": [
        {
          "output_type": "execute_result",
          "data": {
            "text/plain": [
              "                         category  rating label  \\\n",
              "0    Tools_and_Home_Improvement_5     5.0    OR   \n",
              "1                  Kindle_Store_5     5.0    CG   \n",
              "2              Home_and_Kitchen_5     3.0    CG   \n",
              "3                         Books_5     4.0    CG   \n",
              "4                  Pet_Supplies_5     4.0    OR   \n",
              "..                            ...     ...   ...   \n",
              "145                 Electronics_5     5.0    OR   \n",
              "146              Toys_and_Games_5     5.0    OR   \n",
              "147         Sports_and_Outdoors_5     5.0    CG   \n",
              "148  Clothing_Shoes_and_Jewelry_5     5.0    OR   \n",
              "149  Clothing_Shoes_and_Jewelry_5     5.0    OR   \n",
              "\n",
              "                                                 text_  target  \n",
              "0    Great light! It's bright and light weight.  I ...       1  \n",
              "1    This book was a great read. The characters wer...       0  \n",
              "2    Pro it seems comfortable. Cons; first, it does...       0  \n",
              "3    Wow.  After a somewhat brief break, the book i...       0  \n",
              "4    I have to put the disclaimer out there that we...       1  \n",
              "..                                                 ...     ...  \n",
              "145  i love this case it has a nice black finish an...       1  \n",
              "146  Adorable! Not too big and sets up easily. My g...       1  \n",
              "147  Great camping cups/pot. Easy to assemble and t...       0  \n",
              "148  My oldest son is a bit sarcastic, He loves thi...       1  \n",
              "149  Needed a pair of jeans as I've put on some wei...       1  \n",
              "\n",
              "[150 rows x 5 columns]"
            ],
            "text/html": [
              "\n",
              "  <div id=\"df-1d01f3e8-b4d9-4266-8f4b-a86cc458674b\" class=\"colab-df-container\">\n",
              "    <div>\n",
              "<style scoped>\n",
              "    .dataframe tbody tr th:only-of-type {\n",
              "        vertical-align: middle;\n",
              "    }\n",
              "\n",
              "    .dataframe tbody tr th {\n",
              "        vertical-align: top;\n",
              "    }\n",
              "\n",
              "    .dataframe thead th {\n",
              "        text-align: right;\n",
              "    }\n",
              "</style>\n",
              "<table border=\"1\" class=\"dataframe\">\n",
              "  <thead>\n",
              "    <tr style=\"text-align: right;\">\n",
              "      <th></th>\n",
              "      <th>category</th>\n",
              "      <th>rating</th>\n",
              "      <th>label</th>\n",
              "      <th>text_</th>\n",
              "      <th>target</th>\n",
              "    </tr>\n",
              "  </thead>\n",
              "  <tbody>\n",
              "    <tr>\n",
              "      <th>0</th>\n",
              "      <td>Tools_and_Home_Improvement_5</td>\n",
              "      <td>5.0</td>\n",
              "      <td>OR</td>\n",
              "      <td>Great light! It's bright and light weight.  I ...</td>\n",
              "      <td>1</td>\n",
              "    </tr>\n",
              "    <tr>\n",
              "      <th>1</th>\n",
              "      <td>Kindle_Store_5</td>\n",
              "      <td>5.0</td>\n",
              "      <td>CG</td>\n",
              "      <td>This book was a great read. The characters wer...</td>\n",
              "      <td>0</td>\n",
              "    </tr>\n",
              "    <tr>\n",
              "      <th>2</th>\n",
              "      <td>Home_and_Kitchen_5</td>\n",
              "      <td>3.0</td>\n",
              "      <td>CG</td>\n",
              "      <td>Pro it seems comfortable. Cons; first, it does...</td>\n",
              "      <td>0</td>\n",
              "    </tr>\n",
              "    <tr>\n",
              "      <th>3</th>\n",
              "      <td>Books_5</td>\n",
              "      <td>4.0</td>\n",
              "      <td>CG</td>\n",
              "      <td>Wow.  After a somewhat brief break, the book i...</td>\n",
              "      <td>0</td>\n",
              "    </tr>\n",
              "    <tr>\n",
              "      <th>4</th>\n",
              "      <td>Pet_Supplies_5</td>\n",
              "      <td>4.0</td>\n",
              "      <td>OR</td>\n",
              "      <td>I have to put the disclaimer out there that we...</td>\n",
              "      <td>1</td>\n",
              "    </tr>\n",
              "    <tr>\n",
              "      <th>...</th>\n",
              "      <td>...</td>\n",
              "      <td>...</td>\n",
              "      <td>...</td>\n",
              "      <td>...</td>\n",
              "      <td>...</td>\n",
              "    </tr>\n",
              "    <tr>\n",
              "      <th>145</th>\n",
              "      <td>Electronics_5</td>\n",
              "      <td>5.0</td>\n",
              "      <td>OR</td>\n",
              "      <td>i love this case it has a nice black finish an...</td>\n",
              "      <td>1</td>\n",
              "    </tr>\n",
              "    <tr>\n",
              "      <th>146</th>\n",
              "      <td>Toys_and_Games_5</td>\n",
              "      <td>5.0</td>\n",
              "      <td>OR</td>\n",
              "      <td>Adorable! Not too big and sets up easily. My g...</td>\n",
              "      <td>1</td>\n",
              "    </tr>\n",
              "    <tr>\n",
              "      <th>147</th>\n",
              "      <td>Sports_and_Outdoors_5</td>\n",
              "      <td>5.0</td>\n",
              "      <td>CG</td>\n",
              "      <td>Great camping cups/pot. Easy to assemble and t...</td>\n",
              "      <td>0</td>\n",
              "    </tr>\n",
              "    <tr>\n",
              "      <th>148</th>\n",
              "      <td>Clothing_Shoes_and_Jewelry_5</td>\n",
              "      <td>5.0</td>\n",
              "      <td>OR</td>\n",
              "      <td>My oldest son is a bit sarcastic, He loves thi...</td>\n",
              "      <td>1</td>\n",
              "    </tr>\n",
              "    <tr>\n",
              "      <th>149</th>\n",
              "      <td>Clothing_Shoes_and_Jewelry_5</td>\n",
              "      <td>5.0</td>\n",
              "      <td>OR</td>\n",
              "      <td>Needed a pair of jeans as I've put on some wei...</td>\n",
              "      <td>1</td>\n",
              "    </tr>\n",
              "  </tbody>\n",
              "</table>\n",
              "<p>150 rows × 5 columns</p>\n",
              "</div>\n",
              "    <div class=\"colab-df-buttons\">\n",
              "\n",
              "  <div class=\"colab-df-container\">\n",
              "    <button class=\"colab-df-convert\" onclick=\"convertToInteractive('df-1d01f3e8-b4d9-4266-8f4b-a86cc458674b')\"\n",
              "            title=\"Convert this dataframe to an interactive table.\"\n",
              "            style=\"display:none;\">\n",
              "\n",
              "  <svg xmlns=\"http://www.w3.org/2000/svg\" height=\"24px\" viewBox=\"0 -960 960 960\">\n",
              "    <path d=\"M120-120v-720h720v720H120Zm60-500h600v-160H180v160Zm220 220h160v-160H400v160Zm0 220h160v-160H400v160ZM180-400h160v-160H180v160Zm440 0h160v-160H620v160ZM180-180h160v-160H180v160Zm440 0h160v-160H620v160Z\"/>\n",
              "  </svg>\n",
              "    </button>\n",
              "\n",
              "  <style>\n",
              "    .colab-df-container {\n",
              "      display:flex;\n",
              "      gap: 12px;\n",
              "    }\n",
              "\n",
              "    .colab-df-convert {\n",
              "      background-color: #E8F0FE;\n",
              "      border: none;\n",
              "      border-radius: 50%;\n",
              "      cursor: pointer;\n",
              "      display: none;\n",
              "      fill: #1967D2;\n",
              "      height: 32px;\n",
              "      padding: 0 0 0 0;\n",
              "      width: 32px;\n",
              "    }\n",
              "\n",
              "    .colab-df-convert:hover {\n",
              "      background-color: #E2EBFA;\n",
              "      box-shadow: 0px 1px 2px rgba(60, 64, 67, 0.3), 0px 1px 3px 1px rgba(60, 64, 67, 0.15);\n",
              "      fill: #174EA6;\n",
              "    }\n",
              "\n",
              "    .colab-df-buttons div {\n",
              "      margin-bottom: 4px;\n",
              "    }\n",
              "\n",
              "    [theme=dark] .colab-df-convert {\n",
              "      background-color: #3B4455;\n",
              "      fill: #D2E3FC;\n",
              "    }\n",
              "\n",
              "    [theme=dark] .colab-df-convert:hover {\n",
              "      background-color: #434B5C;\n",
              "      box-shadow: 0px 1px 3px 1px rgba(0, 0, 0, 0.15);\n",
              "      filter: drop-shadow(0px 1px 2px rgba(0, 0, 0, 0.3));\n",
              "      fill: #FFFFFF;\n",
              "    }\n",
              "  </style>\n",
              "\n",
              "    <script>\n",
              "      const buttonEl =\n",
              "        document.querySelector('#df-1d01f3e8-b4d9-4266-8f4b-a86cc458674b button.colab-df-convert');\n",
              "      buttonEl.style.display =\n",
              "        google.colab.kernel.accessAllowed ? 'block' : 'none';\n",
              "\n",
              "      async function convertToInteractive(key) {\n",
              "        const element = document.querySelector('#df-1d01f3e8-b4d9-4266-8f4b-a86cc458674b');\n",
              "        const dataTable =\n",
              "          await google.colab.kernel.invokeFunction('convertToInteractive',\n",
              "                                                    [key], {});\n",
              "        if (!dataTable) return;\n",
              "\n",
              "        const docLinkHtml = 'Like what you see? Visit the ' +\n",
              "          '<a target=\"_blank\" href=https://colab.research.google.com/notebooks/data_table.ipynb>data table notebook</a>'\n",
              "          + ' to learn more about interactive tables.';\n",
              "        element.innerHTML = '';\n",
              "        dataTable['output_type'] = 'display_data';\n",
              "        await google.colab.output.renderOutput(dataTable, element);\n",
              "        const docLink = document.createElement('div');\n",
              "        docLink.innerHTML = docLinkHtml;\n",
              "        element.appendChild(docLink);\n",
              "      }\n",
              "    </script>\n",
              "  </div>\n",
              "\n",
              "\n",
              "<div id=\"df-6f4a43a9-595c-490b-a0fd-a44fb5655222\">\n",
              "  <button class=\"colab-df-quickchart\" onclick=\"quickchart('df-6f4a43a9-595c-490b-a0fd-a44fb5655222')\"\n",
              "            title=\"Suggest charts.\"\n",
              "            style=\"display:none;\">\n",
              "\n",
              "<svg xmlns=\"http://www.w3.org/2000/svg\" height=\"24px\"viewBox=\"0 0 24 24\"\n",
              "     width=\"24px\">\n",
              "    <g>\n",
              "        <path d=\"M19 3H5c-1.1 0-2 .9-2 2v14c0 1.1.9 2 2 2h14c1.1 0 2-.9 2-2V5c0-1.1-.9-2-2-2zM9 17H7v-7h2v7zm4 0h-2V7h2v10zm4 0h-2v-4h2v4z\"/>\n",
              "    </g>\n",
              "</svg>\n",
              "  </button>\n",
              "\n",
              "<style>\n",
              "  .colab-df-quickchart {\n",
              "    background-color: #E8F0FE;\n",
              "    border: none;\n",
              "    border-radius: 50%;\n",
              "    cursor: pointer;\n",
              "    display: none;\n",
              "    fill: #1967D2;\n",
              "    height: 32px;\n",
              "    padding: 0 0 0 0;\n",
              "    width: 32px;\n",
              "  }\n",
              "\n",
              "  .colab-df-quickchart:hover {\n",
              "    background-color: #E2EBFA;\n",
              "    box-shadow: 0px 1px 2px rgba(60, 64, 67, 0.3), 0px 1px 3px 1px rgba(60, 64, 67, 0.15);\n",
              "    fill: #174EA6;\n",
              "  }\n",
              "\n",
              "  [theme=dark] .colab-df-quickchart {\n",
              "    background-color: #3B4455;\n",
              "    fill: #D2E3FC;\n",
              "  }\n",
              "\n",
              "  [theme=dark] .colab-df-quickchart:hover {\n",
              "    background-color: #434B5C;\n",
              "    box-shadow: 0px 1px 3px 1px rgba(0, 0, 0, 0.15);\n",
              "    filter: drop-shadow(0px 1px 2px rgba(0, 0, 0, 0.3));\n",
              "    fill: #FFFFFF;\n",
              "  }\n",
              "</style>\n",
              "\n",
              "  <script>\n",
              "    async function quickchart(key) {\n",
              "      const charts = await google.colab.kernel.invokeFunction(\n",
              "          'suggestCharts', [key], {});\n",
              "    }\n",
              "    (() => {\n",
              "      let quickchartButtonEl =\n",
              "        document.querySelector('#df-6f4a43a9-595c-490b-a0fd-a44fb5655222 button');\n",
              "      quickchartButtonEl.style.display =\n",
              "        google.colab.kernel.accessAllowed ? 'block' : 'none';\n",
              "    })();\n",
              "  </script>\n",
              "</div>\n",
              "    </div>\n",
              "  </div>\n"
            ]
          },
          "metadata": {},
          "execution_count": 191
        }
      ],
      "source": [
        "test_150_df"
      ]
    },
    {
      "cell_type": "code",
      "execution_count": 192,
      "id": "TyhnSXcgtULQ",
      "metadata": {
        "id": "TyhnSXcgtULQ"
      },
      "outputs": [],
      "source": [
        "test_encodings_150 = tokenizer(test_150_df['text_'].tolist(), truncation=True, padding=True, max_length=256)\n",
        "\n",
        "test_dataset_150 = tf.data.Dataset.from_tensor_slices((\n",
        "    dict(test_encodings_150),\n",
        "    test_150_df['target'].values\n",
        "))\n",
        "\n"
      ]
    },
    {
      "cell_type": "code",
      "execution_count": 193,
      "id": "dRVrHOvmtmAO",
      "metadata": {
        "colab": {
          "base_uri": "https://localhost:8080/"
        },
        "id": "dRVrHOvmtmAO",
        "outputId": "7e464764-0a76-4d8f-daad-beae5f19b1d8"
      },
      "outputs": [
        {
          "output_type": "stream",
          "name": "stdout",
          "text": [
            "10/10 [==============================] - 3s 280ms/step\n",
            "              precision    recall  f1-score   support\n",
            "\n",
            "          CG     0.7937    1.0000    0.8850        50\n",
            "          OR     1.0000    0.8700    0.9305       100\n",
            "\n",
            "    accuracy                         0.9133       150\n",
            "   macro avg     0.8968    0.9350    0.9077       150\n",
            "weighted avg     0.9312    0.9133    0.9153       150\n",
            "\n"
          ]
        }
      ],
      "source": [
        "test_dataset_150_batched = test_dataset_150.batch(16)\n",
        "y_pred_raw_150 = model.predict(test_dataset_150_batched)\n",
        "\n",
        "# Convert raw predictions to class predictions\n",
        "y_pred_150 = np.argmax(y_pred_raw_150.logits, axis=1)\n",
        "\n",
        "# Get the actual class labels\n",
        "y_true_150 = []\n",
        "for features, label in test_dataset_150:\n",
        "    y_true_150.append(label.numpy())\n",
        "y_true_150 = np.array(y_true_150)\n",
        "\n",
        "\n",
        "# Generate a classification report\n",
        "report_150 = classification_report(y_true_150, y_pred_150, target_names=[\"CG\", \"OR\"],digits =4)  # replace target_names with your actual class names\n",
        "print(report_150)"
      ]
    },
    {
      "cell_type": "markdown",
      "source": [
        "# Test dataset with 125"
      ],
      "metadata": {
        "id": "AFroXvq4rXit"
      },
      "id": "AFroXvq4rXit"
    },
    {
      "cell_type": "code",
      "source": [],
      "metadata": {
        "id": "Hv2yO-1FrGeK"
      },
      "id": "Hv2yO-1FrGeK",
      "execution_count": null,
      "outputs": []
    },
    {
      "cell_type": "code",
      "source": [
        "random_25_rows_125 = test_dataset_raw_0.sample(n=25)\n",
        "\n",
        "# Build the new DataFrame using the randomly selected rows\n",
        "test_dataset_raw_251 = pd.DataFrame(random_25_rows_125)"
      ],
      "metadata": {
        "id": "jhZZ21d7rHA0"
      },
      "id": "jhZZ21d7rHA0",
      "execution_count": 282,
      "outputs": []
    },
    {
      "cell_type": "code",
      "source": [
        "random_1_rows = test_dataset_raw_1.sample(n=100)\n",
        "\n",
        "# Build the new DataFrame using the randomly selected rows\n",
        "test_dataset_raw_1_100 = pd.DataFrame(random_1_rows)"
      ],
      "metadata": {
        "id": "VkiSJZUtrHGg"
      },
      "id": "VkiSJZUtrHGg",
      "execution_count": 283,
      "outputs": []
    },
    {
      "cell_type": "code",
      "source": [
        "merged_df_1 = pd.concat([test_dataset_raw_251, test_dataset_raw_1_100], ignore_index=True)\n",
        "\n",
        "# Shuffle the index\n",
        "test_1251_df = merged_df_1.sample(frac=1).reset_index(drop=True)"
      ],
      "metadata": {
        "id": "79NbK-H1rHMe"
      },
      "id": "79NbK-H1rHMe",
      "execution_count": 284,
      "outputs": []
    },
    {
      "cell_type": "code",
      "source": [
        "test_encodings_1251 = tokenizer(test_1251_df['text_'].tolist(), truncation=True, padding=True, max_length=256)\n",
        "\n",
        "test_dataset_1251 = tf.data.Dataset.from_tensor_slices((\n",
        "    dict(test_encodings_1251),\n",
        "    test_1251_df['target'].values\n",
        "))\n",
        "\n"
      ],
      "metadata": {
        "id": "Ky08rKN4rHSe"
      },
      "id": "Ky08rKN4rHSe",
      "execution_count": 285,
      "outputs": []
    },
    {
      "cell_type": "code",
      "source": [
        "test_dataset_1251_batched = test_dataset_1251.batch(16)\n",
        "y_pred_raw_1251 = model.predict(test_dataset_1251_batched)\n",
        "\n",
        "# Convert raw predictions to class predictions\n",
        "y_pred_1251 = np.argmax(y_pred_raw_1251.logits, axis=1)\n",
        "\n",
        "# Get the actual class labels\n",
        "y_true_1251 = []\n",
        "for features, label in test_dataset_1251:\n",
        "    y_true_1251.append(label.numpy())\n",
        "y_true_1251 = np.array(y_true_1251)\n",
        "\n",
        "\n",
        "# Generate a classification report\n",
        "report_1251 = classification_report(y_true_1251, y_pred_1251, target_names=[\"CG\", \"OR\"],digits =4)  # replace target_names with your actual class names\n",
        "print(report_1251)"
      ],
      "metadata": {
        "colab": {
          "base_uri": "https://localhost:8080/"
        },
        "id": "JmUIvdWErHYy",
        "outputId": "972c85c0-0cac-4bed-cd3e-233bc76fda6a"
      },
      "id": "JmUIvdWErHYy",
      "execution_count": 286,
      "outputs": [
        {
          "output_type": "stream",
          "name": "stdout",
          "text": [
            "8/8 [==============================] - 2s 268ms/step\n",
            "              precision    recall  f1-score   support\n",
            "\n",
            "          CG     0.7353    1.0000    0.8475        25\n",
            "          OR     1.0000    0.9100    0.9529       100\n",
            "\n",
            "    accuracy                         0.9280       125\n",
            "   macro avg     0.8676    0.9550    0.9002       125\n",
            "weighted avg     0.9471    0.9280    0.9318       125\n",
            "\n"
          ]
        }
      ]
    },
    {
      "cell_type": "markdown",
      "source": [],
      "metadata": {
        "id": "pah1jwOWrWcb"
      },
      "id": "pah1jwOWrWcb"
    },
    {
      "cell_type": "code",
      "source": [],
      "metadata": {
        "id": "AR28Nh00rHeg"
      },
      "id": "AR28Nh00rHeg",
      "execution_count": null,
      "outputs": []
    },
    {
      "cell_type": "code",
      "source": [],
      "metadata": {
        "id": "4eNWy4wXrHkW"
      },
      "id": "4eNWy4wXrHkW",
      "execution_count": null,
      "outputs": []
    },
    {
      "cell_type": "code",
      "source": [],
      "metadata": {
        "id": "7Yr13rfGrHqX"
      },
      "id": "7Yr13rfGrHqX",
      "execution_count": null,
      "outputs": []
    },
    {
      "cell_type": "code",
      "source": [],
      "metadata": {
        "id": "VJTpurW1rH2C"
      },
      "id": "VJTpurW1rH2C",
      "execution_count": null,
      "outputs": []
    },
    {
      "cell_type": "markdown",
      "source": [],
      "metadata": {
        "id": "NKLdKQ25uPNV"
      },
      "id": "NKLdKQ25uPNV"
    },
    {
      "cell_type": "markdown",
      "id": "KzBjYqL6uhVs",
      "metadata": {
        "id": "KzBjYqL6uhVs"
      },
      "source": [
        "# chatgpt 3.5"
      ]
    },
    {
      "cell_type": "code",
      "source": [
        "index_1 = [19080, 37380,  6466,  3934, 33275, 24286, 11892, 36412,  5625,\n",
        "            25570,  8501, 20411, 28867, 12409, 33851, 34246, 39476, 13831,\n",
        "            24371,  9662, 33463,  2954, 36835, 11507, 17802, 28244, 10309,\n",
        "            31786, 26381,  3940, 12791, 21130, 26333, 34131, 28036, 21829,\n",
        "            36002, 32896, 13185,  4173,  6265, 36584, 18300, 36500,  8968,\n",
        "            32790, 26048, 10131, 28084,  6407]"
      ],
      "metadata": {
        "id": "Mpoh0EoLf6Jz"
      },
      "id": "Mpoh0EoLf6Jz",
      "execution_count": 52,
      "outputs": []
    },
    {
      "cell_type": "code",
      "execution_count": 61,
      "id": "fagR18BevYrg",
      "metadata": {
        "id": "fagR18BevYrg"
      },
      "outputs": [],
      "source": [
        "test_dataset_raw_0_50 = test_dataset_raw_0.loc[index_1]"
      ]
    },
    {
      "cell_type": "code",
      "source": [
        "test_dataset_raw_0_50.index"
      ],
      "metadata": {
        "colab": {
          "base_uri": "https://localhost:8080/"
        },
        "id": "2mP76n6rf-US",
        "outputId": "0707d8e4-0403-4aa7-dbd3-428a4fda808f"
      },
      "id": "2mP76n6rf-US",
      "execution_count": 62,
      "outputs": [
        {
          "output_type": "execute_result",
          "data": {
            "text/plain": [
              "Int64Index([19080, 37380,  6466,  3934, 33275, 24286, 11892, 36412,  5625,\n",
              "            25570,  8501, 20411, 28867, 12409, 33851, 34246, 39476, 13831,\n",
              "            24371,  9662, 33463,  2954, 36835, 11507, 17802, 28244, 10309,\n",
              "            31786, 26381,  3940, 12791, 21130, 26333, 34131, 28036, 21829,\n",
              "            36002, 32896, 13185,  4173,  6265, 36584, 18300, 36500,  8968,\n",
              "            32790, 26048, 10131, 28084,  6407],\n",
              "           dtype='int64')"
            ]
          },
          "metadata": {},
          "execution_count": 62
        }
      ]
    },
    {
      "cell_type": "code",
      "execution_count": 63,
      "id": "kaot5Xc3tmi5",
      "metadata": {
        "colab": {
          "base_uri": "https://localhost:8080/",
          "height": 71
        },
        "id": "kaot5Xc3tmi5",
        "outputId": "2ffba137-8ff5-41d9-8359-4d42d6a22e1c"
      },
      "outputs": [
        {
          "output_type": "execute_result",
          "data": {
            "text/plain": [
              "\"I now want these in a larger size. I've also used them for a few hours in a cave. The seams are solid and they have a nice feel to them. I have had no issues with the seams becoming loose.\""
            ],
            "application/vnd.google.colaboratory.intrinsic+json": {
              "type": "string"
            }
          },
          "metadata": {},
          "execution_count": 63
        }
      ],
      "source": [
        "test_dataset_raw_0_50['text_'][6407]"
      ]
    },
    {
      "cell_type": "code",
      "execution_count": 64,
      "id": "ZEPJkLs1uj8V",
      "metadata": {
        "colab": {
          "base_uri": "https://localhost:8080/"
        },
        "id": "ZEPJkLs1uj8V",
        "outputId": "a022f9b5-4738-47aa-8c9f-db2e2c4c81b9"
      },
      "outputs": [
        {
          "output_type": "stream",
          "name": "stderr",
          "text": [
            "<ipython-input-64-b6051550059d>:1: SettingWithCopyWarning: \n",
            "A value is trying to be set on a copy of a slice from a DataFrame\n",
            "\n",
            "See the caveats in the documentation: https://pandas.pydata.org/pandas-docs/stable/user_guide/indexing.html#returning-a-view-versus-a-copy\n",
            "  test_dataset_raw_0_50['text_'][19080] = \"I really admire the Skeletool; it's the first saw I've ever owned, and while it may be a bit pricey, it's definitely worth the investment. The clean cuts it delivers are impressive, and I find myself using it on numerous projects. Recently, I decided to purchase a new one and used it to cut with a saw I've had for about a year now. The Skeletool's build quality is excellent, but it is quite heavy, which can be a bit challenging on my workbench. However, I've still grown fond of it. One minor issue I've encountered is that it doesn't work as effectively when pushing the handle back against the base. Nonetheless, I'm generally satisfied with its performance and reliability.\"\n"
          ]
        }
      ],
      "source": [
        "test_dataset_raw_0_50['text_'][19080] = \"I really admire the Skeletool; it's the first saw I've ever owned, and while it may be a bit pricey, it's definitely worth the investment. The clean cuts it delivers are impressive, and I find myself using it on numerous projects. Recently, I decided to purchase a new one and used it to cut with a saw I've had for about a year now. The Skeletool's build quality is excellent, but it is quite heavy, which can be a bit challenging on my workbench. However, I've still grown fond of it. One minor issue I've encountered is that it doesn't work as effectively when pushing the handle back against the base. Nonetheless, I'm generally satisfied with its performance and reliability.\""
      ]
    },
    {
      "cell_type": "code",
      "execution_count": 65,
      "id": "QeCvONajukat",
      "metadata": {
        "colab": {
          "base_uri": "https://localhost:8080/"
        },
        "id": "QeCvONajukat",
        "outputId": "4094b0b7-5e35-45e3-d02e-5de2fba404f0"
      },
      "outputs": [
        {
          "output_type": "stream",
          "name": "stderr",
          "text": [
            "<ipython-input-65-efaa4ca88644>:1: SettingWithCopyWarning: \n",
            "A value is trying to be set on a copy of a slice from a DataFrame\n",
            "\n",
            "See the caveats in the documentation: https://pandas.pydata.org/pandas-docs/stable/user_guide/indexing.html#returning-a-view-versus-a-copy\n",
            "  test_dataset_raw_0_50['text_'][37380] =\"The belt is crafted with excellent craftsmanship and made from high-quality materials. The only drawback I've noticed is that it comes with a relatively small buckle.\"\n"
          ]
        }
      ],
      "source": [
        "test_dataset_raw_0_50['text_'][37380] =\"The belt is crafted with excellent craftsmanship and made from high-quality materials. The only drawback I've noticed is that it comes with a relatively small buckle.\""
      ]
    },
    {
      "cell_type": "code",
      "execution_count": 66,
      "id": "aU9WvDkaukwh",
      "metadata": {
        "colab": {
          "base_uri": "https://localhost:8080/"
        },
        "id": "aU9WvDkaukwh",
        "outputId": "68fc8ea1-96f5-4c0b-8989-9a061951c020"
      },
      "outputs": [
        {
          "output_type": "stream",
          "name": "stderr",
          "text": [
            "<ipython-input-66-de8f3bb6d6e5>:1: SettingWithCopyWarning: \n",
            "A value is trying to be set on a copy of a slice from a DataFrame\n",
            "\n",
            "See the caveats in the documentation: https://pandas.pydata.org/pandas-docs/stable/user_guide/indexing.html#returning-a-view-versus-a-copy\n",
            "  test_dataset_raw_0_50['text_'][6466] =\"This item is an ideal fit for 18-inch dolls. However, there's a minor issue with a small screw that comes with it, as it tends to be overly tight. Additionally, the clamp that holds the doll may be a bit loose, although this shouldn't pose a problem for the majority of dolls.\"\n"
          ]
        }
      ],
      "source": [
        "test_dataset_raw_0_50['text_'][6466] =\"This item is an ideal fit for 18-inch dolls. However, there's a minor issue with a small screw that comes with it, as it tends to be overly tight. Additionally, the clamp that holds the doll may be a bit loose, although this shouldn't pose a problem for the majority of dolls.\""
      ]
    },
    {
      "cell_type": "code",
      "execution_count": 67,
      "id": "f7uHsymxuk4_",
      "metadata": {
        "colab": {
          "base_uri": "https://localhost:8080/"
        },
        "id": "f7uHsymxuk4_",
        "outputId": "fe8ec758-46cf-4cea-9662-f2a327360c8b"
      },
      "outputs": [
        {
          "output_type": "stream",
          "name": "stderr",
          "text": [
            "<ipython-input-67-b30b2886de5e>:1: SettingWithCopyWarning: \n",
            "A value is trying to be set on a copy of a slice from a DataFrame\n",
            "\n",
            "See the caveats in the documentation: https://pandas.pydata.org/pandas-docs/stable/user_guide/indexing.html#returning-a-view-versus-a-copy\n",
            "  test_dataset_raw_0_50['text_'][3934] = \"I purchased the Martha Stewart pom-pom flower pot, and it fits perfectly in my kitchen, adding a lovely touch to the decor. The top features a durable stainless steel ring with a sturdy ceramic edge, making it a visually appealing piece. Although it might not be the most budget-friendly option, I find it to be a worthwhile addition to my kitchen. I received a free sample of this product at a discounted price in exchange for providing my honest and unbiased review, and I couldn't be happier with the purchase. Having used this product, I can confidently say that it has become an essential item in my kitchen. I'm delighted to have received it at a discount in exchange for my honest and unbiased review, and I genuinely believe it has been a valuable addition to my home\"\n"
          ]
        }
      ],
      "source": [
        "test_dataset_raw_0_50['text_'][3934] = \"I purchased the Martha Stewart pom-pom flower pot, and it fits perfectly in my kitchen, adding a lovely touch to the decor. The top features a durable stainless steel ring with a sturdy ceramic edge, making it a visually appealing piece. Although it might not be the most budget-friendly option, I find it to be a worthwhile addition to my kitchen. I received a free sample of this product at a discounted price in exchange for providing my honest and unbiased review, and I couldn't be happier with the purchase. Having used this product, I can confidently say that it has become an essential item in my kitchen. I'm delighted to have received it at a discount in exchange for my honest and unbiased review, and I genuinely believe it has been a valuable addition to my home\""
      ]
    },
    {
      "cell_type": "code",
      "execution_count": 68,
      "id": "TFA56i6UwThn",
      "metadata": {
        "colab": {
          "base_uri": "https://localhost:8080/"
        },
        "id": "TFA56i6UwThn",
        "outputId": "b605f182-eec9-46df-d503-7143be556ec4"
      },
      "outputs": [
        {
          "output_type": "stream",
          "name": "stderr",
          "text": [
            "<ipython-input-68-19b2cb63559a>:1: SettingWithCopyWarning: \n",
            "A value is trying to be set on a copy of a slice from a DataFrame\n",
            "\n",
            "See the caveats in the documentation: https://pandas.pydata.org/pandas-docs/stable/user_guide/indexing.html#returning-a-view-versus-a-copy\n",
            "  test_dataset_raw_0_50['text_'][33275] = \"I cannot express how much I appreciate this product, and it brings me immense joy to see how much my daughter loves it.\"\n"
          ]
        }
      ],
      "source": [
        "test_dataset_raw_0_50['text_'][33275] = \"I cannot express how much I appreciate this product, and it brings me immense joy to see how much my daughter loves it.\""
      ]
    },
    {
      "cell_type": "code",
      "execution_count": 69,
      "id": "RFyNt0GVtmqn",
      "metadata": {
        "colab": {
          "base_uri": "https://localhost:8080/"
        },
        "id": "RFyNt0GVtmqn",
        "outputId": "729986ac-1e64-4ebc-b108-f22a5bd4b1b3"
      },
      "outputs": [
        {
          "output_type": "stream",
          "name": "stderr",
          "text": [
            "<ipython-input-69-7f3593c100ed>:1: SettingWithCopyWarning: \n",
            "A value is trying to be set on a copy of a slice from a DataFrame\n",
            "\n",
            "See the caveats in the documentation: https://pandas.pydata.org/pandas-docs/stable/user_guide/indexing.html#returning-a-view-versus-a-copy\n",
            "  test_dataset_raw_0_50['text_'][24286] =\"It's just perfect for that special time of year when her sister returns for a new year, and we get a glimpse of their joy and excitement.\"\n"
          ]
        }
      ],
      "source": [
        "test_dataset_raw_0_50['text_'][24286] =\"It's just perfect for that special time of year when her sister returns for a new year, and we get a glimpse of their joy and excitement.\""
      ]
    },
    {
      "cell_type": "code",
      "execution_count": 70,
      "id": "XzGrScNVtmyY",
      "metadata": {
        "colab": {
          "base_uri": "https://localhost:8080/"
        },
        "id": "XzGrScNVtmyY",
        "outputId": "bf627a29-bc65-410f-d511-9ca224129385"
      },
      "outputs": [
        {
          "output_type": "stream",
          "name": "stderr",
          "text": [
            "<ipython-input-70-913db2992c1f>:1: SettingWithCopyWarning: \n",
            "A value is trying to be set on a copy of a slice from a DataFrame\n",
            "\n",
            "See the caveats in the documentation: https://pandas.pydata.org/pandas-docs/stable/user_guide/indexing.html#returning-a-view-versus-a-copy\n",
            "  test_dataset_raw_0_50['text_'][11892] =\"When using the device with my computer running Windows XP and Windows 7, I found that it connected easily without direct computer connection, requiring only a USB cable. However, when attempting to connect it to my Windows 8.1 computer with an old hard drive, I encountered some confusion and had to take a few extra steps to establish a stable connection. Overall, the device worked well with Windows XP and Windows 7, but required additional attention for proper connectivity with the Windows 8.1 computer and old hard drive setup.\"\n"
          ]
        }
      ],
      "source": [
        "test_dataset_raw_0_50['text_'][11892] =\"When using the device with my computer running Windows XP and Windows 7, I found that it connected easily without direct computer connection, requiring only a USB cable. However, when attempting to connect it to my Windows 8.1 computer with an old hard drive, I encountered some confusion and had to take a few extra steps to establish a stable connection. Overall, the device worked well with Windows XP and Windows 7, but required additional attention for proper connectivity with the Windows 8.1 computer and old hard drive setup.\""
      ]
    },
    {
      "cell_type": "code",
      "execution_count": 71,
      "id": "chTURBAytUPm",
      "metadata": {
        "colab": {
          "base_uri": "https://localhost:8080/"
        },
        "id": "chTURBAytUPm",
        "outputId": "47eb5001-17c3-4e8b-d617-c26890301e1b"
      },
      "outputs": [
        {
          "output_type": "stream",
          "name": "stderr",
          "text": [
            "<ipython-input-71-436abdf226fe>:1: SettingWithCopyWarning: \n",
            "A value is trying to be set on a copy of a slice from a DataFrame\n",
            "\n",
            "See the caveats in the documentation: https://pandas.pydata.org/pandas-docs/stable/user_guide/indexing.html#returning-a-view-versus-a-copy\n",
            "  test_dataset_raw_0_50['text_'][36412] =\"My four-year-old son (age 3) absolutely adores these toys, and we also have a smaller version for the baby. He loves the sounds the animals make, and it's a fantastic toy that keeps him entertained. I highly recommend it. It was a gift for my niece, and she loves it too! Getting it as a free item made it even better. The set is the perfect size and looks wonderful. Assembling it is easy, and my son enjoys playing with it. The inclusion of two small pieces, each with a lid, is a nice feature. We gave this as a Christmas gift to my son, and he adores it; it's simply adorable. This train set is fantastic, and our kids enjoy playing with it. We got it for our 6-year-old, and it's a hit. Even our 5-year-old loves it. The train is about 18 tall and weighs approximately 8 lbs, making it suitable for younger children. Furthermore, it's a sturdy and durable toy, perfect for young babies, and the small plastic cup holder is a convenient addition.\"\n"
          ]
        }
      ],
      "source": [
        "test_dataset_raw_0_50['text_'][36412] =\"My four-year-old son (age 3) absolutely adores these toys, and we also have a smaller version for the baby. He loves the sounds the animals make, and it's a fantastic toy that keeps him entertained. I highly recommend it. It was a gift for my niece, and she loves it too! Getting it as a free item made it even better. The set is the perfect size and looks wonderful. Assembling it is easy, and my son enjoys playing with it. The inclusion of two small pieces, each with a lid, is a nice feature. We gave this as a Christmas gift to my son, and he adores it; it's simply adorable. This train set is fantastic, and our kids enjoy playing with it. We got it for our 6-year-old, and it's a hit. Even our 5-year-old loves it. The train is about 18 tall and weighs approximately 8 lbs, making it suitable for younger children. Furthermore, it's a sturdy and durable toy, perfect for young babies, and the small plastic cup holder is a convenient addition.\""
      ]
    },
    {
      "cell_type": "code",
      "execution_count": 72,
      "id": "zR3SfrJqtUT2",
      "metadata": {
        "colab": {
          "base_uri": "https://localhost:8080/"
        },
        "id": "zR3SfrJqtUT2",
        "outputId": "6e93b800-3001-4fcd-df1b-2c12f6db7d01"
      },
      "outputs": [
        {
          "output_type": "stream",
          "name": "stderr",
          "text": [
            "<ipython-input-72-73aeffaf752e>:1: SettingWithCopyWarning: \n",
            "A value is trying to be set on a copy of a slice from a DataFrame\n",
            "\n",
            "See the caveats in the documentation: https://pandas.pydata.org/pandas-docs/stable/user_guide/indexing.html#returning-a-view-versus-a-copy\n",
            "  test_dataset_raw_0_50['text_'][5625]  = \"The perfect powder measure lives up to its name as it functions flawlessly. However, the only issue I encountered was with a small screw that was a bit too tight. Despite that, I'm still using it with great satisfaction.\"\n"
          ]
        }
      ],
      "source": [
        "test_dataset_raw_0_50['text_'][5625]  = \"The perfect powder measure lives up to its name as it functions flawlessly. However, the only issue I encountered was with a small screw that was a bit too tight. Despite that, I'm still using it with great satisfaction.\""
      ]
    },
    {
      "cell_type": "code",
      "execution_count": 73,
      "id": "5XVDqr-HifUX",
      "metadata": {
        "colab": {
          "base_uri": "https://localhost:8080/"
        },
        "id": "5XVDqr-HifUX",
        "outputId": "2aa6d088-13c4-41a7-9d4c-4ed9f53c0d17"
      },
      "outputs": [
        {
          "output_type": "stream",
          "name": "stderr",
          "text": [
            "<ipython-input-73-1ec7b74e365d>:1: SettingWithCopyWarning: \n",
            "A value is trying to be set on a copy of a slice from a DataFrame\n",
            "\n",
            "See the caveats in the documentation: https://pandas.pydata.org/pandas-docs/stable/user_guide/indexing.html#returning-a-view-versus-a-copy\n",
            "  test_dataset_raw_0_50['text_'][25570] = \"I found great pleasure in reading this book as it beautifully combined chemistry and humor in a love story. However, I couldn't help but feel a bit melancholic when the story concluded. That might be the reason why I rated it 4 stars. The author's storytelling had me captivated throughout the entire journey.\"\n"
          ]
        }
      ],
      "source": [
        "test_dataset_raw_0_50['text_'][25570] = \"I found great pleasure in reading this book as it beautifully combined chemistry and humor in a love story. However, I couldn't help but feel a bit melancholic when the story concluded. That might be the reason why I rated it 4 stars. The author's storytelling had me captivated throughout the entire journey.\""
      ]
    },
    {
      "cell_type": "code",
      "execution_count": 74,
      "id": "Wwj3BOKrxeXX",
      "metadata": {
        "colab": {
          "base_uri": "https://localhost:8080/"
        },
        "id": "Wwj3BOKrxeXX",
        "outputId": "004c23e8-f2ef-47ed-b4ac-a441d6a871df"
      },
      "outputs": [
        {
          "output_type": "stream",
          "name": "stderr",
          "text": [
            "<ipython-input-74-3e715dd8f0a9>:1: SettingWithCopyWarning: \n",
            "A value is trying to be set on a copy of a slice from a DataFrame\n",
            "\n",
            "See the caveats in the documentation: https://pandas.pydata.org/pandas-docs/stable/user_guide/indexing.html#returning-a-view-versus-a-copy\n",
            "  test_dataset_raw_0_50['text_'][8501] = \"Two words: heavy-duty! I use it daily with my phone, and it functions exceptionally well.\"\n"
          ]
        }
      ],
      "source": [
        "test_dataset_raw_0_50['text_'][8501] = \"Two words: heavy-duty! I use it daily with my phone, and it functions exceptionally well.\""
      ]
    },
    {
      "cell_type": "code",
      "execution_count": 75,
      "id": "NPRb0xXoxemj",
      "metadata": {
        "colab": {
          "base_uri": "https://localhost:8080/"
        },
        "id": "NPRb0xXoxemj",
        "outputId": "e5a6db2b-64bc-4adc-e89c-e6717cf421bf"
      },
      "outputs": [
        {
          "output_type": "stream",
          "name": "stderr",
          "text": [
            "<ipython-input-75-6dbe9ddfa188>:1: SettingWithCopyWarning: \n",
            "A value is trying to be set on a copy of a slice from a DataFrame\n",
            "\n",
            "See the caveats in the documentation: https://pandas.pydata.org/pandas-docs/stable/user_guide/indexing.html#returning-a-view-versus-a-copy\n",
            "  test_dataset_raw_0_50['text_'][20411] =\"It works wonderfully and has a pleasant scent. In fact, it's the only product I will purchase for my cats!\"\n"
          ]
        }
      ],
      "source": [
        "test_dataset_raw_0_50['text_'][20411] =\"It works wonderfully and has a pleasant scent. In fact, it's the only product I will purchase for my cats!\""
      ]
    },
    {
      "cell_type": "code",
      "execution_count": 76,
      "id": "elk89cLnxex4",
      "metadata": {
        "colab": {
          "base_uri": "https://localhost:8080/"
        },
        "id": "elk89cLnxex4",
        "outputId": "4a30d883-acde-4cea-b9b8-0cb91a354b6c"
      },
      "outputs": [
        {
          "output_type": "stream",
          "name": "stderr",
          "text": [
            "<ipython-input-76-7425deab10b8>:1: SettingWithCopyWarning: \n",
            "A value is trying to be set on a copy of a slice from a DataFrame\n",
            "\n",
            "See the caveats in the documentation: https://pandas.pydata.org/pandas-docs/stable/user_guide/indexing.html#returning-a-view-versus-a-copy\n",
            "  test_dataset_raw_0_50['text_'][28867] = \"The book is highly recommended for anyone looking for a clear and easily understandable format, along with straightforward examples that are easy to follow.\"\n"
          ]
        }
      ],
      "source": [
        "test_dataset_raw_0_50['text_'][28867] = \"The book is highly recommended for anyone looking for a clear and easily understandable format, along with straightforward examples that are easy to follow.\""
      ]
    },
    {
      "cell_type": "code",
      "execution_count": 77,
      "id": "1TZ2l0hhxe8a",
      "metadata": {
        "colab": {
          "base_uri": "https://localhost:8080/"
        },
        "id": "1TZ2l0hhxe8a",
        "outputId": "0440addd-3236-4118-acc7-14b92979384d"
      },
      "outputs": [
        {
          "output_type": "stream",
          "name": "stderr",
          "text": [
            "<ipython-input-77-06b1847c36cc>:1: SettingWithCopyWarning: \n",
            "A value is trying to be set on a copy of a slice from a DataFrame\n",
            "\n",
            "See the caveats in the documentation: https://pandas.pydata.org/pandas-docs/stable/user_guide/indexing.html#returning-a-view-versus-a-copy\n",
            "  test_dataset_raw_0_50['text_'][12409] =\"This does remind me of 'Colusses: The World's Towards the Div', but I'm not sure what you want me to rephrase. Could you please provide more context or clarify your request?\"\n"
          ]
        }
      ],
      "source": [
        "test_dataset_raw_0_50['text_'][12409] =\"This does remind me of 'Colusses: The World's Towards the Div', but I'm not sure what you want me to rephrase. Could you please provide more context or clarify your request?\""
      ]
    },
    {
      "cell_type": "code",
      "execution_count": 78,
      "id": "Q8wgLHOuxfFc",
      "metadata": {
        "colab": {
          "base_uri": "https://localhost:8080/"
        },
        "id": "Q8wgLHOuxfFc",
        "outputId": "d2e3d45f-35b1-44b0-ae3e-adb213425219"
      },
      "outputs": [
        {
          "output_type": "stream",
          "name": "stderr",
          "text": [
            "<ipython-input-78-0acde49c2d75>:1: SettingWithCopyWarning: \n",
            "A value is trying to be set on a copy of a slice from a DataFrame\n",
            "\n",
            "See the caveats in the documentation: https://pandas.pydata.org/pandas-docs/stable/user_guide/indexing.html#returning-a-view-versus-a-copy\n",
            "  test_dataset_raw_0_50['text_'][33851] =\"This doll is absolutely adorable! She is incredibly soft and cuddly, and the baby's touch is gentle and tender.\"\n"
          ]
        }
      ],
      "source": [
        "test_dataset_raw_0_50['text_'][33851] =\"This doll is absolutely adorable! She is incredibly soft and cuddly, and the baby's touch is gentle and tender.\""
      ]
    },
    {
      "cell_type": "code",
      "execution_count": 79,
      "id": "50lIsoE4xfOm",
      "metadata": {
        "colab": {
          "base_uri": "https://localhost:8080/"
        },
        "id": "50lIsoE4xfOm",
        "outputId": "def0b065-1c18-409e-b246-a66a5e9c1d1b"
      },
      "outputs": [
        {
          "output_type": "stream",
          "name": "stderr",
          "text": [
            "<ipython-input-79-92f7350a2ecf>:1: SettingWithCopyWarning: \n",
            "A value is trying to be set on a copy of a slice from a DataFrame\n",
            "\n",
            "See the caveats in the documentation: https://pandas.pydata.org/pandas-docs/stable/user_guide/indexing.html#returning-a-view-versus-a-copy\n",
            "  test_dataset_raw_0_50['text_'][34246] =\"I wish this item could have been slightly more expensive. While I'm unsure if I would have bought it from Amazon, I am contemplating my decision.\"\n"
          ]
        }
      ],
      "source": [
        "test_dataset_raw_0_50['text_'][34246] =\"I wish this item could have been slightly more expensive. While I'm unsure if I would have bought it from Amazon, I am contemplating my decision.\""
      ]
    },
    {
      "cell_type": "code",
      "execution_count": 80,
      "id": "PFqwV5mdxfkP",
      "metadata": {
        "colab": {
          "base_uri": "https://localhost:8080/"
        },
        "id": "PFqwV5mdxfkP",
        "outputId": "1519dbf9-e320-472d-cf1e-3e5545a92f12"
      },
      "outputs": [
        {
          "output_type": "stream",
          "name": "stderr",
          "text": [
            "<ipython-input-80-9047959fb319>:1: SettingWithCopyWarning: \n",
            "A value is trying to be set on a copy of a slice from a DataFrame\n",
            "\n",
            "See the caveats in the documentation: https://pandas.pydata.org/pandas-docs/stable/user_guide/indexing.html#returning-a-view-versus-a-copy\n",
            "  test_dataset_raw_0_50['text_'][39476] = \"These shoes are incredibly fashionable and stylish, making anyone wearing them look well-dressed. I purchased them for my son, and he absolutely loves them! He wears them frequently, and they provide great comfort. However, it's important to note that these are not waterproof boots, so their longevity might be limited in certain conditions. Overall, they are a fantastic shoe choice.\"\n"
          ]
        }
      ],
      "source": [
        "test_dataset_raw_0_50['text_'][39476] = \"These shoes are incredibly fashionable and stylish, making anyone wearing them look well-dressed. I purchased them for my son, and he absolutely loves them! He wears them frequently, and they provide great comfort. However, it's important to note that these are not waterproof boots, so their longevity might be limited in certain conditions. Overall, they are a fantastic shoe choice.\""
      ]
    },
    {
      "cell_type": "code",
      "execution_count": 81,
      "id": "j9-lmnW5y2dH",
      "metadata": {
        "colab": {
          "base_uri": "https://localhost:8080/"
        },
        "id": "j9-lmnW5y2dH",
        "outputId": "753df8cf-c4c2-422e-f2ba-130528872e66"
      },
      "outputs": [
        {
          "output_type": "stream",
          "name": "stderr",
          "text": [
            "<ipython-input-81-2caa9230c099>:1: SettingWithCopyWarning: \n",
            "A value is trying to be set on a copy of a slice from a DataFrame\n",
            "\n",
            "See the caveats in the documentation: https://pandas.pydata.org/pandas-docs/stable/user_guide/indexing.html#returning-a-view-versus-a-copy\n",
            "  test_dataset_raw_0_50['text_'][13831] = \"This film is truly remarkable as a Christian movie. The storytelling is well-crafted, and the acting is of excellent quality. I highly recommend this film to anyone who appreciates a compelling Christian story. As a movie enthusiast, I must say this one stands out as a great choice.\"\n"
          ]
        }
      ],
      "source": [
        "test_dataset_raw_0_50['text_'][13831] = \"This film is truly remarkable as a Christian movie. The storytelling is well-crafted, and the acting is of excellent quality. I highly recommend this film to anyone who appreciates a compelling Christian story. As a movie enthusiast, I must say this one stands out as a great choice.\""
      ]
    },
    {
      "cell_type": "code",
      "execution_count": 82,
      "id": "Jhwunubqy2lb",
      "metadata": {
        "colab": {
          "base_uri": "https://localhost:8080/"
        },
        "id": "Jhwunubqy2lb",
        "outputId": "20a159cd-c127-4584-f82d-44c8fca340b7"
      },
      "outputs": [
        {
          "output_type": "stream",
          "name": "stderr",
          "text": [
            "<ipython-input-82-436a9663ffe8>:1: SettingWithCopyWarning: \n",
            "A value is trying to be set on a copy of a slice from a DataFrame\n",
            "\n",
            "See the caveats in the documentation: https://pandas.pydata.org/pandas-docs/stable/user_guide/indexing.html#returning-a-view-versus-a-copy\n",
            "  test_dataset_raw_0_50['text_'][24371] = \"I derive immense pleasure from reading this series. The characters are skillfully developed, and the narrative is masterfully told. The story is truly captivating and engrossing\"\n"
          ]
        }
      ],
      "source": [
        "test_dataset_raw_0_50['text_'][24371] = \"I derive immense pleasure from reading this series. The characters are skillfully developed, and the narrative is masterfully told. The story is truly captivating and engrossing\""
      ]
    },
    {
      "cell_type": "code",
      "execution_count": 83,
      "id": "hLgFRVfvy2rV",
      "metadata": {
        "colab": {
          "base_uri": "https://localhost:8080/"
        },
        "id": "hLgFRVfvy2rV",
        "outputId": "f7d61867-1ab2-48d0-cd34-44f9a0d68589"
      },
      "outputs": [
        {
          "output_type": "stream",
          "name": "stderr",
          "text": [
            "<ipython-input-83-322e19cebd58>:1: SettingWithCopyWarning: \n",
            "A value is trying to be set on a copy of a slice from a DataFrame\n",
            "\n",
            "See the caveats in the documentation: https://pandas.pydata.org/pandas-docs/stable/user_guide/indexing.html#returning-a-view-versus-a-copy\n",
            "  test_dataset_raw_0_50['text_'][9662] =\"This is another outstanding addition to an already impressive collection, offering excellent value for the money spent. While I may not be an expert on music, as a passionate music lover, I can confidently say that this is a remarkable choice.\"\n"
          ]
        }
      ],
      "source": [
        "test_dataset_raw_0_50['text_'][9662] =\"This is another outstanding addition to an already impressive collection, offering excellent value for the money spent. While I may not be an expert on music, as a passionate music lover, I can confidently say that this is a remarkable choice.\""
      ]
    },
    {
      "cell_type": "code",
      "execution_count": 84,
      "id": "q9ZGzDogy2wK",
      "metadata": {
        "colab": {
          "base_uri": "https://localhost:8080/"
        },
        "id": "q9ZGzDogy2wK",
        "outputId": "e9dd31dc-890a-4346-dc25-c5d98c2d02c6"
      },
      "outputs": [
        {
          "output_type": "stream",
          "name": "stderr",
          "text": [
            "<ipython-input-84-da9e8f503cdc>:1: SettingWithCopyWarning: \n",
            "A value is trying to be set on a copy of a slice from a DataFrame\n",
            "\n",
            "See the caveats in the documentation: https://pandas.pydata.org/pandas-docs/stable/user_guide/indexing.html#returning-a-view-versus-a-copy\n",
            "  test_dataset_raw_0_50['text_'][33463] = \"Our 3-year-old daughter thoroughly enjoys playing with this toy, especially in her playroom. It's a delightful addition to her playtime.\"\n"
          ]
        }
      ],
      "source": [
        "test_dataset_raw_0_50['text_'][33463] = \"Our 3-year-old daughter thoroughly enjoys playing with this toy, especially in her playroom. It's a delightful addition to her playtime.\""
      ]
    },
    {
      "cell_type": "code",
      "execution_count": 85,
      "id": "_ZPvgd-oy208",
      "metadata": {
        "colab": {
          "base_uri": "https://localhost:8080/"
        },
        "id": "_ZPvgd-oy208",
        "outputId": "42fc04de-cdd6-4fe1-bfa4-012b53579840"
      },
      "outputs": [
        {
          "output_type": "stream",
          "name": "stderr",
          "text": [
            "<ipython-input-85-11b359630d46>:1: SettingWithCopyWarning: \n",
            "A value is trying to be set on a copy of a slice from a DataFrame\n",
            "\n",
            "See the caveats in the documentation: https://pandas.pydata.org/pandas-docs/stable/user_guide/indexing.html#returning-a-view-versus-a-copy\n",
            "  test_dataset_raw_0_50['text_'][2954] = \"This product is generously sized, providing a comfortable and pleasant feel in my hand. I purchased it as a gift for a friend who turned out to be a big fan of it. She loved it so much that she even sent one to her brother as a Christmas present. The positive reviews mentioning its excellent quality were indeed accurate, and I can vouch for its impressive build.\"\n"
          ]
        }
      ],
      "source": [
        "test_dataset_raw_0_50['text_'][2954] = \"This product is generously sized, providing a comfortable and pleasant feel in my hand. I purchased it as a gift for a friend who turned out to be a big fan of it. She loved it so much that she even sent one to her brother as a Christmas present. The positive reviews mentioning its excellent quality were indeed accurate, and I can vouch for its impressive build.\""
      ]
    },
    {
      "cell_type": "code",
      "execution_count": 86,
      "id": "8rUMVgwTy26K",
      "metadata": {
        "colab": {
          "base_uri": "https://localhost:8080/"
        },
        "id": "8rUMVgwTy26K",
        "outputId": "2f663056-2140-4d26-b162-370cd2aebf28"
      },
      "outputs": [
        {
          "output_type": "stream",
          "name": "stderr",
          "text": [
            "<ipython-input-86-981a18f10eeb>:1: SettingWithCopyWarning: \n",
            "A value is trying to be set on a copy of a slice from a DataFrame\n",
            "\n",
            "See the caveats in the documentation: https://pandas.pydata.org/pandas-docs/stable/user_guide/indexing.html#returning-a-view-versus-a-copy\n",
            "  test_dataset_raw_0_50['text_'][36835] = \"Highly comfortable and pleasantly designed, I wholeheartedly recommend this product. Its quality is superb, and it offers a comfortable fit, even for those with wide feet.\"\n"
          ]
        }
      ],
      "source": [
        "test_dataset_raw_0_50['text_'][36835] = \"Highly comfortable and pleasantly designed, I wholeheartedly recommend this product. Its quality is superb, and it offers a comfortable fit, even for those with wide feet.\""
      ]
    },
    {
      "cell_type": "code",
      "execution_count": 87,
      "id": "Lzkxrpeyy3N3",
      "metadata": {
        "colab": {
          "base_uri": "https://localhost:8080/"
        },
        "id": "Lzkxrpeyy3N3",
        "outputId": "dc6f44f9-f03a-4fbf-ab62-4a6aa871dd5c"
      },
      "outputs": [
        {
          "output_type": "stream",
          "name": "stderr",
          "text": [
            "<ipython-input-87-ce03be20f652>:1: SettingWithCopyWarning: \n",
            "A value is trying to be set on a copy of a slice from a DataFrame\n",
            "\n",
            "See the caveats in the documentation: https://pandas.pydata.org/pandas-docs/stable/user_guide/indexing.html#returning-a-view-versus-a-copy\n",
            "  test_dataset_raw_0_50['text_'][11507] = \"After enduring several months of delays, this product has finally become a reality. I rate it 4 stars only because it's slightly too small for a laptop. The keyboard size is a bit compact, which might not be a major issue for me, but it could be better suited for laptops. Additionally, the keyboard is a bit large and cumbersome to handle. Personally, I prefer having my laptop on my lap or on the couch rather than dealing with a bulky keyboard on my lap with a hard surface. There are some doubts about the keyboard's longevity, as it may be too small for a laptop. However, it does a commendable job of securely holding my Macbook Pro, and I've been using it comfortably for some time now.\"\n"
          ]
        }
      ],
      "source": [
        "test_dataset_raw_0_50['text_'][11507] = \"After enduring several months of delays, this product has finally become a reality. I rate it 4 stars only because it's slightly too small for a laptop. The keyboard size is a bit compact, which might not be a major issue for me, but it could be better suited for laptops. Additionally, the keyboard is a bit large and cumbersome to handle. Personally, I prefer having my laptop on my lap or on the couch rather than dealing with a bulky keyboard on my lap with a hard surface. There are some doubts about the keyboard's longevity, as it may be too small for a laptop. However, it does a commendable job of securely holding my Macbook Pro, and I've been using it comfortably for some time now.\""
      ]
    },
    {
      "cell_type": "code",
      "execution_count": 88,
      "id": "WdqLyyodxftG",
      "metadata": {
        "colab": {
          "base_uri": "https://localhost:8080/"
        },
        "id": "WdqLyyodxftG",
        "outputId": "e2486d22-e0c1-4ff6-a212-b87fa29afac0"
      },
      "outputs": [
        {
          "output_type": "stream",
          "name": "stderr",
          "text": [
            "<ipython-input-88-0425f2da9a42>:1: SettingWithCopyWarning: \n",
            "A value is trying to be set on a copy of a slice from a DataFrame\n",
            "\n",
            "See the caveats in the documentation: https://pandas.pydata.org/pandas-docs/stable/user_guide/indexing.html#returning-a-view-versus-a-copy\n",
            "  test_dataset_raw_0_50['text_'][17802] = \"I've owned this gun for a couple of years, and I couldn't be happier with its performance. Despite its small size, it packs a punch and proves its worth without the need for spending extra money. It's particularly useful for handling small jobs and comes in handy for tasks, especially when on the go or working in a truck.\"\n"
          ]
        }
      ],
      "source": [
        "test_dataset_raw_0_50['text_'][17802] = \"I've owned this gun for a couple of years, and I couldn't be happier with its performance. Despite its small size, it packs a punch and proves its worth without the need for spending extra money. It's particularly useful for handling small jobs and comes in handy for tasks, especially when on the go or working in a truck.\""
      ]
    },
    {
      "cell_type": "code",
      "execution_count": 89,
      "id": "TLPb2ioF0L4m",
      "metadata": {
        "colab": {
          "base_uri": "https://localhost:8080/"
        },
        "id": "TLPb2ioF0L4m",
        "outputId": "122f1776-f377-45a4-c35f-9b6e3daf4dfd"
      },
      "outputs": [
        {
          "output_type": "stream",
          "name": "stderr",
          "text": [
            "<ipython-input-89-9c5a84f9b9ed>:1: SettingWithCopyWarning: \n",
            "A value is trying to be set on a copy of a slice from a DataFrame\n",
            "\n",
            "See the caveats in the documentation: https://pandas.pydata.org/pandas-docs/stable/user_guide/indexing.html#returning-a-view-versus-a-copy\n",
            "  test_dataset_raw_0_50['text_'][28244] = \"I received this book as an Amazon freebie and got an ARC in exchange for an honest review. While the first two books were enjoyable, the rest of the story didn't quite captivate me, especially the second book, which lacked a compelling storyline. The hero and heroine were a bit frustrating, and their characters lacked depth, although the hero was likable and the heroine's growth was interesting. The villain was well-portrayed, but didn't evoke much emotion. The ending was pleasant, and I had hoped for a sequel that didn't materialize. Overall, the book had some enjoyable aspects with twists and turns, making it worth recommending to those who appreciate a good story.\"\n"
          ]
        }
      ],
      "source": [
        "test_dataset_raw_0_50['text_'][28244] = \"I received this book as an Amazon freebie and got an ARC in exchange for an honest review. While the first two books were enjoyable, the rest of the story didn't quite captivate me, especially the second book, which lacked a compelling storyline. The hero and heroine were a bit frustrating, and their characters lacked depth, although the hero was likable and the heroine's growth was interesting. The villain was well-portrayed, but didn't evoke much emotion. The ending was pleasant, and I had hoped for a sequel that didn't materialize. Overall, the book had some enjoyable aspects with twists and turns, making it worth recommending to those who appreciate a good story.\""
      ]
    },
    {
      "cell_type": "code",
      "execution_count": 90,
      "id": "qFpuQxdu0L9g",
      "metadata": {
        "colab": {
          "base_uri": "https://localhost:8080/"
        },
        "id": "qFpuQxdu0L9g",
        "outputId": "9821e093-19cb-49c8-a558-06030eb0f536"
      },
      "outputs": [
        {
          "output_type": "stream",
          "name": "stderr",
          "text": [
            "<ipython-input-90-c356e26ba2e3>:1: SettingWithCopyWarning: \n",
            "A value is trying to be set on a copy of a slice from a DataFrame\n",
            "\n",
            "See the caveats in the documentation: https://pandas.pydata.org/pandas-docs/stable/user_guide/indexing.html#returning-a-view-versus-a-copy\n",
            "  test_dataset_raw_0_50['text_'][10309] =\"The device serves its purpose, but it does have a design flaw. I must admit that it's a bit bulky. If you're looking for a nice and sturdy desktop, then this is the one to get. However, if you prefer a smaller desktop, then this might not be the best choice for you. I purchased this device for...\"\n"
          ]
        }
      ],
      "source": [
        "test_dataset_raw_0_50['text_'][10309] =\"The device serves its purpose, but it does have a design flaw. I must admit that it's a bit bulky. If you're looking for a nice and sturdy desktop, then this is the one to get. However, if you prefer a smaller desktop, then this might not be the best choice for you. I purchased this device for...\""
      ]
    },
    {
      "cell_type": "code",
      "execution_count": 91,
      "id": "fVF_1GT80MB7",
      "metadata": {
        "colab": {
          "base_uri": "https://localhost:8080/"
        },
        "id": "fVF_1GT80MB7",
        "outputId": "12c97767-10f9-410b-c126-e1ae1e3c4919"
      },
      "outputs": [
        {
          "output_type": "stream",
          "name": "stderr",
          "text": [
            "<ipython-input-91-07c98fa1d941>:1: SettingWithCopyWarning: \n",
            "A value is trying to be set on a copy of a slice from a DataFrame\n",
            "\n",
            "See the caveats in the documentation: https://pandas.pydata.org/pandas-docs/stable/user_guide/indexing.html#returning-a-view-versus-a-copy\n",
            "  test_dataset_raw_0_50['text_'][31786] =\"It's unfortunate that this book has been overlooked in history, but dwelling on the past isn't worth my time. However, I must acknowledge that the book is well-written and in good condition. On the brighter side, I absolutely adored this book and couldn't wait to read it, along with its thrilling sequel. It seamlessly continues the series, and I'm eagerly looking forward to what unfolds next. This entire series has been a delightful journey for me over the past month, and each book has been a joy to read.\"\n"
          ]
        }
      ],
      "source": [
        "test_dataset_raw_0_50['text_'][31786] =\"It's unfortunate that this book has been overlooked in history, but dwelling on the past isn't worth my time. However, I must acknowledge that the book is well-written and in good condition. On the brighter side, I absolutely adored this book and couldn't wait to read it, along with its thrilling sequel. It seamlessly continues the series, and I'm eagerly looking forward to what unfolds next. This entire series has been a delightful journey for me over the past month, and each book has been a joy to read.\""
      ]
    },
    {
      "cell_type": "code",
      "execution_count": 92,
      "id": "wMF8mybn0MLU",
      "metadata": {
        "colab": {
          "base_uri": "https://localhost:8080/"
        },
        "id": "wMF8mybn0MLU",
        "outputId": "11d8d90e-17d3-4f43-e3a5-18f67858acd3"
      },
      "outputs": [
        {
          "output_type": "stream",
          "name": "stderr",
          "text": [
            "<ipython-input-92-be9211b3276e>:1: SettingWithCopyWarning: \n",
            "A value is trying to be set on a copy of a slice from a DataFrame\n",
            "\n",
            "See the caveats in the documentation: https://pandas.pydata.org/pandas-docs/stable/user_guide/indexing.html#returning-a-view-versus-a-copy\n",
            "  test_dataset_raw_0_50['text_'][26381] = \"I absolutely adored this book! The emotional love story kept me captivated, and I loved the characters' journey to find their way back together. It's a must-read for all romance enthusiasts. The story was very engaging, and the characters were well-developed, which I truly appreciated.\"\n"
          ]
        }
      ],
      "source": [
        "test_dataset_raw_0_50['text_'][26381] = \"I absolutely adored this book! The emotional love story kept me captivated, and I loved the characters' journey to find their way back together. It's a must-read for all romance enthusiasts. The story was very engaging, and the characters were well-developed, which I truly appreciated.\""
      ]
    },
    {
      "cell_type": "code",
      "execution_count": 93,
      "id": "J3jctCsJ0MSc",
      "metadata": {
        "colab": {
          "base_uri": "https://localhost:8080/"
        },
        "id": "J3jctCsJ0MSc",
        "outputId": "0361684f-8b53-47e5-d49d-6bc352e9b818"
      },
      "outputs": [
        {
          "output_type": "stream",
          "name": "stderr",
          "text": [
            "<ipython-input-93-22d559de4195>:1: SettingWithCopyWarning: \n",
            "A value is trying to be set on a copy of a slice from a DataFrame\n",
            "\n",
            "See the caveats in the documentation: https://pandas.pydata.org/pandas-docs/stable/user_guide/indexing.html#returning-a-view-versus-a-copy\n",
            "  test_dataset_raw_0_50['text_'][3940] =\"I have two Keurig-type vacuum cleaners, and they work perfectly fine. The extra suction on the top is a great feature, and the blades make it easy to clean. I would definitely repurchase this product./The reviews mentioned that it was a great size, but I found it to be smaller than expected, so I had to order another set for my grandson. Nevertheless, I love the color, and they work wonderfully for me. /This blanket is fantastic! It's soft, cozy, and durable. While it's not overly heavy, it does a good job of keeping me comfortable in hot weather. I'll be buying another set for my daughter, who is having trouble sleeping. /I bought these curtains, and they looked pretty cute. They are also great for my son's bed. The colors are exactly as pictured, and the fabric is softer than expected, but I still like it. The vibrant colors are a pleasant surprise. They are a wonderful addition to my bedroom, and I highly recommend them.\"\n"
          ]
        }
      ],
      "source": [
        "test_dataset_raw_0_50['text_'][3940] =\"I have two Keurig-type vacuum cleaners, and they work perfectly fine. The extra suction on the top is a great feature, and the blades make it easy to clean. I would definitely repurchase this product./The reviews mentioned that it was a great size, but I found it to be smaller than expected, so I had to order another set for my grandson. Nevertheless, I love the color, and they work wonderfully for me. /This blanket is fantastic! It's soft, cozy, and durable. While it's not overly heavy, it does a good job of keeping me comfortable in hot weather. I'll be buying another set for my daughter, who is having trouble sleeping. /I bought these curtains, and they looked pretty cute. They are also great for my son's bed. The colors are exactly as pictured, and the fabric is softer than expected, but I still like it. The vibrant colors are a pleasant surprise. They are a wonderful addition to my bedroom, and I highly recommend them.\""
      ]
    },
    {
      "cell_type": "code",
      "execution_count": 94,
      "id": "s09tD2Qa0MZH",
      "metadata": {
        "colab": {
          "base_uri": "https://localhost:8080/"
        },
        "id": "s09tD2Qa0MZH",
        "outputId": "e78de7ad-b1b6-414a-9a40-7eb70f119af4"
      },
      "outputs": [
        {
          "output_type": "stream",
          "name": "stderr",
          "text": [
            "<ipython-input-94-0e687f8424a9>:1: SettingWithCopyWarning: \n",
            "A value is trying to be set on a copy of a slice from a DataFrame\n",
            "\n",
            "See the caveats in the documentation: https://pandas.pydata.org/pandas-docs/stable/user_guide/indexing.html#returning-a-view-versus-a-copy\n",
            "  test_dataset_raw_0_50['text_'][12791] = \"This animated movie was fantastic! Initially, I didn't expect it to be as good as the original, but it pleasantly surprised me with its greatness.\"\n"
          ]
        }
      ],
      "source": [
        "test_dataset_raw_0_50['text_'][12791] = \"This animated movie was fantastic! Initially, I didn't expect it to be as good as the original, but it pleasantly surprised me with its greatness.\""
      ]
    },
    {
      "cell_type": "code",
      "execution_count": 95,
      "id": "iw-DpUCP0MeY",
      "metadata": {
        "colab": {
          "base_uri": "https://localhost:8080/"
        },
        "id": "iw-DpUCP0MeY",
        "outputId": "e9066e7d-584f-44a6-f12e-4930d0fc005f"
      },
      "outputs": [
        {
          "output_type": "stream",
          "name": "stderr",
          "text": [
            "<ipython-input-95-54da43a17500>:1: SettingWithCopyWarning: \n",
            "A value is trying to be set on a copy of a slice from a DataFrame\n",
            "\n",
            "See the caveats in the documentation: https://pandas.pydata.org/pandas-docs/stable/user_guide/indexing.html#returning-a-view-versus-a-copy\n",
            "  test_dataset_raw_0_50['text_'][21130] = \"My cat absolutely loves this toy, and it keeps her entertained for a considerable amount of time. She doesn't chase it, but it still proves to be an excellent value for the price.\"\n"
          ]
        }
      ],
      "source": [
        "test_dataset_raw_0_50['text_'][21130] = \"My cat absolutely loves this toy, and it keeps her entertained for a considerable amount of time. She doesn't chase it, but it still proves to be an excellent value for the price.\""
      ]
    },
    {
      "cell_type": "code",
      "execution_count": 96,
      "id": "cAsLdhCb1iiF",
      "metadata": {
        "colab": {
          "base_uri": "https://localhost:8080/"
        },
        "id": "cAsLdhCb1iiF",
        "outputId": "c0eeece7-78eb-4364-9cf3-ed251372f0a9"
      },
      "outputs": [
        {
          "output_type": "stream",
          "name": "stderr",
          "text": [
            "<ipython-input-96-efde937c0e47>:1: SettingWithCopyWarning: \n",
            "A value is trying to be set on a copy of a slice from a DataFrame\n",
            "\n",
            "See the caveats in the documentation: https://pandas.pydata.org/pandas-docs/stable/user_guide/indexing.html#returning-a-view-versus-a-copy\n",
            "  test_dataset_raw_0_50['text_'][26333] = \"Calling it 'broken' would be an understatement of the thrilling journey this story takes you on. Filled with captivating twists and turns, it keeps you hooked and eager for more. The characters are truly believable, and the fast-paced narrative adds to its appeal. Without a doubt, this book is a must-read, and I highly recommend it. I received this book from a friend, and in all honesty, I absolutely loved it!\"\n"
          ]
        }
      ],
      "source": [
        "test_dataset_raw_0_50['text_'][26333] = \"Calling it 'broken' would be an understatement of the thrilling journey this story takes you on. Filled with captivating twists and turns, it keeps you hooked and eager for more. The characters are truly believable, and the fast-paced narrative adds to its appeal. Without a doubt, this book is a must-read, and I highly recommend it. I received this book from a friend, and in all honesty, I absolutely loved it!\""
      ]
    },
    {
      "cell_type": "code",
      "execution_count": 97,
      "id": "a4-vo1BU1irf",
      "metadata": {
        "colab": {
          "base_uri": "https://localhost:8080/"
        },
        "id": "a4-vo1BU1irf",
        "outputId": "3b9ff3ba-55a7-42ee-e9fb-4bc4fbea899d"
      },
      "outputs": [
        {
          "output_type": "stream",
          "name": "stderr",
          "text": [
            "<ipython-input-97-6cae279b0a14>:1: SettingWithCopyWarning: \n",
            "A value is trying to be set on a copy of a slice from a DataFrame\n",
            "\n",
            "See the caveats in the documentation: https://pandas.pydata.org/pandas-docs/stable/user_guide/indexing.html#returning-a-view-versus-a-copy\n",
            "  test_dataset_raw_0_50['text_'][34131] = \"This deck serves as an excellent starter set, featuring numerous high-quality cards. The variety among the cards is impressive, and the design is well-crafted.\"\n"
          ]
        }
      ],
      "source": [
        "test_dataset_raw_0_50['text_'][34131] = \"This deck serves as an excellent starter set, featuring numerous high-quality cards. The variety among the cards is impressive, and the design is well-crafted.\""
      ]
    },
    {
      "cell_type": "code",
      "execution_count": 98,
      "id": "ULG9pelb1iyW",
      "metadata": {
        "colab": {
          "base_uri": "https://localhost:8080/"
        },
        "id": "ULG9pelb1iyW",
        "outputId": "75d9073e-eb3e-4296-dc9e-c6efcf8f7405"
      },
      "outputs": [
        {
          "output_type": "stream",
          "name": "stderr",
          "text": [
            "<ipython-input-98-37a1efa1aaa9>:1: SettingWithCopyWarning: \n",
            "A value is trying to be set on a copy of a slice from a DataFrame\n",
            "\n",
            "See the caveats in the documentation: https://pandas.pydata.org/pandas-docs/stable/user_guide/indexing.html#returning-a-view-versus-a-copy\n",
            "  test_dataset_raw_0_50['text_'][28036] =\"Slight spoiler alert: Killian is portrayed as the male lead with a troubled past that has made him come across as a bit of a jerk. His desire to avoid involvement with the mercenary organization he was hired to protect was the only thing holding him back from making a decision. He had much to learn about the world and military, and it was a challenging lesson to grasp. Throughout the experience, he underwent significant personal growth, but it was hard to see him as anything other than a jerk.On the other hand, Kylo, a former Marine, is a young woman with a military background. Although she wasn't in a position to tell Killian how to behave, she was committed to protecting him. While she also had much to learn about her family and their opinions, she was determined to do everything in her power to keep him safe and make him happy. At the same time, Kylo felt that there was something about herself that would profoundly change her life for the better. The last thing she wanted was to...\"\n"
          ]
        }
      ],
      "source": [
        "test_dataset_raw_0_50['text_'][28036] =\"Slight spoiler alert: Killian is portrayed as the male lead with a troubled past that has made him come across as a bit of a jerk. His desire to avoid involvement with the mercenary organization he was hired to protect was the only thing holding him back from making a decision. He had much to learn about the world and military, and it was a challenging lesson to grasp. Throughout the experience, he underwent significant personal growth, but it was hard to see him as anything other than a jerk.On the other hand, Kylo, a former Marine, is a young woman with a military background. Although she wasn't in a position to tell Killian how to behave, she was committed to protecting him. While she also had much to learn about her family and their opinions, she was determined to do everything in her power to keep him safe and make him happy. At the same time, Kylo felt that there was something about herself that would profoundly change her life for the better. The last thing she wanted was to...\""
      ]
    },
    {
      "cell_type": "code",
      "execution_count": 99,
      "id": "OMVgDIi81i4F",
      "metadata": {
        "colab": {
          "base_uri": "https://localhost:8080/"
        },
        "id": "OMVgDIi81i4F",
        "outputId": "d6ecc747-ecb5-4ddc-a041-9dd5fa6ddae0"
      },
      "outputs": [
        {
          "output_type": "stream",
          "name": "stderr",
          "text": [
            "<ipython-input-99-fe397863835c>:1: SettingWithCopyWarning: \n",
            "A value is trying to be set on a copy of a slice from a DataFrame\n",
            "\n",
            "See the caveats in the documentation: https://pandas.pydata.org/pandas-docs/stable/user_guide/indexing.html#returning-a-view-versus-a-copy\n",
            "  test_dataset_raw_0_50['text_'][21829] =\"This product is fantastic for taking my two small dogs outside with me. I plan to keep using it for the next couple of months due to its great functionality and the excellent price. It works perfectly, especially since my dog is a chewer, and I find it easy to get her to eat with it.\"\n"
          ]
        }
      ],
      "source": [
        "test_dataset_raw_0_50['text_'][21829] =\"This product is fantastic for taking my two small dogs outside with me. I plan to keep using it for the next couple of months due to its great functionality and the excellent price. It works perfectly, especially since my dog is a chewer, and I find it easy to get her to eat with it.\""
      ]
    },
    {
      "cell_type": "code",
      "execution_count": 100,
      "id": "u9X3pmAR1i8O",
      "metadata": {
        "colab": {
          "base_uri": "https://localhost:8080/"
        },
        "id": "u9X3pmAR1i8O",
        "outputId": "bfea8cbe-b536-4a5a-9388-35a3e5b4a2e2"
      },
      "outputs": [
        {
          "output_type": "stream",
          "name": "stderr",
          "text": [
            "<ipython-input-100-31b7ac0123c6>:1: SettingWithCopyWarning: \n",
            "A value is trying to be set on a copy of a slice from a DataFrame\n",
            "\n",
            "See the caveats in the documentation: https://pandas.pydata.org/pandas-docs/stable/user_guide/indexing.html#returning-a-view-versus-a-copy\n",
            "  test_dataset_raw_0_50['text_'][36002] =\"We bought this camera for my daughter, and she absolutely loves it, especially the bright colors. She plays with it frequently, and it's easy for her to use. The camera has been perfect for her as she enjoys taking pictures of everything she can, including her family's toys and other items. The camera's quality is impressive, and it's very durable and user-friendly. I highly recommend this camera for any child interested in video. It's an excellent choice, and I would recommend it to anyone who is interested.\"\n"
          ]
        }
      ],
      "source": [
        "test_dataset_raw_0_50['text_'][36002] =\"We bought this camera for my daughter, and she absolutely loves it, especially the bright colors. She plays with it frequently, and it's easy for her to use. The camera has been perfect for her as she enjoys taking pictures of everything she can, including her family's toys and other items. The camera's quality is impressive, and it's very durable and user-friendly. I highly recommend this camera for any child interested in video. It's an excellent choice, and I would recommend it to anyone who is interested.\""
      ]
    },
    {
      "cell_type": "code",
      "execution_count": 101,
      "id": "ip_jn-Sy1jAc",
      "metadata": {
        "colab": {
          "base_uri": "https://localhost:8080/"
        },
        "id": "ip_jn-Sy1jAc",
        "outputId": "ad32445a-459f-4312-b95e-c070928a39fc"
      },
      "outputs": [
        {
          "output_type": "stream",
          "name": "stderr",
          "text": [
            "<ipython-input-101-9aaa60778100>:1: SettingWithCopyWarning: \n",
            "A value is trying to be set on a copy of a slice from a DataFrame\n",
            "\n",
            "See the caveats in the documentation: https://pandas.pydata.org/pandas-docs/stable/user_guide/indexing.html#returning-a-view-versus-a-copy\n",
            "  test_dataset_raw_0_50['text_'][32896] =\"This item fits my 20-month-old perfectly and includes all the necessary pieces to make it function.\"\n"
          ]
        }
      ],
      "source": [
        "test_dataset_raw_0_50['text_'][32896] =\"This item fits my 20-month-old perfectly and includes all the necessary pieces to make it function.\""
      ]
    },
    {
      "cell_type": "code",
      "execution_count": 102,
      "id": "9o6KsMIL2x1O",
      "metadata": {
        "colab": {
          "base_uri": "https://localhost:8080/"
        },
        "id": "9o6KsMIL2x1O",
        "outputId": "962fbe0a-4a93-4838-a0bf-e2f084012f60"
      },
      "outputs": [
        {
          "output_type": "stream",
          "name": "stderr",
          "text": [
            "<ipython-input-102-c18ed5cfdc53>:1: SettingWithCopyWarning: \n",
            "A value is trying to be set on a copy of a slice from a DataFrame\n",
            "\n",
            "See the caveats in the documentation: https://pandas.pydata.org/pandas-docs/stable/user_guide/indexing.html#returning-a-view-versus-a-copy\n",
            "  test_dataset_raw_0_50['text_'][13185] =\"I haven't watched the entire movie yet, and I won't be purchasing the Blu-ray. Instead, I had to obtain a copy in some other way.\"\n"
          ]
        }
      ],
      "source": [
        "test_dataset_raw_0_50['text_'][13185] =\"I haven't watched the entire movie yet, and I won't be purchasing the Blu-ray. Instead, I had to obtain a copy in some other way.\""
      ]
    },
    {
      "cell_type": "code",
      "execution_count": 103,
      "id": "r3K9N_O82x6q",
      "metadata": {
        "colab": {
          "base_uri": "https://localhost:8080/"
        },
        "id": "r3K9N_O82x6q",
        "outputId": "0fc84fb0-c7fd-489e-cac2-7fcbef6e474b"
      },
      "outputs": [
        {
          "output_type": "stream",
          "name": "stderr",
          "text": [
            "<ipython-input-103-805f5e6dbdce>:1: SettingWithCopyWarning: \n",
            "A value is trying to be set on a copy of a slice from a DataFrame\n",
            "\n",
            "See the caveats in the documentation: https://pandas.pydata.org/pandas-docs/stable/user_guide/indexing.html#returning-a-view-versus-a-copy\n",
            "  test_dataset_raw_0_50['text_'][4173] =\"I purchased this as a gift for my husband, and he absolutely adores it. He loves the way it...\"\n"
          ]
        }
      ],
      "source": [
        "test_dataset_raw_0_50['text_'][4173] =\"I purchased this as a gift for my husband, and he absolutely adores it. He loves the way it...\""
      ]
    },
    {
      "cell_type": "code",
      "execution_count": 104,
      "id": "bJmFA8Lg2yAr",
      "metadata": {
        "colab": {
          "base_uri": "https://localhost:8080/"
        },
        "id": "bJmFA8Lg2yAr",
        "outputId": "606cb763-8872-4aba-af16-4d75a6dc90be"
      },
      "outputs": [
        {
          "output_type": "stream",
          "name": "stderr",
          "text": [
            "<ipython-input-104-755e6ebbb440>:1: SettingWithCopyWarning: \n",
            "A value is trying to be set on a copy of a slice from a DataFrame\n",
            "\n",
            "See the caveats in the documentation: https://pandas.pydata.org/pandas-docs/stable/user_guide/indexing.html#returning-a-view-versus-a-copy\n",
            "  test_dataset_raw_0_50['text_'][6265] =\"While I typically shoot multiple weapons, I found it a bit challenging to acquire this particular one. However, I managed to get a solid grip on the gun, making it suitable for use with a Ruger 1911.\"\n"
          ]
        }
      ],
      "source": [
        "test_dataset_raw_0_50['text_'][6265] =\"While I typically shoot multiple weapons, I found it a bit challenging to acquire this particular one. However, I managed to get a solid grip on the gun, making it suitable for use with a Ruger 1911.\""
      ]
    },
    {
      "cell_type": "code",
      "execution_count": 105,
      "id": "MDK5EBAU2yGO",
      "metadata": {
        "colab": {
          "base_uri": "https://localhost:8080/"
        },
        "id": "MDK5EBAU2yGO",
        "outputId": "56921537-e61d-4ee0-b729-547998ef7a9d"
      },
      "outputs": [
        {
          "output_type": "stream",
          "name": "stderr",
          "text": [
            "<ipython-input-105-61f64eb8f375>:1: SettingWithCopyWarning: \n",
            "A value is trying to be set on a copy of a slice from a DataFrame\n",
            "\n",
            "See the caveats in the documentation: https://pandas.pydata.org/pandas-docs/stable/user_guide/indexing.html#returning-a-view-versus-a-copy\n",
            "  test_dataset_raw_0_50['text_'][36584] =\"My granddaughter adores it. I purchased boxer briefs for my daughter, and she was thrilled with them.\"\n"
          ]
        }
      ],
      "source": [
        "test_dataset_raw_0_50['text_'][36584] =\"My granddaughter adores it. I purchased boxer briefs for my daughter, and she was thrilled with them.\""
      ]
    },
    {
      "cell_type": "code",
      "execution_count": 106,
      "id": "rVGWpYci2yLn",
      "metadata": {
        "colab": {
          "base_uri": "https://localhost:8080/"
        },
        "id": "rVGWpYci2yLn",
        "outputId": "50787a8f-7a94-491d-9e04-4c4554267eb8"
      },
      "outputs": [
        {
          "output_type": "stream",
          "name": "stderr",
          "text": [
            "<ipython-input-106-a33e0ca4e81a>:1: SettingWithCopyWarning: \n",
            "A value is trying to be set on a copy of a slice from a DataFrame\n",
            "\n",
            "See the caveats in the documentation: https://pandas.pydata.org/pandas-docs/stable/user_guide/indexing.html#returning-a-view-versus-a-copy\n",
            "  test_dataset_raw_0_50['text_'][18300] =\"I'm giving this product 4 stars because it's a cost-effective light that is suitable for various tasks.I previously purchased a similar light from Home Depot that was advertised as a 4-watt light, but it turned out to be a 5-watt light with no sun and a 2-watt dimmer. In contrast, the one I have now is genuinely a 4-watt light.\"\n"
          ]
        }
      ],
      "source": [
        "test_dataset_raw_0_50['text_'][18300] =\"I'm giving this product 4 stars because it's a cost-effective light that is suitable for various tasks.I previously purchased a similar light from Home Depot that was advertised as a 4-watt light, but it turned out to be a 5-watt light with no sun and a 2-watt dimmer. In contrast, the one I have now is genuinely a 4-watt light.\""
      ]
    },
    {
      "cell_type": "code",
      "execution_count": 107,
      "id": "2Y5qjg3S3gF7",
      "metadata": {
        "colab": {
          "base_uri": "https://localhost:8080/"
        },
        "id": "2Y5qjg3S3gF7",
        "outputId": "8d215ac0-1e6a-4471-b281-eb9ef554968f"
      },
      "outputs": [
        {
          "output_type": "stream",
          "name": "stderr",
          "text": [
            "<ipython-input-107-113611e17aff>:1: SettingWithCopyWarning: \n",
            "A value is trying to be set on a copy of a slice from a DataFrame\n",
            "\n",
            "See the caveats in the documentation: https://pandas.pydata.org/pandas-docs/stable/user_guide/indexing.html#returning-a-view-versus-a-copy\n",
            "  test_dataset_raw_0_50['text_'][36500] =\"I've always been a Star Wars fan, but I was pleasantly surprised by how well-made this particular item is. The attention to detail is fantastic, and the paintwork is exquisite. Despite my initial expectation of a smaller figure, I found it to be perfect in size. It's still enjoyable to play with and is a must-have for any Star Wars enthusiast.I bought this as a gift for my son, and he was genuinely interested in it. The toy is very cute, and he loved it. I'm looking forward to getting more items like this for him, knowing it will make him happy. Great product! My granddaughter adores these bath toys, but the kids prefer not to leave them outside for too long. I got them for my 9-year-old daughter on her birthday, and she loves playing with them, although she found the small pieces a bit challenging to handle. My granddaughter loved this doll, even though she's not generally into dolls. She was initially a little apprehensive about the wooden material, but she found the doll to be very cute. However, I felt it was a bit more expensive than expected, and the dress was too small and loose at the back. The dolls are also cheaply made and challenging to put on the doll's back. Despite these shortcomings, it's a fun toy overall.\"\n"
          ]
        }
      ],
      "source": [
        "test_dataset_raw_0_50['text_'][36500] =\"I've always been a Star Wars fan, but I was pleasantly surprised by how well-made this particular item is. The attention to detail is fantastic, and the paintwork is exquisite. Despite my initial expectation of a smaller figure, I found it to be perfect in size. It's still enjoyable to play with and is a must-have for any Star Wars enthusiast.I bought this as a gift for my son, and he was genuinely interested in it. The toy is very cute, and he loved it. I'm looking forward to getting more items like this for him, knowing it will make him happy. Great product! My granddaughter adores these bath toys, but the kids prefer not to leave them outside for too long. I got them for my 9-year-old daughter on her birthday, and she loves playing with them, although she found the small pieces a bit challenging to handle. My granddaughter loved this doll, even though she's not generally into dolls. She was initially a little apprehensive about the wooden material, but she found the doll to be very cute. However, I felt it was a bit more expensive than expected, and the dress was too small and loose at the back. The dolls are also cheaply made and challenging to put on the doll's back. Despite these shortcomings, it's a fun toy overall.\""
      ]
    },
    {
      "cell_type": "code",
      "execution_count": 108,
      "id": "QEVr1pMW3gSo",
      "metadata": {
        "colab": {
          "base_uri": "https://localhost:8080/"
        },
        "id": "QEVr1pMW3gSo",
        "outputId": "7fd25222-c00f-4905-8cfa-308e392e22fb"
      },
      "outputs": [
        {
          "output_type": "stream",
          "name": "stderr",
          "text": [
            "<ipython-input-108-6e0491220eaf>:1: SettingWithCopyWarning: \n",
            "A value is trying to be set on a copy of a slice from a DataFrame\n",
            "\n",
            "See the caveats in the documentation: https://pandas.pydata.org/pandas-docs/stable/user_guide/indexing.html#returning-a-view-versus-a-copy\n",
            "  test_dataset_raw_0_50['text_'][8968] =\"The product worked right away and significantly enhanced home security. The only downside is that it takes some time to get accustomed to using it.\"\n"
          ]
        }
      ],
      "source": [
        "test_dataset_raw_0_50['text_'][8968] =\"The product worked right away and significantly enhanced home security. The only downside is that it takes some time to get accustomed to using it.\""
      ]
    },
    {
      "cell_type": "code",
      "execution_count": 109,
      "id": "QGSn4BdU3gXp",
      "metadata": {
        "colab": {
          "base_uri": "https://localhost:8080/"
        },
        "id": "QGSn4BdU3gXp",
        "outputId": "ce6691e6-5088-4d96-d7bf-5a6bfcaae02c"
      },
      "outputs": [
        {
          "output_type": "stream",
          "name": "stderr",
          "text": [
            "<ipython-input-109-16121b8e7d9e>:1: SettingWithCopyWarning: \n",
            "A value is trying to be set on a copy of a slice from a DataFrame\n",
            "\n",
            "See the caveats in the documentation: https://pandas.pydata.org/pandas-docs/stable/user_guide/indexing.html#returning-a-view-versus-a-copy\n",
            "  test_dataset_raw_0_50['text_'][32790] =\"This product works exceptionally well! The material is thick and durable, and the pieces are sturdy, capable of enduring the wear and tear of... \"\n"
          ]
        }
      ],
      "source": [
        "test_dataset_raw_0_50['text_'][32790] =\"This product works exceptionally well! The material is thick and durable, and the pieces are sturdy, capable of enduring the wear and tear of... \""
      ]
    },
    {
      "cell_type": "code",
      "execution_count": 110,
      "id": "ZUgwyq3k3gb7",
      "metadata": {
        "colab": {
          "base_uri": "https://localhost:8080/"
        },
        "id": "ZUgwyq3k3gb7",
        "outputId": "11489193-21e0-4311-cba9-30059bd60f3e"
      },
      "outputs": [
        {
          "output_type": "stream",
          "name": "stderr",
          "text": [
            "<ipython-input-110-b08172eb1bc9>:1: SettingWithCopyWarning: \n",
            "A value is trying to be set on a copy of a slice from a DataFrame\n",
            "\n",
            "See the caveats in the documentation: https://pandas.pydata.org/pandas-docs/stable/user_guide/indexing.html#returning-a-view-versus-a-copy\n",
            "  test_dataset_raw_0_50['text_'][26048] =\"I thoroughly enjoyed reading this P.J. Parrish book, and it was my first experience with this author's work. I loved it so much that I have already bought her other books, and I'm eagerly looking forward to reading them. I'm very excited about diving into more of her writing.\"\n"
          ]
        }
      ],
      "source": [
        "test_dataset_raw_0_50['text_'][26048] =\"I thoroughly enjoyed reading this P.J. Parrish book, and it was my first experience with this author's work. I loved it so much that I have already bought her other books, and I'm eagerly looking forward to reading them. I'm very excited about diving into more of her writing.\""
      ]
    },
    {
      "cell_type": "code",
      "execution_count": 112,
      "id": "e80whCL73gfM",
      "metadata": {
        "colab": {
          "base_uri": "https://localhost:8080/"
        },
        "id": "e80whCL73gfM",
        "outputId": "550acd78-be24-49ce-8ada-bc2de07acbe2"
      },
      "outputs": [
        {
          "output_type": "stream",
          "name": "stderr",
          "text": [
            "<ipython-input-112-4b50a9810c73>:1: SettingWithCopyWarning: \n",
            "A value is trying to be set on a copy of a slice from a DataFrame\n",
            "\n",
            "See the caveats in the documentation: https://pandas.pydata.org/pandas-docs/stable/user_guide/indexing.html#returning-a-view-versus-a-copy\n",
            "  test_dataset_raw_0_50['text_'][10131] =\"Adding an external HDD to your computer is incredibly easy with this product; all you have to do is plug it in. I had to replace a malfunctioning solid-state drive that wasn't compatible with the other drives I had. If you're considering making a purchase...\"\n"
          ]
        }
      ],
      "source": [
        "test_dataset_raw_0_50['text_'][10131] =\"Adding an external HDD to your computer is incredibly easy with this product; all you have to do is plug it in. I had to replace a malfunctioning solid-state drive that wasn't compatible with the other drives I had. If you're considering making a purchase...\""
      ]
    },
    {
      "cell_type": "code",
      "execution_count": 113,
      "id": "duSrBjVE1jEo",
      "metadata": {
        "colab": {
          "base_uri": "https://localhost:8080/"
        },
        "id": "duSrBjVE1jEo",
        "outputId": "915c47f9-6108-4b53-92cf-478e185bb049"
      },
      "outputs": [
        {
          "output_type": "stream",
          "name": "stderr",
          "text": [
            "<ipython-input-113-ff259b867177>:1: SettingWithCopyWarning: \n",
            "A value is trying to be set on a copy of a slice from a DataFrame\n",
            "\n",
            "See the caveats in the documentation: https://pandas.pydata.org/pandas-docs/stable/user_guide/indexing.html#returning-a-view-versus-a-copy\n",
            "  test_dataset_raw_0_50['text_'][28084] =\"I thoroughly enjoy a good SEAL story, and this book didn't disappoint. The characters are well-developed and believable, and the writing is solid. I finished reading it in just a few days and found the plot to be strong, leading to a satisfying ending. The author also excels in describing the most common type of dog and its characteristics, making the book an enjoyable, quick, and easy read. I read the entire story in one sitting and found it captivating; I'm a fan of Ms. King's writing and look forward to more from her. Overall, it's a great start to a series, and I highly recommend this book, especially to those who appreciate westerns and seek an entertaining, quick read. The characters and plot are well-written, and the humor adds to the enjoyment of the story.\"\n"
          ]
        }
      ],
      "source": [
        "test_dataset_raw_0_50['text_'][28084] =\"I thoroughly enjoy a good SEAL story, and this book didn't disappoint. The characters are well-developed and believable, and the writing is solid. I finished reading it in just a few days and found the plot to be strong, leading to a satisfying ending. The author also excels in describing the most common type of dog and its characteristics, making the book an enjoyable, quick, and easy read. I read the entire story in one sitting and found it captivating; I'm a fan of Ms. King's writing and look forward to more from her. Overall, it's a great start to a series, and I highly recommend this book, especially to those who appreciate westerns and seek an entertaining, quick read. The characters and plot are well-written, and the humor adds to the enjoyment of the story.\""
      ]
    },
    {
      "cell_type": "code",
      "execution_count": 114,
      "id": "j3GASXvY1jHt",
      "metadata": {
        "colab": {
          "base_uri": "https://localhost:8080/"
        },
        "id": "j3GASXvY1jHt",
        "outputId": "e0b18de3-8557-40d1-96f7-3abad3862b9a"
      },
      "outputs": [
        {
          "output_type": "stream",
          "name": "stderr",
          "text": [
            "<ipython-input-114-b72525e2818c>:1: SettingWithCopyWarning: \n",
            "A value is trying to be set on a copy of a slice from a DataFrame\n",
            "\n",
            "See the caveats in the documentation: https://pandas.pydata.org/pandas-docs/stable/user_guide/indexing.html#returning-a-view-versus-a-copy\n",
            "  test_dataset_raw_0_50['text_'][6407] =\"I am now interested in getting these in a larger size, as I have found them to be quite useful. I even used them for a few hours in a cave, and I am impressed with the solid seams and pleasant texture. So far, I haven't experienced any problems with the seams becoming loose.\"\n"
          ]
        }
      ],
      "source": [
        "test_dataset_raw_0_50['text_'][6407] =\"I am now interested in getting these in a larger size, as I have found them to be quite useful. I even used them for a few hours in a cave, and I am impressed with the solid seams and pleasant texture. So far, I haven't experienced any problems with the seams becoming loose.\""
      ]
    },
    {
      "cell_type": "code",
      "execution_count": 116,
      "id": "g3EuEGBnxf0k",
      "metadata": {
        "id": "g3EuEGBnxf0k"
      },
      "outputs": [],
      "source": [
        "merged_df_gpt = pd.concat([test_dataset_raw_0_50, test_dataset_raw_1_100], ignore_index=True)\n",
        "\n",
        "# Shuffle the index\n",
        "test_150_gpt = merged_df_gpt.sample(frac=1, random_state=42).reset_index(drop=True)"
      ]
    },
    {
      "cell_type": "code",
      "execution_count": 117,
      "id": "rGiutMNg43gP",
      "metadata": {
        "colab": {
          "base_uri": "https://localhost:8080/",
          "height": 597
        },
        "id": "rGiutMNg43gP",
        "outputId": "86ecd2b4-902d-4d9f-e254-6e4c7cbf6eb0"
      },
      "outputs": [
        {
          "output_type": "execute_result",
          "data": {
            "text/plain": [
              "                  category  rating label  \\\n",
              "0                  Books_5     2.0    OR   \n",
              "1           Kindle_Store_5     5.0    CG   \n",
              "2           Pet_Supplies_5     5.0    OR   \n",
              "3          Movies_and_TV_5     4.0    OR   \n",
              "4           Pet_Supplies_5     3.0    OR   \n",
              "..                     ...     ...   ...   \n",
              "145         Pet_Supplies_5     4.0    OR   \n",
              "146  Sports_and_Outdoors_5     4.0    OR   \n",
              "147       Toys_and_Games_5     5.0    CG   \n",
              "148         Pet_Supplies_5     5.0    OR   \n",
              "149         Pet_Supplies_5     5.0    OR   \n",
              "\n",
              "                                                 text_  target  \n",
              "0    I am a big fan of John Grisham, not only of hi...       1  \n",
              "1    I derive immense pleasure from reading this se...       0  \n",
              "2    Darling on dog, well made too!  Club for 18# B...       1  \n",
              "3    A combination of haunted house, demonic posses...       1  \n",
              "4    It is a big relief not having to carry water t...       1  \n",
              "..                                                 ...     ...  \n",
              "145  once I get used to it for the first time, I'm ...       1  \n",
              "146  Once I bought an additional longer screw, addi...       1  \n",
              "147  This doll is absolutely adorable! She is incre...       0  \n",
              "148  I've had this model for several years and was ...       1  \n",
              "149  Works great to keep dog off his broken back pa...       1  \n",
              "\n",
              "[150 rows x 5 columns]"
            ],
            "text/html": [
              "\n",
              "  <div id=\"df-8106ead6-296c-4401-b737-3cf8988fe3c6\" class=\"colab-df-container\">\n",
              "    <div>\n",
              "<style scoped>\n",
              "    .dataframe tbody tr th:only-of-type {\n",
              "        vertical-align: middle;\n",
              "    }\n",
              "\n",
              "    .dataframe tbody tr th {\n",
              "        vertical-align: top;\n",
              "    }\n",
              "\n",
              "    .dataframe thead th {\n",
              "        text-align: right;\n",
              "    }\n",
              "</style>\n",
              "<table border=\"1\" class=\"dataframe\">\n",
              "  <thead>\n",
              "    <tr style=\"text-align: right;\">\n",
              "      <th></th>\n",
              "      <th>category</th>\n",
              "      <th>rating</th>\n",
              "      <th>label</th>\n",
              "      <th>text_</th>\n",
              "      <th>target</th>\n",
              "    </tr>\n",
              "  </thead>\n",
              "  <tbody>\n",
              "    <tr>\n",
              "      <th>0</th>\n",
              "      <td>Books_5</td>\n",
              "      <td>2.0</td>\n",
              "      <td>OR</td>\n",
              "      <td>I am a big fan of John Grisham, not only of hi...</td>\n",
              "      <td>1</td>\n",
              "    </tr>\n",
              "    <tr>\n",
              "      <th>1</th>\n",
              "      <td>Kindle_Store_5</td>\n",
              "      <td>5.0</td>\n",
              "      <td>CG</td>\n",
              "      <td>I derive immense pleasure from reading this se...</td>\n",
              "      <td>0</td>\n",
              "    </tr>\n",
              "    <tr>\n",
              "      <th>2</th>\n",
              "      <td>Pet_Supplies_5</td>\n",
              "      <td>5.0</td>\n",
              "      <td>OR</td>\n",
              "      <td>Darling on dog, well made too!  Club for 18# B...</td>\n",
              "      <td>1</td>\n",
              "    </tr>\n",
              "    <tr>\n",
              "      <th>3</th>\n",
              "      <td>Movies_and_TV_5</td>\n",
              "      <td>4.0</td>\n",
              "      <td>OR</td>\n",
              "      <td>A combination of haunted house, demonic posses...</td>\n",
              "      <td>1</td>\n",
              "    </tr>\n",
              "    <tr>\n",
              "      <th>4</th>\n",
              "      <td>Pet_Supplies_5</td>\n",
              "      <td>3.0</td>\n",
              "      <td>OR</td>\n",
              "      <td>It is a big relief not having to carry water t...</td>\n",
              "      <td>1</td>\n",
              "    </tr>\n",
              "    <tr>\n",
              "      <th>...</th>\n",
              "      <td>...</td>\n",
              "      <td>...</td>\n",
              "      <td>...</td>\n",
              "      <td>...</td>\n",
              "      <td>...</td>\n",
              "    </tr>\n",
              "    <tr>\n",
              "      <th>145</th>\n",
              "      <td>Pet_Supplies_5</td>\n",
              "      <td>4.0</td>\n",
              "      <td>OR</td>\n",
              "      <td>once I get used to it for the first time, I'm ...</td>\n",
              "      <td>1</td>\n",
              "    </tr>\n",
              "    <tr>\n",
              "      <th>146</th>\n",
              "      <td>Sports_and_Outdoors_5</td>\n",
              "      <td>4.0</td>\n",
              "      <td>OR</td>\n",
              "      <td>Once I bought an additional longer screw, addi...</td>\n",
              "      <td>1</td>\n",
              "    </tr>\n",
              "    <tr>\n",
              "      <th>147</th>\n",
              "      <td>Toys_and_Games_5</td>\n",
              "      <td>5.0</td>\n",
              "      <td>CG</td>\n",
              "      <td>This doll is absolutely adorable! She is incre...</td>\n",
              "      <td>0</td>\n",
              "    </tr>\n",
              "    <tr>\n",
              "      <th>148</th>\n",
              "      <td>Pet_Supplies_5</td>\n",
              "      <td>5.0</td>\n",
              "      <td>OR</td>\n",
              "      <td>I've had this model for several years and was ...</td>\n",
              "      <td>1</td>\n",
              "    </tr>\n",
              "    <tr>\n",
              "      <th>149</th>\n",
              "      <td>Pet_Supplies_5</td>\n",
              "      <td>5.0</td>\n",
              "      <td>OR</td>\n",
              "      <td>Works great to keep dog off his broken back pa...</td>\n",
              "      <td>1</td>\n",
              "    </tr>\n",
              "  </tbody>\n",
              "</table>\n",
              "<p>150 rows × 5 columns</p>\n",
              "</div>\n",
              "    <div class=\"colab-df-buttons\">\n",
              "\n",
              "  <div class=\"colab-df-container\">\n",
              "    <button class=\"colab-df-convert\" onclick=\"convertToInteractive('df-8106ead6-296c-4401-b737-3cf8988fe3c6')\"\n",
              "            title=\"Convert this dataframe to an interactive table.\"\n",
              "            style=\"display:none;\">\n",
              "\n",
              "  <svg xmlns=\"http://www.w3.org/2000/svg\" height=\"24px\" viewBox=\"0 -960 960 960\">\n",
              "    <path d=\"M120-120v-720h720v720H120Zm60-500h600v-160H180v160Zm220 220h160v-160H400v160Zm0 220h160v-160H400v160ZM180-400h160v-160H180v160Zm440 0h160v-160H620v160ZM180-180h160v-160H180v160Zm440 0h160v-160H620v160Z\"/>\n",
              "  </svg>\n",
              "    </button>\n",
              "\n",
              "  <style>\n",
              "    .colab-df-container {\n",
              "      display:flex;\n",
              "      gap: 12px;\n",
              "    }\n",
              "\n",
              "    .colab-df-convert {\n",
              "      background-color: #E8F0FE;\n",
              "      border: none;\n",
              "      border-radius: 50%;\n",
              "      cursor: pointer;\n",
              "      display: none;\n",
              "      fill: #1967D2;\n",
              "      height: 32px;\n",
              "      padding: 0 0 0 0;\n",
              "      width: 32px;\n",
              "    }\n",
              "\n",
              "    .colab-df-convert:hover {\n",
              "      background-color: #E2EBFA;\n",
              "      box-shadow: 0px 1px 2px rgba(60, 64, 67, 0.3), 0px 1px 3px 1px rgba(60, 64, 67, 0.15);\n",
              "      fill: #174EA6;\n",
              "    }\n",
              "\n",
              "    .colab-df-buttons div {\n",
              "      margin-bottom: 4px;\n",
              "    }\n",
              "\n",
              "    [theme=dark] .colab-df-convert {\n",
              "      background-color: #3B4455;\n",
              "      fill: #D2E3FC;\n",
              "    }\n",
              "\n",
              "    [theme=dark] .colab-df-convert:hover {\n",
              "      background-color: #434B5C;\n",
              "      box-shadow: 0px 1px 3px 1px rgba(0, 0, 0, 0.15);\n",
              "      filter: drop-shadow(0px 1px 2px rgba(0, 0, 0, 0.3));\n",
              "      fill: #FFFFFF;\n",
              "    }\n",
              "  </style>\n",
              "\n",
              "    <script>\n",
              "      const buttonEl =\n",
              "        document.querySelector('#df-8106ead6-296c-4401-b737-3cf8988fe3c6 button.colab-df-convert');\n",
              "      buttonEl.style.display =\n",
              "        google.colab.kernel.accessAllowed ? 'block' : 'none';\n",
              "\n",
              "      async function convertToInteractive(key) {\n",
              "        const element = document.querySelector('#df-8106ead6-296c-4401-b737-3cf8988fe3c6');\n",
              "        const dataTable =\n",
              "          await google.colab.kernel.invokeFunction('convertToInteractive',\n",
              "                                                    [key], {});\n",
              "        if (!dataTable) return;\n",
              "\n",
              "        const docLinkHtml = 'Like what you see? Visit the ' +\n",
              "          '<a target=\"_blank\" href=https://colab.research.google.com/notebooks/data_table.ipynb>data table notebook</a>'\n",
              "          + ' to learn more about interactive tables.';\n",
              "        element.innerHTML = '';\n",
              "        dataTable['output_type'] = 'display_data';\n",
              "        await google.colab.output.renderOutput(dataTable, element);\n",
              "        const docLink = document.createElement('div');\n",
              "        docLink.innerHTML = docLinkHtml;\n",
              "        element.appendChild(docLink);\n",
              "      }\n",
              "    </script>\n",
              "  </div>\n",
              "\n",
              "\n",
              "<div id=\"df-17e3dd75-0a39-4121-bf41-8f7c9623dba7\">\n",
              "  <button class=\"colab-df-quickchart\" onclick=\"quickchart('df-17e3dd75-0a39-4121-bf41-8f7c9623dba7')\"\n",
              "            title=\"Suggest charts.\"\n",
              "            style=\"display:none;\">\n",
              "\n",
              "<svg xmlns=\"http://www.w3.org/2000/svg\" height=\"24px\"viewBox=\"0 0 24 24\"\n",
              "     width=\"24px\">\n",
              "    <g>\n",
              "        <path d=\"M19 3H5c-1.1 0-2 .9-2 2v14c0 1.1.9 2 2 2h14c1.1 0 2-.9 2-2V5c0-1.1-.9-2-2-2zM9 17H7v-7h2v7zm4 0h-2V7h2v10zm4 0h-2v-4h2v4z\"/>\n",
              "    </g>\n",
              "</svg>\n",
              "  </button>\n",
              "\n",
              "<style>\n",
              "  .colab-df-quickchart {\n",
              "    background-color: #E8F0FE;\n",
              "    border: none;\n",
              "    border-radius: 50%;\n",
              "    cursor: pointer;\n",
              "    display: none;\n",
              "    fill: #1967D2;\n",
              "    height: 32px;\n",
              "    padding: 0 0 0 0;\n",
              "    width: 32px;\n",
              "  }\n",
              "\n",
              "  .colab-df-quickchart:hover {\n",
              "    background-color: #E2EBFA;\n",
              "    box-shadow: 0px 1px 2px rgba(60, 64, 67, 0.3), 0px 1px 3px 1px rgba(60, 64, 67, 0.15);\n",
              "    fill: #174EA6;\n",
              "  }\n",
              "\n",
              "  [theme=dark] .colab-df-quickchart {\n",
              "    background-color: #3B4455;\n",
              "    fill: #D2E3FC;\n",
              "  }\n",
              "\n",
              "  [theme=dark] .colab-df-quickchart:hover {\n",
              "    background-color: #434B5C;\n",
              "    box-shadow: 0px 1px 3px 1px rgba(0, 0, 0, 0.15);\n",
              "    filter: drop-shadow(0px 1px 2px rgba(0, 0, 0, 0.3));\n",
              "    fill: #FFFFFF;\n",
              "  }\n",
              "</style>\n",
              "\n",
              "  <script>\n",
              "    async function quickchart(key) {\n",
              "      const charts = await google.colab.kernel.invokeFunction(\n",
              "          'suggestCharts', [key], {});\n",
              "    }\n",
              "    (() => {\n",
              "      let quickchartButtonEl =\n",
              "        document.querySelector('#df-17e3dd75-0a39-4121-bf41-8f7c9623dba7 button');\n",
              "      quickchartButtonEl.style.display =\n",
              "        google.colab.kernel.accessAllowed ? 'block' : 'none';\n",
              "    })();\n",
              "  </script>\n",
              "</div>\n",
              "    </div>\n",
              "  </div>\n"
            ]
          },
          "metadata": {},
          "execution_count": 117
        }
      ],
      "source": [
        "test_150_gpt"
      ]
    },
    {
      "cell_type": "code",
      "execution_count": 118,
      "id": "3yMrIZ7B44DU",
      "metadata": {
        "id": "3yMrIZ7B44DU"
      },
      "outputs": [],
      "source": [
        "test_encodings_gpt = tokenizer(test_150_gpt['text_'].tolist(), truncation=True, padding=True, max_length=256)\n",
        "\n",
        "test_dataset_gpt = tf.data.Dataset.from_tensor_slices((\n",
        "    dict(test_encodings_gpt),\n",
        "    test_150_gpt['target'].values\n",
        "))\n"
      ]
    },
    {
      "cell_type": "code",
      "execution_count": 194,
      "id": "BOMlv-f644JJ",
      "metadata": {
        "colab": {
          "base_uri": "https://localhost:8080/"
        },
        "id": "BOMlv-f644JJ",
        "outputId": "e18257c4-21fb-417b-9733-23be5784e97c"
      },
      "outputs": [
        {
          "output_type": "stream",
          "name": "stdout",
          "text": [
            "10/10 [==============================] - 3s 283ms/step\n",
            "              precision    recall  f1-score   support\n",
            "\n",
            "          CG     0.8036    0.9000    0.8491        50\n",
            "          OR     0.9468    0.8900    0.9175       100\n",
            "\n",
            "    accuracy                         0.8933       150\n",
            "   macro avg     0.8752    0.8950    0.8833       150\n",
            "weighted avg     0.8991    0.8933    0.8947       150\n",
            "\n"
          ]
        }
      ],
      "source": [
        "test_dataset_gpt_batched = test_dataset_gpt.batch(16)\n",
        "y_pred_raw_gpt = model.predict(test_dataset_gpt_batched)\n",
        "\n",
        "# Convert raw predictions to class predictions\n",
        "y_pred_gpt = np.argmax(y_pred_raw_gpt.logits, axis=1)\n",
        "\n",
        "# Get the actual class labels\n",
        "y_true_gpt = []\n",
        "for features, label in test_dataset_gpt:\n",
        "    y_true_gpt.append(label.numpy())\n",
        "y_true_gpt = np.array(y_true_gpt)\n",
        "\n",
        "\n",
        "# Generate a classification report\n",
        "report_gpt = classification_report(y_true_gpt, y_pred_gpt, target_names=[\"CG\", \"OR\"],digits =4)  # replace target_names with your actual class names\n",
        "print(report_gpt)"
      ]
    },
    {
      "cell_type": "markdown",
      "source": [
        "# gpt 3.5 with 125"
      ],
      "metadata": {
        "id": "--gA8tV0xKwx"
      },
      "id": "--gA8tV0xKwx"
    },
    {
      "cell_type": "code",
      "execution_count": 315,
      "id": "gweeCRgk44Q5",
      "metadata": {
        "id": "gweeCRgk44Q5"
      },
      "outputs": [],
      "source": [
        "test_dataset_0_25 = test_dataset_raw_0_50.sample(n=25)\n",
        "test_dataset_0_25_df = pd.DataFrame(test_dataset_0_25)"
      ]
    },
    {
      "cell_type": "code",
      "source": [
        "merged_df_gpt125 = pd.concat([test_dataset_0_25_df, test_dataset_raw_1_100], ignore_index=True)\n",
        "\n",
        "# Shuffle the index\n",
        "test_125_gpt = merged_df_gpt125.sample(frac=1, random_state=42).reset_index(drop=True)"
      ],
      "metadata": {
        "id": "4dC4lJvdigUw"
      },
      "id": "4dC4lJvdigUw",
      "execution_count": 318,
      "outputs": []
    },
    {
      "cell_type": "code",
      "source": [
        "test_encodings_gpt_125 = tokenizer(test_125_gpt['text_'].tolist(), truncation=True, padding=True, max_length=256)\n",
        "\n",
        "test_dataset_gpt_125 = tf.data.Dataset.from_tensor_slices((\n",
        "    dict(test_encodings_gpt_125),\n",
        "    test_125_gpt['target'].values\n",
        "))\n"
      ],
      "metadata": {
        "id": "xS8GlxRaigaY"
      },
      "id": "xS8GlxRaigaY",
      "execution_count": 319,
      "outputs": []
    },
    {
      "cell_type": "code",
      "source": [
        "test_dataset_gpt_batched_125 = test_dataset_gpt_125.batch(16)\n",
        "y_pred_raw_gpt_125 = model.predict(test_dataset_gpt_batched_125)\n",
        "\n",
        "# Convert raw predictions to class predictions\n",
        "y_pred_gpt_125 = np.argmax(y_pred_raw_gpt_125.logits, axis=1)\n",
        "\n",
        "# Get the actual class labels\n",
        "y_true_gpt_125 = []\n",
        "for features, label in test_dataset_gpt_125:\n",
        "    y_true_gpt_125.append(label.numpy())\n",
        "y_true_gpt_125 = np.array(y_true_gpt_125)\n",
        "\n",
        "\n",
        "# Generate a classification report\n",
        "report_gpt_125 = classification_report(y_true_gpt_125, y_pred_gpt_125, target_names=[\"CG\", \"OR\"],digits =4)  # replace target_names with your actual class names\n",
        "print(report_gpt_125)"
      ],
      "metadata": {
        "colab": {
          "base_uri": "https://localhost:8080/"
        },
        "id": "LAe0nrFPjDqQ",
        "outputId": "1c20cbb1-2a7d-46bd-efab-9ebdbf31fcbc"
      },
      "id": "LAe0nrFPjDqQ",
      "execution_count": 320,
      "outputs": [
        {
          "output_type": "stream",
          "name": "stdout",
          "text": [
            "8/8 [==============================] - 2s 272ms/step\n",
            "              precision    recall  f1-score   support\n",
            "\n",
            "          CG     0.7188    0.9200    0.8070        25\n",
            "          OR     0.9785    0.9100    0.9430       100\n",
            "\n",
            "    accuracy                         0.9120       125\n",
            "   macro avg     0.8486    0.9150    0.8750       125\n",
            "weighted avg     0.9265    0.9120    0.9158       125\n",
            "\n"
          ]
        }
      ]
    },
    {
      "cell_type": "code",
      "source": [],
      "metadata": {
        "id": "dnTWKCXmige8"
      },
      "id": "dnTWKCXmige8",
      "execution_count": null,
      "outputs": []
    },
    {
      "cell_type": "code",
      "source": [],
      "metadata": {
        "id": "-r06Dw9Zigi0"
      },
      "id": "-r06Dw9Zigi0",
      "execution_count": null,
      "outputs": []
    },
    {
      "cell_type": "code",
      "source": [],
      "metadata": {
        "id": "MrCTInKlignQ"
      },
      "id": "MrCTInKlignQ",
      "execution_count": null,
      "outputs": []
    },
    {
      "cell_type": "code",
      "source": [],
      "metadata": {
        "id": "2SnewsBsigs0"
      },
      "id": "2SnewsBsigs0",
      "execution_count": null,
      "outputs": []
    },
    {
      "cell_type": "code",
      "source": [],
      "metadata": {
        "id": "gI__opICigyL"
      },
      "id": "gI__opICigyL",
      "execution_count": null,
      "outputs": []
    },
    {
      "cell_type": "markdown",
      "id": "fKECxbcQ7xwM",
      "metadata": {
        "id": "fKECxbcQ7xwM"
      },
      "source": [
        "# chatgpt4"
      ]
    },
    {
      "cell_type": "code",
      "source": [
        "index_2 = [17408,  9913,  7820, 27662, 26833,  7804, 21469, 18647, 15587,\n",
        "            39912, 17068,  2006, 22140, 33467, 22840, 35898, 30798, 25185,\n",
        "            17279,  4867, 22505, 11525, 25079, 36858, 37468]"
      ],
      "metadata": {
        "id": "l9oyB5KSh5TN"
      },
      "id": "l9oyB5KSh5TN",
      "execution_count": 121,
      "outputs": []
    },
    {
      "cell_type": "code",
      "source": [
        "test_dataset_raw_0_25 = test_dataset_raw_0.loc[index_2]"
      ],
      "metadata": {
        "id": "u6ta2zMKh8qE"
      },
      "id": "u6ta2zMKh8qE",
      "execution_count": 123,
      "outputs": []
    },
    {
      "cell_type": "code",
      "execution_count": null,
      "id": "0WRyzi_n6VFW",
      "metadata": {
        "id": "0WRyzi_n6VFW"
      },
      "outputs": [],
      "source": [
        "random_25_rows = test_dataset_raw_0.sample(n=25)\n",
        "\n",
        "# Build the new DataFrame using the randomly selected rows\n",
        "test_dataset_raw_0_25 = pd.DataFrame(random_25_rows)"
      ]
    },
    {
      "cell_type": "code",
      "execution_count": 124,
      "id": "WIVeV3GV6VKB",
      "metadata": {
        "colab": {
          "base_uri": "https://localhost:8080/"
        },
        "id": "WIVeV3GV6VKB",
        "outputId": "078ddf1e-bffe-431d-f22a-6ab6eae3cc58"
      },
      "outputs": [
        {
          "output_type": "execute_result",
          "data": {
            "text/plain": [
              "Int64Index([17408,  9913,  7820, 27662, 26833,  7804, 21469, 18647, 15587,\n",
              "            39912, 17068,  2006, 22140, 33467, 22840, 35898, 30798, 25185,\n",
              "            17279,  4867, 22505, 11525, 25079, 36858, 37468],\n",
              "           dtype='int64')"
            ]
          },
          "metadata": {},
          "execution_count": 124
        }
      ],
      "source": [
        "test_dataset_raw_0_25.index"
      ]
    },
    {
      "cell_type": "code",
      "execution_count": 125,
      "id": "kHerbLda6VOp",
      "metadata": {
        "colab": {
          "base_uri": "https://localhost:8080/",
          "height": 53
        },
        "id": "kHerbLda6VOp",
        "outputId": "a175e4b3-c7fd-4b9a-9701-35a022937c53"
      },
      "outputs": [
        {
          "output_type": "execute_result",
          "data": {
            "text/plain": [
              "'Fits true to size and looks great.  It is a little snug for my small size,'"
            ],
            "application/vnd.google.colaboratory.intrinsic+json": {
              "type": "string"
            }
          },
          "metadata": {},
          "execution_count": 125
        }
      ],
      "source": [
        "test_dataset_raw_0_25['text_'][37468]"
      ]
    },
    {
      "cell_type": "code",
      "execution_count": 126,
      "id": "hEqPhPMN6VTK",
      "metadata": {
        "colab": {
          "base_uri": "https://localhost:8080/"
        },
        "id": "hEqPhPMN6VTK",
        "outputId": "53043ab8-f109-496d-f69e-73dc4d70006a"
      },
      "outputs": [
        {
          "output_type": "stream",
          "name": "stderr",
          "text": [
            "<ipython-input-126-1799c2a950be>:1: SettingWithCopyWarning: \n",
            "A value is trying to be set on a copy of a slice from a DataFrame\n",
            "\n",
            "See the caveats in the documentation: https://pandas.pydata.org/pandas-docs/stable/user_guide/indexing.html#returning-a-view-versus-a-copy\n",
            "  test_dataset_raw_0_25['text_'][17408] =\"Fantastic lights! Kudos to both the manufacturer and the seller! The quality is top-notch. It's a charming, compact light that functions perfectly. The pricing is also remarkably reasonable. The light unit itself is excellent and performs brilliantly.\"\n"
          ]
        }
      ],
      "source": [
        "test_dataset_raw_0_25['text_'][17408] =\"Fantastic lights! Kudos to both the manufacturer and the seller! The quality is top-notch. It's a charming, compact light that functions perfectly. The pricing is also remarkably reasonable. The light unit itself is excellent and performs brilliantly.\""
      ]
    },
    {
      "cell_type": "code",
      "execution_count": 127,
      "id": "VbPRbCLL6VXR",
      "metadata": {
        "colab": {
          "base_uri": "https://localhost:8080/"
        },
        "id": "VbPRbCLL6VXR",
        "outputId": "55433b39-02b1-4703-ba04-e11f5dcb2f12"
      },
      "outputs": [
        {
          "output_type": "stream",
          "name": "stderr",
          "text": [
            "<ipython-input-127-079a0e5e2ba6>:1: SettingWithCopyWarning: \n",
            "A value is trying to be set on a copy of a slice from a DataFrame\n",
            "\n",
            "See the caveats in the documentation: https://pandas.pydata.org/pandas-docs/stable/user_guide/indexing.html#returning-a-view-versus-a-copy\n",
            "  test_dataset_raw_0_25['text_'][9913] =\"The item functions perfectly. However, the description doesn't include details about the shipping box. I'm planning to return this item. Despite this, it's an impressive product. I purchased this for a friend who is extremely satisfied with it. The only aspect I would like to change is...\"\n"
          ]
        }
      ],
      "source": [
        "test_dataset_raw_0_25['text_'][9913] =\"The item functions perfectly. However, the description doesn't include details about the shipping box. I'm planning to return this item. Despite this, it's an impressive product. I purchased this for a friend who is extremely satisfied with it. The only aspect I would like to change is...\""
      ]
    },
    {
      "cell_type": "code",
      "execution_count": 128,
      "id": "qbAM0lux8ROR",
      "metadata": {
        "colab": {
          "base_uri": "https://localhost:8080/"
        },
        "id": "qbAM0lux8ROR",
        "outputId": "071dc059-7da9-4c36-c624-49b4d1e28fe8"
      },
      "outputs": [
        {
          "output_type": "stream",
          "name": "stderr",
          "text": [
            "<ipython-input-128-2a2f11cbc04f>:1: SettingWithCopyWarning: \n",
            "A value is trying to be set on a copy of a slice from a DataFrame\n",
            "\n",
            "See the caveats in the documentation: https://pandas.pydata.org/pandas-docs/stable/user_guide/indexing.html#returning-a-view-versus-a-copy\n",
            "  test_dataset_raw_0_25['text_'][7820] = \"This is an essential item for anyone wanting to experiment with a new bat for the first time. I had a friend who was interested in a bat at a local store that was similar to one we'd used for batting practice. That bat performed exceptionally well, and we absolutely loved it. Despite being slightly on the pricier side, it met our requirements perfectly and was worth the investment. We recently went to Walmart and purchased a new bat. The cost was $30 less than the previous one, which delighted us. The bat was a tad heavy, so we stored it in a bag and placed it in a closet. Despite initial difficulties fitting it into our cooler, it ended up being a good fit and we used it for our batting practice. It's a superb bat, and we're pleased with our purchase. I would recommend it to anyone considering buying a bat. In addition, we acquired a tent for our boat journey along Mexico's east coast. It was astounding how warm and comfortable it was. The tent was not only spacious but also simple to set up. It even allowed us to sleep inside while we were out on the water, with a clear view of the water.\"\n"
          ]
        }
      ],
      "source": [
        "test_dataset_raw_0_25['text_'][7820] = \"This is an essential item for anyone wanting to experiment with a new bat for the first time. I had a friend who was interested in a bat at a local store that was similar to one we'd used for batting practice. That bat performed exceptionally well, and we absolutely loved it. Despite being slightly on the pricier side, it met our requirements perfectly and was worth the investment. We recently went to Walmart and purchased a new bat. The cost was $30 less than the previous one, which delighted us. The bat was a tad heavy, so we stored it in a bag and placed it in a closet. Despite initial difficulties fitting it into our cooler, it ended up being a good fit and we used it for our batting practice. It's a superb bat, and we're pleased with our purchase. I would recommend it to anyone considering buying a bat. In addition, we acquired a tent for our boat journey along Mexico's east coast. It was astounding how warm and comfortable it was. The tent was not only spacious but also simple to set up. It even allowed us to sleep inside while we were out on the water, with a clear view of the water.\""
      ]
    },
    {
      "cell_type": "code",
      "execution_count": 129,
      "id": "wBIhXANV8RTt",
      "metadata": {
        "colab": {
          "base_uri": "https://localhost:8080/"
        },
        "id": "wBIhXANV8RTt",
        "outputId": "22dcaafa-9024-4e9b-b85f-b003ab5fea68"
      },
      "outputs": [
        {
          "output_type": "stream",
          "name": "stderr",
          "text": [
            "<ipython-input-129-9e3fc059b1d3>:1: SettingWithCopyWarning: \n",
            "A value is trying to be set on a copy of a slice from a DataFrame\n",
            "\n",
            "See the caveats in the documentation: https://pandas.pydata.org/pandas-docs/stable/user_guide/indexing.html#returning-a-view-versus-a-copy\n",
            "  test_dataset_raw_0_25['text_'][27662] = \"I found the book incredibly captivating. The characters were skillfully fleshed out, making the storyline quite enjoyable. I received an advance reader's copy in return for an unbiased review. This book is a gem; the characters and plot are beautifully crafted. It serves as an excellent series for the younger audience. Having read the initial book in the series, I can vouch for the overall quality of the series. I strongly recommend this book. This book was a pleasure to read. I am a fan of good romance, and this had a hint of mystery, enhancing the overall story. This book was appealing, though initially, there was a bit of confusion. However, once I overcame the initial ambiguity, the read was worthwhile. I'm eagerly anticipating that the upcoming books in this series will follow suit. This charming tale revolves around a young man and a girl named Belinda who...\"\n"
          ]
        }
      ],
      "source": [
        "test_dataset_raw_0_25['text_'][27662] = \"I found the book incredibly captivating. The characters were skillfully fleshed out, making the storyline quite enjoyable. I received an advance reader's copy in return for an unbiased review. This book is a gem; the characters and plot are beautifully crafted. It serves as an excellent series for the younger audience. Having read the initial book in the series, I can vouch for the overall quality of the series. I strongly recommend this book. This book was a pleasure to read. I am a fan of good romance, and this had a hint of mystery, enhancing the overall story. This book was appealing, though initially, there was a bit of confusion. However, once I overcame the initial ambiguity, the read was worthwhile. I'm eagerly anticipating that the upcoming books in this series will follow suit. This charming tale revolves around a young man and a girl named Belinda who...\""
      ]
    },
    {
      "cell_type": "code",
      "execution_count": 130,
      "id": "5wCJhERh8oGL",
      "metadata": {
        "colab": {
          "base_uri": "https://localhost:8080/"
        },
        "id": "5wCJhERh8oGL",
        "outputId": "c2566c20-c943-4b02-dbdd-9c29d7431bfd"
      },
      "outputs": [
        {
          "output_type": "stream",
          "name": "stderr",
          "text": [
            "<ipython-input-130-3c68ea8e946e>:1: SettingWithCopyWarning: \n",
            "A value is trying to be set on a copy of a slice from a DataFrame\n",
            "\n",
            "See the caveats in the documentation: https://pandas.pydata.org/pandas-docs/stable/user_guide/indexing.html#returning-a-view-versus-a-copy\n",
            "  test_dataset_raw_0_25['text_'][26833] = \"This is the sequel in The Crystal Queen series. The Crystal Queen series has held a special place in my reading list for the past few years, and I'm confident that I'll continue to explore more of her works in the future. This book was an absolute delight! A friend gifted me this book in return for a candid review. I found it marvelous, brimming with compelling characters and unexpected plot twists. I heartily endorse it! It was...\"\n"
          ]
        }
      ],
      "source": [
        "test_dataset_raw_0_25['text_'][26833] = \"This is the sequel in The Crystal Queen series. The Crystal Queen series has held a special place in my reading list for the past few years, and I'm confident that I'll continue to explore more of her works in the future. This book was an absolute delight! A friend gifted me this book in return for a candid review. I found it marvelous, brimming with compelling characters and unexpected plot twists. I heartily endorse it! It was...\""
      ]
    },
    {
      "cell_type": "code",
      "execution_count": 131,
      "id": "RZ2nkpjs8oK5",
      "metadata": {
        "colab": {
          "base_uri": "https://localhost:8080/"
        },
        "id": "RZ2nkpjs8oK5",
        "outputId": "a3f25732-ac54-4895-e09a-2bced2633b58"
      },
      "outputs": [
        {
          "output_type": "stream",
          "name": "stderr",
          "text": [
            "<ipython-input-131-bba4c5859c4e>:1: SettingWithCopyWarning: \n",
            "A value is trying to be set on a copy of a slice from a DataFrame\n",
            "\n",
            "See the caveats in the documentation: https://pandas.pydata.org/pandas-docs/stable/user_guide/indexing.html#returning-a-view-versus-a-copy\n",
            "  test_dataset_raw_0_25['text_'][7804] =\"The only reason I rated this a 3-star is because I didn't want to unduly skew the ratings. It may not be the best in terms of design, but it's undoubtedly a superior product. I also gave it 4 stars at one point, not because I desired to use it, but rather I needed it to kickstart my day. Despite its effectiveness, I didn't intend to use it for anything else. My curiosity was mainly around whether it could perform that specific task, and it did. However, it's challenging to always ascertain if you're making a mistake. It's a remarkable product, and I plan to purchase more of it. I'll certainly retain it for my wife. Regarding the tent, I've been using it for several years without encountering any issues. I employed this tent during a boat ride in the summer of 2012, and its durability has been impressive. The tent boasts a substantial footprint and appears to be well-constructed. I'd recommend it to anyone looking to establish a tent on a boat. I've used this tent on a few other boats...\"\n"
          ]
        }
      ],
      "source": [
        "test_dataset_raw_0_25['text_'][7804] =\"The only reason I rated this a 3-star is because I didn't want to unduly skew the ratings. It may not be the best in terms of design, but it's undoubtedly a superior product. I also gave it 4 stars at one point, not because I desired to use it, but rather I needed it to kickstart my day. Despite its effectiveness, I didn't intend to use it for anything else. My curiosity was mainly around whether it could perform that specific task, and it did. However, it's challenging to always ascertain if you're making a mistake. It's a remarkable product, and I plan to purchase more of it. I'll certainly retain it for my wife. Regarding the tent, I've been using it for several years without encountering any issues. I employed this tent during a boat ride in the summer of 2012, and its durability has been impressive. The tent boasts a substantial footprint and appears to be well-constructed. I'd recommend it to anyone looking to establish a tent on a boat. I've used this tent on a few other boats...\""
      ]
    },
    {
      "cell_type": "code",
      "execution_count": 132,
      "id": "75tCfkFv8oOu",
      "metadata": {
        "colab": {
          "base_uri": "https://localhost:8080/"
        },
        "id": "75tCfkFv8oOu",
        "outputId": "d9a0d582-d1bc-47e1-e889-a6a1fb25216d"
      },
      "outputs": [
        {
          "output_type": "stream",
          "name": "stderr",
          "text": [
            "<ipython-input-132-f94a80caef7c>:1: SettingWithCopyWarning: \n",
            "A value is trying to be set on a copy of a slice from a DataFrame\n",
            "\n",
            "See the caveats in the documentation: https://pandas.pydata.org/pandas-docs/stable/user_guide/indexing.html#returning-a-view-versus-a-copy\n",
            "  test_dataset_raw_0_25['text_'][21469] =\"This product shields my kittens from the odor of the litter box. Additionally, I appreciate that it's one of the initial items I've purchased for my kitty that we're not constantly having to remove and...\"\n"
          ]
        }
      ],
      "source": [
        "test_dataset_raw_0_25['text_'][21469] =\"This product shields my kittens from the odor of the litter box. Additionally, I appreciate that it's one of the initial items I've purchased for my kitty that we're not constantly having to remove and...\""
      ]
    },
    {
      "cell_type": "code",
      "execution_count": 133,
      "id": "9lVIfOod8oR9",
      "metadata": {
        "colab": {
          "base_uri": "https://localhost:8080/"
        },
        "id": "9lVIfOod8oR9",
        "outputId": "5bd3d9cd-2bed-4796-e68d-98044f3946f4"
      },
      "outputs": [
        {
          "output_type": "stream",
          "name": "stderr",
          "text": [
            "<ipython-input-133-463af6542b10>:1: SettingWithCopyWarning: \n",
            "A value is trying to be set on a copy of a slice from a DataFrame\n",
            "\n",
            "See the caveats in the documentation: https://pandas.pydata.org/pandas-docs/stable/user_guide/indexing.html#returning-a-view-versus-a-copy\n",
            "  test_dataset_raw_0_25['text_'][18647] =\"The Bosch template adapters can be quite a challenge to locate. I find myself needing to switch them off and on. I replaced the original adapters with these ones, which was a surprisingly straightforward task. They continue to function excellently, leaving me very satisfied. I purchased this item to replace a damaged one I previously owned. I appreciate the ability to use the hose to clear the ballast from my sink. After a few installations, it has proven to be the ideal replacement for the broken one. I'm now planning to...\"\n"
          ]
        }
      ],
      "source": [
        "test_dataset_raw_0_25['text_'][18647] =\"The Bosch template adapters can be quite a challenge to locate. I find myself needing to switch them off and on. I replaced the original adapters with these ones, which was a surprisingly straightforward task. They continue to function excellently, leaving me very satisfied. I purchased this item to replace a damaged one I previously owned. I appreciate the ability to use the hose to clear the ballast from my sink. After a few installations, it has proven to be the ideal replacement for the broken one. I'm now planning to...\""
      ]
    },
    {
      "cell_type": "code",
      "execution_count": 134,
      "id": "rl0FpiWQ8oUw",
      "metadata": {
        "colab": {
          "base_uri": "https://localhost:8080/"
        },
        "id": "rl0FpiWQ8oUw",
        "outputId": "fc1ea740-8cc8-4a2f-ed08-1d92d39a4049"
      },
      "outputs": [
        {
          "output_type": "stream",
          "name": "stderr",
          "text": [
            "<ipython-input-134-1627f4fb74c1>:1: SettingWithCopyWarning: \n",
            "A value is trying to be set on a copy of a slice from a DataFrame\n",
            "\n",
            "See the caveats in the documentation: https://pandas.pydata.org/pandas-docs/stable/user_guide/indexing.html#returning-a-view-versus-a-copy\n",
            "  test_dataset_raw_0_25['text_'][15587] =\"Fantastic tool from an impressive toolbox. The only issue is that it includes a miniature screwdriver.\"\n"
          ]
        }
      ],
      "source": [
        "test_dataset_raw_0_25['text_'][15587] =\"Fantastic tool from an impressive toolbox. The only issue is that it includes a miniature screwdriver.\""
      ]
    },
    {
      "cell_type": "code",
      "execution_count": 135,
      "id": "Ql8NbEOb8RZL",
      "metadata": {
        "colab": {
          "base_uri": "https://localhost:8080/"
        },
        "id": "Ql8NbEOb8RZL",
        "outputId": "b738d665-174f-425c-9132-995c1d19071e"
      },
      "outputs": [
        {
          "output_type": "stream",
          "name": "stderr",
          "text": [
            "<ipython-input-135-14adfe5550da>:1: SettingWithCopyWarning: \n",
            "A value is trying to be set on a copy of a slice from a DataFrame\n",
            "\n",
            "See the caveats in the documentation: https://pandas.pydata.org/pandas-docs/stable/user_guide/indexing.html#returning-a-view-versus-a-copy\n",
            "  test_dataset_raw_0_25['text_'][39912] =\"I am the proud owner of an OMAPC, and the accompanying knee pads are a perfect fit. The heel size is just right, and the material is pleasantly soft and comfy. However, I encountered an issue with the material being excessively loose. Consequently, I'll be returning it. I opted for a size up on reorder, and it fitted perfectly. I had to wash the boots on the first day, but they're incredibly comfortable. I've yet to wear them for an extended period, but finding boots that remain comfortable for long durations has always been a challenge. For reference, I'm 5'4 and weigh 140lbs, and these...\"\n"
          ]
        }
      ],
      "source": [
        "test_dataset_raw_0_25['text_'][39912] =\"I am the proud owner of an OMAPC, and the accompanying knee pads are a perfect fit. The heel size is just right, and the material is pleasantly soft and comfy. However, I encountered an issue with the material being excessively loose. Consequently, I'll be returning it. I opted for a size up on reorder, and it fitted perfectly. I had to wash the boots on the first day, but they're incredibly comfortable. I've yet to wear them for an extended period, but finding boots that remain comfortable for long durations has always been a challenge. For reference, I'm 5'4 and weigh 140lbs, and these...\""
      ]
    },
    {
      "cell_type": "code",
      "execution_count": 136,
      "id": "n280y3hW8ReR",
      "metadata": {
        "colab": {
          "base_uri": "https://localhost:8080/"
        },
        "id": "n280y3hW8ReR",
        "outputId": "0e5cb6fa-ea86-43df-e94c-78f9eab1bb80"
      },
      "outputs": [
        {
          "output_type": "stream",
          "name": "stderr",
          "text": [
            "<ipython-input-136-65c5ce737675>:1: SettingWithCopyWarning: \n",
            "A value is trying to be set on a copy of a slice from a DataFrame\n",
            "\n",
            "See the caveats in the documentation: https://pandas.pydata.org/pandas-docs/stable/user_guide/indexing.html#returning-a-view-versus-a-copy\n",
            "  test_dataset_raw_0_25['text_'][17068] =\"The quality is appalling. Do not squander valuable metal or steel on it. The sole reason I purchased this item was to replace a faulty...\"\n"
          ]
        }
      ],
      "source": [
        "test_dataset_raw_0_25['text_'][17068] =\"The quality is appalling. Do not squander valuable metal or steel on it. The sole reason I purchased this item was to replace a faulty...\""
      ]
    },
    {
      "cell_type": "code",
      "execution_count": 137,
      "id": "oNiD0ybI8Rjl",
      "metadata": {
        "colab": {
          "base_uri": "https://localhost:8080/"
        },
        "id": "oNiD0ybI8Rjl",
        "outputId": "1e2e8acb-d069-42c7-ddd3-db831fcd1091"
      },
      "outputs": [
        {
          "output_type": "stream",
          "name": "stderr",
          "text": [
            "<ipython-input-137-a98989124ecc>:1: SettingWithCopyWarning: \n",
            "A value is trying to be set on a copy of a slice from a DataFrame\n",
            "\n",
            "See the caveats in the documentation: https://pandas.pydata.org/pandas-docs/stable/user_guide/indexing.html#returning-a-view-versus-a-copy\n",
            "  test_dataset_raw_0_25['text_'][2006] =\"Despite its modest size, this machine makes a sound investment. The only drawback is its compact size. The components needed to attach the cover at the top were...\"\n"
          ]
        }
      ],
      "source": [
        "test_dataset_raw_0_25['text_'][2006] =\"Despite its modest size, this machine makes a sound investment. The only drawback is its compact size. The components needed to attach the cover at the top were...\""
      ]
    },
    {
      "cell_type": "code",
      "execution_count": 138,
      "id": "MVky6Db_-NQY",
      "metadata": {
        "colab": {
          "base_uri": "https://localhost:8080/"
        },
        "id": "MVky6Db_-NQY",
        "outputId": "c63f645c-e9be-4e40-f7a7-b9587df34a21"
      },
      "outputs": [
        {
          "output_type": "stream",
          "name": "stderr",
          "text": [
            "<ipython-input-138-0a2258be8c09>:1: SettingWithCopyWarning: \n",
            "A value is trying to be set on a copy of a slice from a DataFrame\n",
            "\n",
            "See the caveats in the documentation: https://pandas.pydata.org/pandas-docs/stable/user_guide/indexing.html#returning-a-view-versus-a-copy\n",
            "  test_dataset_raw_0_25['text_'][22140] =\"I own two small breed dogs and felt this would be a beneficial enhancement for the litter box. The top comes in a striking bright color and is simple to clean. I used this tool to tidy up my older cat's litter box, although it didn't include a large filter.\"\n"
          ]
        }
      ],
      "source": [
        "test_dataset_raw_0_25['text_'][22140] =\"I own two small breed dogs and felt this would be a beneficial enhancement for the litter box. The top comes in a striking bright color and is simple to clean. I used this tool to tidy up my older cat's litter box, although it didn't include a large filter.\""
      ]
    },
    {
      "cell_type": "code",
      "execution_count": 139,
      "id": "CKqNQtVg-NWm",
      "metadata": {
        "colab": {
          "base_uri": "https://localhost:8080/"
        },
        "id": "CKqNQtVg-NWm",
        "outputId": "1042c063-f35f-42be-846d-5f041cdbc5a7"
      },
      "outputs": [
        {
          "output_type": "stream",
          "name": "stderr",
          "text": [
            "<ipython-input-139-50f3d8653dff>:1: SettingWithCopyWarning: \n",
            "A value is trying to be set on a copy of a slice from a DataFrame\n",
            "\n",
            "See the caveats in the documentation: https://pandas.pydata.org/pandas-docs/stable/user_guide/indexing.html#returning-a-view-versus-a-copy\n",
            "  test_dataset_raw_0_25['text_'][33467] =\"Delightfully soft and plush. My daughter adores it, and her two-year-old sister shares the same sentiment.\"\n"
          ]
        }
      ],
      "source": [
        "test_dataset_raw_0_25['text_'][33467] =\"Delightfully soft and plush. My daughter adores it, and her two-year-old sister shares the same sentiment.\""
      ]
    },
    {
      "cell_type": "code",
      "execution_count": 140,
      "id": "kK5HTrTW-NdS",
      "metadata": {
        "colab": {
          "base_uri": "https://localhost:8080/"
        },
        "id": "kK5HTrTW-NdS",
        "outputId": "9319d6d0-69e1-4a9c-c387-18078d7518d4"
      },
      "outputs": [
        {
          "output_type": "stream",
          "name": "stderr",
          "text": [
            "<ipython-input-140-8001721759f0>:1: SettingWithCopyWarning: \n",
            "A value is trying to be set on a copy of a slice from a DataFrame\n",
            "\n",
            "See the caveats in the documentation: https://pandas.pydata.org/pandas-docs/stable/user_guide/indexing.html#returning-a-view-versus-a-copy\n",
            "  test_dataset_raw_0_25['text_'][22840] =\"Both my Aussie and my African Grey are fond of these! I plan to keep them stocked for the next few months. This food is a big hit with my dogs. My dog consumes it leisurely, first from a deep, slow-feed bowl, then from a larger bowl. I own two dogs, each weighing 4 lbs., and one of them is quite finicky about food. I've purchased a second bag to use for her vet visits. The two bags I've received so far are strikingly similar.\"\n"
          ]
        }
      ],
      "source": [
        "test_dataset_raw_0_25['text_'][22840] =\"Both my Aussie and my African Grey are fond of these! I plan to keep them stocked for the next few months. This food is a big hit with my dogs. My dog consumes it leisurely, first from a deep, slow-feed bowl, then from a larger bowl. I own two dogs, each weighing 4 lbs., and one of them is quite finicky about food. I've purchased a second bag to use for her vet visits. The two bags I've received so far are strikingly similar.\""
      ]
    },
    {
      "cell_type": "code",
      "execution_count": 141,
      "id": "epafjcz0-NjR",
      "metadata": {
        "colab": {
          "base_uri": "https://localhost:8080/"
        },
        "id": "epafjcz0-NjR",
        "outputId": "944db89b-d9ba-402d-a4ea-310096fa53e1"
      },
      "outputs": [
        {
          "output_type": "stream",
          "name": "stderr",
          "text": [
            "<ipython-input-141-57a7ee43906d>:1: SettingWithCopyWarning: \n",
            "A value is trying to be set on a copy of a slice from a DataFrame\n",
            "\n",
            "See the caveats in the documentation: https://pandas.pydata.org/pandas-docs/stable/user_guide/indexing.html#returning-a-view-versus-a-copy\n",
            "  test_dataset_raw_0_25['text_'][35898] =\"I was taken aback by the level of detail in the figures. The Batman figure is notably impressive, although the figure itself is somewhat diminutive, and the cover seems quite fragile. I wouldn't advise anyone to purchase this figure. Nonetheless, it remains an entertaining toy to play with and makes a fine addition to any collection. This product is exceptionally well-crafted. My daughter has engaged with it for approximately two months now and continues to enjoy it immensely. I'm extremely satisfied with this purchase. My son is nearly 3, and...\"\n"
          ]
        }
      ],
      "source": [
        "test_dataset_raw_0_25['text_'][35898] =\"I was taken aback by the level of detail in the figures. The Batman figure is notably impressive, although the figure itself is somewhat diminutive, and the cover seems quite fragile. I wouldn't advise anyone to purchase this figure. Nonetheless, it remains an entertaining toy to play with and makes a fine addition to any collection. This product is exceptionally well-crafted. My daughter has engaged with it for approximately two months now and continues to enjoy it immensely. I'm extremely satisfied with this purchase. My son is nearly 3, and...\""
      ]
    },
    {
      "cell_type": "code",
      "execution_count": 142,
      "id": "1oxVyRBF-wbu",
      "metadata": {
        "colab": {
          "base_uri": "https://localhost:8080/"
        },
        "id": "1oxVyRBF-wbu",
        "outputId": "df838eaa-e244-4a98-f9d7-4b5ea9cde49b"
      },
      "outputs": [
        {
          "output_type": "stream",
          "name": "stderr",
          "text": [
            "<ipython-input-142-2b0cad0f7085>:1: SettingWithCopyWarning: \n",
            "A value is trying to be set on a copy of a slice from a DataFrame\n",
            "\n",
            "See the caveats in the documentation: https://pandas.pydata.org/pandas-docs/stable/user_guide/indexing.html#returning-a-view-versus-a-copy\n",
            "  test_dataset_raw_0_25['text_'][30798] =\"I went through the whole book, and it proved to be a fascinating read. The narrative commences when Kary, one of the two girls, is assaulted by an enigmatic character. The abductor is portrayed as a devilish figure. Interestingly, Kary's father held the position of a priest, and strikingly, so did the kidnapper.\"\n"
          ]
        }
      ],
      "source": [
        "test_dataset_raw_0_25['text_'][30798] =\"I went through the whole book, and it proved to be a fascinating read. The narrative commences when Kary, one of the two girls, is assaulted by an enigmatic character. The abductor is portrayed as a devilish figure. Interestingly, Kary's father held the position of a priest, and strikingly, so did the kidnapper.\""
      ]
    },
    {
      "cell_type": "code",
      "execution_count": 143,
      "id": "_sqOrnhL-wgb",
      "metadata": {
        "colab": {
          "base_uri": "https://localhost:8080/"
        },
        "id": "_sqOrnhL-wgb",
        "outputId": "ebb0bb51-3bce-4c80-cbd4-b2cb57378da6"
      },
      "outputs": [
        {
          "output_type": "stream",
          "name": "stderr",
          "text": [
            "<ipython-input-143-679f1a5903dd>:1: SettingWithCopyWarning: \n",
            "A value is trying to be set on a copy of a slice from a DataFrame\n",
            "\n",
            "See the caveats in the documentation: https://pandas.pydata.org/pandas-docs/stable/user_guide/indexing.html#returning-a-view-versus-a-copy\n",
            "  test_dataset_raw_0_25['text_'][25185] =\"This author is a new discovery for me. I found her work captivating and am eager to delve into more of her books. I received an advance reader's copy in return for my candid review. I'm smitten with this book.\"\n"
          ]
        }
      ],
      "source": [
        "test_dataset_raw_0_25['text_'][25185] =\"This author is a new discovery for me. I found her work captivating and am eager to delve into more of her books. I received an advance reader's copy in return for my candid review. I'm smitten with this book.\""
      ]
    },
    {
      "cell_type": "code",
      "execution_count": 144,
      "id": "UpTMyKfP-wlv",
      "metadata": {
        "colab": {
          "base_uri": "https://localhost:8080/"
        },
        "id": "UpTMyKfP-wlv",
        "outputId": "90627dd9-e35d-4643-cde9-bae4cc23a15b"
      },
      "outputs": [
        {
          "output_type": "stream",
          "name": "stderr",
          "text": [
            "<ipython-input-144-97b3311a55c1>:1: SettingWithCopyWarning: \n",
            "A value is trying to be set on a copy of a slice from a DataFrame\n",
            "\n",
            "See the caveats in the documentation: https://pandas.pydata.org/pandas-docs/stable/user_guide/indexing.html#returning-a-view-versus-a-copy\n",
            "  test_dataset_raw_0_25['text_'][17279] = \"These are indeed very impressive - a high-quality tool set. I plan to retain them for the next few years. They were a bargain at a fantastic price! They function excellently. The light is somewhat brighter...\"\n"
          ]
        }
      ],
      "source": [
        "test_dataset_raw_0_25['text_'][17279] = \"These are indeed very impressive - a high-quality tool set. I plan to retain them for the next few years. They were a bargain at a fantastic price! They function excellently. The light is somewhat brighter...\""
      ]
    },
    {
      "cell_type": "code",
      "execution_count": 145,
      "id": "L2wMGKjK-wq_",
      "metadata": {
        "colab": {
          "base_uri": "https://localhost:8080/"
        },
        "id": "L2wMGKjK-wq_",
        "outputId": "7cb5d9dd-bcd4-4ab8-e547-a3e3bdb91335"
      },
      "outputs": [
        {
          "output_type": "stream",
          "name": "stderr",
          "text": [
            "<ipython-input-145-b606dcfa57a7>:1: SettingWithCopyWarning: \n",
            "A value is trying to be set on a copy of a slice from a DataFrame\n",
            "\n",
            "See the caveats in the documentation: https://pandas.pydata.org/pandas-docs/stable/user_guide/indexing.html#returning-a-view-versus-a-copy\n",
            "  test_dataset_raw_0_25['text_'][4867] =\"This clock is a must-have! I absolutely adore the texture of it.\"\n"
          ]
        }
      ],
      "source": [
        "test_dataset_raw_0_25['text_'][4867] =\"This clock is a must-have! I absolutely adore the texture of it.\""
      ]
    },
    {
      "cell_type": "code",
      "execution_count": 146,
      "id": "kBBUTaL5-Nn6",
      "metadata": {
        "colab": {
          "base_uri": "https://localhost:8080/"
        },
        "id": "kBBUTaL5-Nn6",
        "outputId": "0fcb51ef-ca2e-4924-f0ef-9e604285582e"
      },
      "outputs": [
        {
          "output_type": "stream",
          "name": "stderr",
          "text": [
            "<ipython-input-146-0bced201bf32>:1: SettingWithCopyWarning: \n",
            "A value is trying to be set on a copy of a slice from a DataFrame\n",
            "\n",
            "See the caveats in the documentation: https://pandas.pydata.org/pandas-docs/stable/user_guide/indexing.html#returning-a-view-versus-a-copy\n",
            "  test_dataset_raw_0_25['text_'][22505] =\"I'm a big fan of this kit. My puppy, being an intense chewer, makes quick work of it, and I love how quickly I can toss this thing. I've been using it along with the Tasers on a 4lb bag of dog food, and she doesn't object to it at all. I keep another 4 lb bag of dog food handy, which is excellent for her to carry around in her mouth. She's absolutely wild about this.\"\n"
          ]
        }
      ],
      "source": [
        "test_dataset_raw_0_25['text_'][22505] =\"I'm a big fan of this kit. My puppy, being an intense chewer, makes quick work of it, and I love how quickly I can toss this thing. I've been using it along with the Tasers on a 4lb bag of dog food, and she doesn't object to it at all. I keep another 4 lb bag of dog food handy, which is excellent for her to carry around in her mouth. She's absolutely wild about this.\""
      ]
    },
    {
      "cell_type": "code",
      "execution_count": 147,
      "id": "RUrNK7jd44WC",
      "metadata": {
        "colab": {
          "base_uri": "https://localhost:8080/"
        },
        "id": "RUrNK7jd44WC",
        "outputId": "86eca91e-5398-45e9-8c3c-dd477e52e35a"
      },
      "outputs": [
        {
          "output_type": "stream",
          "name": "stderr",
          "text": [
            "<ipython-input-147-6af7de42c6e9>:1: SettingWithCopyWarning: \n",
            "A value is trying to be set on a copy of a slice from a DataFrame\n",
            "\n",
            "See the caveats in the documentation: https://pandas.pydata.org/pandas-docs/stable/user_guide/indexing.html#returning-a-view-versus-a-copy\n",
            "  test_dataset_raw_0_25['text_'][11525] =\"The arm functions excellently. I use it as an extended cable for my computer and also have one in my bedroom. The cable is robust and easy to operate. I would certainly recommend it as a valuable addition to your computer setup. I acquired this device with the intention of utilizing it as a family-friendly DVD player. I own a Samsung Galaxy S4 and a Sony PS3. The Sony is the only device among them that I haven't tested yet. I wanted to make my Galaxy S4 compatible with my Samsung, but I was concerned that a lengthy cord might reduce its lifespan. I came across the Sony on a sale at Best Buy and decided to give it a shot. It doesn't feature a cord but does offer a USB port, which is incredibly useful for transferring DVD files.\"\n"
          ]
        }
      ],
      "source": [
        "test_dataset_raw_0_25['text_'][11525] =\"The arm functions excellently. I use it as an extended cable for my computer and also have one in my bedroom. The cable is robust and easy to operate. I would certainly recommend it as a valuable addition to your computer setup. I acquired this device with the intention of utilizing it as a family-friendly DVD player. I own a Samsung Galaxy S4 and a Sony PS3. The Sony is the only device among them that I haven't tested yet. I wanted to make my Galaxy S4 compatible with my Samsung, but I was concerned that a lengthy cord might reduce its lifespan. I came across the Sony on a sale at Best Buy and decided to give it a shot. It doesn't feature a cord but does offer a USB port, which is incredibly useful for transferring DVD files.\""
      ]
    },
    {
      "cell_type": "code",
      "execution_count": 148,
      "id": "9-msIG5p44bQ",
      "metadata": {
        "colab": {
          "base_uri": "https://localhost:8080/"
        },
        "id": "9-msIG5p44bQ",
        "outputId": "49e06e5b-5082-46f8-b06b-9418ea67ab38"
      },
      "outputs": [
        {
          "output_type": "stream",
          "name": "stderr",
          "text": [
            "<ipython-input-148-5a87d1bbc00d>:1: SettingWithCopyWarning: \n",
            "A value is trying to be set on a copy of a slice from a DataFrame\n",
            "\n",
            "See the caveats in the documentation: https://pandas.pydata.org/pandas-docs/stable/user_guide/indexing.html#returning-a-view-versus-a-copy\n",
            "  test_dataset_raw_0_25['text_'][25079] =\"I'm uncertain about the origins of some individuals, but comprehending the events that transpired is crucial.I found considerable enjoyment in reading this book and I...\"\n"
          ]
        }
      ],
      "source": [
        "test_dataset_raw_0_25['text_'][25079] =\"I'm uncertain about the origins of some individuals, but comprehending the events that transpired is crucial.I found considerable enjoyment in reading this book and I...\""
      ]
    },
    {
      "cell_type": "code",
      "execution_count": 149,
      "id": "Hc_J4t52_vDO",
      "metadata": {
        "colab": {
          "base_uri": "https://localhost:8080/"
        },
        "id": "Hc_J4t52_vDO",
        "outputId": "475495b4-2461-47df-a780-7aaaae9c8ca9"
      },
      "outputs": [
        {
          "output_type": "stream",
          "name": "stderr",
          "text": [
            "<ipython-input-149-29c34c3434ac>:1: SettingWithCopyWarning: \n",
            "A value is trying to be set on a copy of a slice from a DataFrame\n",
            "\n",
            "See the caveats in the documentation: https://pandas.pydata.org/pandas-docs/stable/user_guide/indexing.html#returning-a-view-versus-a-copy\n",
            "  test_dataset_raw_0_25['text_'][36858] =\"It has an odd fit, tight around the thighs. I'm unsure if the knee section is considerably tighter, but...\"\n"
          ]
        }
      ],
      "source": [
        "test_dataset_raw_0_25['text_'][36858] =\"It has an odd fit, tight around the thighs. I'm unsure if the knee section is considerably tighter, but...\""
      ]
    },
    {
      "cell_type": "code",
      "execution_count": null,
      "id": "HJLEmnCS_vH2",
      "metadata": {
        "id": "HJLEmnCS_vH2"
      },
      "outputs": [],
      "source": [
        "test_dataset_raw_0_25['text_'][37468] =\"It fits accurately to size and has an appealing appearance. However, for my petite frame, it's slightly tight.\""
      ]
    },
    {
      "cell_type": "code",
      "execution_count": 152,
      "id": "-k03joae_vPN",
      "metadata": {
        "id": "-k03joae_vPN"
      },
      "outputs": [],
      "source": [
        "merged_df_120 = pd.concat([test_dataset_raw_0_25, test_dataset_raw_1_100], ignore_index=True)\n",
        "\n",
        "# Shuffle the index\n",
        "test_120 = merged_df_120.sample(frac=1, random_state=42).reset_index(drop=True)"
      ]
    },
    {
      "cell_type": "code",
      "execution_count": 153,
      "id": "886zEJC3_vVL",
      "metadata": {
        "id": "886zEJC3_vVL"
      },
      "outputs": [],
      "source": [
        "test_encodings_120 = tokenizer(test_120['text_'].tolist(), truncation=True, padding=True, max_length=256)\n",
        "\n",
        "test_dataset_120 = tf.data.Dataset.from_tensor_slices((\n",
        "    dict(test_encodings_120),\n",
        "    test_120['target'].values\n",
        "))"
      ]
    },
    {
      "cell_type": "code",
      "execution_count": 196,
      "id": "bXFJlSgc_vbM",
      "metadata": {
        "colab": {
          "base_uri": "https://localhost:8080/"
        },
        "id": "bXFJlSgc_vbM",
        "outputId": "a4a55efa-81e9-4596-a012-081e8d5a35df"
      },
      "outputs": [
        {
          "output_type": "stream",
          "name": "stdout",
          "text": [
            "8/8 [==============================] - 2s 303ms/step\n",
            "              precision    recall  f1-score   support\n",
            "\n",
            "          CG     0.6667    0.8800    0.7586        25\n",
            "          OR     0.9674    0.8900    0.9271       100\n",
            "\n",
            "    accuracy                         0.8880       125\n",
            "   macro avg     0.8170    0.8850    0.8429       125\n",
            "weighted avg     0.9072    0.8880    0.8934       125\n",
            "\n"
          ]
        }
      ],
      "source": [
        "test_dataset_120_batched = test_dataset_120.batch(16)\n",
        "y_pred_raw_120 = model.predict(test_dataset_120_batched)\n",
        "\n",
        "# Convert raw predictions to class predictions\n",
        "y_pred_120 = np.argmax(y_pred_raw_120.logits, axis=1)\n",
        "\n",
        "# Get the actual class labels\n",
        "y_true_120 = []\n",
        "for features, label in test_dataset_120:\n",
        "    y_true_120.append(label.numpy())\n",
        "y_true_120 = np.array(y_true_120)\n",
        "\n",
        "\n",
        "# Generate a classification report\n",
        "report_120 = classification_report(y_true_120, y_pred_120, target_names=[\"CG\", \"OR\"],digits =4)  # replace target_names with your actual class names\n",
        "print(report_120)"
      ]
    },
    {
      "cell_type": "code",
      "execution_count": null,
      "id": "AffIM13C_vhd",
      "metadata": {
        "id": "AffIM13C_vhd"
      },
      "outputs": [],
      "source": []
    },
    {
      "cell_type": "markdown",
      "source": [
        "# GPT4 random 25"
      ],
      "metadata": {
        "id": "ttKR4mfC1ifl"
      },
      "id": "ttKR4mfC1ifl"
    },
    {
      "cell_type": "code",
      "execution_count": 237,
      "id": "RkPd_Z2ECetM",
      "metadata": {
        "id": "RkPd_Z2ECetM"
      },
      "outputs": [],
      "source": [
        "# Dictionary with your texts and target values\n",
        "data = {\n",
        "    \"text_\": [\n",
        "        \"This kitchen blender is not only a perfect companion for creating delightful smoothies but also an elegant addition to any kitchen countertop.\",\n",
        "        \"The comfort and sound quality of these headphones are nothing short of impressive. The noise cancellation feature allows for an immersive experience.\",\n",
        "        \"This book is an absolute page-turner. The storyline is intriguing, the characters are well-developed, and the author's writing style is compelling.\",\n",
        "        \"I was thoroughly impressed with this smartphone. It offers excellent performance, a crisp display, and a battery that lasts all day.\",\n",
        "        \"This cookware set exceeded my expectations. It's not only aesthetically pleasing but also has an amazing non-stick surface and heats evenly.\",\n",
        "        \"These running shoes are fantastic. They offer great support, are lightweight, and incredibly comfortable.\",\n",
        "        \"The soundbar provides clear, room-filling sound. The setup was straightforward, and the Bluetooth connectivity is a great feature.\",\n",
        "        \"This backpack is not only stylish but also functional. It has a generous storage capacity, and the material is durable.\",\n",
        "        \"The vacuum cleaner is extremely efficient. The powerful suction is a plus, and it maneuvers around furniture effortlessly.\",\n",
        "        \"The camping tent is easy to set up and spacious. The material is durable, withstanding various weather conditions.\",\n",
        "        \"This pet bed is a hit with my dog. It's plush and comfortable, providing a cozy spot for her to rest.\",\n",
        "        \"The keyboard delivers an enjoyable typing experience. The keys are responsive and comfortable to use for prolonged periods.\",\n",
        "        \"This skincare product has transformed my skin. It's gentle, yet effective, leaving my skin feeling soft, refreshed, and visibly brighter.\",\n",
        "        \"These wireless earbuds have an impressive sound quality, a comfortable fit, and the battery life is long-lasting.\",\n",
        "        \"This yoga mat is excellent. It provides enough cushioning, has a non-slip surface, and is easy to clean.\",\n",
        "        \"I love this coffee maker. It brews coffee quickly, it's easy to use, and the coffee tastes great.\",\n",
        "        \"The slow cooker is a gem. It's easy to operate, the food comes out delicious, and it's easy to clean.\",\n",
        "        \"This facial cleanser is wonderful. It cleanses deeply, leaving the skin feeling fresh and clean without drying it out.\",\n",
        "        \"The fitness tracker is an excellent workout companion. It's accurate, easy to use, and the app provides insightful data.\",\n",
        "        \"This bedsheet set is fantastic. It's incredibly soft, comfortable, and the color hasn't faded after several washes.\",\n",
        "        \"This nail polish is amazing. The color is vibrant, it applies smoothly, and it has a long-lasting finish.\",\n",
        "        \"This computer mouse is reliable and comfortable to use. It moves smoothly and the click is quiet.\",\n",
        "        \"The baby monitor gives peace of mind. The video is clear, the audio is crisp, and the range is good.\",\n",
        "        \"This electric toothbrush cleans teeth thoroughly. It has different modes for different needs, and the battery life is good.\",\n",
        "        \"This lawn mower is a workhorse. It's powerful, easy to maneuver, and the cut is even.\"\n",
        "    ],\n",
        "    \"target\": [0] * 25\n",
        "}\n",
        "\n",
        "# Create DataFrame\n",
        "test_dataset_raw_r_25 = pd.DataFrame(data)"
      ]
    },
    {
      "cell_type": "code",
      "execution_count": 238,
      "id": "jDBrxUv7CexD",
      "metadata": {
        "id": "jDBrxUv7CexD"
      },
      "outputs": [],
      "source": [
        "test_dataset_raw_2_100 = test_dataset_raw_1_100[['text_','target']]"
      ]
    },
    {
      "cell_type": "code",
      "execution_count": 239,
      "id": "VHpN6LHZCe1l",
      "metadata": {
        "id": "VHpN6LHZCe1l"
      },
      "outputs": [],
      "source": [
        "merged_df_120_2 = pd.concat([test_dataset_raw_r_25, test_dataset_raw_2_100], ignore_index=True)\n",
        "\n",
        "# Shuffle the index\n",
        "test_120_2 = merged_df_120_2.sample(frac=1, random_state=42).reset_index(drop=True)"
      ]
    },
    {
      "cell_type": "code",
      "execution_count": 240,
      "id": "rAs8KVHICe6N",
      "metadata": {
        "id": "rAs8KVHICe6N"
      },
      "outputs": [],
      "source": [
        "test_encodings_120_2 = tokenizer(test_120_2['text_'].tolist(), truncation=True, padding=True, max_length=256)\n",
        "\n",
        "test_dataset_120_2 = tf.data.Dataset.from_tensor_slices((\n",
        "    dict(test_encodings_120_2),\n",
        "    test_120_2['target'].values\n",
        "))"
      ]
    },
    {
      "cell_type": "code",
      "execution_count": 242,
      "id": "yUEkrPjwCfAi",
      "metadata": {
        "id": "yUEkrPjwCfAi",
        "colab": {
          "base_uri": "https://localhost:8080/"
        },
        "outputId": "5a7cb57a-a0d5-451c-8f57-2dc3e802db87"
      },
      "outputs": [
        {
          "output_type": "stream",
          "name": "stdout",
          "text": [
            "8/8 [==============================] - 2s 284ms/step\n",
            "              precision    recall  f1-score   support\n",
            "\n",
            "          CG     0.6061    0.8000    0.6897        25\n",
            "          OR     0.9457    0.8700    0.9062       100\n",
            "\n",
            "    accuracy                         0.8560       125\n",
            "   macro avg     0.7759    0.8350    0.7980       125\n",
            "weighted avg     0.8777    0.8560    0.8629       125\n",
            "\n"
          ]
        }
      ],
      "source": [
        "test_dataset_120_2_batched = test_dataset_120_2.batch(16)\n",
        "y_pred_raw_120_2 = model.predict(test_dataset_120_2_batched)\n",
        "\n",
        "# Convert raw predictions to class predictions\n",
        "y_pred_120_2 = np.argmax(y_pred_raw_120_2.logits, axis=1)\n",
        "\n",
        "# Get the actual class labels\n",
        "y_true_120_2 = []\n",
        "for features, label in test_dataset_120_2:\n",
        "    y_true_120_2.append(label.numpy())\n",
        "y_true_120_2 = np.array(y_true_120_2)\n",
        "\n",
        "\n",
        "# Generate a classification report\n",
        "report_120_2 = classification_report(y_true_120_2, y_pred_120_2, target_names=[\"CG\", \"OR\"],digits =4)\n",
        "print(report_120_2)"
      ]
    },
    {
      "cell_type": "code",
      "execution_count": null,
      "id": "7uCG8CxkCfGP",
      "metadata": {
        "id": "7uCG8CxkCfGP"
      },
      "outputs": [],
      "source": []
    },
    {
      "cell_type": "markdown",
      "source": [
        "# GPT 4 50"
      ],
      "metadata": {
        "id": "E8Iy2M1B1s0t"
      },
      "id": "E8Iy2M1B1s0t"
    },
    {
      "cell_type": "code",
      "execution_count": 321,
      "id": "2XXF5IXmCfLv",
      "metadata": {
        "id": "2XXF5IXmCfLv"
      },
      "outputs": [],
      "source": [
        "data1 ={\n",
        "    \"text_\": [\n",
        "        \"This kitchen blender is not only a perfect companion for creating delightful smoothies but also an elegant addition to any kitchen countertop.\",\n",
        "        \"The comfort and sound quality of these headphones are nothing short of impressive. The noise cancellation feature allows for an immersive experience.\",\n",
        "        \"This book is an absolute page-turner. The storyline is intriguing, the characters are well-developed, and the author's writing style is compelling.\",\n",
        "        \"I was thoroughly impressed with this smartphone. It offers excellent performance, a crisp display, and a battery that lasts all day.\",\n",
        "        \"This cookware set exceeded my expectations. It's not only aesthetically pleasing but also has an amazing non-stick surface and heats evenly.\",\n",
        "        \"These running shoes are fantastic. They offer great support, are lightweight, and incredibly comfortable.\",\n",
        "        \"The soundbar provides clear, room-filling sound. The setup was straightforward, and the Bluetooth connectivity is a great feature.\",\n",
        "        \"This backpack is not only stylish but also functional. It has a generous storage capacity, and the material is durable.\",\n",
        "        \"The vacuum cleaner is extremely efficient. The powerful suction is a plus, and it maneuvers around furniture effortlessly.\",\n",
        "        \"The camping tent is easy to set up and spacious. The material is durable, withstanding various weather conditions.\",\n",
        "        \"This pet bed is a hit with my dog. It's plush and comfortable, providing a cozy spot for her to rest.\",\n",
        "        \"The keyboard delivers an enjoyable typing experience. The keys are responsive and comfortable to use for prolonged periods.\",\n",
        "        \"This skincare product has transformed my skin. It's gentle, yet effective, leaving my skin feeling soft, refreshed, and visibly brighter.\",\n",
        "        \"These wireless earbuds have an impressive sound quality, a comfortable fit, and the battery life is long-lasting.\",\n",
        "        \"This yoga mat is excellent. It provides enough cushioning, has a non-slip surface, and is easy to clean.\",\n",
        "        \"I love this coffee maker. It brews coffee quickly, it's easy to use, and the coffee tastes great.\",\n",
        "        \"The slow cooker is a gem. It's easy to operate, the food comes out delicious, and it's easy to clean.\",\n",
        "        \"This facial cleanser is wonderful. It cleanses deeply, leaving the skin feeling fresh and clean without drying it out.\",\n",
        "        \"The fitness tracker is an excellent workout companion. It's accurate, easy to use, and the app provides insightful data.\",\n",
        "        \"This bedsheet set is fantastic. It's incredibly soft, comfortable, and the color hasn't faded after several washes.\",\n",
        "        \"This nail polish is amazing. The color is vibrant, it applies smoothly, and it has a long-lasting finish.\",\n",
        "        \"This computer mouse is reliable and comfortable to use. It moves smoothly and the click is quiet.\",\n",
        "        \"The baby monitor gives peace of mind. The video is clear, the audio is crisp, and the range is good.\",\n",
        "        \"This electric toothbrush cleans teeth thoroughly. It has different modes for different needs, and the battery life is good.\",\n",
        "        \"This lawn mower is a workhorse. It's powerful, easy to maneuver, and the cut is even.\",\n",
        "        \"The Zephyr earbuds offer a crystal clear sound experience. They fit snugly and stay in place, even during my most intense workouts. The battery life is impressive, and the touch controls are intuitive. Highly recommend!\",\n",
        "        \"I've tried countless night creams, but LunaLuxe is by far my favorite. Within a week, I noticed a softer, more hydrated complexion. Plus, the light lavender scent is such a calming bonus before bedtime.\",\n",
        "        \"Took these on a 10-mile hike right out of the box, and not a single blister! The TrekMaster boots provide great support and traction. They're also surprisingly lightweight. A must-have for any hiking enthusiast.\",\n",
        "        \"I never thought I'd be raving about a blender, but here we are. The StellarBlend is powerful, easy to clean, and makes the creamiest smoothies. The preset modes are a game-changer. Worth every penny!\",\n",
        "        \"PuraPure straws are not only sustainable but also durable and stylish. They come in an array of colors, and I love that they're dishwasher safe. Doing my bit for the environment just became a tad cooler.\",\n",
        "        \"Dropped my phone down a flight of stairs – it was a heart-stopping moment. But thanks to the TechGuard case, my phone didn't have a scratch! It's slim, not bulky, and offers top-notch protection.\",\n",
        "        \"I've been a die-hard physical book fan, but the BrioBook has converted me. The e-ink display is easy on the eyes, and the battery lasts forever. The built-in backlight is perfect for late-night reading.\",\n",
        "        \"Apart from being a stylish timepiece, the SolarWave's solar charging feature is genuinely impressive. I've not had to worry about the battery at all. The minimalist design and eco-friendly feature make it a conversation starter.\",\n",
        "        \"A quick spritz of AquaSpritz is all I need to feel refreshed. It's a lifesaver, especially during long flights or hot days. The mist is fine and doesn't disturb my makeup. Plus, the rosewater scent is divine.\",\n",
        "        \"The GlideFlow yoga mat provides just the right amount of cushion and grip. I've tried many mats, but this one feels the most stable, especially during challenging poses. And the alignment lines? Genius!\",\n",
        "\"This lamp is a tech lover's dream! Not only does it offer adjustable brightness settings, but it also syncs with my smart home system flawlessly. Plus, the modern design is the cherry on top.\",\n",
        "        \"Switching to EcoLife wraps has drastically reduced my plastic usage. They're easy to clean, seal well, and come in adorable patterns. I feel good knowing I'm making a sustainable choice.\",\n",
        "        \"Every time I wear Mystique, I receive endless compliments. It's a unique blend of floral and musk, lasting all day without being overpowering. A little goes a long way!\",\n",
        "        \"The fabric is soft yet durable, wicking away sweat during intense workouts. ProFit leggings don't roll down, and the pocket feature is super handy. Five stars!\",\n",
        "        \"From my phone to a physical photo in minutes! PixelPrint delivers vibrant, high-quality prints. The companion app's editing tools are a fantastic touch. No regrets on this purchase.\",\n",
        "        \"Cooking has never been better! This pan heats evenly, is easy to clean, and feels built to last a lifetime. Chef's Delight has truly lived up to its name.\",\n",
        "        \"Set up was a breeze, and it withstood a heavy downpour with no leaks. SkyHigh's tent is spacious and packed with thoughtful features. Camping trips just got an upgrade!\",\n",
        "        \"No more stiff necks on flights! The AeroFlow pillow provides perfect support and is compact enough to fit in my carry-on. I won't travel without it.\",\n",
        "        \"As an artist, the Novelty tablet has enhanced my digital creations. The pen feels natural, the screen is responsive, and the software bundle is generous. A masterpiece in its own right!\",\n",
        "        \"My hair has never felt or looked better! LushLocks serum tames frizz and adds a beautiful shine without feeling greasy. A staple in my haircare routine.\",\n",
        "        \"Sleeping on clouds! That's how the BellaCasa bedding feels. The fabric is soft yet breathable, and the patterns are elegant. Worth every penny.\",\n",
        "        \"For a beginner gardener, this kit is perfect. GreenThumb provides everything I need, from seeds to tools. My garden is thriving thanks to their quality products.\",\n",
        "        \"A mesmerizing addition to my backyard! The SolarZen lights charge quickly, glow beautifully, and have held up against all weather. No more tangled extension cords!\",\n",
        "        \"Sleep has never been this rejuvenating. The DriftAway mattress contours to my body, providing the right balance of support and comfort. Plus, the cooling technology is a game-changer.\",\n",
        "\n",
        "\"Tap water has never tasted so fresh! The EverPure filter was easy to install, and I've noticed a significant difference in water clarity and taste. A must-have for every household.\"\n",
        "\n",
        "\n",
        "\n",
        "\n",
        "\n",
        "    ],\n",
        "    \"target\": [0] * 50\n",
        "}\n"
      ]
    },
    {
      "cell_type": "code",
      "execution_count": 322,
      "id": "Zl64S5_9_vn3",
      "metadata": {
        "id": "Zl64S5_9_vn3"
      },
      "outputs": [],
      "source": [
        "test_dataset_raw_r_50 = pd.DataFrame(data1)"
      ]
    },
    {
      "cell_type": "code",
      "execution_count": 323,
      "id": "u-QT47gHCeFW",
      "metadata": {
        "id": "u-QT47gHCeFW"
      },
      "outputs": [],
      "source": [
        "test_dataset_raw_3_100 = test_dataset_raw_1_100[['text_','target']]"
      ]
    },
    {
      "cell_type": "code",
      "source": [
        "merged_df_120_3 = pd.concat([test_dataset_raw_r_50, test_dataset_raw_3_100], ignore_index=True)\n",
        "\n",
        "# Shuffle the index\n",
        "test_120_3 = merged_df_120_3.sample(frac=1, random_state=42).reset_index(drop=True)"
      ],
      "metadata": {
        "id": "K9rhEw1g0jza"
      },
      "id": "K9rhEw1g0jza",
      "execution_count": 324,
      "outputs": []
    },
    {
      "cell_type": "code",
      "source": [
        "test_encodings_120_3 = tokenizer(test_120_3['text_'].tolist(), truncation=True, padding=True, max_length=256)\n",
        "\n",
        "test_dataset_120_3 = tf.data.Dataset.from_tensor_slices((\n",
        "    dict(test_encodings_120_3),\n",
        "    test_120_3['target'].values\n",
        "))"
      ],
      "metadata": {
        "id": "z-IaMY3n0j4t"
      },
      "id": "z-IaMY3n0j4t",
      "execution_count": 325,
      "outputs": []
    },
    {
      "cell_type": "code",
      "source": [
        "test_dataset_120_3_batched = test_dataset_120_3.batch(16)\n",
        "y_pred_raw_120_3 = model.predict(test_dataset_120_3_batched)\n",
        "\n",
        "# Convert raw predictions to class predictions\n",
        "y_pred_120_3 = np.argmax(y_pred_raw_120_3.logits, axis=1)\n",
        "\n",
        "# Get the actual class labels\n",
        "y_true_120_3 = []\n",
        "for features, label in test_dataset_120_3:\n",
        "    y_true_120_3.append(label.numpy())\n",
        "y_true_120_3 = np.array(y_true_120_3)\n",
        "\n",
        "\n",
        "# Generate a classification report\n",
        "report_120_3 = classification_report(y_true_120_3, y_pred_120_3, target_names=[\"CG\", \"OR\"],digits =4)\n",
        "print(report_120_3)"
      ],
      "metadata": {
        "colab": {
          "base_uri": "https://localhost:8080/"
        },
        "id": "i3Bwv5xZ0j-J",
        "outputId": "cb18378a-0b90-470c-988f-9b40bc2c31a4"
      },
      "id": "i3Bwv5xZ0j-J",
      "execution_count": 326,
      "outputs": [
        {
          "output_type": "stream",
          "name": "stdout",
          "text": [
            "10/10 [==============================] - 3s 275ms/step\n",
            "              precision    recall  f1-score   support\n",
            "\n",
            "          CG     0.7097    0.4400    0.5432        50\n",
            "          OR     0.7647    0.9100    0.8311       100\n",
            "\n",
            "    accuracy                         0.7533       150\n",
            "   macro avg     0.7372    0.6750    0.6871       150\n",
            "weighted avg     0.7464    0.7533    0.7351       150\n",
            "\n"
          ]
        }
      ]
    },
    {
      "cell_type": "code",
      "source": [],
      "metadata": {
        "id": "EOVN99bD0kDX"
      },
      "id": "EOVN99bD0kDX",
      "execution_count": null,
      "outputs": []
    },
    {
      "cell_type": "code",
      "source": [],
      "metadata": {
        "id": "33kQENx71OnC"
      },
      "id": "33kQENx71OnC",
      "execution_count": null,
      "outputs": []
    },
    {
      "cell_type": "markdown",
      "source": [
        "# GPT 3 50"
      ],
      "metadata": {
        "id": "9Nh5_dTK1yQu"
      },
      "id": "9Nh5_dTK1yQu"
    },
    {
      "cell_type": "code",
      "source": [
        "data2 ={\n",
        "    \"text_\": [\n",
        "        \"These earbuds are amazing! The sound quality is top-notch and the wireless connectivity is seamless. I love how comfortable they are in my ears, making them perfect for long listening sessions.\",\n",
        "        \"This portable charger is a lifesaver. It's compact and lightweight, making it easy to carry around. It charges my phone quickly and has saved me from running out of battery multiple times.\",\n",
        "        \"I'm loving this fitness tracker! It accurately monitors my steps, heart rate, and sleep patterns. The app is user-friendly and helps me stay on top of my health goals.\",\n",
        "        \"Cooking has become a breeze with this non-stick pan. It heats up evenly and the food slides right off. Cleanup is a breeze, too! Definitely a must-have in the kitchen.\",\n",
        "\"I take this water bottle everywhere I go. It keeps my water cold for hours, and I love that it's eco-friendly. The design is sleek and the quality is excellent.\",\n",
        "        \"These headphones are a game-changer. The noise cancellation is impressive, whether I'm on a noisy plane or just want to focus at home. The sound quality is fantastic as well.\",\n",
        "        \"I can't imagine my life without this smart home assistant. It controls my smart devices, plays my favorite music, and even answers my questions. It's like having a personal assistant at home.\",\n",
        "        \"Say goodbye to pre-ground coffee! This coffee maker with a built-in grinder takes freshness to a new level. Every cup is a delight, and the aroma is heavenly.\",\n",
        "        \"These suitcases exceeded my expectations. They're sturdy, well-built, and the wheels glide smoothly. The different sizes are perfect for various travel needs.\",\n",
        "        \"I've been using these resistance bands for my home workouts, and they add the perfect level of challenge. The set comes with different resistance levels, making it versatile.\",\n",
        "        \"Reading has never been this convenient. The e-reader tablet's screen resembles real paper, and I can carry a whole library with me. Battery life is impressive, too.\",\n",
        "        \"Finally, no more tangled wires on my desk. This wireless mouse is responsive and comfortable to use. It's a small change that has made a big difference.\",\n",
        "        \"As a yoga enthusiast, I appreciate the alignment lines on this mat. It helps me maintain proper positioning during poses. The thickness is just right for cushioning.\",\n",
        "        \"I'm amazed by how crispy and delicious the food turns out in this air fryer. It's a healthier alternative to frying, and I use it almost every day.\",\n",
        "        \"These headphones stay in place no matter how intense my workouts get. The sound quality is impressive, and they're sweat-resistant, which is a huge plus.\",\n",
        "        \"This video doorbell adds a new level of security to my home. I can see and talk to visitors from my phone, even when I'm not home. Installation was straightforward.\",\n",
        "        \"My teeth have never felt cleaner! This electric toothbrush not only cleans effectively but also has a UV sanitizer to keep the brush head germ-free. A great investment in oral hygiene.\",\n",
        "        \"Cleaning has become so much easier with this handheld steam cleaner. It tackles grime and dirt effortlessly, and I love that it uses only water for a chemical-free clean.\",\n",
        "        \"I no longer have to hunch over my laptop. This stand is adjustable and elevates my screen to eye level, saving my neck and improving my posture.\",\n",
        "        \"This Bluetooth speaker is a party in itself! The LED lights sync with the music and create a fun atmosphere. The sound quality is great, making it perfect for gatherings.\",\n",
        "\"I'm amazed by the versatility of this food processor. It slices, dices, and even kneads dough with ease. It has definitely become an essential tool in my kitchen.\",\n",
        "        \"This speaker delivers impressive sound quality for its size. The Bluetooth connection is stable, and the battery life is excellent. I take it with me everywhere.\",\n",
        "        \"Switching between sitting and standing is a game-changer for my productivity. This desk converter is easy to adjust and provides ample space for my monitors and keyboard.\",\n",
        "        \"These plant pots have taken the guesswork out of watering my plants. The self-watering system is effective, and my plants have never looked healthier.\",\n",
        "        \"These lights have added charm to my garden. They charge during the day and illuminate my outdoor space beautifully at night. Plus, they're eco-friendly!\",\n",
        "        \"Capturing breathtaking aerial shots has never been this accessible. This foldable drone is easy to control and the camera quality exceeds my expectations.\",\n",
        "\"Cleaning has become less of a chore with this cordless vacuum. It's lightweight, powerful, and the battery lasts long enough to clean my whole house.\",\n",
        "\"These knives have greatly improved my kitchen skills. They're sharp, well-balanced, and the variety of sizes makes meal prep a breeze.\",\n",
        "        \"This foam roller is a lifesaver for post-workout recovery. It helps relieve muscle tension and the textured surface adds an extra level of relief.\",\n",
        "        \"As an artist, this drawing tablet has opened up new creative possibilities for me. The pressure sensitivity and precision are impressive.\",\n",
        "        \"Controlling my home's temperature remotely is so convenient. This smart thermostat has helped me save on energy bills while keeping my space comfortable.\",\n",
        "        \"This tumbler keeps my drinks hot or cold for hours. The stainless steel design is durable, and it's a great alternative to disposable cups.\",\n",
        "        \"I've gained valuable insights into my sleep patterns with this smartwatch. It's comfortable to wear, and the app provides detailed sleep analysis.\",\n",
        "        \"This folding bike is perfect for urban commuting. It's lightweight, easy to fold, and the ride is surprisingly smooth.\",\n",
        "        \"Charging my devices is hassle-free with this wireless charging pad. It works seamlessly and eliminates the need for tangled cables.\",\n",
        "        \"This sanitizing wand is a must-have for keeping my belongings clean. It's portable and uses UV-C light to disinfect surfaces effectively.\",\n",
        "        \"Opening wine bottles has never been easier. This electric wine opener is quick, efficient, and adds a touch of elegance to wine nights.\",\n",
        "        \"These food containers are a space-saving marvel. They collapse for easy storage and are perfect for packing lunches and storing leftovers.\",\n",
        "        \"This keyboard is a game-changer for typing on my tablet or phone. It's compact, connects seamlessly via Bluetooth, and the keys have a satisfying feel.\",\n",
        "        \"I'm amazed by how quickly I can whip up meals with this pressure cooker. It's versatile, safe, and the flavors of my dishes are intensified.\",\n",
        "        \"This charging case keeps my earbuds powered up on the go. It's compact and convenient, ensuring I never run out of battery.\",\n",
        "        \"Say goodbye to fumbling with your phone in the car. This magnetic mount holds my phone securely, and the installation is a breeze.\",\n",
        "        \"These adjustable dumbbells have replaced a whole rack in my home gym. They're easy to change, and the weight range is perfect for various exercises.\",\n",
        "        \"I'm enjoying café-quality espresso at home with this compact machine. It's easy to use, and the crema on my shots is impressive.\",\n",
        "        \"Movie nights have become more exciting with this mini projector. The image quality is surprisingly good, and it's great for outdoor gatherings.\",\n",
        "        \"This razor gives me a close shave without irritation. The battery life is impressive, and the design makes it comfortable to hold.\",\n",
        "        \"Managing multiple devices is a breeze with this charging station. It keeps everything organized and charges devices quickly.\",\n",
        "\"This protein powder is a tasty addition to my post-workout routine. It's plant-based, blends well, and doesn't leave a chalky aftertaste.\",\n",
        "        \"These silicone food bags are a fantastic alternative to disposable plastic bags. They're leak-proof, easy to clean, and I feel great about reducing my waste.\",\n",
        "        \"This smart scale goes beyond just weight measurement. It tracks various health metrics and syncs seamlessly with my fitness app, helping me stay on track with my goals.\"\n",
        "\n",
        "\n",
        "\n",
        "\n",
        "\n",
        "    ],\n",
        "    \"target\": [0] * 50\n",
        "}"
      ],
      "metadata": {
        "id": "6XnRHJuU1Otw"
      },
      "id": "6XnRHJuU1Otw",
      "execution_count": 338,
      "outputs": []
    },
    {
      "cell_type": "code",
      "source": [
        "len(data2['text_'])"
      ],
      "metadata": {
        "colab": {
          "base_uri": "https://localhost:8080/"
        },
        "id": "g7rRW1dY4ZnE",
        "outputId": "0d97a52a-ac8d-4220-f0b9-3db8c1d065f8"
      },
      "id": "g7rRW1dY4ZnE",
      "execution_count": 339,
      "outputs": [
        {
          "output_type": "execute_result",
          "data": {
            "text/plain": [
              "50"
            ]
          },
          "metadata": {},
          "execution_count": 339
        }
      ]
    },
    {
      "cell_type": "code",
      "source": [
        "test_dataset_raw_l_50 = pd.DataFrame(data2)"
      ],
      "metadata": {
        "id": "h8Lu89L71O0k"
      },
      "id": "h8Lu89L71O0k",
      "execution_count": 340,
      "outputs": []
    },
    {
      "cell_type": "code",
      "source": [
        "test_dataset_raw_4_100 = test_dataset_raw_1_100[['text_','target']]"
      ],
      "metadata": {
        "id": "w30Wn91r1O6e"
      },
      "id": "w30Wn91r1O6e",
      "execution_count": 341,
      "outputs": []
    },
    {
      "cell_type": "code",
      "source": [
        "merged_df_120_4 = pd.concat([test_dataset_raw_l_50, test_dataset_raw_4_100], ignore_index=True)\n",
        "\n",
        "# Shuffle the index\n",
        "test_120_4= merged_df_120_4.sample(frac=1, random_state=42).reset_index(drop=True)"
      ],
      "metadata": {
        "id": "rlyxmWFQ1O_K"
      },
      "id": "rlyxmWFQ1O_K",
      "execution_count": 342,
      "outputs": []
    },
    {
      "cell_type": "code",
      "source": [
        "test_encodings_120_4 = tokenizer(test_120_4['text_'].tolist(), truncation=True, padding=True, max_length=256)\n",
        "\n",
        "test_dataset_120_4 = tf.data.Dataset.from_tensor_slices((\n",
        "    dict(test_encodings_120_4),\n",
        "    test_120_4['target'].values\n",
        "))"
      ],
      "metadata": {
        "id": "OUQnP39d0kIm"
      },
      "id": "OUQnP39d0kIm",
      "execution_count": 343,
      "outputs": []
    },
    {
      "cell_type": "code",
      "source": [
        "test_dataset_120_4_batched = test_dataset_120_4.batch(16)\n",
        "y_pred_raw_120_4 = model.predict(test_dataset_120_4_batched)\n",
        "\n",
        "# Convert raw predictions to class predictions\n",
        "y_pred_120_4 = np.argmax(y_pred_raw_120_4.logits, axis=1)\n",
        "\n",
        "# Get the actual class labels\n",
        "y_true_120_4 = []\n",
        "for features, label in test_dataset_120_4:\n",
        "    y_true_120_4.append(label.numpy())\n",
        "y_true_120_4 = np.array(y_true_120_4)\n",
        "\n",
        "\n",
        "# Generate a classification report\n",
        "report_120_4 = classification_report(y_true_120_4, y_pred_120_4, target_names=[\"CG\", \"OR\"],digits =4)\n",
        "print(report_120_4)"
      ],
      "metadata": {
        "colab": {
          "base_uri": "https://localhost:8080/"
        },
        "id": "POmaZjfw0kOE",
        "outputId": "f225666f-ea25-457e-f3cc-1f36d9a82696"
      },
      "id": "POmaZjfw0kOE",
      "execution_count": 344,
      "outputs": [
        {
          "output_type": "stream",
          "name": "stdout",
          "text": [
            "10/10 [==============================] - 3s 283ms/step\n",
            "              precision    recall  f1-score   support\n",
            "\n",
            "          CG     0.7500    0.5400    0.6279        50\n",
            "          OR     0.7982    0.9100    0.8505       100\n",
            "\n",
            "    accuracy                         0.7867       150\n",
            "   macro avg     0.7741    0.7250    0.7392       150\n",
            "weighted avg     0.7822    0.7867    0.7763       150\n",
            "\n"
          ]
        }
      ]
    }
  ],
  "metadata": {
    "accelerator": "GPU",
    "colab": {
      "gpuType": "T4",
      "provenance": []
    },
    "kernelspec": {
      "display_name": "Python 3 (ipykernel)",
      "language": "python",
      "name": "python3"
    },
    "language_info": {
      "codemirror_mode": {
        "name": "ipython",
        "version": 3
      },
      "file_extension": ".py",
      "mimetype": "text/x-python",
      "name": "python",
      "nbconvert_exporter": "python",
      "pygments_lexer": "ipython3",
      "version": "3.8.12"
    },
    "toc": {
      "base_numbering": 1,
      "nav_menu": {},
      "number_sections": true,
      "sideBar": true,
      "skip_h1_title": false,
      "title_cell": "Table of Contents",
      "title_sidebar": "Contents",
      "toc_cell": false,
      "toc_position": {},
      "toc_section_display": true,
      "toc_window_display": false
    },
    "widgets": {
      "application/vnd.jupyter.widget-state+json": {
        "71d3b1113df2403d817ffe312c6f2657": {
          "model_module": "@jupyter-widgets/controls",
          "model_name": "HBoxModel",
          "model_module_version": "1.5.0",
          "state": {
            "_dom_classes": [],
            "_model_module": "@jupyter-widgets/controls",
            "_model_module_version": "1.5.0",
            "_model_name": "HBoxModel",
            "_view_count": null,
            "_view_module": "@jupyter-widgets/controls",
            "_view_module_version": "1.5.0",
            "_view_name": "HBoxView",
            "box_style": "",
            "children": [
              "IPY_MODEL_8ce1e1227ef94dad94db0c6f8c9b11f2",
              "IPY_MODEL_574a4d6d7e0b444f868dcad1718cd865",
              "IPY_MODEL_e86dc66e0b534f1682245bb231a4b0ec"
            ],
            "layout": "IPY_MODEL_32f4d3b8fee245559267b029bab0d813"
          }
        },
        "8ce1e1227ef94dad94db0c6f8c9b11f2": {
          "model_module": "@jupyter-widgets/controls",
          "model_name": "HTMLModel",
          "model_module_version": "1.5.0",
          "state": {
            "_dom_classes": [],
            "_model_module": "@jupyter-widgets/controls",
            "_model_module_version": "1.5.0",
            "_model_name": "HTMLModel",
            "_view_count": null,
            "_view_module": "@jupyter-widgets/controls",
            "_view_module_version": "1.5.0",
            "_view_name": "HTMLView",
            "description": "",
            "description_tooltip": null,
            "layout": "IPY_MODEL_30b217a0a69b49c1ac7000236b46b79a",
            "placeholder": "​",
            "style": "IPY_MODEL_84a37810bcfd47c4bbf83095a9dbd9ca",
            "value": "Downloading (…)olve/main/vocab.json: 100%"
          }
        },
        "574a4d6d7e0b444f868dcad1718cd865": {
          "model_module": "@jupyter-widgets/controls",
          "model_name": "FloatProgressModel",
          "model_module_version": "1.5.0",
          "state": {
            "_dom_classes": [],
            "_model_module": "@jupyter-widgets/controls",
            "_model_module_version": "1.5.0",
            "_model_name": "FloatProgressModel",
            "_view_count": null,
            "_view_module": "@jupyter-widgets/controls",
            "_view_module_version": "1.5.0",
            "_view_name": "ProgressView",
            "bar_style": "success",
            "description": "",
            "description_tooltip": null,
            "layout": "IPY_MODEL_4e0629c9ceae4a419fc32ce7428cd692",
            "max": 898823,
            "min": 0,
            "orientation": "horizontal",
            "style": "IPY_MODEL_748515a94fba408f9351808cad4f1d05",
            "value": 898823
          }
        },
        "e86dc66e0b534f1682245bb231a4b0ec": {
          "model_module": "@jupyter-widgets/controls",
          "model_name": "HTMLModel",
          "model_module_version": "1.5.0",
          "state": {
            "_dom_classes": [],
            "_model_module": "@jupyter-widgets/controls",
            "_model_module_version": "1.5.0",
            "_model_name": "HTMLModel",
            "_view_count": null,
            "_view_module": "@jupyter-widgets/controls",
            "_view_module_version": "1.5.0",
            "_view_name": "HTMLView",
            "description": "",
            "description_tooltip": null,
            "layout": "IPY_MODEL_209c20a8dcec403c92d6fb9773c76659",
            "placeholder": "​",
            "style": "IPY_MODEL_bdb9fd2792bd49d4a336f42afe4655f0",
            "value": " 899k/899k [00:00&lt;00:00, 10.8MB/s]"
          }
        },
        "32f4d3b8fee245559267b029bab0d813": {
          "model_module": "@jupyter-widgets/base",
          "model_name": "LayoutModel",
          "model_module_version": "1.2.0",
          "state": {
            "_model_module": "@jupyter-widgets/base",
            "_model_module_version": "1.2.0",
            "_model_name": "LayoutModel",
            "_view_count": null,
            "_view_module": "@jupyter-widgets/base",
            "_view_module_version": "1.2.0",
            "_view_name": "LayoutView",
            "align_content": null,
            "align_items": null,
            "align_self": null,
            "border": null,
            "bottom": null,
            "display": null,
            "flex": null,
            "flex_flow": null,
            "grid_area": null,
            "grid_auto_columns": null,
            "grid_auto_flow": null,
            "grid_auto_rows": null,
            "grid_column": null,
            "grid_gap": null,
            "grid_row": null,
            "grid_template_areas": null,
            "grid_template_columns": null,
            "grid_template_rows": null,
            "height": null,
            "justify_content": null,
            "justify_items": null,
            "left": null,
            "margin": null,
            "max_height": null,
            "max_width": null,
            "min_height": null,
            "min_width": null,
            "object_fit": null,
            "object_position": null,
            "order": null,
            "overflow": null,
            "overflow_x": null,
            "overflow_y": null,
            "padding": null,
            "right": null,
            "top": null,
            "visibility": null,
            "width": null
          }
        },
        "30b217a0a69b49c1ac7000236b46b79a": {
          "model_module": "@jupyter-widgets/base",
          "model_name": "LayoutModel",
          "model_module_version": "1.2.0",
          "state": {
            "_model_module": "@jupyter-widgets/base",
            "_model_module_version": "1.2.0",
            "_model_name": "LayoutModel",
            "_view_count": null,
            "_view_module": "@jupyter-widgets/base",
            "_view_module_version": "1.2.0",
            "_view_name": "LayoutView",
            "align_content": null,
            "align_items": null,
            "align_self": null,
            "border": null,
            "bottom": null,
            "display": null,
            "flex": null,
            "flex_flow": null,
            "grid_area": null,
            "grid_auto_columns": null,
            "grid_auto_flow": null,
            "grid_auto_rows": null,
            "grid_column": null,
            "grid_gap": null,
            "grid_row": null,
            "grid_template_areas": null,
            "grid_template_columns": null,
            "grid_template_rows": null,
            "height": null,
            "justify_content": null,
            "justify_items": null,
            "left": null,
            "margin": null,
            "max_height": null,
            "max_width": null,
            "min_height": null,
            "min_width": null,
            "object_fit": null,
            "object_position": null,
            "order": null,
            "overflow": null,
            "overflow_x": null,
            "overflow_y": null,
            "padding": null,
            "right": null,
            "top": null,
            "visibility": null,
            "width": null
          }
        },
        "84a37810bcfd47c4bbf83095a9dbd9ca": {
          "model_module": "@jupyter-widgets/controls",
          "model_name": "DescriptionStyleModel",
          "model_module_version": "1.5.0",
          "state": {
            "_model_module": "@jupyter-widgets/controls",
            "_model_module_version": "1.5.0",
            "_model_name": "DescriptionStyleModel",
            "_view_count": null,
            "_view_module": "@jupyter-widgets/base",
            "_view_module_version": "1.2.0",
            "_view_name": "StyleView",
            "description_width": ""
          }
        },
        "4e0629c9ceae4a419fc32ce7428cd692": {
          "model_module": "@jupyter-widgets/base",
          "model_name": "LayoutModel",
          "model_module_version": "1.2.0",
          "state": {
            "_model_module": "@jupyter-widgets/base",
            "_model_module_version": "1.2.0",
            "_model_name": "LayoutModel",
            "_view_count": null,
            "_view_module": "@jupyter-widgets/base",
            "_view_module_version": "1.2.0",
            "_view_name": "LayoutView",
            "align_content": null,
            "align_items": null,
            "align_self": null,
            "border": null,
            "bottom": null,
            "display": null,
            "flex": null,
            "flex_flow": null,
            "grid_area": null,
            "grid_auto_columns": null,
            "grid_auto_flow": null,
            "grid_auto_rows": null,
            "grid_column": null,
            "grid_gap": null,
            "grid_row": null,
            "grid_template_areas": null,
            "grid_template_columns": null,
            "grid_template_rows": null,
            "height": null,
            "justify_content": null,
            "justify_items": null,
            "left": null,
            "margin": null,
            "max_height": null,
            "max_width": null,
            "min_height": null,
            "min_width": null,
            "object_fit": null,
            "object_position": null,
            "order": null,
            "overflow": null,
            "overflow_x": null,
            "overflow_y": null,
            "padding": null,
            "right": null,
            "top": null,
            "visibility": null,
            "width": null
          }
        },
        "748515a94fba408f9351808cad4f1d05": {
          "model_module": "@jupyter-widgets/controls",
          "model_name": "ProgressStyleModel",
          "model_module_version": "1.5.0",
          "state": {
            "_model_module": "@jupyter-widgets/controls",
            "_model_module_version": "1.5.0",
            "_model_name": "ProgressStyleModel",
            "_view_count": null,
            "_view_module": "@jupyter-widgets/base",
            "_view_module_version": "1.2.0",
            "_view_name": "StyleView",
            "bar_color": null,
            "description_width": ""
          }
        },
        "209c20a8dcec403c92d6fb9773c76659": {
          "model_module": "@jupyter-widgets/base",
          "model_name": "LayoutModel",
          "model_module_version": "1.2.0",
          "state": {
            "_model_module": "@jupyter-widgets/base",
            "_model_module_version": "1.2.0",
            "_model_name": "LayoutModel",
            "_view_count": null,
            "_view_module": "@jupyter-widgets/base",
            "_view_module_version": "1.2.0",
            "_view_name": "LayoutView",
            "align_content": null,
            "align_items": null,
            "align_self": null,
            "border": null,
            "bottom": null,
            "display": null,
            "flex": null,
            "flex_flow": null,
            "grid_area": null,
            "grid_auto_columns": null,
            "grid_auto_flow": null,
            "grid_auto_rows": null,
            "grid_column": null,
            "grid_gap": null,
            "grid_row": null,
            "grid_template_areas": null,
            "grid_template_columns": null,
            "grid_template_rows": null,
            "height": null,
            "justify_content": null,
            "justify_items": null,
            "left": null,
            "margin": null,
            "max_height": null,
            "max_width": null,
            "min_height": null,
            "min_width": null,
            "object_fit": null,
            "object_position": null,
            "order": null,
            "overflow": null,
            "overflow_x": null,
            "overflow_y": null,
            "padding": null,
            "right": null,
            "top": null,
            "visibility": null,
            "width": null
          }
        },
        "bdb9fd2792bd49d4a336f42afe4655f0": {
          "model_module": "@jupyter-widgets/controls",
          "model_name": "DescriptionStyleModel",
          "model_module_version": "1.5.0",
          "state": {
            "_model_module": "@jupyter-widgets/controls",
            "_model_module_version": "1.5.0",
            "_model_name": "DescriptionStyleModel",
            "_view_count": null,
            "_view_module": "@jupyter-widgets/base",
            "_view_module_version": "1.2.0",
            "_view_name": "StyleView",
            "description_width": ""
          }
        },
        "79b1550252cc4a4ab0d338141cd432ea": {
          "model_module": "@jupyter-widgets/controls",
          "model_name": "HBoxModel",
          "model_module_version": "1.5.0",
          "state": {
            "_dom_classes": [],
            "_model_module": "@jupyter-widgets/controls",
            "_model_module_version": "1.5.0",
            "_model_name": "HBoxModel",
            "_view_count": null,
            "_view_module": "@jupyter-widgets/controls",
            "_view_module_version": "1.5.0",
            "_view_name": "HBoxView",
            "box_style": "",
            "children": [
              "IPY_MODEL_7fc567965cac4eb1aa2f75c25b0c41b2",
              "IPY_MODEL_e71c7b977d2e40378a7a2b32ec76124c",
              "IPY_MODEL_69fc7116846d40328a66f465ce49eb0a"
            ],
            "layout": "IPY_MODEL_1d4762e6af104f458713d3ddff6ade15"
          }
        },
        "7fc567965cac4eb1aa2f75c25b0c41b2": {
          "model_module": "@jupyter-widgets/controls",
          "model_name": "HTMLModel",
          "model_module_version": "1.5.0",
          "state": {
            "_dom_classes": [],
            "_model_module": "@jupyter-widgets/controls",
            "_model_module_version": "1.5.0",
            "_model_name": "HTMLModel",
            "_view_count": null,
            "_view_module": "@jupyter-widgets/controls",
            "_view_module_version": "1.5.0",
            "_view_name": "HTMLView",
            "description": "",
            "description_tooltip": null,
            "layout": "IPY_MODEL_23bd2964bbde446ba3ca156c65b318fe",
            "placeholder": "​",
            "style": "IPY_MODEL_1d4093cf4ddd41728f549c530396e94b",
            "value": "Downloading (…)olve/main/merges.txt: 100%"
          }
        },
        "e71c7b977d2e40378a7a2b32ec76124c": {
          "model_module": "@jupyter-widgets/controls",
          "model_name": "FloatProgressModel",
          "model_module_version": "1.5.0",
          "state": {
            "_dom_classes": [],
            "_model_module": "@jupyter-widgets/controls",
            "_model_module_version": "1.5.0",
            "_model_name": "FloatProgressModel",
            "_view_count": null,
            "_view_module": "@jupyter-widgets/controls",
            "_view_module_version": "1.5.0",
            "_view_name": "ProgressView",
            "bar_style": "success",
            "description": "",
            "description_tooltip": null,
            "layout": "IPY_MODEL_c510eb814c634251b5b5afd127366648",
            "max": 456318,
            "min": 0,
            "orientation": "horizontal",
            "style": "IPY_MODEL_bdf8eaff58d34231b17175a5608079a2",
            "value": 456318
          }
        },
        "69fc7116846d40328a66f465ce49eb0a": {
          "model_module": "@jupyter-widgets/controls",
          "model_name": "HTMLModel",
          "model_module_version": "1.5.0",
          "state": {
            "_dom_classes": [],
            "_model_module": "@jupyter-widgets/controls",
            "_model_module_version": "1.5.0",
            "_model_name": "HTMLModel",
            "_view_count": null,
            "_view_module": "@jupyter-widgets/controls",
            "_view_module_version": "1.5.0",
            "_view_name": "HTMLView",
            "description": "",
            "description_tooltip": null,
            "layout": "IPY_MODEL_de4d8d1dcb4142b09ab5be0f69b520b3",
            "placeholder": "​",
            "style": "IPY_MODEL_636f697f134644f2bf82bae4663bcd87",
            "value": " 456k/456k [00:00&lt;00:00, 10.0MB/s]"
          }
        },
        "1d4762e6af104f458713d3ddff6ade15": {
          "model_module": "@jupyter-widgets/base",
          "model_name": "LayoutModel",
          "model_module_version": "1.2.0",
          "state": {
            "_model_module": "@jupyter-widgets/base",
            "_model_module_version": "1.2.0",
            "_model_name": "LayoutModel",
            "_view_count": null,
            "_view_module": "@jupyter-widgets/base",
            "_view_module_version": "1.2.0",
            "_view_name": "LayoutView",
            "align_content": null,
            "align_items": null,
            "align_self": null,
            "border": null,
            "bottom": null,
            "display": null,
            "flex": null,
            "flex_flow": null,
            "grid_area": null,
            "grid_auto_columns": null,
            "grid_auto_flow": null,
            "grid_auto_rows": null,
            "grid_column": null,
            "grid_gap": null,
            "grid_row": null,
            "grid_template_areas": null,
            "grid_template_columns": null,
            "grid_template_rows": null,
            "height": null,
            "justify_content": null,
            "justify_items": null,
            "left": null,
            "margin": null,
            "max_height": null,
            "max_width": null,
            "min_height": null,
            "min_width": null,
            "object_fit": null,
            "object_position": null,
            "order": null,
            "overflow": null,
            "overflow_x": null,
            "overflow_y": null,
            "padding": null,
            "right": null,
            "top": null,
            "visibility": null,
            "width": null
          }
        },
        "23bd2964bbde446ba3ca156c65b318fe": {
          "model_module": "@jupyter-widgets/base",
          "model_name": "LayoutModel",
          "model_module_version": "1.2.0",
          "state": {
            "_model_module": "@jupyter-widgets/base",
            "_model_module_version": "1.2.0",
            "_model_name": "LayoutModel",
            "_view_count": null,
            "_view_module": "@jupyter-widgets/base",
            "_view_module_version": "1.2.0",
            "_view_name": "LayoutView",
            "align_content": null,
            "align_items": null,
            "align_self": null,
            "border": null,
            "bottom": null,
            "display": null,
            "flex": null,
            "flex_flow": null,
            "grid_area": null,
            "grid_auto_columns": null,
            "grid_auto_flow": null,
            "grid_auto_rows": null,
            "grid_column": null,
            "grid_gap": null,
            "grid_row": null,
            "grid_template_areas": null,
            "grid_template_columns": null,
            "grid_template_rows": null,
            "height": null,
            "justify_content": null,
            "justify_items": null,
            "left": null,
            "margin": null,
            "max_height": null,
            "max_width": null,
            "min_height": null,
            "min_width": null,
            "object_fit": null,
            "object_position": null,
            "order": null,
            "overflow": null,
            "overflow_x": null,
            "overflow_y": null,
            "padding": null,
            "right": null,
            "top": null,
            "visibility": null,
            "width": null
          }
        },
        "1d4093cf4ddd41728f549c530396e94b": {
          "model_module": "@jupyter-widgets/controls",
          "model_name": "DescriptionStyleModel",
          "model_module_version": "1.5.0",
          "state": {
            "_model_module": "@jupyter-widgets/controls",
            "_model_module_version": "1.5.0",
            "_model_name": "DescriptionStyleModel",
            "_view_count": null,
            "_view_module": "@jupyter-widgets/base",
            "_view_module_version": "1.2.0",
            "_view_name": "StyleView",
            "description_width": ""
          }
        },
        "c510eb814c634251b5b5afd127366648": {
          "model_module": "@jupyter-widgets/base",
          "model_name": "LayoutModel",
          "model_module_version": "1.2.0",
          "state": {
            "_model_module": "@jupyter-widgets/base",
            "_model_module_version": "1.2.0",
            "_model_name": "LayoutModel",
            "_view_count": null,
            "_view_module": "@jupyter-widgets/base",
            "_view_module_version": "1.2.0",
            "_view_name": "LayoutView",
            "align_content": null,
            "align_items": null,
            "align_self": null,
            "border": null,
            "bottom": null,
            "display": null,
            "flex": null,
            "flex_flow": null,
            "grid_area": null,
            "grid_auto_columns": null,
            "grid_auto_flow": null,
            "grid_auto_rows": null,
            "grid_column": null,
            "grid_gap": null,
            "grid_row": null,
            "grid_template_areas": null,
            "grid_template_columns": null,
            "grid_template_rows": null,
            "height": null,
            "justify_content": null,
            "justify_items": null,
            "left": null,
            "margin": null,
            "max_height": null,
            "max_width": null,
            "min_height": null,
            "min_width": null,
            "object_fit": null,
            "object_position": null,
            "order": null,
            "overflow": null,
            "overflow_x": null,
            "overflow_y": null,
            "padding": null,
            "right": null,
            "top": null,
            "visibility": null,
            "width": null
          }
        },
        "bdf8eaff58d34231b17175a5608079a2": {
          "model_module": "@jupyter-widgets/controls",
          "model_name": "ProgressStyleModel",
          "model_module_version": "1.5.0",
          "state": {
            "_model_module": "@jupyter-widgets/controls",
            "_model_module_version": "1.5.0",
            "_model_name": "ProgressStyleModel",
            "_view_count": null,
            "_view_module": "@jupyter-widgets/base",
            "_view_module_version": "1.2.0",
            "_view_name": "StyleView",
            "bar_color": null,
            "description_width": ""
          }
        },
        "de4d8d1dcb4142b09ab5be0f69b520b3": {
          "model_module": "@jupyter-widgets/base",
          "model_name": "LayoutModel",
          "model_module_version": "1.2.0",
          "state": {
            "_model_module": "@jupyter-widgets/base",
            "_model_module_version": "1.2.0",
            "_model_name": "LayoutModel",
            "_view_count": null,
            "_view_module": "@jupyter-widgets/base",
            "_view_module_version": "1.2.0",
            "_view_name": "LayoutView",
            "align_content": null,
            "align_items": null,
            "align_self": null,
            "border": null,
            "bottom": null,
            "display": null,
            "flex": null,
            "flex_flow": null,
            "grid_area": null,
            "grid_auto_columns": null,
            "grid_auto_flow": null,
            "grid_auto_rows": null,
            "grid_column": null,
            "grid_gap": null,
            "grid_row": null,
            "grid_template_areas": null,
            "grid_template_columns": null,
            "grid_template_rows": null,
            "height": null,
            "justify_content": null,
            "justify_items": null,
            "left": null,
            "margin": null,
            "max_height": null,
            "max_width": null,
            "min_height": null,
            "min_width": null,
            "object_fit": null,
            "object_position": null,
            "order": null,
            "overflow": null,
            "overflow_x": null,
            "overflow_y": null,
            "padding": null,
            "right": null,
            "top": null,
            "visibility": null,
            "width": null
          }
        },
        "636f697f134644f2bf82bae4663bcd87": {
          "model_module": "@jupyter-widgets/controls",
          "model_name": "DescriptionStyleModel",
          "model_module_version": "1.5.0",
          "state": {
            "_model_module": "@jupyter-widgets/controls",
            "_model_module_version": "1.5.0",
            "_model_name": "DescriptionStyleModel",
            "_view_count": null,
            "_view_module": "@jupyter-widgets/base",
            "_view_module_version": "1.2.0",
            "_view_name": "StyleView",
            "description_width": ""
          }
        },
        "4c194f02e6b441ca9300160bf7429c82": {
          "model_module": "@jupyter-widgets/controls",
          "model_name": "HBoxModel",
          "model_module_version": "1.5.0",
          "state": {
            "_dom_classes": [],
            "_model_module": "@jupyter-widgets/controls",
            "_model_module_version": "1.5.0",
            "_model_name": "HBoxModel",
            "_view_count": null,
            "_view_module": "@jupyter-widgets/controls",
            "_view_module_version": "1.5.0",
            "_view_name": "HBoxView",
            "box_style": "",
            "children": [
              "IPY_MODEL_9659b2bc4750453b9bdfd8253defadbe",
              "IPY_MODEL_0c3da6b2926d49378e11d7573dbaec76",
              "IPY_MODEL_2fb3b524329a48f6b25b3d06f10d2138"
            ],
            "layout": "IPY_MODEL_8d4c54d41efc490c890e813226007c7f"
          }
        },
        "9659b2bc4750453b9bdfd8253defadbe": {
          "model_module": "@jupyter-widgets/controls",
          "model_name": "HTMLModel",
          "model_module_version": "1.5.0",
          "state": {
            "_dom_classes": [],
            "_model_module": "@jupyter-widgets/controls",
            "_model_module_version": "1.5.0",
            "_model_name": "HTMLModel",
            "_view_count": null,
            "_view_module": "@jupyter-widgets/controls",
            "_view_module_version": "1.5.0",
            "_view_name": "HTMLView",
            "description": "",
            "description_tooltip": null,
            "layout": "IPY_MODEL_e4605d68b3184b69bfeb7c7ae6c0a39d",
            "placeholder": "​",
            "style": "IPY_MODEL_6d1b395c019740eaa556c93621ba75be",
            "value": "Downloading (…)lve/main/config.json: 100%"
          }
        },
        "0c3da6b2926d49378e11d7573dbaec76": {
          "model_module": "@jupyter-widgets/controls",
          "model_name": "FloatProgressModel",
          "model_module_version": "1.5.0",
          "state": {
            "_dom_classes": [],
            "_model_module": "@jupyter-widgets/controls",
            "_model_module_version": "1.5.0",
            "_model_name": "FloatProgressModel",
            "_view_count": null,
            "_view_module": "@jupyter-widgets/controls",
            "_view_module_version": "1.5.0",
            "_view_name": "ProgressView",
            "bar_style": "success",
            "description": "",
            "description_tooltip": null,
            "layout": "IPY_MODEL_454fe2e5b60149b7a3b2a49b593a63fb",
            "max": 481,
            "min": 0,
            "orientation": "horizontal",
            "style": "IPY_MODEL_8e884cc534d84f6eba5df3a3e534ce07",
            "value": 481
          }
        },
        "2fb3b524329a48f6b25b3d06f10d2138": {
          "model_module": "@jupyter-widgets/controls",
          "model_name": "HTMLModel",
          "model_module_version": "1.5.0",
          "state": {
            "_dom_classes": [],
            "_model_module": "@jupyter-widgets/controls",
            "_model_module_version": "1.5.0",
            "_model_name": "HTMLModel",
            "_view_count": null,
            "_view_module": "@jupyter-widgets/controls",
            "_view_module_version": "1.5.0",
            "_view_name": "HTMLView",
            "description": "",
            "description_tooltip": null,
            "layout": "IPY_MODEL_3199801776af4195bd23b20c23403231",
            "placeholder": "​",
            "style": "IPY_MODEL_68354385437b4146ad2e657f9aff966d",
            "value": " 481/481 [00:00&lt;00:00, 27.9kB/s]"
          }
        },
        "8d4c54d41efc490c890e813226007c7f": {
          "model_module": "@jupyter-widgets/base",
          "model_name": "LayoutModel",
          "model_module_version": "1.2.0",
          "state": {
            "_model_module": "@jupyter-widgets/base",
            "_model_module_version": "1.2.0",
            "_model_name": "LayoutModel",
            "_view_count": null,
            "_view_module": "@jupyter-widgets/base",
            "_view_module_version": "1.2.0",
            "_view_name": "LayoutView",
            "align_content": null,
            "align_items": null,
            "align_self": null,
            "border": null,
            "bottom": null,
            "display": null,
            "flex": null,
            "flex_flow": null,
            "grid_area": null,
            "grid_auto_columns": null,
            "grid_auto_flow": null,
            "grid_auto_rows": null,
            "grid_column": null,
            "grid_gap": null,
            "grid_row": null,
            "grid_template_areas": null,
            "grid_template_columns": null,
            "grid_template_rows": null,
            "height": null,
            "justify_content": null,
            "justify_items": null,
            "left": null,
            "margin": null,
            "max_height": null,
            "max_width": null,
            "min_height": null,
            "min_width": null,
            "object_fit": null,
            "object_position": null,
            "order": null,
            "overflow": null,
            "overflow_x": null,
            "overflow_y": null,
            "padding": null,
            "right": null,
            "top": null,
            "visibility": null,
            "width": null
          }
        },
        "e4605d68b3184b69bfeb7c7ae6c0a39d": {
          "model_module": "@jupyter-widgets/base",
          "model_name": "LayoutModel",
          "model_module_version": "1.2.0",
          "state": {
            "_model_module": "@jupyter-widgets/base",
            "_model_module_version": "1.2.0",
            "_model_name": "LayoutModel",
            "_view_count": null,
            "_view_module": "@jupyter-widgets/base",
            "_view_module_version": "1.2.0",
            "_view_name": "LayoutView",
            "align_content": null,
            "align_items": null,
            "align_self": null,
            "border": null,
            "bottom": null,
            "display": null,
            "flex": null,
            "flex_flow": null,
            "grid_area": null,
            "grid_auto_columns": null,
            "grid_auto_flow": null,
            "grid_auto_rows": null,
            "grid_column": null,
            "grid_gap": null,
            "grid_row": null,
            "grid_template_areas": null,
            "grid_template_columns": null,
            "grid_template_rows": null,
            "height": null,
            "justify_content": null,
            "justify_items": null,
            "left": null,
            "margin": null,
            "max_height": null,
            "max_width": null,
            "min_height": null,
            "min_width": null,
            "object_fit": null,
            "object_position": null,
            "order": null,
            "overflow": null,
            "overflow_x": null,
            "overflow_y": null,
            "padding": null,
            "right": null,
            "top": null,
            "visibility": null,
            "width": null
          }
        },
        "6d1b395c019740eaa556c93621ba75be": {
          "model_module": "@jupyter-widgets/controls",
          "model_name": "DescriptionStyleModel",
          "model_module_version": "1.5.0",
          "state": {
            "_model_module": "@jupyter-widgets/controls",
            "_model_module_version": "1.5.0",
            "_model_name": "DescriptionStyleModel",
            "_view_count": null,
            "_view_module": "@jupyter-widgets/base",
            "_view_module_version": "1.2.0",
            "_view_name": "StyleView",
            "description_width": ""
          }
        },
        "454fe2e5b60149b7a3b2a49b593a63fb": {
          "model_module": "@jupyter-widgets/base",
          "model_name": "LayoutModel",
          "model_module_version": "1.2.0",
          "state": {
            "_model_module": "@jupyter-widgets/base",
            "_model_module_version": "1.2.0",
            "_model_name": "LayoutModel",
            "_view_count": null,
            "_view_module": "@jupyter-widgets/base",
            "_view_module_version": "1.2.0",
            "_view_name": "LayoutView",
            "align_content": null,
            "align_items": null,
            "align_self": null,
            "border": null,
            "bottom": null,
            "display": null,
            "flex": null,
            "flex_flow": null,
            "grid_area": null,
            "grid_auto_columns": null,
            "grid_auto_flow": null,
            "grid_auto_rows": null,
            "grid_column": null,
            "grid_gap": null,
            "grid_row": null,
            "grid_template_areas": null,
            "grid_template_columns": null,
            "grid_template_rows": null,
            "height": null,
            "justify_content": null,
            "justify_items": null,
            "left": null,
            "margin": null,
            "max_height": null,
            "max_width": null,
            "min_height": null,
            "min_width": null,
            "object_fit": null,
            "object_position": null,
            "order": null,
            "overflow": null,
            "overflow_x": null,
            "overflow_y": null,
            "padding": null,
            "right": null,
            "top": null,
            "visibility": null,
            "width": null
          }
        },
        "8e884cc534d84f6eba5df3a3e534ce07": {
          "model_module": "@jupyter-widgets/controls",
          "model_name": "ProgressStyleModel",
          "model_module_version": "1.5.0",
          "state": {
            "_model_module": "@jupyter-widgets/controls",
            "_model_module_version": "1.5.0",
            "_model_name": "ProgressStyleModel",
            "_view_count": null,
            "_view_module": "@jupyter-widgets/base",
            "_view_module_version": "1.2.0",
            "_view_name": "StyleView",
            "bar_color": null,
            "description_width": ""
          }
        },
        "3199801776af4195bd23b20c23403231": {
          "model_module": "@jupyter-widgets/base",
          "model_name": "LayoutModel",
          "model_module_version": "1.2.0",
          "state": {
            "_model_module": "@jupyter-widgets/base",
            "_model_module_version": "1.2.0",
            "_model_name": "LayoutModel",
            "_view_count": null,
            "_view_module": "@jupyter-widgets/base",
            "_view_module_version": "1.2.0",
            "_view_name": "LayoutView",
            "align_content": null,
            "align_items": null,
            "align_self": null,
            "border": null,
            "bottom": null,
            "display": null,
            "flex": null,
            "flex_flow": null,
            "grid_area": null,
            "grid_auto_columns": null,
            "grid_auto_flow": null,
            "grid_auto_rows": null,
            "grid_column": null,
            "grid_gap": null,
            "grid_row": null,
            "grid_template_areas": null,
            "grid_template_columns": null,
            "grid_template_rows": null,
            "height": null,
            "justify_content": null,
            "justify_items": null,
            "left": null,
            "margin": null,
            "max_height": null,
            "max_width": null,
            "min_height": null,
            "min_width": null,
            "object_fit": null,
            "object_position": null,
            "order": null,
            "overflow": null,
            "overflow_x": null,
            "overflow_y": null,
            "padding": null,
            "right": null,
            "top": null,
            "visibility": null,
            "width": null
          }
        },
        "68354385437b4146ad2e657f9aff966d": {
          "model_module": "@jupyter-widgets/controls",
          "model_name": "DescriptionStyleModel",
          "model_module_version": "1.5.0",
          "state": {
            "_model_module": "@jupyter-widgets/controls",
            "_model_module_version": "1.5.0",
            "_model_name": "DescriptionStyleModel",
            "_view_count": null,
            "_view_module": "@jupyter-widgets/base",
            "_view_module_version": "1.2.0",
            "_view_name": "StyleView",
            "description_width": ""
          }
        },
        "dae506b466f7425ca6ff8300976be8cf": {
          "model_module": "@jupyter-widgets/controls",
          "model_name": "HBoxModel",
          "model_module_version": "1.5.0",
          "state": {
            "_dom_classes": [],
            "_model_module": "@jupyter-widgets/controls",
            "_model_module_version": "1.5.0",
            "_model_name": "HBoxModel",
            "_view_count": null,
            "_view_module": "@jupyter-widgets/controls",
            "_view_module_version": "1.5.0",
            "_view_name": "HBoxView",
            "box_style": "",
            "children": [
              "IPY_MODEL_68ea79de5b7941d9ae5da718c240dd3a",
              "IPY_MODEL_57b71b23238e4de1be30f9c4dc62e84a",
              "IPY_MODEL_a5763c43dcf04d69beb8c62973f63f08"
            ],
            "layout": "IPY_MODEL_a5730006bbc941c7894df189d0a1c128"
          }
        },
        "68ea79de5b7941d9ae5da718c240dd3a": {
          "model_module": "@jupyter-widgets/controls",
          "model_name": "HTMLModel",
          "model_module_version": "1.5.0",
          "state": {
            "_dom_classes": [],
            "_model_module": "@jupyter-widgets/controls",
            "_model_module_version": "1.5.0",
            "_model_name": "HTMLModel",
            "_view_count": null,
            "_view_module": "@jupyter-widgets/controls",
            "_view_module_version": "1.5.0",
            "_view_name": "HTMLView",
            "description": "",
            "description_tooltip": null,
            "layout": "IPY_MODEL_e9bbca29dc6d4aefb7141f5f1ca5527f",
            "placeholder": "​",
            "style": "IPY_MODEL_ca987655f7a74844bc04a192eeca43f1",
            "value": "Downloading model.safetensors: 100%"
          }
        },
        "57b71b23238e4de1be30f9c4dc62e84a": {
          "model_module": "@jupyter-widgets/controls",
          "model_name": "FloatProgressModel",
          "model_module_version": "1.5.0",
          "state": {
            "_dom_classes": [],
            "_model_module": "@jupyter-widgets/controls",
            "_model_module_version": "1.5.0",
            "_model_name": "FloatProgressModel",
            "_view_count": null,
            "_view_module": "@jupyter-widgets/controls",
            "_view_module_version": "1.5.0",
            "_view_name": "ProgressView",
            "bar_style": "success",
            "description": "",
            "description_tooltip": null,
            "layout": "IPY_MODEL_118e05ed1cd84cb18e9497b7bff6df71",
            "max": 498818054,
            "min": 0,
            "orientation": "horizontal",
            "style": "IPY_MODEL_1cb99f65e9d4414fb7d7d79059690a49",
            "value": 498818054
          }
        },
        "a5763c43dcf04d69beb8c62973f63f08": {
          "model_module": "@jupyter-widgets/controls",
          "model_name": "HTMLModel",
          "model_module_version": "1.5.0",
          "state": {
            "_dom_classes": [],
            "_model_module": "@jupyter-widgets/controls",
            "_model_module_version": "1.5.0",
            "_model_name": "HTMLModel",
            "_view_count": null,
            "_view_module": "@jupyter-widgets/controls",
            "_view_module_version": "1.5.0",
            "_view_name": "HTMLView",
            "description": "",
            "description_tooltip": null,
            "layout": "IPY_MODEL_2e8c8fa56fb340cbaf87a45dbdd8e788",
            "placeholder": "​",
            "style": "IPY_MODEL_10092008464042dc8d9b26101ee17bad",
            "value": " 499M/499M [00:05&lt;00:00, 163MB/s]"
          }
        },
        "a5730006bbc941c7894df189d0a1c128": {
          "model_module": "@jupyter-widgets/base",
          "model_name": "LayoutModel",
          "model_module_version": "1.2.0",
          "state": {
            "_model_module": "@jupyter-widgets/base",
            "_model_module_version": "1.2.0",
            "_model_name": "LayoutModel",
            "_view_count": null,
            "_view_module": "@jupyter-widgets/base",
            "_view_module_version": "1.2.0",
            "_view_name": "LayoutView",
            "align_content": null,
            "align_items": null,
            "align_self": null,
            "border": null,
            "bottom": null,
            "display": null,
            "flex": null,
            "flex_flow": null,
            "grid_area": null,
            "grid_auto_columns": null,
            "grid_auto_flow": null,
            "grid_auto_rows": null,
            "grid_column": null,
            "grid_gap": null,
            "grid_row": null,
            "grid_template_areas": null,
            "grid_template_columns": null,
            "grid_template_rows": null,
            "height": null,
            "justify_content": null,
            "justify_items": null,
            "left": null,
            "margin": null,
            "max_height": null,
            "max_width": null,
            "min_height": null,
            "min_width": null,
            "object_fit": null,
            "object_position": null,
            "order": null,
            "overflow": null,
            "overflow_x": null,
            "overflow_y": null,
            "padding": null,
            "right": null,
            "top": null,
            "visibility": null,
            "width": null
          }
        },
        "e9bbca29dc6d4aefb7141f5f1ca5527f": {
          "model_module": "@jupyter-widgets/base",
          "model_name": "LayoutModel",
          "model_module_version": "1.2.0",
          "state": {
            "_model_module": "@jupyter-widgets/base",
            "_model_module_version": "1.2.0",
            "_model_name": "LayoutModel",
            "_view_count": null,
            "_view_module": "@jupyter-widgets/base",
            "_view_module_version": "1.2.0",
            "_view_name": "LayoutView",
            "align_content": null,
            "align_items": null,
            "align_self": null,
            "border": null,
            "bottom": null,
            "display": null,
            "flex": null,
            "flex_flow": null,
            "grid_area": null,
            "grid_auto_columns": null,
            "grid_auto_flow": null,
            "grid_auto_rows": null,
            "grid_column": null,
            "grid_gap": null,
            "grid_row": null,
            "grid_template_areas": null,
            "grid_template_columns": null,
            "grid_template_rows": null,
            "height": null,
            "justify_content": null,
            "justify_items": null,
            "left": null,
            "margin": null,
            "max_height": null,
            "max_width": null,
            "min_height": null,
            "min_width": null,
            "object_fit": null,
            "object_position": null,
            "order": null,
            "overflow": null,
            "overflow_x": null,
            "overflow_y": null,
            "padding": null,
            "right": null,
            "top": null,
            "visibility": null,
            "width": null
          }
        },
        "ca987655f7a74844bc04a192eeca43f1": {
          "model_module": "@jupyter-widgets/controls",
          "model_name": "DescriptionStyleModel",
          "model_module_version": "1.5.0",
          "state": {
            "_model_module": "@jupyter-widgets/controls",
            "_model_module_version": "1.5.0",
            "_model_name": "DescriptionStyleModel",
            "_view_count": null,
            "_view_module": "@jupyter-widgets/base",
            "_view_module_version": "1.2.0",
            "_view_name": "StyleView",
            "description_width": ""
          }
        },
        "118e05ed1cd84cb18e9497b7bff6df71": {
          "model_module": "@jupyter-widgets/base",
          "model_name": "LayoutModel",
          "model_module_version": "1.2.0",
          "state": {
            "_model_module": "@jupyter-widgets/base",
            "_model_module_version": "1.2.0",
            "_model_name": "LayoutModel",
            "_view_count": null,
            "_view_module": "@jupyter-widgets/base",
            "_view_module_version": "1.2.0",
            "_view_name": "LayoutView",
            "align_content": null,
            "align_items": null,
            "align_self": null,
            "border": null,
            "bottom": null,
            "display": null,
            "flex": null,
            "flex_flow": null,
            "grid_area": null,
            "grid_auto_columns": null,
            "grid_auto_flow": null,
            "grid_auto_rows": null,
            "grid_column": null,
            "grid_gap": null,
            "grid_row": null,
            "grid_template_areas": null,
            "grid_template_columns": null,
            "grid_template_rows": null,
            "height": null,
            "justify_content": null,
            "justify_items": null,
            "left": null,
            "margin": null,
            "max_height": null,
            "max_width": null,
            "min_height": null,
            "min_width": null,
            "object_fit": null,
            "object_position": null,
            "order": null,
            "overflow": null,
            "overflow_x": null,
            "overflow_y": null,
            "padding": null,
            "right": null,
            "top": null,
            "visibility": null,
            "width": null
          }
        },
        "1cb99f65e9d4414fb7d7d79059690a49": {
          "model_module": "@jupyter-widgets/controls",
          "model_name": "ProgressStyleModel",
          "model_module_version": "1.5.0",
          "state": {
            "_model_module": "@jupyter-widgets/controls",
            "_model_module_version": "1.5.0",
            "_model_name": "ProgressStyleModel",
            "_view_count": null,
            "_view_module": "@jupyter-widgets/base",
            "_view_module_version": "1.2.0",
            "_view_name": "StyleView",
            "bar_color": null,
            "description_width": ""
          }
        },
        "2e8c8fa56fb340cbaf87a45dbdd8e788": {
          "model_module": "@jupyter-widgets/base",
          "model_name": "LayoutModel",
          "model_module_version": "1.2.0",
          "state": {
            "_model_module": "@jupyter-widgets/base",
            "_model_module_version": "1.2.0",
            "_model_name": "LayoutModel",
            "_view_count": null,
            "_view_module": "@jupyter-widgets/base",
            "_view_module_version": "1.2.0",
            "_view_name": "LayoutView",
            "align_content": null,
            "align_items": null,
            "align_self": null,
            "border": null,
            "bottom": null,
            "display": null,
            "flex": null,
            "flex_flow": null,
            "grid_area": null,
            "grid_auto_columns": null,
            "grid_auto_flow": null,
            "grid_auto_rows": null,
            "grid_column": null,
            "grid_gap": null,
            "grid_row": null,
            "grid_template_areas": null,
            "grid_template_columns": null,
            "grid_template_rows": null,
            "height": null,
            "justify_content": null,
            "justify_items": null,
            "left": null,
            "margin": null,
            "max_height": null,
            "max_width": null,
            "min_height": null,
            "min_width": null,
            "object_fit": null,
            "object_position": null,
            "order": null,
            "overflow": null,
            "overflow_x": null,
            "overflow_y": null,
            "padding": null,
            "right": null,
            "top": null,
            "visibility": null,
            "width": null
          }
        },
        "10092008464042dc8d9b26101ee17bad": {
          "model_module": "@jupyter-widgets/controls",
          "model_name": "DescriptionStyleModel",
          "model_module_version": "1.5.0",
          "state": {
            "_model_module": "@jupyter-widgets/controls",
            "_model_module_version": "1.5.0",
            "_model_name": "DescriptionStyleModel",
            "_view_count": null,
            "_view_module": "@jupyter-widgets/base",
            "_view_module_version": "1.2.0",
            "_view_name": "StyleView",
            "description_width": ""
          }
        }
      }
    }
  },
  "nbformat": 4,
  "nbformat_minor": 5
}