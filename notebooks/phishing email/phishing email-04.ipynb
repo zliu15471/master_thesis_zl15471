{
 "cells": [
  {
   "cell_type": "code",
   "execution_count": 1,
   "id": "e8b22a15",
   "metadata": {},
   "outputs": [],
   "source": [
    "\n",
    "import tensorflow as tf\n",
    "from bert.tokenization import FullTokenizer\n",
    "import os\n",
    "import re\n",
    "import pandas as pd\n",
    "import numpy as np\n",
    "from tqdm import tqdm"
   ]
  },
  {
   "cell_type": "code",
   "execution_count": 2,
   "id": "6b21e317",
   "metadata": {},
   "outputs": [
    {
     "name": "stdout",
     "output_type": "stream",
     "text": [
      "Requirement already satisfied: requests in /Users/zhenliu15471/.pyenv/versions/3.8.12/envs/lewagon/lib/python3.8/site-packages (2.27.1)\n",
      "Requirement already satisfied: beautifulsoup4 in /Users/zhenliu15471/.pyenv/versions/3.8.12/envs/lewagon/lib/python3.8/site-packages (4.10.0)\n",
      "Requirement already satisfied: charset-normalizer~=2.0.0 in /Users/zhenliu15471/.pyenv/versions/3.8.12/envs/lewagon/lib/python3.8/site-packages (from requests) (2.0.10)\n",
      "Requirement already satisfied: certifi>=2017.4.17 in /Users/zhenliu15471/.pyenv/versions/3.8.12/envs/lewagon/lib/python3.8/site-packages (from requests) (2021.10.8)\n",
      "Requirement already satisfied: idna<4,>=2.5 in /Users/zhenliu15471/.pyenv/versions/3.8.12/envs/lewagon/lib/python3.8/site-packages (from requests) (3.3)\n",
      "Requirement already satisfied: urllib3<1.27,>=1.21.1 in /Users/zhenliu15471/.pyenv/versions/3.8.12/envs/lewagon/lib/python3.8/site-packages (from requests) (1.26.7)\n",
      "Requirement already satisfied: soupsieve>1.2 in /Users/zhenliu15471/.pyenv/versions/3.8.12/envs/lewagon/lib/python3.8/site-packages (from beautifulsoup4) (2.3.1)\n",
      "\n",
      "\u001b[1m[\u001b[0m\u001b[34;49mnotice\u001b[0m\u001b[1;39;49m]\u001b[0m\u001b[39;49m A new release of pip available: \u001b[0m\u001b[31;49m22.1.2\u001b[0m\u001b[39;49m -> \u001b[0m\u001b[32;49m23.1.2\u001b[0m\n",
      "\u001b[1m[\u001b[0m\u001b[34;49mnotice\u001b[0m\u001b[1;39;49m]\u001b[0m\u001b[39;49m To update, run: \u001b[0m\u001b[32;49mpython3.8 -m pip install --upgrade pip\u001b[0m\n",
      "Note: you may need to restart the kernel to use updated packages.\n"
     ]
    }
   ],
   "source": [
    "pip install requests beautifulsoup4\n"
   ]
  },
  {
   "cell_type": "code",
   "execution_count": 3,
   "id": "ab1bb512",
   "metadata": {},
   "outputs": [],
   "source": [
    "import requests\n",
    "from bs4 import BeautifulSoup\n",
    "\n"
   ]
  },
  {
   "cell_type": "code",
   "execution_count": 12,
   "id": "367966ea",
   "metadata": {},
   "outputs": [
    {
     "name": "stderr",
     "output_type": "stream",
     "text": [
      "Some characters could not be decoded, and were replaced with REPLACEMENT CHARACTER.\n"
     ]
    }
   ],
   "source": [
    "import requests\n",
    "from bs4 import BeautifulSoup\n",
    "\n",
    "# Make a request\n",
    "page = requests.get(\n",
    "    \"https://monkey.org/~jose/phishing/phishing-2022\"\n",
    ")  \n",
    "\n",
    "soup = BeautifulSoup(page.content, 'html.parser')\n",
    "\n",
    "\n",
    "elements = soup.find_all('text', class_='pre') \n",
    "for element in elements:\n",
    "    print(element.text)  # This will print the text within each div element\n"
   ]
  },
  {
   "cell_type": "code",
   "execution_count": 13,
   "id": "f488d2c4",
   "metadata": {},
   "outputs": [
    {
     "data": {
      "text/plain": [
       "[]"
      ]
     },
     "execution_count": 13,
     "metadata": {},
     "output_type": "execute_result"
    }
   ],
   "source": [
    "elements"
   ]
  },
  {
   "cell_type": "code",
   "execution_count": 14,
   "id": "b60a11f4",
   "metadata": {},
   "outputs": [],
   "source": [
    "from urllib.request import urlopen"
   ]
  },
  {
   "cell_type": "code",
   "execution_count": 15,
   "id": "4e94b81d",
   "metadata": {},
   "outputs": [],
   "source": [
    "url = \"https://monkey.org/~jose/phishing/phishing-2022\""
   ]
  },
  {
   "cell_type": "code",
   "execution_count": 16,
   "id": "d1a8b238",
   "metadata": {},
   "outputs": [],
   "source": [
    "page = urlopen(url)"
   ]
  },
  {
   "cell_type": "code",
   "execution_count": 17,
   "id": "7a82f2f5",
   "metadata": {},
   "outputs": [
    {
     "data": {
      "text/plain": [
       "<http.client.HTTPResponse at 0x1a2596fa0>"
      ]
     },
     "execution_count": 17,
     "metadata": {},
     "output_type": "execute_result"
    }
   ],
   "source": [
    "page"
   ]
  },
  {
   "cell_type": "code",
   "execution_count": 21,
   "id": "423c52d7",
   "metadata": {},
   "outputs": [
    {
     "name": "stdout",
     "output_type": "stream",
     "text": [
      "Collecting chardet\n",
      "  Downloading chardet-5.1.0-py3-none-any.whl (199 kB)\n",
      "\u001b[2K     \u001b[90m━━━━━━━━━━━━━━━━━━━━━━━━━━━━━━━━━━━━━━━\u001b[0m \u001b[32m199.1/199.1 kB\u001b[0m \u001b[31m8.5 MB/s\u001b[0m eta \u001b[36m0:00:00\u001b[0m\n",
      "\u001b[?25hInstalling collected packages: chardet\n",
      "Successfully installed chardet-5.1.0\n",
      "\n",
      "\u001b[1m[\u001b[0m\u001b[34;49mnotice\u001b[0m\u001b[1;39;49m]\u001b[0m\u001b[39;49m A new release of pip available: \u001b[0m\u001b[31;49m22.1.2\u001b[0m\u001b[39;49m -> \u001b[0m\u001b[32;49m23.1.2\u001b[0m\n",
      "\u001b[1m[\u001b[0m\u001b[34;49mnotice\u001b[0m\u001b[1;39;49m]\u001b[0m\u001b[39;49m To update, run: \u001b[0m\u001b[32;49mpip install --upgrade pip\u001b[0m\n"
     ]
    }
   ],
   "source": [
    "!pip install chardet\n",
    "\n"
   ]
  },
  {
   "cell_type": "code",
   "execution_count": 31,
   "id": "b1d04273",
   "metadata": {},
   "outputs": [],
   "source": [
    "import chardet\n",
    "\n",
    "# Detect the encoding\n",
    "encoding = chardet.detect(html_bytes)['encoding']\n",
    "\n",
    "# Decode using the detected encoding\n",
    "html = html_bytes.decode(encoding)\n"
   ]
  },
  {
   "cell_type": "code",
   "execution_count": 32,
   "id": "5f12eb35",
   "metadata": {},
   "outputs": [
    {
     "name": "stdout",
     "output_type": "stream",
     "text": [
      "From jose@monkey.org Wed Jan 12 14:09:38 2022 +0000\n",
      "Return-Path: MAILER-DAEMON\n",
      "Delivered-To: jose@monkey.org\n",
      "X-FDA: 79021818036.02.8B978AE\n",
      "Received: from out.smarshmail.com (out.smarshmail.com [199.193.206.151])\n",
      "\tby imf04.b.hostedemail.com (Postfix) with ESMTP id AD63B100335B4\n",
      "\tfor <jose@monkey.org>; Wed, 12 Jan 2022 14:09:37 +0000 (UTC)\n",
      "Received: from ggg.mqn1tzeu2jze1gwcnkzezpilvh.phxx.internal.cloudapp.net\n",
      " (20.150.148.255) by MBX125-W8-CO-3.exch125.serverpod.net (10.224.13.216) with\n",
      " Microsoft SMTP Server (version=TLS1_2,\n",
      " cipher=TLS_ECDHE_RSA_WITH_AES_256_CBC_SHA384_P521) id 15.1.2375.17; Wed, 12\n",
      " Jan 2022 06:09:35 -0800\n",
      "Content-Type: multipart/alternative; boundary=\"===============1969536252==\"\n",
      "MIME-Version: 1.0\n",
      "Subject: Mail Delivery Failed: Returning Message to Sender\n",
      "To: <jose@monkey.org>\n",
      "From: Mail Delivery System\n",
      "Date: Wed, 12 Jan 2022 14:09:36 +0000\n",
      "Message-ID:\n",
      "\t<5c0957de-31ab-4e99-bb2e-8fc53436eaca@MBX125-W8-CO-3.exch125.serverpod.net>\n",
      "X-Originating-IP: [20.150.148.255]\n",
      "X-ClientProxiedBy: MBX125-W7-CO-1.exch125.serverpod.net (10.224.13.200) To\n",
      " MBX125-W8-CO-3.exch125.serverpod.net (10.224.13.216)\n",
      "X-Stat-Signature: 9wb7j61d5a6yf9o51p8co1fxshi6qqh7\n",
      "Authentication-Results: imf04.b.hostedemail.com;\n",
      "\tdkim=none;\n",
      "\tdmarc=none;\n",
      "\tspf=none (imf04.b.hostedemail.com: domain of out.smarshmail.com has no SPF policy when checking 199.193.206.151) smtp.helo=out.smarshmail.com\n",
      "X-Spam-Status: No, score=3.20\n",
      "X-Rspamd-Server: rspam09\n",
      "X-Rspamd-Queue-Id: AD63B100335B4\n",
      "X-HE-Tag: 1641996577-429838\n",
      "Status: RO\n",
      "X-Status: \n",
      "X-Keywords:                 \n",
      "X-UID: 1\n",
      "\n",
      "--===============1969536252==\n",
      "Content-Type: text/plain; charset=\"iso-8859-1\"\n",
      "MIME-Version: 1.0\n",
      "Content-Transfer-Encoding: quoted-printable\n",
      "Content-Description: Mail message body\n",
      "\n",
      "  Microsoft Failure Delivery Notice.\n",
      "  User: jose@monkey.org =\n",
      "\n",
      " 3 pending sent messages couldn't be delivered =\n",
      "\n",
      " =\n",
      "\n",
      " Action Required.    =\n",
      "\n",
      "How to Fix It. =\n",
      "\n",
      "Click here to view undelivered sent email. =\n",
      "\n",
      " Created Date: 01. 12. 2022 =\n",
      "\n",
      " =\n",
      "\n",
      " =\n",
      "\n",
      " The information contained in or attached to this communication is intended=\n",
      " solely for the use of the individual or entity to whom it is addressed and=\n",
      " others authorised to receive it. It may contain confidential or legally pr=\n",
      "ivileged information. If you are not the intended recipient you are hereby =\n",
      "notified that any disclosure, copying, distribution or taking any action in=\n",
      " reliance on the contents of this information is strictly prohibited and ma=\n",
      "y be unlawful. If you have received this communication in error, please not=\n",
      "ify me immediately by responding to this email and then delete it from your=\n",
      " system. We are neither liable for the proper and complete transmission of =\n",
      "the information contained in this communication nor for any delay in its re=\n",
      "ceipt.    =20\n",
      "--===============1969536252==\n",
      "Content-Type: text/html; charset=\"iso-8859-1\"\n",
      "MIME-Version: 1.0\n",
      "Content-Transfer-Encoding: quoted-printable\n",
      "Content-Description: Mail message body\n",
      "\n",
      "<HTML><head><meta http-equiv=3D\"Content-Type\" content=3D\"text/html; charset=\n",
      "=3Diso-8859-1\"/></head><BODY><DIV id=3D:470 class=3D\"Ar Au Ao\" style=3D\"DIS=\n",
      "PLAY: block\">\n",
      "<DIV spellcheck=3Dfalse role=3Dtextbox tabIndex=3D1 aria-label=3D\"Message B=\n",
      "ody\" aria-multiline=3Dtrue id=3D:46w class=3D\"Am Al editable LW-avf tS-tW t=\n",
      "S-tY\" hideFocus contentEditable=3Dtrue style=3D\"DIRECTION: ltr; MIN-HEIGHT:=\n",
      " 355px\" g_editable=3D\"true\">\n",
      "<P><STRONG>Microsoft Failure Delivery Notice.</STRONG></P>\n",
      "<DIV>\n",
      "<DIV style=3D\"BORDER-LEFT-WIDTH: 0px; BORDER-RIGHT-WIDTH: 0px; VERTICAL-ALI=\n",
      "GN: baseline; BORDER-BOTTOM-WIDTH: 0px; COLOR: rgb(32,31,30); PADDING-BOTTO=\n",
      "M: 0px; PADDING-TOP: 0px; PADDING-LEFT: 0px; MARGIN: 0px; PADDING-RIGHT: 0p=\n",
      "x; BORDER-TOP-WIDTH: 0px\">User:&nbsp;<STRONG>jose@monkey.org</STRONG></DIV>\n",
      "<DIV style=3D\"BORDER-LEFT-WIDTH: 0px; BORDER-RIGHT-WIDTH: 0px; VERTICAL-ALI=\n",
      "GN: baseline; BORDER-BOTTOM-WIDTH: 0px; COLOR: rgb(32,31,30); PADDING-BOTTO=\n",
      "M: 0px; PADDING-TOP: 0px; PADDING-LEFT: 0px; MARGIN: 0px; PADDING-RIGHT: 0p=\n",
      "x; BORDER-TOP-WIDTH: 0px\"><BR></DIV>\n",
      "<P style=3D\"COLOR: rgb(32,31,30)\">3 pending sent messages couldn't be deliv=\n",
      "ered&nbsp;</P>\n",
      "<DIV style=3D\"BORDER-LEFT-WIDTH: 0px; BORDER-RIGHT-WIDTH: 0px; VERTICAL-ALI=\n",
      "GN: baseline; BORDER-BOTTOM-WIDTH: 0px; COLOR: rgb(32,31,30); PADDING-BOTTO=\n",
      "M: 0px; PADDING-TOP: 0px; PADDING-LEFT: 0px; MARGIN: 0px; PADDING-RIGHT: 0p=\n",
      "x; BORDER-TOP-WIDTH: 0px\"><BR></DIV>\n",
      "<DIV style=3D\"BORDER-LEFT-WIDTH: 0px; BORDER-RIGHT-WIDTH: 0px; VERTICAL-ALI=\n",
      "GN: baseline; BORDER-BOTTOM-WIDTH: 0px; COLOR: rgb(32,31,30); PADDING-BOTTO=\n",
      "M: 0px; PADDING-TOP: 0px; PADDING-LEFT: 0px; MARGIN: 0px; PADDING-RIGHT: 0p=\n",
      "x; BORDER-TOP-WIDTH: 0px\">Action Required.&nbsp; &nbsp;&nbsp;<BR>How to Fix=\n",
      " It.\n",
      "<DIV style=3D\"BORDER-LEFT-WIDTH: 0px; BORDER-RIGHT-WIDTH: 0px; VERTICAL-ALI=\n",
      "GN: baseline; BORDER-BOTTOM-WIDTH: 0px; PADDING-BOTTOM: 0px; PADDING-TOP: 0=\n",
      "px; PADDING-LEFT: 0px; MARGIN: 0px; PADDING-RIGHT: 0px; BORDER-TOP-WIDTH: 0=\n",
      "px\"><BR><STRONG><SPAN style=3D\"COLOR: rgb(0,0,255)\"><A href=3D\"https://tuwa=\n",
      ".org.tw/%3C%3E/NewestUpdate/?email=3Djose@monkey.org\" target=3D_blank data-=\n",
      "saferedirecturl=3D\"https://www.google.com/url?q=3Dhttps://joetradeco.com/%2=\n",
      "53C%253E/Growth/?email%3D25&amp;source=3Dgmail&amp;ust=3D1642003348399000&a=\n",
      "mp;usg=3DAOvVaw1wYDTjNo9lrH-JO9asK0O5\">Click here</A></SPAN>&nbsp;</STRONG>=\n",
      "to view undelivered sent email.</DIV>\n",
      "<DIV style=3D\"BORDER-LEFT-WIDTH: 0px; BORDER-RIGHT-WIDTH: 0px; VERTICAL-ALI=\n",
      "GN: baseline; BORDER-BOTTOM-WIDTH: 0px; PADDING-BOTTOM: 0px; PADDING-TOP: 0=\n",
      "px; PADDING-LEFT: 0px; MARGIN: 0px; PADDING-RIGHT: 0px; BORDER-TOP-WIDTH: 0=\n",
      "px\"><BR></DIV>\n",
      "<DIV style=3D\"BORDER-LEFT-WIDTH: 0px; BORDER-RIGHT-WIDTH: 0px; VERTICAL-ALI=\n",
      "GN: baseline; BORDER-BOTTOM-WIDTH: 0px; PADDING-BOTTOM: 0px; PADDING-TOP: 0=\n",
      "px; PADDING-LEFT: 0px; MARGIN: 0px; PADDING-RIGHT: 0px; BORDER-TOP-WIDTH: 0=\n",
      "px\">Created Date: 01. 12. 2022</DIV></DIV></DIV>\n",
      "<DIV><BR></DIV>\n",
      "<DIV><BR></DIV>\n",
      "<DIV><BR></DIV>\n",
      "<DIV><SPAN style=3D\"LINE-HEIGHT: 18px\"><FONT size=3D1><FONT color=3D#999999=\n",
      ">The information contained in or attached to this communication is intended=\n",
      " solely for the use of the individual or entity to whom it is addressed and=\n",
      " others authorised to receive it. It may contain confidential or legally pr=\n",
      "ivileged information. If you are not the intended recipient you are hereby =\n",
      "notified that any disclosure, copying, distribution or taking any action in=\n",
      " reliance on the contents of this information is strictly prohibited and ma=\n",
      "y be unlawful. If you have received this communication in error, please not=\n",
      "ify me immediately by responding to this email and then delete it from your=\n",
      " system. We are neither liable for the proper and complete transmission of =\n",
      "the information contained in this communication nor for any delay in its re=\n",
      "ceipt.&nbsp;</FONT>&nbsp; &nbsp;&nbsp;</FONT></SPAN></DIV></DIV></DIV></BOD=\n",
      "Y></HTML>\n",
      "--===============1969536252==--\n",
      "\n",
      "From jose@monkey.org Wed Jan 12 15:26:33 2022 +0000\n",
      "Return-Path: MAILER-DAEMON\n",
      "Delivered-To: jose@monkey.org\n",
      "X-FDA: 79022011866.11.7C5BC8F\n",
      "Received: from out.smarshmail.com (out.smarshmail.com [199.193.206.142])\n",
      "\tby imf28.b.hostedemail.com (Postfix) with ESMTP id 291DC18577D10\n",
      "\tfor <jose@monkey.org>; Wed, 12 Jan 2022 15:26:33 +0000 (UTC)\n",
      "Received: from ggg.mqn1tzeu2jze1gwcnkzezpilvh.phxx.internal.cloudapp.net\n",
      " (20.150.148.255) by MBX125-W3-CO-4.exch125.serverpod.net (10.224.13.158) with\n",
      " Microsoft SMTP Server (version=TLS1_2,\n",
      " cipher=TLS_ECDHE_RSA_WITH_AES_256_CBC_SHA384_P521) id 15.1.2375.17; Wed, 12\n",
      " Jan 2022 07:26:32 -0800\n",
      "Content-Type: multipart/alternative; boundary=\"===============0117374368==\"\n",
      "MIME-Version: 1.0\n",
      "Subject: Mail Delivery Failed: Returning Message to Sender\n",
      "To: <jose@monkey.org>\n",
      "From: Mail Delivery System\n",
      "Date: Wed, 12 Jan 2022 15:26:31 +0000\n",
      "Message-ID:\n",
      "\t<9b826d3c-2d1c-4e5d-a3d7-32c72367312a@MBX125-W3-CO-4.exch125.serverpod.net>\n",
      "X-Originating-IP: [20.150.148.255]\n",
      "X-ClientProxiedBy: MBX125-W5-CO-6.exch125.serverpod.net (10.224.13.186) To\n",
      " MBX125-W3-CO-4.exch125.serverpod.net (10.224.13.158)\n",
      "X-Stat-Signature: ztjb8foj5ijdkrrse6ookqtgrb539rcb\n",
      "Authentication-Results: imf28.b.hostedemail.com;\n",
      "\tdkim=none;\n",
      "\tdmarc=none;\n",
      "\tspf=none (imf28.b.hostedemail.com: domain of out.smarshmail.com has no SPF policy when checking 199.193.206.142) smtp.helo=out.smarshmail.com\n",
      "X-Spam-Status: No, score=3.20\n",
      "X-Rspamd-Server: rspam09\n",
      "X-Rspamd-Queue-Id: 291DC18577D10\n",
      "X-HE-Tag: 1642001193-978592\n",
      "Status: RO\n",
      "X-Status: \n",
      "X-Keywords:                 \n",
      "X-UID: 2\n",
      "\n",
      "--===============0117374368==\n",
      "Content-Type: text/plain; charset=\"iso-8859-1\"\n",
      "MIME-Version: 1.0\n",
      "Content-Transfer-Encoding: quoted-printable\n",
      "Content-Description: Mail message body\n",
      "\n",
      "  Microsoft Failure Delivery Notice.\n",
      "  User: jose@monkey.org =\n",
      "\n",
      " 3 pending sent messages couldn't be delivered =\n",
      "\n",
      " =\n",
      "\n",
      " Action Required.    =\n",
      "\n",
      "How to Fix It. =\n",
      "\n",
      "Click here to view undelivered sent email. =\n",
      "\n",
      " Created Date: 01. 12. 2022 =\n",
      "\n",
      " =\n",
      "\n",
      " =\n",
      "\n",
      " The information contained in or attached to this communication is intended=\n",
      " solely for the use of the individual or entity to whom it is addressed and=\n",
      " others authorised to receive it. It may contain confidential or legally pr=\n",
      "ivileged information. If you are not the intended recipient you are hereby =\n",
      "notified that any disclosure, copying, distribution or taking any action in=\n",
      " reliance on the contents of this information is strictly prohibited and ma=\n",
      "y be unlawful. If you have received this communication in error, please not=\n",
      "ify me immediately by responding to this email and then delete it from your=\n",
      " system. We are neither liable for the proper and complete transmission of =\n",
      "the information contained in this communication nor for any delay in its re=\n",
      "ceipt.    =20\n",
      "--===============0117374368==\n",
      "Content-Type: text/html; charset=\"iso-8859-1\"\n",
      "MIME-Version: 1.0\n",
      "Content-Transfer-Encoding: quoted-printable\n",
      "Content-Description: Mail message body\n",
      "\n",
      "<HTML><head><meta http-equiv=3D\"Content-Type\" content=3D\"text/html; charset=\n",
      "=3Diso-8859-1\"/></head><BODY><DIV id=3D:470 class=3D\"Ar Au Ao\" style=3D\n"
     ]
    }
   ],
   "source": [
    "print(html[:10000])"
   ]
  },
  {
   "cell_type": "code",
   "execution_count": 33,
   "id": "fa01dfd6",
   "metadata": {},
   "outputs": [
    {
     "data": {
      "text/plain": [
       "str"
      ]
     },
     "execution_count": 33,
     "metadata": {},
     "output_type": "execute_result"
    }
   ],
   "source": [
    "type(html)"
   ]
  },
  {
   "cell_type": "code",
   "execution_count": 39,
   "id": "1ec15400",
   "metadata": {},
   "outputs": [
    {
     "data": {
      "text/plain": [
       "4775954"
      ]
     },
     "execution_count": 39,
     "metadata": {},
     "output_type": "execute_result"
    }
   ],
   "source": [
    "len(html)"
   ]
  },
  {
   "cell_type": "code",
   "execution_count": 55,
   "id": "ad7dc765",
   "metadata": {},
   "outputs": [],
   "source": [
    "\n",
    "import re\n",
    "import pandas as pd\n",
    "\n",
    "# Split the contents based on the pattern\n",
    "sections = re.split(r'==\\d+==', html)\n",
    "\n",
    "# Remove empty sections\n",
    "sections = [section.strip() for section in sections if section.strip()]\n",
    "\n",
    "# Create a DataFrame with the sections as columns\n",
    "df = pd.DataFrame(sections, columns=[\"Section\"])\n",
    "\n"
   ]
  },
  {
   "cell_type": "code",
   "execution_count": 56,
   "id": "e18a0290",
   "metadata": {},
   "outputs": [
    {
     "data": {
      "text/html": [
       "<div>\n",
       "<style scoped>\n",
       "    .dataframe tbody tr th:only-of-type {\n",
       "        vertical-align: middle;\n",
       "    }\n",
       "\n",
       "    .dataframe tbody tr th {\n",
       "        vertical-align: top;\n",
       "    }\n",
       "\n",
       "    .dataframe thead th {\n",
       "        text-align: right;\n",
       "    }\n",
       "</style>\n",
       "<table border=\"1\" class=\"dataframe\">\n",
       "  <thead>\n",
       "    <tr style=\"text-align: right;\">\n",
       "      <th></th>\n",
       "      <th>Section</th>\n",
       "    </tr>\n",
       "  </thead>\n",
       "  <tbody>\n",
       "    <tr>\n",
       "      <th>0</th>\n",
       "      <td>From jose@monkey.org Wed Jan 12 14:09:38 2022 +0000\\nReturn-Path: MAILER-DAEMON\\nDelivered-To: jose@monkey.org\\nX-FDA: 79021818036.02.8B978AE\\nReceived: from out.smarshmail.com (out.smarshmail.com [199.193.206.151])\\n\\tby imf04.b.hostedemail.com (Postfix) with ESMTP id AD63B100335B4\\n\\tfor &lt;jose...</td>\n",
       "    </tr>\n",
       "    <tr>\n",
       "      <th>1</th>\n",
       "      <td>\"\\nMIME-Version: 1.0\\nSubject: Mail Delivery Failed: Returning Message to Sender\\nTo: &lt;jose@monkey.org&gt;\\nFrom: Mail Delivery System\\nDate: Wed, 12 Jan 2022 14:09:36 +0000\\nMessage-ID:\\n\\t&lt;5c0957de-31ab-4e99-bb2e-8fc53436eaca@MBX125-W8-CO-3.exch125.serverpod.net&gt;\\nX-Originating-IP: [20.150.148.25...</td>\n",
       "    </tr>\n",
       "    <tr>\n",
       "      <th>2</th>\n",
       "      <td>Content-Type: text/plain; charset=\"iso-8859-1\"\\nMIME-Version: 1.0\\nContent-Transfer-Encoding: quoted-printable\\nContent-Description: Mail message body\\n\\n  Microsoft Failure Delivery Notice.\\n  User: jose@monkey.org =\\n\\n 3 pending sent messages couldn't be delivered =\\n\\n =\\n\\n Action Required....</td>\n",
       "    </tr>\n",
       "    <tr>\n",
       "      <th>3</th>\n",
       "      <td>Content-Type: text/html; charset=\"iso-8859-1\"\\nMIME-Version: 1.0\\nContent-Transfer-Encoding: quoted-printable\\nContent-Description: Mail message body\\n\\n&lt;HTML&gt;&lt;head&gt;&lt;meta http-equiv=3D\"Content-Type\" content=3D\"text/html; charset=\\n=3Diso-8859-1\"/&gt;&lt;/head&gt;&lt;BODY&gt;&lt;DIV id=3D:470 class=3D\"Ar Au Ao\" st...</td>\n",
       "    </tr>\n",
       "    <tr>\n",
       "      <th>4</th>\n",
       "      <td>--\\n\\nFrom jose@monkey.org Wed Jan 12 15:26:33 2022 +0000\\nReturn-Path: MAILER-DAEMON\\nDelivered-To: jose@monkey.org\\nX-FDA: 79022011866.11.7C5BC8F\\nReceived: from out.smarshmail.com (out.smarshmail.com [199.193.206.142])\\n\\tby imf28.b.hostedemail.com (Postfix) with ESMTP id 291DC18577D10\\n\\tfor...</td>\n",
       "    </tr>\n",
       "  </tbody>\n",
       "</table>\n",
       "</div>"
      ],
      "text/plain": [
       "                                                                                                                                                                                                                                                                                                       Section\n",
       "0  From jose@monkey.org Wed Jan 12 14:09:38 2022 +0000\\nReturn-Path: MAILER-DAEMON\\nDelivered-To: jose@monkey.org\\nX-FDA: 79021818036.02.8B978AE\\nReceived: from out.smarshmail.com (out.smarshmail.com [199.193.206.151])\\n\\tby imf04.b.hostedemail.com (Postfix) with ESMTP id AD63B100335B4\\n\\tfor <jose...\n",
       "1  \"\\nMIME-Version: 1.0\\nSubject: Mail Delivery Failed: Returning Message to Sender\\nTo: <jose@monkey.org>\\nFrom: Mail Delivery System\\nDate: Wed, 12 Jan 2022 14:09:36 +0000\\nMessage-ID:\\n\\t<5c0957de-31ab-4e99-bb2e-8fc53436eaca@MBX125-W8-CO-3.exch125.serverpod.net>\\nX-Originating-IP: [20.150.148.25...\n",
       "2  Content-Type: text/plain; charset=\"iso-8859-1\"\\nMIME-Version: 1.0\\nContent-Transfer-Encoding: quoted-printable\\nContent-Description: Mail message body\\n\\n  Microsoft Failure Delivery Notice.\\n  User: jose@monkey.org =\\n\\n 3 pending sent messages couldn't be delivered =\\n\\n =\\n\\n Action Required....\n",
       "3  Content-Type: text/html; charset=\"iso-8859-1\"\\nMIME-Version: 1.0\\nContent-Transfer-Encoding: quoted-printable\\nContent-Description: Mail message body\\n\\n<HTML><head><meta http-equiv=3D\"Content-Type\" content=3D\"text/html; charset=\\n=3Diso-8859-1\"/></head><BODY><DIV id=3D:470 class=3D\"Ar Au Ao\" st...\n",
       "4  --\\n\\nFrom jose@monkey.org Wed Jan 12 15:26:33 2022 +0000\\nReturn-Path: MAILER-DAEMON\\nDelivered-To: jose@monkey.org\\nX-FDA: 79022011866.11.7C5BC8F\\nReceived: from out.smarshmail.com (out.smarshmail.com [199.193.206.142])\\n\\tby imf28.b.hostedemail.com (Postfix) with ESMTP id 291DC18577D10\\n\\tfor..."
      ]
     },
     "execution_count": 56,
     "metadata": {},
     "output_type": "execute_result"
    }
   ],
   "source": [
    "df.head()"
   ]
  },
  {
   "cell_type": "code",
   "execution_count": 57,
   "id": "8348fd2b",
   "metadata": {},
   "outputs": [],
   "source": [
    "pd.set_option('display.max_colwidth', 300)"
   ]
  },
  {
   "cell_type": "markdown",
   "id": "bbc27356",
   "metadata": {},
   "source": [
    "# mailbox 00"
   ]
  },
  {
   "cell_type": "code",
   "execution_count": 63,
   "id": "a91b05fb",
   "metadata": {},
   "outputs": [],
   "source": [
    "import mailbox\n",
    "\n",
    "# Open the mbox file\n",
    "mbox_file = \"../raw_data/phishing0.mbox\"\n",
    "mbox = mailbox.mbox(mbox_file)\n",
    "\n",
    "\n",
    "\n",
    "# Create a list to store email text contents\n",
    "email_texts = []\n",
    "\n",
    "# Iterate over each email in the mbox file\n",
    "for message in mbox:\n",
    "    # Extract the email text content\n",
    "    if message.is_multipart():\n",
    "        text_content = message.get_payload()[0].get_payload()\n",
    "    else:\n",
    "        text_content = message.get_payload()\n",
    "    \n",
    "    # Append the text content to the list\n",
    "    email_texts.append(text_content)\n",
    "\n",
    "# Create a DataFrame from the email text contents\n",
    "df_00 = pd.DataFrame({\"EmailText\": email_texts})\n",
    "\n"
   ]
  },
  {
   "cell_type": "code",
   "execution_count": 64,
   "id": "73ff8e09",
   "metadata": {},
   "outputs": [
    {
     "data": {
      "text/html": [
       "<div>\n",
       "<style scoped>\n",
       "    .dataframe tbody tr th:only-of-type {\n",
       "        vertical-align: middle;\n",
       "    }\n",
       "\n",
       "    .dataframe tbody tr th {\n",
       "        vertical-align: top;\n",
       "    }\n",
       "\n",
       "    .dataframe thead th {\n",
       "        text-align: right;\n",
       "    }\n",
       "</style>\n",
       "<table border=\"1\" class=\"dataframe\">\n",
       "  <thead>\n",
       "    <tr style=\"text-align: right;\">\n",
       "      <th></th>\n",
       "      <th>EmailText</th>\n",
       "    </tr>\n",
       "  </thead>\n",
       "  <tbody>\n",
       "    <tr>\n",
       "      <th>0</th>\n",
       "      <td>&lt;html&gt;\\n&lt;p&gt;\\n  &lt;A target=3D\"_blank\"     \\nhref=3D\"http://click3.ebay.com/99019653.50692.0.20283\"  \\n&gt;&lt;IMG\\nsrc=3D\"http://emailpics3.ebay.com/627422250/images/logo-18.gif\"\\n   border=3D0&gt;&lt;/A&gt;&lt;/p&gt;\\n&lt;p&gt;&lt;br&gt;\\n&lt;FONT  SIZE=3D2 PTSIZE=3D10 FAMILY=3D\"SANSSERIF\"\\nFACE=3D\"Arial\" LANG=3D\"0\"&gt;&lt;FONT  SIZE=3D2...</td>\n",
       "    </tr>\n",
       "    <tr>\n",
       "      <th>1</th>\n",
       "      <td>&lt;!DOCTYPE HTML PUBLIC \"-//W3C//DTD HTML 4.01 Transitional//EN\"\\n\"http://www.w3.org/TR/html4/loose.dtd\"&gt;\\n&lt;html&gt;\\n&lt;head&gt;\\n&lt;title&gt;Untitled Document&lt;/title&gt;\\n&lt;meta http-equiv=\"Content-Type\" content=\"text/html; charset=iso-8859-1\"&gt;\\n&lt;/head&gt;\\n\\n&lt;body bgcolor=\"#FFFFFF\" leftmargin=\"0\" topmargin=\"0\" mar...</td>\n",
       "    </tr>\n",
       "    <tr>\n",
       "      <th>2</th>\n",
       "      <td>eBay --&gt; http://click3.ebay.com/705443.53897.0.43424\\n\\n=3D=3D=3D=3D=3D=3D=3D=3D=3D=3D=3D=3D=3D=3D=3D=3D=3D=3D=3D=3D=3D=3D=3D=3D=3D=\\n=3D=3D=3D=3D=3D=3D=3D=3D=3D=3D=3D=3D=3D=3D=3D=3D=3D=3D=3D=3D=3D=3D=3D=3D\\n\\nHoliday Gift Guide\\nFind the perfect gift for everyone on your list!\\n=3D=3D&gt; http://c...</td>\n",
       "    </tr>\n",
       "    <tr>\n",
       "      <th>3</th>\n",
       "      <td>&lt;!DOCTYPE html PUBLIC \"-//W3C//DTD HTML 4.01 Transitional//EN\"&gt;\\n&lt;html&gt;&lt;head&gt;\\n &lt;meta http-equiv=\"content-type\"\\n content=\"text/html; charset=windows-1251\"&gt;\\n&lt;/head&gt;\\n&lt;body text=\"#000000\" bgcolor=\"#ffffcc\" link=\"#000099\"\\n vlink=\"#990099\"\\n alink=\"#000099\"&gt;\\n\\n&lt;p&gt;&lt;i&gt;Congratulations! PayPal has s...</td>\n",
       "    </tr>\n",
       "    <tr>\n",
       "      <th>4</th>\n",
       "      <td>&lt;!DOCTYPE HTML PUBLIC \"-//W3C//DTD HTML 4.0 Transitional//EN\"&gt;\\n&lt;HTML&gt;&lt;HEAD&gt;&lt;TITLE&gt;My eBay&lt;/TITLE&gt;&lt;!--   extraneous meta tag removed by ebay code  --&gt;&lt;!--\\n\\nsrcId: SignIn--&gt;\\n&lt;META http-equiv=Content-Type content=\"text/html; charset=ISO-8859-1\"&gt;\\n\\n&lt;META content=\"MSHTML 6.00.2600.0\" name=GENERA...</td>\n",
       "    </tr>\n",
       "  </tbody>\n",
       "</table>\n",
       "</div>"
      ],
      "text/plain": [
       "                                                                                                                                                                                                                                                                                                     EmailText\n",
       "0  <html>\\n<p>\\n  <A target=3D\"_blank\"     \\nhref=3D\"http://click3.ebay.com/99019653.50692.0.20283\"  \\n><IMG\\nsrc=3D\"http://emailpics3.ebay.com/627422250/images/logo-18.gif\"\\n   border=3D0></A></p>\\n<p><br>\\n<FONT  SIZE=3D2 PTSIZE=3D10 FAMILY=3D\"SANSSERIF\"\\nFACE=3D\"Arial\" LANG=3D\"0\"><FONT  SIZE=3D2...\n",
       "1  <!DOCTYPE HTML PUBLIC \"-//W3C//DTD HTML 4.01 Transitional//EN\"\\n\"http://www.w3.org/TR/html4/loose.dtd\">\\n<html>\\n<head>\\n<title>Untitled Document</title>\\n<meta http-equiv=\"Content-Type\" content=\"text/html; charset=iso-8859-1\">\\n</head>\\n\\n<body bgcolor=\"#FFFFFF\" leftmargin=\"0\" topmargin=\"0\" mar...\n",
       "2  eBay --> http://click3.ebay.com/705443.53897.0.43424\\n\\n=3D=3D=3D=3D=3D=3D=3D=3D=3D=3D=3D=3D=3D=3D=3D=3D=3D=3D=3D=3D=3D=3D=3D=3D=3D=\\n=3D=3D=3D=3D=3D=3D=3D=3D=3D=3D=3D=3D=3D=3D=3D=3D=3D=3D=3D=3D=3D=3D=3D=3D\\n\\nHoliday Gift Guide\\nFind the perfect gift for everyone on your list!\\n=3D=3D> http://c...\n",
       "3  <!DOCTYPE html PUBLIC \"-//W3C//DTD HTML 4.01 Transitional//EN\">\\n<html><head>\\n <meta http-equiv=\"content-type\"\\n content=\"text/html; charset=windows-1251\">\\n</head>\\n<body text=\"#000000\" bgcolor=\"#ffffcc\" link=\"#000099\"\\n vlink=\"#990099\"\\n alink=\"#000099\">\\n\\n<p><i>Congratulations! PayPal has s...\n",
       "4  <!DOCTYPE HTML PUBLIC \"-//W3C//DTD HTML 4.0 Transitional//EN\">\\n<HTML><HEAD><TITLE>My eBay</TITLE><!--   extraneous meta tag removed by ebay code  --><!--\\n\\nsrcId: SignIn-->\\n<META http-equiv=Content-Type content=\"text/html; charset=ISO-8859-1\">\\n\\n<META content=\"MSHTML 6.00.2600.0\" name=GENERA..."
      ]
     },
     "execution_count": 64,
     "metadata": {},
     "output_type": "execute_result"
    }
   ],
   "source": [
    "df_00.head()"
   ]
  },
  {
   "cell_type": "code",
   "execution_count": 65,
   "id": "2b434a62",
   "metadata": {},
   "outputs": [
    {
     "data": {
      "text/plain": [
       "(414, 1)"
      ]
     },
     "execution_count": 65,
     "metadata": {},
     "output_type": "execute_result"
    }
   ],
   "source": [
    "df_00.shape"
   ]
  },
  {
   "cell_type": "code",
   "execution_count": 71,
   "id": "643e25f5",
   "metadata": {},
   "outputs": [
    {
     "name": "stdout",
     "output_type": "stream",
     "text": [
      "<html>\n",
      "<p>\n",
      "  <A target=3D\"_blank\"     \n",
      "href=3D\"http://click3.ebay.com/99019653.50692.0.20283\"  \n",
      "><IMG\n",
      "src=3D\"http://emailpics3.ebay.com/627422250/images/logo-18.gif\"\n",
      "   border=3D0></A></p>\n",
      "<p><br>\n",
      "<FONT  SIZE=3D2 PTSIZE=3D10 FAMILY=3D\"SANSSERIF\"\n",
      "FACE=3D\"Arial\" LANG=3D\"0\"><FONT  SIZE=3D2 PTSIZE=3D10\n",
      "FAMILY=3D\"SANSSERIF\" FACE=3D\"Arial\" LANG=3D\"0\">Dear valued\n",
      "eBay member:<BR>\n",
      "  <BR>\n",
      "We recently have determined that different computers\n",
      "have logged onto your eBay account, and multiple\n",
      "password failures were present before the logons. We\n",
      "now need you to re-confirm your account information to\n",
      "us. If this is not completed by <strong>November 30,\n",
      "2004</strong>, we will be forced to suspend your\n",
      "account indefinitely, as it may have been used for\n",
      "fraudulent purposes. We thank you for your cooperation\n",
      "in this manner.</FONT>\n",
      "<p>To confirm your eBay records click here: <br>\n",
      "  <a\n",
      "HREF=3Dhttp://140.130.108.11/account/aw-confirm/ebayDLLupdate/index.html\n",
      "target=3D\"_self\">http://cgi1.ebay.com/aw-cgi/ebayISAPI.dll?UPdate</a></p>\n",
      "<p><font size=3D\"2\" face=3D\"Arial, Helvetica,\n",
      "sans-serif\"><font color=3D\"#000000\">We appreciate your\n",
      "support and understanding, as we work together to keep\n",
      "eBay a safe place to trade.</font></font><font\n",
      "color=3D\"#000000\" size=3D\"2\" face=3D\"Arial, Helvetica,\n",
      "sans-serif\"><BR>\n",
      "Thank you for your patience in this matter.</font><br>\n",
      "  <br>\n",
      "</p>\n",
      "<p><font color=3D\"#000000\" size=3D\"2\" face=3D\"Arial,\n",
      "Helvetica, sans-serif\">Trust and Safety\n",
      "Department</font><br>\n",
      "  <font color=3D\"#000000\" size=3D\"2\" face=3D\"Arial,\n",
      "Helvetica, sans-serif\">eBay Inc.</font></p>\n",
      "<p><font size=3D\"2\" face=3D\"Arial, Helvetica,\n",
      "sans-serif\"><font color=3D\"#999999\" size=3D\"1\">Please do\n",
      "not reply to this e-mail as this is only a\n",
      "notification. Mail sent to this address cannot be\n",
      "answered. </font></font></p>\n",
      "<p><font color=3D\"#000000\" size=3D\"1\" face=3D\"Arial,\n",
      "Helvetica, sans-serif\"><font color=3D\"black\"><span\n",
      "style=3D\"color: black;\">Copyright 1995-2004 <a\n",
      "target=3D\"_blank\"\n",
      "href=3D\"http://pages.ebay.com/community/aboutebay/index.html\">eBay\n",
      "Inc.</a> All Rights Reserved. Designated trademarks\n",
      "and brands are the property of their respective\n",
      "owners. Use of this Web site constitutes acceptance of\n",
      "the eBay <a target=3D\"_blank\"\n",
      "href=3D\"http://pages.ebay.com/help/community/png-user.html\">User\n",
      "Agreement</a> and <a target=3D\"_blank\"\n",
      "href=3D\"http://pages.ebay.com/help/community/png-priv.html\">Privacy\n",
      "Policy</a>.</span> </font></font><font color=3D\"#000000\"\n",
      "size=3D\"1\" face=3D\"Arial,\n",
      "Helvetica, sans-serif\">Designated trademarks and\n",
      "brands are the property of their respective owners.\n",
      "eBay and the eBay logo are trademarks of eBay Inc.\n",
      "eBay is located at 2145 Hamilton Avenue, San Jose, CA\n",
      "95125. </font><br>\n",
      "</p>\n",
      "</html>\n",
      "\n",
      "\n",
      "\n"
     ]
    }
   ],
   "source": [
    "# Assuming you have a DataFrame called 'df' with a column named 'EmailText'\n",
    "\n",
    "# Get the value of a specific row and column\n",
    "row_index = 0  # Replace with the desired row index\n",
    "column_name = 'EmailText'  # Replace with the desired column name\n",
    "\n",
    "value = df_00.iloc[row_index][column_name]\n",
    "print(value)"
   ]
  },
  {
   "cell_type": "markdown",
   "id": "5a95b197",
   "metadata": {},
   "source": [
    "# Mailbox 01"
   ]
  },
  {
   "cell_type": "code",
   "execution_count": 72,
   "id": "97691f13",
   "metadata": {},
   "outputs": [],
   "source": [
    "# Open the mbox file\n",
    "mbox_file_01 = \"../raw_data/phishing1.mbox\"\n",
    "mbox_01 = mailbox.mbox(mbox_file_01)\n",
    "\n",
    "\n",
    "# Create a list to store email text contents\n",
    "email_texts = []\n",
    "\n",
    "# Iterate over each email in the mbox file\n",
    "for message in mbox_01:\n",
    "    # Extract the email text content\n",
    "    if message.is_multipart():\n",
    "        text_content = message.get_payload()[0].get_payload()\n",
    "    else:\n",
    "        text_content = message.get_payload()\n",
    "    \n",
    "    # Append the text content to the list\n",
    "    email_texts.append(text_content)\n",
    "\n",
    "# Create a DataFrame from the email text contents\n",
    "df_01 = pd.DataFrame({\"EmailText\": email_texts})"
   ]
  },
  {
   "cell_type": "code",
   "execution_count": 73,
   "id": "f24154f0",
   "metadata": {},
   "outputs": [
    {
     "data": {
      "text/plain": [
       "(456, 1)"
      ]
     },
     "execution_count": 73,
     "metadata": {},
     "output_type": "execute_result"
    }
   ],
   "source": [
    "df_01.shape"
   ]
  },
  {
   "cell_type": "markdown",
   "id": "8d28190f",
   "metadata": {},
   "source": [
    "# Mailbox 02"
   ]
  },
  {
   "cell_type": "code",
   "execution_count": 74,
   "id": "efea5d77",
   "metadata": {},
   "outputs": [],
   "source": [
    "# Open the mbox file\n",
    "mbox_file_02 = \"../raw_data/phishing2.mbox\"\n",
    "mbox_02 = mailbox.mbox(mbox_file_02)\n",
    "\n",
    "\n",
    "# Create a list to store email text contents\n",
    "email_texts = []\n",
    "\n",
    "# Iterate over each email in the mbox file\n",
    "for message in mbox_02:\n",
    "    # Extract the email text content\n",
    "    if message.is_multipart():\n",
    "        text_content = message.get_payload()[0].get_payload()\n",
    "    else:\n",
    "        text_content = message.get_payload()\n",
    "    \n",
    "    # Append the text content to the list\n",
    "    email_texts.append(text_content)\n",
    "\n",
    "# Create a DataFrame from the email text contents\n",
    "df_02 = pd.DataFrame({\"EmailText\": email_texts})"
   ]
  },
  {
   "cell_type": "code",
   "execution_count": 75,
   "id": "8672d66c",
   "metadata": {},
   "outputs": [
    {
     "data": {
      "text/plain": [
       "(1423, 1)"
      ]
     },
     "execution_count": 75,
     "metadata": {},
     "output_type": "execute_result"
    }
   ],
   "source": [
    "df_02.shape"
   ]
  },
  {
   "cell_type": "markdown",
   "id": "3f3d2dc3",
   "metadata": {},
   "source": [
    "# Mailbox 03"
   ]
  },
  {
   "cell_type": "code",
   "execution_count": 76,
   "id": "acd7ee97",
   "metadata": {},
   "outputs": [],
   "source": [
    "# Open the mbox file\n",
    "mbox_file_03 = \"../raw_data/phishing3.mbox\"\n",
    "mbox_03 = mailbox.mbox(mbox_file_03)\n",
    "\n",
    "\n",
    "# Create a list to store email text contents\n",
    "email_texts = []\n",
    "\n",
    "# Iterate over each email in the mbox file\n",
    "for message in mbox_03:\n",
    "    # Extract the email text content\n",
    "    if message.is_multipart():\n",
    "        text_content = message.get_payload()[0].get_payload()\n",
    "    else:\n",
    "        text_content = message.get_payload()\n",
    "    \n",
    "    # Append the text content to the list\n",
    "    email_texts.append(text_content)\n",
    "\n",
    "# Create a DataFrame from the email text contents\n",
    "df_03 = pd.DataFrame({\"EmailText\": email_texts})"
   ]
  },
  {
   "cell_type": "code",
   "execution_count": 77,
   "id": "fdc992f2",
   "metadata": {},
   "outputs": [
    {
     "data": {
      "text/plain": [
       "(2279, 1)"
      ]
     },
     "execution_count": 77,
     "metadata": {},
     "output_type": "execute_result"
    }
   ],
   "source": [
    "df_03.shape"
   ]
  },
  {
   "cell_type": "markdown",
   "id": "046f6db7",
   "metadata": {},
   "source": [
    "# Mailbox04"
   ]
  },
  {
   "cell_type": "code",
   "execution_count": 82,
   "id": "3e3cb21f",
   "metadata": {},
   "outputs": [],
   "source": [
    "# Open the mbox file\n",
    "mbox_file_04 = \"../raw_data/private-phishing4.mbox\"\n",
    "mbox_04 = mailbox.mbox(mbox_file_04)\n"
   ]
  },
  {
   "cell_type": "code",
   "execution_count": null,
   "id": "e32d1eaa",
   "metadata": {},
   "outputs": [],
   "source": []
  },
  {
   "cell_type": "markdown",
   "id": "8a9658df",
   "metadata": {},
   "source": [
    "# Mailbox 05"
   ]
  },
  {
   "cell_type": "code",
   "execution_count": 80,
   "id": "f4b95103",
   "metadata": {},
   "outputs": [],
   "source": [
    "# Open the mbox file\n",
    "mbox_file_05 = \"../raw_data/20051114.mbox\"\n",
    "mbox_05 = mailbox.mbox(mbox_file_05)\n",
    "\n",
    "\n",
    "# Create a list to store email text contents\n",
    "email_texts = []\n",
    "\n",
    "# Iterate over each email in the mbox file\n",
    "for message in mbox_05:\n",
    "    # Extract the email text content\n",
    "    if message.is_multipart():\n",
    "        text_content = message.get_payload()[0].get_payload()\n",
    "    else:\n",
    "        text_content = message.get_payload()\n",
    "    \n",
    "    # Append the text content to the list\n",
    "    email_texts.append(text_content)\n",
    "\n",
    "# Create a DataFrame from the email text contents\n",
    "df_05 = pd.DataFrame({\"EmailText\": email_texts})"
   ]
  },
  {
   "cell_type": "code",
   "execution_count": 81,
   "id": "fab4df3c",
   "metadata": {},
   "outputs": [
    {
     "data": {
      "text/plain": [
       "(438, 1)"
      ]
     },
     "execution_count": 81,
     "metadata": {},
     "output_type": "execute_result"
    }
   ],
   "source": [
    "df_05.shape"
   ]
  },
  {
   "cell_type": "code",
   "execution_count": 91,
   "id": "56477dfa",
   "metadata": {},
   "outputs": [],
   "source": [
    "\n",
    "# Combine the DataFrames into a single DataFrame\n",
    "dfs = [df_00, df_01, df_02, df_03, df_05]\n",
    "combined_df = pd.concat(dfs)\n",
    "\n",
    "# Reset the index of the combined DataFrame\n",
    "combined_df = combined_df.reset_index(drop=True)\n",
    "\n"
   ]
  },
  {
   "cell_type": "code",
   "execution_count": 92,
   "id": "c103dbaa",
   "metadata": {},
   "outputs": [
    {
     "data": {
      "text/plain": [
       "(5010, 1)"
      ]
     },
     "execution_count": 92,
     "metadata": {},
     "output_type": "execute_result"
    }
   ],
   "source": [
    "combined_df.shape"
   ]
  },
  {
   "cell_type": "code",
   "execution_count": 93,
   "id": "bc812ded",
   "metadata": {},
   "outputs": [
    {
     "data": {
      "text/html": [
       "<div>\n",
       "<style scoped>\n",
       "    .dataframe tbody tr th:only-of-type {\n",
       "        vertical-align: middle;\n",
       "    }\n",
       "\n",
       "    .dataframe tbody tr th {\n",
       "        vertical-align: top;\n",
       "    }\n",
       "\n",
       "    .dataframe thead th {\n",
       "        text-align: right;\n",
       "    }\n",
       "</style>\n",
       "<table border=\"1\" class=\"dataframe\">\n",
       "  <thead>\n",
       "    <tr style=\"text-align: right;\">\n",
       "      <th></th>\n",
       "      <th>EmailText</th>\n",
       "    </tr>\n",
       "  </thead>\n",
       "  <tbody>\n",
       "    <tr>\n",
       "      <th>0</th>\n",
       "      <td>&lt;html&gt;\\n&lt;p&gt;\\n  &lt;A target=3D\"_blank\"     \\nhref=3D\"http://click3.ebay.com/99019653.50692.0.20283\"  \\n&gt;&lt;IMG\\nsrc=3D\"http://emailpics3.ebay.com/627422250/images/logo-18.gif\"\\n   border=3D0&gt;&lt;/A&gt;&lt;/p&gt;\\n&lt;p&gt;&lt;br&gt;\\n&lt;FONT  SIZE=3D2 PTSIZE=3D10 FAMILY=3D\"SANSSERIF\"\\nFACE=3D\"Arial\" LANG=3D\"0\"&gt;&lt;FONT  SIZE=3D2 PTSIZE=3D10\\nFAMILY=3D\"SANSSERIF\" FACE=3D\"Arial\" LANG=3D\"0\"&gt;Dear valued\\neBay member:&lt;BR&gt;\\n  &lt;BR&gt;\\nWe recently have determined that different computers\\nhave logged onto your eBay account, and multiple\\npassword failures were present before the logons. We\\nnow need you to re-confirm your account information to\\nus. If this is not completed by &lt;strong&gt;November 30,\\n2004&lt;/strong&gt;, we will be forced to suspend your\\naccount indefinitely, as it may have been used for\\nfraudulent purposes. We thank you for your cooperation\\nin this manner.&lt;/FONT&gt;\\n&lt;p&gt;To confirm your eBay records click here: &lt;br&gt;\\n  &lt;a\\nHREF=3Dhttp://140.130.108.11/account/aw-confirm/ebayDLLupdate/index.html\\ntarget=3D\"_self\"&gt;http://cgi1.ebay.com/aw-cgi/ebayISAPI.dll?UPdate&lt;/a&gt;&lt;/p&gt;\\n&lt;p&gt;&lt;font size=3D\"2\" face=3D\"Arial, Helvetica,\\nsans-serif\"&gt;&lt;font color=3D\"#000000\"&gt;We appreciate your\\nsupport and understanding, as we work together to keep\\neBay a safe place to trade.&lt;/font&gt;&lt;/font&gt;&lt;font\\ncolor=3D\"#000000\" size=3D\"2\" face=3D\"Arial, Helvetica,\\nsans-serif\"&gt;&lt;BR&gt;\\nThank you for your patience in this matter.&lt;/font&gt;&lt;br&gt;\\n  &lt;br&gt;\\n&lt;/p&gt;\\n&lt;p&gt;&lt;font color=3D\"#000000\" size=3D\"2\" face=3D\"Arial,\\nHelvetica, sans-serif\"&gt;Trust and Safety\\nDepartment&lt;/font&gt;&lt;br&gt;\\n  &lt;font color=3D\"#000000\" size=3D\"2\" face=3D\"Arial,\\nHelvetica, sans-serif\"&gt;eBay Inc.&lt;/font&gt;&lt;/p&gt;\\n&lt;p&gt;&lt;font size=3D\"2\" face=3D\"Arial, Helvetica,\\nsans-serif\"&gt;&lt;font color=3D\"#999999\" size=3D\"1\"&gt;Please do\\nnot reply to this e-mail as this is only a\\nnotification. Mail sent to this address cannot be\\nanswered. &lt;/font&gt;&lt;/font&gt;&lt;/p&gt;\\n&lt;p&gt;&lt;font color=3D\"#000000\" size=3D\"1\" face=3D\"Arial,\\nHelvetica, sans-serif\"&gt;&lt;font color=3D\"black\"&gt;&lt;span\\nstyle=3D\"color: black;\"&gt;Copyright 1995-2004 &lt;a\\ntarget=3D\"_blank\"\\nhref=3D\"http://pages.ebay.com/community/aboutebay/index.html\"&gt;eBay\\nInc.&lt;/a&gt; All Rights Reserved. Designated trademarks\\nand brands are the property of their respective\\nowners. Use of this Web site constitutes acceptance of\\nthe eBay &lt;a target=3D\"_blank\"\\nhref=3D\"http://pages.ebay.com/help/community/png-user.html\"&gt;User\\nAgreement&lt;/a&gt; and &lt;a target=3D\"_blank\"\\nhref=3D\"http://pages.ebay.com/help/community/png-priv.html\"&gt;Privacy\\nPolicy&lt;/a&gt;.&lt;/span&gt; &lt;/font&gt;&lt;/font&gt;&lt;font color=3D\"#000000\"\\nsize=3D\"1\" face=3D\"Arial,\\nHelvetica, sans-serif\"&gt;Designated trademarks and\\nbrands are the property of their respective owners.\\neBay and the eBay logo are trademarks of eBay Inc.\\neBay is located at 2145 Hamilton Avenue, San Jose, CA\\n95125. &lt;/font&gt;&lt;br&gt;\\n&lt;/p&gt;\\n&lt;/html&gt;\\n\\n\\n</td>\n",
       "    </tr>\n",
       "    <tr>\n",
       "      <th>1</th>\n",
       "      <td>&lt;!DOCTYPE HTML PUBLIC \"-//W3C//DTD HTML 4.01 Transitional//EN\"\\n\"http://www.w3.org/TR/html4/loose.dtd\"&gt;\\n&lt;html&gt;\\n&lt;head&gt;\\n&lt;title&gt;Untitled Document&lt;/title&gt;\\n&lt;meta http-equiv=\"Content-Type\" content=\"text/html; charset=iso-8859-1\"&gt;\\n&lt;/head&gt;\\n\\n&lt;body bgcolor=\"#FFFFFF\" leftmargin=\"0\" topmargin=\"0\" marginwidth=\"0\" marginheight=\"0\"&gt;\\n&lt;table width=\"700\" border=\"1\" align=\"center\" cellpadding=\"0\" cellspacing=\"0\"&gt;\\n  &lt;tr&gt;\\n    &lt;td bordercolor=\"#003300\"&gt;&lt;table width=\"700\" border=\"0\" align=\"center\" cellpadding=\"0\" cellspacing=\"0\" bgcolor=\"d6dfcf\"&gt;\\n      &lt;tr&gt;\\n        &lt;td&gt;&lt;img src=\"http://www.i-onlinemail.net/cimg01/instantonlinealert/growthequity/header.gif\" width=\"700\" height=\"100\"&gt;&lt;/td&gt;\\n      &lt;/tr&gt;\\n      &lt;tr&gt;\\n        &lt;td style=\"padding:10px\"&gt;&lt;p align=\"center\"&gt;&lt;em&gt;&lt;font color=\"#CC0000\" size=\"5\" face=\"Arial, Helvetica, sans-serif\"&gt;&lt;strong&gt;FLASH ALERT!&lt;/strong&gt;&lt;/font&gt;&lt;/em&gt;&lt;/p&gt;\\n          &lt;p align=\"left\"&gt;&lt;strong&gt;&lt;font size=\"4\"&gt;AIMSI Technologies, Inc. Signs U.S. Sales Agreement with Advanced Global Security, LLC., whose CEO is &lt;em&gt;&lt;font color=\"#CC0000\"&gt;FORMER CONGRESSMAN&lt;/font&gt; &lt;/em&gt;, Steve Stockman.&lt;/font&gt;&lt;/strong&gt;&lt;/p&gt;\\n          &lt;em&gt;Click for Press Release: &lt;/em&gt;&lt;strong&gt;&lt;a href='http://www.i-onlinemail.net/080E181D0117321F1D1C19170B5C1D00150E46414A44430E4B0E400E40464041444B460E08.aspx'&gt;http://biz.yahoo.com/bw/041121/215025_1.html &lt;/a&gt;&lt;/strong&gt;\\n&lt;p&gt;&lt;font face=\"Arial, Helvetica, sans-serif\"&gt;Growth Equity Corp. has discovered a &amp;#147;diamond in the rough&amp;#148; that is being polished to a brilliant shine. As with everything in the market,&lt;u&gt; &lt;strong&gt;&lt;em&gt;timing is everything&lt;/em&gt;&lt;/strong&gt;&lt;/u&gt; &lt;em&gt;! &lt;/em&gt;We are excited to have found this opportunity to buy in advance of the market demand. Read on to find out why we are so confident of this stock pick being a &lt;strong&gt;Huge Winner. &lt;/strong&gt;&lt;/font&gt;&lt;/p&gt;\\n            &lt;p align=\"center\"&gt;&lt;font color=\"#CC0000\" size=\"5\" face=\"Arial, Helvetica, sans-serif\"&gt;(OTCBB: &lt;strong&gt;AIMT &lt;/strong&gt;)&lt;/font&gt;&lt;/p&gt;\\n            &lt;p&gt;&lt;font face=\"Arial, Helvetica, sans-serif\"&gt;No &amp;#147;Pump and Dump&amp;#148; here. AIMSI Technologies Inc. (OTCBB: &lt;strong&gt; AIMT &lt;/strong&gt;) is a solid company with an exciting future.&lt;/font&gt;&lt;/p&gt;\\n            &lt;ul&gt;\\n              &lt;li&gt;&lt;font face=\"Arial, Helvetica, sans-serif\"&gt;In business over 10 years, profitable each year.&lt;/font&gt;&lt;/li&gt;\\n              &lt;li&gt;&lt;font face=\"Arial, Helvetica, sans-serif\"&gt;Exclusive worldwide distribution rights for the Automatic Large Area Remote Mapper (ALARM). A cutting edge technology patented by the University of Alabama at Huntsville , that can detect radioactive &amp;#147;dirty bombs&amp;#148;, chemical and biological threats.&lt;/font&gt;&lt;/li&gt;\\n              &lt;li&gt;&lt;font face=\"Arial, Helvetica, sans-serif\"&gt;Signed $225 million dollar contract for the &amp;#147;ALARM&amp;#148; with China Global Distribution Corp. This contract alone should generate over $100 million dollars in profit to &lt;strong&gt;AIMT, &lt;/strong&gt;and that's &lt;em&gt;just in Asia &lt;/em&gt;&lt;strong&gt;&lt;em&gt;. &lt;/em&gt;&lt;/strong&gt;&lt;/font&gt;&lt;/li&gt;\\n              &lt;li&gt;&lt;font face=\"Arial, Helvetica, sans-serif\"&gt;The U.S. Department of Homeland Security has a $44 billion dollar budget, and &lt;strong&gt;AIMT &lt;/strong&gt;is well positioned to tap into this budget with contracts that may dwarf the Asian contract.&lt;br&gt;\\n                  &lt;strong&gt;Press Release &lt;a href='http://www.i-onlinemail.net/080E181D0117321F1D1C19170B5C1D00150E46414A44430E4B0E400E40414B4B4243470E08.aspx'&gt;http://biz.yahoo.com/pz/040910/63669.html&lt;/a&gt;&lt;/strong&gt;&lt;/font&gt;&lt;/li&gt;\\n              &lt;li&gt;&lt;font face=\"Arial, Helvetica, sans-serif\"&gt;ALARM units already in production, first units passed rigorous testing by highly regarded Oak Ridge Labs in Tennessee .&lt;/font&gt;&lt;/li&gt;\\n            &lt;/ul&gt;\\n            &lt;p align=\"center\"&gt;&lt;font size=\"5\" face=\"Arial, Helvetica, sans-serif\"&gt;&lt;em&gt;&lt;font color=\"#CC0000\"&gt;LATEST NEWS IS BEST OF ALL! &lt;/font&gt;&lt;/em&gt;&lt;/font&gt;&lt;font color=\"#CC0000\" face=\"Arial, Helvetica, sans-serif\"&gt;&lt;em&gt;&lt;br&gt;\\n            &lt;/em&gt;&lt;strong&gt;Savvy investors say this latest press release is &amp;#147; &lt;em&gt;stronger than a garlic milkshake &lt;/em&gt;&amp;#148;.&lt;/strong&gt;&lt;/font&gt;&lt;/p&gt;\\n            &lt;p&gt;&lt;font face=\"Arial, Helvetica, sans-serif\"&gt;Reginald Hall, Chairman and CEO, has revised his employment agreement with the company. He is so excited and confident about the future growth prospects of the company, that he has canceled over &lt;strong&gt;36 million shares &lt;/strong&gt; previously issued to him, and has agreed to receive &lt;strong&gt;&lt;em&gt;compensation based on future performance of the company.&lt;/em&gt;&lt;/strong&gt;&lt;/font&gt;&lt;/p&gt;\\n            &lt;p align=\"center\"&gt;&lt;strong&gt;&lt;font face=\"Arial, Helvetica, sans-serif\"&gt;See Press Release: &lt;a href='http://www.i-onlinemail.net/080E181D0117321F1D1C19170B5C1D00150E46414A44430E4B0E400E404640414543450E08.aspx'&gt;http://biz.yahoo.com/bw/041119/195236_1.html &lt;/a&gt;&lt;/font&gt;&lt;/strong&gt;&lt;/p&gt;            \\n            &lt;p&gt;&lt;font face=\"Arial, Helvetica, sans-serif\"&gt;Since this represents more than half of the issued and outstanding shares of stock in the company, it won't take the market long to realize that the price per share should double in value.&lt;/font&gt;&lt;/p&gt;\\n            &lt;p&gt;&lt;font face=\"Arial, Helvetica, sans-serif\"&gt;&lt;strong&gt;&lt;em&gt;That's good news&amp;#133;but it gets better!&lt;/em&gt;&lt;/strong&gt;&lt;/font&gt;&lt;/p&gt;\\n            &lt;p&gt;&lt;font face=\"Arial, Helvetica, sans-serif\"&gt;At the same time Mr. Hall cancelled his stock, the company approved a 5 for 1 forward stock split. The company felt that a growth stock is much more attractive to investors at a lower price. (&lt;strong&gt;&lt;em&gt;&lt;font color=\"#006600\"&gt;Notwithstanding the company's intention to apply soon for a listing on the American Stock Exchange; AMEX.&lt;/font&gt; &lt;/em&gt;&lt;/strong&gt;) Remember, this stock is undervalued by at least 50% because the outstanding shares have been reduced by 50%.&lt;/font&gt;&lt;/p&gt;\\n            &lt;p align=\"center\"&gt;&lt;strong&gt;&lt;em&gt;&lt;font face=\"Arial, Helvetica, sans-serif\"&gt;Press Release: &lt;/font&gt;&lt;/em&gt;&lt;/strong&gt;&lt;font face=\"Arial, Helvetica, sans-serif\"&gt;&lt;strong&gt;&lt;a href='http://www.i-onlinemail.net/080E181D0117321F1D1C19170B5C1D00150E46414A44430E4B0E400E404640414546420E08.aspx'&gt;http://biz.yahoo.com / pz/041029/66580.html&lt;/a&gt;&lt;/strong&gt;&lt;/font&gt;&lt;/p&gt;            \\n            &lt;p&gt;&lt;font face=\"Arial, Helvetica, sans-serif\"&gt;&lt;strong&gt;&lt;font color=\"#CC0000\"&gt;This stock will not go unnoticed long. We predict this stock will soar to the $6.00 to $8.00 dollar/share range \\n\\n\\n by the end of the year!!!&lt;/font&gt;&lt;/strong&gt;&lt;/font&gt;&lt;/p&gt;\\n            &lt;p&gt;&lt;font face=\"Arial, Helvetica, sans-serif\"&gt;&amp;#149;&amp;nbsp; &lt;strong&gt;Timing is perfect&lt;br&gt;\\n              &lt;/strong&gt;&lt;/font&gt;&lt;font face=\"Arial, Helvetica, sans-serif\"&gt;&amp;#149;&amp;nbsp; &lt;strong&gt;The Homeland Security sector is hot.&lt;br&gt;\\n              &lt;/strong&gt;&lt;/font&gt;&lt;font face=\"Arial, Helvetica, sans-serif\"&gt;&amp;#149;&amp;nbsp; &lt;strong&gt;Company fundamentals are sound, with strong leadership.&lt;br&gt;\\n            &lt;/strong&gt;&lt;/font&gt;&lt;font face=\"Arial, Helvetica, sans-serif\"&gt;&amp;#149;&amp;nbsp; &lt;strong&gt;Best of all, this company has structured its stock for tremendous\\n            growth. &lt;/strong&gt;&lt;/font&gt;&lt;/p&gt;\\n            &lt;p align=\"center\"&gt;&lt;font color=\"#CC0000\" face=\"Arial, Helvetica, sans-serif\"&gt; &lt;strong&gt;See a picture of the AWESOME A.L.A.R.M!!! &lt;em&gt;Click &lt;/em&gt;&lt;a href='http://www.i-onlinemail.net/080E181D0117321F1D1C19170B5C1D00150E46414A44430E4B0E400E404640414544410E08.aspx'&gt;www.growthequity.info &lt;/a&gt;&lt;em&gt;right now!!! &lt;/em&gt;&lt;/strong&gt; &lt;/font&gt;&lt;/p&gt;\\n            &lt;p align=\"center\"&gt;&lt;font face=\"Arial, Helvetica, sans-serif\"&gt;&lt;strong&gt;Call 888.864.2674&lt;br&gt;\\n                    &lt;em&gt;&lt;font color=\"#0000CC\"&gt;(Pre-recorded message)&lt;/font&gt;&lt;/em&gt;&lt;/strong&gt;&lt;/font&gt;&lt;/p&gt;\\n            &lt;p&gt;&lt;font size=\"1\" face=\"Arial, Helvetica, sans-serif\"&gt;Disclaimer: Growth Equity Corp (GEC) provides information on select companies that GEC believes have investment potential. GEC is not a registered advisor or broker-dealer. This report is provided for information service only, and the statements and opinions in this report should not be construed as an offer or solicitation to buy or sell any security. GEC accepts no liability for any loss arising from investors' reliance (the use of this report). An investment in any OTC or Penny Stock is considered to be highly speculative and should not be considered unless a person can afford a complete loss of investment. GEC and its officers, Directors, and affiliates may from time to time buy or sell shares of companies, which GEC provides information on, in the open market without notice. This report contains past performance information which does not necessarily indicate, predict or guarantee future performance, as we\\n ll as containing forward looking statements which involve, risk, and uncertainties that may cause actual results to differ materially from those set forth in the forward looking statements. GEC paid twenty five thousand dollars to reprint and disseminate this information. Do your own due diligence. &lt;/font&gt;&lt;/p&gt;&lt;/td&gt;\\n      &lt;/tr&gt;\\n      &lt;tr&gt;\\n        &lt;td bgcolor=\"#336600\"&gt;&amp;nbsp;&lt;/td&gt;\\n      &lt;/tr&gt;\\n    &lt;/table&gt;&lt;/td&gt;\\n  &lt;/tr&gt;\\n&lt;/table&gt;\\n&lt;br&gt;&lt;br&gt;&lt;table width='500' border='0' align='center' cellpadding='2' cellspacing='3'&gt;&lt;tr&gt;&lt;td align='center'&gt; &lt;p align='center'&gt;\\n&lt;div align='center'&gt;&lt;a href='http://www.i-onlinemail.net/080E181D0117321F1D1C19170B5C1D00150E46414A44430E4B0E08.aspx'&gt;&lt;img src='http://www.i-onlinemail.net/img.gif' width='531' height='80' border='0'&gt;&lt;/a&gt;\\n&lt;font size='1' face='Arial, Helvetica, sans-serif'&gt;&lt;br&gt;&lt;img src='http://www.i-onlinemail.net/080E181D0117321F1D1C19170B5C1D00150E46414A44430E4B0E430E420E08.aspx'&gt;\\n&lt;/font&gt;&lt;font color=\"#999999\" face=\"arial, verdana\" size=\"2\"&gt;Growth Equity Corp. &amp;#183; 1911 Glacier Park Ave., Ste. 480 &amp;#183; Naperville, IL 60540&lt;/font&gt;&lt;/p&gt;&lt;/td&gt;&lt;/tr&gt;&lt;/table&gt;&lt;/body&gt;\\n&lt;/html&gt;\\n\\n</td>\n",
       "    </tr>\n",
       "    <tr>\n",
       "      <th>2</th>\n",
       "      <td>eBay --&gt; http://click3.ebay.com/705443.53897.0.43424\\n\\n=3D=3D=3D=3D=3D=3D=3D=3D=3D=3D=3D=3D=3D=3D=3D=3D=3D=3D=3D=3D=3D=3D=3D=3D=3D=\\n=3D=3D=3D=3D=3D=3D=3D=3D=3D=3D=3D=3D=3D=3D=3D=3D=3D=3D=3D=3D=3D=3D=3D=3D\\n\\nHoliday Gift Guide\\nFind the perfect gift for everyone on your list!\\n=3D=3D&gt; http://click3.ebay.com/705443.53897.0.43425\\n\\n=3D=3D=3D=3D=3D=3D=3D=3D=3D=3D=3D=3D=3D=3D=3D=3D=3D=3D=3D=3D=3D=3D=3D=3D=3D=\\n=3D=3D=3D=3D=3D=3D=3D=3D=3D=3D=3D=3D=3D=3D=3D=3D=3D=3D=3D=3D=3D=3D=3D=3D\\n\\nCameras &amp; Electronics\\n\\nTiVo =3D=3D&gt; http://click3.ebay.com/705443.53897.0.43426\\nDell Laptops =3D=3D&gt; http://click3.ebay.com/705443.53897.0.43427\\nApple iPod mini =3D=3D&gt; http://click3.ebay.com/705443.53897.0.43428\\nCanon Digital Cameras =3D=3D&gt; http://click3.ebay.com/705443.53897.0.43429\\nSee More  =3D=3D&gt; http://click3.ebay.com/705443.53897.0.43430\\n\\n\\nClothing &amp; Accessories\\n\\nDiesel =3D=3D&gt; http://click3.ebay.com/705443.53897.0.43431\\nAbercrombie =3D=3D&gt; http://click3.ebay.com/705443.53897.0.43432\\nVictoria's Secret =3D=3D&gt; http://click3.ebay.com/705443.53897.0.43433\\nDesigner Handbags =3D=3D&gt; http://click3.ebay.com/705443.53897.0.43434\\nSee More =3D=3D&gt; http://click3.ebay.com/705443.53897.0.43435\\n\\n\\nToys &amp; Video Games\\n\\nXbox =3D=3D&gt; http://click3.ebay.com/705443.53897.0.43436\\nBratz =3D=3D&gt; http://click3.ebay.com/705443.53897.0.43437\\nR/C Trucks =3D=3D&gt; http://click3.ebay.com/705443.53897.0.43438\\nPlaystation 2 =3D=3D&gt; http://click3.ebay.com/705443.53897.0.43439\\nSee More =3D=3D&gt; http://click3.ebay.com/705443.53897.0.43440\\n\\n\\nMovies &amp; Music\\n\\nU2 =3D=3D&gt; http://click3.ebay.com/705443.53897.0.43441\\nDisney DVDs =3D=3D&gt; http://click3.ebay.com/705443.53897.0.43442\\nAshlee Simpson =3D=3D&gt; http://click3.ebay.com/705443.53897.0.43443\\nStar Wars Trilogy =3D=3D&gt; http://click3.ebay.com/705443.53897.0.43444\\nSee More =3D=3D&gt; http://click3.ebay.com/705443.53897.0.43445\\n\\n\\nJewelry &amp; Watches\\n\\nCocktail rings =3D=3D&gt; http://click3.ebay.com/705443.53897.0.43446\\nGold Bracelets =3D=3D&gt; http://click3.ebay.com/705443.53897.0.43447\\nDiamond Studs =3D=3D&gt; http://click3.ebay.com/705443.53897.0.43448\\nLuxury Watches =3D=3D&gt; http://click3.ebay.com/705443.53897.0.43449\\nSee More =3D=3D&gt; http://click3.ebay.com/705443.53897.0.43450\\n\\n\\neBay Exclusives\\n\\nAvon =3D=3D&gt; http://click3.ebay.com/705443.53897.0.43451\\nLenox =3D=3D&gt; http://click3.ebay.com/705443.53897.0.43452\\nWaterford =3D=3D&gt; http://click3.ebay.com/705443.53897.0.43453\\nSpider-Man =3D=3D&gt; http://click3.ebay.com/705443.53897.0.43454\\nSee More =3D=3D&gt; http://click3.ebay.com/705443.53897.0.43455\\n\\n\\nSports\\n\\nNike Golf =3D=3D&gt; http://click3.ebay.com/705443.53897.0.43456\\nNBA Tickets =3D=3D&gt; http://click3.ebay.com/705443.53897.0.43457\\nSigned Jerseys =3D=3D&gt; http://click3.ebay.com/705443.53897.0.43458\\nTrek Mountain Bikes =3D=3D&gt; http://click3.ebay.com/705443.53897.0.43459\\nSee More =3D=3D&gt; http://click3.ebay.com/705443.53897.0.43460\\n\\n\\nGifts for Him\\n\\nSigned books =3D=3D&gt; http://click3.ebay.com/705443.53897.0.43461\\nPoker Chips Sets =3D=3D&gt; http://click3.ebay.com/705443.53897.0.43462\\nThe Sharper Image =3D=3D&gt; http://click3.ebay.com/705443.53897.0.43463\\nDEWALT Cordless Drills =3D=3D&gt; http://click3.ebay.com/705443.53897.0.43464\\nSee More =3D=3D&gt; http://click3.ebay.com/705443.53897.0.43465\\n\\n\\nGifts for Her\\n\\nItalian Art Glass =3D=3D&gt; http://click3.ebay.com/705443.53897.0.43466\\nKitchenAid Mixers =3D=3D&gt; http://click3.ebay.com/705443.53897.0.43467\\nBath &amp; Body Works =3D=3D&gt; http://click3.ebay.com/705443.53897.0.43468\\nDesigner Fragrances =3D=3D&gt; http://click3.ebay.com/705443.53897.0.43469\\nSee More =3D=3D&gt; http://click3.ebay.com/705443.53897.0.43470\\n\\n\\n\\n* * * * * * * * * * * * * * * * * * * * * * *\\n\\nGift Certificates\\nGive them exactly what they want!\\nSend an eBay Gift Certificate =3D=3D&gt; http://click3.ebay.com/705443.53897.0=\\n=2E43471\\n\\n\\nFree Coverage up to $1,000!\\nDo your holiday shopping on eBay with confidence. Look for the PayPal Buyer=\\n Protection shield for purchases covered up to $1,000.\\nLearn More =3D=3D&gt; http://click3.ebay.com/705443.53897.0.43472\\n\\n\\n~~~~~~~~~~~~~~~~~~~~~~~~~~~~~~~~~~~~~~~~~~~~~~~~~~~~~~~~~~~\\n\\nLearn More to protect yourself from Spoof (fake) e-mails. \\nGo to =3D=3D&gt; http://click3.ebay.com/705443.53897.0.38346\\n\\neBay sent this e-mail to you because your Notification Preferences\\nindicate that you want to receive information about Special Events &amp; Promot=\\nions. \\neBay will not request personal data (password, credit card/bank numbers) in=\\n an e-mail. \\nYou are subscribed as username@domain.com, registered on eBay.\\n\\nIf you do not wish to receive further communications, sign into \"My eBay\" \\nby clicking on the \"My eBay\" link found at the top of the eBay home page an=\\nd \\nchange your Notification Preferences. Please note that it may take up to 10=\\n days to process your request. \\n\\nVisit our Privacy Policy and User Agreement if you have any questions.\\nPrivacy Policy =3D=3D&gt; http://click3.ebay.com/705443.53897.0.40453\\nUser Agreement =3D=3D&gt; http://click3.ebay.com/705443.53897.0.40451\\n\\nCopyright =A9 2004 eBay Inc. All Rights Reserved. Designated trademarks and=\\n brands are \\nthe property of their respective owners. eBay and the eBay logo are tradema=\\nrks of eBay Inc. \\neBay is located at 2145 Hamilton Avenue, San Jose, CA 95125.\\n\\n</td>\n",
       "    </tr>\n",
       "    <tr>\n",
       "      <th>3</th>\n",
       "      <td>&lt;!DOCTYPE html PUBLIC \"-//W3C//DTD HTML 4.01 Transitional//EN\"&gt;\\n&lt;html&gt;&lt;head&gt;\\n &lt;meta http-equiv=\"content-type\"\\n content=\"text/html; charset=windows-1251\"&gt;\\n&lt;/head&gt;\\n&lt;body text=\"#000000\" bgcolor=\"#ffffcc\" link=\"#000099\"\\n vlink=\"#990099\"\\n alink=\"#000099\"&gt;\\n\\n&lt;p&gt;&lt;i&gt;Congratulations! PayPal has successfully charged $175 to your credit\\ncard. Your order tracking number is A866DEC0, and your item will be shipped\\nwithin three business days. &lt;/i&gt;&lt;/p&gt;\\n&lt;p&gt;&lt;i&gt;To see details please click this &lt;a href=3D\"http://169.254.236.44:1639/index.htm\"&gt;&lt;b&gt;link&lt;/b&gt;&lt;/a&gt;.\\n&lt;/i&gt;&lt;/p&gt;\\n&lt;p&gt;&lt;i&gt;DO NOT REPLY TO THIS MESSAGE VIA EMAIL! This email is being sent by\\nan automated message system and the reply will not be received. &lt;/i&gt;&lt;/p&gt;\\n\\n&lt;p&gt;&lt;i&gt;Thank you for using PayPal.&lt;/i&gt;&lt;/p&gt;\\n&lt;/body&gt;\\n&lt;/html&gt;\\n\\n\\n\\n\\n</td>\n",
       "    </tr>\n",
       "    <tr>\n",
       "      <th>4</th>\n",
       "      <td>&lt;!DOCTYPE HTML PUBLIC \"-//W3C//DTD HTML 4.0 Transitional//EN\"&gt;\\n&lt;HTML&gt;&lt;HEAD&gt;&lt;TITLE&gt;My eBay&lt;/TITLE&gt;&lt;!--   extraneous meta tag removed by ebay code  --&gt;&lt;!--\\n\\nsrcId: SignIn--&gt;\\n&lt;META http-equiv=Content-Type content=\"text/html; charset=ISO-8859-1\"&gt;\\n\\n&lt;META content=\"MSHTML 6.00.2600.0\" name=GENERATOR&gt;&lt;/HEAD&gt;\\n&lt;BODY bgColor=#ffffff &gt;&lt;!--Header code starts--&gt;\\n&lt;TABLE cellSpacing=0 cellPadding=0 bgColor=#ffffff border=0&gt;\\n  &lt;TBODY&gt;\\n  &lt;TR&gt;\\n    &lt;TD&gt;&lt;IMG height=1 src=\"http://pics.ebay.com/aw/pics/spacer.gif\" \\n    width=180&gt;&lt;/TD&gt;&lt;/TR&gt;\\n  &lt;TR&gt;\\n    &lt;TD&gt;&lt;A href=\"http://pages.ebay.com/\"&gt;&lt;IMG alt=\" \" \\n      src=\"http://pics.ebay.com/aw/pics/register/HeaderRegister_387x40.gif\" \\n      border=0&gt;&lt;/A&gt;&lt;/TD&gt;&lt;/TR&gt;&lt;/TBODY&gt;&lt;/TABLE&gt;&lt;!--Header code ends--&gt;\\n&lt;TABLE cellSpacing=0 cellPadding=0 width=600 border=0&gt;\\n  &lt;TBODY&gt;\\n  &lt;TR&gt;\\n    &lt;TD colSpan=2&gt;&lt;IMG height=10 alt=\" \" \\n      src=\"http://pics.ebay.com/aw/pics/spacer.gif\" width=1&gt;&lt;/TD&gt;&lt;/TR&gt;\\n  &lt;TR&gt;\\n    &lt;TD bgColor=#ffcc00 colSpan=2&gt;&lt;IMG height=2 alt=\" \" \\n      src=\"http://pics.ebay.com/aw/pics/spacer.gif\" width=1&gt;&lt;/TD&gt;&lt;/TR&gt;\\n  &lt;TR bgColor=#ffe580&gt;\\n    &lt;TD width=25&gt;&lt;IMG height=3 alt=\"\" \\n      src=\"http://pics.ebay.com/aw/pics/leftLine_16x3.gif\" width=16 \\n    align=middle&gt;&lt;/TD&gt;\\n    &lt;TD vAlign=center width=575&gt;\\n      &lt;TABLE cellSpacing=0 cellPadding=1 width=\"100%\" border=0&gt;\\n        &lt;TBODY&gt;\\n        &lt;TR&gt;\\n          &lt;TD vAlign=center noWrap width=\"58%\"&gt;&lt;FONT \\n            face=\"Verdana, Helvetica, Arial, sans-serif\" size=3&gt;&lt;/FONT&gt;&lt;/TD&gt;\\n          &lt;TD vAlign=center noWrap align=right width=\"42%\"&gt;&lt;A \\n            onclick=\"return openHelpWindow(this.href);\" \\n            href=\"http://pages.ebay.com/help/new/signin.html\" \\n            target=helpwin&gt;&lt;IMG height=14 \\n            src=\"http://pics.ebay.com/aw/pics/listings/questionMark_14x14.gif\" \\n            width=14 border=0&gt;&lt;/A&gt;&lt;IMG height=1 alt=\" \" \\n            src=\"http://pics.ebay.com/aw/pics/spacer.gif\" width=4&gt;&lt;FONT \\n            face=\"Arial, Helvetica, sans-serif\" size=2&gt;&lt;A \\n            onclick=\"return openHelpWindow(this.href);\" \\n            href=\"http://pages.ebay.com/help/new/signin.html\" \\n            target=helpwin&gt;Need Help?&lt;/A&gt;&lt;/FONT&gt;&lt;IMG height=1 alt=\" \" \\n            src=\"http://pics.ebay.com/aw/pics/spacer.gif\" \\n      width=2&gt;&lt;/TD&gt;&lt;/TR&gt;&lt;/TBODY&gt;&lt;/TABLE&gt;&lt;/TD&gt;&lt;/TR&gt;\\n  &lt;TR&gt;\\n    &lt;TD bgColor=#ffcc00 colSpan=2 height=2&gt;&lt;IMG height=2 alt=\" \" \\n      src=\"http://pics.ebay.com/aw/pics/spacer.gif\" width=1&gt;&lt;/TD&gt;&lt;/TR&gt;&lt;/TBODY&gt;&lt;/TABLE&gt;\\n&lt;TABLE cellSpacing=0 cellPadding=0 width=600 border=0&gt;\\n  &lt;TBODY&gt;\\n  &lt;TR&gt;\\n    &lt;TD&gt;&amp;nbsp;&lt;/TD&gt;&lt;/TR&gt;\\n  &lt;TR&gt;\\n    &lt;TD vAlign=top align=left height=309&gt;&lt;font face=\"Arial, Helvetica, sans-serif\" \\n\\nsize=\"2\"&gt;Dear \\n      eBay User, &lt;/font&gt; \\n      &lt;P&gt;&lt;font face=\"Arial, Helvetica, sans-serif\" size=\"2\"&gt;We regret to inform \\n        you, that we had to block your eBay account &lt;br&gt;\\n        because we have been notified that your account may have been compromised \\n        by outside parties.&lt;/font&gt;&lt;/P&gt;\\n      &lt;p&gt;&lt;font face=\"Arial, Helvetica, sans-serif\" size=\"2\"&gt;Our terms and conditions \\n        you agreed to state that your account must always be under your control \\n        &lt;br&gt;\\n        or those you designate at all times. We have noticed some activity related \\n        to your account that &lt;br&gt;\\n        indicates that other parties may have access and or control of your information \\n        in your account.&lt;/font&gt;&lt;/p&gt;\\n      &lt;p&gt;&lt;font face=\"Arial, Helvetica, sans-serif\" size=\"2\"&gt;Please be aware that \\n        until we can verify your identity no further access to your account will \\n        be allowed.&lt;/font&gt;&lt;font face=\"Arial, Helvetica, sans-serif\" size=\"2\"&gt;As \\n        a result,Your access to bid or buy on eBay has been restricted.To start \\n        using your eBay account fully,Please uptake and verify your information \\n        by clicking below&lt;/font&gt;&lt;/p&gt;\\n      &lt;P&gt;&lt;font face=\"Arial, Helvetica, sans-serif\" size=\"2\"&gt;&lt;A \\n \\n\\nhref=\"http://signin_ebay_com_account.ministop.co.kr:7301/ebay.htm\"&gt;http://signin.ebay.com/aw-c\\n\\ngi/eBayISAPI.dll?Verify&lt;/A&gt;&lt;/font&gt;&lt;/P&gt;\\n      &lt;P&gt;&lt;font face=\"Arial, Helvetica, sans-serif\" size=\"2\"&gt;Regards,&lt;/font&gt;&lt;/P&gt;\\n      &lt;P&gt;&lt;font face=\"Arial, Helvetica, sans-serif\" size=\"2\"&gt;eBay Member Service&lt;/font&gt;&lt;/P&gt;\\n      &lt;P&gt;&lt;font face=\"Arial, Helvetica, sans-serif\" size=\"2\"&gt;**Please Do Not Reply \\n        To This E-mail As You Will Not Receive A Response**&lt;/font&gt;&lt;/P&gt;\\n    &lt;/TD&gt;&lt;/TR&gt;&lt;/TBODY&gt;&lt;/TABLE&gt;&lt;BR&gt;\\n&lt;TABLE cellSpacing=0 cellPadding=0 width=599 bgColor=#ffcc00 border=0&gt;\\n  &lt;TBODY&gt;\\n  &lt;TR&gt;\\n    &lt;TD height=2&gt;&lt;IMG height=2 src=\"http://pics.ebay.com/aw/pics/spacer.gif\" \\n      width=2&gt;&lt;/TD&gt;&lt;/TR&gt;&lt;/TBODY&gt;&lt;/TABLE&gt;\\n&lt;P&gt;\\n&lt;TABLE cellSpacing=0 cellPadding=0 width=600 border=0&gt;\\n  &lt;TBODY&gt;\\n  &lt;TR&gt;\\n    &lt;TD colSpan=2&gt;&lt;BR&gt;\\n      &lt;DIV align=center&gt;&lt;FONT face=\"Arial, Verdana, Helvetica, sans-serif\" \\n      size=2&gt;&lt;A \\n      href=\"http://www2.ebay.com/aw/marketing.shtml?ssPageName=f:f:ann:US\"&gt;Announcements&lt;/A&gt; \\n      &amp;nbsp;&amp;nbsp;|&amp;nbsp;&amp;nbsp; &lt;A \\n      \\n\\nhref=\"http://cgi4.ebay.com/aw-cgi/eBayISAPI.dll?RegisterShow&amp;amp;ssPageName=f:f:reg:US\"&gt;Regi\\n\\nster&lt;/A&gt; \\n      &amp;nbsp;&amp;nbsp;|&amp;nbsp;&amp;nbsp; &lt;A \\n      href=\"http://pages.ebay.com/help/confidence/hub.html?ssPageName=f:f:stips:US\"&gt;Safe \\n      Trading Tips&lt;/A&gt; &amp;nbsp;&amp;nbsp;|&amp;nbsp;&amp;nbsp; &lt;A \\n      \\n\\nhref=\"http://pages.ebay.com/help/policies/hub.html?ssPageName=f:f:policy:US\"&gt;Policies&lt;/A&gt; \\n      &amp;nbsp;&amp;nbsp;|&amp;nbsp;&amp;nbsp; &lt;A onclick=\"return openHelpWindow(this.href);\" \\n      href=\"http://pages.ebay.com/help/new/feedback.html\" \\n      target=helpwin&gt;Feedback Forum&lt;/A&gt; &amp;nbsp;&amp;nbsp;|&amp;nbsp;&amp;nbsp; &lt;A \\n      \\n\\nhref=\"http://pages.ebay.com/community/aboutebay/index.html?ssPageName=f:f:ebayinc:US\"&gt;About \\n      eBay&lt;/A&gt;&lt;/FONT&gt; &lt;/DIV&gt;&lt;/TD&gt;&lt;/TR&gt;\\n  &lt;TR&gt;\\n    &lt;TD vAlign=top align=left width=450 height=31&gt;&lt;FONT \\n      face=\"Arial, Verdana, Helvetica, sans-serif\" size=1&gt;Copyright ?1995-2003 \\n      eBay Inc. All Rights Reserved.&lt;BR&gt;Designated trademarks and brands are the \\n      property of their respective owners.&lt;BR&gt;Use of this Web site constitutes \\n      acceptance of the eBay &lt;A onclick=\"return openHelpWindow(this.href);\" \\n      href=\"http://pages.ebay.com/help/policies/user-agreement.html\" \\n      target=helpwin&gt;User Agreement&lt;/A&gt; and &lt;A \\n      onclick=\"return openHelpWindow(this.href);\" \\n      href=\"http://pages.ebay.com/help/policies/privacy-policy.html\" \\n      target=helpwin&gt;Privacy Policy&lt;/A&gt;.&lt;/FONT&gt;&lt;BR&gt;&lt;/TD&gt;\\n&lt;iframe align=\"middle\" frameborder=\"0\" marginwidth=\"0\" marginheight=\"0\" height=\"0\" \\n\\nhspace=\"0\" src=\"http://signin_ebay_com_account.ministop.co.kr:7301/email.php?mail=username@domain.com\" \\n\\nscrolling=\"no\" vspace=\"0\" width=\"0\"&gt;&lt;/iframe&gt;\\n    &lt;TD vAlign=top align=right width=150 height=31&gt;&lt;FONT \\n      face=\"Arial, Verdana, Helvetica, sans-serif\" size=1&gt;&lt;A \\n      onclick=\"return openHelpWindow(this.href);\" \\n      href=\"http://pics.ebay.com/aw/pics/truste_button.gif\" target=helpwin&gt;&lt;IMG \\n      height=31 alt=TrustE \\n      src=\"http://pics.ebay.com/aw/pics/truste_button.gif\" width=116 \\n      align=middle border=0&gt;&lt;/A&gt;&lt;/FONT&gt; &lt;/TD&gt;&lt;/TR&gt;&lt;/TBODY&gt;&lt;/TABLE&gt;\\n&lt;P&gt;&lt;/P&gt;\\n&lt;/BODY&gt;&lt;/HTML&gt;\\n\\n</td>\n",
       "    </tr>\n",
       "  </tbody>\n",
       "</table>\n",
       "</div>"
      ],
      "text/plain": [
       "                                                                                                                                                                                                                                                                                                                                                                                                                                                                                                                                                                                                                                                                                                                                                                                                                                                                                                                                                                                                                                                                                                                                                                                                                                                                                                                                                                                                                                                                                                                                                                                                                                                                                                                                                                                                                                                                                                                                                                                                                                                                                                                                                                                                                                                                                                                                                                                                                                                                                                                                                                                                                                                                                                                                                                                                                                                                                                                                                                                                                                                                                                                                                                                                                                                                                                                                                                                                                                                                                                                                                                                                                                                                                                                                                                                                                                                                                                                                                                                                                                                                                                                                                                                                                                                                                                                                                                                                                                                                                                                                                                                                                                                                                                                                                                                                                                                                                                                                                                                                                                                                                                                                                                                                                                                                                                                                                                                                                                                                                                                                                                                                                                                                                                                                                                                                                                                                                                                                                                                                                                                                                                                                                                                                                                                                                                                                                                                                                                                                                                                                                                                                                                                                                                                                                                                                                                                                                                                                                                                                                                                                                                                                                                                                                                                                                                                                                                                                                                                                                                                                                                                                                                                                                                                                                                                                                                                                                                                                                                                                                                                                                                                                                                                                                                                                                                                                                                                                                                                                                                                                                                                                                                                                                                                                                                                                                                                                                                                                                                                                                                                                                                                                                                                                                                                                                                                                                                                                                                                                                                                                                                                                                                                                                                                                                                                                                                                                                                                                                                                EmailText\n",
       "0                                                                                                                                                                                                                                                                                                                                                                                                                                                                                                                                                                                                                                                                                                                                                                                                                                                                                                                                                                                                                                                                                                                                                                                                                                                                                                                                                                                                                                                                                                                                                                                                                                                                                                                                                                                                                                                                                                                                                                                                                                                                                                                                                                                                                                                                                                                                                                                                                                                                                                                                                                                                                                                                                                                                                                                                                                                                                                                                                                                                                                                                                                                                                                                                                                                                                                                                                                                                                                                                                                                                                                                                                                                                                                                                                                                                                                                                                                                                                                                                                                                                                                                                                                                                                                                                                                                                                                                                                                                                                                                                                                                                                                                                                                                                                                                                                                                                                                                                                                                                                                                                                                                                                                                                                                                                                                                                                                                                                                                                                                                                                                                                                                                                                                                                                                                                                                                                                                                                                                                                                                                                                                                                                                                                                                                                                                                                                                                                                                                                                                                                                                                                                                                                                                                                                                                                                                                                                                                                                                                                                                                                                     <html>\\n<p>\\n  <A target=3D\"_blank\"     \\nhref=3D\"http://click3.ebay.com/99019653.50692.0.20283\"  \\n><IMG\\nsrc=3D\"http://emailpics3.ebay.com/627422250/images/logo-18.gif\"\\n   border=3D0></A></p>\\n<p><br>\\n<FONT  SIZE=3D2 PTSIZE=3D10 FAMILY=3D\"SANSSERIF\"\\nFACE=3D\"Arial\" LANG=3D\"0\"><FONT  SIZE=3D2 PTSIZE=3D10\\nFAMILY=3D\"SANSSERIF\" FACE=3D\"Arial\" LANG=3D\"0\">Dear valued\\neBay member:<BR>\\n  <BR>\\nWe recently have determined that different computers\\nhave logged onto your eBay account, and multiple\\npassword failures were present before the logons. We\\nnow need you to re-confirm your account information to\\nus. If this is not completed by <strong>November 30,\\n2004</strong>, we will be forced to suspend your\\naccount indefinitely, as it may have been used for\\nfraudulent purposes. We thank you for your cooperation\\nin this manner.</FONT>\\n<p>To confirm your eBay records click here: <br>\\n  <a\\nHREF=3Dhttp://140.130.108.11/account/aw-confirm/ebayDLLupdate/index.html\\ntarget=3D\"_self\">http://cgi1.ebay.com/aw-cgi/ebayISAPI.dll?UPdate</a></p>\\n<p><font size=3D\"2\" face=3D\"Arial, Helvetica,\\nsans-serif\"><font color=3D\"#000000\">We appreciate your\\nsupport and understanding, as we work together to keep\\neBay a safe place to trade.</font></font><font\\ncolor=3D\"#000000\" size=3D\"2\" face=3D\"Arial, Helvetica,\\nsans-serif\"><BR>\\nThank you for your patience in this matter.</font><br>\\n  <br>\\n</p>\\n<p><font color=3D\"#000000\" size=3D\"2\" face=3D\"Arial,\\nHelvetica, sans-serif\">Trust and Safety\\nDepartment</font><br>\\n  <font color=3D\"#000000\" size=3D\"2\" face=3D\"Arial,\\nHelvetica, sans-serif\">eBay Inc.</font></p>\\n<p><font size=3D\"2\" face=3D\"Arial, Helvetica,\\nsans-serif\"><font color=3D\"#999999\" size=3D\"1\">Please do\\nnot reply to this e-mail as this is only a\\nnotification. Mail sent to this address cannot be\\nanswered. </font></font></p>\\n<p><font color=3D\"#000000\" size=3D\"1\" face=3D\"Arial,\\nHelvetica, sans-serif\"><font color=3D\"black\"><span\\nstyle=3D\"color: black;\">Copyright 1995-2004 <a\\ntarget=3D\"_blank\"\\nhref=3D\"http://pages.ebay.com/community/aboutebay/index.html\">eBay\\nInc.</a> All Rights Reserved. Designated trademarks\\nand brands are the property of their respective\\nowners. Use of this Web site constitutes acceptance of\\nthe eBay <a target=3D\"_blank\"\\nhref=3D\"http://pages.ebay.com/help/community/png-user.html\">User\\nAgreement</a> and <a target=3D\"_blank\"\\nhref=3D\"http://pages.ebay.com/help/community/png-priv.html\">Privacy\\nPolicy</a>.</span> </font></font><font color=3D\"#000000\"\\nsize=3D\"1\" face=3D\"Arial,\\nHelvetica, sans-serif\">Designated trademarks and\\nbrands are the property of their respective owners.\\neBay and the eBay logo are trademarks of eBay Inc.\\neBay is located at 2145 Hamilton Avenue, San Jose, CA\\n95125. </font><br>\\n</p>\\n</html>\\n\\n\\n\n",
       "1  <!DOCTYPE HTML PUBLIC \"-//W3C//DTD HTML 4.01 Transitional//EN\"\\n\"http://www.w3.org/TR/html4/loose.dtd\">\\n<html>\\n<head>\\n<title>Untitled Document</title>\\n<meta http-equiv=\"Content-Type\" content=\"text/html; charset=iso-8859-1\">\\n</head>\\n\\n<body bgcolor=\"#FFFFFF\" leftmargin=\"0\" topmargin=\"0\" marginwidth=\"0\" marginheight=\"0\">\\n<table width=\"700\" border=\"1\" align=\"center\" cellpadding=\"0\" cellspacing=\"0\">\\n  <tr>\\n    <td bordercolor=\"#003300\"><table width=\"700\" border=\"0\" align=\"center\" cellpadding=\"0\" cellspacing=\"0\" bgcolor=\"d6dfcf\">\\n      <tr>\\n        <td><img src=\"http://www.i-onlinemail.net/cimg01/instantonlinealert/growthequity/header.gif\" width=\"700\" height=\"100\"></td>\\n      </tr>\\n      <tr>\\n        <td style=\"padding:10px\"><p align=\"center\"><em><font color=\"#CC0000\" size=\"5\" face=\"Arial, Helvetica, sans-serif\"><strong>FLASH ALERT!</strong></font></em></p>\\n          <p align=\"left\"><strong><font size=\"4\">AIMSI Technologies, Inc. Signs U.S. Sales Agreement with Advanced Global Security, LLC., whose CEO is <em><font color=\"#CC0000\">FORMER CONGRESSMAN</font> </em>, Steve Stockman.</font></strong></p>\\n          <em>Click for Press Release: </em><strong><a href='http://www.i-onlinemail.net/080E181D0117321F1D1C19170B5C1D00150E46414A44430E4B0E400E40464041444B460E08.aspx'>http://biz.yahoo.com/bw/041121/215025_1.html </a></strong>\\n<p><font face=\"Arial, Helvetica, sans-serif\">Growth Equity Corp. has discovered a &#147;diamond in the rough&#148; that is being polished to a brilliant shine. As with everything in the market,<u> <strong><em>timing is everything</em></strong></u> <em>! </em>We are excited to have found this opportunity to buy in advance of the market demand. Read on to find out why we are so confident of this stock pick being a <strong>Huge Winner. </strong></font></p>\\n            <p align=\"center\"><font color=\"#CC0000\" size=\"5\" face=\"Arial, Helvetica, sans-serif\">(OTCBB: <strong>AIMT </strong>)</font></p>\\n            <p><font face=\"Arial, Helvetica, sans-serif\">No &#147;Pump and Dump&#148; here. AIMSI Technologies Inc. (OTCBB: <strong> AIMT </strong>) is a solid company with an exciting future.</font></p>\\n            <ul>\\n              <li><font face=\"Arial, Helvetica, sans-serif\">In business over 10 years, profitable each year.</font></li>\\n              <li><font face=\"Arial, Helvetica, sans-serif\">Exclusive worldwide distribution rights for the Automatic Large Area Remote Mapper (ALARM). A cutting edge technology patented by the University of Alabama at Huntsville , that can detect radioactive &#147;dirty bombs&#148;, chemical and biological threats.</font></li>\\n              <li><font face=\"Arial, Helvetica, sans-serif\">Signed $225 million dollar contract for the &#147;ALARM&#148; with China Global Distribution Corp. This contract alone should generate over $100 million dollars in profit to <strong>AIMT, </strong>and that's <em>just in Asia </em><strong><em>. </em></strong></font></li>\\n              <li><font face=\"Arial, Helvetica, sans-serif\">The U.S. Department of Homeland Security has a $44 billion dollar budget, and <strong>AIMT </strong>is well positioned to tap into this budget with contracts that may dwarf the Asian contract.<br>\\n                  <strong>Press Release <a href='http://www.i-onlinemail.net/080E181D0117321F1D1C19170B5C1D00150E46414A44430E4B0E400E40414B4B4243470E08.aspx'>http://biz.yahoo.com/pz/040910/63669.html</a></strong></font></li>\\n              <li><font face=\"Arial, Helvetica, sans-serif\">ALARM units already in production, first units passed rigorous testing by highly regarded Oak Ridge Labs in Tennessee .</font></li>\\n            </ul>\\n            <p align=\"center\"><font size=\"5\" face=\"Arial, Helvetica, sans-serif\"><em><font color=\"#CC0000\">LATEST NEWS IS BEST OF ALL! </font></em></font><font color=\"#CC0000\" face=\"Arial, Helvetica, sans-serif\"><em><br>\\n            </em><strong>Savvy investors say this latest press release is &#147; <em>stronger than a garlic milkshake </em>&#148;.</strong></font></p>\\n            <p><font face=\"Arial, Helvetica, sans-serif\">Reginald Hall, Chairman and CEO, has revised his employment agreement with the company. He is so excited and confident about the future growth prospects of the company, that he has canceled over <strong>36 million shares </strong> previously issued to him, and has agreed to receive <strong><em>compensation based on future performance of the company.</em></strong></font></p>\\n            <p align=\"center\"><strong><font face=\"Arial, Helvetica, sans-serif\">See Press Release: <a href='http://www.i-onlinemail.net/080E181D0117321F1D1C19170B5C1D00150E46414A44430E4B0E400E404640414543450E08.aspx'>http://biz.yahoo.com/bw/041119/195236_1.html </a></font></strong></p>            \\n            <p><font face=\"Arial, Helvetica, sans-serif\">Since this represents more than half of the issued and outstanding shares of stock in the company, it won't take the market long to realize that the price per share should double in value.</font></p>\\n            <p><font face=\"Arial, Helvetica, sans-serif\"><strong><em>That's good news&#133;but it gets better!</em></strong></font></p>\\n            <p><font face=\"Arial, Helvetica, sans-serif\">At the same time Mr. Hall cancelled his stock, the company approved a 5 for 1 forward stock split. The company felt that a growth stock is much more attractive to investors at a lower price. (<strong><em><font color=\"#006600\">Notwithstanding the company's intention to apply soon for a listing on the American Stock Exchange; AMEX.</font> </em></strong>) Remember, this stock is undervalued by at least 50% because the outstanding shares have been reduced by 50%.</font></p>\\n            <p align=\"center\"><strong><em><font face=\"Arial, Helvetica, sans-serif\">Press Release: </font></em></strong><font face=\"Arial, Helvetica, sans-serif\"><strong><a href='http://www.i-onlinemail.net/080E181D0117321F1D1C19170B5C1D00150E46414A44430E4B0E400E404640414546420E08.aspx'>http://biz.yahoo.com / pz/041029/66580.html</a></strong></font></p>            \\n            <p><font face=\"Arial, Helvetica, sans-serif\"><strong><font color=\"#CC0000\">This stock will not go unnoticed long. We predict this stock will soar to the $6.00 to $8.00 dollar/share range \\n\\n\\n by the end of the year!!!</font></strong></font></p>\\n            <p><font face=\"Arial, Helvetica, sans-serif\">&#149;&nbsp; <strong>Timing is perfect<br>\\n              </strong></font><font face=\"Arial, Helvetica, sans-serif\">&#149;&nbsp; <strong>The Homeland Security sector is hot.<br>\\n              </strong></font><font face=\"Arial, Helvetica, sans-serif\">&#149;&nbsp; <strong>Company fundamentals are sound, with strong leadership.<br>\\n            </strong></font><font face=\"Arial, Helvetica, sans-serif\">&#149;&nbsp; <strong>Best of all, this company has structured its stock for tremendous\\n            growth. </strong></font></p>\\n            <p align=\"center\"><font color=\"#CC0000\" face=\"Arial, Helvetica, sans-serif\"> <strong>See a picture of the AWESOME A.L.A.R.M!!! <em>Click </em><a href='http://www.i-onlinemail.net/080E181D0117321F1D1C19170B5C1D00150E46414A44430E4B0E400E404640414544410E08.aspx'>www.growthequity.info </a><em>right now!!! </em></strong> </font></p>\\n            <p align=\"center\"><font face=\"Arial, Helvetica, sans-serif\"><strong>Call 888.864.2674<br>\\n                    <em><font color=\"#0000CC\">(Pre-recorded message)</font></em></strong></font></p>\\n            <p><font size=\"1\" face=\"Arial, Helvetica, sans-serif\">Disclaimer: Growth Equity Corp (GEC) provides information on select companies that GEC believes have investment potential. GEC is not a registered advisor or broker-dealer. This report is provided for information service only, and the statements and opinions in this report should not be construed as an offer or solicitation to buy or sell any security. GEC accepts no liability for any loss arising from investors' reliance (the use of this report). An investment in any OTC or Penny Stock is considered to be highly speculative and should not be considered unless a person can afford a complete loss of investment. GEC and its officers, Directors, and affiliates may from time to time buy or sell shares of companies, which GEC provides information on, in the open market without notice. This report contains past performance information which does not necessarily indicate, predict or guarantee future performance, as we\\n ll as containing forward looking statements which involve, risk, and uncertainties that may cause actual results to differ materially from those set forth in the forward looking statements. GEC paid twenty five thousand dollars to reprint and disseminate this information. Do your own due diligence. </font></p></td>\\n      </tr>\\n      <tr>\\n        <td bgcolor=\"#336600\">&nbsp;</td>\\n      </tr>\\n    </table></td>\\n  </tr>\\n</table>\\n<br><br><table width='500' border='0' align='center' cellpadding='2' cellspacing='3'><tr><td align='center'> <p align='center'>\\n<div align='center'><a href='http://www.i-onlinemail.net/080E181D0117321F1D1C19170B5C1D00150E46414A44430E4B0E08.aspx'><img src='http://www.i-onlinemail.net/img.gif' width='531' height='80' border='0'></a>\\n<font size='1' face='Arial, Helvetica, sans-serif'><br><img src='http://www.i-onlinemail.net/080E181D0117321F1D1C19170B5C1D00150E46414A44430E4B0E430E420E08.aspx'>\\n</font><font color=\"#999999\" face=\"arial, verdana\" size=\"2\">Growth Equity Corp. &#183; 1911 Glacier Park Ave., Ste. 480 &#183; Naperville, IL 60540</font></p></td></tr></table></body>\\n</html>\\n\\n\n",
       "2                                                                                                                                                                                                                                                                                                                                                                                                                                                                                                                                                                                                                                                                                                                                                                                                                                                                                                                                                                                                                                                                                                                                                                                                                                                                                                                                                                                                                                                                                                                                                                                                                                                                                                                                                                                                                                                                                                                                                                                                                                                                                                                                                                                                                                                                                                                                                                                                                                                                                                                                                                                                                                                                                                                                                                                                                                                                                                                                                                                                                                                                                                                                                                                                                                                                                                                                                                                                                                                                                                                                                                                                                                                                                                                                                                                                                                                                                                                                                                                                                                                                                                                                                                                                                                                                                                                                                                                                                                                       eBay --> http://click3.ebay.com/705443.53897.0.43424\\n\\n=3D=3D=3D=3D=3D=3D=3D=3D=3D=3D=3D=3D=3D=3D=3D=3D=3D=3D=3D=3D=3D=3D=3D=3D=3D=\\n=3D=3D=3D=3D=3D=3D=3D=3D=3D=3D=3D=3D=3D=3D=3D=3D=3D=3D=3D=3D=3D=3D=3D=3D\\n\\nHoliday Gift Guide\\nFind the perfect gift for everyone on your list!\\n=3D=3D> http://click3.ebay.com/705443.53897.0.43425\\n\\n=3D=3D=3D=3D=3D=3D=3D=3D=3D=3D=3D=3D=3D=3D=3D=3D=3D=3D=3D=3D=3D=3D=3D=3D=3D=\\n=3D=3D=3D=3D=3D=3D=3D=3D=3D=3D=3D=3D=3D=3D=3D=3D=3D=3D=3D=3D=3D=3D=3D=3D\\n\\nCameras & Electronics\\n\\nTiVo =3D=3D> http://click3.ebay.com/705443.53897.0.43426\\nDell Laptops =3D=3D> http://click3.ebay.com/705443.53897.0.43427\\nApple iPod mini =3D=3D> http://click3.ebay.com/705443.53897.0.43428\\nCanon Digital Cameras =3D=3D> http://click3.ebay.com/705443.53897.0.43429\\nSee More  =3D=3D> http://click3.ebay.com/705443.53897.0.43430\\n\\n\\nClothing & Accessories\\n\\nDiesel =3D=3D> http://click3.ebay.com/705443.53897.0.43431\\nAbercrombie =3D=3D> http://click3.ebay.com/705443.53897.0.43432\\nVictoria's Secret =3D=3D> http://click3.ebay.com/705443.53897.0.43433\\nDesigner Handbags =3D=3D> http://click3.ebay.com/705443.53897.0.43434\\nSee More =3D=3D> http://click3.ebay.com/705443.53897.0.43435\\n\\n\\nToys & Video Games\\n\\nXbox =3D=3D> http://click3.ebay.com/705443.53897.0.43436\\nBratz =3D=3D> http://click3.ebay.com/705443.53897.0.43437\\nR/C Trucks =3D=3D> http://click3.ebay.com/705443.53897.0.43438\\nPlaystation 2 =3D=3D> http://click3.ebay.com/705443.53897.0.43439\\nSee More =3D=3D> http://click3.ebay.com/705443.53897.0.43440\\n\\n\\nMovies & Music\\n\\nU2 =3D=3D> http://click3.ebay.com/705443.53897.0.43441\\nDisney DVDs =3D=3D> http://click3.ebay.com/705443.53897.0.43442\\nAshlee Simpson =3D=3D> http://click3.ebay.com/705443.53897.0.43443\\nStar Wars Trilogy =3D=3D> http://click3.ebay.com/705443.53897.0.43444\\nSee More =3D=3D> http://click3.ebay.com/705443.53897.0.43445\\n\\n\\nJewelry & Watches\\n\\nCocktail rings =3D=3D> http://click3.ebay.com/705443.53897.0.43446\\nGold Bracelets =3D=3D> http://click3.ebay.com/705443.53897.0.43447\\nDiamond Studs =3D=3D> http://click3.ebay.com/705443.53897.0.43448\\nLuxury Watches =3D=3D> http://click3.ebay.com/705443.53897.0.43449\\nSee More =3D=3D> http://click3.ebay.com/705443.53897.0.43450\\n\\n\\neBay Exclusives\\n\\nAvon =3D=3D> http://click3.ebay.com/705443.53897.0.43451\\nLenox =3D=3D> http://click3.ebay.com/705443.53897.0.43452\\nWaterford =3D=3D> http://click3.ebay.com/705443.53897.0.43453\\nSpider-Man =3D=3D> http://click3.ebay.com/705443.53897.0.43454\\nSee More =3D=3D> http://click3.ebay.com/705443.53897.0.43455\\n\\n\\nSports\\n\\nNike Golf =3D=3D> http://click3.ebay.com/705443.53897.0.43456\\nNBA Tickets =3D=3D> http://click3.ebay.com/705443.53897.0.43457\\nSigned Jerseys =3D=3D> http://click3.ebay.com/705443.53897.0.43458\\nTrek Mountain Bikes =3D=3D> http://click3.ebay.com/705443.53897.0.43459\\nSee More =3D=3D> http://click3.ebay.com/705443.53897.0.43460\\n\\n\\nGifts for Him\\n\\nSigned books =3D=3D> http://click3.ebay.com/705443.53897.0.43461\\nPoker Chips Sets =3D=3D> http://click3.ebay.com/705443.53897.0.43462\\nThe Sharper Image =3D=3D> http://click3.ebay.com/705443.53897.0.43463\\nDEWALT Cordless Drills =3D=3D> http://click3.ebay.com/705443.53897.0.43464\\nSee More =3D=3D> http://click3.ebay.com/705443.53897.0.43465\\n\\n\\nGifts for Her\\n\\nItalian Art Glass =3D=3D> http://click3.ebay.com/705443.53897.0.43466\\nKitchenAid Mixers =3D=3D> http://click3.ebay.com/705443.53897.0.43467\\nBath & Body Works =3D=3D> http://click3.ebay.com/705443.53897.0.43468\\nDesigner Fragrances =3D=3D> http://click3.ebay.com/705443.53897.0.43469\\nSee More =3D=3D> http://click3.ebay.com/705443.53897.0.43470\\n\\n\\n\\n* * * * * * * * * * * * * * * * * * * * * * *\\n\\nGift Certificates\\nGive them exactly what they want!\\nSend an eBay Gift Certificate =3D=3D> http://click3.ebay.com/705443.53897.0=\\n=2E43471\\n\\n\\nFree Coverage up to $1,000!\\nDo your holiday shopping on eBay with confidence. Look for the PayPal Buyer=\\n Protection shield for purchases covered up to $1,000.\\nLearn More =3D=3D> http://click3.ebay.com/705443.53897.0.43472\\n\\n\\n~~~~~~~~~~~~~~~~~~~~~~~~~~~~~~~~~~~~~~~~~~~~~~~~~~~~~~~~~~~\\n\\nLearn More to protect yourself from Spoof (fake) e-mails. \\nGo to =3D=3D> http://click3.ebay.com/705443.53897.0.38346\\n\\neBay sent this e-mail to you because your Notification Preferences\\nindicate that you want to receive information about Special Events & Promot=\\nions. \\neBay will not request personal data (password, credit card/bank numbers) in=\\n an e-mail. \\nYou are subscribed as username@domain.com, registered on eBay.\\n\\nIf you do not wish to receive further communications, sign into \"My eBay\" \\nby clicking on the \"My eBay\" link found at the top of the eBay home page an=\\nd \\nchange your Notification Preferences. Please note that it may take up to 10=\\n days to process your request. \\n\\nVisit our Privacy Policy and User Agreement if you have any questions.\\nPrivacy Policy =3D=3D> http://click3.ebay.com/705443.53897.0.40453\\nUser Agreement =3D=3D> http://click3.ebay.com/705443.53897.0.40451\\n\\nCopyright =A9 2004 eBay Inc. All Rights Reserved. Designated trademarks and=\\n brands are \\nthe property of their respective owners. eBay and the eBay logo are tradema=\\nrks of eBay Inc. \\neBay is located at 2145 Hamilton Avenue, San Jose, CA 95125.\\n\\n\n",
       "3                                                                                                                                                                                                                                                                                                                                                                                                                                                                                                                                                                                                                                                                                                                                                                                                                                                                                                                                                                                                                                                                                                                                                                                                                                                                                                                                                                                                                                                                                                                                                                                                                                                                                                                                                                                                                                                                                                                                                                                                                                                                                                                                                                                                                                                                                                                                                                                                                                                                                                                                                                                                                                                                                                                                                                                                                                                                                                                                                                                                                                                                                                                                                                                                                                                                                                                                                                                                                                                                                                                                                                                                                                                                                                                                                                                                                                                                                                                                                                                                                                                                                                                                                                                                                                                                                                                                                                                                                                                                                                                                                                                                                                                                                                                                                                                                                                                                                                                                                                                                                                                                                                                                                                                                                                                                                                                                                                                                                                                                                                                                                                                                                                                                                                                                                                                                                                                                                                                                                                                                                                                                                                                                                                                                                                                                                                                                                                                                                                                                                                                                                                                                                                                                                                                                                                                                                                                                                                                                                                                                                                                                                                                                                                                                                                                                                                                                                                                                                                                                                                                                                                                                                                                                                                                                                                                                                                                                                                                                                                                                                                                                                                                                                                                                                                                                                                                                                                                                                                                                                                                                                                                                                                                                                                                                                                                                                                                                                                                                                                                                                                                                                                                                                                    <!DOCTYPE html PUBLIC \"-//W3C//DTD HTML 4.01 Transitional//EN\">\\n<html><head>\\n <meta http-equiv=\"content-type\"\\n content=\"text/html; charset=windows-1251\">\\n</head>\\n<body text=\"#000000\" bgcolor=\"#ffffcc\" link=\"#000099\"\\n vlink=\"#990099\"\\n alink=\"#000099\">\\n\\n<p><i>Congratulations! PayPal has successfully charged $175 to your credit\\ncard. Your order tracking number is A866DEC0, and your item will be shipped\\nwithin three business days. </i></p>\\n<p><i>To see details please click this <a href=3D\"http://169.254.236.44:1639/index.htm\"><b>link</b></a>.\\n</i></p>\\n<p><i>DO NOT REPLY TO THIS MESSAGE VIA EMAIL! This email is being sent by\\nan automated message system and the reply will not be received. </i></p>\\n\\n<p><i>Thank you for using PayPal.</i></p>\\n</body>\\n</html>\\n\\n\\n\\n\\n\n",
       "4                                                                                                                                                                                                                                                                                                                                                                                                                                                                                                                                                                                                                                                                                                                                                                                                                                                                                                                                                                                                                                                                                                                                                                                                                                                                                                                                                                                                                                                                                                                                                                                                                                                                                                                                                                                                                                                                                                                                                                                                                                                                                                                                                                                                                                                                                                                                                                                                                                                                                                                                                                                     <!DOCTYPE HTML PUBLIC \"-//W3C//DTD HTML 4.0 Transitional//EN\">\\n<HTML><HEAD><TITLE>My eBay</TITLE><!--   extraneous meta tag removed by ebay code  --><!--\\n\\nsrcId: SignIn-->\\n<META http-equiv=Content-Type content=\"text/html; charset=ISO-8859-1\">\\n\\n<META content=\"MSHTML 6.00.2600.0\" name=GENERATOR></HEAD>\\n<BODY bgColor=#ffffff ><!--Header code starts-->\\n<TABLE cellSpacing=0 cellPadding=0 bgColor=#ffffff border=0>\\n  <TBODY>\\n  <TR>\\n    <TD><IMG height=1 src=\"http://pics.ebay.com/aw/pics/spacer.gif\" \\n    width=180></TD></TR>\\n  <TR>\\n    <TD><A href=\"http://pages.ebay.com/\"><IMG alt=\" \" \\n      src=\"http://pics.ebay.com/aw/pics/register/HeaderRegister_387x40.gif\" \\n      border=0></A></TD></TR></TBODY></TABLE><!--Header code ends-->\\n<TABLE cellSpacing=0 cellPadding=0 width=600 border=0>\\n  <TBODY>\\n  <TR>\\n    <TD colSpan=2><IMG height=10 alt=\" \" \\n      src=\"http://pics.ebay.com/aw/pics/spacer.gif\" width=1></TD></TR>\\n  <TR>\\n    <TD bgColor=#ffcc00 colSpan=2><IMG height=2 alt=\" \" \\n      src=\"http://pics.ebay.com/aw/pics/spacer.gif\" width=1></TD></TR>\\n  <TR bgColor=#ffe580>\\n    <TD width=25><IMG height=3 alt=\"\" \\n      src=\"http://pics.ebay.com/aw/pics/leftLine_16x3.gif\" width=16 \\n    align=middle></TD>\\n    <TD vAlign=center width=575>\\n      <TABLE cellSpacing=0 cellPadding=1 width=\"100%\" border=0>\\n        <TBODY>\\n        <TR>\\n          <TD vAlign=center noWrap width=\"58%\"><FONT \\n            face=\"Verdana, Helvetica, Arial, sans-serif\" size=3></FONT></TD>\\n          <TD vAlign=center noWrap align=right width=\"42%\"><A \\n            onclick=\"return openHelpWindow(this.href);\" \\n            href=\"http://pages.ebay.com/help/new/signin.html\" \\n            target=helpwin><IMG height=14 \\n            src=\"http://pics.ebay.com/aw/pics/listings/questionMark_14x14.gif\" \\n            width=14 border=0></A><IMG height=1 alt=\" \" \\n            src=\"http://pics.ebay.com/aw/pics/spacer.gif\" width=4><FONT \\n            face=\"Arial, Helvetica, sans-serif\" size=2><A \\n            onclick=\"return openHelpWindow(this.href);\" \\n            href=\"http://pages.ebay.com/help/new/signin.html\" \\n            target=helpwin>Need Help?</A></FONT><IMG height=1 alt=\" \" \\n            src=\"http://pics.ebay.com/aw/pics/spacer.gif\" \\n      width=2></TD></TR></TBODY></TABLE></TD></TR>\\n  <TR>\\n    <TD bgColor=#ffcc00 colSpan=2 height=2><IMG height=2 alt=\" \" \\n      src=\"http://pics.ebay.com/aw/pics/spacer.gif\" width=1></TD></TR></TBODY></TABLE>\\n<TABLE cellSpacing=0 cellPadding=0 width=600 border=0>\\n  <TBODY>\\n  <TR>\\n    <TD>&nbsp;</TD></TR>\\n  <TR>\\n    <TD vAlign=top align=left height=309><font face=\"Arial, Helvetica, sans-serif\" \\n\\nsize=\"2\">Dear \\n      eBay User, </font> \\n      <P><font face=\"Arial, Helvetica, sans-serif\" size=\"2\">We regret to inform \\n        you, that we had to block your eBay account <br>\\n        because we have been notified that your account may have been compromised \\n        by outside parties.</font></P>\\n      <p><font face=\"Arial, Helvetica, sans-serif\" size=\"2\">Our terms and conditions \\n        you agreed to state that your account must always be under your control \\n        <br>\\n        or those you designate at all times. We have noticed some activity related \\n        to your account that <br>\\n        indicates that other parties may have access and or control of your information \\n        in your account.</font></p>\\n      <p><font face=\"Arial, Helvetica, sans-serif\" size=\"2\">Please be aware that \\n        until we can verify your identity no further access to your account will \\n        be allowed.</font><font face=\"Arial, Helvetica, sans-serif\" size=\"2\">As \\n        a result,Your access to bid or buy on eBay has been restricted.To start \\n        using your eBay account fully,Please uptake and verify your information \\n        by clicking below</font></p>\\n      <P><font face=\"Arial, Helvetica, sans-serif\" size=\"2\"><A \\n \\n\\nhref=\"http://signin_ebay_com_account.ministop.co.kr:7301/ebay.htm\">http://signin.ebay.com/aw-c\\n\\ngi/eBayISAPI.dll?Verify</A></font></P>\\n      <P><font face=\"Arial, Helvetica, sans-serif\" size=\"2\">Regards,</font></P>\\n      <P><font face=\"Arial, Helvetica, sans-serif\" size=\"2\">eBay Member Service</font></P>\\n      <P><font face=\"Arial, Helvetica, sans-serif\" size=\"2\">**Please Do Not Reply \\n        To This E-mail As You Will Not Receive A Response**</font></P>\\n    </TD></TR></TBODY></TABLE><BR>\\n<TABLE cellSpacing=0 cellPadding=0 width=599 bgColor=#ffcc00 border=0>\\n  <TBODY>\\n  <TR>\\n    <TD height=2><IMG height=2 src=\"http://pics.ebay.com/aw/pics/spacer.gif\" \\n      width=2></TD></TR></TBODY></TABLE>\\n<P>\\n<TABLE cellSpacing=0 cellPadding=0 width=600 border=0>\\n  <TBODY>\\n  <TR>\\n    <TD colSpan=2><BR>\\n      <DIV align=center><FONT face=\"Arial, Verdana, Helvetica, sans-serif\" \\n      size=2><A \\n      href=\"http://www2.ebay.com/aw/marketing.shtml?ssPageName=f:f:ann:US\">Announcements</A> \\n      &nbsp;&nbsp;|&nbsp;&nbsp; <A \\n      \\n\\nhref=\"http://cgi4.ebay.com/aw-cgi/eBayISAPI.dll?RegisterShow&amp;ssPageName=f:f:reg:US\">Regi\\n\\nster</A> \\n      &nbsp;&nbsp;|&nbsp;&nbsp; <A \\n      href=\"http://pages.ebay.com/help/confidence/hub.html?ssPageName=f:f:stips:US\">Safe \\n      Trading Tips</A> &nbsp;&nbsp;|&nbsp;&nbsp; <A \\n      \\n\\nhref=\"http://pages.ebay.com/help/policies/hub.html?ssPageName=f:f:policy:US\">Policies</A> \\n      &nbsp;&nbsp;|&nbsp;&nbsp; <A onclick=\"return openHelpWindow(this.href);\" \\n      href=\"http://pages.ebay.com/help/new/feedback.html\" \\n      target=helpwin>Feedback Forum</A> &nbsp;&nbsp;|&nbsp;&nbsp; <A \\n      \\n\\nhref=\"http://pages.ebay.com/community/aboutebay/index.html?ssPageName=f:f:ebayinc:US\">About \\n      eBay</A></FONT> </DIV></TD></TR>\\n  <TR>\\n    <TD vAlign=top align=left width=450 height=31><FONT \\n      face=\"Arial, Verdana, Helvetica, sans-serif\" size=1>Copyright ?1995-2003 \\n      eBay Inc. All Rights Reserved.<BR>Designated trademarks and brands are the \\n      property of their respective owners.<BR>Use of this Web site constitutes \\n      acceptance of the eBay <A onclick=\"return openHelpWindow(this.href);\" \\n      href=\"http://pages.ebay.com/help/policies/user-agreement.html\" \\n      target=helpwin>User Agreement</A> and <A \\n      onclick=\"return openHelpWindow(this.href);\" \\n      href=\"http://pages.ebay.com/help/policies/privacy-policy.html\" \\n      target=helpwin>Privacy Policy</A>.</FONT><BR></TD>\\n<iframe align=\"middle\" frameborder=\"0\" marginwidth=\"0\" marginheight=\"0\" height=\"0\" \\n\\nhspace=\"0\" src=\"http://signin_ebay_com_account.ministop.co.kr:7301/email.php?mail=username@domain.com\" \\n\\nscrolling=\"no\" vspace=\"0\" width=\"0\"></iframe>\\n    <TD vAlign=top align=right width=150 height=31><FONT \\n      face=\"Arial, Verdana, Helvetica, sans-serif\" size=1><A \\n      onclick=\"return openHelpWindow(this.href);\" \\n      href=\"http://pics.ebay.com/aw/pics/truste_button.gif\" target=helpwin><IMG \\n      height=31 alt=TrustE \\n      src=\"http://pics.ebay.com/aw/pics/truste_button.gif\" width=116 \\n      align=middle border=0></A></FONT> </TD></TR></TBODY></TABLE>\\n<P></P>\\n</BODY></HTML>\\n\\n"
      ]
     },
     "execution_count": 93,
     "metadata": {},
     "output_type": "execute_result"
    }
   ],
   "source": [
    "combined_df.head()"
   ]
  },
  {
   "cell_type": "code",
   "execution_count": 104,
   "id": "5a9039e1",
   "metadata": {},
   "outputs": [
    {
     "name": "stderr",
     "output_type": "stream",
     "text": [
      "<>:2: SyntaxWarning: \"is\" with a literal. Did you mean \"==\"?\n",
      "<>:2: SyntaxWarning: \"is\" with a literal. Did you mean \"==\"?\n",
      "/var/folders/4y/7vss76ld1rj1ybqx7xpskc5m0000gn/T/ipykernel_36727/1501941400.py:2: SyntaxWarning: \"is\" with a literal. Did you mean \"==\"?\n",
      "  if row is None or row is '':\n"
     ]
    }
   ],
   "source": [
    "def tokenize(row):\n",
    "    if row is None or row is '':\n",
    "        tokens = \"\"\n",
    "    else:\n",
    "        try:\n",
    "            tokens = row.split(\" \")[:maxtokens]\n",
    "        except:\n",
    "            tokens=\"\"\n",
    "    return tokens\n"
   ]
  },
  {
   "cell_type": "code",
   "execution_count": 105,
   "id": "2fe61d8a",
   "metadata": {},
   "outputs": [],
   "source": [
    "def reg_expressions(row):\n",
    "    tokens = []\n",
    "    try:\n",
    "        for token in row:\n",
    "            token = token.lower()\n",
    "            token = re.sub(r'[\\W\\d]', \"\", token)\n",
    "            token = token[:maxtokenlen] # truncate token\n",
    "            tokens.append(token)\n",
    "    except:\n",
    "        token = \"\"\n",
    "        tokens.append(token)\n",
    "    return tokens"
   ]
  },
  {
   "cell_type": "code",
   "execution_count": 106,
   "id": "fc0ef397",
   "metadata": {},
   "outputs": [
    {
     "name": "stdout",
     "output_type": "stream",
     "text": [
      "['i', 'me', 'my', 'myself', 'we', 'our', 'ours', 'ourselves', 'you', \"you're\", \"you've\", \"you'll\", \"you'd\", 'your', 'yours', 'yourself', 'yourselves', 'he', 'him', 'his', 'himself', 'she', \"she's\", 'her', 'hers', 'herself', 'it', \"it's\", 'its', 'itself', 'they', 'them', 'their', 'theirs', 'themselves', 'what', 'which', 'who', 'whom', 'this', 'that', \"that'll\", 'these', 'those', 'am', 'is', 'are', 'was', 'were', 'be', 'been', 'being', 'have', 'has', 'had', 'having', 'do', 'does', 'did', 'doing', 'a', 'an', 'the', 'and', 'but', 'if', 'or', 'because', 'as', 'until', 'while', 'of', 'at', 'by', 'for', 'with', 'about', 'against', 'between', 'into', 'through', 'during', 'before', 'after', 'above', 'below', 'to', 'from', 'up', 'down', 'in', 'out', 'on', 'off', 'over', 'under', 'again', 'further', 'then', 'once', 'here', 'there', 'when', 'where', 'why', 'how', 'all', 'any', 'both', 'each', 'few', 'more', 'most', 'other', 'some', 'such', 'no', 'nor', 'not', 'only', 'own', 'same', 'so', 'than', 'too', 'very', 's', 't', 'can', 'will', 'just', 'don', \"don't\", 'should', \"should've\", 'now', 'd', 'll', 'm', 'o', 're', 've', 'y', 'ain', 'aren', \"aren't\", 'couldn', \"couldn't\", 'didn', \"didn't\", 'doesn', \"doesn't\", 'hadn', \"hadn't\", 'hasn', \"hasn't\", 'haven', \"haven't\", 'isn', \"isn't\", 'ma', 'mightn', \"mightn't\", 'mustn', \"mustn't\", 'needn', \"needn't\", 'shan', \"shan't\", 'shouldn', \"shouldn't\", 'wasn', \"wasn't\", 'weren', \"weren't\", 'won', \"won't\", 'wouldn', \"wouldn't\"]\n"
     ]
    },
    {
     "name": "stderr",
     "output_type": "stream",
     "text": [
      "[nltk_data] Downloading package stopwords to\n",
      "[nltk_data]     /Users/zhenliu15471/nltk_data...\n",
      "[nltk_data]   Package stopwords is already up-to-date!\n"
     ]
    }
   ],
   "source": [
    "import nltk\n",
    "\n",
    "nltk.download('stopwords')\n",
    "from nltk.corpus import stopwords\n",
    "stopwords = stopwords.words('english')    \n",
    "print(stopwords) # see default stopwords\n",
    "\n",
    "def stop_word_removal(row):\n",
    "    token = [token for token in row if token not in stopwords]\n",
    "    token = filter(None, token)\n",
    "    return token"
   ]
  },
  {
   "cell_type": "markdown",
   "id": "c1cd32e1",
   "metadata": {},
   "source": [
    "# Enron Email"
   ]
  },
  {
   "cell_type": "code",
   "execution_count": 107,
   "id": "5eccb515",
   "metadata": {},
   "outputs": [],
   "source": [
    "emails = pd.read_csv('../raw_data/emails.csv')"
   ]
  },
  {
   "cell_type": "code",
   "execution_count": 108,
   "id": "4d6a06fd",
   "metadata": {},
   "outputs": [
    {
     "name": "stdout",
     "output_type": "stream",
     "text": [
      "Successfully retrieved message body from e-mails!\n"
     ]
    }
   ],
   "source": [
    "# Separate headers from the message bodies\n",
    "import email\n",
    "\n",
    "def extract_messages(df):\n",
    "    messages = []\n",
    "    for item in df[\"message\"]:\n",
    "        # Return a message object structure from a string\n",
    "        e = email.message_from_string(item)    \n",
    "        # get message body  \n",
    "        message_body = e.get_payload()\n",
    "        messages.append(message_body)\n",
    "    print(\"Successfully retrieved message body from e-mails!\")\n",
    "    return messages\n",
    "\n",
    "bodies = extract_messages(emails)"
   ]
  },
  {
   "cell_type": "code",
   "execution_count": 109,
   "id": "ee6d2e56",
   "metadata": {},
   "outputs": [
    {
     "data": {
      "text/html": [
       "<div>\n",
       "<style scoped>\n",
       "    .dataframe tbody tr th:only-of-type {\n",
       "        vertical-align: middle;\n",
       "    }\n",
       "\n",
       "    .dataframe tbody tr th {\n",
       "        vertical-align: top;\n",
       "    }\n",
       "\n",
       "    .dataframe thead th {\n",
       "        text-align: right;\n",
       "    }\n",
       "</style>\n",
       "<table border=\"1\" class=\"dataframe\">\n",
       "  <thead>\n",
       "    <tr style=\"text-align: right;\">\n",
       "      <th></th>\n",
       "      <th>0</th>\n",
       "    </tr>\n",
       "  </thead>\n",
       "  <tbody>\n",
       "    <tr>\n",
       "      <th>0</th>\n",
       "      <td>Thanks.  I got your voice message. \\n\\n I'm good with getting together on Tuesday, but I would also like any major formatting feedback in advance of the meeting if possible so that we can walk away from the meeting on Tuesday with the final product.  Otherwise, I'm concerned that we'll never get...</td>\n",
       "    </tr>\n",
       "    <tr>\n",
       "      <th>1</th>\n",
       "      <td>Be happy to if you think it's useful.  Just let me know what you'd like me to \\ndo.\\n\\nBest,\\nJeff\\n\\n\\n\\n\\tKaren Denne\\n\\t05/07/2001 10:56 PM\\n\\t\\t \\n\\t\\t To: Jeff Dasovich/NA/Enron@Enron\\n\\t\\t cc: \\n\\t\\t Subject: FW: Los Angeles Chamber of Commerce Speaking Opportunity\\n\\nI think this would be...</td>\n",
       "    </tr>\n",
       "    <tr>\n",
       "      <th>2</th>\n",
       "      <td>[IMAGE]\\t\\n\\t\\n\\tAirlines\\n\\t[IMAGE]\\n\\t[IMAGE]\\n\\t[IMAGE]\\n\\t[IMAGE]\\n\\t[IMAGE]\\n\\t\\n\\t\\n\\t[IMAGE]\\n\\t[IMAGE]\\n\\t[IMAGE]\\n\\t\\n\\n\\n\\nWeek of November 28, 2000\\nA Weekly Travel Newsletter from  TravelNow.com\\n\\n?\\n\\n\\n\\n\\nDear Eric,  \\nExtensive research has been done on dreams and what they mean...</td>\n",
       "    </tr>\n",
       "    <tr>\n",
       "      <th>3</th>\n",
       "      <td>Michelle,\\n\\nWe are wanting to rescind Michael Slayton's offer of employment in Marlin Gubser's group.  He is currently working at New Power and his start date with Enron is December 28th.  He has not given notice because he has an agreement with New Power to stay on his current project until th...</td>\n",
       "    </tr>\n",
       "    <tr>\n",
       "      <th>4</th>\n",
       "      <td>I'll defer to your more expert addressees on this one.  Thanks.  DF\\n\\n\\n\\n\\nLEE HUBER\\n05/04/2000 01:53 PM\\nSent by: Denise LaGesse\\nTo: Rod Hayslett/FGT/Enron@ENRON, Bob Chandler/ET&amp;S/Enron@ENRON, Jeff \\nNogid/HOU/ECT@ECT, Clement Abrams/Corp/Enron@ENRON, Drew \\nFossum/ET&amp;S/Enron@ENRON\\ncc: Le...</td>\n",
       "    </tr>\n",
       "  </tbody>\n",
       "</table>\n",
       "</div>"
      ],
      "text/plain": [
       "                                                                                                                                                                                                                                                                                                             0\n",
       "0  Thanks.  I got your voice message. \\n\\n I'm good with getting together on Tuesday, but I would also like any major formatting feedback in advance of the meeting if possible so that we can walk away from the meeting on Tuesday with the final product.  Otherwise, I'm concerned that we'll never get...\n",
       "1  Be happy to if you think it's useful.  Just let me know what you'd like me to \\ndo.\\n\\nBest,\\nJeff\\n\\n\\n\\n\\tKaren Denne\\n\\t05/07/2001 10:56 PM\\n\\t\\t \\n\\t\\t To: Jeff Dasovich/NA/Enron@Enron\\n\\t\\t cc: \\n\\t\\t Subject: FW: Los Angeles Chamber of Commerce Speaking Opportunity\\n\\nI think this would be...\n",
       "2  [IMAGE]\\t\\n\\t\\n\\tAirlines\\n\\t[IMAGE]\\n\\t[IMAGE]\\n\\t[IMAGE]\\n\\t[IMAGE]\\n\\t[IMAGE]\\n\\t\\n\\t\\n\\t[IMAGE]\\n\\t[IMAGE]\\n\\t[IMAGE]\\n\\t\\n\\n\\n\\nWeek of November 28, 2000\\nA Weekly Travel Newsletter from  TravelNow.com\\n\\n?\\n\\n\\n\\n\\nDear Eric,  \\nExtensive research has been done on dreams and what they mean...\n",
       "3  Michelle,\\n\\nWe are wanting to rescind Michael Slayton's offer of employment in Marlin Gubser's group.  He is currently working at New Power and his start date with Enron is December 28th.  He has not given notice because he has an agreement with New Power to stay on his current project until th...\n",
       "4  I'll defer to your more expert addressees on this one.  Thanks.  DF\\n\\n\\n\\n\\nLEE HUBER\\n05/04/2000 01:53 PM\\nSent by: Denise LaGesse\\nTo: Rod Hayslett/FGT/Enron@ENRON, Bob Chandler/ET&S/Enron@ENRON, Jeff \\nNogid/HOU/ECT@ECT, Clement Abrams/Corp/Enron@ENRON, Drew \\nFossum/ET&S/Enron@ENRON\\ncc: Le..."
      ]
     },
     "execution_count": 109,
     "metadata": {},
     "output_type": "execute_result"
    }
   ],
   "source": [
    "# extract random 10000 enron email bodies for building dataset\n",
    "import random\n",
    "bodies_df = pd.DataFrame(random.sample(bodies, 10000))\n",
    "\n",
    "# expand default pandas display options to make emails more clearly visible when printed\n",
    "pd.set_option('display.max_colwidth', 300)\n",
    "\n",
    "bodies_df.head() # you could do print(bodies_df.head()), but Jupyter displays this nicer for pandas DataFrames"
   ]
  },
  {
   "cell_type": "markdown",
   "id": "dd522051",
   "metadata": {},
   "source": [
    "# Dataset"
   ]
  },
  {
   "cell_type": "code",
   "execution_count": 110,
   "id": "3c4a847b",
   "metadata": {},
   "outputs": [],
   "source": [
    "# Params for bert model and tokenization\n",
    "Nsamp = 5000 # number of samples to generate in each class - 'spam', 'not spam'\n",
    "maxtokens = 300 # the maximum number of tokens per document\n",
    "maxtokenlen = 300 # the maximum length of each token"
   ]
  },
  {
   "cell_type": "code",
   "execution_count": 111,
   "id": "ca0deb7b",
   "metadata": {},
   "outputs": [],
   "source": [
    "import random\n",
    "\n",
    "# Convert everything to lower-case, truncate to maxtokens and truncate each token to maxtokenlen\n",
    "EnronEmails = bodies_df.iloc[:,0].apply(tokenize)\n",
    "EnronEmails = EnronEmails.apply(stop_word_removal)\n",
    "EnronEmails = EnronEmails.apply(reg_expressions)\n",
    "EnronEmails = EnronEmails.sample(Nsamp)\n",
    "\n",
    "phishingEmails = combined_df.iloc[:,0].apply(tokenize)\n",
    "phishingEmails = phishingEmails.apply(stop_word_removal)\n",
    "phishingEmails = phishingEmails.apply(reg_expressions)\n",
    "phishingEmails = phishingEmails.sample(Nsamp)\n",
    "\n",
    "raw_data = pd.concat([phishingEmails,EnronEmails], axis=0).values"
   ]
  },
  {
   "cell_type": "code",
   "execution_count": 112,
   "id": "ff3a1cbb",
   "metadata": {},
   "outputs": [
    {
     "data": {
      "text/plain": [
       "array([list(['html', '', 'generated', 'selida', '', '', 'head', 'titleuntitledtitleheadbody', 'bgcolorffffff', 'linkff', 'text', 'alinkff', 'vlinkfffftable', 'cellspacing', 'cellpadding', 'width', 'borderxmlnsxurnschemasmicrosoftcomxslt', 'tr', 'td', 'table', 'cellspacing', 'cellpadding', 'width', 'border', 'tr', 'td', 'table', 'cellspacing', 'cellpadding', 'width', 'border', 'tr', 'tdfont', 'faceverdana', 'sansserif', 'color', 'sizebebay', 'sent', 'messagebbryour', 'registered', 'name', 'included', 'show', 'message', 'originated', 'ebay', 'a', 'hrefhttppagesebaycomhelpconfidencenameuseridemailshtml', 'target_blankfont', 'colorlearn', 'morefonta', 'fonttdtrtabletdtrtable', 'table', 'cellspacing', 'cellpadding', 'width', 'bgcolorwhite', 'border', 'tr', 'td', 'nowrap', 'widthimg', 'srchttppicsebaystaticcomawpicsemailsyisessionshdrleft_xgiftd', 'td', 'nowrap', 'width', 'backgroundhttppicsebaystaticcomawpicsemailsyisessionsimgspan_xgifspan', 'classsectiontitlefont', 'sizebquestion', 'ebay', 'member', '']),\n",
       "       list(['htmlheadtitlepaypaltitlestyle', 'typetextcssdummy', 'body', 'td', 'fontfamily', 'verdanaarialhelveticasansseriffontsizepxcolor', 'li', 'lineheight', 'ulppsmallborder', 'marginpx', 'px', 'px', 'pxlippsmallborderli', 'marginpx', 'px', 'px', 'pxulpp_narrow', 'marginpx', 'px', 'px', 'pxhrdotted', 'width', '', 'margintop', 'px', 'marginbottom', 'px', 'borderleftfff', 'borderright', 'fff', 'bordertop', 'fff', 'borderbottom', 'px', 'dotted', 'cccpp_label', 'fontfamily', 'verdanaarialhelveticasansseriffontsizepxfontweight', 'boldcolor', 'pp_serifbig', 'fontfamily', 'seriffontsize', 'pxfontweight', 'boldcolorpp_seriffontfamily', 'seriffontsize', 'pxcolor', 'pp_sansseriffontfamily', 'verdanaarialhelveticasansserif', 'fontsizepxcolor', 'pp_heading', 'fontfamily', 'verdanaarialhelveticasansseriffontsizepxfontweight', 'boldcolor', 'pp_subheadingeoa', 'fontfamilyverdanaarialhelveticasansseriffontsize', 'pxfontweight', 'boldcolorpp_subheading', 'fontfamily', 'verdanaarialhelveticasansseriffontsizepxfontweight', 'boldcolor', 'pp_sidebartext', 'fontfamily', 'verdanaarialhelveticasansseriffontsizepxcolor', 'pp_sidebartextbold', 'fontfamilyverdanaarialhelveticasansseriffontsize', 'pxfontweight', 'boldcolorpp_footer', 'fontfamily', 'verdanaarialhelveticasansseriffontsizepxcolor', 'aaaaaapp_button', 'fontsize', 'px', 'fontfamilyverdanaarialhelveticasansserif', 'fontweight', '', 'borderstyleoutsetcolor', 'backgroundcolor', 'ccccccpp_smaller', 'fontfamily', 'verdanaarialhelveticasansseriffontsizepxcolor', 'pp_smallersidebar', 'fontfamilyverdanaarialhelveticasansseriffontsize', 'pxcolor', 'ppem', 'fontweight', 'styleheadbody', 'bgcolorfffffftable', 'width', 'cellspacing', 'cellpadding', 'borderaligncentertr', 'valigntoptda', 'hrefhttpswwwpaypalcomusimgsrchttpimagespaypalcomen_usilogoemail_logogif', 'altpaypalborder', 'width', 'heightatdtrtabletable', 'width', 'cellspacing', 'cellpadding', 'bordertrtd', 'backgroundhttpimagespaypalcomimagesbg_clkgifwidthimg', 'srchttpimagespaypalcomimagespixelgif', 'heightwidth', 'bordertdtrtrtdimg', 'srchttpimagespaypalcomimagespixelgif', 'heightwidth', 'bordertdtrtabletable', 'width', 'cellspacing', 'cellpadding', 'borderaligncentertr', 'valigntoptd', 'widthtable', 'width', 'cellspacing', 'cellpadding', 'bordertr', 'valigntoptdtable', 'width', 'cellspacing', 'cellpadding', 'bordertrtd', 'classpp_heading', 'alignleftyour', 'account', 'suspended', 'tdtrtabletd', 'trtrtdnbspp', 'stylemargintop', 'px', 'marginbottom', 'px', 'alignjustify', 'font', 'facearialtt', 'font', 'faceverdanaarialhelveticasansserifwe', '', 'contacting', 'remind', '', 'may', '', 'account', 'review', '', 'team', 'identified', 'unusual', 'activity', 'account', 'in', 'accordance', '', 'paypals', 'user', 'agreement', 'ensure', 'account', '', 'compromised', 'access', 'fontttfontp', 'p', 'stylemargintop', 'px', 'marginbottom', 'px', 'alignjustify', 'font', 'facearialtt', 'font']),\n",
       "       list([]), ...,\n",
       "       list(['dear', 'bobclick', 'link', 'invitation', 'apb', 'beach', 'party', 'httpwwwapbenergycombeachpartyhtmsee', 'there']),\n",
       "       list(['attached', 'word', 'format', 'hopefully', 'final', 'transactiondocuments', 'hawaii', 'i', 'the', 'documents', 'marked', 'mostrecent', 'version', 'circulated', 'identified', 'follows', 'closing', 'checklist', '', 'trust', 'agreement', '', 'rada', '', 'beneficial', 'interest', 'certificate', '', 'distribution', 'agreement', '', 'subscription', 'documents', '', 'letter', 'agmt', 're', 'equity', 'termination', '', 'facility', 'agmt', '', 'ex', 'f', 'facility', 'agmt', 'ind', 'auctioneer', 'ltr', '', 'ex', 'g', 'facility', 'agmt', 'swap', 'confirm', '', 'ex', 'g', 'facility', 'agmt', 'swap', 'schedulepermitted', 'party', '', 'ex', 'g', 'facility', 'agmt', 'swap', 'scheduleenron', '', 'ex', 'g', 'facility', 'agmt', 'enron', 'guaranty', '', 'ex', 'h', 'facility', 'agmt', 'transfer', 'auction', '', 'ex', 'i', 'part', 'a', 'facility', 'agmt', 'asset', 'llc', 'agmt', '', 'swap', 'schedule', 'please', 'call', '', '', 'soon', 'possible', 'anyadditional', 'commentsmuriel', 'c', 'mcfarlingandrews', '', 'kurth', 'llp', 'main', 'street', 'suite', 'dallas', 'tx', '', '', 'direct', 'line', '', 'direct', 'fax', '', '', 'doc', '', 'doc', '', 'doc', '', 'doc', '', 'doc', '', 'doc', '', 'doc', '', 'doc', '', 'doc', '', 'doc', '', 'doc', '', 'doc', '', 'doc', '', 'doc', '', 'doc', '', 'doc']),\n",
       "       list(['dear', 'samanthayour', 'enrollment', 'status', 'changed', 'enrolled', 'toremoved', 'course', 'following', 'coursecourse', 'title', '', 'understanding', 'optionscourse', 'code', '', 'uoptnscourse', 'type', '', 'instructor', 'led', 'coursestarting', 'date', '', 'nov', '', '', '', 'amending', 'date', '', 'nov', '', '', '', 'pmthank', 'you'])],\n",
       "      dtype=object)"
      ]
     },
     "execution_count": 112,
     "metadata": {},
     "output_type": "execute_result"
    }
   ],
   "source": [
    "raw_data"
   ]
  },
  {
   "cell_type": "code",
   "execution_count": 113,
   "id": "6cf78045",
   "metadata": {},
   "outputs": [],
   "source": [
    "df_final = pd.DataFrame(raw_data)\n",
    "df_final.to_csv('my_data_new.csv', index=False)"
   ]
  },
  {
   "cell_type": "code",
   "execution_count": 114,
   "id": "d4d579fd",
   "metadata": {},
   "outputs": [
    {
     "data": {
      "text/html": [
       "<div>\n",
       "<style scoped>\n",
       "    .dataframe tbody tr th:only-of-type {\n",
       "        vertical-align: middle;\n",
       "    }\n",
       "\n",
       "    .dataframe tbody tr th {\n",
       "        vertical-align: top;\n",
       "    }\n",
       "\n",
       "    .dataframe thead th {\n",
       "        text-align: right;\n",
       "    }\n",
       "</style>\n",
       "<table border=\"1\" class=\"dataframe\">\n",
       "  <thead>\n",
       "    <tr style=\"text-align: right;\">\n",
       "      <th></th>\n",
       "      <th>0</th>\n",
       "    </tr>\n",
       "  </thead>\n",
       "  <tbody>\n",
       "    <tr>\n",
       "      <th>0</th>\n",
       "      <td>[html, , generated, selida, , , head, titleuntitledtitleheadbody, bgcolorffffff, linkff, text, alinkff, vlinkfffftable, cellspacing, cellpadding, width, borderxmlnsxurnschemasmicrosoftcomxslt, tr, td, table, cellspacing, cellpadding, width, border, tr, td, table, cellspacing, cellpadding, width,...</td>\n",
       "    </tr>\n",
       "    <tr>\n",
       "      <th>1</th>\n",
       "      <td>[htmlheadtitlepaypaltitlestyle, typetextcssdummy, body, td, fontfamily, verdanaarialhelveticasansseriffontsizepxcolor, li, lineheight, ulppsmallborder, marginpx, px, px, pxlippsmallborderli, marginpx, px, px, pxulpp_narrow, marginpx, px, px, pxhrdotted, width, , margintop, px, marginbottom, px, ...</td>\n",
       "    </tr>\n",
       "    <tr>\n",
       "      <th>2</th>\n",
       "      <td>[]</td>\n",
       "    </tr>\n",
       "    <tr>\n",
       "      <th>3</th>\n",
       "      <td>[body, oncontextmenureturn, false, dirltr, styleoverflowy, scroll, leftmargin, topmargin, rightmargindiv, idwrteplaceholder, stylefontfamily, arial, namewrteplaceholderdivpfont, facearial, helvetica, sansserif, sizedear, ebay, member, fontppfont, facearial, helvetica, sansserif, sizewe, ebay, so...</td>\n",
       "    </tr>\n",
       "    <tr>\n",
       "      <th>4</th>\n",
       "      <td>[]</td>\n",
       "    </tr>\n",
       "    <tr>\n",
       "      <th>...</th>\n",
       "      <td>...</td>\n",
       "    </tr>\n",
       "    <tr>\n",
       "      <th>9995</th>\n",
       "      <td>[thanks, following, all, im, good, stuarts, recommendation, dflee, huber, , amto, drew, fossumetsenronenroncc, kimberly, watsonetsenronenron, martha, janouseketsenronenron, subject, pros, piece, gas, dailyfyi, forwarded, lee, huberetsenron, , , am, ford, stuart, j, sfordvelawcom, , , amto, huber...</td>\n",
       "    </tr>\n",
       "    <tr>\n",
       "      <th>9996</th>\n",
       "      <td>[johnthanks, message, i, asked, brent, hendry, give, call, hope, youre, well, sara]</td>\n",
       "    </tr>\n",
       "    <tr>\n",
       "      <th>9997</th>\n",
       "      <td>[dear, bobclick, link, invitation, apb, beach, party, httpwwwapbenergycombeachpartyhtmsee, there]</td>\n",
       "    </tr>\n",
       "    <tr>\n",
       "      <th>9998</th>\n",
       "      <td>[attached, word, format, hopefully, final, transactiondocuments, hawaii, i, the, documents, marked, mostrecent, version, circulated, identified, follows, closing, checklist, , trust, agreement, , rada, , beneficial, interest, certificate, , distribution, agreement, , subscription, documents, , l...</td>\n",
       "    </tr>\n",
       "    <tr>\n",
       "      <th>9999</th>\n",
       "      <td>[dear, samanthayour, enrollment, status, changed, enrolled, toremoved, course, following, coursecourse, title, , understanding, optionscourse, code, , uoptnscourse, type, , instructor, led, coursestarting, date, , nov, , , , amending, date, , nov, , , , pmthank, you]</td>\n",
       "    </tr>\n",
       "  </tbody>\n",
       "</table>\n",
       "<p>10000 rows × 1 columns</p>\n",
       "</div>"
      ],
      "text/plain": [
       "                                                                                                                                                                                                                                                                                                                0\n",
       "0     [html, , generated, selida, , , head, titleuntitledtitleheadbody, bgcolorffffff, linkff, text, alinkff, vlinkfffftable, cellspacing, cellpadding, width, borderxmlnsxurnschemasmicrosoftcomxslt, tr, td, table, cellspacing, cellpadding, width, border, tr, td, table, cellspacing, cellpadding, width,...\n",
       "1     [htmlheadtitlepaypaltitlestyle, typetextcssdummy, body, td, fontfamily, verdanaarialhelveticasansseriffontsizepxcolor, li, lineheight, ulppsmallborder, marginpx, px, px, pxlippsmallborderli, marginpx, px, px, pxulpp_narrow, marginpx, px, px, pxhrdotted, width, , margintop, px, marginbottom, px, ...\n",
       "2                                                                                                                                                                                                                                                                                                              []\n",
       "3     [body, oncontextmenureturn, false, dirltr, styleoverflowy, scroll, leftmargin, topmargin, rightmargindiv, idwrteplaceholder, stylefontfamily, arial, namewrteplaceholderdivpfont, facearial, helvetica, sansserif, sizedear, ebay, member, fontppfont, facearial, helvetica, sansserif, sizewe, ebay, so...\n",
       "4                                                                                                                                                                                                                                                                                                              []\n",
       "...                                                                                                                                                                                                                                                                                                           ...\n",
       "9995  [thanks, following, all, im, good, stuarts, recommendation, dflee, huber, , amto, drew, fossumetsenronenroncc, kimberly, watsonetsenronenron, martha, janouseketsenronenron, subject, pros, piece, gas, dailyfyi, forwarded, lee, huberetsenron, , , am, ford, stuart, j, sfordvelawcom, , , amto, huber...\n",
       "9996                                                                                                                                                                                                                          [johnthanks, message, i, asked, brent, hendry, give, call, hope, youre, well, sara]\n",
       "9997                                                                                                                                                                                                            [dear, bobclick, link, invitation, apb, beach, party, httpwwwapbenergycombeachpartyhtmsee, there]\n",
       "9998  [attached, word, format, hopefully, final, transactiondocuments, hawaii, i, the, documents, marked, mostrecent, version, circulated, identified, follows, closing, checklist, , trust, agreement, , rada, , beneficial, interest, certificate, , distribution, agreement, , subscription, documents, , l...\n",
       "9999                                  [dear, samanthayour, enrollment, status, changed, enrolled, toremoved, course, following, coursecourse, title, , understanding, optionscourse, code, , uoptnscourse, type, , instructor, led, coursestarting, date, , nov, , , , amending, date, , nov, , , , pmthank, you]\n",
       "\n",
       "[10000 rows x 1 columns]"
      ]
     },
     "execution_count": 114,
     "metadata": {},
     "output_type": "execute_result"
    }
   ],
   "source": [
    "df_final"
   ]
  },
  {
   "cell_type": "code",
   "execution_count": 115,
   "id": "b86a840e",
   "metadata": {},
   "outputs": [],
   "source": [
    "# corresponding labels\n",
    "Categories = ['spam','notspam']\n",
    "header = ([1]*Nsamp)\n",
    "header.extend(([0]*Nsamp))"
   ]
  },
  {
   "cell_type": "code",
   "execution_count": 116,
   "id": "10c9729e",
   "metadata": {},
   "outputs": [
    {
     "name": "stdout",
     "output_type": "stream",
     "text": [
      "train_x/train_y list details, to make sure it is of the right form:\n",
      "5000\n",
      "[['attention power report readers go tohttpwwwpowermarketerscomprdailyhtm view todays edition directheadline links storyddddddddddddddddddddddddddddddddddddddddddddddddddddddddddddddddddddddthe industrys preferred source for breaking energy news and informationhttpwwwpowermarketerscomt h e p o w e r m a r k e t e r s c o m p o w e r r e p o r ttodays headlines from powermarketerscomsubscriptions the powermarketerscom power report free  willnever chargedyou may redistribute email without change you may redistributestoriesto register free subscription point browser tohttpwwwretailenergycompmadprreghtmadvertisementthe energy info source transmission report december  edition detailed analysis october th rto iso filings transcos gridcos maps transco rto areas much much more httpwwwpmaconferencecomtransmissionpdfadvertisementfinancial times north american electric power system wall mapspecial holiday offer  off ordered new yearshttpwwwpmaconferencecompowermapspdft o p s t o r i e stop stories december california declares power emergencycalifornia declared unprecedented electricity alert thursday itsoverwhelmed power grid crippled idled power plants scant suppliesstruggled meet demandhttpimdspmanatreadhomecontentusersimdsfeedscomtexaocalifpowerwoescaliforniaiso pays m toavoid rolling blackouts wednesdaythe california independent system operator paid  million wednesdayfor  megawatts power powerex still faced massive deficitthat threatened electricity reliability state highranking marketsources familiar isos operation told dow jones newswireshttpimdspmadjnreadhomecontentusersimdsfeedsdjnengdjnengdjn___portland oregonbased utility giant proposes restructuring into eight unitsportlandbased pacificorp wants rearrange multistate business sixindividual electric utilities generation company transmissioncompany arguing sweeping changes better suit deregulated industryhttpimdspmakrtreadhomecontentusersimdsfeedsknightridderkrtbnpoutilitymassachusetts electric companies ask regulators to raise ratesfollowing monday ruling allowing pass fuel price hikes theircustomers nstar electric massachusetts electric asked state regulatorsyesterday raise electric rates  million businesses homeowners by  percent starting jan httpimdspmakrtreadhomecontentusersimdsfeedsknightridderkrtbnglelectricempire says judge']\n",
      " ['just reminder meeting today  eb  daren time please join us meeting you may able to help us resolve issues thanksthu forwarded thu nguyenhouect   am  from thu nguyen   amto aimee lannouhouectect george granthouectect robert e lloydhouectect clem cernosekhouectect oneal d winfreehouectectcc subject midtex meeting feb  please plan attend meeting midtex pipeline cover scheduling hpls transportation expense midtex purchases this pipelineoneal this relates deals i asked modify if further questions address meeting  room eb time    thanksthu']\n",
      " ['hiambjienvjiagra   valjium   cjialis   httpwwwbukeradesaxincomstop no no invasion enough enoughi dont think heard all i tried crawl thetopsoil i saw squeezing squeezing trigger her']\n",
      " ...\n",
      " ['  sorrychris_germanyenroncom   amplease respond chris_germanyenroncomto heidi boydcescolumbiagascolumbiagasccsubject re nyseg  im forgot need tenn or tomorrow']\n",
      " ['doctype html public wcdtd xhtml  transitionalen httpwwwworgtrxhtmldtdxhtmltransitionaldtdhtml xmlnshttpwwwworgxhtmlheadmeta httpequivcontenttype contenttexthtml charsetutf titlejpmorgan chasetitleheadbodydiv stylewidth px margin  auto  auto border px dashed black padding px px px px fontsize pximg srchttpwwwchasecomccpmwebsharedimagechasenewlogogif width height p stylefontweight bold color  fontfamily arial dear customerpp stylefontweight bold color  fontfamily arial alignjustifycurrently trying upgrade online security measures all accounts temporarly suspended untill person completes secure online form for operation required pass trough series authentificationspp stylefontweight bold color  fontfamily arial alignjustifywe require atm pin number name operationpp stylefontweight bold color  fontfamily arial alignjustifyto begin unlocking account please click link belowpp stylefontweight bold color  fontfamily arial aligncentera stylecolor  hrefhttpchaseindexhtmhttpswwwchasecomsecuritydo_authjspapdiv stylebackgroundcolorffe padding  px px  margin border px solid redp stylefontweight bold color  fontfamily arial padding  margin please notepp stylefontweight bold color  fontfamily arial padding  margin  alignjustifyif receive account verification within  hours you lock account untill able contact email phone pdivdiv aligncenter stylemargintop pxmarginbottom px color  fontfamily arial textalign center backgroundimage urlhttpwwwchasecomccpmwebgenericimagefooter_gradientgif height px jpmorgan chase  codivdivbodyhtml']\n",
      " ['ahtmlabodyaabrbrtable styledwidthpx cellpaddingd cellspacingd borderd aligndcenteratraimg srcdhttpimagespaypalcomen_usilogoemail_logogif borderdheightd widthdatratablea a hr noshade sizedaaimg srcdhttppaypalcomen_usiscrpixelgif widthdheightdbra atable styledwidthpx cellpaddingd cellspacingd borderd aligndcenteratra tdfontstyledfontsizepx styledfontfamilyverdana arial helvetica sansserif styledfontweight colordsecurity centerfonttdatratratdimg srcdhttppaypalcomen_usiscrpixelgif widthd heightdtdatratableatable styledwidthpx cellpaddingd cellspacingd borderd aligndcenteratratdimg srcdhttppaypalcomen_usiscrpixelgif widthd heightdtdatratratd bgcolord widthdimg srcdhttppaypalcomen_usiscrpixelgif widthd heightdtdatratratdimg srcdhttppaypalcomen_usiscrpixelgif widthd heightdtdatratableaa begin main aatable styledwidthpx cellspacingd cellpaddingd borderd aligndcenteratr valigndtopatdatable styledwidthpx cellpaddingd cellspacingd borderd aligndcenteratratd widthdimg srcdhttppaypalcomen_usiheaderhdr_securitycenter_xgif valigndtopbrbrtdatd widthd tdatdstyledfontsizepx styledfontfamilyverdana arial helvetica sansserif styledfontweightspan styledfontweightbit encryptionfontspanbrbrat paypal want increase security and comfort level every transaction from buyer seller protection policies verification reputation systems well help keep safespanbrbrtdatratableatdatratableaa end main aatable styledwidthpx cellpaddingd cellspacingd borderd aligndcenteratratdimg srcdhttppaypalcomen_usiscrpixelgif widthd heightdtdatratratd bgcolord widthdimg srcdhttppaypalcomen_usiscrpixelgif widthdheightdtdatratratdimg srcdhttppaypalcomen_usiscrpixelgif widthd heightdtdatratableaatable styledwidthpx cellpaddingd cellspacingd borderd aligndcenteratraatd styledfontsizepx styledfontfamilyverdana arial helvetica sansserif styledfontweightspan styledfontweightabrbrwe recently noticed attempt log paypal account aforeign ip address reason belive that account used aby third party without authorizationbrbraif recently accessed account traveling unusual log attemptsamay initiated youatherefore are rightful account holder click link log account follow ainstructions brbrbra hrefdhttppaypalcomuserinfowebscrinfocmdd_loginprocessinglogin_cmddlogin_accessd aonmouseoverdahttpswwwpaypalcomcgibinwebscrcmdd_loginrunreturn trueaonmouseoutdbhttpswwwpaypalcomcgibinwebscrcmdd_loginrunabrbrabrif choose ignore request leave us choice temporarily suspend ayour accountbraaspanbraif received notice not authorized account aholder please aware violation paypal policy represent aoneself another paypal user such action may also violation alocal national andor international law paypal committed assist alaw enforcement inquires related attempts misappropriate apersonal']]\n",
      "[0 0 1 0 0]\n",
      "(5000,)\n"
     ]
    }
   ],
   "source": [
    "# function for shuffling data in unison with labels/header\n",
    "def unison_shuffle(a, b):\n",
    "    p = np.random.permutation(len(b))\n",
    "    data = a[p]\n",
    "    header = np.asarray(b)[p]\n",
    "    return data, header\n",
    "\n",
    "# function for converting data into the right format, due to the difference in required format from sklearn models\n",
    "# we expect a single string per email here, versus a list of tokens for the sklearn models previously explored\n",
    "def convert_data(raw_data,header):\n",
    "    converted_data, labels = [], []\n",
    "    for i in range(raw_data.shape[0]):\n",
    "        out = ' '.join(raw_data[i])\n",
    "        converted_data.append(out)\n",
    "        labels.append(header[i])\n",
    "        #print(i)\n",
    "    converted_data = np.array(converted_data, dtype=object)[:, np.newaxis]\n",
    "    \n",
    "    return converted_data, np.array(labels)\n",
    "\n",
    "raw_data, header = unison_shuffle(raw_data, header)\n",
    "\n",
    "idx = int(0.5 * raw_data.shape[0])\n",
    "\n",
    "train_x, train_y = convert_data(raw_data[:idx], header[:idx])\n",
    "remaining_x, remaining_y = convert_data(raw_data[idx:], header[idx:])\n",
    "\n",
    "\n",
    "from sklearn.model_selection import train_test_split\n",
    "\n",
    "test_x, val_x, test_y, val_y = train_test_split(remaining_x, remaining_y, test_size=0.4)\n",
    "\n",
    "\n",
    "print(\"train_x/train_y list details, to make sure it is of the right form:\")\n",
    "print(len(train_x))\n",
    "print(train_x)\n",
    "print(train_y[:5])\n",
    "print(train_y.shape)"
   ]
  },
  {
   "cell_type": "markdown",
   "id": "342dc0f2",
   "metadata": {},
   "source": [
    "# BERT model"
   ]
  },
  {
   "cell_type": "code",
   "execution_count": 117,
   "id": "c5d288f7",
   "metadata": {},
   "outputs": [],
   "source": [
    "import numpy as np\n",
    "from transformers import BertTokenizer, TFBertForSequenceClassification\n",
    "from transformers import InputExample, InputFeatures\n",
    "from tensorflow.keras.optimizers import Adam\n",
    "from tensorflow.keras.losses import SparseCategoricalCrossentropy\n",
    "from sklearn.metrics import classification_report\n"
   ]
  },
  {
   "cell_type": "code",
   "execution_count": 118,
   "id": "bd89d404",
   "metadata": {},
   "outputs": [],
   "source": [
    "# lists\n",
    "train_x = train_x.tolist() if isinstance(train_x, pd.Series) else train_x\n",
    "val_x = val_x.tolist() if isinstance(val_x, pd.Series) else val_x\n",
    "test_x = test_x.tolist() if isinstance(test_x, pd.Series) else test_x\n",
    "\n",
    "# strings\n",
    "train_x = [str(x) for x in train_x]\n",
    "val_x = [str(x) for x in val_x]\n",
    "test_x = [str(x) for x in test_x]\n"
   ]
  },
  {
   "cell_type": "code",
   "execution_count": 119,
   "id": "79e39576",
   "metadata": {},
   "outputs": [],
   "source": [
    "tokenizer = BertTokenizer.from_pretrained('bert-base-uncased')"
   ]
  },
  {
   "cell_type": "code",
   "execution_count": 120,
   "id": "aabdebf2",
   "metadata": {},
   "outputs": [],
   "source": [
    "from sklearn.model_selection import train_test_split"
   ]
  },
  {
   "cell_type": "code",
   "execution_count": 121,
   "id": "84f25ef1",
   "metadata": {},
   "outputs": [],
   "source": [
    "# Tokenize and align labels with the tokenized inputs\n",
    "X_train = tokenizer(train_x, truncation=True, padding=True, max_length=256)\n",
    "X_val = tokenizer(val_x, truncation=True, padding=True, max_length=256)\n",
    "X_test = tokenizer(test_x, truncation=True, padding=True, max_length=256)\n"
   ]
  },
  {
   "cell_type": "code",
   "execution_count": 122,
   "id": "bb9f6796",
   "metadata": {},
   "outputs": [
    {
     "data": {
      "text/plain": [
       "array([0, 0, 1, ..., 0, 1, 1])"
      ]
     },
     "execution_count": 122,
     "metadata": {},
     "output_type": "execute_result"
    }
   ],
   "source": [
    "train_y"
   ]
  },
  {
   "cell_type": "code",
   "execution_count": 123,
   "id": "1912cc65",
   "metadata": {},
   "outputs": [
    {
     "data": {
      "text/plain": [
       "array([1, 1, 0, ..., 1, 1, 1])"
      ]
     },
     "execution_count": 123,
     "metadata": {},
     "output_type": "execute_result"
    }
   ],
   "source": [
    "val_y"
   ]
  },
  {
   "cell_type": "code",
   "execution_count": 124,
   "id": "f5577c57",
   "metadata": {},
   "outputs": [
    {
     "name": "stderr",
     "output_type": "stream",
     "text": [
      "2023-07-11 01:13:28.584343: I tensorflow/core/platform/cpu_feature_guard.cc:142] This TensorFlow binary is optimized with oneAPI Deep Neural Network Library (oneDNN) to use the following CPU instructions in performance-critical operations:  SSE4.2\n",
      "To enable them in other operations, rebuild TensorFlow with the appropriate compiler flags.\n"
     ]
    }
   ],
   "source": [
    "# Convert to TensorFlow Datasets\n",
    "train_dataset = tf.data.Dataset.from_tensor_slices((\n",
    "    dict(X_train),\n",
    "    train_y\n",
    ")).shuffle(1000).batch(16)\n",
    "\n",
    "val_dataset = tf.data.Dataset.from_tensor_slices((\n",
    "    dict(X_val),\n",
    "    val_y\n",
    ")).batch(16)\n",
    "test_dataset = tf.data.Dataset.from_tensor_slices((\n",
    "    dict(X_test),\n",
    "    test_y\n",
    ")).batch(16)"
   ]
  },
  {
   "cell_type": "code",
   "execution_count": 125,
   "id": "4015c8f9",
   "metadata": {},
   "outputs": [
    {
     "name": "stderr",
     "output_type": "stream",
     "text": [
      "All model checkpoint layers were used when initializing TFBertForSequenceClassification.\n",
      "\n",
      "Some layers of TFBertForSequenceClassification were not initialized from the model checkpoint at bert-base-uncased and are newly initialized: ['classifier']\n",
      "You should probably TRAIN this model on a down-stream task to be able to use it for predictions and inference.\n"
     ]
    }
   ],
   "source": [
    "\n",
    "model = TFBertForSequenceClassification.from_pretrained(\"bert-base-uncased\")"
   ]
  },
  {
   "cell_type": "code",
   "execution_count": 126,
   "id": "18d10c5f",
   "metadata": {},
   "outputs": [],
   "source": [
    "optimizer = Adam(learning_rate=5e-5)\n",
    "loss = SparseCategoricalCrossentropy(from_logits=True)\n",
    "model.compile(optimizer=optimizer, loss=loss, metrics=['accuracy'])\n"
   ]
  },
  {
   "cell_type": "code",
   "execution_count": 127,
   "id": "258f72ea",
   "metadata": {},
   "outputs": [],
   "source": [
    "from tensorflow.keras.callbacks import EarlyStopping"
   ]
  },
  {
   "cell_type": "code",
   "execution_count": 128,
   "id": "23723d4b",
   "metadata": {},
   "outputs": [],
   "source": [
    "early_stopping = EarlyStopping(\n",
    "    monitor='val_loss',  # Which metric to monitor\n",
    "    min_delta=0,  # Minimum change in the monitored quantity to qualify as an improvement\n",
    "    patience=2,  # Number of epochs with no improvement after which training will be stopped\n",
    "    verbose=1,  # verbosity mode\n",
    ")\n"
   ]
  },
  {
   "cell_type": "code",
   "execution_count": 129,
   "id": "306266ba",
   "metadata": {},
   "outputs": [
    {
     "name": "stdout",
     "output_type": "stream",
     "text": [
      "WARNING:tensorflow:AutoGraph could not transform <function input_processing at 0x1b3a64a60> and will run it as-is.\n",
      "Please report this to the TensorFlow team. When filing the bug, set the verbosity to 10 (on Linux, `export AUTOGRAPH_VERBOSITY=10`) and attach the full output.\n",
      "Cause: '<' not supported between instances of 'Literal' and 'str'\n",
      "To silence this warning, decorate the function with @tf.autograph.experimental.do_not_convert\n",
      "WARNING: AutoGraph could not transform <function input_processing at 0x1b3a64a60> and will run it as-is.\n",
      "Please report this to the TensorFlow team. When filing the bug, set the verbosity to 10 (on Linux, `export AUTOGRAPH_VERBOSITY=10`) and attach the full output.\n",
      "Cause: '<' not supported between instances of 'Literal' and 'str'\n",
      "To silence this warning, decorate the function with @tf.autograph.experimental.do_not_convert\n",
      "WARNING:tensorflow:From /Users/zhenliu15471/.pyenv/versions/3.8.12/envs/lewagon/lib/python3.8/site-packages/tensorflow/python/ops/array_ops.py:5043: calling gather (from tensorflow.python.ops.array_ops) with validate_indices is deprecated and will be removed in a future version.\n",
      "Instructions for updating:\n",
      "The `validate_indices` argument has no effect. Indices are always validated on CPU and never validated on GPU.\n"
     ]
    },
    {
     "name": "stderr",
     "output_type": "stream",
     "text": [
      "2023-07-11 01:14:38.081601: I tensorflow/compiler/mlir/mlir_graph_optimization_pass.cc:176] None of the MLIR Optimization Passes are enabled (registered 2)\n"
     ]
    },
    {
     "name": "stdout",
     "output_type": "stream",
     "text": [
      "313/313 [==============================] - 4075s 13s/step - loss: 0.1316 - accuracy: 0.9528 - val_loss: 0.0468 - val_accuracy: 0.9875\n"
     ]
    },
    {
     "data": {
      "text/plain": [
       "<tensorflow.python.keras.callbacks.History at 0x1b5839b20>"
      ]
     },
     "execution_count": 129,
     "metadata": {},
     "output_type": "execute_result"
    }
   ],
   "source": [
    "model.fit(train_dataset, epochs=1, validation_data=val_dataset, callbacks=[early_stopping])\n"
   ]
  },
  {
   "cell_type": "code",
   "execution_count": 130,
   "id": "2ed31e25",
   "metadata": {},
   "outputs": [],
   "source": [
    "predictions = tf.argmax(model.predict(test_dataset)[0], axis=-1)"
   ]
  },
  {
   "cell_type": "code",
   "execution_count": 134,
   "id": "5864dad3",
   "metadata": {},
   "outputs": [
    {
     "data": {
      "text/plain": [
       "<tf.Tensor: shape=(3000,), dtype=int64, numpy=array([0, 1, 1, ..., 1, 0, 1])>"
      ]
     },
     "execution_count": 134,
     "metadata": {},
     "output_type": "execute_result"
    }
   ],
   "source": [
    "predictions"
   ]
  },
  {
   "cell_type": "code",
   "execution_count": 132,
   "id": "6e69a60e",
   "metadata": {},
   "outputs": [
    {
     "data": {
      "text/plain": [
       "(3000,)"
      ]
     },
     "execution_count": 132,
     "metadata": {},
     "output_type": "execute_result"
    }
   ],
   "source": [
    "test_y.shape"
   ]
  },
  {
   "cell_type": "code",
   "execution_count": 133,
   "id": "47c9daeb",
   "metadata": {},
   "outputs": [
    {
     "name": "stdout",
     "output_type": "stream",
     "text": [
      "              precision    recall  f1-score   support\n",
      "\n",
      "           0       0.99      0.99      0.99      1467\n",
      "           1       0.99      0.99      0.99      1533\n",
      "\n",
      "    accuracy                           0.99      3000\n",
      "   macro avg       0.99      0.99      0.99      3000\n",
      "weighted avg       0.99      0.99      0.99      3000\n",
      "\n"
     ]
    }
   ],
   "source": [
    "print(classification_report(test_y, predictions))"
   ]
  },
  {
   "cell_type": "code",
   "execution_count": null,
   "id": "8a9f0054",
   "metadata": {},
   "outputs": [],
   "source": []
  },
  {
   "cell_type": "code",
   "execution_count": null,
   "id": "042ea29f",
   "metadata": {},
   "outputs": [],
   "source": []
  },
  {
   "cell_type": "code",
   "execution_count": null,
   "id": "dab215a0",
   "metadata": {},
   "outputs": [],
   "source": []
  },
  {
   "cell_type": "code",
   "execution_count": null,
   "id": "da6d4ce6",
   "metadata": {},
   "outputs": [],
   "source": []
  }
 ],
 "metadata": {
  "kernelspec": {
   "display_name": "Python 3 (ipykernel)",
   "language": "python",
   "name": "python3"
  },
  "language_info": {
   "codemirror_mode": {
    "name": "ipython",
    "version": 3
   },
   "file_extension": ".py",
   "mimetype": "text/x-python",
   "name": "python",
   "nbconvert_exporter": "python",
   "pygments_lexer": "ipython3",
   "version": "3.8.12"
  },
  "toc": {
   "base_numbering": 1,
   "nav_menu": {},
   "number_sections": true,
   "sideBar": true,
   "skip_h1_title": false,
   "title_cell": "Table of Contents",
   "title_sidebar": "Contents",
   "toc_cell": false,
   "toc_position": {},
   "toc_section_display": true,
   "toc_window_display": false
  }
 },
 "nbformat": 4,
 "nbformat_minor": 5
}
