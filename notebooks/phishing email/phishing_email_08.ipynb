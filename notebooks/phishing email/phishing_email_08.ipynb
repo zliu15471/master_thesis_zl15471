{
 "cells": [
  {
   "cell_type": "code",
   "execution_count": 1,
   "metadata": {
    "id": "s_SNJ_Je2R96"
   },
   "outputs": [],
   "source": [
    "import os\n",
    "import re\n",
    "import pandas as pd\n",
    "import numpy as np\n",
    "from tqdm import tqdm"
   ]
  },
  {
   "cell_type": "code",
   "execution_count": 2,
   "metadata": {
    "id": "zDWsaHy_2ZH-"
   },
   "outputs": [],
   "source": [
    "# Params for bert model and tokenization\n",
    "Nsamp = 1000 # number of samples to generate in each class - 'spam', 'not spam'\n",
    "maxtokens = 200 # the maximum number of tokens per document\n",
    "maxtokenlen = 100 # the maximum length of each token"
   ]
  },
  {
   "cell_type": "code",
   "execution_count": 3,
   "metadata": {
    "colab": {
     "base_uri": "https://localhost:8080/"
    },
    "id": "MB5yLe6L2jGb",
    "outputId": "301e83ae-95ce-4211-c75d-e3d80af2b606"
   },
   "outputs": [
    {
     "name": "stderr",
     "output_type": "stream",
     "text": [
      "<>:2: SyntaxWarning: \"is\" with a literal. Did you mean \"==\"?\n",
      "<>:2: SyntaxWarning: \"is\" with a literal. Did you mean \"==\"?\n",
      "<ipython-input-3-4889ac943b93>:2: SyntaxWarning: \"is\" with a literal. Did you mean \"==\"?\n",
      "  if row is None or row is '':\n"
     ]
    }
   ],
   "source": [
    "def tokenize(row):\n",
    "    if row is None or row is '':\n",
    "        tokens = \"\"\n",
    "    else:\n",
    "        try:\n",
    "            tokens = row.split(\" \")[:maxtokens]\n",
    "        except:\n",
    "            tokens=\"\"\n",
    "    return tokens"
   ]
  },
  {
   "cell_type": "code",
   "execution_count": 4,
   "metadata": {
    "id": "GfNq8p8v2kTL"
   },
   "outputs": [],
   "source": [
    "def reg_expressions(row):\n",
    "    tokens = []\n",
    "    try:\n",
    "        for token in row:\n",
    "            token = token.lower()\n",
    "            token = re.sub(r'[\\W\\d]', \"\", token)\n",
    "            token = token[:maxtokenlen] # truncate token\n",
    "            tokens.append(token)\n",
    "    except:\n",
    "        token = \"\"\n",
    "        tokens.append(token)\n",
    "    return tokens"
   ]
  },
  {
   "cell_type": "code",
   "execution_count": 5,
   "metadata": {
    "colab": {
     "base_uri": "https://localhost:8080/"
    },
    "id": "zTaQleLe2lfN",
    "outputId": "0f3da4ab-5465-41f8-e66c-d47f5fd3b03b"
   },
   "outputs": [
    {
     "name": "stdout",
     "output_type": "stream",
     "text": [
      "['i', 'me', 'my', 'myself', 'we', 'our', 'ours', 'ourselves', 'you', \"you're\", \"you've\", \"you'll\", \"you'd\", 'your', 'yours', 'yourself', 'yourselves', 'he', 'him', 'his', 'himself', 'she', \"she's\", 'her', 'hers', 'herself', 'it', \"it's\", 'its', 'itself', 'they', 'them', 'their', 'theirs', 'themselves', 'what', 'which', 'who', 'whom', 'this', 'that', \"that'll\", 'these', 'those', 'am', 'is', 'are', 'was', 'were', 'be', 'been', 'being', 'have', 'has', 'had', 'having', 'do', 'does', 'did', 'doing', 'a', 'an', 'the', 'and', 'but', 'if', 'or', 'because', 'as', 'until', 'while', 'of', 'at', 'by', 'for', 'with', 'about', 'against', 'between', 'into', 'through', 'during', 'before', 'after', 'above', 'below', 'to', 'from', 'up', 'down', 'in', 'out', 'on', 'off', 'over', 'under', 'again', 'further', 'then', 'once', 'here', 'there', 'when', 'where', 'why', 'how', 'all', 'any', 'both', 'each', 'few', 'more', 'most', 'other', 'some', 'such', 'no', 'nor', 'not', 'only', 'own', 'same', 'so', 'than', 'too', 'very', 's', 't', 'can', 'will', 'just', 'don', \"don't\", 'should', \"should've\", 'now', 'd', 'll', 'm', 'o', 're', 've', 'y', 'ain', 'aren', \"aren't\", 'couldn', \"couldn't\", 'didn', \"didn't\", 'doesn', \"doesn't\", 'hadn', \"hadn't\", 'hasn', \"hasn't\", 'haven', \"haven't\", 'isn', \"isn't\", 'ma', 'mightn', \"mightn't\", 'mustn', \"mustn't\", 'needn', \"needn't\", 'shan', \"shan't\", 'shouldn', \"shouldn't\", 'wasn', \"wasn't\", 'weren', \"weren't\", 'won', \"won't\", 'wouldn', \"wouldn't\"]\n"
     ]
    },
    {
     "name": "stderr",
     "output_type": "stream",
     "text": [
      "[nltk_data] Downloading package stopwords to /root/nltk_data...\n",
      "[nltk_data]   Unzipping corpora/stopwords.zip.\n"
     ]
    }
   ],
   "source": [
    "import nltk\n",
    "\n",
    "nltk.download('stopwords')\n",
    "from nltk.corpus import stopwords\n",
    "stopwords = stopwords.words('english')\n",
    "print(stopwords) # see default stopwords\n",
    "\n",
    "def stop_word_removal(row):\n",
    "    token = [token for token in row if token not in stopwords]\n",
    "    token = filter(None, token)\n",
    "    return token"
   ]
  },
  {
   "cell_type": "code",
   "execution_count": 6,
   "metadata": {
    "id": "mucQNYW32mtP"
   },
   "outputs": [],
   "source": [
    "bodies_df = pd.read_csv('./bodies.csv')"
   ]
  },
  {
   "cell_type": "code",
   "execution_count": 7,
   "metadata": {
    "id": "-oxyQsI2QXkm"
   },
   "outputs": [],
   "source": [
    "fraud_bodies_df = pd.read_csv('./fraud_bodies_df.csv')"
   ]
  },
  {
   "cell_type": "code",
   "execution_count": 8,
   "metadata": {
    "id": "nox1Q916QjLT"
   },
   "outputs": [],
   "source": [
    "import random\n",
    "\n",
    "# Convert everything to lower-case, truncate to maxtokens and truncate each token to maxtokenlen\n",
    "EnronEmails = bodies_df.iloc[:,0].apply(tokenize)\n",
    "EnronEmails = EnronEmails.apply(stop_word_removal)\n",
    "EnronEmails = EnronEmails.apply(reg_expressions)\n",
    "EnronEmails = EnronEmails.sample(Nsamp)\n",
    "\n",
    "SpamEmails = fraud_bodies_df.iloc[:,0].apply(tokenize)\n",
    "SpamEmails = SpamEmails.apply(stop_word_removal)\n",
    "SpamEmails = SpamEmails.apply(reg_expressions)\n",
    "SpamEmails = SpamEmails.sample(Nsamp)\n",
    "\n",
    "raw_data = pd.concat([SpamEmails,EnronEmails], axis=0).values"
   ]
  },
  {
   "cell_type": "code",
   "execution_count": 9,
   "metadata": {
    "colab": {
     "base_uri": "https://localhost:8080/"
    },
    "id": "u49F5z75QXqm",
    "outputId": "1e1eae84-bb14-4ff4-a7cd-4a99abbc4c4c"
   },
   "outputs": [
    {
     "name": "stdout",
     "output_type": "stream",
     "text": [
      "Shape of combined data represented as numpy array is:\n",
      "(2000,)\n",
      "Data represented as numpy array is:\n",
      "[list(['dear', 'i', 'am', 'mrs', 'sussy', 'ander', 'kolingba', 'i', 'submite', 'my', 'life', 'to', 'you', 'tackling', 'our', 'immediatelyporblem', 'iam', 'the', 'wife', 'of', 'former', 'military', 'head', 'of', 'state', 'in', 'the', 'centeral', 'africanrepublicgeneral', 'ander', 'kolingba', 'the', 'leader', 'of', 'the', 'failed', 'coup', 'in', 'centralafricanam', 'under', 'hiding', 'with', 'my', 'son', 'patrcie', 'which', 'i', 'dont', 'want', 'enybody', 'toknow', 'my', 'way', 'about', 'beacuse', 'of', 'the', 'renent', 'indiscriminiate', 'arrest', 'of', 'top', 'militaryofficersmostly', 'for', 'my', 'husband', 'tribe', 'which', 'was', 'widely', 'regarded', 'as', 'anethnicvendta', 'in', 'the', 'central', 'african', 'rupeblic', 'and', 'on', 'the', 'world', 'serviceof', 'thatmy', 'futher', 'staying', 'in', 'the', 'country', 'which', 'will', 'no', 'longer', 'savebefore', 'the', 'coupof', 'my', 'husband', 'were', 'in', 'wast', 'african', 'ivory', 'coasthe', 'deposited', 'millionus', 'dollars', 'in', 'general', 'trust', 'suspense', 'account', 'on', 'our', 'behalfnow', 'i', 'want', 'youto', 'act', 'as', 'my', 'foriegn', 'partanr', 'whom', 'will', 'provide', 'account', 'to', 'trasacfer', 'thisfound', 'into', 'your', 'bank', 'account', 'in', 'your', 'country', 'to', 'bee', 'safe', 'because', 'of', 'thenew', 'goverment', 'of', 'our', 'country', 'it', 'is', 'only', 'opportunig', 'left', 'for', 'me', 'to', 'take', 'careof', 'my', 'noly', 'son', 'behind', 'by', 'my', 'husband', 'as', 'cirumstamces', 'surrounding', 'his', 'arrestby', 'goverment', 'troops', 'was', 'not', 'knew', 'up', 'till', 'nowdear', 'i', 'will', 'send', 'you', 'all', 'myhusband', 'documents', 'essure', 'in', 'the', 'bank', 'on', 'the', 'day', 'of', 'deposit', 'to', 'contact', 'thebank', 'immedtiately', 'for', 'changing'])\n",
      " list(['emailmessagemessage', 'object', 'xde'])\n",
      " list(['emailmessagemessage', 'object', 'xd', 'emailmessagemessage', 'object', 'xda'])\n",
      " ...\n",
      " list(['carmax', 'showed', '', 'bid', 'ill', 'sell', '', 'original', 'messagefrom', 'lenhart', 'matthew', 'senttuesday', 'august', '', '', '', 'amtodorland', 'chrissubjectre', 'what', 'cheap', 'original', 'messagefrom', 'dorland', 'chris', 'senttuesday', 'august', '', '', '', 'amtolenhart', 'matthewsubjectcaptain', 'americawhat', 'driving', 'days', 'im', 'selling', 'car', 'cheap', 'cost', 'fortune', 'take', 'back', 'canada', '', 'lexus', 'is', '', 'silver', 'black', 'leather', 'interior', 'totally', 'loaded', '', 'miles', 'it', 'let', 'know', 'buddies', 'want', 'check', 'outchris'])\n",
      " list(['jbarry', 'wants', 'know', 'lawyers', 'seen', 'documents', 'provided', 'cdwr', 'let', 'know', 'take', 'isthankskim'])\n",
      " list(['imeldacould', 'please', 'remap', 'hpl', 'meter', '', 'ifhplshpchan', 'mid', 'market', 'curve', 'please', 'keep', 'mappings', 'zone', 'point', 'same', 'thanksericx'])]\n"
     ]
    }
   ],
   "source": [
    "print(\"Shape of combined data represented as numpy array is:\")\n",
    "print(raw_data.shape)\n",
    "print(\"Data represented as numpy array is:\")\n",
    "print(raw_data)\n",
    "\n",
    "# corresponding labels\n",
    "Categories = ['spam','notspam']\n",
    "header = ([1]*Nsamp)\n",
    "header.extend(([0]*Nsamp))"
   ]
  },
  {
   "cell_type": "code",
   "execution_count": 10,
   "metadata": {
    "colab": {
     "base_uri": "https://localhost:8080/"
    },
    "id": "savcEBXhQslf",
    "outputId": "5d24d700-3a57-43a3-8dc0-ee045b8dd714"
   },
   "outputs": [
    {
     "name": "stdout",
     "output_type": "stream",
     "text": [
      "train_x/train_y list details, to make sure it is of the right form:\n",
      "1200\n",
      "[['mr peter langpostfach  bern switzerlandimperative and private i contacting business transfer huge sum money deceased account though i know transaction magnitude make one apprehensive worried i assuring will well end day we decided contact due urgency transaction proposition we discovered abandoned sum us seven million five hundred thousand united states dollars account belongs one foreign customers died along entire family since death none nextofkin relations come forward lay claims money heir we cannot release fund account unless someone applies claim as nextofkin deceased indicated banking guidelines upon discovery seek permission stand next kin deceased documentations carefully worked us funds us released favour beneficiarys next kin it may interest']\n",
      " ['jeff confirming initiating call tonightmark d guinney cfaconsultantwatson wyatt investment consulting california street ste san francisco ca   ph  fax']\n",
      " ['sunoco sun oil companyltdtrusty kojimachi bldg kojimachichiyodakutokyo  japanwwwsunococojpaboutindexhtml cashier neededi mr hiroshi iguchi president japan sun oilcompany ltd japan sun oil company ltd asubsidiary world renown usmultienergyproducer sunoco inc japan asian regions are producing marketing high qualityspecialty lubricants also petroleum energyproducts we specialized refrigeration oils rubber process oils metalworking oils industrial  lubricantsautomotive lubricants etc we searching representatives help usestablish medium getting customers thecanadaamerica nearby countries well asmaking payments us sunoco inc wasestablished  entering new era wherethe demand continuous improvement expansionis far beyond perceived required afew years ago corporate entities constantlystriving perfection knowing well thattomorrowwill yet another challenge with newhorizons unfold us difficulty ofventuring unknown requires preparationexperience creativity motivation we japan sunoil company ltd take challenge look tothe expansion horizons pleasure']\n",
      " ...\n",
      " ['emailmessagemessage object xd emailmessagemessage object xdd']\n",
      " ['thanxcd']\n",
      " ['mr peter langpostfach  bern switzerlandimperative and private i contacting business transfer huge sum money deceased account though i know transaction magnitude make one apprehensive worried i assuring will well end day we decided contact due urgency transaction proposition we discovered abandoned sum us seven million five hundred thousand united states dollars account belongs one foreign customers died along entire family since death none nextofkin relations come forward lay claims money heir we cannot release fund account unless someone applies claim as nextofkin deceased indicated banking guidelines upon discovery seek permission stand next kin deceased documentations carefully worked us funds us released favour beneficiarys next kin it may interest']]\n",
      "[1 0 1 0 1]\n",
      "(1200,)\n"
     ]
    }
   ],
   "source": [
    "# function for shuffling data in unison with labels/header\n",
    "def unison_shuffle(a, b):\n",
    "    p = np.random.permutation(len(b))\n",
    "    data = a[p]\n",
    "    header = np.asarray(b)[p]\n",
    "    return data, header\n",
    "\n",
    "# function for converting data into the right format, due to the difference in required format from sklearn models\n",
    "# we expect a single string per email here, versus a list of tokens for the sklearn models previously explored\n",
    "def convert_data(raw_data,header):\n",
    "    converted_data, labels = [], []\n",
    "    for i in range(raw_data.shape[0]):\n",
    "        out = ' '.join(raw_data[i])\n",
    "        converted_data.append(out)\n",
    "        labels.append(header[i])\n",
    "        #print(i)\n",
    "    converted_data = np.array(converted_data, dtype=object)[:, np.newaxis]\n",
    "\n",
    "    return converted_data, np.array(labels)\n",
    "\n",
    "raw_data, header = unison_shuffle(raw_data, header)\n",
    "\n",
    "# split into independent 70% training and 30% testing sets\n",
    "#idx = int(0.6*raw_data.shape[0])\n",
    "# 70% of data for training\n",
    "#train_x, train_y = convert_data(raw_data[:idx],header[:idx])\n",
    "# remaining 30% for testing\n",
    "#valid_x, valid_y = convert_data(raw_data[idx:],header[idx:])\n",
    "\n",
    "total_size = raw_data.shape[0]\n",
    "\n",
    "# Calculate indices\n",
    "idx_train = int(0.6 * total_size)  # end of training set\n",
    "idx_val = int(0.8 * total_size)  # end of validation set\n",
    "\n",
    "# Split the data\n",
    "train_x, train_y = convert_data(raw_data[:idx_train], header[:idx_train])\n",
    "val_x, val_y = convert_data(raw_data[idx_train:idx_val], header[idx_train:idx_val])\n",
    "test_x, test_y = convert_data(raw_data[idx_val:], header[idx_val:])\n",
    "\n",
    "print(\"train_x/train_y list details, to make sure it is of the right form:\")\n",
    "print(len(train_x))\n",
    "print(train_x)\n",
    "print(train_y[:5])\n",
    "print(train_y.shape)"
   ]
  },
  {
   "cell_type": "code",
   "execution_count": 11,
   "metadata": {
    "colab": {
     "base_uri": "https://localhost:8080/"
    },
    "id": "--G921D3QX2E",
    "outputId": "1cdac3f6-635c-4d50-a350-200fe2c5140f"
   },
   "outputs": [
    {
     "name": "stdout",
     "output_type": "stream",
     "text": [
      "Collecting transformers\n",
      "  Downloading transformers-4.31.0-py3-none-any.whl (7.4 MB)\n",
      "\u001b[2K     \u001b[90m━━━━━━━━━━━━━━━━━━━━━━━━━━━━━━━━━━━━━━━━\u001b[0m \u001b[32m7.4/7.4 MB\u001b[0m \u001b[31m14.5 MB/s\u001b[0m eta \u001b[36m0:00:00\u001b[0m\n",
      "\u001b[?25hRequirement already satisfied: filelock in /usr/local/lib/python3.10/dist-packages (from transformers) (3.12.2)\n",
      "Collecting huggingface-hub<1.0,>=0.14.1 (from transformers)\n",
      "  Downloading huggingface_hub-0.16.4-py3-none-any.whl (268 kB)\n",
      "\u001b[2K     \u001b[90m━━━━━━━━━━━━━━━━━━━━━━━━━━━━━━━━━━━━━━\u001b[0m \u001b[32m268.8/268.8 kB\u001b[0m \u001b[31m22.1 MB/s\u001b[0m eta \u001b[36m0:00:00\u001b[0m\n",
      "\u001b[?25hRequirement already satisfied: numpy>=1.17 in /usr/local/lib/python3.10/dist-packages (from transformers) (1.22.4)\n",
      "Requirement already satisfied: packaging>=20.0 in /usr/local/lib/python3.10/dist-packages (from transformers) (23.1)\n",
      "Requirement already satisfied: pyyaml>=5.1 in /usr/local/lib/python3.10/dist-packages (from transformers) (6.0.1)\n",
      "Requirement already satisfied: regex!=2019.12.17 in /usr/local/lib/python3.10/dist-packages (from transformers) (2022.10.31)\n",
      "Requirement already satisfied: requests in /usr/local/lib/python3.10/dist-packages (from transformers) (2.27.1)\n",
      "Collecting tokenizers!=0.11.3,<0.14,>=0.11.1 (from transformers)\n",
      "  Downloading tokenizers-0.13.3-cp310-cp310-manylinux_2_17_x86_64.manylinux2014_x86_64.whl (7.8 MB)\n",
      "\u001b[2K     \u001b[90m━━━━━━━━━━━━━━━━━━━━━━━━━━━━━━━━━━━━━━━━\u001b[0m \u001b[32m7.8/7.8 MB\u001b[0m \u001b[31m36.9 MB/s\u001b[0m eta \u001b[36m0:00:00\u001b[0m\n",
      "\u001b[?25hCollecting safetensors>=0.3.1 (from transformers)\n",
      "  Downloading safetensors-0.3.1-cp310-cp310-manylinux_2_17_x86_64.manylinux2014_x86_64.whl (1.3 MB)\n",
      "\u001b[2K     \u001b[90m━━━━━━━━━━━━━━━━━━━━━━━━━━━━━━━━━━━━━━━━\u001b[0m \u001b[32m1.3/1.3 MB\u001b[0m \u001b[31m48.4 MB/s\u001b[0m eta \u001b[36m0:00:00\u001b[0m\n",
      "\u001b[?25hRequirement already satisfied: tqdm>=4.27 in /usr/local/lib/python3.10/dist-packages (from transformers) (4.65.0)\n",
      "Requirement already satisfied: fsspec in /usr/local/lib/python3.10/dist-packages (from huggingface-hub<1.0,>=0.14.1->transformers) (2023.6.0)\n",
      "Requirement already satisfied: typing-extensions>=3.7.4.3 in /usr/local/lib/python3.10/dist-packages (from huggingface-hub<1.0,>=0.14.1->transformers) (4.7.1)\n",
      "Requirement already satisfied: urllib3<1.27,>=1.21.1 in /usr/local/lib/python3.10/dist-packages (from requests->transformers) (1.26.16)\n",
      "Requirement already satisfied: certifi>=2017.4.17 in /usr/local/lib/python3.10/dist-packages (from requests->transformers) (2023.7.22)\n",
      "Requirement already satisfied: charset-normalizer~=2.0.0 in /usr/local/lib/python3.10/dist-packages (from requests->transformers) (2.0.12)\n",
      "Requirement already satisfied: idna<4,>=2.5 in /usr/local/lib/python3.10/dist-packages (from requests->transformers) (3.4)\n",
      "Installing collected packages: tokenizers, safetensors, huggingface-hub, transformers\n",
      "Successfully installed huggingface-hub-0.16.4 safetensors-0.3.1 tokenizers-0.13.3 transformers-4.31.0\n"
     ]
    }
   ],
   "source": [
    "!pip install transformers"
   ]
  },
  {
   "cell_type": "code",
   "execution_count": 12,
   "metadata": {
    "id": "AXyNbmmEQ8N5"
   },
   "outputs": [],
   "source": [
    "import tensorflow as tf\n",
    "from transformers import TFRobertaForSequenceClassification, RobertaTokenizer\n",
    "from sklearn.model_selection import train_test_split\n",
    "from sklearn.preprocessing import LabelEncoder\n",
    "import pandas as pd"
   ]
  },
  {
   "cell_type": "code",
   "execution_count": 13,
   "metadata": {
    "colab": {
     "base_uri": "https://localhost:8080/",
     "height": 113,
     "referenced_widgets": [
      "41b01f99b06745209e8108d5c0a4f9a5",
      "21cfc53c41864ddbb555f98b54ddbae3",
      "eed3382cf5a74284ab2a1a332931016a",
      "eaf6cc7dabf7492dab51da8bc144f072",
      "fc92122d02254fe69d640960c77e39b8",
      "db93475de7c34987b8c695598b38e48d",
      "20bcc5180b5549bca84be2b1993bfa49",
      "15c2870013fd43928a1342ad90d4ebe2",
      "7ef0a80449e34ceaa01aaf8bba85b4ad",
      "ca29cd9344da4b3b94d5eeca5dbee1d3",
      "9efdd8e717c3464ca7478ad544b48e36",
      "06eed7a0fef04a46a7d29a9b31b6c3fd",
      "7358154811bb4a00b13793400433e548",
      "8c6381655b9f403e9027cd1d460bdad1",
      "f6833866b5bd42b3be8152b3ecf46e91",
      "dde840174f164f74a9c609d18fd683f3",
      "189d3ca392b84eb48fbb8682a20e89b0",
      "c2d1132eb0ce437c9810daa035e40d9b",
      "5771b9302005446c9fcae4bcc946c4d1",
      "c83adfd74d3c40e19fb4642fb3ce5400",
      "d637b408a8c548ffbb27f62549fd7d1f",
      "59bb0783c92b49d4ad8ddd80cef9953c",
      "67f54f7bcbd64e65ab03b85ec1b5834c",
      "fd5c8ab6750b4c4f94788ef5a878d6d3",
      "28f5732af051476b9b37029b09ea2844",
      "a11eaf2881ab4cfd8dc7381d7f7870f2",
      "8ca0a8f541c6442f9765ebd3b59c90c9",
      "f6b8652abfc6441fa128d5122d23f0e3",
      "3a61929a2a07450b88f74a7e9eeb944f",
      "0e7bc217a06049769a9eea91da50e8b7",
      "5f4639a6df3245368a64f0953fade448",
      "580a9e9e19504e66bae296d8eabe350e",
      "719ee5152aa74aa8aaab39d5e721e3a2"
     ]
    },
    "id": "pt7Bm6_rQ8Sb",
    "outputId": "91e83a09-345a-4b8f-d0c6-1af281e92b52"
   },
   "outputs": [
    {
     "data": {
      "application/vnd.jupyter.widget-view+json": {
       "model_id": "41b01f99b06745209e8108d5c0a4f9a5",
       "version_major": 2,
       "version_minor": 0
      },
      "text/plain": [
       "Downloading (…)olve/main/vocab.json:   0%|          | 0.00/899k [00:00<?, ?B/s]"
      ]
     },
     "metadata": {},
     "output_type": "display_data"
    },
    {
     "data": {
      "application/vnd.jupyter.widget-view+json": {
       "model_id": "06eed7a0fef04a46a7d29a9b31b6c3fd",
       "version_major": 2,
       "version_minor": 0
      },
      "text/plain": [
       "Downloading (…)olve/main/merges.txt:   0%|          | 0.00/456k [00:00<?, ?B/s]"
      ]
     },
     "metadata": {},
     "output_type": "display_data"
    },
    {
     "data": {
      "application/vnd.jupyter.widget-view+json": {
       "model_id": "67f54f7bcbd64e65ab03b85ec1b5834c",
       "version_major": 2,
       "version_minor": 0
      },
      "text/plain": [
       "Downloading (…)lve/main/config.json:   0%|          | 0.00/481 [00:00<?, ?B/s]"
      ]
     },
     "metadata": {},
     "output_type": "display_data"
    }
   ],
   "source": [
    "# Load the tokenizer\n",
    "tokenizer = RobertaTokenizer.from_pretrained('roberta-base')"
   ]
  },
  {
   "cell_type": "code",
   "execution_count": 32,
   "metadata": {
    "id": "ATJVcrEcRhxw"
   },
   "outputs": [],
   "source": [
    "train_x_list = train_x.flatten().tolist()\n",
    "train_encodings = tokenizer(train_x_list, truncation=True, padding=True, max_length=256)\n"
   ]
  },
  {
   "cell_type": "code",
   "execution_count": 45,
   "metadata": {
    "id": "Hl2-b2GZUUgi"
   },
   "outputs": [],
   "source": [
    "val_x_list = val_x.flatten().tolist()\n",
    "valid_encodings = tokenizer(val_x_list, truncation=True, padding=True, max_length=256)\n"
   ]
  },
  {
   "cell_type": "code",
   "execution_count": 46,
   "metadata": {
    "id": "43hVZAspUUov"
   },
   "outputs": [],
   "source": [
    "test_x_list = test_x.flatten().tolist()\n",
    "test_encodings = tokenizer(test_x_list, truncation=True, padding=True, max_length=256)\n"
   ]
  },
  {
   "cell_type": "code",
   "execution_count": 47,
   "metadata": {
    "colab": {
     "base_uri": "https://localhost:8080/"
    },
    "id": "Axqcpwc5VbBs",
    "outputId": "f70dde44-b854-4de3-b35c-a60ff3e7e1ba"
   },
   "outputs": [
    {
     "name": "stdout",
     "output_type": "stream",
     "text": [
      "1200\n",
      "1200\n"
     ]
    }
   ],
   "source": [
    "print(len(train_encodings['input_ids']))  # The length of encoded texts\n",
    "print(len(train_y))  # The length of labels\n"
   ]
  },
  {
   "cell_type": "code",
   "execution_count": 48,
   "metadata": {
    "colab": {
     "base_uri": "https://localhost:8080/"
    },
    "id": "TQ7Mp-FDVFXw",
    "outputId": "59fad31d-196f-4c18-8aeb-e8fa3e3d7dd5"
   },
   "outputs": [
    {
     "name": "stdout",
     "output_type": "stream",
     "text": [
      "400\n",
      "400\n"
     ]
    }
   ],
   "source": [
    "print(len(valid_encodings['input_ids']))  # The length of encoded texts\n",
    "print(len(val_y))  # The length of labels\n"
   ]
  },
  {
   "cell_type": "code",
   "execution_count": 49,
   "metadata": {
    "colab": {
     "base_uri": "https://localhost:8080/"
    },
    "id": "AEurq9ClVcwX",
    "outputId": "0f3e0c18-36d2-49b9-a9b7-fb414147c5f2"
   },
   "outputs": [
    {
     "name": "stdout",
     "output_type": "stream",
     "text": [
      "400\n",
      "400\n"
     ]
    }
   ],
   "source": [
    "print(len(test_encodings['input_ids']))  # The length of encoded texts\n",
    "print(len(test_y))  # The length of labels\n"
   ]
  },
  {
   "cell_type": "code",
   "execution_count": 50,
   "metadata": {
    "id": "5XzyD8WvQ8bT"
   },
   "outputs": [],
   "source": [
    "# Convert the data to TensorFlow tensors\n",
    "train_dataset_tf = tf.data.Dataset.from_tensor_slices((\n",
    "    dict(train_encodings),\n",
    "    train_y\n",
    "))\n",
    "valid_dataset_tf = tf.data.Dataset.from_tensor_slices((\n",
    "    dict(valid_encodings),\n",
    "    val_y\n",
    "))\n",
    "test_dataset = tf.data.Dataset.from_tensor_slices((\n",
    "    dict(test_encodings),\n",
    "    test_y\n",
    "))"
   ]
  },
  {
   "cell_type": "code",
   "execution_count": 51,
   "metadata": {
    "colab": {
     "base_uri": "https://localhost:8080/",
     "height": 158,
     "referenced_widgets": [
      "4432797278e64451b2e799f29d0a2abf",
      "59a66d5f0613427ab85b51e95c06ce31",
      "9de735bbf564460c9ec61f167cfc82c2",
      "06f77c3a2c644d3c881b957f265fa15e",
      "96f8ae90c6a9455f85ddbb202f5922e4",
      "4fbc46949b6845c5ad2213c7d7ccb6ed",
      "d7762ddba2144c8fba3b9038512e2559",
      "c02225ef5016497c81ae00e59b9f88b7",
      "a6c7e93881ce4250927a1f40421406c2",
      "51a2ce5d21974662bb08e6791199fda7",
      "305003b3d2b84012a4e7ee82110d7b82"
     ]
    },
    "id": "so0Ax0t8Q8gU",
    "outputId": "1ba4941b-2026-4acb-ed36-222cea63cec8"
   },
   "outputs": [
    {
     "data": {
      "application/vnd.jupyter.widget-view+json": {
       "model_id": "4432797278e64451b2e799f29d0a2abf",
       "version_major": 2,
       "version_minor": 0
      },
      "text/plain": [
       "Downloading model.safetensors:   0%|          | 0.00/499M [00:00<?, ?B/s]"
      ]
     },
     "metadata": {},
     "output_type": "display_data"
    },
    {
     "name": "stderr",
     "output_type": "stream",
     "text": [
      "Some weights of the PyTorch model were not used when initializing the TF 2.0 model TFRobertaForSequenceClassification: ['roberta.embeddings.position_ids']\n",
      "- This IS expected if you are initializing TFRobertaForSequenceClassification from a PyTorch model trained on another task or with another architecture (e.g. initializing a TFBertForSequenceClassification model from a BertForPreTraining model).\n",
      "- This IS NOT expected if you are initializing TFRobertaForSequenceClassification from a PyTorch model that you expect to be exactly identical (e.g. initializing a TFBertForSequenceClassification model from a BertForSequenceClassification model).\n",
      "Some weights or buffers of the TF 2.0 model TFRobertaForSequenceClassification were not initialized from the PyTorch model and are newly initialized: ['classifier.dense.weight', 'classifier.dense.bias', 'classifier.out_proj.weight', 'classifier.out_proj.bias']\n",
      "You should probably TRAIN this model on a down-stream task to be able to use it for predictions and inference.\n"
     ]
    }
   ],
   "source": [
    "model = TFRobertaForSequenceClassification.from_pretrained('roberta-base')"
   ]
  },
  {
   "cell_type": "code",
   "execution_count": 52,
   "metadata": {
    "id": "yFlSFUONQX7_"
   },
   "outputs": [],
   "source": [
    "\n",
    "# Compile the model\n",
    "model.compile(optimizer=tf.keras.optimizers.Adam(learning_rate=1e-5),\n",
    "              loss=tf.keras.losses.SparseCategoricalCrossentropy(from_logits=True),\n",
    "              metrics=['accuracy'])"
   ]
  },
  {
   "cell_type": "code",
   "execution_count": 53,
   "metadata": {
    "id": "CFloICO9S8e6"
   },
   "outputs": [],
   "source": [
    "\n"
   ]
  },
  {
   "cell_type": "code",
   "execution_count": 54,
   "metadata": {
    "colab": {
     "base_uri": "https://localhost:8080/"
    },
    "id": "41tQ5e-4S9DP",
    "outputId": "084a3691-f996-45b1-a0af-f197b1a2a42e"
   },
   "outputs": [
    {
     "metadata": {
      "tags": null
     },
     "name": "stderr",
     "output_type": "stream",
     "text": [
      "WARNING:tensorflow:AutoGraph could not transform <function Model.make_train_function.<locals>.train_function at 0x791ace6bdcf0> and will run it as-is.\n",
      "Cause: Unable to locate the source code of <function Model.make_train_function.<locals>.train_function at 0x791ace6bdcf0>. Note that functions defined in certain environments, like the interactive Python shell, do not expose their source code. If that is the case, you should define them in a .py source file. If you are certain the code is graph-compatible, wrap the call using @tf.autograph.experimental.do_not_convert. Original error: could not get source code\n",
      "To silence this warning, decorate the function with @tf.autograph.experimental.do_not_convert\n"
     ]
    },
    {
     "name": "stdout",
     "output_type": "stream",
     "text": [
      "WARNING: AutoGraph could not transform <function Model.make_train_function.<locals>.train_function at 0x791ace6bdcf0> and will run it as-is.\n",
      "Cause: Unable to locate the source code of <function Model.make_train_function.<locals>.train_function at 0x791ace6bdcf0>. Note that functions defined in certain environments, like the interactive Python shell, do not expose their source code. If that is the case, you should define them in a .py source file. If you are certain the code is graph-compatible, wrap the call using @tf.autograph.experimental.do_not_convert. Original error: could not get source code\n",
      "To silence this warning, decorate the function with @tf.autograph.experimental.do_not_convert\n",
      "75/75 [==============================] - ETA: 0s - loss: 0.2851 - accuracy: 0.8942 "
     ]
    },
    {
     "name": "stderr",
     "output_type": "stream",
     "text": [
      "WARNING:tensorflow:AutoGraph could not transform <function Model.make_test_function.<locals>.test_function at 0x791aab259990> and will run it as-is.\n",
      "Cause: Unable to locate the source code of <function Model.make_test_function.<locals>.test_function at 0x791aab259990>. Note that functions defined in certain environments, like the interactive Python shell, do not expose their source code. If that is the case, you should define them in a .py source file. If you are certain the code is graph-compatible, wrap the call using @tf.autograph.experimental.do_not_convert. Original error: could not get source code\n",
      "To silence this warning, decorate the function with @tf.autograph.experimental.do_not_convert\n"
     ]
    },
    {
     "name": "stdout",
     "output_type": "stream",
     "text": [
      "WARNING: AutoGraph could not transform <function Model.make_test_function.<locals>.test_function at 0x791aab259990> and will run it as-is.\n",
      "Cause: Unable to locate the source code of <function Model.make_test_function.<locals>.test_function at 0x791aab259990>. Note that functions defined in certain environments, like the interactive Python shell, do not expose their source code. If that is the case, you should define them in a .py source file. If you are certain the code is graph-compatible, wrap the call using @tf.autograph.experimental.do_not_convert. Original error: could not get source code\n",
      "To silence this warning, decorate the function with @tf.autograph.experimental.do_not_convert\n",
      "75/75 [==============================] - 4951s 65s/step - loss: 0.2851 - accuracy: 0.8942 - val_loss: 0.0493 - val_accuracy: 0.9875\n"
     ]
    },
    {
     "data": {
      "text/plain": [
       "<keras.callbacks.History at 0x791ace73cd00>"
      ]
     },
     "execution_count": 54,
     "metadata": {},
     "output_type": "execute_result"
    }
   ],
   "source": [
    "\n",
    "# Train the model\n",
    "model.fit(train_dataset_tf.shuffle(1000).batch(16), epochs=1, batch_size=16, validation_data=valid_dataset_tf.batch(16) )"
   ]
  },
  {
   "cell_type": "code",
   "execution_count": 57,
   "metadata": {
    "id": "SkapjSGds-hR"
   },
   "outputs": [],
   "source": [
    "test_dataset_batched = test_dataset.batch(16)"
   ]
  },
  {
   "cell_type": "code",
   "execution_count": 58,
   "metadata": {
    "colab": {
     "base_uri": "https://localhost:8080/"
    },
    "id": "N40jrCldS9Ik",
    "outputId": "b3025eae-5bc5-4b04-89e1-c46cda7bf6d1"
   },
   "outputs": [
    {
     "name": "stdout",
     "output_type": "stream",
     "text": [
      "25/25 [==============================] - 474s 18s/step\n"
     ]
    }
   ],
   "source": [
    "predict = model.predict(test_dataset_batched)"
   ]
  },
  {
   "cell_type": "code",
   "execution_count": 61,
   "metadata": {
    "colab": {
     "base_uri": "https://localhost:8080/"
    },
    "id": "tjooYkjsv1ay",
    "outputId": "5523151e-2d8e-436a-aafd-261895577b5f"
   },
   "outputs": [
    {
     "data": {
      "text/plain": [
       "TFSequenceClassifierOutput(loss=None, logits=array([[-2.3925953 ,  2.519008  ],\n",
       "       [ 2.4782257 , -2.119537  ],\n",
       "       [-2.4543688 ,  2.5545893 ],\n",
       "       [ 2.0464957 , -1.8648783 ],\n",
       "       [-2.4362664 ,  2.567041  ],\n",
       "       [ 2.3234994 , -2.1407754 ],\n",
       "       [ 2.5624871 , -2.2931182 ],\n",
       "       [ 2.5615883 , -2.22689   ],\n",
       "       [ 2.4788928 , -2.1881914 ],\n",
       "       [-2.4242406 ,  2.5370417 ],\n",
       "       [ 2.5244892 , -2.2806783 ],\n",
       "       [-2.5116146 ,  2.595423  ],\n",
       "       [-2.5371218 ,  2.5298042 ],\n",
       "       [ 2.4076655 , -2.0619328 ],\n",
       "       [-2.2886238 ,  2.357355  ],\n",
       "       [ 2.230729  , -1.9780084 ],\n",
       "       [-2.404131  ,  2.5036783 ],\n",
       "       [-2.3335953 ,  2.3759427 ],\n",
       "       [ 2.501865  , -2.1430643 ],\n",
       "       [ 2.0564075 , -1.8866465 ],\n",
       "       [ 1.9700632 , -1.8024687 ],\n",
       "       [-2.4690537 ,  2.598548  ],\n",
       "       [-2.4728963 ,  2.5641425 ],\n",
       "       [ 2.5039816 , -2.1805983 ],\n",
       "       [ 2.3484223 , -2.0966306 ],\n",
       "       [ 1.8033315 , -1.690463  ],\n",
       "       [-2.4962683 ,  2.5482616 ],\n",
       "       [ 2.5743995 , -2.2652063 ],\n",
       "       [ 2.3976445 , -2.1183925 ],\n",
       "       [ 2.5007877 , -2.199383  ],\n",
       "       [-2.5147908 ,  2.5418434 ],\n",
       "       [ 2.5259182 , -2.2326446 ],\n",
       "       [-2.5380104 ,  2.5389824 ],\n",
       "       [-2.4701126 ,  2.5395813 ],\n",
       "       [-2.499893  ,  2.5811024 ],\n",
       "       [ 2.2572274 , -2.1203697 ],\n",
       "       [-2.4794202 ,  2.5763128 ],\n",
       "       [-2.4614043 ,  2.5019102 ],\n",
       "       [ 2.5463026 , -2.2176342 ],\n",
       "       [ 2.4419801 , -2.1161454 ],\n",
       "       [ 2.5827742 , -2.2020304 ],\n",
       "       [ 2.593072  , -2.3414037 ],\n",
       "       [ 2.0266578 , -1.9483988 ],\n",
       "       [ 2.4324214 , -2.148044  ],\n",
       "       [ 2.4595666 , -2.1462226 ],\n",
       "       [-2.5370138 ,  2.5509639 ],\n",
       "       [-2.3491297 ,  2.3808522 ],\n",
       "       [ 2.5914924 , -2.2890823 ],\n",
       "       [ 2.246472  , -2.0804696 ],\n",
       "       [ 2.4944844 , -2.1149304 ],\n",
       "       [ 2.483972  , -2.2280583 ],\n",
       "       [ 2.4380155 , -2.1128833 ],\n",
       "       [-2.4889724 ,  2.5788646 ],\n",
       "       [ 1.5615276 , -1.3602833 ],\n",
       "       [-2.4127083 ,  2.471106  ],\n",
       "       [-2.5092647 ,  2.568489  ],\n",
       "       [-2.2335107 ,  2.2196891 ],\n",
       "       [-2.289843  ,  2.4443069 ],\n",
       "       [ 1.685416  , -1.5262814 ],\n",
       "       [-2.4875326 ,  2.5421572 ],\n",
       "       [-2.4469934 ,  2.4121156 ],\n",
       "       [-2.4519334 ,  2.5044575 ],\n",
       "       [ 2.352655  , -2.2778018 ],\n",
       "       [-2.5001736 ,  2.529567  ],\n",
       "       [ 2.3362312 , -2.1275916 ],\n",
       "       [ 2.2196038 , -1.8666389 ],\n",
       "       [ 2.3649018 , -2.103593  ],\n",
       "       [ 2.4831672 , -2.1567917 ],\n",
       "       [ 2.5368927 , -2.2638154 ],\n",
       "       [ 2.1070368 , -2.0705664 ],\n",
       "       [ 2.592317  , -2.206859  ],\n",
       "       [-2.4360974 ,  2.5360246 ],\n",
       "       [ 2.4132571 , -2.1489832 ],\n",
       "       [ 2.2972178 , -2.1118798 ],\n",
       "       [-2.4518387 ,  2.5513546 ],\n",
       "       [-2.4753096 ,  2.5837438 ],\n",
       "       [-2.3278978 ,  2.3921545 ],\n",
       "       [ 2.37963   , -2.0738947 ],\n",
       "       [ 2.1056056 , -1.9915956 ],\n",
       "       [-2.3591285 ,  2.421184  ],\n",
       "       [-0.7720822 ,  0.83638966],\n",
       "       [-2.5148747 ,  2.588386  ],\n",
       "       [ 2.3520384 , -2.0241032 ],\n",
       "       [ 1.7395276 , -1.7880201 ],\n",
       "       [ 2.3995497 , -2.1510553 ],\n",
       "       [-2.2452536 ,  2.292801  ],\n",
       "       [ 2.606657  , -2.2572901 ],\n",
       "       [ 2.3747082 , -2.121818  ],\n",
       "       [ 2.2906306 , -2.0768828 ],\n",
       "       [-2.5091662 ,  2.5697522 ],\n",
       "       [ 2.1743612 , -1.9321227 ],\n",
       "       [-2.4983585 ,  2.5033293 ],\n",
       "       [ 2.541064  , -2.1914394 ],\n",
       "       [-2.36783   ,  2.3475628 ],\n",
       "       [-2.4786472 ,  2.5096753 ],\n",
       "       [ 0.68668807, -0.61850816],\n",
       "       [-2.501099  ,  2.5945354 ],\n",
       "       [ 2.5280778 , -2.2188444 ],\n",
       "       [ 2.4435554 , -2.1324978 ],\n",
       "       [ 1.982124  , -1.6609766 ],\n",
       "       [ 2.5346038 , -2.163094  ],\n",
       "       [-2.1437016 ,  2.209629  ],\n",
       "       [-2.49047   ,  2.5562203 ],\n",
       "       [-2.5108442 ,  2.5390177 ],\n",
       "       [-2.469071  ,  2.4924045 ],\n",
       "       [ 2.3483396 , -2.0996501 ],\n",
       "       [ 2.4198644 , -2.152175  ],\n",
       "       [-2.4734025 ,  2.570722  ],\n",
       "       [-2.4953728 ,  2.5751488 ],\n",
       "       [ 1.6014833 , -1.4299206 ],\n",
       "       [-2.3361883 ,  2.3589845 ],\n",
       "       [-2.4676468 ,  2.5062547 ],\n",
       "       [ 2.4906917 , -2.1103523 ],\n",
       "       [-2.3553932 ,  2.2502794 ],\n",
       "       [ 2.338964  , -1.9718916 ],\n",
       "       [ 1.992568  , -1.8541037 ],\n",
       "       [-2.4592729 ,  2.56461   ],\n",
       "       [-2.2474866 ,  2.409081  ],\n",
       "       [ 1.9866048 , -1.7980424 ],\n",
       "       [-2.268006  ,  2.4209282 ],\n",
       "       [ 2.0220542 , -1.8897363 ],\n",
       "       [ 2.1587512 , -2.1042783 ],\n",
       "       [-2.4971633 ,  2.515563  ],\n",
       "       [ 1.9801391 , -1.7771055 ],\n",
       "       [-2.4460592 ,  2.5296803 ],\n",
       "       [ 2.5214663 , -2.1580684 ],\n",
       "       [ 2.3912199 , -2.0794816 ],\n",
       "       [-2.4640353 ,  2.5257154 ],\n",
       "       [-2.4419584 ,  2.5386882 ],\n",
       "       [-2.4507985 ,  2.5416975 ],\n",
       "       [ 1.8951315 , -1.5899916 ],\n",
       "       [ 2.405654  , -2.0718434 ],\n",
       "       [ 2.4022045 , -2.088771  ],\n",
       "       [-2.4774272 ,  2.5677013 ],\n",
       "       [ 2.3242388 , -2.1806746 ],\n",
       "       [ 1.8980633 , -1.7290869 ],\n",
       "       [ 2.3795786 , -2.1113703 ],\n",
       "       [-2.4732423 ,  2.5401764 ],\n",
       "       [-2.3574684 ,  2.4163387 ],\n",
       "       [-2.3330884 ,  2.3306985 ],\n",
       "       [-2.3178325 ,  2.3872862 ],\n",
       "       [ 2.530837  , -2.114595  ],\n",
       "       [ 2.1734042 , -1.8820187 ],\n",
       "       [-2.459486  ,  2.4911606 ],\n",
       "       [-2.488819  ,  2.5283096 ],\n",
       "       [-2.1656249 ,  2.139967  ],\n",
       "       [ 2.5761223 , -2.2029285 ],\n",
       "       [ 1.9267665 , -1.7130191 ],\n",
       "       [-2.4602528 ,  2.5816362 ],\n",
       "       [-2.446638  ,  2.5116653 ],\n",
       "       [-2.4572268 ,  2.5661855 ],\n",
       "       [-2.3278978 ,  2.3921545 ],\n",
       "       [-2.4822986 ,  2.5354729 ],\n",
       "       [ 2.25742   , -2.1600058 ],\n",
       "       [-2.4143686 ,  2.5784106 ],\n",
       "       [-2.2962334 ,  2.4302711 ],\n",
       "       [-2.4400914 ,  2.522301  ],\n",
       "       [-2.496249  ,  2.5373995 ],\n",
       "       [ 2.5825438 , -2.2871778 ],\n",
       "       [-2.1898715 ,  2.3315775 ],\n",
       "       [ 2.2630835 , -1.9043857 ],\n",
       "       [ 2.588453  , -2.2817965 ],\n",
       "       [ 2.5678287 , -2.291671  ],\n",
       "       [-2.2848237 ,  2.295457  ],\n",
       "       [-2.321591  ,  2.3780684 ],\n",
       "       [ 0.8814489 , -0.88897055],\n",
       "       [-2.340592  ,  2.4174051 ],\n",
       "       [-2.3346808 ,  2.357462  ],\n",
       "       [-2.498436  ,  2.580202  ],\n",
       "       [-2.3413045 ,  2.4113932 ],\n",
       "       [ 1.6184684 , -1.3646017 ],\n",
       "       [ 2.3449085 , -2.1702275 ],\n",
       "       [-2.307215  ,  2.3570657 ],\n",
       "       [-2.4632905 ,  2.556203  ],\n",
       "       [-2.3225126 ,  2.3586342 ],\n",
       "       [ 2.291326  , -2.019933  ],\n",
       "       [ 2.4724672 , -2.093245  ],\n",
       "       [-2.499373  ,  2.5455298 ],\n",
       "       [-2.4401817 ,  2.5357232 ],\n",
       "       [-2.437541  ,  2.5551345 ],\n",
       "       [ 2.5365934 , -2.2292638 ],\n",
       "       [-2.5272992 ,  2.5486646 ],\n",
       "       [ 2.588609  , -2.2320938 ],\n",
       "       [ 2.420443  , -2.223536  ],\n",
       "       [ 2.3659632 , -2.340617  ],\n",
       "       [-2.514229  ,  2.609777  ],\n",
       "       [-2.397814  ,  2.5348206 ],\n",
       "       [ 2.1169174 , -1.8527554 ],\n",
       "       [ 2.309631  , -2.108004  ],\n",
       "       [-2.3533516 ,  2.3909416 ],\n",
       "       [ 2.4988656 , -2.171451  ],\n",
       "       [ 2.3635235 , -2.009604  ],\n",
       "       [ 1.7545334 , -1.6000854 ],\n",
       "       [ 2.6022024 , -2.2712157 ],\n",
       "       [-2.3491297 ,  2.3808522 ],\n",
       "       [-2.333559  ,  2.4040327 ],\n",
       "       [ 2.4785588 , -2.2024105 ],\n",
       "       [-2.2811913 ,  2.3557851 ],\n",
       "       [-2.496472  ,  2.508316  ],\n",
       "       [-2.505141  ,  2.5233645 ],\n",
       "       [ 2.4705632 , -2.2173781 ],\n",
       "       [-2.499426  ,  2.5281591 ],\n",
       "       [ 2.5127857 , -2.2135816 ],\n",
       "       [ 2.3651166 , -2.1333385 ],\n",
       "       [ 2.316584  , -2.051848  ],\n",
       "       [ 2.3973188 , -2.165577  ],\n",
       "       [ 2.612053  , -2.3083615 ],\n",
       "       [ 2.0730855 , -1.8141824 ],\n",
       "       [ 2.341179  , -1.9949783 ],\n",
       "       [ 2.082909  , -1.8451189 ],\n",
       "       [ 2.4379566 , -2.1215317 ],\n",
       "       [ 2.4083943 , -2.2013693 ],\n",
       "       [-2.302793  ,  2.482383  ],\n",
       "       [ 2.4765823 , -2.1213088 ],\n",
       "       [-2.4878502 ,  2.5450864 ],\n",
       "       [ 2.2957792 , -2.0386064 ],\n",
       "       [-2.5216367 ,  2.6129663 ],\n",
       "       [-2.5487459 ,  2.539823  ],\n",
       "       [-2.3623452 ,  2.4190445 ],\n",
       "       [ 0.32776043, -0.3131613 ],\n",
       "       [ 2.0855975 , -1.9944249 ],\n",
       "       [-2.386127  ,  2.2837718 ],\n",
       "       [ 2.3360262 , -2.1489868 ],\n",
       "       [-2.4508593 ,  2.5123036 ],\n",
       "       [ 2.6265953 , -2.298729  ],\n",
       "       [ 1.9068348 , -1.7497151 ],\n",
       "       [-2.2906654 ,  2.4438887 ],\n",
       "       [-2.426667  ,  2.551969  ],\n",
       "       [-2.3391113 ,  2.3997319 ],\n",
       "       [ 1.9231993 , -1.8466169 ],\n",
       "       [ 2.5037994 , -2.316331  ],\n",
       "       [ 1.9842252 , -1.7965839 ],\n",
       "       [-2.2523673 ,  2.2344756 ],\n",
       "       [-2.4695714 ,  2.553554  ],\n",
       "       [ 2.6425147 , -2.259739  ],\n",
       "       [-2.291826  ,  2.4023542 ],\n",
       "       [ 2.5483215 , -2.3055253 ],\n",
       "       [ 2.152059  , -1.908566  ],\n",
       "       [ 2.1316395 , -1.983668  ],\n",
       "       [ 2.345542  , -2.0892787 ],\n",
       "       [-2.4855907 ,  2.5909503 ],\n",
       "       [-2.5443397 ,  2.5688617 ],\n",
       "       [ 1.7333487 , -1.4891902 ],\n",
       "       [-2.474512  ,  2.522705  ],\n",
       "       [ 2.3551333 , -2.0388947 ],\n",
       "       [ 2.532093  , -2.1733313 ],\n",
       "       [ 2.3747346 , -2.0544608 ],\n",
       "       [ 2.5119905 , -2.2338715 ],\n",
       "       [-2.2865484 ,  2.239709  ],\n",
       "       [-2.508851  ,  2.5683722 ],\n",
       "       [ 2.601709  , -2.2382624 ],\n",
       "       [-2.4480944 ,  2.510714  ],\n",
       "       [ 2.6271582 , -2.3295703 ],\n",
       "       [ 2.378034  , -2.176316  ],\n",
       "       [-2.4776845 ,  2.5056403 ],\n",
       "       [ 2.2163177 , -2.183046  ],\n",
       "       [-2.3029006 ,  2.4334    ],\n",
       "       [ 2.0402117 , -2.0352476 ],\n",
       "       [ 2.4759214 , -2.1204593 ],\n",
       "       [ 2.4315    , -2.049083  ],\n",
       "       [ 2.4221914 , -2.0952516 ],\n",
       "       [ 1.6391859 , -1.5159744 ],\n",
       "       [ 2.3105145 , -1.9905995 ],\n",
       "       [ 2.5042315 , -2.159868  ],\n",
       "       [-2.3977838 ,  2.4697976 ],\n",
       "       [ 2.566649  , -2.2138176 ],\n",
       "       [-2.424137  ,  2.4345708 ],\n",
       "       [ 2.5940766 , -2.3128603 ],\n",
       "       [ 2.3677583 , -2.0840497 ],\n",
       "       [ 2.3624187 , -2.082501  ],\n",
       "       [ 2.350296  , -2.1597247 ],\n",
       "       [-2.2923193 ,  2.4523087 ],\n",
       "       [ 1.9963919 , -1.9817291 ],\n",
       "       [ 2.5864763 , -2.3105335 ],\n",
       "       [-2.5069685 ,  2.5520759 ],\n",
       "       [ 2.6098871 , -2.3267336 ],\n",
       "       [-2.3280075 ,  2.3740103 ],\n",
       "       [-2.321757  ,  2.4844594 ],\n",
       "       [-2.531189  ,  2.5065176 ],\n",
       "       [-2.4347095 ,  2.51456   ],\n",
       "       [-2.2135372 ,  2.1080804 ],\n",
       "       [ 2.2786124 , -2.1947777 ],\n",
       "       [-2.3346808 ,  2.357462  ],\n",
       "       [ 2.4009035 , -2.2028794 ],\n",
       "       [-2.4636693 ,  2.5372043 ],\n",
       "       [-2.491046  ,  2.547761  ],\n",
       "       [ 2.6182742 , -2.2423203 ],\n",
       "       [-2.4984775 ,  2.5313907 ],\n",
       "       [ 2.4961216 , -2.1522453 ],\n",
       "       [-2.466401  ,  2.4548216 ],\n",
       "       [-2.4547772 ,  2.493166  ],\n",
       "       [-2.4853683 ,  2.5631192 ],\n",
       "       [ 2.6360688 , -2.2608688 ],\n",
       "       [-2.4792373 ,  2.5576022 ],\n",
       "       [-2.4736686 ,  2.538567  ],\n",
       "       [-2.505141  ,  2.5233645 ],\n",
       "       [-2.5260057 ,  2.5700302 ],\n",
       "       [ 2.3515723 , -2.0356195 ],\n",
       "       [ 2.536374  , -2.2059798 ],\n",
       "       [-2.5053716 ,  2.5553074 ],\n",
       "       [-2.418299  ,  2.4926524 ],\n",
       "       [-2.5053287 ,  2.559579  ],\n",
       "       [ 2.4839    , -2.1743748 ],\n",
       "       [-2.2474866 ,  2.409081  ],\n",
       "       [-2.458183  ,  2.5429385 ],\n",
       "       [ 2.5818343 , -2.2123659 ],\n",
       "       [ 1.9267349 , -1.572584  ],\n",
       "       [-2.4782968 ,  2.6474595 ],\n",
       "       [-2.4758165 ,  2.538838  ],\n",
       "       [ 2.6459692 , -2.30275   ],\n",
       "       [-2.3626647 ,  2.4302583 ],\n",
       "       [ 2.496417  , -2.2238712 ],\n",
       "       [ 2.5672154 , -2.3232636 ],\n",
       "       [ 2.3663747 , -2.203807  ],\n",
       "       [ 2.4000912 , -2.0929549 ],\n",
       "       [-2.3548496 ,  2.4209745 ],\n",
       "       [ 2.5749252 , -2.175444  ],\n",
       "       [-2.269478  ,  2.223156  ],\n",
       "       [ 2.3758159 , -2.1416721 ],\n",
       "       [ 1.7320176 , -1.7225784 ],\n",
       "       [-0.6579665 ,  0.7387546 ],\n",
       "       [-2.3203588 ,  2.2384896 ],\n",
       "       [-2.3274221 ,  2.3943188 ],\n",
       "       [-2.3820329 ,  2.5120425 ],\n",
       "       [ 2.5497055 , -2.2523303 ],\n",
       "       [-2.463321  ,  2.541666  ],\n",
       "       [-2.4340625 ,  2.4858336 ],\n",
       "       [-2.5167556 ,  2.588831  ],\n",
       "       [ 2.28925   , -2.053619  ],\n",
       "       [-2.5318947 ,  2.5701547 ],\n",
       "       [ 2.4716043 , -2.1631417 ],\n",
       "       [ 2.449751  , -2.0330286 ],\n",
       "       [ 1.983945  , -1.887859  ],\n",
       "       [-2.2529626 ,  2.4351957 ],\n",
       "       [-2.4716816 ,  2.5921316 ],\n",
       "       [ 2.3548994 , -2.2195995 ],\n",
       "       [-2.3098667 ,  2.4181976 ],\n",
       "       [ 2.5458212 , -2.178301  ],\n",
       "       [ 2.31602   , -1.9977747 ],\n",
       "       [ 2.3987079 , -2.1375592 ],\n",
       "       [-2.4751508 ,  2.4964356 ],\n",
       "       [ 2.2271094 , -2.0705776 ],\n",
       "       [-2.474697  ,  2.5411224 ],\n",
       "       [ 2.3414242 , -2.0202224 ],\n",
       "       [ 2.635144  , -2.3279958 ],\n",
       "       [-1.3369412 ,  1.3763794 ],\n",
       "       [-2.4714477 ,  2.4514914 ],\n",
       "       [-2.474699  ,  2.5597348 ],\n",
       "       [-2.3470166 ,  2.391148  ],\n",
       "       [-2.4884117 ,  2.4909225 ],\n",
       "       [ 2.4003494 , -2.2326415 ],\n",
       "       [-2.3276172 ,  2.279683  ],\n",
       "       [ 1.9485253 , -1.8520393 ],\n",
       "       [ 2.5401564 , -2.2057061 ],\n",
       "       [ 1.4078315 , -1.2310392 ],\n",
       "       [ 2.530303  , -2.3115897 ],\n",
       "       [-2.4646935 ,  2.5836508 ],\n",
       "       [ 2.2185588 , -1.8678064 ],\n",
       "       [-2.457524  ,  2.5318696 ],\n",
       "       [ 2.3765411 , -2.140997  ],\n",
       "       [-2.2134247 ,  2.343484  ],\n",
       "       [ 1.7519442 , -1.5871209 ],\n",
       "       [-2.5306196 ,  2.5140376 ],\n",
       "       [-2.5306196 ,  2.5140376 ],\n",
       "       [-2.4489229 ,  2.4949412 ],\n",
       "       [-2.5379782 ,  2.5406644 ],\n",
       "       [-2.4692717 ,  2.6118593 ],\n",
       "       [ 2.5951715 , -2.3534796 ],\n",
       "       [ 1.8012612 , -1.6348983 ],\n",
       "       [ 2.5539203 , -2.216121  ],\n",
       "       [-2.3491297 ,  2.3808522 ],\n",
       "       [-2.4954565 ,  2.5297692 ],\n",
       "       [-2.2945619 ,  2.3384628 ],\n",
       "       [ 2.6101756 , -2.2743592 ],\n",
       "       [ 1.6619241 , -1.7230915 ],\n",
       "       [ 2.2810502 , -2.1129723 ],\n",
       "       [-2.4710326 ,  2.5036092 ],\n",
       "       [ 2.335569  , -2.2017865 ],\n",
       "       [-2.27099   ,  2.4193528 ],\n",
       "       [ 2.4383962 , -2.1630254 ],\n",
       "       [-2.3043723 ,  2.3505821 ],\n",
       "       [-2.3615115 ,  2.3458462 ],\n",
       "       [ 2.5053818 , -2.111812  ],\n",
       "       [ 1.2933809 , -1.0659702 ],\n",
       "       [-2.5168958 ,  2.539287  ],\n",
       "       [-2.3750925 ,  2.5038204 ],\n",
       "       [-2.4735565 ,  2.5288224 ],\n",
       "       [-2.2635713 ,  2.429336  ],\n",
       "       [ 2.0297446 , -1.8077952 ],\n",
       "       [ 2.4020889 , -2.1378295 ],\n",
       "       [-2.455776  ,  2.5343993 ],\n",
       "       [-2.442957  ,  2.4857516 ],\n",
       "       [-2.440734  ,  2.554031  ],\n",
       "       [-2.5019326 ,  2.5343013 ],\n",
       "       [ 2.4549665 , -2.1171436 ],\n",
       "       [ 2.3054624 , -2.1830435 ],\n",
       "       [ 2.5825438 , -2.2871778 ],\n",
       "       [-2.4302976 ,  2.5525875 ],\n",
       "       [-2.4960537 ,  2.55684   ],\n",
       "       [ 2.3665557 , -2.1376536 ]], dtype=float32), hidden_states=None, attentions=None)"
      ]
     },
     "execution_count": 61,
     "metadata": {},
     "output_type": "execute_result"
    }
   ],
   "source": [
    "predict"
   ]
  },
  {
   "cell_type": "code",
   "execution_count": 59,
   "metadata": {
    "id": "QGKGMEJXu-uG"
   },
   "outputs": [],
   "source": [
    "from sklearn.metrics import classification_report"
   ]
  },
  {
   "cell_type": "code",
   "execution_count": 62,
   "metadata": {
    "colab": {
     "base_uri": "https://localhost:8080/"
    },
    "id": "qJQ_jFTIS9Ou",
    "outputId": "7b459f12-ddb9-4b5e-e0d3-d71445f96f03"
   },
   "outputs": [
    {
     "name": "stdout",
     "output_type": "stream",
     "text": [
      "              precision    recall  f1-score   support\n",
      "\n",
      "    phishing       0.98      1.00      0.99       202\n",
      "not phishing       0.99      0.97      0.98       198\n",
      "\n",
      "    accuracy                           0.98       400\n",
      "   macro avg       0.99      0.98      0.98       400\n",
      "weighted avg       0.99      0.98      0.98       400\n",
      "\n"
     ]
    }
   ],
   "source": [
    "# Convert raw predictions to class predictions\n",
    "y_pred = np.argmax(predict.logits, axis=-1)\n",
    "\n",
    "# Get the actual class labels\n",
    "y_true = []\n",
    "for features, label in test_dataset:\n",
    "    y_true.append(label.numpy())\n",
    "y_true = np.array(y_true)\n",
    "\n",
    "\n",
    "# Generate a classification report\n",
    "report = classification_report(y_true, y_pred, target_names=[\"phishing\", \"not phishing\"])  # replace target_names with your actual class names\n",
    "print(report)\n"
   ]
  },
  {
   "cell_type": "code",
   "execution_count": null,
   "metadata": {
    "id": "0bUv6UQDspRU"
   },
   "outputs": [],
   "source": []
  },
  {
   "cell_type": "code",
   "execution_count": null,
   "metadata": {
    "id": "6WEMQkwIspWc"
   },
   "outputs": [],
   "source": []
  },
  {
   "cell_type": "code",
   "execution_count": null,
   "metadata": {
    "id": "wLd-joQPspba"
   },
   "outputs": [],
   "source": []
  }
 ],
 "metadata": {
  "colab": {
   "provenance": []
  },
  "kernelspec": {
   "display_name": "Python 3 (ipykernel)",
   "language": "python",
   "name": "python3"
  },
  "language_info": {
   "codemirror_mode": {
    "name": "ipython",
    "version": 3
   },
   "file_extension": ".py",
   "mimetype": "text/x-python",
   "name": "python",
   "nbconvert_exporter": "python",
   "pygments_lexer": "ipython3",
   "version": "3.8.12"
  },
  "toc": {
   "base_numbering": 1,
   "nav_menu": {},
   "number_sections": true,
   "sideBar": true,
   "skip_h1_title": false,
   "title_cell": "Table of Contents",
   "title_sidebar": "Contents",
   "toc_cell": false,
   "toc_position": {},
   "toc_section_display": true,
   "toc_window_display": false
  },
  "widgets": {
   "application/vnd.jupyter.widget-state+json": {
    "06eed7a0fef04a46a7d29a9b31b6c3fd": {
     "model_module": "@jupyter-widgets/controls",
     "model_module_version": "1.5.0",
     "model_name": "HBoxModel",
     "state": {
      "_dom_classes": [],
      "_model_module": "@jupyter-widgets/controls",
      "_model_module_version": "1.5.0",
      "_model_name": "HBoxModel",
      "_view_count": null,
      "_view_module": "@jupyter-widgets/controls",
      "_view_module_version": "1.5.0",
      "_view_name": "HBoxView",
      "box_style": "",
      "children": [
       "IPY_MODEL_7358154811bb4a00b13793400433e548",
       "IPY_MODEL_8c6381655b9f403e9027cd1d460bdad1",
       "IPY_MODEL_f6833866b5bd42b3be8152b3ecf46e91"
      ],
      "layout": "IPY_MODEL_dde840174f164f74a9c609d18fd683f3"
     }
    },
    "06f77c3a2c644d3c881b957f265fa15e": {
     "model_module": "@jupyter-widgets/controls",
     "model_module_version": "1.5.0",
     "model_name": "HTMLModel",
     "state": {
      "_dom_classes": [],
      "_model_module": "@jupyter-widgets/controls",
      "_model_module_version": "1.5.0",
      "_model_name": "HTMLModel",
      "_view_count": null,
      "_view_module": "@jupyter-widgets/controls",
      "_view_module_version": "1.5.0",
      "_view_name": "HTMLView",
      "description": "",
      "description_tooltip": null,
      "layout": "IPY_MODEL_51a2ce5d21974662bb08e6791199fda7",
      "placeholder": "​",
      "style": "IPY_MODEL_305003b3d2b84012a4e7ee82110d7b82",
      "value": " 499M/499M [00:07&lt;00:00, 88.3MB/s]"
     }
    },
    "0e7bc217a06049769a9eea91da50e8b7": {
     "model_module": "@jupyter-widgets/base",
     "model_module_version": "1.2.0",
     "model_name": "LayoutModel",
     "state": {
      "_model_module": "@jupyter-widgets/base",
      "_model_module_version": "1.2.0",
      "_model_name": "LayoutModel",
      "_view_count": null,
      "_view_module": "@jupyter-widgets/base",
      "_view_module_version": "1.2.0",
      "_view_name": "LayoutView",
      "align_content": null,
      "align_items": null,
      "align_self": null,
      "border": null,
      "bottom": null,
      "display": null,
      "flex": null,
      "flex_flow": null,
      "grid_area": null,
      "grid_auto_columns": null,
      "grid_auto_flow": null,
      "grid_auto_rows": null,
      "grid_column": null,
      "grid_gap": null,
      "grid_row": null,
      "grid_template_areas": null,
      "grid_template_columns": null,
      "grid_template_rows": null,
      "height": null,
      "justify_content": null,
      "justify_items": null,
      "left": null,
      "margin": null,
      "max_height": null,
      "max_width": null,
      "min_height": null,
      "min_width": null,
      "object_fit": null,
      "object_position": null,
      "order": null,
      "overflow": null,
      "overflow_x": null,
      "overflow_y": null,
      "padding": null,
      "right": null,
      "top": null,
      "visibility": null,
      "width": null
     }
    },
    "15c2870013fd43928a1342ad90d4ebe2": {
     "model_module": "@jupyter-widgets/base",
     "model_module_version": "1.2.0",
     "model_name": "LayoutModel",
     "state": {
      "_model_module": "@jupyter-widgets/base",
      "_model_module_version": "1.2.0",
      "_model_name": "LayoutModel",
      "_view_count": null,
      "_view_module": "@jupyter-widgets/base",
      "_view_module_version": "1.2.0",
      "_view_name": "LayoutView",
      "align_content": null,
      "align_items": null,
      "align_self": null,
      "border": null,
      "bottom": null,
      "display": null,
      "flex": null,
      "flex_flow": null,
      "grid_area": null,
      "grid_auto_columns": null,
      "grid_auto_flow": null,
      "grid_auto_rows": null,
      "grid_column": null,
      "grid_gap": null,
      "grid_row": null,
      "grid_template_areas": null,
      "grid_template_columns": null,
      "grid_template_rows": null,
      "height": null,
      "justify_content": null,
      "justify_items": null,
      "left": null,
      "margin": null,
      "max_height": null,
      "max_width": null,
      "min_height": null,
      "min_width": null,
      "object_fit": null,
      "object_position": null,
      "order": null,
      "overflow": null,
      "overflow_x": null,
      "overflow_y": null,
      "padding": null,
      "right": null,
      "top": null,
      "visibility": null,
      "width": null
     }
    },
    "189d3ca392b84eb48fbb8682a20e89b0": {
     "model_module": "@jupyter-widgets/base",
     "model_module_version": "1.2.0",
     "model_name": "LayoutModel",
     "state": {
      "_model_module": "@jupyter-widgets/base",
      "_model_module_version": "1.2.0",
      "_model_name": "LayoutModel",
      "_view_count": null,
      "_view_module": "@jupyter-widgets/base",
      "_view_module_version": "1.2.0",
      "_view_name": "LayoutView",
      "align_content": null,
      "align_items": null,
      "align_self": null,
      "border": null,
      "bottom": null,
      "display": null,
      "flex": null,
      "flex_flow": null,
      "grid_area": null,
      "grid_auto_columns": null,
      "grid_auto_flow": null,
      "grid_auto_rows": null,
      "grid_column": null,
      "grid_gap": null,
      "grid_row": null,
      "grid_template_areas": null,
      "grid_template_columns": null,
      "grid_template_rows": null,
      "height": null,
      "justify_content": null,
      "justify_items": null,
      "left": null,
      "margin": null,
      "max_height": null,
      "max_width": null,
      "min_height": null,
      "min_width": null,
      "object_fit": null,
      "object_position": null,
      "order": null,
      "overflow": null,
      "overflow_x": null,
      "overflow_y": null,
      "padding": null,
      "right": null,
      "top": null,
      "visibility": null,
      "width": null
     }
    },
    "20bcc5180b5549bca84be2b1993bfa49": {
     "model_module": "@jupyter-widgets/controls",
     "model_module_version": "1.5.0",
     "model_name": "DescriptionStyleModel",
     "state": {
      "_model_module": "@jupyter-widgets/controls",
      "_model_module_version": "1.5.0",
      "_model_name": "DescriptionStyleModel",
      "_view_count": null,
      "_view_module": "@jupyter-widgets/base",
      "_view_module_version": "1.2.0",
      "_view_name": "StyleView",
      "description_width": ""
     }
    },
    "21cfc53c41864ddbb555f98b54ddbae3": {
     "model_module": "@jupyter-widgets/controls",
     "model_module_version": "1.5.0",
     "model_name": "HTMLModel",
     "state": {
      "_dom_classes": [],
      "_model_module": "@jupyter-widgets/controls",
      "_model_module_version": "1.5.0",
      "_model_name": "HTMLModel",
      "_view_count": null,
      "_view_module": "@jupyter-widgets/controls",
      "_view_module_version": "1.5.0",
      "_view_name": "HTMLView",
      "description": "",
      "description_tooltip": null,
      "layout": "IPY_MODEL_db93475de7c34987b8c695598b38e48d",
      "placeholder": "​",
      "style": "IPY_MODEL_20bcc5180b5549bca84be2b1993bfa49",
      "value": "Downloading (…)olve/main/vocab.json: 100%"
     }
    },
    "28f5732af051476b9b37029b09ea2844": {
     "model_module": "@jupyter-widgets/controls",
     "model_module_version": "1.5.0",
     "model_name": "FloatProgressModel",
     "state": {
      "_dom_classes": [],
      "_model_module": "@jupyter-widgets/controls",
      "_model_module_version": "1.5.0",
      "_model_name": "FloatProgressModel",
      "_view_count": null,
      "_view_module": "@jupyter-widgets/controls",
      "_view_module_version": "1.5.0",
      "_view_name": "ProgressView",
      "bar_style": "success",
      "description": "",
      "description_tooltip": null,
      "layout": "IPY_MODEL_0e7bc217a06049769a9eea91da50e8b7",
      "max": 481,
      "min": 0,
      "orientation": "horizontal",
      "style": "IPY_MODEL_5f4639a6df3245368a64f0953fade448",
      "value": 481
     }
    },
    "305003b3d2b84012a4e7ee82110d7b82": {
     "model_module": "@jupyter-widgets/controls",
     "model_module_version": "1.5.0",
     "model_name": "DescriptionStyleModel",
     "state": {
      "_model_module": "@jupyter-widgets/controls",
      "_model_module_version": "1.5.0",
      "_model_name": "DescriptionStyleModel",
      "_view_count": null,
      "_view_module": "@jupyter-widgets/base",
      "_view_module_version": "1.2.0",
      "_view_name": "StyleView",
      "description_width": ""
     }
    },
    "3a61929a2a07450b88f74a7e9eeb944f": {
     "model_module": "@jupyter-widgets/controls",
     "model_module_version": "1.5.0",
     "model_name": "DescriptionStyleModel",
     "state": {
      "_model_module": "@jupyter-widgets/controls",
      "_model_module_version": "1.5.0",
      "_model_name": "DescriptionStyleModel",
      "_view_count": null,
      "_view_module": "@jupyter-widgets/base",
      "_view_module_version": "1.2.0",
      "_view_name": "StyleView",
      "description_width": ""
     }
    },
    "41b01f99b06745209e8108d5c0a4f9a5": {
     "model_module": "@jupyter-widgets/controls",
     "model_module_version": "1.5.0",
     "model_name": "HBoxModel",
     "state": {
      "_dom_classes": [],
      "_model_module": "@jupyter-widgets/controls",
      "_model_module_version": "1.5.0",
      "_model_name": "HBoxModel",
      "_view_count": null,
      "_view_module": "@jupyter-widgets/controls",
      "_view_module_version": "1.5.0",
      "_view_name": "HBoxView",
      "box_style": "",
      "children": [
       "IPY_MODEL_21cfc53c41864ddbb555f98b54ddbae3",
       "IPY_MODEL_eed3382cf5a74284ab2a1a332931016a",
       "IPY_MODEL_eaf6cc7dabf7492dab51da8bc144f072"
      ],
      "layout": "IPY_MODEL_fc92122d02254fe69d640960c77e39b8"
     }
    },
    "4432797278e64451b2e799f29d0a2abf": {
     "model_module": "@jupyter-widgets/controls",
     "model_module_version": "1.5.0",
     "model_name": "HBoxModel",
     "state": {
      "_dom_classes": [],
      "_model_module": "@jupyter-widgets/controls",
      "_model_module_version": "1.5.0",
      "_model_name": "HBoxModel",
      "_view_count": null,
      "_view_module": "@jupyter-widgets/controls",
      "_view_module_version": "1.5.0",
      "_view_name": "HBoxView",
      "box_style": "",
      "children": [
       "IPY_MODEL_59a66d5f0613427ab85b51e95c06ce31",
       "IPY_MODEL_9de735bbf564460c9ec61f167cfc82c2",
       "IPY_MODEL_06f77c3a2c644d3c881b957f265fa15e"
      ],
      "layout": "IPY_MODEL_96f8ae90c6a9455f85ddbb202f5922e4"
     }
    },
    "4fbc46949b6845c5ad2213c7d7ccb6ed": {
     "model_module": "@jupyter-widgets/base",
     "model_module_version": "1.2.0",
     "model_name": "LayoutModel",
     "state": {
      "_model_module": "@jupyter-widgets/base",
      "_model_module_version": "1.2.0",
      "_model_name": "LayoutModel",
      "_view_count": null,
      "_view_module": "@jupyter-widgets/base",
      "_view_module_version": "1.2.0",
      "_view_name": "LayoutView",
      "align_content": null,
      "align_items": null,
      "align_self": null,
      "border": null,
      "bottom": null,
      "display": null,
      "flex": null,
      "flex_flow": null,
      "grid_area": null,
      "grid_auto_columns": null,
      "grid_auto_flow": null,
      "grid_auto_rows": null,
      "grid_column": null,
      "grid_gap": null,
      "grid_row": null,
      "grid_template_areas": null,
      "grid_template_columns": null,
      "grid_template_rows": null,
      "height": null,
      "justify_content": null,
      "justify_items": null,
      "left": null,
      "margin": null,
      "max_height": null,
      "max_width": null,
      "min_height": null,
      "min_width": null,
      "object_fit": null,
      "object_position": null,
      "order": null,
      "overflow": null,
      "overflow_x": null,
      "overflow_y": null,
      "padding": null,
      "right": null,
      "top": null,
      "visibility": null,
      "width": null
     }
    },
    "51a2ce5d21974662bb08e6791199fda7": {
     "model_module": "@jupyter-widgets/base",
     "model_module_version": "1.2.0",
     "model_name": "LayoutModel",
     "state": {
      "_model_module": "@jupyter-widgets/base",
      "_model_module_version": "1.2.0",
      "_model_name": "LayoutModel",
      "_view_count": null,
      "_view_module": "@jupyter-widgets/base",
      "_view_module_version": "1.2.0",
      "_view_name": "LayoutView",
      "align_content": null,
      "align_items": null,
      "align_self": null,
      "border": null,
      "bottom": null,
      "display": null,
      "flex": null,
      "flex_flow": null,
      "grid_area": null,
      "grid_auto_columns": null,
      "grid_auto_flow": null,
      "grid_auto_rows": null,
      "grid_column": null,
      "grid_gap": null,
      "grid_row": null,
      "grid_template_areas": null,
      "grid_template_columns": null,
      "grid_template_rows": null,
      "height": null,
      "justify_content": null,
      "justify_items": null,
      "left": null,
      "margin": null,
      "max_height": null,
      "max_width": null,
      "min_height": null,
      "min_width": null,
      "object_fit": null,
      "object_position": null,
      "order": null,
      "overflow": null,
      "overflow_x": null,
      "overflow_y": null,
      "padding": null,
      "right": null,
      "top": null,
      "visibility": null,
      "width": null
     }
    },
    "5771b9302005446c9fcae4bcc946c4d1": {
     "model_module": "@jupyter-widgets/base",
     "model_module_version": "1.2.0",
     "model_name": "LayoutModel",
     "state": {
      "_model_module": "@jupyter-widgets/base",
      "_model_module_version": "1.2.0",
      "_model_name": "LayoutModel",
      "_view_count": null,
      "_view_module": "@jupyter-widgets/base",
      "_view_module_version": "1.2.0",
      "_view_name": "LayoutView",
      "align_content": null,
      "align_items": null,
      "align_self": null,
      "border": null,
      "bottom": null,
      "display": null,
      "flex": null,
      "flex_flow": null,
      "grid_area": null,
      "grid_auto_columns": null,
      "grid_auto_flow": null,
      "grid_auto_rows": null,
      "grid_column": null,
      "grid_gap": null,
      "grid_row": null,
      "grid_template_areas": null,
      "grid_template_columns": null,
      "grid_template_rows": null,
      "height": null,
      "justify_content": null,
      "justify_items": null,
      "left": null,
      "margin": null,
      "max_height": null,
      "max_width": null,
      "min_height": null,
      "min_width": null,
      "object_fit": null,
      "object_position": null,
      "order": null,
      "overflow": null,
      "overflow_x": null,
      "overflow_y": null,
      "padding": null,
      "right": null,
      "top": null,
      "visibility": null,
      "width": null
     }
    },
    "580a9e9e19504e66bae296d8eabe350e": {
     "model_module": "@jupyter-widgets/base",
     "model_module_version": "1.2.0",
     "model_name": "LayoutModel",
     "state": {
      "_model_module": "@jupyter-widgets/base",
      "_model_module_version": "1.2.0",
      "_model_name": "LayoutModel",
      "_view_count": null,
      "_view_module": "@jupyter-widgets/base",
      "_view_module_version": "1.2.0",
      "_view_name": "LayoutView",
      "align_content": null,
      "align_items": null,
      "align_self": null,
      "border": null,
      "bottom": null,
      "display": null,
      "flex": null,
      "flex_flow": null,
      "grid_area": null,
      "grid_auto_columns": null,
      "grid_auto_flow": null,
      "grid_auto_rows": null,
      "grid_column": null,
      "grid_gap": null,
      "grid_row": null,
      "grid_template_areas": null,
      "grid_template_columns": null,
      "grid_template_rows": null,
      "height": null,
      "justify_content": null,
      "justify_items": null,
      "left": null,
      "margin": null,
      "max_height": null,
      "max_width": null,
      "min_height": null,
      "min_width": null,
      "object_fit": null,
      "object_position": null,
      "order": null,
      "overflow": null,
      "overflow_x": null,
      "overflow_y": null,
      "padding": null,
      "right": null,
      "top": null,
      "visibility": null,
      "width": null
     }
    },
    "59a66d5f0613427ab85b51e95c06ce31": {
     "model_module": "@jupyter-widgets/controls",
     "model_module_version": "1.5.0",
     "model_name": "HTMLModel",
     "state": {
      "_dom_classes": [],
      "_model_module": "@jupyter-widgets/controls",
      "_model_module_version": "1.5.0",
      "_model_name": "HTMLModel",
      "_view_count": null,
      "_view_module": "@jupyter-widgets/controls",
      "_view_module_version": "1.5.0",
      "_view_name": "HTMLView",
      "description": "",
      "description_tooltip": null,
      "layout": "IPY_MODEL_4fbc46949b6845c5ad2213c7d7ccb6ed",
      "placeholder": "​",
      "style": "IPY_MODEL_d7762ddba2144c8fba3b9038512e2559",
      "value": "Downloading model.safetensors: 100%"
     }
    },
    "59bb0783c92b49d4ad8ddd80cef9953c": {
     "model_module": "@jupyter-widgets/controls",
     "model_module_version": "1.5.0",
     "model_name": "DescriptionStyleModel",
     "state": {
      "_model_module": "@jupyter-widgets/controls",
      "_model_module_version": "1.5.0",
      "_model_name": "DescriptionStyleModel",
      "_view_count": null,
      "_view_module": "@jupyter-widgets/base",
      "_view_module_version": "1.2.0",
      "_view_name": "StyleView",
      "description_width": ""
     }
    },
    "5f4639a6df3245368a64f0953fade448": {
     "model_module": "@jupyter-widgets/controls",
     "model_module_version": "1.5.0",
     "model_name": "ProgressStyleModel",
     "state": {
      "_model_module": "@jupyter-widgets/controls",
      "_model_module_version": "1.5.0",
      "_model_name": "ProgressStyleModel",
      "_view_count": null,
      "_view_module": "@jupyter-widgets/base",
      "_view_module_version": "1.2.0",
      "_view_name": "StyleView",
      "bar_color": null,
      "description_width": ""
     }
    },
    "67f54f7bcbd64e65ab03b85ec1b5834c": {
     "model_module": "@jupyter-widgets/controls",
     "model_module_version": "1.5.0",
     "model_name": "HBoxModel",
     "state": {
      "_dom_classes": [],
      "_model_module": "@jupyter-widgets/controls",
      "_model_module_version": "1.5.0",
      "_model_name": "HBoxModel",
      "_view_count": null,
      "_view_module": "@jupyter-widgets/controls",
      "_view_module_version": "1.5.0",
      "_view_name": "HBoxView",
      "box_style": "",
      "children": [
       "IPY_MODEL_fd5c8ab6750b4c4f94788ef5a878d6d3",
       "IPY_MODEL_28f5732af051476b9b37029b09ea2844",
       "IPY_MODEL_a11eaf2881ab4cfd8dc7381d7f7870f2"
      ],
      "layout": "IPY_MODEL_8ca0a8f541c6442f9765ebd3b59c90c9"
     }
    },
    "719ee5152aa74aa8aaab39d5e721e3a2": {
     "model_module": "@jupyter-widgets/controls",
     "model_module_version": "1.5.0",
     "model_name": "DescriptionStyleModel",
     "state": {
      "_model_module": "@jupyter-widgets/controls",
      "_model_module_version": "1.5.0",
      "_model_name": "DescriptionStyleModel",
      "_view_count": null,
      "_view_module": "@jupyter-widgets/base",
      "_view_module_version": "1.2.0",
      "_view_name": "StyleView",
      "description_width": ""
     }
    },
    "7358154811bb4a00b13793400433e548": {
     "model_module": "@jupyter-widgets/controls",
     "model_module_version": "1.5.0",
     "model_name": "HTMLModel",
     "state": {
      "_dom_classes": [],
      "_model_module": "@jupyter-widgets/controls",
      "_model_module_version": "1.5.0",
      "_model_name": "HTMLModel",
      "_view_count": null,
      "_view_module": "@jupyter-widgets/controls",
      "_view_module_version": "1.5.0",
      "_view_name": "HTMLView",
      "description": "",
      "description_tooltip": null,
      "layout": "IPY_MODEL_189d3ca392b84eb48fbb8682a20e89b0",
      "placeholder": "​",
      "style": "IPY_MODEL_c2d1132eb0ce437c9810daa035e40d9b",
      "value": "Downloading (…)olve/main/merges.txt: 100%"
     }
    },
    "7ef0a80449e34ceaa01aaf8bba85b4ad": {
     "model_module": "@jupyter-widgets/controls",
     "model_module_version": "1.5.0",
     "model_name": "ProgressStyleModel",
     "state": {
      "_model_module": "@jupyter-widgets/controls",
      "_model_module_version": "1.5.0",
      "_model_name": "ProgressStyleModel",
      "_view_count": null,
      "_view_module": "@jupyter-widgets/base",
      "_view_module_version": "1.2.0",
      "_view_name": "StyleView",
      "bar_color": null,
      "description_width": ""
     }
    },
    "8c6381655b9f403e9027cd1d460bdad1": {
     "model_module": "@jupyter-widgets/controls",
     "model_module_version": "1.5.0",
     "model_name": "FloatProgressModel",
     "state": {
      "_dom_classes": [],
      "_model_module": "@jupyter-widgets/controls",
      "_model_module_version": "1.5.0",
      "_model_name": "FloatProgressModel",
      "_view_count": null,
      "_view_module": "@jupyter-widgets/controls",
      "_view_module_version": "1.5.0",
      "_view_name": "ProgressView",
      "bar_style": "success",
      "description": "",
      "description_tooltip": null,
      "layout": "IPY_MODEL_5771b9302005446c9fcae4bcc946c4d1",
      "max": 456318,
      "min": 0,
      "orientation": "horizontal",
      "style": "IPY_MODEL_c83adfd74d3c40e19fb4642fb3ce5400",
      "value": 456318
     }
    },
    "8ca0a8f541c6442f9765ebd3b59c90c9": {
     "model_module": "@jupyter-widgets/base",
     "model_module_version": "1.2.0",
     "model_name": "LayoutModel",
     "state": {
      "_model_module": "@jupyter-widgets/base",
      "_model_module_version": "1.2.0",
      "_model_name": "LayoutModel",
      "_view_count": null,
      "_view_module": "@jupyter-widgets/base",
      "_view_module_version": "1.2.0",
      "_view_name": "LayoutView",
      "align_content": null,
      "align_items": null,
      "align_self": null,
      "border": null,
      "bottom": null,
      "display": null,
      "flex": null,
      "flex_flow": null,
      "grid_area": null,
      "grid_auto_columns": null,
      "grid_auto_flow": null,
      "grid_auto_rows": null,
      "grid_column": null,
      "grid_gap": null,
      "grid_row": null,
      "grid_template_areas": null,
      "grid_template_columns": null,
      "grid_template_rows": null,
      "height": null,
      "justify_content": null,
      "justify_items": null,
      "left": null,
      "margin": null,
      "max_height": null,
      "max_width": null,
      "min_height": null,
      "min_width": null,
      "object_fit": null,
      "object_position": null,
      "order": null,
      "overflow": null,
      "overflow_x": null,
      "overflow_y": null,
      "padding": null,
      "right": null,
      "top": null,
      "visibility": null,
      "width": null
     }
    },
    "96f8ae90c6a9455f85ddbb202f5922e4": {
     "model_module": "@jupyter-widgets/base",
     "model_module_version": "1.2.0",
     "model_name": "LayoutModel",
     "state": {
      "_model_module": "@jupyter-widgets/base",
      "_model_module_version": "1.2.0",
      "_model_name": "LayoutModel",
      "_view_count": null,
      "_view_module": "@jupyter-widgets/base",
      "_view_module_version": "1.2.0",
      "_view_name": "LayoutView",
      "align_content": null,
      "align_items": null,
      "align_self": null,
      "border": null,
      "bottom": null,
      "display": null,
      "flex": null,
      "flex_flow": null,
      "grid_area": null,
      "grid_auto_columns": null,
      "grid_auto_flow": null,
      "grid_auto_rows": null,
      "grid_column": null,
      "grid_gap": null,
      "grid_row": null,
      "grid_template_areas": null,
      "grid_template_columns": null,
      "grid_template_rows": null,
      "height": null,
      "justify_content": null,
      "justify_items": null,
      "left": null,
      "margin": null,
      "max_height": null,
      "max_width": null,
      "min_height": null,
      "min_width": null,
      "object_fit": null,
      "object_position": null,
      "order": null,
      "overflow": null,
      "overflow_x": null,
      "overflow_y": null,
      "padding": null,
      "right": null,
      "top": null,
      "visibility": null,
      "width": null
     }
    },
    "9de735bbf564460c9ec61f167cfc82c2": {
     "model_module": "@jupyter-widgets/controls",
     "model_module_version": "1.5.0",
     "model_name": "FloatProgressModel",
     "state": {
      "_dom_classes": [],
      "_model_module": "@jupyter-widgets/controls",
      "_model_module_version": "1.5.0",
      "_model_name": "FloatProgressModel",
      "_view_count": null,
      "_view_module": "@jupyter-widgets/controls",
      "_view_module_version": "1.5.0",
      "_view_name": "ProgressView",
      "bar_style": "success",
      "description": "",
      "description_tooltip": null,
      "layout": "IPY_MODEL_c02225ef5016497c81ae00e59b9f88b7",
      "max": 498818054,
      "min": 0,
      "orientation": "horizontal",
      "style": "IPY_MODEL_a6c7e93881ce4250927a1f40421406c2",
      "value": 498818054
     }
    },
    "9efdd8e717c3464ca7478ad544b48e36": {
     "model_module": "@jupyter-widgets/controls",
     "model_module_version": "1.5.0",
     "model_name": "DescriptionStyleModel",
     "state": {
      "_model_module": "@jupyter-widgets/controls",
      "_model_module_version": "1.5.0",
      "_model_name": "DescriptionStyleModel",
      "_view_count": null,
      "_view_module": "@jupyter-widgets/base",
      "_view_module_version": "1.2.0",
      "_view_name": "StyleView",
      "description_width": ""
     }
    },
    "a11eaf2881ab4cfd8dc7381d7f7870f2": {
     "model_module": "@jupyter-widgets/controls",
     "model_module_version": "1.5.0",
     "model_name": "HTMLModel",
     "state": {
      "_dom_classes": [],
      "_model_module": "@jupyter-widgets/controls",
      "_model_module_version": "1.5.0",
      "_model_name": "HTMLModel",
      "_view_count": null,
      "_view_module": "@jupyter-widgets/controls",
      "_view_module_version": "1.5.0",
      "_view_name": "HTMLView",
      "description": "",
      "description_tooltip": null,
      "layout": "IPY_MODEL_580a9e9e19504e66bae296d8eabe350e",
      "placeholder": "​",
      "style": "IPY_MODEL_719ee5152aa74aa8aaab39d5e721e3a2",
      "value": " 481/481 [00:00&lt;00:00, 3.77kB/s]"
     }
    },
    "a6c7e93881ce4250927a1f40421406c2": {
     "model_module": "@jupyter-widgets/controls",
     "model_module_version": "1.5.0",
     "model_name": "ProgressStyleModel",
     "state": {
      "_model_module": "@jupyter-widgets/controls",
      "_model_module_version": "1.5.0",
      "_model_name": "ProgressStyleModel",
      "_view_count": null,
      "_view_module": "@jupyter-widgets/base",
      "_view_module_version": "1.2.0",
      "_view_name": "StyleView",
      "bar_color": null,
      "description_width": ""
     }
    },
    "c02225ef5016497c81ae00e59b9f88b7": {
     "model_module": "@jupyter-widgets/base",
     "model_module_version": "1.2.0",
     "model_name": "LayoutModel",
     "state": {
      "_model_module": "@jupyter-widgets/base",
      "_model_module_version": "1.2.0",
      "_model_name": "LayoutModel",
      "_view_count": null,
      "_view_module": "@jupyter-widgets/base",
      "_view_module_version": "1.2.0",
      "_view_name": "LayoutView",
      "align_content": null,
      "align_items": null,
      "align_self": null,
      "border": null,
      "bottom": null,
      "display": null,
      "flex": null,
      "flex_flow": null,
      "grid_area": null,
      "grid_auto_columns": null,
      "grid_auto_flow": null,
      "grid_auto_rows": null,
      "grid_column": null,
      "grid_gap": null,
      "grid_row": null,
      "grid_template_areas": null,
      "grid_template_columns": null,
      "grid_template_rows": null,
      "height": null,
      "justify_content": null,
      "justify_items": null,
      "left": null,
      "margin": null,
      "max_height": null,
      "max_width": null,
      "min_height": null,
      "min_width": null,
      "object_fit": null,
      "object_position": null,
      "order": null,
      "overflow": null,
      "overflow_x": null,
      "overflow_y": null,
      "padding": null,
      "right": null,
      "top": null,
      "visibility": null,
      "width": null
     }
    },
    "c2d1132eb0ce437c9810daa035e40d9b": {
     "model_module": "@jupyter-widgets/controls",
     "model_module_version": "1.5.0",
     "model_name": "DescriptionStyleModel",
     "state": {
      "_model_module": "@jupyter-widgets/controls",
      "_model_module_version": "1.5.0",
      "_model_name": "DescriptionStyleModel",
      "_view_count": null,
      "_view_module": "@jupyter-widgets/base",
      "_view_module_version": "1.2.0",
      "_view_name": "StyleView",
      "description_width": ""
     }
    },
    "c83adfd74d3c40e19fb4642fb3ce5400": {
     "model_module": "@jupyter-widgets/controls",
     "model_module_version": "1.5.0",
     "model_name": "ProgressStyleModel",
     "state": {
      "_model_module": "@jupyter-widgets/controls",
      "_model_module_version": "1.5.0",
      "_model_name": "ProgressStyleModel",
      "_view_count": null,
      "_view_module": "@jupyter-widgets/base",
      "_view_module_version": "1.2.0",
      "_view_name": "StyleView",
      "bar_color": null,
      "description_width": ""
     }
    },
    "ca29cd9344da4b3b94d5eeca5dbee1d3": {
     "model_module": "@jupyter-widgets/base",
     "model_module_version": "1.2.0",
     "model_name": "LayoutModel",
     "state": {
      "_model_module": "@jupyter-widgets/base",
      "_model_module_version": "1.2.0",
      "_model_name": "LayoutModel",
      "_view_count": null,
      "_view_module": "@jupyter-widgets/base",
      "_view_module_version": "1.2.0",
      "_view_name": "LayoutView",
      "align_content": null,
      "align_items": null,
      "align_self": null,
      "border": null,
      "bottom": null,
      "display": null,
      "flex": null,
      "flex_flow": null,
      "grid_area": null,
      "grid_auto_columns": null,
      "grid_auto_flow": null,
      "grid_auto_rows": null,
      "grid_column": null,
      "grid_gap": null,
      "grid_row": null,
      "grid_template_areas": null,
      "grid_template_columns": null,
      "grid_template_rows": null,
      "height": null,
      "justify_content": null,
      "justify_items": null,
      "left": null,
      "margin": null,
      "max_height": null,
      "max_width": null,
      "min_height": null,
      "min_width": null,
      "object_fit": null,
      "object_position": null,
      "order": null,
      "overflow": null,
      "overflow_x": null,
      "overflow_y": null,
      "padding": null,
      "right": null,
      "top": null,
      "visibility": null,
      "width": null
     }
    },
    "d637b408a8c548ffbb27f62549fd7d1f": {
     "model_module": "@jupyter-widgets/base",
     "model_module_version": "1.2.0",
     "model_name": "LayoutModel",
     "state": {
      "_model_module": "@jupyter-widgets/base",
      "_model_module_version": "1.2.0",
      "_model_name": "LayoutModel",
      "_view_count": null,
      "_view_module": "@jupyter-widgets/base",
      "_view_module_version": "1.2.0",
      "_view_name": "LayoutView",
      "align_content": null,
      "align_items": null,
      "align_self": null,
      "border": null,
      "bottom": null,
      "display": null,
      "flex": null,
      "flex_flow": null,
      "grid_area": null,
      "grid_auto_columns": null,
      "grid_auto_flow": null,
      "grid_auto_rows": null,
      "grid_column": null,
      "grid_gap": null,
      "grid_row": null,
      "grid_template_areas": null,
      "grid_template_columns": null,
      "grid_template_rows": null,
      "height": null,
      "justify_content": null,
      "justify_items": null,
      "left": null,
      "margin": null,
      "max_height": null,
      "max_width": null,
      "min_height": null,
      "min_width": null,
      "object_fit": null,
      "object_position": null,
      "order": null,
      "overflow": null,
      "overflow_x": null,
      "overflow_y": null,
      "padding": null,
      "right": null,
      "top": null,
      "visibility": null,
      "width": null
     }
    },
    "d7762ddba2144c8fba3b9038512e2559": {
     "model_module": "@jupyter-widgets/controls",
     "model_module_version": "1.5.0",
     "model_name": "DescriptionStyleModel",
     "state": {
      "_model_module": "@jupyter-widgets/controls",
      "_model_module_version": "1.5.0",
      "_model_name": "DescriptionStyleModel",
      "_view_count": null,
      "_view_module": "@jupyter-widgets/base",
      "_view_module_version": "1.2.0",
      "_view_name": "StyleView",
      "description_width": ""
     }
    },
    "db93475de7c34987b8c695598b38e48d": {
     "model_module": "@jupyter-widgets/base",
     "model_module_version": "1.2.0",
     "model_name": "LayoutModel",
     "state": {
      "_model_module": "@jupyter-widgets/base",
      "_model_module_version": "1.2.0",
      "_model_name": "LayoutModel",
      "_view_count": null,
      "_view_module": "@jupyter-widgets/base",
      "_view_module_version": "1.2.0",
      "_view_name": "LayoutView",
      "align_content": null,
      "align_items": null,
      "align_self": null,
      "border": null,
      "bottom": null,
      "display": null,
      "flex": null,
      "flex_flow": null,
      "grid_area": null,
      "grid_auto_columns": null,
      "grid_auto_flow": null,
      "grid_auto_rows": null,
      "grid_column": null,
      "grid_gap": null,
      "grid_row": null,
      "grid_template_areas": null,
      "grid_template_columns": null,
      "grid_template_rows": null,
      "height": null,
      "justify_content": null,
      "justify_items": null,
      "left": null,
      "margin": null,
      "max_height": null,
      "max_width": null,
      "min_height": null,
      "min_width": null,
      "object_fit": null,
      "object_position": null,
      "order": null,
      "overflow": null,
      "overflow_x": null,
      "overflow_y": null,
      "padding": null,
      "right": null,
      "top": null,
      "visibility": null,
      "width": null
     }
    },
    "dde840174f164f74a9c609d18fd683f3": {
     "model_module": "@jupyter-widgets/base",
     "model_module_version": "1.2.0",
     "model_name": "LayoutModel",
     "state": {
      "_model_module": "@jupyter-widgets/base",
      "_model_module_version": "1.2.0",
      "_model_name": "LayoutModel",
      "_view_count": null,
      "_view_module": "@jupyter-widgets/base",
      "_view_module_version": "1.2.0",
      "_view_name": "LayoutView",
      "align_content": null,
      "align_items": null,
      "align_self": null,
      "border": null,
      "bottom": null,
      "display": null,
      "flex": null,
      "flex_flow": null,
      "grid_area": null,
      "grid_auto_columns": null,
      "grid_auto_flow": null,
      "grid_auto_rows": null,
      "grid_column": null,
      "grid_gap": null,
      "grid_row": null,
      "grid_template_areas": null,
      "grid_template_columns": null,
      "grid_template_rows": null,
      "height": null,
      "justify_content": null,
      "justify_items": null,
      "left": null,
      "margin": null,
      "max_height": null,
      "max_width": null,
      "min_height": null,
      "min_width": null,
      "object_fit": null,
      "object_position": null,
      "order": null,
      "overflow": null,
      "overflow_x": null,
      "overflow_y": null,
      "padding": null,
      "right": null,
      "top": null,
      "visibility": null,
      "width": null
     }
    },
    "eaf6cc7dabf7492dab51da8bc144f072": {
     "model_module": "@jupyter-widgets/controls",
     "model_module_version": "1.5.0",
     "model_name": "HTMLModel",
     "state": {
      "_dom_classes": [],
      "_model_module": "@jupyter-widgets/controls",
      "_model_module_version": "1.5.0",
      "_model_name": "HTMLModel",
      "_view_count": null,
      "_view_module": "@jupyter-widgets/controls",
      "_view_module_version": "1.5.0",
      "_view_name": "HTMLView",
      "description": "",
      "description_tooltip": null,
      "layout": "IPY_MODEL_ca29cd9344da4b3b94d5eeca5dbee1d3",
      "placeholder": "​",
      "style": "IPY_MODEL_9efdd8e717c3464ca7478ad544b48e36",
      "value": " 899k/899k [00:00&lt;00:00, 2.88MB/s]"
     }
    },
    "eed3382cf5a74284ab2a1a332931016a": {
     "model_module": "@jupyter-widgets/controls",
     "model_module_version": "1.5.0",
     "model_name": "FloatProgressModel",
     "state": {
      "_dom_classes": [],
      "_model_module": "@jupyter-widgets/controls",
      "_model_module_version": "1.5.0",
      "_model_name": "FloatProgressModel",
      "_view_count": null,
      "_view_module": "@jupyter-widgets/controls",
      "_view_module_version": "1.5.0",
      "_view_name": "ProgressView",
      "bar_style": "success",
      "description": "",
      "description_tooltip": null,
      "layout": "IPY_MODEL_15c2870013fd43928a1342ad90d4ebe2",
      "max": 898823,
      "min": 0,
      "orientation": "horizontal",
      "style": "IPY_MODEL_7ef0a80449e34ceaa01aaf8bba85b4ad",
      "value": 898823
     }
    },
    "f6833866b5bd42b3be8152b3ecf46e91": {
     "model_module": "@jupyter-widgets/controls",
     "model_module_version": "1.5.0",
     "model_name": "HTMLModel",
     "state": {
      "_dom_classes": [],
      "_model_module": "@jupyter-widgets/controls",
      "_model_module_version": "1.5.0",
      "_model_name": "HTMLModel",
      "_view_count": null,
      "_view_module": "@jupyter-widgets/controls",
      "_view_module_version": "1.5.0",
      "_view_name": "HTMLView",
      "description": "",
      "description_tooltip": null,
      "layout": "IPY_MODEL_d637b408a8c548ffbb27f62549fd7d1f",
      "placeholder": "​",
      "style": "IPY_MODEL_59bb0783c92b49d4ad8ddd80cef9953c",
      "value": " 456k/456k [00:00&lt;00:00, 5.62MB/s]"
     }
    },
    "f6b8652abfc6441fa128d5122d23f0e3": {
     "model_module": "@jupyter-widgets/base",
     "model_module_version": "1.2.0",
     "model_name": "LayoutModel",
     "state": {
      "_model_module": "@jupyter-widgets/base",
      "_model_module_version": "1.2.0",
      "_model_name": "LayoutModel",
      "_view_count": null,
      "_view_module": "@jupyter-widgets/base",
      "_view_module_version": "1.2.0",
      "_view_name": "LayoutView",
      "align_content": null,
      "align_items": null,
      "align_self": null,
      "border": null,
      "bottom": null,
      "display": null,
      "flex": null,
      "flex_flow": null,
      "grid_area": null,
      "grid_auto_columns": null,
      "grid_auto_flow": null,
      "grid_auto_rows": null,
      "grid_column": null,
      "grid_gap": null,
      "grid_row": null,
      "grid_template_areas": null,
      "grid_template_columns": null,
      "grid_template_rows": null,
      "height": null,
      "justify_content": null,
      "justify_items": null,
      "left": null,
      "margin": null,
      "max_height": null,
      "max_width": null,
      "min_height": null,
      "min_width": null,
      "object_fit": null,
      "object_position": null,
      "order": null,
      "overflow": null,
      "overflow_x": null,
      "overflow_y": null,
      "padding": null,
      "right": null,
      "top": null,
      "visibility": null,
      "width": null
     }
    },
    "fc92122d02254fe69d640960c77e39b8": {
     "model_module": "@jupyter-widgets/base",
     "model_module_version": "1.2.0",
     "model_name": "LayoutModel",
     "state": {
      "_model_module": "@jupyter-widgets/base",
      "_model_module_version": "1.2.0",
      "_model_name": "LayoutModel",
      "_view_count": null,
      "_view_module": "@jupyter-widgets/base",
      "_view_module_version": "1.2.0",
      "_view_name": "LayoutView",
      "align_content": null,
      "align_items": null,
      "align_self": null,
      "border": null,
      "bottom": null,
      "display": null,
      "flex": null,
      "flex_flow": null,
      "grid_area": null,
      "grid_auto_columns": null,
      "grid_auto_flow": null,
      "grid_auto_rows": null,
      "grid_column": null,
      "grid_gap": null,
      "grid_row": null,
      "grid_template_areas": null,
      "grid_template_columns": null,
      "grid_template_rows": null,
      "height": null,
      "justify_content": null,
      "justify_items": null,
      "left": null,
      "margin": null,
      "max_height": null,
      "max_width": null,
      "min_height": null,
      "min_width": null,
      "object_fit": null,
      "object_position": null,
      "order": null,
      "overflow": null,
      "overflow_x": null,
      "overflow_y": null,
      "padding": null,
      "right": null,
      "top": null,
      "visibility": null,
      "width": null
     }
    },
    "fd5c8ab6750b4c4f94788ef5a878d6d3": {
     "model_module": "@jupyter-widgets/controls",
     "model_module_version": "1.5.0",
     "model_name": "HTMLModel",
     "state": {
      "_dom_classes": [],
      "_model_module": "@jupyter-widgets/controls",
      "_model_module_version": "1.5.0",
      "_model_name": "HTMLModel",
      "_view_count": null,
      "_view_module": "@jupyter-widgets/controls",
      "_view_module_version": "1.5.0",
      "_view_name": "HTMLView",
      "description": "",
      "description_tooltip": null,
      "layout": "IPY_MODEL_f6b8652abfc6441fa128d5122d23f0e3",
      "placeholder": "​",
      "style": "IPY_MODEL_3a61929a2a07450b88f74a7e9eeb944f",
      "value": "Downloading (…)lve/main/config.json: 100%"
     }
    }
   }
  }
 },
 "nbformat": 4,
 "nbformat_minor": 1
}
