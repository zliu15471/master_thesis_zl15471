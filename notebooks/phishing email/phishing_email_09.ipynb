{
 "cells": [
  {
   "cell_type": "code",
   "execution_count": 1,
   "metadata": {
    "colab": {
     "base_uri": "https://localhost:8080/"
    },
    "id": "02x4LVTQWKif",
    "outputId": "b4d2a3af-54ee-43c2-feff-5c5ba7a83db3"
   },
   "outputs": [
    {
     "name": "stdout",
     "output_type": "stream",
     "text": [
      "Collecting tensorflow-text\n",
      "  Downloading tensorflow_text-2.13.0-cp310-cp310-manylinux_2_17_x86_64.manylinux2014_x86_64.whl (6.5 MB)\n",
      "\u001b[2K     \u001b[90m━━━━━━━━━━━━━━━━━━━━━━━━━━━━━━━━━━━━━━━━\u001b[0m \u001b[32m6.5/6.5 MB\u001b[0m \u001b[31m15.1 MB/s\u001b[0m eta \u001b[36m0:00:00\u001b[0m\n",
      "\u001b[?25hRequirement already satisfied: tensorflow-hub>=0.8.0 in /usr/local/lib/python3.10/dist-packages (from tensorflow-text) (0.14.0)\n",
      "Collecting tensorflow<2.14,>=2.13.0 (from tensorflow-text)\n",
      "  Downloading tensorflow-2.13.0-cp310-cp310-manylinux_2_17_x86_64.manylinux2014_x86_64.whl (524.1 MB)\n",
      "\u001b[2K     \u001b[90m━━━━━━━━━━━━━━━━━━━━━━━━━━━━━━━━━━━━━━━\u001b[0m \u001b[32m524.1/524.1 MB\u001b[0m \u001b[31m2.4 MB/s\u001b[0m eta \u001b[36m0:00:00\u001b[0m\n",
      "\u001b[?25hRequirement already satisfied: absl-py>=1.0.0 in /usr/local/lib/python3.10/dist-packages (from tensorflow<2.14,>=2.13.0->tensorflow-text) (1.4.0)\n",
      "Requirement already satisfied: astunparse>=1.6.0 in /usr/local/lib/python3.10/dist-packages (from tensorflow<2.14,>=2.13.0->tensorflow-text) (1.6.3)\n",
      "Requirement already satisfied: flatbuffers>=23.1.21 in /usr/local/lib/python3.10/dist-packages (from tensorflow<2.14,>=2.13.0->tensorflow-text) (23.5.26)\n",
      "Requirement already satisfied: gast<=0.4.0,>=0.2.1 in /usr/local/lib/python3.10/dist-packages (from tensorflow<2.14,>=2.13.0->tensorflow-text) (0.4.0)\n",
      "Requirement already satisfied: google-pasta>=0.1.1 in /usr/local/lib/python3.10/dist-packages (from tensorflow<2.14,>=2.13.0->tensorflow-text) (0.2.0)\n",
      "Requirement already satisfied: grpcio<2.0,>=1.24.3 in /usr/local/lib/python3.10/dist-packages (from tensorflow<2.14,>=2.13.0->tensorflow-text) (1.56.2)\n",
      "Requirement already satisfied: h5py>=2.9.0 in /usr/local/lib/python3.10/dist-packages (from tensorflow<2.14,>=2.13.0->tensorflow-text) (3.8.0)\n",
      "Collecting keras<2.14,>=2.13.1 (from tensorflow<2.14,>=2.13.0->tensorflow-text)\n",
      "  Downloading keras-2.13.1-py3-none-any.whl (1.7 MB)\n",
      "\u001b[2K     \u001b[90m━━━━━━━━━━━━━━━━━━━━━━━━━━━━━━━━━━━━━━━━\u001b[0m \u001b[32m1.7/1.7 MB\u001b[0m \u001b[31m44.0 MB/s\u001b[0m eta \u001b[36m0:00:00\u001b[0m\n",
      "\u001b[?25hRequirement already satisfied: libclang>=13.0.0 in /usr/local/lib/python3.10/dist-packages (from tensorflow<2.14,>=2.13.0->tensorflow-text) (16.0.6)\n",
      "Requirement already satisfied: numpy<=1.24.3,>=1.22 in /usr/local/lib/python3.10/dist-packages (from tensorflow<2.14,>=2.13.0->tensorflow-text) (1.22.4)\n",
      "Requirement already satisfied: opt-einsum>=2.3.2 in /usr/local/lib/python3.10/dist-packages (from tensorflow<2.14,>=2.13.0->tensorflow-text) (3.3.0)\n",
      "Requirement already satisfied: packaging in /usr/local/lib/python3.10/dist-packages (from tensorflow<2.14,>=2.13.0->tensorflow-text) (23.1)\n",
      "Requirement already satisfied: protobuf!=4.21.0,!=4.21.1,!=4.21.2,!=4.21.3,!=4.21.4,!=4.21.5,<5.0.0dev,>=3.20.3 in /usr/local/lib/python3.10/dist-packages (from tensorflow<2.14,>=2.13.0->tensorflow-text) (3.20.3)\n",
      "Requirement already satisfied: setuptools in /usr/local/lib/python3.10/dist-packages (from tensorflow<2.14,>=2.13.0->tensorflow-text) (67.7.2)\n",
      "Requirement already satisfied: six>=1.12.0 in /usr/local/lib/python3.10/dist-packages (from tensorflow<2.14,>=2.13.0->tensorflow-text) (1.16.0)\n",
      "Collecting tensorboard<2.14,>=2.13 (from tensorflow<2.14,>=2.13.0->tensorflow-text)\n",
      "  Downloading tensorboard-2.13.0-py3-none-any.whl (5.6 MB)\n",
      "\u001b[2K     \u001b[90m━━━━━━━━━━━━━━━━━━━━━━━━━━━━━━━━━━━━━━━━\u001b[0m \u001b[32m5.6/5.6 MB\u001b[0m \u001b[31m68.9 MB/s\u001b[0m eta \u001b[36m0:00:00\u001b[0m\n",
      "\u001b[?25hCollecting tensorflow-estimator<2.14,>=2.13.0 (from tensorflow<2.14,>=2.13.0->tensorflow-text)\n",
      "  Downloading tensorflow_estimator-2.13.0-py2.py3-none-any.whl (440 kB)\n",
      "\u001b[2K     \u001b[90m━━━━━━━━━━━━━━━━━━━━━━━━━━━━━━━━━━━━━━\u001b[0m \u001b[32m440.8/440.8 kB\u001b[0m \u001b[31m28.4 MB/s\u001b[0m eta \u001b[36m0:00:00\u001b[0m\n",
      "\u001b[?25hRequirement already satisfied: termcolor>=1.1.0 in /usr/local/lib/python3.10/dist-packages (from tensorflow<2.14,>=2.13.0->tensorflow-text) (2.3.0)\n",
      "Collecting typing-extensions<4.6.0,>=3.6.6 (from tensorflow<2.14,>=2.13.0->tensorflow-text)\n",
      "  Downloading typing_extensions-4.5.0-py3-none-any.whl (27 kB)\n",
      "Requirement already satisfied: wrapt>=1.11.0 in /usr/local/lib/python3.10/dist-packages (from tensorflow<2.14,>=2.13.0->tensorflow-text) (1.14.1)\n",
      "Requirement already satisfied: tensorflow-io-gcs-filesystem>=0.23.1 in /usr/local/lib/python3.10/dist-packages (from tensorflow<2.14,>=2.13.0->tensorflow-text) (0.32.0)\n",
      "Requirement already satisfied: wheel<1.0,>=0.23.0 in /usr/local/lib/python3.10/dist-packages (from astunparse>=1.6.0->tensorflow<2.14,>=2.13.0->tensorflow-text) (0.41.0)\n",
      "Requirement already satisfied: google-auth<3,>=1.6.3 in /usr/local/lib/python3.10/dist-packages (from tensorboard<2.14,>=2.13->tensorflow<2.14,>=2.13.0->tensorflow-text) (2.17.3)\n",
      "Requirement already satisfied: google-auth-oauthlib<1.1,>=0.5 in /usr/local/lib/python3.10/dist-packages (from tensorboard<2.14,>=2.13->tensorflow<2.14,>=2.13.0->tensorflow-text) (1.0.0)\n",
      "Requirement already satisfied: markdown>=2.6.8 in /usr/local/lib/python3.10/dist-packages (from tensorboard<2.14,>=2.13->tensorflow<2.14,>=2.13.0->tensorflow-text) (3.4.4)\n",
      "Requirement already satisfied: requests<3,>=2.21.0 in /usr/local/lib/python3.10/dist-packages (from tensorboard<2.14,>=2.13->tensorflow<2.14,>=2.13.0->tensorflow-text) (2.27.1)\n",
      "Requirement already satisfied: tensorboard-data-server<0.8.0,>=0.7.0 in /usr/local/lib/python3.10/dist-packages (from tensorboard<2.14,>=2.13->tensorflow<2.14,>=2.13.0->tensorflow-text) (0.7.1)\n",
      "Requirement already satisfied: werkzeug>=1.0.1 in /usr/local/lib/python3.10/dist-packages (from tensorboard<2.14,>=2.13->tensorflow<2.14,>=2.13.0->tensorflow-text) (2.3.6)\n",
      "Requirement already satisfied: cachetools<6.0,>=2.0.0 in /usr/local/lib/python3.10/dist-packages (from google-auth<3,>=1.6.3->tensorboard<2.14,>=2.13->tensorflow<2.14,>=2.13.0->tensorflow-text) (5.3.1)\n",
      "Requirement already satisfied: pyasn1-modules>=0.2.1 in /usr/local/lib/python3.10/dist-packages (from google-auth<3,>=1.6.3->tensorboard<2.14,>=2.13->tensorflow<2.14,>=2.13.0->tensorflow-text) (0.3.0)\n",
      "Requirement already satisfied: rsa<5,>=3.1.4 in /usr/local/lib/python3.10/dist-packages (from google-auth<3,>=1.6.3->tensorboard<2.14,>=2.13->tensorflow<2.14,>=2.13.0->tensorflow-text) (4.9)\n",
      "Requirement already satisfied: requests-oauthlib>=0.7.0 in /usr/local/lib/python3.10/dist-packages (from google-auth-oauthlib<1.1,>=0.5->tensorboard<2.14,>=2.13->tensorflow<2.14,>=2.13.0->tensorflow-text) (1.3.1)\n",
      "Requirement already satisfied: urllib3<1.27,>=1.21.1 in /usr/local/lib/python3.10/dist-packages (from requests<3,>=2.21.0->tensorboard<2.14,>=2.13->tensorflow<2.14,>=2.13.0->tensorflow-text) (1.26.16)\n",
      "Requirement already satisfied: certifi>=2017.4.17 in /usr/local/lib/python3.10/dist-packages (from requests<3,>=2.21.0->tensorboard<2.14,>=2.13->tensorflow<2.14,>=2.13.0->tensorflow-text) (2023.7.22)\n",
      "Requirement already satisfied: charset-normalizer~=2.0.0 in /usr/local/lib/python3.10/dist-packages (from requests<3,>=2.21.0->tensorboard<2.14,>=2.13->tensorflow<2.14,>=2.13.0->tensorflow-text) (2.0.12)\n",
      "Requirement already satisfied: idna<4,>=2.5 in /usr/local/lib/python3.10/dist-packages (from requests<3,>=2.21.0->tensorboard<2.14,>=2.13->tensorflow<2.14,>=2.13.0->tensorflow-text) (3.4)\n",
      "Requirement already satisfied: MarkupSafe>=2.1.1 in /usr/local/lib/python3.10/dist-packages (from werkzeug>=1.0.1->tensorboard<2.14,>=2.13->tensorflow<2.14,>=2.13.0->tensorflow-text) (2.1.3)\n",
      "Requirement already satisfied: pyasn1<0.6.0,>=0.4.6 in /usr/local/lib/python3.10/dist-packages (from pyasn1-modules>=0.2.1->google-auth<3,>=1.6.3->tensorboard<2.14,>=2.13->tensorflow<2.14,>=2.13.0->tensorflow-text) (0.5.0)\n",
      "Requirement already satisfied: oauthlib>=3.0.0 in /usr/local/lib/python3.10/dist-packages (from requests-oauthlib>=0.7.0->google-auth-oauthlib<1.1,>=0.5->tensorboard<2.14,>=2.13->tensorflow<2.14,>=2.13.0->tensorflow-text) (3.2.2)\n",
      "Installing collected packages: typing-extensions, tensorflow-estimator, keras, tensorboard, tensorflow, tensorflow-text\n",
      "  Attempting uninstall: typing-extensions\n",
      "    Found existing installation: typing_extensions 4.7.1\n",
      "    Uninstalling typing_extensions-4.7.1:\n",
      "      Successfully uninstalled typing_extensions-4.7.1\n",
      "  Attempting uninstall: tensorflow-estimator\n",
      "    Found existing installation: tensorflow-estimator 2.12.0\n",
      "    Uninstalling tensorflow-estimator-2.12.0:\n",
      "      Successfully uninstalled tensorflow-estimator-2.12.0\n",
      "  Attempting uninstall: keras\n",
      "    Found existing installation: keras 2.12.0\n",
      "    Uninstalling keras-2.12.0:\n",
      "      Successfully uninstalled keras-2.12.0\n",
      "  Attempting uninstall: tensorboard\n",
      "    Found existing installation: tensorboard 2.12.3\n",
      "    Uninstalling tensorboard-2.12.3:\n",
      "      Successfully uninstalled tensorboard-2.12.3\n",
      "  Attempting uninstall: tensorflow\n",
      "    Found existing installation: tensorflow 2.12.0\n",
      "    Uninstalling tensorflow-2.12.0:\n",
      "      Successfully uninstalled tensorflow-2.12.0\n",
      "Successfully installed keras-2.13.1 tensorboard-2.13.0 tensorflow-2.13.0 tensorflow-estimator-2.13.0 tensorflow-text-2.13.0 typing-extensions-4.5.0\n"
     ]
    }
   ],
   "source": [
    "!pip install tensorflow-text"
   ]
  },
  {
   "cell_type": "code",
   "execution_count": 2,
   "metadata": {
    "id": "hm1eRG2VWwgf"
   },
   "outputs": [],
   "source": [
    "!pip freeze > kaggle_image_requirements.txt"
   ]
  },
  {
   "cell_type": "code",
   "execution_count": 3,
   "metadata": {
    "id": "HP0Zlqd1WwnR"
   },
   "outputs": [],
   "source": [
    "import tensorflow as tf\n",
    "import tensorflow_hub as hub\n",
    "import tensorflow_text"
   ]
  },
  {
   "cell_type": "code",
   "execution_count": 4,
   "metadata": {
    "id": "jBKHnOzqWwtj"
   },
   "outputs": [],
   "source": [
    "import os\n",
    "import re\n",
    "import pandas as pd\n",
    "import numpy as np\n",
    "from tqdm import tqdm"
   ]
  },
  {
   "cell_type": "code",
   "execution_count": 5,
   "metadata": {
    "id": "zHDR1nyUWwzU"
   },
   "outputs": [],
   "source": [
    "# Params for bert model and tokenization\n",
    "Nsamp = 1000 # number of samples to generate in each class - 'spam', 'not spam'\n",
    "maxtokens = 200 # the maximum number of tokens per document\n",
    "maxtokenlen = 100 # the maximum length of each token"
   ]
  },
  {
   "cell_type": "code",
   "execution_count": 6,
   "metadata": {
    "colab": {
     "base_uri": "https://localhost:8080/"
    },
    "id": "8LKZErl3XIgd",
    "outputId": "08e3762b-d001-4888-e1d2-c51fd27aef87"
   },
   "outputs": [
    {
     "name": "stderr",
     "output_type": "stream",
     "text": [
      "<>:2: SyntaxWarning: \"is\" with a literal. Did you mean \"==\"?\n",
      "<>:2: SyntaxWarning: \"is\" with a literal. Did you mean \"==\"?\n",
      "<ipython-input-6-4889ac943b93>:2: SyntaxWarning: \"is\" with a literal. Did you mean \"==\"?\n",
      "  if row is None or row is '':\n"
     ]
    }
   ],
   "source": [
    "def tokenize(row):\n",
    "    if row is None or row is '':\n",
    "        tokens = \"\"\n",
    "    else:\n",
    "        try:\n",
    "            tokens = row.split(\" \")[:maxtokens]\n",
    "        except:\n",
    "            tokens=\"\"\n",
    "    return tokens"
   ]
  },
  {
   "cell_type": "code",
   "execution_count": 7,
   "metadata": {
    "id": "MfoaIisYXIlC"
   },
   "outputs": [],
   "source": [
    "def reg_expressions(row):\n",
    "    tokens = []\n",
    "    try:\n",
    "        for token in row:\n",
    "            token = token.lower()\n",
    "            token = re.sub(r'[\\W\\d]', \"\", token)\n",
    "            token = token[:maxtokenlen] # truncate token\n",
    "            tokens.append(token)\n",
    "    except:\n",
    "        token = \"\"\n",
    "        tokens.append(token)\n",
    "    return tokens"
   ]
  },
  {
   "cell_type": "code",
   "execution_count": 8,
   "metadata": {
    "colab": {
     "base_uri": "https://localhost:8080/"
    },
    "id": "kzQltlI0XIpg",
    "outputId": "9ffc4f5c-1b91-4f7f-8f02-ca99235f633d"
   },
   "outputs": [
    {
     "name": "stdout",
     "output_type": "stream",
     "text": [
      "['i', 'me', 'my', 'myself', 'we', 'our', 'ours', 'ourselves', 'you', \"you're\", \"you've\", \"you'll\", \"you'd\", 'your', 'yours', 'yourself', 'yourselves', 'he', 'him', 'his', 'himself', 'she', \"she's\", 'her', 'hers', 'herself', 'it', \"it's\", 'its', 'itself', 'they', 'them', 'their', 'theirs', 'themselves', 'what', 'which', 'who', 'whom', 'this', 'that', \"that'll\", 'these', 'those', 'am', 'is', 'are', 'was', 'were', 'be', 'been', 'being', 'have', 'has', 'had', 'having', 'do', 'does', 'did', 'doing', 'a', 'an', 'the', 'and', 'but', 'if', 'or', 'because', 'as', 'until', 'while', 'of', 'at', 'by', 'for', 'with', 'about', 'against', 'between', 'into', 'through', 'during', 'before', 'after', 'above', 'below', 'to', 'from', 'up', 'down', 'in', 'out', 'on', 'off', 'over', 'under', 'again', 'further', 'then', 'once', 'here', 'there', 'when', 'where', 'why', 'how', 'all', 'any', 'both', 'each', 'few', 'more', 'most', 'other', 'some', 'such', 'no', 'nor', 'not', 'only', 'own', 'same', 'so', 'than', 'too', 'very', 's', 't', 'can', 'will', 'just', 'don', \"don't\", 'should', \"should've\", 'now', 'd', 'll', 'm', 'o', 're', 've', 'y', 'ain', 'aren', \"aren't\", 'couldn', \"couldn't\", 'didn', \"didn't\", 'doesn', \"doesn't\", 'hadn', \"hadn't\", 'hasn', \"hasn't\", 'haven', \"haven't\", 'isn', \"isn't\", 'ma', 'mightn', \"mightn't\", 'mustn', \"mustn't\", 'needn', \"needn't\", 'shan', \"shan't\", 'shouldn', \"shouldn't\", 'wasn', \"wasn't\", 'weren', \"weren't\", 'won', \"won't\", 'wouldn', \"wouldn't\"]\n"
     ]
    },
    {
     "name": "stderr",
     "output_type": "stream",
     "text": [
      "[nltk_data] Downloading package stopwords to /root/nltk_data...\n",
      "[nltk_data]   Unzipping corpora/stopwords.zip.\n"
     ]
    }
   ],
   "source": [
    "import nltk\n",
    "\n",
    "nltk.download('stopwords')\n",
    "from nltk.corpus import stopwords\n",
    "stopwords = stopwords.words('english')\n",
    "print(stopwords) # see default stopwords\n",
    "\n",
    "def stop_word_removal(row):\n",
    "    token = [token for token in row if token not in stopwords]\n",
    "    token = filter(None, token)\n",
    "    return token"
   ]
  },
  {
   "cell_type": "code",
   "execution_count": 9,
   "metadata": {
    "id": "jdC8NQFjXPCh"
   },
   "outputs": [],
   "source": [
    "bodies_df = pd.read_csv('./bodies.csv')"
   ]
  },
  {
   "cell_type": "code",
   "execution_count": 10,
   "metadata": {
    "id": "Pg5YguXAXPGt"
   },
   "outputs": [],
   "source": [
    "fraud_bodies_df = pd.read_csv('./fraud_bodies_df.csv')"
   ]
  },
  {
   "cell_type": "code",
   "execution_count": 11,
   "metadata": {
    "id": "aOYsJ7VUXPKz"
   },
   "outputs": [],
   "source": [
    "import random\n",
    "\n",
    "# Convert everything to lower-case, truncate to maxtokens and truncate each token to maxtokenlen\n",
    "EnronEmails = bodies_df.iloc[:,0].apply(tokenize)\n",
    "EnronEmails = EnronEmails.apply(stop_word_removal)\n",
    "EnronEmails = EnronEmails.apply(reg_expressions)\n",
    "EnronEmails = EnronEmails.sample(Nsamp)\n",
    "\n",
    "SpamEmails = fraud_bodies_df.iloc[:,0].apply(tokenize)\n",
    "SpamEmails = SpamEmails.apply(stop_word_removal)\n",
    "SpamEmails = SpamEmails.apply(reg_expressions)\n",
    "SpamEmails = SpamEmails.sample(Nsamp)\n",
    "\n",
    "raw_data = pd.concat([SpamEmails,EnronEmails], axis=0).values"
   ]
  },
  {
   "cell_type": "code",
   "execution_count": 12,
   "metadata": {
    "colab": {
     "base_uri": "https://localhost:8080/"
    },
    "id": "4nZcyPs3XIsQ",
    "outputId": "0ae9bd13-80d4-450c-c844-8dd28915d8c4"
   },
   "outputs": [
    {
     "name": "stdout",
     "output_type": "stream",
     "text": [
      "Shape of combined data represented as numpy array is:\n",
      "(2000,)\n",
      "Data represented as numpy array is:\n",
      "[list(['attena', 'sircit', 'obvious', 'proposal', 'come', 'asuprisee', 'thisis', 'met', 'i', 'inspired', 'tosending', 'youthis', 'email', 'huge', 'fund', 'transfer', 'opportunity', 'thatwill', 'mutual', 'benefit', 'two', 'usehoweverc', 'i', 'barrister', 'maxwell', 'obiekwucthe', 'personalattorney', 'late', 'engre', 'suk', 'hun', 'wufeic', 'citizen', 'japanc', 'used', 'to', 'work', 'withnigerian', 'national', 'petrolum', 'cooperatrion', 'nnpce', 'on', 'th', 'august', 'c', 'clientchis', 'wife', 'andtheir', 'threewere', 'involved', 'fatal', 'house', 'explossion', 'atnigerian', 'national', 'petrolum', 'cooperatrion', 'nnpcquaters', 'lagoseunfortunately', 'lost', 'lives', 'includingother', 'people', 'premisesesince', 'i', 'made', 'several', 'enquiries', 'severalembassies', 'locate', 'clients', 'extendedrelativesc', 'also', 'proved', 'successfule', 'after', 'several', 'unsuccessful', 'attemptsc', 'i', 'decided', 'to', 'trace', 'relatives', 'internet', 'locate', 'anymember', 'family', 'availc', 'hence', 'icontacted', 'youe', 'i', 'contacted', 'assist', 'repartrating', 'money', 'and', 'property', 'left', 'behind', 'client', 'since', 'i', 'noplace', 'locate', 'relativese', 'i', 'easilyconvince', 'bank', 'legalpractice', 'surviving', 'relation', 'ofmy', 'clienteotherwise', 'estate', 'left', 'behind', 'beconfiscated'])\n",
      " list(['dear', 'belovedc', 'in', 'good', 'faith', 'i', 'contacted', 'youe', 'i', 'seen', 'war', 'i', 'seen', 'peacec', 'i', 'seen', 'riches', 'i', 'seen', 'people', 'die', 'hunger', 'daily', 'basese', 'and', 'i', 'quite', 'certain', 'life', 'vanitye', 'i', 'mrse', 'mary', 'eyadema', 'c', 'the', 'second', 'wife', 'former', 'togo', 'head', 'statecmy', 'late', 'husband', 'die', '', 'years', 'oldc', 'suffered', 'heart', 'attack', 'early', 'saturdayc', 'febe', 'c', '', 'hometown', 'piya', 'southastern', 'togoc', 'i', 'family', 'arranged', 'immediately', 'treatment', 'europec', 'god', 'may', 'want', 'die', 'way', 'europee', '', 'i', 'contacting', 'view', 'fact', 'great', 'assistance', 'likewise', 'developing', 'cordial', 'business', 'relationshipe', 'i', 'currently', 'within', 'reach', 'sum', 'fiftyfive', 'million', 'united', 'states', 'dollars', 'uscce', 'c', 'i', 'intend', 'use', 'investment', 'purposes', 'specifically', 'countrye', 'this', 'money', 'came', 'result', 'payback', 'contract', 'deal', 'late', 'husband', 'russian', 'firm', 'countrys', 'multibillion', 'dollars', 'lome', 'steel', 'plante', 'the', 'russian', 'partners', 'returned', 'husbands', 'share', 'us', 'million'])\n",
      " list(['dear', 'partnerci', 'guess', 'this', 'letter', 'may', 'come', 'to', 'you', 'as', 'surprise', 'since', 'ihad', 'no', 'previous', 'correspondence', 'with', 'youe', 'i', 'am', 'thechairman', 'tender', 'board', 'of', 'independent', 'national', 'electoral', 'commissioninece', 'i', 'got', 'your', 'contact', 'in', 'the', 'course', 'of', 'my', 'searchfor', 'a', 'reliable', 'person', 'with', 'whom', 'to', 'handle', 'a', 'veryconfidential', 'transaction', 'involving', 'thetransfer', 'of', 'the', 'sum', 'of', 'cce', 'dllarsthirty', 'million', 'united', 'states', 'dollars', 'intoyour', 'private', 'account', 'for', 'safe', 'keeping', 'theabove', 'fund', 'in', 'question', 'is', 'not', 'connected', 'with', 'armscdrugs', 'or', 'money', 'launderinge', 'it', 'is', 'the', 'product', 'of', 'anover', 'invoice', 'on', 'contract', 'awarded', 'in', '', 'by', 'inec', 'to', 'aforeign', 'company', 'for', 'the', 'supply', 'of', 'electoralmaterials', 'that', 'was', 'used', 'for', 'conducting', 'electione', 'the', 'contract', 'has', 'long', 'been', 'executed', 'andpayment', 'of', 'the', 'actual', 'contract', 'amount', 'has', 'beenpaid', 'to', 'the', 'foreign', 'contractor', 'leaving', 'the', 'balanceof', 'usmillion', 'dollars', 'in', 'a', 'dormant', 'accountc', 'whichmy', 'colleagues', 'and', 'i', 'now', 'want', 'to', 'transfer', 'out', 'ofnigeria', 'into', 'a', 'reliable', 'foreign', 'account', 'for', 'ourpersonal', 'usee', 'as', 'civil', 'servants', 'we', 'do', 'not', 'have', 'thenecessary', 'foreign', 'account', 'machinery', 'tosuccessfully', 'handle', 'this', 'transaction', 'therefore', 'itbecomes', 'necessary', 'to', 'source', 'for', 'a', 'foreign', 'companyor', 'an', 'individual', 'with', 'the', 'capability', 'to', 'act', 'as', 'theoriginal', 'beneficiary', 'or', 'the', 'contractore', 'my', 'dearcit', 'is', 'a', 'good', 'thing', 'the', 'president', 'has', 'endorsed', 'theresolution', 'passed'])\n",
      " ...\n",
      " list(['', 'image', 'image', 'image', 'image', 'image', 'image', 'image', 'image', 'dear', 'patrice', 'get', 'approved', 'unsecured', 'gold', 'credit', 'card', 'instantly', 'online', 'now', 'get', 'guaranteed', 'instant', 'online', 'approval', 'unsecured', 'gold', 'credit', 'card', '', 'credit', 'line', 'thats', 'right', 'as', 'long', 'least', '', 'us', 'resident', 'least', '', 'monthly', 'household', 'income', 'currently', 'bankruptcy', 'approval', 'is', 'guaranteed', 'enjoy', 'great', 'merchandise', 'improving', 'credit', 'usa', 'gold', 'card', 'reports', 'good', 'credit', 'three', 'major', 'bureaus', 'we', 'want', 'help', 'establish', 'reestablish', 'credit', 'today', 'sincerely', 'your', 'new', 'offers', 'staffimage', ''])\n",
      " list(['i', 'swamped', 'please', 'call', 'car', 'start', 'driving', 'thecity', 'preferably', 'close', 'city', 'i', 'get', 'ofthis', 'work', 'donecameron', 'sellers', 'cameronperfectcom', '', 'pm', 'to', 'jeffdasovichenroncom', 'jeffdasovichenroncom', 'cc', 'subject', 'fw', 'enron', 'contactsi', 'trying', 'get', 'touch', 'dome', 'stuff', 'ihave', 'attached', 'contact', 'info', 'people', 'started', 'talking', 'atenron', 'we', 'process', 'putting', 'demo', 'together', 'maybe', 'lookinto', 'little', 'dinner', 'next', 'weeki', 'hope', 'see', 'sunday', 'pp', 'mentioned', 'might', 'come', 'napa', 'mommydaycall', 'mecameron', 'sellersvice', 'president', 'business', 'developmentperfect', 'embarcadero', 'road', '', 'suite', 'palo', 'alto', 'ca', 'cameronperfectcom', 'direct', 'dial', 'cell', 'faxoriginal', 'messagefrom', 'david', 'youngsent', 'friday', 'may', '', '', '', 'pmto', 'cameron', 'sellerssubject', 'enron', 'contactshi', 'cameronthe', '', 'key', 'players', 'met', 'far', 'enron', 'arejohn', 'gillespie', 'sr', 'director', 'global', 'strategic', 'sourcing', 'johngillespieenroncomderryl', 'cleaveland', '', 'sr', 'director', 'global', 'strategic', 'sourcing', 'derrylcleavelandenroncomsteve', 'hotte', '', 'vpcio', 'enron', 'gas', '', 'pipeline', 'group', 'stevehottenroncoma', 'decision', 'maker', 'might', 'also', 'george', 'wassaf', 'managing', 'directoresupply', '', 'procurement', 'john', 'gillespies', 'boss', 'i', 'started', 'journeyat'])\n",
      " list(['congratulations', 'promotion', 'you', 'deserve', 'itkay'])]\n"
     ]
    }
   ],
   "source": [
    "print(\"Shape of combined data represented as numpy array is:\")\n",
    "print(raw_data.shape)\n",
    "print(\"Data represented as numpy array is:\")\n",
    "print(raw_data)\n",
    "\n",
    "# corresponding labels\n",
    "Categories = ['spam','notspam']\n",
    "header = ([1]*Nsamp)\n",
    "header.extend(([0]*Nsamp))"
   ]
  },
  {
   "cell_type": "code",
   "execution_count": 79,
   "metadata": {
    "colab": {
     "base_uri": "https://localhost:8080/"
    },
    "id": "zUUmthxlzqbd",
    "outputId": "2b9a394e-d3ba-4f5c-9ca7-aeab69d21eae"
   },
   "outputs": [
    {
     "data": {
      "text/plain": [
       "array([1, 0, 1, ..., 1, 1, 1])"
      ]
     },
     "execution_count": 79,
     "metadata": {},
     "output_type": "execute_result"
    }
   ],
   "source": [
    "header"
   ]
  },
  {
   "cell_type": "code",
   "execution_count": 13,
   "metadata": {
    "colab": {
     "base_uri": "https://localhost:8080/"
    },
    "id": "YtC27uIIXIvO",
    "outputId": "a9653055-7add-43e5-93a2-1601f356d0b0"
   },
   "outputs": [
    {
     "name": "stdout",
     "output_type": "stream",
     "text": [
      "train_x/train_y list details, to make sure it is of the right form:\n",
      "1200\n",
      "[['emailmessagemessage object xde']\n",
      " [' forwarded darron c gironhouect   am from veronica espinozaenronenronxgate   amto janie aguayohouectect diane andersonnaenronenron derek baileycorpenronenron david baumbachhouectect jean bellhouectect patricia boulangercalectect bob bowenhouectect debbie r bracketthouectect william s bradfordenronenronxgate lesli campbellenronenronxgate celeste cisnerosnaenronenron sharon crawfordcalectect richard demingnaenronenron russell diamondenronenronxgate cindy feldmancalectect darron c gironhouectect veronica gonzalezenronenronxgate jeffrey c gossetthouectect walter guidrozenronenronxgate larry joe hunterhouectect kam keiserhouectect phillip m lovehouectect errol mclaughlincorpenronenron nidia mendozaenronenronxgate kevin meredithcorpenronenron tom moranenronenronxgate leslie reeveshouectect tanya rohauerenronenronxgate dianne seibcalectect linda sietzemacalectect kim s theriothouectect ellen wallumrodnaenronenron melinda whalencalectect tiffany williamsnaenronenroncc subject credit report']\n",
      " ['emailmessagemessage object xdd emailmessagemessage object xdc']\n",
      " ...\n",
      " ['ene  option bid  teenies i bought though the spread options  makes tough']\n",
      " ['attentionplease accept sincere apologizes email meet yourbusiness personal ethics i first introduce mrdavidperry staff private clients section wellknown bank herein london englandone accounts holding balance  fifteen millionpounds sterling dormant last operated years ago frommy investigations confirmation owner said account aforeigner died wednesday july   posted  pm edtgmthe among london bomb victims identifiedyou gothrough websitewwwcnncomlondonterrorsince then nobody done anything regards claiming thismoney family member knowledge theexistence either account funds also information fromthe nationalimmigration also states single entry ukthis transaction totally free risk troubles fund islegitimate originate drug money laundry terrorism orany illegal act also i going secure legaldocuments acompany fund account prove thefund inheritance fundyou also know inheritance funddose prohibited country']\n",
      " ['grant i received fax michael kleiner gulf canada resources limited behalf crestar energy marketing corp suggesting certain changes other section existing transaction agreement i see copied this do know anything it if not i fax copy please call ']]\n",
      "[1 0 1 0 1]\n",
      "(1200,)\n"
     ]
    }
   ],
   "source": [
    "# function for shuffling data in unison with labels/header\n",
    "def unison_shuffle(a, b):\n",
    "    p = np.random.permutation(len(b))\n",
    "    data = a[p]\n",
    "    header = np.asarray(b)[p]\n",
    "    return data, header\n",
    "\n",
    "# function for converting data into the right format, due to the difference in required format from sklearn models\n",
    "# we expect a single string per email here, versus a list of tokens for the sklearn models previously explored\n",
    "def convert_data(raw_data,header):\n",
    "    converted_data, labels = [], []\n",
    "    for i in range(raw_data.shape[0]):\n",
    "        out = ' '.join(raw_data[i])\n",
    "        converted_data.append(out)\n",
    "        labels.append(header[i])\n",
    "        #print(i)\n",
    "    converted_data = np.array(converted_data, dtype=object)[:, np.newaxis]\n",
    "\n",
    "    return converted_data, np.array(labels)\n",
    "\n",
    "raw_data, header = unison_shuffle(raw_data, header)\n",
    "\n",
    "# split into independent 70% training and 30% testing sets\n",
    "#idx = int(0.6*raw_data.shape[0])\n",
    "# 70% of data for training\n",
    "#train_x, train_y = convert_data(raw_data[:idx],header[:idx])\n",
    "# remaining 30% for testing\n",
    "#valid_x, valid_y = convert_data(raw_data[idx:],header[idx:])\n",
    "\n",
    "total_size = raw_data.shape[0]\n",
    "\n",
    "# Calculate indices\n",
    "idx_train = int(0.6 * total_size)  # end of training set\n",
    "idx_val = int(0.8 * total_size)  # end of validation set\n",
    "\n",
    "# Split the data\n",
    "train_x, train_y = convert_data(raw_data[:idx_train], header[:idx_train])\n",
    "val_x, val_y = convert_data(raw_data[idx_train:idx_val], header[idx_train:idx_val])\n",
    "test_x, test_y = convert_data(raw_data[idx_val:], header[idx_val:])\n",
    "\n",
    "print(\"train_x/train_y list details, to make sure it is of the right form:\")\n",
    "print(len(train_x))\n",
    "print(train_x)\n",
    "print(train_y[:5])\n",
    "print(train_y.shape)"
   ]
  },
  {
   "cell_type": "code",
   "execution_count": 14,
   "metadata": {
    "id": "cOfM60zmXdsr"
   },
   "outputs": [],
   "source": [
    "# Function to build overall model\n",
    "def build_model(max_seq_length):\n",
    "    # tf hub bert model path\n",
    "    bert_path = \"https://tfhub.dev/tensorflow/bert_en_uncased_L-12_H-768_A-12/4\"\n",
    "\n",
    "    text_input = tf.keras.layers.Input(shape=(), dtype=tf.string)\n",
    "\n",
    "\n",
    "    preprocessor = hub.KerasLayer(\n",
    "    \"https://tfhub.dev/tensorflow/bert_en_uncased_preprocess/3\")\n",
    "    encoder_inputs = preprocessor(text_input)\n",
    "    encoder = hub.KerasLayer(bert_path,trainable=False)\n",
    "    outputs = encoder(encoder_inputs)\n",
    "    pooled_output = outputs[\"pooled_output\"]      # [batch_size, 768].\n",
    "    sequence_output = outputs[\"sequence_output\"]  # [batch_size, seq_length, 768].# just extract BERT features\n",
    "\n",
    "    # train dense classification layer on top of extracted pooled output features\n",
    "    dense = tf.keras.layers.Dense(256, activation=\"relu\")(pooled_output)\n",
    "    pred = tf.keras.layers.Dense(1, activation=\"sigmoid\")(dense)\n",
    "\n",
    "    model = tf.keras.Model(inputs=text_input, outputs=pred)\n",
    "    model.compile(loss=\"binary_crossentropy\", optimizer=\"adam\", metrics=[\"accuracy\"])\n",
    "    model.summary()\n",
    "\n",
    "    return model"
   ]
  },
  {
   "cell_type": "code",
   "execution_count": 15,
   "metadata": {
    "colab": {
     "base_uri": "https://localhost:8080/"
    },
    "id": "N0OIXJE_Xdxk",
    "outputId": "3f070c03-2ff0-4c19-eca2-5b6708754569"
   },
   "outputs": [
    {
     "name": "stdout",
     "output_type": "stream",
     "text": [
      "Model: \"model\"\n",
      "__________________________________________________________________________________________________\n",
      " Layer (type)                Output Shape                 Param #   Connected to                  \n",
      "==================================================================================================\n",
      " input_1 (InputLayer)        [(None,)]                    0         []                            \n",
      "                                                                                                  \n",
      " keras_layer (KerasLayer)    {'input_word_ids': (None,    0         ['input_1[0][0]']             \n",
      "                             128),                                                                \n",
      "                              'input_mask': (None, 128)                                           \n",
      "                             , 'input_type_ids': (None,                                           \n",
      "                              128)}                                                               \n",
      "                                                                                                  \n",
      " keras_layer_1 (KerasLayer)  {'sequence_output': (None,   1094822   ['keras_layer[0][0]',         \n",
      "                              128, 768),                  41         'keras_layer[0][1]',         \n",
      "                              'encoder_outputs': [(None              'keras_layer[0][2]']         \n",
      "                             , 128, 768),                                                         \n",
      "                              (None, 128, 768),                                                   \n",
      "                              (None, 128, 768),                                                   \n",
      "                              (None, 128, 768),                                                   \n",
      "                              (None, 128, 768),                                                   \n",
      "                              (None, 128, 768),                                                   \n",
      "                              (None, 128, 768),                                                   \n",
      "                              (None, 128, 768),                                                   \n",
      "                              (None, 128, 768),                                                   \n",
      "                              (None, 128, 768),                                                   \n",
      "                              (None, 128, 768),                                                   \n",
      "                              (None, 128, 768)],                                                  \n",
      "                              'default': (None, 768),                                             \n",
      "                              'pooled_output': (None, 7                                           \n",
      "                             68)}                                                                 \n",
      "                                                                                                  \n",
      " dense (Dense)               (None, 256)                  196864    ['keras_layer_1[0][13]']      \n",
      "                                                                                                  \n",
      " dense_1 (Dense)             (None, 1)                    257       ['dense[0][0]']               \n",
      "                                                                                                  \n",
      "==================================================================================================\n",
      "Total params: 109679362 (418.39 MB)\n",
      "Trainable params: 197121 (770.00 KB)\n",
      "Non-trainable params: 109482241 (417.64 MB)\n",
      "__________________________________________________________________________________________________\n",
      "Epoch 1/5\n",
      "38/38 [==============================] - 791s 21s/step - loss: 0.5833 - accuracy: 0.7000 - val_loss: 0.5156 - val_accuracy: 0.6800\n",
      "Epoch 2/5\n",
      "38/38 [==============================] - 767s 20s/step - loss: 0.4228 - accuracy: 0.7950 - val_loss: 0.3186 - val_accuracy: 0.8850\n",
      "Epoch 3/5\n",
      "38/38 [==============================] - 763s 20s/step - loss: 0.2937 - accuracy: 0.8933 - val_loss: 0.3186 - val_accuracy: 0.8550\n",
      "Epoch 4/5\n",
      "38/38 [==============================] - 768s 20s/step - loss: 0.2444 - accuracy: 0.9167 - val_loss: 0.1883 - val_accuracy: 0.9525\n",
      "Epoch 5/5\n",
      "38/38 [==============================] - 771s 20s/step - loss: 0.2024 - accuracy: 0.9308 - val_loss: 0.1571 - val_accuracy: 0.9550\n"
     ]
    }
   ],
   "source": [
    "# Build model\n",
    "model = build_model(maxtokens)\n",
    "\n",
    "# Instantiate variables\n",
    "#initialize_vars(sess)\n",
    "\n",
    "# Train model\n",
    "history = model.fit(train_x,train_y,validation_data=(val_x,val_y),epochs=5,batch_size=32)"
   ]
  },
  {
   "cell_type": "code",
   "execution_count": 16,
   "metadata": {
    "colab": {
     "base_uri": "https://localhost:8080/",
     "height": 490
    },
    "id": "OZLX2YlUXd2-",
    "outputId": "61c739ef-7d50-4d4f-86fd-bacb07563209"
   },
   "outputs": [
    {
     "data": {
      "image/png": "[encoded data removed]",
      "text/plain": [
       "<Figure size 640x480 with 1 Axes>"
      ]
     },
     "metadata": {},
     "output_type": "display_data"
    },
    {
     "name": "stderr",
     "output_type": "stream",
     "text": [
      "WARNING:matplotlib.backends.backend_ps:The PostScript backend does not support transparency; partially transparent artists will be rendered opaque.\n"
     ]
    }
   ],
   "source": [
    "import matplotlib.pyplot as plt\n",
    "\n",
    "df_history = pd.DataFrame(history.history)\n",
    "fig,ax = plt.subplots()\n",
    "plt.plot(range(df_history.shape[0]),df_history['val_accuracy'],'bs--',label='validation')\n",
    "plt.plot(range(df_history.shape[0]),df_history['accuracy'],'r^--',label='training')\n",
    "plt.xlabel('epoch')\n",
    "plt.ylabel('accuracy')\n",
    "plt.title('BERT Email Classification Training')\n",
    "plt.legend(loc='best')\n",
    "plt.grid()\n",
    "plt.show()\n",
    "\n",
    "fig.savefig('BERTConvergence.eps', format='eps')\n",
    "fig.savefig('BERTConvergence.pdf', format='pdf')\n",
    "fig.savefig('BERTConvergence.png', format='png')\n",
    "fig.savefig('BERTConvergence.svg', format='svg')"
   ]
  },
  {
   "cell_type": "code",
   "execution_count": 17,
   "metadata": {
    "colab": {
     "base_uri": "https://localhost:8080/"
    },
    "id": "0bf9p2CgXd8z",
    "outputId": "07e66386-d464-4f89-86c8-2153b1335ee0"
   },
   "outputs": [
    {
     "name": "stdout",
     "output_type": "stream",
     "text": [
      "13/13 [==============================] - 202s 15s/step\n"
     ]
    }
   ],
   "source": [
    "predict = model.predict(test_x)"
   ]
  },
  {
   "cell_type": "code",
   "execution_count": 26,
   "metadata": {
    "id": "5nyVolo4XeCf"
   },
   "outputs": [],
   "source": [
    "y_predict =  np.where(predict > 0.5, 1, 0)"
   ]
  },
  {
   "cell_type": "code",
   "execution_count": 30,
   "metadata": {
    "colab": {
     "base_uri": "https://localhost:8080/"
    },
    "id": "2uxZrZPjoczz",
    "outputId": "4ca9c6cc-f621-46da-a559-f1cd35443eb9"
   },
   "outputs": [
    {
     "data": {
      "text/plain": [
       "(400, 1)"
      ]
     },
     "execution_count": 30,
     "metadata": {},
     "output_type": "execute_result"
    }
   ],
   "source": [
    "y_predict.shape"
   ]
  },
  {
   "cell_type": "code",
   "execution_count": 32,
   "metadata": {
    "id": "v7vXUIaGph4j"
   },
   "outputs": [],
   "source": [
    "# Using reshape\n",
    "y_predict = y_predict.reshape(-1)"
   ]
  },
  {
   "cell_type": "code",
   "execution_count": 31,
   "metadata": {
    "colab": {
     "base_uri": "https://localhost:8080/"
    },
    "id": "Z4-3DnhMm8Ip",
    "outputId": "416314c9-2827-451c-bfdb-44a9bfbf233b"
   },
   "outputs": [
    {
     "data": {
      "text/plain": [
       "(400,)"
      ]
     },
     "execution_count": 31,
     "metadata": {},
     "output_type": "execute_result"
    }
   ],
   "source": [
    "test_y.shape"
   ]
  },
  {
   "cell_type": "code",
   "execution_count": 33,
   "metadata": {
    "id": "aUi-iiQBm8vl"
   },
   "outputs": [],
   "source": [
    "from sklearn.metrics import classification_report"
   ]
  },
  {
   "cell_type": "code",
   "execution_count": 96,
   "metadata": {
    "id": "JKKiw3PLm800"
   },
   "outputs": [],
   "source": [
    "report = classification_report(test_y, y_predict, target_names=[\"not phishing\", \"phishing\"])"
   ]
  },
  {
   "cell_type": "code",
   "execution_count": 97,
   "metadata": {
    "colab": {
     "base_uri": "https://localhost:8080/"
    },
    "id": "8il7H6gDm87N",
    "outputId": "e9935f45-34dd-485d-d37c-ed7b6b8a5d62"
   },
   "outputs": [
    {
     "name": "stdout",
     "output_type": "stream",
     "text": [
      "              precision    recall  f1-score   support\n",
      "\n",
      "not phishing       0.98      0.96      0.97       191\n",
      "    phishing       0.96      0.99      0.97       209\n",
      "\n",
      "    accuracy                           0.97       400\n",
      "   macro avg       0.97      0.97      0.97       400\n",
      "weighted avg       0.97      0.97      0.97       400\n",
      "\n"
     ]
    }
   ],
   "source": [
    "print(report)"
   ]
  },
  {
   "cell_type": "markdown",
   "metadata": {
    "id": "4sepL6KayHX6"
   },
   "source": [
    "# 125 datasets"
   ]
  },
  {
   "cell_type": "code",
   "execution_count": 38,
   "metadata": {
    "id": "IY5OEH9fXeKn"
   },
   "outputs": [],
   "source": [
    "test_new = test_x.reshape(-1)\n"
   ]
  },
  {
   "cell_type": "code",
   "execution_count": 41,
   "metadata": {
    "colab": {
     "base_uri": "https://localhost:8080/"
    },
    "id": "Fm0-RQNCqYsq",
    "outputId": "57f0ff3f-ae26-4916-905d-a82a0a3279b9"
   },
   "outputs": [
    {
     "data": {
      "text/plain": [
       "numpy.ndarray"
      ]
     },
     "execution_count": 41,
     "metadata": {},
     "output_type": "execute_result"
    }
   ],
   "source": [
    "type(test_new)"
   ]
  },
  {
   "cell_type": "code",
   "execution_count": 43,
   "metadata": {
    "colab": {
     "base_uri": "https://localhost:8080/",
     "height": 125
    },
    "id": "oi4P52YUqZOM",
    "outputId": "9e8ec35e-edab-4f72-f8ac-4892aecfa1f4"
   },
   "outputs": [
    {
     "data": {
      "application/vnd.google.colaboratory.intrinsic+json": {
       "type": "string"
      },
      "text/plain": [
       "'from the desk of adama ibrahimbill and exchange managerafrican development bankouagadougou burkina fasotelephone number     dear friendi crave indulgence unsolicited nature letter was borne desperation current development please bear me my name mradama ibrahim auditor african development bank i discovered existing dormant account  yearswhen i discovered continuation withdrawals this account long period banking law stipulates un serviceable account  years go bank revenue an unclaimed fundi made personal inquiries depositor next kin sadly depositor next kin died motor acident rest family died iraq crisisi made investigation double sure fact since i unsuccessful inlocating relativesi seek consent present next kin deceased as auditor bank i use position bank help becoming next kin'"
      ]
     },
     "execution_count": 43,
     "metadata": {},
     "output_type": "execute_result"
    }
   ],
   "source": [
    "test_new[1]"
   ]
  },
  {
   "cell_type": "code",
   "execution_count": 46,
   "metadata": {
    "id": "4GOyrlYOqZV8"
   },
   "outputs": [],
   "source": [
    "test_new_df = pd.DataFrame(test_new)"
   ]
  },
  {
   "cell_type": "code",
   "execution_count": 51,
   "metadata": {
    "colab": {
     "base_uri": "https://localhost:8080/",
     "height": 424
    },
    "id": "co6XaYGiqZdp",
    "outputId": "6f49d503-f180-40f4-f8f5-66fc39322e0d"
   },
   "outputs": [
    {
     "data": {
      "text/html": [
       "\n",
       "\n",
       "  <div id=\"df-906875f4-2e56-45fe-b2e9-eddc2118010c\">\n",
       "    <div class=\"colab-df-container\">\n",
       "      <div>\n",
       "<style scoped>\n",
       "    .dataframe tbody tr th:only-of-type {\n",
       "        vertical-align: middle;\n",
       "    }\n",
       "\n",
       "    .dataframe tbody tr th {\n",
       "        vertical-align: top;\n",
       "    }\n",
       "\n",
       "    .dataframe thead th {\n",
       "        text-align: right;\n",
       "    }\n",
       "</style>\n",
       "<table border=\"1\" class=\"dataframe\">\n",
       "  <thead>\n",
       "    <tr style=\"text-align: right;\">\n",
       "      <th></th>\n",
       "      <th>text</th>\n",
       "    </tr>\n",
       "  </thead>\n",
       "  <tbody>\n",
       "    <tr>\n",
       "      <th>0</th>\n",
       "      <td>hi johni able find number i wanted discuss con...</td>\n",
       "    </tr>\n",
       "    <tr>\n",
       "      <th>1</th>\n",
       "      <td>from the desk of adama ibrahimbill and exchang...</td>\n",
       "    </tr>\n",
       "    <tr>\n",
       "      <th>2</th>\n",
       "      <td>when thursday december    pm pm gmt centraltim...</td>\n",
       "    </tr>\n",
       "    <tr>\n",
       "      <th>3</th>\n",
       "      <td>spouses invited</td>\n",
       "    </tr>\n",
       "    <tr>\n",
       "      <th>4</th>\n",
       "      <td>here draft jeff dasovichs testimony please for...</td>\n",
       "    </tr>\n",
       "    <tr>\n",
       "      <th>...</th>\n",
       "      <td>...</td>\n",
       "    </tr>\n",
       "    <tr>\n",
       "      <th>395</th>\n",
       "      <td>of course i knew that the question is calling ...</td>\n",
       "    </tr>\n",
       "    <tr>\n",
       "      <th>396</th>\n",
       "      <td>dear associatei wish use medium reach the time...</td>\n",
       "    </tr>\n",
       "    <tr>\n",
       "      <th>397</th>\n",
       "      <td>dear friendthis letter must come big surprise ...</td>\n",
       "    </tr>\n",
       "    <tr>\n",
       "      <th>398</th>\n",
       "      <td>emailmessagemessage object xde</td>\n",
       "    </tr>\n",
       "    <tr>\n",
       "      <th>399</th>\n",
       "      <td>compliment how today hope forgotten me i drmr ...</td>\n",
       "    </tr>\n",
       "  </tbody>\n",
       "</table>\n",
       "<p>400 rows × 1 columns</p>\n",
       "</div>\n",
       "      <button class=\"colab-df-convert\" onclick=\"convertToInteractive('df-906875f4-2e56-45fe-b2e9-eddc2118010c')\"\n",
       "              title=\"Convert this dataframe to an interactive table.\"\n",
       "              style=\"display:none;\">\n",
       "\n",
       "  <svg xmlns=\"http://www.w3.org/2000/svg\" height=\"24px\"viewBox=\"0 0 24 24\"\n",
       "       width=\"24px\">\n",
       "    <path d=\"M0 0h24v24H0V0z\" fill=\"none\"/>\n",
       "    <path d=\"M18.56 5.44l.94 2.06.94-2.06 2.06-.94-2.06-.94-.94-2.06-.94 2.06-2.06.94zm-11 1L8.5 8.5l.94-2.06 2.06-.94-2.06-.94L8.5 2.5l-.94 2.06-2.06.94zm10 10l.94 2.06.94-2.06 2.06-.94-2.06-.94-.94-2.06-.94 2.06-2.06.94z\"/><path d=\"M17.41 7.96l-1.37-1.37c-.4-.4-.92-.59-1.43-.59-.52 0-1.04.2-1.43.59L10.3 9.45l-7.72 7.72c-.78.78-.78 2.05 0 2.83L4 21.41c.39.39.9.59 1.41.59.51 0 1.02-.2 1.41-.59l7.78-7.78 2.81-2.81c.8-.78.8-2.07 0-2.86zM5.41 20L4 18.59l7.72-7.72 1.47 1.35L5.41 20z\"/>\n",
       "  </svg>\n",
       "      </button>\n",
       "\n",
       "\n",
       "\n",
       "    <div id=\"df-256c4902-ccbd-4a1a-943a-ce857ae86d9c\">\n",
       "      <button class=\"colab-df-quickchart\" onclick=\"quickchart('df-256c4902-ccbd-4a1a-943a-ce857ae86d9c')\"\n",
       "              title=\"Suggest charts.\"\n",
       "              style=\"display:none;\">\n",
       "\n",
       "<svg xmlns=\"http://www.w3.org/2000/svg\" height=\"24px\"viewBox=\"0 0 24 24\"\n",
       "     width=\"24px\">\n",
       "    <g>\n",
       "        <path d=\"M19 3H5c-1.1 0-2 .9-2 2v14c0 1.1.9 2 2 2h14c1.1 0 2-.9 2-2V5c0-1.1-.9-2-2-2zM9 17H7v-7h2v7zm4 0h-2V7h2v10zm4 0h-2v-4h2v4z\"/>\n",
       "    </g>\n",
       "</svg>\n",
       "      </button>\n",
       "    </div>\n",
       "\n",
       "<style>\n",
       "  .colab-df-quickchart {\n",
       "    background-color: #E8F0FE;\n",
       "    border: none;\n",
       "    border-radius: 50%;\n",
       "    cursor: pointer;\n",
       "    display: none;\n",
       "    fill: #1967D2;\n",
       "    height: 32px;\n",
       "    padding: 0 0 0 0;\n",
       "    width: 32px;\n",
       "  }\n",
       "\n",
       "  .colab-df-quickchart:hover {\n",
       "    background-color: #E2EBFA;\n",
       "    box-shadow: 0px 1px 2px rgba(60, 64, 67, 0.3), 0px 1px 3px 1px rgba(60, 64, 67, 0.15);\n",
       "    fill: #174EA6;\n",
       "  }\n",
       "\n",
       "  [theme=dark] .colab-df-quickchart {\n",
       "    background-color: #3B4455;\n",
       "    fill: #D2E3FC;\n",
       "  }\n",
       "\n",
       "  [theme=dark] .colab-df-quickchart:hover {\n",
       "    background-color: #434B5C;\n",
       "    box-shadow: 0px 1px 3px 1px rgba(0, 0, 0, 0.15);\n",
       "    filter: drop-shadow(0px 1px 2px rgba(0, 0, 0, 0.3));\n",
       "    fill: #FFFFFF;\n",
       "  }\n",
       "</style>\n",
       "\n",
       "    <script>\n",
       "      async function quickchart(key) {\n",
       "        const containerElement = document.querySelector('#' + key);\n",
       "        const charts = await google.colab.kernel.invokeFunction(\n",
       "            'suggestCharts', [key], {});\n",
       "      }\n",
       "    </script>\n",
       "\n",
       "      <script>\n",
       "\n",
       "function displayQuickchartButton(domScope) {\n",
       "  let quickchartButtonEl =\n",
       "    domScope.querySelector('#df-256c4902-ccbd-4a1a-943a-ce857ae86d9c button.colab-df-quickchart');\n",
       "  quickchartButtonEl.style.display =\n",
       "    google.colab.kernel.accessAllowed ? 'block' : 'none';\n",
       "}\n",
       "\n",
       "        displayQuickchartButton(document);\n",
       "      </script>\n",
       "      <style>\n",
       "    .colab-df-container {\n",
       "      display:flex;\n",
       "      flex-wrap:wrap;\n",
       "      gap: 12px;\n",
       "    }\n",
       "\n",
       "    .colab-df-convert {\n",
       "      background-color: #E8F0FE;\n",
       "      border: none;\n",
       "      border-radius: 50%;\n",
       "      cursor: pointer;\n",
       "      display: none;\n",
       "      fill: #1967D2;\n",
       "      height: 32px;\n",
       "      padding: 0 0 0 0;\n",
       "      width: 32px;\n",
       "    }\n",
       "\n",
       "    .colab-df-convert:hover {\n",
       "      background-color: #E2EBFA;\n",
       "      box-shadow: 0px 1px 2px rgba(60, 64, 67, 0.3), 0px 1px 3px 1px rgba(60, 64, 67, 0.15);\n",
       "      fill: #174EA6;\n",
       "    }\n",
       "\n",
       "    [theme=dark] .colab-df-convert {\n",
       "      background-color: #3B4455;\n",
       "      fill: #D2E3FC;\n",
       "    }\n",
       "\n",
       "    [theme=dark] .colab-df-convert:hover {\n",
       "      background-color: #434B5C;\n",
       "      box-shadow: 0px 1px 3px 1px rgba(0, 0, 0, 0.15);\n",
       "      filter: drop-shadow(0px 1px 2px rgba(0, 0, 0, 0.3));\n",
       "      fill: #FFFFFF;\n",
       "    }\n",
       "  </style>\n",
       "\n",
       "      <script>\n",
       "        const buttonEl =\n",
       "          document.querySelector('#df-906875f4-2e56-45fe-b2e9-eddc2118010c button.colab-df-convert');\n",
       "        buttonEl.style.display =\n",
       "          google.colab.kernel.accessAllowed ? 'block' : 'none';\n",
       "\n",
       "        async function convertToInteractive(key) {\n",
       "          const element = document.querySelector('#df-906875f4-2e56-45fe-b2e9-eddc2118010c');\n",
       "          const dataTable =\n",
       "            await google.colab.kernel.invokeFunction('convertToInteractive',\n",
       "                                                     [key], {});\n",
       "          if (!dataTable) return;\n",
       "\n",
       "          const docLinkHtml = 'Like what you see? Visit the ' +\n",
       "            '<a target=\"_blank\" href=https://colab.research.google.com/notebooks/data_table.ipynb>data table notebook</a>'\n",
       "            + ' to learn more about interactive tables.';\n",
       "          element.innerHTML = '';\n",
       "          dataTable['output_type'] = 'display_data';\n",
       "          await google.colab.output.renderOutput(dataTable, element);\n",
       "          const docLink = document.createElement('div');\n",
       "          docLink.innerHTML = docLinkHtml;\n",
       "          element.appendChild(docLink);\n",
       "        }\n",
       "      </script>\n",
       "    </div>\n",
       "  </div>\n"
      ],
      "text/plain": [
       "                                                  text\n",
       "0    hi johni able find number i wanted discuss con...\n",
       "1    from the desk of adama ibrahimbill and exchang...\n",
       "2    when thursday december    pm pm gmt centraltim...\n",
       "3                                      spouses invited\n",
       "4    here draft jeff dasovichs testimony please for...\n",
       "..                                                 ...\n",
       "395  of course i knew that the question is calling ...\n",
       "396  dear associatei wish use medium reach the time...\n",
       "397  dear friendthis letter must come big surprise ...\n",
       "398                     emailmessagemessage object xde\n",
       "399  compliment how today hope forgotten me i drmr ...\n",
       "\n",
       "[400 rows x 1 columns]"
      ]
     },
     "execution_count": 51,
     "metadata": {},
     "output_type": "execute_result"
    }
   ],
   "source": [
    "test_new_df"
   ]
  },
  {
   "cell_type": "code",
   "execution_count": 50,
   "metadata": {
    "id": "OA9YxLqNqZlF"
   },
   "outputs": [],
   "source": [
    "test_new_df = pd.DataFrame(test_new, columns=['text'])\n"
   ]
  },
  {
   "cell_type": "code",
   "execution_count": 53,
   "metadata": {
    "colab": {
     "base_uri": "https://localhost:8080/"
    },
    "id": "wO3crpZ9qZsF",
    "outputId": "3c289908-a2d8-4b9a-b776-b7f6779cba23"
   },
   "outputs": [
    {
     "data": {
      "text/plain": [
       "(400,)"
      ]
     },
     "execution_count": 53,
     "metadata": {},
     "output_type": "execute_result"
    }
   ],
   "source": [
    "test_y.shape"
   ]
  },
  {
   "cell_type": "code",
   "execution_count": 54,
   "metadata": {
    "id": "IMxv9e2YqZyu"
   },
   "outputs": [],
   "source": [
    "test_new_df['target'] = test_y\n"
   ]
  },
  {
   "cell_type": "code",
   "execution_count": 55,
   "metadata": {
    "colab": {
     "base_uri": "https://localhost:8080/",
     "height": 424
    },
    "id": "dA4c7xfFXeS1",
    "outputId": "fc89918f-7045-470b-e606-04d0359284a4"
   },
   "outputs": [
    {
     "data": {
      "text/html": [
       "\n",
       "\n",
       "  <div id=\"df-419bafcf-6ac9-46fa-a1c8-a6f91659c602\">\n",
       "    <div class=\"colab-df-container\">\n",
       "      <div>\n",
       "<style scoped>\n",
       "    .dataframe tbody tr th:only-of-type {\n",
       "        vertical-align: middle;\n",
       "    }\n",
       "\n",
       "    .dataframe tbody tr th {\n",
       "        vertical-align: top;\n",
       "    }\n",
       "\n",
       "    .dataframe thead th {\n",
       "        text-align: right;\n",
       "    }\n",
       "</style>\n",
       "<table border=\"1\" class=\"dataframe\">\n",
       "  <thead>\n",
       "    <tr style=\"text-align: right;\">\n",
       "      <th></th>\n",
       "      <th>text</th>\n",
       "      <th>target</th>\n",
       "    </tr>\n",
       "  </thead>\n",
       "  <tbody>\n",
       "    <tr>\n",
       "      <th>0</th>\n",
       "      <td>hi johni able find number i wanted discuss con...</td>\n",
       "      <td>0</td>\n",
       "    </tr>\n",
       "    <tr>\n",
       "      <th>1</th>\n",
       "      <td>from the desk of adama ibrahimbill and exchang...</td>\n",
       "      <td>1</td>\n",
       "    </tr>\n",
       "    <tr>\n",
       "      <th>2</th>\n",
       "      <td>when thursday december    pm pm gmt centraltim...</td>\n",
       "      <td>0</td>\n",
       "    </tr>\n",
       "    <tr>\n",
       "      <th>3</th>\n",
       "      <td>spouses invited</td>\n",
       "      <td>0</td>\n",
       "    </tr>\n",
       "    <tr>\n",
       "      <th>4</th>\n",
       "      <td>here draft jeff dasovichs testimony please for...</td>\n",
       "      <td>0</td>\n",
       "    </tr>\n",
       "    <tr>\n",
       "      <th>...</th>\n",
       "      <td>...</td>\n",
       "      <td>...</td>\n",
       "    </tr>\n",
       "    <tr>\n",
       "      <th>395</th>\n",
       "      <td>of course i knew that the question is calling ...</td>\n",
       "      <td>0</td>\n",
       "    </tr>\n",
       "    <tr>\n",
       "      <th>396</th>\n",
       "      <td>dear associatei wish use medium reach the time...</td>\n",
       "      <td>1</td>\n",
       "    </tr>\n",
       "    <tr>\n",
       "      <th>397</th>\n",
       "      <td>dear friendthis letter must come big surprise ...</td>\n",
       "      <td>1</td>\n",
       "    </tr>\n",
       "    <tr>\n",
       "      <th>398</th>\n",
       "      <td>emailmessagemessage object xde</td>\n",
       "      <td>1</td>\n",
       "    </tr>\n",
       "    <tr>\n",
       "      <th>399</th>\n",
       "      <td>compliment how today hope forgotten me i drmr ...</td>\n",
       "      <td>1</td>\n",
       "    </tr>\n",
       "  </tbody>\n",
       "</table>\n",
       "<p>400 rows × 2 columns</p>\n",
       "</div>\n",
       "      <button class=\"colab-df-convert\" onclick=\"convertToInteractive('df-419bafcf-6ac9-46fa-a1c8-a6f91659c602')\"\n",
       "              title=\"Convert this dataframe to an interactive table.\"\n",
       "              style=\"display:none;\">\n",
       "\n",
       "  <svg xmlns=\"http://www.w3.org/2000/svg\" height=\"24px\"viewBox=\"0 0 24 24\"\n",
       "       width=\"24px\">\n",
       "    <path d=\"M0 0h24v24H0V0z\" fill=\"none\"/>\n",
       "    <path d=\"M18.56 5.44l.94 2.06.94-2.06 2.06-.94-2.06-.94-.94-2.06-.94 2.06-2.06.94zm-11 1L8.5 8.5l.94-2.06 2.06-.94-2.06-.94L8.5 2.5l-.94 2.06-2.06.94zm10 10l.94 2.06.94-2.06 2.06-.94-2.06-.94-.94-2.06-.94 2.06-2.06.94z\"/><path d=\"M17.41 7.96l-1.37-1.37c-.4-.4-.92-.59-1.43-.59-.52 0-1.04.2-1.43.59L10.3 9.45l-7.72 7.72c-.78.78-.78 2.05 0 2.83L4 21.41c.39.39.9.59 1.41.59.51 0 1.02-.2 1.41-.59l7.78-7.78 2.81-2.81c.8-.78.8-2.07 0-2.86zM5.41 20L4 18.59l7.72-7.72 1.47 1.35L5.41 20z\"/>\n",
       "  </svg>\n",
       "      </button>\n",
       "\n",
       "\n",
       "\n",
       "    <div id=\"df-f7d6bfc2-a195-4522-926d-24c9d2d97586\">\n",
       "      <button class=\"colab-df-quickchart\" onclick=\"quickchart('df-f7d6bfc2-a195-4522-926d-24c9d2d97586')\"\n",
       "              title=\"Suggest charts.\"\n",
       "              style=\"display:none;\">\n",
       "\n",
       "<svg xmlns=\"http://www.w3.org/2000/svg\" height=\"24px\"viewBox=\"0 0 24 24\"\n",
       "     width=\"24px\">\n",
       "    <g>\n",
       "        <path d=\"M19 3H5c-1.1 0-2 .9-2 2v14c0 1.1.9 2 2 2h14c1.1 0 2-.9 2-2V5c0-1.1-.9-2-2-2zM9 17H7v-7h2v7zm4 0h-2V7h2v10zm4 0h-2v-4h2v4z\"/>\n",
       "    </g>\n",
       "</svg>\n",
       "      </button>\n",
       "    </div>\n",
       "\n",
       "<style>\n",
       "  .colab-df-quickchart {\n",
       "    background-color: #E8F0FE;\n",
       "    border: none;\n",
       "    border-radius: 50%;\n",
       "    cursor: pointer;\n",
       "    display: none;\n",
       "    fill: #1967D2;\n",
       "    height: 32px;\n",
       "    padding: 0 0 0 0;\n",
       "    width: 32px;\n",
       "  }\n",
       "\n",
       "  .colab-df-quickchart:hover {\n",
       "    background-color: #E2EBFA;\n",
       "    box-shadow: 0px 1px 2px rgba(60, 64, 67, 0.3), 0px 1px 3px 1px rgba(60, 64, 67, 0.15);\n",
       "    fill: #174EA6;\n",
       "  }\n",
       "\n",
       "  [theme=dark] .colab-df-quickchart {\n",
       "    background-color: #3B4455;\n",
       "    fill: #D2E3FC;\n",
       "  }\n",
       "\n",
       "  [theme=dark] .colab-df-quickchart:hover {\n",
       "    background-color: #434B5C;\n",
       "    box-shadow: 0px 1px 3px 1px rgba(0, 0, 0, 0.15);\n",
       "    filter: drop-shadow(0px 1px 2px rgba(0, 0, 0, 0.3));\n",
       "    fill: #FFFFFF;\n",
       "  }\n",
       "</style>\n",
       "\n",
       "    <script>\n",
       "      async function quickchart(key) {\n",
       "        const containerElement = document.querySelector('#' + key);\n",
       "        const charts = await google.colab.kernel.invokeFunction(\n",
       "            'suggestCharts', [key], {});\n",
       "      }\n",
       "    </script>\n",
       "\n",
       "      <script>\n",
       "\n",
       "function displayQuickchartButton(domScope) {\n",
       "  let quickchartButtonEl =\n",
       "    domScope.querySelector('#df-f7d6bfc2-a195-4522-926d-24c9d2d97586 button.colab-df-quickchart');\n",
       "  quickchartButtonEl.style.display =\n",
       "    google.colab.kernel.accessAllowed ? 'block' : 'none';\n",
       "}\n",
       "\n",
       "        displayQuickchartButton(document);\n",
       "      </script>\n",
       "      <style>\n",
       "    .colab-df-container {\n",
       "      display:flex;\n",
       "      flex-wrap:wrap;\n",
       "      gap: 12px;\n",
       "    }\n",
       "\n",
       "    .colab-df-convert {\n",
       "      background-color: #E8F0FE;\n",
       "      border: none;\n",
       "      border-radius: 50%;\n",
       "      cursor: pointer;\n",
       "      display: none;\n",
       "      fill: #1967D2;\n",
       "      height: 32px;\n",
       "      padding: 0 0 0 0;\n",
       "      width: 32px;\n",
       "    }\n",
       "\n",
       "    .colab-df-convert:hover {\n",
       "      background-color: #E2EBFA;\n",
       "      box-shadow: 0px 1px 2px rgba(60, 64, 67, 0.3), 0px 1px 3px 1px rgba(60, 64, 67, 0.15);\n",
       "      fill: #174EA6;\n",
       "    }\n",
       "\n",
       "    [theme=dark] .colab-df-convert {\n",
       "      background-color: #3B4455;\n",
       "      fill: #D2E3FC;\n",
       "    }\n",
       "\n",
       "    [theme=dark] .colab-df-convert:hover {\n",
       "      background-color: #434B5C;\n",
       "      box-shadow: 0px 1px 3px 1px rgba(0, 0, 0, 0.15);\n",
       "      filter: drop-shadow(0px 1px 2px rgba(0, 0, 0, 0.3));\n",
       "      fill: #FFFFFF;\n",
       "    }\n",
       "  </style>\n",
       "\n",
       "      <script>\n",
       "        const buttonEl =\n",
       "          document.querySelector('#df-419bafcf-6ac9-46fa-a1c8-a6f91659c602 button.colab-df-convert');\n",
       "        buttonEl.style.display =\n",
       "          google.colab.kernel.accessAllowed ? 'block' : 'none';\n",
       "\n",
       "        async function convertToInteractive(key) {\n",
       "          const element = document.querySelector('#df-419bafcf-6ac9-46fa-a1c8-a6f91659c602');\n",
       "          const dataTable =\n",
       "            await google.colab.kernel.invokeFunction('convertToInteractive',\n",
       "                                                     [key], {});\n",
       "          if (!dataTable) return;\n",
       "\n",
       "          const docLinkHtml = 'Like what you see? Visit the ' +\n",
       "            '<a target=\"_blank\" href=https://colab.research.google.com/notebooks/data_table.ipynb>data table notebook</a>'\n",
       "            + ' to learn more about interactive tables.';\n",
       "          element.innerHTML = '';\n",
       "          dataTable['output_type'] = 'display_data';\n",
       "          await google.colab.output.renderOutput(dataTable, element);\n",
       "          const docLink = document.createElement('div');\n",
       "          docLink.innerHTML = docLinkHtml;\n",
       "          element.appendChild(docLink);\n",
       "        }\n",
       "      </script>\n",
       "    </div>\n",
       "  </div>\n"
      ],
      "text/plain": [
       "                                                  text  target\n",
       "0    hi johni able find number i wanted discuss con...       0\n",
       "1    from the desk of adama ibrahimbill and exchang...       1\n",
       "2    when thursday december    pm pm gmt centraltim...       0\n",
       "3                                      spouses invited       0\n",
       "4    here draft jeff dasovichs testimony please for...       0\n",
       "..                                                 ...     ...\n",
       "395  of course i knew that the question is calling ...       0\n",
       "396  dear associatei wish use medium reach the time...       1\n",
       "397  dear friendthis letter must come big surprise ...       1\n",
       "398                     emailmessagemessage object xde       1\n",
       "399  compliment how today hope forgotten me i drmr ...       1\n",
       "\n",
       "[400 rows x 2 columns]"
      ]
     },
     "execution_count": 55,
     "metadata": {},
     "output_type": "execute_result"
    }
   ],
   "source": [
    "test_new_df"
   ]
  },
  {
   "cell_type": "code",
   "execution_count": 56,
   "metadata": {
    "id": "F8rLDjsvWw5R"
   },
   "outputs": [],
   "source": [
    "test_dataset_raw_0 = test_new_df[test_new_df['target']==0]"
   ]
  },
  {
   "cell_type": "code",
   "execution_count": 57,
   "metadata": {
    "colab": {
     "base_uri": "https://localhost:8080/"
    },
    "id": "OtPeFarTWw-t",
    "outputId": "3f494345-602a-4f34-e439-f8c22a300e47"
   },
   "outputs": [
    {
     "data": {
      "text/plain": [
       "(191, 2)"
      ]
     },
     "execution_count": 57,
     "metadata": {},
     "output_type": "execute_result"
    }
   ],
   "source": [
    "test_dataset_raw_0.shape"
   ]
  },
  {
   "cell_type": "code",
   "execution_count": 80,
   "metadata": {
    "id": "qqMrKoXwsk3N"
   },
   "outputs": [],
   "source": [
    "random_25_rows = test_dataset_raw_0.sample(n=100)\n",
    "\n",
    "# Build the new DataFrame using the randomly selected rows\n",
    "test_dataset_raw_0_25 = pd.DataFrame(random_25_rows)"
   ]
  },
  {
   "cell_type": "code",
   "execution_count": 81,
   "metadata": {
    "colab": {
     "base_uri": "https://localhost:8080/",
     "height": 206
    },
    "id": "KO5Cl-6Lsk8y",
    "outputId": "596891dc-93f7-4ca7-af87-9d5871ecf227"
   },
   "outputs": [
    {
     "data": {
      "text/html": [
       "\n",
       "\n",
       "  <div id=\"df-c73972dc-7b33-49f3-95cf-4e160d159cf7\">\n",
       "    <div class=\"colab-df-container\">\n",
       "      <div>\n",
       "<style scoped>\n",
       "    .dataframe tbody tr th:only-of-type {\n",
       "        vertical-align: middle;\n",
       "    }\n",
       "\n",
       "    .dataframe tbody tr th {\n",
       "        vertical-align: top;\n",
       "    }\n",
       "\n",
       "    .dataframe thead th {\n",
       "        text-align: right;\n",
       "    }\n",
       "</style>\n",
       "<table border=\"1\" class=\"dataframe\">\n",
       "  <thead>\n",
       "    <tr style=\"text-align: right;\">\n",
       "      <th></th>\n",
       "      <th>text</th>\n",
       "      <th>target</th>\n",
       "    </tr>\n",
       "  </thead>\n",
       "  <tbody>\n",
       "    <tr>\n",
       "      <th>69</th>\n",
       "      <td>w e e k e n d s y s t e m s a v a i l a b i l ...</td>\n",
       "      <td>0</td>\n",
       "    </tr>\n",
       "    <tr>\n",
       "      <th>117</th>\n",
       "      <td>forwarded tana joneshouect   pm janelle scheu...</td>\n",
       "      <td>0</td>\n",
       "    </tr>\n",
       "    <tr>\n",
       "      <th>110</th>\n",
       "      <td>john reviewing i would hold realistic prospect...</td>\n",
       "      <td>0</td>\n",
       "    </tr>\n",
       "    <tr>\n",
       "      <th>210</th>\n",
       "      <td>image image image image image image image ima...</td>\n",
       "      <td>0</td>\n",
       "    </tr>\n",
       "    <tr>\n",
       "      <th>166</th>\n",
       "      <td>johni made changes suggested the prior version...</td>\n",
       "      <td>0</td>\n",
       "    </tr>\n",
       "  </tbody>\n",
       "</table>\n",
       "</div>\n",
       "      <button class=\"colab-df-convert\" onclick=\"convertToInteractive('df-c73972dc-7b33-49f3-95cf-4e160d159cf7')\"\n",
       "              title=\"Convert this dataframe to an interactive table.\"\n",
       "              style=\"display:none;\">\n",
       "\n",
       "  <svg xmlns=\"http://www.w3.org/2000/svg\" height=\"24px\"viewBox=\"0 0 24 24\"\n",
       "       width=\"24px\">\n",
       "    <path d=\"M0 0h24v24H0V0z\" fill=\"none\"/>\n",
       "    <path d=\"M18.56 5.44l.94 2.06.94-2.06 2.06-.94-2.06-.94-.94-2.06-.94 2.06-2.06.94zm-11 1L8.5 8.5l.94-2.06 2.06-.94-2.06-.94L8.5 2.5l-.94 2.06-2.06.94zm10 10l.94 2.06.94-2.06 2.06-.94-2.06-.94-.94-2.06-.94 2.06-2.06.94z\"/><path d=\"M17.41 7.96l-1.37-1.37c-.4-.4-.92-.59-1.43-.59-.52 0-1.04.2-1.43.59L10.3 9.45l-7.72 7.72c-.78.78-.78 2.05 0 2.83L4 21.41c.39.39.9.59 1.41.59.51 0 1.02-.2 1.41-.59l7.78-7.78 2.81-2.81c.8-.78.8-2.07 0-2.86zM5.41 20L4 18.59l7.72-7.72 1.47 1.35L5.41 20z\"/>\n",
       "  </svg>\n",
       "      </button>\n",
       "\n",
       "\n",
       "\n",
       "    <div id=\"df-c36284c7-af5d-4dd2-b72c-61faff79cf21\">\n",
       "      <button class=\"colab-df-quickchart\" onclick=\"quickchart('df-c36284c7-af5d-4dd2-b72c-61faff79cf21')\"\n",
       "              title=\"Suggest charts.\"\n",
       "              style=\"display:none;\">\n",
       "\n",
       "<svg xmlns=\"http://www.w3.org/2000/svg\" height=\"24px\"viewBox=\"0 0 24 24\"\n",
       "     width=\"24px\">\n",
       "    <g>\n",
       "        <path d=\"M19 3H5c-1.1 0-2 .9-2 2v14c0 1.1.9 2 2 2h14c1.1 0 2-.9 2-2V5c0-1.1-.9-2-2-2zM9 17H7v-7h2v7zm4 0h-2V7h2v10zm4 0h-2v-4h2v4z\"/>\n",
       "    </g>\n",
       "</svg>\n",
       "      </button>\n",
       "    </div>\n",
       "\n",
       "<style>\n",
       "  .colab-df-quickchart {\n",
       "    background-color: #E8F0FE;\n",
       "    border: none;\n",
       "    border-radius: 50%;\n",
       "    cursor: pointer;\n",
       "    display: none;\n",
       "    fill: #1967D2;\n",
       "    height: 32px;\n",
       "    padding: 0 0 0 0;\n",
       "    width: 32px;\n",
       "  }\n",
       "\n",
       "  .colab-df-quickchart:hover {\n",
       "    background-color: #E2EBFA;\n",
       "    box-shadow: 0px 1px 2px rgba(60, 64, 67, 0.3), 0px 1px 3px 1px rgba(60, 64, 67, 0.15);\n",
       "    fill: #174EA6;\n",
       "  }\n",
       "\n",
       "  [theme=dark] .colab-df-quickchart {\n",
       "    background-color: #3B4455;\n",
       "    fill: #D2E3FC;\n",
       "  }\n",
       "\n",
       "  [theme=dark] .colab-df-quickchart:hover {\n",
       "    background-color: #434B5C;\n",
       "    box-shadow: 0px 1px 3px 1px rgba(0, 0, 0, 0.15);\n",
       "    filter: drop-shadow(0px 1px 2px rgba(0, 0, 0, 0.3));\n",
       "    fill: #FFFFFF;\n",
       "  }\n",
       "</style>\n",
       "\n",
       "    <script>\n",
       "      async function quickchart(key) {\n",
       "        const containerElement = document.querySelector('#' + key);\n",
       "        const charts = await google.colab.kernel.invokeFunction(\n",
       "            'suggestCharts', [key], {});\n",
       "      }\n",
       "    </script>\n",
       "\n",
       "      <script>\n",
       "\n",
       "function displayQuickchartButton(domScope) {\n",
       "  let quickchartButtonEl =\n",
       "    domScope.querySelector('#df-c36284c7-af5d-4dd2-b72c-61faff79cf21 button.colab-df-quickchart');\n",
       "  quickchartButtonEl.style.display =\n",
       "    google.colab.kernel.accessAllowed ? 'block' : 'none';\n",
       "}\n",
       "\n",
       "        displayQuickchartButton(document);\n",
       "      </script>\n",
       "      <style>\n",
       "    .colab-df-container {\n",
       "      display:flex;\n",
       "      flex-wrap:wrap;\n",
       "      gap: 12px;\n",
       "    }\n",
       "\n",
       "    .colab-df-convert {\n",
       "      background-color: #E8F0FE;\n",
       "      border: none;\n",
       "      border-radius: 50%;\n",
       "      cursor: pointer;\n",
       "      display: none;\n",
       "      fill: #1967D2;\n",
       "      height: 32px;\n",
       "      padding: 0 0 0 0;\n",
       "      width: 32px;\n",
       "    }\n",
       "\n",
       "    .colab-df-convert:hover {\n",
       "      background-color: #E2EBFA;\n",
       "      box-shadow: 0px 1px 2px rgba(60, 64, 67, 0.3), 0px 1px 3px 1px rgba(60, 64, 67, 0.15);\n",
       "      fill: #174EA6;\n",
       "    }\n",
       "\n",
       "    [theme=dark] .colab-df-convert {\n",
       "      background-color: #3B4455;\n",
       "      fill: #D2E3FC;\n",
       "    }\n",
       "\n",
       "    [theme=dark] .colab-df-convert:hover {\n",
       "      background-color: #434B5C;\n",
       "      box-shadow: 0px 1px 3px 1px rgba(0, 0, 0, 0.15);\n",
       "      filter: drop-shadow(0px 1px 2px rgba(0, 0, 0, 0.3));\n",
       "      fill: #FFFFFF;\n",
       "    }\n",
       "  </style>\n",
       "\n",
       "      <script>\n",
       "        const buttonEl =\n",
       "          document.querySelector('#df-c73972dc-7b33-49f3-95cf-4e160d159cf7 button.colab-df-convert');\n",
       "        buttonEl.style.display =\n",
       "          google.colab.kernel.accessAllowed ? 'block' : 'none';\n",
       "\n",
       "        async function convertToInteractive(key) {\n",
       "          const element = document.querySelector('#df-c73972dc-7b33-49f3-95cf-4e160d159cf7');\n",
       "          const dataTable =\n",
       "            await google.colab.kernel.invokeFunction('convertToInteractive',\n",
       "                                                     [key], {});\n",
       "          if (!dataTable) return;\n",
       "\n",
       "          const docLinkHtml = 'Like what you see? Visit the ' +\n",
       "            '<a target=\"_blank\" href=https://colab.research.google.com/notebooks/data_table.ipynb>data table notebook</a>'\n",
       "            + ' to learn more about interactive tables.';\n",
       "          element.innerHTML = '';\n",
       "          dataTable['output_type'] = 'display_data';\n",
       "          await google.colab.output.renderOutput(dataTable, element);\n",
       "          const docLink = document.createElement('div');\n",
       "          docLink.innerHTML = docLinkHtml;\n",
       "          element.appendChild(docLink);\n",
       "        }\n",
       "      </script>\n",
       "    </div>\n",
       "  </div>\n"
      ],
      "text/plain": [
       "                                                  text  target\n",
       "69   w e e k e n d s y s t e m s a v a i l a b i l ...       0\n",
       "117   forwarded tana joneshouect   pm janelle scheu...       0\n",
       "110  john reviewing i would hold realistic prospect...       0\n",
       "210   image image image image image image image ima...       0\n",
       "166  johni made changes suggested the prior version...       0"
      ]
     },
     "execution_count": 81,
     "metadata": {},
     "output_type": "execute_result"
    }
   ],
   "source": [
    "test_dataset_raw_0_25.head()"
   ]
  },
  {
   "cell_type": "code",
   "execution_count": 167,
   "metadata": {
    "colab": {
     "base_uri": "https://localhost:8080/"
    },
    "id": "r3IuFIrl-7j9",
    "outputId": "d34f9759-233d-419c-8d1a-a671f22758ea"
   },
   "outputs": [
    {
     "data": {
      "text/plain": [
       "Int64Index([ 69, 117, 110, 210, 166,  79, 369, 224, 292, 289, 310, 125, 365,\n",
       "            358, 388, 377, 391, 279,  30, 143, 395, 103, 244,   5,  78, 201,\n",
       "            231,  91, 371, 138,  88, 251, 385, 205,  87,  62,   2, 338, 185,\n",
       "            328, 260, 342,  50, 311, 236, 119, 217,  77, 180, 222, 218, 169,\n",
       "             56, 359, 158, 329, 250,  39, 257,   4,  34, 382,  29,  14, 305,\n",
       "            123, 323, 160, 347,  97, 174, 216, 285, 195, 297, 341, 321, 241,\n",
       "            376, 126, 322, 115,  73, 233, 122, 127, 212, 104,  51, 106, 375,\n",
       "            296, 116, 146, 208, 184, 394, 121, 227, 318],\n",
       "           dtype='int64')"
      ]
     },
     "execution_count": 167,
     "metadata": {},
     "output_type": "execute_result"
    }
   ],
   "source": [
    "test_dataset_raw_0_25.index"
   ]
  },
  {
   "cell_type": "code",
   "execution_count": 173,
   "metadata": {
    "colab": {
     "base_uri": "https://localhost:8080/",
     "height": 125
    },
    "id": "E-bvpNvH-9rA",
    "outputId": "d4bb033c-0c31-4cdf-cc67-e80b93d5e6a4"
   },
   "outputs": [
    {
     "data": {
      "application/vnd.google.colaboratory.intrinsic+json": {
       "type": "string"
      },
      "text/plain": [
       "'this could become deep pit i want distract theprimary mission may solution gets needand pull away north american effort  coulddeputize jane wilson help this jane usual embeddedherself deeply enron india organization vp govt affairs canbe sound source information well agent inindia think contacting getting helpalso never explicitly talked whether focus northamerican world wide my view worldwide beheavily modified fact enron employees current probablyfuture here us many deficiencies education systemgraduate education best world need show rapidearly success and thats best accomplished sticking close home atleast initiallychristie patrickect  pm to steven j keannaenronenron mark palmercorpenronenron cc subject re enron university affairsmark steveid happy get us involved this im sure werehandling nonnorth american university'"
      ]
     },
     "execution_count": 173,
     "metadata": {},
     "output_type": "execute_result"
    }
   ],
   "source": [
    "test_dataset_raw_0_25['text'][369]"
   ]
  },
  {
   "cell_type": "code",
   "execution_count": 60,
   "metadata": {
    "id": "7p1aixJdslDk"
   },
   "outputs": [],
   "source": [
    "test_dataset_raw_1 = test_new_df[test_new_df['target']==1]"
   ]
  },
  {
   "cell_type": "code",
   "execution_count": 82,
   "metadata": {
    "id": "i9QOoOzNvjhN"
   },
   "outputs": [],
   "source": [
    "random_1_rows = test_dataset_raw_1.sample(n=25)\n",
    "\n",
    "# Build the new DataFrame using the randomly selected rows\n",
    "test_dataset_raw_1_100 = pd.DataFrame(random_1_rows)"
   ]
  },
  {
   "cell_type": "code",
   "execution_count": 83,
   "metadata": {
    "colab": {
     "base_uri": "https://localhost:8080/"
    },
    "id": "meE7NNXcvjk-",
    "outputId": "351a33ff-4301-44fe-9f1e-c8290981798a"
   },
   "outputs": [
    {
     "data": {
      "text/plain": [
       "(25, 2)"
      ]
     },
     "execution_count": 83,
     "metadata": {},
     "output_type": "execute_result"
    }
   ],
   "source": [
    "test_dataset_raw_1_100.shape"
   ]
  },
  {
   "cell_type": "code",
   "execution_count": 84,
   "metadata": {
    "id": "R8kPWTZXvjmy"
   },
   "outputs": [],
   "source": [
    "merged_df = pd.concat([test_dataset_raw_0_25, test_dataset_raw_1_100], ignore_index=True)\n",
    "\n",
    "# Shuffle the index\n",
    "test_125_df = merged_df.sample(frac=1).reset_index(drop=True)"
   ]
  },
  {
   "cell_type": "code",
   "execution_count": 163,
   "metadata": {
    "colab": {
     "base_uri": "https://localhost:8080/",
     "height": 206
    },
    "id": "QvXEi5LL4cpA",
    "outputId": "e7bf27e3-557d-49d1-c08b-ba60303e7513"
   },
   "outputs": [
    {
     "data": {
      "text/html": [
       "\n",
       "\n",
       "  <div id=\"df-c39e4da9-6e43-4c23-88a4-21e2755b918b\">\n",
       "    <div class=\"colab-df-container\">\n",
       "      <div>\n",
       "<style scoped>\n",
       "    .dataframe tbody tr th:only-of-type {\n",
       "        vertical-align: middle;\n",
       "    }\n",
       "\n",
       "    .dataframe tbody tr th {\n",
       "        vertical-align: top;\n",
       "    }\n",
       "\n",
       "    .dataframe thead th {\n",
       "        text-align: right;\n",
       "    }\n",
       "</style>\n",
       "<table border=\"1\" class=\"dataframe\">\n",
       "  <thead>\n",
       "    <tr style=\"text-align: right;\">\n",
       "      <th></th>\n",
       "      <th>text</th>\n",
       "      <th>target</th>\n",
       "    </tr>\n",
       "  </thead>\n",
       "  <tbody>\n",
       "    <tr>\n",
       "      <th>0</th>\n",
       "      <td>all attached repo  see par  margin maintenance...</td>\n",
       "      <td>0</td>\n",
       "    </tr>\n",
       "    <tr>\n",
       "      <th>1</th>\n",
       "      <td>bookouts   bookouts   bookouts   bookouts</td>\n",
       "      <td>0</td>\n",
       "    </tr>\n",
       "    <tr>\n",
       "      <th>2</th>\n",
       "      <td>hi just let know planning go conroe sunday hou...</td>\n",
       "      <td>0</td>\n",
       "    </tr>\n",
       "    <tr>\n",
       "      <th>3</th>\n",
       "      <td>when thursday december    pm pm gmt centraltim...</td>\n",
       "      <td>0</td>\n",
       "    </tr>\n",
       "    <tr>\n",
       "      <th>4</th>\n",
       "      <td>original messagefrom weidong tian wdtian_yaho...</td>\n",
       "      <td>0</td>\n",
       "    </tr>\n",
       "  </tbody>\n",
       "</table>\n",
       "</div>\n",
       "      <button class=\"colab-df-convert\" onclick=\"convertToInteractive('df-c39e4da9-6e43-4c23-88a4-21e2755b918b')\"\n",
       "              title=\"Convert this dataframe to an interactive table.\"\n",
       "              style=\"display:none;\">\n",
       "\n",
       "  <svg xmlns=\"http://www.w3.org/2000/svg\" height=\"24px\"viewBox=\"0 0 24 24\"\n",
       "       width=\"24px\">\n",
       "    <path d=\"M0 0h24v24H0V0z\" fill=\"none\"/>\n",
       "    <path d=\"M18.56 5.44l.94 2.06.94-2.06 2.06-.94-2.06-.94-.94-2.06-.94 2.06-2.06.94zm-11 1L8.5 8.5l.94-2.06 2.06-.94-2.06-.94L8.5 2.5l-.94 2.06-2.06.94zm10 10l.94 2.06.94-2.06 2.06-.94-2.06-.94-.94-2.06-.94 2.06-2.06.94z\"/><path d=\"M17.41 7.96l-1.37-1.37c-.4-.4-.92-.59-1.43-.59-.52 0-1.04.2-1.43.59L10.3 9.45l-7.72 7.72c-.78.78-.78 2.05 0 2.83L4 21.41c.39.39.9.59 1.41.59.51 0 1.02-.2 1.41-.59l7.78-7.78 2.81-2.81c.8-.78.8-2.07 0-2.86zM5.41 20L4 18.59l7.72-7.72 1.47 1.35L5.41 20z\"/>\n",
       "  </svg>\n",
       "      </button>\n",
       "\n",
       "\n",
       "\n",
       "    <div id=\"df-81a87790-44d7-4b5d-b8b7-d137f311535d\">\n",
       "      <button class=\"colab-df-quickchart\" onclick=\"quickchart('df-81a87790-44d7-4b5d-b8b7-d137f311535d')\"\n",
       "              title=\"Suggest charts.\"\n",
       "              style=\"display:none;\">\n",
       "\n",
       "<svg xmlns=\"http://www.w3.org/2000/svg\" height=\"24px\"viewBox=\"0 0 24 24\"\n",
       "     width=\"24px\">\n",
       "    <g>\n",
       "        <path d=\"M19 3H5c-1.1 0-2 .9-2 2v14c0 1.1.9 2 2 2h14c1.1 0 2-.9 2-2V5c0-1.1-.9-2-2-2zM9 17H7v-7h2v7zm4 0h-2V7h2v10zm4 0h-2v-4h2v4z\"/>\n",
       "    </g>\n",
       "</svg>\n",
       "      </button>\n",
       "    </div>\n",
       "\n",
       "<style>\n",
       "  .colab-df-quickchart {\n",
       "    background-color: #E8F0FE;\n",
       "    border: none;\n",
       "    border-radius: 50%;\n",
       "    cursor: pointer;\n",
       "    display: none;\n",
       "    fill: #1967D2;\n",
       "    height: 32px;\n",
       "    padding: 0 0 0 0;\n",
       "    width: 32px;\n",
       "  }\n",
       "\n",
       "  .colab-df-quickchart:hover {\n",
       "    background-color: #E2EBFA;\n",
       "    box-shadow: 0px 1px 2px rgba(60, 64, 67, 0.3), 0px 1px 3px 1px rgba(60, 64, 67, 0.15);\n",
       "    fill: #174EA6;\n",
       "  }\n",
       "\n",
       "  [theme=dark] .colab-df-quickchart {\n",
       "    background-color: #3B4455;\n",
       "    fill: #D2E3FC;\n",
       "  }\n",
       "\n",
       "  [theme=dark] .colab-df-quickchart:hover {\n",
       "    background-color: #434B5C;\n",
       "    box-shadow: 0px 1px 3px 1px rgba(0, 0, 0, 0.15);\n",
       "    filter: drop-shadow(0px 1px 2px rgba(0, 0, 0, 0.3));\n",
       "    fill: #FFFFFF;\n",
       "  }\n",
       "</style>\n",
       "\n",
       "    <script>\n",
       "      async function quickchart(key) {\n",
       "        const containerElement = document.querySelector('#' + key);\n",
       "        const charts = await google.colab.kernel.invokeFunction(\n",
       "            'suggestCharts', [key], {});\n",
       "      }\n",
       "    </script>\n",
       "\n",
       "      <script>\n",
       "\n",
       "function displayQuickchartButton(domScope) {\n",
       "  let quickchartButtonEl =\n",
       "    domScope.querySelector('#df-81a87790-44d7-4b5d-b8b7-d137f311535d button.colab-df-quickchart');\n",
       "  quickchartButtonEl.style.display =\n",
       "    google.colab.kernel.accessAllowed ? 'block' : 'none';\n",
       "}\n",
       "\n",
       "        displayQuickchartButton(document);\n",
       "      </script>\n",
       "      <style>\n",
       "    .colab-df-container {\n",
       "      display:flex;\n",
       "      flex-wrap:wrap;\n",
       "      gap: 12px;\n",
       "    }\n",
       "\n",
       "    .colab-df-convert {\n",
       "      background-color: #E8F0FE;\n",
       "      border: none;\n",
       "      border-radius: 50%;\n",
       "      cursor: pointer;\n",
       "      display: none;\n",
       "      fill: #1967D2;\n",
       "      height: 32px;\n",
       "      padding: 0 0 0 0;\n",
       "      width: 32px;\n",
       "    }\n",
       "\n",
       "    .colab-df-convert:hover {\n",
       "      background-color: #E2EBFA;\n",
       "      box-shadow: 0px 1px 2px rgba(60, 64, 67, 0.3), 0px 1px 3px 1px rgba(60, 64, 67, 0.15);\n",
       "      fill: #174EA6;\n",
       "    }\n",
       "\n",
       "    [theme=dark] .colab-df-convert {\n",
       "      background-color: #3B4455;\n",
       "      fill: #D2E3FC;\n",
       "    }\n",
       "\n",
       "    [theme=dark] .colab-df-convert:hover {\n",
       "      background-color: #434B5C;\n",
       "      box-shadow: 0px 1px 3px 1px rgba(0, 0, 0, 0.15);\n",
       "      filter: drop-shadow(0px 1px 2px rgba(0, 0, 0, 0.3));\n",
       "      fill: #FFFFFF;\n",
       "    }\n",
       "  </style>\n",
       "\n",
       "      <script>\n",
       "        const buttonEl =\n",
       "          document.querySelector('#df-c39e4da9-6e43-4c23-88a4-21e2755b918b button.colab-df-convert');\n",
       "        buttonEl.style.display =\n",
       "          google.colab.kernel.accessAllowed ? 'block' : 'none';\n",
       "\n",
       "        async function convertToInteractive(key) {\n",
       "          const element = document.querySelector('#df-c39e4da9-6e43-4c23-88a4-21e2755b918b');\n",
       "          const dataTable =\n",
       "            await google.colab.kernel.invokeFunction('convertToInteractive',\n",
       "                                                     [key], {});\n",
       "          if (!dataTable) return;\n",
       "\n",
       "          const docLinkHtml = 'Like what you see? Visit the ' +\n",
       "            '<a target=\"_blank\" href=https://colab.research.google.com/notebooks/data_table.ipynb>data table notebook</a>'\n",
       "            + ' to learn more about interactive tables.';\n",
       "          element.innerHTML = '';\n",
       "          dataTable['output_type'] = 'display_data';\n",
       "          await google.colab.output.renderOutput(dataTable, element);\n",
       "          const docLink = document.createElement('div');\n",
       "          docLink.innerHTML = docLinkHtml;\n",
       "          element.appendChild(docLink);\n",
       "        }\n",
       "      </script>\n",
       "    </div>\n",
       "  </div>\n"
      ],
      "text/plain": [
       "                                                text  target\n",
       "0  all attached repo  see par  margin maintenance...       0\n",
       "1       bookouts   bookouts   bookouts   bookouts          0\n",
       "2  hi just let know planning go conroe sunday hou...       0\n",
       "3  when thursday december    pm pm gmt centraltim...       0\n",
       "4   original messagefrom weidong tian wdtian_yaho...       0"
      ]
     },
     "execution_count": 163,
     "metadata": {},
     "output_type": "execute_result"
    }
   ],
   "source": [
    "test_125_df.head()"
   ]
  },
  {
   "cell_type": "code",
   "execution_count": 85,
   "metadata": {
    "colab": {
     "base_uri": "https://localhost:8080/"
    },
    "id": "0hvMyQTfvjpo",
    "outputId": "5191baea-e835-49ed-eccf-ebc950cf7cb1"
   },
   "outputs": [
    {
     "name": "stdout",
     "output_type": "stream",
     "text": [
      "4/4 [==============================] - 65s 16s/step\n"
     ]
    }
   ],
   "source": [
    "predict_125 = model.predict(test_125_df['text'])"
   ]
  },
  {
   "cell_type": "code",
   "execution_count": 86,
   "metadata": {
    "id": "s9GwpBxnxBIn"
   },
   "outputs": [],
   "source": [
    "y_predict_125 =  np.where(predict_125 > 0.5, 1, 0)\n",
    "y_predict_125 = y_predict_125.reshape(-1)"
   ]
  },
  {
   "cell_type": "code",
   "execution_count": 87,
   "metadata": {
    "id": "N_v4Nadyxb1N"
   },
   "outputs": [],
   "source": [
    "y_true_125 = test_125_df['target'].to_numpy()\n"
   ]
  },
  {
   "cell_type": "code",
   "execution_count": 92,
   "metadata": {
    "id": "DmE_arpJvzOk"
   },
   "outputs": [],
   "source": [
    "\n",
    "report_125 = classification_report(y_true_125, y_predict_125, target_names=[\"not phishing\", \"phishing\"])\n"
   ]
  },
  {
   "cell_type": "code",
   "execution_count": 93,
   "metadata": {
    "colab": {
     "base_uri": "https://localhost:8080/"
    },
    "id": "in5lllyBvzUs",
    "outputId": "b669cead-4313-4063-fe50-6e640e856d0c"
   },
   "outputs": [
    {
     "name": "stdout",
     "output_type": "stream",
     "text": [
      "              precision    recall  f1-score   support\n",
      "\n",
      "not phishing       1.00      0.93      0.96       100\n",
      "    phishing       0.78      1.00      0.88        25\n",
      "\n",
      "    accuracy                           0.94       125\n",
      "   macro avg       0.89      0.97      0.92       125\n",
      "weighted avg       0.96      0.94      0.95       125\n",
      "\n"
     ]
    }
   ],
   "source": [
    "print(report_125)"
   ]
  },
  {
   "cell_type": "markdown",
   "metadata": {
    "id": "ASumnqacyKs4"
   },
   "source": [
    "# chatgpt 4"
   ]
  },
  {
   "cell_type": "code",
   "execution_count": null,
   "metadata": {
    "id": "mzFznIuO-WX7"
   },
   "outputs": [],
   "source": []
  },
  {
   "cell_type": "code",
   "execution_count": 99,
   "metadata": {
    "colab": {
     "base_uri": "https://localhost:8080/"
    },
    "id": "Fbm0fLsR1w8w",
    "outputId": "29761780-c773-47b7-c3d6-0be2fcf9ae28"
   },
   "outputs": [
    {
     "data": {
      "text/plain": [
       "Int64Index([295, 170,  54, 155, 344,  25,  42,  63, 325, 330, 194,  59, 114,\n",
       "            381, 363, 197, 336, 173, 140, 148, 153, 399, 270, 187, 196],\n",
       "           dtype='int64')"
      ]
     },
     "execution_count": 99,
     "metadata": {},
     "output_type": "execute_result"
    }
   ],
   "source": [
    "test_dataset_raw_1_100.index"
   ]
  },
  {
   "cell_type": "code",
   "execution_count": 100,
   "metadata": {
    "id": "-IkJVhW4vzbL"
   },
   "outputs": [],
   "source": [
    "test_dataset_raw_gpt4 = test_dataset_raw_1_100"
   ]
  },
  {
   "cell_type": "code",
   "execution_count": 149,
   "metadata": {
    "colab": {
     "base_uri": "https://localhost:8080/",
     "height": 125
    },
    "id": "pdwbhlbQx4CB",
    "outputId": "4a495b74-dfe8-483f-9164-1f1e237ca308"
   },
   "outputs": [
    {
     "data": {
      "application/vnd.google.colaboratory.intrinsic+json": {
       "type": "string"
      },
      "text/plain": [
       "'dear sirmadamdo accept sincere apologies mail meet personal ethicsi introduce staff accounts management section ofa wellknown bank united kingdom one accounts holding balance afifteen millionbritish pounds dormant operated past years from investigations confirmations owner account foreignerby name austin martins died august  since nobody doneanything as regards claiming money familymembers aware existence neither account fundsalso information from national immigration states also singleon entry uki secretly discussed matter bank officials andwe agreed find reliable foreign partner deal with we thuspropose business you standing next kin thesefunds deceased funds released due processes havebeen followed this transaction totally free risk troubles fund legitimateand originate drug money laundry terrorism otherillegal'"
      ]
     },
     "execution_count": 149,
     "metadata": {},
     "output_type": "execute_result"
    }
   ],
   "source": [
    "test_dataset_raw_gpt4['text'][196]"
   ]
  },
  {
   "cell_type": "code",
   "execution_count": 103,
   "metadata": {
    "colab": {
     "base_uri": "https://localhost:8080/"
    },
    "id": "2T4tW7nlx4Hb",
    "outputId": "66231403-ce8e-4c87-87c8-0eaa27a0b212"
   },
   "outputs": [
    {
     "name": "stderr",
     "output_type": "stream",
     "text": [
      "<ipython-input-103-2852b88e4293>:1: SettingWithCopyWarning: \n",
      "A value is trying to be set on a copy of a slice from a DataFrame\n",
      "\n",
      "See the caveats in the documentation: https://pandas.pydata.org/pandas-docs/stable/user_guide/indexing.html#returning-a-view-versus-a-copy\n",
      "  test_dataset_raw_gpt4['text'][295] = \"Hi, I'm Bhamini Lele from Centrafest Technologies Pvt. Ltd. in Mumbai, India, reaching out in my role within Customer Reach and Support. We're thrilled to present our latest product, the Business Card Reader Cum Photo Scanner, Model Plus. This device offers a host of features including dual-sided scanning, memo writing, label printing, customized categories, online category setting, reminder system, import/export to third-party packages, and the capacity to scan different sizes of business cards, maintaining their colour and detail. This product has been designed considering feedback from our key corporate clients, ensuring it meets diverse document handling needs. Our records indicate that you, along with Ms. Sneha and Ms. Shefali, have shown interest in such a device. If you have already purchased and are content with a scanner from us, please disregard this message. I look forward to your response and stand ready to answer any questions or provide further information. Best, Bhamini Lele, Centrafest Technologies Pvt. Ltd.\"\n"
     ]
    }
   ],
   "source": [
    "test_dataset_raw_gpt4['text'][295] = \"Hi, I'm Bhamini Lele from Centrafest Technologies Pvt. Ltd. in Mumbai, India, reaching out in my role within Customer Reach and Support. We're thrilled to present our latest product, the Business Card Reader Cum Photo Scanner, Model Plus. This device offers a host of features including dual-sided scanning, memo writing, label printing, customized categories, online category setting, reminder system, import/export to third-party packages, and the capacity to scan different sizes of business cards, maintaining their colour and detail. This product has been designed considering feedback from our key corporate clients, ensuring it meets diverse document handling needs. Our records indicate that you, along with Ms. Sneha and Ms. Shefali, have shown interest in such a device. If you have already purchased and are content with a scanner from us, please disregard this message. I look forward to your response and stand ready to answer any questions or provide further information. Best, Bhamini Lele, Centrafest Technologies Pvt. Ltd.\""
   ]
  },
  {
   "cell_type": "code",
   "execution_count": 106,
   "metadata": {
    "colab": {
     "base_uri": "https://localhost:8080/"
    },
    "id": "sWldizN_x4M5",
    "outputId": "27479410-1c2a-4115-c28a-35dae7e59f27"
   },
   "outputs": [
    {
     "name": "stderr",
     "output_type": "stream",
     "text": [
      "<ipython-input-106-32d7a5100fe9>:1: SettingWithCopyWarning: \n",
      "A value is trying to be set on a copy of a slice from a DataFrame\n",
      "\n",
      "See the caveats in the documentation: https://pandas.pydata.org/pandas-docs/stable/user_guide/indexing.html#returning-a-view-versus-a-copy\n",
      "  test_dataset_raw_gpt4['text'][170] = \"Attention, I am Mr. Moni Millat, a member of the Independent Committee of Eminent Persons (ICEP) in Switzerland. The ICEP is tasked with identifying dormant bank accounts in Switzerland, originally owned by non-Swiss citizens, that have been inactive since World War II. Intriguingly, in July, the Swiss Bankers Association disclosed a list of such accounts, a majority of which belonged to victims of the Holocaust. The relentless efforts of the ICEP have led to the identification of additional dormant accounts as of December. These accounts range from interest-bearing savings accounts, securities accounts, safe deposit boxes, custody accounts, non-interest-bearing transaction accounts, to numbered accounts. Accounts that are interest-bearing have been accumulating interest since their inception. Claims on these accounts by non-Swiss citizens are managed by the Claims Resolution Tribunal (CRT). Recently, a dormant account named 'Ordner Adele' was discovered, holding a credit balance of US dollars along with accumulated interest. Unfortunately, the intended recipient was a victim of the Holocaust era, leaving no will.\"\n"
     ]
    }
   ],
   "source": [
    "test_dataset_raw_gpt4['text'][170] = \"Attention, I am Mr. Moni Millat, a member of the Independent Committee of Eminent Persons (ICEP) in Switzerland. The ICEP is tasked with identifying dormant bank accounts in Switzerland, originally owned by non-Swiss citizens, that have been inactive since World War II. Intriguingly, in July, the Swiss Bankers Association disclosed a list of such accounts, a majority of which belonged to victims of the Holocaust. The relentless efforts of the ICEP have led to the identification of additional dormant accounts as of December. These accounts range from interest-bearing savings accounts, securities accounts, safe deposit boxes, custody accounts, non-interest-bearing transaction accounts, to numbered accounts. Accounts that are interest-bearing have been accumulating interest since their inception. Claims on these accounts by non-Swiss citizens are managed by the Claims Resolution Tribunal (CRT). Recently, a dormant account named 'Ordner Adele' was discovered, holding a credit balance of US dollars along with accumulated interest. Unfortunately, the intended recipient was a victim of the Holocaust era, leaving no will.\""
   ]
  },
  {
   "cell_type": "code",
   "execution_count": 108,
   "metadata": {
    "colab": {
     "base_uri": "https://localhost:8080/"
    },
    "id": "Ehl-fd7Dx4SV",
    "outputId": "77b0a2dd-ed11-4666-b9bb-a6a8c4e99b79"
   },
   "outputs": [
    {
     "name": "stderr",
     "output_type": "stream",
     "text": [
      "<ipython-input-108-52f4a5d19364>:1: SettingWithCopyWarning: \n",
      "A value is trying to be set on a copy of a slice from a DataFrame\n",
      "\n",
      "See the caveats in the documentation: https://pandas.pydata.org/pandas-docs/stable/user_guide/indexing.html#returning-a-view-versus-a-copy\n",
      "  test_dataset_raw_gpt4['text'][54] = \"Good day,I'm John Williams, an auditor and computing staff member at a bank here in England. I am reaching out because of an urgent matter concerning an inactive account opened in 2000. No activity has been recorded since 2003, and without immediate action, the substantial funds within will be forfeit. The account holder was Mr. Maxwell Brown, a foreigner and manager of a petrol chemical service in England. A chemical engineer by profession, Mr. Brown passed away in 2003, and since then, no claims have been made on his account, which holds £18,000,000. My investigation confirms that his company is unaware of this account. To prevent these funds from being lost, I am seeking a trustworthy individual to assist in the transfer of this significant amount to a secure foreign account.\"\n"
     ]
    }
   ],
   "source": [
    "test_dataset_raw_gpt4['text'][54] = \"Good day,I'm John Williams, an auditor and computing staff member at a bank here in England. I am reaching out because of an urgent matter concerning an inactive account opened in 2000. No activity has been recorded since 2003, and without immediate action, the substantial funds within will be forfeit. The account holder was Mr. Maxwell Brown, a foreigner and manager of a petrol chemical service in England. A chemical engineer by profession, Mr. Brown passed away in 2003, and since then, no claims have been made on his account, which holds £18,000,000. My investigation confirms that his company is unaware of this account. To prevent these funds from being lost, I am seeking a trustworthy individual to assist in the transfer of this significant amount to a secure foreign account.\""
   ]
  },
  {
   "cell_type": "code",
   "execution_count": 110,
   "metadata": {
    "colab": {
     "base_uri": "https://localhost:8080/"
    },
    "id": "PySwgvhQx4Xu",
    "outputId": "664207b9-9d02-4fa3-8658-b32b4d688411"
   },
   "outputs": [
    {
     "name": "stderr",
     "output_type": "stream",
     "text": [
      "<ipython-input-110-f00e481a22c0>:1: SettingWithCopyWarning: \n",
      "A value is trying to be set on a copy of a slice from a DataFrame\n",
      "\n",
      "See the caveats in the documentation: https://pandas.pydata.org/pandas-docs/stable/user_guide/indexing.html#returning-a-view-versus-a-copy\n",
      "  test_dataset_raw_gpt4['text'][155] =\"Greetings, In the name of the Almighty, I, Engapet Kayce from New Sweden, write to you with sincere intentions. Previously, I was associated with Shell Petroleum in Iraq and was a major offshore oil rig investor, but recent health challenges have significantly altered my circumstances. I've been affected by a stroke that has left half of my body paralyzed, and extensive eye surgery has resulted in poor vision. Despite seeking spiritual and medical remedies over the last three years, my situation remains dire, with my doctor predicting permanent immobilization. Regrettably, I lack close relatives to support me during this challenging time; my only known kin, a distant cousin named Mrs. Linda Lefler, emigrated to Australia ten years ago, and I have lost contact with her. Having surrendered my life to God's will, I am inspired to perform a good deed before my time comes, which is why I am reaching out to you today.\"\n"
     ]
    }
   ],
   "source": [
    "test_dataset_raw_gpt4['text'][155] =\"Greetings, In the name of the Almighty, I, Engapet Kayce from New Sweden, write to you with sincere intentions. Previously, I was associated with Shell Petroleum in Iraq and was a major offshore oil rig investor, but recent health challenges have significantly altered my circumstances. I've been affected by a stroke that has left half of my body paralyzed, and extensive eye surgery has resulted in poor vision. Despite seeking spiritual and medical remedies over the last three years, my situation remains dire, with my doctor predicting permanent immobilization. Regrettably, I lack close relatives to support me during this challenging time; my only known kin, a distant cousin named Mrs. Linda Lefler, emigrated to Australia ten years ago, and I have lost contact with her. Having surrendered my life to God's will, I am inspired to perform a good deed before my time comes, which is why I am reaching out to you today.\""
   ]
  },
  {
   "cell_type": "code",
   "execution_count": 112,
   "metadata": {
    "colab": {
     "base_uri": "https://localhost:8080/"
    },
    "id": "47h2AqUMx4c0",
    "outputId": "06dfac70-b3a1-405b-a4ae-3138a3fe3c25"
   },
   "outputs": [
    {
     "name": "stderr",
     "output_type": "stream",
     "text": [
      "<ipython-input-112-042e262e0471>:1: SettingWithCopyWarning: \n",
      "A value is trying to be set on a copy of a slice from a DataFrame\n",
      "\n",
      "See the caveats in the documentation: https://pandas.pydata.org/pandas-docs/stable/user_guide/indexing.html#returning-a-view-versus-a-copy\n",
      "  test_dataset_raw_gpt4['text'][344] =\"Subject: Investment Relationship Request from Tabel D. Michael Hello, I'm Tabel Djedje Michael, a 20-year-old, and the younger brother of Maria Michael, who is 24 years old. We are the children of the late Dr. and Mrs. Djedje Michael, our father being a former Minister of the Interior in Ivory Coast, a respected merchant, politician, and a figure of repute in Abidjan, the economic capital of the Ivory Coast. Unfortunately, our father fell victim to political unrest in our country and was assassinated on September 20th, amidst the violence. We were at church when our house was set ablaze by malevolent government agents. Our mother passed away 10 years earlier, and since then, our father took special care of us and never remarried. We currently live with our 90-year-old grandmother. Our father's friend, Mrs. Lim S. Tsing, who works at an information center in Japan, recommended reaching out to a group of contacts for assistance, and from those, we chose you for a business relationship. The purpose of this message is to discuss a potential investment opportunity.\"\n"
     ]
    }
   ],
   "source": [
    "test_dataset_raw_gpt4['text'][344] =\"Subject: Investment Relationship Request from Tabel D. Michael Hello, I'm Tabel Djedje Michael, a 20-year-old, and the younger brother of Maria Michael, who is 24 years old. We are the children of the late Dr. and Mrs. Djedje Michael, our father being a former Minister of the Interior in Ivory Coast, a respected merchant, politician, and a figure of repute in Abidjan, the economic capital of the Ivory Coast. Unfortunately, our father fell victim to political unrest in our country and was assassinated on September 20th, amidst the violence. We were at church when our house was set ablaze by malevolent government agents. Our mother passed away 10 years earlier, and since then, our father took special care of us and never remarried. We currently live with our 90-year-old grandmother. Our father's friend, Mrs. Lim S. Tsing, who works at an information center in Japan, recommended reaching out to a group of contacts for assistance, and from those, we chose you for a business relationship. The purpose of this message is to discuss a potential investment opportunity.\""
   ]
  },
  {
   "cell_type": "code",
   "execution_count": 114,
   "metadata": {
    "colab": {
     "base_uri": "https://localhost:8080/"
    },
    "id": "t82ip0Zkx4hP",
    "outputId": "6a5ae57c-80f1-4d90-fc8c-29bc04bd2c66"
   },
   "outputs": [
    {
     "name": "stderr",
     "output_type": "stream",
     "text": [
      "<ipython-input-114-d39a8fd0bf83>:1: SettingWithCopyWarning: \n",
      "A value is trying to be set on a copy of a slice from a DataFrame\n",
      "\n",
      "See the caveats in the documentation: https://pandas.pydata.org/pandas-docs/stable/user_guide/indexing.html#returning-a-view-versus-a-copy\n",
      "  test_dataset_raw_gpt4['text'][25] =\"Subject: Investment and Resettlement Request from Mrs. Hassane Dear Managing Director, Allow me to introduce myself - I am Mrs. Amina Hassane, an Iraqi refugee. My late husband was a personal aide to the former Iraqi president, overthrown by the American government. Amidst the crisis that continues to plague my country, my husband was able to secure a large sum of US $30 million before his untimely passing. With his contacts, we managed to safeguard these funds in Thailand. I am reaching out because I am keen on investing in your country, given its friendly investment environment. I would greatly appreciate your guidance and assistance in making the right investment decisions, as well as purchasing a residential property, as I am planning to move my family there as soon as all logistical details are sorted. It's important to me that we approach this with complete mutual satisfaction in mind.\"\n"
     ]
    }
   ],
   "source": [
    "test_dataset_raw_gpt4['text'][25] =\"Subject: Investment and Resettlement Request from Mrs. Hassane Dear Managing Director, Allow me to introduce myself - I am Mrs. Amina Hassane, an Iraqi refugee. My late husband was a personal aide to the former Iraqi president, overthrown by the American government. Amidst the crisis that continues to plague my country, my husband was able to secure a large sum of US $30 million before his untimely passing. With his contacts, we managed to safeguard these funds in Thailand. I am reaching out because I am keen on investing in your country, given its friendly investment environment. I would greatly appreciate your guidance and assistance in making the right investment decisions, as well as purchasing a residential property, as I am planning to move my family there as soon as all logistical details are sorted. It's important to me that we approach this with complete mutual satisfaction in mind.\""
   ]
  },
  {
   "cell_type": "code",
   "execution_count": 117,
   "metadata": {
    "colab": {
     "base_uri": "https://localhost:8080/"
    },
    "id": "oTQqhE_uvzhk",
    "outputId": "c8e60689-dc5d-496d-8730-4faeb2d71b2a"
   },
   "outputs": [
    {
     "name": "stderr",
     "output_type": "stream",
     "text": [
      "<ipython-input-117-1d524d14a0b9>:1: SettingWithCopyWarning: \n",
      "A value is trying to be set on a copy of a slice from a DataFrame\n",
      "\n",
      "See the caveats in the documentation: https://pandas.pydata.org/pandas-docs/stable/user_guide/indexing.html#returning-a-view-versus-a-copy\n",
      "  test_dataset_raw_gpt4['text'][63] = \"Subject: Urgent Matter Concerning Unclaimed AssetsDear Sir,My name is Dr. Richard Shubane, and I am the Operational Manager in charge of Credit and Foreign Bills at one of South Africa's leading banks, located in the main city of Johannesburg. I'm reaching out to discuss a significant matter concerning a deceased foreign customer of our bank who, along with his entire family, tragically perished in the Concorde plane crash (Flight AF 4590) on July 25, 2000. This client, a prominent industrialist, opened an account with us in 1995, but unfortunately, left no written or oral will associated with the account. Since his death, we've been unable to locate any next of kin to claim the funds, which have remained unclaimed due to the secrecy surrounding the account. The account, worth $106 million USD, was solely in his name and under the management of his company until his demise. Our plan is to initiate a transfer of $6 million USD to ensure a smooth, disappointment-free transaction before proceeding with the transfer of the remaining balance. I've confidentially discussed this matter with the General Manager of the bank and we are prepared to move forward.\"\n"
     ]
    }
   ],
   "source": [
    "test_dataset_raw_gpt4['text'][63] = \"Subject: Urgent Matter Concerning Unclaimed AssetsDear Sir,My name is Dr. Richard Shubane, and I am the Operational Manager in charge of Credit and Foreign Bills at one of South Africa's leading banks, located in the main city of Johannesburg. I'm reaching out to discuss a significant matter concerning a deceased foreign customer of our bank who, along with his entire family, tragically perished in the Concorde plane crash (Flight AF 4590) on July 25, 2000. This client, a prominent industrialist, opened an account with us in 1995, but unfortunately, left no written or oral will associated with the account. Since his death, we've been unable to locate any next of kin to claim the funds, which have remained unclaimed due to the secrecy surrounding the account. The account, worth $106 million USD, was solely in his name and under the management of his company until his demise. Our plan is to initiate a transfer of $6 million USD to ensure a smooth, disappointment-free transaction before proceeding with the transfer of the remaining balance. I've confidentially discussed this matter with the General Manager of the bank and we are prepared to move forward.\""
   ]
  },
  {
   "cell_type": "code",
   "execution_count": 119,
   "metadata": {
    "colab": {
     "base_uri": "https://localhost:8080/"
    },
    "id": "9XC38MNxvznG",
    "outputId": "954b62a1-1f9a-4cf1-a02d-df87b3c9f404"
   },
   "outputs": [
    {
     "name": "stderr",
     "output_type": "stream",
     "text": [
      "<ipython-input-119-cbce70da5920>:1: SettingWithCopyWarning: \n",
      "A value is trying to be set on a copy of a slice from a DataFrame\n",
      "\n",
      "See the caveats in the documentation: https://pandas.pydata.org/pandas-docs/stable/user_guide/indexing.html#returning-a-view-versus-a-copy\n",
      "  test_dataset_raw_gpt4['text'][325] = \"Subject: Request for Assistance in Business Venture Dear Recipient,My name is Gordon Blackwell, writing to you from Amsterdam, Netherlands. I found your contact via a private internet search, and I am confident in your honesty and commitment to assist in a sensitive business matter. This venture involves funds originally owned by a foreign oil merchant and contractor with the government of the Netherlands who tragically passed away in a Kenya Airways Flight KQ plane crash several years ago. As of July, the deceased's account balance was $4.5 million USD, and the bank is currently seeking a next of kin to claim these funds. Despite the bank's efforts, no family or relative of the deceased has been located. Given the unsuccessful search and the possibility that no next of kin can be found, the management, under the influence of the chairman of the board of directors, is arranging for the funds to be claimed and thus requires your assistance.\"\n"
     ]
    }
   ],
   "source": [
    "test_dataset_raw_gpt4['text'][325] = \"Subject: Request for Assistance in Business Venture Dear Recipient,My name is Gordon Blackwell, writing to you from Amsterdam, Netherlands. I found your contact via a private internet search, and I am confident in your honesty and commitment to assist in a sensitive business matter. This venture involves funds originally owned by a foreign oil merchant and contractor with the government of the Netherlands who tragically passed away in a Kenya Airways Flight KQ plane crash several years ago. As of July, the deceased's account balance was $4.5 million USD, and the bank is currently seeking a next of kin to claim these funds. Despite the bank's efforts, no family or relative of the deceased has been located. Given the unsuccessful search and the possibility that no next of kin can be found, the management, under the influence of the chairman of the board of directors, is arranging for the funds to be claimed and thus requires your assistance.\""
   ]
  },
  {
   "cell_type": "code",
   "execution_count": 121,
   "metadata": {
    "colab": {
     "base_uri": "https://localhost:8080/"
    },
    "id": "hQZL9NITslIw",
    "outputId": "38e0bd87-f37b-405b-b374-deb386aeaba6"
   },
   "outputs": [
    {
     "name": "stderr",
     "output_type": "stream",
     "text": [
      "<ipython-input-121-0bbd057ea904>:1: SettingWithCopyWarning: \n",
      "A value is trying to be set on a copy of a slice from a DataFrame\n",
      "\n",
      "See the caveats in the documentation: https://pandas.pydata.org/pandas-docs/stable/user_guide/indexing.html#returning-a-view-versus-a-copy\n",
      "  test_dataset_raw_gpt4['text'][330] =\"Subject: Business Investment Proposal Dear Recipient,I am Mrs. Femia Bangura and I wish to propose a collaborative business venture in your country. Despite my limited knowledge of international business and investment, I have substantial capital that I intend to invest into a lucrative venture in your country, as you advise. My vision is to make you my business partner, trustee, and representative, creating ideas together for the money to be invested, and probably managed. Your assistance is crucial in transferring the money and safeguarding my interests. Upon your acceptance of this proposal, I will provide you with detailed information, the procedures involved, the exact amount, and agree on a mutual percentage interest for your involvement in helping secure the release of the deposit and investing the money. I highly appreciate your immediate attention to this matter, and I look forward to your positive response.\"\n"
     ]
    }
   ],
   "source": [
    "test_dataset_raw_gpt4['text'][330] =\"Subject: Business Investment Proposal Dear Recipient,I am Mrs. Femia Bangura and I wish to propose a collaborative business venture in your country. Despite my limited knowledge of international business and investment, I have substantial capital that I intend to invest into a lucrative venture in your country, as you advise. My vision is to make you my business partner, trustee, and representative, creating ideas together for the money to be invested, and probably managed. Your assistance is crucial in transferring the money and safeguarding my interests. Upon your acceptance of this proposal, I will provide you with detailed information, the procedures involved, the exact amount, and agree on a mutual percentage interest for your involvement in helping secure the release of the deposit and investing the money. I highly appreciate your immediate attention to this matter, and I look forward to your positive response.\""
   ]
  },
  {
   "cell_type": "code",
   "execution_count": 124,
   "metadata": {
    "colab": {
     "base_uri": "https://localhost:8080/"
    },
    "id": "-HivsjEFslNs",
    "outputId": "63afc54e-512b-4eb4-eac9-a0ae95ac8f77"
   },
   "outputs": [
    {
     "name": "stderr",
     "output_type": "stream",
     "text": [
      "<ipython-input-124-127d9ec75cd3>:1: SettingWithCopyWarning: \n",
      "A value is trying to be set on a copy of a slice from a DataFrame\n",
      "\n",
      "See the caveats in the documentation: https://pandas.pydata.org/pandas-docs/stable/user_guide/indexing.html#returning-a-view-versus-a-copy\n",
      "  test_dataset_raw_gpt4['text'][59] =\"Subject: Urgent Assistance Needed Dear Friend,My name is Mrs. Elita Ngoni Tawanda, the widow of the late Ndinonzi Kajengo Tawanda, a farmer from Zimbabwe who was tragically murdered in a land dispute. I found your contact through an online network and felt compelled to reach out. Before my husband's untimely demise, he had safely deposited a consignment with a security company at an undisclosed location, which I can reveal upon receiving your positive response. Although the consignment was declared to contain gemstones for security reasons, it actually holds $12.5 million USD. My husband had anticipated the potential dangers tied to Zimbabwe's land policies and made this precautionary measure. Please note, the security company is unaware of the consignment's true contents. The funds were initially intended for purchasing new agricultural machinery, chemicals for our farms, and establishing new farms in Swaziland prior to the land issues provoked by President Robert Mugabe of Zimbabwe. I am reaching out for your assistance in this matter.\"\n"
     ]
    }
   ],
   "source": [
    "test_dataset_raw_gpt4['text'][59] =\"Subject: Urgent Assistance Needed Dear Friend,My name is Mrs. Elita Ngoni Tawanda, the widow of the late Ndinonzi Kajengo Tawanda, a farmer from Zimbabwe who was tragically murdered in a land dispute. I found your contact through an online network and felt compelled to reach out. Before my husband's untimely demise, he had safely deposited a consignment with a security company at an undisclosed location, which I can reveal upon receiving your positive response. Although the consignment was declared to contain gemstones for security reasons, it actually holds $12.5 million USD. My husband had anticipated the potential dangers tied to Zimbabwe's land policies and made this precautionary measure. Please note, the security company is unaware of the consignment's true contents. The funds were initially intended for purchasing new agricultural machinery, chemicals for our farms, and establishing new farms in Swaziland prior to the land issues provoked by President Robert Mugabe of Zimbabwe. I am reaching out for your assistance in this matter.\""
   ]
  },
  {
   "cell_type": "code",
   "execution_count": 126,
   "metadata": {
    "colab": {
     "base_uri": "https://localhost:8080/"
    },
    "id": "DlQBpYyG489V",
    "outputId": "d7875791-b33a-4867-8d83-93191f404674"
   },
   "outputs": [
    {
     "name": "stderr",
     "output_type": "stream",
     "text": [
      "<ipython-input-126-e7ae1a9d1751>:1: SettingWithCopyWarning: \n",
      "A value is trying to be set on a copy of a slice from a DataFrame\n",
      "\n",
      "See the caveats in the documentation: https://pandas.pydata.org/pandas-docs/stable/user_guide/indexing.html#returning-a-view-versus-a-copy\n",
      "  test_dataset_raw_gpt4['text'][114] = \"Subject: Confidential Business Proposal Dear Sir/Madam,I am Engr. Ben Maluleke, a native of Cape Town, South Africa, currently serving as the Executive Accountant in the South Africa Department of Mining & Natural Resources. I apologize for using this medium to contact you regarding a transaction of significant importance, but the need for confidentiality and immediate access prompted me to do so. As a member of the South Africa Export Promotion Council (SAEPC) and a representative in a government trade exhibition, my credentials and particulars are solidly established. I am seeking your confidential cooperation to execute a deal that could be beneficial for all involved, and I kindly ask that you keep this transaction a top secret due to its nature. Within our department, my four high-ranking colleagues and I hold overdue payment bills amounting to $27.1 million USD, and we are seeking a trustworthy individual to assist us with this matter.\"\n"
     ]
    }
   ],
   "source": [
    "test_dataset_raw_gpt4['text'][114] = \"Subject: Confidential Business Proposal Dear Sir/Madam,I am Engr. Ben Maluleke, a native of Cape Town, South Africa, currently serving as the Executive Accountant in the South Africa Department of Mining & Natural Resources. I apologize for using this medium to contact you regarding a transaction of significant importance, but the need for confidentiality and immediate access prompted me to do so. As a member of the South Africa Export Promotion Council (SAEPC) and a representative in a government trade exhibition, my credentials and particulars are solidly established. I am seeking your confidential cooperation to execute a deal that could be beneficial for all involved, and I kindly ask that you keep this transaction a top secret due to its nature. Within our department, my four high-ranking colleagues and I hold overdue payment bills amounting to $27.1 million USD, and we are seeking a trustworthy individual to assist us with this matter.\""
   ]
  },
  {
   "cell_type": "code",
   "execution_count": 128,
   "metadata": {
    "colab": {
     "base_uri": "https://localhost:8080/"
    },
    "id": "qKQQPgrl49DU",
    "outputId": "b4a6a186-ce34-4235-e6ab-64e8eb51b690"
   },
   "outputs": [
    {
     "name": "stderr",
     "output_type": "stream",
     "text": [
      "<ipython-input-128-d77443f2d777>:1: SettingWithCopyWarning: \n",
      "A value is trying to be set on a copy of a slice from a DataFrame\n",
      "\n",
      "See the caveats in the documentation: https://pandas.pydata.org/pandas-docs/stable/user_guide/indexing.html#returning-a-view-versus-a-copy\n",
      "  test_dataset_raw_gpt4['text'][381] = \"Subject: Personal and Confidential Business Proposal Dear Recipient,I am Rev. Dr. Thomas Bella from the Nigerian National Petroleum Corporation based in Victoria Island, Lagos. Following consultations with colleagues and information from the Nigerian Chambers of Commerce and Industry, I am privileged to seek your assistance in transferring $15.5 million USD into your account. This sum resulted from an overinvoiced contract that was executed, commissioned, and paid for three years ago by a foreign contractor. The fund is currently held in a suspense account at the Central Bank of Nigeria. As civil servants, we are not permitted to operate foreign accounts, hence our need for your assistance. The total sum will be divided as follows: 70% for us, 30% for you, with additional deductions for any local or international expenses related to the transfer. I assure you the transfer is risk-free on both sides. If you find this proposal acceptable, please respond promptly.\"\n"
     ]
    }
   ],
   "source": [
    "test_dataset_raw_gpt4['text'][381] = \"Subject: Personal and Confidential Business Proposal Dear Recipient,I am Rev. Dr. Thomas Bella from the Nigerian National Petroleum Corporation based in Victoria Island, Lagos. Following consultations with colleagues and information from the Nigerian Chambers of Commerce and Industry, I am privileged to seek your assistance in transferring $15.5 million USD into your account. This sum resulted from an overinvoiced contract that was executed, commissioned, and paid for three years ago by a foreign contractor. The fund is currently held in a suspense account at the Central Bank of Nigeria. As civil servants, we are not permitted to operate foreign accounts, hence our need for your assistance. The total sum will be divided as follows: 70% for us, 30% for you, with additional deductions for any local or international expenses related to the transfer. I assure you the transfer is risk-free on both sides. If you find this proposal acceptable, please respond promptly.\""
   ]
  },
  {
   "cell_type": "code",
   "execution_count": 130,
   "metadata": {
    "colab": {
     "base_uri": "https://localhost:8080/"
    },
    "id": "ZLYh2fv349I4",
    "outputId": "abac2675-cec4-4a38-f468-f0feb5cf9733"
   },
   "outputs": [
    {
     "name": "stderr",
     "output_type": "stream",
     "text": [
      "<ipython-input-130-d4ecb5be98eb>:1: SettingWithCopyWarning: \n",
      "A value is trying to be set on a copy of a slice from a DataFrame\n",
      "\n",
      "See the caveats in the documentation: https://pandas.pydata.org/pandas-docs/stable/user_guide/indexing.html#returning-a-view-versus-a-copy\n",
      "  test_dataset_raw_gpt4['text'][363] = \"Subject: Proposal for Beneficial Collaboration Dear Friend,My name is Mr. Frederick Andrew and I am an externally trained auditor for the Development Bank of Singapore (DBS). I have painstakingly located your contact for personal initiatives related to an investor who shares your last name and left approximately $30 million USD in our bank. No next of kin has stepped forward to claim this amount for the past twelve years. Banking regulations in Singapore require me to notify fiscal authorities about such dormant accounts after a statutory period of twelve years, to prevent them from being marked as unclaimed funds. Given these circumstances, I am reaching out with a proposal to leverage my insider knowledge to help us secure these funds. My proposition is based on the fact that your last name matches the late investor's, thus simplifying the process of securing the funds instead of allowing them to fall into the hands of the Singaporean government. I look forward to discussing this opportunity further.\"\n"
     ]
    }
   ],
   "source": [
    "test_dataset_raw_gpt4['text'][363] = \"Subject: Proposal for Beneficial Collaboration Dear Friend,My name is Mr. Frederick Andrew and I am an externally trained auditor for the Development Bank of Singapore (DBS). I have painstakingly located your contact for personal initiatives related to an investor who shares your last name and left approximately $30 million USD in our bank. No next of kin has stepped forward to claim this amount for the past twelve years. Banking regulations in Singapore require me to notify fiscal authorities about such dormant accounts after a statutory period of twelve years, to prevent them from being marked as unclaimed funds. Given these circumstances, I am reaching out with a proposal to leverage my insider knowledge to help us secure these funds. My proposition is based on the fact that your last name matches the late investor's, thus simplifying the process of securing the funds instead of allowing them to fall into the hands of the Singaporean government. I look forward to discussing this opportunity further.\""
   ]
  },
  {
   "cell_type": "code",
   "execution_count": 132,
   "metadata": {
    "colab": {
     "base_uri": "https://localhost:8080/"
    },
    "id": "T4lPfGRi49Oj",
    "outputId": "5847f9d7-b2a2-402c-c364-50b6ee37b169"
   },
   "outputs": [
    {
     "name": "stderr",
     "output_type": "stream",
     "text": [
      "<ipython-input-132-fd73cf117dab>:1: SettingWithCopyWarning: \n",
      "A value is trying to be set on a copy of a slice from a DataFrame\n",
      "\n",
      "See the caveats in the documentation: https://pandas.pydata.org/pandas-docs/stable/user_guide/indexing.html#returning-a-view-versus-a-copy\n",
      "  test_dataset_raw_gpt4['text'][197] = \"Subject: Urgent Confidential Business Proposal Dear President/CEO,I am Kizie Mulumba, the Finance Director of Standard Bank Ltd., and I'm writing to you with an urgent and confidential business proposition. On June 19th, a foreign oil consultant/contractor with South Africa Mining Corporation, Mr. Richard Moss, deposited a fixed sum of USD 25 million for twelve calendar months in our branch. However, upon maturity, all attempts to reach Mr. Moss were unsuccessful, and further investigation revealed his unfortunate demise in an automobile accident. Our research showed Mr. Moss left no will, and we were unable to locate any next of kin. His official records, including bank deposit paperwork, did not indicate any kin or relations. Consequently, the sum of USD 25 million remains unclaimed in the bank, with the interest being added to the principal amount annually. Given the circumstances, it's unlikely anyone will step forward to claim it. As per South African laws, I am reaching out to you for a possible collaboration to secure these funds. I look forward to discussing this further.\"\n"
     ]
    }
   ],
   "source": [
    "test_dataset_raw_gpt4['text'][197] = \"Subject: Urgent Confidential Business Proposal Dear President/CEO,I am Kizie Mulumba, the Finance Director of Standard Bank Ltd., and I'm writing to you with an urgent and confidential business proposition. On June 19th, a foreign oil consultant/contractor with South Africa Mining Corporation, Mr. Richard Moss, deposited a fixed sum of USD 25 million for twelve calendar months in our branch. However, upon maturity, all attempts to reach Mr. Moss were unsuccessful, and further investigation revealed his unfortunate demise in an automobile accident. Our research showed Mr. Moss left no will, and we were unable to locate any next of kin. His official records, including bank deposit paperwork, did not indicate any kin or relations. Consequently, the sum of USD 25 million remains unclaimed in the bank, with the interest being added to the principal amount annually. Given the circumstances, it's unlikely anyone will step forward to claim it. As per South African laws, I am reaching out to you for a possible collaboration to secure these funds. I look forward to discussing this further.\""
   ]
  },
  {
   "cell_type": "code",
   "execution_count": 135,
   "metadata": {
    "colab": {
     "base_uri": "https://localhost:8080/"
    },
    "id": "nRWpe02N49Ty",
    "outputId": "8701f75b-84a4-4abc-8f3f-b1d106f98e29"
   },
   "outputs": [
    {
     "name": "stderr",
     "output_type": "stream",
     "text": [
      "<ipython-input-135-c393f7be95ef>:1: SettingWithCopyWarning: \n",
      "A value is trying to be set on a copy of a slice from a DataFrame\n",
      "\n",
      "See the caveats in the documentation: https://pandas.pydata.org/pandas-docs/stable/user_guide/indexing.html#returning-a-view-versus-a-copy\n",
      "  test_dataset_raw_gpt4['text'][336] =\"Subject: Request for Assistance in Funds Transfer Dear Managing Director/CEO, I am Lt. Col. Richard Egwu, former personal security to the late President Laurent Kabila of the Democratic Republic of Congo (DRC). Currently, I am in the Republic of South Africa seeking asylum. I acquired your contact information from the Johannesburg Chamber of Commerce and Industry's business directory. Given your profile, I felt compelled to request your assistance in transferring a sum of USD 25 million to your company or personal account for investment purposes outside Africa. Before President Kabila's untimely death, we knew that rebels would make significant efforts to overthrow the government, which led to widespread looting of the country's treasures. In May, I was tasked with transporting a box marked as 'diplomatic documents' to Zimbabwe, but I diverted it to the Republic of South Africa instead. Upon inspection, I discovered that the box contained USD 25 million. I have since deposited the box for safekeeping and now seek your help in securing these funds.\"\n"
     ]
    }
   ],
   "source": [
    "test_dataset_raw_gpt4['text'][336] =\"Subject: Request for Assistance in Funds Transfer Dear Managing Director/CEO, I am Lt. Col. Richard Egwu, former personal security to the late President Laurent Kabila of the Democratic Republic of Congo (DRC). Currently, I am in the Republic of South Africa seeking asylum. I acquired your contact information from the Johannesburg Chamber of Commerce and Industry's business directory. Given your profile, I felt compelled to request your assistance in transferring a sum of USD 25 million to your company or personal account for investment purposes outside Africa. Before President Kabila's untimely death, we knew that rebels would make significant efforts to overthrow the government, which led to widespread looting of the country's treasures. In May, I was tasked with transporting a box marked as 'diplomatic documents' to Zimbabwe, but I diverted it to the Republic of South Africa instead. Upon inspection, I discovered that the box contained USD 25 million. I have since deposited the box for safekeeping and now seek your help in securing these funds.\""
   ]
  },
  {
   "cell_type": "code",
   "execution_count": 137,
   "metadata": {
    "colab": {
     "base_uri": "https://localhost:8080/"
    },
    "id": "UvgLzgvz49Zf",
    "outputId": "f8c6c105-7d3d-4b7d-9f58-657e40e9c891"
   },
   "outputs": [
    {
     "name": "stderr",
     "output_type": "stream",
     "text": [
      "<ipython-input-137-4ed66677a633>:1: SettingWithCopyWarning: \n",
      "A value is trying to be set on a copy of a slice from a DataFrame\n",
      "\n",
      "See the caveats in the documentation: https://pandas.pydata.org/pandas-docs/stable/user_guide/indexing.html#returning-a-view-versus-a-copy\n",
      "  test_dataset_raw_gpt4['text'][173] =\"I'm Mr. Pascal Ibeethe, the manager of United Bank of Africa PLC, UBA. I'm seeking a reliable and trustworthy partner for an important transaction involving a dormant account opened in 1996, which holds twenty-six million USD. The account belonged to Mr. Clayton Reidfield, a foreigner and a chemical engineer by profession, who was the manager of Petro Chemical Services. Sadly, he passed away in 2003. This account has not been operated since then and has no nominated beneficiary. My investigations confirmed that his company remains unaware of this account. If the funds are not claimed soon, they will be forfeited. Therefore, I'm reaching out to you with an urgent proposition to assist in the transfer of this significant sum, trusting in your discretion and integrity now and in the future.\"\n"
     ]
    }
   ],
   "source": [
    "test_dataset_raw_gpt4['text'][173] =\"I'm Mr. Pascal Ibeethe, the manager of United Bank of Africa PLC, UBA. I'm seeking a reliable and trustworthy partner for an important transaction involving a dormant account opened in 1996, which holds twenty-six million USD. The account belonged to Mr. Clayton Reidfield, a foreigner and a chemical engineer by profession, who was the manager of Petro Chemical Services. Sadly, he passed away in 2003. This account has not been operated since then and has no nominated beneficiary. My investigations confirmed that his company remains unaware of this account. If the funds are not claimed soon, they will be forfeited. Therefore, I'm reaching out to you with an urgent proposition to assist in the transfer of this significant sum, trusting in your discretion and integrity now and in the future.\""
   ]
  },
  {
   "cell_type": "markdown",
   "metadata": {
    "id": "HZMUWG1UFyno"
   },
   "source": []
  },
  {
   "cell_type": "code",
   "execution_count": 140,
   "metadata": {
    "colab": {
     "base_uri": "https://localhost:8080/"
    },
    "id": "jvdpEXz565Et",
    "outputId": "ff66f765-3dcc-46ac-c476-c453f7e54c70"
   },
   "outputs": [
    {
     "name": "stderr",
     "output_type": "stream",
     "text": [
      "<ipython-input-140-79951e8845fb>:1: SettingWithCopyWarning: \n",
      "A value is trying to be set on a copy of a slice from a DataFrame\n",
      "\n",
      "See the caveats in the documentation: https://pandas.pydata.org/pandas-docs/stable/user_guide/indexing.html#returning-a-view-versus-a-copy\n",
      "  test_dataset_raw_gpt4['text'][148] = \"Dear Friend,As a practicing doctor in Ivory Coast, West Africa, I'm seeking your assistance regarding a sensitive issue involving a patient of mine from Sierra Leone. She and her son, refugees due to a deadly family conflict, possess a certificate of deposit related to a trunk box stored in a security company, declared as family valuables. They fled their home country and resettled in Ivory Coast. The patient has entrusted me with this confidential information and I believe you can provide us with the necessary assistance in this matter, which could potentially benefit all parties involved. For security purposes, please respond via my alternative email: nandodaniel@yahoo.it.\"\n"
     ]
    }
   ],
   "source": [
    "test_dataset_raw_gpt4['text'][148] = \"Dear Friend,As a practicing doctor in Ivory Coast, West Africa, I'm seeking your assistance regarding a sensitive issue involving a patient of mine from Sierra Leone. She and her son, refugees due to a deadly family conflict, possess a certificate of deposit related to a trunk box stored in a security company, declared as family valuables. They fled their home country and resettled in Ivory Coast. The patient has entrusted me with this confidential information and I believe you can provide us with the necessary assistance in this matter, which could potentially benefit all parties involved. For security purposes, please respond via my alternative email: nandodaniel@yahoo.it.\""
   ]
  },
  {
   "cell_type": "code",
   "execution_count": 142,
   "metadata": {
    "colab": {
     "base_uri": "https://localhost:8080/"
    },
    "id": "5WLqwDxu65It",
    "outputId": "acee3cc0-7ae1-464a-88eb-6e2d2af2a234"
   },
   "outputs": [
    {
     "name": "stderr",
     "output_type": "stream",
     "text": [
      "<ipython-input-142-708ecedb9eca>:1: SettingWithCopyWarning: \n",
      "A value is trying to be set on a copy of a slice from a DataFrame\n",
      "\n",
      "See the caveats in the documentation: https://pandas.pydata.org/pandas-docs/stable/user_guide/indexing.html#returning-a-view-versus-a-copy\n",
      "  test_dataset_raw_gpt4['text'][153] =\"I'm Isaac Baka, the Site Inspection Director for the Ministry of Works and Construction in the Republic of Sudan. While overseeing a major contract, we discovered a significant gold deposit at one of the construction sites. As the site director, I reached a mutual agreement with the firm to mine the gold and divide the proceeds. From this, I received $20 million. However, as a civil servant in a war-torn country, I'm unable to introduce these funds into our banking system due to my limited income and the strict civil service guidelines in Sudan. As the civil crisis in Sudan intensifies daily, I've decided it's crucial to move these funds out of the country.\"\n"
     ]
    }
   ],
   "source": [
    "test_dataset_raw_gpt4['text'][153] =\"I'm Isaac Baka, the Site Inspection Director for the Ministry of Works and Construction in the Republic of Sudan. While overseeing a major contract, we discovered a significant gold deposit at one of the construction sites. As the site director, I reached a mutual agreement with the firm to mine the gold and divide the proceeds. From this, I received $20 million. However, as a civil servant in a war-torn country, I'm unable to introduce these funds into our banking system due to my limited income and the strict civil service guidelines in Sudan. As the civil crisis in Sudan intensifies daily, I've decided it's crucial to move these funds out of the country.\""
   ]
  },
  {
   "cell_type": "code",
   "execution_count": 144,
   "metadata": {
    "colab": {
     "base_uri": "https://localhost:8080/"
    },
    "id": "xJRQ3P-w65N9",
    "outputId": "345c6950-f540-422b-dee3-858da93b704c"
   },
   "outputs": [
    {
     "name": "stderr",
     "output_type": "stream",
     "text": [
      "<ipython-input-144-2bc4abdb0724>:1: SettingWithCopyWarning: \n",
      "A value is trying to be set on a copy of a slice from a DataFrame\n",
      "\n",
      "See the caveats in the documentation: https://pandas.pydata.org/pandas-docs/stable/user_guide/indexing.html#returning-a-view-versus-a-copy\n",
      "  test_dataset_raw_gpt4['text'][399] =\"I hope this message finds you well. You may recall that I, Dr. Mr. Michael Howard from Nigeria, once reached out to you for assistance in securing the release of funds accrued from a contract inheritance awarded by our government during a military regime. Although you were unable to assist me at that time, I'm pleased to inform you that I've successfully transferred the funds with the help of a new partner from Brazil. Currently, I am in the Netherlands investing in projects with my share of the sum.However, I haven't forgotten your past efforts and attempts to assist me. As a token of my gratitude, I have set aside five hundred thousand United States dollars as a draft compensation for you. Besides this, I urge you to take care of those in need - the poor, orphans, and the disabled in your community. This gesture would indeed serve a great cause. Once again, thank you for your time and past efforts.\"\n"
     ]
    }
   ],
   "source": [
    "test_dataset_raw_gpt4['text'][399] =\"I hope this message finds you well. You may recall that I, Dr. Mr. Michael Howard from Nigeria, once reached out to you for assistance in securing the release of funds accrued from a contract inheritance awarded by our government during a military regime. Although you were unable to assist me at that time, I'm pleased to inform you that I've successfully transferred the funds with the help of a new partner from Brazil. Currently, I am in the Netherlands investing in projects with my share of the sum.However, I haven't forgotten your past efforts and attempts to assist me. As a token of my gratitude, I have set aside five hundred thousand United States dollars as a draft compensation for you. Besides this, I urge you to take care of those in need - the poor, orphans, and the disabled in your community. This gesture would indeed serve a great cause. Once again, thank you for your time and past efforts.\""
   ]
  },
  {
   "cell_type": "code",
   "execution_count": 146,
   "metadata": {
    "colab": {
     "base_uri": "https://localhost:8080/"
    },
    "id": "VWT-UsuG65TI",
    "outputId": "4bb9c682-58bc-4dc6-8b49-2a41606569e5"
   },
   "outputs": [
    {
     "name": "stderr",
     "output_type": "stream",
     "text": [
      "<ipython-input-146-08cf23432a5c>:1: SettingWithCopyWarning: \n",
      "A value is trying to be set on a copy of a slice from a DataFrame\n",
      "\n",
      "See the caveats in the documentation: https://pandas.pydata.org/pandas-docs/stable/user_guide/indexing.html#returning-a-view-versus-a-copy\n",
      "  test_dataset_raw_gpt4['text'][270] =\"I am Mrs. Xian, a bank manager at a respected bank in China, and I respectfully request your discretion regarding the content of this message. My reaching out is the result of an independent investigation, not yet disclosed to anyone else. The subject at hand relates to a deceased client of our bank, who held investments worth millions of dollars, which have now reached maturity. This client maintained a discreet relationship with us, never nominated any beneficiaries for his investments, and died intestate. If left unclaimed, these funds would be confiscated by the government or likely misappropriated by unethical executives. Hence, I propose that you, as a foreigner, stand in as the next of kin of the deceased, which is a simple procedure I will guide you through.\"\n"
     ]
    }
   ],
   "source": [
    "test_dataset_raw_gpt4['text'][270] =\"I am Mrs. Xian, a bank manager at a respected bank in China, and I respectfully request your discretion regarding the content of this message. My reaching out is the result of an independent investigation, not yet disclosed to anyone else. The subject at hand relates to a deceased client of our bank, who held investments worth millions of dollars, which have now reached maturity. This client maintained a discreet relationship with us, never nominated any beneficiaries for his investments, and died intestate. If left unclaimed, these funds would be confiscated by the government or likely misappropriated by unethical executives. Hence, I propose that you, as a foreigner, stand in as the next of kin of the deceased, which is a simple procedure I will guide you through.\""
   ]
  },
  {
   "cell_type": "code",
   "execution_count": 148,
   "metadata": {
    "colab": {
     "base_uri": "https://localhost:8080/"
    },
    "id": "MwGrKH8q65YK",
    "outputId": "2d8e264f-67c7-4b70-fd07-955d9198b4f0"
   },
   "outputs": [
    {
     "name": "stderr",
     "output_type": "stream",
     "text": [
      "<ipython-input-148-4d1e7192033d>:1: SettingWithCopyWarning: \n",
      "A value is trying to be set on a copy of a slice from a DataFrame\n",
      "\n",
      "See the caveats in the documentation: https://pandas.pydata.org/pandas-docs/stable/user_guide/indexing.html#returning-a-view-versus-a-copy\n",
      "  test_dataset_raw_gpt4['text'][187] =\"I am Jeff Yukon, an external auditor for a well-known bank in the United Kingdom. I wish to share an urgent and confidential matter, for which I must first apologize if it breaches your personal ethics. Through a recent audit, I discovered a dormant account holding fifty-two million British pounds, untouched for the past three years. The account owner, a foreigner named Mr. Gregory B. Wilson, tragically died in a plane crash in July. No claim has been made on this account as neither his family members are aware of its existence, nor the fund itself. After discreet discussions with a senior minister official from the federal ministry of finance, we've agreed to seek a reliable foreign partner for this endeavor. Due to my position, I cannot take an active part, but I assure you of success if you follow my instructions, working hand in hand.\"\n"
     ]
    }
   ],
   "source": [
    "test_dataset_raw_gpt4['text'][187] =\"I am Jeff Yukon, an external auditor for a well-known bank in the United Kingdom. I wish to share an urgent and confidential matter, for which I must first apologize if it breaches your personal ethics. Through a recent audit, I discovered a dormant account holding fifty-two million British pounds, untouched for the past three years. The account owner, a foreigner named Mr. Gregory B. Wilson, tragically died in a plane crash in July. No claim has been made on this account as neither his family members are aware of its existence, nor the fund itself. After discreet discussions with a senior minister official from the federal ministry of finance, we've agreed to seek a reliable foreign partner for this endeavor. Due to my position, I cannot take an active part, but I assure you of success if you follow my instructions, working hand in hand.\""
   ]
  },
  {
   "cell_type": "code",
   "execution_count": 150,
   "metadata": {
    "colab": {
     "base_uri": "https://localhost:8080/"
    },
    "id": "mbT79K7-49fC",
    "outputId": "b59fe993-2866-4734-bacf-8621c31d94bd"
   },
   "outputs": [
    {
     "name": "stderr",
     "output_type": "stream",
     "text": [
      "<ipython-input-150-00fc1db1a9aa>:1: SettingWithCopyWarning: \n",
      "A value is trying to be set on a copy of a slice from a DataFrame\n",
      "\n",
      "See the caveats in the documentation: https://pandas.pydata.org/pandas-docs/stable/user_guide/indexing.html#returning-a-view-versus-a-copy\n",
      "  test_dataset_raw_gpt4['text'][196] =\"I must apologize if this message doesn't align with your personal ethics. I am a staff member in the Accounts Management section of a well-known bank in the United Kingdom. I've found a dormant account in our system holding a balance of fifteen million British pounds, unoperated for the past several years. Investigations confirmed that the account owner, a foreigner named Austin Martins, unfortunately passed away in August. Neither his family members nor anyone else has claimed this money, mainly because no one is aware of the account's existence. Information from the National Immigration office indicates Mr. Martins was single upon entry to the UK. After a discreet discussion with bank officials, we've decided to seek a reliable foreign partner to handle this matter. We propose a business partnership where you'd stand as the next of kin to the deceased, which would allow the release of funds once due processes are followed. This transaction is risk-free and free of legal troubles as the funds are legitimate, not originating from drug money, money laundering, terrorism or any other illegal activities.\"\n"
     ]
    }
   ],
   "source": [
    "test_dataset_raw_gpt4['text'][196] =\"I must apologize if this message doesn't align with your personal ethics. I am a staff member in the Accounts Management section of a well-known bank in the United Kingdom. I've found a dormant account in our system holding a balance of fifteen million British pounds, unoperated for the past several years. Investigations confirmed that the account owner, a foreigner named Austin Martins, unfortunately passed away in August. Neither his family members nor anyone else has claimed this money, mainly because no one is aware of the account's existence. Information from the National Immigration office indicates Mr. Martins was single upon entry to the UK. After a discreet discussion with bank officials, we've decided to seek a reliable foreign partner to handle this matter. We propose a business partnership where you'd stand as the next of kin to the deceased, which would allow the release of funds once due processes are followed. This transaction is risk-free and free of legal troubles as the funds are legitimate, not originating from drug money, money laundering, terrorism or any other illegal activities.\""
   ]
  },
  {
   "cell_type": "code",
   "execution_count": 151,
   "metadata": {
    "colab": {
     "base_uri": "https://localhost:8080/",
     "height": 206
    },
    "id": "NIgV9BUm49kr",
    "outputId": "72a8ecb5-0929-4e2f-ae43-c3222c4c4a77"
   },
   "outputs": [
    {
     "data": {
      "text/html": [
       "\n",
       "\n",
       "  <div id=\"df-7d375ba0-1dc4-44e4-9d05-dd3a06480fe6\">\n",
       "    <div class=\"colab-df-container\">\n",
       "      <div>\n",
       "<style scoped>\n",
       "    .dataframe tbody tr th:only-of-type {\n",
       "        vertical-align: middle;\n",
       "    }\n",
       "\n",
       "    .dataframe tbody tr th {\n",
       "        vertical-align: top;\n",
       "    }\n",
       "\n",
       "    .dataframe thead th {\n",
       "        text-align: right;\n",
       "    }\n",
       "</style>\n",
       "<table border=\"1\" class=\"dataframe\">\n",
       "  <thead>\n",
       "    <tr style=\"text-align: right;\">\n",
       "      <th></th>\n",
       "      <th>text</th>\n",
       "      <th>target</th>\n",
       "    </tr>\n",
       "  </thead>\n",
       "  <tbody>\n",
       "    <tr>\n",
       "      <th>295</th>\n",
       "      <td>Hi, I'm Bhamini Lele from Centrafest Technolog...</td>\n",
       "      <td>1</td>\n",
       "    </tr>\n",
       "    <tr>\n",
       "      <th>170</th>\n",
       "      <td>Attention, I am Mr. Moni Millat, a member of t...</td>\n",
       "      <td>1</td>\n",
       "    </tr>\n",
       "    <tr>\n",
       "      <th>54</th>\n",
       "      <td>Good day,I'm John Williams, an auditor and com...</td>\n",
       "      <td>1</td>\n",
       "    </tr>\n",
       "    <tr>\n",
       "      <th>155</th>\n",
       "      <td>Greetings, In the name of the Almighty, I, Eng...</td>\n",
       "      <td>1</td>\n",
       "    </tr>\n",
       "    <tr>\n",
       "      <th>344</th>\n",
       "      <td>Subject: Investment Relationship Request from ...</td>\n",
       "      <td>1</td>\n",
       "    </tr>\n",
       "  </tbody>\n",
       "</table>\n",
       "</div>\n",
       "      <button class=\"colab-df-convert\" onclick=\"convertToInteractive('df-7d375ba0-1dc4-44e4-9d05-dd3a06480fe6')\"\n",
       "              title=\"Convert this dataframe to an interactive table.\"\n",
       "              style=\"display:none;\">\n",
       "\n",
       "  <svg xmlns=\"http://www.w3.org/2000/svg\" height=\"24px\"viewBox=\"0 0 24 24\"\n",
       "       width=\"24px\">\n",
       "    <path d=\"M0 0h24v24H0V0z\" fill=\"none\"/>\n",
       "    <path d=\"M18.56 5.44l.94 2.06.94-2.06 2.06-.94-2.06-.94-.94-2.06-.94 2.06-2.06.94zm-11 1L8.5 8.5l.94-2.06 2.06-.94-2.06-.94L8.5 2.5l-.94 2.06-2.06.94zm10 10l.94 2.06.94-2.06 2.06-.94-2.06-.94-.94-2.06-.94 2.06-2.06.94z\"/><path d=\"M17.41 7.96l-1.37-1.37c-.4-.4-.92-.59-1.43-.59-.52 0-1.04.2-1.43.59L10.3 9.45l-7.72 7.72c-.78.78-.78 2.05 0 2.83L4 21.41c.39.39.9.59 1.41.59.51 0 1.02-.2 1.41-.59l7.78-7.78 2.81-2.81c.8-.78.8-2.07 0-2.86zM5.41 20L4 18.59l7.72-7.72 1.47 1.35L5.41 20z\"/>\n",
       "  </svg>\n",
       "      </button>\n",
       "\n",
       "\n",
       "\n",
       "    <div id=\"df-f2820e0d-9dc8-4d75-b6a9-48c3fa8d94fd\">\n",
       "      <button class=\"colab-df-quickchart\" onclick=\"quickchart('df-f2820e0d-9dc8-4d75-b6a9-48c3fa8d94fd')\"\n",
       "              title=\"Suggest charts.\"\n",
       "              style=\"display:none;\">\n",
       "\n",
       "<svg xmlns=\"http://www.w3.org/2000/svg\" height=\"24px\"viewBox=\"0 0 24 24\"\n",
       "     width=\"24px\">\n",
       "    <g>\n",
       "        <path d=\"M19 3H5c-1.1 0-2 .9-2 2v14c0 1.1.9 2 2 2h14c1.1 0 2-.9 2-2V5c0-1.1-.9-2-2-2zM9 17H7v-7h2v7zm4 0h-2V7h2v10zm4 0h-2v-4h2v4z\"/>\n",
       "    </g>\n",
       "</svg>\n",
       "      </button>\n",
       "    </div>\n",
       "\n",
       "<style>\n",
       "  .colab-df-quickchart {\n",
       "    background-color: #E8F0FE;\n",
       "    border: none;\n",
       "    border-radius: 50%;\n",
       "    cursor: pointer;\n",
       "    display: none;\n",
       "    fill: #1967D2;\n",
       "    height: 32px;\n",
       "    padding: 0 0 0 0;\n",
       "    width: 32px;\n",
       "  }\n",
       "\n",
       "  .colab-df-quickchart:hover {\n",
       "    background-color: #E2EBFA;\n",
       "    box-shadow: 0px 1px 2px rgba(60, 64, 67, 0.3), 0px 1px 3px 1px rgba(60, 64, 67, 0.15);\n",
       "    fill: #174EA6;\n",
       "  }\n",
       "\n",
       "  [theme=dark] .colab-df-quickchart {\n",
       "    background-color: #3B4455;\n",
       "    fill: #D2E3FC;\n",
       "  }\n",
       "\n",
       "  [theme=dark] .colab-df-quickchart:hover {\n",
       "    background-color: #434B5C;\n",
       "    box-shadow: 0px 1px 3px 1px rgba(0, 0, 0, 0.15);\n",
       "    filter: drop-shadow(0px 1px 2px rgba(0, 0, 0, 0.3));\n",
       "    fill: #FFFFFF;\n",
       "  }\n",
       "</style>\n",
       "\n",
       "    <script>\n",
       "      async function quickchart(key) {\n",
       "        const containerElement = document.querySelector('#' + key);\n",
       "        const charts = await google.colab.kernel.invokeFunction(\n",
       "            'suggestCharts', [key], {});\n",
       "      }\n",
       "    </script>\n",
       "\n",
       "      <script>\n",
       "\n",
       "function displayQuickchartButton(domScope) {\n",
       "  let quickchartButtonEl =\n",
       "    domScope.querySelector('#df-f2820e0d-9dc8-4d75-b6a9-48c3fa8d94fd button.colab-df-quickchart');\n",
       "  quickchartButtonEl.style.display =\n",
       "    google.colab.kernel.accessAllowed ? 'block' : 'none';\n",
       "}\n",
       "\n",
       "        displayQuickchartButton(document);\n",
       "      </script>\n",
       "      <style>\n",
       "    .colab-df-container {\n",
       "      display:flex;\n",
       "      flex-wrap:wrap;\n",
       "      gap: 12px;\n",
       "    }\n",
       "\n",
       "    .colab-df-convert {\n",
       "      background-color: #E8F0FE;\n",
       "      border: none;\n",
       "      border-radius: 50%;\n",
       "      cursor: pointer;\n",
       "      display: none;\n",
       "      fill: #1967D2;\n",
       "      height: 32px;\n",
       "      padding: 0 0 0 0;\n",
       "      width: 32px;\n",
       "    }\n",
       "\n",
       "    .colab-df-convert:hover {\n",
       "      background-color: #E2EBFA;\n",
       "      box-shadow: 0px 1px 2px rgba(60, 64, 67, 0.3), 0px 1px 3px 1px rgba(60, 64, 67, 0.15);\n",
       "      fill: #174EA6;\n",
       "    }\n",
       "\n",
       "    [theme=dark] .colab-df-convert {\n",
       "      background-color: #3B4455;\n",
       "      fill: #D2E3FC;\n",
       "    }\n",
       "\n",
       "    [theme=dark] .colab-df-convert:hover {\n",
       "      background-color: #434B5C;\n",
       "      box-shadow: 0px 1px 3px 1px rgba(0, 0, 0, 0.15);\n",
       "      filter: drop-shadow(0px 1px 2px rgba(0, 0, 0, 0.3));\n",
       "      fill: #FFFFFF;\n",
       "    }\n",
       "  </style>\n",
       "\n",
       "      <script>\n",
       "        const buttonEl =\n",
       "          document.querySelector('#df-7d375ba0-1dc4-44e4-9d05-dd3a06480fe6 button.colab-df-convert');\n",
       "        buttonEl.style.display =\n",
       "          google.colab.kernel.accessAllowed ? 'block' : 'none';\n",
       "\n",
       "        async function convertToInteractive(key) {\n",
       "          const element = document.querySelector('#df-7d375ba0-1dc4-44e4-9d05-dd3a06480fe6');\n",
       "          const dataTable =\n",
       "            await google.colab.kernel.invokeFunction('convertToInteractive',\n",
       "                                                     [key], {});\n",
       "          if (!dataTable) return;\n",
       "\n",
       "          const docLinkHtml = 'Like what you see? Visit the ' +\n",
       "            '<a target=\"_blank\" href=https://colab.research.google.com/notebooks/data_table.ipynb>data table notebook</a>'\n",
       "            + ' to learn more about interactive tables.';\n",
       "          element.innerHTML = '';\n",
       "          dataTable['output_type'] = 'display_data';\n",
       "          await google.colab.output.renderOutput(dataTable, element);\n",
       "          const docLink = document.createElement('div');\n",
       "          docLink.innerHTML = docLinkHtml;\n",
       "          element.appendChild(docLink);\n",
       "        }\n",
       "      </script>\n",
       "    </div>\n",
       "  </div>\n"
      ],
      "text/plain": [
       "                                                  text  target\n",
       "295  Hi, I'm Bhamini Lele from Centrafest Technolog...       1\n",
       "170  Attention, I am Mr. Moni Millat, a member of t...       1\n",
       "54   Good day,I'm John Williams, an auditor and com...       1\n",
       "155  Greetings, In the name of the Almighty, I, Eng...       1\n",
       "344  Subject: Investment Relationship Request from ...       1"
      ]
     },
     "execution_count": 151,
     "metadata": {},
     "output_type": "execute_result"
    }
   ],
   "source": [
    "test_dataset_raw_gpt4.head()"
   ]
  },
  {
   "cell_type": "code",
   "execution_count": 157,
   "metadata": {
    "id": "oV_IyMsp4_Pk"
   },
   "outputs": [],
   "source": [
    "merged_df_gpt4 = pd.concat([test_dataset_raw_0_25, test_dataset_raw_gpt4], ignore_index=True)\n",
    "\n",
    "# Shuffle the index\n",
    "test_125_df_gpt4 = merged_df_gpt4.sample(frac=1).reset_index(drop=True)"
   ]
  },
  {
   "cell_type": "code",
   "execution_count": 158,
   "metadata": {
    "colab": {
     "base_uri": "https://localhost:8080/"
    },
    "id": "-Y_y9fW44_YC",
    "outputId": "d234611d-65a3-4e41-a592-7d60fe190bc3"
   },
   "outputs": [
    {
     "data": {
      "text/plain": [
       "array([0, 0, 0, 0, 0, 1, 1, 0, 0, 1, 0, 1, 0, 0, 1, 0, 0, 0, 0, 0, 0, 1,\n",
       "       1, 0, 1, 0, 0, 0, 0, 0, 0, 0, 0, 0, 1, 0, 0, 0, 0, 0, 1, 0, 0, 1,\n",
       "       0, 0, 0, 0, 1, 0, 0, 0, 0, 0, 0, 0, 0, 0, 0, 0, 0, 1, 0, 0, 0, 0,\n",
       "       0, 0, 1, 1, 0, 1, 0, 0, 1, 1, 0, 0, 0, 0, 0, 0, 0, 0, 0, 0, 0, 0,\n",
       "       0, 1, 0, 0, 0, 0, 0, 0, 0, 0, 0, 0, 0, 0, 1, 1, 0, 1, 0, 0, 0, 1,\n",
       "       0, 0, 1, 0, 0, 0, 0, 0, 1, 0, 0, 0, 0, 0, 0])"
      ]
     },
     "execution_count": 158,
     "metadata": {},
     "output_type": "execute_result"
    }
   ],
   "source": [
    "test_125_df_gpt4['target'].values"
   ]
  },
  {
   "cell_type": "code",
   "execution_count": 159,
   "metadata": {
    "colab": {
     "base_uri": "https://localhost:8080/"
    },
    "id": "ee34ZLz984HP",
    "outputId": "3c5d5132-4ea0-4a0c-fecd-e9d9d4ebbb92"
   },
   "outputs": [
    {
     "name": "stdout",
     "output_type": "stream",
     "text": [
      "4/4 [==============================] - 103s 28s/step\n"
     ]
    }
   ],
   "source": [
    "predict_125_gpt4 = model.predict(test_125_df_gpt4['text'])"
   ]
  },
  {
   "cell_type": "code",
   "execution_count": 180,
   "metadata": {
    "id": "6__IXwgyC8FQ"
   },
   "outputs": [],
   "source": []
  },
  {
   "cell_type": "code",
   "execution_count": 162,
   "metadata": {
    "colab": {
     "base_uri": "https://localhost:8080/"
    },
    "id": "UO7UIRYc-G_l",
    "outputId": "cd6ab85d-d193-4e00-bf14-d2f9e2e22eab"
   },
   "outputs": [
    {
     "data": {
      "text/plain": [
       "array([0, 0, 0, 0, 0, 1, 1, 0, 0, 1, 0, 1, 0, 0, 1, 0, 1, 0, 0, 0, 0, 1,\n",
       "       1, 0, 1, 0, 0, 0, 0, 0, 0, 0, 0, 0, 1, 0, 0, 0, 0, 0, 1, 1, 0, 1,\n",
       "       0, 0, 1, 0, 1, 0, 0, 0, 0, 0, 0, 0, 0, 0, 0, 1, 0, 1, 0, 0, 0, 0,\n",
       "       0, 0, 1, 1, 0, 1, 0, 0, 1, 1, 0, 0, 0, 0, 0, 0, 0, 1, 0, 0, 0, 0,\n",
       "       0, 1, 0, 0, 0, 0, 0, 0, 0, 0, 0, 1, 0, 0, 1, 1, 0, 1, 0, 0, 0, 1,\n",
       "       0, 1, 1, 0, 0, 0, 0, 0, 1, 0, 0, 0, 0, 0, 0])"
      ]
     },
     "execution_count": 162,
     "metadata": {},
     "output_type": "execute_result"
    }
   ],
   "source": [
    "y_predict_125_gpt4"
   ]
  },
  {
   "cell_type": "code",
   "execution_count": 160,
   "metadata": {
    "id": "JbYxNp6l4_fw"
   },
   "outputs": [],
   "source": [
    "y_predict_125_gpt4 =  np.where(predict_125_gpt4 > 0.5, 1, 0)\n",
    "y_predict_125_gpt4 = y_predict_125_gpt4.reshape(-1)\n",
    "y_true_125_gpt4 = test_125_df_gpt4['target'].to_numpy()"
   ]
  },
  {
   "cell_type": "code",
   "execution_count": 190,
   "metadata": {
    "colab": {
     "base_uri": "https://localhost:8080/"
    },
    "id": "5zjbuGqh8tWU",
    "outputId": "3a45d79c-3ad8-4248-fbed-5652b30ef4ad"
   },
   "outputs": [
    {
     "name": "stdout",
     "output_type": "stream",
     "text": [
      "              precision    recall  f1-score   support\n",
      "\n",
      "not phishing       1.00      0.93      0.96       100\n",
      "    phishing       0.78      1.00      0.88        25\n",
      "\n",
      "    accuracy                           0.94       125\n",
      "   macro avg       0.89      0.97      0.92       125\n",
      "weighted avg       0.96      0.94      0.95       125\n",
      "\n"
     ]
    }
   ],
   "source": [
    "\n",
    "report_125_gpt4 = classification_report(y_true_125_gpt4, y_predict_125_gpt4, target_names=[\"not phishing\", \"phishing\"])\n",
    "print(report_125_gpt4)"
   ]
  },
  {
   "cell_type": "code",
   "execution_count": 191,
   "metadata": {
    "id": "EqMPnaMK8t1J"
   },
   "outputs": [],
   "source": []
  },
  {
   "cell_type": "code",
   "execution_count": null,
   "metadata": {
    "id": "mdO4Pxx2EAzM"
   },
   "outputs": [],
   "source": []
  },
  {
   "cell_type": "code",
   "execution_count": 178,
   "metadata": {
    "id": "a2N9U94vEA4D"
   },
   "outputs": [],
   "source": [
    "\n",
    "data1 = {'text': [\n",
    "    \"I hope this message finds you in good health. I am [Your Name], a Human Rights activist from [Your Location]. I am writing to seek your assistance for a mission I am working on, focusing on providing educational materials and healthcare support to underserved communities in our region. The lack of resources is our biggest challenge, and your generous contribution could go a long way to help. I would be extremely grateful for any financial support you can offer.\",\n",
    "    \"I am reaching out to you with a unique and potentially lucrative business proposal. I am looking for a trustworthy individual who can assist me in a profitable business venture. Due to my position as a government official, I am currently unable to move a considerable sum of money to a foreign account. I am requesting your assistance in this operation, promising a sizable percentage of the sum for your cooperation.\",\n",
    "    \"I am writing this email with a heavy heart, burdened by the financial obstacles preventing me from pursuing my dream of a college education. My name is [Your Name], and I was recently accepted into [College/University Name]. Unfortunately, due to my financial circumstances, I am struggling to pay my tuition fees. I humbly ask for your assistance in helping me continue my education.\",\n",
    "    \"I am [Your Name], a friend of [Patient's Name]. Unfortunately, [Patient's Name] has recently been diagnosed with [Disease Name] and the treatment cost is beyond what we can afford. The financial burden is overwhelming and I am asking for your help to raise funds for [Patient's Name]'s medical expenses.\",\n",
    "    \"I am writing on behalf of a Non-Governmental Organization that assists refugees. We are currently facing a severe funding crisis and are unable to extend the much-needed support to the displaced victims. I am reaching out to ask for your help. Your donation will help us provide essential supplies, medical care, and educational resources.\",\n",
    "    \"I am the coach of a local youth sports team, and we're preparing for the upcoming national championship. Unfortunately, we are struggling with a lack of resources to provide the necessary equipment for our young athletes. I am writing to ask for your generous contribution to help us equip these promising athletes.\",\n",
    "    \"I run an animal shelter that provides a safe haven for stray and abandoned animals. We are currently facing a financial crisis and are struggling to provide necessary medical care and shelter for these helpless animals. Your financial support can help us feed, treat, and find homes for these lovely animals.\",\n",
    "    \"As a researcher at [Your Institute's Name], I am leading a project on [Briefly Describe the Project]. Despite the promising nature of this research, we are currently facing financial constraints that are hindering our progress. I am writing to ask for your financial support to help us continue our groundbreaking work.\",\n",
    "    \"Our charity organization is actively involved in disaster relief work for the victims of the recent [Natural Disaster]. However, due to the scale of the disaster, we are struggling to keep up with the needs of the affected people. Any financial assistance you could provide would greatly help us in our mission.\",\n",
    "    \"I am a local artist working on a community art project. The aim is to use art as a medium to promote cultural awareness and unity in our community. Unfortunately, I lack the necessary funds to bring this project to life. Any financial support from your end would help immensely in executing this project.\"\n",
    "]}\n",
    "\n",
    "df1 = pd.DataFrame(data1)\n",
    "\n"
   ]
  },
  {
   "cell_type": "code",
   "execution_count": 179,
   "metadata": {
    "id": "m0SyMfBnEA-a"
   },
   "outputs": [],
   "source": [
    "data2 = {'text': [\n",
    "    \"Greetings! I am writing to you from the heart of a small, impoverished school in a rural area. Our school is the only source of education for the children in our community, who display an undeniable eagerness to learn and broaden their horizons. Unfortunately, we lack the basic facilities needed to provide these children with the quality education they deserve. Our classrooms are deteriorating, educational resources are scarce, and our hardworking teachers are struggling with the limited tools at their disposal. We humbly request your generous contributions to help us rebuild our school and create an environment conducive to learning for these deserving children.\",\n",
    "    \"Dear friend, this letter finds its way to you with a heavy heart. My name is [Your Name], and I served as a professor at [University Name] for over two decades. Recently, due to a series of unfortunate circumstances, I have found myself grappling with a dire financial situation. From health problems leading to skyrocketing medical bills to the financial market downturn affecting my savings, the road has been challenging. In these difficult times, I find myself turning to the kindness of individuals who may have the means to provide assistance. Any financial help, no matter how small, would go a long way in helping me navigate through these tough times.\",\n",
    "    \"Dear Sir/Madam, I am a single parent blessed with three beautiful children. Our world turned upside down when I recently lost my job due to company-wide layoffs as a result of the economic downturn. Since then, our days have been marred by uncertainty and struggles to make ends meet. I am doing my best to provide for my family and keep a roof over our heads, but it is becoming increasingly difficult with each passing day. I am writing to you today, in hope that you might find it in your heart to assist us during this difficult period. Your generous assistance, in any form or amount, will help us greatly.\",\n",
    "    \"Hello, I am writing on behalf of our local church, an establishment that has stood as a cornerstone of our community for over a century. Sadly, due to years of wear and tear, the church is in dire need of repairs. The roof is leaking, the paint is peeling, and our heating system is on its last legs. Without sufficient funds, we face the heartbreaking possibility of closing the church. As such, we are seeking donations to help us preserve this important community institution. We believe that with your help, we can restore the church to its former glory and continue serving our community.\",\n",
    "    \"Dear friend, I am an independent filmmaker currently working on a project that highlights the effects of climate change on indigenous communities. This documentary aims to bring attention to the often-overlooked victims of our changing environment, showcasing their resilience and struggle in the face of adversity. However, without the necessary funds, it has been challenging to provide this project the justice it deserves. Travel expenses, equipment rental, and post-production costs are proving to be overwhelming. I write to you in hopes of garnering financial support to help complete this crucial project. Any amount, big or small, will bring us closer to our goal.\",\n",
    "]}\n",
    "\n",
    "df2 = pd.DataFrame(data2)\n"
   ]
  },
  {
   "cell_type": "code",
   "execution_count": 180,
   "metadata": {
    "id": "henVEcL2EBEB"
   },
   "outputs": [],
   "source": [
    "data3 = {'text': [\n",
    "    \"Greetings! I am writing to you from the heart of a small, impoverished school in a rural area. Our school is the only source of education for the children in our community, who display an undeniable eagerness to learn and broaden their horizons. Unfortunately, we lack the basic facilities needed to provide these children with the quality education they deserve. Our classrooms are deteriorating, educational resources are scarce, and our hardworking teachers are struggling with the limited tools at their disposal. We humbly request your generous contributions to help us rebuild our school and create an environment conducive to learning for these deserving children.\",\n",
    "    \"Dear friend, this letter finds its way to you with a heavy heart. My name is [Your Name], and I served as a professor at [University Name] for over two decades. Recently, due to a series of unfortunate circumstances, I have found myself grappling with a dire financial situation. From health problems leading to skyrocketing medical bills to the financial market downturn affecting my savings, the road has been challenging. In these difficult times, I find myself turning to the kindness of individuals who may have the means to provide assistance. Any financial help, no matter how small, would go a long way in helping me navigate through these tough times.\",\n",
    "    \"Dear Sir/Madam, I am a single parent blessed with three beautiful children. Our world turned upside down when I recently lost my job due to company-wide layoffs as a result of the economic downturn. Since then, our days have been marred by uncertainty and struggles to make ends meet. I am doing my best to provide for my family and keep a roof over our heads, but it is becoming increasingly difficult with each passing day. I am writing to you today, in hope that you might find it in your heart to assist us during this difficult period. Your generous assistance, in any form or amount, will help us greatly.\",\n",
    "    \"Hello, I am writing on behalf of our local church, an establishment that has stood as a cornerstone of our community for over a century. Sadly, due to years of wear and tear, the church is in dire need of repairs. The roof is leaking, the paint is peeling, and our heating system is on its last legs. Without sufficient funds, we face the heartbreaking possibility of closing the church. As such, we are seeking donations to help us preserve this important community institution. We believe that with your help, we can restore the church to its former glory and continue serving our community.\",\n",
    "    \"Dear friend, I am an independent filmmaker currently working on a project that highlights the effects of climate change on indigenous communities. This documentary aims to bring attention to the often-overlooked victims of our changing environment, showcasing their resilience and struggle in the face of adversity. However, without the necessary funds, it has been challenging to provide this project the justice it deserves. Travel expenses, equipment rental, and post-production costs are proving to be overwhelming. I write to you in hopes of garnering financial support to help complete this crucial project. Any amount, big or small, will bring us closer to our goal.\",\n",
    "    \"Hello, my name is [Your Name] and I am an aspiring entrepreneur. I have developed an innovative product that I believe has the potential to make a significant impact in the [industry name]. I have devoted a great deal of time and personal savings into this project, but I now find myself at a standstill due to insufficient funding. I'm writing to request financial assistance to push this product to market. Your support would greatly help in covering manufacturing, marketing, and distribution costs. I sincerely believe in the potential of this product and I hope you would consider investing in its success.\",\n",
    "    \"Dear friend, I am a researcher at [Institution Name] and our team has been working tirelessly to find solutions for environmental challenges. However, scientific research often requires substantial funding. I'm writing to ask for your support. Your generous contribution would allow us to invest in essential equipment, expand our research team, and fund testing and experiments. Every donation brings us one step closer to realizing our goals for a cleaner, more sustainable world.\",\n",
    "    \"Hello, my name is [Your Name], and I am a struggling artist. I've dedicated my life to creating art that communicates the human experience, evokes emotion, and sparks thought. Unfortunately, art supplies and exhibition expenses are cost-prohibitive, often creating a barrier to my creative process. I'm writing to kindly ask for your financial assistance, which would provide much-needed support for purchasing materials and showcasing my work. Your generosity would significantly impact my ability to continue creating and sharing my art.\",\n",
    "    \"Dear Sir/Madam, I am a recent graduate carrying a substantial student loan. While I am actively seeking employment, my financial situation is precarious at best. Until I can secure a stable job, I am struggling to manage my day-to-day expenses and loan repayments. I am writing to ask for your help during this difficult time. Any assistance, financial or otherwise, would greatly alleviate the burden I am currently facing.\",\n",
    "    \"Hello, I am writing to you on behalf of a local animal shelter. We provide a safe haven for abused, abandoned, and stray animals, but operating costs are high and our resources are dwindling. From food and medical supplies to maintenance and staffing, every aspect of running the shelter needs funding. If you are in a position to help, we would greatly appreciate your support. Your donation could give an innocent animal a second chance at life.\"\n",
    "]}\n",
    "\n",
    "df3 = pd.DataFrame(data3)\n",
    "\n"
   ]
  },
  {
   "cell_type": "code",
   "execution_count": 181,
   "metadata": {
    "id": "2ycWqpZSEBJp"
   },
   "outputs": [],
   "source": [
    "data_gpt4_random = pd.concat([df1,df2,df3], ignore_index=True)"
   ]
  },
  {
   "cell_type": "code",
   "execution_count": 184,
   "metadata": {
    "colab": {
     "base_uri": "https://localhost:8080/",
     "height": 206
    },
    "id": "RSSnM_mjEBO9",
    "outputId": "33b835a5-6037-4b72-8f44-abbfffb3601e"
   },
   "outputs": [
    {
     "data": {
      "text/html": [
       "\n",
       "\n",
       "  <div id=\"df-1051ff55-6c8a-44af-8f15-d74296f42744\">\n",
       "    <div class=\"colab-df-container\">\n",
       "      <div>\n",
       "<style scoped>\n",
       "    .dataframe tbody tr th:only-of-type {\n",
       "        vertical-align: middle;\n",
       "    }\n",
       "\n",
       "    .dataframe tbody tr th {\n",
       "        vertical-align: top;\n",
       "    }\n",
       "\n",
       "    .dataframe thead th {\n",
       "        text-align: right;\n",
       "    }\n",
       "</style>\n",
       "<table border=\"1\" class=\"dataframe\">\n",
       "  <thead>\n",
       "    <tr style=\"text-align: right;\">\n",
       "      <th></th>\n",
       "      <th>text</th>\n",
       "      <th>target</th>\n",
       "    </tr>\n",
       "  </thead>\n",
       "  <tbody>\n",
       "    <tr>\n",
       "      <th>0</th>\n",
       "      <td>I hope this message finds you in good health. ...</td>\n",
       "      <td>1</td>\n",
       "    </tr>\n",
       "    <tr>\n",
       "      <th>1</th>\n",
       "      <td>I am reaching out to you with a unique and pot...</td>\n",
       "      <td>1</td>\n",
       "    </tr>\n",
       "    <tr>\n",
       "      <th>2</th>\n",
       "      <td>I am writing this email with a heavy heart, bu...</td>\n",
       "      <td>1</td>\n",
       "    </tr>\n",
       "    <tr>\n",
       "      <th>3</th>\n",
       "      <td>I am [Your Name], a friend of [Patient's Name]...</td>\n",
       "      <td>1</td>\n",
       "    </tr>\n",
       "    <tr>\n",
       "      <th>4</th>\n",
       "      <td>I am writing on behalf of a Non-Governmental O...</td>\n",
       "      <td>1</td>\n",
       "    </tr>\n",
       "  </tbody>\n",
       "</table>\n",
       "</div>\n",
       "      <button class=\"colab-df-convert\" onclick=\"convertToInteractive('df-1051ff55-6c8a-44af-8f15-d74296f42744')\"\n",
       "              title=\"Convert this dataframe to an interactive table.\"\n",
       "              style=\"display:none;\">\n",
       "\n",
       "  <svg xmlns=\"http://www.w3.org/2000/svg\" height=\"24px\"viewBox=\"0 0 24 24\"\n",
       "       width=\"24px\">\n",
       "    <path d=\"M0 0h24v24H0V0z\" fill=\"none\"/>\n",
       "    <path d=\"M18.56 5.44l.94 2.06.94-2.06 2.06-.94-2.06-.94-.94-2.06-.94 2.06-2.06.94zm-11 1L8.5 8.5l.94-2.06 2.06-.94-2.06-.94L8.5 2.5l-.94 2.06-2.06.94zm10 10l.94 2.06.94-2.06 2.06-.94-2.06-.94-.94-2.06-.94 2.06-2.06.94z\"/><path d=\"M17.41 7.96l-1.37-1.37c-.4-.4-.92-.59-1.43-.59-.52 0-1.04.2-1.43.59L10.3 9.45l-7.72 7.72c-.78.78-.78 2.05 0 2.83L4 21.41c.39.39.9.59 1.41.59.51 0 1.02-.2 1.41-.59l7.78-7.78 2.81-2.81c.8-.78.8-2.07 0-2.86zM5.41 20L4 18.59l7.72-7.72 1.47 1.35L5.41 20z\"/>\n",
       "  </svg>\n",
       "      </button>\n",
       "\n",
       "\n",
       "\n",
       "    <div id=\"df-7cb237b7-123e-451c-a757-9b38f349105e\">\n",
       "      <button class=\"colab-df-quickchart\" onclick=\"quickchart('df-7cb237b7-123e-451c-a757-9b38f349105e')\"\n",
       "              title=\"Suggest charts.\"\n",
       "              style=\"display:none;\">\n",
       "\n",
       "<svg xmlns=\"http://www.w3.org/2000/svg\" height=\"24px\"viewBox=\"0 0 24 24\"\n",
       "     width=\"24px\">\n",
       "    <g>\n",
       "        <path d=\"M19 3H5c-1.1 0-2 .9-2 2v14c0 1.1.9 2 2 2h14c1.1 0 2-.9 2-2V5c0-1.1-.9-2-2-2zM9 17H7v-7h2v7zm4 0h-2V7h2v10zm4 0h-2v-4h2v4z\"/>\n",
       "    </g>\n",
       "</svg>\n",
       "      </button>\n",
       "    </div>\n",
       "\n",
       "<style>\n",
       "  .colab-df-quickchart {\n",
       "    background-color: #E8F0FE;\n",
       "    border: none;\n",
       "    border-radius: 50%;\n",
       "    cursor: pointer;\n",
       "    display: none;\n",
       "    fill: #1967D2;\n",
       "    height: 32px;\n",
       "    padding: 0 0 0 0;\n",
       "    width: 32px;\n",
       "  }\n",
       "\n",
       "  .colab-df-quickchart:hover {\n",
       "    background-color: #E2EBFA;\n",
       "    box-shadow: 0px 1px 2px rgba(60, 64, 67, 0.3), 0px 1px 3px 1px rgba(60, 64, 67, 0.15);\n",
       "    fill: #174EA6;\n",
       "  }\n",
       "\n",
       "  [theme=dark] .colab-df-quickchart {\n",
       "    background-color: #3B4455;\n",
       "    fill: #D2E3FC;\n",
       "  }\n",
       "\n",
       "  [theme=dark] .colab-df-quickchart:hover {\n",
       "    background-color: #434B5C;\n",
       "    box-shadow: 0px 1px 3px 1px rgba(0, 0, 0, 0.15);\n",
       "    filter: drop-shadow(0px 1px 2px rgba(0, 0, 0, 0.3));\n",
       "    fill: #FFFFFF;\n",
       "  }\n",
       "</style>\n",
       "\n",
       "    <script>\n",
       "      async function quickchart(key) {\n",
       "        const containerElement = document.querySelector('#' + key);\n",
       "        const charts = await google.colab.kernel.invokeFunction(\n",
       "            'suggestCharts', [key], {});\n",
       "      }\n",
       "    </script>\n",
       "\n",
       "      <script>\n",
       "\n",
       "function displayQuickchartButton(domScope) {\n",
       "  let quickchartButtonEl =\n",
       "    domScope.querySelector('#df-7cb237b7-123e-451c-a757-9b38f349105e button.colab-df-quickchart');\n",
       "  quickchartButtonEl.style.display =\n",
       "    google.colab.kernel.accessAllowed ? 'block' : 'none';\n",
       "}\n",
       "\n",
       "        displayQuickchartButton(document);\n",
       "      </script>\n",
       "      <style>\n",
       "    .colab-df-container {\n",
       "      display:flex;\n",
       "      flex-wrap:wrap;\n",
       "      gap: 12px;\n",
       "    }\n",
       "\n",
       "    .colab-df-convert {\n",
       "      background-color: #E8F0FE;\n",
       "      border: none;\n",
       "      border-radius: 50%;\n",
       "      cursor: pointer;\n",
       "      display: none;\n",
       "      fill: #1967D2;\n",
       "      height: 32px;\n",
       "      padding: 0 0 0 0;\n",
       "      width: 32px;\n",
       "    }\n",
       "\n",
       "    .colab-df-convert:hover {\n",
       "      background-color: #E2EBFA;\n",
       "      box-shadow: 0px 1px 2px rgba(60, 64, 67, 0.3), 0px 1px 3px 1px rgba(60, 64, 67, 0.15);\n",
       "      fill: #174EA6;\n",
       "    }\n",
       "\n",
       "    [theme=dark] .colab-df-convert {\n",
       "      background-color: #3B4455;\n",
       "      fill: #D2E3FC;\n",
       "    }\n",
       "\n",
       "    [theme=dark] .colab-df-convert:hover {\n",
       "      background-color: #434B5C;\n",
       "      box-shadow: 0px 1px 3px 1px rgba(0, 0, 0, 0.15);\n",
       "      filter: drop-shadow(0px 1px 2px rgba(0, 0, 0, 0.3));\n",
       "      fill: #FFFFFF;\n",
       "    }\n",
       "  </style>\n",
       "\n",
       "      <script>\n",
       "        const buttonEl =\n",
       "          document.querySelector('#df-1051ff55-6c8a-44af-8f15-d74296f42744 button.colab-df-convert');\n",
       "        buttonEl.style.display =\n",
       "          google.colab.kernel.accessAllowed ? 'block' : 'none';\n",
       "\n",
       "        async function convertToInteractive(key) {\n",
       "          const element = document.querySelector('#df-1051ff55-6c8a-44af-8f15-d74296f42744');\n",
       "          const dataTable =\n",
       "            await google.colab.kernel.invokeFunction('convertToInteractive',\n",
       "                                                     [key], {});\n",
       "          if (!dataTable) return;\n",
       "\n",
       "          const docLinkHtml = 'Like what you see? Visit the ' +\n",
       "            '<a target=\"_blank\" href=https://colab.research.google.com/notebooks/data_table.ipynb>data table notebook</a>'\n",
       "            + ' to learn more about interactive tables.';\n",
       "          element.innerHTML = '';\n",
       "          dataTable['output_type'] = 'display_data';\n",
       "          await google.colab.output.renderOutput(dataTable, element);\n",
       "          const docLink = document.createElement('div');\n",
       "          docLink.innerHTML = docLinkHtml;\n",
       "          element.appendChild(docLink);\n",
       "        }\n",
       "      </script>\n",
       "    </div>\n",
       "  </div>\n"
      ],
      "text/plain": [
       "                                                text  target\n",
       "0  I hope this message finds you in good health. ...       1\n",
       "1  I am reaching out to you with a unique and pot...       1\n",
       "2  I am writing this email with a heavy heart, bu...       1\n",
       "3  I am [Your Name], a friend of [Patient's Name]...       1\n",
       "4  I am writing on behalf of a Non-Governmental O...       1"
      ]
     },
     "execution_count": 184,
     "metadata": {},
     "output_type": "execute_result"
    }
   ],
   "source": [
    "data_gpt4_random.head()"
   ]
  },
  {
   "cell_type": "code",
   "execution_count": 183,
   "metadata": {
    "id": "BSBcx5d2EBUA"
   },
   "outputs": [],
   "source": [
    "data_gpt4_random['target'] = 1\n"
   ]
  },
  {
   "cell_type": "code",
   "execution_count": 185,
   "metadata": {
    "id": "bDxHAhNX8t9M"
   },
   "outputs": [],
   "source": [
    "merged_df_gpt4_random = pd.concat([test_dataset_raw_0_25, data_gpt4_random], ignore_index=True)\n",
    "\n",
    "# Shuffle the index\n",
    "test_125_df_gpt4_random = merged_df_gpt4_random.sample(frac=1).reset_index(drop=True)"
   ]
  },
  {
   "cell_type": "code",
   "execution_count": 186,
   "metadata": {
    "colab": {
     "base_uri": "https://localhost:8080/",
     "height": 206
    },
    "id": "xJ512kOrJbx_",
    "outputId": "661e369c-7389-48a1-f2fb-6e21ea7fadc6"
   },
   "outputs": [
    {
     "data": {
      "text/html": [
       "\n",
       "\n",
       "  <div id=\"df-1bcf2219-750f-466d-99fa-49f522105360\">\n",
       "    <div class=\"colab-df-container\">\n",
       "      <div>\n",
       "<style scoped>\n",
       "    .dataframe tbody tr th:only-of-type {\n",
       "        vertical-align: middle;\n",
       "    }\n",
       "\n",
       "    .dataframe tbody tr th {\n",
       "        vertical-align: top;\n",
       "    }\n",
       "\n",
       "    .dataframe thead th {\n",
       "        text-align: right;\n",
       "    }\n",
       "</style>\n",
       "<table border=\"1\" class=\"dataframe\">\n",
       "  <thead>\n",
       "    <tr style=\"text-align: right;\">\n",
       "      <th></th>\n",
       "      <th>text</th>\n",
       "      <th>target</th>\n",
       "    </tr>\n",
       "  </thead>\n",
       "  <tbody>\n",
       "    <tr>\n",
       "      <th>0</th>\n",
       "      <td>forwarded carla hoffmanpdxect   am  enron cap...</td>\n",
       "      <td>0</td>\n",
       "    </tr>\n",
       "    <tr>\n",
       "      <th>1</th>\n",
       "      <td>margaret minnick ganymede draustin tx margaret...</td>\n",
       "      <td>0</td>\n",
       "    </tr>\n",
       "    <tr>\n",
       "      <th>2</th>\n",
       "      <td>mark  thanks still including distribution make...</td>\n",
       "      <td>0</td>\n",
       "    </tr>\n",
       "    <tr>\n",
       "      <th>3</th>\n",
       "      <td>Greetings! I am writing to you from the heart ...</td>\n",
       "      <td>1</td>\n",
       "    </tr>\n",
       "    <tr>\n",
       "      <th>4</th>\n",
       "      <td>none remaining books belong central desk thankspl</td>\n",
       "      <td>0</td>\n",
       "    </tr>\n",
       "  </tbody>\n",
       "</table>\n",
       "</div>\n",
       "      <button class=\"colab-df-convert\" onclick=\"convertToInteractive('df-1bcf2219-750f-466d-99fa-49f522105360')\"\n",
       "              title=\"Convert this dataframe to an interactive table.\"\n",
       "              style=\"display:none;\">\n",
       "\n",
       "  <svg xmlns=\"http://www.w3.org/2000/svg\" height=\"24px\"viewBox=\"0 0 24 24\"\n",
       "       width=\"24px\">\n",
       "    <path d=\"M0 0h24v24H0V0z\" fill=\"none\"/>\n",
       "    <path d=\"M18.56 5.44l.94 2.06.94-2.06 2.06-.94-2.06-.94-.94-2.06-.94 2.06-2.06.94zm-11 1L8.5 8.5l.94-2.06 2.06-.94-2.06-.94L8.5 2.5l-.94 2.06-2.06.94zm10 10l.94 2.06.94-2.06 2.06-.94-2.06-.94-.94-2.06-.94 2.06-2.06.94z\"/><path d=\"M17.41 7.96l-1.37-1.37c-.4-.4-.92-.59-1.43-.59-.52 0-1.04.2-1.43.59L10.3 9.45l-7.72 7.72c-.78.78-.78 2.05 0 2.83L4 21.41c.39.39.9.59 1.41.59.51 0 1.02-.2 1.41-.59l7.78-7.78 2.81-2.81c.8-.78.8-2.07 0-2.86zM5.41 20L4 18.59l7.72-7.72 1.47 1.35L5.41 20z\"/>\n",
       "  </svg>\n",
       "      </button>\n",
       "\n",
       "\n",
       "\n",
       "    <div id=\"df-63577c4b-9b8e-4d05-b9aa-bafe6d39fa80\">\n",
       "      <button class=\"colab-df-quickchart\" onclick=\"quickchart('df-63577c4b-9b8e-4d05-b9aa-bafe6d39fa80')\"\n",
       "              title=\"Suggest charts.\"\n",
       "              style=\"display:none;\">\n",
       "\n",
       "<svg xmlns=\"http://www.w3.org/2000/svg\" height=\"24px\"viewBox=\"0 0 24 24\"\n",
       "     width=\"24px\">\n",
       "    <g>\n",
       "        <path d=\"M19 3H5c-1.1 0-2 .9-2 2v14c0 1.1.9 2 2 2h14c1.1 0 2-.9 2-2V5c0-1.1-.9-2-2-2zM9 17H7v-7h2v7zm4 0h-2V7h2v10zm4 0h-2v-4h2v4z\"/>\n",
       "    </g>\n",
       "</svg>\n",
       "      </button>\n",
       "    </div>\n",
       "\n",
       "<style>\n",
       "  .colab-df-quickchart {\n",
       "    background-color: #E8F0FE;\n",
       "    border: none;\n",
       "    border-radius: 50%;\n",
       "    cursor: pointer;\n",
       "    display: none;\n",
       "    fill: #1967D2;\n",
       "    height: 32px;\n",
       "    padding: 0 0 0 0;\n",
       "    width: 32px;\n",
       "  }\n",
       "\n",
       "  .colab-df-quickchart:hover {\n",
       "    background-color: #E2EBFA;\n",
       "    box-shadow: 0px 1px 2px rgba(60, 64, 67, 0.3), 0px 1px 3px 1px rgba(60, 64, 67, 0.15);\n",
       "    fill: #174EA6;\n",
       "  }\n",
       "\n",
       "  [theme=dark] .colab-df-quickchart {\n",
       "    background-color: #3B4455;\n",
       "    fill: #D2E3FC;\n",
       "  }\n",
       "\n",
       "  [theme=dark] .colab-df-quickchart:hover {\n",
       "    background-color: #434B5C;\n",
       "    box-shadow: 0px 1px 3px 1px rgba(0, 0, 0, 0.15);\n",
       "    filter: drop-shadow(0px 1px 2px rgba(0, 0, 0, 0.3));\n",
       "    fill: #FFFFFF;\n",
       "  }\n",
       "</style>\n",
       "\n",
       "    <script>\n",
       "      async function quickchart(key) {\n",
       "        const containerElement = document.querySelector('#' + key);\n",
       "        const charts = await google.colab.kernel.invokeFunction(\n",
       "            'suggestCharts', [key], {});\n",
       "      }\n",
       "    </script>\n",
       "\n",
       "      <script>\n",
       "\n",
       "function displayQuickchartButton(domScope) {\n",
       "  let quickchartButtonEl =\n",
       "    domScope.querySelector('#df-63577c4b-9b8e-4d05-b9aa-bafe6d39fa80 button.colab-df-quickchart');\n",
       "  quickchartButtonEl.style.display =\n",
       "    google.colab.kernel.accessAllowed ? 'block' : 'none';\n",
       "}\n",
       "\n",
       "        displayQuickchartButton(document);\n",
       "      </script>\n",
       "      <style>\n",
       "    .colab-df-container {\n",
       "      display:flex;\n",
       "      flex-wrap:wrap;\n",
       "      gap: 12px;\n",
       "    }\n",
       "\n",
       "    .colab-df-convert {\n",
       "      background-color: #E8F0FE;\n",
       "      border: none;\n",
       "      border-radius: 50%;\n",
       "      cursor: pointer;\n",
       "      display: none;\n",
       "      fill: #1967D2;\n",
       "      height: 32px;\n",
       "      padding: 0 0 0 0;\n",
       "      width: 32px;\n",
       "    }\n",
       "\n",
       "    .colab-df-convert:hover {\n",
       "      background-color: #E2EBFA;\n",
       "      box-shadow: 0px 1px 2px rgba(60, 64, 67, 0.3), 0px 1px 3px 1px rgba(60, 64, 67, 0.15);\n",
       "      fill: #174EA6;\n",
       "    }\n",
       "\n",
       "    [theme=dark] .colab-df-convert {\n",
       "      background-color: #3B4455;\n",
       "      fill: #D2E3FC;\n",
       "    }\n",
       "\n",
       "    [theme=dark] .colab-df-convert:hover {\n",
       "      background-color: #434B5C;\n",
       "      box-shadow: 0px 1px 3px 1px rgba(0, 0, 0, 0.15);\n",
       "      filter: drop-shadow(0px 1px 2px rgba(0, 0, 0, 0.3));\n",
       "      fill: #FFFFFF;\n",
       "    }\n",
       "  </style>\n",
       "\n",
       "      <script>\n",
       "        const buttonEl =\n",
       "          document.querySelector('#df-1bcf2219-750f-466d-99fa-49f522105360 button.colab-df-convert');\n",
       "        buttonEl.style.display =\n",
       "          google.colab.kernel.accessAllowed ? 'block' : 'none';\n",
       "\n",
       "        async function convertToInteractive(key) {\n",
       "          const element = document.querySelector('#df-1bcf2219-750f-466d-99fa-49f522105360');\n",
       "          const dataTable =\n",
       "            await google.colab.kernel.invokeFunction('convertToInteractive',\n",
       "                                                     [key], {});\n",
       "          if (!dataTable) return;\n",
       "\n",
       "          const docLinkHtml = 'Like what you see? Visit the ' +\n",
       "            '<a target=\"_blank\" href=https://colab.research.google.com/notebooks/data_table.ipynb>data table notebook</a>'\n",
       "            + ' to learn more about interactive tables.';\n",
       "          element.innerHTML = '';\n",
       "          dataTable['output_type'] = 'display_data';\n",
       "          await google.colab.output.renderOutput(dataTable, element);\n",
       "          const docLink = document.createElement('div');\n",
       "          docLink.innerHTML = docLinkHtml;\n",
       "          element.appendChild(docLink);\n",
       "        }\n",
       "      </script>\n",
       "    </div>\n",
       "  </div>\n"
      ],
      "text/plain": [
       "                                                text  target\n",
       "0   forwarded carla hoffmanpdxect   am  enron cap...       0\n",
       "1  margaret minnick ganymede draustin tx margaret...       0\n",
       "2  mark  thanks still including distribution make...       0\n",
       "3  Greetings! I am writing to you from the heart ...       1\n",
       "4  none remaining books belong central desk thankspl       0"
      ]
     },
     "execution_count": 186,
     "metadata": {},
     "output_type": "execute_result"
    }
   ],
   "source": [
    "test_125_df_gpt4_random.head()"
   ]
  },
  {
   "cell_type": "code",
   "execution_count": 187,
   "metadata": {
    "colab": {
     "base_uri": "https://localhost:8080/"
    },
    "id": "aFF-1lI1Jb3k",
    "outputId": "683cc13a-81ee-479c-800f-e147b67ea4be"
   },
   "outputs": [
    {
     "name": "stdout",
     "output_type": "stream",
     "text": [
      "4/4 [==============================] - 64s 15s/step\n"
     ]
    }
   ],
   "source": [
    "predict_125_gpt4_random = model.predict(test_125_df_gpt4_random['text'])"
   ]
  },
  {
   "cell_type": "code",
   "execution_count": 189,
   "metadata": {
    "id": "uSSn-PhzJb78"
   },
   "outputs": [],
   "source": [
    "y_predict_125_gpt4_random =  np.where(predict_125_gpt4_random > 0.5, 1, 0)\n",
    "y_predict_125_gpt4_random = y_predict_125_gpt4_random.reshape(-1)\n",
    "y_true_125_gpt4_random = test_125_df_gpt4_random['target'].to_numpy()"
   ]
  },
  {
   "cell_type": "code",
   "execution_count": 192,
   "metadata": {
    "colab": {
     "base_uri": "https://localhost:8080/"
    },
    "id": "ME8fBNERJcFd",
    "outputId": "9d30787e-d6c6-4ee8-b098-6cb53b62c1e4"
   },
   "outputs": [
    {
     "name": "stdout",
     "output_type": "stream",
     "text": [
      "              precision    recall  f1-score   support\n",
      "\n",
      "not phishing       1.00      0.93      0.96       100\n",
      "    phishing       0.78      1.00      0.88        25\n",
      "\n",
      "    accuracy                           0.94       125\n",
      "   macro avg       0.89      0.97      0.92       125\n",
      "weighted avg       0.96      0.94      0.95       125\n",
      "\n"
     ]
    }
   ],
   "source": [
    "\n",
    "report_125_gpt4_random = classification_report(y_true_125_gpt4_random, y_predict_125_gpt4_random, target_names=[\"not phishing\", \"phishing\"])\n",
    "print(report_125_gpt4_random)"
   ]
  },
  {
   "cell_type": "code",
   "execution_count": null,
   "metadata": {
    "id": "jC5wnwe8JcMy"
   },
   "outputs": [],
   "source": []
  },
  {
   "cell_type": "code",
   "execution_count": null,
   "metadata": {
    "id": "upHLabxWK17I"
   },
   "outputs": [],
   "source": []
  },
  {
   "cell_type": "code",
   "execution_count": null,
   "metadata": {
    "id": "9OLgu3byK2A9"
   },
   "outputs": [],
   "source": []
  },
  {
   "cell_type": "code",
   "execution_count": null,
   "metadata": {
    "id": "7qaAN_sCK2IV"
   },
   "outputs": [],
   "source": []
  },
  {
   "cell_type": "code",
   "execution_count": null,
   "metadata": {
    "id": "Y5xwhOnYK2OL"
   },
   "outputs": [],
   "source": []
  },
  {
   "cell_type": "code",
   "execution_count": null,
   "metadata": {
    "id": "Jqn86CCLJcom"
   },
   "outputs": [],
   "source": []
  },
  {
   "cell_type": "code",
   "execution_count": null,
   "metadata": {
    "id": "PAuxRfbP4-tt"
   },
   "outputs": [],
   "source": []
  }
 ],
 "metadata": {
  "colab": {
   "provenance": []
  },
  "kernelspec": {
   "display_name": "Python 3 (ipykernel)",
   "language": "python",
   "name": "python3"
  },
  "language_info": {
   "codemirror_mode": {
    "name": "ipython",
    "version": 3
   },
   "file_extension": ".py",
   "mimetype": "text/x-python",
   "name": "python",
   "nbconvert_exporter": "python",
   "pygments_lexer": "ipython3",
   "version": "3.8.12"
  },
  "toc": {
   "base_numbering": 1,
   "nav_menu": {},
   "number_sections": true,
   "sideBar": true,
   "skip_h1_title": false,
   "title_cell": "Table of Contents",
   "title_sidebar": "Contents",
   "toc_cell": false,
   "toc_position": {},
   "toc_section_display": true,
   "toc_window_display": false
  }
 },
 "nbformat": 4,
 "nbformat_minor": 1
}
