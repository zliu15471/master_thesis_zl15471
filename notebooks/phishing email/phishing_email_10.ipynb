{
 "cells": [
  {
   "cell_type": "code",
   "execution_count": 1,
   "metadata": {
    "id": "s_SNJ_Je2R96"
   },
   "outputs": [],
   "source": [
    "import os\n",
    "import re\n",
    "import pandas as pd\n",
    "import numpy as np\n",
    "from tqdm import tqdm"
   ]
  },
  {
   "cell_type": "code",
   "execution_count": 2,
   "metadata": {
    "id": "zDWsaHy_2ZH-"
   },
   "outputs": [],
   "source": [
    "# Params for bert model and tokenization\n",
    "Nsamp = 1000 # number of samples to generate in each class - 'spam', 'not spam'\n",
    "maxtokens = 200 # the maximum number of tokens per document\n",
    "maxtokenlen = 100 # the maximum length of each token"
   ]
  },
  {
   "cell_type": "code",
   "execution_count": 3,
   "metadata": {
    "colab": {
     "base_uri": "https://localhost:8080/"
    },
    "id": "MB5yLe6L2jGb",
    "outputId": "301e83ae-95ce-4211-c75d-e3d80af2b606"
   },
   "outputs": [
    {
     "name": "stderr",
     "output_type": "stream",
     "text": [
      "<>:2: SyntaxWarning: \"is\" with a literal. Did you mean \"==\"?\n",
      "<>:2: SyntaxWarning: \"is\" with a literal. Did you mean \"==\"?\n",
      "<ipython-input-3-4889ac943b93>:2: SyntaxWarning: \"is\" with a literal. Did you mean \"==\"?\n",
      "  if row is None or row is '':\n"
     ]
    }
   ],
   "source": [
    "def tokenize(row):\n",
    "    if row is None or row is '':\n",
    "        tokens = \"\"\n",
    "    else:\n",
    "        try:\n",
    "            tokens = row.split(\" \")[:maxtokens]\n",
    "        except:\n",
    "            tokens=\"\"\n",
    "    return tokens"
   ]
  },
  {
   "cell_type": "code",
   "execution_count": 4,
   "metadata": {
    "id": "GfNq8p8v2kTL"
   },
   "outputs": [],
   "source": [
    "def reg_expressions(row):\n",
    "    tokens = []\n",
    "    try:\n",
    "        for token in row:\n",
    "            token = token.lower()\n",
    "            token = re.sub(r'[\\W\\d]', \"\", token)\n",
    "            token = token[:maxtokenlen] # truncate token\n",
    "            tokens.append(token)\n",
    "    except:\n",
    "        token = \"\"\n",
    "        tokens.append(token)\n",
    "    return tokens"
   ]
  },
  {
   "cell_type": "code",
   "execution_count": 5,
   "metadata": {
    "colab": {
     "base_uri": "https://localhost:8080/"
    },
    "id": "zTaQleLe2lfN",
    "outputId": "0f3da4ab-5465-41f8-e66c-d47f5fd3b03b"
   },
   "outputs": [
    {
     "name": "stdout",
     "output_type": "stream",
     "text": [
      "['i', 'me', 'my', 'myself', 'we', 'our', 'ours', 'ourselves', 'you', \"you're\", \"you've\", \"you'll\", \"you'd\", 'your', 'yours', 'yourself', 'yourselves', 'he', 'him', 'his', 'himself', 'she', \"she's\", 'her', 'hers', 'herself', 'it', \"it's\", 'its', 'itself', 'they', 'them', 'their', 'theirs', 'themselves', 'what', 'which', 'who', 'whom', 'this', 'that', \"that'll\", 'these', 'those', 'am', 'is', 'are', 'was', 'were', 'be', 'been', 'being', 'have', 'has', 'had', 'having', 'do', 'does', 'did', 'doing', 'a', 'an', 'the', 'and', 'but', 'if', 'or', 'because', 'as', 'until', 'while', 'of', 'at', 'by', 'for', 'with', 'about', 'against', 'between', 'into', 'through', 'during', 'before', 'after', 'above', 'below', 'to', 'from', 'up', 'down', 'in', 'out', 'on', 'off', 'over', 'under', 'again', 'further', 'then', 'once', 'here', 'there', 'when', 'where', 'why', 'how', 'all', 'any', 'both', 'each', 'few', 'more', 'most', 'other', 'some', 'such', 'no', 'nor', 'not', 'only', 'own', 'same', 'so', 'than', 'too', 'very', 's', 't', 'can', 'will', 'just', 'don', \"don't\", 'should', \"should've\", 'now', 'd', 'll', 'm', 'o', 're', 've', 'y', 'ain', 'aren', \"aren't\", 'couldn', \"couldn't\", 'didn', \"didn't\", 'doesn', \"doesn't\", 'hadn', \"hadn't\", 'hasn', \"hasn't\", 'haven', \"haven't\", 'isn', \"isn't\", 'ma', 'mightn', \"mightn't\", 'mustn', \"mustn't\", 'needn', \"needn't\", 'shan', \"shan't\", 'shouldn', \"shouldn't\", 'wasn', \"wasn't\", 'weren', \"weren't\", 'won', \"won't\", 'wouldn', \"wouldn't\"]\n"
     ]
    },
    {
     "name": "stderr",
     "output_type": "stream",
     "text": [
      "[nltk_data] Downloading package stopwords to /root/nltk_data...\n",
      "[nltk_data]   Unzipping corpora/stopwords.zip.\n"
     ]
    }
   ],
   "source": [
    "import nltk\n",
    "\n",
    "nltk.download('stopwords')\n",
    "from nltk.corpus import stopwords\n",
    "stopwords = stopwords.words('english')\n",
    "print(stopwords) # see default stopwords\n",
    "\n",
    "def stop_word_removal(row):\n",
    "    token = [token for token in row if token not in stopwords]\n",
    "    token = filter(None, token)\n",
    "    return token"
   ]
  },
  {
   "cell_type": "code",
   "execution_count": 6,
   "metadata": {
    "id": "mucQNYW32mtP"
   },
   "outputs": [],
   "source": [
    "bodies_df = pd.read_csv('./bodies.csv')"
   ]
  },
  {
   "cell_type": "code",
   "execution_count": 7,
   "metadata": {
    "id": "-oxyQsI2QXkm"
   },
   "outputs": [],
   "source": [
    "fraud_bodies_df = pd.read_csv('./fraud_bodies_df.csv')"
   ]
  },
  {
   "cell_type": "code",
   "execution_count": 8,
   "metadata": {
    "id": "nox1Q916QjLT"
   },
   "outputs": [],
   "source": [
    "import random\n",
    "\n",
    "# Convert everything to lower-case, truncate to maxtokens and truncate each token to maxtokenlen\n",
    "EnronEmails = bodies_df.iloc[:,0].apply(tokenize)\n",
    "EnronEmails = EnronEmails.apply(stop_word_removal)\n",
    "EnronEmails = EnronEmails.apply(reg_expressions)\n",
    "EnronEmails = EnronEmails.sample(Nsamp)\n",
    "\n",
    "SpamEmails = fraud_bodies_df.iloc[:,0].apply(tokenize)\n",
    "SpamEmails = SpamEmails.apply(stop_word_removal)\n",
    "SpamEmails = SpamEmails.apply(reg_expressions)\n",
    "SpamEmails = SpamEmails.sample(Nsamp)\n",
    "\n",
    "raw_data = pd.concat([SpamEmails,EnronEmails], axis=0).values"
   ]
  },
  {
   "cell_type": "code",
   "execution_count": 9,
   "metadata": {
    "colab": {
     "base_uri": "https://localhost:8080/"
    },
    "id": "u49F5z75QXqm",
    "outputId": "1e1eae84-bb14-4ff4-a7cd-4a99abbc4c4c"
   },
   "outputs": [
    {
     "name": "stdout",
     "output_type": "stream",
     "text": [
      "Shape of combined data represented as numpy array is:\n",
      "(2000,)\n",
      "Data represented as numpy array is:\n",
      "[list(['dear', 'i', 'am', 'mrs', 'sussy', 'ander', 'kolingba', 'i', 'submite', 'my', 'life', 'to', 'you', 'tackling', 'our', 'immediatelyporblem', 'iam', 'the', 'wife', 'of', 'former', 'military', 'head', 'of', 'state', 'in', 'the', 'centeral', 'africanrepublicgeneral', 'ander', 'kolingba', 'the', 'leader', 'of', 'the', 'failed', 'coup', 'in', 'centralafricanam', 'under', 'hiding', 'with', 'my', 'son', 'patrcie', 'which', 'i', 'dont', 'want', 'enybody', 'toknow', 'my', 'way', 'about', 'beacuse', 'of', 'the', 'renent', 'indiscriminiate', 'arrest', 'of', 'top', 'militaryofficersmostly', 'for', 'my', 'husband', 'tribe', 'which', 'was', 'widely', 'regarded', 'as', 'anethnicvendta', 'in', 'the', 'central', 'african', 'rupeblic', 'and', 'on', 'the', 'world', 'serviceof', 'thatmy', 'futher', 'staying', 'in', 'the', 'country', 'which', 'will', 'no', 'longer', 'savebefore', 'the', 'coupof', 'my', 'husband', 'were', 'in', 'wast', 'african', 'ivory', 'coasthe', 'deposited', 'millionus', 'dollars', 'in', 'general', 'trust', 'suspense', 'account', 'on', 'our', 'behalfnow', 'i', 'want', 'youto', 'act', 'as', 'my', 'foriegn', 'partanr', 'whom', 'will', 'provide', 'account', 'to', 'trasacfer', 'thisfound', 'into', 'your', 'bank', 'account', 'in', 'your', 'country', 'to', 'bee', 'safe', 'because', 'of', 'thenew', 'goverment', 'of', 'our', 'country', 'it', 'is', 'only', 'opportunig', 'left', 'for', 'me', 'to', 'take', 'careof', 'my', 'noly', 'son', 'behind', 'by', 'my', 'husband', 'as', 'cirumstamces', 'surrounding', 'his', 'arrestby', 'goverment', 'troops', 'was', 'not', 'knew', 'up', 'till', 'nowdear', 'i', 'will', 'send', 'you', 'all', 'myhusband', 'documents', 'essure', 'in', 'the', 'bank', 'on', 'the', 'day', 'of', 'deposit', 'to', 'contact', 'thebank', 'immedtiately', 'for', 'changing'])\n",
      " list(['emailmessagemessage', 'object', 'xde'])\n",
      " list(['emailmessagemessage', 'object', 'xd', 'emailmessagemessage', 'object', 'xda'])\n",
      " ...\n",
      " list(['carmax', 'showed', '', 'bid', 'ill', 'sell', '', 'original', 'messagefrom', 'lenhart', 'matthew', 'senttuesday', 'august', '', '', '', 'amtodorland', 'chrissubjectre', 'what', 'cheap', 'original', 'messagefrom', 'dorland', 'chris', 'senttuesday', 'august', '', '', '', 'amtolenhart', 'matthewsubjectcaptain', 'americawhat', 'driving', 'days', 'im', 'selling', 'car', 'cheap', 'cost', 'fortune', 'take', 'back', 'canada', '', 'lexus', 'is', '', 'silver', 'black', 'leather', 'interior', 'totally', 'loaded', '', 'miles', 'it', 'let', 'know', 'buddies', 'want', 'check', 'outchris'])\n",
      " list(['jbarry', 'wants', 'know', 'lawyers', 'seen', 'documents', 'provided', 'cdwr', 'let', 'know', 'take', 'isthankskim'])\n",
      " list(['imeldacould', 'please', 'remap', 'hpl', 'meter', '', 'ifhplshpchan', 'mid', 'market', 'curve', 'please', 'keep', 'mappings', 'zone', 'point', 'same', 'thanksericx'])]\n"
     ]
    }
   ],
   "source": [
    "print(\"Shape of combined data represented as numpy array is:\")\n",
    "print(raw_data.shape)\n",
    "print(\"Data represented as numpy array is:\")\n",
    "print(raw_data)\n",
    "\n",
    "# corresponding labels\n",
    "Categories = ['spam','notspam']\n",
    "header = ([1]*Nsamp)\n",
    "header.extend(([0]*Nsamp))"
   ]
  },
  {
   "cell_type": "code",
   "execution_count": 10,
   "metadata": {
    "colab": {
     "base_uri": "https://localhost:8080/"
    },
    "id": "savcEBXhQslf",
    "outputId": "5d24d700-3a57-43a3-8dc0-ee045b8dd714"
   },
   "outputs": [
    {
     "name": "stdout",
     "output_type": "stream",
     "text": [
      "train_x/train_y list details, to make sure it is of the right form:\n",
      "1200\n",
      "[['mr peter langpostfach  bern switzerlandimperative and private i contacting business transfer huge sum money deceased account though i know transaction magnitude make one apprehensive worried i assuring will well end day we decided contact due urgency transaction proposition we discovered abandoned sum us seven million five hundred thousand united states dollars account belongs one foreign customers died along entire family since death none nextofkin relations come forward lay claims money heir we cannot release fund account unless someone applies claim as nextofkin deceased indicated banking guidelines upon discovery seek permission stand next kin deceased documentations carefully worked us funds us released favour beneficiarys next kin it may interest']\n",
      " ['jeff confirming initiating call tonightmark d guinney cfaconsultantwatson wyatt investment consulting california street ste san francisco ca   ph  fax']\n",
      " ['sunoco sun oil companyltdtrusty kojimachi bldg kojimachichiyodakutokyo  japanwwwsunococojpaboutindexhtml cashier neededi mr hiroshi iguchi president japan sun oilcompany ltd japan sun oil company ltd asubsidiary world renown usmultienergyproducer sunoco inc japan asian regions are producing marketing high qualityspecialty lubricants also petroleum energyproducts we specialized refrigeration oils rubber process oils metalworking oils industrial  lubricantsautomotive lubricants etc we searching representatives help usestablish medium getting customers thecanadaamerica nearby countries well asmaking payments us sunoco inc wasestablished  entering new era wherethe demand continuous improvement expansionis far beyond perceived required afew years ago corporate entities constantlystriving perfection knowing well thattomorrowwill yet another challenge with newhorizons unfold us difficulty ofventuring unknown requires preparationexperience creativity motivation we japan sunoil company ltd take challenge look tothe expansion horizons pleasure']\n",
      " ...\n",
      " ['emailmessagemessage object xd emailmessagemessage object xdd']\n",
      " ['thanxcd']\n",
      " ['mr peter langpostfach  bern switzerlandimperative and private i contacting business transfer huge sum money deceased account though i know transaction magnitude make one apprehensive worried i assuring will well end day we decided contact due urgency transaction proposition we discovered abandoned sum us seven million five hundred thousand united states dollars account belongs one foreign customers died along entire family since death none nextofkin relations come forward lay claims money heir we cannot release fund account unless someone applies claim as nextofkin deceased indicated banking guidelines upon discovery seek permission stand next kin deceased documentations carefully worked us funds us released favour beneficiarys next kin it may interest']]\n",
      "[1 0 1 0 1]\n",
      "(1200,)\n"
     ]
    }
   ],
   "source": [
    "# function for shuffling data in unison with labels/header\n",
    "def unison_shuffle(a, b):\n",
    "    p = np.random.permutation(len(b))\n",
    "    data = a[p]\n",
    "    header = np.asarray(b)[p]\n",
    "    return data, header\n",
    "\n",
    "# function for converting data into the right format, due to the difference in required format from sklearn models\n",
    "# we expect a single string per email here, versus a list of tokens for the sklearn models previously explored\n",
    "def convert_data(raw_data,header):\n",
    "    converted_data, labels = [], []\n",
    "    for i in range(raw_data.shape[0]):\n",
    "        out = ' '.join(raw_data[i])\n",
    "        converted_data.append(out)\n",
    "        labels.append(header[i])\n",
    "        #print(i)\n",
    "    converted_data = np.array(converted_data, dtype=object)[:, np.newaxis]\n",
    "\n",
    "    return converted_data, np.array(labels)\n",
    "\n",
    "raw_data, header = unison_shuffle(raw_data, header)\n",
    "\n",
    "# split into independent 70% training and 30% testing sets\n",
    "#idx = int(0.6*raw_data.shape[0])\n",
    "# 70% of data for training\n",
    "#train_x, train_y = convert_data(raw_data[:idx],header[:idx])\n",
    "# remaining 30% for testing\n",
    "#valid_x, valid_y = convert_data(raw_data[idx:],header[idx:])\n",
    "\n",
    "total_size = raw_data.shape[0]\n",
    "\n",
    "# Calculate indices\n",
    "idx_train = int(0.6 * total_size)  # end of training set\n",
    "idx_val = int(0.8 * total_size)  # end of validation set\n",
    "\n",
    "# Split the data\n",
    "train_x, train_y = convert_data(raw_data[:idx_train], header[:idx_train])\n",
    "val_x, val_y = convert_data(raw_data[idx_train:idx_val], header[idx_train:idx_val])\n",
    "test_x, test_y = convert_data(raw_data[idx_val:], header[idx_val:])\n",
    "\n",
    "print(\"train_x/train_y list details, to make sure it is of the right form:\")\n",
    "print(len(train_x))\n",
    "print(train_x)\n",
    "print(train_y[:5])\n",
    "print(train_y.shape)"
   ]
  },
  {
   "cell_type": "code",
   "execution_count": 11,
   "metadata": {
    "colab": {
     "base_uri": "https://localhost:8080/"
    },
    "id": "--G921D3QX2E",
    "outputId": "1cdac3f6-635c-4d50-a350-200fe2c5140f"
   },
   "outputs": [
    {
     "name": "stdout",
     "output_type": "stream",
     "text": [
      "Collecting transformers\n",
      "  Downloading transformers-4.31.0-py3-none-any.whl (7.4 MB)\n",
      "\u001b[2K     \u001b[90m━━━━━━━━━━━━━━━━━━━━━━━━━━━━━━━━━━━━━━━━\u001b[0m \u001b[32m7.4/7.4 MB\u001b[0m \u001b[31m14.5 MB/s\u001b[0m eta \u001b[36m0:00:00\u001b[0m\n",
      "\u001b[?25hRequirement already satisfied: filelock in /usr/local/lib/python3.10/dist-packages (from transformers) (3.12.2)\n",
      "Collecting huggingface-hub<1.0,>=0.14.1 (from transformers)\n",
      "  Downloading huggingface_hub-0.16.4-py3-none-any.whl (268 kB)\n",
      "\u001b[2K     \u001b[90m━━━━━━━━━━━━━━━━━━━━━━━━━━━━━━━━━━━━━━\u001b[0m \u001b[32m268.8/268.8 kB\u001b[0m \u001b[31m22.1 MB/s\u001b[0m eta \u001b[36m0:00:00\u001b[0m\n",
      "\u001b[?25hRequirement already satisfied: numpy>=1.17 in /usr/local/lib/python3.10/dist-packages (from transformers) (1.22.4)\n",
      "Requirement already satisfied: packaging>=20.0 in /usr/local/lib/python3.10/dist-packages (from transformers) (23.1)\n",
      "Requirement already satisfied: pyyaml>=5.1 in /usr/local/lib/python3.10/dist-packages (from transformers) (6.0.1)\n",
      "Requirement already satisfied: regex!=2019.12.17 in /usr/local/lib/python3.10/dist-packages (from transformers) (2022.10.31)\n",
      "Requirement already satisfied: requests in /usr/local/lib/python3.10/dist-packages (from transformers) (2.27.1)\n",
      "Collecting tokenizers!=0.11.3,<0.14,>=0.11.1 (from transformers)\n",
      "  Downloading tokenizers-0.13.3-cp310-cp310-manylinux_2_17_x86_64.manylinux2014_x86_64.whl (7.8 MB)\n",
      "\u001b[2K     \u001b[90m━━━━━━━━━━━━━━━━━━━━━━━━━━━━━━━━━━━━━━━━\u001b[0m \u001b[32m7.8/7.8 MB\u001b[0m \u001b[31m36.9 MB/s\u001b[0m eta \u001b[36m0:00:00\u001b[0m\n",
      "\u001b[?25hCollecting safetensors>=0.3.1 (from transformers)\n",
      "  Downloading safetensors-0.3.1-cp310-cp310-manylinux_2_17_x86_64.manylinux2014_x86_64.whl (1.3 MB)\n",
      "\u001b[2K     \u001b[90m━━━━━━━━━━━━━━━━━━━━━━━━━━━━━━━━━━━━━━━━\u001b[0m \u001b[32m1.3/1.3 MB\u001b[0m \u001b[31m48.4 MB/s\u001b[0m eta \u001b[36m0:00:00\u001b[0m\n",
      "\u001b[?25hRequirement already satisfied: tqdm>=4.27 in /usr/local/lib/python3.10/dist-packages (from transformers) (4.65.0)\n",
      "Requirement already satisfied: fsspec in /usr/local/lib/python3.10/dist-packages (from huggingface-hub<1.0,>=0.14.1->transformers) (2023.6.0)\n",
      "Requirement already satisfied: typing-extensions>=3.7.4.3 in /usr/local/lib/python3.10/dist-packages (from huggingface-hub<1.0,>=0.14.1->transformers) (4.7.1)\n",
      "Requirement already satisfied: urllib3<1.27,>=1.21.1 in /usr/local/lib/python3.10/dist-packages (from requests->transformers) (1.26.16)\n",
      "Requirement already satisfied: certifi>=2017.4.17 in /usr/local/lib/python3.10/dist-packages (from requests->transformers) (2023.7.22)\n",
      "Requirement already satisfied: charset-normalizer~=2.0.0 in /usr/local/lib/python3.10/dist-packages (from requests->transformers) (2.0.12)\n",
      "Requirement already satisfied: idna<4,>=2.5 in /usr/local/lib/python3.10/dist-packages (from requests->transformers) (3.4)\n",
      "Installing collected packages: tokenizers, safetensors, huggingface-hub, transformers\n",
      "Successfully installed huggingface-hub-0.16.4 safetensors-0.3.1 tokenizers-0.13.3 transformers-4.31.0\n"
     ]
    }
   ],
   "source": [
    "!pip install transformers"
   ]
  },
  {
   "cell_type": "code",
   "execution_count": 12,
   "metadata": {
    "id": "AXyNbmmEQ8N5"
   },
   "outputs": [],
   "source": [
    "import tensorflow as tf\n",
    "from transformers import TFRobertaForSequenceClassification, RobertaTokenizer\n",
    "from sklearn.model_selection import train_test_split\n",
    "from sklearn.preprocessing import LabelEncoder\n",
    "import pandas as pd"
   ]
  },
  {
   "cell_type": "code",
   "execution_count": 13,
   "metadata": {
    "colab": {
     "base_uri": "https://localhost:8080/",
     "height": 113,
     "referenced_widgets": [
      "41b01f99b06745209e8108d5c0a4f9a5",
      "21cfc53c41864ddbb555f98b54ddbae3",
      "eed3382cf5a74284ab2a1a332931016a",
      "eaf6cc7dabf7492dab51da8bc144f072",
      "fc92122d02254fe69d640960c77e39b8",
      "db93475de7c34987b8c695598b38e48d",
      "20bcc5180b5549bca84be2b1993bfa49",
      "15c2870013fd43928a1342ad90d4ebe2",
      "7ef0a80449e34ceaa01aaf8bba85b4ad",
      "ca29cd9344da4b3b94d5eeca5dbee1d3",
      "9efdd8e717c3464ca7478ad544b48e36",
      "06eed7a0fef04a46a7d29a9b31b6c3fd",
      "7358154811bb4a00b13793400433e548",
      "8c6381655b9f403e9027cd1d460bdad1",
      "f6833866b5bd42b3be8152b3ecf46e91",
      "dde840174f164f74a9c609d18fd683f3",
      "189d3ca392b84eb48fbb8682a20e89b0",
      "c2d1132eb0ce437c9810daa035e40d9b",
      "5771b9302005446c9fcae4bcc946c4d1",
      "c83adfd74d3c40e19fb4642fb3ce5400",
      "d637b408a8c548ffbb27f62549fd7d1f",
      "59bb0783c92b49d4ad8ddd80cef9953c",
      "67f54f7bcbd64e65ab03b85ec1b5834c",
      "fd5c8ab6750b4c4f94788ef5a878d6d3",
      "28f5732af051476b9b37029b09ea2844",
      "a11eaf2881ab4cfd8dc7381d7f7870f2",
      "8ca0a8f541c6442f9765ebd3b59c90c9",
      "f6b8652abfc6441fa128d5122d23f0e3",
      "3a61929a2a07450b88f74a7e9eeb944f",
      "0e7bc217a06049769a9eea91da50e8b7",
      "5f4639a6df3245368a64f0953fade448",
      "580a9e9e19504e66bae296d8eabe350e",
      "719ee5152aa74aa8aaab39d5e721e3a2"
     ]
    },
    "id": "pt7Bm6_rQ8Sb",
    "outputId": "91e83a09-345a-4b8f-d0c6-1af281e92b52"
   },
   "outputs": [
    {
     "data": {
      "application/vnd.jupyter.widget-view+json": {
       "model_id": "41b01f99b06745209e8108d5c0a4f9a5",
       "version_major": 2,
       "version_minor": 0
      },
      "text/plain": [
       "Downloading (…)olve/main/vocab.json:   0%|          | 0.00/899k [00:00<?, ?B/s]"
      ]
     },
     "metadata": {},
     "output_type": "display_data"
    },
    {
     "data": {
      "application/vnd.jupyter.widget-view+json": {
       "model_id": "06eed7a0fef04a46a7d29a9b31b6c3fd",
       "version_major": 2,
       "version_minor": 0
      },
      "text/plain": [
       "Downloading (…)olve/main/merges.txt:   0%|          | 0.00/456k [00:00<?, ?B/s]"
      ]
     },
     "metadata": {},
     "output_type": "display_data"
    },
    {
     "data": {
      "application/vnd.jupyter.widget-view+json": {
       "model_id": "67f54f7bcbd64e65ab03b85ec1b5834c",
       "version_major": 2,
       "version_minor": 0
      },
      "text/plain": [
       "Downloading (…)lve/main/config.json:   0%|          | 0.00/481 [00:00<?, ?B/s]"
      ]
     },
     "metadata": {},
     "output_type": "display_data"
    }
   ],
   "source": [
    "# Load the tokenizer\n",
    "tokenizer = RobertaTokenizer.from_pretrained('roberta-base')"
   ]
  },
  {
   "cell_type": "code",
   "execution_count": 32,
   "metadata": {
    "id": "ATJVcrEcRhxw"
   },
   "outputs": [],
   "source": [
    "train_x_list = train_x.flatten().tolist()\n",
    "train_encodings = tokenizer(train_x_list, truncation=True, padding=True, max_length=256)\n"
   ]
  },
  {
   "cell_type": "code",
   "execution_count": 45,
   "metadata": {
    "id": "Hl2-b2GZUUgi"
   },
   "outputs": [],
   "source": [
    "val_x_list = val_x.flatten().tolist()\n",
    "valid_encodings = tokenizer(val_x_list, truncation=True, padding=True, max_length=256)\n"
   ]
  },
  {
   "cell_type": "code",
   "execution_count": 46,
   "metadata": {
    "id": "43hVZAspUUov"
   },
   "outputs": [],
   "source": [
    "test_x_list = test_x.flatten().tolist()\n",
    "test_encodings = tokenizer(test_x_list, truncation=True, padding=True, max_length=256)\n"
   ]
  },
  {
   "cell_type": "code",
   "execution_count": 47,
   "metadata": {
    "colab": {
     "base_uri": "https://localhost:8080/"
    },
    "id": "Axqcpwc5VbBs",
    "outputId": "f70dde44-b854-4de3-b35c-a60ff3e7e1ba"
   },
   "outputs": [
    {
     "name": "stdout",
     "output_type": "stream",
     "text": [
      "1200\n",
      "1200\n"
     ]
    }
   ],
   "source": [
    "print(len(train_encodings['input_ids']))  # The length of encoded texts\n",
    "print(len(train_y))  # The length of labels\n"
   ]
  },
  {
   "cell_type": "code",
   "execution_count": 48,
   "metadata": {
    "colab": {
     "base_uri": "https://localhost:8080/"
    },
    "id": "TQ7Mp-FDVFXw",
    "outputId": "59fad31d-196f-4c18-8aeb-e8fa3e3d7dd5"
   },
   "outputs": [
    {
     "name": "stdout",
     "output_type": "stream",
     "text": [
      "400\n",
      "400\n"
     ]
    }
   ],
   "source": [
    "print(len(valid_encodings['input_ids']))  # The length of encoded texts\n",
    "print(len(val_y))  # The length of labels\n"
   ]
  },
  {
   "cell_type": "code",
   "execution_count": 49,
   "metadata": {
    "colab": {
     "base_uri": "https://localhost:8080/"
    },
    "id": "AEurq9ClVcwX",
    "outputId": "0f3e0c18-36d2-49b9-a9b7-fb414147c5f2"
   },
   "outputs": [
    {
     "name": "stdout",
     "output_type": "stream",
     "text": [
      "400\n",
      "400\n"
     ]
    }
   ],
   "source": [
    "print(len(test_encodings['input_ids']))  # The length of encoded texts\n",
    "print(len(test_y))  # The length of labels\n"
   ]
  },
  {
   "cell_type": "code",
   "execution_count": 50,
   "metadata": {
    "id": "5XzyD8WvQ8bT"
   },
   "outputs": [],
   "source": [
    "# Convert the data to TensorFlow tensors\n",
    "train_dataset_tf = tf.data.Dataset.from_tensor_slices((\n",
    "    dict(train_encodings),\n",
    "    train_y\n",
    "))\n",
    "valid_dataset_tf = tf.data.Dataset.from_tensor_slices((\n",
    "    dict(valid_encodings),\n",
    "    val_y\n",
    "))\n",
    "test_dataset = tf.data.Dataset.from_tensor_slices((\n",
    "    dict(test_encodings),\n",
    "    test_y\n",
    "))"
   ]
  },
  {
   "cell_type": "code",
   "execution_count": 51,
   "metadata": {
    "colab": {
     "base_uri": "https://localhost:8080/",
     "height": 158,
     "referenced_widgets": [
      "4432797278e64451b2e799f29d0a2abf",
      "59a66d5f0613427ab85b51e95c06ce31",
      "9de735bbf564460c9ec61f167cfc82c2",
      "06f77c3a2c644d3c881b957f265fa15e",
      "96f8ae90c6a9455f85ddbb202f5922e4",
      "4fbc46949b6845c5ad2213c7d7ccb6ed",
      "d7762ddba2144c8fba3b9038512e2559",
      "c02225ef5016497c81ae00e59b9f88b7",
      "a6c7e93881ce4250927a1f40421406c2",
      "51a2ce5d21974662bb08e6791199fda7",
      "305003b3d2b84012a4e7ee82110d7b82"
     ]
    },
    "id": "so0Ax0t8Q8gU",
    "outputId": "1ba4941b-2026-4acb-ed36-222cea63cec8"
   },
   "outputs": [
    {
     "data": {
      "application/vnd.jupyter.widget-view+json": {
       "model_id": "4432797278e64451b2e799f29d0a2abf",
       "version_major": 2,
       "version_minor": 0
      },
      "text/plain": [
       "Downloading model.safetensors:   0%|          | 0.00/499M [00:00<?, ?B/s]"
      ]
     },
     "metadata": {},
     "output_type": "display_data"
    },
    {
     "name": "stderr",
     "output_type": "stream",
     "text": [
      "Some weights of the PyTorch model were not used when initializing the TF 2.0 model TFRobertaForSequenceClassification: ['roberta.embeddings.position_ids']\n",
      "- This IS expected if you are initializing TFRobertaForSequenceClassification from a PyTorch model trained on another task or with another architecture (e.g. initializing a TFBertForSequenceClassification model from a BertForPreTraining model).\n",
      "- This IS NOT expected if you are initializing TFRobertaForSequenceClassification from a PyTorch model that you expect to be exactly identical (e.g. initializing a TFBertForSequenceClassification model from a BertForSequenceClassification model).\n",
      "Some weights or buffers of the TF 2.0 model TFRobertaForSequenceClassification were not initialized from the PyTorch model and are newly initialized: ['classifier.dense.weight', 'classifier.dense.bias', 'classifier.out_proj.weight', 'classifier.out_proj.bias']\n",
      "You should probably TRAIN this model on a down-stream task to be able to use it for predictions and inference.\n"
     ]
    }
   ],
   "source": [
    "model = TFRobertaForSequenceClassification.from_pretrained('roberta-base')"
   ]
  },
  {
   "cell_type": "code",
   "execution_count": 52,
   "metadata": {
    "id": "yFlSFUONQX7_"
   },
   "outputs": [],
   "source": [
    "\n",
    "# Compile the model\n",
    "model.compile(optimizer=tf.keras.optimizers.Adam(learning_rate=1e-5),\n",
    "              loss=tf.keras.losses.SparseCategoricalCrossentropy(from_logits=True),\n",
    "              metrics=['accuracy'])"
   ]
  },
  {
   "cell_type": "code",
   "execution_count": 53,
   "metadata": {
    "id": "CFloICO9S8e6"
   },
   "outputs": [],
   "source": [
    "\n"
   ]
  },
  {
   "cell_type": "code",
   "execution_count": 54,
   "metadata": {
    "colab": {
     "base_uri": "https://localhost:8080/"
    },
    "id": "41tQ5e-4S9DP",
    "outputId": "084a3691-f996-45b1-a0af-f197b1a2a42e"
   },
   "outputs": [
    {
     "metadata": {
      "tags": null
     },
     "name": "stderr",
     "output_type": "stream",
     "text": [
      "WARNING:tensorflow:AutoGraph could not transform <function Model.make_train_function.<locals>.train_function at 0x791ace6bdcf0> and will run it as-is.\n",
      "Cause: Unable to locate the source code of <function Model.make_train_function.<locals>.train_function at 0x791ace6bdcf0>. Note that functions defined in certain environments, like the interactive Python shell, do not expose their source code. If that is the case, you should define them in a .py source file. If you are certain the code is graph-compatible, wrap the call using @tf.autograph.experimental.do_not_convert. Original error: could not get source code\n",
      "To silence this warning, decorate the function with @tf.autograph.experimental.do_not_convert\n"
     ]
    },
    {
     "name": "stdout",
     "output_type": "stream",
     "text": [
      "WARNING: AutoGraph could not transform <function Model.make_train_function.<locals>.train_function at 0x791ace6bdcf0> and will run it as-is.\n",
      "Cause: Unable to locate the source code of <function Model.make_train_function.<locals>.train_function at 0x791ace6bdcf0>. Note that functions defined in certain environments, like the interactive Python shell, do not expose their source code. If that is the case, you should define them in a .py source file. If you are certain the code is graph-compatible, wrap the call using @tf.autograph.experimental.do_not_convert. Original error: could not get source code\n",
      "To silence this warning, decorate the function with @tf.autograph.experimental.do_not_convert\n",
      "75/75 [==============================] - ETA: 0s - loss: 0.2851 - accuracy: 0.8942 "
     ]
    },
    {
     "name": "stderr",
     "output_type": "stream",
     "text": [
      "WARNING:tensorflow:AutoGraph could not transform <function Model.make_test_function.<locals>.test_function at 0x791aab259990> and will run it as-is.\n",
      "Cause: Unable to locate the source code of <function Model.make_test_function.<locals>.test_function at 0x791aab259990>. Note that functions defined in certain environments, like the interactive Python shell, do not expose their source code. If that is the case, you should define them in a .py source file. If you are certain the code is graph-compatible, wrap the call using @tf.autograph.experimental.do_not_convert. Original error: could not get source code\n",
      "To silence this warning, decorate the function with @tf.autograph.experimental.do_not_convert\n"
     ]
    },
    {
     "name": "stdout",
     "output_type": "stream",
     "text": [
      "WARNING: AutoGraph could not transform <function Model.make_test_function.<locals>.test_function at 0x791aab259990> and will run it as-is.\n",
      "Cause: Unable to locate the source code of <function Model.make_test_function.<locals>.test_function at 0x791aab259990>. Note that functions defined in certain environments, like the interactive Python shell, do not expose their source code. If that is the case, you should define them in a .py source file. If you are certain the code is graph-compatible, wrap the call using @tf.autograph.experimental.do_not_convert. Original error: could not get source code\n",
      "To silence this warning, decorate the function with @tf.autograph.experimental.do_not_convert\n",
      "75/75 [==============================] - 4951s 65s/step - loss: 0.2851 - accuracy: 0.8942 - val_loss: 0.0493 - val_accuracy: 0.9875\n"
     ]
    },
    {
     "data": {
      "text/plain": [
       "<keras.callbacks.History at 0x791ace73cd00>"
      ]
     },
     "execution_count": 54,
     "metadata": {},
     "output_type": "execute_result"
    }
   ],
   "source": [
    "\n",
    "# Train the model\n",
    "model.fit(train_dataset_tf.shuffle(1000).batch(16), epochs=1, batch_size=16, validation_data=valid_dataset_tf.batch(16) )"
   ]
  },
  {
   "cell_type": "code",
   "execution_count": 57,
   "metadata": {
    "id": "SkapjSGds-hR"
   },
   "outputs": [],
   "source": [
    "test_dataset_batched = test_dataset.batch(16)"
   ]
  },
  {
   "cell_type": "code",
   "execution_count": 58,
   "metadata": {
    "colab": {
     "base_uri": "https://localhost:8080/"
    },
    "id": "N40jrCldS9Ik",
    "outputId": "b3025eae-5bc5-4b04-89e1-c46cda7bf6d1"
   },
   "outputs": [
    {
     "name": "stdout",
     "output_type": "stream",
     "text": [
      "25/25 [==============================] - 474s 18s/step\n"
     ]
    }
   ],
   "source": [
    "predict = model.predict(test_dataset_batched)"
   ]
  },
  {
   "cell_type": "code",
   "execution_count": 61,
   "metadata": {
    "colab": {
     "base_uri": "https://localhost:8080/"
    },
    "id": "tjooYkjsv1ay",
    "outputId": "5523151e-2d8e-436a-aafd-261895577b5f"
   },
   "outputs": [
    {
     "data": {
      "text/plain": [
       "TFSequenceClassifierOutput(loss=None, logits=array([[-2.3925953 ,  2.519008  ],\n",
       "       [ 2.4782257 , -2.119537  ],\n",
       "       [-2.4543688 ,  2.5545893 ],\n",
       "       [ 2.0464957 , -1.8648783 ],\n",
       "       [-2.4362664 ,  2.567041  ],\n",
       "       [ 2.3234994 , -2.1407754 ],\n",
       "       [ 2.5624871 , -2.2931182 ],\n",
       "       [ 2.5615883 , -2.22689   ],\n",
       "       [ 2.4788928 , -2.1881914 ],\n",
       "       [-2.4242406 ,  2.5370417 ],\n",
       "       [ 2.5244892 , -2.2806783 ],\n",
       "       [-2.5116146 ,  2.595423  ],\n",
       "       [-2.5371218 ,  2.5298042 ],\n",
       "       [ 2.4076655 , -2.0619328 ],\n",
       "       [-2.2886238 ,  2.357355  ],\n",
       "       [ 2.230729  , -1.9780084 ],\n",
       "       [-2.404131  ,  2.5036783 ],\n",
       "       [-2.3335953 ,  2.3759427 ],\n",
       "       [ 2.501865  , -2.1430643 ],\n",
       "       [ 2.0564075 , -1.8866465 ],\n",
       "       [ 1.9700632 , -1.8024687 ],\n",
       "       [-2.4690537 ,  2.598548  ],\n",
       "       [-2.4728963 ,  2.5641425 ],\n",
       "       [ 2.5039816 , -2.1805983 ],\n",
       "       [ 2.3484223 , -2.0966306 ],\n",
       "       [ 1.8033315 , -1.690463  ],\n",
       "       [-2.4962683 ,  2.5482616 ],\n",
       "       [ 2.5743995 , -2.2652063 ],\n",
       "       [ 2.3976445 , -2.1183925 ],\n",
       "       [ 2.5007877 , -2.199383  ],\n",
       "       [-2.5147908 ,  2.5418434 ],\n",
       "       [ 2.5259182 , -2.2326446 ],\n",
       "       [-2.5380104 ,  2.5389824 ],\n",
       "       [-2.4701126 ,  2.5395813 ],\n",
       "       [-2.499893  ,  2.5811024 ],\n",
       "       [ 2.2572274 , -2.1203697 ],\n",
       "       [-2.4794202 ,  2.5763128 ],\n",
       "       [-2.4614043 ,  2.5019102 ],\n",
       "       [ 2.5463026 , -2.2176342 ],\n",
       "       [ 2.4419801 , -2.1161454 ],\n",
       "       [ 2.5827742 , -2.2020304 ],\n",
       "       [ 2.593072  , -2.3414037 ],\n",
       "       [ 2.0266578 , -1.9483988 ],\n",
       "       [ 2.4324214 , -2.148044  ],\n",
       "       [ 2.4595666 , -2.1462226 ],\n",
       "       [-2.5370138 ,  2.5509639 ],\n",
       "       [-2.3491297 ,  2.3808522 ],\n",
       "       [ 2.5914924 , -2.2890823 ],\n",
       "       [ 2.246472  , -2.0804696 ],\n",
       "       [ 2.4944844 , -2.1149304 ],\n",
       "       [ 2.483972  , -2.2280583 ],\n",
       "       [ 2.4380155 , -2.1128833 ],\n",
       "       [-2.4889724 ,  2.5788646 ],\n",
       "       [ 1.5615276 , -1.3602833 ],\n",
       "       [-2.4127083 ,  2.471106  ],\n",
       "       [-2.5092647 ,  2.568489  ],\n",
       "       [-2.2335107 ,  2.2196891 ],\n",
       "       [-2.289843  ,  2.4443069 ],\n",
       "       [ 1.685416  , -1.5262814 ],\n",
       "       [-2.4875326 ,  2.5421572 ],\n",
       "       [-2.4469934 ,  2.4121156 ],\n",
       "       [-2.4519334 ,  2.5044575 ],\n",
       "       [ 2.352655  , -2.2778018 ],\n",
       "       [-2.5001736 ,  2.529567  ],\n",
       "       [ 2.3362312 , -2.1275916 ],\n",
       "       [ 2.2196038 , -1.8666389 ],\n",
       "       [ 2.3649018 , -2.103593  ],\n",
       "       [ 2.4831672 , -2.1567917 ],\n",
       "       [ 2.5368927 , -2.2638154 ],\n",
       "       [ 2.1070368 , -2.0705664 ],\n",
       "       [ 2.592317  , -2.206859  ],\n",
       "       [-2.4360974 ,  2.5360246 ],\n",
       "       [ 2.4132571 , -2.1489832 ],\n",
       "       [ 2.2972178 , -2.1118798 ],\n",
       "       [-2.4518387 ,  2.5513546 ],\n",
       "       [-2.4753096 ,  2.5837438 ],\n",
       "       [-2.3278978 ,  2.3921545 ],\n",
       "       [ 2.37963   , -2.0738947 ],\n",
       "       [ 2.1056056 , -1.9915956 ],\n",
       "       [-2.3591285 ,  2.421184  ],\n",
       "       [-0.7720822 ,  0.83638966],\n",
       "       [-2.5148747 ,  2.588386  ],\n",
       "       [ 2.3520384 , -2.0241032 ],\n",
       "       [ 1.7395276 , -1.7880201 ],\n",
       "       [ 2.3995497 , -2.1510553 ],\n",
       "       [-2.2452536 ,  2.292801  ],\n",
       "       [ 2.606657  , -2.2572901 ],\n",
       "       [ 2.3747082 , -2.121818  ],\n",
       "       [ 2.2906306 , -2.0768828 ],\n",
       "       [-2.5091662 ,  2.5697522 ],\n",
       "       [ 2.1743612 , -1.9321227 ],\n",
       "       [-2.4983585 ,  2.5033293 ],\n",
       "       [ 2.541064  , -2.1914394 ],\n",
       "       [-2.36783   ,  2.3475628 ],\n",
       "       [-2.4786472 ,  2.5096753 ],\n",
       "       [ 0.68668807, -0.61850816],\n",
       "       [-2.501099  ,  2.5945354 ],\n",
       "       [ 2.5280778 , -2.2188444 ],\n",
       "       [ 2.4435554 , -2.1324978 ],\n",
       "       [ 1.982124  , -1.6609766 ],\n",
       "       [ 2.5346038 , -2.163094  ],\n",
       "       [-2.1437016 ,  2.209629  ],\n",
       "       [-2.49047   ,  2.5562203 ],\n",
       "       [-2.5108442 ,  2.5390177 ],\n",
       "       [-2.469071  ,  2.4924045 ],\n",
       "       [ 2.3483396 , -2.0996501 ],\n",
       "       [ 2.4198644 , -2.152175  ],\n",
       "       [-2.4734025 ,  2.570722  ],\n",
       "       [-2.4953728 ,  2.5751488 ],\n",
       "       [ 1.6014833 , -1.4299206 ],\n",
       "       [-2.3361883 ,  2.3589845 ],\n",
       "       [-2.4676468 ,  2.5062547 ],\n",
       "       [ 2.4906917 , -2.1103523 ],\n",
       "       [-2.3553932 ,  2.2502794 ],\n",
       "       [ 2.338964  , -1.9718916 ],\n",
       "       [ 1.992568  , -1.8541037 ],\n",
       "       [-2.4592729 ,  2.56461   ],\n",
       "       [-2.2474866 ,  2.409081  ],\n",
       "       [ 1.9866048 , -1.7980424 ],\n",
       "       [-2.268006  ,  2.4209282 ],\n",
       "       [ 2.0220542 , -1.8897363 ],\n",
       "       [ 2.1587512 , -2.1042783 ],\n",
       "       [-2.4971633 ,  2.515563  ],\n",
       "       [ 1.9801391 , -1.7771055 ],\n",
       "       [-2.4460592 ,  2.5296803 ],\n",
       "       [ 2.5214663 , -2.1580684 ],\n",
       "       [ 2.3912199 , -2.0794816 ],\n",
       "       [-2.4640353 ,  2.5257154 ],\n",
       "       [-2.4419584 ,  2.5386882 ],\n",
       "       [-2.4507985 ,  2.5416975 ],\n",
       "       [ 1.8951315 , -1.5899916 ],\n",
       "       [ 2.405654  , -2.0718434 ],\n",
       "       [ 2.4022045 , -2.088771  ],\n",
       "       [-2.4774272 ,  2.5677013 ],\n",
       "       [ 2.3242388 , -2.1806746 ],\n",
       "       [ 1.8980633 , -1.7290869 ],\n",
       "       [ 2.3795786 , -2.1113703 ],\n",
       "       [-2.4732423 ,  2.5401764 ],\n",
       "       [-2.3574684 ,  2.4163387 ],\n",
       "       [-2.3330884 ,  2.3306985 ],\n",
       "       [-2.3178325 ,  2.3872862 ],\n",
       "       [ 2.530837  , -2.114595  ],\n",
       "       [ 2.1734042 , -1.8820187 ],\n",
       "       [-2.459486  ,  2.4911606 ],\n",
       "       [-2.488819  ,  2.5283096 ],\n",
       "       [-2.1656249 ,  2.139967  ],\n",
       "       [ 2.5761223 , -2.2029285 ],\n",
       "       [ 1.9267665 , -1.7130191 ],\n",
       "       [-2.4602528 ,  2.5816362 ],\n",
       "       [-2.446638  ,  2.5116653 ],\n",
       "       [-2.4572268 ,  2.5661855 ],\n",
       "       [-2.3278978 ,  2.3921545 ],\n",
       "       [-2.4822986 ,  2.5354729 ],\n",
       "       [ 2.25742   , -2.1600058 ],\n",
       "       [-2.4143686 ,  2.5784106 ],\n",
       "       [-2.2962334 ,  2.4302711 ],\n",
       "       [-2.4400914 ,  2.522301  ],\n",
       "       [-2.496249  ,  2.5373995 ],\n",
       "       [ 2.5825438 , -2.2871778 ],\n",
       "       [-2.1898715 ,  2.3315775 ],\n",
       "       [ 2.2630835 , -1.9043857 ],\n",
       "       [ 2.588453  , -2.2817965 ],\n",
       "       [ 2.5678287 , -2.291671  ],\n",
       "       [-2.2848237 ,  2.295457  ],\n",
       "       [-2.321591  ,  2.3780684 ],\n",
       "       [ 0.8814489 , -0.88897055],\n",
       "       [-2.340592  ,  2.4174051 ],\n",
       "       [-2.3346808 ,  2.357462  ],\n",
       "       [-2.498436  ,  2.580202  ],\n",
       "       [-2.3413045 ,  2.4113932 ],\n",
       "       [ 1.6184684 , -1.3646017 ],\n",
       "       [ 2.3449085 , -2.1702275 ],\n",
       "       [-2.307215  ,  2.3570657 ],\n",
       "       [-2.4632905 ,  2.556203  ],\n",
       "       [-2.3225126 ,  2.3586342 ],\n",
       "       [ 2.291326  , -2.019933  ],\n",
       "       [ 2.4724672 , -2.093245  ],\n",
       "       [-2.499373  ,  2.5455298 ],\n",
       "       [-2.4401817 ,  2.5357232 ],\n",
       "       [-2.437541  ,  2.5551345 ],\n",
       "       [ 2.5365934 , -2.2292638 ],\n",
       "       [-2.5272992 ,  2.5486646 ],\n",
       "       [ 2.588609  , -2.2320938 ],\n",
       "       [ 2.420443  , -2.223536  ],\n",
       "       [ 2.3659632 , -2.340617  ],\n",
       "       [-2.514229  ,  2.609777  ],\n",
       "       [-2.397814  ,  2.5348206 ],\n",
       "       [ 2.1169174 , -1.8527554 ],\n",
       "       [ 2.309631  , -2.108004  ],\n",
       "       [-2.3533516 ,  2.3909416 ],\n",
       "       [ 2.4988656 , -2.171451  ],\n",
       "       [ 2.3635235 , -2.009604  ],\n",
       "       [ 1.7545334 , -1.6000854 ],\n",
       "       [ 2.6022024 , -2.2712157 ],\n",
       "       [-2.3491297 ,  2.3808522 ],\n",
       "       [-2.333559  ,  2.4040327 ],\n",
       "       [ 2.4785588 , -2.2024105 ],\n",
       "       [-2.2811913 ,  2.3557851 ],\n",
       "       [-2.496472  ,  2.508316  ],\n",
       "       [-2.505141  ,  2.5233645 ],\n",
       "       [ 2.4705632 , -2.2173781 ],\n",
       "       [-2.499426  ,  2.5281591 ],\n",
       "       [ 2.5127857 , -2.2135816 ],\n",
       "       [ 2.3651166 , -2.1333385 ],\n",
       "       [ 2.316584  , -2.051848  ],\n",
       "       [ 2.3973188 , -2.165577  ],\n",
       "       [ 2.612053  , -2.3083615 ],\n",
       "       [ 2.0730855 , -1.8141824 ],\n",
       "       [ 2.341179  , -1.9949783 ],\n",
       "       [ 2.082909  , -1.8451189 ],\n",
       "       [ 2.4379566 , -2.1215317 ],\n",
       "       [ 2.4083943 , -2.2013693 ],\n",
       "       [-2.302793  ,  2.482383  ],\n",
       "       [ 2.4765823 , -2.1213088 ],\n",
       "       [-2.4878502 ,  2.5450864 ],\n",
       "       [ 2.2957792 , -2.0386064 ],\n",
       "       [-2.5216367 ,  2.6129663 ],\n",
       "       [-2.5487459 ,  2.539823  ],\n",
       "       [-2.3623452 ,  2.4190445 ],\n",
       "       [ 0.32776043, -0.3131613 ],\n",
       "       [ 2.0855975 , -1.9944249 ],\n",
       "       [-2.386127  ,  2.2837718 ],\n",
       "       [ 2.3360262 , -2.1489868 ],\n",
       "       [-2.4508593 ,  2.5123036 ],\n",
       "       [ 2.6265953 , -2.298729  ],\n",
       "       [ 1.9068348 , -1.7497151 ],\n",
       "       [-2.2906654 ,  2.4438887 ],\n",
       "       [-2.426667  ,  2.551969  ],\n",
       "       [-2.3391113 ,  2.3997319 ],\n",
       "       [ 1.9231993 , -1.8466169 ],\n",
       "       [ 2.5037994 , -2.316331  ],\n",
       "       [ 1.9842252 , -1.7965839 ],\n",
       "       [-2.2523673 ,  2.2344756 ],\n",
       "       [-2.4695714 ,  2.553554  ],\n",
       "       [ 2.6425147 , -2.259739  ],\n",
       "       [-2.291826  ,  2.4023542 ],\n",
       "       [ 2.5483215 , -2.3055253 ],\n",
       "       [ 2.152059  , -1.908566  ],\n",
       "       [ 2.1316395 , -1.983668  ],\n",
       "       [ 2.345542  , -2.0892787 ],\n",
       "       [-2.4855907 ,  2.5909503 ],\n",
       "       [-2.5443397 ,  2.5688617 ],\n",
       "       [ 1.7333487 , -1.4891902 ],\n",
       "       [-2.474512  ,  2.522705  ],\n",
       "       [ 2.3551333 , -2.0388947 ],\n",
       "       [ 2.532093  , -2.1733313 ],\n",
       "       [ 2.3747346 , -2.0544608 ],\n",
       "       [ 2.5119905 , -2.2338715 ],\n",
       "       [-2.2865484 ,  2.239709  ],\n",
       "       [-2.508851  ,  2.5683722 ],\n",
       "       [ 2.601709  , -2.2382624 ],\n",
       "       [-2.4480944 ,  2.510714  ],\n",
       "       [ 2.6271582 , -2.3295703 ],\n",
       "       [ 2.378034  , -2.176316  ],\n",
       "       [-2.4776845 ,  2.5056403 ],\n",
       "       [ 2.2163177 , -2.183046  ],\n",
       "       [-2.3029006 ,  2.4334    ],\n",
       "       [ 2.0402117 , -2.0352476 ],\n",
       "       [ 2.4759214 , -2.1204593 ],\n",
       "       [ 2.4315    , -2.049083  ],\n",
       "       [ 2.4221914 , -2.0952516 ],\n",
       "       [ 1.6391859 , -1.5159744 ],\n",
       "       [ 2.3105145 , -1.9905995 ],\n",
       "       [ 2.5042315 , -2.159868  ],\n",
       "       [-2.3977838 ,  2.4697976 ],\n",
       "       [ 2.566649  , -2.2138176 ],\n",
       "       [-2.424137  ,  2.4345708 ],\n",
       "       [ 2.5940766 , -2.3128603 ],\n",
       "       [ 2.3677583 , -2.0840497 ],\n",
       "       [ 2.3624187 , -2.082501  ],\n",
       "       [ 2.350296  , -2.1597247 ],\n",
       "       [-2.2923193 ,  2.4523087 ],\n",
       "       [ 1.9963919 , -1.9817291 ],\n",
       "       [ 2.5864763 , -2.3105335 ],\n",
       "       [-2.5069685 ,  2.5520759 ],\n",
       "       [ 2.6098871 , -2.3267336 ],\n",
       "       [-2.3280075 ,  2.3740103 ],\n",
       "       [-2.321757  ,  2.4844594 ],\n",
       "       [-2.531189  ,  2.5065176 ],\n",
       "       [-2.4347095 ,  2.51456   ],\n",
       "       [-2.2135372 ,  2.1080804 ],\n",
       "       [ 2.2786124 , -2.1947777 ],\n",
       "       [-2.3346808 ,  2.357462  ],\n",
       "       [ 2.4009035 , -2.2028794 ],\n",
       "       [-2.4636693 ,  2.5372043 ],\n",
       "       [-2.491046  ,  2.547761  ],\n",
       "       [ 2.6182742 , -2.2423203 ],\n",
       "       [-2.4984775 ,  2.5313907 ],\n",
       "       [ 2.4961216 , -2.1522453 ],\n",
       "       [-2.466401  ,  2.4548216 ],\n",
       "       [-2.4547772 ,  2.493166  ],\n",
       "       [-2.4853683 ,  2.5631192 ],\n",
       "       [ 2.6360688 , -2.2608688 ],\n",
       "       [-2.4792373 ,  2.5576022 ],\n",
       "       [-2.4736686 ,  2.538567  ],\n",
       "       [-2.505141  ,  2.5233645 ],\n",
       "       [-2.5260057 ,  2.5700302 ],\n",
       "       [ 2.3515723 , -2.0356195 ],\n",
       "       [ 2.536374  , -2.2059798 ],\n",
       "       [-2.5053716 ,  2.5553074 ],\n",
       "       [-2.418299  ,  2.4926524 ],\n",
       "       [-2.5053287 ,  2.559579  ],\n",
       "       [ 2.4839    , -2.1743748 ],\n",
       "       [-2.2474866 ,  2.409081  ],\n",
       "       [-2.458183  ,  2.5429385 ],\n",
       "       [ 2.5818343 , -2.2123659 ],\n",
       "       [ 1.9267349 , -1.572584  ],\n",
       "       [-2.4782968 ,  2.6474595 ],\n",
       "       [-2.4758165 ,  2.538838  ],\n",
       "       [ 2.6459692 , -2.30275   ],\n",
       "       [-2.3626647 ,  2.4302583 ],\n",
       "       [ 2.496417  , -2.2238712 ],\n",
       "       [ 2.5672154 , -2.3232636 ],\n",
       "       [ 2.3663747 , -2.203807  ],\n",
       "       [ 2.4000912 , -2.0929549 ],\n",
       "       [-2.3548496 ,  2.4209745 ],\n",
       "       [ 2.5749252 , -2.175444  ],\n",
       "       [-2.269478  ,  2.223156  ],\n",
       "       [ 2.3758159 , -2.1416721 ],\n",
       "       [ 1.7320176 , -1.7225784 ],\n",
       "       [-0.6579665 ,  0.7387546 ],\n",
       "       [-2.3203588 ,  2.2384896 ],\n",
       "       [-2.3274221 ,  2.3943188 ],\n",
       "       [-2.3820329 ,  2.5120425 ],\n",
       "       [ 2.5497055 , -2.2523303 ],\n",
       "       [-2.463321  ,  2.541666  ],\n",
       "       [-2.4340625 ,  2.4858336 ],\n",
       "       [-2.5167556 ,  2.588831  ],\n",
       "       [ 2.28925   , -2.053619  ],\n",
       "       [-2.5318947 ,  2.5701547 ],\n",
       "       [ 2.4716043 , -2.1631417 ],\n",
       "       [ 2.449751  , -2.0330286 ],\n",
       "       [ 1.983945  , -1.887859  ],\n",
       "       [-2.2529626 ,  2.4351957 ],\n",
       "       [-2.4716816 ,  2.5921316 ],\n",
       "       [ 2.3548994 , -2.2195995 ],\n",
       "       [-2.3098667 ,  2.4181976 ],\n",
       "       [ 2.5458212 , -2.178301  ],\n",
       "       [ 2.31602   , -1.9977747 ],\n",
       "       [ 2.3987079 , -2.1375592 ],\n",
       "       [-2.4751508 ,  2.4964356 ],\n",
       "       [ 2.2271094 , -2.0705776 ],\n",
       "       [-2.474697  ,  2.5411224 ],\n",
       "       [ 2.3414242 , -2.0202224 ],\n",
       "       [ 2.635144  , -2.3279958 ],\n",
       "       [-1.3369412 ,  1.3763794 ],\n",
       "       [-2.4714477 ,  2.4514914 ],\n",
       "       [-2.474699  ,  2.5597348 ],\n",
       "       [-2.3470166 ,  2.391148  ],\n",
       "       [-2.4884117 ,  2.4909225 ],\n",
       "       [ 2.4003494 , -2.2326415 ],\n",
       "       [-2.3276172 ,  2.279683  ],\n",
       "       [ 1.9485253 , -1.8520393 ],\n",
       "       [ 2.5401564 , -2.2057061 ],\n",
       "       [ 1.4078315 , -1.2310392 ],\n",
       "       [ 2.530303  , -2.3115897 ],\n",
       "       [-2.4646935 ,  2.5836508 ],\n",
       "       [ 2.2185588 , -1.8678064 ],\n",
       "       [-2.457524  ,  2.5318696 ],\n",
       "       [ 2.3765411 , -2.140997  ],\n",
       "       [-2.2134247 ,  2.343484  ],\n",
       "       [ 1.7519442 , -1.5871209 ],\n",
       "       [-2.5306196 ,  2.5140376 ],\n",
       "       [-2.5306196 ,  2.5140376 ],\n",
       "       [-2.4489229 ,  2.4949412 ],\n",
       "       [-2.5379782 ,  2.5406644 ],\n",
       "       [-2.4692717 ,  2.6118593 ],\n",
       "       [ 2.5951715 , -2.3534796 ],\n",
       "       [ 1.8012612 , -1.6348983 ],\n",
       "       [ 2.5539203 , -2.216121  ],\n",
       "       [-2.3491297 ,  2.3808522 ],\n",
       "       [-2.4954565 ,  2.5297692 ],\n",
       "       [-2.2945619 ,  2.3384628 ],\n",
       "       [ 2.6101756 , -2.2743592 ],\n",
       "       [ 1.6619241 , -1.7230915 ],\n",
       "       [ 2.2810502 , -2.1129723 ],\n",
       "       [-2.4710326 ,  2.5036092 ],\n",
       "       [ 2.335569  , -2.2017865 ],\n",
       "       [-2.27099   ,  2.4193528 ],\n",
       "       [ 2.4383962 , -2.1630254 ],\n",
       "       [-2.3043723 ,  2.3505821 ],\n",
       "       [-2.3615115 ,  2.3458462 ],\n",
       "       [ 2.5053818 , -2.111812  ],\n",
       "       [ 1.2933809 , -1.0659702 ],\n",
       "       [-2.5168958 ,  2.539287  ],\n",
       "       [-2.3750925 ,  2.5038204 ],\n",
       "       [-2.4735565 ,  2.5288224 ],\n",
       "       [-2.2635713 ,  2.429336  ],\n",
       "       [ 2.0297446 , -1.8077952 ],\n",
       "       [ 2.4020889 , -2.1378295 ],\n",
       "       [-2.455776  ,  2.5343993 ],\n",
       "       [-2.442957  ,  2.4857516 ],\n",
       "       [-2.440734  ,  2.554031  ],\n",
       "       [-2.5019326 ,  2.5343013 ],\n",
       "       [ 2.4549665 , -2.1171436 ],\n",
       "       [ 2.3054624 , -2.1830435 ],\n",
       "       [ 2.5825438 , -2.2871778 ],\n",
       "       [-2.4302976 ,  2.5525875 ],\n",
       "       [-2.4960537 ,  2.55684   ],\n",
       "       [ 2.3665557 , -2.1376536 ]], dtype=float32), hidden_states=None, attentions=None)"
      ]
     },
     "execution_count": 61,
     "metadata": {},
     "output_type": "execute_result"
    }
   ],
   "source": [
    "predict"
   ]
  },
  {
   "cell_type": "code",
   "execution_count": 59,
   "metadata": {
    "id": "QGKGMEJXu-uG"
   },
   "outputs": [],
   "source": [
    "from sklearn.metrics import classification_report"
   ]
  },
  {
   "cell_type": "code",
   "execution_count": 63,
   "metadata": {
    "colab": {
     "base_uri": "https://localhost:8080/"
    },
    "id": "qJQ_jFTIS9Ou",
    "outputId": "8ca48baf-6f0d-4f57-b46d-b15a4dfb94b9"
   },
   "outputs": [
    {
     "name": "stdout",
     "output_type": "stream",
     "text": [
      "              precision    recall  f1-score   support\n",
      "\n",
      "not phishing       0.98      1.00      0.99       202\n",
      "    phishing       0.99      0.97      0.98       198\n",
      "\n",
      "    accuracy                           0.98       400\n",
      "   macro avg       0.99      0.98      0.98       400\n",
      "weighted avg       0.99      0.98      0.98       400\n",
      "\n"
     ]
    }
   ],
   "source": [
    "# Convert raw predictions to class predictions\n",
    "y_pred = np.argmax(predict.logits, axis=-1)\n",
    "\n",
    "# Get the actual class labels\n",
    "y_true = []\n",
    "for features, label in test_dataset:\n",
    "    y_true.append(label.numpy())\n",
    "y_true = np.array(y_true)\n",
    "\n",
    "\n",
    "# Generate a classification report\n",
    "report = classification_report(y_true, y_pred, target_names=[\"not phishing\", \"phishing\"])  # replace target_names with your actual class names\n",
    "print(report)\n"
   ]
  },
  {
   "cell_type": "code",
   "execution_count": null,
   "metadata": {
    "id": "0bUv6UQDspRU"
   },
   "outputs": [],
   "source": []
  },
  {
   "cell_type": "code",
   "execution_count": 64,
   "metadata": {
    "id": "6WEMQkwIspWc"
   },
   "outputs": [],
   "source": [
    "test_new = test_x.reshape(-1)"
   ]
  },
  {
   "cell_type": "code",
   "execution_count": 65,
   "metadata": {
    "id": "wLd-joQPspba"
   },
   "outputs": [],
   "source": [
    "test_new_df = pd.DataFrame(test_new)"
   ]
  },
  {
   "cell_type": "code",
   "execution_count": 66,
   "metadata": {
    "id": "rrVi5MFnAyOu"
   },
   "outputs": [],
   "source": [
    "test_new_df = pd.DataFrame(test_new, columns=['text'])"
   ]
  },
  {
   "cell_type": "code",
   "execution_count": 67,
   "metadata": {
    "id": "Qn2ElBbmAyyV"
   },
   "outputs": [],
   "source": [
    "test_new_df['target'] = test_y"
   ]
  },
  {
   "cell_type": "code",
   "execution_count": 68,
   "metadata": {
    "id": "Wg2B2zccAy3y"
   },
   "outputs": [],
   "source": [
    "test_dataset_raw_0 = test_new_df[test_new_df['target']==0]"
   ]
  },
  {
   "cell_type": "code",
   "execution_count": 69,
   "metadata": {
    "id": "7Y3xewtAAy8p"
   },
   "outputs": [],
   "source": [
    "random_25_rows = test_dataset_raw_0.sample(n=100)\n",
    "\n",
    "# Build the new DataFrame using the randomly selected rows\n",
    "test_dataset_raw_0_25 = pd.DataFrame(random_25_rows)"
   ]
  },
  {
   "cell_type": "code",
   "execution_count": 70,
   "metadata": {
    "id": "4Ittw6L3AzB6"
   },
   "outputs": [],
   "source": [
    "test_dataset_raw_1 = test_new_df[test_new_df['target']==1]"
   ]
  },
  {
   "cell_type": "code",
   "execution_count": 71,
   "metadata": {
    "id": "4NGr8fKyAzHT"
   },
   "outputs": [],
   "source": [
    "random_1_rows = test_dataset_raw_1.sample(n=25)\n",
    "\n",
    "# Build the new DataFrame using the randomly selected rows\n",
    "test_dataset_raw_1_100 = pd.DataFrame(random_1_rows)"
   ]
  },
  {
   "cell_type": "code",
   "execution_count": 72,
   "metadata": {
    "id": "nCYbpGxzAzNn"
   },
   "outputs": [],
   "source": [
    "merged_df = pd.concat([test_dataset_raw_0_25, test_dataset_raw_1_100], ignore_index=True)\n",
    "\n",
    "# Shuffle the index\n",
    "test_125_df = merged_df.sample(frac=1).reset_index(drop=True)"
   ]
  },
  {
   "cell_type": "code",
   "execution_count": 74,
   "metadata": {
    "id": "enSm2W6RAzTY"
   },
   "outputs": [],
   "source": [
    "test_encodings_125 = tokenizer(test_125_df['text'].tolist(), truncation=True, padding=True, max_length=256)\n",
    "\n",
    "test_dataset_125 = tf.data.Dataset.from_tensor_slices((\n",
    "    dict(test_encodings_125),\n",
    "    test_125_df['target'].values\n",
    "))\n"
   ]
  },
  {
   "cell_type": "code",
   "execution_count": 78,
   "metadata": {
    "id": "Mb6E7_G6CsyK"
   },
   "outputs": [],
   "source": []
  },
  {
   "cell_type": "code",
   "execution_count": 75,
   "metadata": {
    "colab": {
     "base_uri": "https://localhost:8080/"
    },
    "id": "0Z4GiPvWAzYg",
    "outputId": "246db95b-0b61-42f8-89c4-4867ec0756b5"
   },
   "outputs": [
    {
     "name": "stdout",
     "output_type": "stream",
     "text": [
      "8/8 [==============================] - 149s 18s/step\n",
      "              precision    recall  f1-score   support\n",
      "\n",
      "not phishing       1.00      0.99      0.99       100\n",
      "    phishing       0.96      1.00      0.98        25\n",
      "\n",
      "    accuracy                           0.99       125\n",
      "   macro avg       0.98      0.99      0.99       125\n",
      "weighted avg       0.99      0.99      0.99       125\n",
      "\n"
     ]
    }
   ],
   "source": [
    "test_dataset_125_batched = test_dataset_125.batch(16)\n",
    "y_pred_raw_125 = model.predict(test_dataset_125_batched)\n",
    "\n",
    "# Convert raw predictions to class predictions\n",
    "y_pred_125 = np.argmax(y_pred_raw_125.logits, axis=1)\n",
    "\n",
    "# Get the actual class labels\n",
    "y_true_125 = []\n",
    "for features, label in test_dataset_125:\n",
    "    y_true_125.append(label.numpy())\n",
    "y_true_125 = np.array(y_true_125)\n",
    "\n",
    "\n",
    "# Generate a classification report\n",
    "report_125 = classification_report(y_true_125, y_pred_125, target_names=[\"not phishing\", \"phishing\"])  # replace target_names with your actual class names\n",
    "print(report_125)"
   ]
  },
  {
   "cell_type": "code",
   "execution_count": null,
   "metadata": {
    "id": "Aj4LJkSkAzdu"
   },
   "outputs": [],
   "source": []
  },
  {
   "cell_type": "markdown",
   "metadata": {
    "id": "xE70f5_QNe2Y"
   },
   "source": [
    "# chatgpt"
   ]
  },
  {
   "cell_type": "code",
   "execution_count": 88,
   "metadata": {
    "colab": {
     "base_uri": "https://localhost:8080/"
    },
    "id": "sZbpI8QxCSCO",
    "outputId": "86ad4b45-4b30-4d72-ed8a-5c3ee31c5b13"
   },
   "outputs": [
    {
     "data": {
      "text/plain": [
       "Int64Index([315, 321,  34, 290, 150, 173, 393, 371,  46, 390, 398, 392, 154,\n",
       "            294,  96, 285, 266, 386, 349,  74, 145, 282, 381, 186, 140],\n",
       "           dtype='int64')"
      ]
     },
     "execution_count": 88,
     "metadata": {},
     "output_type": "execute_result"
    }
   ],
   "source": [
    "test_dataset_raw_1_100.index"
   ]
  },
  {
   "cell_type": "code",
   "execution_count": 89,
   "metadata": {
    "id": "H6Zn5L3rCSHy"
   },
   "outputs": [],
   "source": [
    "test_dataset_raw_gpt4 = test_dataset_raw_1_100"
   ]
  },
  {
   "cell_type": "code",
   "execution_count": 90,
   "metadata": {
    "colab": {
     "base_uri": "https://localhost:8080/"
    },
    "id": "Bqb4J8s-CSNP",
    "outputId": "0d444ba2-b2ee-4841-da59-4f197b4720ab"
   },
   "outputs": [
    {
     "name": "stderr",
     "output_type": "stream",
     "text": [
      "<ipython-input-90-2852b88e4293>:1: SettingWithCopyWarning: \n",
      "A value is trying to be set on a copy of a slice from a DataFrame\n",
      "\n",
      "See the caveats in the documentation: https://pandas.pydata.org/pandas-docs/stable/user_guide/indexing.html#returning-a-view-versus-a-copy\n",
      "  test_dataset_raw_gpt4['text'][295] = \"Hi, I'm Bhamini Lele from Centrafest Technologies Pvt. Ltd. in Mumbai, India, reaching out in my role within Customer Reach and Support. We're thrilled to present our latest product, the Business Card Reader Cum Photo Scanner, Model Plus. This device offers a host of features including dual-sided scanning, memo writing, label printing, customized categories, online category setting, reminder system, import/export to third-party packages, and the capacity to scan different sizes of business cards, maintaining their colour and detail. This product has been designed considering feedback from our key corporate clients, ensuring it meets diverse document handling needs. Our records indicate that you, along with Ms. Sneha and Ms. Shefali, have shown interest in such a device. If you have already purchased and are content with a scanner from us, please disregard this message. I look forward to your response and stand ready to answer any questions or provide further information. Best, Bhamini Lele, Centrafest Technologies Pvt. Ltd.\"\n"
     ]
    }
   ],
   "source": [
    "test_dataset_raw_gpt4['text'][295] = \"Hi, I'm Bhamini Lele from Centrafest Technologies Pvt. Ltd. in Mumbai, India, reaching out in my role within Customer Reach and Support. We're thrilled to present our latest product, the Business Card Reader Cum Photo Scanner, Model Plus. This device offers a host of features including dual-sided scanning, memo writing, label printing, customized categories, online category setting, reminder system, import/export to third-party packages, and the capacity to scan different sizes of business cards, maintaining their colour and detail. This product has been designed considering feedback from our key corporate clients, ensuring it meets diverse document handling needs. Our records indicate that you, along with Ms. Sneha and Ms. Shefali, have shown interest in such a device. If you have already purchased and are content with a scanner from us, please disregard this message. I look forward to your response and stand ready to answer any questions or provide further information. Best, Bhamini Lele, Centrafest Technologies Pvt. Ltd.\""
   ]
  },
  {
   "cell_type": "code",
   "execution_count": 91,
   "metadata": {
    "colab": {
     "base_uri": "https://localhost:8080/"
    },
    "id": "7yxxyhiGCSSA",
    "outputId": "8b0f17dc-1ae1-4c8b-f0ab-80c3cc7465e4"
   },
   "outputs": [
    {
     "name": "stderr",
     "output_type": "stream",
     "text": [
      "<ipython-input-91-32d7a5100fe9>:1: SettingWithCopyWarning: \n",
      "A value is trying to be set on a copy of a slice from a DataFrame\n",
      "\n",
      "See the caveats in the documentation: https://pandas.pydata.org/pandas-docs/stable/user_guide/indexing.html#returning-a-view-versus-a-copy\n",
      "  test_dataset_raw_gpt4['text'][170] = \"Attention, I am Mr. Moni Millat, a member of the Independent Committee of Eminent Persons (ICEP) in Switzerland. The ICEP is tasked with identifying dormant bank accounts in Switzerland, originally owned by non-Swiss citizens, that have been inactive since World War II. Intriguingly, in July, the Swiss Bankers Association disclosed a list of such accounts, a majority of which belonged to victims of the Holocaust. The relentless efforts of the ICEP have led to the identification of additional dormant accounts as of December. These accounts range from interest-bearing savings accounts, securities accounts, safe deposit boxes, custody accounts, non-interest-bearing transaction accounts, to numbered accounts. Accounts that are interest-bearing have been accumulating interest since their inception. Claims on these accounts by non-Swiss citizens are managed by the Claims Resolution Tribunal (CRT). Recently, a dormant account named 'Ordner Adele' was discovered, holding a credit balance of US dollars along with accumulated interest. Unfortunately, the intended recipient was a victim of the Holocaust era, leaving no will.\"\n"
     ]
    }
   ],
   "source": [
    "test_dataset_raw_gpt4['text'][170] = \"Attention, I am Mr. Moni Millat, a member of the Independent Committee of Eminent Persons (ICEP) in Switzerland. The ICEP is tasked with identifying dormant bank accounts in Switzerland, originally owned by non-Swiss citizens, that have been inactive since World War II. Intriguingly, in July, the Swiss Bankers Association disclosed a list of such accounts, a majority of which belonged to victims of the Holocaust. The relentless efforts of the ICEP have led to the identification of additional dormant accounts as of December. These accounts range from interest-bearing savings accounts, securities accounts, safe deposit boxes, custody accounts, non-interest-bearing transaction accounts, to numbered accounts. Accounts that are interest-bearing have been accumulating interest since their inception. Claims on these accounts by non-Swiss citizens are managed by the Claims Resolution Tribunal (CRT). Recently, a dormant account named 'Ordner Adele' was discovered, holding a credit balance of US dollars along with accumulated interest. Unfortunately, the intended recipient was a victim of the Holocaust era, leaving no will.\""
   ]
  },
  {
   "cell_type": "code",
   "execution_count": 92,
   "metadata": {
    "colab": {
     "base_uri": "https://localhost:8080/"
    },
    "id": "z79-35SeCSzy",
    "outputId": "af02e119-9f61-4ace-bfa0-6b8a02c48e7f"
   },
   "outputs": [
    {
     "name": "stderr",
     "output_type": "stream",
     "text": [
      "<ipython-input-92-52f4a5d19364>:1: SettingWithCopyWarning: \n",
      "A value is trying to be set on a copy of a slice from a DataFrame\n",
      "\n",
      "See the caveats in the documentation: https://pandas.pydata.org/pandas-docs/stable/user_guide/indexing.html#returning-a-view-versus-a-copy\n",
      "  test_dataset_raw_gpt4['text'][54] = \"Good day,I'm John Williams, an auditor and computing staff member at a bank here in England. I am reaching out because of an urgent matter concerning an inactive account opened in 2000. No activity has been recorded since 2003, and without immediate action, the substantial funds within will be forfeit. The account holder was Mr. Maxwell Brown, a foreigner and manager of a petrol chemical service in England. A chemical engineer by profession, Mr. Brown passed away in 2003, and since then, no claims have been made on his account, which holds £18,000,000. My investigation confirms that his company is unaware of this account. To prevent these funds from being lost, I am seeking a trustworthy individual to assist in the transfer of this significant amount to a secure foreign account.\"\n"
     ]
    }
   ],
   "source": [
    "test_dataset_raw_gpt4['text'][54] = \"Good day,I'm John Williams, an auditor and computing staff member at a bank here in England. I am reaching out because of an urgent matter concerning an inactive account opened in 2000. No activity has been recorded since 2003, and without immediate action, the substantial funds within will be forfeit. The account holder was Mr. Maxwell Brown, a foreigner and manager of a petrol chemical service in England. A chemical engineer by profession, Mr. Brown passed away in 2003, and since then, no claims have been made on his account, which holds £18,000,000. My investigation confirms that his company is unaware of this account. To prevent these funds from being lost, I am seeking a trustworthy individual to assist in the transfer of this significant amount to a secure foreign account.\""
   ]
  },
  {
   "cell_type": "code",
   "execution_count": 93,
   "metadata": {
    "colab": {
     "base_uri": "https://localhost:8080/"
    },
    "id": "sqkXfjiTCS6x",
    "outputId": "ecfa5d66-c0a8-4f27-eba8-e8c645cd2b14"
   },
   "outputs": [
    {
     "name": "stderr",
     "output_type": "stream",
     "text": [
      "<ipython-input-93-f00e481a22c0>:1: SettingWithCopyWarning: \n",
      "A value is trying to be set on a copy of a slice from a DataFrame\n",
      "\n",
      "See the caveats in the documentation: https://pandas.pydata.org/pandas-docs/stable/user_guide/indexing.html#returning-a-view-versus-a-copy\n",
      "  test_dataset_raw_gpt4['text'][155] =\"Greetings, In the name of the Almighty, I, Engapet Kayce from New Sweden, write to you with sincere intentions. Previously, I was associated with Shell Petroleum in Iraq and was a major offshore oil rig investor, but recent health challenges have significantly altered my circumstances. I've been affected by a stroke that has left half of my body paralyzed, and extensive eye surgery has resulted in poor vision. Despite seeking spiritual and medical remedies over the last three years, my situation remains dire, with my doctor predicting permanent immobilization. Regrettably, I lack close relatives to support me during this challenging time; my only known kin, a distant cousin named Mrs. Linda Lefler, emigrated to Australia ten years ago, and I have lost contact with her. Having surrendered my life to God's will, I am inspired to perform a good deed before my time comes, which is why I am reaching out to you today.\"\n"
     ]
    }
   ],
   "source": [
    "test_dataset_raw_gpt4['text'][155] =\"Greetings, In the name of the Almighty, I, Engapet Kayce from New Sweden, write to you with sincere intentions. Previously, I was associated with Shell Petroleum in Iraq and was a major offshore oil rig investor, but recent health challenges have significantly altered my circumstances. I've been affected by a stroke that has left half of my body paralyzed, and extensive eye surgery has resulted in poor vision. Despite seeking spiritual and medical remedies over the last three years, my situation remains dire, with my doctor predicting permanent immobilization. Regrettably, I lack close relatives to support me during this challenging time; my only known kin, a distant cousin named Mrs. Linda Lefler, emigrated to Australia ten years ago, and I have lost contact with her. Having surrendered my life to God's will, I am inspired to perform a good deed before my time comes, which is why I am reaching out to you today.\""
   ]
  },
  {
   "cell_type": "code",
   "execution_count": 94,
   "metadata": {
    "colab": {
     "base_uri": "https://localhost:8080/"
    },
    "id": "CzAe5XvmN2Ag",
    "outputId": "c39d0253-9329-40d2-e906-da1f24818495"
   },
   "outputs": [
    {
     "name": "stderr",
     "output_type": "stream",
     "text": [
      "<ipython-input-94-042e262e0471>:1: SettingWithCopyWarning: \n",
      "A value is trying to be set on a copy of a slice from a DataFrame\n",
      "\n",
      "See the caveats in the documentation: https://pandas.pydata.org/pandas-docs/stable/user_guide/indexing.html#returning-a-view-versus-a-copy\n",
      "  test_dataset_raw_gpt4['text'][344] =\"Subject: Investment Relationship Request from Tabel D. Michael Hello, I'm Tabel Djedje Michael, a 20-year-old, and the younger brother of Maria Michael, who is 24 years old. We are the children of the late Dr. and Mrs. Djedje Michael, our father being a former Minister of the Interior in Ivory Coast, a respected merchant, politician, and a figure of repute in Abidjan, the economic capital of the Ivory Coast. Unfortunately, our father fell victim to political unrest in our country and was assassinated on September 20th, amidst the violence. We were at church when our house was set ablaze by malevolent government agents. Our mother passed away 10 years earlier, and since then, our father took special care of us and never remarried. We currently live with our 90-year-old grandmother. Our father's friend, Mrs. Lim S. Tsing, who works at an information center in Japan, recommended reaching out to a group of contacts for assistance, and from those, we chose you for a business relationship. The purpose of this message is to discuss a potential investment opportunity.\"\n"
     ]
    }
   ],
   "source": [
    "test_dataset_raw_gpt4['text'][344] =\"Subject: Investment Relationship Request from Tabel D. Michael Hello, I'm Tabel Djedje Michael, a 20-year-old, and the younger brother of Maria Michael, who is 24 years old. We are the children of the late Dr. and Mrs. Djedje Michael, our father being a former Minister of the Interior in Ivory Coast, a respected merchant, politician, and a figure of repute in Abidjan, the economic capital of the Ivory Coast. Unfortunately, our father fell victim to political unrest in our country and was assassinated on September 20th, amidst the violence. We were at church when our house was set ablaze by malevolent government agents. Our mother passed away 10 years earlier, and since then, our father took special care of us and never remarried. We currently live with our 90-year-old grandmother. Our father's friend, Mrs. Lim S. Tsing, who works at an information center in Japan, recommended reaching out to a group of contacts for assistance, and from those, we chose you for a business relationship. The purpose of this message is to discuss a potential investment opportunity.\""
   ]
  },
  {
   "cell_type": "code",
   "execution_count": 95,
   "metadata": {
    "colab": {
     "base_uri": "https://localhost:8080/"
    },
    "id": "vX0wq_j0N2He",
    "outputId": "b4f08bcd-dd96-4dfe-eb49-7510bfc81474"
   },
   "outputs": [
    {
     "name": "stderr",
     "output_type": "stream",
     "text": [
      "<ipython-input-95-d39a8fd0bf83>:1: SettingWithCopyWarning: \n",
      "A value is trying to be set on a copy of a slice from a DataFrame\n",
      "\n",
      "See the caveats in the documentation: https://pandas.pydata.org/pandas-docs/stable/user_guide/indexing.html#returning-a-view-versus-a-copy\n",
      "  test_dataset_raw_gpt4['text'][25] =\"Subject: Investment and Resettlement Request from Mrs. Hassane Dear Managing Director, Allow me to introduce myself - I am Mrs. Amina Hassane, an Iraqi refugee. My late husband was a personal aide to the former Iraqi president, overthrown by the American government. Amidst the crisis that continues to plague my country, my husband was able to secure a large sum of US $30 million before his untimely passing. With his contacts, we managed to safeguard these funds in Thailand. I am reaching out because I am keen on investing in your country, given its friendly investment environment. I would greatly appreciate your guidance and assistance in making the right investment decisions, as well as purchasing a residential property, as I am planning to move my family there as soon as all logistical details are sorted. It's important to me that we approach this with complete mutual satisfaction in mind.\"\n"
     ]
    }
   ],
   "source": [
    "test_dataset_raw_gpt4['text'][25] =\"Subject: Investment and Resettlement Request from Mrs. Hassane Dear Managing Director, Allow me to introduce myself - I am Mrs. Amina Hassane, an Iraqi refugee. My late husband was a personal aide to the former Iraqi president, overthrown by the American government. Amidst the crisis that continues to plague my country, my husband was able to secure a large sum of US $30 million before his untimely passing. With his contacts, we managed to safeguard these funds in Thailand. I am reaching out because I am keen on investing in your country, given its friendly investment environment. I would greatly appreciate your guidance and assistance in making the right investment decisions, as well as purchasing a residential property, as I am planning to move my family there as soon as all logistical details are sorted. It's important to me that we approach this with complete mutual satisfaction in mind.\""
   ]
  },
  {
   "cell_type": "code",
   "execution_count": 96,
   "metadata": {
    "colab": {
     "base_uri": "https://localhost:8080/"
    },
    "id": "xhnfLPtvN2NB",
    "outputId": "e13d5a02-e78b-4785-83cd-a7b85f257d19"
   },
   "outputs": [
    {
     "name": "stderr",
     "output_type": "stream",
     "text": [
      "<ipython-input-96-1d524d14a0b9>:1: SettingWithCopyWarning: \n",
      "A value is trying to be set on a copy of a slice from a DataFrame\n",
      "\n",
      "See the caveats in the documentation: https://pandas.pydata.org/pandas-docs/stable/user_guide/indexing.html#returning-a-view-versus-a-copy\n",
      "  test_dataset_raw_gpt4['text'][63] = \"Subject: Urgent Matter Concerning Unclaimed AssetsDear Sir,My name is Dr. Richard Shubane, and I am the Operational Manager in charge of Credit and Foreign Bills at one of South Africa's leading banks, located in the main city of Johannesburg. I'm reaching out to discuss a significant matter concerning a deceased foreign customer of our bank who, along with his entire family, tragically perished in the Concorde plane crash (Flight AF 4590) on July 25, 2000. This client, a prominent industrialist, opened an account with us in 1995, but unfortunately, left no written or oral will associated with the account. Since his death, we've been unable to locate any next of kin to claim the funds, which have remained unclaimed due to the secrecy surrounding the account. The account, worth $106 million USD, was solely in his name and under the management of his company until his demise. Our plan is to initiate a transfer of $6 million USD to ensure a smooth, disappointment-free transaction before proceeding with the transfer of the remaining balance. I've confidentially discussed this matter with the General Manager of the bank and we are prepared to move forward.\"\n"
     ]
    }
   ],
   "source": [
    "test_dataset_raw_gpt4['text'][63] = \"Subject: Urgent Matter Concerning Unclaimed AssetsDear Sir,My name is Dr. Richard Shubane, and I am the Operational Manager in charge of Credit and Foreign Bills at one of South Africa's leading banks, located in the main city of Johannesburg. I'm reaching out to discuss a significant matter concerning a deceased foreign customer of our bank who, along with his entire family, tragically perished in the Concorde plane crash (Flight AF 4590) on July 25, 2000. This client, a prominent industrialist, opened an account with us in 1995, but unfortunately, left no written or oral will associated with the account. Since his death, we've been unable to locate any next of kin to claim the funds, which have remained unclaimed due to the secrecy surrounding the account. The account, worth $106 million USD, was solely in his name and under the management of his company until his demise. Our plan is to initiate a transfer of $6 million USD to ensure a smooth, disappointment-free transaction before proceeding with the transfer of the remaining balance. I've confidentially discussed this matter with the General Manager of the bank and we are prepared to move forward.\""
   ]
  },
  {
   "cell_type": "code",
   "execution_count": 97,
   "metadata": {
    "colab": {
     "base_uri": "https://localhost:8080/"
    },
    "id": "d3qgJafcN2Ss",
    "outputId": "4f210778-71a2-4ec9-d620-4efce54a0e58"
   },
   "outputs": [
    {
     "name": "stderr",
     "output_type": "stream",
     "text": [
      "<ipython-input-97-cbce70da5920>:1: SettingWithCopyWarning: \n",
      "A value is trying to be set on a copy of a slice from a DataFrame\n",
      "\n",
      "See the caveats in the documentation: https://pandas.pydata.org/pandas-docs/stable/user_guide/indexing.html#returning-a-view-versus-a-copy\n",
      "  test_dataset_raw_gpt4['text'][325] = \"Subject: Request for Assistance in Business Venture Dear Recipient,My name is Gordon Blackwell, writing to you from Amsterdam, Netherlands. I found your contact via a private internet search, and I am confident in your honesty and commitment to assist in a sensitive business matter. This venture involves funds originally owned by a foreign oil merchant and contractor with the government of the Netherlands who tragically passed away in a Kenya Airways Flight KQ plane crash several years ago. As of July, the deceased's account balance was $4.5 million USD, and the bank is currently seeking a next of kin to claim these funds. Despite the bank's efforts, no family or relative of the deceased has been located. Given the unsuccessful search and the possibility that no next of kin can be found, the management, under the influence of the chairman of the board of directors, is arranging for the funds to be claimed and thus requires your assistance.\"\n"
     ]
    }
   ],
   "source": [
    "test_dataset_raw_gpt4['text'][325] = \"Subject: Request for Assistance in Business Venture Dear Recipient,My name is Gordon Blackwell, writing to you from Amsterdam, Netherlands. I found your contact via a private internet search, and I am confident in your honesty and commitment to assist in a sensitive business matter. This venture involves funds originally owned by a foreign oil merchant and contractor with the government of the Netherlands who tragically passed away in a Kenya Airways Flight KQ plane crash several years ago. As of July, the deceased's account balance was $4.5 million USD, and the bank is currently seeking a next of kin to claim these funds. Despite the bank's efforts, no family or relative of the deceased has been located. Given the unsuccessful search and the possibility that no next of kin can be found, the management, under the influence of the chairman of the board of directors, is arranging for the funds to be claimed and thus requires your assistance.\""
   ]
  },
  {
   "cell_type": "code",
   "execution_count": 98,
   "metadata": {
    "colab": {
     "base_uri": "https://localhost:8080/"
    },
    "id": "a-Vn3kXwN2Y8",
    "outputId": "6e638bf7-3a47-4633-efed-966eefbb3ae4"
   },
   "outputs": [
    {
     "name": "stderr",
     "output_type": "stream",
     "text": [
      "<ipython-input-98-0bbd057ea904>:1: SettingWithCopyWarning: \n",
      "A value is trying to be set on a copy of a slice from a DataFrame\n",
      "\n",
      "See the caveats in the documentation: https://pandas.pydata.org/pandas-docs/stable/user_guide/indexing.html#returning-a-view-versus-a-copy\n",
      "  test_dataset_raw_gpt4['text'][330] =\"Subject: Business Investment Proposal Dear Recipient,I am Mrs. Femia Bangura and I wish to propose a collaborative business venture in your country. Despite my limited knowledge of international business and investment, I have substantial capital that I intend to invest into a lucrative venture in your country, as you advise. My vision is to make you my business partner, trustee, and representative, creating ideas together for the money to be invested, and probably managed. Your assistance is crucial in transferring the money and safeguarding my interests. Upon your acceptance of this proposal, I will provide you with detailed information, the procedures involved, the exact amount, and agree on a mutual percentage interest for your involvement in helping secure the release of the deposit and investing the money. I highly appreciate your immediate attention to this matter, and I look forward to your positive response.\"\n"
     ]
    }
   ],
   "source": [
    "test_dataset_raw_gpt4['text'][330] =\"Subject: Business Investment Proposal Dear Recipient,I am Mrs. Femia Bangura and I wish to propose a collaborative business venture in your country. Despite my limited knowledge of international business and investment, I have substantial capital that I intend to invest into a lucrative venture in your country, as you advise. My vision is to make you my business partner, trustee, and representative, creating ideas together for the money to be invested, and probably managed. Your assistance is crucial in transferring the money and safeguarding my interests. Upon your acceptance of this proposal, I will provide you with detailed information, the procedures involved, the exact amount, and agree on a mutual percentage interest for your involvement in helping secure the release of the deposit and investing the money. I highly appreciate your immediate attention to this matter, and I look forward to your positive response.\""
   ]
  },
  {
   "cell_type": "code",
   "execution_count": 99,
   "metadata": {
    "colab": {
     "base_uri": "https://localhost:8080/"
    },
    "id": "zsUaNnhrN2i3",
    "outputId": "9e8282b9-28e7-4ff9-be68-a5ed9cb74acc"
   },
   "outputs": [
    {
     "name": "stderr",
     "output_type": "stream",
     "text": [
      "<ipython-input-99-127d9ec75cd3>:1: SettingWithCopyWarning: \n",
      "A value is trying to be set on a copy of a slice from a DataFrame\n",
      "\n",
      "See the caveats in the documentation: https://pandas.pydata.org/pandas-docs/stable/user_guide/indexing.html#returning-a-view-versus-a-copy\n",
      "  test_dataset_raw_gpt4['text'][59] =\"Subject: Urgent Assistance Needed Dear Friend,My name is Mrs. Elita Ngoni Tawanda, the widow of the late Ndinonzi Kajengo Tawanda, a farmer from Zimbabwe who was tragically murdered in a land dispute. I found your contact through an online network and felt compelled to reach out. Before my husband's untimely demise, he had safely deposited a consignment with a security company at an undisclosed location, which I can reveal upon receiving your positive response. Although the consignment was declared to contain gemstones for security reasons, it actually holds $12.5 million USD. My husband had anticipated the potential dangers tied to Zimbabwe's land policies and made this precautionary measure. Please note, the security company is unaware of the consignment's true contents. The funds were initially intended for purchasing new agricultural machinery, chemicals for our farms, and establishing new farms in Swaziland prior to the land issues provoked by President Robert Mugabe of Zimbabwe. I am reaching out for your assistance in this matter.\"\n"
     ]
    }
   ],
   "source": [
    "test_dataset_raw_gpt4['text'][59] =\"Subject: Urgent Assistance Needed Dear Friend,My name is Mrs. Elita Ngoni Tawanda, the widow of the late Ndinonzi Kajengo Tawanda, a farmer from Zimbabwe who was tragically murdered in a land dispute. I found your contact through an online network and felt compelled to reach out. Before my husband's untimely demise, he had safely deposited a consignment with a security company at an undisclosed location, which I can reveal upon receiving your positive response. Although the consignment was declared to contain gemstones for security reasons, it actually holds $12.5 million USD. My husband had anticipated the potential dangers tied to Zimbabwe's land policies and made this precautionary measure. Please note, the security company is unaware of the consignment's true contents. The funds were initially intended for purchasing new agricultural machinery, chemicals for our farms, and establishing new farms in Swaziland prior to the land issues provoked by President Robert Mugabe of Zimbabwe. I am reaching out for your assistance in this matter.\""
   ]
  },
  {
   "cell_type": "code",
   "execution_count": 100,
   "metadata": {
    "colab": {
     "base_uri": "https://localhost:8080/"
    },
    "id": "21nlIUecN3BZ",
    "outputId": "93373787-01ff-4406-b018-7c5c438dcdd9"
   },
   "outputs": [
    {
     "name": "stderr",
     "output_type": "stream",
     "text": [
      "<ipython-input-100-e7ae1a9d1751>:1: SettingWithCopyWarning: \n",
      "A value is trying to be set on a copy of a slice from a DataFrame\n",
      "\n",
      "See the caveats in the documentation: https://pandas.pydata.org/pandas-docs/stable/user_guide/indexing.html#returning-a-view-versus-a-copy\n",
      "  test_dataset_raw_gpt4['text'][114] = \"Subject: Confidential Business Proposal Dear Sir/Madam,I am Engr. Ben Maluleke, a native of Cape Town, South Africa, currently serving as the Executive Accountant in the South Africa Department of Mining & Natural Resources. I apologize for using this medium to contact you regarding a transaction of significant importance, but the need for confidentiality and immediate access prompted me to do so. As a member of the South Africa Export Promotion Council (SAEPC) and a representative in a government trade exhibition, my credentials and particulars are solidly established. I am seeking your confidential cooperation to execute a deal that could be beneficial for all involved, and I kindly ask that you keep this transaction a top secret due to its nature. Within our department, my four high-ranking colleagues and I hold overdue payment bills amounting to $27.1 million USD, and we are seeking a trustworthy individual to assist us with this matter.\"\n"
     ]
    }
   ],
   "source": [
    "test_dataset_raw_gpt4['text'][114] = \"Subject: Confidential Business Proposal Dear Sir/Madam,I am Engr. Ben Maluleke, a native of Cape Town, South Africa, currently serving as the Executive Accountant in the South Africa Department of Mining & Natural Resources. I apologize for using this medium to contact you regarding a transaction of significant importance, but the need for confidentiality and immediate access prompted me to do so. As a member of the South Africa Export Promotion Council (SAEPC) and a representative in a government trade exhibition, my credentials and particulars are solidly established. I am seeking your confidential cooperation to execute a deal that could be beneficial for all involved, and I kindly ask that you keep this transaction a top secret due to its nature. Within our department, my four high-ranking colleagues and I hold overdue payment bills amounting to $27.1 million USD, and we are seeking a trustworthy individual to assist us with this matter.\""
   ]
  },
  {
   "cell_type": "code",
   "execution_count": 101,
   "metadata": {
    "colab": {
     "base_uri": "https://localhost:8080/"
    },
    "id": "OtTf4EDVN3Hw",
    "outputId": "cb149ea1-69a4-47e5-c7f3-c29d19311374"
   },
   "outputs": [
    {
     "name": "stderr",
     "output_type": "stream",
     "text": [
      "<ipython-input-101-d77443f2d777>:1: SettingWithCopyWarning: \n",
      "A value is trying to be set on a copy of a slice from a DataFrame\n",
      "\n",
      "See the caveats in the documentation: https://pandas.pydata.org/pandas-docs/stable/user_guide/indexing.html#returning-a-view-versus-a-copy\n",
      "  test_dataset_raw_gpt4['text'][381] = \"Subject: Personal and Confidential Business Proposal Dear Recipient,I am Rev. Dr. Thomas Bella from the Nigerian National Petroleum Corporation based in Victoria Island, Lagos. Following consultations with colleagues and information from the Nigerian Chambers of Commerce and Industry, I am privileged to seek your assistance in transferring $15.5 million USD into your account. This sum resulted from an overinvoiced contract that was executed, commissioned, and paid for three years ago by a foreign contractor. The fund is currently held in a suspense account at the Central Bank of Nigeria. As civil servants, we are not permitted to operate foreign accounts, hence our need for your assistance. The total sum will be divided as follows: 70% for us, 30% for you, with additional deductions for any local or international expenses related to the transfer. I assure you the transfer is risk-free on both sides. If you find this proposal acceptable, please respond promptly.\"\n"
     ]
    }
   ],
   "source": [
    "test_dataset_raw_gpt4['text'][381] = \"Subject: Personal and Confidential Business Proposal Dear Recipient,I am Rev. Dr. Thomas Bella from the Nigerian National Petroleum Corporation based in Victoria Island, Lagos. Following consultations with colleagues and information from the Nigerian Chambers of Commerce and Industry, I am privileged to seek your assistance in transferring $15.5 million USD into your account. This sum resulted from an overinvoiced contract that was executed, commissioned, and paid for three years ago by a foreign contractor. The fund is currently held in a suspense account at the Central Bank of Nigeria. As civil servants, we are not permitted to operate foreign accounts, hence our need for your assistance. The total sum will be divided as follows: 70% for us, 30% for you, with additional deductions for any local or international expenses related to the transfer. I assure you the transfer is risk-free on both sides. If you find this proposal acceptable, please respond promptly.\""
   ]
  },
  {
   "cell_type": "code",
   "execution_count": 102,
   "metadata": {
    "colab": {
     "base_uri": "https://localhost:8080/"
    },
    "id": "MDsFnvCVN3Nq",
    "outputId": "3a31d7a6-579d-4a0a-d4ff-a61ecfedfb34"
   },
   "outputs": [
    {
     "name": "stderr",
     "output_type": "stream",
     "text": [
      "<ipython-input-102-d4ecb5be98eb>:1: SettingWithCopyWarning: \n",
      "A value is trying to be set on a copy of a slice from a DataFrame\n",
      "\n",
      "See the caveats in the documentation: https://pandas.pydata.org/pandas-docs/stable/user_guide/indexing.html#returning-a-view-versus-a-copy\n",
      "  test_dataset_raw_gpt4['text'][363] = \"Subject: Proposal for Beneficial Collaboration Dear Friend,My name is Mr. Frederick Andrew and I am an externally trained auditor for the Development Bank of Singapore (DBS). I have painstakingly located your contact for personal initiatives related to an investor who shares your last name and left approximately $30 million USD in our bank. No next of kin has stepped forward to claim this amount for the past twelve years. Banking regulations in Singapore require me to notify fiscal authorities about such dormant accounts after a statutory period of twelve years, to prevent them from being marked as unclaimed funds. Given these circumstances, I am reaching out with a proposal to leverage my insider knowledge to help us secure these funds. My proposition is based on the fact that your last name matches the late investor's, thus simplifying the process of securing the funds instead of allowing them to fall into the hands of the Singaporean government. I look forward to discussing this opportunity further.\"\n"
     ]
    }
   ],
   "source": [
    "test_dataset_raw_gpt4['text'][363] = \"Subject: Proposal for Beneficial Collaboration Dear Friend,My name is Mr. Frederick Andrew and I am an externally trained auditor for the Development Bank of Singapore (DBS). I have painstakingly located your contact for personal initiatives related to an investor who shares your last name and left approximately $30 million USD in our bank. No next of kin has stepped forward to claim this amount for the past twelve years. Banking regulations in Singapore require me to notify fiscal authorities about such dormant accounts after a statutory period of twelve years, to prevent them from being marked as unclaimed funds. Given these circumstances, I am reaching out with a proposal to leverage my insider knowledge to help us secure these funds. My proposition is based on the fact that your last name matches the late investor's, thus simplifying the process of securing the funds instead of allowing them to fall into the hands of the Singaporean government. I look forward to discussing this opportunity further.\""
   ]
  },
  {
   "cell_type": "code",
   "execution_count": 103,
   "metadata": {
    "colab": {
     "base_uri": "https://localhost:8080/"
    },
    "id": "Wj7Y62LqOHru",
    "outputId": "92051e32-0ad1-42e9-a68c-fec44a7f4785"
   },
   "outputs": [
    {
     "name": "stderr",
     "output_type": "stream",
     "text": [
      "<ipython-input-103-fd73cf117dab>:1: SettingWithCopyWarning: \n",
      "A value is trying to be set on a copy of a slice from a DataFrame\n",
      "\n",
      "See the caveats in the documentation: https://pandas.pydata.org/pandas-docs/stable/user_guide/indexing.html#returning-a-view-versus-a-copy\n",
      "  test_dataset_raw_gpt4['text'][197] = \"Subject: Urgent Confidential Business Proposal Dear President/CEO,I am Kizie Mulumba, the Finance Director of Standard Bank Ltd., and I'm writing to you with an urgent and confidential business proposition. On June 19th, a foreign oil consultant/contractor with South Africa Mining Corporation, Mr. Richard Moss, deposited a fixed sum of USD 25 million for twelve calendar months in our branch. However, upon maturity, all attempts to reach Mr. Moss were unsuccessful, and further investigation revealed his unfortunate demise in an automobile accident. Our research showed Mr. Moss left no will, and we were unable to locate any next of kin. His official records, including bank deposit paperwork, did not indicate any kin or relations. Consequently, the sum of USD 25 million remains unclaimed in the bank, with the interest being added to the principal amount annually. Given the circumstances, it's unlikely anyone will step forward to claim it. As per South African laws, I am reaching out to you for a possible collaboration to secure these funds. I look forward to discussing this further.\"\n"
     ]
    }
   ],
   "source": [
    "test_dataset_raw_gpt4['text'][197] = \"Subject: Urgent Confidential Business Proposal Dear President/CEO,I am Kizie Mulumba, the Finance Director of Standard Bank Ltd., and I'm writing to you with an urgent and confidential business proposition. On June 19th, a foreign oil consultant/contractor with South Africa Mining Corporation, Mr. Richard Moss, deposited a fixed sum of USD 25 million for twelve calendar months in our branch. However, upon maturity, all attempts to reach Mr. Moss were unsuccessful, and further investigation revealed his unfortunate demise in an automobile accident. Our research showed Mr. Moss left no will, and we were unable to locate any next of kin. His official records, including bank deposit paperwork, did not indicate any kin or relations. Consequently, the sum of USD 25 million remains unclaimed in the bank, with the interest being added to the principal amount annually. Given the circumstances, it's unlikely anyone will step forward to claim it. As per South African laws, I am reaching out to you for a possible collaboration to secure these funds. I look forward to discussing this further.\""
   ]
  },
  {
   "cell_type": "code",
   "execution_count": 104,
   "metadata": {
    "colab": {
     "base_uri": "https://localhost:8080/"
    },
    "id": "I7TE8bqoOHxm",
    "outputId": "11ef9ad7-ee71-4bd7-a5a2-0d9c1064f38e"
   },
   "outputs": [
    {
     "name": "stderr",
     "output_type": "stream",
     "text": [
      "<ipython-input-104-c393f7be95ef>:1: SettingWithCopyWarning: \n",
      "A value is trying to be set on a copy of a slice from a DataFrame\n",
      "\n",
      "See the caveats in the documentation: https://pandas.pydata.org/pandas-docs/stable/user_guide/indexing.html#returning-a-view-versus-a-copy\n",
      "  test_dataset_raw_gpt4['text'][336] =\"Subject: Request for Assistance in Funds Transfer Dear Managing Director/CEO, I am Lt. Col. Richard Egwu, former personal security to the late President Laurent Kabila of the Democratic Republic of Congo (DRC). Currently, I am in the Republic of South Africa seeking asylum. I acquired your contact information from the Johannesburg Chamber of Commerce and Industry's business directory. Given your profile, I felt compelled to request your assistance in transferring a sum of USD 25 million to your company or personal account for investment purposes outside Africa. Before President Kabila's untimely death, we knew that rebels would make significant efforts to overthrow the government, which led to widespread looting of the country's treasures. In May, I was tasked with transporting a box marked as 'diplomatic documents' to Zimbabwe, but I diverted it to the Republic of South Africa instead. Upon inspection, I discovered that the box contained USD 25 million. I have since deposited the box for safekeeping and now seek your help in securing these funds.\"\n"
     ]
    }
   ],
   "source": [
    "test_dataset_raw_gpt4['text'][336] =\"Subject: Request for Assistance in Funds Transfer Dear Managing Director/CEO, I am Lt. Col. Richard Egwu, former personal security to the late President Laurent Kabila of the Democratic Republic of Congo (DRC). Currently, I am in the Republic of South Africa seeking asylum. I acquired your contact information from the Johannesburg Chamber of Commerce and Industry's business directory. Given your profile, I felt compelled to request your assistance in transferring a sum of USD 25 million to your company or personal account for investment purposes outside Africa. Before President Kabila's untimely death, we knew that rebels would make significant efforts to overthrow the government, which led to widespread looting of the country's treasures. In May, I was tasked with transporting a box marked as 'diplomatic documents' to Zimbabwe, but I diverted it to the Republic of South Africa instead. Upon inspection, I discovered that the box contained USD 25 million. I have since deposited the box for safekeeping and now seek your help in securing these funds.\""
   ]
  },
  {
   "cell_type": "code",
   "execution_count": 105,
   "metadata": {
    "colab": {
     "base_uri": "https://localhost:8080/"
    },
    "id": "D9AjjvpYOH3e",
    "outputId": "38960708-9369-4e9d-960a-48f27366eb4b"
   },
   "outputs": [
    {
     "name": "stderr",
     "output_type": "stream",
     "text": [
      "<ipython-input-105-4ed66677a633>:1: SettingWithCopyWarning: \n",
      "A value is trying to be set on a copy of a slice from a DataFrame\n",
      "\n",
      "See the caveats in the documentation: https://pandas.pydata.org/pandas-docs/stable/user_guide/indexing.html#returning-a-view-versus-a-copy\n",
      "  test_dataset_raw_gpt4['text'][173] =\"I'm Mr. Pascal Ibeethe, the manager of United Bank of Africa PLC, UBA. I'm seeking a reliable and trustworthy partner for an important transaction involving a dormant account opened in 1996, which holds twenty-six million USD. The account belonged to Mr. Clayton Reidfield, a foreigner and a chemical engineer by profession, who was the manager of Petro Chemical Services. Sadly, he passed away in 2003. This account has not been operated since then and has no nominated beneficiary. My investigations confirmed that his company remains unaware of this account. If the funds are not claimed soon, they will be forfeited. Therefore, I'm reaching out to you with an urgent proposition to assist in the transfer of this significant sum, trusting in your discretion and integrity now and in the future.\"\n"
     ]
    }
   ],
   "source": [
    "test_dataset_raw_gpt4['text'][173] =\"I'm Mr. Pascal Ibeethe, the manager of United Bank of Africa PLC, UBA. I'm seeking a reliable and trustworthy partner for an important transaction involving a dormant account opened in 1996, which holds twenty-six million USD. The account belonged to Mr. Clayton Reidfield, a foreigner and a chemical engineer by profession, who was the manager of Petro Chemical Services. Sadly, he passed away in 2003. This account has not been operated since then and has no nominated beneficiary. My investigations confirmed that his company remains unaware of this account. If the funds are not claimed soon, they will be forfeited. Therefore, I'm reaching out to you with an urgent proposition to assist in the transfer of this significant sum, trusting in your discretion and integrity now and in the future.\""
   ]
  },
  {
   "cell_type": "code",
   "execution_count": 106,
   "metadata": {
    "colab": {
     "base_uri": "https://localhost:8080/"
    },
    "id": "y75Dvj8zOH8-",
    "outputId": "e0cf50ca-2826-4d0c-b08c-084afb3cc3e8"
   },
   "outputs": [
    {
     "name": "stderr",
     "output_type": "stream",
     "text": [
      "<ipython-input-106-79951e8845fb>:1: SettingWithCopyWarning: \n",
      "A value is trying to be set on a copy of a slice from a DataFrame\n",
      "\n",
      "See the caveats in the documentation: https://pandas.pydata.org/pandas-docs/stable/user_guide/indexing.html#returning-a-view-versus-a-copy\n",
      "  test_dataset_raw_gpt4['text'][148] = \"Dear Friend,As a practicing doctor in Ivory Coast, West Africa, I'm seeking your assistance regarding a sensitive issue involving a patient of mine from Sierra Leone. She and her son, refugees due to a deadly family conflict, possess a certificate of deposit related to a trunk box stored in a security company, declared as family valuables. They fled their home country and resettled in Ivory Coast. The patient has entrusted me with this confidential information and I believe you can provide us with the necessary assistance in this matter, which could potentially benefit all parties involved. For security purposes, please respond via my alternative email: nandodaniel@yahoo.it.\"\n"
     ]
    }
   ],
   "source": [
    "test_dataset_raw_gpt4['text'][148] = \"Dear Friend,As a practicing doctor in Ivory Coast, West Africa, I'm seeking your assistance regarding a sensitive issue involving a patient of mine from Sierra Leone. She and her son, refugees due to a deadly family conflict, possess a certificate of deposit related to a trunk box stored in a security company, declared as family valuables. They fled their home country and resettled in Ivory Coast. The patient has entrusted me with this confidential information and I believe you can provide us with the necessary assistance in this matter, which could potentially benefit all parties involved. For security purposes, please respond via my alternative email: nandodaniel@yahoo.it.\""
   ]
  },
  {
   "cell_type": "code",
   "execution_count": 107,
   "metadata": {
    "colab": {
     "base_uri": "https://localhost:8080/"
    },
    "id": "-N8dTCmVOIYW",
    "outputId": "d552b8b6-8990-4704-fb76-49d9afe62309"
   },
   "outputs": [
    {
     "name": "stderr",
     "output_type": "stream",
     "text": [
      "<ipython-input-107-708ecedb9eca>:1: SettingWithCopyWarning: \n",
      "A value is trying to be set on a copy of a slice from a DataFrame\n",
      "\n",
      "See the caveats in the documentation: https://pandas.pydata.org/pandas-docs/stable/user_guide/indexing.html#returning-a-view-versus-a-copy\n",
      "  test_dataset_raw_gpt4['text'][153] =\"I'm Isaac Baka, the Site Inspection Director for the Ministry of Works and Construction in the Republic of Sudan. While overseeing a major contract, we discovered a significant gold deposit at one of the construction sites. As the site director, I reached a mutual agreement with the firm to mine the gold and divide the proceeds. From this, I received $20 million. However, as a civil servant in a war-torn country, I'm unable to introduce these funds into our banking system due to my limited income and the strict civil service guidelines in Sudan. As the civil crisis in Sudan intensifies daily, I've decided it's crucial to move these funds out of the country.\"\n"
     ]
    }
   ],
   "source": [
    "test_dataset_raw_gpt4['text'][153] =\"I'm Isaac Baka, the Site Inspection Director for the Ministry of Works and Construction in the Republic of Sudan. While overseeing a major contract, we discovered a significant gold deposit at one of the construction sites. As the site director, I reached a mutual agreement with the firm to mine the gold and divide the proceeds. From this, I received $20 million. However, as a civil servant in a war-torn country, I'm unable to introduce these funds into our banking system due to my limited income and the strict civil service guidelines in Sudan. As the civil crisis in Sudan intensifies daily, I've decided it's crucial to move these funds out of the country.\""
   ]
  },
  {
   "cell_type": "code",
   "execution_count": 108,
   "metadata": {
    "colab": {
     "base_uri": "https://localhost:8080/"
    },
    "id": "Q1lcL0K9OIer",
    "outputId": "9abb45b8-9d44-4913-a9c8-dba95c603ca4"
   },
   "outputs": [
    {
     "name": "stderr",
     "output_type": "stream",
     "text": [
      "<ipython-input-108-2bc4abdb0724>:1: SettingWithCopyWarning: \n",
      "A value is trying to be set on a copy of a slice from a DataFrame\n",
      "\n",
      "See the caveats in the documentation: https://pandas.pydata.org/pandas-docs/stable/user_guide/indexing.html#returning-a-view-versus-a-copy\n",
      "  test_dataset_raw_gpt4['text'][399] =\"I hope this message finds you well. You may recall that I, Dr. Mr. Michael Howard from Nigeria, once reached out to you for assistance in securing the release of funds accrued from a contract inheritance awarded by our government during a military regime. Although you were unable to assist me at that time, I'm pleased to inform you that I've successfully transferred the funds with the help of a new partner from Brazil. Currently, I am in the Netherlands investing in projects with my share of the sum.However, I haven't forgotten your past efforts and attempts to assist me. As a token of my gratitude, I have set aside five hundred thousand United States dollars as a draft compensation for you. Besides this, I urge you to take care of those in need - the poor, orphans, and the disabled in your community. This gesture would indeed serve a great cause. Once again, thank you for your time and past efforts.\"\n"
     ]
    }
   ],
   "source": [
    "test_dataset_raw_gpt4['text'][399] =\"I hope this message finds you well. You may recall that I, Dr. Mr. Michael Howard from Nigeria, once reached out to you for assistance in securing the release of funds accrued from a contract inheritance awarded by our government during a military regime. Although you were unable to assist me at that time, I'm pleased to inform you that I've successfully transferred the funds with the help of a new partner from Brazil. Currently, I am in the Netherlands investing in projects with my share of the sum.However, I haven't forgotten your past efforts and attempts to assist me. As a token of my gratitude, I have set aside five hundred thousand United States dollars as a draft compensation for you. Besides this, I urge you to take care of those in need - the poor, orphans, and the disabled in your community. This gesture would indeed serve a great cause. Once again, thank you for your time and past efforts.\""
   ]
  },
  {
   "cell_type": "code",
   "execution_count": 109,
   "metadata": {
    "colab": {
     "base_uri": "https://localhost:8080/"
    },
    "id": "z3PUbEQiOIlB",
    "outputId": "4ad9cceb-920f-4bd4-dd38-97b9279fd50a"
   },
   "outputs": [
    {
     "name": "stderr",
     "output_type": "stream",
     "text": [
      "<ipython-input-109-08cf23432a5c>:1: SettingWithCopyWarning: \n",
      "A value is trying to be set on a copy of a slice from a DataFrame\n",
      "\n",
      "See the caveats in the documentation: https://pandas.pydata.org/pandas-docs/stable/user_guide/indexing.html#returning-a-view-versus-a-copy\n",
      "  test_dataset_raw_gpt4['text'][270] =\"I am Mrs. Xian, a bank manager at a respected bank in China, and I respectfully request your discretion regarding the content of this message. My reaching out is the result of an independent investigation, not yet disclosed to anyone else. The subject at hand relates to a deceased client of our bank, who held investments worth millions of dollars, which have now reached maturity. This client maintained a discreet relationship with us, never nominated any beneficiaries for his investments, and died intestate. If left unclaimed, these funds would be confiscated by the government or likely misappropriated by unethical executives. Hence, I propose that you, as a foreigner, stand in as the next of kin of the deceased, which is a simple procedure I will guide you through.\"\n"
     ]
    }
   ],
   "source": [
    "test_dataset_raw_gpt4['text'][270] =\"I am Mrs. Xian, a bank manager at a respected bank in China, and I respectfully request your discretion regarding the content of this message. My reaching out is the result of an independent investigation, not yet disclosed to anyone else. The subject at hand relates to a deceased client of our bank, who held investments worth millions of dollars, which have now reached maturity. This client maintained a discreet relationship with us, never nominated any beneficiaries for his investments, and died intestate. If left unclaimed, these funds would be confiscated by the government or likely misappropriated by unethical executives. Hence, I propose that you, as a foreigner, stand in as the next of kin of the deceased, which is a simple procedure I will guide you through.\""
   ]
  },
  {
   "cell_type": "code",
   "execution_count": 110,
   "metadata": {
    "colab": {
     "base_uri": "https://localhost:8080/"
    },
    "id": "f5PdJ4QyOIrT",
    "outputId": "15326f56-43a6-4f3e-a931-5e760d2216be"
   },
   "outputs": [
    {
     "name": "stderr",
     "output_type": "stream",
     "text": [
      "<ipython-input-110-4d1e7192033d>:1: SettingWithCopyWarning: \n",
      "A value is trying to be set on a copy of a slice from a DataFrame\n",
      "\n",
      "See the caveats in the documentation: https://pandas.pydata.org/pandas-docs/stable/user_guide/indexing.html#returning-a-view-versus-a-copy\n",
      "  test_dataset_raw_gpt4['text'][187] =\"I am Jeff Yukon, an external auditor for a well-known bank in the United Kingdom. I wish to share an urgent and confidential matter, for which I must first apologize if it breaches your personal ethics. Through a recent audit, I discovered a dormant account holding fifty-two million British pounds, untouched for the past three years. The account owner, a foreigner named Mr. Gregory B. Wilson, tragically died in a plane crash in July. No claim has been made on this account as neither his family members are aware of its existence, nor the fund itself. After discreet discussions with a senior minister official from the federal ministry of finance, we've agreed to seek a reliable foreign partner for this endeavor. Due to my position, I cannot take an active part, but I assure you of success if you follow my instructions, working hand in hand.\"\n"
     ]
    }
   ],
   "source": [
    "test_dataset_raw_gpt4['text'][187] =\"I am Jeff Yukon, an external auditor for a well-known bank in the United Kingdom. I wish to share an urgent and confidential matter, for which I must first apologize if it breaches your personal ethics. Through a recent audit, I discovered a dormant account holding fifty-two million British pounds, untouched for the past three years. The account owner, a foreigner named Mr. Gregory B. Wilson, tragically died in a plane crash in July. No claim has been made on this account as neither his family members are aware of its existence, nor the fund itself. After discreet discussions with a senior minister official from the federal ministry of finance, we've agreed to seek a reliable foreign partner for this endeavor. Due to my position, I cannot take an active part, but I assure you of success if you follow my instructions, working hand in hand.\""
   ]
  },
  {
   "cell_type": "code",
   "execution_count": 111,
   "metadata": {
    "colab": {
     "base_uri": "https://localhost:8080/"
    },
    "id": "OXqZ7RW4OIxn",
    "outputId": "530ea1f4-a24c-4174-b024-c90ad5abae5a"
   },
   "outputs": [
    {
     "name": "stderr",
     "output_type": "stream",
     "text": [
      "<ipython-input-111-00fc1db1a9aa>:1: SettingWithCopyWarning: \n",
      "A value is trying to be set on a copy of a slice from a DataFrame\n",
      "\n",
      "See the caveats in the documentation: https://pandas.pydata.org/pandas-docs/stable/user_guide/indexing.html#returning-a-view-versus-a-copy\n",
      "  test_dataset_raw_gpt4['text'][196] =\"I must apologize if this message doesn't align with your personal ethics. I am a staff member in the Accounts Management section of a well-known bank in the United Kingdom. I've found a dormant account in our system holding a balance of fifteen million British pounds, unoperated for the past several years. Investigations confirmed that the account owner, a foreigner named Austin Martins, unfortunately passed away in August. Neither his family members nor anyone else has claimed this money, mainly because no one is aware of the account's existence. Information from the National Immigration office indicates Mr. Martins was single upon entry to the UK. After a discreet discussion with bank officials, we've decided to seek a reliable foreign partner to handle this matter. We propose a business partnership where you'd stand as the next of kin to the deceased, which would allow the release of funds once due processes are followed. This transaction is risk-free and free of legal troubles as the funds are legitimate, not originating from drug money, money laundering, terrorism or any other illegal activities.\"\n"
     ]
    }
   ],
   "source": [
    "test_dataset_raw_gpt4['text'][196] =\"I must apologize if this message doesn't align with your personal ethics. I am a staff member in the Accounts Management section of a well-known bank in the United Kingdom. I've found a dormant account in our system holding a balance of fifteen million British pounds, unoperated for the past several years. Investigations confirmed that the account owner, a foreigner named Austin Martins, unfortunately passed away in August. Neither his family members nor anyone else has claimed this money, mainly because no one is aware of the account's existence. Information from the National Immigration office indicates Mr. Martins was single upon entry to the UK. After a discreet discussion with bank officials, we've decided to seek a reliable foreign partner to handle this matter. We propose a business partnership where you'd stand as the next of kin to the deceased, which would allow the release of funds once due processes are followed. This transaction is risk-free and free of legal troubles as the funds are legitimate, not originating from drug money, money laundering, terrorism or any other illegal activities.\""
   ]
  },
  {
   "cell_type": "code",
   "execution_count": 112,
   "metadata": {
    "colab": {
     "base_uri": "https://localhost:8080/",
     "height": 206
    },
    "id": "mi-e4DaCOJNT",
    "outputId": "996803f6-2d34-476f-8dcf-bfd6659422b6"
   },
   "outputs": [
    {
     "data": {
      "text/html": [
       "\n",
       "\n",
       "  <div id=\"df-a4bb5067-5011-462a-a0ae-dc6b0ddf211e\">\n",
       "    <div class=\"colab-df-container\">\n",
       "      <div>\n",
       "<style scoped>\n",
       "    .dataframe tbody tr th:only-of-type {\n",
       "        vertical-align: middle;\n",
       "    }\n",
       "\n",
       "    .dataframe tbody tr th {\n",
       "        vertical-align: top;\n",
       "    }\n",
       "\n",
       "    .dataframe thead th {\n",
       "        text-align: right;\n",
       "    }\n",
       "</style>\n",
       "<table border=\"1\" class=\"dataframe\">\n",
       "  <thead>\n",
       "    <tr style=\"text-align: right;\">\n",
       "      <th></th>\n",
       "      <th>text</th>\n",
       "      <th>target</th>\n",
       "    </tr>\n",
       "  </thead>\n",
       "  <tbody>\n",
       "    <tr>\n",
       "      <th>315</th>\n",
       "      <td>emailmessagemessage object xcffd emailmessagem...</td>\n",
       "      <td>1</td>\n",
       "    </tr>\n",
       "    <tr>\n",
       "      <th>321</th>\n",
       "      <td>dear friendmy name edward moore qcprincipal pa...</td>\n",
       "      <td>1</td>\n",
       "    </tr>\n",
       "    <tr>\n",
       "      <th>34</th>\n",
       "      <td>from mr williams kabilatelfax  sir  urgent bus...</td>\n",
       "      <td>1</td>\n",
       "    </tr>\n",
       "    <tr>\n",
       "      <th>290</th>\n",
       "      <td>my name sandra williams united kingdom i  year...</td>\n",
       "      <td>1</td>\n",
       "    </tr>\n",
       "    <tr>\n",
       "      <th>150</th>\n",
       "      <td>from mrchris kolade marinalagosnigeriaalternat...</td>\n",
       "      <td>1</td>\n",
       "    </tr>\n",
       "  </tbody>\n",
       "</table>\n",
       "</div>\n",
       "      <button class=\"colab-df-convert\" onclick=\"convertToInteractive('df-a4bb5067-5011-462a-a0ae-dc6b0ddf211e')\"\n",
       "              title=\"Convert this dataframe to an interactive table.\"\n",
       "              style=\"display:none;\">\n",
       "\n",
       "  <svg xmlns=\"http://www.w3.org/2000/svg\" height=\"24px\"viewBox=\"0 0 24 24\"\n",
       "       width=\"24px\">\n",
       "    <path d=\"M0 0h24v24H0V0z\" fill=\"none\"/>\n",
       "    <path d=\"M18.56 5.44l.94 2.06.94-2.06 2.06-.94-2.06-.94-.94-2.06-.94 2.06-2.06.94zm-11 1L8.5 8.5l.94-2.06 2.06-.94-2.06-.94L8.5 2.5l-.94 2.06-2.06.94zm10 10l.94 2.06.94-2.06 2.06-.94-2.06-.94-.94-2.06-.94 2.06-2.06.94z\"/><path d=\"M17.41 7.96l-1.37-1.37c-.4-.4-.92-.59-1.43-.59-.52 0-1.04.2-1.43.59L10.3 9.45l-7.72 7.72c-.78.78-.78 2.05 0 2.83L4 21.41c.39.39.9.59 1.41.59.51 0 1.02-.2 1.41-.59l7.78-7.78 2.81-2.81c.8-.78.8-2.07 0-2.86zM5.41 20L4 18.59l7.72-7.72 1.47 1.35L5.41 20z\"/>\n",
       "  </svg>\n",
       "      </button>\n",
       "\n",
       "\n",
       "\n",
       "    <div id=\"df-d1ae93c4-a87c-429a-a993-adbe5ba8be41\">\n",
       "      <button class=\"colab-df-quickchart\" onclick=\"quickchart('df-d1ae93c4-a87c-429a-a993-adbe5ba8be41')\"\n",
       "              title=\"Suggest charts.\"\n",
       "              style=\"display:none;\">\n",
       "\n",
       "<svg xmlns=\"http://www.w3.org/2000/svg\" height=\"24px\"viewBox=\"0 0 24 24\"\n",
       "     width=\"24px\">\n",
       "    <g>\n",
       "        <path d=\"M19 3H5c-1.1 0-2 .9-2 2v14c0 1.1.9 2 2 2h14c1.1 0 2-.9 2-2V5c0-1.1-.9-2-2-2zM9 17H7v-7h2v7zm4 0h-2V7h2v10zm4 0h-2v-4h2v4z\"/>\n",
       "    </g>\n",
       "</svg>\n",
       "      </button>\n",
       "    </div>\n",
       "\n",
       "<style>\n",
       "  .colab-df-quickchart {\n",
       "    background-color: #E8F0FE;\n",
       "    border: none;\n",
       "    border-radius: 50%;\n",
       "    cursor: pointer;\n",
       "    display: none;\n",
       "    fill: #1967D2;\n",
       "    height: 32px;\n",
       "    padding: 0 0 0 0;\n",
       "    width: 32px;\n",
       "  }\n",
       "\n",
       "  .colab-df-quickchart:hover {\n",
       "    background-color: #E2EBFA;\n",
       "    box-shadow: 0px 1px 2px rgba(60, 64, 67, 0.3), 0px 1px 3px 1px rgba(60, 64, 67, 0.15);\n",
       "    fill: #174EA6;\n",
       "  }\n",
       "\n",
       "  [theme=dark] .colab-df-quickchart {\n",
       "    background-color: #3B4455;\n",
       "    fill: #D2E3FC;\n",
       "  }\n",
       "\n",
       "  [theme=dark] .colab-df-quickchart:hover {\n",
       "    background-color: #434B5C;\n",
       "    box-shadow: 0px 1px 3px 1px rgba(0, 0, 0, 0.15);\n",
       "    filter: drop-shadow(0px 1px 2px rgba(0, 0, 0, 0.3));\n",
       "    fill: #FFFFFF;\n",
       "  }\n",
       "</style>\n",
       "\n",
       "    <script>\n",
       "      async function quickchart(key) {\n",
       "        const containerElement = document.querySelector('#' + key);\n",
       "        const charts = await google.colab.kernel.invokeFunction(\n",
       "            'suggestCharts', [key], {});\n",
       "      }\n",
       "    </script>\n",
       "\n",
       "      <script>\n",
       "\n",
       "function displayQuickchartButton(domScope) {\n",
       "  let quickchartButtonEl =\n",
       "    domScope.querySelector('#df-d1ae93c4-a87c-429a-a993-adbe5ba8be41 button.colab-df-quickchart');\n",
       "  quickchartButtonEl.style.display =\n",
       "    google.colab.kernel.accessAllowed ? 'block' : 'none';\n",
       "}\n",
       "\n",
       "        displayQuickchartButton(document);\n",
       "      </script>\n",
       "      <style>\n",
       "    .colab-df-container {\n",
       "      display:flex;\n",
       "      flex-wrap:wrap;\n",
       "      gap: 12px;\n",
       "    }\n",
       "\n",
       "    .colab-df-convert {\n",
       "      background-color: #E8F0FE;\n",
       "      border: none;\n",
       "      border-radius: 50%;\n",
       "      cursor: pointer;\n",
       "      display: none;\n",
       "      fill: #1967D2;\n",
       "      height: 32px;\n",
       "      padding: 0 0 0 0;\n",
       "      width: 32px;\n",
       "    }\n",
       "\n",
       "    .colab-df-convert:hover {\n",
       "      background-color: #E2EBFA;\n",
       "      box-shadow: 0px 1px 2px rgba(60, 64, 67, 0.3), 0px 1px 3px 1px rgba(60, 64, 67, 0.15);\n",
       "      fill: #174EA6;\n",
       "    }\n",
       "\n",
       "    [theme=dark] .colab-df-convert {\n",
       "      background-color: #3B4455;\n",
       "      fill: #D2E3FC;\n",
       "    }\n",
       "\n",
       "    [theme=dark] .colab-df-convert:hover {\n",
       "      background-color: #434B5C;\n",
       "      box-shadow: 0px 1px 3px 1px rgba(0, 0, 0, 0.15);\n",
       "      filter: drop-shadow(0px 1px 2px rgba(0, 0, 0, 0.3));\n",
       "      fill: #FFFFFF;\n",
       "    }\n",
       "  </style>\n",
       "\n",
       "      <script>\n",
       "        const buttonEl =\n",
       "          document.querySelector('#df-a4bb5067-5011-462a-a0ae-dc6b0ddf211e button.colab-df-convert');\n",
       "        buttonEl.style.display =\n",
       "          google.colab.kernel.accessAllowed ? 'block' : 'none';\n",
       "\n",
       "        async function convertToInteractive(key) {\n",
       "          const element = document.querySelector('#df-a4bb5067-5011-462a-a0ae-dc6b0ddf211e');\n",
       "          const dataTable =\n",
       "            await google.colab.kernel.invokeFunction('convertToInteractive',\n",
       "                                                     [key], {});\n",
       "          if (!dataTable) return;\n",
       "\n",
       "          const docLinkHtml = 'Like what you see? Visit the ' +\n",
       "            '<a target=\"_blank\" href=https://colab.research.google.com/notebooks/data_table.ipynb>data table notebook</a>'\n",
       "            + ' to learn more about interactive tables.';\n",
       "          element.innerHTML = '';\n",
       "          dataTable['output_type'] = 'display_data';\n",
       "          await google.colab.output.renderOutput(dataTable, element);\n",
       "          const docLink = document.createElement('div');\n",
       "          docLink.innerHTML = docLinkHtml;\n",
       "          element.appendChild(docLink);\n",
       "        }\n",
       "      </script>\n",
       "    </div>\n",
       "  </div>\n"
      ],
      "text/plain": [
       "                                                  text  target\n",
       "315  emailmessagemessage object xcffd emailmessagem...       1\n",
       "321  dear friendmy name edward moore qcprincipal pa...       1\n",
       "34   from mr williams kabilatelfax  sir  urgent bus...       1\n",
       "290  my name sandra williams united kingdom i  year...       1\n",
       "150  from mrchris kolade marinalagosnigeriaalternat...       1"
      ]
     },
     "execution_count": 112,
     "metadata": {},
     "output_type": "execute_result"
    }
   ],
   "source": [
    "test_dataset_raw_gpt4.head()"
   ]
  },
  {
   "cell_type": "code",
   "execution_count": 113,
   "metadata": {
    "id": "sNyI2uhBOJSp"
   },
   "outputs": [],
   "source": [
    "merged_df_gpt4 = pd.concat([test_dataset_raw_0_25, test_dataset_raw_gpt4], ignore_index=True)\n",
    "\n",
    "# Shuffle the index\n",
    "test_125_df_gpt4 = merged_df_gpt4.sample(frac=1).reset_index(drop=True)"
   ]
  },
  {
   "cell_type": "code",
   "execution_count": 114,
   "metadata": {
    "id": "8Fb3429sOf6F"
   },
   "outputs": [],
   "source": [
    "test_encodings_125_gpt4 = tokenizer(test_125_df_gpt4['text'].tolist(), truncation=True, padding=True, max_length=256)\n",
    "\n",
    "test_dataset_125_gpt4 = tf.data.Dataset.from_tensor_slices((\n",
    "    dict(test_encodings_125_gpt4),\n",
    "    test_125_df_gpt4['target'].values\n",
    "))\n"
   ]
  },
  {
   "cell_type": "code",
   "execution_count": 115,
   "metadata": {
    "colab": {
     "base_uri": "https://localhost:8080/"
    },
    "id": "lwDN0VBZOgAM",
    "outputId": "e0c785c8-f487-41dd-fbd0-c8e6801fa0dc"
   },
   "outputs": [
    {
     "name": "stdout",
     "output_type": "stream",
     "text": [
      "8/8 [==============================] - 142s 17s/step\n",
      "              precision    recall  f1-score   support\n",
      "\n",
      "not phishing       1.00      0.99      0.99       100\n",
      "    phishing       0.96      1.00      0.98        25\n",
      "\n",
      "    accuracy                           0.99       125\n",
      "   macro avg       0.98      0.99      0.99       125\n",
      "weighted avg       0.99      0.99      0.99       125\n",
      "\n"
     ]
    }
   ],
   "source": [
    "test_encodings_125_gpt4_batched = test_dataset_125_gpt4.batch(16)\n",
    "y_pred_raw_125_gpt4 = model.predict(test_encodings_125_gpt4_batched)\n",
    "\n",
    "# Convert raw predictions to class predictions\n",
    "y_pred_125_gpt4 = np.argmax(y_pred_raw_125_gpt4.logits, axis=1)\n",
    "\n",
    "# Get the actual class labels\n",
    "y_true_125_gpt4 = []\n",
    "for features, label in test_dataset_125_gpt4:\n",
    "    y_true_125_gpt4.append(label.numpy())\n",
    "y_true_125_gpt4 = np.array(y_true_125_gpt4)\n",
    "\n",
    "\n",
    "# Generate a classification report\n",
    "report_125_gpt4 = classification_report(y_true_125_gpt4, y_pred_125_gpt4, target_names=[\"not phishing\", \"phishing\"])\n",
    "print(report_125_gpt4)"
   ]
  },
  {
   "cell_type": "code",
   "execution_count": null,
   "metadata": {
    "id": "dbYaHB11OgGE"
   },
   "outputs": [],
   "source": []
  },
  {
   "cell_type": "code",
   "execution_count": null,
   "metadata": {
    "id": "ZfZgeTH1OgMV"
   },
   "outputs": [],
   "source": []
  },
  {
   "cell_type": "code",
   "execution_count": null,
   "metadata": {
    "id": "YHqjRFi9OgSq"
   },
   "outputs": [],
   "source": []
  },
  {
   "cell_type": "code",
   "execution_count": null,
   "metadata": {
    "id": "ujKxuwgiOgZg"
   },
   "outputs": [],
   "source": []
  },
  {
   "cell_type": "code",
   "execution_count": null,
   "metadata": {
    "id": "shZ7wuwjOggG"
   },
   "outputs": [],
   "source": []
  },
  {
   "cell_type": "code",
   "execution_count": null,
   "metadata": {
    "id": "2GG-oZDGOgnQ"
   },
   "outputs": [],
   "source": []
  },
  {
   "cell_type": "code",
   "execution_count": null,
   "metadata": {
    "id": "MJuia59BOJX1"
   },
   "outputs": [],
   "source": []
  },
  {
   "cell_type": "code",
   "execution_count": null,
   "metadata": {
    "id": "_oL-mD8JOJdB"
   },
   "outputs": [],
   "source": []
  },
  {
   "cell_type": "code",
   "execution_count": null,
   "metadata": {
    "id": "enZ2OsYSCS_3"
   },
   "outputs": [],
   "source": []
  },
  {
   "cell_type": "code",
   "execution_count": null,
   "metadata": {
    "id": "qzgC5BGpCTE0"
   },
   "outputs": [],
   "source": []
  },
  {
   "cell_type": "markdown",
   "metadata": {
    "id": "1XY3rwdKNiAk"
   },
   "source": [
    "# chatgpt4 random"
   ]
  },
  {
   "cell_type": "code",
   "execution_count": 79,
   "metadata": {
    "id": "Y3R4awm9CUlq"
   },
   "outputs": [],
   "source": [
    "\n",
    "data1 = {'text': [\n",
    "    \"I hope this message finds you in good health. I am [Your Name], a Human Rights activist from [Your Location]. I am writing to seek your assistance for a mission I am working on, focusing on providing educational materials and healthcare support to underserved communities in our region. The lack of resources is our biggest challenge, and your generous contribution could go a long way to help. I would be extremely grateful for any financial support you can offer.\",\n",
    "    \"I am reaching out to you with a unique and potentially lucrative business proposal. I am looking for a trustworthy individual who can assist me in a profitable business venture. Due to my position as a government official, I am currently unable to move a considerable sum of money to a foreign account. I am requesting your assistance in this operation, promising a sizable percentage of the sum for your cooperation.\",\n",
    "    \"I am writing this email with a heavy heart, burdened by the financial obstacles preventing me from pursuing my dream of a college education. My name is [Your Name], and I was recently accepted into [College/University Name]. Unfortunately, due to my financial circumstances, I am struggling to pay my tuition fees. I humbly ask for your assistance in helping me continue my education.\",\n",
    "    \"I am [Your Name], a friend of [Patient's Name]. Unfortunately, [Patient's Name] has recently been diagnosed with [Disease Name] and the treatment cost is beyond what we can afford. The financial burden is overwhelming and I am asking for your help to raise funds for [Patient's Name]'s medical expenses.\",\n",
    "    \"I am writing on behalf of a Non-Governmental Organization that assists refugees. We are currently facing a severe funding crisis and are unable to extend the much-needed support to the displaced victims. I am reaching out to ask for your help. Your donation will help us provide essential supplies, medical care, and educational resources.\",\n",
    "    \"I am the coach of a local youth sports team, and we're preparing for the upcoming national championship. Unfortunately, we are struggling with a lack of resources to provide the necessary equipment for our young athletes. I am writing to ask for your generous contribution to help us equip these promising athletes.\",\n",
    "    \"I run an animal shelter that provides a safe haven for stray and abandoned animals. We are currently facing a financial crisis and are struggling to provide necessary medical care and shelter for these helpless animals. Your financial support can help us feed, treat, and find homes for these lovely animals.\",\n",
    "    \"As a researcher at [Your Institute's Name], I am leading a project on [Briefly Describe the Project]. Despite the promising nature of this research, we are currently facing financial constraints that are hindering our progress. I am writing to ask for your financial support to help us continue our groundbreaking work.\",\n",
    "    \"Our charity organization is actively involved in disaster relief work for the victims of the recent [Natural Disaster]. However, due to the scale of the disaster, we are struggling to keep up with the needs of the affected people. Any financial assistance you could provide would greatly help us in our mission.\",\n",
    "    \"I am a local artist working on a community art project. The aim is to use art as a medium to promote cultural awareness and unity in our community. Unfortunately, I lack the necessary funds to bring this project to life. Any financial support from your end would help immensely in executing this project.\"\n",
    "]}\n",
    "\n",
    "df1 = pd.DataFrame(data1)"
   ]
  },
  {
   "cell_type": "code",
   "execution_count": 80,
   "metadata": {
    "id": "eLfZj0yHCUtP"
   },
   "outputs": [],
   "source": [
    "data2 = {'text': [\n",
    "    \"Greetings! I am writing to you from the heart of a small, impoverished school in a rural area. Our school is the only source of education for the children in our community, who display an undeniable eagerness to learn and broaden their horizons. Unfortunately, we lack the basic facilities needed to provide these children with the quality education they deserve. Our classrooms are deteriorating, educational resources are scarce, and our hardworking teachers are struggling with the limited tools at their disposal. We humbly request your generous contributions to help us rebuild our school and create an environment conducive to learning for these deserving children.\",\n",
    "    \"Dear friend, this letter finds its way to you with a heavy heart. My name is [Your Name], and I served as a professor at [University Name] for over two decades. Recently, due to a series of unfortunate circumstances, I have found myself grappling with a dire financial situation. From health problems leading to skyrocketing medical bills to the financial market downturn affecting my savings, the road has been challenging. In these difficult times, I find myself turning to the kindness of individuals who may have the means to provide assistance. Any financial help, no matter how small, would go a long way in helping me navigate through these tough times.\",\n",
    "    \"Dear Sir/Madam, I am a single parent blessed with three beautiful children. Our world turned upside down when I recently lost my job due to company-wide layoffs as a result of the economic downturn. Since then, our days have been marred by uncertainty and struggles to make ends meet. I am doing my best to provide for my family and keep a roof over our heads, but it is becoming increasingly difficult with each passing day. I am writing to you today, in hope that you might find it in your heart to assist us during this difficult period. Your generous assistance, in any form or amount, will help us greatly.\",\n",
    "    \"Hello, I am writing on behalf of our local church, an establishment that has stood as a cornerstone of our community for over a century. Sadly, due to years of wear and tear, the church is in dire need of repairs. The roof is leaking, the paint is peeling, and our heating system is on its last legs. Without sufficient funds, we face the heartbreaking possibility of closing the church. As such, we are seeking donations to help us preserve this important community institution. We believe that with your help, we can restore the church to its former glory and continue serving our community.\",\n",
    "    \"Dear friend, I am an independent filmmaker currently working on a project that highlights the effects of climate change on indigenous communities. This documentary aims to bring attention to the often-overlooked victims of our changing environment, showcasing their resilience and struggle in the face of adversity. However, without the necessary funds, it has been challenging to provide this project the justice it deserves. Travel expenses, equipment rental, and post-production costs are proving to be overwhelming. I write to you in hopes of garnering financial support to help complete this crucial project. Any amount, big or small, will bring us closer to our goal.\",\n",
    "]}\n",
    "\n",
    "df2 = pd.DataFrame(data2)\n"
   ]
  },
  {
   "cell_type": "code",
   "execution_count": 81,
   "metadata": {
    "id": "fi6BoxK5CUzV"
   },
   "outputs": [],
   "source": [
    "data3 = {'text': [\n",
    "    \"Greetings! I am writing to you from the heart of a small, impoverished school in a rural area. Our school is the only source of education for the children in our community, who display an undeniable eagerness to learn and broaden their horizons. Unfortunately, we lack the basic facilities needed to provide these children with the quality education they deserve. Our classrooms are deteriorating, educational resources are scarce, and our hardworking teachers are struggling with the limited tools at their disposal. We humbly request your generous contributions to help us rebuild our school and create an environment conducive to learning for these deserving children.\",\n",
    "    \"Dear friend, this letter finds its way to you with a heavy heart. My name is [Your Name], and I served as a professor at [University Name] for over two decades. Recently, due to a series of unfortunate circumstances, I have found myself grappling with a dire financial situation. From health problems leading to skyrocketing medical bills to the financial market downturn affecting my savings, the road has been challenging. In these difficult times, I find myself turning to the kindness of individuals who may have the means to provide assistance. Any financial help, no matter how small, would go a long way in helping me navigate through these tough times.\",\n",
    "    \"Dear Sir/Madam, I am a single parent blessed with three beautiful children. Our world turned upside down when I recently lost my job due to company-wide layoffs as a result of the economic downturn. Since then, our days have been marred by uncertainty and struggles to make ends meet. I am doing my best to provide for my family and keep a roof over our heads, but it is becoming increasingly difficult with each passing day. I am writing to you today, in hope that you might find it in your heart to assist us during this difficult period. Your generous assistance, in any form or amount, will help us greatly.\",\n",
    "    \"Hello, I am writing on behalf of our local church, an establishment that has stood as a cornerstone of our community for over a century. Sadly, due to years of wear and tear, the church is in dire need of repairs. The roof is leaking, the paint is peeling, and our heating system is on its last legs. Without sufficient funds, we face the heartbreaking possibility of closing the church. As such, we are seeking donations to help us preserve this important community institution. We believe that with your help, we can restore the church to its former glory and continue serving our community.\",\n",
    "    \"Dear friend, I am an independent filmmaker currently working on a project that highlights the effects of climate change on indigenous communities. This documentary aims to bring attention to the often-overlooked victims of our changing environment, showcasing their resilience and struggle in the face of adversity. However, without the necessary funds, it has been challenging to provide this project the justice it deserves. Travel expenses, equipment rental, and post-production costs are proving to be overwhelming. I write to you in hopes of garnering financial support to help complete this crucial project. Any amount, big or small, will bring us closer to our goal.\",\n",
    "    \"Hello, my name is [Your Name] and I am an aspiring entrepreneur. I have developed an innovative product that I believe has the potential to make a significant impact in the [industry name]. I have devoted a great deal of time and personal savings into this project, but I now find myself at a standstill due to insufficient funding. I'm writing to request financial assistance to push this product to market. Your support would greatly help in covering manufacturing, marketing, and distribution costs. I sincerely believe in the potential of this product and I hope you would consider investing in its success.\",\n",
    "    \"Dear friend, I am a researcher at [Institution Name] and our team has been working tirelessly to find solutions for environmental challenges. However, scientific research often requires substantial funding. I'm writing to ask for your support. Your generous contribution would allow us to invest in essential equipment, expand our research team, and fund testing and experiments. Every donation brings us one step closer to realizing our goals for a cleaner, more sustainable world.\",\n",
    "    \"Hello, my name is [Your Name], and I am a struggling artist. I've dedicated my life to creating art that communicates the human experience, evokes emotion, and sparks thought. Unfortunately, art supplies and exhibition expenses are cost-prohibitive, often creating a barrier to my creative process. I'm writing to kindly ask for your financial assistance, which would provide much-needed support for purchasing materials and showcasing my work. Your generosity would significantly impact my ability to continue creating and sharing my art.\",\n",
    "    \"Dear Sir/Madam, I am a recent graduate carrying a substantial student loan. While I am actively seeking employment, my financial situation is precarious at best. Until I can secure a stable job, I am struggling to manage my day-to-day expenses and loan repayments. I am writing to ask for your help during this difficult time. Any assistance, financial or otherwise, would greatly alleviate the burden I am currently facing.\",\n",
    "    \"Hello, I am writing to you on behalf of a local animal shelter. We provide a safe haven for abused, abandoned, and stray animals, but operating costs are high and our resources are dwindling. From food and medical supplies to maintenance and staffing, every aspect of running the shelter needs funding. If you are in a position to help, we would greatly appreciate your support. Your donation could give an innocent animal a second chance at life.\"\n",
    "]}\n",
    "\n",
    "df3 = pd.DataFrame(data3)\n"
   ]
  },
  {
   "cell_type": "code",
   "execution_count": 82,
   "metadata": {
    "id": "fhizg6A3CU6F"
   },
   "outputs": [],
   "source": [
    "data_gpt4_random = pd.concat([df1,df2,df3], ignore_index=True)"
   ]
  },
  {
   "cell_type": "code",
   "execution_count": 83,
   "metadata": {
    "id": "4DVcnBmGCTlh"
   },
   "outputs": [],
   "source": [
    "data_gpt4_random['target'] = 1\n"
   ]
  },
  {
   "cell_type": "code",
   "execution_count": 84,
   "metadata": {
    "id": "4s9GyCN3AziJ"
   },
   "outputs": [],
   "source": [
    "merged_df_gpt4_random = pd.concat([test_dataset_raw_0_25, data_gpt4_random], ignore_index=True)\n",
    "\n",
    "# Shuffle the index\n",
    "test_125_df_gpt4_random = merged_df_gpt4_random.sample(frac=1).reset_index(drop=True)"
   ]
  },
  {
   "cell_type": "code",
   "execution_count": 85,
   "metadata": {
    "id": "oHoBAAh3MIn-"
   },
   "outputs": [],
   "source": [
    "test_encodings_125_gpt4_random = tokenizer(test_125_df_gpt4_random['text'].tolist(), truncation=True, padding=True, max_length=256)\n",
    "\n",
    "test_dataset_125_gpt4_random = tf.data.Dataset.from_tensor_slices((\n",
    "    dict(test_encodings_125_gpt4_random),\n",
    "    test_125_df_gpt4_random['target'].values\n",
    "))\n"
   ]
  },
  {
   "cell_type": "code",
   "execution_count": 87,
   "metadata": {
    "colab": {
     "base_uri": "https://localhost:8080/"
    },
    "id": "AOiRdsc9MItG",
    "outputId": "0803a2f9-b712-434c-f8e3-4e7a08d4d9ae"
   },
   "outputs": [
    {
     "name": "stdout",
     "output_type": "stream",
     "text": [
      "8/8 [==============================] - 153s 18s/step\n",
      "              precision    recall  f1-score   support\n",
      "\n",
      "not phishing       0.98      0.99      0.99       100\n",
      "    phishing       0.96      0.92      0.94        25\n",
      "\n",
      "    accuracy                           0.98       125\n",
      "   macro avg       0.97      0.96      0.96       125\n",
      "weighted avg       0.98      0.98      0.98       125\n",
      "\n"
     ]
    }
   ],
   "source": [
    "test_encodings_125_gpt4_random_batched = test_dataset_125_gpt4_random.batch(16)\n",
    "y_pred_raw_125_gpt4_random = model.predict(test_encodings_125_gpt4_random_batched)\n",
    "\n",
    "# Convert raw predictions to class predictions\n",
    "y_pred_125_gpt4_random = np.argmax(y_pred_raw_125_gpt4_random.logits, axis=1)\n",
    "\n",
    "# Get the actual class labels\n",
    "y_true_125_gpt4_random = []\n",
    "for features, label in test_dataset_125_gpt4_random:\n",
    "    y_true_125_gpt4_random.append(label.numpy())\n",
    "y_true_125_gpt4_random = np.array(y_true_125_gpt4_random)\n",
    "\n",
    "\n",
    "# Generate a classification report\n",
    "report_125_gpt4_random = classification_report(y_true_125_gpt4_random, y_pred_125_gpt4_random, target_names=[\"not phishing\", \"phishing\"])  # replace target_names with your actual class names\n",
    "print(report_125_gpt4_random)"
   ]
  },
  {
   "cell_type": "code",
   "execution_count": null,
   "metadata": {
    "id": "ElWZESZcMIzI"
   },
   "outputs": [],
   "source": []
  },
  {
   "cell_type": "code",
   "execution_count": null,
   "metadata": {
    "id": "ODU45agZMI4j"
   },
   "outputs": [],
   "source": []
  },
  {
   "cell_type": "code",
   "execution_count": null,
   "metadata": {
    "id": "uJGqnmJ-Aznc"
   },
   "outputs": [],
   "source": []
  }
 ],
 "metadata": {
  "colab": {
   "provenance": []
  },
  "kernelspec": {
   "display_name": "Python 3 (ipykernel)",
   "language": "python",
   "name": "python3"
  },
  "language_info": {
   "codemirror_mode": {
    "name": "ipython",
    "version": 3
   },
   "file_extension": ".py",
   "mimetype": "text/x-python",
   "name": "python",
   "nbconvert_exporter": "python",
   "pygments_lexer": "ipython3",
   "version": "3.8.12"
  },
  "toc": {
   "base_numbering": 1,
   "nav_menu": {},
   "number_sections": true,
   "sideBar": true,
   "skip_h1_title": false,
   "title_cell": "Table of Contents",
   "title_sidebar": "Contents",
   "toc_cell": false,
   "toc_position": {},
   "toc_section_display": true,
   "toc_window_display": false
  },
  "widgets": {
   "application/vnd.jupyter.widget-state+json": {
    "06eed7a0fef04a46a7d29a9b31b6c3fd": {
     "model_module": "@jupyter-widgets/controls",
     "model_module_version": "1.5.0",
     "model_name": "HBoxModel",
     "state": {
      "_dom_classes": [],
      "_model_module": "@jupyter-widgets/controls",
      "_model_module_version": "1.5.0",
      "_model_name": "HBoxModel",
      "_view_count": null,
      "_view_module": "@jupyter-widgets/controls",
      "_view_module_version": "1.5.0",
      "_view_name": "HBoxView",
      "box_style": "",
      "children": [
       "IPY_MODEL_7358154811bb4a00b13793400433e548",
       "IPY_MODEL_8c6381655b9f403e9027cd1d460bdad1",
       "IPY_MODEL_f6833866b5bd42b3be8152b3ecf46e91"
      ],
      "layout": "IPY_MODEL_dde840174f164f74a9c609d18fd683f3"
     }
    },
    "06f77c3a2c644d3c881b957f265fa15e": {
     "model_module": "@jupyter-widgets/controls",
     "model_module_version": "1.5.0",
     "model_name": "HTMLModel",
     "state": {
      "_dom_classes": [],
      "_model_module": "@jupyter-widgets/controls",
      "_model_module_version": "1.5.0",
      "_model_name": "HTMLModel",
      "_view_count": null,
      "_view_module": "@jupyter-widgets/controls",
      "_view_module_version": "1.5.0",
      "_view_name": "HTMLView",
      "description": "",
      "description_tooltip": null,
      "layout": "IPY_MODEL_51a2ce5d21974662bb08e6791199fda7",
      "placeholder": "​",
      "style": "IPY_MODEL_305003b3d2b84012a4e7ee82110d7b82",
      "value": " 499M/499M [00:07&lt;00:00, 88.3MB/s]"
     }
    },
    "0e7bc217a06049769a9eea91da50e8b7": {
     "model_module": "@jupyter-widgets/base",
     "model_module_version": "1.2.0",
     "model_name": "LayoutModel",
     "state": {
      "_model_module": "@jupyter-widgets/base",
      "_model_module_version": "1.2.0",
      "_model_name": "LayoutModel",
      "_view_count": null,
      "_view_module": "@jupyter-widgets/base",
      "_view_module_version": "1.2.0",
      "_view_name": "LayoutView",
      "align_content": null,
      "align_items": null,
      "align_self": null,
      "border": null,
      "bottom": null,
      "display": null,
      "flex": null,
      "flex_flow": null,
      "grid_area": null,
      "grid_auto_columns": null,
      "grid_auto_flow": null,
      "grid_auto_rows": null,
      "grid_column": null,
      "grid_gap": null,
      "grid_row": null,
      "grid_template_areas": null,
      "grid_template_columns": null,
      "grid_template_rows": null,
      "height": null,
      "justify_content": null,
      "justify_items": null,
      "left": null,
      "margin": null,
      "max_height": null,
      "max_width": null,
      "min_height": null,
      "min_width": null,
      "object_fit": null,
      "object_position": null,
      "order": null,
      "overflow": null,
      "overflow_x": null,
      "overflow_y": null,
      "padding": null,
      "right": null,
      "top": null,
      "visibility": null,
      "width": null
     }
    },
    "15c2870013fd43928a1342ad90d4ebe2": {
     "model_module": "@jupyter-widgets/base",
     "model_module_version": "1.2.0",
     "model_name": "LayoutModel",
     "state": {
      "_model_module": "@jupyter-widgets/base",
      "_model_module_version": "1.2.0",
      "_model_name": "LayoutModel",
      "_view_count": null,
      "_view_module": "@jupyter-widgets/base",
      "_view_module_version": "1.2.0",
      "_view_name": "LayoutView",
      "align_content": null,
      "align_items": null,
      "align_self": null,
      "border": null,
      "bottom": null,
      "display": null,
      "flex": null,
      "flex_flow": null,
      "grid_area": null,
      "grid_auto_columns": null,
      "grid_auto_flow": null,
      "grid_auto_rows": null,
      "grid_column": null,
      "grid_gap": null,
      "grid_row": null,
      "grid_template_areas": null,
      "grid_template_columns": null,
      "grid_template_rows": null,
      "height": null,
      "justify_content": null,
      "justify_items": null,
      "left": null,
      "margin": null,
      "max_height": null,
      "max_width": null,
      "min_height": null,
      "min_width": null,
      "object_fit": null,
      "object_position": null,
      "order": null,
      "overflow": null,
      "overflow_x": null,
      "overflow_y": null,
      "padding": null,
      "right": null,
      "top": null,
      "visibility": null,
      "width": null
     }
    },
    "189d3ca392b84eb48fbb8682a20e89b0": {
     "model_module": "@jupyter-widgets/base",
     "model_module_version": "1.2.0",
     "model_name": "LayoutModel",
     "state": {
      "_model_module": "@jupyter-widgets/base",
      "_model_module_version": "1.2.0",
      "_model_name": "LayoutModel",
      "_view_count": null,
      "_view_module": "@jupyter-widgets/base",
      "_view_module_version": "1.2.0",
      "_view_name": "LayoutView",
      "align_content": null,
      "align_items": null,
      "align_self": null,
      "border": null,
      "bottom": null,
      "display": null,
      "flex": null,
      "flex_flow": null,
      "grid_area": null,
      "grid_auto_columns": null,
      "grid_auto_flow": null,
      "grid_auto_rows": null,
      "grid_column": null,
      "grid_gap": null,
      "grid_row": null,
      "grid_template_areas": null,
      "grid_template_columns": null,
      "grid_template_rows": null,
      "height": null,
      "justify_content": null,
      "justify_items": null,
      "left": null,
      "margin": null,
      "max_height": null,
      "max_width": null,
      "min_height": null,
      "min_width": null,
      "object_fit": null,
      "object_position": null,
      "order": null,
      "overflow": null,
      "overflow_x": null,
      "overflow_y": null,
      "padding": null,
      "right": null,
      "top": null,
      "visibility": null,
      "width": null
     }
    },
    "20bcc5180b5549bca84be2b1993bfa49": {
     "model_module": "@jupyter-widgets/controls",
     "model_module_version": "1.5.0",
     "model_name": "DescriptionStyleModel",
     "state": {
      "_model_module": "@jupyter-widgets/controls",
      "_model_module_version": "1.5.0",
      "_model_name": "DescriptionStyleModel",
      "_view_count": null,
      "_view_module": "@jupyter-widgets/base",
      "_view_module_version": "1.2.0",
      "_view_name": "StyleView",
      "description_width": ""
     }
    },
    "21cfc53c41864ddbb555f98b54ddbae3": {
     "model_module": "@jupyter-widgets/controls",
     "model_module_version": "1.5.0",
     "model_name": "HTMLModel",
     "state": {
      "_dom_classes": [],
      "_model_module": "@jupyter-widgets/controls",
      "_model_module_version": "1.5.0",
      "_model_name": "HTMLModel",
      "_view_count": null,
      "_view_module": "@jupyter-widgets/controls",
      "_view_module_version": "1.5.0",
      "_view_name": "HTMLView",
      "description": "",
      "description_tooltip": null,
      "layout": "IPY_MODEL_db93475de7c34987b8c695598b38e48d",
      "placeholder": "​",
      "style": "IPY_MODEL_20bcc5180b5549bca84be2b1993bfa49",
      "value": "Downloading (…)olve/main/vocab.json: 100%"
     }
    },
    "28f5732af051476b9b37029b09ea2844": {
     "model_module": "@jupyter-widgets/controls",
     "model_module_version": "1.5.0",
     "model_name": "FloatProgressModel",
     "state": {
      "_dom_classes": [],
      "_model_module": "@jupyter-widgets/controls",
      "_model_module_version": "1.5.0",
      "_model_name": "FloatProgressModel",
      "_view_count": null,
      "_view_module": "@jupyter-widgets/controls",
      "_view_module_version": "1.5.0",
      "_view_name": "ProgressView",
      "bar_style": "success",
      "description": "",
      "description_tooltip": null,
      "layout": "IPY_MODEL_0e7bc217a06049769a9eea91da50e8b7",
      "max": 481,
      "min": 0,
      "orientation": "horizontal",
      "style": "IPY_MODEL_5f4639a6df3245368a64f0953fade448",
      "value": 481
     }
    },
    "305003b3d2b84012a4e7ee82110d7b82": {
     "model_module": "@jupyter-widgets/controls",
     "model_module_version": "1.5.0",
     "model_name": "DescriptionStyleModel",
     "state": {
      "_model_module": "@jupyter-widgets/controls",
      "_model_module_version": "1.5.0",
      "_model_name": "DescriptionStyleModel",
      "_view_count": null,
      "_view_module": "@jupyter-widgets/base",
      "_view_module_version": "1.2.0",
      "_view_name": "StyleView",
      "description_width": ""
     }
    },
    "3a61929a2a07450b88f74a7e9eeb944f": {
     "model_module": "@jupyter-widgets/controls",
     "model_module_version": "1.5.0",
     "model_name": "DescriptionStyleModel",
     "state": {
      "_model_module": "@jupyter-widgets/controls",
      "_model_module_version": "1.5.0",
      "_model_name": "DescriptionStyleModel",
      "_view_count": null,
      "_view_module": "@jupyter-widgets/base",
      "_view_module_version": "1.2.0",
      "_view_name": "StyleView",
      "description_width": ""
     }
    },
    "41b01f99b06745209e8108d5c0a4f9a5": {
     "model_module": "@jupyter-widgets/controls",
     "model_module_version": "1.5.0",
     "model_name": "HBoxModel",
     "state": {
      "_dom_classes": [],
      "_model_module": "@jupyter-widgets/controls",
      "_model_module_version": "1.5.0",
      "_model_name": "HBoxModel",
      "_view_count": null,
      "_view_module": "@jupyter-widgets/controls",
      "_view_module_version": "1.5.0",
      "_view_name": "HBoxView",
      "box_style": "",
      "children": [
       "IPY_MODEL_21cfc53c41864ddbb555f98b54ddbae3",
       "IPY_MODEL_eed3382cf5a74284ab2a1a332931016a",
       "IPY_MODEL_eaf6cc7dabf7492dab51da8bc144f072"
      ],
      "layout": "IPY_MODEL_fc92122d02254fe69d640960c77e39b8"
     }
    },
    "4432797278e64451b2e799f29d0a2abf": {
     "model_module": "@jupyter-widgets/controls",
     "model_module_version": "1.5.0",
     "model_name": "HBoxModel",
     "state": {
      "_dom_classes": [],
      "_model_module": "@jupyter-widgets/controls",
      "_model_module_version": "1.5.0",
      "_model_name": "HBoxModel",
      "_view_count": null,
      "_view_module": "@jupyter-widgets/controls",
      "_view_module_version": "1.5.0",
      "_view_name": "HBoxView",
      "box_style": "",
      "children": [
       "IPY_MODEL_59a66d5f0613427ab85b51e95c06ce31",
       "IPY_MODEL_9de735bbf564460c9ec61f167cfc82c2",
       "IPY_MODEL_06f77c3a2c644d3c881b957f265fa15e"
      ],
      "layout": "IPY_MODEL_96f8ae90c6a9455f85ddbb202f5922e4"
     }
    },
    "4fbc46949b6845c5ad2213c7d7ccb6ed": {
     "model_module": "@jupyter-widgets/base",
     "model_module_version": "1.2.0",
     "model_name": "LayoutModel",
     "state": {
      "_model_module": "@jupyter-widgets/base",
      "_model_module_version": "1.2.0",
      "_model_name": "LayoutModel",
      "_view_count": null,
      "_view_module": "@jupyter-widgets/base",
      "_view_module_version": "1.2.0",
      "_view_name": "LayoutView",
      "align_content": null,
      "align_items": null,
      "align_self": null,
      "border": null,
      "bottom": null,
      "display": null,
      "flex": null,
      "flex_flow": null,
      "grid_area": null,
      "grid_auto_columns": null,
      "grid_auto_flow": null,
      "grid_auto_rows": null,
      "grid_column": null,
      "grid_gap": null,
      "grid_row": null,
      "grid_template_areas": null,
      "grid_template_columns": null,
      "grid_template_rows": null,
      "height": null,
      "justify_content": null,
      "justify_items": null,
      "left": null,
      "margin": null,
      "max_height": null,
      "max_width": null,
      "min_height": null,
      "min_width": null,
      "object_fit": null,
      "object_position": null,
      "order": null,
      "overflow": null,
      "overflow_x": null,
      "overflow_y": null,
      "padding": null,
      "right": null,
      "top": null,
      "visibility": null,
      "width": null
     }
    },
    "51a2ce5d21974662bb08e6791199fda7": {
     "model_module": "@jupyter-widgets/base",
     "model_module_version": "1.2.0",
     "model_name": "LayoutModel",
     "state": {
      "_model_module": "@jupyter-widgets/base",
      "_model_module_version": "1.2.0",
      "_model_name": "LayoutModel",
      "_view_count": null,
      "_view_module": "@jupyter-widgets/base",
      "_view_module_version": "1.2.0",
      "_view_name": "LayoutView",
      "align_content": null,
      "align_items": null,
      "align_self": null,
      "border": null,
      "bottom": null,
      "display": null,
      "flex": null,
      "flex_flow": null,
      "grid_area": null,
      "grid_auto_columns": null,
      "grid_auto_flow": null,
      "grid_auto_rows": null,
      "grid_column": null,
      "grid_gap": null,
      "grid_row": null,
      "grid_template_areas": null,
      "grid_template_columns": null,
      "grid_template_rows": null,
      "height": null,
      "justify_content": null,
      "justify_items": null,
      "left": null,
      "margin": null,
      "max_height": null,
      "max_width": null,
      "min_height": null,
      "min_width": null,
      "object_fit": null,
      "object_position": null,
      "order": null,
      "overflow": null,
      "overflow_x": null,
      "overflow_y": null,
      "padding": null,
      "right": null,
      "top": null,
      "visibility": null,
      "width": null
     }
    },
    "5771b9302005446c9fcae4bcc946c4d1": {
     "model_module": "@jupyter-widgets/base",
     "model_module_version": "1.2.0",
     "model_name": "LayoutModel",
     "state": {
      "_model_module": "@jupyter-widgets/base",
      "_model_module_version": "1.2.0",
      "_model_name": "LayoutModel",
      "_view_count": null,
      "_view_module": "@jupyter-widgets/base",
      "_view_module_version": "1.2.0",
      "_view_name": "LayoutView",
      "align_content": null,
      "align_items": null,
      "align_self": null,
      "border": null,
      "bottom": null,
      "display": null,
      "flex": null,
      "flex_flow": null,
      "grid_area": null,
      "grid_auto_columns": null,
      "grid_auto_flow": null,
      "grid_auto_rows": null,
      "grid_column": null,
      "grid_gap": null,
      "grid_row": null,
      "grid_template_areas": null,
      "grid_template_columns": null,
      "grid_template_rows": null,
      "height": null,
      "justify_content": null,
      "justify_items": null,
      "left": null,
      "margin": null,
      "max_height": null,
      "max_width": null,
      "min_height": null,
      "min_width": null,
      "object_fit": null,
      "object_position": null,
      "order": null,
      "overflow": null,
      "overflow_x": null,
      "overflow_y": null,
      "padding": null,
      "right": null,
      "top": null,
      "visibility": null,
      "width": null
     }
    },
    "580a9e9e19504e66bae296d8eabe350e": {
     "model_module": "@jupyter-widgets/base",
     "model_module_version": "1.2.0",
     "model_name": "LayoutModel",
     "state": {
      "_model_module": "@jupyter-widgets/base",
      "_model_module_version": "1.2.0",
      "_model_name": "LayoutModel",
      "_view_count": null,
      "_view_module": "@jupyter-widgets/base",
      "_view_module_version": "1.2.0",
      "_view_name": "LayoutView",
      "align_content": null,
      "align_items": null,
      "align_self": null,
      "border": null,
      "bottom": null,
      "display": null,
      "flex": null,
      "flex_flow": null,
      "grid_area": null,
      "grid_auto_columns": null,
      "grid_auto_flow": null,
      "grid_auto_rows": null,
      "grid_column": null,
      "grid_gap": null,
      "grid_row": null,
      "grid_template_areas": null,
      "grid_template_columns": null,
      "grid_template_rows": null,
      "height": null,
      "justify_content": null,
      "justify_items": null,
      "left": null,
      "margin": null,
      "max_height": null,
      "max_width": null,
      "min_height": null,
      "min_width": null,
      "object_fit": null,
      "object_position": null,
      "order": null,
      "overflow": null,
      "overflow_x": null,
      "overflow_y": null,
      "padding": null,
      "right": null,
      "top": null,
      "visibility": null,
      "width": null
     }
    },
    "59a66d5f0613427ab85b51e95c06ce31": {
     "model_module": "@jupyter-widgets/controls",
     "model_module_version": "1.5.0",
     "model_name": "HTMLModel",
     "state": {
      "_dom_classes": [],
      "_model_module": "@jupyter-widgets/controls",
      "_model_module_version": "1.5.0",
      "_model_name": "HTMLModel",
      "_view_count": null,
      "_view_module": "@jupyter-widgets/controls",
      "_view_module_version": "1.5.0",
      "_view_name": "HTMLView",
      "description": "",
      "description_tooltip": null,
      "layout": "IPY_MODEL_4fbc46949b6845c5ad2213c7d7ccb6ed",
      "placeholder": "​",
      "style": "IPY_MODEL_d7762ddba2144c8fba3b9038512e2559",
      "value": "Downloading model.safetensors: 100%"
     }
    },
    "59bb0783c92b49d4ad8ddd80cef9953c": {
     "model_module": "@jupyter-widgets/controls",
     "model_module_version": "1.5.0",
     "model_name": "DescriptionStyleModel",
     "state": {
      "_model_module": "@jupyter-widgets/controls",
      "_model_module_version": "1.5.0",
      "_model_name": "DescriptionStyleModel",
      "_view_count": null,
      "_view_module": "@jupyter-widgets/base",
      "_view_module_version": "1.2.0",
      "_view_name": "StyleView",
      "description_width": ""
     }
    },
    "5f4639a6df3245368a64f0953fade448": {
     "model_module": "@jupyter-widgets/controls",
     "model_module_version": "1.5.0",
     "model_name": "ProgressStyleModel",
     "state": {
      "_model_module": "@jupyter-widgets/controls",
      "_model_module_version": "1.5.0",
      "_model_name": "ProgressStyleModel",
      "_view_count": null,
      "_view_module": "@jupyter-widgets/base",
      "_view_module_version": "1.2.0",
      "_view_name": "StyleView",
      "bar_color": null,
      "description_width": ""
     }
    },
    "67f54f7bcbd64e65ab03b85ec1b5834c": {
     "model_module": "@jupyter-widgets/controls",
     "model_module_version": "1.5.0",
     "model_name": "HBoxModel",
     "state": {
      "_dom_classes": [],
      "_model_module": "@jupyter-widgets/controls",
      "_model_module_version": "1.5.0",
      "_model_name": "HBoxModel",
      "_view_count": null,
      "_view_module": "@jupyter-widgets/controls",
      "_view_module_version": "1.5.0",
      "_view_name": "HBoxView",
      "box_style": "",
      "children": [
       "IPY_MODEL_fd5c8ab6750b4c4f94788ef5a878d6d3",
       "IPY_MODEL_28f5732af051476b9b37029b09ea2844",
       "IPY_MODEL_a11eaf2881ab4cfd8dc7381d7f7870f2"
      ],
      "layout": "IPY_MODEL_8ca0a8f541c6442f9765ebd3b59c90c9"
     }
    },
    "719ee5152aa74aa8aaab39d5e721e3a2": {
     "model_module": "@jupyter-widgets/controls",
     "model_module_version": "1.5.0",
     "model_name": "DescriptionStyleModel",
     "state": {
      "_model_module": "@jupyter-widgets/controls",
      "_model_module_version": "1.5.0",
      "_model_name": "DescriptionStyleModel",
      "_view_count": null,
      "_view_module": "@jupyter-widgets/base",
      "_view_module_version": "1.2.0",
      "_view_name": "StyleView",
      "description_width": ""
     }
    },
    "7358154811bb4a00b13793400433e548": {
     "model_module": "@jupyter-widgets/controls",
     "model_module_version": "1.5.0",
     "model_name": "HTMLModel",
     "state": {
      "_dom_classes": [],
      "_model_module": "@jupyter-widgets/controls",
      "_model_module_version": "1.5.0",
      "_model_name": "HTMLModel",
      "_view_count": null,
      "_view_module": "@jupyter-widgets/controls",
      "_view_module_version": "1.5.0",
      "_view_name": "HTMLView",
      "description": "",
      "description_tooltip": null,
      "layout": "IPY_MODEL_189d3ca392b84eb48fbb8682a20e89b0",
      "placeholder": "​",
      "style": "IPY_MODEL_c2d1132eb0ce437c9810daa035e40d9b",
      "value": "Downloading (…)olve/main/merges.txt: 100%"
     }
    },
    "7ef0a80449e34ceaa01aaf8bba85b4ad": {
     "model_module": "@jupyter-widgets/controls",
     "model_module_version": "1.5.0",
     "model_name": "ProgressStyleModel",
     "state": {
      "_model_module": "@jupyter-widgets/controls",
      "_model_module_version": "1.5.0",
      "_model_name": "ProgressStyleModel",
      "_view_count": null,
      "_view_module": "@jupyter-widgets/base",
      "_view_module_version": "1.2.0",
      "_view_name": "StyleView",
      "bar_color": null,
      "description_width": ""
     }
    },
    "8c6381655b9f403e9027cd1d460bdad1": {
     "model_module": "@jupyter-widgets/controls",
     "model_module_version": "1.5.0",
     "model_name": "FloatProgressModel",
     "state": {
      "_dom_classes": [],
      "_model_module": "@jupyter-widgets/controls",
      "_model_module_version": "1.5.0",
      "_model_name": "FloatProgressModel",
      "_view_count": null,
      "_view_module": "@jupyter-widgets/controls",
      "_view_module_version": "1.5.0",
      "_view_name": "ProgressView",
      "bar_style": "success",
      "description": "",
      "description_tooltip": null,
      "layout": "IPY_MODEL_5771b9302005446c9fcae4bcc946c4d1",
      "max": 456318,
      "min": 0,
      "orientation": "horizontal",
      "style": "IPY_MODEL_c83adfd74d3c40e19fb4642fb3ce5400",
      "value": 456318
     }
    },
    "8ca0a8f541c6442f9765ebd3b59c90c9": {
     "model_module": "@jupyter-widgets/base",
     "model_module_version": "1.2.0",
     "model_name": "LayoutModel",
     "state": {
      "_model_module": "@jupyter-widgets/base",
      "_model_module_version": "1.2.0",
      "_model_name": "LayoutModel",
      "_view_count": null,
      "_view_module": "@jupyter-widgets/base",
      "_view_module_version": "1.2.0",
      "_view_name": "LayoutView",
      "align_content": null,
      "align_items": null,
      "align_self": null,
      "border": null,
      "bottom": null,
      "display": null,
      "flex": null,
      "flex_flow": null,
      "grid_area": null,
      "grid_auto_columns": null,
      "grid_auto_flow": null,
      "grid_auto_rows": null,
      "grid_column": null,
      "grid_gap": null,
      "grid_row": null,
      "grid_template_areas": null,
      "grid_template_columns": null,
      "grid_template_rows": null,
      "height": null,
      "justify_content": null,
      "justify_items": null,
      "left": null,
      "margin": null,
      "max_height": null,
      "max_width": null,
      "min_height": null,
      "min_width": null,
      "object_fit": null,
      "object_position": null,
      "order": null,
      "overflow": null,
      "overflow_x": null,
      "overflow_y": null,
      "padding": null,
      "right": null,
      "top": null,
      "visibility": null,
      "width": null
     }
    },
    "96f8ae90c6a9455f85ddbb202f5922e4": {
     "model_module": "@jupyter-widgets/base",
     "model_module_version": "1.2.0",
     "model_name": "LayoutModel",
     "state": {
      "_model_module": "@jupyter-widgets/base",
      "_model_module_version": "1.2.0",
      "_model_name": "LayoutModel",
      "_view_count": null,
      "_view_module": "@jupyter-widgets/base",
      "_view_module_version": "1.2.0",
      "_view_name": "LayoutView",
      "align_content": null,
      "align_items": null,
      "align_self": null,
      "border": null,
      "bottom": null,
      "display": null,
      "flex": null,
      "flex_flow": null,
      "grid_area": null,
      "grid_auto_columns": null,
      "grid_auto_flow": null,
      "grid_auto_rows": null,
      "grid_column": null,
      "grid_gap": null,
      "grid_row": null,
      "grid_template_areas": null,
      "grid_template_columns": null,
      "grid_template_rows": null,
      "height": null,
      "justify_content": null,
      "justify_items": null,
      "left": null,
      "margin": null,
      "max_height": null,
      "max_width": null,
      "min_height": null,
      "min_width": null,
      "object_fit": null,
      "object_position": null,
      "order": null,
      "overflow": null,
      "overflow_x": null,
      "overflow_y": null,
      "padding": null,
      "right": null,
      "top": null,
      "visibility": null,
      "width": null
     }
    },
    "9de735bbf564460c9ec61f167cfc82c2": {
     "model_module": "@jupyter-widgets/controls",
     "model_module_version": "1.5.0",
     "model_name": "FloatProgressModel",
     "state": {
      "_dom_classes": [],
      "_model_module": "@jupyter-widgets/controls",
      "_model_module_version": "1.5.0",
      "_model_name": "FloatProgressModel",
      "_view_count": null,
      "_view_module": "@jupyter-widgets/controls",
      "_view_module_version": "1.5.0",
      "_view_name": "ProgressView",
      "bar_style": "success",
      "description": "",
      "description_tooltip": null,
      "layout": "IPY_MODEL_c02225ef5016497c81ae00e59b9f88b7",
      "max": 498818054,
      "min": 0,
      "orientation": "horizontal",
      "style": "IPY_MODEL_a6c7e93881ce4250927a1f40421406c2",
      "value": 498818054
     }
    },
    "9efdd8e717c3464ca7478ad544b48e36": {
     "model_module": "@jupyter-widgets/controls",
     "model_module_version": "1.5.0",
     "model_name": "DescriptionStyleModel",
     "state": {
      "_model_module": "@jupyter-widgets/controls",
      "_model_module_version": "1.5.0",
      "_model_name": "DescriptionStyleModel",
      "_view_count": null,
      "_view_module": "@jupyter-widgets/base",
      "_view_module_version": "1.2.0",
      "_view_name": "StyleView",
      "description_width": ""
     }
    },
    "a11eaf2881ab4cfd8dc7381d7f7870f2": {
     "model_module": "@jupyter-widgets/controls",
     "model_module_version": "1.5.0",
     "model_name": "HTMLModel",
     "state": {
      "_dom_classes": [],
      "_model_module": "@jupyter-widgets/controls",
      "_model_module_version": "1.5.0",
      "_model_name": "HTMLModel",
      "_view_count": null,
      "_view_module": "@jupyter-widgets/controls",
      "_view_module_version": "1.5.0",
      "_view_name": "HTMLView",
      "description": "",
      "description_tooltip": null,
      "layout": "IPY_MODEL_580a9e9e19504e66bae296d8eabe350e",
      "placeholder": "​",
      "style": "IPY_MODEL_719ee5152aa74aa8aaab39d5e721e3a2",
      "value": " 481/481 [00:00&lt;00:00, 3.77kB/s]"
     }
    },
    "a6c7e93881ce4250927a1f40421406c2": {
     "model_module": "@jupyter-widgets/controls",
     "model_module_version": "1.5.0",
     "model_name": "ProgressStyleModel",
     "state": {
      "_model_module": "@jupyter-widgets/controls",
      "_model_module_version": "1.5.0",
      "_model_name": "ProgressStyleModel",
      "_view_count": null,
      "_view_module": "@jupyter-widgets/base",
      "_view_module_version": "1.2.0",
      "_view_name": "StyleView",
      "bar_color": null,
      "description_width": ""
     }
    },
    "c02225ef5016497c81ae00e59b9f88b7": {
     "model_module": "@jupyter-widgets/base",
     "model_module_version": "1.2.0",
     "model_name": "LayoutModel",
     "state": {
      "_model_module": "@jupyter-widgets/base",
      "_model_module_version": "1.2.0",
      "_model_name": "LayoutModel",
      "_view_count": null,
      "_view_module": "@jupyter-widgets/base",
      "_view_module_version": "1.2.0",
      "_view_name": "LayoutView",
      "align_content": null,
      "align_items": null,
      "align_self": null,
      "border": null,
      "bottom": null,
      "display": null,
      "flex": null,
      "flex_flow": null,
      "grid_area": null,
      "grid_auto_columns": null,
      "grid_auto_flow": null,
      "grid_auto_rows": null,
      "grid_column": null,
      "grid_gap": null,
      "grid_row": null,
      "grid_template_areas": null,
      "grid_template_columns": null,
      "grid_template_rows": null,
      "height": null,
      "justify_content": null,
      "justify_items": null,
      "left": null,
      "margin": null,
      "max_height": null,
      "max_width": null,
      "min_height": null,
      "min_width": null,
      "object_fit": null,
      "object_position": null,
      "order": null,
      "overflow": null,
      "overflow_x": null,
      "overflow_y": null,
      "padding": null,
      "right": null,
      "top": null,
      "visibility": null,
      "width": null
     }
    },
    "c2d1132eb0ce437c9810daa035e40d9b": {
     "model_module": "@jupyter-widgets/controls",
     "model_module_version": "1.5.0",
     "model_name": "DescriptionStyleModel",
     "state": {
      "_model_module": "@jupyter-widgets/controls",
      "_model_module_version": "1.5.0",
      "_model_name": "DescriptionStyleModel",
      "_view_count": null,
      "_view_module": "@jupyter-widgets/base",
      "_view_module_version": "1.2.0",
      "_view_name": "StyleView",
      "description_width": ""
     }
    },
    "c83adfd74d3c40e19fb4642fb3ce5400": {
     "model_module": "@jupyter-widgets/controls",
     "model_module_version": "1.5.0",
     "model_name": "ProgressStyleModel",
     "state": {
      "_model_module": "@jupyter-widgets/controls",
      "_model_module_version": "1.5.0",
      "_model_name": "ProgressStyleModel",
      "_view_count": null,
      "_view_module": "@jupyter-widgets/base",
      "_view_module_version": "1.2.0",
      "_view_name": "StyleView",
      "bar_color": null,
      "description_width": ""
     }
    },
    "ca29cd9344da4b3b94d5eeca5dbee1d3": {
     "model_module": "@jupyter-widgets/base",
     "model_module_version": "1.2.0",
     "model_name": "LayoutModel",
     "state": {
      "_model_module": "@jupyter-widgets/base",
      "_model_module_version": "1.2.0",
      "_model_name": "LayoutModel",
      "_view_count": null,
      "_view_module": "@jupyter-widgets/base",
      "_view_module_version": "1.2.0",
      "_view_name": "LayoutView",
      "align_content": null,
      "align_items": null,
      "align_self": null,
      "border": null,
      "bottom": null,
      "display": null,
      "flex": null,
      "flex_flow": null,
      "grid_area": null,
      "grid_auto_columns": null,
      "grid_auto_flow": null,
      "grid_auto_rows": null,
      "grid_column": null,
      "grid_gap": null,
      "grid_row": null,
      "grid_template_areas": null,
      "grid_template_columns": null,
      "grid_template_rows": null,
      "height": null,
      "justify_content": null,
      "justify_items": null,
      "left": null,
      "margin": null,
      "max_height": null,
      "max_width": null,
      "min_height": null,
      "min_width": null,
      "object_fit": null,
      "object_position": null,
      "order": null,
      "overflow": null,
      "overflow_x": null,
      "overflow_y": null,
      "padding": null,
      "right": null,
      "top": null,
      "visibility": null,
      "width": null
     }
    },
    "d637b408a8c548ffbb27f62549fd7d1f": {
     "model_module": "@jupyter-widgets/base",
     "model_module_version": "1.2.0",
     "model_name": "LayoutModel",
     "state": {
      "_model_module": "@jupyter-widgets/base",
      "_model_module_version": "1.2.0",
      "_model_name": "LayoutModel",
      "_view_count": null,
      "_view_module": "@jupyter-widgets/base",
      "_view_module_version": "1.2.0",
      "_view_name": "LayoutView",
      "align_content": null,
      "align_items": null,
      "align_self": null,
      "border": null,
      "bottom": null,
      "display": null,
      "flex": null,
      "flex_flow": null,
      "grid_area": null,
      "grid_auto_columns": null,
      "grid_auto_flow": null,
      "grid_auto_rows": null,
      "grid_column": null,
      "grid_gap": null,
      "grid_row": null,
      "grid_template_areas": null,
      "grid_template_columns": null,
      "grid_template_rows": null,
      "height": null,
      "justify_content": null,
      "justify_items": null,
      "left": null,
      "margin": null,
      "max_height": null,
      "max_width": null,
      "min_height": null,
      "min_width": null,
      "object_fit": null,
      "object_position": null,
      "order": null,
      "overflow": null,
      "overflow_x": null,
      "overflow_y": null,
      "padding": null,
      "right": null,
      "top": null,
      "visibility": null,
      "width": null
     }
    },
    "d7762ddba2144c8fba3b9038512e2559": {
     "model_module": "@jupyter-widgets/controls",
     "model_module_version": "1.5.0",
     "model_name": "DescriptionStyleModel",
     "state": {
      "_model_module": "@jupyter-widgets/controls",
      "_model_module_version": "1.5.0",
      "_model_name": "DescriptionStyleModel",
      "_view_count": null,
      "_view_module": "@jupyter-widgets/base",
      "_view_module_version": "1.2.0",
      "_view_name": "StyleView",
      "description_width": ""
     }
    },
    "db93475de7c34987b8c695598b38e48d": {
     "model_module": "@jupyter-widgets/base",
     "model_module_version": "1.2.0",
     "model_name": "LayoutModel",
     "state": {
      "_model_module": "@jupyter-widgets/base",
      "_model_module_version": "1.2.0",
      "_model_name": "LayoutModel",
      "_view_count": null,
      "_view_module": "@jupyter-widgets/base",
      "_view_module_version": "1.2.0",
      "_view_name": "LayoutView",
      "align_content": null,
      "align_items": null,
      "align_self": null,
      "border": null,
      "bottom": null,
      "display": null,
      "flex": null,
      "flex_flow": null,
      "grid_area": null,
      "grid_auto_columns": null,
      "grid_auto_flow": null,
      "grid_auto_rows": null,
      "grid_column": null,
      "grid_gap": null,
      "grid_row": null,
      "grid_template_areas": null,
      "grid_template_columns": null,
      "grid_template_rows": null,
      "height": null,
      "justify_content": null,
      "justify_items": null,
      "left": null,
      "margin": null,
      "max_height": null,
      "max_width": null,
      "min_height": null,
      "min_width": null,
      "object_fit": null,
      "object_position": null,
      "order": null,
      "overflow": null,
      "overflow_x": null,
      "overflow_y": null,
      "padding": null,
      "right": null,
      "top": null,
      "visibility": null,
      "width": null
     }
    },
    "dde840174f164f74a9c609d18fd683f3": {
     "model_module": "@jupyter-widgets/base",
     "model_module_version": "1.2.0",
     "model_name": "LayoutModel",
     "state": {
      "_model_module": "@jupyter-widgets/base",
      "_model_module_version": "1.2.0",
      "_model_name": "LayoutModel",
      "_view_count": null,
      "_view_module": "@jupyter-widgets/base",
      "_view_module_version": "1.2.0",
      "_view_name": "LayoutView",
      "align_content": null,
      "align_items": null,
      "align_self": null,
      "border": null,
      "bottom": null,
      "display": null,
      "flex": null,
      "flex_flow": null,
      "grid_area": null,
      "grid_auto_columns": null,
      "grid_auto_flow": null,
      "grid_auto_rows": null,
      "grid_column": null,
      "grid_gap": null,
      "grid_row": null,
      "grid_template_areas": null,
      "grid_template_columns": null,
      "grid_template_rows": null,
      "height": null,
      "justify_content": null,
      "justify_items": null,
      "left": null,
      "margin": null,
      "max_height": null,
      "max_width": null,
      "min_height": null,
      "min_width": null,
      "object_fit": null,
      "object_position": null,
      "order": null,
      "overflow": null,
      "overflow_x": null,
      "overflow_y": null,
      "padding": null,
      "right": null,
      "top": null,
      "visibility": null,
      "width": null
     }
    },
    "eaf6cc7dabf7492dab51da8bc144f072": {
     "model_module": "@jupyter-widgets/controls",
     "model_module_version": "1.5.0",
     "model_name": "HTMLModel",
     "state": {
      "_dom_classes": [],
      "_model_module": "@jupyter-widgets/controls",
      "_model_module_version": "1.5.0",
      "_model_name": "HTMLModel",
      "_view_count": null,
      "_view_module": "@jupyter-widgets/controls",
      "_view_module_version": "1.5.0",
      "_view_name": "HTMLView",
      "description": "",
      "description_tooltip": null,
      "layout": "IPY_MODEL_ca29cd9344da4b3b94d5eeca5dbee1d3",
      "placeholder": "​",
      "style": "IPY_MODEL_9efdd8e717c3464ca7478ad544b48e36",
      "value": " 899k/899k [00:00&lt;00:00, 2.88MB/s]"
     }
    },
    "eed3382cf5a74284ab2a1a332931016a": {
     "model_module": "@jupyter-widgets/controls",
     "model_module_version": "1.5.0",
     "model_name": "FloatProgressModel",
     "state": {
      "_dom_classes": [],
      "_model_module": "@jupyter-widgets/controls",
      "_model_module_version": "1.5.0",
      "_model_name": "FloatProgressModel",
      "_view_count": null,
      "_view_module": "@jupyter-widgets/controls",
      "_view_module_version": "1.5.0",
      "_view_name": "ProgressView",
      "bar_style": "success",
      "description": "",
      "description_tooltip": null,
      "layout": "IPY_MODEL_15c2870013fd43928a1342ad90d4ebe2",
      "max": 898823,
      "min": 0,
      "orientation": "horizontal",
      "style": "IPY_MODEL_7ef0a80449e34ceaa01aaf8bba85b4ad",
      "value": 898823
     }
    },
    "f6833866b5bd42b3be8152b3ecf46e91": {
     "model_module": "@jupyter-widgets/controls",
     "model_module_version": "1.5.0",
     "model_name": "HTMLModel",
     "state": {
      "_dom_classes": [],
      "_model_module": "@jupyter-widgets/controls",
      "_model_module_version": "1.5.0",
      "_model_name": "HTMLModel",
      "_view_count": null,
      "_view_module": "@jupyter-widgets/controls",
      "_view_module_version": "1.5.0",
      "_view_name": "HTMLView",
      "description": "",
      "description_tooltip": null,
      "layout": "IPY_MODEL_d637b408a8c548ffbb27f62549fd7d1f",
      "placeholder": "​",
      "style": "IPY_MODEL_59bb0783c92b49d4ad8ddd80cef9953c",
      "value": " 456k/456k [00:00&lt;00:00, 5.62MB/s]"
     }
    },
    "f6b8652abfc6441fa128d5122d23f0e3": {
     "model_module": "@jupyter-widgets/base",
     "model_module_version": "1.2.0",
     "model_name": "LayoutModel",
     "state": {
      "_model_module": "@jupyter-widgets/base",
      "_model_module_version": "1.2.0",
      "_model_name": "LayoutModel",
      "_view_count": null,
      "_view_module": "@jupyter-widgets/base",
      "_view_module_version": "1.2.0",
      "_view_name": "LayoutView",
      "align_content": null,
      "align_items": null,
      "align_self": null,
      "border": null,
      "bottom": null,
      "display": null,
      "flex": null,
      "flex_flow": null,
      "grid_area": null,
      "grid_auto_columns": null,
      "grid_auto_flow": null,
      "grid_auto_rows": null,
      "grid_column": null,
      "grid_gap": null,
      "grid_row": null,
      "grid_template_areas": null,
      "grid_template_columns": null,
      "grid_template_rows": null,
      "height": null,
      "justify_content": null,
      "justify_items": null,
      "left": null,
      "margin": null,
      "max_height": null,
      "max_width": null,
      "min_height": null,
      "min_width": null,
      "object_fit": null,
      "object_position": null,
      "order": null,
      "overflow": null,
      "overflow_x": null,
      "overflow_y": null,
      "padding": null,
      "right": null,
      "top": null,
      "visibility": null,
      "width": null
     }
    },
    "fc92122d02254fe69d640960c77e39b8": {
     "model_module": "@jupyter-widgets/base",
     "model_module_version": "1.2.0",
     "model_name": "LayoutModel",
     "state": {
      "_model_module": "@jupyter-widgets/base",
      "_model_module_version": "1.2.0",
      "_model_name": "LayoutModel",
      "_view_count": null,
      "_view_module": "@jupyter-widgets/base",
      "_view_module_version": "1.2.0",
      "_view_name": "LayoutView",
      "align_content": null,
      "align_items": null,
      "align_self": null,
      "border": null,
      "bottom": null,
      "display": null,
      "flex": null,
      "flex_flow": null,
      "grid_area": null,
      "grid_auto_columns": null,
      "grid_auto_flow": null,
      "grid_auto_rows": null,
      "grid_column": null,
      "grid_gap": null,
      "grid_row": null,
      "grid_template_areas": null,
      "grid_template_columns": null,
      "grid_template_rows": null,
      "height": null,
      "justify_content": null,
      "justify_items": null,
      "left": null,
      "margin": null,
      "max_height": null,
      "max_width": null,
      "min_height": null,
      "min_width": null,
      "object_fit": null,
      "object_position": null,
      "order": null,
      "overflow": null,
      "overflow_x": null,
      "overflow_y": null,
      "padding": null,
      "right": null,
      "top": null,
      "visibility": null,
      "width": null
     }
    },
    "fd5c8ab6750b4c4f94788ef5a878d6d3": {
     "model_module": "@jupyter-widgets/controls",
     "model_module_version": "1.5.0",
     "model_name": "HTMLModel",
     "state": {
      "_dom_classes": [],
      "_model_module": "@jupyter-widgets/controls",
      "_model_module_version": "1.5.0",
      "_model_name": "HTMLModel",
      "_view_count": null,
      "_view_module": "@jupyter-widgets/controls",
      "_view_module_version": "1.5.0",
      "_view_name": "HTMLView",
      "description": "",
      "description_tooltip": null,
      "layout": "IPY_MODEL_f6b8652abfc6441fa128d5122d23f0e3",
      "placeholder": "​",
      "style": "IPY_MODEL_3a61929a2a07450b88f74a7e9eeb944f",
      "value": "Downloading (…)lve/main/config.json: 100%"
     }
    }
   }
  }
 },
 "nbformat": 4,
 "nbformat_minor": 1
}
