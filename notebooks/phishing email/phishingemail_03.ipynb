{
 "cells": [
  {
   "cell_type": "code",
   "execution_count": 1,
   "id": "9f869c33",
   "metadata": {},
   "outputs": [
    {
     "name": "stderr",
     "output_type": "stream",
     "text": [
      "/Users/zhenliu15471/.pyenv/versions/lewagon/lib/python3.8/site-packages/requests/__init__.py:102: RequestsDependencyWarning: urllib3 (1.26.7) or chardet (5.1.0)/charset_normalizer (2.0.10) doesn't match a supported version!\n",
      "  warnings.warn(\"urllib3 ({}) or chardet ({})/charset_normalizer ({}) doesn't match a supported \"\n"
     ]
    }
   ],
   "source": [
    "\n",
    "import tensorflow as tf\n",
    "from bert.tokenization import FullTokenizer\n",
    "import os\n",
    "import re\n",
    "import pandas as pd\n",
    "import numpy as np\n",
    "from tqdm import tqdm"
   ]
  },
  {
   "cell_type": "markdown",
   "id": "cfd5f42c",
   "metadata": {},
   "source": [
    "# Preprocessing"
   ]
  },
  {
   "cell_type": "code",
   "execution_count": 2,
   "id": "63b63761",
   "metadata": {},
   "outputs": [],
   "source": [
    "# Params for bert model and tokenization\n",
    "Nsamp = 3500 # number of samples to generate in each class - 'spam', 'not spam'\n",
    "maxtokens = 300 # the maximum number of tokens per document\n",
    "maxtokenlen = 300 # the maximum length of each token"
   ]
  },
  {
   "cell_type": "markdown",
   "id": "33330aeb",
   "metadata": {},
   "source": [
    "## Tokenization"
   ]
  },
  {
   "cell_type": "code",
   "execution_count": 3,
   "id": "e94e0f82",
   "metadata": {},
   "outputs": [
    {
     "name": "stderr",
     "output_type": "stream",
     "text": [
      "<>:2: SyntaxWarning: \"is\" with a literal. Did you mean \"==\"?\n",
      "<>:2: SyntaxWarning: \"is\" with a literal. Did you mean \"==\"?\n",
      "/var/folders/4y/7vss76ld1rj1ybqx7xpskc5m0000gn/T/ipykernel_73569/2648518879.py:2: SyntaxWarning: \"is\" with a literal. Did you mean \"==\"?\n",
      "  if row is None or row is '':\n"
     ]
    }
   ],
   "source": [
    "def tokenize(row):\n",
    "    if row is None or row is '':\n",
    "        tokens = \"\"\n",
    "    else:\n",
    "        try:\n",
    "            tokens = row.split(\" \")[:maxtokens]\n",
    "        except:\n",
    "            tokens=\"\"\n",
    "    return tokens"
   ]
  },
  {
   "cell_type": "markdown",
   "id": "0fa35295",
   "metadata": {},
   "source": [
    "## Utilizing regular expressions to remove unnecessary characters"
   ]
  },
  {
   "cell_type": "code",
   "execution_count": 4,
   "id": "945755ee",
   "metadata": {},
   "outputs": [],
   "source": [
    "def reg_expressions(row):\n",
    "    tokens = []\n",
    "    try:\n",
    "        for token in row:\n",
    "            token = token.lower()\n",
    "            token = re.sub(r'[\\W\\d]', \"\", token)\n",
    "            token = token[:maxtokenlen] # truncate token\n",
    "            tokens.append(token)\n",
    "    except:\n",
    "        token = \"\"\n",
    "        tokens.append(token)\n",
    "    return tokens"
   ]
  },
  {
   "cell_type": "markdown",
   "id": "bc311314",
   "metadata": {},
   "source": [
    "## Stop-word removal"
   ]
  },
  {
   "cell_type": "code",
   "execution_count": 5,
   "id": "1758deed",
   "metadata": {},
   "outputs": [
    {
     "name": "stdout",
     "output_type": "stream",
     "text": [
      "['i', 'me', 'my', 'myself', 'we', 'our', 'ours', 'ourselves', 'you', \"you're\", \"you've\", \"you'll\", \"you'd\", 'your', 'yours', 'yourself', 'yourselves', 'he', 'him', 'his', 'himself', 'she', \"she's\", 'her', 'hers', 'herself', 'it', \"it's\", 'its', 'itself', 'they', 'them', 'their', 'theirs', 'themselves', 'what', 'which', 'who', 'whom', 'this', 'that', \"that'll\", 'these', 'those', 'am', 'is', 'are', 'was', 'were', 'be', 'been', 'being', 'have', 'has', 'had', 'having', 'do', 'does', 'did', 'doing', 'a', 'an', 'the', 'and', 'but', 'if', 'or', 'because', 'as', 'until', 'while', 'of', 'at', 'by', 'for', 'with', 'about', 'against', 'between', 'into', 'through', 'during', 'before', 'after', 'above', 'below', 'to', 'from', 'up', 'down', 'in', 'out', 'on', 'off', 'over', 'under', 'again', 'further', 'then', 'once', 'here', 'there', 'when', 'where', 'why', 'how', 'all', 'any', 'both', 'each', 'few', 'more', 'most', 'other', 'some', 'such', 'no', 'nor', 'not', 'only', 'own', 'same', 'so', 'than', 'too', 'very', 's', 't', 'can', 'will', 'just', 'don', \"don't\", 'should', \"should've\", 'now', 'd', 'll', 'm', 'o', 're', 've', 'y', 'ain', 'aren', \"aren't\", 'couldn', \"couldn't\", 'didn', \"didn't\", 'doesn', \"doesn't\", 'hadn', \"hadn't\", 'hasn', \"hasn't\", 'haven', \"haven't\", 'isn', \"isn't\", 'ma', 'mightn', \"mightn't\", 'mustn', \"mustn't\", 'needn', \"needn't\", 'shan', \"shan't\", 'shouldn', \"shouldn't\", 'wasn', \"wasn't\", 'weren', \"weren't\", 'won', \"won't\", 'wouldn', \"wouldn't\"]\n"
     ]
    },
    {
     "name": "stderr",
     "output_type": "stream",
     "text": [
      "[nltk_data] Downloading package stopwords to\n",
      "[nltk_data]     /Users/zhenliu15471/nltk_data...\n",
      "[nltk_data]   Package stopwords is already up-to-date!\n"
     ]
    }
   ],
   "source": [
    "import nltk\n",
    "\n",
    "nltk.download('stopwords')\n",
    "from nltk.corpus import stopwords\n",
    "stopwords = stopwords.words('english')    \n",
    "print(stopwords) # see default stopwords\n",
    "\n",
    "def stop_word_removal(row):\n",
    "    token = [token for token in row if token not in stopwords]\n",
    "    token = filter(None, token)\n",
    "    return token"
   ]
  },
  {
   "cell_type": "code",
   "execution_count": 6,
   "id": "9f90d17d",
   "metadata": {},
   "outputs": [],
   "source": [
    "emails = pd.read_csv('../raw_data/emails.csv')"
   ]
  },
  {
   "cell_type": "code",
   "execution_count": 7,
   "id": "d0a4b0f2",
   "metadata": {},
   "outputs": [
    {
     "data": {
      "text/html": [
       "<div>\n",
       "<style scoped>\n",
       "    .dataframe tbody tr th:only-of-type {\n",
       "        vertical-align: middle;\n",
       "    }\n",
       "\n",
       "    .dataframe tbody tr th {\n",
       "        vertical-align: top;\n",
       "    }\n",
       "\n",
       "    .dataframe thead th {\n",
       "        text-align: right;\n",
       "    }\n",
       "</style>\n",
       "<table border=\"1\" class=\"dataframe\">\n",
       "  <thead>\n",
       "    <tr style=\"text-align: right;\">\n",
       "      <th></th>\n",
       "      <th>file</th>\n",
       "      <th>message</th>\n",
       "    </tr>\n",
       "  </thead>\n",
       "  <tbody>\n",
       "    <tr>\n",
       "      <th>0</th>\n",
       "      <td>allen-p/_sent_mail/1.</td>\n",
       "      <td>Message-ID: &lt;18782981.1075855378110.JavaMail.e...</td>\n",
       "    </tr>\n",
       "    <tr>\n",
       "      <th>1</th>\n",
       "      <td>allen-p/_sent_mail/10.</td>\n",
       "      <td>Message-ID: &lt;15464986.1075855378456.JavaMail.e...</td>\n",
       "    </tr>\n",
       "    <tr>\n",
       "      <th>2</th>\n",
       "      <td>allen-p/_sent_mail/100.</td>\n",
       "      <td>Message-ID: &lt;24216240.1075855687451.JavaMail.e...</td>\n",
       "    </tr>\n",
       "    <tr>\n",
       "      <th>3</th>\n",
       "      <td>allen-p/_sent_mail/1000.</td>\n",
       "      <td>Message-ID: &lt;13505866.1075863688222.JavaMail.e...</td>\n",
       "    </tr>\n",
       "    <tr>\n",
       "      <th>4</th>\n",
       "      <td>allen-p/_sent_mail/1001.</td>\n",
       "      <td>Message-ID: &lt;30922949.1075863688243.JavaMail.e...</td>\n",
       "    </tr>\n",
       "  </tbody>\n",
       "</table>\n",
       "</div>"
      ],
      "text/plain": [
       "                       file                                            message\n",
       "0     allen-p/_sent_mail/1.  Message-ID: <18782981.1075855378110.JavaMail.e...\n",
       "1    allen-p/_sent_mail/10.  Message-ID: <15464986.1075855378456.JavaMail.e...\n",
       "2   allen-p/_sent_mail/100.  Message-ID: <24216240.1075855687451.JavaMail.e...\n",
       "3  allen-p/_sent_mail/1000.  Message-ID: <13505866.1075863688222.JavaMail.e...\n",
       "4  allen-p/_sent_mail/1001.  Message-ID: <30922949.1075863688243.JavaMail.e..."
      ]
     },
     "execution_count": 7,
     "metadata": {},
     "output_type": "execute_result"
    }
   ],
   "source": [
    "emails.head()"
   ]
  },
  {
   "cell_type": "code",
   "execution_count": 8,
   "id": "da75feec",
   "metadata": {},
   "outputs": [
    {
     "name": "stdout",
     "output_type": "stream",
     "text": [
      "Successfully loaded 517401 rows and 2 columns!\n",
      "                       file                                            message\n",
      "0     allen-p/_sent_mail/1.  Message-ID: <18782981.1075855378110.JavaMail.e...\n",
      "1    allen-p/_sent_mail/10.  Message-ID: <15464986.1075855378456.JavaMail.e...\n",
      "2   allen-p/_sent_mail/100.  Message-ID: <24216240.1075855687451.JavaMail.e...\n",
      "3  allen-p/_sent_mail/1000.  Message-ID: <13505866.1075863688222.JavaMail.e...\n",
      "4  allen-p/_sent_mail/1001.  Message-ID: <30922949.1075863688243.JavaMail.e...\n"
     ]
    }
   ],
   "source": [
    "print(\"Successfully loaded {} rows and {} columns!\".format(emails.shape[0], emails.shape[1]))\n",
    "print(emails.head())"
   ]
  },
  {
   "cell_type": "code",
   "execution_count": 9,
   "id": "bbbd2b16",
   "metadata": {},
   "outputs": [
    {
     "name": "stdout",
     "output_type": "stream",
     "text": [
      "Message-ID: <18782981.1075855378110.JavaMail.evans@thyme>\n",
      "Date: Mon, 14 May 2001 16:39:00 -0700 (PDT)\n",
      "From: phillip.allen@enron.com\n",
      "To: tim.belden@enron.com\n",
      "Subject: \n",
      "Mime-Version: 1.0\n",
      "Content-Type: text/plain; charset=us-ascii\n",
      "Content-Transfer-Encoding: 7bit\n",
      "X-From: Phillip K Allen\n",
      "X-To: Tim Belden <Tim Belden/Enron@EnronXGate>\n",
      "X-cc: \n",
      "X-bcc: \n",
      "X-Folder: \\Phillip_Allen_Jan2002_1\\Allen, Phillip K.\\'Sent Mail\n",
      "X-Origin: Allen-P\n",
      "X-FileName: pallen (Non-Privileged).pst\n",
      "\n",
      "Here is our forecast\n",
      "\n",
      " \n"
     ]
    }
   ],
   "source": [
    "# take a closer look at the first email\n",
    "print(emails.loc[0][\"message\"])"
   ]
  },
  {
   "cell_type": "code",
   "execution_count": 10,
   "id": "615824d5",
   "metadata": {},
   "outputs": [
    {
     "name": "stdout",
     "output_type": "stream",
     "text": [
      "Successfully retrieved message body from e-mails!\n"
     ]
    }
   ],
   "source": [
    "# Separate headers from the message bodies\n",
    "import email\n",
    "\n",
    "def extract_messages(df):\n",
    "    messages = []\n",
    "    for item in df[\"message\"]:\n",
    "        # Return a message object structure from a string\n",
    "        e = email.message_from_string(item)    \n",
    "        # get message body  \n",
    "        message_body = e.get_payload()\n",
    "        messages.append(message_body)\n",
    "    print(\"Successfully retrieved message body from e-mails!\")\n",
    "    return messages\n",
    "\n",
    "bodies = extract_messages(emails)"
   ]
  },
  {
   "cell_type": "code",
   "execution_count": 11,
   "id": "14c240c8",
   "metadata": {},
   "outputs": [
    {
     "data": {
      "text/html": [
       "<div>\n",
       "<style scoped>\n",
       "    .dataframe tbody tr th:only-of-type {\n",
       "        vertical-align: middle;\n",
       "    }\n",
       "\n",
       "    .dataframe tbody tr th {\n",
       "        vertical-align: top;\n",
       "    }\n",
       "\n",
       "    .dataframe thead th {\n",
       "        text-align: right;\n",
       "    }\n",
       "</style>\n",
       "<table border=\"1\" class=\"dataframe\">\n",
       "  <thead>\n",
       "    <tr style=\"text-align: right;\">\n",
       "      <th></th>\n",
       "      <th>0</th>\n",
       "    </tr>\n",
       "  </thead>\n",
       "  <tbody>\n",
       "    <tr>\n",
       "      <th>0</th>\n",
       "      <td>---------------------- Forwarded by Darron C Giron/HOU/ECT on 03/21/2001 \\n11:13 AM ---------------------------\\n\\n\\nCarole Frank\\n03/21/2001 11:05 AM\\nTo: Darron C Giron/HOU/ECT@ECT\\ncc:  \\nSubject: Re: 12/29/2000 - MTM  \\n\\nDarron,\\n\\nThe following are the totals for Tudor BVI and Ospraie.  Th...</td>\n",
       "    </tr>\n",
       "    <tr>\n",
       "      <th>1</th>\n",
       "      <td>Ted,\\n\\nGetting back to work has been a bit of a challenge after a weekend of \\nindulgence and excess.  It took everything I had to get in the car and start \\nthe drive back to Houston Tuesday night (especially since I stopped by my \\nsister's and tooled around on Lake Austin in the boat for a w...</td>\n",
       "    </tr>\n",
       "    <tr>\n",
       "      <th>2</th>\n",
       "      <td>Girl, you know he's lying.  He's a trip, but it was a good sermon.</td>\n",
       "    </tr>\n",
       "    <tr>\n",
       "      <th>3</th>\n",
       "      <td>FYI\\n----- Forwarded by Mark Taylor/HOU/ECT on 08/04/2000 10:58 AM -----\\n\\n\\tJon Barrett@MGLTD\\n\\t08/04/2000 10:58 AM\\n\\t\\t\\n\\t\\t To: Justin Boyd/LON/ECT@ECT\\n\\t\\t cc: Mark Taylor/HOU/ECT@ECT\\n\\t\\t Subject: Re: MG - US Regulatory Status...\\n\\nJustin\\n\\nSorry for the delay in catching up with my...</td>\n",
       "    </tr>\n",
       "    <tr>\n",
       "      <th>4</th>\n",
       "      <td>Attached is a draft proposal for the Chairman, pls review and share comments! \\nThank you in advance for your anticipated cooperation.  \\n</td>\n",
       "    </tr>\n",
       "  </tbody>\n",
       "</table>\n",
       "</div>"
      ],
      "text/plain": [
       "                                                                                                                                                                                                                                                                                                             0\n",
       "0  ---------------------- Forwarded by Darron C Giron/HOU/ECT on 03/21/2001 \\n11:13 AM ---------------------------\\n\\n\\nCarole Frank\\n03/21/2001 11:05 AM\\nTo: Darron C Giron/HOU/ECT@ECT\\ncc:  \\nSubject: Re: 12/29/2000 - MTM  \\n\\nDarron,\\n\\nThe following are the totals for Tudor BVI and Ospraie.  Th...\n",
       "1  Ted,\\n\\nGetting back to work has been a bit of a challenge after a weekend of \\nindulgence and excess.  It took everything I had to get in the car and start \\nthe drive back to Houston Tuesday night (especially since I stopped by my \\nsister's and tooled around on Lake Austin in the boat for a w...\n",
       "2                                                                                                                                                                                                                                           Girl, you know he's lying.  He's a trip, but it was a good sermon.\n",
       "3  FYI\\n----- Forwarded by Mark Taylor/HOU/ECT on 08/04/2000 10:58 AM -----\\n\\n\\tJon Barrett@MGLTD\\n\\t08/04/2000 10:58 AM\\n\\t\\t\\n\\t\\t To: Justin Boyd/LON/ECT@ECT\\n\\t\\t cc: Mark Taylor/HOU/ECT@ECT\\n\\t\\t Subject: Re: MG - US Regulatory Status...\\n\\nJustin\\n\\nSorry for the delay in catching up with my...\n",
       "4                                                                                                                                                                   Attached is a draft proposal for the Chairman, pls review and share comments! \\nThank you in advance for your anticipated cooperation.  \\n"
      ]
     },
     "execution_count": 11,
     "metadata": {},
     "output_type": "execute_result"
    }
   ],
   "source": [
    "# extract random 10000 enron email bodies for building dataset\n",
    "import random\n",
    "bodies_df = pd.DataFrame(random.sample(bodies, 10000))\n",
    "\n",
    "# expand default pandas display options to make emails more clearly visible when printed\n",
    "pd.set_option('display.max_colwidth', 300)\n",
    "\n",
    "bodies_df.head() # you could do print(bodies_df.head()), but Jupyter displays this nicer for pandas DataFrames"
   ]
  },
  {
   "cell_type": "markdown",
   "id": "58881955",
   "metadata": {},
   "source": [
    "# Fraudulent email corpus"
   ]
  },
  {
   "cell_type": "code",
   "execution_count": 12,
   "id": "ebe3aea1",
   "metadata": {},
   "outputs": [
    {
     "name": "stdout",
     "output_type": "stream",
     "text": [
      "Successfully loaded 3978 spam emails!\n"
     ]
    }
   ],
   "source": [
    "filepath = \"../raw_data/fradulent_emails.txt\"\n",
    "with open(filepath, 'r',encoding=\"latin1\") as file:\n",
    "    data = file.read()\n",
    "    \n",
    "# split on a code word appearing close to the beginning of each email\n",
    "fraud_emails = data.split(\"From r\")\n",
    "\n",
    "print(\"Successfully loaded {} spam emails!\".format(len(fraud_emails)))"
   ]
  },
  {
   "cell_type": "code",
   "execution_count": 13,
   "id": "1465682a",
   "metadata": {},
   "outputs": [
    {
     "name": "stdout",
     "output_type": "stream",
     "text": [
      "Successfully retrieved message body from e-mails!\n"
     ]
    },
    {
     "data": {
      "text/html": [
       "<div>\n",
       "<style scoped>\n",
       "    .dataframe tbody tr th:only-of-type {\n",
       "        vertical-align: middle;\n",
       "    }\n",
       "\n",
       "    .dataframe tbody tr th {\n",
       "        vertical-align: top;\n",
       "    }\n",
       "\n",
       "    .dataframe thead th {\n",
       "        text-align: right;\n",
       "    }\n",
       "</style>\n",
       "<table border=\"1\" class=\"dataframe\">\n",
       "  <thead>\n",
       "    <tr style=\"text-align: right;\">\n",
       "      <th></th>\n",
       "      <th>0</th>\n",
       "    </tr>\n",
       "  </thead>\n",
       "  <tbody>\n",
       "    <tr>\n",
       "      <th>0</th>\n",
       "      <td>FROM:MR. JAMES NGOLA.\\nCONFIDENTIAL TEL: 233-27-587908.\\nE-MAIL: (james_ngola2002@maktoob.com).\\n\\nURGENT BUSINESS ASSISTANCE AND PARTNERSHIP.\\n\\n\\nDEAR FRIEND,\\n\\nI AM ( DR.) JAMES NGOLA, THE PERSONAL ASSISTANCE TO THE LATE CONGOLESE (PRESIDENT LAURENT KABILA) WHO WAS ASSASSINATED BY HIS BODY G...</td>\n",
       "    </tr>\n",
       "    <tr>\n",
       "      <th>1</th>\n",
       "      <td>Dear Friend,\\n\\nI am Mr. Ben Suleman a custom officer and work as Assistant controller of the Customs and Excise department Of the Federal Ministry of Internal Affairs stationed at the Murtala Mohammed International Airport, Ikeja, Lagos-Nigeria.\\n\\nAfter the sudden death of the former Head of s...</td>\n",
       "    </tr>\n",
       "    <tr>\n",
       "      <th>2</th>\n",
       "      <td>FROM HIS ROYAL MAJESTY (HRM) CROWN RULER OF ELEME KINGDOM \\nCHIEF DANIEL ELEME, PHD, EZE 1 OF ELEME.E-MAIL \\nADDRESS:obong_715@epatra.com  \\n\\nATTENTION:PRESIDENT,CEO Sir/ Madam. \\n\\nThis letter might surprise you because we have met\\nneither in person nor by correspondence. But I believe\\nit is...</td>\n",
       "    </tr>\n",
       "    <tr>\n",
       "      <th>3</th>\n",
       "      <td>FROM HIS ROYAL MAJESTY (HRM) CROWN RULER OF ELEME KINGDOM \\nCHIEF DANIEL ELEME, PHD, EZE 1 OF ELEME.E-MAIL \\nADDRESS:obong_715@epatra.com  \\n\\nATTENTION:PRESIDENT,CEO Sir/ Madam. \\n\\nThis letter might surprise you because we have met\\nneither in person nor by correspondence. But I believe\\nit is...</td>\n",
       "    </tr>\n",
       "    <tr>\n",
       "      <th>4</th>\n",
       "      <td>Dear sir, \\n \\nIt is with a heart full of hope that I write to seek your help in respect of the context below. I am Mrs. Maryam Abacha the former first lady of the former Military Head of State of Nigeria General Sani Abacha whose sudden death occurred on 8th of June 1998 as a result of cardiac ...</td>\n",
       "    </tr>\n",
       "  </tbody>\n",
       "</table>\n",
       "</div>"
      ],
      "text/plain": [
       "                                                                                                                                                                                                                                                                                                             0\n",
       "0  FROM:MR. JAMES NGOLA.\\nCONFIDENTIAL TEL: 233-27-587908.\\nE-MAIL: (james_ngola2002@maktoob.com).\\n\\nURGENT BUSINESS ASSISTANCE AND PARTNERSHIP.\\n\\n\\nDEAR FRIEND,\\n\\nI AM ( DR.) JAMES NGOLA, THE PERSONAL ASSISTANCE TO THE LATE CONGOLESE (PRESIDENT LAURENT KABILA) WHO WAS ASSASSINATED BY HIS BODY G...\n",
       "1  Dear Friend,\\n\\nI am Mr. Ben Suleman a custom officer and work as Assistant controller of the Customs and Excise department Of the Federal Ministry of Internal Affairs stationed at the Murtala Mohammed International Airport, Ikeja, Lagos-Nigeria.\\n\\nAfter the sudden death of the former Head of s...\n",
       "2  FROM HIS ROYAL MAJESTY (HRM) CROWN RULER OF ELEME KINGDOM \\nCHIEF DANIEL ELEME, PHD, EZE 1 OF ELEME.E-MAIL \\nADDRESS:obong_715@epatra.com  \\n\\nATTENTION:PRESIDENT,CEO Sir/ Madam. \\n\\nThis letter might surprise you because we have met\\nneither in person nor by correspondence. But I believe\\nit is...\n",
       "3  FROM HIS ROYAL MAJESTY (HRM) CROWN RULER OF ELEME KINGDOM \\nCHIEF DANIEL ELEME, PHD, EZE 1 OF ELEME.E-MAIL \\nADDRESS:obong_715@epatra.com  \\n\\nATTENTION:PRESIDENT,CEO Sir/ Madam. \\n\\nThis letter might surprise you because we have met\\nneither in person nor by correspondence. But I believe\\nit is...\n",
       "4  Dear sir, \\n \\nIt is with a heart full of hope that I write to seek your help in respect of the context below. I am Mrs. Maryam Abacha the former first lady of the former Military Head of State of Nigeria General Sani Abacha whose sudden death occurred on 8th of June 1998 as a result of cardiac ..."
      ]
     },
     "execution_count": 13,
     "metadata": {},
     "output_type": "execute_result"
    }
   ],
   "source": [
    "fraud_bodies = extract_messages(pd.DataFrame(fraud_emails,columns=[\"message\"],dtype=str))\n",
    "fraud_bodies_df = pd.DataFrame(fraud_bodies[1:])\n",
    "\n",
    "fraud_bodies_df.head() # you could do print(fraud_bodies_df.head()), but Jupyter displays this nicer for pandas DataFrames"
   ]
  },
  {
   "cell_type": "markdown",
   "id": "72b70f67",
   "metadata": {},
   "source": [
    "# Dataset "
   ]
  },
  {
   "cell_type": "code",
   "execution_count": 57,
   "id": "066a7406",
   "metadata": {},
   "outputs": [],
   "source": [
    "import random\n",
    "\n",
    "# Convert everything to lower-case, truncate to maxtokens and truncate each token to maxtokenlen\n",
    "EnronEmails = bodies_df.iloc[:,0].apply(tokenize)\n",
    "EnronEmails = EnronEmails.apply(stop_word_removal)\n",
    "EnronEmails = EnronEmails.apply(reg_expressions)\n",
    "EnronEmails = EnronEmails.sample(Nsamp)\n",
    "EnronEmails_df = EnronEmails.to_frame()\n",
    "EnronEmails_df['target'] = 1\n",
    "\n",
    "\n",
    "\n",
    "phishingEmails = fraud_bodies_df.iloc[:,0].apply(tokenize)\n",
    "phishingEmails = phishingEmails.apply(stop_word_removal)\n",
    "phishingEmails = phishingEmails.apply(reg_expressions)\n",
    "phishingEmails = phishingEmails.sample(Nsamp)\n",
    "phishingEmails_df = phishingEmails.to_frame()\n",
    "phishingEmails_df['target'] = 0\n",
    "\n",
    "\n",
    "raw_data = pd.concat([EnronEmails_df, phishingEmails_df], ignore_index=True)"
   ]
  },
  {
   "cell_type": "code",
   "execution_count": 58,
   "id": "cffb0f0e",
   "metadata": {},
   "outputs": [],
   "source": [
    "raw_data = raw_data.rename(columns={raw_data.columns[0]: 'text'})"
   ]
  },
  {
   "cell_type": "code",
   "execution_count": 59,
   "id": "ba6c1164",
   "metadata": {},
   "outputs": [
    {
     "data": {
      "text/html": [
       "<div>\n",
       "<style scoped>\n",
       "    .dataframe tbody tr th:only-of-type {\n",
       "        vertical-align: middle;\n",
       "    }\n",
       "\n",
       "    .dataframe tbody tr th {\n",
       "        vertical-align: top;\n",
       "    }\n",
       "\n",
       "    .dataframe thead th {\n",
       "        text-align: right;\n",
       "    }\n",
       "</style>\n",
       "<table border=\"1\" class=\"dataframe\">\n",
       "  <thead>\n",
       "    <tr style=\"text-align: right;\">\n",
       "      <th></th>\n",
       "      <th>text</th>\n",
       "      <th>target</th>\n",
       "    </tr>\n",
       "  </thead>\n",
       "  <tbody>\n",
       "    <tr>\n",
       "      <th>0</th>\n",
       "      <td>[august, st, around, corner, thats, deadline, entering, the, private, drawing, years, sporting, clays, tournament, if, your, registration, payment, next, tuesday, name, goes, hat, a, great, shotgunvisit, website, wwwhoustonenergyorg, details, awesome, event, send, registration, today, look, forw...</td>\n",
       "      <td>1</td>\n",
       "    </tr>\n",
       "    <tr>\n",
       "      <th>1</th>\n",
       "      <td>[the, following, expense, report, ready, approvalemployee, name, michelle, y, lokaystatus, last, changed, by, michelle, y, lokayexpense, report, name, expenses, report, total, amount, due, employee, to, approve, expense, report, click, following, link, concur, expensehttpexpensexmsenroncom]</td>\n",
       "      <td>1</td>\n",
       "    </tr>\n",
       "    <tr>\n",
       "      <th>2</th>\n",
       "      <td>[the, gisb, constellation, impasse, regarding, ucc, issues, cannot, agree, to, so, vehicle, interruptible, deals, i, keep, you, adviseddebra, perlingiereenron, north, america, corplegal, department, smith, street, eb, houston, texas, dperlinenroncomphone, fax, ]</td>\n",
       "      <td>1</td>\n",
       "    </tr>\n",
       "    <tr>\n",
       "      <th>3</th>\n",
       "      <td>[attached, enfolio, gisb, spot, contracts, lets, discuss]</td>\n",
       "      <td>1</td>\n",
       "    </tr>\n",
       "    <tr>\n",
       "      <th>4</th>\n",
       "      <td>[best, wishes, aep, markshawna, flynn, , pm, , to, mark, e, haedickehouectect, barbara, n, grayhouectect, julia, murrayhouectect, cc, , subject, farewell, thank, youdear, mark, barbara, julia, thank, much, opportunity, work, ews, legal, my, seven, years, here, wonderful, learning, experience, th...</td>\n",
       "      <td>1</td>\n",
       "    </tr>\n",
       "    <tr>\n",
       "      <th>...</th>\n",
       "      <td>...</td>\n",
       "      <td>...</td>\n",
       "    </tr>\n",
       "    <tr>\n",
       "      <th>6995</th>\n",
       "      <td>[attnmy, name, mr, kelvin, taylor, i, first, son, ofliberias, former, president, charles, taylor, before, heleft, office, instruct, look, capable, handwho, help, us, invest, money, foreign, countryfor, period, five, years, trustee, moneywill, , intrest, share, each, contract, renewed, fiveyears,...</td>\n",
       "      <td>0</td>\n",
       "    </tr>\n",
       "    <tr>\n",
       "      <th>6996</th>\n",
       "      <td>[mr, timi, alaibeexecutive, director, projectcniger, delta, development, commissioncold, secretariat, complexcvictorialislandc, lagoseteladear, sirci, timi, alaibec, executive, director, finance, niger, delta, development, commission, , nddc, emy, commssion, , the, niger, delta, development, com...</td>\n",
       "      <td>0</td>\n",
       "    </tr>\n",
       "    <tr>\n",
       "      <th>6997</th>\n",
       "      <td>[table, border, width, cellpadding, cellpaddingtrtd, bgcolorffffffpplot, , victoria, garden, citybremail, a, hrefmailtopaulltsamailcozapaulltsamailcozaappintroduction, my, name, mike, paul, i, know, proposal, come, youbras, surprise, havenot, met, either, physically, anybrcorrespondenceppnbspi, ...</td>\n",
       "      <td>0</td>\n",
       "    </tr>\n",
       "    <tr>\n",
       "      <th>6998</th>\n",
       "      <td>[from, , mr, dave, bentondate, , , , kindest, attentionmy, name, mr, dave, benton, i, portugal, , i, diagnosed, esophageal, cancer, it, defiled, forms, medical, treatment, right, i, months, live, according, medical, experts, i, particularly, lived, life, well, i, never, really, cared, anyone, no...</td>\n",
       "      <td>0</td>\n",
       "    </tr>\n",
       "    <tr>\n",
       "      <th>6999</th>\n",
       "      <td>[attnaci, godwin, ekpontu, sanganac, esqec, a, personal, attorney, mrfmrsmillerc, expartriate, formally, countrys, branch, agipoil, companynaocc, lagose, on, april, c, , clientcmrmrse, miller, died, fatal, automobile, accidente, ever, sincec, ihave, made, several, frantic, extensive, enquiries, ...</td>\n",
       "      <td>0</td>\n",
       "    </tr>\n",
       "  </tbody>\n",
       "</table>\n",
       "<p>7000 rows × 2 columns</p>\n",
       "</div>"
      ],
      "text/plain": [
       "                                                                                                                                                                                                                                                                                                             text  \\\n",
       "0     [august, st, around, corner, thats, deadline, entering, the, private, drawing, years, sporting, clays, tournament, if, your, registration, payment, next, tuesday, name, goes, hat, a, great, shotgunvisit, website, wwwhoustonenergyorg, details, awesome, event, send, registration, today, look, forw...   \n",
       "1             [the, following, expense, report, ready, approvalemployee, name, michelle, y, lokaystatus, last, changed, by, michelle, y, lokayexpense, report, name, expenses, report, total, amount, due, employee, to, approve, expense, report, click, following, link, concur, expensehttpexpensexmsenroncom]   \n",
       "2                                          [the, gisb, constellation, impasse, regarding, ucc, issues, cannot, agree, to, so, vehicle, interruptible, deals, i, keep, you, adviseddebra, perlingiereenron, north, america, corplegal, department, smith, street, eb, houston, texas, dperlinenroncomphone, fax, ]   \n",
       "3                                                                                                                                                                                                                                                       [attached, enfolio, gisb, spot, contracts, lets, discuss]   \n",
       "4     [best, wishes, aep, markshawna, flynn, , pm, , to, mark, e, haedickehouectect, barbara, n, grayhouectect, julia, murrayhouectect, cc, , subject, farewell, thank, youdear, mark, barbara, julia, thank, much, opportunity, work, ews, legal, my, seven, years, here, wonderful, learning, experience, th...   \n",
       "...                                                                                                                                                                                                                                                                                                           ...   \n",
       "6995  [attnmy, name, mr, kelvin, taylor, i, first, son, ofliberias, former, president, charles, taylor, before, heleft, office, instruct, look, capable, handwho, help, us, invest, money, foreign, countryfor, period, five, years, trustee, moneywill, , intrest, share, each, contract, renewed, fiveyears,...   \n",
       "6996  [mr, timi, alaibeexecutive, director, projectcniger, delta, development, commissioncold, secretariat, complexcvictorialislandc, lagoseteladear, sirci, timi, alaibec, executive, director, finance, niger, delta, development, commission, , nddc, emy, commssion, , the, niger, delta, development, com...   \n",
       "6997  [table, border, width, cellpadding, cellpaddingtrtd, bgcolorffffffpplot, , victoria, garden, citybremail, a, hrefmailtopaulltsamailcozapaulltsamailcozaappintroduction, my, name, mike, paul, i, know, proposal, come, youbras, surprise, havenot, met, either, physically, anybrcorrespondenceppnbspi, ...   \n",
       "6998  [from, , mr, dave, bentondate, , , , kindest, attentionmy, name, mr, dave, benton, i, portugal, , i, diagnosed, esophageal, cancer, it, defiled, forms, medical, treatment, right, i, months, live, according, medical, experts, i, particularly, lived, life, well, i, never, really, cared, anyone, no...   \n",
       "6999  [attnaci, godwin, ekpontu, sanganac, esqec, a, personal, attorney, mrfmrsmillerc, expartriate, formally, countrys, branch, agipoil, companynaocc, lagose, on, april, c, , clientcmrmrse, miller, died, fatal, automobile, accidente, ever, sincec, ihave, made, several, frantic, extensive, enquiries, ...   \n",
       "\n",
       "      target  \n",
       "0          1  \n",
       "1          1  \n",
       "2          1  \n",
       "3          1  \n",
       "4          1  \n",
       "...      ...  \n",
       "6995       0  \n",
       "6996       0  \n",
       "6997       0  \n",
       "6998       0  \n",
       "6999       0  \n",
       "\n",
       "[7000 rows x 2 columns]"
      ]
     },
     "execution_count": 59,
     "metadata": {},
     "output_type": "execute_result"
    }
   ],
   "source": [
    "raw_data"
   ]
  },
  {
   "cell_type": "code",
   "execution_count": 30,
   "id": "9db5d8bd",
   "metadata": {},
   "outputs": [],
   "source": [
    "raw_data.to_csv('my_data.csv', index=False)"
   ]
  },
  {
   "cell_type": "code",
   "execution_count": 61,
   "id": "4966226f",
   "metadata": {},
   "outputs": [],
   "source": [
    "data_df = raw_data.sample(frac=1,random_state=42).reset_index(drop=True)"
   ]
  },
  {
   "cell_type": "code",
   "execution_count": 67,
   "id": "98aad243",
   "metadata": {},
   "outputs": [],
   "source": [
    "data_df['text'] = data_df['text'].apply(' '.join)"
   ]
  },
  {
   "cell_type": "code",
   "execution_count": 68,
   "id": "6219959b",
   "metadata": {},
   "outputs": [
    {
     "data": {
      "text/html": [
       "<div>\n",
       "<style scoped>\n",
       "    .dataframe tbody tr th:only-of-type {\n",
       "        vertical-align: middle;\n",
       "    }\n",
       "\n",
       "    .dataframe tbody tr th {\n",
       "        vertical-align: top;\n",
       "    }\n",
       "\n",
       "    .dataframe thead th {\n",
       "        text-align: right;\n",
       "    }\n",
       "</style>\n",
       "<table border=\"1\" class=\"dataframe\">\n",
       "  <thead>\n",
       "    <tr style=\"text-align: right;\">\n",
       "      <th></th>\n",
       "      <th>text</th>\n",
       "      <th>target</th>\n",
       "    </tr>\n",
       "  </thead>\n",
       "  <tbody>\n",
       "    <tr>\n",
       "      <th>0</th>\n",
       "      <td>dear friendmy proposal surprising personal contact before however i sincerely seek confidence transactionwhich i propose person transparencyhonesty high caliber let first start introducing properly you my name ron sinclear personal assistance haitian president  i apologize i infringed privacy it...</td>\n",
       "      <td>0</td>\n",
       "    </tr>\n",
       "    <tr>\n",
       "      <th>1</th>\n",
       "      <td>forwarded john arnoldhouect   am matthew arnold  pmto john arnoldhouectect tom mcquadehouectectcc subject wv love story forwarded matthew arnoldhouect   pm jonathon pielop  amto mo bawahouectect matthew arnoldhouectect brian orourkehouectectcc subject</td>\n",
       "      <td>1</td>\n",
       "    </tr>\n",
       "    <tr>\n",
       "      <th>2</th>\n",
       "      <td>weekly meeting withrick buybill bradforddebbie brackettphilippe bibited murphydavid portstephen stockvince kaminskibeth perlmansally beck inline attachment follows from date subject inline attachment follows from date subject inline attachment follows from date subject inline attachment follows ...</td>\n",
       "      <td>1</td>\n",
       "    </tr>\n",
       "    <tr>\n",
       "      <th>3</th>\n",
       "      <td>brad richter jay webb charge enrononline brad responsible commercial side things jay handles operations original messagefrom yoho lisa sentfriday august    amtotaylor mark e legalsubjectandy zippermarkwho replaced andy zipper is andy still enronthankslisa</td>\n",
       "      <td>1</td>\n",
       "    </tr>\n",
       "    <tr>\n",
       "      <th>4</th>\n",
       "      <td></td>\n",
       "      <td>0</td>\n",
       "    </tr>\n",
       "    <tr>\n",
       "      <th>...</th>\n",
       "      <td>...</td>\n",
       "      <td>...</td>\n",
       "    </tr>\n",
       "    <tr>\n",
       "      <th>6995</th>\n",
       "      <td></td>\n",
       "      <td>0</td>\n",
       "    </tr>\n",
       "    <tr>\n",
       "      <th>6996</th>\n",
       "      <td>dear sir assistance required for acquisition of estate i write inform desire acquire estatesor landed properties country behalf thedirector contracts finance allocations thefederal ministry works housing nigeriaconsidering strategic influentialposition would want transaction asstrictly confident...</td>\n",
       "      <td>0</td>\n",
       "    </tr>\n",
       "    <tr>\n",
       "      <th>6997</th>\n",
       "      <td></td>\n",
       "      <td>0</td>\n",
       "    </tr>\n",
       "    <tr>\n",
       "      <th>6998</th>\n",
       "      <td>fromamrseaminaea belloe attnathe managing director before i proceedc may i humbly introduce goodselfc my name mrse aminaeaebelloc iraqi refugee cmy husband recentlyc one personal aid president iraq formerly overthrown power american government e prior last serious crisis still ravaging countrycw...</td>\n",
       "      <td>0</td>\n",
       "    </tr>\n",
       "    <tr>\n",
       "      <th>6999</th>\n",
       "      <td>forwarded phillip k allenhouect   pm  from phillip k allen   pmto stagecoachmamahotmailcomcc subject lucythanks clearing  file moving  questions it looks like missed   i cant tell still owes  deposit i show missed rent  still owes  try follow tomas  hopefully bad reactionb missed rent has paid ...</td>\n",
       "      <td>1</td>\n",
       "    </tr>\n",
       "  </tbody>\n",
       "</table>\n",
       "<p>7000 rows × 2 columns</p>\n",
       "</div>"
      ],
      "text/plain": [
       "                                                                                                                                                                                                                                                                                                             text  \\\n",
       "0     dear friendmy proposal surprising personal contact before however i sincerely seek confidence transactionwhich i propose person transparencyhonesty high caliber let first start introducing properly you my name ron sinclear personal assistance haitian president  i apologize i infringed privacy it...   \n",
       "1                                                    forwarded john arnoldhouect   am matthew arnold  pmto john arnoldhouectect tom mcquadehouectectcc subject wv love story forwarded matthew arnoldhouect   pm jonathon pielop  amto mo bawahouectect matthew arnoldhouectect brian orourkehouectectcc subject    \n",
       "2     weekly meeting withrick buybill bradforddebbie brackettphilippe bibited murphydavid portstephen stockvince kaminskibeth perlmansally beck inline attachment follows from date subject inline attachment follows from date subject inline attachment follows from date subject inline attachment follows ...   \n",
       "3                                                 brad richter jay webb charge enrononline brad responsible commercial side things jay handles operations original messagefrom yoho lisa sentfriday august    amtotaylor mark e legalsubjectandy zippermarkwho replaced andy zipper is andy still enronthankslisa   \n",
       "4                                                                                                                                                                                                                                                                                                                   \n",
       "...                                                                                                                                                                                                                                                                                                           ...   \n",
       "6995                                                                                                                                                                                                                                                                                                                \n",
       "6996  dear sir assistance required for acquisition of estate i write inform desire acquire estatesor landed properties country behalf thedirector contracts finance allocations thefederal ministry works housing nigeriaconsidering strategic influentialposition would want transaction asstrictly confident...   \n",
       "6997                                                                                                                                                                                                                                                                                                                \n",
       "6998  fromamrseaminaea belloe attnathe managing director before i proceedc may i humbly introduce goodselfc my name mrse aminaeaebelloc iraqi refugee cmy husband recentlyc one personal aid president iraq formerly overthrown power american government e prior last serious crisis still ravaging countrycw...   \n",
       "6999   forwarded phillip k allenhouect   pm  from phillip k allen   pmto stagecoachmamahotmailcomcc subject lucythanks clearing  file moving  questions it looks like missed   i cant tell still owes  deposit i show missed rent  still owes  try follow tomas  hopefully bad reactionb missed rent has paid ...   \n",
       "\n",
       "      target  \n",
       "0          0  \n",
       "1          1  \n",
       "2          1  \n",
       "3          1  \n",
       "4          0  \n",
       "...      ...  \n",
       "6995       0  \n",
       "6996       0  \n",
       "6997       0  \n",
       "6998       0  \n",
       "6999       1  \n",
       "\n",
       "[7000 rows x 2 columns]"
      ]
     },
     "execution_count": 68,
     "metadata": {},
     "output_type": "execute_result"
    }
   ],
   "source": [
    "data_df"
   ]
  },
  {
   "cell_type": "code",
   "execution_count": 69,
   "id": "4b93858a",
   "metadata": {},
   "outputs": [],
   "source": [
    "data_df['text'] = data_df['text'].str.replace(\"[\\[\\]_]\", \"\", regex=True)"
   ]
  },
  {
   "cell_type": "code",
   "execution_count": 75,
   "id": "d4511fe2",
   "metadata": {},
   "outputs": [],
   "source": [
    "data_df = data_df[data_df['text'] != '']"
   ]
  },
  {
   "cell_type": "code",
   "execution_count": 92,
   "id": "b045ceca",
   "metadata": {},
   "outputs": [
    {
     "data": {
      "text/html": [
       "<div>\n",
       "<style scoped>\n",
       "    .dataframe tbody tr th:only-of-type {\n",
       "        vertical-align: middle;\n",
       "    }\n",
       "\n",
       "    .dataframe tbody tr th {\n",
       "        vertical-align: top;\n",
       "    }\n",
       "\n",
       "    .dataframe thead th {\n",
       "        text-align: right;\n",
       "    }\n",
       "</style>\n",
       "<table border=\"1\" class=\"dataframe\">\n",
       "  <thead>\n",
       "    <tr style=\"text-align: right;\">\n",
       "      <th></th>\n",
       "      <th>text</th>\n",
       "      <th>target</th>\n",
       "    </tr>\n",
       "  </thead>\n",
       "  <tbody>\n",
       "    <tr>\n",
       "      <th>0</th>\n",
       "      <td>dear friendmy proposal surprising personal contact before however i sincerely seek confidence transactionwhich i propose person transparencyhonesty high caliber let first start introducing properly you my name ron sinclear personal assistance haitian president  i apologize i infringed privacy it...</td>\n",
       "      <td>0</td>\n",
       "    </tr>\n",
       "    <tr>\n",
       "      <th>1</th>\n",
       "      <td>forwarded john arnoldhouect   am matthew arnold  pmto john arnoldhouectect tom mcquadehouectectcc subject wv love story forwarded matthew arnoldhouect   pm jonathon pielop  amto mo bawahouectect matthew arnoldhouectect brian orourkehouectectcc subject</td>\n",
       "      <td>1</td>\n",
       "    </tr>\n",
       "    <tr>\n",
       "      <th>2</th>\n",
       "      <td>weekly meeting withrick buybill bradforddebbie brackettphilippe bibited murphydavid portstephen stockvince kaminskibeth perlmansally beck inline attachment follows from date subject inline attachment follows from date subject inline attachment follows from date subject inline attachment follows ...</td>\n",
       "      <td>1</td>\n",
       "    </tr>\n",
       "    <tr>\n",
       "      <th>3</th>\n",
       "      <td>brad richter jay webb charge enrononline brad responsible commercial side things jay handles operations original messagefrom yoho lisa sentfriday august    amtotaylor mark e legalsubjectandy zippermarkwho replaced andy zipper is andy still enronthankslisa</td>\n",
       "      <td>1</td>\n",
       "    </tr>\n",
       "    <tr>\n",
       "      <th>5</th>\n",
       "      <td>htmlhtmlheadtitleuntitledtitlemeta httpequivcontenttype contenttexthtml charsetisoheadbody bgcolorffffff text link vlinkcc alinkffdiv aligncentertable border cellpadding cellspacing width tr tdimg srchttpimagespostdirectcommasterimagescleargif width height bordertd tdimg srchttpimagespostdirectc...</td>\n",
       "      <td>1</td>\n",
       "    </tr>\n",
       "    <tr>\n",
       "      <th>...</th>\n",
       "      <td>...</td>\n",
       "      <td>...</td>\n",
       "    </tr>\n",
       "    <tr>\n",
       "      <th>6993</th>\n",
       "      <td>contenttype textplaincontenttransferencoding bitfrommiss joan ahmedemail ahmedjohnsonyahoopltel   greetings  i sincerely hope message meet well i joan ahmed daughter eng kamal ahmeda construction engineer head balad regional reconstruction projecthe assassinated last january balad north baghdad ...</td>\n",
       "      <td>0</td>\n",
       "    </tr>\n",
       "    <tr>\n",
       "      <th>6994</th>\n",
       "      <td>ryan thomas office tomorrow morning interview real time trading position e power  hour desk please confirm availability interview ryan   don baughman   juan hernandez   kayne coulter   john forneythanksjohnny</td>\n",
       "      <td>1</td>\n",
       "    </tr>\n",
       "    <tr>\n",
       "      <th>6996</th>\n",
       "      <td>dear sir assistance required for acquisition of estate i write inform desire acquire estatesor landed properties country behalf thedirector contracts finance allocations thefederal ministry works housing nigeriaconsidering strategic influentialposition would want transaction asstrictly confident...</td>\n",
       "      <td>0</td>\n",
       "    </tr>\n",
       "    <tr>\n",
       "      <th>6998</th>\n",
       "      <td>fromamrseaminaea belloe attnathe managing director before i proceedc may i humbly introduce goodselfc my name mrse aminaeaebelloc iraqi refugee cmy husband recentlyc one personal aid president iraq formerly overthrown power american government e prior last serious crisis still ravaging countrycw...</td>\n",
       "      <td>0</td>\n",
       "    </tr>\n",
       "    <tr>\n",
       "      <th>6999</th>\n",
       "      <td>forwarded phillip k allenhouect   pm  from phillip k allen   pmto stagecoachmamahotmailcomcc subject lucythanks clearing  file moving  questions it looks like missed   i cant tell still owes  deposit i show missed rent  still owes  try follow tomas  hopefully bad reactionb missed rent has paid ...</td>\n",
       "      <td>1</td>\n",
       "    </tr>\n",
       "  </tbody>\n",
       "</table>\n",
       "<p>6218 rows × 2 columns</p>\n",
       "</div>"
      ],
      "text/plain": [
       "                                                                                                                                                                                                                                                                                                             text  \\\n",
       "0     dear friendmy proposal surprising personal contact before however i sincerely seek confidence transactionwhich i propose person transparencyhonesty high caliber let first start introducing properly you my name ron sinclear personal assistance haitian president  i apologize i infringed privacy it...   \n",
       "1                                                    forwarded john arnoldhouect   am matthew arnold  pmto john arnoldhouectect tom mcquadehouectectcc subject wv love story forwarded matthew arnoldhouect   pm jonathon pielop  amto mo bawahouectect matthew arnoldhouectect brian orourkehouectectcc subject    \n",
       "2     weekly meeting withrick buybill bradforddebbie brackettphilippe bibited murphydavid portstephen stockvince kaminskibeth perlmansally beck inline attachment follows from date subject inline attachment follows from date subject inline attachment follows from date subject inline attachment follows ...   \n",
       "3                                                 brad richter jay webb charge enrononline brad responsible commercial side things jay handles operations original messagefrom yoho lisa sentfriday august    amtotaylor mark e legalsubjectandy zippermarkwho replaced andy zipper is andy still enronthankslisa   \n",
       "5     htmlhtmlheadtitleuntitledtitlemeta httpequivcontenttype contenttexthtml charsetisoheadbody bgcolorffffff text link vlinkcc alinkffdiv aligncentertable border cellpadding cellspacing width tr tdimg srchttpimagespostdirectcommasterimagescleargif width height bordertd tdimg srchttpimagespostdirectc...   \n",
       "...                                                                                                                                                                                                                                                                                                           ...   \n",
       "6993  contenttype textplaincontenttransferencoding bitfrommiss joan ahmedemail ahmedjohnsonyahoopltel   greetings  i sincerely hope message meet well i joan ahmed daughter eng kamal ahmeda construction engineer head balad regional reconstruction projecthe assassinated last january balad north baghdad ...   \n",
       "6994                                                                                             ryan thomas office tomorrow morning interview real time trading position e power  hour desk please confirm availability interview ryan   don baughman   juan hernandez   kayne coulter   john forneythanksjohnny   \n",
       "6996  dear sir assistance required for acquisition of estate i write inform desire acquire estatesor landed properties country behalf thedirector contracts finance allocations thefederal ministry works housing nigeriaconsidering strategic influentialposition would want transaction asstrictly confident...   \n",
       "6998  fromamrseaminaea belloe attnathe managing director before i proceedc may i humbly introduce goodselfc my name mrse aminaeaebelloc iraqi refugee cmy husband recentlyc one personal aid president iraq formerly overthrown power american government e prior last serious crisis still ravaging countrycw...   \n",
       "6999   forwarded phillip k allenhouect   pm  from phillip k allen   pmto stagecoachmamahotmailcomcc subject lucythanks clearing  file moving  questions it looks like missed   i cant tell still owes  deposit i show missed rent  still owes  try follow tomas  hopefully bad reactionb missed rent has paid ...   \n",
       "\n",
       "      target  \n",
       "0          0  \n",
       "1          1  \n",
       "2          1  \n",
       "3          1  \n",
       "5          1  \n",
       "...      ...  \n",
       "6993       0  \n",
       "6994       1  \n",
       "6996       0  \n",
       "6998       0  \n",
       "6999       1  \n",
       "\n",
       "[6218 rows x 2 columns]"
      ]
     },
     "execution_count": 92,
     "metadata": {},
     "output_type": "execute_result"
    }
   ],
   "source": [
    "data_df"
   ]
  },
  {
   "cell_type": "code",
   "execution_count": 93,
   "id": "945f3e77",
   "metadata": {},
   "outputs": [],
   "source": [
    "from sklearn.model_selection import train_test_split\n",
    "train_dataset, tv_dataset = train_test_split(data_df, test_size=0.4, shuffle=True, stratify=None, random_state=2021)"
   ]
  },
  {
   "cell_type": "code",
   "execution_count": 94,
   "id": "b7ecf7a3",
   "metadata": {},
   "outputs": [],
   "source": [
    "test_dataset_raw, valid_dataset = train_test_split(tv_dataset, test_size=0.5, shuffle=True, stratify=None, random_state=2021)"
   ]
  },
  {
   "cell_type": "code",
   "execution_count": 107,
   "id": "3ddb3054",
   "metadata": {},
   "outputs": [
    {
     "data": {
      "text/html": [
       "<div>\n",
       "<style scoped>\n",
       "    .dataframe tbody tr th:only-of-type {\n",
       "        vertical-align: middle;\n",
       "    }\n",
       "\n",
       "    .dataframe tbody tr th {\n",
       "        vertical-align: top;\n",
       "    }\n",
       "\n",
       "    .dataframe thead th {\n",
       "        text-align: right;\n",
       "    }\n",
       "</style>\n",
       "<table border=\"1\" class=\"dataframe\">\n",
       "  <thead>\n",
       "    <tr style=\"text-align: right;\">\n",
       "      <th></th>\n",
       "      <th>text</th>\n",
       "      <th>target</th>\n",
       "    </tr>\n",
       "  </thead>\n",
       "  <tbody>\n",
       "    <tr>\n",
       "      <th>2738</th>\n",
       "      <td>from dr rasheed s abubakardear friendmy compliment youi guess letter may come surprise since i previous correspondence youi sending mail behalf chairman tender board independent national electoral commission inec mr settley daze we got contact search reliable person handle confidential transacti...</td>\n",
       "      <td>0</td>\n",
       "    </tr>\n",
       "    <tr>\n",
       "      <th>4514</th>\n",
       "      <td>from mrs mariama taylor dakarsenegalewest africaegood dayci would like apply medium cooperation secure opportunity invest joint business countryei substantial capital i honourably intend invest country lucrative business venture advise execute said venture mutual benefits useyour able cooperatio...</td>\n",
       "      <td>0</td>\n",
       "    </tr>\n",
       "    <tr>\n",
       "      <th>51</th>\n",
       "      <td>markthanks comments i forwarded email lead attorneythat originally reviewed nda last week made changes to ihave asked call asap two work residual knowledgeclause i believe tied afternoon hear inthe morningthanksbrendamarkgreenbergenroncom wrote brenda  john allario forwarded sabre comments nda i...</td>\n",
       "      <td>1</td>\n",
       "    </tr>\n",
       "    <tr>\n",
       "      <th>5610</th>\n",
       "      <td>fyi forwarded richard b sandershouect   am susan j maraees  pmto james b fallonhouectect greg whalleyhouectect richard b sandershouectect richard shapirohoueesees christian yoderhouectect tim beldenhouectect elizabeth sagerhouectect joe hartsoeenron mary hainhouectectcc david parquetsfectect sub...</td>\n",
       "      <td>1</td>\n",
       "    </tr>\n",
       "    <tr>\n",
       "      <th>4591</th>\n",
       "      <td>from mrsjane abbas phone attndirectorceo iam mrs jane abbas wife former advisersuliman h abbas charge arms andacquisition current president sierrelonehis excellency ahmed kabbahfollowing civil warin country head state delegated husbandto arrange arm purchase republic southafrica independent arms...</td>\n",
       "      <td>0</td>\n",
       "    </tr>\n",
       "    <tr>\n",
       "      <th>...</th>\n",
       "      <td>...</td>\n",
       "      <td>...</td>\n",
       "    </tr>\n",
       "    <tr>\n",
       "      <th>1636</th>\n",
       "      <td>are still getting demand charge bill equitrans contract  i am still estimating  per month</td>\n",
       "      <td>1</td>\n",
       "    </tr>\n",
       "    <tr>\n",
       "      <th>1212</th>\n",
       "      <td>that fast received agreement awaiting signature vp he office till wed  in meantime im field ops start pulling maintenance files easement records ill let know timing i get it if think anything else like review please let knowbest regardstalk soonkevin</td>\n",
       "      <td>1</td>\n",
       "    </tr>\n",
       "    <tr>\n",
       "      <th>3262</th>\n",
       "      <td>my dearit heartfelt hope i write seek cooperation assistance context stated belowmay i first introduce self i drmrs mariam abachathe wife late general sani abacha former military head state president federal republic nigeria died suddenly th june i got contact help sisterinlaw works canadian cha...</td>\n",
       "      <td>0</td>\n",
       "    </tr>\n",
       "    <tr>\n",
       "      <th>5293</th>\n",
       "      <td>whadup im happy re love thing love sooooo air lately molly fell head heels cowboy dude evan introduced her to theyve attached hips literally last three weeks amber spends four quality hours day phone marky cries hang up seriously romance sounds much interesting  absolutely keep posted unfolds wh...</td>\n",
       "      <td>1</td>\n",
       "    </tr>\n",
       "    <tr>\n",
       "      <th>1100</th>\n",
       "      <td>thanks much i faxed one puc filed colton contractoriginal messagefrom thome jennifer sent monday october    pmto mara susancc steffes james d dasovich jeffsubject cpuc filings fercsue  in case yet heard ron carroll i attaching i think filings discussed mornings call from fercs web site  jennifer</td>\n",
       "      <td>1</td>\n",
       "    </tr>\n",
       "  </tbody>\n",
       "</table>\n",
       "<p>1244 rows × 2 columns</p>\n",
       "</div>"
      ],
      "text/plain": [
       "                                                                                                                                                                                                                                                                                                             text  \\\n",
       "2738  from dr rasheed s abubakardear friendmy compliment youi guess letter may come surprise since i previous correspondence youi sending mail behalf chairman tender board independent national electoral commission inec mr settley daze we got contact search reliable person handle confidential transacti...   \n",
       "4514  from mrs mariama taylor dakarsenegalewest africaegood dayci would like apply medium cooperation secure opportunity invest joint business countryei substantial capital i honourably intend invest country lucrative business venture advise execute said venture mutual benefits useyour able cooperatio...   \n",
       "51    markthanks comments i forwarded email lead attorneythat originally reviewed nda last week made changes to ihave asked call asap two work residual knowledgeclause i believe tied afternoon hear inthe morningthanksbrendamarkgreenbergenroncom wrote brenda  john allario forwarded sabre comments nda i...   \n",
       "5610  fyi forwarded richard b sandershouect   am susan j maraees  pmto james b fallonhouectect greg whalleyhouectect richard b sandershouectect richard shapirohoueesees christian yoderhouectect tim beldenhouectect elizabeth sagerhouectect joe hartsoeenron mary hainhouectectcc david parquetsfectect sub...   \n",
       "4591  from mrsjane abbas phone attndirectorceo iam mrs jane abbas wife former advisersuliman h abbas charge arms andacquisition current president sierrelonehis excellency ahmed kabbahfollowing civil warin country head state delegated husbandto arrange arm purchase republic southafrica independent arms...   \n",
       "...                                                                                                                                                                                                                                                                                                           ...   \n",
       "1636                                                                                                                                                                                                                    are still getting demand charge bill equitrans contract  i am still estimating  per month   \n",
       "1212                                                   that fast received agreement awaiting signature vp he office till wed  in meantime im field ops start pulling maintenance files easement records ill let know timing i get it if think anything else like review please let knowbest regardstalk soonkevin   \n",
       "3262  my dearit heartfelt hope i write seek cooperation assistance context stated belowmay i first introduce self i drmrs mariam abachathe wife late general sani abacha former military head state president federal republic nigeria died suddenly th june i got contact help sisterinlaw works canadian cha...   \n",
       "5293  whadup im happy re love thing love sooooo air lately molly fell head heels cowboy dude evan introduced her to theyve attached hips literally last three weeks amber spends four quality hours day phone marky cries hang up seriously romance sounds much interesting  absolutely keep posted unfolds wh...   \n",
       "1100     thanks much i faxed one puc filed colton contractoriginal messagefrom thome jennifer sent monday october    pmto mara susancc steffes james d dasovich jeffsubject cpuc filings fercsue  in case yet heard ron carroll i attaching i think filings discussed mornings call from fercs web site  jennifer   \n",
       "\n",
       "      target  \n",
       "2738       0  \n",
       "4514       0  \n",
       "51         1  \n",
       "5610       1  \n",
       "4591       0  \n",
       "...      ...  \n",
       "1636       1  \n",
       "1212       1  \n",
       "3262       0  \n",
       "5293       1  \n",
       "1100       1  \n",
       "\n",
       "[1244 rows x 2 columns]"
      ]
     },
     "execution_count": 107,
     "metadata": {},
     "output_type": "execute_result"
    }
   ],
   "source": [
    "test_dataset_raw"
   ]
  },
  {
   "cell_type": "markdown",
   "id": "967a55ca",
   "metadata": {},
   "source": [
    "# BERT model"
   ]
  },
  {
   "cell_type": "code",
   "execution_count": 90,
   "id": "3b27c570",
   "metadata": {},
   "outputs": [],
   "source": [
    "import numpy as np\n",
    "from transformers import BertTokenizer, TFBertForSequenceClassification\n",
    "from transformers import InputExample, InputFeatures\n",
    "from tensorflow.keras.optimizers import Adam\n",
    "from tensorflow.keras.losses import SparseCategoricalCrossentropy\n",
    "from sklearn.metrics import classification_report\n",
    "\n",
    "from sklearn.preprocessing import LabelEncoder"
   ]
  },
  {
   "cell_type": "code",
   "execution_count": 80,
   "id": "a9c43450",
   "metadata": {},
   "outputs": [],
   "source": [
    "tokenizer = BertTokenizer.from_pretrained('bert-base-uncased')"
   ]
  },
  {
   "cell_type": "code",
   "execution_count": 95,
   "id": "f14d62e8",
   "metadata": {},
   "outputs": [],
   "source": [
    "# Encode Labels\n",
    "encoder = LabelEncoder()\n",
    "train_labels = encoder.fit_transform(train_dataset['target'])\n",
    "val_labels = encoder.transform(valid_dataset['target'])\n",
    "test_labels = encoder.transform(test_dataset_raw['target'])"
   ]
  },
  {
   "cell_type": "code",
   "execution_count": 96,
   "id": "cb44c06d",
   "metadata": {},
   "outputs": [],
   "source": [
    "# Tokenize the data\n",
    "train_encodings = tokenizer(train_dataset['text'].tolist(), truncation=True, padding=True, max_length=256)\n",
    "valid_encodings = tokenizer(valid_dataset['text'].tolist(), truncation=True, padding=True, max_length=256)\n",
    "test_encodings = tokenizer(test_dataset_raw['text'].tolist(), truncation=True, padding=True, max_length=256)"
   ]
  },
  {
   "cell_type": "code",
   "execution_count": 98,
   "id": "27efafe2",
   "metadata": {},
   "outputs": [],
   "source": [
    "# Convert to TensorFlow Datasets\n",
    "train_dataset = tf.data.Dataset.from_tensor_slices((\n",
    "    dict(train_encodings),\n",
    "    train_labels\n",
    ")).shuffle(1000).batch(16)\n",
    "\n",
    "val_dataset = tf.data.Dataset.from_tensor_slices((\n",
    "    dict(valid_encodings),\n",
    "    val_labels\n",
    ")).batch(16)\n",
    "\n",
    "test_dataset = tf.data.Dataset.from_tensor_slices((\n",
    "    dict(test_encodings),\n",
    "    test_labels\n",
    ")).batch(16)"
   ]
  },
  {
   "cell_type": "code",
   "execution_count": 83,
   "id": "c228083e",
   "metadata": {},
   "outputs": [
    {
     "name": "stderr",
     "output_type": "stream",
     "text": [
      "All model checkpoint layers were used when initializing TFBertForSequenceClassification.\n",
      "\n",
      "Some layers of TFBertForSequenceClassification were not initialized from the model checkpoint at bert-base-uncased and are newly initialized: ['classifier']\n",
      "You should probably TRAIN this model on a down-stream task to be able to use it for predictions and inference.\n"
     ]
    }
   ],
   "source": [
    "model = TFBertForSequenceClassification.from_pretrained(\"bert-base-uncased\")"
   ]
  },
  {
   "cell_type": "code",
   "execution_count": 102,
   "id": "daffeb70",
   "metadata": {},
   "outputs": [],
   "source": [
    "# Compile the model\n",
    "model.compile(optimizer=tf.keras.optimizers.Adam(learning_rate=1e-5),\n",
    "              loss=tf.keras.losses.SparseCategoricalCrossentropy(from_logits=True),\n",
    "              metrics=['accuracy'])"
   ]
  },
  {
   "cell_type": "code",
   "execution_count": 103,
   "id": "92e4b49f",
   "metadata": {},
   "outputs": [],
   "source": [
    "from tensorflow.keras.callbacks import EarlyStopping\n",
    "\n",
    "\n",
    "# Define early stopping\n",
    "early_stopping = EarlyStopping(\n",
    "    monitor='val_loss', # usually val_loss or val_acc\n",
    "    mode='min', # the direction that you want to monitor (min for loss, max for accuracy)\n",
    "    patience=3, # number of epochs to wait before stopping the training\n",
    "    verbose=1 # verbosity mode\n",
    ")"
   ]
  },
  {
   "cell_type": "code",
   "execution_count": 104,
   "id": "7ef6e4af",
   "metadata": {},
   "outputs": [
    {
     "name": "stdout",
     "output_type": "stream",
     "text": [
      "234/234 [==============================] - 2738s 12s/step - loss: 0.1232 - accuracy: 0.9705 - val_loss: 0.0190 - val_accuracy: 0.9960\n"
     ]
    },
    {
     "data": {
      "text/plain": [
       "<tensorflow.python.keras.callbacks.History at 0x1b5c6a520>"
      ]
     },
     "execution_count": 104,
     "metadata": {},
     "output_type": "execute_result"
    }
   ],
   "source": [
    "# Train the model\n",
    "model.fit(\n",
    "    train_dataset,\n",
    "    validation_data=val_dataset,\n",
    "    epochs=1,)"
   ]
  },
  {
   "cell_type": "code",
   "execution_count": 105,
   "id": "70e73249",
   "metadata": {},
   "outputs": [],
   "source": [
    "# Get the model predictions\n",
    "predictions = tf.argmax(model.predict(test_dataset)[0], axis=-1)"
   ]
  },
  {
   "cell_type": "code",
   "execution_count": 106,
   "id": "75ff383a",
   "metadata": {},
   "outputs": [
    {
     "name": "stdout",
     "output_type": "stream",
     "text": [
      "              precision    recall  f1-score   support\n",
      "\n",
      "           0       1.00      0.99      0.99       519\n",
      "           1       0.99      1.00      1.00       725\n",
      "\n",
      "    accuracy                           1.00      1244\n",
      "   macro avg       1.00      0.99      1.00      1244\n",
      "weighted avg       1.00      1.00      1.00      1244\n",
      "\n"
     ]
    }
   ],
   "source": [
    "from sklearn.metrics import classification_report\n",
    "\n",
    "\n",
    "# Decode the label numbers back into original labels\n",
    "y_test_inverse = encoder.inverse_transform(test_dataset_raw['target'])\n",
    "predictions_inverse = encoder.inverse_transform(predictions.numpy())\n",
    "\n",
    "# Generate the classification report\n",
    "report = classification_report(y_test_inverse, predictions_inverse,\n",
    "                               target_names=encoder.classes_.astype(str))\n",
    "print(report)"
   ]
  },
  {
   "cell_type": "code",
   "execution_count": null,
   "id": "90c86201",
   "metadata": {},
   "outputs": [],
   "source": []
  },
  {
   "cell_type": "code",
   "execution_count": null,
   "id": "eb19c1a3",
   "metadata": {},
   "outputs": [],
   "source": []
  },
  {
   "cell_type": "code",
   "execution_count": null,
   "id": "272da17a",
   "metadata": {},
   "outputs": [],
   "source": []
  },
  {
   "cell_type": "code",
   "execution_count": null,
   "id": "9792e7b4",
   "metadata": {},
   "outputs": [],
   "source": []
  },
  {
   "cell_type": "code",
   "execution_count": null,
   "id": "461a6c15",
   "metadata": {},
   "outputs": [],
   "source": []
  },
  {
   "cell_type": "code",
   "execution_count": null,
   "id": "503a3c32",
   "metadata": {},
   "outputs": [],
   "source": []
  },
  {
   "cell_type": "code",
   "execution_count": null,
   "id": "0b76261e",
   "metadata": {},
   "outputs": [],
   "source": []
  },
  {
   "cell_type": "code",
   "execution_count": null,
   "id": "f2b79e80",
   "metadata": {},
   "outputs": [],
   "source": []
  },
  {
   "cell_type": "code",
   "execution_count": null,
   "id": "abc9d413",
   "metadata": {},
   "outputs": [],
   "source": []
  },
  {
   "cell_type": "code",
   "execution_count": null,
   "id": "16984347",
   "metadata": {},
   "outputs": [],
   "source": []
  },
  {
   "cell_type": "code",
   "execution_count": null,
   "id": "6b9bec49",
   "metadata": {},
   "outputs": [],
   "source": []
  },
  {
   "cell_type": "code",
   "execution_count": null,
   "id": "948c79c2",
   "metadata": {},
   "outputs": [],
   "source": []
  },
  {
   "cell_type": "code",
   "execution_count": null,
   "id": "0a3f8231",
   "metadata": {},
   "outputs": [],
   "source": []
  },
  {
   "cell_type": "code",
   "execution_count": null,
   "id": "28ae8267",
   "metadata": {},
   "outputs": [],
   "source": []
  }
 ],
 "metadata": {
  "kernelspec": {
   "display_name": "adv_data_analytics",
   "language": "python",
   "name": "adv_data_analytics"
  },
  "language_info": {
   "codemirror_mode": {
    "name": "ipython",
    "version": 3
   },
   "file_extension": ".py",
   "mimetype": "text/x-python",
   "name": "python",
   "nbconvert_exporter": "python",
   "pygments_lexer": "ipython3",
   "version": "3.8.12"
  },
  "toc": {
   "base_numbering": 1,
   "nav_menu": {},
   "number_sections": true,
   "sideBar": true,
   "skip_h1_title": false,
   "title_cell": "Table of Contents",
   "title_sidebar": "Contents",
   "toc_cell": false,
   "toc_position": {},
   "toc_section_display": true,
   "toc_window_display": false
  }
 },
 "nbformat": 4,
 "nbformat_minor": 5
}
